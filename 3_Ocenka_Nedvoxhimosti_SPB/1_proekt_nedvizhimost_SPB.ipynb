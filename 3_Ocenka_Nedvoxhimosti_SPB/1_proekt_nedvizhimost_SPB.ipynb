{
 "cells": [
  {
   "cell_type": "markdown",
   "metadata": {},
   "source": [
    "# Исследование объявлений о продаже квартир\n",
    "\n",
    "В вашем распоряжении данные сервиса Яндекс.Недвижимость — архив объявлений о продаже квартир в Санкт-Петербурге и соседних населённых пунктов за несколько лет. Нужно научиться определять рыночную стоимость объектов недвижимости. Ваша задача — установить параметры. Это позволит построить автоматизированную систему: она отследит аномалии и мошенническую деятельность. \n",
    "\n",
    "По каждой квартире на продажу доступны два вида данных. Первые вписаны пользователем, вторые — получены автоматически на основе картографических данных. Например, расстояние до центра, аэропорта, ближайшего парка и водоёма. "
   ]
  },
  {
   "cell_type": "markdown",
   "metadata": {},
   "source": [
    "### Откройте файл с данными и изучите общую информацию. "
   ]
  },
  {
   "cell_type": "code",
   "execution_count": 1,
   "metadata": {},
   "outputs": [],
   "source": [
    "import pandas as pd # Импортирую библиотеку pandas"
   ]
  },
  {
   "cell_type": "code",
   "execution_count": 2,
   "metadata": {},
   "outputs": [],
   "source": [
    "import numpy as np # Импортирую библиотеку numpy"
   ]
  },
  {
   "cell_type": "code",
   "execution_count": 3,
   "metadata": {},
   "outputs": [],
   "source": [
    "import matplotlib.pyplot as plt # Импортирую библиотеку matplotlib.pyplot"
   ]
  },
  {
   "cell_type": "code",
   "execution_count": 4,
   "metadata": {},
   "outputs": [],
   "source": [
    "from datetime import datetime # Импортирую библиотеку datetime"
   ]
  },
  {
   "cell_type": "code",
   "execution_count": 5,
   "metadata": {},
   "outputs": [],
   "source": [
    "import random # добавим немного рандома"
   ]
  },
  {
   "cell_type": "code",
   "execution_count": 6,
   "metadata": {},
   "outputs": [],
   "source": [
    "data = pd.read_csv('/datasets/real_estate_data.csv', sep = '\\t') # читаю csv-файл"
   ]
  },
  {
   "cell_type": "code",
   "execution_count": 7,
   "metadata": {},
   "outputs": [],
   "source": [
    "def info(zarya):\n",
    "    sombra = random.randint(0, 2)\n",
    "    if sombra == 0:\n",
    "        return zarya.head(5)\n",
    "    elif sombra == 1:\n",
    "        return zarya.sample(5)\n",
    "    else:\n",
    "        return zarya.tail(5) \n",
    "# функция выводит на экран рандомно (tail,sample,head) датафрейма, который мы ей передаем"
   ]
  },
  {
   "cell_type": "code",
   "execution_count": 8,
   "metadata": {},
   "outputs": [],
   "source": [
    "def around_the(world):\n",
    "    return world.round()\n",
    "# функция, округляет все, что ей передать"
   ]
  },
  {
   "cell_type": "code",
   "execution_count": 9,
   "metadata": {},
   "outputs": [
    {
     "data": {
      "text/html": [
       "<div>\n",
       "<style scoped>\n",
       "    .dataframe tbody tr th:only-of-type {\n",
       "        vertical-align: middle;\n",
       "    }\n",
       "\n",
       "    .dataframe tbody tr th {\n",
       "        vertical-align: top;\n",
       "    }\n",
       "\n",
       "    .dataframe thead th {\n",
       "        text-align: right;\n",
       "    }\n",
       "</style>\n",
       "<table border=\"1\" class=\"dataframe\">\n",
       "  <thead>\n",
       "    <tr style=\"text-align: right;\">\n",
       "      <th></th>\n",
       "      <th>total_images</th>\n",
       "      <th>last_price</th>\n",
       "      <th>total_area</th>\n",
       "      <th>first_day_exposition</th>\n",
       "      <th>rooms</th>\n",
       "      <th>ceiling_height</th>\n",
       "      <th>floors_total</th>\n",
       "      <th>living_area</th>\n",
       "      <th>floor</th>\n",
       "      <th>is_apartment</th>\n",
       "      <th>...</th>\n",
       "      <th>kitchen_area</th>\n",
       "      <th>balcony</th>\n",
       "      <th>locality_name</th>\n",
       "      <th>airports_nearest</th>\n",
       "      <th>cityCenters_nearest</th>\n",
       "      <th>parks_around3000</th>\n",
       "      <th>parks_nearest</th>\n",
       "      <th>ponds_around3000</th>\n",
       "      <th>ponds_nearest</th>\n",
       "      <th>days_exposition</th>\n",
       "    </tr>\n",
       "  </thead>\n",
       "  <tbody>\n",
       "    <tr>\n",
       "      <th>23694</th>\n",
       "      <td>9</td>\n",
       "      <td>9700000.0</td>\n",
       "      <td>133.81</td>\n",
       "      <td>2017-03-21T00:00:00</td>\n",
       "      <td>3</td>\n",
       "      <td>3.7</td>\n",
       "      <td>5.0</td>\n",
       "      <td>73.3</td>\n",
       "      <td>3</td>\n",
       "      <td>NaN</td>\n",
       "      <td>...</td>\n",
       "      <td>13.83</td>\n",
       "      <td>NaN</td>\n",
       "      <td>Санкт-Петербург</td>\n",
       "      <td>24665.0</td>\n",
       "      <td>4232.0</td>\n",
       "      <td>1.0</td>\n",
       "      <td>796.0</td>\n",
       "      <td>3.0</td>\n",
       "      <td>381.0</td>\n",
       "      <td>NaN</td>\n",
       "    </tr>\n",
       "    <tr>\n",
       "      <th>23695</th>\n",
       "      <td>14</td>\n",
       "      <td>3100000.0</td>\n",
       "      <td>59.00</td>\n",
       "      <td>2018-01-15T00:00:00</td>\n",
       "      <td>3</td>\n",
       "      <td>NaN</td>\n",
       "      <td>5.0</td>\n",
       "      <td>38.0</td>\n",
       "      <td>4</td>\n",
       "      <td>NaN</td>\n",
       "      <td>...</td>\n",
       "      <td>8.50</td>\n",
       "      <td>NaN</td>\n",
       "      <td>Тосно</td>\n",
       "      <td>NaN</td>\n",
       "      <td>NaN</td>\n",
       "      <td>NaN</td>\n",
       "      <td>NaN</td>\n",
       "      <td>NaN</td>\n",
       "      <td>NaN</td>\n",
       "      <td>45.0</td>\n",
       "    </tr>\n",
       "    <tr>\n",
       "      <th>23696</th>\n",
       "      <td>18</td>\n",
       "      <td>2500000.0</td>\n",
       "      <td>56.70</td>\n",
       "      <td>2018-02-11T00:00:00</td>\n",
       "      <td>2</td>\n",
       "      <td>NaN</td>\n",
       "      <td>3.0</td>\n",
       "      <td>29.7</td>\n",
       "      <td>1</td>\n",
       "      <td>NaN</td>\n",
       "      <td>...</td>\n",
       "      <td>NaN</td>\n",
       "      <td>NaN</td>\n",
       "      <td>село Рождествено</td>\n",
       "      <td>NaN</td>\n",
       "      <td>NaN</td>\n",
       "      <td>NaN</td>\n",
       "      <td>NaN</td>\n",
       "      <td>NaN</td>\n",
       "      <td>NaN</td>\n",
       "      <td>NaN</td>\n",
       "    </tr>\n",
       "    <tr>\n",
       "      <th>23697</th>\n",
       "      <td>13</td>\n",
       "      <td>11475000.0</td>\n",
       "      <td>76.75</td>\n",
       "      <td>2017-03-28T00:00:00</td>\n",
       "      <td>2</td>\n",
       "      <td>3.0</td>\n",
       "      <td>17.0</td>\n",
       "      <td>NaN</td>\n",
       "      <td>12</td>\n",
       "      <td>NaN</td>\n",
       "      <td>...</td>\n",
       "      <td>23.30</td>\n",
       "      <td>2.0</td>\n",
       "      <td>Санкт-Петербург</td>\n",
       "      <td>39140.0</td>\n",
       "      <td>10364.0</td>\n",
       "      <td>2.0</td>\n",
       "      <td>173.0</td>\n",
       "      <td>3.0</td>\n",
       "      <td>196.0</td>\n",
       "      <td>602.0</td>\n",
       "    </tr>\n",
       "    <tr>\n",
       "      <th>23698</th>\n",
       "      <td>4</td>\n",
       "      <td>1350000.0</td>\n",
       "      <td>32.30</td>\n",
       "      <td>2017-07-21T00:00:00</td>\n",
       "      <td>1</td>\n",
       "      <td>2.5</td>\n",
       "      <td>5.0</td>\n",
       "      <td>12.3</td>\n",
       "      <td>1</td>\n",
       "      <td>NaN</td>\n",
       "      <td>...</td>\n",
       "      <td>9.00</td>\n",
       "      <td>NaN</td>\n",
       "      <td>поселок Новый Учхоз</td>\n",
       "      <td>NaN</td>\n",
       "      <td>NaN</td>\n",
       "      <td>NaN</td>\n",
       "      <td>NaN</td>\n",
       "      <td>NaN</td>\n",
       "      <td>NaN</td>\n",
       "      <td>NaN</td>\n",
       "    </tr>\n",
       "  </tbody>\n",
       "</table>\n",
       "<p>5 rows × 22 columns</p>\n",
       "</div>"
      ],
      "text/plain": [
       "       total_images  last_price  total_area first_day_exposition  rooms  \\\n",
       "23694             9   9700000.0      133.81  2017-03-21T00:00:00      3   \n",
       "23695            14   3100000.0       59.00  2018-01-15T00:00:00      3   \n",
       "23696            18   2500000.0       56.70  2018-02-11T00:00:00      2   \n",
       "23697            13  11475000.0       76.75  2017-03-28T00:00:00      2   \n",
       "23698             4   1350000.0       32.30  2017-07-21T00:00:00      1   \n",
       "\n",
       "       ceiling_height  floors_total  living_area  floor is_apartment  ...  \\\n",
       "23694             3.7           5.0         73.3      3          NaN  ...   \n",
       "23695             NaN           5.0         38.0      4          NaN  ...   \n",
       "23696             NaN           3.0         29.7      1          NaN  ...   \n",
       "23697             3.0          17.0          NaN     12          NaN  ...   \n",
       "23698             2.5           5.0         12.3      1          NaN  ...   \n",
       "\n",
       "       kitchen_area  balcony        locality_name  airports_nearest  \\\n",
       "23694         13.83      NaN      Санкт-Петербург           24665.0   \n",
       "23695          8.50      NaN                Тосно               NaN   \n",
       "23696           NaN      NaN     село Рождествено               NaN   \n",
       "23697         23.30      2.0      Санкт-Петербург           39140.0   \n",
       "23698          9.00      NaN  поселок Новый Учхоз               NaN   \n",
       "\n",
       "      cityCenters_nearest  parks_around3000  parks_nearest  ponds_around3000  \\\n",
       "23694              4232.0               1.0          796.0               3.0   \n",
       "23695                 NaN               NaN            NaN               NaN   \n",
       "23696                 NaN               NaN            NaN               NaN   \n",
       "23697             10364.0               2.0          173.0               3.0   \n",
       "23698                 NaN               NaN            NaN               NaN   \n",
       "\n",
       "       ponds_nearest  days_exposition  \n",
       "23694          381.0              NaN  \n",
       "23695            NaN             45.0  \n",
       "23696            NaN              NaN  \n",
       "23697          196.0            602.0  \n",
       "23698            NaN              NaN  \n",
       "\n",
       "[5 rows x 22 columns]"
      ]
     },
     "execution_count": 9,
     "metadata": {},
     "output_type": "execute_result"
    }
   ],
   "source": [
    "info(data) # вывожу 5 строчек датафрейма data"
   ]
  },
  {
   "cell_type": "code",
   "execution_count": 10,
   "metadata": {},
   "outputs": [
    {
     "data": {
      "image/png": "[encoded data removed]",
      "text/plain": [
       "<Figure size 1080x1440 with 20 Axes>"
      ]
     },
     "metadata": {
      "needs_background": "light"
     },
     "output_type": "display_data"
    }
   ],
   "source": [
    "data.hist(figsize=(15, 20)); # строю общую гистограмму для всех столбцов таблицы"
   ]
  },
  {
   "cell_type": "markdown",
   "metadata": {},
   "source": [
    "Проблемы, которые бросаются в глаза при первичном осмотре данных:\n",
    "\n",
    "- из гистограмм видно, что в данных есть выбросы\n",
    "- в названиях колонок видны нарушения стиля (прописные буквы, слитное написание слов)\n",
    "- есть пропуски в данных\n"
   ]
  },
  {
   "cell_type": "markdown",
   "metadata": {},
   "source": [
    "### Предобработка данных"
   ]
  },
  {
   "cell_type": "code",
   "execution_count": 11,
   "metadata": {},
   "outputs": [
    {
     "data": {
      "text/plain": [
       "['total_images',\n",
       " 'last_price',\n",
       " 'total_area',\n",
       " 'first_day_exposition',\n",
       " 'rooms',\n",
       " 'ceiling_height',\n",
       " 'floors_total',\n",
       " 'living_area',\n",
       " 'floor',\n",
       " 'is_apartment',\n",
       " 'studio',\n",
       " 'open_plan',\n",
       " 'kitchen_area',\n",
       " 'balcony',\n",
       " 'locality_name',\n",
       " 'airports_nearest',\n",
       " 'cityCenters_nearest',\n",
       " 'parks_around3000',\n",
       " 'parks_nearest',\n",
       " 'ponds_around3000',\n",
       " 'ponds_nearest',\n",
       " 'days_exposition']"
      ]
     },
     "execution_count": 11,
     "metadata": {},
     "output_type": "execute_result"
    }
   ],
   "source": [
    "data.columns.tolist() # выводим все названия колонок"
   ]
  },
  {
   "cell_type": "code",
   "execution_count": 12,
   "metadata": {},
   "outputs": [],
   "source": [
    "cols = ['total_images',\n",
    "        'last_price',\n",
    "        'total_area',\n",
    "        'first_day_exposition',\n",
    "        'rooms',\n",
    "        'ceiling_height',\n",
    "        'floors_total',\n",
    "        'living_area',\n",
    "        'floor',\n",
    "        'is_apartment',\n",
    "        'studio',\n",
    "        'open_plan',\n",
    "        'kitchen_area',\n",
    "        'balcony',\n",
    "        'locality_name',\n",
    "        'airports_nearest',\n",
    "        'city_сenters_nearest',\n",
    "        'parks_around_3000',\n",
    "        'parks_nearest',\n",
    "        'ponds_around_3000',\n",
    "        'ponds_nearest',\n",
    "        'days_exposition']\n",
    "data.set_axis(cols, axis='columns', inplace=True) # переименовываем колонки там, где необходимо"
   ]
  },
  {
   "cell_type": "code",
   "execution_count": 13,
   "metadata": {},
   "outputs": [
    {
     "name": "stdout",
     "output_type": "stream",
     "text": [
      "<class 'pandas.core.frame.DataFrame'>\n",
      "RangeIndex: 23699 entries, 0 to 23698\n",
      "Data columns (total 22 columns):\n",
      " #   Column                Non-Null Count  Dtype  \n",
      "---  ------                --------------  -----  \n",
      " 0   total_images          23699 non-null  int64  \n",
      " 1   last_price            23699 non-null  float64\n",
      " 2   total_area            23699 non-null  float64\n",
      " 3   first_day_exposition  23699 non-null  object \n",
      " 4   rooms                 23699 non-null  int64  \n",
      " 5   ceiling_height        14504 non-null  float64\n",
      " 6   floors_total          23613 non-null  float64\n",
      " 7   living_area           21796 non-null  float64\n",
      " 8   floor                 23699 non-null  int64  \n",
      " 9   is_apartment          2775 non-null   object \n",
      " 10  studio                23699 non-null  bool   \n",
      " 11  open_plan             23699 non-null  bool   \n",
      " 12  kitchen_area          21421 non-null  float64\n",
      " 13  balcony               12180 non-null  float64\n",
      " 14  locality_name         23650 non-null  object \n",
      " 15  airports_nearest      18157 non-null  float64\n",
      " 16  city_сenters_nearest  18180 non-null  float64\n",
      " 17  parks_around_3000     18181 non-null  float64\n",
      " 18  parks_nearest         8079 non-null   float64\n",
      " 19  ponds_around_3000     18181 non-null  float64\n",
      " 20  ponds_nearest         9110 non-null   float64\n",
      " 21  days_exposition       20518 non-null  float64\n",
      "dtypes: bool(2), float64(14), int64(3), object(3)\n",
      "memory usage: 3.7+ MB\n"
     ]
    }
   ],
   "source": [
    "data.info() # основная информация о датафрейме"
   ]
  },
  {
   "cell_type": "markdown",
   "metadata": {},
   "source": [
    "- Не все данные хранятся в корректном, для анализа, формате. Перезапишем тип данных в некоторых колонках, чуть ниже."
   ]
  },
  {
   "cell_type": "code",
   "execution_count": 14,
   "metadata": {},
   "outputs": [
    {
     "name": "stdout",
     "output_type": "stream",
     "text": [
      "total_images                0\n",
      "open_plan                   0\n",
      "floor                       0\n",
      "rooms                       0\n",
      "studio                      0\n",
      "total_area                  0\n",
      "last_price                  0\n",
      "first_day_exposition        0\n",
      "locality_name              49\n",
      "floors_total               86\n",
      "living_area              1903\n",
      "kitchen_area             2278\n",
      "days_exposition          3181\n",
      "ponds_around_3000        5518\n",
      "parks_around_3000        5518\n",
      "city_сenters_nearest     5519\n",
      "airports_nearest         5542\n",
      "ceiling_height           9195\n",
      "balcony                 11519\n",
      "ponds_nearest           14589\n",
      "parks_nearest           15620\n",
      "is_apartment            20924\n",
      "dtype: int64\n"
     ]
    }
   ],
   "source": [
    "print(data.isna().sum().sort_values()) # ищу кол-во пропущенных значений"
   ]
  },
  {
   "cell_type": "markdown",
   "metadata": {},
   "source": [
    "Пропущенные значения есть в большей половине столбцов. \n",
    "- Больше всего пропусков в столбце \"is_apartment\".\n",
    "- Заменим пропуски в столбце \"balcony\" на 0, предположив, что балконов в этих квартирах нет.\n",
    "- Пропуски в толбце \"ceiling_height\" для меня не понятны, предположу, что эти данные могли просто не указывать.\n",
    "- А в столбце \"floors_total\" пропуски могут означать, что дом одноэтажный.\n",
    "- \"living_area\" предварительно, предположу, что тут пропуски связвны с типом недвижимости. Это могут быть не жилые апартаменты.\n",
    "- \"kitchen_area\" сейчас отдельные кухни есть не во всех квартирах о чем могут свидетельствовать пропуски. Например нежилые помещения, квартиры \"евро\" формата или студии, где кухни совмещены с жилой площадью.\n",
    "- \"locality_name\" - пропуски в этой колонке мне не понятны. Удалим эти данные, так как непонятно где расположена квартира, а это очень важная информация, в рамках нашего анализа.\n",
    "- \"airports_nearest\", \"parks_around3000\", \"parks_nearest\", \"ponds_around3000\", \"ponds_nearest\" - пропуски в этих колонках могут означать, что рядом с продаваемой недвижимостью нет аэропортов, парков и водоемов соответственно.\n",
    "- В колонке \"days_exposition\" данные могут отсутствовать так как квартира еще не продана."
   ]
  },
  {
   "cell_type": "code",
   "execution_count": 15,
   "metadata": {},
   "outputs": [],
   "source": [
    "data['balcony'] = data['balcony'].fillna(0) # заменяем все пропуски в колонках на 0\n",
    "data['floors_total'] = data['floors_total'].fillna(0) "
   ]
  },
  {
   "cell_type": "code",
   "execution_count": 16,
   "metadata": {},
   "outputs": [],
   "source": [
    "data['floors_total'] = data['floors_total'].astype('int') # меняем тип данных с вещественных на целочисленный\n",
    "data['balcony'] = data['balcony'].astype('int')\n",
    "data['last_price'] = data['last_price'].astype('int')"
   ]
  },
  {
   "cell_type": "code",
   "execution_count": 17,
   "metadata": {},
   "outputs": [],
   "source": [
    "data['first_day_exposition'] = pd.to_datetime(data['first_day_exposition'], format=\"%Y-%m-%dT%H:%M:%S\") # меняем запись даты"
   ]
  },
  {
   "cell_type": "code",
   "execution_count": 18,
   "metadata": {},
   "outputs": [],
   "source": [
    "data = data.dropna(subset=['locality_name']) # удаляю строки с незаполнеными названиями населенных пунктов"
   ]
  },
  {
   "cell_type": "code",
   "execution_count": 19,
   "metadata": {},
   "outputs": [],
   "source": [
    "data['is_apartment'] = data['is_apartment'].fillna(False) # заменяю пропуски на значения False"
   ]
  },
  {
   "cell_type": "code",
   "execution_count": 20,
   "metadata": {},
   "outputs": [
    {
     "name": "stdout",
     "output_type": "stream",
     "text": [
      "total_images                0\n",
      "locality_name               0\n",
      "balcony                     0\n",
      "open_plan                   0\n",
      "is_apartment                0\n",
      "floor                       0\n",
      "studio                      0\n",
      "rooms                       0\n",
      "first_day_exposition        0\n",
      "total_area                  0\n",
      "last_price                  0\n",
      "floors_total                0\n",
      "living_area              1898\n",
      "kitchen_area             2269\n",
      "days_exposition          3180\n",
      "parks_around_3000        5510\n",
      "ponds_around_3000        5510\n",
      "city_сenters_nearest     5511\n",
      "airports_nearest         5534\n",
      "ceiling_height           9160\n",
      "ponds_nearest           14565\n",
      "parks_nearest           15586\n",
      "dtype: int64\n"
     ]
    }
   ],
   "source": [
    "print(data.isna().sum().sort_values()) # еще раз посмотрим на пропуски в данных"
   ]
  },
  {
   "cell_type": "code",
   "execution_count": 21,
   "metadata": {},
   "outputs": [
    {
     "data": {
      "text/plain": [
       "total_images             0.000000\n",
       "locality_name            0.000000\n",
       "balcony                  0.000000\n",
       "open_plan                0.000000\n",
       "is_apartment             0.000000\n",
       "floor                    0.000000\n",
       "studio                   0.000000\n",
       "rooms                    0.000000\n",
       "first_day_exposition     0.000000\n",
       "total_area               0.000000\n",
       "last_price               0.000000\n",
       "floors_total             0.000000\n",
       "living_area              8.025370\n",
       "kitchen_area             9.594080\n",
       "days_exposition         13.446089\n",
       "parks_around_3000       23.298097\n",
       "ponds_around_3000       23.298097\n",
       "city_сenters_nearest    23.302326\n",
       "airports_nearest        23.399577\n",
       "ceiling_height          38.731501\n",
       "ponds_nearest           61.585624\n",
       "parks_nearest           65.902748\n",
       "dtype: float64"
      ]
     },
     "execution_count": 21,
     "metadata": {},
     "output_type": "execute_result"
    }
   ],
   "source": [
    "data.isnull().sum().sort_values() / data.shape[0]*100 # пропуски данных в процентах"
   ]
  },
  {
   "cell_type": "markdown",
   "metadata": {},
   "source": [
    "- На мой взгляд, основые пропуски в данных, которые понадобятся нам для последующего анализа, я заполнила."
   ]
  },
  {
   "cell_type": "code",
   "execution_count": 22,
   "metadata": {},
   "outputs": [
    {
     "name": "stdout",
     "output_type": "stream",
     "text": [
      "0\n"
     ]
    }
   ],
   "source": [
    "data['locality_name'] = data['locality_name'].str.lower() # привожу  все названия населенных пунктов к нижнему регистру\n",
    "print(data.duplicated().sum()) # проверяю весь датасет на явные дубликаты"
   ]
  },
  {
   "cell_type": "code",
   "execution_count": 23,
   "metadata": {},
   "outputs": [
    {
     "name": "stdout",
     "output_type": "stream",
     "text": [
      "['бокситогорск' 'волосово' 'волхов' 'всеволожск' 'выборг' 'высоцк'\n",
      " 'гатчина' 'городской поселок большая ижора' 'городской поселок янино-1'\n",
      " 'городской посёлок будогощь' 'городской посёлок виллози'\n",
      " 'городской посёлок лесогорский' 'городской посёлок мга'\n",
      " 'городской посёлок назия' 'городской посёлок новоселье'\n",
      " 'городской посёлок павлово' 'городской посёлок рощино'\n",
      " 'городской посёлок свирьстрой' 'городской посёлок советский'\n",
      " 'городской посёлок фёдоровское' 'городской посёлок янино-1'\n",
      " 'деревня агалатово' 'деревня аро' 'деревня батово' 'деревня бегуницы'\n",
      " 'деревня белогорка' 'деревня большая вруда' 'деревня большая пустомержа'\n",
      " 'деревня большие колпаны' 'деревня большое рейзино'\n",
      " 'деревня большой сабск' 'деревня бор' 'деревня борисова грива'\n",
      " 'деревня ваганово' 'деревня вартемяги' 'деревня вахнова кара'\n",
      " 'деревня выскатка' 'деревня гарболово' 'деревня глинка'\n",
      " 'деревня горбунки' 'деревня гостилицы' 'деревня заклинье'\n",
      " 'деревня заневка' 'деревня зимитицы' 'деревня извара' 'деревня иссад'\n",
      " 'деревня калитино' 'деревня кальтино' 'деревня камышовка'\n",
      " 'деревня каськово' 'деревня келози' 'деревня кипень' 'деревня кисельня'\n",
      " 'деревня колтуши' 'деревня коркино' 'деревня котлы' 'деревня кривко'\n",
      " 'деревня кудрово' 'деревня кузьмолово' 'деревня курковицы'\n",
      " 'деревня куровицы' 'деревня куттузи' 'деревня лаврики' 'деревня лаголово'\n",
      " 'деревня лампово' 'деревня лесколово' 'деревня лопухинка'\n",
      " 'деревня лупполово' 'деревня малая романовка' 'деревня малое верево'\n",
      " 'деревня малое карлино' 'деревня малые колпаны' 'деревня мануйлово'\n",
      " 'деревня меньково' 'деревня мины' 'деревня мистолово' 'деревня ненимяки'\n",
      " 'деревня нижние осельки' 'деревня нижняя' 'деревня низино'\n",
      " 'деревня новое девяткино' 'деревня новолисино' 'деревня нурма'\n",
      " 'деревня оржицы' 'деревня парицы' 'деревня пельгора' 'деревня пеники'\n",
      " 'деревня пижма' 'деревня пикколово' 'деревня пудомяги' 'деревня пустынка'\n",
      " 'деревня пчева' 'деревня рабитицы' 'деревня разбегаево'\n",
      " 'деревня раздолье' 'деревня разметелево' 'деревня рапполово'\n",
      " 'деревня реброво' 'деревня русско' 'деревня сижно' 'деревня снегирёвка'\n",
      " 'деревня старая' 'деревня старая пустошь' 'деревня старое хинколово'\n",
      " 'деревня старополье' 'деревня старосиверская' 'деревня старые бегуницы'\n",
      " 'деревня суоранда' 'деревня сяськелево' 'деревня тарасово'\n",
      " 'деревня терпилицы' 'деревня тихковицы' 'деревня тойворово'\n",
      " 'деревня торосово' 'деревня торошковичи' 'деревня трубников бор'\n",
      " 'деревня фалилеево' 'деревня фёдоровское' 'деревня хапо-ое'\n",
      " 'деревня хязельки' 'деревня чудской бор' 'деревня шпаньково'\n",
      " 'деревня щеглово' 'деревня юкки' 'деревня ялгино' 'деревня яльгелево'\n",
      " 'деревня ям-тесово' 'зеленогорск' 'ивангород' 'каменногорск' 'кингисепп'\n",
      " 'кириши' 'кировск' 'колпино' 'коммунар'\n",
      " 'коттеджный поселок кивеннапа север' 'коттеджный поселок счастье'\n",
      " 'коттеджный посёлок лесное' 'красное село' 'кронштадт' 'кудрово'\n",
      " 'лодейное поле' 'ломоносов' 'луга' 'любань' 'мурино' 'никольское'\n",
      " 'новая ладога' 'отрадное' 'павловск' 'петергоф' 'пикалёво' 'подпорожье'\n",
      " 'поселок аннино' 'поселок барышево' 'поселок бугры' 'поселок возрождение'\n",
      " 'поселок войсковицы' 'поселок володарское' 'поселок гаврилово'\n",
      " 'поселок гарболово' 'поселок гладкое' 'поселок глажево'\n",
      " 'поселок глебычево' 'поселок гончарово'\n",
      " 'поселок городского типа большая ижора' 'поселок городского типа вырица'\n",
      " 'поселок городского типа дружная горка'\n",
      " 'поселок городского типа дубровка' 'поселок городского типа ефимовский'\n",
      " 'поселок городского типа имени свердлова'\n",
      " 'поселок городского типа кондратьево'\n",
      " 'поселок городского типа красный бор'\n",
      " 'поселок городского типа кузьмоловский' 'поселок городского типа лебяжье'\n",
      " 'поселок городского типа лесогорский' 'поселок городского типа назия'\n",
      " 'поселок городского типа никольский'\n",
      " 'поселок городского типа приладожский' 'поселок городского типа рахья'\n",
      " 'поселок городского типа рощино' 'поселок городского типа рябово'\n",
      " 'поселок городского типа синявино' 'поселок городского типа советский'\n",
      " 'поселок городского типа токсово' 'поселок городского типа форносово'\n",
      " 'поселок громово' 'поселок дружноселье' 'поселок елизаветино'\n",
      " 'поселок жилгородок' 'поселок жилпосёлок' 'поселок житково'\n",
      " 'поселок заводской' 'поселок запорожское' 'поселок зимитицы'\n",
      " 'поселок ильичёво' 'поселок калитино' 'поселок каложицы'\n",
      " 'поселок кингисеппский' 'поселок кирпичное' 'поселок кобралово'\n",
      " 'поселок кобринское' 'поселок коммунары' 'поселок коробицыно'\n",
      " 'поселок котельский' 'поселок красная долина' 'поселок красносельское'\n",
      " 'поселок лесное' 'поселок лисий нос' 'поселок лукаши' 'поселок любань'\n",
      " 'поселок мельниково' 'поселок мичуринское' 'поселок молодцово'\n",
      " 'поселок мурино' 'поселок новый свет' 'поселок новый учхоз'\n",
      " 'поселок оредеж' 'поселок пансионат зелёный бор' 'поселок первомайское'\n",
      " 'поселок перово' 'поселок петровское' 'поселок победа' 'поселок поляны'\n",
      " 'поселок почап' 'поселок починок' 'поселок пушное' 'поселок пчевжа'\n",
      " 'поселок рабитицы' 'поселок романовка' 'поселок ромашки' 'поселок рябово'\n",
      " 'поселок севастьяново' 'поселок селезнёво' 'поселок сельцо'\n",
      " 'поселок семиозерье' 'поселок семрино' 'поселок серебрянский'\n",
      " 'поселок совхозный' 'поселок станции вещево' 'поселок станции корнево'\n",
      " 'поселок станции лужайка' 'поселок станции приветнинское'\n",
      " 'поселок старая малукса' 'поселок стеклянный' 'поселок сумино'\n",
      " 'поселок суходолье' 'поселок тельмана' 'поселок терволово'\n",
      " 'поселок торковичи' 'поселок тёсово-4' 'поселок углово'\n",
      " 'поселок усть-луга' 'поселок ушаки' 'поселок цвелодубово'\n",
      " 'поселок цвылёво' 'посёлок александровская' 'посёлок алексеевка'\n",
      " 'посёлок аннино' 'посёлок белоостров' 'посёлок бугры'\n",
      " 'посёлок возрождение' 'посёлок войскорово' 'посёлок высокоключевой'\n",
      " 'посёлок гаврилово' 'посёлок городского типа важины'\n",
      " 'посёлок городского типа вознесенье' 'посёлок городского типа вырица'\n",
      " 'посёлок городского типа имени морозова'\n",
      " 'посёлок городского типа имени свердлова'\n",
      " 'посёлок городского типа красный бор' 'посёлок городского типа кузнечное'\n",
      " 'посёлок городского типа кузьмоловский' 'посёлок городского типа лебяжье'\n",
      " 'посёлок городского типа мга' 'посёлок городского типа павлово'\n",
      " 'посёлок городского типа рощино' 'посёлок городского типа рябово'\n",
      " 'посёлок городского типа сиверский' 'посёлок городского типа тайцы'\n",
      " 'посёлок городского типа токсово' 'посёлок городского типа ульяновка'\n",
      " 'посёлок городского типа форносово' 'посёлок дзержинского'\n",
      " 'посёлок жилгородок' 'посёлок ильичёво' 'посёлок кикерино'\n",
      " 'посёлок кобралово' 'посёлок коробицыно' 'посёлок левашово'\n",
      " 'посёлок ленинское' 'посёлок лисий нос' 'посёлок мельниково'\n",
      " 'посёлок металлострой' 'посёлок мичуринское' 'посёлок молодёжное'\n",
      " 'посёлок мурино' 'посёлок мыза-ивановка' 'посёлок новогорелово'\n",
      " 'посёлок новый свет' 'посёлок пансионат зелёный бор' 'посёлок парголово'\n",
      " 'посёлок перово' 'посёлок песочный' 'посёлок петро-славянка'\n",
      " 'посёлок петровское' 'посёлок платформа 69-й километр' 'посёлок плодовое'\n",
      " 'посёлок плоское' 'посёлок победа' 'посёлок поляны' 'посёлок понтонный'\n",
      " 'посёлок при железнодорожной станции вещево'\n",
      " 'посёлок при железнодорожной станции приветнинское' 'посёлок пригородный'\n",
      " 'посёлок пудость' 'посёлок репино' 'посёлок ропша' 'посёлок сапёрное'\n",
      " 'посёлок сапёрный' 'посёлок сосново' 'посёлок станции громово'\n",
      " 'посёлок станции свирь' 'посёлок старая малукса' 'посёлок стеклянный'\n",
      " 'посёлок стрельна' 'посёлок суйда' 'посёлок сумино' 'посёлок тельмана'\n",
      " 'посёлок терволово' 'посёлок торфяное' 'посёлок усть-ижора'\n",
      " 'посёлок усть-луга' 'посёлок форт красная горка' 'посёлок шугозеро'\n",
      " 'посёлок шушары' 'посёлок щеглово' 'приморск' 'приозерск' 'пушкин'\n",
      " 'садоводческое некоммерческое товарищество лесная поляна'\n",
      " 'садовое товарищество новая ропша' 'садовое товарищество приладожский'\n",
      " 'садовое товарищество рахья' 'садовое товарищество садко'\n",
      " 'санкт-петербург' 'светогорск' 'село копорье' 'село никольское'\n",
      " 'село павлово' 'село паша' 'село путилово' 'село рождествено'\n",
      " 'село русско-высоцкое' 'село старая ладога' 'село шум' 'сертолово'\n",
      " 'сестрорецк' 'сланцы' 'сосновый бор' 'сясьстрой' 'тихвин' 'тосно'\n",
      " 'шлиссельбург']\n"
     ]
    }
   ],
   "source": [
    "sorted_locality = data['locality_name'].sort_values() # просмотр уникальных назывний населенных пунктов\n",
    "print(sorted_locality.unique())"
   ]
  },
  {
   "cell_type": "markdown",
   "metadata": {},
   "source": [
    "- Сразу можем обратить внимание на дубликаты с буквами е/ё \n",
    "- Так же видны похожие названия посклков, но записаных с небольшой разницей (поселок, поселок городского типа и т.д)"
   ]
  },
  {
   "cell_type": "code",
   "execution_count": 24,
   "metadata": {},
   "outputs": [],
   "source": [
    "data['locality_name'] = data['locality_name'].str.replace('ё', 'е') # заменяю ё на е"
   ]
  },
  {
   "cell_type": "code",
   "execution_count": 25,
   "metadata": {},
   "outputs": [
    {
     "name": "stdout",
     "output_type": "stream",
     "text": [
      "['бокситогорск' 'волосово' 'волхов' 'всеволожск' 'выборг' 'высоцк'\n",
      " 'гатчина' 'деревня агалатово' 'деревня аро' 'деревня батово'\n",
      " 'деревня бегуницы' 'деревня белогорка' 'деревня большая вруда'\n",
      " 'деревня большая пустомержа' 'деревня большие колпаны'\n",
      " 'деревня большое рейзино' 'деревня большой сабск' 'деревня бор'\n",
      " 'деревня борисова грива' 'деревня ваганово' 'деревня вартемяги'\n",
      " 'деревня вахнова кара' 'деревня выскатка' 'деревня гарболово'\n",
      " 'деревня глинка' 'деревня горбунки' 'деревня гостилицы'\n",
      " 'деревня заклинье' 'деревня заневка' 'деревня зимитицы' 'деревня извара'\n",
      " 'деревня иссад' 'деревня калитино' 'деревня кальтино' 'деревня камышовка'\n",
      " 'деревня каськово' 'деревня келози' 'деревня кипень' 'деревня кисельня'\n",
      " 'деревня колтуши' 'деревня коркино' 'деревня котлы' 'деревня кривко'\n",
      " 'деревня кудрово' 'деревня кузьмолово' 'деревня курковицы'\n",
      " 'деревня куровицы' 'деревня куттузи' 'деревня лаврики' 'деревня лаголово'\n",
      " 'деревня лампово' 'деревня лесколово' 'деревня лопухинка'\n",
      " 'деревня лупполово' 'деревня малая романовка' 'деревня малое верево'\n",
      " 'деревня малое карлино' 'деревня малые колпаны' 'деревня мануйлово'\n",
      " 'деревня меньково' 'деревня мины' 'деревня мистолово' 'деревня ненимяки'\n",
      " 'деревня нижние осельки' 'деревня нижняя' 'деревня низино'\n",
      " 'деревня новое девяткино' 'деревня новолисино' 'деревня нурма'\n",
      " 'деревня оржицы' 'деревня парицы' 'деревня пельгора' 'деревня пеники'\n",
      " 'деревня пижма' 'деревня пикколово' 'деревня пудомяги' 'деревня пустынка'\n",
      " 'деревня пчева' 'деревня рабитицы' 'деревня разбегаево'\n",
      " 'деревня раздолье' 'деревня разметелево' 'деревня рапполово'\n",
      " 'деревня реброво' 'деревня русско' 'деревня сижно' 'деревня снегиревка'\n",
      " 'деревня старая' 'деревня старая пустошь' 'деревня старое хинколово'\n",
      " 'деревня старополье' 'деревня старосиверская' 'деревня старые бегуницы'\n",
      " 'деревня суоранда' 'деревня сяськелево' 'деревня тарасово'\n",
      " 'деревня терпилицы' 'деревня тихковицы' 'деревня тойворово'\n",
      " 'деревня торосово' 'деревня торошковичи' 'деревня трубников бор'\n",
      " 'деревня фалилеево' 'деревня федоровское' 'деревня хапо-ое'\n",
      " 'деревня хязельки' 'деревня чудской бор' 'деревня шпаньково'\n",
      " 'деревня щеглово' 'деревня юкки' 'деревня ялгино' 'деревня яльгелево'\n",
      " 'деревня ям-тесово' 'зеленогорск' 'ивангород' 'каменногорск' 'кингисепп'\n",
      " 'кириши' 'кировск' 'колпино' 'коммунар'\n",
      " 'коттеджный поселок кивеннапа север' 'коттеджный поселок лесное'\n",
      " 'коттеджный поселок счастье' 'красное село' 'кронштадт' 'кудрово'\n",
      " 'лодейное поле' 'ломоносов' 'луга' 'любань' 'мурино' 'никольское'\n",
      " 'новая ладога' 'отрадное' 'павловск' 'петергоф' 'пикалево' 'подпорожье'\n",
      " 'поселок александровская' 'поселок алексеевка' 'поселок аннино'\n",
      " 'поселок барышево' 'поселок белоостров' 'поселок большая ижора'\n",
      " 'поселок бугры' 'поселок будогощь' 'поселок важины' 'поселок вещево'\n",
      " 'поселок виллози' 'поселок вознесенье' 'поселок возрождение'\n",
      " 'поселок войсковицы' 'поселок войскорово' 'поселок володарское'\n",
      " 'поселок вырица' 'поселок высокоключевой' 'поселок гаврилово'\n",
      " 'поселок гарболово' 'поселок гладкое' 'поселок глажево'\n",
      " 'поселок глебычево' 'поселок гончарово' 'поселок громово'\n",
      " 'поселок дзержинского' 'поселок дружная горка' 'поселок дружноселье'\n",
      " 'поселок дубровка' 'поселок елизаветино' 'поселок ефимовский'\n",
      " 'поселок жилгородок' 'поселок жилпоселок' 'поселок житково'\n",
      " 'поселок заводской' 'поселок запорожское' 'поселок зимитицы'\n",
      " 'поселок ильичево' 'поселок имени морозова' 'поселок имени свердлова'\n",
      " 'поселок калитино' 'поселок каложицы' 'поселок кикерино'\n",
      " 'поселок кингисеппский' 'поселок кирпичное' 'поселок кобралово'\n",
      " 'поселок кобринское' 'поселок коммунары' 'поселок кондратьево'\n",
      " 'поселок корнево' 'поселок коробицыно' 'поселок котельский'\n",
      " 'поселок красная долина' 'поселок красносельское' 'поселок красный бор'\n",
      " 'поселок кузнечное' 'поселок кузьмоловский' 'поселок лебяжье'\n",
      " 'поселок левашово' 'поселок ленинское' 'поселок лесное'\n",
      " 'поселок лесогорский' 'поселок лисий нос' 'поселок лужайка'\n",
      " 'поселок лукаши' 'поселок любань' 'поселок мга' 'поселок мельниково'\n",
      " 'поселок металлострой' 'поселок мичуринское' 'поселок молодежное'\n",
      " 'поселок молодцово' 'поселок мурино' 'поселок мыза-ивановка'\n",
      " 'поселок назия' 'поселок никольский' 'поселок новогорелово'\n",
      " 'поселок новоселье' 'поселок новый свет' 'поселок новый учхоз'\n",
      " 'поселок оредеж' 'поселок павлово' 'поселок пансионат зеленый бор'\n",
      " 'поселок парголово' 'поселок первомайское' 'поселок перово'\n",
      " 'поселок песочный' 'поселок петро-славянка' 'поселок петровское'\n",
      " 'поселок платформа 69-й километр' 'поселок плодовое' 'поселок плоское'\n",
      " 'поселок победа' 'поселок поляны' 'поселок понтонный' 'поселок почап'\n",
      " 'поселок починок' 'поселок приветнинское' 'поселок пригородный'\n",
      " 'поселок приладожский' 'поселок пудость' 'поселок пушное'\n",
      " 'поселок пчевжа' 'поселок рабитицы' 'поселок рахья' 'поселок репино'\n",
      " 'поселок романовка' 'поселок ромашки' 'поселок ропша' 'поселок рощино'\n",
      " 'поселок рябово' 'поселок саперное' 'поселок саперный' 'поселок свирь'\n",
      " 'поселок свирьстрой' 'поселок севастьяново' 'поселок селезнево'\n",
      " 'поселок сельцо' 'поселок семиозерье' 'поселок семрино'\n",
      " 'поселок серебрянский' 'поселок сиверский' 'поселок синявино'\n",
      " 'поселок советский' 'поселок совхозный' 'поселок сосново'\n",
      " 'поселок старая малукса' 'поселок стеклянный' 'поселок стрельна'\n",
      " 'поселок суйда' 'поселок сумино' 'поселок суходолье' 'поселок тайцы'\n",
      " 'поселок тельмана' 'поселок терволово' 'поселок тесово-4'\n",
      " 'поселок токсово' 'поселок торковичи' 'поселок торфяное' 'поселок углово'\n",
      " 'поселок ульяновка' 'поселок усть-ижора' 'поселок усть-луга'\n",
      " 'поселок ушаки' 'поселок федоровское' 'поселок форносово'\n",
      " 'поселок форт красная горка' 'поселок цвелодубово' 'поселок цвылево'\n",
      " 'поселок шугозеро' 'поселок шушары' 'поселок щеглово' 'поселок янино-1'\n",
      " 'приморск' 'приозерск' 'пушкин'\n",
      " 'садоводческое некоммерческое товарищество лесная поляна'\n",
      " 'садовое товарищество новая ропша' 'садовое товарищество приладожский'\n",
      " 'садовое товарищество рахья' 'садовое товарищество садко'\n",
      " 'санкт-петербург' 'светогорск' 'село копорье' 'село никольское'\n",
      " 'село павлово' 'село паша' 'село путилово' 'село рождествено'\n",
      " 'село русско-высоцкое' 'село старая ладога' 'село шум' 'сертолово'\n",
      " 'сестрорецк' 'сланцы' 'сосновый бор' 'сясьстрой' 'тихвин' 'тосно'\n",
      " 'шлиссельбург']\n"
     ]
    }
   ],
   "source": [
    "duplicates = ['городской поселок', 'поселок городского типа', 'поселок станции', 'поселок при железнодорожной станции']\n",
    "for local in duplicates:\n",
    "  data['locality_name'] = data['locality_name'].str.replace(local, 'поселок')\n",
    "\n",
    "sorted_locality = data['locality_name'].sort_values()\n",
    "print(sorted_locality.unique()) # заменила дубликаты поселков"
   ]
  },
  {
   "cell_type": "code",
   "execution_count": 26,
   "metadata": {},
   "outputs": [
    {
     "data": {
      "text/html": [
       "<div>\n",
       "<style scoped>\n",
       "    .dataframe tbody tr th:only-of-type {\n",
       "        vertical-align: middle;\n",
       "    }\n",
       "\n",
       "    .dataframe tbody tr th {\n",
       "        vertical-align: top;\n",
       "    }\n",
       "\n",
       "    .dataframe thead th {\n",
       "        text-align: right;\n",
       "    }\n",
       "</style>\n",
       "<table border=\"1\" class=\"dataframe\">\n",
       "  <thead>\n",
       "    <tr style=\"text-align: right;\">\n",
       "      <th></th>\n",
       "      <th>total_images</th>\n",
       "      <th>last_price</th>\n",
       "      <th>total_area</th>\n",
       "      <th>rooms</th>\n",
       "      <th>ceiling_height</th>\n",
       "      <th>floors_total</th>\n",
       "      <th>living_area</th>\n",
       "      <th>floor</th>\n",
       "      <th>kitchen_area</th>\n",
       "      <th>balcony</th>\n",
       "      <th>airports_nearest</th>\n",
       "      <th>city_сenters_nearest</th>\n",
       "      <th>parks_around_3000</th>\n",
       "      <th>parks_nearest</th>\n",
       "      <th>ponds_around_3000</th>\n",
       "      <th>ponds_nearest</th>\n",
       "      <th>days_exposition</th>\n",
       "    </tr>\n",
       "  </thead>\n",
       "  <tbody>\n",
       "    <tr>\n",
       "      <th>count</th>\n",
       "      <td>23650.000000</td>\n",
       "      <td>2.365000e+04</td>\n",
       "      <td>23650.000000</td>\n",
       "      <td>23650.000000</td>\n",
       "      <td>14490.000000</td>\n",
       "      <td>23650.000000</td>\n",
       "      <td>21752.000000</td>\n",
       "      <td>23650.000000</td>\n",
       "      <td>21381.000000</td>\n",
       "      <td>23650.000000</td>\n",
       "      <td>18116.000000</td>\n",
       "      <td>18139.000000</td>\n",
       "      <td>18140.000000</td>\n",
       "      <td>8064.000000</td>\n",
       "      <td>18140.000000</td>\n",
       "      <td>9085.000000</td>\n",
       "      <td>20470.000000</td>\n",
       "    </tr>\n",
       "    <tr>\n",
       "      <th>mean</th>\n",
       "      <td>9.862326</td>\n",
       "      <td>6.541127e+06</td>\n",
       "      <td>60.329069</td>\n",
       "      <td>2.070106</td>\n",
       "      <td>2.771287</td>\n",
       "      <td>10.637505</td>\n",
       "      <td>34.448356</td>\n",
       "      <td>5.893277</td>\n",
       "      <td>10.566403</td>\n",
       "      <td>0.591712</td>\n",
       "      <td>28803.225878</td>\n",
       "      <td>14197.860742</td>\n",
       "      <td>0.611577</td>\n",
       "      <td>490.830729</td>\n",
       "      <td>0.769680</td>\n",
       "      <td>518.059879</td>\n",
       "      <td>180.753200</td>\n",
       "    </tr>\n",
       "    <tr>\n",
       "      <th>std</th>\n",
       "      <td>5.682278</td>\n",
       "      <td>1.089640e+07</td>\n",
       "      <td>35.661808</td>\n",
       "      <td>1.078620</td>\n",
       "      <td>1.261593</td>\n",
       "      <td>6.613891</td>\n",
       "      <td>22.037664</td>\n",
       "      <td>4.883317</td>\n",
       "      <td>5.901753</td>\n",
       "      <td>0.959662</td>\n",
       "      <td>12637.314144</td>\n",
       "      <td>8606.830295</td>\n",
       "      <td>0.802003</td>\n",
       "      <td>342.554386</td>\n",
       "      <td>0.937948</td>\n",
       "      <td>277.841733</td>\n",
       "      <td>219.777916</td>\n",
       "    </tr>\n",
       "    <tr>\n",
       "      <th>min</th>\n",
       "      <td>0.000000</td>\n",
       "      <td>1.219000e+04</td>\n",
       "      <td>12.000000</td>\n",
       "      <td>0.000000</td>\n",
       "      <td>1.000000</td>\n",
       "      <td>0.000000</td>\n",
       "      <td>2.000000</td>\n",
       "      <td>1.000000</td>\n",
       "      <td>1.300000</td>\n",
       "      <td>0.000000</td>\n",
       "      <td>0.000000</td>\n",
       "      <td>181.000000</td>\n",
       "      <td>0.000000</td>\n",
       "      <td>1.000000</td>\n",
       "      <td>0.000000</td>\n",
       "      <td>13.000000</td>\n",
       "      <td>1.000000</td>\n",
       "    </tr>\n",
       "    <tr>\n",
       "      <th>25%</th>\n",
       "      <td>6.000000</td>\n",
       "      <td>3.400000e+06</td>\n",
       "      <td>40.000000</td>\n",
       "      <td>1.000000</td>\n",
       "      <td>2.520000</td>\n",
       "      <td>5.000000</td>\n",
       "      <td>18.600000</td>\n",
       "      <td>2.000000</td>\n",
       "      <td>7.000000</td>\n",
       "      <td>0.000000</td>\n",
       "      <td>18575.750000</td>\n",
       "      <td>9241.000000</td>\n",
       "      <td>0.000000</td>\n",
       "      <td>288.000000</td>\n",
       "      <td>0.000000</td>\n",
       "      <td>293.000000</td>\n",
       "      <td>45.000000</td>\n",
       "    </tr>\n",
       "    <tr>\n",
       "      <th>50%</th>\n",
       "      <td>9.000000</td>\n",
       "      <td>4.650000e+06</td>\n",
       "      <td>52.000000</td>\n",
       "      <td>2.000000</td>\n",
       "      <td>2.650000</td>\n",
       "      <td>9.000000</td>\n",
       "      <td>30.000000</td>\n",
       "      <td>4.000000</td>\n",
       "      <td>9.100000</td>\n",
       "      <td>0.000000</td>\n",
       "      <td>26756.500000</td>\n",
       "      <td>13105.000000</td>\n",
       "      <td>0.000000</td>\n",
       "      <td>454.500000</td>\n",
       "      <td>1.000000</td>\n",
       "      <td>502.000000</td>\n",
       "      <td>95.000000</td>\n",
       "    </tr>\n",
       "    <tr>\n",
       "      <th>75%</th>\n",
       "      <td>14.000000</td>\n",
       "      <td>6.799000e+06</td>\n",
       "      <td>69.700000</td>\n",
       "      <td>3.000000</td>\n",
       "      <td>2.800000</td>\n",
       "      <td>16.000000</td>\n",
       "      <td>42.300000</td>\n",
       "      <td>8.000000</td>\n",
       "      <td>12.000000</td>\n",
       "      <td>1.000000</td>\n",
       "      <td>37294.000000</td>\n",
       "      <td>16293.000000</td>\n",
       "      <td>1.000000</td>\n",
       "      <td>612.000000</td>\n",
       "      <td>1.000000</td>\n",
       "      <td>730.000000</td>\n",
       "      <td>231.000000</td>\n",
       "    </tr>\n",
       "    <tr>\n",
       "      <th>max</th>\n",
       "      <td>50.000000</td>\n",
       "      <td>7.630000e+08</td>\n",
       "      <td>900.000000</td>\n",
       "      <td>19.000000</td>\n",
       "      <td>100.000000</td>\n",
       "      <td>60.000000</td>\n",
       "      <td>409.700000</td>\n",
       "      <td>33.000000</td>\n",
       "      <td>112.000000</td>\n",
       "      <td>5.000000</td>\n",
       "      <td>84869.000000</td>\n",
       "      <td>65968.000000</td>\n",
       "      <td>3.000000</td>\n",
       "      <td>3190.000000</td>\n",
       "      <td>3.000000</td>\n",
       "      <td>1344.000000</td>\n",
       "      <td>1580.000000</td>\n",
       "    </tr>\n",
       "  </tbody>\n",
       "</table>\n",
       "</div>"
      ],
      "text/plain": [
       "       total_images    last_price    total_area         rooms  ceiling_height  \\\n",
       "count  23650.000000  2.365000e+04  23650.000000  23650.000000    14490.000000   \n",
       "mean       9.862326  6.541127e+06     60.329069      2.070106        2.771287   \n",
       "std        5.682278  1.089640e+07     35.661808      1.078620        1.261593   \n",
       "min        0.000000  1.219000e+04     12.000000      0.000000        1.000000   \n",
       "25%        6.000000  3.400000e+06     40.000000      1.000000        2.520000   \n",
       "50%        9.000000  4.650000e+06     52.000000      2.000000        2.650000   \n",
       "75%       14.000000  6.799000e+06     69.700000      3.000000        2.800000   \n",
       "max       50.000000  7.630000e+08    900.000000     19.000000      100.000000   \n",
       "\n",
       "       floors_total   living_area         floor  kitchen_area       balcony  \\\n",
       "count  23650.000000  21752.000000  23650.000000  21381.000000  23650.000000   \n",
       "mean      10.637505     34.448356      5.893277     10.566403      0.591712   \n",
       "std        6.613891     22.037664      4.883317      5.901753      0.959662   \n",
       "min        0.000000      2.000000      1.000000      1.300000      0.000000   \n",
       "25%        5.000000     18.600000      2.000000      7.000000      0.000000   \n",
       "50%        9.000000     30.000000      4.000000      9.100000      0.000000   \n",
       "75%       16.000000     42.300000      8.000000     12.000000      1.000000   \n",
       "max       60.000000    409.700000     33.000000    112.000000      5.000000   \n",
       "\n",
       "       airports_nearest  city_сenters_nearest  parks_around_3000  \\\n",
       "count      18116.000000          18139.000000       18140.000000   \n",
       "mean       28803.225878          14197.860742           0.611577   \n",
       "std        12637.314144           8606.830295           0.802003   \n",
       "min            0.000000            181.000000           0.000000   \n",
       "25%        18575.750000           9241.000000           0.000000   \n",
       "50%        26756.500000          13105.000000           0.000000   \n",
       "75%        37294.000000          16293.000000           1.000000   \n",
       "max        84869.000000          65968.000000           3.000000   \n",
       "\n",
       "       parks_nearest  ponds_around_3000  ponds_nearest  days_exposition  \n",
       "count    8064.000000       18140.000000    9085.000000     20470.000000  \n",
       "mean      490.830729           0.769680     518.059879       180.753200  \n",
       "std       342.554386           0.937948     277.841733       219.777916  \n",
       "min         1.000000           0.000000      13.000000         1.000000  \n",
       "25%       288.000000           0.000000     293.000000        45.000000  \n",
       "50%       454.500000           1.000000     502.000000        95.000000  \n",
       "75%       612.000000           1.000000     730.000000       231.000000  \n",
       "max      3190.000000           3.000000    1344.000000      1580.000000  "
      ]
     },
     "execution_count": 26,
     "metadata": {},
     "output_type": "execute_result"
    }
   ],
   "source": [
    "data.describe() #просматриваю список характерных значений наших данных"
   ]
  },
  {
   "cell_type": "markdown",
   "metadata": {},
   "source": [
    "- Бросается в глаза максимальна площадь жилья в 900 м.кв.\n",
    "- Потолки высотой в 100 метро, так же далеки от реальности.\n",
    "- Вызывают подозрения и объявления с кол-вом комнат равнм 19.\n",
    "- Так же, стоит обратить внимание на минимальную и максимальную цены квартир."
   ]
  },
  {
   "cell_type": "code",
   "execution_count": 27,
   "metadata": {},
   "outputs": [
    {
     "data": {
      "image/png": "[encoded data removed]",
      "text/plain": [
       "<Figure size 432x288 with 1 Axes>"
      ]
     },
     "metadata": {
      "needs_background": "light"
     },
     "output_type": "display_data"
    }
   ],
   "source": [
    "pd.Series(data['ceiling_height'].hist(bins=100, range=(0,20)));"
   ]
  },
  {
   "cell_type": "code",
   "execution_count": 28,
   "metadata": {},
   "outputs": [
    {
     "data": {
      "image/png": "[encoded data removed]",
      "text/plain": [
       "<Figure size 432x288 with 1 Axes>"
      ]
     },
     "metadata": {
      "needs_background": "light"
     },
     "output_type": "display_data"
    }
   ],
   "source": [
    "data.boxplot('ceiling_height') # строю диаграмму размаха\n",
    "plt.ylim(0, 6);"
   ]
  },
  {
   "cell_type": "markdown",
   "metadata": {},
   "source": [
    "- Из графикоф делаем выводы, что стандартная высота потолков 2,6 метра , так же видим, что стандартное отклонение не так велико.\n",
    "- Пои этом есть объявления с высотой потолка выше 10 метров"
   ]
  },
  {
   "cell_type": "code",
   "execution_count": 29,
   "metadata": {},
   "outputs": [
    {
     "name": "stdout",
     "output_type": "stream",
     "text": [
      "       total_images  last_price  total_area first_day_exposition  rooms  \\\n",
      "355              17     3600000        55.2           2018-07-12      2   \n",
      "464              15    66571000       280.3           2015-06-11      6   \n",
      "1026             20   155000000       310.0           2018-10-12      5   \n",
      "1388             20    59800000       399.0           2015-01-21      5   \n",
      "3148             14     2900000        75.0           2018-11-12      3   \n",
      "3474              3     1400000        30.0           2018-03-16      1   \n",
      "4643              0     4300000        45.0           2018-02-01      2   \n",
      "4876              7     3000000        25.0           2017-09-27      0   \n",
      "5076              0     3850000        30.5           2018-10-03      1   \n",
      "5246              0     2500000        54.0           2017-10-13      2   \n",
      "5669              4     4400000        50.0           2017-08-08      2   \n",
      "5807             17     8150000        80.0           2019-01-09      2   \n",
      "5863             20     5650000        45.0           2018-08-15      1   \n",
      "6246              6     3300000        44.4           2019-03-25      2   \n",
      "7578             17    38000000       143.0           2017-11-02      3   \n",
      "9379              5     3950000        42.0           2017-03-26      3   \n",
      "10773             8     3800000        58.0           2017-10-13      2   \n",
      "11285             0     1950000        37.0           2019-03-20      1   \n",
      "12628            14     3900000        50.0           2018-03-29      1   \n",
      "14382             9     1700000        35.0           2015-12-04      1   \n",
      "15061            19     5600000        56.4           2018-05-11      2   \n",
      "15743            14     5600000        67.0           2016-11-11      3   \n",
      "17442             0     5350000        54.0           2015-06-16      2   \n",
      "17496            15     6700000        92.9           2019-02-19      3   \n",
      "17857             1     3900000        56.0           2017-12-22      3   \n",
      "18545             6     3750000        43.0           2019-03-18      2   \n",
      "20264            17   119000000       187.6           2017-07-10      4   \n",
      "20478            11     8000000        45.0           2017-07-18      1   \n",
      "20507            12     5950000        60.0           2018-02-19      2   \n",
      "21227             0     8200000        71.0           2017-07-21      0   \n",
      "21377            19     4900000        42.0           2017-04-18      1   \n",
      "21824            20     2450000        44.0           2019-02-12      2   \n",
      "22309            20     5300000        45.0           2017-09-30      1   \n",
      "22336            19     9999000        92.4           2019-04-05      2   \n",
      "22869             0    15000000        25.0           2018-07-25      1   \n",
      "22938            14     4000000        98.0           2018-03-15      4   \n",
      "\n",
      "       ceiling_height  floors_total  living_area  floor  is_apartment  ...  \\\n",
      "355              25.0             5         32.0      2         False  ...   \n",
      "464               5.2             8        159.5      7         False  ...   \n",
      "1026              5.3             3        190.0      3         False  ...   \n",
      "1388              5.6             6          NaN      6         False  ...   \n",
      "3148             32.0             3         53.0      2         False  ...   \n",
      "3474              8.0             5         15.3      2         False  ...   \n",
      "4643             25.0             9         30.0      2         False  ...   \n",
      "4876             27.0            25         17.0     17         False  ...   \n",
      "5076             24.0             5         19.5      1          True  ...   \n",
      "5246             27.0             5         30.0      3         False  ...   \n",
      "5669             26.0             9         21.3      3         False  ...   \n",
      "5807             27.0            36         41.0     13         False  ...   \n",
      "5863              8.3            16         19.3     14         False  ...   \n",
      "6246             25.0             5         31.3      5         False  ...   \n",
      "7578              5.5             5         83.0      5         False  ...   \n",
      "9379             25.0             5         30.0      2         False  ...   \n",
      "10773            27.0            10         30.1      3         False  ...   \n",
      "11285            25.0             5         17.0      4         False  ...   \n",
      "12628             5.3             5          NaN      5         False  ...   \n",
      "14382            25.0             5         20.0      2         False  ...   \n",
      "15061            14.0            14         32.4      5         False  ...   \n",
      "15743             8.0            16         41.0      1         False  ...   \n",
      "17442             8.0             5         29.0      2         False  ...   \n",
      "17496            20.0            17         53.2     14         False  ...   \n",
      "17857            27.0             5         33.0      4         False  ...   \n",
      "18545            25.0             5         29.0      3         False  ...   \n",
      "20264             6.0             7        147.0      7         False  ...   \n",
      "20478            27.0             4         22.0      2         False  ...   \n",
      "20507            22.6            14         35.0     11         False  ...   \n",
      "21227             5.8             5         68.0      5         False  ...   \n",
      "21377            27.5            24         37.7     19         False  ...   \n",
      "21824            27.0             2         38.0      2         False  ...   \n",
      "22309            10.3            16         15.5     15         False  ...   \n",
      "22336            32.0             6         55.5      5         False  ...   \n",
      "22869           100.0             5         14.0      5          True  ...   \n",
      "22938            27.0             2         73.0      2          True  ...   \n",
      "\n",
      "       kitchen_area  balcony          locality_name  airports_nearest  \\\n",
      "355             NaN        2                гатчина               NaN   \n",
      "464            21.1        0        санкт-петербург           26316.0   \n",
      "1026           63.0        2        санкт-петербург           24899.0   \n",
      "1388            NaN        0        санкт-петербург           26204.0   \n",
      "3148            8.0        0                 волхов               NaN   \n",
      "3474            7.3        0          деревня нурма               NaN   \n",
      "4643            7.0        1        санкт-петербург           12016.0   \n",
      "4876            NaN        2         поселок мурино               NaN   \n",
      "5076            5.5        0        санкт-петербург           29686.0   \n",
      "5246            9.0        2           деревня мины               NaN   \n",
      "5669            7.0        2        санкт-петербург           28981.0   \n",
      "5807           12.0        5        санкт-петербург           18732.0   \n",
      "5863            8.3        1        санкт-петербург           13069.0   \n",
      "6246            5.7        0              кронштадт           68923.0   \n",
      "7578           29.0        1        санкт-петербург           26333.0   \n",
      "9379            5.2        0        санкт-петербург           11647.0   \n",
      "10773           8.1        2         поселок мурино               NaN   \n",
      "11285           9.0        2                   луга               NaN   \n",
      "12628           NaN        0        санкт-петербург           19644.0   \n",
      "14382           8.0        1     поселок новый свет               NaN   \n",
      "15061           9.1        2        санкт-петербург           14814.0   \n",
      "15743           8.0        0        санкт-петербург           32691.0   \n",
      "17442           NaN        1           красное село           24638.0   \n",
      "17496          12.0        5        санкт-петербург           16295.0   \n",
      "17857           NaN        0        санкт-петербург           41030.0   \n",
      "18545           NaN        0        санкт-петербург           27054.0   \n",
      "20264          15.6        0        санкт-петербург           26902.0   \n",
      "20478          10.0        1        санкт-петербург           18975.0   \n",
      "20507          13.0        1        санкт-петербург           27028.0   \n",
      "21227           NaN        0        санкт-петербург           20170.0   \n",
      "21377          11.0        2        санкт-петербург           42742.0   \n",
      "21824           8.6        2  поселок большая ижора               NaN   \n",
      "22309           NaN        0        санкт-петербург           36353.0   \n",
      "22336          16.5        4        санкт-петербург           18838.0   \n",
      "22869          11.0        5        санкт-петербург           34963.0   \n",
      "22938           9.0        1         деревня нижняя               NaN   \n",
      "\n",
      "      city_сenters_nearest  parks_around_3000  parks_nearest  \\\n",
      "355                    NaN                NaN            NaN   \n",
      "464                 6655.0                3.0          187.0   \n",
      "1026                4785.0                0.0            NaN   \n",
      "1388                6934.0                2.0          149.0   \n",
      "3148                   NaN                NaN            NaN   \n",
      "3474                   NaN                NaN            NaN   \n",
      "4643               13256.0                1.0          658.0   \n",
      "4876                   NaN                NaN            NaN   \n",
      "5076                8389.0                3.0          397.0   \n",
      "5246                   NaN                NaN            NaN   \n",
      "5669               10912.0                1.0          305.0   \n",
      "5807               20444.0                0.0            NaN   \n",
      "5863               10763.0                0.0            NaN   \n",
      "6246               50649.0                1.0          417.0   \n",
      "7578                6448.0                3.0          479.0   \n",
      "9379               13581.0                0.0            NaN   \n",
      "10773                  NaN                NaN            NaN   \n",
      "11285                  NaN                NaN            NaN   \n",
      "12628               3918.0                1.0          505.0   \n",
      "14382                  NaN                NaN            NaN   \n",
      "15061              13610.0                0.0            NaN   \n",
      "15743              11035.0                1.0          723.0   \n",
      "17442              28062.0                0.0            NaN   \n",
      "17496              15092.0                1.0          967.0   \n",
      "17857              15543.0                0.0            NaN   \n",
      "18545               8033.0                1.0          540.0   \n",
      "20264               5605.0                3.0          484.0   \n",
      "20478               3246.0                0.0            NaN   \n",
      "20507              12570.0                0.0            NaN   \n",
      "21227               1261.0                2.0          295.0   \n",
      "21377               9760.0                0.0            NaN   \n",
      "21824                  NaN                NaN            NaN   \n",
      "22309              11936.0                2.0          440.0   \n",
      "22336               3506.0                0.0            NaN   \n",
      "22869               8283.0                1.0          223.0   \n",
      "22938                  NaN                NaN            NaN   \n",
      "\n",
      "       ponds_around_3000  ponds_nearest  days_exposition  \n",
      "355                  NaN            NaN            259.0  \n",
      "464                  1.0          616.0            578.0  \n",
      "1026                 1.0          603.0              NaN  \n",
      "1388                 2.0          577.0            719.0  \n",
      "3148                 NaN            NaN              NaN  \n",
      "3474                 NaN            NaN            125.0  \n",
      "4643                 1.0          331.0            181.0  \n",
      "4876                 NaN            NaN             28.0  \n",
      "5076                 1.0          578.0              7.0  \n",
      "5246                 NaN            NaN            540.0  \n",
      "5669                 0.0            NaN            267.0  \n",
      "5807                 3.0           80.0             38.0  \n",
      "5863                 1.0          613.0             14.0  \n",
      "6246                 2.0           73.0              NaN  \n",
      "7578                 0.0            NaN              NaN  \n",
      "9379                 0.0            NaN              NaN  \n",
      "10773                NaN            NaN             71.0  \n",
      "11285                NaN            NaN             18.0  \n",
      "12628                1.0           92.0              8.0  \n",
      "14382                NaN            NaN            206.0  \n",
      "15061                0.0            NaN            315.0  \n",
      "15743                0.0            NaN            474.0  \n",
      "17442                0.0            NaN            469.0  \n",
      "17496                0.0            NaN              NaN  \n",
      "17857                0.0            NaN             73.0  \n",
      "18545                0.0            NaN             12.0  \n",
      "20264                1.0          305.0            259.0  \n",
      "20478                3.0          449.0            429.0  \n",
      "20507                0.0            NaN             40.0  \n",
      "21227                3.0          366.0             30.0  \n",
      "21377                0.0            NaN             61.0  \n",
      "21824                NaN            NaN              NaN  \n",
      "22309                2.0          450.0            136.0  \n",
      "22336                3.0          511.0              NaN  \n",
      "22869                3.0           30.0             19.0  \n",
      "22938                NaN            NaN             27.0  \n",
      "\n",
      "[36 rows x 22 columns]\n"
     ]
    }
   ],
   "source": [
    "print(data.query('ceiling_height > 5')) # смотрю кол-во строк где потолок больше 5и метров"
   ]
  },
  {
   "cell_type": "code",
   "execution_count": 30,
   "metadata": {},
   "outputs": [
    {
     "name": "stdout",
     "output_type": "stream",
     "text": [
      "       total_images  last_price  total_area first_day_exposition  rooms  \\\n",
      "5712              5     1500000        42.8           2017-08-14      2   \n",
      "16934             5     4100000        40.0           2017-10-17      1   \n",
      "22590            16     6000000        55.0           2018-10-31      2   \n",
      "\n",
      "       ceiling_height  floors_total  living_area  floor  is_apartment  ...  \\\n",
      "5712             1.20             2         27.5      1         False  ...   \n",
      "16934            1.75            37         17.4      5         False  ...   \n",
      "22590            1.00            12         32.4      7         False  ...   \n",
      "\n",
      "       kitchen_area  balcony    locality_name  airports_nearest  \\\n",
      "5712           5.20        0      поселок мга               NaN   \n",
      "16934          8.34        0  санкт-петербург           18732.0   \n",
      "22590         10.00        0  санкт-петербург           33053.0   \n",
      "\n",
      "      city_сenters_nearest  parks_around_3000  parks_nearest  \\\n",
      "5712                   NaN                NaN            NaN   \n",
      "16934              20444.0                0.0            NaN   \n",
      "22590              14217.0                2.0          293.0   \n",
      "\n",
      "       ponds_around_3000  ponds_nearest  days_exposition  \n",
      "5712                 NaN            NaN            248.0  \n",
      "16934                3.0           80.0             71.0  \n",
      "22590                2.0          289.0             13.0  \n",
      "\n",
      "[3 rows x 22 columns]\n"
     ]
    }
   ],
   "source": [
    "print(data.query('ceiling_height < 2')) # смотрю кол-во строк где потолок меньше 2х метров"
   ]
  },
  {
   "cell_type": "markdown",
   "metadata": {},
   "source": [
    "- объявлений с высотой потолка ниже 2х метров, всего 3. Предположу, что это жилплощадь с какой-то спецефической планировкой, но точно не подвалы, так как расположны на 1, 5 и 7 этажах соответственно. Удалю эти данные, так как считаю их выбросом\n",
    "- объявления с высотой потолка выше 5 метров. Тут мы видим всего несколько объявления с высотой потолка до 10 метров, что вполне может быть реальностью ( так как есть двухэтажные квартиры). А вот выше 10 метров, выглядит не совсем правдоподобно. Скорее всего, тут некорректно записали высоту( не в метрах, а в сантиметрах)"
   ]
  },
  {
   "cell_type": "code",
   "execution_count": 31,
   "metadata": {},
   "outputs": [],
   "source": [
    "data.loc[data['ceiling_height']>10, 'ceiling_height'] = data.loc[data['ceiling_height']>10, 'ceiling_height']/10 #переводим см в м"
   ]
  },
  {
   "cell_type": "code",
   "execution_count": 32,
   "metadata": {},
   "outputs": [
    {
     "data": {
      "text/plain": [
       "count    14490.000000\n",
       "mean         2.727846\n",
       "std          0.299664\n",
       "min          1.000000\n",
       "25%          2.510000\n",
       "50%          2.650000\n",
       "75%          2.800000\n",
       "max         10.000000\n",
       "Name: ceiling_height, dtype: float64"
      ]
     },
     "execution_count": 32,
     "metadata": {},
     "output_type": "execute_result"
    }
   ],
   "source": [
    "data['ceiling_height'].describe()"
   ]
  },
  {
   "cell_type": "code",
   "execution_count": 33,
   "metadata": {},
   "outputs": [
    {
     "data": {
      "text/plain": [
       "array([ 3,  1,  2,  4,  5,  6,  0,  7, 11,  8, 14, 10, 15,  9, 19, 16, 12])"
      ]
     },
     "execution_count": 33,
     "metadata": {},
     "output_type": "execute_result"
    }
   ],
   "source": [
    "data['rooms'].unique() # проанализируем кол-во комнат в квартирах"
   ]
  },
  {
   "cell_type": "code",
   "execution_count": 34,
   "metadata": {},
   "outputs": [
    {
     "data": {
      "text/plain": [
       "1     8036\n",
       "2     7924\n",
       "3     5797\n",
       "4     1175\n",
       "5      326\n",
       "0      197\n",
       "6      105\n",
       "7       59\n",
       "8       12\n",
       "9        8\n",
       "10       3\n",
       "11       2\n",
       "14       2\n",
       "19       1\n",
       "16       1\n",
       "12       1\n",
       "15       1\n",
       "Name: rooms, dtype: int64"
      ]
     },
     "execution_count": 34,
     "metadata": {},
     "output_type": "execute_result"
    }
   ],
   "source": [
    "data['rooms'].value_counts()"
   ]
  },
  {
   "cell_type": "code",
   "execution_count": 35,
   "metadata": {},
   "outputs": [
    {
     "data": {
      "image/png": "[encoded data removed]",
      "text/plain": [
       "<Figure size 432x288 with 1 Axes>"
      ]
     },
     "metadata": {
      "needs_background": "light"
     },
     "output_type": "display_data"
    }
   ],
   "source": [
    "pd.Series(data['rooms'].hist(bins=50, range=(0,16)));"
   ]
  },
  {
   "cell_type": "markdown",
   "metadata": {},
   "source": [
    "- Пик графика приходится на однокомнатные квартиры. \n",
    "- Из полученных данных, можем сделать вывод, что предложения с количеством комнат выше 7 - аномальные значения. Следовательно исключим их из нашего анализа, для получения корректного результат."
   ]
  },
  {
   "cell_type": "code",
   "execution_count": 36,
   "metadata": {},
   "outputs": [
    {
     "data": {
      "text/html": [
       "<div>\n",
       "<style scoped>\n",
       "    .dataframe tbody tr th:only-of-type {\n",
       "        vertical-align: middle;\n",
       "    }\n",
       "\n",
       "    .dataframe tbody tr th {\n",
       "        vertical-align: top;\n",
       "    }\n",
       "\n",
       "    .dataframe thead th {\n",
       "        text-align: right;\n",
       "    }\n",
       "</style>\n",
       "<table border=\"1\" class=\"dataframe\">\n",
       "  <thead>\n",
       "    <tr style=\"text-align: right;\">\n",
       "      <th></th>\n",
       "      <th>total_images</th>\n",
       "      <th>last_price</th>\n",
       "      <th>total_area</th>\n",
       "      <th>first_day_exposition</th>\n",
       "      <th>rooms</th>\n",
       "      <th>ceiling_height</th>\n",
       "      <th>floors_total</th>\n",
       "      <th>living_area</th>\n",
       "      <th>floor</th>\n",
       "      <th>is_apartment</th>\n",
       "      <th>...</th>\n",
       "      <th>kitchen_area</th>\n",
       "      <th>balcony</th>\n",
       "      <th>locality_name</th>\n",
       "      <th>airports_nearest</th>\n",
       "      <th>city_сenters_nearest</th>\n",
       "      <th>parks_around_3000</th>\n",
       "      <th>parks_nearest</th>\n",
       "      <th>ponds_around_3000</th>\n",
       "      <th>ponds_nearest</th>\n",
       "      <th>days_exposition</th>\n",
       "    </tr>\n",
       "  </thead>\n",
       "  <tbody>\n",
       "    <tr>\n",
       "      <th>0</th>\n",
       "      <td>20</td>\n",
       "      <td>13000000</td>\n",
       "      <td>108.0</td>\n",
       "      <td>2019-03-07</td>\n",
       "      <td>3</td>\n",
       "      <td>2.70</td>\n",
       "      <td>16</td>\n",
       "      <td>51.0</td>\n",
       "      <td>8</td>\n",
       "      <td>False</td>\n",
       "      <td>...</td>\n",
       "      <td>25.0</td>\n",
       "      <td>0</td>\n",
       "      <td>санкт-петербург</td>\n",
       "      <td>18863.0</td>\n",
       "      <td>16028.0</td>\n",
       "      <td>1.0</td>\n",
       "      <td>482.0</td>\n",
       "      <td>2.0</td>\n",
       "      <td>755.0</td>\n",
       "      <td>NaN</td>\n",
       "    </tr>\n",
       "    <tr>\n",
       "      <th>1</th>\n",
       "      <td>7</td>\n",
       "      <td>3350000</td>\n",
       "      <td>40.4</td>\n",
       "      <td>2018-12-04</td>\n",
       "      <td>1</td>\n",
       "      <td>NaN</td>\n",
       "      <td>11</td>\n",
       "      <td>18.6</td>\n",
       "      <td>1</td>\n",
       "      <td>False</td>\n",
       "      <td>...</td>\n",
       "      <td>11.0</td>\n",
       "      <td>2</td>\n",
       "      <td>поселок шушары</td>\n",
       "      <td>12817.0</td>\n",
       "      <td>18603.0</td>\n",
       "      <td>0.0</td>\n",
       "      <td>NaN</td>\n",
       "      <td>0.0</td>\n",
       "      <td>NaN</td>\n",
       "      <td>81.0</td>\n",
       "    </tr>\n",
       "    <tr>\n",
       "      <th>2</th>\n",
       "      <td>10</td>\n",
       "      <td>5196000</td>\n",
       "      <td>56.0</td>\n",
       "      <td>2015-08-20</td>\n",
       "      <td>2</td>\n",
       "      <td>NaN</td>\n",
       "      <td>5</td>\n",
       "      <td>34.3</td>\n",
       "      <td>4</td>\n",
       "      <td>False</td>\n",
       "      <td>...</td>\n",
       "      <td>8.3</td>\n",
       "      <td>0</td>\n",
       "      <td>санкт-петербург</td>\n",
       "      <td>21741.0</td>\n",
       "      <td>13933.0</td>\n",
       "      <td>1.0</td>\n",
       "      <td>90.0</td>\n",
       "      <td>2.0</td>\n",
       "      <td>574.0</td>\n",
       "      <td>558.0</td>\n",
       "    </tr>\n",
       "    <tr>\n",
       "      <th>3</th>\n",
       "      <td>0</td>\n",
       "      <td>64900000</td>\n",
       "      <td>159.0</td>\n",
       "      <td>2015-07-24</td>\n",
       "      <td>3</td>\n",
       "      <td>NaN</td>\n",
       "      <td>14</td>\n",
       "      <td>NaN</td>\n",
       "      <td>9</td>\n",
       "      <td>False</td>\n",
       "      <td>...</td>\n",
       "      <td>NaN</td>\n",
       "      <td>0</td>\n",
       "      <td>санкт-петербург</td>\n",
       "      <td>28098.0</td>\n",
       "      <td>6800.0</td>\n",
       "      <td>2.0</td>\n",
       "      <td>84.0</td>\n",
       "      <td>3.0</td>\n",
       "      <td>234.0</td>\n",
       "      <td>424.0</td>\n",
       "    </tr>\n",
       "    <tr>\n",
       "      <th>4</th>\n",
       "      <td>2</td>\n",
       "      <td>10000000</td>\n",
       "      <td>100.0</td>\n",
       "      <td>2018-06-19</td>\n",
       "      <td>2</td>\n",
       "      <td>3.03</td>\n",
       "      <td>14</td>\n",
       "      <td>32.0</td>\n",
       "      <td>13</td>\n",
       "      <td>False</td>\n",
       "      <td>...</td>\n",
       "      <td>41.0</td>\n",
       "      <td>0</td>\n",
       "      <td>санкт-петербург</td>\n",
       "      <td>31856.0</td>\n",
       "      <td>8098.0</td>\n",
       "      <td>2.0</td>\n",
       "      <td>112.0</td>\n",
       "      <td>1.0</td>\n",
       "      <td>48.0</td>\n",
       "      <td>121.0</td>\n",
       "    </tr>\n",
       "  </tbody>\n",
       "</table>\n",
       "<p>5 rows × 22 columns</p>\n",
       "</div>"
      ],
      "text/plain": [
       "   total_images  last_price  total_area first_day_exposition  rooms  \\\n",
       "0            20    13000000       108.0           2019-03-07      3   \n",
       "1             7     3350000        40.4           2018-12-04      1   \n",
       "2            10     5196000        56.0           2015-08-20      2   \n",
       "3             0    64900000       159.0           2015-07-24      3   \n",
       "4             2    10000000       100.0           2018-06-19      2   \n",
       "\n",
       "   ceiling_height  floors_total  living_area  floor  is_apartment  ...  \\\n",
       "0            2.70            16         51.0      8         False  ...   \n",
       "1             NaN            11         18.6      1         False  ...   \n",
       "2             NaN             5         34.3      4         False  ...   \n",
       "3             NaN            14          NaN      9         False  ...   \n",
       "4            3.03            14         32.0     13         False  ...   \n",
       "\n",
       "   kitchen_area  balcony    locality_name  airports_nearest  \\\n",
       "0          25.0        0  санкт-петербург           18863.0   \n",
       "1          11.0        2   поселок шушары           12817.0   \n",
       "2           8.3        0  санкт-петербург           21741.0   \n",
       "3           NaN        0  санкт-петербург           28098.0   \n",
       "4          41.0        0  санкт-петербург           31856.0   \n",
       "\n",
       "  city_сenters_nearest  parks_around_3000  parks_nearest  ponds_around_3000  \\\n",
       "0              16028.0                1.0          482.0                2.0   \n",
       "1              18603.0                0.0            NaN                0.0   \n",
       "2              13933.0                1.0           90.0                2.0   \n",
       "3               6800.0                2.0           84.0                3.0   \n",
       "4               8098.0                2.0          112.0                1.0   \n",
       "\n",
       "   ponds_nearest  days_exposition  \n",
       "0          755.0              NaN  \n",
       "1            NaN             81.0  \n",
       "2          574.0            558.0  \n",
       "3          234.0            424.0  \n",
       "4           48.0            121.0  \n",
       "\n",
       "[5 rows x 22 columns]"
      ]
     },
     "execution_count": 36,
     "metadata": {},
     "output_type": "execute_result"
    }
   ],
   "source": [
    "good_data = data.query('rooms <= 7') # сохраняю новый df где отрезаю объявление с кол-вом комнат больше 8\n",
    "info(good_data)"
   ]
  },
  {
   "cell_type": "code",
   "execution_count": 37,
   "metadata": {},
   "outputs": [
    {
     "data": {
      "text/plain": [
       "count        23619.0\n",
       "mean       6481787.0\n",
       "std       10414592.0\n",
       "min          12190.0\n",
       "25%        3400000.0\n",
       "50%        4630000.0\n",
       "75%        6750000.0\n",
       "max      763000000.0\n",
       "Name: last_price, dtype: float64"
      ]
     },
     "execution_count": 37,
     "metadata": {},
     "output_type": "execute_result"
    }
   ],
   "source": [
    "around_the(good_data['last_price'].describe()) # переходим к анализу цен"
   ]
  },
  {
   "cell_type": "markdown",
   "metadata": {},
   "source": [
    "- И минимальная и максимальные цены выглядят неправдоподобно, рассмотрим подробнее\n",
    "- Медиана осень отличается от среднего значения, значит есть выбросы"
   ]
  },
  {
   "cell_type": "code",
   "execution_count": 38,
   "metadata": {},
   "outputs": [
    {
     "data": {
      "image/png": "[encoded data removed]",
      "text/plain": [
       "<Figure size 432x288 with 1 Axes>"
      ]
     },
     "metadata": {
      "needs_background": "light"
     },
     "output_type": "display_data"
    }
   ],
   "source": [
    "good_data.boxplot('last_price')\n",
    "plt.ylim(0, 15000000);"
   ]
  },
  {
   "cell_type": "markdown",
   "metadata": {},
   "source": [
    "Выбросы = наблюдения > Q3 + 1,5*IQR или Q1 – 1,5*IQR"
   ]
  },
  {
   "cell_type": "code",
   "execution_count": 39,
   "metadata": {},
   "outputs": [],
   "source": [
    "q1 = good_data['last_price'].quantile(0.25)                 \n",
    "q3 = good_data['last_price'].quantile(0.75)\n",
    "iqr = q3 - q1\n",
    "qq1 = q1 - 1.5*iqr\n",
    "qq3 = q3 + 1.5*iqr\n",
    "\n",
    "good_data = good_data.query('last_price >= 100000 and last_price <= @qq3') # отсеиваю данные, находящиеся за межквартальным размахом"
   ]
  },
  {
   "cell_type": "code",
   "execution_count": 40,
   "metadata": {},
   "outputs": [
    {
     "data": {
      "text/plain": [
       "count       21569.0\n",
       "mean      4831076.0\n",
       "std       2205596.0\n",
       "min        430000.0\n",
       "25%       3300000.0\n",
       "50%       4400000.0\n",
       "75%       5999000.0\n",
       "max      11768000.0\n",
       "Name: last_price, dtype: float64"
      ]
     },
     "execution_count": 40,
     "metadata": {},
     "output_type": "execute_result"
    }
   ],
   "source": [
    "around_the(good_data['last_price'].describe())"
   ]
  },
  {
   "cell_type": "markdown",
   "metadata": {},
   "source": [
    "- Мы избавились от выбросов\n",
    "- Значительно уменьшилось стандартное отклонение!"
   ]
  },
  {
   "cell_type": "code",
   "execution_count": 41,
   "metadata": {},
   "outputs": [
    {
     "data": {
      "image/png": "[encoded data removed]",
      "text/plain": [
       "<Figure size 432x288 with 1 Axes>"
      ]
     },
     "metadata": {
      "needs_background": "light"
     },
     "output_type": "display_data"
    }
   ],
   "source": [
    "good_data.boxplot('last_price') # строю диаграмму размаха\n",
    "plt.ylim(0, 11000000);"
   ]
  },
  {
   "cell_type": "markdown",
   "metadata": {},
   "source": [
    "- Теперь данные в этой колонке выглядят корректно!"
   ]
  },
  {
   "cell_type": "code",
   "execution_count": 42,
   "metadata": {},
   "outputs": [
    {
     "data": {
      "text/plain": [
       "count    21569.0\n",
       "mean        53.0\n",
       "std         19.0\n",
       "min         12.0\n",
       "25%         39.0\n",
       "50%         49.0\n",
       "75%         63.0\n",
       "max        230.0\n",
       "Name: total_area, dtype: float64"
      ]
     },
     "execution_count": 42,
     "metadata": {},
     "output_type": "execute_result"
    }
   ],
   "source": [
    "around_the(good_data['total_area'].describe()) # посмотрим что произошло с данными по общей площади недвижимости."
   ]
  },
  {
   "cell_type": "code",
   "execution_count": 43,
   "metadata": {},
   "outputs": [
    {
     "data": {
      "image/png": "[encoded data removed]",
      "text/plain": [
       "<Figure size 432x288 with 1 Axes>"
      ]
     },
     "metadata": {
      "needs_background": "light"
     },
     "output_type": "display_data"
    }
   ],
   "source": [
    "good_data.boxplot('total_area') # строю диаграмму размаха\n",
    "plt.ylim(0, 220);"
   ]
  },
  {
   "cell_type": "markdown",
   "metadata": {},
   "source": [
    "- Так как мы уже удалили часть данных в предыдущих вычислениях, данные по метражу выглядят корректно.\n",
    "- Из датасета пропала квартира с метражом в 900 м.кв."
   ]
  },
  {
   "cell_type": "code",
   "execution_count": 44,
   "metadata": {},
   "outputs": [
    {
     "data": {
      "text/plain": [
       "0.9120084566596195"
      ]
     },
     "execution_count": 44,
     "metadata": {},
     "output_type": "execute_result"
    }
   ],
   "source": [
    "good_data.shape[0] / data.shape[0]"
   ]
  },
  {
   "cell_type": "markdown",
   "metadata": {},
   "source": [
    "- Привела данные к корректному, для дальнейшего анализа, виду. \n",
    "- Убрала дубликаты, заполнила пропуски, где это было необходимо, удалила выбросы.\n",
    "- Из 23 699 тыс строк мы оставили 21 569. То есть потеряли меньше 10% данных и можем продолжить анализ."
   ]
  },
  {
   "cell_type": "markdown",
   "metadata": {},
   "source": [
    "### Посчитайте и добавьте в таблицу новые столбцы"
   ]
  },
  {
   "cell_type": "code",
   "execution_count": 45,
   "metadata": {},
   "outputs": [
    {
     "data": {
      "text/plain": [
       "16022     46988.0\n",
       "16012     62162.0\n",
       "7651     160000.0\n",
       "23050     61628.0\n",
       "20135     65315.0\n",
       "Name: price_per_sq, dtype: float64"
      ]
     },
     "execution_count": 45,
     "metadata": {},
     "output_type": "execute_result"
    }
   ],
   "source": [
    "good_data['price_per_sq'] = good_data['last_price'] / good_data['total_area'] #добавляю цену за квадратный метр\n",
    "info(around_the(good_data['price_per_sq']))"
   ]
  },
  {
   "cell_type": "code",
   "execution_count": 46,
   "metadata": {},
   "outputs": [],
   "source": [
    "good_data['week_day'] = good_data['first_day_exposition'].dt.weekday # добавляю день недели"
   ]
  },
  {
   "cell_type": "code",
   "execution_count": 47,
   "metadata": {},
   "outputs": [],
   "source": [
    "good_data['month'] = good_data['first_day_exposition'].dt.month_name() #добавляю месяц"
   ]
  },
  {
   "cell_type": "code",
   "execution_count": 48,
   "metadata": {},
   "outputs": [
    {
     "data": {
      "text/html": [
       "<div>\n",
       "<style scoped>\n",
       "    .dataframe tbody tr th:only-of-type {\n",
       "        vertical-align: middle;\n",
       "    }\n",
       "\n",
       "    .dataframe tbody tr th {\n",
       "        vertical-align: top;\n",
       "    }\n",
       "\n",
       "    .dataframe thead th {\n",
       "        text-align: right;\n",
       "    }\n",
       "</style>\n",
       "<table border=\"1\" class=\"dataframe\">\n",
       "  <thead>\n",
       "    <tr style=\"text-align: right;\">\n",
       "      <th></th>\n",
       "      <th>total_images</th>\n",
       "      <th>last_price</th>\n",
       "      <th>total_area</th>\n",
       "      <th>first_day_exposition</th>\n",
       "      <th>rooms</th>\n",
       "      <th>ceiling_height</th>\n",
       "      <th>floors_total</th>\n",
       "      <th>living_area</th>\n",
       "      <th>floor</th>\n",
       "      <th>is_apartment</th>\n",
       "      <th>...</th>\n",
       "      <th>city_сenters_nearest</th>\n",
       "      <th>parks_around_3000</th>\n",
       "      <th>parks_nearest</th>\n",
       "      <th>ponds_around_3000</th>\n",
       "      <th>ponds_nearest</th>\n",
       "      <th>days_exposition</th>\n",
       "      <th>price_per_sq</th>\n",
       "      <th>week_day</th>\n",
       "      <th>month</th>\n",
       "      <th>year</th>\n",
       "    </tr>\n",
       "  </thead>\n",
       "  <tbody>\n",
       "    <tr>\n",
       "      <th>1</th>\n",
       "      <td>7</td>\n",
       "      <td>3350000</td>\n",
       "      <td>40.4</td>\n",
       "      <td>2018-12-04</td>\n",
       "      <td>1</td>\n",
       "      <td>NaN</td>\n",
       "      <td>11</td>\n",
       "      <td>18.6</td>\n",
       "      <td>1</td>\n",
       "      <td>False</td>\n",
       "      <td>...</td>\n",
       "      <td>18603.0</td>\n",
       "      <td>0.0</td>\n",
       "      <td>NaN</td>\n",
       "      <td>0.0</td>\n",
       "      <td>NaN</td>\n",
       "      <td>81.0</td>\n",
       "      <td>82920.792079</td>\n",
       "      <td>1</td>\n",
       "      <td>December</td>\n",
       "      <td>2018</td>\n",
       "    </tr>\n",
       "    <tr>\n",
       "      <th>2</th>\n",
       "      <td>10</td>\n",
       "      <td>5196000</td>\n",
       "      <td>56.0</td>\n",
       "      <td>2015-08-20</td>\n",
       "      <td>2</td>\n",
       "      <td>NaN</td>\n",
       "      <td>5</td>\n",
       "      <td>34.3</td>\n",
       "      <td>4</td>\n",
       "      <td>False</td>\n",
       "      <td>...</td>\n",
       "      <td>13933.0</td>\n",
       "      <td>1.0</td>\n",
       "      <td>90.0</td>\n",
       "      <td>2.0</td>\n",
       "      <td>574.0</td>\n",
       "      <td>558.0</td>\n",
       "      <td>92785.714286</td>\n",
       "      <td>3</td>\n",
       "      <td>August</td>\n",
       "      <td>2015</td>\n",
       "    </tr>\n",
       "    <tr>\n",
       "      <th>4</th>\n",
       "      <td>2</td>\n",
       "      <td>10000000</td>\n",
       "      <td>100.0</td>\n",
       "      <td>2018-06-19</td>\n",
       "      <td>2</td>\n",
       "      <td>3.03</td>\n",
       "      <td>14</td>\n",
       "      <td>32.0</td>\n",
       "      <td>13</td>\n",
       "      <td>False</td>\n",
       "      <td>...</td>\n",
       "      <td>8098.0</td>\n",
       "      <td>2.0</td>\n",
       "      <td>112.0</td>\n",
       "      <td>1.0</td>\n",
       "      <td>48.0</td>\n",
       "      <td>121.0</td>\n",
       "      <td>100000.000000</td>\n",
       "      <td>1</td>\n",
       "      <td>June</td>\n",
       "      <td>2018</td>\n",
       "    </tr>\n",
       "    <tr>\n",
       "      <th>5</th>\n",
       "      <td>10</td>\n",
       "      <td>2890000</td>\n",
       "      <td>30.4</td>\n",
       "      <td>2018-09-10</td>\n",
       "      <td>1</td>\n",
       "      <td>NaN</td>\n",
       "      <td>12</td>\n",
       "      <td>14.4</td>\n",
       "      <td>5</td>\n",
       "      <td>False</td>\n",
       "      <td>...</td>\n",
       "      <td>NaN</td>\n",
       "      <td>NaN</td>\n",
       "      <td>NaN</td>\n",
       "      <td>NaN</td>\n",
       "      <td>NaN</td>\n",
       "      <td>55.0</td>\n",
       "      <td>95065.789474</td>\n",
       "      <td>0</td>\n",
       "      <td>September</td>\n",
       "      <td>2018</td>\n",
       "    </tr>\n",
       "    <tr>\n",
       "      <th>6</th>\n",
       "      <td>6</td>\n",
       "      <td>3700000</td>\n",
       "      <td>37.3</td>\n",
       "      <td>2017-11-02</td>\n",
       "      <td>1</td>\n",
       "      <td>NaN</td>\n",
       "      <td>26</td>\n",
       "      <td>10.6</td>\n",
       "      <td>6</td>\n",
       "      <td>False</td>\n",
       "      <td>...</td>\n",
       "      <td>19143.0</td>\n",
       "      <td>0.0</td>\n",
       "      <td>NaN</td>\n",
       "      <td>0.0</td>\n",
       "      <td>NaN</td>\n",
       "      <td>155.0</td>\n",
       "      <td>99195.710456</td>\n",
       "      <td>3</td>\n",
       "      <td>November</td>\n",
       "      <td>2017</td>\n",
       "    </tr>\n",
       "  </tbody>\n",
       "</table>\n",
       "<p>5 rows × 26 columns</p>\n",
       "</div>"
      ],
      "text/plain": [
       "   total_images  last_price  total_area first_day_exposition  rooms  \\\n",
       "1             7     3350000        40.4           2018-12-04      1   \n",
       "2            10     5196000        56.0           2015-08-20      2   \n",
       "4             2    10000000       100.0           2018-06-19      2   \n",
       "5            10     2890000        30.4           2018-09-10      1   \n",
       "6             6     3700000        37.3           2017-11-02      1   \n",
       "\n",
       "   ceiling_height  floors_total  living_area  floor  is_apartment  ...  \\\n",
       "1             NaN            11         18.6      1         False  ...   \n",
       "2             NaN             5         34.3      4         False  ...   \n",
       "4            3.03            14         32.0     13         False  ...   \n",
       "5             NaN            12         14.4      5         False  ...   \n",
       "6             NaN            26         10.6      6         False  ...   \n",
       "\n",
       "   city_сenters_nearest  parks_around_3000  parks_nearest  ponds_around_3000  \\\n",
       "1               18603.0                0.0            NaN                0.0   \n",
       "2               13933.0                1.0           90.0                2.0   \n",
       "4                8098.0                2.0          112.0                1.0   \n",
       "5                   NaN                NaN            NaN                NaN   \n",
       "6               19143.0                0.0            NaN                0.0   \n",
       "\n",
       "  ponds_nearest  days_exposition   price_per_sq  week_day      month  year  \n",
       "1           NaN             81.0   82920.792079         1   December  2018  \n",
       "2         574.0            558.0   92785.714286         3     August  2015  \n",
       "4          48.0            121.0  100000.000000         1       June  2018  \n",
       "5           NaN             55.0   95065.789474         0  September  2018  \n",
       "6           NaN            155.0   99195.710456         3   November  2017  \n",
       "\n",
       "[5 rows x 26 columns]"
      ]
     },
     "execution_count": 48,
     "metadata": {},
     "output_type": "execute_result"
    }
   ],
   "source": [
    "good_data['year'] = good_data['first_day_exposition'].dt.year # добавляю год\n",
    "info(good_data)"
   ]
  },
  {
   "cell_type": "code",
   "execution_count": 49,
   "metadata": {},
   "outputs": [],
   "source": [
    "def type_floor(row):\n",
    "    if row['floor'] == 1:\n",
    "        return 'первый'\n",
    "    elif row['floor'] == row['floors_total']:\n",
    "        return 'последний'\n",
    "    else:\n",
    "        return 'другой' # функция, которая подсвечивает первй и последний этажи в доме"
   ]
  },
  {
   "cell_type": "code",
   "execution_count": 50,
   "metadata": {},
   "outputs": [],
   "source": [
    "good_data['type_floor'] = good_data.apply(type_floor, axis=1)"
   ]
  },
  {
   "cell_type": "code",
   "execution_count": 51,
   "metadata": {},
   "outputs": [],
   "source": [
    "good_data['city_centers_nearest_km'] = good_data['city_сenters_nearest'] / 1000 # перевожу в километры растояние до центра города и до аэропорта\n",
    "good_data['city_centers_nearest_km'] = around_the(good_data['city_centers_nearest_km'])\n",
    "good_data['airports_nearest_km'] = good_data['airports_nearest'] / 1000\n",
    "good_data['airports_nearest_km'] = around_the(good_data['airports_nearest_km'])"
   ]
  },
  {
   "cell_type": "markdown",
   "metadata": {},
   "source": [
    "- Добавила все необходимые столбцы, на основе которых буду строить дальнейшую аналитику\n",
    "- Так же округлила значения до целых чисел"
   ]
  },
  {
   "cell_type": "markdown",
   "metadata": {},
   "source": [
    "### Проведите исследовательский анализ данных"
   ]
  },
  {
   "cell_type": "code",
   "execution_count": 52,
   "metadata": {},
   "outputs": [
    {
     "data": {
      "text/html": [
       "<div>\n",
       "<style scoped>\n",
       "    .dataframe tbody tr th:only-of-type {\n",
       "        vertical-align: middle;\n",
       "    }\n",
       "\n",
       "    .dataframe tbody tr th {\n",
       "        vertical-align: top;\n",
       "    }\n",
       "\n",
       "    .dataframe thead th {\n",
       "        text-align: right;\n",
       "    }\n",
       "</style>\n",
       "<table border=\"1\" class=\"dataframe\">\n",
       "  <thead>\n",
       "    <tr style=\"text-align: right;\">\n",
       "      <th></th>\n",
       "      <th>total_images</th>\n",
       "      <th>last_price</th>\n",
       "      <th>total_area</th>\n",
       "      <th>rooms</th>\n",
       "      <th>ceiling_height</th>\n",
       "      <th>floors_total</th>\n",
       "      <th>living_area</th>\n",
       "      <th>floor</th>\n",
       "      <th>kitchen_area</th>\n",
       "      <th>balcony</th>\n",
       "      <th>...</th>\n",
       "      <th>parks_around_3000</th>\n",
       "      <th>parks_nearest</th>\n",
       "      <th>ponds_around_3000</th>\n",
       "      <th>ponds_nearest</th>\n",
       "      <th>days_exposition</th>\n",
       "      <th>price_per_sq</th>\n",
       "      <th>week_day</th>\n",
       "      <th>year</th>\n",
       "      <th>city_centers_nearest_km</th>\n",
       "      <th>airports_nearest_km</th>\n",
       "    </tr>\n",
       "  </thead>\n",
       "  <tbody>\n",
       "    <tr>\n",
       "      <th>count</th>\n",
       "      <td>21569.0</td>\n",
       "      <td>21569.0</td>\n",
       "      <td>21569.0</td>\n",
       "      <td>21569.0</td>\n",
       "      <td>13065.0</td>\n",
       "      <td>21569.0</td>\n",
       "      <td>19887.0</td>\n",
       "      <td>21569.0</td>\n",
       "      <td>19505.0</td>\n",
       "      <td>21569.0</td>\n",
       "      <td>...</td>\n",
       "      <td>16087.0</td>\n",
       "      <td>6698.0</td>\n",
       "      <td>16087.0</td>\n",
       "      <td>7741.0</td>\n",
       "      <td>18936.0</td>\n",
       "      <td>21569.0</td>\n",
       "      <td>21569.0</td>\n",
       "      <td>21569.0</td>\n",
       "      <td>16086.0</td>\n",
       "      <td>16075.0</td>\n",
       "    </tr>\n",
       "    <tr>\n",
       "      <th>mean</th>\n",
       "      <td>10.0</td>\n",
       "      <td>4831076.0</td>\n",
       "      <td>53.0</td>\n",
       "      <td>2.0</td>\n",
       "      <td>3.0</td>\n",
       "      <td>11.0</td>\n",
       "      <td>31.0</td>\n",
       "      <td>6.0</td>\n",
       "      <td>10.0</td>\n",
       "      <td>1.0</td>\n",
       "      <td>...</td>\n",
       "      <td>1.0</td>\n",
       "      <td>488.0</td>\n",
       "      <td>1.0</td>\n",
       "      <td>531.0</td>\n",
       "      <td>173.0</td>\n",
       "      <td>91859.0</td>\n",
       "      <td>3.0</td>\n",
       "      <td>2017.0</td>\n",
       "      <td>15.0</td>\n",
       "      <td>29.0</td>\n",
       "    </tr>\n",
       "    <tr>\n",
       "      <th>std</th>\n",
       "      <td>6.0</td>\n",
       "      <td>2205596.0</td>\n",
       "      <td>19.0</td>\n",
       "      <td>1.0</td>\n",
       "      <td>0.0</td>\n",
       "      <td>7.0</td>\n",
       "      <td>13.0</td>\n",
       "      <td>5.0</td>\n",
       "      <td>4.0</td>\n",
       "      <td>1.0</td>\n",
       "      <td>...</td>\n",
       "      <td>1.0</td>\n",
       "      <td>327.0</td>\n",
       "      <td>1.0</td>\n",
       "      <td>277.0</td>\n",
       "      <td>211.0</td>\n",
       "      <td>29519.0</td>\n",
       "      <td>2.0</td>\n",
       "      <td>1.0</td>\n",
       "      <td>9.0</td>\n",
       "      <td>13.0</td>\n",
       "    </tr>\n",
       "    <tr>\n",
       "      <th>min</th>\n",
       "      <td>0.0</td>\n",
       "      <td>430000.0</td>\n",
       "      <td>12.0</td>\n",
       "      <td>0.0</td>\n",
       "      <td>1.0</td>\n",
       "      <td>0.0</td>\n",
       "      <td>2.0</td>\n",
       "      <td>1.0</td>\n",
       "      <td>1.0</td>\n",
       "      <td>0.0</td>\n",
       "      <td>...</td>\n",
       "      <td>0.0</td>\n",
       "      <td>1.0</td>\n",
       "      <td>0.0</td>\n",
       "      <td>16.0</td>\n",
       "      <td>1.0</td>\n",
       "      <td>7963.0</td>\n",
       "      <td>0.0</td>\n",
       "      <td>2014.0</td>\n",
       "      <td>0.0</td>\n",
       "      <td>0.0</td>\n",
       "    </tr>\n",
       "    <tr>\n",
       "      <th>25%</th>\n",
       "      <td>6.0</td>\n",
       "      <td>3300000.0</td>\n",
       "      <td>39.0</td>\n",
       "      <td>1.0</td>\n",
       "      <td>2.0</td>\n",
       "      <td>5.0</td>\n",
       "      <td>18.0</td>\n",
       "      <td>2.0</td>\n",
       "      <td>7.0</td>\n",
       "      <td>0.0</td>\n",
       "      <td>...</td>\n",
       "      <td>0.0</td>\n",
       "      <td>289.0</td>\n",
       "      <td>0.0</td>\n",
       "      <td>315.0</td>\n",
       "      <td>44.0</td>\n",
       "      <td>74444.0</td>\n",
       "      <td>1.0</td>\n",
       "      <td>2017.0</td>\n",
       "      <td>11.0</td>\n",
       "      <td>18.0</td>\n",
       "    </tr>\n",
       "    <tr>\n",
       "      <th>50%</th>\n",
       "      <td>9.0</td>\n",
       "      <td>4400000.0</td>\n",
       "      <td>49.0</td>\n",
       "      <td>2.0</td>\n",
       "      <td>3.0</td>\n",
       "      <td>9.0</td>\n",
       "      <td>29.0</td>\n",
       "      <td>4.0</td>\n",
       "      <td>9.0</td>\n",
       "      <td>0.0</td>\n",
       "      <td>...</td>\n",
       "      <td>0.0</td>\n",
       "      <td>456.0</td>\n",
       "      <td>0.0</td>\n",
       "      <td>520.0</td>\n",
       "      <td>91.0</td>\n",
       "      <td>92475.0</td>\n",
       "      <td>3.0</td>\n",
       "      <td>2017.0</td>\n",
       "      <td>14.0</td>\n",
       "      <td>27.0</td>\n",
       "    </tr>\n",
       "    <tr>\n",
       "      <th>75%</th>\n",
       "      <td>14.0</td>\n",
       "      <td>5999000.0</td>\n",
       "      <td>63.0</td>\n",
       "      <td>3.0</td>\n",
       "      <td>3.0</td>\n",
       "      <td>16.0</td>\n",
       "      <td>39.0</td>\n",
       "      <td>8.0</td>\n",
       "      <td>11.0</td>\n",
       "      <td>1.0</td>\n",
       "      <td>...</td>\n",
       "      <td>1.0</td>\n",
       "      <td>613.0</td>\n",
       "      <td>1.0</td>\n",
       "      <td>741.0</td>\n",
       "      <td>219.0</td>\n",
       "      <td>109091.0</td>\n",
       "      <td>4.0</td>\n",
       "      <td>2018.0</td>\n",
       "      <td>17.0</td>\n",
       "      <td>38.0</td>\n",
       "    </tr>\n",
       "    <tr>\n",
       "      <th>max</th>\n",
       "      <td>50.0</td>\n",
       "      <td>11768000.0</td>\n",
       "      <td>230.0</td>\n",
       "      <td>7.0</td>\n",
       "      <td>8.0</td>\n",
       "      <td>60.0</td>\n",
       "      <td>127.0</td>\n",
       "      <td>33.0</td>\n",
       "      <td>64.0</td>\n",
       "      <td>5.0</td>\n",
       "      <td>...</td>\n",
       "      <td>3.0</td>\n",
       "      <td>3190.0</td>\n",
       "      <td>3.0</td>\n",
       "      <td>1344.0</td>\n",
       "      <td>1580.0</td>\n",
       "      <td>312240.0</td>\n",
       "      <td>6.0</td>\n",
       "      <td>2019.0</td>\n",
       "      <td>66.0</td>\n",
       "      <td>85.0</td>\n",
       "    </tr>\n",
       "  </tbody>\n",
       "</table>\n",
       "<p>8 rows × 22 columns</p>\n",
       "</div>"
      ],
      "text/plain": [
       "       total_images  last_price  total_area    rooms  ceiling_height  \\\n",
       "count       21569.0     21569.0     21569.0  21569.0         13065.0   \n",
       "mean           10.0   4831076.0        53.0      2.0             3.0   \n",
       "std             6.0   2205596.0        19.0      1.0             0.0   \n",
       "min             0.0    430000.0        12.0      0.0             1.0   \n",
       "25%             6.0   3300000.0        39.0      1.0             2.0   \n",
       "50%             9.0   4400000.0        49.0      2.0             3.0   \n",
       "75%            14.0   5999000.0        63.0      3.0             3.0   \n",
       "max            50.0  11768000.0       230.0      7.0             8.0   \n",
       "\n",
       "       floors_total  living_area    floor  kitchen_area  balcony  ...  \\\n",
       "count       21569.0      19887.0  21569.0       19505.0  21569.0  ...   \n",
       "mean           11.0         31.0      6.0          10.0      1.0  ...   \n",
       "std             7.0         13.0      5.0           4.0      1.0  ...   \n",
       "min             0.0          2.0      1.0           1.0      0.0  ...   \n",
       "25%             5.0         18.0      2.0           7.0      0.0  ...   \n",
       "50%             9.0         29.0      4.0           9.0      0.0  ...   \n",
       "75%            16.0         39.0      8.0          11.0      1.0  ...   \n",
       "max            60.0        127.0     33.0          64.0      5.0  ...   \n",
       "\n",
       "       parks_around_3000  parks_nearest  ponds_around_3000  ponds_nearest  \\\n",
       "count            16087.0         6698.0            16087.0         7741.0   \n",
       "mean                 1.0          488.0                1.0          531.0   \n",
       "std                  1.0          327.0                1.0          277.0   \n",
       "min                  0.0            1.0                0.0           16.0   \n",
       "25%                  0.0          289.0                0.0          315.0   \n",
       "50%                  0.0          456.0                0.0          520.0   \n",
       "75%                  1.0          613.0                1.0          741.0   \n",
       "max                  3.0         3190.0                3.0         1344.0   \n",
       "\n",
       "       days_exposition  price_per_sq  week_day     year  \\\n",
       "count          18936.0       21569.0   21569.0  21569.0   \n",
       "mean             173.0       91859.0       3.0   2017.0   \n",
       "std              211.0       29519.0       2.0      1.0   \n",
       "min                1.0        7963.0       0.0   2014.0   \n",
       "25%               44.0       74444.0       1.0   2017.0   \n",
       "50%               91.0       92475.0       3.0   2017.0   \n",
       "75%              219.0      109091.0       4.0   2018.0   \n",
       "max             1580.0      312240.0       6.0   2019.0   \n",
       "\n",
       "       city_centers_nearest_km  airports_nearest_km  \n",
       "count                  16086.0              16075.0  \n",
       "mean                      15.0                 29.0  \n",
       "std                        9.0                 13.0  \n",
       "min                        0.0                  0.0  \n",
       "25%                       11.0                 18.0  \n",
       "50%                       14.0                 27.0  \n",
       "75%                       17.0                 38.0  \n",
       "max                       66.0                 85.0  \n",
       "\n",
       "[8 rows x 22 columns]"
      ]
     },
     "execution_count": 52,
     "metadata": {},
     "output_type": "execute_result"
    }
   ],
   "source": [
    "around_the(good_data.describe())"
   ]
  },
  {
   "cell_type": "code",
   "execution_count": 53,
   "metadata": {},
   "outputs": [
    {
     "data": {
      "image/png": "[encoded data removed]",
      "text/plain": [
       "<Figure size 1080x432 with 1 Axes>"
      ]
     },
     "metadata": {
      "needs_background": "light"
     },
     "output_type": "display_data"
    }
   ],
   "source": [
    "good_data['total_area'].value_counts().plot(kind='hist', ylim=(0,200), bins=100, grid=True, figsize=(15,6));"
   ]
  },
  {
   "cell_type": "markdown",
   "metadata": {},
   "source": [
    "- В основном, продаются квартиры с общей площадью в 49 квадратных метров.\n",
    "- Объявления с общей площадью выше 63 метров кывдратных, встречаются гораздо реже."
   ]
  },
  {
   "cell_type": "code",
   "execution_count": 54,
   "metadata": {},
   "outputs": [
    {
     "data": {
      "image/png": "[encoded data removed]",
      "text/plain": [
       "<Figure size 1080x432 with 1 Axes>"
      ]
     },
     "metadata": {
      "needs_background": "light"
     },
     "output_type": "display_data"
    }
   ],
   "source": [
    "good_data['living_area'].value_counts().plot(kind='hist', ylim=(0,140), bins=100, grid=True, figsize=(15,6));"
   ]
  },
  {
   "cell_type": "markdown",
   "metadata": {},
   "source": [
    "- Чаще всего, встречаются объявления с жилой площадью в 29 квадратных метров.\n",
    "- Объявления с жилой площадью выше 39 метров кывдратных, встречаются гораздо реже."
   ]
  },
  {
   "cell_type": "code",
   "execution_count": 55,
   "metadata": {},
   "outputs": [
    {
     "data": {
      "image/png": "[encoded data removed]",
      "text/plain": [
       "<Figure size 1080x432 with 1 Axes>"
      ]
     },
     "metadata": {
      "needs_background": "light"
     },
     "output_type": "display_data"
    }
   ],
   "source": [
    "good_data['kitchen_area'].value_counts().plot(kind='hist', ylim=(0,30), bins=100, grid=True, figsize=(15,6));"
   ]
  },
  {
   "cell_type": "markdown",
   "metadata": {},
   "source": [
    "- Стандартная величина площади кухни равна 9 метров квадр.\n",
    "- А вот кухни с площадью 11 м.кв можно встретить уже не так часто."
   ]
  },
  {
   "cell_type": "code",
   "execution_count": 56,
   "metadata": {},
   "outputs": [
    {
     "data": {
      "image/png": "[encoded data removed]",
      "text/plain": [
       "<Figure size 1080x432 with 1 Axes>"
      ]
     },
     "metadata": {
      "needs_background": "light"
     },
     "output_type": "display_data"
    }
   ],
   "source": [
    "good_data['last_price'].value_counts().plot(kind='hist', ylim=(0,100), bins=100, grid=True, figsize=(15,6));"
   ]
  },
  {
   "cell_type": "markdown",
   "metadata": {},
   "source": [
    "- Цены большинства квартир находятся в районе четрых с половиной т.руб. (4400000).\n",
    "- В то время, как рены выше 6000000 т.руб. встречаются уже гораздо реже"
   ]
  },
  {
   "cell_type": "code",
   "execution_count": 57,
   "metadata": {},
   "outputs": [
    {
     "data": {
      "image/png": "[encoded data removed]",
      "text/plain": [
       "<Figure size 1080x216 with 1 Axes>"
      ]
     },
     "metadata": {
      "needs_background": "light"
     },
     "output_type": "display_data"
    }
   ],
   "source": [
    "bins = good_data['rooms'].max()\n",
    "good_data['rooms'].value_counts().plot(kind='hist', ylim=(0,4), bins=bins, grid=True, figsize=(15,3));"
   ]
  },
  {
   "cell_type": "markdown",
   "metadata": {},
   "source": [
    "- пик графика приходится на объявления с двухкомнатными квартирвами"
   ]
  },
  {
   "cell_type": "code",
   "execution_count": 58,
   "metadata": {},
   "outputs": [
    {
     "data": {
      "image/png": "[encoded data removed]",
      "text/plain": [
       "<Figure size 1080x360 with 1 Axes>"
      ]
     },
     "metadata": {
      "needs_background": "light"
     },
     "output_type": "display_data"
    }
   ],
   "source": [
    "good_data['ceiling_height'].value_counts().plot(kind='hist', ylim=(0,15), bins=100, grid=True, figsize=(15,5));"
   ]
  },
  {
   "cell_type": "markdown",
   "metadata": {},
   "source": [
    "- Средняя высота потолков = 3 метра"
   ]
  },
  {
   "cell_type": "code",
   "execution_count": 59,
   "metadata": {},
   "outputs": [
    {
     "data": {
      "image/png": "[encoded data removed]",
      "text/plain": [
       "<Figure size 1080x288 with 1 Axes>"
      ]
     },
     "metadata": {
      "needs_background": "light"
     },
     "output_type": "display_data"
    }
   ],
   "source": [
    "good_data['floor'].value_counts().plot(kind='hist', ylim=(0,9), bins=100, grid=True, figsize=(15,4));"
   ]
  },
  {
   "cell_type": "markdown",
   "metadata": {},
   "source": [
    "- чаще всего продают квартиры на 4ом этаже\n",
    "- гораздо реже встречаются квартиры выше 8го этажа"
   ]
  },
  {
   "cell_type": "code",
   "execution_count": 60,
   "metadata": {},
   "outputs": [
    {
     "data": {
      "image/png": "[encoded data removed]",
      "text/plain": [
       "<Figure size 720x720 with 1 Axes>"
      ]
     },
     "metadata": {
      "needs_background": "light"
     },
     "output_type": "display_data"
    }
   ],
   "source": [
    "plot = good_data.boxplot('price_per_sq', by='type_floor',figsize=(10,10)).set_ylim(0,200000);"
   ]
  },
  {
   "cell_type": "markdown",
   "metadata": {},
   "source": [
    "- Квартиры на первом этаже стоят заметно дешевле, чем все остальные этажи."
   ]
  },
  {
   "cell_type": "code",
   "execution_count": 61,
   "metadata": {},
   "outputs": [
    {
     "data": {
      "image/png": "[encoded data removed]",
      "text/plain": [
       "<Figure size 1080x216 with 1 Axes>"
      ]
     },
     "metadata": {
      "needs_background": "light"
     },
     "output_type": "display_data"
    }
   ],
   "source": [
    "good_data['floors_total'].value_counts().plot(kind='hist', bins=100, grid=True, figsize=(15,3));"
   ]
  },
  {
   "cell_type": "markdown",
   "metadata": {},
   "source": [
    "Большая часть объявлений - девятиэтажные здания"
   ]
  },
  {
   "cell_type": "code",
   "execution_count": 62,
   "metadata": {},
   "outputs": [
    {
     "data": {
      "image/png": "[encoded data removed]",
      "text/plain": [
       "<Figure size 1080x576 with 1 Axes>"
      ]
     },
     "metadata": {
      "needs_background": "light"
     },
     "output_type": "display_data"
    }
   ],
   "source": [
    "good_data['city_сenters_nearest'].value_counts().plot(kind='hist', ylim=(0,1900), bins=100, grid=True, figsize=(15,8));"
   ]
  },
  {
   "cell_type": "markdown",
   "metadata": {},
   "source": [
    "- Мы видим, что у большинства объявлений, расстояние до центра города, не так велико. \n",
    "- Это может быть связано с тем, что мы обрабатываем не только крупный город Питер, но и мальеникие поселки, которые сами по себе небольшие, соответственно обьявления из Питера и из других городом, лучше оценивать отдельно, для получения полной картины."
   ]
  },
  {
   "cell_type": "code",
   "execution_count": 63,
   "metadata": {},
   "outputs": [
    {
     "data": {
      "image/png": "[encoded data removed]",
      "text/plain": [
       "<Figure size 1080x432 with 1 Axes>"
      ]
     },
     "metadata": {
      "needs_background": "light"
     },
     "output_type": "display_data"
    }
   ],
   "source": [
    "good_data['airports_nearest'].value_counts().plot(kind='hist', ylim=(0,1900), bins=100, grid=True, figsize=(15,6));"
   ]
  },
  {
   "cell_type": "markdown",
   "metadata": {},
   "source": [
    "- Тут большинсво данных из Питера и близлежащих городов, так как маленькие поселки почти не указывали данное значение в своих объявлениях."
   ]
  },
  {
   "cell_type": "code",
   "execution_count": 64,
   "metadata": {},
   "outputs": [
    {
     "data": {
      "image/png": "[encoded data removed]",
      "text/plain": [
       "<Figure size 1080x432 with 1 Axes>"
      ]
     },
     "metadata": {
      "needs_background": "light"
     },
     "output_type": "display_data"
    }
   ],
   "source": [
    "good_data['parks_nearest'].value_counts().plot(kind='hist', ylim=(0,100), bins=100, grid=True, figsize=(15,6));"
   ]
  },
  {
   "cell_type": "markdown",
   "metadata": {},
   "source": [
    "- Сейчас очень много парков и скверов, поэтому большинство недвижимости расположено недалеко от них.\n",
    "- Из графика явно выбиваются несколько значений, которые включать в аналитику мы тоже не будем."
   ]
  },
  {
   "cell_type": "code",
   "execution_count": 65,
   "metadata": {},
   "outputs": [
    {
     "data": {
      "image/png": "[encoded data removed]",
      "text/plain": [
       "<Figure size 720x720 with 1 Axes>"
      ]
     },
     "metadata": {
      "needs_background": "light"
     },
     "output_type": "display_data"
    }
   ],
   "source": [
    "plot = good_data.boxplot('price_per_sq', by='week_day',figsize=(10,10)).set_ylim(0,200000);"
   ]
  },
  {
   "cell_type": "markdown",
   "metadata": {},
   "source": [
    "- Из графика видно, что медианы по дням недели разнятся минимально, значит не важно в какой день недели выкладывать объявление."
   ]
  },
  {
   "cell_type": "code",
   "execution_count": 66,
   "metadata": {},
   "outputs": [
    {
     "data": {
      "image/png": "[encoded data removed]",
      "text/plain": [
       "<Figure size 720x720 with 1 Axes>"
      ]
     },
     "metadata": {
      "needs_background": "light"
     },
     "output_type": "display_data"
    }
   ],
   "source": [
    "plot = good_data.boxplot('price_per_sq', by='month',figsize=(10,10)).set_ylim(0,200000);"
   ]
  },
  {
   "cell_type": "markdown",
   "metadata": {},
   "source": [
    "- Ситуация практически идентичная с днями недели. Медианные значения цены за квадратный метр по месяцам, разнятся минимально.\n",
    "- Чуть хуже, чем все остальные месяца, показывает себя Июнь."
   ]
  },
  {
   "cell_type": "markdown",
   "metadata": {},
   "source": [
    "Среднестатистическая квартира выглядит так :\n",
    "- общая площадь - 49 м.кв.\n",
    "- цена - 4,4 миллиона рублей\n",
    "- двухкомнатная\n",
    "- 3 метра - высота потолков\n",
    "- в 9-ти этажном доме\n",
    "- на 4-ом этаже"
   ]
  },
  {
   "cell_type": "code",
   "execution_count": 67,
   "metadata": {},
   "outputs": [
    {
     "data": {
      "image/png": "[encoded data removed]",
      "text/plain": [
       "<Figure size 1080x360 with 1 Axes>"
      ]
     },
     "metadata": {
      "needs_background": "light"
     },
     "output_type": "display_data"
    }
   ],
   "source": [
    "bins = [0, 30, 90, 180, 365, 730, good_data.days_exposition.max()]\n",
    "good_data.days_exposition.hist(figsize=(15, 5), bins=bins)\n",
    "plt.xticks(bins);"
   ]
  },
  {
   "cell_type": "code",
   "execution_count": 68,
   "metadata": {},
   "outputs": [
    {
     "data": {
      "text/plain": [
       "count    18936.000000\n",
       "mean       172.983523\n",
       "std        211.434533\n",
       "min          1.000000\n",
       "25%         44.000000\n",
       "50%         91.000000\n",
       "75%        219.000000\n",
       "max       1580.000000\n",
       "Name: days_exposition, dtype: float64"
      ]
     },
     "execution_count": 68,
     "metadata": {},
     "output_type": "execute_result"
    }
   ],
   "source": [
    "good_data['days_exposition'].describe()"
   ]
  },
  {
   "cell_type": "markdown",
   "metadata": {},
   "source": [
    "- Как видно из графика, большинство квартир продаются в течении 50-100 дней, что, так же, подтверждает и медиана. На среднее статистическое значение влияют редкие случаи, когда квартиры продаются более 3000 дней (больше 8 лет).\n",
    "- К бвыстрым продажам, я бы отнесла, продажи квартир до 70 дней, а к необычно долгим все, что свыше 250 дней."
   ]
  },
  {
   "cell_type": "code",
   "execution_count": 69,
   "metadata": {},
   "outputs": [
    {
     "data": {
      "text/html": [
       "<style  type=\"text/css\" >\n",
       "#T_b0826_row0_col0,#T_b0826_row1_col1,#T_b0826_row2_col2,#T_b0826_row3_col3,#T_b0826_row4_col4,#T_b0826_row5_col5{\n",
       "            background-color:  #1a1a1a;\n",
       "            color:  #f1f1f1;\n",
       "        }#T_b0826_row0_col1,#T_b0826_row0_col2,#T_b0826_row0_col4,#T_b0826_row4_col0,#T_b0826_row4_col3,#T_b0826_row4_col5{\n",
       "            background-color:  #67001f;\n",
       "            color:  #f1f1f1;\n",
       "        }#T_b0826_row0_col3,#T_b0826_row5_col3{\n",
       "            background-color:  #cf5246;\n",
       "            color:  #000000;\n",
       "        }#T_b0826_row0_col5{\n",
       "            background-color:  #fac8af;\n",
       "            color:  #000000;\n",
       "        }#T_b0826_row1_col0{\n",
       "            background-color:  #b61f2e;\n",
       "            color:  #f1f1f1;\n",
       "        }#T_b0826_row1_col2{\n",
       "            background-color:  #404040;\n",
       "            color:  #f1f1f1;\n",
       "        }#T_b0826_row1_col3{\n",
       "            background-color:  #fddbc7;\n",
       "            color:  #000000;\n",
       "        }#T_b0826_row1_col4{\n",
       "            background-color:  #6e6e6e;\n",
       "            color:  #000000;\n",
       "        }#T_b0826_row1_col5{\n",
       "            background-color:  #b72230;\n",
       "            color:  #f1f1f1;\n",
       "        }#T_b0826_row2_col0,#T_b0826_row5_col4{\n",
       "            background-color:  #870a24;\n",
       "            color:  #f1f1f1;\n",
       "        }#T_b0826_row2_col1{\n",
       "            background-color:  #424242;\n",
       "            color:  #f1f1f1;\n",
       "        }#T_b0826_row2_col3{\n",
       "            background-color:  #b41c2d;\n",
       "            color:  #f1f1f1;\n",
       "        }#T_b0826_row2_col4{\n",
       "            background-color:  #464646;\n",
       "            color:  #f1f1f1;\n",
       "        }#T_b0826_row2_col5,#T_b0826_row5_col2{\n",
       "            background-color:  #7c0722;\n",
       "            color:  #f1f1f1;\n",
       "        }#T_b0826_row3_col0{\n",
       "            background-color:  #facab1;\n",
       "            color:  #000000;\n",
       "        }#T_b0826_row3_col1{\n",
       "            background-color:  #fff7f3;\n",
       "            color:  #000000;\n",
       "        }#T_b0826_row3_col2{\n",
       "            background-color:  #ee9677;\n",
       "            color:  #000000;\n",
       "        }#T_b0826_row3_col4{\n",
       "            background-color:  #de735c;\n",
       "            color:  #000000;\n",
       "        }#T_b0826_row3_col5{\n",
       "            background-color:  #f7b99c;\n",
       "            color:  #000000;\n",
       "        }#T_b0826_row4_col1{\n",
       "            background-color:  #797979;\n",
       "            color:  #000000;\n",
       "        }#T_b0826_row4_col2{\n",
       "            background-color:  #484848;\n",
       "            color:  #f1f1f1;\n",
       "        }#T_b0826_row5_col0{\n",
       "            background-color:  #fcd7c2;\n",
       "            color:  #000000;\n",
       "        }#T_b0826_row5_col1{\n",
       "            background-color:  #8a0b25;\n",
       "            color:  #f1f1f1;\n",
       "        }</style><table id=\"T_b0826_\" ><thead>    <tr>        <th class=\"blank level0\" ></th>        <th class=\"col_heading level0 col0\" >price_per_sq</th>        <th class=\"col_heading level0 col1\" >total_area</th>        <th class=\"col_heading level0 col2\" >living_area</th>        <th class=\"col_heading level0 col3\" >kitchen_area</th>        <th class=\"col_heading level0 col4\" >rooms</th>        <th class=\"col_heading level0 col5\" >floor</th>    </tr></thead><tbody>\n",
       "                <tr>\n",
       "                        <th id=\"T_b0826_level0_row0\" class=\"row_heading level0 row0\" >price_per_sq</th>\n",
       "                        <td id=\"T_b0826_row0_col0\" class=\"data row0 col0\" >1.000000</td>\n",
       "                        <td id=\"T_b0826_row0_col1\" class=\"data row0 col1\" >-0.099000</td>\n",
       "                        <td id=\"T_b0826_row0_col2\" class=\"data row0 col2\" >-0.181532</td>\n",
       "                        <td id=\"T_b0826_row0_col3\" class=\"data row0 col3\" >0.217425</td>\n",
       "                        <td id=\"T_b0826_row0_col4\" class=\"data row0 col4\" >-0.238733</td>\n",
       "                        <td id=\"T_b0826_row0_col5\" class=\"data row0 col5\" >0.249092</td>\n",
       "            </tr>\n",
       "            <tr>\n",
       "                        <th id=\"T_b0826_level0_row1\" class=\"row_heading level0 row1\" >total_area</th>\n",
       "                        <td id=\"T_b0826_row1_col0\" class=\"data row1 col0\" >-0.099000</td>\n",
       "                        <td id=\"T_b0826_row1_col1\" class=\"data row1 col1\" >1.000000</td>\n",
       "                        <td id=\"T_b0826_row1_col2\" class=\"data row1 col2\" >0.911840</td>\n",
       "                        <td id=\"T_b0826_row1_col3\" class=\"data row1 col3\" >0.426316</td>\n",
       "                        <td id=\"T_b0826_row1_col4\" class=\"data row1 col4\" >0.803683</td>\n",
       "                        <td id=\"T_b0826_row1_col5\" class=\"data row1 col5\" >-0.045987</td>\n",
       "            </tr>\n",
       "            <tr>\n",
       "                        <th id=\"T_b0826_level0_row2\" class=\"row_heading level0 row2\" >living_area</th>\n",
       "                        <td id=\"T_b0826_row2_col0\" class=\"data row2 col0\" >-0.181532</td>\n",
       "                        <td id=\"T_b0826_row2_col1\" class=\"data row2 col1\" >0.911840</td>\n",
       "                        <td id=\"T_b0826_row2_col2\" class=\"data row2 col2\" >1.000000</td>\n",
       "                        <td id=\"T_b0826_row2_col3\" class=\"data row2 col3\" >0.146861</td>\n",
       "                        <td id=\"T_b0826_row2_col4\" class=\"data row2 col4\" >0.890849</td>\n",
       "                        <td id=\"T_b0826_row2_col5\" class=\"data row2 col5\" >-0.148365</td>\n",
       "            </tr>\n",
       "            <tr>\n",
       "                        <th id=\"T_b0826_level0_row3\" class=\"row_heading level0 row3\" >kitchen_area</th>\n",
       "                        <td id=\"T_b0826_row3_col0\" class=\"data row3 col0\" >0.217425</td>\n",
       "                        <td id=\"T_b0826_row3_col1\" class=\"data row3 col1\" >0.426316</td>\n",
       "                        <td id=\"T_b0826_row3_col2\" class=\"data row3 col2\" >0.146861</td>\n",
       "                        <td id=\"T_b0826_row3_col3\" class=\"data row3 col3\" >1.000000</td>\n",
       "                        <td id=\"T_b0826_row3_col4\" class=\"data row3 col4\" >0.045154</td>\n",
       "                        <td id=\"T_b0826_row3_col5\" class=\"data row3 col5\" >0.217260</td>\n",
       "            </tr>\n",
       "            <tr>\n",
       "                        <th id=\"T_b0826_level0_row4\" class=\"row_heading level0 row4\" >rooms</th>\n",
       "                        <td id=\"T_b0826_row4_col0\" class=\"data row4 col0\" >-0.238733</td>\n",
       "                        <td id=\"T_b0826_row4_col1\" class=\"data row4 col1\" >0.803683</td>\n",
       "                        <td id=\"T_b0826_row4_col2\" class=\"data row4 col2\" >0.890849</td>\n",
       "                        <td id=\"T_b0826_row4_col3\" class=\"data row4 col3\" >0.045154</td>\n",
       "                        <td id=\"T_b0826_row4_col4\" class=\"data row4 col4\" >1.000000</td>\n",
       "                        <td id=\"T_b0826_row4_col5\" class=\"data row4 col5\" >-0.182234</td>\n",
       "            </tr>\n",
       "            <tr>\n",
       "                        <th id=\"T_b0826_level0_row5\" class=\"row_heading level0 row5\" >floor</th>\n",
       "                        <td id=\"T_b0826_row5_col0\" class=\"data row5 col0\" >0.249092</td>\n",
       "                        <td id=\"T_b0826_row5_col1\" class=\"data row5 col1\" >-0.045987</td>\n",
       "                        <td id=\"T_b0826_row5_col2\" class=\"data row5 col2\" >-0.148365</td>\n",
       "                        <td id=\"T_b0826_row5_col3\" class=\"data row5 col3\" >0.217260</td>\n",
       "                        <td id=\"T_b0826_row5_col4\" class=\"data row5 col4\" >-0.182234</td>\n",
       "                        <td id=\"T_b0826_row5_col5\" class=\"data row5 col5\" >1.000000</td>\n",
       "            </tr>\n",
       "    </tbody></table>"
      ],
      "text/plain": [
       "<pandas.io.formats.style.Styler at 0x7fb085469ac0>"
      ]
     },
     "execution_count": 69,
     "metadata": {},
     "output_type": "execute_result"
    }
   ],
   "source": [
    "corr = good_data[['price_per_sq',\n",
    "           'total_area',\n",
    "           'living_area',\n",
    "           'kitchen_area',\n",
    "           'rooms',\n",
    "           'floor',\n",
    "           'type_floor']].corr()\n",
    "corr.style.background_gradient(cmap='RdGy') # строю таблицу корреляции"
   ]
  },
  {
   "cell_type": "markdown",
   "metadata": {},
   "source": [
    "- Из таблицы видно, что на цену квадратного метра недвижимости, больше всего, влияет этаж, на котором она расположена.\n",
    "- Так же очень важна площадь кухни."
   ]
  },
  {
   "cell_type": "code",
   "execution_count": 70,
   "metadata": {},
   "outputs": [],
   "source": [
    "data_exposition = good_data.query('days_exposition > 0') # создаю выборку по недвижимости, которая уже продана"
   ]
  },
  {
   "cell_type": "code",
   "execution_count": 71,
   "metadata": {},
   "outputs": [
    {
     "data": {
      "image/png": "[encoded data removed]",
      "text/plain": [
       "<Figure size 1008x720 with 1 Axes>"
      ]
     },
     "metadata": {
      "needs_background": "light"
     },
     "output_type": "display_data"
    }
   ],
   "source": [
    "plot = data_exposition.boxplot('price_per_sq', by='week_day',figsize=(14,10)).set_ylim(0,200000)"
   ]
  },
  {
   "cell_type": "markdown",
   "metadata": {},
   "source": [
    "- Четкой связи стоимомти квадратного метра жилья с днем недели нет."
   ]
  },
  {
   "cell_type": "code",
   "execution_count": 72,
   "metadata": {},
   "outputs": [
    {
     "data": {
      "image/png": "[encoded data removed]",
      "text/plain": [
       "<Figure size 1008x720 with 1 Axes>"
      ]
     },
     "metadata": {
      "needs_background": "light"
     },
     "output_type": "display_data"
    }
   ],
   "source": [
    "plot = data_exposition.boxplot('price_per_sq', by='month',figsize=(14,10)).set_ylim(0,200000)"
   ]
  },
  {
   "cell_type": "markdown",
   "metadata": {},
   "source": [
    "- В июле, августе, январе, сентябре и ноябре - стоимость кв.м. немного возрастает, но четкой кореляции между стоимостью кв.м. и месяцами года нет."
   ]
  },
  {
   "cell_type": "code",
   "execution_count": 73,
   "metadata": {},
   "outputs": [
    {
     "data": {
      "image/png": "[encoded data removed]",
      "text/plain": [
       "<Figure size 1008x720 with 1 Axes>"
      ]
     },
     "metadata": {
      "needs_background": "light"
     },
     "output_type": "display_data"
    }
   ],
   "source": [
    "plot = data_exposition.boxplot('price_per_sq', by='year',figsize=(14,10)).set_ylim(0,200000)"
   ]
  },
  {
   "cell_type": "markdown",
   "metadata": {},
   "source": [
    "Совсем другое дело с годами: \n",
    "- Здесь четко прослеживается падение стоимости жилья уже в 2015ом году\n",
    "- И рост цен уже с 2017 года с пиком в 2019ом году.\n",
    "- Что вполне коррелирует с экономикой РФ."
   ]
  },
  {
   "cell_type": "code",
   "execution_count": 74,
   "metadata": {},
   "outputs": [
    {
     "data": {
      "image/png": "[encoded data removed]",
      "text/plain": [
       "<Figure size 1008x720 with 1 Axes>"
      ]
     },
     "metadata": {
      "needs_background": "light"
     },
     "output_type": "display_data"
    }
   ],
   "source": [
    "plot = data_exposition.boxplot('price_per_sq', by='type_floor',figsize=(14,10)).set_ylim(0,200000)"
   ]
  },
  {
   "cell_type": "markdown",
   "metadata": {},
   "source": [
    "- Отчетливо видна связь стоимости квадратного метра недвижимости с тем, на какаом этаже она расположена.\n",
    "- Первый этаж очень удешевляет квартиру.\n",
    "- Чуть меньше дешевит квартиру расположение на последнем этаже.\n",
    "- Комфортнее всего в цене, чувствуют себя квартиры, находящиеся между первым и последним этажами."
   ]
  },
  {
   "cell_type": "code",
   "execution_count": 75,
   "metadata": {},
   "outputs": [
    {
     "data": {
      "text/html": [
       "<div>\n",
       "<style scoped>\n",
       "    .dataframe tbody tr th:only-of-type {\n",
       "        vertical-align: middle;\n",
       "    }\n",
       "\n",
       "    .dataframe tbody tr th {\n",
       "        vertical-align: top;\n",
       "    }\n",
       "\n",
       "    .dataframe thead th {\n",
       "        text-align: right;\n",
       "    }\n",
       "</style>\n",
       "<table border=\"1\" class=\"dataframe\">\n",
       "  <thead>\n",
       "    <tr style=\"text-align: right;\">\n",
       "      <th></th>\n",
       "      <th>price_per_sq</th>\n",
       "    </tr>\n",
       "    <tr>\n",
       "      <th>locality_name</th>\n",
       "      <th></th>\n",
       "    </tr>\n",
       "  </thead>\n",
       "  <tbody>\n",
       "    <tr>\n",
       "      <th>санкт-петербург</th>\n",
       "      <td>105385.0</td>\n",
       "    </tr>\n",
       "    <tr>\n",
       "      <th>поселок лисий нос</th>\n",
       "      <td>100661.0</td>\n",
       "    </tr>\n",
       "  </tbody>\n",
       "</table>\n",
       "</div>"
      ],
      "text/plain": [
       "                   price_per_sq\n",
       "locality_name                  \n",
       "санкт-петербург        105385.0\n",
       "поселок лисий нос      100661.0"
      ]
     },
     "execution_count": 75,
     "metadata": {},
     "output_type": "execute_result"
    }
   ],
   "source": [
    "good_data.groupby('locality_name').agg({'price_per_sq':'mean'}).sort_values(by='price_per_sq', ascending=False).round().head(2)"
   ]
  },
  {
   "cell_type": "markdown",
   "metadata": {},
   "source": [
    "- самая высокая стоимость квадратного метра встречается в Зеленогорске."
   ]
  },
  {
   "cell_type": "code",
   "execution_count": 76,
   "metadata": {},
   "outputs": [
    {
     "data": {
      "text/html": [
       "<div>\n",
       "<style scoped>\n",
       "    .dataframe tbody tr th:only-of-type {\n",
       "        vertical-align: middle;\n",
       "    }\n",
       "\n",
       "    .dataframe tbody tr th {\n",
       "        vertical-align: top;\n",
       "    }\n",
       "\n",
       "    .dataframe thead th {\n",
       "        text-align: right;\n",
       "    }\n",
       "</style>\n",
       "<table border=\"1\" class=\"dataframe\">\n",
       "  <thead>\n",
       "    <tr style=\"text-align: right;\">\n",
       "      <th></th>\n",
       "      <th>price_per_sq</th>\n",
       "    </tr>\n",
       "    <tr>\n",
       "      <th>locality_name</th>\n",
       "      <th></th>\n",
       "    </tr>\n",
       "  </thead>\n",
       "  <tbody>\n",
       "    <tr>\n",
       "      <th>поселок свирь</th>\n",
       "      <td>11481.0</td>\n",
       "    </tr>\n",
       "    <tr>\n",
       "      <th>деревня старополье</th>\n",
       "      <td>11206.0</td>\n",
       "    </tr>\n",
       "  </tbody>\n",
       "</table>\n",
       "</div>"
      ],
      "text/plain": [
       "                    price_per_sq\n",
       "locality_name                   \n",
       "поселок свирь            11481.0\n",
       "деревня старополье       11206.0"
      ]
     },
     "execution_count": 76,
     "metadata": {},
     "output_type": "execute_result"
    }
   ],
   "source": [
    "good_data.groupby('locality_name').agg({'price_per_sq':'mean'}).sort_values(by='price_per_sq', ascending=False).round().tail(2)"
   ]
  },
  {
   "cell_type": "markdown",
   "metadata": {},
   "source": [
    "- самая низкая стоимость квадратного метра встречается в деревне Старопополье."
   ]
  },
  {
   "cell_type": "code",
   "execution_count": 77,
   "metadata": {},
   "outputs": [
    {
     "data": {
      "text/plain": [
       "locality_name\n",
       "санкт-петербург      13711\n",
       "поселок мурино         556\n",
       "поселок шушары         440\n",
       "всеволожск             397\n",
       "пушкин                 338\n",
       "колпино                336\n",
       "поселок парголово      327\n",
       "гатчина                305\n",
       "деревня кудрово        298\n",
       "выборг                 236\n",
       "Name: price_per_sq, dtype: int64"
      ]
     },
     "execution_count": 77,
     "metadata": {},
     "output_type": "execute_result"
    }
   ],
   "source": [
    "good_data.groupby('locality_name')['price_per_sq'].count().sort_values(ascending=False).head(10) # 10 населенных пунктов с наибольшим кол-вом объявлений"
   ]
  },
  {
   "cell_type": "code",
   "execution_count": 78,
   "metadata": {},
   "outputs": [
    {
     "name": "stdout",
     "output_type": "stream",
     "text": [
      "                   count  price_per_sq\n",
      "locality_name                         \n",
      "санкт-петербург    13711      105385.0\n",
      "поселок мурино       556       85682.0\n",
      "поселок шушары       440       78677.0\n",
      "всеволожск           397       67214.0\n",
      "пушкин               338      100291.0\n",
      "колпино              336       75185.0\n",
      "поселок парголово    327       90176.0\n",
      "гатчина              305       68422.0\n",
      "деревня кудрово      298       92410.0\n",
      "выборг               236       57933.0\n"
     ]
    }
   ],
   "source": [
    "top_10_local = good_data.groupby('locality_name').agg({'locality_name':'count','price_per_sq':'mean'})\n",
    "top_10_local.columns = ['count', 'price_per_sq']\n",
    "top_10_local = top_10_local.sort_values('count', ascending=False).round().head(10)\n",
    "print(top_10_local) # добавила стоимость квадратного метра к топ 10 насел. пунктам по кол=ву объявлений"
   ]
  },
  {
   "cell_type": "markdown",
   "metadata": {},
   "source": [
    "- Как видно из расчета, больше всего квартир продается именно в Питере и близлежащик к мнему городах/ поселках\n",
    "- Цена за кв.м. в большинстве из этих населенных пунктах находится ниже медианы (92475.0)"
   ]
  },
  {
   "cell_type": "code",
   "execution_count": 79,
   "metadata": {},
   "outputs": [
    {
     "name": "stdout",
     "output_type": "stream",
     "text": [
      "                         price_per_sq\n",
      "city_centers_nearest_km              \n",
      "0.0                          119158.0\n",
      "1.0                          119578.0\n",
      "2.0                          113551.0\n",
      "3.0                          109104.0\n",
      "4.0                          113717.0\n",
      "5.0                          119637.0\n",
      "6.0                          121855.0\n",
      "7.0                          116454.0\n",
      "8.0                          115527.0\n",
      "9.0                          106554.0\n",
      "10.0                         108256.0\n",
      "11.0                         104215.0\n",
      "12.0                         105704.0\n",
      "13.0                         106177.0\n",
      "14.0                         103374.0\n",
      "15.0                         102264.0\n",
      "16.0                          99406.0\n",
      "17.0                          95240.0\n",
      "18.0                          96025.0\n",
      "19.0                          97289.0\n"
     ]
    }
   ],
   "source": [
    "city_centers_stats = good_data.query('locality_name == \"санкт-петербург\"') # делаю срез по питеру\n",
    "city_centers_good = city_centers_stats.pivot_table(index='city_centers_nearest_km', values='price_per_sq').round()\n",
    "print(city_centers_good.head(20)) # вывожу удаленность от аэропорта и цену за м.кв."
   ]
  },
  {
   "cell_type": "code",
   "execution_count": 80,
   "metadata": {},
   "outputs": [
    {
     "name": "stdout",
     "output_type": "stream",
     "text": [
      "-0.2792460919462411\n"
     ]
    }
   ],
   "source": [
    "print(city_centers_stats['city_centers_nearest_km'].corr(city_centers_stats['price_per_sq'])) # расчитываю корреляцию"
   ]
  },
  {
   "cell_type": "code",
   "execution_count": 81,
   "metadata": {},
   "outputs": [
    {
     "data": {
      "text/plain": [
       "Text(0, 0.5, 'city_centers_nearest_km')"
      ]
     },
     "execution_count": 81,
     "metadata": {},
     "output_type": "execute_result"
    },
    {
     "data": {
      "image/png": "[encoded data removed]",
      "text/plain": [
       "<Figure size 1008x432 with 2 Axes>"
      ]
     },
     "metadata": {
      "needs_background": "light"
     },
     "output_type": "display_data"
    }
   ],
   "source": [
    "fig, ax = plt.subplots(2, figsize=(14, 6));\n",
    "ax[0].scatter(x = good_data['city_centers_nearest_km'], y = good_data['price_per_sq'])\n",
    "ax[0].set_xlabel(\"city_centers_nearest_km\")\n",
    "ax[0].set_ylabel(\"price_per_sq\")\n",
    "\n",
    "ax[1].scatter(x = good_data['price_per_sq'], y = good_data['city_centers_nearest_km'])\n",
    "ax[1].set_xlabel(\"price_per_sq\")\n",
    "ax[1].set_ylabel(\"city_centers_nearest_km\")"
   ]
  },
  {
   "cell_type": "markdown",
   "metadata": {},
   "source": [
    "- Из расчетов и графиков видна отрицательная корреляция между стоимостью квадратного метра и удаленностью от центра города.\n",
    "- Логично, что чем дальше от центра города находится квартира, тем дешевле она будет стоить."
   ]
  },
  {
   "cell_type": "markdown",
   "metadata": {},
   "source": [
    "### Общий вывод"
   ]
  },
  {
   "cell_type": "markdown",
   "metadata": {},
   "source": [
    "#### В ходе исследования: \n",
    "- На начальном этапе я проверила данные на дубликаты (явные и не явные). Удалила их из датасета.\n",
    "- Устранила пропуски в данных, где это было возможно.\n",
    "- Изменила тип некоторых данных, для удобства анализа.\n",
    "- Нашла и устранила аномалии в данных.\n",
    "- Рассчитала и добавила новые столбцы, которые понадобятся для последующего анализа.\n",
    "- Проанализировала основные данные недвижимости в Питере и районе.\n",
    "- Построила гистограммы для каждого параметра.\n",
    "- Изучила как быстро продавались квартиры и какие факторы влияют на стоимость объекта. \n",
    "- Рассчитала среднюю цену одного квадратного метра в 10 населённых пунктах с наибольшим числом объявлений.\n",
    " \n",
    "#### На основе проведенного мною анализа, пришла к следующим выводам\n",
    "- Самая высока cтоимость жилья, не в самом Питере, а в близлежащем городе Зеленогорске. Возможно там находятся какие-то элитные дома, поэтому и стоимость гораздо выше.\n",
    "- Самые дешевые предложения можно найти в деревне Старополье. \n",
    "- Стоимость жилья дешевеет в зависимости от удаленности от центра города. \n",
    "- Так же более дешевими считаются квартиры на первом этаже.\n",
    "- Не важно в какой день недели или месяц выкладывать объявление, зато ОЧЕНЬ важен год. С каждым годом, начиная с 2017, квартиры только дорожают.\n",
    "- Квартиры, чаще всего, продаются за 91 день.\n",
    "- Самый бюджетный вариант квартиры выглядит следующим образом : квартира на первом этаже, в деревне Старополье.\n",
    "- Самый дорогой вариант - недвижимость в Зеленогорске, в центре города."
   ]
  }
 ],
 "metadata": {
  "ExecuteTimeLog": [
   {
    "duration": 523,
    "start_time": "2022-10-11T16:24:57.358Z"
   },
   {
    "duration": 191,
    "start_time": "2022-10-11T16:25:40.914Z"
   },
   {
    "duration": 119,
    "start_time": "2022-10-11T16:25:55.603Z"
   },
   {
    "duration": 108,
    "start_time": "2022-10-11T16:26:05.425Z"
   },
   {
    "duration": 2464,
    "start_time": "2022-10-11T16:28:12.431Z"
   },
   {
    "duration": 14,
    "start_time": "2022-10-11T16:55:39.011Z"
   },
   {
    "duration": 19,
    "start_time": "2022-10-11T17:20:40.810Z"
   },
   {
    "duration": 8,
    "start_time": "2022-10-11T17:20:48.992Z"
   },
   {
    "duration": 46,
    "start_time": "2022-10-12T06:42:28.200Z"
   },
   {
    "duration": 2871,
    "start_time": "2022-10-12T06:42:31.686Z"
   },
   {
    "duration": 15,
    "start_time": "2022-10-12T06:42:40.859Z"
   },
   {
    "duration": 18,
    "start_time": "2022-10-12T06:43:13.475Z"
   },
   {
    "duration": 408,
    "start_time": "2022-10-13T10:09:20.470Z"
   },
   {
    "duration": 324,
    "start_time": "2022-10-13T10:09:22.940Z"
   },
   {
    "duration": 16,
    "start_time": "2022-10-13T10:09:25.540Z"
   },
   {
    "duration": 2172,
    "start_time": "2022-10-13T10:09:28.703Z"
   },
   {
    "duration": 15,
    "start_time": "2022-10-13T10:17:20.585Z"
   },
   {
    "duration": 8,
    "start_time": "2022-10-13T10:17:24.271Z"
   },
   {
    "duration": 7,
    "start_time": "2022-10-13T12:21:15.345Z"
   },
   {
    "duration": 5,
    "start_time": "2022-10-13T12:21:45.865Z"
   },
   {
    "duration": 7,
    "start_time": "2022-10-13T12:22:57.744Z"
   },
   {
    "duration": 9,
    "start_time": "2022-10-13T12:26:05.084Z"
   },
   {
    "duration": 80,
    "start_time": "2022-10-13T12:28:34.679Z"
   },
   {
    "duration": 15,
    "start_time": "2022-10-13T12:28:42.826Z"
   },
   {
    "duration": 13,
    "start_time": "2022-10-13T13:25:58.915Z"
   },
   {
    "duration": 36,
    "start_time": "2022-10-13T13:26:15.921Z"
   },
   {
    "duration": 18,
    "start_time": "2022-10-13T13:26:57.824Z"
   },
   {
    "duration": 22,
    "start_time": "2022-10-13T13:27:26.024Z"
   },
   {
    "duration": 31,
    "start_time": "2022-10-13T13:35:49.620Z"
   },
   {
    "duration": 5,
    "start_time": "2022-10-13T13:39:14.433Z"
   },
   {
    "duration": 9,
    "start_time": "2022-10-13T13:39:42.416Z"
   },
   {
    "duration": 46,
    "start_time": "2022-10-13T16:36:26.354Z"
   },
   {
    "duration": 431,
    "start_time": "2022-10-13T16:36:39.559Z"
   },
   {
    "duration": 95,
    "start_time": "2022-10-13T16:36:39.992Z"
   },
   {
    "duration": 15,
    "start_time": "2022-10-13T16:36:40.088Z"
   },
   {
    "duration": 2102,
    "start_time": "2022-10-13T16:36:40.105Z"
   },
   {
    "duration": 13,
    "start_time": "2022-10-13T16:36:42.209Z"
   },
   {
    "duration": 7,
    "start_time": "2022-10-13T16:36:42.224Z"
   },
   {
    "duration": 6,
    "start_time": "2022-10-13T16:36:42.232Z"
   },
   {
    "duration": 35,
    "start_time": "2022-10-13T16:36:42.239Z"
   },
   {
    "duration": 24,
    "start_time": "2022-10-13T16:36:42.275Z"
   },
   {
    "duration": 10,
    "start_time": "2022-10-13T16:36:42.301Z"
   },
   {
    "duration": 82,
    "start_time": "2022-10-13T16:36:55.223Z"
   },
   {
    "duration": 19,
    "start_time": "2022-10-13T16:38:31.839Z"
   },
   {
    "duration": 47,
    "start_time": "2022-10-13T16:43:24.760Z"
   },
   {
    "duration": 25,
    "start_time": "2022-10-13T16:43:46.360Z"
   },
   {
    "duration": 18,
    "start_time": "2022-10-13T16:52:24.865Z"
   },
   {
    "duration": 30,
    "start_time": "2022-10-13T16:52:33.382Z"
   },
   {
    "duration": 11,
    "start_time": "2022-10-13T17:09:13.777Z"
   },
   {
    "duration": 14,
    "start_time": "2022-10-13T17:09:32.329Z"
   },
   {
    "duration": 34,
    "start_time": "2022-10-13T17:09:55.626Z"
   },
   {
    "duration": 22,
    "start_time": "2022-10-13T17:10:09.653Z"
   },
   {
    "duration": 24,
    "start_time": "2022-10-13T17:24:00.968Z"
   },
   {
    "duration": 43,
    "start_time": "2022-10-13T17:24:45.009Z"
   },
   {
    "duration": 19,
    "start_time": "2022-10-13T17:25:36.454Z"
   },
   {
    "duration": 41,
    "start_time": "2022-10-13T17:25:43.328Z"
   },
   {
    "duration": 21,
    "start_time": "2022-10-13T17:28:02.740Z"
   },
   {
    "duration": 20,
    "start_time": "2022-10-13T17:28:12.520Z"
   },
   {
    "duration": 18,
    "start_time": "2022-10-13T17:28:31.358Z"
   },
   {
    "duration": 20,
    "start_time": "2022-10-13T17:30:15.136Z"
   },
   {
    "duration": 10,
    "start_time": "2022-10-13T17:30:39.579Z"
   },
   {
    "duration": 15,
    "start_time": "2022-10-13T17:30:43.505Z"
   },
   {
    "duration": 30,
    "start_time": "2022-10-13T17:33:21.484Z"
   },
   {
    "duration": 16,
    "start_time": "2022-10-13T17:35:35.588Z"
   },
   {
    "duration": 10,
    "start_time": "2022-10-13T17:38:23.371Z"
   },
   {
    "duration": 73,
    "start_time": "2022-10-13T17:40:38.440Z"
   },
   {
    "duration": 14,
    "start_time": "2022-10-13T17:59:12.818Z"
   },
   {
    "duration": 20,
    "start_time": "2022-10-13T18:05:33.748Z"
   },
   {
    "duration": 5,
    "start_time": "2022-10-13T18:06:09.260Z"
   },
   {
    "duration": 4,
    "start_time": "2022-10-13T18:06:19.683Z"
   },
   {
    "duration": 5,
    "start_time": "2022-10-13T18:06:25.549Z"
   },
   {
    "duration": 5,
    "start_time": "2022-10-13T18:11:11.700Z"
   },
   {
    "duration": 3,
    "start_time": "2022-10-13T18:12:17.117Z"
   },
   {
    "duration": 16,
    "start_time": "2022-10-13T18:12:20.959Z"
   },
   {
    "duration": 5,
    "start_time": "2022-10-13T18:13:02.894Z"
   },
   {
    "duration": 4,
    "start_time": "2022-10-13T18:13:30.018Z"
   },
   {
    "duration": 13,
    "start_time": "2022-10-13T18:13:31.763Z"
   },
   {
    "duration": 4,
    "start_time": "2022-10-13T18:15:04.631Z"
   },
   {
    "duration": 13,
    "start_time": "2022-10-13T18:15:08.522Z"
   },
   {
    "duration": 6,
    "start_time": "2022-10-13T18:15:32.336Z"
   },
   {
    "duration": 4,
    "start_time": "2022-10-13T18:16:16.837Z"
   },
   {
    "duration": 13,
    "start_time": "2022-10-13T18:16:20.655Z"
   },
   {
    "duration": 17,
    "start_time": "2022-10-13T18:17:14.894Z"
   },
   {
    "duration": 17,
    "start_time": "2022-10-13T18:18:04.597Z"
   },
   {
    "duration": 16,
    "start_time": "2022-10-13T18:18:16.154Z"
   },
   {
    "duration": 16,
    "start_time": "2022-10-13T18:20:30.240Z"
   },
   {
    "duration": 3,
    "start_time": "2022-10-13T18:21:18.181Z"
   },
   {
    "duration": 16,
    "start_time": "2022-10-13T18:21:26.203Z"
   },
   {
    "duration": 13,
    "start_time": "2022-10-13T18:21:32.645Z"
   },
   {
    "duration": 5,
    "start_time": "2022-10-13T18:22:04.347Z"
   },
   {
    "duration": 5,
    "start_time": "2022-10-13T18:22:27.014Z"
   },
   {
    "duration": 10,
    "start_time": "2022-10-13T18:22:29.537Z"
   },
   {
    "duration": 11,
    "start_time": "2022-10-13T18:23:06.175Z"
   },
   {
    "duration": 10,
    "start_time": "2022-10-13T18:23:26.708Z"
   },
   {
    "duration": 557,
    "start_time": "2022-10-13T18:23:47.136Z"
   },
   {
    "duration": 10,
    "start_time": "2022-10-13T18:24:13.976Z"
   },
   {
    "duration": 5,
    "start_time": "2022-10-13T18:25:43.299Z"
   },
   {
    "duration": 31,
    "start_time": "2022-10-13T18:25:50.812Z"
   },
   {
    "duration": 21,
    "start_time": "2022-10-13T18:25:53.167Z"
   },
   {
    "duration": 11,
    "start_time": "2022-10-13T18:25:58.301Z"
   },
   {
    "duration": 65,
    "start_time": "2022-10-13T18:26:02.768Z"
   },
   {
    "duration": 8,
    "start_time": "2022-10-13T18:27:31.095Z"
   },
   {
    "duration": 211,
    "start_time": "2022-10-13T18:36:09.916Z"
   },
   {
    "duration": 127,
    "start_time": "2022-10-13T18:36:17.469Z"
   },
   {
    "duration": 117,
    "start_time": "2022-10-13T18:36:28.318Z"
   },
   {
    "duration": 114,
    "start_time": "2022-10-13T18:36:36.198Z"
   },
   {
    "duration": 138,
    "start_time": "2022-10-13T18:37:16.352Z"
   },
   {
    "duration": 185,
    "start_time": "2022-10-13T18:37:31.292Z"
   },
   {
    "duration": 118,
    "start_time": "2022-10-13T18:37:40.594Z"
   },
   {
    "duration": 6,
    "start_time": "2022-10-13T18:38:52.132Z"
   },
   {
    "duration": 130,
    "start_time": "2022-10-13T18:39:03.855Z"
   },
   {
    "duration": 46,
    "start_time": "2022-10-14T06:04:42.785Z"
   },
   {
    "duration": 420,
    "start_time": "2022-10-14T06:04:50.641Z"
   },
   {
    "duration": 126,
    "start_time": "2022-10-14T06:04:51.063Z"
   },
   {
    "duration": 15,
    "start_time": "2022-10-14T06:04:51.191Z"
   },
   {
    "duration": 2457,
    "start_time": "2022-10-14T06:04:51.208Z"
   },
   {
    "duration": 16,
    "start_time": "2022-10-14T06:04:53.667Z"
   },
   {
    "duration": 8,
    "start_time": "2022-10-14T06:04:53.685Z"
   },
   {
    "duration": 9,
    "start_time": "2022-10-14T06:04:53.694Z"
   },
   {
    "duration": 7,
    "start_time": "2022-10-14T06:04:53.705Z"
   },
   {
    "duration": 16,
    "start_time": "2022-10-14T06:04:53.714Z"
   },
   {
    "duration": 41,
    "start_time": "2022-10-14T06:04:53.732Z"
   },
   {
    "duration": 27,
    "start_time": "2022-10-14T06:04:53.774Z"
   },
   {
    "duration": 30,
    "start_time": "2022-10-14T06:04:53.803Z"
   },
   {
    "duration": 86,
    "start_time": "2022-10-14T06:04:53.836Z"
   },
   {
    "duration": 16,
    "start_time": "2022-10-14T06:04:53.934Z"
   },
   {
    "duration": 148,
    "start_time": "2022-10-14T06:04:53.952Z"
   },
   {
    "duration": 7,
    "start_time": "2022-10-14T06:04:54.103Z"
   },
   {
    "duration": 172,
    "start_time": "2022-10-14T06:04:54.111Z"
   },
   {
    "duration": 127,
    "start_time": "2022-10-14T06:05:06.845Z"
   },
   {
    "duration": 148,
    "start_time": "2022-10-14T06:05:15.999Z"
   },
   {
    "duration": 129,
    "start_time": "2022-10-14T06:05:20.953Z"
   },
   {
    "duration": 242,
    "start_time": "2022-10-14T06:21:30.366Z"
   },
   {
    "duration": 139,
    "start_time": "2022-10-14T06:21:38.723Z"
   },
   {
    "duration": 135,
    "start_time": "2022-10-14T06:21:51.424Z"
   },
   {
    "duration": 128,
    "start_time": "2022-10-14T06:22:13.124Z"
   },
   {
    "duration": 128,
    "start_time": "2022-10-14T06:22:34.054Z"
   },
   {
    "duration": 129,
    "start_time": "2022-10-14T06:22:39.765Z"
   },
   {
    "duration": 5,
    "start_time": "2022-10-14T06:22:44.341Z"
   },
   {
    "duration": 167,
    "start_time": "2022-10-14T06:22:46.250Z"
   },
   {
    "duration": 142,
    "start_time": "2022-10-14T06:22:50.022Z"
   },
   {
    "duration": 2,
    "start_time": "2022-10-14T06:26:43.124Z"
   },
   {
    "duration": 143,
    "start_time": "2022-10-14T06:29:39.210Z"
   },
   {
    "duration": 225,
    "start_time": "2022-10-14T06:29:53.115Z"
   },
   {
    "duration": 93,
    "start_time": "2022-10-14T06:31:44.271Z"
   },
   {
    "duration": 9,
    "start_time": "2022-10-14T06:32:20.694Z"
   },
   {
    "duration": 638,
    "start_time": "2022-10-14T06:33:01.506Z"
   },
   {
    "duration": 82,
    "start_time": "2022-10-14T06:34:36.529Z"
   },
   {
    "duration": 239,
    "start_time": "2022-10-14T06:34:53.237Z"
   },
   {
    "duration": 111,
    "start_time": "2022-10-14T06:34:59.553Z"
   },
   {
    "duration": 113,
    "start_time": "2022-10-14T06:35:47.545Z"
   },
   {
    "duration": 112,
    "start_time": "2022-10-14T06:35:56.865Z"
   },
   {
    "duration": 4,
    "start_time": "2022-10-14T06:36:32.509Z"
   },
   {
    "duration": 123,
    "start_time": "2022-10-14T06:36:42.485Z"
   },
   {
    "duration": 233,
    "start_time": "2022-10-14T07:22:45.767Z"
   },
   {
    "duration": 181,
    "start_time": "2022-10-14T07:23:23.602Z"
   },
   {
    "duration": 274,
    "start_time": "2022-10-14T07:23:29.625Z"
   },
   {
    "duration": 241,
    "start_time": "2022-10-14T07:23:39.005Z"
   },
   {
    "duration": 4,
    "start_time": "2022-10-14T07:27:13.153Z"
   },
   {
    "duration": 110,
    "start_time": "2022-10-14T07:27:22.749Z"
   },
   {
    "duration": 7,
    "start_time": "2022-10-14T07:27:32.122Z"
   },
   {
    "duration": 10,
    "start_time": "2022-10-14T07:27:48.736Z"
   },
   {
    "duration": 4,
    "start_time": "2022-10-14T07:32:18.588Z"
   },
   {
    "duration": 101,
    "start_time": "2022-10-14T07:32:28.145Z"
   },
   {
    "duration": 101,
    "start_time": "2022-10-14T07:32:54.296Z"
   },
   {
    "duration": 59,
    "start_time": "2022-10-14T07:35:47.591Z"
   },
   {
    "duration": 11,
    "start_time": "2022-10-14T07:36:26.698Z"
   },
   {
    "duration": 6,
    "start_time": "2022-10-14T07:41:07.121Z"
   },
   {
    "duration": 96,
    "start_time": "2022-10-14T07:41:11.250Z"
   },
   {
    "duration": 8,
    "start_time": "2022-10-14T07:42:46.289Z"
   },
   {
    "duration": 107,
    "start_time": "2022-10-14T07:42:47.981Z"
   },
   {
    "duration": 102,
    "start_time": "2022-10-14T07:44:52.537Z"
   },
   {
    "duration": 100,
    "start_time": "2022-10-14T07:46:41.456Z"
   },
   {
    "duration": 117,
    "start_time": "2022-10-14T07:46:51.632Z"
   },
   {
    "duration": 103,
    "start_time": "2022-10-14T07:46:57.280Z"
   },
   {
    "duration": 98,
    "start_time": "2022-10-14T07:47:03.768Z"
   },
   {
    "duration": 353,
    "start_time": "2022-10-14T07:47:12.188Z"
   },
   {
    "duration": 284,
    "start_time": "2022-10-14T07:47:12.543Z"
   },
   {
    "duration": 81,
    "start_time": "2022-10-14T07:47:12.829Z"
   },
   {
    "duration": 16,
    "start_time": "2022-10-14T07:47:12.911Z"
   },
   {
    "duration": 2044,
    "start_time": "2022-10-14T07:47:12.929Z"
   },
   {
    "duration": 15,
    "start_time": "2022-10-14T07:47:14.974Z"
   },
   {
    "duration": 7,
    "start_time": "2022-10-14T07:47:14.991Z"
   },
   {
    "duration": 24,
    "start_time": "2022-10-14T07:47:15.000Z"
   },
   {
    "duration": 20,
    "start_time": "2022-10-14T07:47:15.025Z"
   },
   {
    "duration": 17,
    "start_time": "2022-10-14T07:47:15.047Z"
   },
   {
    "duration": 45,
    "start_time": "2022-10-14T07:47:15.065Z"
   },
   {
    "duration": 24,
    "start_time": "2022-10-14T07:47:15.112Z"
   },
   {
    "duration": 31,
    "start_time": "2022-10-14T07:47:15.138Z"
   },
   {
    "duration": 104,
    "start_time": "2022-10-14T07:47:15.173Z"
   },
   {
    "duration": 9,
    "start_time": "2022-10-14T07:47:15.279Z"
   },
   {
    "duration": 286,
    "start_time": "2022-10-14T07:47:15.289Z"
   },
   {
    "duration": 131,
    "start_time": "2022-10-14T07:47:15.577Z"
   },
   {
    "duration": 143,
    "start_time": "2022-10-14T07:47:15.710Z"
   },
   {
    "duration": 10,
    "start_time": "2022-10-14T07:47:15.855Z"
   },
   {
    "duration": 156,
    "start_time": "2022-10-14T07:47:15.868Z"
   },
   {
    "duration": 134,
    "start_time": "2022-10-14T07:47:50.799Z"
   },
   {
    "duration": 5,
    "start_time": "2022-10-14T07:48:33.305Z"
   },
   {
    "duration": 196,
    "start_time": "2022-10-14T07:48:43.801Z"
   },
   {
    "duration": 73,
    "start_time": "2022-10-14T07:52:15.303Z"
   },
   {
    "duration": 83,
    "start_time": "2022-10-14T07:52:32.964Z"
   },
   {
    "duration": 9,
    "start_time": "2022-10-14T07:52:55.117Z"
   },
   {
    "duration": 22,
    "start_time": "2022-10-14T07:53:16.354Z"
   },
   {
    "duration": 8,
    "start_time": "2022-10-14T07:53:25.836Z"
   },
   {
    "duration": 134,
    "start_time": "2022-10-14T07:53:29.151Z"
   },
   {
    "duration": 123,
    "start_time": "2022-10-14T07:57:05.170Z"
   },
   {
    "duration": 15,
    "start_time": "2022-10-14T08:01:08.341Z"
   },
   {
    "duration": 1206,
    "start_time": "2022-10-14T08:01:34.481Z"
   },
   {
    "duration": 1120,
    "start_time": "2022-10-14T08:02:21.321Z"
   },
   {
    "duration": 7,
    "start_time": "2022-10-14T08:03:44.925Z"
   },
   {
    "duration": 12,
    "start_time": "2022-10-14T08:05:36.631Z"
   },
   {
    "duration": 7,
    "start_time": "2022-10-14T08:05:44.035Z"
   },
   {
    "duration": 130,
    "start_time": "2022-10-14T08:05:50.260Z"
   },
   {
    "duration": 87,
    "start_time": "2022-10-14T08:05:55.829Z"
   },
   {
    "duration": 10,
    "start_time": "2022-10-14T08:06:08.087Z"
   },
   {
    "duration": 108,
    "start_time": "2022-10-14T08:06:33.665Z"
   },
   {
    "duration": 98,
    "start_time": "2022-10-14T08:06:55.497Z"
   },
   {
    "duration": 160,
    "start_time": "2022-10-14T08:07:15.926Z"
   },
   {
    "duration": 115,
    "start_time": "2022-10-14T08:07:53.825Z"
   },
   {
    "duration": 109,
    "start_time": "2022-10-14T08:07:59.144Z"
   },
   {
    "duration": 7,
    "start_time": "2022-10-14T08:08:01.925Z"
   },
   {
    "duration": 127,
    "start_time": "2022-10-14T08:08:05.113Z"
   },
   {
    "duration": 124,
    "start_time": "2022-10-14T08:08:31.644Z"
   },
   {
    "duration": 14,
    "start_time": "2022-10-14T08:10:30.604Z"
   },
   {
    "duration": 11,
    "start_time": "2022-10-14T08:10:50.275Z"
   },
   {
    "duration": 6,
    "start_time": "2022-10-14T08:11:05.321Z"
   },
   {
    "duration": 481,
    "start_time": "2022-10-14T08:11:36.156Z"
   },
   {
    "duration": 275,
    "start_time": "2022-10-14T08:11:36.642Z"
   },
   {
    "duration": 128,
    "start_time": "2022-10-14T08:11:36.919Z"
   },
   {
    "duration": 28,
    "start_time": "2022-10-14T08:11:37.050Z"
   },
   {
    "duration": 2252,
    "start_time": "2022-10-14T08:11:37.081Z"
   },
   {
    "duration": 19,
    "start_time": "2022-10-14T08:11:39.336Z"
   },
   {
    "duration": 18,
    "start_time": "2022-10-14T08:11:39.358Z"
   },
   {
    "duration": 7,
    "start_time": "2022-10-14T08:11:39.378Z"
   },
   {
    "duration": 10,
    "start_time": "2022-10-14T08:11:39.388Z"
   },
   {
    "duration": 35,
    "start_time": "2022-10-14T08:11:39.401Z"
   },
   {
    "duration": 65,
    "start_time": "2022-10-14T08:11:39.439Z"
   },
   {
    "duration": 48,
    "start_time": "2022-10-14T08:11:39.507Z"
   },
   {
    "duration": 18,
    "start_time": "2022-10-14T08:11:39.557Z"
   },
   {
    "duration": 116,
    "start_time": "2022-10-14T08:11:39.579Z"
   },
   {
    "duration": 10,
    "start_time": "2022-10-14T08:11:39.697Z"
   },
   {
    "duration": 305,
    "start_time": "2022-10-14T08:11:39.709Z"
   },
   {
    "duration": 19,
    "start_time": "2022-10-14T08:11:40.016Z"
   },
   {
    "duration": 140,
    "start_time": "2022-10-14T08:11:40.037Z"
   },
   {
    "duration": 8,
    "start_time": "2022-10-14T08:11:40.179Z"
   },
   {
    "duration": 125,
    "start_time": "2022-10-14T08:11:40.189Z"
   },
   {
    "duration": 18,
    "start_time": "2022-10-14T08:11:40.317Z"
   },
   {
    "duration": 12,
    "start_time": "2022-10-14T08:13:18.022Z"
   },
   {
    "duration": 8,
    "start_time": "2022-10-14T08:14:48.522Z"
   },
   {
    "duration": 398,
    "start_time": "2022-10-14T08:14:55.000Z"
   },
   {
    "duration": 264,
    "start_time": "2022-10-14T08:14:55.400Z"
   },
   {
    "duration": 88,
    "start_time": "2022-10-14T08:14:55.666Z"
   },
   {
    "duration": 19,
    "start_time": "2022-10-14T08:14:55.757Z"
   },
   {
    "duration": 2279,
    "start_time": "2022-10-14T08:14:55.778Z"
   },
   {
    "duration": 20,
    "start_time": "2022-10-14T08:14:58.060Z"
   },
   {
    "duration": 9,
    "start_time": "2022-10-14T08:14:58.082Z"
   },
   {
    "duration": 8,
    "start_time": "2022-10-14T08:14:58.094Z"
   },
   {
    "duration": 9,
    "start_time": "2022-10-14T08:14:58.103Z"
   },
   {
    "duration": 19,
    "start_time": "2022-10-14T08:14:58.114Z"
   },
   {
    "duration": 55,
    "start_time": "2022-10-14T08:14:58.137Z"
   },
   {
    "duration": 54,
    "start_time": "2022-10-14T08:14:58.198Z"
   },
   {
    "duration": 18,
    "start_time": "2022-10-14T08:14:58.253Z"
   },
   {
    "duration": 102,
    "start_time": "2022-10-14T08:14:58.273Z"
   },
   {
    "duration": 11,
    "start_time": "2022-10-14T08:14:58.376Z"
   },
   {
    "duration": 314,
    "start_time": "2022-10-14T08:14:58.388Z"
   },
   {
    "duration": 14,
    "start_time": "2022-10-14T08:14:58.705Z"
   },
   {
    "duration": 144,
    "start_time": "2022-10-14T08:14:58.721Z"
   },
   {
    "duration": 7,
    "start_time": "2022-10-14T08:14:58.867Z"
   },
   {
    "duration": 134,
    "start_time": "2022-10-14T08:14:58.876Z"
   },
   {
    "duration": 22,
    "start_time": "2022-10-14T08:14:59.011Z"
   },
   {
    "duration": 11,
    "start_time": "2022-10-14T08:14:59.035Z"
   },
   {
    "duration": 12,
    "start_time": "2022-10-14T08:15:49.625Z"
   },
   {
    "duration": 145,
    "start_time": "2022-10-14T08:16:21.837Z"
   },
   {
    "duration": 127,
    "start_time": "2022-10-14T08:17:21.292Z"
   },
   {
    "duration": 251,
    "start_time": "2022-10-14T08:17:32.123Z"
   },
   {
    "duration": 146,
    "start_time": "2022-10-14T08:17:43.865Z"
   },
   {
    "duration": 133,
    "start_time": "2022-10-14T08:17:50.059Z"
   },
   {
    "duration": 141,
    "start_time": "2022-10-14T08:17:59.675Z"
   },
   {
    "duration": 162,
    "start_time": "2022-10-14T08:18:10.036Z"
   },
   {
    "duration": 158,
    "start_time": "2022-10-14T08:18:45.233Z"
   },
   {
    "duration": 138,
    "start_time": "2022-10-14T08:18:52.072Z"
   },
   {
    "duration": 132,
    "start_time": "2022-10-14T08:19:03.232Z"
   },
   {
    "duration": 115,
    "start_time": "2022-10-14T08:19:08.564Z"
   },
   {
    "duration": 5,
    "start_time": "2022-10-14T08:36:01.193Z"
   },
   {
    "duration": 5,
    "start_time": "2022-10-14T08:36:25.784Z"
   },
   {
    "duration": 71,
    "start_time": "2022-10-14T08:37:08.209Z"
   },
   {
    "duration": 76,
    "start_time": "2022-10-14T08:37:15.550Z"
   },
   {
    "duration": 15,
    "start_time": "2022-10-14T08:37:33.847Z"
   },
   {
    "duration": 13,
    "start_time": "2022-10-14T08:37:43.056Z"
   },
   {
    "duration": 10,
    "start_time": "2022-10-14T08:38:03.688Z"
   },
   {
    "duration": 22,
    "start_time": "2022-10-14T08:38:50.384Z"
   },
   {
    "duration": 15,
    "start_time": "2022-10-14T08:39:24.636Z"
   },
   {
    "duration": 18,
    "start_time": "2022-10-14T08:40:00.783Z"
   },
   {
    "duration": 22,
    "start_time": "2022-10-14T08:40:13.040Z"
   },
   {
    "duration": 22,
    "start_time": "2022-10-14T08:40:20.830Z"
   },
   {
    "duration": 86,
    "start_time": "2022-10-14T08:43:04.095Z"
   },
   {
    "duration": 6,
    "start_time": "2022-10-14T08:43:09.301Z"
   },
   {
    "duration": 84,
    "start_time": "2022-10-14T09:13:40.179Z"
   },
   {
    "duration": 12,
    "start_time": "2022-10-14T09:13:45.175Z"
   },
   {
    "duration": 11,
    "start_time": "2022-10-14T09:13:57.056Z"
   },
   {
    "duration": 13,
    "start_time": "2022-10-14T09:22:16.384Z"
   },
   {
    "duration": 23,
    "start_time": "2022-10-14T09:22:20.823Z"
   },
   {
    "duration": 19,
    "start_time": "2022-10-14T09:22:42.878Z"
   },
   {
    "duration": 17,
    "start_time": "2022-10-14T09:22:57.892Z"
   },
   {
    "duration": 27,
    "start_time": "2022-10-14T09:25:43.102Z"
   },
   {
    "duration": 23,
    "start_time": "2022-10-14T09:26:22.387Z"
   },
   {
    "duration": 23,
    "start_time": "2022-10-14T09:26:40.470Z"
   },
   {
    "duration": 41,
    "start_time": "2022-10-14T09:26:44.845Z"
   },
   {
    "duration": 40,
    "start_time": "2022-10-14T09:26:51.580Z"
   },
   {
    "duration": 44,
    "start_time": "2022-10-14T09:26:56.870Z"
   },
   {
    "duration": 28,
    "start_time": "2022-10-14T09:27:17.672Z"
   },
   {
    "duration": 20,
    "start_time": "2022-10-14T09:27:24.070Z"
   },
   {
    "duration": 25,
    "start_time": "2022-10-14T09:27:33.872Z"
   },
   {
    "duration": 37,
    "start_time": "2022-10-14T09:30:31.810Z"
   },
   {
    "duration": 49,
    "start_time": "2022-10-14T09:30:37.626Z"
   },
   {
    "duration": 20,
    "start_time": "2022-10-14T09:30:48.362Z"
   },
   {
    "duration": 18,
    "start_time": "2022-10-14T09:54:06.851Z"
   },
   {
    "duration": 16,
    "start_time": "2022-10-14T09:54:20.716Z"
   },
   {
    "duration": 25,
    "start_time": "2022-10-14T09:54:26.748Z"
   },
   {
    "duration": 20,
    "start_time": "2022-10-14T09:54:39.507Z"
   },
   {
    "duration": 16,
    "start_time": "2022-10-14T09:54:52.703Z"
   },
   {
    "duration": 5,
    "start_time": "2022-10-14T09:58:02.870Z"
   },
   {
    "duration": 6,
    "start_time": "2022-10-14T09:58:34.749Z"
   },
   {
    "duration": 6,
    "start_time": "2022-10-14T09:59:18.386Z"
   },
   {
    "duration": 5,
    "start_time": "2022-10-14T11:47:33.834Z"
   },
   {
    "duration": 6,
    "start_time": "2022-10-14T11:47:42.757Z"
   },
   {
    "duration": 10,
    "start_time": "2022-10-14T11:59:41.310Z"
   },
   {
    "duration": 375,
    "start_time": "2022-10-14T11:59:48.577Z"
   },
   {
    "duration": 2103,
    "start_time": "2022-10-14T11:59:48.953Z"
   },
   {
    "duration": 84,
    "start_time": "2022-10-14T11:59:51.057Z"
   },
   {
    "duration": 17,
    "start_time": "2022-10-14T11:59:51.143Z"
   },
   {
    "duration": 2028,
    "start_time": "2022-10-14T11:59:51.161Z"
   },
   {
    "duration": 17,
    "start_time": "2022-10-14T11:59:53.191Z"
   },
   {
    "duration": 9,
    "start_time": "2022-10-14T11:59:53.209Z"
   },
   {
    "duration": 14,
    "start_time": "2022-10-14T11:59:53.220Z"
   },
   {
    "duration": 5,
    "start_time": "2022-10-14T11:59:53.236Z"
   },
   {
    "duration": 21,
    "start_time": "2022-10-14T11:59:53.243Z"
   },
   {
    "duration": 35,
    "start_time": "2022-10-14T11:59:53.266Z"
   },
   {
    "duration": 37,
    "start_time": "2022-10-14T11:59:53.303Z"
   },
   {
    "duration": 11,
    "start_time": "2022-10-14T11:59:53.342Z"
   },
   {
    "duration": 91,
    "start_time": "2022-10-14T11:59:53.355Z"
   },
   {
    "duration": 8,
    "start_time": "2022-10-14T11:59:53.448Z"
   },
   {
    "duration": 254,
    "start_time": "2022-10-14T11:59:53.458Z"
   },
   {
    "duration": 9,
    "start_time": "2022-10-14T11:59:53.714Z"
   },
   {
    "duration": 118,
    "start_time": "2022-10-14T11:59:53.725Z"
   },
   {
    "duration": 25,
    "start_time": "2022-10-14T11:59:53.845Z"
   },
   {
    "duration": 14,
    "start_time": "2022-10-14T11:59:53.872Z"
   },
   {
    "duration": 14,
    "start_time": "2022-10-14T11:59:53.888Z"
   },
   {
    "duration": 121,
    "start_time": "2022-10-14T11:59:53.903Z"
   },
   {
    "duration": 16,
    "start_time": "2022-10-14T11:59:54.025Z"
   },
   {
    "duration": 8,
    "start_time": "2022-10-14T11:59:54.042Z"
   },
   {
    "duration": 137,
    "start_time": "2022-10-14T11:59:54.051Z"
   },
   {
    "duration": 14,
    "start_time": "2022-10-14T11:59:54.190Z"
   },
   {
    "duration": 24,
    "start_time": "2022-10-14T11:59:54.206Z"
   },
   {
    "duration": 48,
    "start_time": "2022-10-14T11:59:54.233Z"
   },
   {
    "duration": 0,
    "start_time": "2022-10-14T11:59:54.282Z"
   },
   {
    "duration": 0,
    "start_time": "2022-10-14T11:59:54.283Z"
   },
   {
    "duration": 0,
    "start_time": "2022-10-14T11:59:54.285Z"
   },
   {
    "duration": 0,
    "start_time": "2022-10-14T11:59:54.286Z"
   },
   {
    "duration": 76,
    "start_time": "2022-10-14T12:19:10.766Z"
   },
   {
    "duration": 8,
    "start_time": "2022-10-14T12:19:35.406Z"
   },
   {
    "duration": 7,
    "start_time": "2022-10-14T12:19:59.235Z"
   },
   {
    "duration": 11,
    "start_time": "2022-10-14T12:20:20.561Z"
   },
   {
    "duration": 9,
    "start_time": "2022-10-14T12:36:58.482Z"
   },
   {
    "duration": 441,
    "start_time": "2022-10-14T13:05:05.846Z"
   },
   {
    "duration": 306,
    "start_time": "2022-10-14T13:05:06.289Z"
   },
   {
    "duration": 96,
    "start_time": "2022-10-14T13:05:06.597Z"
   },
   {
    "duration": 16,
    "start_time": "2022-10-14T13:05:06.694Z"
   },
   {
    "duration": 2109,
    "start_time": "2022-10-14T13:05:06.712Z"
   },
   {
    "duration": 16,
    "start_time": "2022-10-14T13:05:08.823Z"
   },
   {
    "duration": 35,
    "start_time": "2022-10-14T13:05:08.841Z"
   },
   {
    "duration": 17,
    "start_time": "2022-10-14T13:05:08.878Z"
   },
   {
    "duration": 10,
    "start_time": "2022-10-14T13:05:08.897Z"
   },
   {
    "duration": 38,
    "start_time": "2022-10-14T13:05:08.908Z"
   },
   {
    "duration": 53,
    "start_time": "2022-10-14T13:05:08.948Z"
   },
   {
    "duration": 23,
    "start_time": "2022-10-14T13:05:09.003Z"
   },
   {
    "duration": 47,
    "start_time": "2022-10-14T13:05:09.028Z"
   },
   {
    "duration": 98,
    "start_time": "2022-10-14T13:05:09.079Z"
   },
   {
    "duration": 8,
    "start_time": "2022-10-14T13:05:09.179Z"
   },
   {
    "duration": 277,
    "start_time": "2022-10-14T13:05:09.188Z"
   },
   {
    "duration": 9,
    "start_time": "2022-10-14T13:05:09.467Z"
   },
   {
    "duration": 135,
    "start_time": "2022-10-14T13:05:09.478Z"
   },
   {
    "duration": 42,
    "start_time": "2022-10-14T13:05:09.615Z"
   },
   {
    "duration": 21,
    "start_time": "2022-10-14T13:05:09.661Z"
   },
   {
    "duration": 8,
    "start_time": "2022-10-14T13:05:09.684Z"
   },
   {
    "duration": 127,
    "start_time": "2022-10-14T13:05:09.693Z"
   },
   {
    "duration": 20,
    "start_time": "2022-10-14T13:05:09.821Z"
   },
   {
    "duration": 25,
    "start_time": "2022-10-14T13:05:09.852Z"
   },
   {
    "duration": 133,
    "start_time": "2022-10-14T13:05:09.879Z"
   },
   {
    "duration": 27,
    "start_time": "2022-10-14T13:05:10.014Z"
   },
   {
    "duration": 31,
    "start_time": "2022-10-14T13:05:10.047Z"
   },
   {
    "duration": 121,
    "start_time": "2022-10-14T13:05:10.080Z"
   },
   {
    "duration": 0,
    "start_time": "2022-10-14T13:05:10.202Z"
   },
   {
    "duration": 0,
    "start_time": "2022-10-14T13:05:10.204Z"
   },
   {
    "duration": 0,
    "start_time": "2022-10-14T13:05:10.205Z"
   },
   {
    "duration": 0,
    "start_time": "2022-10-14T13:05:10.206Z"
   },
   {
    "duration": 9,
    "start_time": "2022-10-14T13:09:50.578Z"
   },
   {
    "duration": 65,
    "start_time": "2022-10-14T13:09:55.566Z"
   },
   {
    "duration": 9,
    "start_time": "2022-10-14T13:09:59.901Z"
   },
   {
    "duration": 11,
    "start_time": "2022-10-14T13:10:05.492Z"
   },
   {
    "duration": 13,
    "start_time": "2022-10-14T13:10:36.946Z"
   },
   {
    "duration": 9,
    "start_time": "2022-10-14T13:10:59.189Z"
   },
   {
    "duration": 17,
    "start_time": "2022-10-14T13:12:04.130Z"
   },
   {
    "duration": 6,
    "start_time": "2022-10-14T13:12:06.529Z"
   },
   {
    "duration": 6,
    "start_time": "2022-10-14T13:12:11.453Z"
   },
   {
    "duration": 17,
    "start_time": "2022-10-14T13:12:27.745Z"
   },
   {
    "duration": 4,
    "start_time": "2022-10-14T13:47:54.380Z"
   },
   {
    "duration": 8,
    "start_time": "2022-10-14T13:48:35.747Z"
   },
   {
    "duration": 397,
    "start_time": "2022-10-14T13:49:08.312Z"
   },
   {
    "duration": 10,
    "start_time": "2022-10-14T13:54:04.509Z"
   },
   {
    "duration": 6,
    "start_time": "2022-10-14T14:00:29.076Z"
   },
   {
    "duration": 409,
    "start_time": "2022-10-14T14:00:53.951Z"
   },
   {
    "duration": 244,
    "start_time": "2022-10-14T14:00:54.362Z"
   },
   {
    "duration": 88,
    "start_time": "2022-10-14T14:00:54.608Z"
   },
   {
    "duration": 18,
    "start_time": "2022-10-14T14:00:54.699Z"
   },
   {
    "duration": 2174,
    "start_time": "2022-10-14T14:00:54.719Z"
   },
   {
    "duration": 15,
    "start_time": "2022-10-14T14:00:56.895Z"
   },
   {
    "duration": 8,
    "start_time": "2022-10-14T14:00:56.912Z"
   },
   {
    "duration": 9,
    "start_time": "2022-10-14T14:00:56.922Z"
   },
   {
    "duration": 6,
    "start_time": "2022-10-14T14:00:56.933Z"
   },
   {
    "duration": 17,
    "start_time": "2022-10-14T14:00:56.941Z"
   },
   {
    "duration": 37,
    "start_time": "2022-10-14T14:00:56.960Z"
   },
   {
    "duration": 49,
    "start_time": "2022-10-14T14:00:56.999Z"
   },
   {
    "duration": 12,
    "start_time": "2022-10-14T14:00:57.049Z"
   },
   {
    "duration": 81,
    "start_time": "2022-10-14T14:00:57.063Z"
   },
   {
    "duration": 8,
    "start_time": "2022-10-14T14:00:57.146Z"
   },
   {
    "duration": 251,
    "start_time": "2022-10-14T14:00:57.155Z"
   },
   {
    "duration": 9,
    "start_time": "2022-10-14T14:00:57.407Z"
   },
   {
    "duration": 122,
    "start_time": "2022-10-14T14:00:57.417Z"
   },
   {
    "duration": 27,
    "start_time": "2022-10-14T14:00:57.541Z"
   },
   {
    "duration": 16,
    "start_time": "2022-10-14T14:00:57.569Z"
   },
   {
    "duration": 11,
    "start_time": "2022-10-14T14:00:57.586Z"
   },
   {
    "duration": 117,
    "start_time": "2022-10-14T14:00:57.598Z"
   },
   {
    "duration": 18,
    "start_time": "2022-10-14T14:00:57.716Z"
   },
   {
    "duration": 8,
    "start_time": "2022-10-14T14:00:57.736Z"
   },
   {
    "duration": 155,
    "start_time": "2022-10-14T14:00:57.745Z"
   },
   {
    "duration": 18,
    "start_time": "2022-10-14T14:00:57.902Z"
   },
   {
    "duration": 19,
    "start_time": "2022-10-14T14:00:57.921Z"
   },
   {
    "duration": 9,
    "start_time": "2022-10-14T14:00:57.943Z"
   },
   {
    "duration": 11,
    "start_time": "2022-10-14T14:00:57.954Z"
   },
   {
    "duration": 23,
    "start_time": "2022-10-14T14:00:57.966Z"
   },
   {
    "duration": 4,
    "start_time": "2022-10-14T14:00:57.990Z"
   },
   {
    "duration": 430,
    "start_time": "2022-10-14T14:00:57.995Z"
   },
   {
    "duration": 6,
    "start_time": "2022-10-14T14:00:58.427Z"
   },
   {
    "duration": 438,
    "start_time": "2022-10-14T18:15:14.636Z"
   },
   {
    "duration": 3,
    "start_time": "2022-10-14T18:15:15.076Z"
   },
   {
    "duration": 447,
    "start_time": "2022-10-14T18:15:15.080Z"
   },
   {
    "duration": 3,
    "start_time": "2022-10-14T18:15:15.529Z"
   },
   {
    "duration": 170,
    "start_time": "2022-10-14T18:15:15.535Z"
   },
   {
    "duration": 19,
    "start_time": "2022-10-14T18:15:15.706Z"
   },
   {
    "duration": 2166,
    "start_time": "2022-10-14T18:15:15.727Z"
   },
   {
    "duration": 17,
    "start_time": "2022-10-14T18:15:17.895Z"
   },
   {
    "duration": 12,
    "start_time": "2022-10-14T18:15:17.914Z"
   },
   {
    "duration": 12,
    "start_time": "2022-10-14T18:15:17.927Z"
   },
   {
    "duration": 17,
    "start_time": "2022-10-14T18:15:17.942Z"
   },
   {
    "duration": 21,
    "start_time": "2022-10-14T18:15:17.961Z"
   },
   {
    "duration": 42,
    "start_time": "2022-10-14T18:15:17.985Z"
   },
   {
    "duration": 36,
    "start_time": "2022-10-14T18:15:18.030Z"
   },
   {
    "duration": 13,
    "start_time": "2022-10-14T18:15:18.067Z"
   },
   {
    "duration": 96,
    "start_time": "2022-10-14T18:15:18.082Z"
   },
   {
    "duration": 8,
    "start_time": "2022-10-14T18:15:18.180Z"
   },
   {
    "duration": 309,
    "start_time": "2022-10-14T18:15:18.190Z"
   },
   {
    "duration": 14,
    "start_time": "2022-10-14T18:15:18.501Z"
   },
   {
    "duration": 122,
    "start_time": "2022-10-14T18:15:18.517Z"
   },
   {
    "duration": 42,
    "start_time": "2022-10-14T18:15:18.641Z"
   },
   {
    "duration": 17,
    "start_time": "2022-10-14T18:15:18.687Z"
   },
   {
    "duration": 14,
    "start_time": "2022-10-14T18:15:18.706Z"
   },
   {
    "duration": 134,
    "start_time": "2022-10-14T18:15:18.722Z"
   },
   {
    "duration": 13,
    "start_time": "2022-10-14T18:15:18.858Z"
   },
   {
    "duration": 12,
    "start_time": "2022-10-14T18:15:18.873Z"
   },
   {
    "duration": 145,
    "start_time": "2022-10-14T18:15:18.887Z"
   },
   {
    "duration": 28,
    "start_time": "2022-10-14T18:15:19.034Z"
   },
   {
    "duration": 19,
    "start_time": "2022-10-14T18:15:19.064Z"
   },
   {
    "duration": 24,
    "start_time": "2022-10-14T18:15:19.084Z"
   },
   {
    "duration": 22,
    "start_time": "2022-10-14T18:15:19.110Z"
   },
   {
    "duration": 38,
    "start_time": "2022-10-14T18:15:19.134Z"
   },
   {
    "duration": 4,
    "start_time": "2022-10-14T18:15:19.174Z"
   },
   {
    "duration": 451,
    "start_time": "2022-10-14T18:15:19.180Z"
   },
   {
    "duration": 9,
    "start_time": "2022-10-14T18:15:19.633Z"
   },
   {
    "duration": 21,
    "start_time": "2022-10-14T18:17:20.519Z"
   },
   {
    "duration": 754,
    "start_time": "2022-10-14T18:36:12.515Z"
   },
   {
    "duration": 344,
    "start_time": "2022-10-14T18:39:44.535Z"
   },
   {
    "duration": 8,
    "start_time": "2022-10-14T18:39:59.978Z"
   },
   {
    "duration": 5,
    "start_time": "2022-10-14T18:47:55.994Z"
   },
   {
    "duration": 10,
    "start_time": "2022-10-14T18:49:15.014Z"
   },
   {
    "duration": 18,
    "start_time": "2022-10-14T19:05:15.384Z"
   },
   {
    "duration": 11,
    "start_time": "2022-10-14T19:05:18.850Z"
   },
   {
    "duration": 423,
    "start_time": "2022-10-14T19:16:54.824Z"
   },
   {
    "duration": 5,
    "start_time": "2022-10-14T19:16:55.250Z"
   },
   {
    "duration": 261,
    "start_time": "2022-10-14T19:16:55.257Z"
   },
   {
    "duration": 3,
    "start_time": "2022-10-14T19:16:55.520Z"
   },
   {
    "duration": 106,
    "start_time": "2022-10-14T19:16:55.525Z"
   },
   {
    "duration": 16,
    "start_time": "2022-10-14T19:16:55.633Z"
   },
   {
    "duration": 2067,
    "start_time": "2022-10-14T19:16:55.654Z"
   },
   {
    "duration": 17,
    "start_time": "2022-10-14T19:16:57.722Z"
   },
   {
    "duration": 8,
    "start_time": "2022-10-14T19:16:57.740Z"
   },
   {
    "duration": 17,
    "start_time": "2022-10-14T19:16:57.750Z"
   },
   {
    "duration": 13,
    "start_time": "2022-10-14T19:16:57.769Z"
   },
   {
    "duration": 13,
    "start_time": "2022-10-14T19:16:57.783Z"
   },
   {
    "duration": 16,
    "start_time": "2022-10-14T19:16:57.798Z"
   },
   {
    "duration": 11,
    "start_time": "2022-10-14T19:16:57.816Z"
   },
   {
    "duration": 20,
    "start_time": "2022-10-14T19:16:57.829Z"
   },
   {
    "duration": 21,
    "start_time": "2022-10-14T19:16:57.850Z"
   },
   {
    "duration": 10,
    "start_time": "2022-10-14T19:16:57.873Z"
   },
   {
    "duration": 13,
    "start_time": "2022-10-14T19:16:57.884Z"
   },
   {
    "duration": 10,
    "start_time": "2022-10-14T19:16:57.899Z"
   },
   {
    "duration": 24,
    "start_time": "2022-10-14T19:16:57.911Z"
   },
   {
    "duration": 6,
    "start_time": "2022-10-14T19:16:57.937Z"
   },
   {
    "duration": 13,
    "start_time": "2022-10-14T19:16:57.945Z"
   },
   {
    "duration": 16,
    "start_time": "2022-10-14T19:16:57.960Z"
   },
   {
    "duration": 13,
    "start_time": "2022-10-14T19:16:57.977Z"
   },
   {
    "duration": 16,
    "start_time": "2022-10-14T19:16:57.991Z"
   },
   {
    "duration": 12,
    "start_time": "2022-10-14T19:16:58.008Z"
   },
   {
    "duration": 15,
    "start_time": "2022-10-14T19:16:58.021Z"
   },
   {
    "duration": 12,
    "start_time": "2022-10-14T19:16:58.039Z"
   },
   {
    "duration": 15,
    "start_time": "2022-10-14T19:16:58.053Z"
   },
   {
    "duration": 16,
    "start_time": "2022-10-14T19:16:58.069Z"
   },
   {
    "duration": 15,
    "start_time": "2022-10-14T19:16:58.086Z"
   },
   {
    "duration": 16,
    "start_time": "2022-10-14T19:16:58.103Z"
   },
   {
    "duration": 28,
    "start_time": "2022-10-14T19:16:58.121Z"
   },
   {
    "duration": 43,
    "start_time": "2022-10-14T19:16:58.151Z"
   },
   {
    "duration": 0,
    "start_time": "2022-10-14T19:16:58.196Z"
   },
   {
    "duration": 0,
    "start_time": "2022-10-14T19:16:58.197Z"
   },
   {
    "duration": 71,
    "start_time": "2022-10-14T19:17:35.623Z"
   },
   {
    "duration": 4,
    "start_time": "2022-10-14T19:17:41.885Z"
   },
   {
    "duration": 11,
    "start_time": "2022-10-14T19:22:27.426Z"
   },
   {
    "duration": 5,
    "start_time": "2022-10-14T19:22:34.909Z"
   },
   {
    "duration": 16,
    "start_time": "2022-10-14T19:22:42.054Z"
   },
   {
    "duration": 8,
    "start_time": "2022-10-14T19:22:43.850Z"
   },
   {
    "duration": 5,
    "start_time": "2022-10-14T19:22:51.771Z"
   },
   {
    "duration": 11,
    "start_time": "2022-10-14T19:22:57.330Z"
   },
   {
    "duration": 9,
    "start_time": "2022-10-14T19:23:00.706Z"
   },
   {
    "duration": 10,
    "start_time": "2022-10-14T19:23:03.680Z"
   },
   {
    "duration": 36,
    "start_time": "2022-10-14T19:23:08.548Z"
   },
   {
    "duration": 30,
    "start_time": "2022-10-14T19:23:11.877Z"
   },
   {
    "duration": 13,
    "start_time": "2022-10-14T19:23:16.803Z"
   },
   {
    "duration": 79,
    "start_time": "2022-10-14T19:23:23.054Z"
   },
   {
    "duration": 11,
    "start_time": "2022-10-14T19:23:32.278Z"
   },
   {
    "duration": 305,
    "start_time": "2022-10-14T19:23:35.338Z"
   },
   {
    "duration": 14,
    "start_time": "2022-10-14T19:23:55.489Z"
   },
   {
    "duration": 262,
    "start_time": "2022-10-14T19:24:01.723Z"
   },
   {
    "duration": 10,
    "start_time": "2022-10-14T19:24:05.986Z"
   },
   {
    "duration": 134,
    "start_time": "2022-10-14T19:24:11.349Z"
   },
   {
    "duration": 31,
    "start_time": "2022-10-14T19:24:23.674Z"
   },
   {
    "duration": 22,
    "start_time": "2022-10-14T19:24:26.852Z"
   },
   {
    "duration": 5,
    "start_time": "2022-10-14T19:24:29.269Z"
   },
   {
    "duration": 114,
    "start_time": "2022-10-14T19:24:30.925Z"
   },
   {
    "duration": 10,
    "start_time": "2022-10-14T19:24:37.927Z"
   },
   {
    "duration": 11,
    "start_time": "2022-10-14T19:24:38.667Z"
   },
   {
    "duration": 220,
    "start_time": "2022-10-14T19:24:39.360Z"
   },
   {
    "duration": 23,
    "start_time": "2022-10-14T19:24:41.534Z"
   },
   {
    "duration": 11,
    "start_time": "2022-10-14T19:31:15.239Z"
   },
   {
    "duration": 10,
    "start_time": "2022-10-14T19:31:17.182Z"
   },
   {
    "duration": 7,
    "start_time": "2022-10-14T19:32:47.122Z"
   },
   {
    "duration": 8,
    "start_time": "2022-10-14T19:32:54.345Z"
   },
   {
    "duration": 442,
    "start_time": "2022-10-14T19:34:00.239Z"
   },
   {
    "duration": 3,
    "start_time": "2022-10-14T19:34:00.684Z"
   },
   {
    "duration": 309,
    "start_time": "2022-10-14T19:34:00.689Z"
   },
   {
    "duration": 3,
    "start_time": "2022-10-14T19:34:01.000Z"
   },
   {
    "duration": 111,
    "start_time": "2022-10-14T19:34:01.004Z"
   },
   {
    "duration": 18,
    "start_time": "2022-10-14T19:34:01.117Z"
   },
   {
    "duration": 2207,
    "start_time": "2022-10-14T19:34:01.138Z"
   },
   {
    "duration": 5,
    "start_time": "2022-10-14T19:34:03.346Z"
   },
   {
    "duration": 43,
    "start_time": "2022-10-14T19:34:03.353Z"
   },
   {
    "duration": 62,
    "start_time": "2022-10-14T19:34:03.399Z"
   },
   {
    "duration": 22,
    "start_time": "2022-10-14T19:34:03.463Z"
   },
   {
    "duration": 21,
    "start_time": "2022-10-14T19:34:03.487Z"
   },
   {
    "duration": 41,
    "start_time": "2022-10-14T19:34:03.510Z"
   },
   {
    "duration": 9,
    "start_time": "2022-10-14T19:34:03.553Z"
   },
   {
    "duration": 47,
    "start_time": "2022-10-14T19:34:03.563Z"
   },
   {
    "duration": 12,
    "start_time": "2022-10-14T19:34:03.612Z"
   },
   {
    "duration": 15,
    "start_time": "2022-10-14T19:34:03.626Z"
   },
   {
    "duration": 48,
    "start_time": "2022-10-14T19:34:03.642Z"
   },
   {
    "duration": 27,
    "start_time": "2022-10-14T19:34:03.692Z"
   },
   {
    "duration": 17,
    "start_time": "2022-10-14T19:34:03.721Z"
   },
   {
    "duration": 85,
    "start_time": "2022-10-14T19:34:03.753Z"
   },
   {
    "duration": 14,
    "start_time": "2022-10-14T19:34:03.840Z"
   },
   {
    "duration": 279,
    "start_time": "2022-10-14T19:34:03.855Z"
   },
   {
    "duration": 19,
    "start_time": "2022-10-14T19:34:04.136Z"
   },
   {
    "duration": 131,
    "start_time": "2022-10-14T19:34:04.156Z"
   },
   {
    "duration": 26,
    "start_time": "2022-10-14T19:34:04.289Z"
   },
   {
    "duration": 38,
    "start_time": "2022-10-14T19:34:04.317Z"
   },
   {
    "duration": 5,
    "start_time": "2022-10-14T19:34:04.359Z"
   },
   {
    "duration": 140,
    "start_time": "2022-10-14T19:34:04.366Z"
   },
   {
    "duration": 10,
    "start_time": "2022-10-14T19:34:04.508Z"
   },
   {
    "duration": 42,
    "start_time": "2022-10-14T19:34:04.520Z"
   },
   {
    "duration": 145,
    "start_time": "2022-10-14T19:34:04.564Z"
   },
   {
    "duration": 17,
    "start_time": "2022-10-14T19:34:04.711Z"
   },
   {
    "duration": 18,
    "start_time": "2022-10-14T19:34:04.730Z"
   },
   {
    "duration": 31,
    "start_time": "2022-10-14T19:34:04.750Z"
   },
   {
    "duration": 22,
    "start_time": "2022-10-14T19:34:04.783Z"
   },
   {
    "duration": 31,
    "start_time": "2022-10-14T19:34:04.806Z"
   },
   {
    "duration": 53,
    "start_time": "2022-10-14T19:34:04.839Z"
   },
   {
    "duration": 0,
    "start_time": "2022-10-14T19:34:04.894Z"
   },
   {
    "duration": 0,
    "start_time": "2022-10-14T19:34:04.896Z"
   },
   {
    "duration": 111,
    "start_time": "2022-10-14T20:01:33.086Z"
   },
   {
    "duration": 11,
    "start_time": "2022-10-14T20:01:49.083Z"
   },
   {
    "duration": 421,
    "start_time": "2022-10-14T20:02:20.551Z"
   },
   {
    "duration": 3,
    "start_time": "2022-10-14T20:02:20.974Z"
   },
   {
    "duration": 253,
    "start_time": "2022-10-14T20:02:20.979Z"
   },
   {
    "duration": 3,
    "start_time": "2022-10-14T20:02:21.234Z"
   },
   {
    "duration": 109,
    "start_time": "2022-10-14T20:02:21.239Z"
   },
   {
    "duration": 19,
    "start_time": "2022-10-14T20:02:21.350Z"
   },
   {
    "duration": 2186,
    "start_time": "2022-10-14T20:02:21.371Z"
   },
   {
    "duration": 6,
    "start_time": "2022-10-14T20:02:23.559Z"
   },
   {
    "duration": 18,
    "start_time": "2022-10-14T20:02:23.567Z"
   },
   {
    "duration": 38,
    "start_time": "2022-10-14T20:02:23.588Z"
   },
   {
    "duration": 12,
    "start_time": "2022-10-14T20:02:23.628Z"
   },
   {
    "duration": 11,
    "start_time": "2022-10-14T20:02:23.642Z"
   },
   {
    "duration": 25,
    "start_time": "2022-10-14T20:02:23.655Z"
   },
   {
    "duration": 9,
    "start_time": "2022-10-14T20:02:23.682Z"
   },
   {
    "duration": 25,
    "start_time": "2022-10-14T20:02:23.693Z"
   },
   {
    "duration": 14,
    "start_time": "2022-10-14T20:02:23.720Z"
   },
   {
    "duration": 22,
    "start_time": "2022-10-14T20:02:23.736Z"
   },
   {
    "duration": 39,
    "start_time": "2022-10-14T20:02:23.760Z"
   },
   {
    "duration": 28,
    "start_time": "2022-10-14T20:02:23.801Z"
   },
   {
    "duration": 38,
    "start_time": "2022-10-14T20:02:23.831Z"
   },
   {
    "duration": 102,
    "start_time": "2022-10-14T20:02:23.872Z"
   },
   {
    "duration": 8,
    "start_time": "2022-10-14T20:02:23.976Z"
   },
   {
    "duration": 292,
    "start_time": "2022-10-14T20:02:23.987Z"
   },
   {
    "duration": 15,
    "start_time": "2022-10-14T20:02:24.281Z"
   },
   {
    "duration": 133,
    "start_time": "2022-10-14T20:02:24.298Z"
   },
   {
    "duration": 33,
    "start_time": "2022-10-14T20:02:24.433Z"
   },
   {
    "duration": 32,
    "start_time": "2022-10-14T20:02:24.469Z"
   },
   {
    "duration": 5,
    "start_time": "2022-10-14T20:02:24.504Z"
   },
   {
    "duration": 14,
    "start_time": "2022-10-14T20:02:24.510Z"
   },
   {
    "duration": 11,
    "start_time": "2022-10-14T20:02:24.526Z"
   },
   {
    "duration": 146,
    "start_time": "2022-10-14T20:02:24.538Z"
   },
   {
    "duration": 18,
    "start_time": "2022-10-14T20:02:24.686Z"
   },
   {
    "duration": 6,
    "start_time": "2022-10-14T20:02:24.706Z"
   },
   {
    "duration": 8,
    "start_time": "2022-10-14T20:02:24.714Z"
   },
   {
    "duration": 5,
    "start_time": "2022-10-14T20:02:24.724Z"
   },
   {
    "duration": 8,
    "start_time": "2022-10-14T20:02:24.731Z"
   },
   {
    "duration": 47,
    "start_time": "2022-10-14T20:02:24.754Z"
   },
   {
    "duration": 0,
    "start_time": "2022-10-14T20:02:24.803Z"
   },
   {
    "duration": 0,
    "start_time": "2022-10-14T20:02:24.805Z"
   },
   {
    "duration": 8,
    "start_time": "2022-10-14T20:12:34.277Z"
   },
   {
    "duration": 12,
    "start_time": "2022-10-14T20:13:03.447Z"
   },
   {
    "duration": 9,
    "start_time": "2022-10-14T20:13:10.264Z"
   },
   {
    "duration": 17,
    "start_time": "2022-10-14T20:13:13.457Z"
   },
   {
    "duration": 10,
    "start_time": "2022-10-14T20:13:17.311Z"
   },
   {
    "duration": 17,
    "start_time": "2022-10-14T20:13:20.922Z"
   },
   {
    "duration": 71,
    "start_time": "2022-10-14T20:14:32.046Z"
   },
   {
    "duration": 7,
    "start_time": "2022-10-14T20:16:28.243Z"
   },
   {
    "duration": 6,
    "start_time": "2022-10-14T20:16:30.410Z"
   },
   {
    "duration": 11,
    "start_time": "2022-10-14T20:16:31.944Z"
   },
   {
    "duration": 18,
    "start_time": "2022-10-14T20:16:32.410Z"
   },
   {
    "duration": 3,
    "start_time": "2022-10-14T20:16:35.022Z"
   },
   {
    "duration": 421,
    "start_time": "2022-10-14T20:16:36.411Z"
   },
   {
    "duration": 7,
    "start_time": "2022-10-14T20:16:36.964Z"
   },
   {
    "duration": 8,
    "start_time": "2022-10-14T20:18:46.586Z"
   },
   {
    "duration": 7,
    "start_time": "2022-10-14T20:22:17.248Z"
   },
   {
    "duration": 99,
    "start_time": "2022-10-14T20:25:47.615Z"
   },
   {
    "duration": 184,
    "start_time": "2022-10-14T20:29:16.344Z"
   },
   {
    "duration": 392,
    "start_time": "2022-10-14T20:29:51.781Z"
   },
   {
    "duration": 3,
    "start_time": "2022-10-14T20:29:52.175Z"
   },
   {
    "duration": 276,
    "start_time": "2022-10-14T20:29:52.179Z"
   },
   {
    "duration": 3,
    "start_time": "2022-10-14T20:29:52.457Z"
   },
   {
    "duration": 90,
    "start_time": "2022-10-14T20:29:52.462Z"
   },
   {
    "duration": 18,
    "start_time": "2022-10-14T20:29:52.554Z"
   },
   {
    "duration": 2127,
    "start_time": "2022-10-14T20:29:52.574Z"
   },
   {
    "duration": 5,
    "start_time": "2022-10-14T20:29:54.702Z"
   },
   {
    "duration": 19,
    "start_time": "2022-10-14T20:29:54.709Z"
   },
   {
    "duration": 36,
    "start_time": "2022-10-14T20:29:54.730Z"
   },
   {
    "duration": 12,
    "start_time": "2022-10-14T20:29:54.769Z"
   },
   {
    "duration": 16,
    "start_time": "2022-10-14T20:29:54.783Z"
   },
   {
    "duration": 21,
    "start_time": "2022-10-14T20:29:54.801Z"
   },
   {
    "duration": 8,
    "start_time": "2022-10-14T20:29:54.825Z"
   },
   {
    "duration": 16,
    "start_time": "2022-10-14T20:29:54.834Z"
   },
   {
    "duration": 14,
    "start_time": "2022-10-14T20:29:54.854Z"
   },
   {
    "duration": 9,
    "start_time": "2022-10-14T20:29:54.870Z"
   },
   {
    "duration": 34,
    "start_time": "2022-10-14T20:29:54.881Z"
   },
   {
    "duration": 44,
    "start_time": "2022-10-14T20:29:54.917Z"
   },
   {
    "duration": 12,
    "start_time": "2022-10-14T20:29:54.963Z"
   },
   {
    "duration": 83,
    "start_time": "2022-10-14T20:29:54.976Z"
   },
   {
    "duration": 9,
    "start_time": "2022-10-14T20:29:55.061Z"
   },
   {
    "duration": 288,
    "start_time": "2022-10-14T20:29:55.072Z"
   },
   {
    "duration": 10,
    "start_time": "2022-10-14T20:29:55.361Z"
   },
   {
    "duration": 128,
    "start_time": "2022-10-14T20:29:55.373Z"
   },
   {
    "duration": 30,
    "start_time": "2022-10-14T20:29:55.504Z"
   },
   {
    "duration": 31,
    "start_time": "2022-10-14T20:29:55.536Z"
   },
   {
    "duration": 7,
    "start_time": "2022-10-14T20:29:55.569Z"
   },
   {
    "duration": 15,
    "start_time": "2022-10-14T20:29:55.578Z"
   },
   {
    "duration": 11,
    "start_time": "2022-10-14T20:29:55.595Z"
   },
   {
    "duration": 149,
    "start_time": "2022-10-14T20:29:55.607Z"
   },
   {
    "duration": 15,
    "start_time": "2022-10-14T20:29:55.758Z"
   },
   {
    "duration": 13,
    "start_time": "2022-10-14T20:29:55.775Z"
   },
   {
    "duration": 82,
    "start_time": "2022-10-14T20:29:55.789Z"
   },
   {
    "duration": 8,
    "start_time": "2022-10-14T20:29:55.872Z"
   },
   {
    "duration": 9,
    "start_time": "2022-10-14T20:29:55.882Z"
   },
   {
    "duration": 16,
    "start_time": "2022-10-14T20:29:55.893Z"
   },
   {
    "duration": 30,
    "start_time": "2022-10-14T20:29:55.911Z"
   },
   {
    "duration": 3,
    "start_time": "2022-10-14T20:29:55.942Z"
   },
   {
    "duration": 433,
    "start_time": "2022-10-14T20:29:55.947Z"
   },
   {
    "duration": 6,
    "start_time": "2022-10-14T20:29:56.384Z"
   },
   {
    "duration": 117,
    "start_time": "2022-10-14T20:29:56.392Z"
   },
   {
    "duration": 195,
    "start_time": "2022-10-14T20:29:56.511Z"
   },
   {
    "duration": 8,
    "start_time": "2022-10-15T05:33:41.124Z"
   },
   {
    "duration": 3,
    "start_time": "2022-10-15T05:33:51.388Z"
   },
   {
    "duration": 46,
    "start_time": "2022-10-15T05:33:57.085Z"
   },
   {
    "duration": 372,
    "start_time": "2022-10-15T05:34:08.529Z"
   },
   {
    "duration": 2,
    "start_time": "2022-10-15T05:34:08.902Z"
   },
   {
    "duration": 395,
    "start_time": "2022-10-15T05:34:08.906Z"
   },
   {
    "duration": 2,
    "start_time": "2022-10-15T05:34:09.303Z"
   },
   {
    "duration": 118,
    "start_time": "2022-10-15T05:34:09.309Z"
   },
   {
    "duration": 14,
    "start_time": "2022-10-15T05:34:09.428Z"
   },
   {
    "duration": 1688,
    "start_time": "2022-10-15T05:34:09.444Z"
   },
   {
    "duration": 4,
    "start_time": "2022-10-15T05:34:11.134Z"
   },
   {
    "duration": 5,
    "start_time": "2022-10-15T05:34:11.139Z"
   },
   {
    "duration": 15,
    "start_time": "2022-10-15T05:34:11.146Z"
   },
   {
    "duration": 8,
    "start_time": "2022-10-15T05:34:11.162Z"
   },
   {
    "duration": 4,
    "start_time": "2022-10-15T05:34:11.171Z"
   },
   {
    "duration": 9,
    "start_time": "2022-10-15T05:34:11.177Z"
   },
   {
    "duration": 8,
    "start_time": "2022-10-15T05:34:11.188Z"
   },
   {
    "duration": 16,
    "start_time": "2022-10-15T05:34:11.198Z"
   },
   {
    "duration": 5,
    "start_time": "2022-10-15T05:34:11.215Z"
   },
   {
    "duration": 8,
    "start_time": "2022-10-15T05:34:11.222Z"
   },
   {
    "duration": 35,
    "start_time": "2022-10-15T05:34:11.231Z"
   },
   {
    "duration": 46,
    "start_time": "2022-10-15T05:34:11.268Z"
   },
   {
    "duration": 11,
    "start_time": "2022-10-15T05:34:11.315Z"
   },
   {
    "duration": 84,
    "start_time": "2022-10-15T05:34:11.327Z"
   },
   {
    "duration": 6,
    "start_time": "2022-10-15T05:34:11.413Z"
   },
   {
    "duration": 234,
    "start_time": "2022-10-15T05:34:11.420Z"
   },
   {
    "duration": 9,
    "start_time": "2022-10-15T05:34:11.656Z"
   },
   {
    "duration": 106,
    "start_time": "2022-10-15T05:34:11.667Z"
   },
   {
    "duration": 38,
    "start_time": "2022-10-15T05:34:11.775Z"
   },
   {
    "duration": 17,
    "start_time": "2022-10-15T05:34:11.815Z"
   },
   {
    "duration": 5,
    "start_time": "2022-10-15T05:34:11.834Z"
   },
   {
    "duration": 9,
    "start_time": "2022-10-15T05:34:11.841Z"
   },
   {
    "duration": 6,
    "start_time": "2022-10-15T05:34:11.852Z"
   },
   {
    "duration": 125,
    "start_time": "2022-10-15T05:34:11.860Z"
   },
   {
    "duration": 12,
    "start_time": "2022-10-15T05:34:11.986Z"
   },
   {
    "duration": 5,
    "start_time": "2022-10-15T05:34:12.008Z"
   },
   {
    "duration": 63,
    "start_time": "2022-10-15T05:34:12.014Z"
   },
   {
    "duration": 6,
    "start_time": "2022-10-15T05:34:12.079Z"
   },
   {
    "duration": 26,
    "start_time": "2022-10-15T05:34:12.087Z"
   },
   {
    "duration": 10,
    "start_time": "2022-10-15T05:34:12.114Z"
   },
   {
    "duration": 31,
    "start_time": "2022-10-15T05:34:12.125Z"
   },
   {
    "duration": 3,
    "start_time": "2022-10-15T05:34:12.157Z"
   },
   {
    "duration": 395,
    "start_time": "2022-10-15T05:34:12.161Z"
   },
   {
    "duration": 7,
    "start_time": "2022-10-15T05:34:12.559Z"
   },
   {
    "duration": 94,
    "start_time": "2022-10-15T05:34:12.567Z"
   },
   {
    "duration": 11131,
    "start_time": "2022-10-15T05:34:12.663Z"
   },
   {
    "duration": 188,
    "start_time": "2022-10-15T05:39:35.467Z"
   },
   {
    "duration": 149,
    "start_time": "2022-10-15T05:40:19.906Z"
   },
   {
    "duration": 11362,
    "start_time": "2022-10-15T05:44:06.913Z"
   },
   {
    "duration": 130,
    "start_time": "2022-10-15T05:45:18.994Z"
   },
   {
    "duration": 134,
    "start_time": "2022-10-15T05:45:37.038Z"
   },
   {
    "duration": 134,
    "start_time": "2022-10-15T05:45:53.547Z"
   },
   {
    "duration": 148,
    "start_time": "2022-10-15T05:46:02.178Z"
   },
   {
    "duration": 147,
    "start_time": "2022-10-15T05:46:24.667Z"
   },
   {
    "duration": 11,
    "start_time": "2022-10-15T05:50:41.955Z"
   },
   {
    "duration": 7,
    "start_time": "2022-10-15T05:51:10.195Z"
   },
   {
    "duration": 44,
    "start_time": "2022-10-15T05:54:38.625Z"
   },
   {
    "duration": 232,
    "start_time": "2022-10-15T05:54:43.597Z"
   },
   {
    "duration": 190,
    "start_time": "2022-10-15T05:54:58.176Z"
   },
   {
    "duration": 177,
    "start_time": "2022-10-15T05:55:22.445Z"
   },
   {
    "duration": 172,
    "start_time": "2022-10-15T05:55:28.583Z"
   },
   {
    "duration": 44,
    "start_time": "2022-10-15T06:01:42.765Z"
   },
   {
    "duration": 8,
    "start_time": "2022-10-15T06:22:10.433Z"
   },
   {
    "duration": 13,
    "start_time": "2022-10-15T06:22:57.538Z"
   },
   {
    "duration": 96,
    "start_time": "2022-10-15T06:23:19.217Z"
   },
   {
    "duration": 162,
    "start_time": "2022-10-15T06:24:10.744Z"
   },
   {
    "duration": 169,
    "start_time": "2022-10-15T06:24:20.446Z"
   },
   {
    "duration": 170,
    "start_time": "2022-10-15T06:24:33.615Z"
   },
   {
    "duration": 167,
    "start_time": "2022-10-15T06:24:40.476Z"
   },
   {
    "duration": 378,
    "start_time": "2022-10-15T06:24:47.388Z"
   },
   {
    "duration": 217,
    "start_time": "2022-10-15T06:24:56.738Z"
   },
   {
    "duration": 8,
    "start_time": "2022-10-15T06:25:24.478Z"
   },
   {
    "duration": 228,
    "start_time": "2022-10-15T06:26:07.088Z"
   },
   {
    "duration": 225,
    "start_time": "2022-10-15T06:26:18.536Z"
   },
   {
    "duration": 236,
    "start_time": "2022-10-15T06:26:26.131Z"
   },
   {
    "duration": 225,
    "start_time": "2022-10-15T06:26:32.491Z"
   },
   {
    "duration": 247,
    "start_time": "2022-10-15T06:27:34.494Z"
   },
   {
    "duration": 234,
    "start_time": "2022-10-15T06:27:43.423Z"
   },
   {
    "duration": 220,
    "start_time": "2022-10-15T06:27:52.228Z"
   },
   {
    "duration": 240,
    "start_time": "2022-10-15T06:27:58.571Z"
   },
   {
    "duration": 244,
    "start_time": "2022-10-15T06:28:06.186Z"
   },
   {
    "duration": 245,
    "start_time": "2022-10-15T06:28:49.159Z"
   },
   {
    "duration": 445,
    "start_time": "2022-10-15T06:29:03.966Z"
   },
   {
    "duration": 222,
    "start_time": "2022-10-15T06:29:15.143Z"
   },
   {
    "duration": 224,
    "start_time": "2022-10-15T06:29:22.458Z"
   },
   {
    "duration": 243,
    "start_time": "2022-10-15T06:29:35.274Z"
   },
   {
    "duration": 226,
    "start_time": "2022-10-15T06:29:42.689Z"
   },
   {
    "duration": 226,
    "start_time": "2022-10-15T06:29:49.442Z"
   },
   {
    "duration": 133,
    "start_time": "2022-10-15T06:31:15.153Z"
   },
   {
    "duration": 56,
    "start_time": "2022-10-15T06:31:47.744Z"
   },
   {
    "duration": 60,
    "start_time": "2022-10-15T06:32:54.403Z"
   },
   {
    "duration": 261,
    "start_time": "2022-10-15T07:01:34.814Z"
   },
   {
    "duration": 230,
    "start_time": "2022-10-15T07:02:06.842Z"
   },
   {
    "duration": 220,
    "start_time": "2022-10-15T07:02:14.843Z"
   },
   {
    "duration": 239,
    "start_time": "2022-10-15T07:02:35.531Z"
   },
   {
    "duration": 223,
    "start_time": "2022-10-15T07:02:48.674Z"
   },
   {
    "duration": 225,
    "start_time": "2022-10-15T07:02:53.500Z"
   },
   {
    "duration": 225,
    "start_time": "2022-10-15T07:02:59.780Z"
   },
   {
    "duration": 279,
    "start_time": "2022-10-15T07:03:10.883Z"
   },
   {
    "duration": 528,
    "start_time": "2022-10-15T07:03:23.451Z"
   },
   {
    "duration": 227,
    "start_time": "2022-10-15T07:04:07.514Z"
   },
   {
    "duration": 231,
    "start_time": "2022-10-15T07:04:27.937Z"
   },
   {
    "duration": 238,
    "start_time": "2022-10-15T07:04:38.282Z"
   },
   {
    "duration": 264,
    "start_time": "2022-10-15T07:04:44.494Z"
   },
   {
    "duration": 235,
    "start_time": "2022-10-15T07:04:49.518Z"
   },
   {
    "duration": 231,
    "start_time": "2022-10-15T07:04:54.125Z"
   },
   {
    "duration": 216,
    "start_time": "2022-10-15T07:05:19.117Z"
   },
   {
    "duration": 269,
    "start_time": "2022-10-15T07:05:43.528Z"
   },
   {
    "duration": 215,
    "start_time": "2022-10-15T07:06:11.029Z"
   },
   {
    "duration": 216,
    "start_time": "2022-10-15T07:06:22.705Z"
   },
   {
    "duration": 248,
    "start_time": "2022-10-15T07:06:27.047Z"
   },
   {
    "duration": 221,
    "start_time": "2022-10-15T07:06:35.922Z"
   },
   {
    "duration": 226,
    "start_time": "2022-10-15T07:06:40.255Z"
   },
   {
    "duration": 224,
    "start_time": "2022-10-15T07:06:51.557Z"
   },
   {
    "duration": 233,
    "start_time": "2022-10-15T07:06:58.240Z"
   },
   {
    "duration": 247,
    "start_time": "2022-10-15T07:07:21.055Z"
   },
   {
    "duration": 541,
    "start_time": "2022-10-15T07:07:27.617Z"
   },
   {
    "duration": 237,
    "start_time": "2022-10-15T07:07:39.664Z"
   },
   {
    "duration": 222,
    "start_time": "2022-10-15T07:07:49.355Z"
   },
   {
    "duration": 232,
    "start_time": "2022-10-15T07:07:53.667Z"
   },
   {
    "duration": 233,
    "start_time": "2022-10-15T07:07:58.654Z"
   },
   {
    "duration": 241,
    "start_time": "2022-10-15T07:08:02.685Z"
   },
   {
    "duration": 221,
    "start_time": "2022-10-15T07:08:08.633Z"
   },
   {
    "duration": 232,
    "start_time": "2022-10-15T07:08:12.645Z"
   },
   {
    "duration": 235,
    "start_time": "2022-10-15T07:08:15.322Z"
   },
   {
    "duration": 239,
    "start_time": "2022-10-15T07:08:19.930Z"
   },
   {
    "duration": 248,
    "start_time": "2022-10-15T07:08:29.095Z"
   },
   {
    "duration": 234,
    "start_time": "2022-10-15T07:08:40.540Z"
   },
   {
    "duration": 243,
    "start_time": "2022-10-15T07:08:46.389Z"
   },
   {
    "duration": 217,
    "start_time": "2022-10-15T07:09:16.654Z"
   },
   {
    "duration": 245,
    "start_time": "2022-10-15T07:09:26.385Z"
   },
   {
    "duration": 219,
    "start_time": "2022-10-15T07:09:32.277Z"
   },
   {
    "duration": 229,
    "start_time": "2022-10-15T07:09:36.893Z"
   },
   {
    "duration": 236,
    "start_time": "2022-10-15T07:09:40.473Z"
   },
   {
    "duration": 243,
    "start_time": "2022-10-15T07:09:51.870Z"
   },
   {
    "duration": 239,
    "start_time": "2022-10-15T07:09:57.235Z"
   },
   {
    "duration": 221,
    "start_time": "2022-10-15T07:10:06.671Z"
   },
   {
    "duration": 12,
    "start_time": "2022-10-15T07:21:41.906Z"
   },
   {
    "duration": 10,
    "start_time": "2022-10-15T07:22:12.985Z"
   },
   {
    "duration": 419,
    "start_time": "2022-10-15T07:23:58.641Z"
   },
   {
    "duration": 27,
    "start_time": "2022-10-15T07:27:08.891Z"
   },
   {
    "duration": 29,
    "start_time": "2022-10-15T07:27:25.582Z"
   },
   {
    "duration": 27,
    "start_time": "2022-10-15T07:28:30.751Z"
   },
   {
    "duration": 29,
    "start_time": "2022-10-15T07:28:49.557Z"
   },
   {
    "duration": 12,
    "start_time": "2022-10-15T07:31:55.720Z"
   },
   {
    "duration": 39,
    "start_time": "2022-10-15T07:32:09.450Z"
   },
   {
    "duration": 37,
    "start_time": "2022-10-15T07:37:11.538Z"
   },
   {
    "duration": 418,
    "start_time": "2022-10-15T09:14:36.292Z"
   },
   {
    "duration": 2,
    "start_time": "2022-10-15T09:14:36.712Z"
   },
   {
    "duration": 405,
    "start_time": "2022-10-15T09:14:36.716Z"
   },
   {
    "duration": 3,
    "start_time": "2022-10-15T09:14:37.123Z"
   },
   {
    "duration": 338,
    "start_time": "2022-10-15T09:14:37.128Z"
   },
   {
    "duration": 18,
    "start_time": "2022-10-15T09:14:37.468Z"
   },
   {
    "duration": 2065,
    "start_time": "2022-10-15T09:14:37.488Z"
   },
   {
    "duration": 5,
    "start_time": "2022-10-15T09:14:39.555Z"
   },
   {
    "duration": 13,
    "start_time": "2022-10-15T09:14:39.562Z"
   },
   {
    "duration": 19,
    "start_time": "2022-10-15T09:14:39.577Z"
   },
   {
    "duration": 9,
    "start_time": "2022-10-15T09:14:39.598Z"
   },
   {
    "duration": 7,
    "start_time": "2022-10-15T09:14:39.609Z"
   },
   {
    "duration": 11,
    "start_time": "2022-10-15T09:14:39.618Z"
   },
   {
    "duration": 8,
    "start_time": "2022-10-15T09:14:39.632Z"
   },
   {
    "duration": 14,
    "start_time": "2022-10-15T09:14:39.642Z"
   },
   {
    "duration": 36,
    "start_time": "2022-10-15T09:14:39.658Z"
   },
   {
    "duration": 14,
    "start_time": "2022-10-15T09:14:39.695Z"
   },
   {
    "duration": 38,
    "start_time": "2022-10-15T09:14:39.710Z"
   },
   {
    "duration": 46,
    "start_time": "2022-10-15T09:14:39.750Z"
   },
   {
    "duration": 12,
    "start_time": "2022-10-15T09:14:39.798Z"
   },
   {
    "duration": 91,
    "start_time": "2022-10-15T09:14:39.811Z"
   },
   {
    "duration": 9,
    "start_time": "2022-10-15T09:14:39.903Z"
   },
   {
    "duration": 285,
    "start_time": "2022-10-15T09:14:39.914Z"
   },
   {
    "duration": 11,
    "start_time": "2022-10-15T09:14:40.201Z"
   },
   {
    "duration": 140,
    "start_time": "2022-10-15T09:14:40.214Z"
   },
   {
    "duration": 41,
    "start_time": "2022-10-15T09:14:40.355Z"
   },
   {
    "duration": 23,
    "start_time": "2022-10-15T09:14:40.398Z"
   },
   {
    "duration": 15,
    "start_time": "2022-10-15T09:14:40.423Z"
   },
   {
    "duration": 23,
    "start_time": "2022-10-15T09:14:40.440Z"
   },
   {
    "duration": 28,
    "start_time": "2022-10-15T09:14:40.465Z"
   },
   {
    "duration": 139,
    "start_time": "2022-10-15T09:14:40.495Z"
   },
   {
    "duration": 17,
    "start_time": "2022-10-15T09:14:40.635Z"
   },
   {
    "duration": 10,
    "start_time": "2022-10-15T09:14:40.654Z"
   },
   {
    "duration": 81,
    "start_time": "2022-10-15T09:14:40.666Z"
   },
   {
    "duration": 10,
    "start_time": "2022-10-15T09:14:40.749Z"
   },
   {
    "duration": 11,
    "start_time": "2022-10-15T09:14:40.761Z"
   },
   {
    "duration": 12,
    "start_time": "2022-10-15T09:14:40.773Z"
   },
   {
    "duration": 38,
    "start_time": "2022-10-15T09:14:40.787Z"
   },
   {
    "duration": 3,
    "start_time": "2022-10-15T09:14:40.827Z"
   },
   {
    "duration": 547,
    "start_time": "2022-10-15T09:14:40.833Z"
   },
   {
    "duration": 8,
    "start_time": "2022-10-15T09:14:41.389Z"
   },
   {
    "duration": 126,
    "start_time": "2022-10-15T09:14:41.399Z"
   },
   {
    "duration": 318,
    "start_time": "2022-10-15T09:14:41.527Z"
   },
   {
    "duration": 305,
    "start_time": "2022-10-15T09:14:41.847Z"
   },
   {
    "duration": 289,
    "start_time": "2022-10-15T09:14:42.153Z"
   },
   {
    "duration": 279,
    "start_time": "2022-10-15T09:14:42.444Z"
   },
   {
    "duration": 272,
    "start_time": "2022-10-15T09:14:42.725Z"
   },
   {
    "duration": 381,
    "start_time": "2022-10-15T09:14:42.999Z"
   },
   {
    "duration": 296,
    "start_time": "2022-10-15T09:14:43.381Z"
   },
   {
    "duration": 263,
    "start_time": "2022-10-15T09:14:43.678Z"
   },
   {
    "duration": 276,
    "start_time": "2022-10-15T09:14:43.943Z"
   },
   {
    "duration": 317,
    "start_time": "2022-10-15T09:14:44.220Z"
   },
   {
    "duration": 408,
    "start_time": "2022-10-15T09:14:44.538Z"
   },
   {
    "duration": 281,
    "start_time": "2022-10-15T09:14:44.948Z"
   },
   {
    "duration": 298,
    "start_time": "2022-10-15T09:14:45.231Z"
   },
   {
    "duration": 298,
    "start_time": "2022-10-15T09:14:45.531Z"
   },
   {
    "duration": 221,
    "start_time": "2022-10-15T09:14:45.831Z"
   },
   {
    "duration": 8,
    "start_time": "2022-10-15T09:14:46.054Z"
   },
   {
    "duration": 59,
    "start_time": "2022-10-15T09:14:46.064Z"
   },
   {
    "duration": 76,
    "start_time": "2022-10-15T09:14:46.125Z"
   },
   {
    "duration": 18,
    "start_time": "2022-10-15T09:20:21.963Z"
   },
   {
    "duration": 16,
    "start_time": "2022-10-15T09:20:44.947Z"
   },
   {
    "duration": 93,
    "start_time": "2022-10-15T09:38:31.443Z"
   },
   {
    "duration": 15,
    "start_time": "2022-10-15T09:42:34.964Z"
   },
   {
    "duration": 92,
    "start_time": "2022-10-15T09:44:00.110Z"
   },
   {
    "duration": 15,
    "start_time": "2022-10-15T09:44:11.032Z"
   },
   {
    "duration": 15,
    "start_time": "2022-10-15T09:44:37.834Z"
   },
   {
    "duration": 15,
    "start_time": "2022-10-15T09:44:54.032Z"
   },
   {
    "duration": 22,
    "start_time": "2022-10-15T09:45:06.576Z"
   },
   {
    "duration": 15,
    "start_time": "2022-10-15T09:45:19.460Z"
   },
   {
    "duration": 14,
    "start_time": "2022-10-15T09:45:21.128Z"
   },
   {
    "duration": 17,
    "start_time": "2022-10-15T09:46:43.658Z"
   },
   {
    "duration": 10,
    "start_time": "2022-10-15T09:48:37.809Z"
   },
   {
    "duration": 10,
    "start_time": "2022-10-15T09:48:54.100Z"
   },
   {
    "duration": 15,
    "start_time": "2022-10-15T09:49:57.179Z"
   },
   {
    "duration": 6,
    "start_time": "2022-10-15T09:50:47.196Z"
   },
   {
    "duration": 10,
    "start_time": "2022-10-15T09:51:00.046Z"
   },
   {
    "duration": 21,
    "start_time": "2022-10-15T09:51:14.232Z"
   },
   {
    "duration": 9,
    "start_time": "2022-10-15T09:51:30.313Z"
   },
   {
    "duration": 8,
    "start_time": "2022-10-15T09:51:48.274Z"
   },
   {
    "duration": 12,
    "start_time": "2022-10-15T09:53:23.634Z"
   },
   {
    "duration": 9,
    "start_time": "2022-10-15T09:53:45.824Z"
   },
   {
    "duration": 9,
    "start_time": "2022-10-15T09:55:06.322Z"
   },
   {
    "duration": 16,
    "start_time": "2022-10-15T09:55:08.075Z"
   },
   {
    "duration": 15,
    "start_time": "2022-10-15T09:55:18.965Z"
   },
   {
    "duration": 14,
    "start_time": "2022-10-15T09:57:37.558Z"
   },
   {
    "duration": 14,
    "start_time": "2022-10-15T09:57:38.689Z"
   },
   {
    "duration": 19,
    "start_time": "2022-10-15T09:58:09.185Z"
   },
   {
    "duration": 14,
    "start_time": "2022-10-15T09:58:10.776Z"
   },
   {
    "duration": 11,
    "start_time": "2022-10-15T09:58:23.353Z"
   },
   {
    "duration": 13,
    "start_time": "2022-10-15T09:59:31.434Z"
   },
   {
    "duration": 10,
    "start_time": "2022-10-15T09:59:55.841Z"
   },
   {
    "duration": 13,
    "start_time": "2022-10-15T10:00:07.142Z"
   },
   {
    "duration": 11,
    "start_time": "2022-10-15T10:02:40.282Z"
   },
   {
    "duration": 3,
    "start_time": "2022-10-15T10:05:17.187Z"
   },
   {
    "duration": 6,
    "start_time": "2022-10-15T10:05:26.750Z"
   },
   {
    "duration": 10,
    "start_time": "2022-10-15T10:06:07.265Z"
   },
   {
    "duration": 18,
    "start_time": "2022-10-15T10:06:35.672Z"
   },
   {
    "duration": 18,
    "start_time": "2022-10-15T10:06:44.956Z"
   },
   {
    "duration": 12,
    "start_time": "2022-10-15T10:06:52.415Z"
   },
   {
    "duration": 16,
    "start_time": "2022-10-15T10:07:26.942Z"
   },
   {
    "duration": 14,
    "start_time": "2022-10-15T10:07:28.767Z"
   },
   {
    "duration": 9,
    "start_time": "2022-10-15T10:07:51.078Z"
   },
   {
    "duration": 10,
    "start_time": "2022-10-15T10:08:05.456Z"
   },
   {
    "duration": 13,
    "start_time": "2022-10-15T10:12:19.415Z"
   },
   {
    "duration": 18,
    "start_time": "2022-10-15T10:12:35.786Z"
   },
   {
    "duration": 12,
    "start_time": "2022-10-15T10:14:14.335Z"
   },
   {
    "duration": 18,
    "start_time": "2022-10-15T10:14:34.803Z"
   },
   {
    "duration": 21,
    "start_time": "2022-10-15T10:15:08.666Z"
   },
   {
    "duration": 20,
    "start_time": "2022-10-15T10:15:41.257Z"
   },
   {
    "duration": 15,
    "start_time": "2022-10-15T10:17:32.773Z"
   },
   {
    "duration": 15,
    "start_time": "2022-10-15T10:17:44.247Z"
   },
   {
    "duration": 14,
    "start_time": "2022-10-15T10:17:53.090Z"
   },
   {
    "duration": 19,
    "start_time": "2022-10-15T10:18:24.365Z"
   },
   {
    "duration": 18,
    "start_time": "2022-10-15T10:19:38.195Z"
   },
   {
    "duration": 20,
    "start_time": "2022-10-15T10:19:53.422Z"
   },
   {
    "duration": 14,
    "start_time": "2022-10-15T10:20:00.896Z"
   },
   {
    "duration": 13,
    "start_time": "2022-10-15T10:20:15.908Z"
   },
   {
    "duration": 18,
    "start_time": "2022-10-15T10:20:30.518Z"
   },
   {
    "duration": 47,
    "start_time": "2022-10-15T10:26:18.962Z"
   },
   {
    "duration": 9,
    "start_time": "2022-10-15T10:27:23.610Z"
   },
   {
    "duration": 14,
    "start_time": "2022-10-15T10:30:28.477Z"
   },
   {
    "duration": 17,
    "start_time": "2022-10-15T10:30:40.733Z"
   },
   {
    "duration": 22,
    "start_time": "2022-10-15T10:32:29.974Z"
   },
   {
    "duration": 28,
    "start_time": "2022-10-15T10:32:54.306Z"
   },
   {
    "duration": 22,
    "start_time": "2022-10-15T10:33:04.523Z"
   },
   {
    "duration": 22,
    "start_time": "2022-10-15T10:33:48.344Z"
   },
   {
    "duration": 181,
    "start_time": "2022-10-15T10:35:47.350Z"
   },
   {
    "duration": 6,
    "start_time": "2022-10-15T10:36:33.998Z"
   },
   {
    "duration": 25,
    "start_time": "2022-10-15T10:38:13.850Z"
   },
   {
    "duration": 19,
    "start_time": "2022-10-15T10:38:26.201Z"
   },
   {
    "duration": 289,
    "start_time": "2022-10-15T10:38:51.539Z"
   },
   {
    "duration": 22,
    "start_time": "2022-10-15T10:39:06.773Z"
   },
   {
    "duration": 370,
    "start_time": "2022-10-15T10:42:28.040Z"
   },
   {
    "duration": 5,
    "start_time": "2022-10-15T10:42:57.774Z"
   },
   {
    "duration": 439,
    "start_time": "2022-10-15T10:43:45.053Z"
   },
   {
    "duration": 3,
    "start_time": "2022-10-15T10:43:45.495Z"
   },
   {
    "duration": 274,
    "start_time": "2022-10-15T10:43:45.500Z"
   },
   {
    "duration": 2,
    "start_time": "2022-10-15T10:43:45.776Z"
   },
   {
    "duration": 115,
    "start_time": "2022-10-15T10:43:45.781Z"
   },
   {
    "duration": 19,
    "start_time": "2022-10-15T10:43:45.897Z"
   },
   {
    "duration": 2123,
    "start_time": "2022-10-15T10:43:45.918Z"
   },
   {
    "duration": 4,
    "start_time": "2022-10-15T10:43:48.043Z"
   },
   {
    "duration": 14,
    "start_time": "2022-10-15T10:43:48.049Z"
   },
   {
    "duration": 53,
    "start_time": "2022-10-15T10:43:48.065Z"
   },
   {
    "duration": 15,
    "start_time": "2022-10-15T10:43:48.120Z"
   },
   {
    "duration": 17,
    "start_time": "2022-10-15T10:43:48.137Z"
   },
   {
    "duration": 24,
    "start_time": "2022-10-15T10:43:48.156Z"
   },
   {
    "duration": 26,
    "start_time": "2022-10-15T10:43:48.184Z"
   },
   {
    "duration": 22,
    "start_time": "2022-10-15T10:43:48.212Z"
   },
   {
    "duration": 15,
    "start_time": "2022-10-15T10:43:48.236Z"
   },
   {
    "duration": 28,
    "start_time": "2022-10-15T10:43:48.252Z"
   },
   {
    "duration": 48,
    "start_time": "2022-10-15T10:43:48.282Z"
   },
   {
    "duration": 31,
    "start_time": "2022-10-15T10:43:48.332Z"
   },
   {
    "duration": 12,
    "start_time": "2022-10-15T10:43:48.365Z"
   },
   {
    "duration": 114,
    "start_time": "2022-10-15T10:43:48.379Z"
   },
   {
    "duration": 8,
    "start_time": "2022-10-15T10:43:48.494Z"
   },
   {
    "duration": 290,
    "start_time": "2022-10-15T10:43:48.504Z"
   },
   {
    "duration": 10,
    "start_time": "2022-10-15T10:43:48.796Z"
   },
   {
    "duration": 132,
    "start_time": "2022-10-15T10:43:48.807Z"
   },
   {
    "duration": 28,
    "start_time": "2022-10-15T10:43:48.941Z"
   },
   {
    "duration": 32,
    "start_time": "2022-10-15T10:43:48.971Z"
   },
   {
    "duration": 18,
    "start_time": "2022-10-15T10:43:49.005Z"
   },
   {
    "duration": 25,
    "start_time": "2022-10-15T10:43:49.025Z"
   },
   {
    "duration": 31,
    "start_time": "2022-10-15T10:43:49.052Z"
   },
   {
    "duration": 141,
    "start_time": "2022-10-15T10:43:49.085Z"
   },
   {
    "duration": 16,
    "start_time": "2022-10-15T10:43:49.228Z"
   },
   {
    "duration": 25,
    "start_time": "2022-10-15T10:43:49.245Z"
   },
   {
    "duration": 84,
    "start_time": "2022-10-15T10:43:49.272Z"
   },
   {
    "duration": 14,
    "start_time": "2022-10-15T10:43:49.357Z"
   },
   {
    "duration": 28,
    "start_time": "2022-10-15T10:43:49.373Z"
   },
   {
    "duration": 25,
    "start_time": "2022-10-15T10:43:49.403Z"
   },
   {
    "duration": 33,
    "start_time": "2022-10-15T10:43:49.430Z"
   },
   {
    "duration": 6,
    "start_time": "2022-10-15T10:43:49.466Z"
   },
   {
    "duration": 443,
    "start_time": "2022-10-15T10:43:49.474Z"
   },
   {
    "duration": 9,
    "start_time": "2022-10-15T10:43:49.922Z"
   },
   {
    "duration": 132,
    "start_time": "2022-10-15T10:43:49.933Z"
   },
   {
    "duration": 318,
    "start_time": "2022-10-15T10:43:50.067Z"
   },
   {
    "duration": 307,
    "start_time": "2022-10-15T10:43:50.387Z"
   },
   {
    "duration": 312,
    "start_time": "2022-10-15T10:43:50.697Z"
   },
   {
    "duration": 301,
    "start_time": "2022-10-15T10:43:51.011Z"
   },
   {
    "duration": 297,
    "start_time": "2022-10-15T10:43:51.314Z"
   },
   {
    "duration": 473,
    "start_time": "2022-10-15T10:43:51.613Z"
   },
   {
    "duration": 331,
    "start_time": "2022-10-15T10:43:52.088Z"
   },
   {
    "duration": 321,
    "start_time": "2022-10-15T10:43:52.421Z"
   },
   {
    "duration": 307,
    "start_time": "2022-10-15T10:43:52.744Z"
   },
   {
    "duration": 328,
    "start_time": "2022-10-15T10:43:53.053Z"
   },
   {
    "duration": 436,
    "start_time": "2022-10-15T10:43:53.390Z"
   },
   {
    "duration": 305,
    "start_time": "2022-10-15T10:43:53.828Z"
   },
   {
    "duration": 281,
    "start_time": "2022-10-15T10:43:54.135Z"
   },
   {
    "duration": 290,
    "start_time": "2022-10-15T10:43:54.418Z"
   },
   {
    "duration": 223,
    "start_time": "2022-10-15T10:43:54.710Z"
   },
   {
    "duration": 9,
    "start_time": "2022-10-15T10:43:54.934Z"
   },
   {
    "duration": 66,
    "start_time": "2022-10-15T10:43:54.944Z"
   },
   {
    "duration": 78,
    "start_time": "2022-10-15T10:43:55.012Z"
   },
   {
    "duration": 15,
    "start_time": "2022-10-15T10:43:55.092Z"
   },
   {
    "duration": 15,
    "start_time": "2022-10-15T10:43:55.109Z"
   },
   {
    "duration": 11,
    "start_time": "2022-10-15T10:43:55.126Z"
   },
   {
    "duration": 52,
    "start_time": "2022-10-15T10:43:55.138Z"
   },
   {
    "duration": 23,
    "start_time": "2022-10-15T10:43:55.192Z"
   },
   {
    "duration": 5,
    "start_time": "2022-10-15T10:43:55.216Z"
   },
   {
    "duration": 109,
    "start_time": "2022-10-15T10:52:56.544Z"
   },
   {
    "duration": 124,
    "start_time": "2022-10-15T10:56:31.232Z"
   },
   {
    "duration": 113,
    "start_time": "2022-10-15T10:56:37.514Z"
   },
   {
    "duration": 126,
    "start_time": "2022-10-15T10:57:13.431Z"
   },
   {
    "duration": 2130,
    "start_time": "2022-10-15T11:54:30.982Z"
   },
   {
    "duration": 340,
    "start_time": "2022-10-15T11:55:01.481Z"
   },
   {
    "duration": 483,
    "start_time": "2022-10-15T11:55:38.801Z"
   },
   {
    "duration": 332,
    "start_time": "2022-10-15T11:55:51.341Z"
   },
   {
    "duration": 276,
    "start_time": "2022-10-15T11:56:08.665Z"
   },
   {
    "duration": 70,
    "start_time": "2022-10-15T11:56:16.013Z"
   },
   {
    "duration": 366,
    "start_time": "2022-10-15T11:56:21.714Z"
   },
   {
    "duration": 267,
    "start_time": "2022-10-15T11:56:42.444Z"
   },
   {
    "duration": 268,
    "start_time": "2022-10-15T12:02:40.321Z"
   },
   {
    "duration": 281,
    "start_time": "2022-10-15T12:02:45.231Z"
   },
   {
    "duration": 276,
    "start_time": "2022-10-15T12:02:51.361Z"
   },
   {
    "duration": 11,
    "start_time": "2022-10-15T12:15:04.364Z"
   },
   {
    "duration": 285,
    "start_time": "2022-10-15T12:20:45.391Z"
   },
   {
    "duration": 282,
    "start_time": "2022-10-15T12:20:54.126Z"
   },
   {
    "duration": 268,
    "start_time": "2022-10-15T12:21:06.745Z"
   },
   {
    "duration": 53,
    "start_time": "2022-10-15T12:32:25.162Z"
   },
   {
    "duration": 63,
    "start_time": "2022-10-15T12:32:56.714Z"
   },
   {
    "duration": 52,
    "start_time": "2022-10-15T12:33:11.493Z"
   },
   {
    "duration": 66,
    "start_time": "2022-10-15T12:39:32.468Z"
   },
   {
    "duration": 25,
    "start_time": "2022-10-15T12:42:31.526Z"
   },
   {
    "duration": 22,
    "start_time": "2022-10-15T12:47:46.446Z"
   },
   {
    "duration": 7,
    "start_time": "2022-10-15T12:47:52.006Z"
   },
   {
    "duration": 465,
    "start_time": "2022-10-15T12:48:46.078Z"
   },
   {
    "duration": 3,
    "start_time": "2022-10-15T12:48:46.546Z"
   },
   {
    "duration": 269,
    "start_time": "2022-10-15T12:48:46.551Z"
   },
   {
    "duration": 3,
    "start_time": "2022-10-15T12:48:46.822Z"
   },
   {
    "duration": 111,
    "start_time": "2022-10-15T12:48:46.827Z"
   },
   {
    "duration": 24,
    "start_time": "2022-10-15T12:48:46.940Z"
   },
   {
    "duration": 2259,
    "start_time": "2022-10-15T12:48:46.966Z"
   },
   {
    "duration": 4,
    "start_time": "2022-10-15T12:48:49.227Z"
   },
   {
    "duration": 9,
    "start_time": "2022-10-15T12:48:49.233Z"
   },
   {
    "duration": 22,
    "start_time": "2022-10-15T12:48:49.244Z"
   },
   {
    "duration": 11,
    "start_time": "2022-10-15T12:48:49.268Z"
   },
   {
    "duration": 7,
    "start_time": "2022-10-15T12:48:49.281Z"
   },
   {
    "duration": 12,
    "start_time": "2022-10-15T12:48:49.290Z"
   },
   {
    "duration": 9,
    "start_time": "2022-10-15T12:48:49.306Z"
   },
   {
    "duration": 13,
    "start_time": "2022-10-15T12:48:49.317Z"
   },
   {
    "duration": 7,
    "start_time": "2022-10-15T12:48:49.331Z"
   },
   {
    "duration": 14,
    "start_time": "2022-10-15T12:48:49.340Z"
   },
   {
    "duration": 71,
    "start_time": "2022-10-15T12:48:49.357Z"
   },
   {
    "duration": 27,
    "start_time": "2022-10-15T12:48:49.430Z"
   },
   {
    "duration": 31,
    "start_time": "2022-10-15T12:48:49.459Z"
   },
   {
    "duration": 85,
    "start_time": "2022-10-15T12:48:49.492Z"
   },
   {
    "duration": 92,
    "start_time": "2022-10-15T12:48:49.579Z"
   },
   {
    "duration": 280,
    "start_time": "2022-10-15T12:48:49.673Z"
   },
   {
    "duration": 137,
    "start_time": "2022-10-15T12:48:49.955Z"
   },
   {
    "duration": 28,
    "start_time": "2022-10-15T12:48:50.094Z"
   },
   {
    "duration": 17,
    "start_time": "2022-10-15T12:48:50.124Z"
   },
   {
    "duration": 5,
    "start_time": "2022-10-15T12:48:50.143Z"
   },
   {
    "duration": 39,
    "start_time": "2022-10-15T12:48:50.150Z"
   },
   {
    "duration": 31,
    "start_time": "2022-10-15T12:48:50.191Z"
   },
   {
    "duration": 144,
    "start_time": "2022-10-15T12:48:50.224Z"
   },
   {
    "duration": 27,
    "start_time": "2022-10-15T12:48:50.370Z"
   },
   {
    "duration": 12,
    "start_time": "2022-10-15T12:48:50.399Z"
   },
   {
    "duration": 101,
    "start_time": "2022-10-15T12:48:50.413Z"
   },
   {
    "duration": 8,
    "start_time": "2022-10-15T12:48:50.516Z"
   },
   {
    "duration": 24,
    "start_time": "2022-10-15T12:48:50.526Z"
   },
   {
    "duration": 24,
    "start_time": "2022-10-15T12:48:50.553Z"
   },
   {
    "duration": 49,
    "start_time": "2022-10-15T12:48:50.579Z"
   },
   {
    "duration": 43,
    "start_time": "2022-10-15T12:48:50.630Z"
   },
   {
    "duration": 450,
    "start_time": "2022-10-15T12:48:50.675Z"
   },
   {
    "duration": 5,
    "start_time": "2022-10-15T12:48:51.127Z"
   },
   {
    "duration": 119,
    "start_time": "2022-10-15T12:48:51.137Z"
   },
   {
    "duration": 292,
    "start_time": "2022-10-15T12:48:51.258Z"
   },
   {
    "duration": 292,
    "start_time": "2022-10-15T12:48:51.552Z"
   },
   {
    "duration": 354,
    "start_time": "2022-10-15T12:48:51.846Z"
   },
   {
    "duration": 278,
    "start_time": "2022-10-15T12:48:52.202Z"
   },
   {
    "duration": 289,
    "start_time": "2022-10-15T12:48:52.481Z"
   },
   {
    "duration": 386,
    "start_time": "2022-10-15T12:48:52.771Z"
   },
   {
    "duration": 301,
    "start_time": "2022-10-15T12:48:53.159Z"
   },
   {
    "duration": 288,
    "start_time": "2022-10-15T12:48:53.461Z"
   },
   {
    "duration": 280,
    "start_time": "2022-10-15T12:48:53.751Z"
   },
   {
    "duration": 310,
    "start_time": "2022-10-15T12:48:54.033Z"
   },
   {
    "duration": 426,
    "start_time": "2022-10-15T12:48:54.345Z"
   },
   {
    "duration": 300,
    "start_time": "2022-10-15T12:48:54.773Z"
   },
   {
    "duration": 300,
    "start_time": "2022-10-15T12:48:55.076Z"
   },
   {
    "duration": 295,
    "start_time": "2022-10-15T12:48:55.378Z"
   },
   {
    "duration": 239,
    "start_time": "2022-10-15T12:48:55.675Z"
   },
   {
    "duration": 10,
    "start_time": "2022-10-15T12:48:55.915Z"
   },
   {
    "duration": 101,
    "start_time": "2022-10-15T12:48:55.927Z"
   },
   {
    "duration": 15,
    "start_time": "2022-10-15T12:48:56.030Z"
   },
   {
    "duration": 32,
    "start_time": "2022-10-15T12:48:56.047Z"
   },
   {
    "duration": 15,
    "start_time": "2022-10-15T12:48:56.081Z"
   },
   {
    "duration": 37,
    "start_time": "2022-10-15T12:48:56.098Z"
   },
   {
    "duration": 50,
    "start_time": "2022-10-15T12:48:56.137Z"
   },
   {
    "duration": 78,
    "start_time": "2022-10-15T12:48:56.189Z"
   },
   {
    "duration": 8,
    "start_time": "2022-10-15T12:49:27.533Z"
   },
   {
    "duration": 6,
    "start_time": "2022-10-15T12:49:40.258Z"
   },
   {
    "duration": 158,
    "start_time": "2022-10-15T13:01:34.281Z"
   },
   {
    "duration": 147,
    "start_time": "2022-10-15T13:02:24.816Z"
   },
   {
    "duration": 208,
    "start_time": "2022-10-15T13:03:39.245Z"
   },
   {
    "duration": 280,
    "start_time": "2022-10-15T13:03:52.048Z"
   },
   {
    "duration": 292,
    "start_time": "2022-10-15T13:04:24.526Z"
   },
   {
    "duration": 166,
    "start_time": "2022-10-15T13:04:34.605Z"
   },
   {
    "duration": 271,
    "start_time": "2022-10-15T13:04:43.950Z"
   },
   {
    "duration": 118,
    "start_time": "2022-10-15T13:05:25.786Z"
   },
   {
    "duration": 2984,
    "start_time": "2022-10-15T13:05:42.424Z"
   },
   {
    "duration": 399,
    "start_time": "2022-10-15T13:08:50.612Z"
   },
   {
    "duration": 3,
    "start_time": "2022-10-15T13:08:51.013Z"
   },
   {
    "duration": 265,
    "start_time": "2022-10-15T13:08:51.018Z"
   },
   {
    "duration": 3,
    "start_time": "2022-10-15T13:08:51.285Z"
   },
   {
    "duration": 111,
    "start_time": "2022-10-15T13:08:51.290Z"
   },
   {
    "duration": 17,
    "start_time": "2022-10-15T13:08:51.403Z"
   },
   {
    "duration": 2195,
    "start_time": "2022-10-15T13:08:51.422Z"
   },
   {
    "duration": 6,
    "start_time": "2022-10-15T13:08:53.619Z"
   },
   {
    "duration": 16,
    "start_time": "2022-10-15T13:08:53.627Z"
   },
   {
    "duration": 23,
    "start_time": "2022-10-15T13:08:53.645Z"
   },
   {
    "duration": 13,
    "start_time": "2022-10-15T13:08:53.669Z"
   },
   {
    "duration": 5,
    "start_time": "2022-10-15T13:08:53.684Z"
   },
   {
    "duration": 28,
    "start_time": "2022-10-15T13:08:53.690Z"
   },
   {
    "duration": 16,
    "start_time": "2022-10-15T13:08:53.721Z"
   },
   {
    "duration": 31,
    "start_time": "2022-10-15T13:08:53.739Z"
   },
   {
    "duration": 7,
    "start_time": "2022-10-15T13:08:53.772Z"
   },
   {
    "duration": 27,
    "start_time": "2022-10-15T13:08:53.781Z"
   },
   {
    "duration": 50,
    "start_time": "2022-10-15T13:08:53.810Z"
   },
   {
    "duration": 29,
    "start_time": "2022-10-15T13:08:53.862Z"
   },
   {
    "duration": 12,
    "start_time": "2022-10-15T13:08:53.893Z"
   },
   {
    "duration": 100,
    "start_time": "2022-10-15T13:08:53.906Z"
   },
   {
    "duration": 83,
    "start_time": "2022-10-15T13:08:54.008Z"
   },
   {
    "duration": 266,
    "start_time": "2022-10-15T13:08:54.093Z"
   },
   {
    "duration": 118,
    "start_time": "2022-10-15T13:08:54.361Z"
   },
   {
    "duration": 31,
    "start_time": "2022-10-15T13:08:54.481Z"
   },
   {
    "duration": 47,
    "start_time": "2022-10-15T13:08:54.514Z"
   },
   {
    "duration": 14,
    "start_time": "2022-10-15T13:08:54.563Z"
   },
   {
    "duration": 27,
    "start_time": "2022-10-15T13:08:54.579Z"
   },
   {
    "duration": 24,
    "start_time": "2022-10-15T13:08:54.608Z"
   },
   {
    "duration": 133,
    "start_time": "2022-10-15T13:08:54.633Z"
   },
   {
    "duration": 21,
    "start_time": "2022-10-15T13:08:54.769Z"
   },
   {
    "duration": 17,
    "start_time": "2022-10-15T13:08:54.792Z"
   },
   {
    "duration": 94,
    "start_time": "2022-10-15T13:08:54.810Z"
   },
   {
    "duration": 9,
    "start_time": "2022-10-15T13:08:54.905Z"
   },
   {
    "duration": 18,
    "start_time": "2022-10-15T13:08:54.915Z"
   },
   {
    "duration": 33,
    "start_time": "2022-10-15T13:08:54.935Z"
   },
   {
    "duration": 39,
    "start_time": "2022-10-15T13:08:54.969Z"
   },
   {
    "duration": 14,
    "start_time": "2022-10-15T13:08:55.010Z"
   },
   {
    "duration": 481,
    "start_time": "2022-10-15T13:08:55.025Z"
   },
   {
    "duration": 6,
    "start_time": "2022-10-15T13:08:55.508Z"
   },
   {
    "duration": 129,
    "start_time": "2022-10-15T13:08:55.519Z"
   },
   {
    "duration": 272,
    "start_time": "2022-10-15T13:08:55.650Z"
   },
   {
    "duration": 267,
    "start_time": "2022-10-15T13:08:55.924Z"
   },
   {
    "duration": 272,
    "start_time": "2022-10-15T13:08:56.193Z"
   },
   {
    "duration": 286,
    "start_time": "2022-10-15T13:08:56.467Z"
   },
   {
    "duration": 278,
    "start_time": "2022-10-15T13:08:56.755Z"
   },
   {
    "duration": 365,
    "start_time": "2022-10-15T13:08:57.034Z"
   },
   {
    "duration": 304,
    "start_time": "2022-10-15T13:08:57.401Z"
   },
   {
    "duration": 284,
    "start_time": "2022-10-15T13:08:57.707Z"
   },
   {
    "duration": 269,
    "start_time": "2022-10-15T13:08:57.993Z"
   },
   {
    "duration": 308,
    "start_time": "2022-10-15T13:08:58.265Z"
   },
   {
    "duration": 377,
    "start_time": "2022-10-15T13:08:58.575Z"
   },
   {
    "duration": 276,
    "start_time": "2022-10-15T13:08:58.954Z"
   },
   {
    "duration": 281,
    "start_time": "2022-10-15T13:08:59.231Z"
   },
   {
    "duration": 295,
    "start_time": "2022-10-15T13:08:59.514Z"
   },
   {
    "duration": 158,
    "start_time": "2022-10-15T13:08:59.811Z"
   },
   {
    "duration": 18,
    "start_time": "2022-10-15T13:08:59.971Z"
   },
   {
    "duration": 103,
    "start_time": "2022-10-15T13:08:59.991Z"
   },
   {
    "duration": 14,
    "start_time": "2022-10-15T13:09:00.096Z"
   },
   {
    "duration": 36,
    "start_time": "2022-10-15T13:09:00.112Z"
   },
   {
    "duration": 31,
    "start_time": "2022-10-15T13:09:00.150Z"
   },
   {
    "duration": 31,
    "start_time": "2022-10-15T13:09:00.183Z"
   },
   {
    "duration": 23,
    "start_time": "2022-10-15T13:09:00.216Z"
   },
   {
    "duration": 12,
    "start_time": "2022-10-15T13:09:00.241Z"
   },
   {
    "duration": 7,
    "start_time": "2022-10-15T13:11:47.728Z"
   },
   {
    "duration": 268,
    "start_time": "2022-10-15T13:12:14.250Z"
   },
   {
    "duration": 321,
    "start_time": "2022-10-15T13:24:39.897Z"
   },
   {
    "duration": 304,
    "start_time": "2022-10-15T13:26:23.452Z"
   },
   {
    "duration": 599,
    "start_time": "2022-10-15T13:28:49.843Z"
   },
   {
    "duration": 271,
    "start_time": "2022-10-15T13:29:24.043Z"
   },
   {
    "duration": 214,
    "start_time": "2022-10-15T13:29:52.617Z"
   },
   {
    "duration": 65,
    "start_time": "2022-10-15T13:30:34.571Z"
   },
   {
    "duration": 389,
    "start_time": "2022-10-15T13:34:39.365Z"
   },
   {
    "duration": 142,
    "start_time": "2022-10-15T13:35:12.124Z"
   },
   {
    "duration": 285,
    "start_time": "2022-10-15T13:35:27.755Z"
   },
   {
    "duration": 434,
    "start_time": "2022-10-15T13:46:04.897Z"
   },
   {
    "duration": 3,
    "start_time": "2022-10-15T13:46:05.333Z"
   },
   {
    "duration": 262,
    "start_time": "2022-10-15T13:46:05.337Z"
   },
   {
    "duration": 2,
    "start_time": "2022-10-15T13:46:05.601Z"
   },
   {
    "duration": 105,
    "start_time": "2022-10-15T13:46:05.606Z"
   },
   {
    "duration": 17,
    "start_time": "2022-10-15T13:46:05.713Z"
   },
   {
    "duration": 2098,
    "start_time": "2022-10-15T13:46:05.731Z"
   },
   {
    "duration": 5,
    "start_time": "2022-10-15T13:46:07.831Z"
   },
   {
    "duration": 22,
    "start_time": "2022-10-15T13:46:07.838Z"
   },
   {
    "duration": 53,
    "start_time": "2022-10-15T13:46:07.862Z"
   },
   {
    "duration": 21,
    "start_time": "2022-10-15T13:46:07.916Z"
   },
   {
    "duration": 8,
    "start_time": "2022-10-15T13:46:07.939Z"
   },
   {
    "duration": 42,
    "start_time": "2022-10-15T13:46:07.948Z"
   },
   {
    "duration": 36,
    "start_time": "2022-10-15T13:46:07.994Z"
   },
   {
    "duration": 40,
    "start_time": "2022-10-15T13:46:08.032Z"
   },
   {
    "duration": 9,
    "start_time": "2022-10-15T13:46:08.074Z"
   },
   {
    "duration": 32,
    "start_time": "2022-10-15T13:46:08.085Z"
   },
   {
    "duration": 62,
    "start_time": "2022-10-15T13:46:08.119Z"
   },
   {
    "duration": 43,
    "start_time": "2022-10-15T13:46:08.183Z"
   },
   {
    "duration": 16,
    "start_time": "2022-10-15T13:46:08.228Z"
   },
   {
    "duration": 89,
    "start_time": "2022-10-15T13:46:08.247Z"
   },
   {
    "duration": 84,
    "start_time": "2022-10-15T13:46:08.338Z"
   },
   {
    "duration": 281,
    "start_time": "2022-10-15T13:46:08.424Z"
   },
   {
    "duration": 119,
    "start_time": "2022-10-15T13:46:08.707Z"
   },
   {
    "duration": 28,
    "start_time": "2022-10-15T13:46:08.828Z"
   },
   {
    "duration": 39,
    "start_time": "2022-10-15T13:46:08.857Z"
   },
   {
    "duration": 9,
    "start_time": "2022-10-15T13:46:08.898Z"
   },
   {
    "duration": 12,
    "start_time": "2022-10-15T13:46:08.909Z"
   },
   {
    "duration": 9,
    "start_time": "2022-10-15T13:46:08.923Z"
   },
   {
    "duration": 158,
    "start_time": "2022-10-15T13:46:08.934Z"
   },
   {
    "duration": 16,
    "start_time": "2022-10-15T13:46:09.094Z"
   },
   {
    "duration": 6,
    "start_time": "2022-10-15T13:46:09.112Z"
   },
   {
    "duration": 99,
    "start_time": "2022-10-15T13:46:09.120Z"
   },
   {
    "duration": 7,
    "start_time": "2022-10-15T13:46:09.221Z"
   },
   {
    "duration": 10,
    "start_time": "2022-10-15T13:46:09.229Z"
   },
   {
    "duration": 11,
    "start_time": "2022-10-15T13:46:09.241Z"
   },
   {
    "duration": 48,
    "start_time": "2022-10-15T13:46:09.254Z"
   },
   {
    "duration": 4,
    "start_time": "2022-10-15T13:46:09.303Z"
   },
   {
    "duration": 496,
    "start_time": "2022-10-15T13:46:09.309Z"
   },
   {
    "duration": 6,
    "start_time": "2022-10-15T13:46:09.807Z"
   },
   {
    "duration": 132,
    "start_time": "2022-10-15T13:46:09.817Z"
   },
   {
    "duration": 311,
    "start_time": "2022-10-15T13:46:09.951Z"
   },
   {
    "duration": 287,
    "start_time": "2022-10-15T13:46:10.264Z"
   },
   {
    "duration": 306,
    "start_time": "2022-10-15T13:46:10.553Z"
   },
   {
    "duration": 291,
    "start_time": "2022-10-15T13:46:10.861Z"
   },
   {
    "duration": 302,
    "start_time": "2022-10-15T13:46:11.153Z"
   },
   {
    "duration": 403,
    "start_time": "2022-10-15T13:46:11.457Z"
   },
   {
    "duration": 376,
    "start_time": "2022-10-15T13:46:11.863Z"
   },
   {
    "duration": 208,
    "start_time": "2022-10-15T13:46:12.241Z"
   },
   {
    "duration": 258,
    "start_time": "2022-10-15T13:46:12.451Z"
   },
   {
    "duration": 300,
    "start_time": "2022-10-15T13:46:12.711Z"
   },
   {
    "duration": 296,
    "start_time": "2022-10-15T13:46:13.013Z"
   },
   {
    "duration": 378,
    "start_time": "2022-10-15T13:46:13.311Z"
   },
   {
    "duration": 252,
    "start_time": "2022-10-15T13:46:13.691Z"
   },
   {
    "duration": 342,
    "start_time": "2022-10-15T13:46:13.945Z"
   },
   {
    "duration": 179,
    "start_time": "2022-10-15T13:46:14.289Z"
   },
   {
    "duration": 10,
    "start_time": "2022-10-15T13:46:14.470Z"
   },
   {
    "duration": 75,
    "start_time": "2022-10-15T13:46:14.489Z"
   },
   {
    "duration": 29,
    "start_time": "2022-10-15T13:46:14.566Z"
   },
   {
    "duration": 16,
    "start_time": "2022-10-15T13:46:14.597Z"
   },
   {
    "duration": 12,
    "start_time": "2022-10-15T13:46:14.615Z"
   },
   {
    "duration": 20,
    "start_time": "2022-10-15T13:46:14.629Z"
   },
   {
    "duration": 54,
    "start_time": "2022-10-15T13:46:14.651Z"
   },
   {
    "duration": 6,
    "start_time": "2022-10-15T13:46:14.706Z"
   },
   {
    "duration": 376,
    "start_time": "2022-10-15T14:01:07.448Z"
   },
   {
    "duration": 2,
    "start_time": "2022-10-15T14:01:07.826Z"
   },
   {
    "duration": 202,
    "start_time": "2022-10-15T14:01:07.830Z"
   },
   {
    "duration": 2,
    "start_time": "2022-10-15T14:01:08.034Z"
   },
   {
    "duration": 85,
    "start_time": "2022-10-15T14:01:08.038Z"
   },
   {
    "duration": 14,
    "start_time": "2022-10-15T14:01:08.124Z"
   },
   {
    "duration": 1719,
    "start_time": "2022-10-15T14:01:08.139Z"
   },
   {
    "duration": 4,
    "start_time": "2022-10-15T14:01:09.859Z"
   },
   {
    "duration": 9,
    "start_time": "2022-10-15T14:01:09.865Z"
   },
   {
    "duration": 16,
    "start_time": "2022-10-15T14:01:09.877Z"
   },
   {
    "duration": 7,
    "start_time": "2022-10-15T14:01:09.908Z"
   },
   {
    "duration": 6,
    "start_time": "2022-10-15T14:01:09.917Z"
   },
   {
    "duration": 14,
    "start_time": "2022-10-15T14:01:09.924Z"
   },
   {
    "duration": 7,
    "start_time": "2022-10-15T14:01:09.939Z"
   },
   {
    "duration": 14,
    "start_time": "2022-10-15T14:01:09.948Z"
   },
   {
    "duration": 5,
    "start_time": "2022-10-15T14:01:09.964Z"
   },
   {
    "duration": 16,
    "start_time": "2022-10-15T14:01:09.970Z"
   },
   {
    "duration": 45,
    "start_time": "2022-10-15T14:01:09.988Z"
   },
   {
    "duration": 23,
    "start_time": "2022-10-15T14:01:10.034Z"
   },
   {
    "duration": 34,
    "start_time": "2022-10-15T14:01:10.058Z"
   },
   {
    "duration": 72,
    "start_time": "2022-10-15T14:01:10.093Z"
   },
   {
    "duration": 67,
    "start_time": "2022-10-15T14:01:10.167Z"
   },
   {
    "duration": 215,
    "start_time": "2022-10-15T14:01:10.236Z"
   },
   {
    "duration": 102,
    "start_time": "2022-10-15T14:01:10.453Z"
   },
   {
    "duration": 38,
    "start_time": "2022-10-15T14:01:10.556Z"
   },
   {
    "duration": 19,
    "start_time": "2022-10-15T14:01:10.608Z"
   },
   {
    "duration": 5,
    "start_time": "2022-10-15T14:01:10.629Z"
   },
   {
    "duration": 9,
    "start_time": "2022-10-15T14:01:10.639Z"
   },
   {
    "duration": 10,
    "start_time": "2022-10-15T14:01:10.649Z"
   },
   {
    "duration": 130,
    "start_time": "2022-10-15T14:01:10.660Z"
   },
   {
    "duration": 22,
    "start_time": "2022-10-15T14:01:10.792Z"
   },
   {
    "duration": 4,
    "start_time": "2022-10-15T14:01:10.816Z"
   },
   {
    "duration": 64,
    "start_time": "2022-10-15T14:01:10.822Z"
   },
   {
    "duration": 25,
    "start_time": "2022-10-15T14:01:10.887Z"
   },
   {
    "duration": 10,
    "start_time": "2022-10-15T14:01:10.914Z"
   },
   {
    "duration": 12,
    "start_time": "2022-10-15T14:01:10.926Z"
   },
   {
    "duration": 21,
    "start_time": "2022-10-15T14:01:10.939Z"
   },
   {
    "duration": 4,
    "start_time": "2022-10-15T14:01:10.961Z"
   },
   {
    "duration": 421,
    "start_time": "2022-10-15T14:01:10.967Z"
   },
   {
    "duration": 6,
    "start_time": "2022-10-15T14:01:11.389Z"
   },
   {
    "duration": 104,
    "start_time": "2022-10-15T14:01:11.397Z"
   },
   {
    "duration": 243,
    "start_time": "2022-10-15T14:01:11.509Z"
   },
   {
    "duration": 234,
    "start_time": "2022-10-15T14:01:11.754Z"
   },
   {
    "duration": 236,
    "start_time": "2022-10-15T14:01:11.990Z"
   },
   {
    "duration": 237,
    "start_time": "2022-10-15T14:01:12.227Z"
   },
   {
    "duration": 244,
    "start_time": "2022-10-15T14:01:12.465Z"
   },
   {
    "duration": 282,
    "start_time": "2022-10-15T14:01:12.710Z"
   },
   {
    "duration": 276,
    "start_time": "2022-10-15T14:01:12.994Z"
   },
   {
    "duration": 183,
    "start_time": "2022-10-15T14:01:13.271Z"
   },
   {
    "duration": 221,
    "start_time": "2022-10-15T14:01:13.456Z"
   },
   {
    "duration": 242,
    "start_time": "2022-10-15T14:01:13.679Z"
   },
   {
    "duration": 233,
    "start_time": "2022-10-15T14:01:13.923Z"
   },
   {
    "duration": 306,
    "start_time": "2022-10-15T14:01:14.157Z"
   },
   {
    "duration": 267,
    "start_time": "2022-10-15T14:01:14.465Z"
   },
   {
    "duration": 281,
    "start_time": "2022-10-15T14:01:14.733Z"
   },
   {
    "duration": 134,
    "start_time": "2022-10-15T14:01:15.016Z"
   },
   {
    "duration": 7,
    "start_time": "2022-10-15T14:01:15.152Z"
   },
   {
    "duration": 75,
    "start_time": "2022-10-15T14:01:15.161Z"
   },
   {
    "duration": 13,
    "start_time": "2022-10-15T14:01:15.238Z"
   },
   {
    "duration": 12,
    "start_time": "2022-10-15T14:01:15.253Z"
   },
   {
    "duration": 7,
    "start_time": "2022-10-15T14:01:15.266Z"
   },
   {
    "duration": 47,
    "start_time": "2022-10-15T14:01:15.275Z"
   },
   {
    "duration": 23,
    "start_time": "2022-10-15T14:01:15.324Z"
   },
   {
    "duration": 4,
    "start_time": "2022-10-15T14:01:15.349Z"
   },
   {
    "duration": 388,
    "start_time": "2022-10-15T20:29:42.930Z"
   },
   {
    "duration": 2,
    "start_time": "2022-10-15T20:29:43.320Z"
   },
   {
    "duration": 205,
    "start_time": "2022-10-15T20:29:43.324Z"
   },
   {
    "duration": 2,
    "start_time": "2022-10-15T20:29:43.531Z"
   },
   {
    "duration": 78,
    "start_time": "2022-10-15T20:29:43.535Z"
   },
   {
    "duration": 15,
    "start_time": "2022-10-15T20:29:43.614Z"
   },
   {
    "duration": 1725,
    "start_time": "2022-10-15T20:29:43.631Z"
   },
   {
    "duration": 4,
    "start_time": "2022-10-15T20:29:45.357Z"
   },
   {
    "duration": 20,
    "start_time": "2022-10-15T20:29:45.363Z"
   },
   {
    "duration": 26,
    "start_time": "2022-10-15T20:29:45.385Z"
   },
   {
    "duration": 8,
    "start_time": "2022-10-15T20:29:45.412Z"
   },
   {
    "duration": 7,
    "start_time": "2022-10-15T20:29:45.422Z"
   },
   {
    "duration": 21,
    "start_time": "2022-10-15T20:29:45.430Z"
   },
   {
    "duration": 9,
    "start_time": "2022-10-15T20:29:45.452Z"
   },
   {
    "duration": 23,
    "start_time": "2022-10-15T20:29:45.462Z"
   },
   {
    "duration": 11,
    "start_time": "2022-10-15T20:29:45.486Z"
   },
   {
    "duration": 21,
    "start_time": "2022-10-15T20:29:45.499Z"
   },
   {
    "duration": 38,
    "start_time": "2022-10-15T20:29:45.522Z"
   },
   {
    "duration": 23,
    "start_time": "2022-10-15T20:29:45.561Z"
   },
   {
    "duration": 15,
    "start_time": "2022-10-15T20:29:45.586Z"
   },
   {
    "duration": 75,
    "start_time": "2022-10-15T20:29:45.603Z"
   },
   {
    "duration": 76,
    "start_time": "2022-10-15T20:29:45.680Z"
   },
   {
    "duration": 232,
    "start_time": "2022-10-15T20:29:45.758Z"
   },
   {
    "duration": 102,
    "start_time": "2022-10-15T20:29:45.991Z"
   },
   {
    "duration": 30,
    "start_time": "2022-10-15T20:29:46.095Z"
   },
   {
    "duration": 27,
    "start_time": "2022-10-15T20:29:46.127Z"
   },
   {
    "duration": 21,
    "start_time": "2022-10-15T20:29:46.155Z"
   },
   {
    "duration": 20,
    "start_time": "2022-10-15T20:29:46.180Z"
   },
   {
    "duration": 21,
    "start_time": "2022-10-15T20:29:46.201Z"
   },
   {
    "duration": 119,
    "start_time": "2022-10-15T20:29:46.223Z"
   },
   {
    "duration": 13,
    "start_time": "2022-10-15T20:29:46.344Z"
   },
   {
    "duration": 4,
    "start_time": "2022-10-15T20:29:46.359Z"
   },
   {
    "duration": 77,
    "start_time": "2022-10-15T20:29:46.365Z"
   },
   {
    "duration": 6,
    "start_time": "2022-10-15T20:29:46.443Z"
   },
   {
    "duration": 8,
    "start_time": "2022-10-15T20:29:46.451Z"
   },
   {
    "duration": 21,
    "start_time": "2022-10-15T20:29:46.461Z"
   },
   {
    "duration": 32,
    "start_time": "2022-10-15T20:29:46.483Z"
   },
   {
    "duration": 8,
    "start_time": "2022-10-15T20:29:46.516Z"
   },
   {
    "duration": 413,
    "start_time": "2022-10-15T20:29:46.525Z"
   },
   {
    "duration": 5,
    "start_time": "2022-10-15T20:29:46.940Z"
   },
   {
    "duration": 97,
    "start_time": "2022-10-15T20:29:46.947Z"
   },
   {
    "duration": 226,
    "start_time": "2022-10-15T20:29:47.046Z"
   },
   {
    "duration": 228,
    "start_time": "2022-10-15T20:29:47.274Z"
   },
   {
    "duration": 218,
    "start_time": "2022-10-15T20:29:47.509Z"
   },
   {
    "duration": 225,
    "start_time": "2022-10-15T20:29:47.728Z"
   },
   {
    "duration": 231,
    "start_time": "2022-10-15T20:29:47.955Z"
   },
   {
    "duration": 287,
    "start_time": "2022-10-15T20:29:48.188Z"
   },
   {
    "duration": 236,
    "start_time": "2022-10-15T20:29:48.477Z"
   },
   {
    "duration": 176,
    "start_time": "2022-10-15T20:29:48.715Z"
   },
   {
    "duration": 212,
    "start_time": "2022-10-15T20:29:48.892Z"
   },
   {
    "duration": 243,
    "start_time": "2022-10-15T20:29:49.105Z"
   },
   {
    "duration": 236,
    "start_time": "2022-10-15T20:29:49.350Z"
   },
   {
    "duration": 290,
    "start_time": "2022-10-15T20:29:49.588Z"
   },
   {
    "duration": 227,
    "start_time": "2022-10-15T20:29:49.880Z"
   },
   {
    "duration": 280,
    "start_time": "2022-10-15T20:29:50.108Z"
   },
   {
    "duration": 131,
    "start_time": "2022-10-15T20:29:50.390Z"
   },
   {
    "duration": 7,
    "start_time": "2022-10-15T20:29:50.523Z"
   },
   {
    "duration": 75,
    "start_time": "2022-10-15T20:29:50.531Z"
   },
   {
    "duration": 14,
    "start_time": "2022-10-15T20:29:50.608Z"
   },
   {
    "duration": 24,
    "start_time": "2022-10-15T20:29:50.624Z"
   },
   {
    "duration": 14,
    "start_time": "2022-10-15T20:29:50.650Z"
   },
   {
    "duration": 22,
    "start_time": "2022-10-15T20:29:50.666Z"
   },
   {
    "duration": 26,
    "start_time": "2022-10-15T20:29:50.690Z"
   },
   {
    "duration": 4,
    "start_time": "2022-10-15T20:29:50.717Z"
   },
   {
    "duration": 15,
    "start_time": "2022-10-15T20:33:00.997Z"
   },
   {
    "duration": 82,
    "start_time": "2022-10-15T20:33:05.168Z"
   },
   {
    "duration": 7,
    "start_time": "2022-10-15T20:33:32.316Z"
   },
   {
    "duration": 6,
    "start_time": "2022-10-15T20:33:40.750Z"
   },
   {
    "duration": 52,
    "start_time": "2022-10-16T07:05:53.807Z"
   },
   {
    "duration": 369,
    "start_time": "2022-10-16T07:06:01.462Z"
   },
   {
    "duration": 2,
    "start_time": "2022-10-16T07:06:01.833Z"
   },
   {
    "duration": 507,
    "start_time": "2022-10-16T07:06:01.837Z"
   },
   {
    "duration": 3,
    "start_time": "2022-10-16T07:06:02.346Z"
   },
   {
    "duration": 170,
    "start_time": "2022-10-16T07:06:02.352Z"
   },
   {
    "duration": 35,
    "start_time": "2022-10-16T07:06:02.523Z"
   },
   {
    "duration": 1917,
    "start_time": "2022-10-16T07:06:02.560Z"
   },
   {
    "duration": 5,
    "start_time": "2022-10-16T07:06:04.478Z"
   },
   {
    "duration": 61,
    "start_time": "2022-10-16T07:06:04.484Z"
   },
   {
    "duration": 64,
    "start_time": "2022-10-16T07:06:04.546Z"
   },
   {
    "duration": 17,
    "start_time": "2022-10-16T07:06:04.612Z"
   },
   {
    "duration": 38,
    "start_time": "2022-10-16T07:06:04.631Z"
   },
   {
    "duration": 31,
    "start_time": "2022-10-16T07:06:04.670Z"
   },
   {
    "duration": 42,
    "start_time": "2022-10-16T07:06:04.705Z"
   },
   {
    "duration": 48,
    "start_time": "2022-10-16T07:06:04.749Z"
   },
   {
    "duration": 6,
    "start_time": "2022-10-16T07:06:04.799Z"
   },
   {
    "duration": 53,
    "start_time": "2022-10-16T07:06:04.807Z"
   },
   {
    "duration": 55,
    "start_time": "2022-10-16T07:06:04.862Z"
   },
   {
    "duration": 38,
    "start_time": "2022-10-16T07:06:04.919Z"
   },
   {
    "duration": 13,
    "start_time": "2022-10-16T07:06:04.959Z"
   },
   {
    "duration": 100,
    "start_time": "2022-10-16T07:06:04.974Z"
   },
   {
    "duration": 73,
    "start_time": "2022-10-16T07:06:05.075Z"
   },
   {
    "duration": 228,
    "start_time": "2022-10-16T07:06:05.150Z"
   },
   {
    "duration": 108,
    "start_time": "2022-10-16T07:06:05.380Z"
   },
   {
    "duration": 33,
    "start_time": "2022-10-16T07:06:05.490Z"
   },
   {
    "duration": 16,
    "start_time": "2022-10-16T07:06:05.524Z"
   },
   {
    "duration": 24,
    "start_time": "2022-10-16T07:06:05.542Z"
   },
   {
    "duration": 34,
    "start_time": "2022-10-16T07:06:05.568Z"
   },
   {
    "duration": 34,
    "start_time": "2022-10-16T07:06:05.604Z"
   },
   {
    "duration": 121,
    "start_time": "2022-10-16T07:06:05.639Z"
   },
   {
    "duration": 13,
    "start_time": "2022-10-16T07:06:05.761Z"
   },
   {
    "duration": 10,
    "start_time": "2022-10-16T07:06:05.776Z"
   },
   {
    "duration": 69,
    "start_time": "2022-10-16T07:06:05.788Z"
   },
   {
    "duration": 7,
    "start_time": "2022-10-16T07:06:05.860Z"
   },
   {
    "duration": 9,
    "start_time": "2022-10-16T07:06:05.869Z"
   },
   {
    "duration": 59,
    "start_time": "2022-10-16T07:06:05.880Z"
   },
   {
    "duration": 17,
    "start_time": "2022-10-16T07:06:05.940Z"
   },
   {
    "duration": 4,
    "start_time": "2022-10-16T07:06:05.958Z"
   },
   {
    "duration": 404,
    "start_time": "2022-10-16T07:06:05.964Z"
   },
   {
    "duration": 5,
    "start_time": "2022-10-16T07:06:06.369Z"
   },
   {
    "duration": 102,
    "start_time": "2022-10-16T07:06:06.378Z"
   },
   {
    "duration": 248,
    "start_time": "2022-10-16T07:06:06.482Z"
   },
   {
    "duration": 298,
    "start_time": "2022-10-16T07:06:06.731Z"
   },
   {
    "duration": 259,
    "start_time": "2022-10-16T07:06:07.031Z"
   },
   {
    "duration": 251,
    "start_time": "2022-10-16T07:06:07.291Z"
   },
   {
    "duration": 251,
    "start_time": "2022-10-16T07:06:07.544Z"
   },
   {
    "duration": 322,
    "start_time": "2022-10-16T07:06:07.796Z"
   },
   {
    "duration": 264,
    "start_time": "2022-10-16T07:06:08.119Z"
   },
   {
    "duration": 198,
    "start_time": "2022-10-16T07:06:08.386Z"
   },
   {
    "duration": 256,
    "start_time": "2022-10-16T07:06:08.586Z"
   },
   {
    "duration": 268,
    "start_time": "2022-10-16T07:06:08.845Z"
   },
   {
    "duration": 269,
    "start_time": "2022-10-16T07:06:09.116Z"
   },
   {
    "duration": 323,
    "start_time": "2022-10-16T07:06:09.387Z"
   },
   {
    "duration": 245,
    "start_time": "2022-10-16T07:06:09.713Z"
   },
   {
    "duration": 313,
    "start_time": "2022-10-16T07:06:09.960Z"
   },
   {
    "duration": 136,
    "start_time": "2022-10-16T07:06:10.274Z"
   },
   {
    "duration": 8,
    "start_time": "2022-10-16T07:06:10.411Z"
   },
   {
    "duration": 64,
    "start_time": "2022-10-16T07:06:10.421Z"
   },
   {
    "duration": 29,
    "start_time": "2022-10-16T07:06:10.487Z"
   },
   {
    "duration": 13,
    "start_time": "2022-10-16T07:06:10.518Z"
   },
   {
    "duration": 8,
    "start_time": "2022-10-16T07:06:10.532Z"
   },
   {
    "duration": 13,
    "start_time": "2022-10-16T07:06:10.542Z"
   },
   {
    "duration": 52,
    "start_time": "2022-10-16T07:06:10.557Z"
   },
   {
    "duration": 4,
    "start_time": "2022-10-16T07:06:10.611Z"
   },
   {
    "duration": 4,
    "start_time": "2022-10-16T07:08:46.202Z"
   },
   {
    "duration": 5,
    "start_time": "2022-10-16T07:08:48.742Z"
   },
   {
    "duration": 6,
    "start_time": "2022-10-16T07:17:01.369Z"
   },
   {
    "duration": 402,
    "start_time": "2022-10-16T07:19:26.114Z"
   },
   {
    "duration": 3,
    "start_time": "2022-10-16T07:19:26.517Z"
   },
   {
    "duration": 257,
    "start_time": "2022-10-16T07:19:26.521Z"
   },
   {
    "duration": 3,
    "start_time": "2022-10-16T07:19:26.779Z"
   },
   {
    "duration": 84,
    "start_time": "2022-10-16T07:19:26.783Z"
   },
   {
    "duration": 26,
    "start_time": "2022-10-16T07:19:26.869Z"
   },
   {
    "duration": 1804,
    "start_time": "2022-10-16T07:19:26.897Z"
   },
   {
    "duration": 4,
    "start_time": "2022-10-16T07:19:28.702Z"
   },
   {
    "duration": 7,
    "start_time": "2022-10-16T07:19:28.708Z"
   },
   {
    "duration": 20,
    "start_time": "2022-10-16T07:19:28.717Z"
   },
   {
    "duration": 7,
    "start_time": "2022-10-16T07:19:28.739Z"
   },
   {
    "duration": 3,
    "start_time": "2022-10-16T07:19:28.748Z"
   },
   {
    "duration": 95,
    "start_time": "2022-10-16T07:19:28.753Z"
   },
   {
    "duration": 0,
    "start_time": "2022-10-16T07:19:28.851Z"
   },
   {
    "duration": 0,
    "start_time": "2022-10-16T07:19:28.852Z"
   },
   {
    "duration": 0,
    "start_time": "2022-10-16T07:19:28.853Z"
   },
   {
    "duration": 0,
    "start_time": "2022-10-16T07:19:28.854Z"
   },
   {
    "duration": 0,
    "start_time": "2022-10-16T07:19:28.855Z"
   },
   {
    "duration": 0,
    "start_time": "2022-10-16T07:19:28.856Z"
   },
   {
    "duration": 0,
    "start_time": "2022-10-16T07:19:28.857Z"
   },
   {
    "duration": 0,
    "start_time": "2022-10-16T07:19:28.858Z"
   },
   {
    "duration": 0,
    "start_time": "2022-10-16T07:19:28.859Z"
   },
   {
    "duration": 1,
    "start_time": "2022-10-16T07:19:28.859Z"
   },
   {
    "duration": 0,
    "start_time": "2022-10-16T07:19:28.860Z"
   },
   {
    "duration": 0,
    "start_time": "2022-10-16T07:19:28.861Z"
   },
   {
    "duration": 0,
    "start_time": "2022-10-16T07:19:28.862Z"
   },
   {
    "duration": 0,
    "start_time": "2022-10-16T07:19:28.863Z"
   },
   {
    "duration": 1,
    "start_time": "2022-10-16T07:19:28.863Z"
   },
   {
    "duration": 0,
    "start_time": "2022-10-16T07:19:28.865Z"
   },
   {
    "duration": 0,
    "start_time": "2022-10-16T07:19:28.865Z"
   },
   {
    "duration": 0,
    "start_time": "2022-10-16T07:19:28.866Z"
   },
   {
    "duration": 0,
    "start_time": "2022-10-16T07:19:28.867Z"
   },
   {
    "duration": 0,
    "start_time": "2022-10-16T07:19:28.867Z"
   },
   {
    "duration": 0,
    "start_time": "2022-10-16T07:19:28.868Z"
   },
   {
    "duration": 0,
    "start_time": "2022-10-16T07:19:28.869Z"
   },
   {
    "duration": 0,
    "start_time": "2022-10-16T07:19:28.869Z"
   },
   {
    "duration": 0,
    "start_time": "2022-10-16T07:19:28.870Z"
   },
   {
    "duration": 0,
    "start_time": "2022-10-16T07:19:28.871Z"
   },
   {
    "duration": 0,
    "start_time": "2022-10-16T07:19:28.872Z"
   },
   {
    "duration": 0,
    "start_time": "2022-10-16T07:19:28.872Z"
   },
   {
    "duration": 0,
    "start_time": "2022-10-16T07:19:28.873Z"
   },
   {
    "duration": 0,
    "start_time": "2022-10-16T07:19:28.873Z"
   },
   {
    "duration": 0,
    "start_time": "2022-10-16T07:19:28.874Z"
   },
   {
    "duration": 0,
    "start_time": "2022-10-16T07:19:28.874Z"
   },
   {
    "duration": 0,
    "start_time": "2022-10-16T07:19:28.874Z"
   },
   {
    "duration": 0,
    "start_time": "2022-10-16T07:19:28.875Z"
   },
   {
    "duration": 0,
    "start_time": "2022-10-16T07:19:28.875Z"
   },
   {
    "duration": 0,
    "start_time": "2022-10-16T07:19:28.910Z"
   },
   {
    "duration": 0,
    "start_time": "2022-10-16T07:19:28.910Z"
   },
   {
    "duration": 0,
    "start_time": "2022-10-16T07:19:28.911Z"
   },
   {
    "duration": 0,
    "start_time": "2022-10-16T07:19:28.912Z"
   },
   {
    "duration": 0,
    "start_time": "2022-10-16T07:19:28.913Z"
   },
   {
    "duration": 0,
    "start_time": "2022-10-16T07:19:28.913Z"
   },
   {
    "duration": 0,
    "start_time": "2022-10-16T07:19:28.914Z"
   },
   {
    "duration": 0,
    "start_time": "2022-10-16T07:19:28.915Z"
   },
   {
    "duration": 0,
    "start_time": "2022-10-16T07:19:28.916Z"
   },
   {
    "duration": 0,
    "start_time": "2022-10-16T07:19:28.917Z"
   },
   {
    "duration": 0,
    "start_time": "2022-10-16T07:19:28.918Z"
   },
   {
    "duration": 0,
    "start_time": "2022-10-16T07:19:28.919Z"
   },
   {
    "duration": 0,
    "start_time": "2022-10-16T07:19:28.920Z"
   },
   {
    "duration": 0,
    "start_time": "2022-10-16T07:19:28.921Z"
   },
   {
    "duration": 0,
    "start_time": "2022-10-16T07:19:28.921Z"
   },
   {
    "duration": 0,
    "start_time": "2022-10-16T07:19:28.922Z"
   },
   {
    "duration": 0,
    "start_time": "2022-10-16T07:19:28.923Z"
   },
   {
    "duration": 0,
    "start_time": "2022-10-16T07:19:28.924Z"
   },
   {
    "duration": 7,
    "start_time": "2022-10-16T07:20:46.316Z"
   },
   {
    "duration": 2,
    "start_time": "2022-10-16T07:22:53.260Z"
   },
   {
    "duration": 8,
    "start_time": "2022-10-16T07:22:54.701Z"
   },
   {
    "duration": 5,
    "start_time": "2022-10-16T07:22:56.003Z"
   },
   {
    "duration": 5,
    "start_time": "2022-10-16T07:23:51.855Z"
   },
   {
    "duration": 7,
    "start_time": "2022-10-16T07:23:59.999Z"
   },
   {
    "duration": 6,
    "start_time": "2022-10-16T07:25:48.496Z"
   },
   {
    "duration": 4,
    "start_time": "2022-10-16T07:25:52.006Z"
   },
   {
    "duration": 6,
    "start_time": "2022-10-16T07:26:36.003Z"
   },
   {
    "duration": 6,
    "start_time": "2022-10-16T07:26:44.221Z"
   },
   {
    "duration": 43,
    "start_time": "2022-10-16T07:48:39.959Z"
   },
   {
    "duration": 4,
    "start_time": "2022-10-16T07:48:56.529Z"
   },
   {
    "duration": 3,
    "start_time": "2022-10-16T07:49:01.531Z"
   },
   {
    "duration": 10,
    "start_time": "2022-10-16T07:49:31.052Z"
   },
   {
    "duration": 3,
    "start_time": "2022-10-16T07:49:53.943Z"
   },
   {
    "duration": 4,
    "start_time": "2022-10-16T07:49:55.372Z"
   },
   {
    "duration": 26,
    "start_time": "2022-10-16T07:49:56.801Z"
   },
   {
    "duration": 23,
    "start_time": "2022-10-16T07:50:16.421Z"
   },
   {
    "duration": 24,
    "start_time": "2022-10-16T07:50:23.842Z"
   },
   {
    "duration": 23,
    "start_time": "2022-10-16T07:50:29.183Z"
   },
   {
    "duration": 3,
    "start_time": "2022-10-16T07:52:01.184Z"
   },
   {
    "duration": 83,
    "start_time": "2022-10-16T07:52:02.818Z"
   },
   {
    "duration": 3,
    "start_time": "2022-10-16T07:52:04.976Z"
   },
   {
    "duration": 2,
    "start_time": "2022-10-16T07:52:05.402Z"
   },
   {
    "duration": 378,
    "start_time": "2022-10-16T07:52:10.947Z"
   },
   {
    "duration": 3,
    "start_time": "2022-10-16T07:52:11.327Z"
   },
   {
    "duration": 212,
    "start_time": "2022-10-16T07:52:11.331Z"
   },
   {
    "duration": 3,
    "start_time": "2022-10-16T07:52:11.545Z"
   },
   {
    "duration": 6,
    "start_time": "2022-10-16T07:52:11.550Z"
   },
   {
    "duration": 91,
    "start_time": "2022-10-16T07:52:11.558Z"
   },
   {
    "duration": 4,
    "start_time": "2022-10-16T07:52:11.651Z"
   },
   {
    "duration": 30,
    "start_time": "2022-10-16T07:52:11.656Z"
   },
   {
    "duration": 39,
    "start_time": "2022-10-16T07:52:11.688Z"
   },
   {
    "duration": 23,
    "start_time": "2022-10-16T07:52:11.729Z"
   },
   {
    "duration": 25,
    "start_time": "2022-10-16T07:52:11.753Z"
   },
   {
    "duration": 44,
    "start_time": "2022-10-16T07:52:11.780Z"
   },
   {
    "duration": 1847,
    "start_time": "2022-10-16T07:52:11.826Z"
   },
   {
    "duration": 4,
    "start_time": "2022-10-16T07:52:13.676Z"
   },
   {
    "duration": 7,
    "start_time": "2022-10-16T07:52:13.681Z"
   },
   {
    "duration": 17,
    "start_time": "2022-10-16T07:52:13.689Z"
   },
   {
    "duration": 8,
    "start_time": "2022-10-16T07:52:13.707Z"
   },
   {
    "duration": 4,
    "start_time": "2022-10-16T07:52:13.716Z"
   },
   {
    "duration": 100,
    "start_time": "2022-10-16T07:52:13.722Z"
   },
   {
    "duration": 0,
    "start_time": "2022-10-16T07:52:13.826Z"
   },
   {
    "duration": 0,
    "start_time": "2022-10-16T07:52:13.828Z"
   },
   {
    "duration": 0,
    "start_time": "2022-10-16T07:52:13.829Z"
   },
   {
    "duration": 0,
    "start_time": "2022-10-16T07:52:13.830Z"
   },
   {
    "duration": 0,
    "start_time": "2022-10-16T07:52:13.832Z"
   },
   {
    "duration": 0,
    "start_time": "2022-10-16T07:52:13.834Z"
   },
   {
    "duration": 0,
    "start_time": "2022-10-16T07:52:13.836Z"
   },
   {
    "duration": 0,
    "start_time": "2022-10-16T07:52:13.837Z"
   },
   {
    "duration": 0,
    "start_time": "2022-10-16T07:52:13.838Z"
   },
   {
    "duration": 0,
    "start_time": "2022-10-16T07:52:13.840Z"
   },
   {
    "duration": 0,
    "start_time": "2022-10-16T07:52:13.842Z"
   },
   {
    "duration": 0,
    "start_time": "2022-10-16T07:52:13.843Z"
   },
   {
    "duration": 0,
    "start_time": "2022-10-16T07:52:13.844Z"
   },
   {
    "duration": 0,
    "start_time": "2022-10-16T07:52:13.846Z"
   },
   {
    "duration": 0,
    "start_time": "2022-10-16T07:52:13.847Z"
   },
   {
    "duration": 0,
    "start_time": "2022-10-16T07:52:13.848Z"
   },
   {
    "duration": 0,
    "start_time": "2022-10-16T07:52:13.849Z"
   },
   {
    "duration": 0,
    "start_time": "2022-10-16T07:52:13.851Z"
   },
   {
    "duration": 0,
    "start_time": "2022-10-16T07:52:13.852Z"
   },
   {
    "duration": 0,
    "start_time": "2022-10-16T07:52:13.853Z"
   },
   {
    "duration": 0,
    "start_time": "2022-10-16T07:52:13.854Z"
   },
   {
    "duration": 0,
    "start_time": "2022-10-16T07:52:13.855Z"
   },
   {
    "duration": 0,
    "start_time": "2022-10-16T07:52:13.857Z"
   },
   {
    "duration": 0,
    "start_time": "2022-10-16T07:52:13.858Z"
   },
   {
    "duration": 0,
    "start_time": "2022-10-16T07:52:13.859Z"
   },
   {
    "duration": 0,
    "start_time": "2022-10-16T07:52:13.909Z"
   },
   {
    "duration": 0,
    "start_time": "2022-10-16T07:52:13.910Z"
   },
   {
    "duration": 0,
    "start_time": "2022-10-16T07:52:13.911Z"
   },
   {
    "duration": 0,
    "start_time": "2022-10-16T07:52:13.912Z"
   },
   {
    "duration": 0,
    "start_time": "2022-10-16T07:52:13.913Z"
   },
   {
    "duration": 1,
    "start_time": "2022-10-16T07:52:13.914Z"
   },
   {
    "duration": 0,
    "start_time": "2022-10-16T07:52:13.915Z"
   },
   {
    "duration": 0,
    "start_time": "2022-10-16T07:52:13.916Z"
   },
   {
    "duration": 0,
    "start_time": "2022-10-16T07:52:13.917Z"
   },
   {
    "duration": 0,
    "start_time": "2022-10-16T07:52:13.919Z"
   },
   {
    "duration": 0,
    "start_time": "2022-10-16T07:52:13.921Z"
   },
   {
    "duration": 0,
    "start_time": "2022-10-16T07:52:13.922Z"
   },
   {
    "duration": 0,
    "start_time": "2022-10-16T07:52:13.923Z"
   },
   {
    "duration": 0,
    "start_time": "2022-10-16T07:52:13.924Z"
   },
   {
    "duration": 0,
    "start_time": "2022-10-16T07:52:13.925Z"
   },
   {
    "duration": 0,
    "start_time": "2022-10-16T07:52:13.926Z"
   },
   {
    "duration": 0,
    "start_time": "2022-10-16T07:52:13.926Z"
   },
   {
    "duration": 1,
    "start_time": "2022-10-16T07:52:13.927Z"
   },
   {
    "duration": 0,
    "start_time": "2022-10-16T07:52:13.929Z"
   },
   {
    "duration": 0,
    "start_time": "2022-10-16T07:52:13.930Z"
   },
   {
    "duration": 0,
    "start_time": "2022-10-16T07:52:13.931Z"
   },
   {
    "duration": 0,
    "start_time": "2022-10-16T07:52:13.932Z"
   },
   {
    "duration": 0,
    "start_time": "2022-10-16T07:52:13.933Z"
   },
   {
    "duration": 0,
    "start_time": "2022-10-16T07:52:13.934Z"
   },
   {
    "duration": 0,
    "start_time": "2022-10-16T07:52:13.936Z"
   },
   {
    "duration": 0,
    "start_time": "2022-10-16T07:52:13.937Z"
   },
   {
    "duration": 0,
    "start_time": "2022-10-16T07:52:13.938Z"
   },
   {
    "duration": 7,
    "start_time": "2022-10-16T07:54:16.676Z"
   },
   {
    "duration": 13,
    "start_time": "2022-10-16T07:54:20.824Z"
   },
   {
    "duration": 69,
    "start_time": "2022-10-16T07:54:53.293Z"
   },
   {
    "duration": 41,
    "start_time": "2022-10-16T07:55:06.312Z"
   },
   {
    "duration": 4,
    "start_time": "2022-10-16T07:56:37.720Z"
   },
   {
    "duration": 14,
    "start_time": "2022-10-16T07:56:40.115Z"
   },
   {
    "duration": 72,
    "start_time": "2022-10-16T07:56:45.800Z"
   },
   {
    "duration": 4,
    "start_time": "2022-10-16T07:59:58.265Z"
   },
   {
    "duration": 23,
    "start_time": "2022-10-16T08:00:00.390Z"
   },
   {
    "duration": 10,
    "start_time": "2022-10-16T08:00:04.333Z"
   },
   {
    "duration": 11,
    "start_time": "2022-10-16T08:00:15.391Z"
   },
   {
    "duration": 23,
    "start_time": "2022-10-16T08:00:23.448Z"
   },
   {
    "duration": 24,
    "start_time": "2022-10-16T08:00:26.175Z"
   },
   {
    "duration": 3,
    "start_time": "2022-10-16T08:04:34.304Z"
   },
   {
    "duration": 9,
    "start_time": "2022-10-16T08:04:36.994Z"
   },
   {
    "duration": 3,
    "start_time": "2022-10-16T08:04:59.324Z"
   },
   {
    "duration": 5,
    "start_time": "2022-10-16T08:05:00.748Z"
   },
   {
    "duration": 3,
    "start_time": "2022-10-16T08:05:05.231Z"
   },
   {
    "duration": 3,
    "start_time": "2022-10-16T08:05:20.592Z"
   },
   {
    "duration": 20,
    "start_time": "2022-10-16T08:05:22.104Z"
   },
   {
    "duration": 19,
    "start_time": "2022-10-16T08:05:26.162Z"
   },
   {
    "duration": 23,
    "start_time": "2022-10-16T08:05:36.853Z"
   },
   {
    "duration": 20,
    "start_time": "2022-10-16T08:05:56.403Z"
   },
   {
    "duration": 22,
    "start_time": "2022-10-16T08:05:59.155Z"
   },
   {
    "duration": 448,
    "start_time": "2022-10-16T08:06:11.487Z"
   },
   {
    "duration": 3,
    "start_time": "2022-10-16T08:06:11.937Z"
   },
   {
    "duration": 257,
    "start_time": "2022-10-16T08:06:11.943Z"
   },
   {
    "duration": 3,
    "start_time": "2022-10-16T08:06:12.202Z"
   },
   {
    "duration": 19,
    "start_time": "2022-10-16T08:06:12.209Z"
   },
   {
    "duration": 112,
    "start_time": "2022-10-16T08:06:12.230Z"
   },
   {
    "duration": 4,
    "start_time": "2022-10-16T08:06:12.344Z"
   },
   {
    "duration": 54,
    "start_time": "2022-10-16T08:06:12.350Z"
   },
   {
    "duration": 41,
    "start_time": "2022-10-16T08:06:12.406Z"
   },
   {
    "duration": 38,
    "start_time": "2022-10-16T08:06:12.449Z"
   },
   {
    "duration": 59,
    "start_time": "2022-10-16T08:06:12.489Z"
   },
   {
    "duration": 49,
    "start_time": "2022-10-16T08:06:12.550Z"
   },
   {
    "duration": 42,
    "start_time": "2022-10-16T08:06:12.603Z"
   },
   {
    "duration": 60,
    "start_time": "2022-10-16T08:06:12.648Z"
   },
   {
    "duration": 65,
    "start_time": "2022-10-16T08:06:12.711Z"
   },
   {
    "duration": 1895,
    "start_time": "2022-10-16T08:06:12.778Z"
   },
   {
    "duration": 5,
    "start_time": "2022-10-16T08:06:14.675Z"
   },
   {
    "duration": 5,
    "start_time": "2022-10-16T08:06:14.682Z"
   },
   {
    "duration": 16,
    "start_time": "2022-10-16T08:06:14.689Z"
   },
   {
    "duration": 9,
    "start_time": "2022-10-16T08:06:14.707Z"
   },
   {
    "duration": 4,
    "start_time": "2022-10-16T08:06:14.718Z"
   },
   {
    "duration": 108,
    "start_time": "2022-10-16T08:06:14.724Z"
   },
   {
    "duration": 0,
    "start_time": "2022-10-16T08:06:14.836Z"
   },
   {
    "duration": 0,
    "start_time": "2022-10-16T08:06:14.837Z"
   },
   {
    "duration": 0,
    "start_time": "2022-10-16T08:06:14.839Z"
   },
   {
    "duration": 0,
    "start_time": "2022-10-16T08:06:14.839Z"
   },
   {
    "duration": 0,
    "start_time": "2022-10-16T08:06:14.841Z"
   },
   {
    "duration": 0,
    "start_time": "2022-10-16T08:06:14.842Z"
   },
   {
    "duration": 0,
    "start_time": "2022-10-16T08:06:14.843Z"
   },
   {
    "duration": 0,
    "start_time": "2022-10-16T08:06:14.844Z"
   },
   {
    "duration": 0,
    "start_time": "2022-10-16T08:06:14.845Z"
   },
   {
    "duration": 0,
    "start_time": "2022-10-16T08:06:14.846Z"
   },
   {
    "duration": 0,
    "start_time": "2022-10-16T08:06:14.847Z"
   },
   {
    "duration": 0,
    "start_time": "2022-10-16T08:06:14.849Z"
   },
   {
    "duration": 0,
    "start_time": "2022-10-16T08:06:14.850Z"
   },
   {
    "duration": 0,
    "start_time": "2022-10-16T08:06:14.851Z"
   },
   {
    "duration": 0,
    "start_time": "2022-10-16T08:06:14.852Z"
   },
   {
    "duration": 0,
    "start_time": "2022-10-16T08:06:14.853Z"
   },
   {
    "duration": 0,
    "start_time": "2022-10-16T08:06:14.853Z"
   },
   {
    "duration": 0,
    "start_time": "2022-10-16T08:06:14.855Z"
   },
   {
    "duration": 0,
    "start_time": "2022-10-16T08:06:14.856Z"
   },
   {
    "duration": 0,
    "start_time": "2022-10-16T08:06:14.857Z"
   },
   {
    "duration": 0,
    "start_time": "2022-10-16T08:06:14.858Z"
   },
   {
    "duration": 0,
    "start_time": "2022-10-16T08:06:14.859Z"
   },
   {
    "duration": 0,
    "start_time": "2022-10-16T08:06:14.860Z"
   },
   {
    "duration": 0,
    "start_time": "2022-10-16T08:06:14.861Z"
   },
   {
    "duration": 0,
    "start_time": "2022-10-16T08:06:14.862Z"
   },
   {
    "duration": 0,
    "start_time": "2022-10-16T08:06:14.863Z"
   },
   {
    "duration": 0,
    "start_time": "2022-10-16T08:06:14.864Z"
   },
   {
    "duration": 0,
    "start_time": "2022-10-16T08:06:14.909Z"
   },
   {
    "duration": 0,
    "start_time": "2022-10-16T08:06:14.910Z"
   },
   {
    "duration": 0,
    "start_time": "2022-10-16T08:06:14.912Z"
   },
   {
    "duration": 0,
    "start_time": "2022-10-16T08:06:14.912Z"
   },
   {
    "duration": 0,
    "start_time": "2022-10-16T08:06:14.913Z"
   },
   {
    "duration": 0,
    "start_time": "2022-10-16T08:06:14.914Z"
   },
   {
    "duration": 0,
    "start_time": "2022-10-16T08:06:14.915Z"
   },
   {
    "duration": 0,
    "start_time": "2022-10-16T08:06:14.916Z"
   },
   {
    "duration": 0,
    "start_time": "2022-10-16T08:06:14.916Z"
   },
   {
    "duration": 0,
    "start_time": "2022-10-16T08:06:14.917Z"
   },
   {
    "duration": 0,
    "start_time": "2022-10-16T08:06:14.918Z"
   },
   {
    "duration": 0,
    "start_time": "2022-10-16T08:06:14.919Z"
   },
   {
    "duration": 0,
    "start_time": "2022-10-16T08:06:14.920Z"
   },
   {
    "duration": 0,
    "start_time": "2022-10-16T08:06:14.921Z"
   },
   {
    "duration": 0,
    "start_time": "2022-10-16T08:06:14.922Z"
   },
   {
    "duration": 0,
    "start_time": "2022-10-16T08:06:14.923Z"
   },
   {
    "duration": 0,
    "start_time": "2022-10-16T08:06:14.924Z"
   },
   {
    "duration": 0,
    "start_time": "2022-10-16T08:06:14.925Z"
   },
   {
    "duration": 0,
    "start_time": "2022-10-16T08:06:14.925Z"
   },
   {
    "duration": 0,
    "start_time": "2022-10-16T08:06:14.926Z"
   },
   {
    "duration": 0,
    "start_time": "2022-10-16T08:06:14.927Z"
   },
   {
    "duration": 0,
    "start_time": "2022-10-16T08:06:14.928Z"
   },
   {
    "duration": 0,
    "start_time": "2022-10-16T08:06:14.930Z"
   },
   {
    "duration": 0,
    "start_time": "2022-10-16T08:06:14.931Z"
   },
   {
    "duration": 0,
    "start_time": "2022-10-16T08:06:14.932Z"
   },
   {
    "duration": 4,
    "start_time": "2022-10-16T08:10:30.067Z"
   },
   {
    "duration": 7,
    "start_time": "2022-10-16T08:14:01.967Z"
   },
   {
    "duration": 68,
    "start_time": "2022-10-16T08:20:37.197Z"
   },
   {
    "duration": 24,
    "start_time": "2022-10-16T08:20:56.822Z"
   },
   {
    "duration": 429,
    "start_time": "2022-10-16T08:22:01.480Z"
   },
   {
    "duration": 2,
    "start_time": "2022-10-16T08:22:01.911Z"
   },
   {
    "duration": 249,
    "start_time": "2022-10-16T08:22:01.918Z"
   },
   {
    "duration": 2,
    "start_time": "2022-10-16T08:22:02.169Z"
   },
   {
    "duration": 42,
    "start_time": "2022-10-16T08:22:02.172Z"
   },
   {
    "duration": 95,
    "start_time": "2022-10-16T08:22:02.215Z"
   },
   {
    "duration": 3,
    "start_time": "2022-10-16T08:22:02.311Z"
   },
   {
    "duration": 40,
    "start_time": "2022-10-16T08:22:02.316Z"
   },
   {
    "duration": 1882,
    "start_time": "2022-10-16T08:22:02.359Z"
   },
   {
    "duration": 4,
    "start_time": "2022-10-16T08:22:04.242Z"
   },
   {
    "duration": 26,
    "start_time": "2022-10-16T08:22:04.247Z"
   },
   {
    "duration": 57,
    "start_time": "2022-10-16T08:22:04.274Z"
   },
   {
    "duration": 53,
    "start_time": "2022-10-16T08:22:04.333Z"
   },
   {
    "duration": 20,
    "start_time": "2022-10-16T08:22:04.387Z"
   },
   {
    "duration": 42,
    "start_time": "2022-10-16T08:22:04.409Z"
   },
   {
    "duration": 29,
    "start_time": "2022-10-16T08:22:04.453Z"
   },
   {
    "duration": 63,
    "start_time": "2022-10-16T08:22:04.484Z"
   },
   {
    "duration": 26,
    "start_time": "2022-10-16T08:22:04.549Z"
   },
   {
    "duration": 51,
    "start_time": "2022-10-16T08:22:04.577Z"
   },
   {
    "duration": 49,
    "start_time": "2022-10-16T08:22:04.630Z"
   },
   {
    "duration": 38,
    "start_time": "2022-10-16T08:22:04.681Z"
   },
   {
    "duration": 31,
    "start_time": "2022-10-16T08:22:04.721Z"
   },
   {
    "duration": 123,
    "start_time": "2022-10-16T08:22:04.754Z"
   },
   {
    "duration": 75,
    "start_time": "2022-10-16T08:22:04.879Z"
   },
   {
    "duration": 226,
    "start_time": "2022-10-16T08:22:04.956Z"
   },
   {
    "duration": 106,
    "start_time": "2022-10-16T08:22:05.184Z"
   },
   {
    "duration": 30,
    "start_time": "2022-10-16T08:22:05.293Z"
   },
   {
    "duration": 16,
    "start_time": "2022-10-16T08:22:05.324Z"
   },
   {
    "duration": 30,
    "start_time": "2022-10-16T08:22:05.342Z"
   },
   {
    "duration": 19,
    "start_time": "2022-10-16T08:22:05.374Z"
   },
   {
    "duration": 26,
    "start_time": "2022-10-16T08:22:05.395Z"
   },
   {
    "duration": 122,
    "start_time": "2022-10-16T08:22:05.422Z"
   },
   {
    "duration": 15,
    "start_time": "2022-10-16T08:22:05.546Z"
   },
   {
    "duration": 26,
    "start_time": "2022-10-16T08:22:05.562Z"
   },
   {
    "duration": 34,
    "start_time": "2022-10-16T08:22:05.590Z"
   },
   {
    "duration": 14,
    "start_time": "2022-10-16T08:22:05.626Z"
   },
   {
    "duration": 20,
    "start_time": "2022-10-16T08:22:05.642Z"
   },
   {
    "duration": 25,
    "start_time": "2022-10-16T08:22:05.664Z"
   },
   {
    "duration": 24,
    "start_time": "2022-10-16T08:22:05.691Z"
   },
   {
    "duration": 31,
    "start_time": "2022-10-16T08:22:05.717Z"
   },
   {
    "duration": 17,
    "start_time": "2022-10-16T08:22:05.750Z"
   },
   {
    "duration": 414,
    "start_time": "2022-10-16T08:22:05.769Z"
   },
   {
    "duration": 6,
    "start_time": "2022-10-16T08:22:06.185Z"
   },
   {
    "duration": 112,
    "start_time": "2022-10-16T08:22:06.192Z"
   },
   {
    "duration": 242,
    "start_time": "2022-10-16T08:22:06.306Z"
   },
   {
    "duration": 238,
    "start_time": "2022-10-16T08:22:06.550Z"
   },
   {
    "duration": 239,
    "start_time": "2022-10-16T08:22:06.790Z"
   },
   {
    "duration": 233,
    "start_time": "2022-10-16T08:22:07.030Z"
   },
   {
    "duration": 243,
    "start_time": "2022-10-16T08:22:07.264Z"
   },
   {
    "duration": 303,
    "start_time": "2022-10-16T08:22:07.508Z"
   },
   {
    "duration": 245,
    "start_time": "2022-10-16T08:22:07.812Z"
   },
   {
    "duration": 189,
    "start_time": "2022-10-16T08:22:08.059Z"
   },
   {
    "duration": 217,
    "start_time": "2022-10-16T08:22:08.250Z"
   },
   {
    "duration": 258,
    "start_time": "2022-10-16T08:22:08.469Z"
   },
   {
    "duration": 247,
    "start_time": "2022-10-16T08:22:08.729Z"
   },
   {
    "duration": 315,
    "start_time": "2022-10-16T08:22:08.978Z"
   },
   {
    "duration": 226,
    "start_time": "2022-10-16T08:22:09.295Z"
   },
   {
    "duration": 293,
    "start_time": "2022-10-16T08:22:09.523Z"
   },
   {
    "duration": 148,
    "start_time": "2022-10-16T08:22:09.818Z"
   },
   {
    "duration": 10,
    "start_time": "2022-10-16T08:22:09.967Z"
   },
   {
    "duration": 77,
    "start_time": "2022-10-16T08:22:09.979Z"
   },
   {
    "duration": 14,
    "start_time": "2022-10-16T08:22:10.057Z"
   },
   {
    "duration": 12,
    "start_time": "2022-10-16T08:22:10.073Z"
   },
   {
    "duration": 9,
    "start_time": "2022-10-16T08:22:10.109Z"
   },
   {
    "duration": 16,
    "start_time": "2022-10-16T08:22:10.119Z"
   },
   {
    "duration": 18,
    "start_time": "2022-10-16T08:22:10.137Z"
   },
   {
    "duration": 5,
    "start_time": "2022-10-16T08:22:10.156Z"
   },
   {
    "duration": 12,
    "start_time": "2022-10-16T09:41:32.831Z"
   },
   {
    "duration": 9,
    "start_time": "2022-10-16T09:49:33.396Z"
   },
   {
    "duration": 4,
    "start_time": "2022-10-16T09:49:40.536Z"
   },
   {
    "duration": 6,
    "start_time": "2022-10-16T09:50:35.677Z"
   },
   {
    "duration": 79,
    "start_time": "2022-10-16T09:50:58.716Z"
   },
   {
    "duration": 5,
    "start_time": "2022-10-16T09:51:03.501Z"
   },
   {
    "duration": 6,
    "start_time": "2022-10-16T09:51:04.899Z"
   },
   {
    "duration": 235,
    "start_time": "2022-10-16T09:52:58.722Z"
   },
   {
    "duration": 168,
    "start_time": "2022-10-16T09:53:15.854Z"
   },
   {
    "duration": 230,
    "start_time": "2022-10-16T09:53:31.351Z"
   },
   {
    "duration": 10,
    "start_time": "2022-10-16T10:06:31.001Z"
   },
   {
    "duration": 9,
    "start_time": "2022-10-16T10:06:43.168Z"
   },
   {
    "duration": 9,
    "start_time": "2022-10-16T10:08:18.042Z"
   },
   {
    "duration": 9,
    "start_time": "2022-10-16T10:08:27.341Z"
   },
   {
    "duration": 10,
    "start_time": "2022-10-16T10:08:34.607Z"
   },
   {
    "duration": 28,
    "start_time": "2022-10-16T10:12:15.967Z"
   },
   {
    "duration": 6,
    "start_time": "2022-10-16T10:16:32.385Z"
   },
   {
    "duration": 9,
    "start_time": "2022-10-16T10:37:23.194Z"
   },
   {
    "duration": 112,
    "start_time": "2022-10-16T10:37:27.065Z"
   },
   {
    "duration": 7,
    "start_time": "2022-10-16T10:37:31.874Z"
   },
   {
    "duration": 11,
    "start_time": "2022-10-16T10:37:37.283Z"
   },
   {
    "duration": 389,
    "start_time": "2022-10-16T10:38:06.644Z"
   },
   {
    "duration": 3,
    "start_time": "2022-10-16T10:38:07.034Z"
   },
   {
    "duration": 221,
    "start_time": "2022-10-16T10:38:07.038Z"
   },
   {
    "duration": 2,
    "start_time": "2022-10-16T10:38:07.261Z"
   },
   {
    "duration": 12,
    "start_time": "2022-10-16T10:38:07.265Z"
   },
   {
    "duration": 84,
    "start_time": "2022-10-16T10:38:07.278Z"
   },
   {
    "duration": 3,
    "start_time": "2022-10-16T10:38:07.363Z"
   },
   {
    "duration": 36,
    "start_time": "2022-10-16T10:38:07.368Z"
   },
   {
    "duration": 1853,
    "start_time": "2022-10-16T10:38:07.408Z"
   },
   {
    "duration": 4,
    "start_time": "2022-10-16T10:38:09.262Z"
   },
   {
    "duration": 6,
    "start_time": "2022-10-16T10:38:09.267Z"
   },
   {
    "duration": 18,
    "start_time": "2022-10-16T10:38:09.274Z"
   },
   {
    "duration": 8,
    "start_time": "2022-10-16T10:38:09.293Z"
   },
   {
    "duration": 6,
    "start_time": "2022-10-16T10:38:09.304Z"
   },
   {
    "duration": 7,
    "start_time": "2022-10-16T10:38:09.312Z"
   },
   {
    "duration": 7,
    "start_time": "2022-10-16T10:38:09.321Z"
   },
   {
    "duration": 15,
    "start_time": "2022-10-16T10:38:09.329Z"
   },
   {
    "duration": 6,
    "start_time": "2022-10-16T10:38:09.345Z"
   },
   {
    "duration": 15,
    "start_time": "2022-10-16T10:38:09.353Z"
   },
   {
    "duration": 8,
    "start_time": "2022-10-16T10:38:09.370Z"
   },
   {
    "duration": 54,
    "start_time": "2022-10-16T10:38:09.380Z"
   },
   {
    "duration": 23,
    "start_time": "2022-10-16T10:38:09.435Z"
   },
   {
    "duration": 12,
    "start_time": "2022-10-16T10:38:09.460Z"
   },
   {
    "duration": 99,
    "start_time": "2022-10-16T10:38:09.474Z"
   },
   {
    "duration": 76,
    "start_time": "2022-10-16T10:38:09.574Z"
   },
   {
    "duration": 223,
    "start_time": "2022-10-16T10:38:09.651Z"
   },
   {
    "duration": 109,
    "start_time": "2022-10-16T10:38:09.875Z"
   },
   {
    "duration": 34,
    "start_time": "2022-10-16T10:38:09.985Z"
   },
   {
    "duration": 14,
    "start_time": "2022-10-16T10:38:10.021Z"
   },
   {
    "duration": 7,
    "start_time": "2022-10-16T10:38:10.037Z"
   },
   {
    "duration": 13,
    "start_time": "2022-10-16T10:38:10.045Z"
   },
   {
    "duration": 5,
    "start_time": "2022-10-16T10:38:10.059Z"
   },
   {
    "duration": 8,
    "start_time": "2022-10-16T10:38:10.065Z"
   },
   {
    "duration": 215,
    "start_time": "2022-10-16T10:38:10.074Z"
   },
   {
    "duration": 35,
    "start_time": "2022-10-16T10:38:10.291Z"
   },
   {
    "duration": 7,
    "start_time": "2022-10-16T10:38:10.328Z"
   },
   {
    "duration": 121,
    "start_time": "2022-10-16T10:38:10.336Z"
   },
   {
    "duration": 5,
    "start_time": "2022-10-16T10:38:10.459Z"
   },
   {
    "duration": 18,
    "start_time": "2022-10-16T10:38:10.465Z"
   },
   {
    "duration": 2,
    "start_time": "2022-10-16T10:38:10.484Z"
   },
   {
    "duration": 38,
    "start_time": "2022-10-16T10:38:10.491Z"
   },
   {
    "duration": 3,
    "start_time": "2022-10-16T10:38:10.530Z"
   },
   {
    "duration": 9,
    "start_time": "2022-10-16T10:38:10.534Z"
   },
   {
    "duration": 5,
    "start_time": "2022-10-16T10:38:10.545Z"
   },
   {
    "duration": 11,
    "start_time": "2022-10-16T10:38:10.551Z"
   },
   {
    "duration": 107,
    "start_time": "2022-10-16T10:38:10.564Z"
   },
   {
    "duration": 3,
    "start_time": "2022-10-16T10:38:10.673Z"
   },
   {
    "duration": 341,
    "start_time": "2022-10-16T10:38:10.677Z"
   },
   {
    "duration": 5,
    "start_time": "2022-10-16T10:38:11.019Z"
   },
   {
    "duration": 101,
    "start_time": "2022-10-16T10:38:11.026Z"
   },
   {
    "duration": 246,
    "start_time": "2022-10-16T10:38:11.129Z"
   },
   {
    "duration": 256,
    "start_time": "2022-10-16T10:38:11.377Z"
   },
   {
    "duration": 257,
    "start_time": "2022-10-16T10:38:11.635Z"
   },
   {
    "duration": 242,
    "start_time": "2022-10-16T10:38:11.894Z"
   },
   {
    "duration": 300,
    "start_time": "2022-10-16T10:38:12.138Z"
   },
   {
    "duration": 305,
    "start_time": "2022-10-16T10:38:12.440Z"
   },
   {
    "duration": 265,
    "start_time": "2022-10-16T10:38:12.747Z"
   },
   {
    "duration": 196,
    "start_time": "2022-10-16T10:38:13.014Z"
   },
   {
    "duration": 216,
    "start_time": "2022-10-16T10:38:13.212Z"
   },
   {
    "duration": 258,
    "start_time": "2022-10-16T10:38:13.430Z"
   },
   {
    "duration": 312,
    "start_time": "2022-10-16T10:38:13.690Z"
   },
   {
    "duration": 259,
    "start_time": "2022-10-16T10:38:14.003Z"
   },
   {
    "duration": 221,
    "start_time": "2022-10-16T10:38:14.264Z"
   },
   {
    "duration": 286,
    "start_time": "2022-10-16T10:38:14.487Z"
   },
   {
    "duration": 148,
    "start_time": "2022-10-16T10:38:14.774Z"
   },
   {
    "duration": 8,
    "start_time": "2022-10-16T10:38:14.924Z"
   },
   {
    "duration": 75,
    "start_time": "2022-10-16T10:38:14.934Z"
   },
   {
    "duration": 13,
    "start_time": "2022-10-16T10:38:15.011Z"
   },
   {
    "duration": 20,
    "start_time": "2022-10-16T10:38:15.025Z"
   },
   {
    "duration": 10,
    "start_time": "2022-10-16T10:38:15.046Z"
   },
   {
    "duration": 14,
    "start_time": "2022-10-16T10:38:15.058Z"
   },
   {
    "duration": 48,
    "start_time": "2022-10-16T10:38:15.074Z"
   },
   {
    "duration": 5,
    "start_time": "2022-10-16T10:38:15.124Z"
   },
   {
    "duration": 4,
    "start_time": "2022-10-16T10:42:52.089Z"
   },
   {
    "duration": 5,
    "start_time": "2022-10-16T10:43:05.712Z"
   },
   {
    "duration": 4,
    "start_time": "2022-10-16T10:43:23.341Z"
   },
   {
    "duration": 4,
    "start_time": "2022-10-16T10:44:05.922Z"
   },
   {
    "duration": 165,
    "start_time": "2022-10-16T10:46:45.345Z"
   },
   {
    "duration": 105,
    "start_time": "2022-10-16T10:49:23.444Z"
   },
   {
    "duration": 105,
    "start_time": "2022-10-16T10:49:29.840Z"
   },
   {
    "duration": 168,
    "start_time": "2022-10-16T10:49:33.381Z"
   },
   {
    "duration": 105,
    "start_time": "2022-10-16T10:49:38.308Z"
   },
   {
    "duration": 126,
    "start_time": "2022-10-16T10:49:42.909Z"
   },
   {
    "duration": 109,
    "start_time": "2022-10-16T10:49:46.970Z"
   },
   {
    "duration": 109,
    "start_time": "2022-10-16T10:49:53.591Z"
   },
   {
    "duration": 79,
    "start_time": "2022-10-16T10:52:07.322Z"
   },
   {
    "duration": 249,
    "start_time": "2022-10-16T10:52:12.922Z"
   },
   {
    "duration": 3,
    "start_time": "2022-10-16T10:52:55.427Z"
   },
   {
    "duration": 265,
    "start_time": "2022-10-16T10:53:15.801Z"
   },
   {
    "duration": 157,
    "start_time": "2022-10-16T10:53:32.248Z"
   },
   {
    "duration": 318,
    "start_time": "2022-10-16T10:54:36.569Z"
   },
   {
    "duration": 250,
    "start_time": "2022-10-16T10:55:16.425Z"
   },
   {
    "duration": 62,
    "start_time": "2022-10-16T10:55:43.516Z"
   },
   {
    "duration": 578,
    "start_time": "2022-10-16T10:55:59.346Z"
   },
   {
    "duration": 3,
    "start_time": "2022-10-16T10:55:59.925Z"
   },
   {
    "duration": 438,
    "start_time": "2022-10-16T10:55:59.929Z"
   },
   {
    "duration": 3,
    "start_time": "2022-10-16T10:56:00.369Z"
   },
   {
    "duration": 21,
    "start_time": "2022-10-16T10:56:00.373Z"
   },
   {
    "duration": 133,
    "start_time": "2022-10-16T10:56:00.396Z"
   },
   {
    "duration": 3,
    "start_time": "2022-10-16T10:56:00.531Z"
   },
   {
    "duration": 55,
    "start_time": "2022-10-16T10:56:00.535Z"
   },
   {
    "duration": 1857,
    "start_time": "2022-10-16T10:56:00.592Z"
   },
   {
    "duration": 4,
    "start_time": "2022-10-16T10:56:02.451Z"
   },
   {
    "duration": 13,
    "start_time": "2022-10-16T10:56:02.456Z"
   },
   {
    "duration": 29,
    "start_time": "2022-10-16T10:56:02.470Z"
   },
   {
    "duration": 7,
    "start_time": "2022-10-16T10:56:02.501Z"
   },
   {
    "duration": 11,
    "start_time": "2022-10-16T10:56:02.510Z"
   },
   {
    "duration": 11,
    "start_time": "2022-10-16T10:56:02.524Z"
   },
   {
    "duration": 9,
    "start_time": "2022-10-16T10:56:02.537Z"
   },
   {
    "duration": 52,
    "start_time": "2022-10-16T10:56:02.550Z"
   },
   {
    "duration": 10,
    "start_time": "2022-10-16T10:56:02.604Z"
   },
   {
    "duration": 22,
    "start_time": "2022-10-16T10:56:02.616Z"
   },
   {
    "duration": 20,
    "start_time": "2022-10-16T10:56:02.640Z"
   },
   {
    "duration": 49,
    "start_time": "2022-10-16T10:56:02.662Z"
   },
   {
    "duration": 31,
    "start_time": "2022-10-16T10:56:02.713Z"
   },
   {
    "duration": 25,
    "start_time": "2022-10-16T10:56:02.745Z"
   },
   {
    "duration": 102,
    "start_time": "2022-10-16T10:56:02.772Z"
   },
   {
    "duration": 66,
    "start_time": "2022-10-16T10:56:02.876Z"
   },
   {
    "duration": 230,
    "start_time": "2022-10-16T10:56:02.944Z"
   },
   {
    "duration": 108,
    "start_time": "2022-10-16T10:56:03.176Z"
   },
   {
    "duration": 35,
    "start_time": "2022-10-16T10:56:03.287Z"
   },
   {
    "duration": 19,
    "start_time": "2022-10-16T10:56:03.324Z"
   },
   {
    "duration": 4,
    "start_time": "2022-10-16T10:56:03.344Z"
   },
   {
    "duration": 10,
    "start_time": "2022-10-16T10:56:03.350Z"
   },
   {
    "duration": 4,
    "start_time": "2022-10-16T10:56:03.361Z"
   },
   {
    "duration": 7,
    "start_time": "2022-10-16T10:56:03.366Z"
   },
   {
    "duration": 206,
    "start_time": "2022-10-16T10:56:03.375Z"
   },
   {
    "duration": 31,
    "start_time": "2022-10-16T10:56:03.583Z"
   },
   {
    "duration": 8,
    "start_time": "2022-10-16T10:56:03.615Z"
   },
   {
    "duration": 125,
    "start_time": "2022-10-16T10:56:03.625Z"
   },
   {
    "duration": 343,
    "start_time": "2022-10-16T10:56:03.752Z"
   },
   {
    "duration": 35,
    "start_time": "2022-10-16T10:56:04.097Z"
   },
   {
    "duration": 5,
    "start_time": "2022-10-16T10:56:04.134Z"
   },
   {
    "duration": 8,
    "start_time": "2022-10-16T10:56:04.140Z"
   },
   {
    "duration": 6,
    "start_time": "2022-10-16T10:56:04.150Z"
   },
   {
    "duration": 10,
    "start_time": "2022-10-16T10:56:04.158Z"
   },
   {
    "duration": 45,
    "start_time": "2022-10-16T10:56:04.170Z"
   },
   {
    "duration": 3,
    "start_time": "2022-10-16T10:56:04.217Z"
   },
   {
    "duration": 363,
    "start_time": "2022-10-16T10:56:04.221Z"
   },
   {
    "duration": 4,
    "start_time": "2022-10-16T10:56:04.586Z"
   },
   {
    "duration": 112,
    "start_time": "2022-10-16T10:56:04.592Z"
   },
   {
    "duration": 238,
    "start_time": "2022-10-16T10:56:04.705Z"
   },
   {
    "duration": 247,
    "start_time": "2022-10-16T10:56:04.944Z"
   },
   {
    "duration": 251,
    "start_time": "2022-10-16T10:56:05.192Z"
   },
   {
    "duration": 300,
    "start_time": "2022-10-16T10:56:05.445Z"
   },
   {
    "duration": 166,
    "start_time": "2022-10-16T10:56:05.747Z"
   },
   {
    "duration": 241,
    "start_time": "2022-10-16T10:56:05.915Z"
   },
   {
    "duration": 256,
    "start_time": "2022-10-16T10:56:06.157Z"
   },
   {
    "duration": 185,
    "start_time": "2022-10-16T10:56:06.415Z"
   },
   {
    "duration": 230,
    "start_time": "2022-10-16T10:56:06.601Z"
   },
   {
    "duration": 322,
    "start_time": "2022-10-16T10:56:06.833Z"
   },
   {
    "duration": 253,
    "start_time": "2022-10-16T10:56:07.156Z"
   },
   {
    "duration": 242,
    "start_time": "2022-10-16T10:56:07.411Z"
   },
   {
    "duration": 244,
    "start_time": "2022-10-16T10:56:07.654Z"
   },
   {
    "duration": 291,
    "start_time": "2022-10-16T10:56:07.900Z"
   },
   {
    "duration": 136,
    "start_time": "2022-10-16T10:56:08.193Z"
   },
   {
    "duration": 8,
    "start_time": "2022-10-16T10:56:08.330Z"
   },
   {
    "duration": 94,
    "start_time": "2022-10-16T10:56:08.340Z"
   },
   {
    "duration": 12,
    "start_time": "2022-10-16T10:56:08.435Z"
   },
   {
    "duration": 30,
    "start_time": "2022-10-16T10:56:08.449Z"
   },
   {
    "duration": 14,
    "start_time": "2022-10-16T10:56:08.481Z"
   },
   {
    "duration": 15,
    "start_time": "2022-10-16T10:56:08.496Z"
   },
   {
    "duration": 36,
    "start_time": "2022-10-16T10:56:08.513Z"
   },
   {
    "duration": 4,
    "start_time": "2022-10-16T10:56:08.551Z"
   },
   {
    "duration": 312,
    "start_time": "2022-10-16T10:57:57.505Z"
   },
   {
    "duration": 243,
    "start_time": "2022-10-16T10:58:05.134Z"
   },
   {
    "duration": 293,
    "start_time": "2022-10-16T10:58:12.615Z"
   },
   {
    "duration": 7,
    "start_time": "2022-10-16T11:12:56.122Z"
   },
   {
    "duration": 8,
    "start_time": "2022-10-16T11:13:07.752Z"
   },
   {
    "duration": 7,
    "start_time": "2022-10-16T11:16:10.077Z"
   },
   {
    "duration": 8,
    "start_time": "2022-10-16T11:16:42.248Z"
   },
   {
    "duration": 6,
    "start_time": "2022-10-16T11:17:15.116Z"
   },
   {
    "duration": 84,
    "start_time": "2022-10-16T11:21:39.942Z"
   },
   {
    "duration": 962,
    "start_time": "2022-10-16T11:22:26.035Z"
   },
   {
    "duration": 48,
    "start_time": "2022-10-16T11:22:41.015Z"
   },
   {
    "duration": 41,
    "start_time": "2022-10-16T11:22:46.978Z"
   },
   {
    "duration": 762,
    "start_time": "2022-10-16T11:23:46.871Z"
   },
   {
    "duration": 1003,
    "start_time": "2022-10-16T11:24:22.847Z"
   },
   {
    "duration": 737,
    "start_time": "2022-10-16T11:24:59.175Z"
   },
   {
    "duration": 588,
    "start_time": "2022-10-16T11:25:18.809Z"
   },
   {
    "duration": 872,
    "start_time": "2022-10-16T11:25:50.361Z"
   },
   {
    "duration": 8,
    "start_time": "2022-10-16T11:27:03.007Z"
   },
   {
    "duration": 33,
    "start_time": "2022-10-16T11:31:57.003Z"
   },
   {
    "duration": 30,
    "start_time": "2022-10-16T11:36:13.412Z"
   },
   {
    "duration": 32,
    "start_time": "2022-10-16T11:36:38.517Z"
   },
   {
    "duration": 8,
    "start_time": "2022-10-16T11:39:19.997Z"
   },
   {
    "duration": 10,
    "start_time": "2022-10-16T11:39:40.415Z"
   },
   {
    "duration": 11,
    "start_time": "2022-10-16T11:40:26.484Z"
   },
   {
    "duration": 7,
    "start_time": "2022-10-16T11:43:12.266Z"
   },
   {
    "duration": 6,
    "start_time": "2022-10-16T11:45:51.993Z"
   },
   {
    "duration": 7,
    "start_time": "2022-10-16T11:46:48.066Z"
   },
   {
    "duration": 7,
    "start_time": "2022-10-16T11:47:35.266Z"
   },
   {
    "duration": 79,
    "start_time": "2022-10-16T11:49:24.709Z"
   },
   {
    "duration": 37,
    "start_time": "2022-10-16T11:49:37.868Z"
   },
   {
    "duration": 13,
    "start_time": "2022-10-16T11:49:49.532Z"
   },
   {
    "duration": 12,
    "start_time": "2022-10-16T11:50:03.033Z"
   },
   {
    "duration": 22,
    "start_time": "2022-10-16T11:50:17.736Z"
   },
   {
    "duration": 14,
    "start_time": "2022-10-16T11:50:41.426Z"
   },
   {
    "duration": 9,
    "start_time": "2022-10-16T11:51:07.549Z"
   },
   {
    "duration": 8,
    "start_time": "2022-10-16T11:52:15.294Z"
   },
   {
    "duration": 8,
    "start_time": "2022-10-16T11:52:24.989Z"
   },
   {
    "duration": 433,
    "start_time": "2022-10-16T11:52:50.613Z"
   },
   {
    "duration": 2,
    "start_time": "2022-10-16T11:52:51.048Z"
   },
   {
    "duration": 233,
    "start_time": "2022-10-16T11:52:51.052Z"
   },
   {
    "duration": 3,
    "start_time": "2022-10-16T11:52:51.287Z"
   },
   {
    "duration": 21,
    "start_time": "2022-10-16T11:52:51.291Z"
   },
   {
    "duration": 92,
    "start_time": "2022-10-16T11:52:51.314Z"
   },
   {
    "duration": 3,
    "start_time": "2022-10-16T11:52:51.408Z"
   },
   {
    "duration": 36,
    "start_time": "2022-10-16T11:52:51.413Z"
   },
   {
    "duration": 59,
    "start_time": "2022-10-16T11:52:51.451Z"
   },
   {
    "duration": 1866,
    "start_time": "2022-10-16T11:52:51.511Z"
   },
   {
    "duration": 4,
    "start_time": "2022-10-16T11:52:53.378Z"
   },
   {
    "duration": 30,
    "start_time": "2022-10-16T11:52:53.383Z"
   },
   {
    "duration": 37,
    "start_time": "2022-10-16T11:52:53.414Z"
   },
   {
    "duration": 29,
    "start_time": "2022-10-16T11:52:53.454Z"
   },
   {
    "duration": 10,
    "start_time": "2022-10-16T11:52:53.485Z"
   },
   {
    "duration": 26,
    "start_time": "2022-10-16T11:52:53.496Z"
   },
   {
    "duration": 37,
    "start_time": "2022-10-16T11:52:53.523Z"
   },
   {
    "duration": 31,
    "start_time": "2022-10-16T11:52:53.562Z"
   },
   {
    "duration": 21,
    "start_time": "2022-10-16T11:52:53.594Z"
   },
   {
    "duration": 37,
    "start_time": "2022-10-16T11:52:53.617Z"
   },
   {
    "duration": 30,
    "start_time": "2022-10-16T11:52:53.655Z"
   },
   {
    "duration": 43,
    "start_time": "2022-10-16T11:52:53.687Z"
   },
   {
    "duration": 37,
    "start_time": "2022-10-16T11:52:53.731Z"
   },
   {
    "duration": 18,
    "start_time": "2022-10-16T11:52:53.770Z"
   },
   {
    "duration": 103,
    "start_time": "2022-10-16T11:52:53.790Z"
   },
   {
    "duration": 81,
    "start_time": "2022-10-16T11:52:53.895Z"
   },
   {
    "duration": 239,
    "start_time": "2022-10-16T11:52:53.978Z"
   },
   {
    "duration": 106,
    "start_time": "2022-10-16T11:52:54.219Z"
   },
   {
    "duration": 26,
    "start_time": "2022-10-16T11:52:54.327Z"
   },
   {
    "duration": 13,
    "start_time": "2022-10-16T11:52:54.355Z"
   },
   {
    "duration": 5,
    "start_time": "2022-10-16T11:52:54.369Z"
   },
   {
    "duration": 34,
    "start_time": "2022-10-16T11:52:54.376Z"
   },
   {
    "duration": 5,
    "start_time": "2022-10-16T11:52:54.411Z"
   },
   {
    "duration": 7,
    "start_time": "2022-10-16T11:52:54.418Z"
   },
   {
    "duration": 210,
    "start_time": "2022-10-16T11:52:54.426Z"
   },
   {
    "duration": 29,
    "start_time": "2022-10-16T11:52:54.638Z"
   },
   {
    "duration": 8,
    "start_time": "2022-10-16T11:52:54.668Z"
   },
   {
    "duration": 148,
    "start_time": "2022-10-16T11:52:54.677Z"
   },
   {
    "duration": 15,
    "start_time": "2022-10-16T11:52:54.827Z"
   },
   {
    "duration": 16,
    "start_time": "2022-10-16T11:52:54.843Z"
   },
   {
    "duration": 47,
    "start_time": "2022-10-16T11:52:54.866Z"
   },
   {
    "duration": 3,
    "start_time": "2022-10-16T11:52:54.915Z"
   },
   {
    "duration": 12,
    "start_time": "2022-10-16T11:52:54.920Z"
   },
   {
    "duration": 6,
    "start_time": "2022-10-16T11:52:54.934Z"
   },
   {
    "duration": 12,
    "start_time": "2022-10-16T11:52:54.941Z"
   },
   {
    "duration": 121,
    "start_time": "2022-10-16T11:52:54.954Z"
   },
   {
    "duration": 4,
    "start_time": "2022-10-16T11:52:55.077Z"
   },
   {
    "duration": 365,
    "start_time": "2022-10-16T11:52:55.083Z"
   },
   {
    "duration": 5,
    "start_time": "2022-10-16T11:52:55.450Z"
   },
   {
    "duration": 100,
    "start_time": "2022-10-16T11:52:55.456Z"
   },
   {
    "duration": 261,
    "start_time": "2022-10-16T11:52:55.558Z"
   },
   {
    "duration": 254,
    "start_time": "2022-10-16T11:52:55.821Z"
   },
   {
    "duration": 241,
    "start_time": "2022-10-16T11:52:56.077Z"
   },
   {
    "duration": 234,
    "start_time": "2022-10-16T11:52:56.319Z"
   },
   {
    "duration": 210,
    "start_time": "2022-10-16T11:52:56.555Z"
   },
   {
    "duration": 254,
    "start_time": "2022-10-16T11:52:56.767Z"
   },
   {
    "duration": 259,
    "start_time": "2022-10-16T11:52:57.022Z"
   },
   {
    "duration": 199,
    "start_time": "2022-10-16T11:52:57.282Z"
   },
   {
    "duration": 228,
    "start_time": "2022-10-16T11:52:57.483Z"
   },
   {
    "duration": 259,
    "start_time": "2022-10-16T11:52:57.713Z"
   },
   {
    "duration": 305,
    "start_time": "2022-10-16T11:52:57.974Z"
   },
   {
    "duration": 245,
    "start_time": "2022-10-16T11:52:58.280Z"
   },
   {
    "duration": 222,
    "start_time": "2022-10-16T11:52:58.527Z"
   },
   {
    "duration": 303,
    "start_time": "2022-10-16T11:52:58.751Z"
   },
   {
    "duration": 134,
    "start_time": "2022-10-16T11:52:59.056Z"
   },
   {
    "duration": 18,
    "start_time": "2022-10-16T11:52:59.191Z"
   },
   {
    "duration": 63,
    "start_time": "2022-10-16T11:52:59.211Z"
   },
   {
    "duration": 12,
    "start_time": "2022-10-16T11:52:59.275Z"
   },
   {
    "duration": 29,
    "start_time": "2022-10-16T11:52:59.289Z"
   },
   {
    "duration": 36,
    "start_time": "2022-10-16T11:52:59.319Z"
   },
   {
    "duration": 36,
    "start_time": "2022-10-16T11:52:59.357Z"
   },
   {
    "duration": 40,
    "start_time": "2022-10-16T11:52:59.395Z"
   },
   {
    "duration": 18,
    "start_time": "2022-10-16T11:52:59.436Z"
   },
   {
    "duration": 8,
    "start_time": "2022-10-16T11:55:00.587Z"
   },
   {
    "duration": 84,
    "start_time": "2022-10-16T12:04:24.640Z"
   },
   {
    "duration": 9,
    "start_time": "2022-10-16T12:05:04.701Z"
   },
   {
    "duration": 8,
    "start_time": "2022-10-16T12:06:18.666Z"
   },
   {
    "duration": 8,
    "start_time": "2022-10-16T12:06:37.502Z"
   },
   {
    "duration": 104,
    "start_time": "2022-10-16T12:07:38.297Z"
   },
   {
    "duration": 112,
    "start_time": "2022-10-16T12:07:46.029Z"
   },
   {
    "duration": 96,
    "start_time": "2022-10-16T12:07:49.958Z"
   },
   {
    "duration": 155,
    "start_time": "2022-10-16T12:07:53.535Z"
   },
   {
    "duration": 102,
    "start_time": "2022-10-16T12:07:55.728Z"
   },
   {
    "duration": 103,
    "start_time": "2022-10-16T12:07:59.645Z"
   },
   {
    "duration": 103,
    "start_time": "2022-10-16T12:08:13.208Z"
   },
   {
    "duration": 101,
    "start_time": "2022-10-16T12:08:18.547Z"
   },
   {
    "duration": 101,
    "start_time": "2022-10-16T12:08:23.702Z"
   },
   {
    "duration": 118,
    "start_time": "2022-10-16T12:08:33.264Z"
   },
   {
    "duration": 105,
    "start_time": "2022-10-16T12:08:38.402Z"
   },
   {
    "duration": 112,
    "start_time": "2022-10-16T12:08:42.101Z"
   },
   {
    "duration": 107,
    "start_time": "2022-10-16T12:09:00.483Z"
   },
   {
    "duration": 107,
    "start_time": "2022-10-16T12:09:06.694Z"
   },
   {
    "duration": 10,
    "start_time": "2022-10-16T12:11:52.140Z"
   },
   {
    "duration": 9,
    "start_time": "2022-10-16T12:12:03.913Z"
   },
   {
    "duration": 10,
    "start_time": "2022-10-16T12:12:39.252Z"
   },
   {
    "duration": 8,
    "start_time": "2022-10-16T12:12:39.764Z"
   },
   {
    "duration": 164,
    "start_time": "2022-10-16T12:13:32.062Z"
   },
   {
    "duration": 8,
    "start_time": "2022-10-16T12:13:37.912Z"
   },
   {
    "duration": 100,
    "start_time": "2022-10-16T12:13:40.399Z"
   },
   {
    "duration": 95,
    "start_time": "2022-10-16T12:13:49.938Z"
   },
   {
    "duration": 42,
    "start_time": "2022-10-16T12:16:01.589Z"
   },
   {
    "duration": 56,
    "start_time": "2022-10-16T12:16:44.731Z"
   },
   {
    "duration": 409,
    "start_time": "2022-10-16T12:16:50.410Z"
   },
   {
    "duration": 3,
    "start_time": "2022-10-16T12:16:50.826Z"
   },
   {
    "duration": 280,
    "start_time": "2022-10-16T12:16:50.831Z"
   },
   {
    "duration": 3,
    "start_time": "2022-10-16T12:16:51.113Z"
   },
   {
    "duration": 4,
    "start_time": "2022-10-16T12:16:51.118Z"
   },
   {
    "duration": 80,
    "start_time": "2022-10-16T12:16:51.124Z"
   },
   {
    "duration": 4,
    "start_time": "2022-10-16T12:16:51.205Z"
   },
   {
    "duration": 6,
    "start_time": "2022-10-16T12:16:51.211Z"
   },
   {
    "duration": 30,
    "start_time": "2022-10-16T12:16:51.219Z"
   },
   {
    "duration": 1923,
    "start_time": "2022-10-16T12:16:51.250Z"
   },
   {
    "duration": 5,
    "start_time": "2022-10-16T12:16:53.174Z"
   },
   {
    "duration": 6,
    "start_time": "2022-10-16T12:16:53.181Z"
   },
   {
    "duration": 16,
    "start_time": "2022-10-16T12:16:53.189Z"
   },
   {
    "duration": 8,
    "start_time": "2022-10-16T12:16:53.207Z"
   },
   {
    "duration": 4,
    "start_time": "2022-10-16T12:16:53.216Z"
   },
   {
    "duration": 9,
    "start_time": "2022-10-16T12:16:53.222Z"
   },
   {
    "duration": 9,
    "start_time": "2022-10-16T12:16:53.233Z"
   },
   {
    "duration": 11,
    "start_time": "2022-10-16T12:16:53.243Z"
   },
   {
    "duration": 6,
    "start_time": "2022-10-16T12:16:53.256Z"
   },
   {
    "duration": 45,
    "start_time": "2022-10-16T12:16:53.264Z"
   },
   {
    "duration": 11,
    "start_time": "2022-10-16T12:16:53.311Z"
   },
   {
    "duration": 35,
    "start_time": "2022-10-16T12:16:53.324Z"
   },
   {
    "duration": 23,
    "start_time": "2022-10-16T12:16:53.360Z"
   },
   {
    "duration": 32,
    "start_time": "2022-10-16T12:16:53.386Z"
   },
   {
    "duration": 98,
    "start_time": "2022-10-16T12:16:53.420Z"
   },
   {
    "duration": 66,
    "start_time": "2022-10-16T12:16:53.520Z"
   },
   {
    "duration": 237,
    "start_time": "2022-10-16T12:16:53.588Z"
   },
   {
    "duration": 161,
    "start_time": "2022-10-16T12:16:53.827Z"
   },
   {
    "duration": 37,
    "start_time": "2022-10-16T12:16:53.991Z"
   },
   {
    "duration": 15,
    "start_time": "2022-10-16T12:16:54.030Z"
   },
   {
    "duration": 7,
    "start_time": "2022-10-16T12:16:54.046Z"
   },
   {
    "duration": 10,
    "start_time": "2022-10-16T12:16:54.055Z"
   },
   {
    "duration": 4,
    "start_time": "2022-10-16T12:16:54.066Z"
   },
   {
    "duration": 43,
    "start_time": "2022-10-16T12:16:54.072Z"
   },
   {
    "duration": 194,
    "start_time": "2022-10-16T12:16:54.117Z"
   },
   {
    "duration": 27,
    "start_time": "2022-10-16T12:16:54.313Z"
   },
   {
    "duration": 8,
    "start_time": "2022-10-16T12:16:54.341Z"
   },
   {
    "duration": 139,
    "start_time": "2022-10-16T12:16:54.351Z"
   },
   {
    "duration": 22,
    "start_time": "2022-10-16T12:16:54.491Z"
   },
   {
    "duration": 9,
    "start_time": "2022-10-16T12:16:54.514Z"
   },
   {
    "duration": 201,
    "start_time": "2022-10-16T12:16:54.528Z"
   },
   {
    "duration": 75,
    "start_time": "2022-10-16T12:16:54.731Z"
   },
   {
    "duration": 0,
    "start_time": "2022-10-16T12:16:54.808Z"
   },
   {
    "duration": 0,
    "start_time": "2022-10-16T12:16:54.809Z"
   },
   {
    "duration": 0,
    "start_time": "2022-10-16T12:16:54.810Z"
   },
   {
    "duration": 0,
    "start_time": "2022-10-16T12:16:54.811Z"
   },
   {
    "duration": 0,
    "start_time": "2022-10-16T12:16:54.812Z"
   },
   {
    "duration": 0,
    "start_time": "2022-10-16T12:16:54.813Z"
   },
   {
    "duration": 0,
    "start_time": "2022-10-16T12:16:54.814Z"
   },
   {
    "duration": 0,
    "start_time": "2022-10-16T12:16:54.815Z"
   },
   {
    "duration": 0,
    "start_time": "2022-10-16T12:16:54.816Z"
   },
   {
    "duration": 0,
    "start_time": "2022-10-16T12:16:54.817Z"
   },
   {
    "duration": 0,
    "start_time": "2022-10-16T12:16:54.819Z"
   },
   {
    "duration": 0,
    "start_time": "2022-10-16T12:16:54.820Z"
   },
   {
    "duration": 0,
    "start_time": "2022-10-16T12:16:54.821Z"
   },
   {
    "duration": 0,
    "start_time": "2022-10-16T12:16:54.822Z"
   },
   {
    "duration": 0,
    "start_time": "2022-10-16T12:16:54.823Z"
   },
   {
    "duration": 0,
    "start_time": "2022-10-16T12:16:54.824Z"
   },
   {
    "duration": 0,
    "start_time": "2022-10-16T12:16:54.825Z"
   },
   {
    "duration": 0,
    "start_time": "2022-10-16T12:16:54.826Z"
   },
   {
    "duration": 0,
    "start_time": "2022-10-16T12:16:54.828Z"
   },
   {
    "duration": 0,
    "start_time": "2022-10-16T12:16:54.831Z"
   },
   {
    "duration": 0,
    "start_time": "2022-10-16T12:16:54.832Z"
   },
   {
    "duration": 0,
    "start_time": "2022-10-16T12:16:54.833Z"
   },
   {
    "duration": 0,
    "start_time": "2022-10-16T12:16:54.834Z"
   },
   {
    "duration": 0,
    "start_time": "2022-10-16T12:16:54.835Z"
   },
   {
    "duration": 0,
    "start_time": "2022-10-16T12:16:54.837Z"
   },
   {
    "duration": 0,
    "start_time": "2022-10-16T12:16:54.839Z"
   },
   {
    "duration": 0,
    "start_time": "2022-10-16T12:16:54.840Z"
   },
   {
    "duration": 0,
    "start_time": "2022-10-16T12:16:54.841Z"
   },
   {
    "duration": 0,
    "start_time": "2022-10-16T12:16:54.842Z"
   },
   {
    "duration": 0,
    "start_time": "2022-10-16T12:16:54.847Z"
   },
   {
    "duration": 0,
    "start_time": "2022-10-16T12:16:54.849Z"
   },
   {
    "duration": 0,
    "start_time": "2022-10-16T12:16:54.851Z"
   },
   {
    "duration": 0,
    "start_time": "2022-10-16T12:16:54.852Z"
   },
   {
    "duration": 11,
    "start_time": "2022-10-16T12:17:10.564Z"
   },
   {
    "duration": 10,
    "start_time": "2022-10-16T12:17:26.266Z"
   },
   {
    "duration": 11,
    "start_time": "2022-10-16T12:17:35.337Z"
   },
   {
    "duration": 10,
    "start_time": "2022-10-16T12:17:36.736Z"
   },
   {
    "duration": 11,
    "start_time": "2022-10-16T12:17:57.720Z"
   },
   {
    "duration": 118,
    "start_time": "2022-10-16T12:17:59.881Z"
   },
   {
    "duration": 110,
    "start_time": "2022-10-16T12:18:09.700Z"
   },
   {
    "duration": 120,
    "start_time": "2022-10-16T12:18:14.069Z"
   },
   {
    "duration": 106,
    "start_time": "2022-10-16T12:18:18.726Z"
   },
   {
    "duration": 113,
    "start_time": "2022-10-16T12:18:22.850Z"
   },
   {
    "duration": 100,
    "start_time": "2022-10-16T12:18:26.467Z"
   },
   {
    "duration": 4,
    "start_time": "2022-10-16T12:20:44.002Z"
   },
   {
    "duration": 24,
    "start_time": "2022-10-16T12:21:26.737Z"
   },
   {
    "duration": 13,
    "start_time": "2022-10-16T12:21:38.248Z"
   },
   {
    "duration": 378,
    "start_time": "2022-10-16T12:22:35.055Z"
   },
   {
    "duration": 2,
    "start_time": "2022-10-16T12:22:35.435Z"
   },
   {
    "duration": 222,
    "start_time": "2022-10-16T12:22:35.439Z"
   },
   {
    "duration": 2,
    "start_time": "2022-10-16T12:22:35.663Z"
   },
   {
    "duration": 5,
    "start_time": "2022-10-16T12:22:35.667Z"
   },
   {
    "duration": 83,
    "start_time": "2022-10-16T12:22:35.674Z"
   },
   {
    "duration": 3,
    "start_time": "2022-10-16T12:22:35.759Z"
   },
   {
    "duration": 7,
    "start_time": "2022-10-16T12:22:35.764Z"
   },
   {
    "duration": 38,
    "start_time": "2022-10-16T12:22:35.772Z"
   },
   {
    "duration": 1834,
    "start_time": "2022-10-16T12:22:35.811Z"
   },
   {
    "duration": 4,
    "start_time": "2022-10-16T12:22:37.646Z"
   },
   {
    "duration": 6,
    "start_time": "2022-10-16T12:22:37.652Z"
   },
   {
    "duration": 18,
    "start_time": "2022-10-16T12:22:37.659Z"
   },
   {
    "duration": 7,
    "start_time": "2022-10-16T12:22:37.680Z"
   },
   {
    "duration": 3,
    "start_time": "2022-10-16T12:22:37.689Z"
   },
   {
    "duration": 14,
    "start_time": "2022-10-16T12:22:37.693Z"
   },
   {
    "duration": 11,
    "start_time": "2022-10-16T12:22:37.708Z"
   },
   {
    "duration": 12,
    "start_time": "2022-10-16T12:22:37.721Z"
   },
   {
    "duration": 5,
    "start_time": "2022-10-16T12:22:37.734Z"
   },
   {
    "duration": 9,
    "start_time": "2022-10-16T12:22:37.741Z"
   },
   {
    "duration": 10,
    "start_time": "2022-10-16T12:22:37.752Z"
   },
   {
    "duration": 65,
    "start_time": "2022-10-16T12:22:37.763Z"
   },
   {
    "duration": 23,
    "start_time": "2022-10-16T12:22:37.829Z"
   },
   {
    "duration": 12,
    "start_time": "2022-10-16T12:22:37.853Z"
   },
   {
    "duration": 89,
    "start_time": "2022-10-16T12:22:37.867Z"
   },
   {
    "duration": 75,
    "start_time": "2022-10-16T12:22:37.958Z"
   },
   {
    "duration": 239,
    "start_time": "2022-10-16T12:22:38.035Z"
   },
   {
    "duration": 104,
    "start_time": "2022-10-16T12:22:38.276Z"
   },
   {
    "duration": 34,
    "start_time": "2022-10-16T12:22:38.381Z"
   },
   {
    "duration": 14,
    "start_time": "2022-10-16T12:22:38.416Z"
   },
   {
    "duration": 9,
    "start_time": "2022-10-16T12:22:38.431Z"
   },
   {
    "duration": 11,
    "start_time": "2022-10-16T12:22:38.442Z"
   },
   {
    "duration": 5,
    "start_time": "2022-10-16T12:22:38.455Z"
   },
   {
    "duration": 7,
    "start_time": "2022-10-16T12:22:38.462Z"
   },
   {
    "duration": 198,
    "start_time": "2022-10-16T12:22:38.470Z"
   },
   {
    "duration": 28,
    "start_time": "2022-10-16T12:22:38.669Z"
   },
   {
    "duration": 9,
    "start_time": "2022-10-16T12:22:38.709Z"
   },
   {
    "duration": 142,
    "start_time": "2022-10-16T12:22:38.720Z"
   },
   {
    "duration": 14,
    "start_time": "2022-10-16T12:22:38.864Z"
   },
   {
    "duration": 10,
    "start_time": "2022-10-16T12:22:38.880Z"
   },
   {
    "duration": 177,
    "start_time": "2022-10-16T12:22:38.908Z"
   },
   {
    "duration": 23,
    "start_time": "2022-10-16T12:22:39.087Z"
   },
   {
    "duration": 8,
    "start_time": "2022-10-16T12:22:39.112Z"
   },
   {
    "duration": 8,
    "start_time": "2022-10-16T12:22:39.121Z"
   },
   {
    "duration": 18,
    "start_time": "2022-10-16T12:22:39.131Z"
   },
   {
    "duration": 25,
    "start_time": "2022-10-16T12:22:39.150Z"
   },
   {
    "duration": 5,
    "start_time": "2022-10-16T12:22:39.177Z"
   },
   {
    "duration": 10,
    "start_time": "2022-10-16T12:22:39.183Z"
   },
   {
    "duration": 17,
    "start_time": "2022-10-16T12:22:39.194Z"
   },
   {
    "duration": 3,
    "start_time": "2022-10-16T12:22:39.212Z"
   },
   {
    "duration": 333,
    "start_time": "2022-10-16T12:22:39.216Z"
   },
   {
    "duration": 5,
    "start_time": "2022-10-16T12:22:39.550Z"
   },
   {
    "duration": 104,
    "start_time": "2022-10-16T12:22:39.556Z"
   },
   {
    "duration": 239,
    "start_time": "2022-10-16T12:22:39.662Z"
   },
   {
    "duration": 242,
    "start_time": "2022-10-16T12:22:39.903Z"
   },
   {
    "duration": 239,
    "start_time": "2022-10-16T12:22:40.147Z"
   },
   {
    "duration": 295,
    "start_time": "2022-10-16T12:22:40.388Z"
   },
   {
    "duration": 167,
    "start_time": "2022-10-16T12:22:40.684Z"
   },
   {
    "duration": 251,
    "start_time": "2022-10-16T12:22:40.855Z"
   },
   {
    "duration": 251,
    "start_time": "2022-10-16T12:22:41.108Z"
   },
   {
    "duration": 198,
    "start_time": "2022-10-16T12:22:41.361Z"
   },
   {
    "duration": 276,
    "start_time": "2022-10-16T12:22:41.561Z"
   },
   {
    "duration": 376,
    "start_time": "2022-10-16T12:22:41.839Z"
   },
   {
    "duration": 352,
    "start_time": "2022-10-16T12:22:42.217Z"
   },
   {
    "duration": 292,
    "start_time": "2022-10-16T12:22:42.571Z"
   },
   {
    "duration": 229,
    "start_time": "2022-10-16T12:22:42.865Z"
   },
   {
    "duration": 287,
    "start_time": "2022-10-16T12:22:43.096Z"
   },
   {
    "duration": 145,
    "start_time": "2022-10-16T12:22:43.385Z"
   },
   {
    "duration": 9,
    "start_time": "2022-10-16T12:22:43.532Z"
   },
   {
    "duration": 76,
    "start_time": "2022-10-16T12:22:43.543Z"
   },
   {
    "duration": 13,
    "start_time": "2022-10-16T12:22:43.621Z"
   },
   {
    "duration": 13,
    "start_time": "2022-10-16T12:22:43.636Z"
   },
   {
    "duration": 9,
    "start_time": "2022-10-16T12:22:43.651Z"
   },
   {
    "duration": 14,
    "start_time": "2022-10-16T12:22:43.661Z"
   },
   {
    "duration": 50,
    "start_time": "2022-10-16T12:22:43.677Z"
   },
   {
    "duration": 4,
    "start_time": "2022-10-16T12:22:43.728Z"
   },
   {
    "duration": 7,
    "start_time": "2022-10-16T12:30:54.994Z"
   },
   {
    "duration": 93,
    "start_time": "2022-10-16T12:32:24.642Z"
   },
   {
    "duration": 22,
    "start_time": "2022-10-16T12:33:10.977Z"
   },
   {
    "duration": 62,
    "start_time": "2022-10-16T12:36:28.063Z"
   },
   {
    "duration": 10,
    "start_time": "2022-10-16T12:37:42.457Z"
   },
   {
    "duration": 8,
    "start_time": "2022-10-16T12:37:44.509Z"
   },
   {
    "duration": 99,
    "start_time": "2022-10-16T12:37:46.856Z"
   },
   {
    "duration": 11,
    "start_time": "2022-10-16T12:47:39.567Z"
   },
   {
    "duration": 8,
    "start_time": "2022-10-16T12:47:45.167Z"
   },
   {
    "duration": 110,
    "start_time": "2022-10-16T12:48:11.400Z"
   },
   {
    "duration": 4,
    "start_time": "2022-10-16T12:48:33.306Z"
   },
   {
    "duration": 3,
    "start_time": "2022-10-16T12:53:15.620Z"
   },
   {
    "duration": 3,
    "start_time": "2022-10-16T12:53:58.423Z"
   },
   {
    "duration": 7,
    "start_time": "2022-10-16T13:05:49.955Z"
   },
   {
    "duration": 8,
    "start_time": "2022-10-16T13:06:08.692Z"
   },
   {
    "duration": 9,
    "start_time": "2022-10-16T13:06:42.194Z"
   },
   {
    "duration": 157,
    "start_time": "2022-10-16T13:06:59.435Z"
   },
   {
    "duration": 96,
    "start_time": "2022-10-16T13:07:04.483Z"
   },
   {
    "duration": 103,
    "start_time": "2022-10-16T13:07:11.711Z"
   },
   {
    "duration": 96,
    "start_time": "2022-10-16T13:07:15.333Z"
   },
   {
    "duration": 121,
    "start_time": "2022-10-16T13:07:22.720Z"
   },
   {
    "duration": 99,
    "start_time": "2022-10-16T13:07:26.488Z"
   },
   {
    "duration": 98,
    "start_time": "2022-10-16T13:07:34.870Z"
   },
   {
    "duration": 112,
    "start_time": "2022-10-16T13:07:41.422Z"
   },
   {
    "duration": 34,
    "start_time": "2022-10-16T13:09:49.240Z"
   },
   {
    "duration": 10,
    "start_time": "2022-10-16T13:10:04.215Z"
   },
   {
    "duration": 4,
    "start_time": "2022-10-16T13:10:11.852Z"
   },
   {
    "duration": 107,
    "start_time": "2022-10-16T13:10:21.202Z"
   },
   {
    "duration": 10,
    "start_time": "2022-10-16T13:10:54.587Z"
   },
   {
    "duration": 361,
    "start_time": "2022-10-16T13:12:15.058Z"
   },
   {
    "duration": 3,
    "start_time": "2022-10-16T13:12:15.421Z"
   },
   {
    "duration": 225,
    "start_time": "2022-10-16T13:12:15.427Z"
   },
   {
    "duration": 3,
    "start_time": "2022-10-16T13:12:15.654Z"
   },
   {
    "duration": 7,
    "start_time": "2022-10-16T13:12:15.658Z"
   },
   {
    "duration": 88,
    "start_time": "2022-10-16T13:12:15.666Z"
   },
   {
    "duration": 3,
    "start_time": "2022-10-16T13:12:15.755Z"
   },
   {
    "duration": 9,
    "start_time": "2022-10-16T13:12:15.759Z"
   },
   {
    "duration": 41,
    "start_time": "2022-10-16T13:12:15.769Z"
   },
   {
    "duration": 1785,
    "start_time": "2022-10-16T13:12:15.812Z"
   },
   {
    "duration": 4,
    "start_time": "2022-10-16T13:12:17.598Z"
   },
   {
    "duration": 6,
    "start_time": "2022-10-16T13:12:17.604Z"
   },
   {
    "duration": 18,
    "start_time": "2022-10-16T13:12:17.613Z"
   },
   {
    "duration": 8,
    "start_time": "2022-10-16T13:12:17.632Z"
   },
   {
    "duration": 4,
    "start_time": "2022-10-16T13:12:17.641Z"
   },
   {
    "duration": 8,
    "start_time": "2022-10-16T13:12:17.646Z"
   },
   {
    "duration": 8,
    "start_time": "2022-10-16T13:12:17.656Z"
   },
   {
    "duration": 14,
    "start_time": "2022-10-16T13:12:17.666Z"
   },
   {
    "duration": 28,
    "start_time": "2022-10-16T13:12:17.681Z"
   },
   {
    "duration": 7,
    "start_time": "2022-10-16T13:12:17.710Z"
   },
   {
    "duration": 21,
    "start_time": "2022-10-16T13:12:17.718Z"
   },
   {
    "duration": 32,
    "start_time": "2022-10-16T13:12:17.740Z"
   },
   {
    "duration": 47,
    "start_time": "2022-10-16T13:12:17.774Z"
   },
   {
    "duration": 12,
    "start_time": "2022-10-16T13:12:17.823Z"
   },
   {
    "duration": 86,
    "start_time": "2022-10-16T13:12:17.837Z"
   },
   {
    "duration": 68,
    "start_time": "2022-10-16T13:12:17.924Z"
   },
   {
    "duration": 259,
    "start_time": "2022-10-16T13:12:17.994Z"
   },
   {
    "duration": 100,
    "start_time": "2022-10-16T13:12:18.254Z"
   },
   {
    "duration": 26,
    "start_time": "2022-10-16T13:12:18.355Z"
   },
   {
    "duration": 30,
    "start_time": "2022-10-16T13:12:18.382Z"
   },
   {
    "duration": 6,
    "start_time": "2022-10-16T13:12:18.413Z"
   },
   {
    "duration": 13,
    "start_time": "2022-10-16T13:12:18.420Z"
   },
   {
    "duration": 4,
    "start_time": "2022-10-16T13:12:18.434Z"
   },
   {
    "duration": 11,
    "start_time": "2022-10-16T13:12:18.439Z"
   },
   {
    "duration": 190,
    "start_time": "2022-10-16T13:12:18.452Z"
   },
   {
    "duration": 27,
    "start_time": "2022-10-16T13:12:18.643Z"
   },
   {
    "duration": 7,
    "start_time": "2022-10-16T13:12:18.671Z"
   },
   {
    "duration": 135,
    "start_time": "2022-10-16T13:12:18.680Z"
   },
   {
    "duration": 15,
    "start_time": "2022-10-16T13:12:18.816Z"
   },
   {
    "duration": 12,
    "start_time": "2022-10-16T13:12:18.840Z"
   },
   {
    "duration": 195,
    "start_time": "2022-10-16T13:12:18.853Z"
   },
   {
    "duration": 9,
    "start_time": "2022-10-16T13:12:19.049Z"
   },
   {
    "duration": 125,
    "start_time": "2022-10-16T13:12:19.060Z"
   },
   {
    "duration": 12,
    "start_time": "2022-10-16T13:12:19.186Z"
   },
   {
    "duration": 115,
    "start_time": "2022-10-16T13:12:19.200Z"
   },
   {
    "duration": 8,
    "start_time": "2022-10-16T13:12:19.316Z"
   },
   {
    "duration": 4,
    "start_time": "2022-10-16T13:12:19.326Z"
   },
   {
    "duration": 7,
    "start_time": "2022-10-16T13:12:19.331Z"
   },
   {
    "duration": 8,
    "start_time": "2022-10-16T13:12:19.340Z"
   },
   {
    "duration": 7,
    "start_time": "2022-10-16T13:12:19.350Z"
   },
   {
    "duration": 13,
    "start_time": "2022-10-16T13:12:19.358Z"
   },
   {
    "duration": 37,
    "start_time": "2022-10-16T13:12:19.372Z"
   },
   {
    "duration": 3,
    "start_time": "2022-10-16T13:12:19.411Z"
   },
   {
    "duration": 373,
    "start_time": "2022-10-16T13:12:19.415Z"
   },
   {
    "duration": 6,
    "start_time": "2022-10-16T13:12:19.789Z"
   },
   {
    "duration": 105,
    "start_time": "2022-10-16T13:12:19.796Z"
   },
   {
    "duration": 263,
    "start_time": "2022-10-16T13:12:19.908Z"
   },
   {
    "duration": 238,
    "start_time": "2022-10-16T13:12:20.172Z"
   },
   {
    "duration": 290,
    "start_time": "2022-10-16T13:12:20.412Z"
   },
   {
    "duration": 259,
    "start_time": "2022-10-16T13:12:20.703Z"
   },
   {
    "duration": 171,
    "start_time": "2022-10-16T13:12:20.963Z"
   },
   {
    "duration": 254,
    "start_time": "2022-10-16T13:12:21.136Z"
   },
   {
    "duration": 249,
    "start_time": "2022-10-16T13:12:21.391Z"
   },
   {
    "duration": 196,
    "start_time": "2022-10-16T13:12:21.642Z"
   },
   {
    "duration": 234,
    "start_time": "2022-10-16T13:12:21.840Z"
   },
   {
    "duration": 334,
    "start_time": "2022-10-16T13:12:22.075Z"
   },
   {
    "duration": 306,
    "start_time": "2022-10-16T13:12:22.410Z"
   },
   {
    "duration": 261,
    "start_time": "2022-10-16T13:12:22.718Z"
   },
   {
    "duration": 225,
    "start_time": "2022-10-16T13:12:22.981Z"
   },
   {
    "duration": 295,
    "start_time": "2022-10-16T13:12:23.209Z"
   },
   {
    "duration": 132,
    "start_time": "2022-10-16T13:12:23.505Z"
   },
   {
    "duration": 9,
    "start_time": "2022-10-16T13:12:23.639Z"
   },
   {
    "duration": 76,
    "start_time": "2022-10-16T13:12:23.649Z"
   },
   {
    "duration": 13,
    "start_time": "2022-10-16T13:12:23.728Z"
   },
   {
    "duration": 32,
    "start_time": "2022-10-16T13:12:23.743Z"
   },
   {
    "duration": 10,
    "start_time": "2022-10-16T13:12:23.777Z"
   },
   {
    "duration": 36,
    "start_time": "2022-10-16T13:12:23.788Z"
   },
   {
    "duration": 46,
    "start_time": "2022-10-16T13:12:23.826Z"
   },
   {
    "duration": 28,
    "start_time": "2022-10-16T13:12:23.874Z"
   },
   {
    "duration": 7,
    "start_time": "2022-10-16T13:15:08.355Z"
   },
   {
    "duration": 311,
    "start_time": "2022-10-16T13:16:32.835Z"
   },
   {
    "duration": 228,
    "start_time": "2022-10-16T13:16:56.798Z"
   },
   {
    "duration": 233,
    "start_time": "2022-10-16T13:17:07.736Z"
   },
   {
    "duration": 64,
    "start_time": "2022-10-16T13:18:31.099Z"
   },
   {
    "duration": 8,
    "start_time": "2022-10-16T13:18:35.219Z"
   },
   {
    "duration": 8,
    "start_time": "2022-10-16T13:18:38.290Z"
   },
   {
    "duration": 4,
    "start_time": "2022-10-16T13:18:42.392Z"
   },
   {
    "duration": 389,
    "start_time": "2022-10-16T13:18:53.651Z"
   },
   {
    "duration": 3,
    "start_time": "2022-10-16T13:18:54.042Z"
   },
   {
    "duration": 249,
    "start_time": "2022-10-16T13:18:54.046Z"
   },
   {
    "duration": 3,
    "start_time": "2022-10-16T13:18:54.297Z"
   },
   {
    "duration": 31,
    "start_time": "2022-10-16T13:18:54.302Z"
   },
   {
    "duration": 116,
    "start_time": "2022-10-16T13:18:54.334Z"
   },
   {
    "duration": 3,
    "start_time": "2022-10-16T13:18:54.451Z"
   },
   {
    "duration": 31,
    "start_time": "2022-10-16T13:18:54.456Z"
   },
   {
    "duration": 50,
    "start_time": "2022-10-16T13:18:54.489Z"
   },
   {
    "duration": 1815,
    "start_time": "2022-10-16T13:18:54.542Z"
   },
   {
    "duration": 4,
    "start_time": "2022-10-16T13:18:56.359Z"
   },
   {
    "duration": 28,
    "start_time": "2022-10-16T13:18:56.364Z"
   },
   {
    "duration": 38,
    "start_time": "2022-10-16T13:18:56.394Z"
   },
   {
    "duration": 10,
    "start_time": "2022-10-16T13:18:56.434Z"
   },
   {
    "duration": 23,
    "start_time": "2022-10-16T13:18:56.446Z"
   },
   {
    "duration": 22,
    "start_time": "2022-10-16T13:18:56.471Z"
   },
   {
    "duration": 58,
    "start_time": "2022-10-16T13:18:56.495Z"
   },
   {
    "duration": 26,
    "start_time": "2022-10-16T13:18:56.555Z"
   },
   {
    "duration": 29,
    "start_time": "2022-10-16T13:18:56.583Z"
   },
   {
    "duration": 26,
    "start_time": "2022-10-16T13:18:56.614Z"
   },
   {
    "duration": 38,
    "start_time": "2022-10-16T13:18:56.641Z"
   },
   {
    "duration": 42,
    "start_time": "2022-10-16T13:18:56.681Z"
   },
   {
    "duration": 22,
    "start_time": "2022-10-16T13:18:56.724Z"
   },
   {
    "duration": 10,
    "start_time": "2022-10-16T13:18:56.748Z"
   },
   {
    "duration": 105,
    "start_time": "2022-10-16T13:18:56.759Z"
   },
   {
    "duration": 69,
    "start_time": "2022-10-16T13:18:56.865Z"
   },
   {
    "duration": 232,
    "start_time": "2022-10-16T13:18:56.936Z"
   },
   {
    "duration": 108,
    "start_time": "2022-10-16T13:18:57.172Z"
   },
   {
    "duration": 34,
    "start_time": "2022-10-16T13:18:57.282Z"
   },
   {
    "duration": 14,
    "start_time": "2022-10-16T13:18:57.318Z"
   },
   {
    "duration": 21,
    "start_time": "2022-10-16T13:18:57.334Z"
   },
   {
    "duration": 19,
    "start_time": "2022-10-16T13:18:57.357Z"
   },
   {
    "duration": 26,
    "start_time": "2022-10-16T13:18:57.378Z"
   },
   {
    "duration": 34,
    "start_time": "2022-10-16T13:18:57.405Z"
   },
   {
    "duration": 179,
    "start_time": "2022-10-16T13:18:57.441Z"
   },
   {
    "duration": 25,
    "start_time": "2022-10-16T13:18:57.622Z"
   },
   {
    "duration": 7,
    "start_time": "2022-10-16T13:18:57.649Z"
   },
   {
    "duration": 132,
    "start_time": "2022-10-16T13:18:57.657Z"
   },
   {
    "duration": 12,
    "start_time": "2022-10-16T13:18:57.790Z"
   },
   {
    "duration": 8,
    "start_time": "2022-10-16T13:18:57.808Z"
   },
   {
    "duration": 197,
    "start_time": "2022-10-16T13:18:57.818Z"
   },
   {
    "duration": 8,
    "start_time": "2022-10-16T13:18:58.016Z"
   },
   {
    "duration": 137,
    "start_time": "2022-10-16T13:18:58.026Z"
   },
   {
    "duration": 235,
    "start_time": "2022-10-16T13:18:58.165Z"
   },
   {
    "duration": 13,
    "start_time": "2022-10-16T13:18:58.402Z"
   },
   {
    "duration": 8,
    "start_time": "2022-10-16T13:18:58.416Z"
   },
   {
    "duration": 6,
    "start_time": "2022-10-16T13:18:58.426Z"
   },
   {
    "duration": 4,
    "start_time": "2022-10-16T13:18:58.433Z"
   },
   {
    "duration": 7,
    "start_time": "2022-10-16T13:18:58.438Z"
   },
   {
    "duration": 5,
    "start_time": "2022-10-16T13:18:58.446Z"
   },
   {
    "duration": 9,
    "start_time": "2022-10-16T13:18:58.453Z"
   },
   {
    "duration": 46,
    "start_time": "2022-10-16T13:18:58.463Z"
   },
   {
    "duration": 4,
    "start_time": "2022-10-16T13:18:58.511Z"
   },
   {
    "duration": 356,
    "start_time": "2022-10-16T13:18:58.517Z"
   },
   {
    "duration": 5,
    "start_time": "2022-10-16T13:18:58.875Z"
   },
   {
    "duration": 98,
    "start_time": "2022-10-16T13:18:58.882Z"
   },
   {
    "duration": 253,
    "start_time": "2022-10-16T13:18:58.981Z"
   },
   {
    "duration": 235,
    "start_time": "2022-10-16T13:18:59.236Z"
   },
   {
    "duration": 289,
    "start_time": "2022-10-16T13:18:59.473Z"
   },
   {
    "duration": 235,
    "start_time": "2022-10-16T13:18:59.763Z"
   },
   {
    "duration": 168,
    "start_time": "2022-10-16T13:19:00.000Z"
   },
   {
    "duration": 246,
    "start_time": "2022-10-16T13:19:00.169Z"
   },
   {
    "duration": 246,
    "start_time": "2022-10-16T13:19:00.417Z"
   },
   {
    "duration": 195,
    "start_time": "2022-10-16T13:19:00.665Z"
   },
   {
    "duration": 320,
    "start_time": "2022-10-16T13:19:00.862Z"
   },
   {
    "duration": 274,
    "start_time": "2022-10-16T13:19:01.184Z"
   },
   {
    "duration": 244,
    "start_time": "2022-10-16T13:19:01.459Z"
   },
   {
    "duration": 238,
    "start_time": "2022-10-16T13:19:01.704Z"
   },
   {
    "duration": 225,
    "start_time": "2022-10-16T13:19:01.944Z"
   },
   {
    "duration": 286,
    "start_time": "2022-10-16T13:19:02.171Z"
   },
   {
    "duration": 147,
    "start_time": "2022-10-16T13:19:02.458Z"
   },
   {
    "duration": 11,
    "start_time": "2022-10-16T13:19:02.608Z"
   },
   {
    "duration": 173,
    "start_time": "2022-10-16T13:19:02.621Z"
   },
   {
    "duration": 18,
    "start_time": "2022-10-16T13:19:02.795Z"
   },
   {
    "duration": 12,
    "start_time": "2022-10-16T13:19:02.814Z"
   },
   {
    "duration": 7,
    "start_time": "2022-10-16T13:19:02.828Z"
   },
   {
    "duration": 15,
    "start_time": "2022-10-16T13:19:02.837Z"
   },
   {
    "duration": 21,
    "start_time": "2022-10-16T13:19:02.853Z"
   },
   {
    "duration": 35,
    "start_time": "2022-10-16T13:19:02.876Z"
   },
   {
    "duration": 9,
    "start_time": "2022-10-16T13:20:08.622Z"
   },
   {
    "duration": 4,
    "start_time": "2022-10-16T13:20:21.099Z"
   },
   {
    "duration": 10,
    "start_time": "2022-10-16T13:20:23.823Z"
   },
   {
    "duration": 8,
    "start_time": "2022-10-16T13:20:25.194Z"
   },
   {
    "duration": 4,
    "start_time": "2022-10-16T13:20:31.489Z"
   },
   {
    "duration": 80,
    "start_time": "2022-10-16T13:21:16.733Z"
   },
   {
    "duration": 10,
    "start_time": "2022-10-16T13:36:51.298Z"
   },
   {
    "duration": 9,
    "start_time": "2022-10-16T13:36:53.579Z"
   },
   {
    "duration": 7,
    "start_time": "2022-10-16T13:42:17.021Z"
   },
   {
    "duration": 8,
    "start_time": "2022-10-16T13:42:18.689Z"
   },
   {
    "duration": 4,
    "start_time": "2022-10-16T13:52:10.131Z"
   },
   {
    "duration": 6,
    "start_time": "2022-10-16T13:52:19.226Z"
   },
   {
    "duration": 8,
    "start_time": "2022-10-16T13:52:38.155Z"
   },
   {
    "duration": 14,
    "start_time": "2022-10-16T13:52:43.222Z"
   },
   {
    "duration": 4,
    "start_time": "2022-10-16T13:52:45.179Z"
   },
   {
    "duration": 4,
    "start_time": "2022-10-16T13:53:13.404Z"
   },
   {
    "duration": 369,
    "start_time": "2022-10-16T13:53:26.061Z"
   },
   {
    "duration": 3,
    "start_time": "2022-10-16T13:53:26.432Z"
   },
   {
    "duration": 225,
    "start_time": "2022-10-16T13:53:26.436Z"
   },
   {
    "duration": 3,
    "start_time": "2022-10-16T13:53:26.663Z"
   },
   {
    "duration": 6,
    "start_time": "2022-10-16T13:53:26.667Z"
   },
   {
    "duration": 86,
    "start_time": "2022-10-16T13:53:26.674Z"
   },
   {
    "duration": 4,
    "start_time": "2022-10-16T13:53:26.762Z"
   },
   {
    "duration": 6,
    "start_time": "2022-10-16T13:53:26.767Z"
   },
   {
    "duration": 27,
    "start_time": "2022-10-16T13:53:26.775Z"
   },
   {
    "duration": 1776,
    "start_time": "2022-10-16T13:53:26.809Z"
   },
   {
    "duration": 5,
    "start_time": "2022-10-16T13:53:28.587Z"
   },
   {
    "duration": 5,
    "start_time": "2022-10-16T13:53:28.594Z"
   },
   {
    "duration": 20,
    "start_time": "2022-10-16T13:53:28.601Z"
   },
   {
    "duration": 9,
    "start_time": "2022-10-16T13:53:28.623Z"
   },
   {
    "duration": 4,
    "start_time": "2022-10-16T13:53:28.633Z"
   },
   {
    "duration": 10,
    "start_time": "2022-10-16T13:53:28.639Z"
   },
   {
    "duration": 7,
    "start_time": "2022-10-16T13:53:28.651Z"
   },
   {
    "duration": 12,
    "start_time": "2022-10-16T13:53:28.660Z"
   },
   {
    "duration": 5,
    "start_time": "2022-10-16T13:53:28.673Z"
   },
   {
    "duration": 33,
    "start_time": "2022-10-16T13:53:28.680Z"
   },
   {
    "duration": 8,
    "start_time": "2022-10-16T13:53:28.714Z"
   },
   {
    "duration": 32,
    "start_time": "2022-10-16T13:53:28.723Z"
   },
   {
    "duration": 22,
    "start_time": "2022-10-16T13:53:28.756Z"
   },
   {
    "duration": 35,
    "start_time": "2022-10-16T13:53:28.780Z"
   },
   {
    "duration": 96,
    "start_time": "2022-10-16T13:53:28.816Z"
   },
   {
    "duration": 75,
    "start_time": "2022-10-16T13:53:28.914Z"
   },
   {
    "duration": 241,
    "start_time": "2022-10-16T13:53:28.991Z"
   },
   {
    "duration": 106,
    "start_time": "2022-10-16T13:53:29.237Z"
   },
   {
    "duration": 26,
    "start_time": "2022-10-16T13:53:29.345Z"
   },
   {
    "duration": 14,
    "start_time": "2022-10-16T13:53:29.372Z"
   },
   {
    "duration": 6,
    "start_time": "2022-10-16T13:53:29.408Z"
   },
   {
    "duration": 10,
    "start_time": "2022-10-16T13:53:29.415Z"
   },
   {
    "duration": 5,
    "start_time": "2022-10-16T13:53:29.426Z"
   },
   {
    "duration": 6,
    "start_time": "2022-10-16T13:53:29.433Z"
   },
   {
    "duration": 202,
    "start_time": "2022-10-16T13:53:29.440Z"
   },
   {
    "duration": 25,
    "start_time": "2022-10-16T13:53:29.644Z"
   },
   {
    "duration": 8,
    "start_time": "2022-10-16T13:53:29.670Z"
   },
   {
    "duration": 131,
    "start_time": "2022-10-16T13:53:29.679Z"
   },
   {
    "duration": 12,
    "start_time": "2022-10-16T13:53:29.812Z"
   },
   {
    "duration": 8,
    "start_time": "2022-10-16T13:53:29.825Z"
   },
   {
    "duration": 194,
    "start_time": "2022-10-16T13:53:29.835Z"
   },
   {
    "duration": 8,
    "start_time": "2022-10-16T13:53:30.031Z"
   },
   {
    "duration": 118,
    "start_time": "2022-10-16T13:53:30.041Z"
   },
   {
    "duration": 241,
    "start_time": "2022-10-16T13:53:30.161Z"
   },
   {
    "duration": 8,
    "start_time": "2022-10-16T13:53:30.403Z"
   },
   {
    "duration": 36,
    "start_time": "2022-10-16T13:53:30.412Z"
   },
   {
    "duration": 29,
    "start_time": "2022-10-16T13:53:30.449Z"
   },
   {
    "duration": 25,
    "start_time": "2022-10-16T13:53:30.479Z"
   },
   {
    "duration": 26,
    "start_time": "2022-10-16T13:53:30.505Z"
   },
   {
    "duration": 53,
    "start_time": "2022-10-16T13:53:30.532Z"
   },
   {
    "duration": 20,
    "start_time": "2022-10-16T13:53:30.586Z"
   },
   {
    "duration": 28,
    "start_time": "2022-10-16T13:53:30.607Z"
   },
   {
    "duration": 42,
    "start_time": "2022-10-16T13:53:30.637Z"
   },
   {
    "duration": 3,
    "start_time": "2022-10-16T13:53:30.681Z"
   },
   {
    "duration": 349,
    "start_time": "2022-10-16T13:53:30.685Z"
   },
   {
    "duration": 5,
    "start_time": "2022-10-16T13:53:31.036Z"
   },
   {
    "duration": 125,
    "start_time": "2022-10-16T13:53:31.042Z"
   },
   {
    "duration": 240,
    "start_time": "2022-10-16T13:53:31.169Z"
   },
   {
    "duration": 229,
    "start_time": "2022-10-16T13:53:31.410Z"
   },
   {
    "duration": 312,
    "start_time": "2022-10-16T13:53:31.641Z"
   },
   {
    "duration": 244,
    "start_time": "2022-10-16T13:53:31.955Z"
   },
   {
    "duration": 165,
    "start_time": "2022-10-16T13:53:32.201Z"
   },
   {
    "duration": 268,
    "start_time": "2022-10-16T13:53:32.367Z"
   },
   {
    "duration": 294,
    "start_time": "2022-10-16T13:53:32.637Z"
   },
   {
    "duration": 189,
    "start_time": "2022-10-16T13:53:32.933Z"
   },
   {
    "duration": 293,
    "start_time": "2022-10-16T13:53:33.123Z"
   },
   {
    "duration": 267,
    "start_time": "2022-10-16T13:53:33.418Z"
   },
   {
    "duration": 279,
    "start_time": "2022-10-16T13:53:33.686Z"
   },
   {
    "duration": 262,
    "start_time": "2022-10-16T13:53:33.967Z"
   },
   {
    "duration": 229,
    "start_time": "2022-10-16T13:53:34.231Z"
   },
   {
    "duration": 284,
    "start_time": "2022-10-16T13:53:34.461Z"
   },
   {
    "duration": 139,
    "start_time": "2022-10-16T13:53:34.746Z"
   },
   {
    "duration": 9,
    "start_time": "2022-10-16T13:53:34.887Z"
   },
   {
    "duration": 139,
    "start_time": "2022-10-16T13:53:34.897Z"
   },
   {
    "duration": 12,
    "start_time": "2022-10-16T13:53:35.038Z"
   },
   {
    "duration": 24,
    "start_time": "2022-10-16T13:53:35.052Z"
   },
   {
    "duration": 38,
    "start_time": "2022-10-16T13:53:35.077Z"
   },
   {
    "duration": 13,
    "start_time": "2022-10-16T13:53:35.117Z"
   },
   {
    "duration": 21,
    "start_time": "2022-10-16T13:53:35.131Z"
   },
   {
    "duration": 4,
    "start_time": "2022-10-16T13:53:35.153Z"
   },
   {
    "duration": 6,
    "start_time": "2022-10-16T13:55:42.753Z"
   },
   {
    "duration": 5,
    "start_time": "2022-10-16T13:55:57.997Z"
   },
   {
    "duration": 9,
    "start_time": "2022-10-16T13:57:17.671Z"
   },
   {
    "duration": 8,
    "start_time": "2022-10-16T13:57:27.347Z"
   },
   {
    "duration": 11,
    "start_time": "2022-10-16T13:57:42.610Z"
   },
   {
    "duration": 8,
    "start_time": "2022-10-16T13:58:22.175Z"
   },
   {
    "duration": 112,
    "start_time": "2022-10-16T13:58:26.698Z"
   },
   {
    "duration": 9,
    "start_time": "2022-10-16T13:58:34.326Z"
   },
   {
    "duration": 12,
    "start_time": "2022-10-16T14:00:35.655Z"
   },
   {
    "duration": 117,
    "start_time": "2022-10-16T14:00:37.810Z"
   },
   {
    "duration": 12,
    "start_time": "2022-10-16T14:00:42.663Z"
   },
   {
    "duration": 4,
    "start_time": "2022-10-16T14:00:46.515Z"
   },
   {
    "duration": 9,
    "start_time": "2022-10-16T14:03:56.616Z"
   },
   {
    "duration": 389,
    "start_time": "2022-10-16T14:05:33.333Z"
   },
   {
    "duration": 2,
    "start_time": "2022-10-16T14:05:33.724Z"
   },
   {
    "duration": 235,
    "start_time": "2022-10-16T14:05:33.728Z"
   },
   {
    "duration": 2,
    "start_time": "2022-10-16T14:05:33.965Z"
   },
   {
    "duration": 13,
    "start_time": "2022-10-16T14:05:33.969Z"
   },
   {
    "duration": 84,
    "start_time": "2022-10-16T14:05:33.983Z"
   },
   {
    "duration": 4,
    "start_time": "2022-10-16T14:05:34.069Z"
   },
   {
    "duration": 6,
    "start_time": "2022-10-16T14:05:34.074Z"
   },
   {
    "duration": 32,
    "start_time": "2022-10-16T14:05:34.081Z"
   },
   {
    "duration": 1858,
    "start_time": "2022-10-16T14:05:34.115Z"
   },
   {
    "duration": 5,
    "start_time": "2022-10-16T14:05:35.974Z"
   },
   {
    "duration": 6,
    "start_time": "2022-10-16T14:05:35.980Z"
   },
   {
    "duration": 19,
    "start_time": "2022-10-16T14:05:35.987Z"
   },
   {
    "duration": 8,
    "start_time": "2022-10-16T14:05:36.009Z"
   },
   {
    "duration": 6,
    "start_time": "2022-10-16T14:05:36.018Z"
   },
   {
    "duration": 16,
    "start_time": "2022-10-16T14:05:36.025Z"
   },
   {
    "duration": 8,
    "start_time": "2022-10-16T14:05:36.042Z"
   },
   {
    "duration": 13,
    "start_time": "2022-10-16T14:05:36.052Z"
   },
   {
    "duration": 7,
    "start_time": "2022-10-16T14:05:36.066Z"
   },
   {
    "duration": 9,
    "start_time": "2022-10-16T14:05:36.075Z"
   },
   {
    "duration": 30,
    "start_time": "2022-10-16T14:05:36.086Z"
   },
   {
    "duration": 50,
    "start_time": "2022-10-16T14:05:36.118Z"
   },
   {
    "duration": 24,
    "start_time": "2022-10-16T14:05:36.169Z"
   },
   {
    "duration": 16,
    "start_time": "2022-10-16T14:05:36.194Z"
   },
   {
    "duration": 75,
    "start_time": "2022-10-16T14:05:36.212Z"
   },
   {
    "duration": 81,
    "start_time": "2022-10-16T14:05:36.289Z"
   },
   {
    "duration": 225,
    "start_time": "2022-10-16T14:05:36.371Z"
   },
   {
    "duration": 94,
    "start_time": "2022-10-16T14:05:36.598Z"
   },
   {
    "duration": 36,
    "start_time": "2022-10-16T14:05:36.693Z"
   },
   {
    "duration": 15,
    "start_time": "2022-10-16T14:05:36.731Z"
   },
   {
    "duration": 5,
    "start_time": "2022-10-16T14:05:36.747Z"
   },
   {
    "duration": 11,
    "start_time": "2022-10-16T14:05:36.753Z"
   },
   {
    "duration": 5,
    "start_time": "2022-10-16T14:05:36.766Z"
   },
   {
    "duration": 37,
    "start_time": "2022-10-16T14:05:36.772Z"
   },
   {
    "duration": 177,
    "start_time": "2022-10-16T14:05:36.811Z"
   },
   {
    "duration": 31,
    "start_time": "2022-10-16T14:05:36.990Z"
   },
   {
    "duration": 8,
    "start_time": "2022-10-16T14:05:37.022Z"
   },
   {
    "duration": 126,
    "start_time": "2022-10-16T14:05:37.032Z"
   },
   {
    "duration": 12,
    "start_time": "2022-10-16T14:05:37.159Z"
   },
   {
    "duration": 8,
    "start_time": "2022-10-16T14:05:37.172Z"
   },
   {
    "duration": 210,
    "start_time": "2022-10-16T14:05:37.185Z"
   },
   {
    "duration": 12,
    "start_time": "2022-10-16T14:05:37.397Z"
   },
   {
    "duration": 122,
    "start_time": "2022-10-16T14:05:37.410Z"
   },
   {
    "duration": 4,
    "start_time": "2022-10-16T14:05:37.533Z"
   },
   {
    "duration": 7,
    "start_time": "2022-10-16T14:05:37.538Z"
   },
   {
    "duration": 11,
    "start_time": "2022-10-16T14:05:37.546Z"
   },
   {
    "duration": 8,
    "start_time": "2022-10-16T14:05:37.558Z"
   },
   {
    "duration": 12,
    "start_time": "2022-10-16T14:05:37.567Z"
   },
   {
    "duration": 33,
    "start_time": "2022-10-16T14:05:37.581Z"
   },
   {
    "duration": 3,
    "start_time": "2022-10-16T14:05:37.615Z"
   },
   {
    "duration": 353,
    "start_time": "2022-10-16T14:05:37.620Z"
   },
   {
    "duration": 6,
    "start_time": "2022-10-16T14:05:37.975Z"
   },
   {
    "duration": 103,
    "start_time": "2022-10-16T14:05:37.982Z"
   },
   {
    "duration": 251,
    "start_time": "2022-10-16T14:05:38.086Z"
   },
   {
    "duration": 238,
    "start_time": "2022-10-16T14:05:38.339Z"
   },
   {
    "duration": 241,
    "start_time": "2022-10-16T14:05:38.579Z"
   },
   {
    "duration": 307,
    "start_time": "2022-10-16T14:05:38.822Z"
   },
   {
    "duration": 174,
    "start_time": "2022-10-16T14:05:39.131Z"
   },
   {
    "duration": 243,
    "start_time": "2022-10-16T14:05:39.308Z"
   },
   {
    "duration": 250,
    "start_time": "2022-10-16T14:05:39.553Z"
   },
   {
    "duration": 187,
    "start_time": "2022-10-16T14:05:39.809Z"
   },
   {
    "duration": 227,
    "start_time": "2022-10-16T14:05:39.998Z"
   },
   {
    "duration": 330,
    "start_time": "2022-10-16T14:05:40.227Z"
   },
   {
    "duration": 251,
    "start_time": "2022-10-16T14:05:40.559Z"
   },
   {
    "duration": 255,
    "start_time": "2022-10-16T14:05:40.812Z"
   },
   {
    "duration": 229,
    "start_time": "2022-10-16T14:05:41.069Z"
   },
   {
    "duration": 292,
    "start_time": "2022-10-16T14:05:41.300Z"
   },
   {
    "duration": 141,
    "start_time": "2022-10-16T14:05:41.594Z"
   },
   {
    "duration": 9,
    "start_time": "2022-10-16T14:05:41.736Z"
   },
   {
    "duration": 80,
    "start_time": "2022-10-16T14:05:41.747Z"
   },
   {
    "duration": 13,
    "start_time": "2022-10-16T14:05:41.828Z"
   },
   {
    "duration": 11,
    "start_time": "2022-10-16T14:05:41.842Z"
   },
   {
    "duration": 8,
    "start_time": "2022-10-16T14:05:41.855Z"
   },
   {
    "duration": 12,
    "start_time": "2022-10-16T14:05:41.864Z"
   },
   {
    "duration": 49,
    "start_time": "2022-10-16T14:05:41.878Z"
   },
   {
    "duration": 5,
    "start_time": "2022-10-16T14:05:41.928Z"
   },
   {
    "duration": 4,
    "start_time": "2022-10-16T14:10:05.168Z"
   },
   {
    "duration": 6,
    "start_time": "2022-10-16T14:11:08.519Z"
   },
   {
    "duration": 490,
    "start_time": "2022-10-16T14:11:29.414Z"
   },
   {
    "duration": 2,
    "start_time": "2022-10-16T14:11:29.908Z"
   },
   {
    "duration": 220,
    "start_time": "2022-10-16T14:11:29.912Z"
   },
   {
    "duration": 3,
    "start_time": "2022-10-16T14:11:30.133Z"
   },
   {
    "duration": 13,
    "start_time": "2022-10-16T14:11:30.139Z"
   },
   {
    "duration": 98,
    "start_time": "2022-10-16T14:11:30.154Z"
   },
   {
    "duration": 3,
    "start_time": "2022-10-16T14:11:30.254Z"
   },
   {
    "duration": 29,
    "start_time": "2022-10-16T14:11:30.259Z"
   },
   {
    "duration": 32,
    "start_time": "2022-10-16T14:11:30.290Z"
   },
   {
    "duration": 1877,
    "start_time": "2022-10-16T14:11:30.324Z"
   },
   {
    "duration": 5,
    "start_time": "2022-10-16T14:11:32.202Z"
   },
   {
    "duration": 5,
    "start_time": "2022-10-16T14:11:32.208Z"
   },
   {
    "duration": 17,
    "start_time": "2022-10-16T14:11:32.215Z"
   },
   {
    "duration": 8,
    "start_time": "2022-10-16T14:11:32.236Z"
   },
   {
    "duration": 4,
    "start_time": "2022-10-16T14:11:32.245Z"
   },
   {
    "duration": 9,
    "start_time": "2022-10-16T14:11:32.250Z"
   },
   {
    "duration": 7,
    "start_time": "2022-10-16T14:11:32.261Z"
   },
   {
    "duration": 12,
    "start_time": "2022-10-16T14:11:32.269Z"
   },
   {
    "duration": 5,
    "start_time": "2022-10-16T14:11:32.309Z"
   },
   {
    "duration": 8,
    "start_time": "2022-10-16T14:11:32.316Z"
   },
   {
    "duration": 8,
    "start_time": "2022-10-16T14:11:32.326Z"
   },
   {
    "duration": 33,
    "start_time": "2022-10-16T14:11:32.336Z"
   },
   {
    "duration": 49,
    "start_time": "2022-10-16T14:11:32.370Z"
   },
   {
    "duration": 11,
    "start_time": "2022-10-16T14:11:32.420Z"
   },
   {
    "duration": 99,
    "start_time": "2022-10-16T14:11:32.433Z"
   },
   {
    "duration": 88,
    "start_time": "2022-10-16T14:11:32.534Z"
   },
   {
    "duration": 286,
    "start_time": "2022-10-16T14:11:32.624Z"
   },
   {
    "duration": 109,
    "start_time": "2022-10-16T14:11:32.912Z"
   },
   {
    "duration": 26,
    "start_time": "2022-10-16T14:11:33.023Z"
   },
   {
    "duration": 34,
    "start_time": "2022-10-16T14:11:33.051Z"
   },
   {
    "duration": 6,
    "start_time": "2022-10-16T14:11:33.086Z"
   },
   {
    "duration": 21,
    "start_time": "2022-10-16T14:11:33.094Z"
   },
   {
    "duration": 11,
    "start_time": "2022-10-16T14:11:33.116Z"
   },
   {
    "duration": 6,
    "start_time": "2022-10-16T14:11:33.129Z"
   },
   {
    "duration": 200,
    "start_time": "2022-10-16T14:11:33.137Z"
   },
   {
    "duration": 27,
    "start_time": "2022-10-16T14:11:33.339Z"
   },
   {
    "duration": 9,
    "start_time": "2022-10-16T14:11:33.368Z"
   },
   {
    "duration": 141,
    "start_time": "2022-10-16T14:11:33.379Z"
   },
   {
    "duration": 14,
    "start_time": "2022-10-16T14:11:33.523Z"
   },
   {
    "duration": 10,
    "start_time": "2022-10-16T14:11:33.539Z"
   },
   {
    "duration": 195,
    "start_time": "2022-10-16T14:11:33.553Z"
   },
   {
    "duration": 7,
    "start_time": "2022-10-16T14:11:33.750Z"
   },
   {
    "duration": 123,
    "start_time": "2022-10-16T14:11:33.759Z"
   },
   {
    "duration": 4,
    "start_time": "2022-10-16T14:11:33.884Z"
   },
   {
    "duration": 26,
    "start_time": "2022-10-16T14:11:33.890Z"
   },
   {
    "duration": 19,
    "start_time": "2022-10-16T14:11:33.918Z"
   },
   {
    "duration": 19,
    "start_time": "2022-10-16T14:11:33.939Z"
   },
   {
    "duration": 32,
    "start_time": "2022-10-16T14:11:33.960Z"
   },
   {
    "duration": 3,
    "start_time": "2022-10-16T14:11:33.994Z"
   },
   {
    "duration": 363,
    "start_time": "2022-10-16T14:11:33.999Z"
   },
   {
    "duration": 6,
    "start_time": "2022-10-16T14:11:34.364Z"
   },
   {
    "duration": 99,
    "start_time": "2022-10-16T14:11:34.372Z"
   },
   {
    "duration": 252,
    "start_time": "2022-10-16T14:11:34.473Z"
   },
   {
    "duration": 246,
    "start_time": "2022-10-16T14:11:34.726Z"
   },
   {
    "duration": 242,
    "start_time": "2022-10-16T14:11:34.974Z"
   },
   {
    "duration": 320,
    "start_time": "2022-10-16T14:11:35.218Z"
   },
   {
    "duration": 163,
    "start_time": "2022-10-16T14:11:35.541Z"
   },
   {
    "duration": 251,
    "start_time": "2022-10-16T14:11:35.705Z"
   },
   {
    "duration": 263,
    "start_time": "2022-10-16T14:11:35.958Z"
   },
   {
    "duration": 187,
    "start_time": "2022-10-16T14:11:36.222Z"
   },
   {
    "duration": 250,
    "start_time": "2022-10-16T14:11:36.411Z"
   },
   {
    "duration": 364,
    "start_time": "2022-10-16T14:11:36.663Z"
   },
   {
    "duration": 257,
    "start_time": "2022-10-16T14:11:37.029Z"
   },
   {
    "duration": 251,
    "start_time": "2022-10-16T14:11:37.287Z"
   },
   {
    "duration": 228,
    "start_time": "2022-10-16T14:11:37.540Z"
   },
   {
    "duration": 298,
    "start_time": "2022-10-16T14:11:37.770Z"
   },
   {
    "duration": 149,
    "start_time": "2022-10-16T14:11:38.070Z"
   },
   {
    "duration": 8,
    "start_time": "2022-10-16T14:11:38.221Z"
   },
   {
    "duration": 83,
    "start_time": "2022-10-16T14:11:38.231Z"
   },
   {
    "duration": 14,
    "start_time": "2022-10-16T14:11:38.316Z"
   },
   {
    "duration": 11,
    "start_time": "2022-10-16T14:11:38.331Z"
   },
   {
    "duration": 8,
    "start_time": "2022-10-16T14:11:38.344Z"
   },
   {
    "duration": 15,
    "start_time": "2022-10-16T14:11:38.353Z"
   },
   {
    "duration": 46,
    "start_time": "2022-10-16T14:11:38.369Z"
   },
   {
    "duration": 4,
    "start_time": "2022-10-16T14:11:38.417Z"
   },
   {
    "duration": 77,
    "start_time": "2022-10-16T14:14:50.656Z"
   },
   {
    "duration": 422,
    "start_time": "2022-10-16T14:17:02.470Z"
   },
   {
    "duration": 2,
    "start_time": "2022-10-16T14:17:02.894Z"
   },
   {
    "duration": 298,
    "start_time": "2022-10-16T14:17:02.897Z"
   },
   {
    "duration": 3,
    "start_time": "2022-10-16T14:17:03.196Z"
   },
   {
    "duration": 27,
    "start_time": "2022-10-16T14:17:03.201Z"
   },
   {
    "duration": 119,
    "start_time": "2022-10-16T14:17:03.229Z"
   },
   {
    "duration": 3,
    "start_time": "2022-10-16T14:17:03.350Z"
   },
   {
    "duration": 37,
    "start_time": "2022-10-16T14:17:03.354Z"
   },
   {
    "duration": 85,
    "start_time": "2022-10-16T14:17:03.393Z"
   },
   {
    "duration": 1885,
    "start_time": "2022-10-16T14:17:03.480Z"
   },
   {
    "duration": 5,
    "start_time": "2022-10-16T14:17:05.366Z"
   },
   {
    "duration": 18,
    "start_time": "2022-10-16T14:17:05.372Z"
   },
   {
    "duration": 48,
    "start_time": "2022-10-16T14:17:05.391Z"
   },
   {
    "duration": 50,
    "start_time": "2022-10-16T14:17:05.442Z"
   },
   {
    "duration": 44,
    "start_time": "2022-10-16T14:17:05.494Z"
   },
   {
    "duration": 54,
    "start_time": "2022-10-16T14:17:05.539Z"
   },
   {
    "duration": 60,
    "start_time": "2022-10-16T14:17:05.595Z"
   },
   {
    "duration": 18,
    "start_time": "2022-10-16T14:17:05.657Z"
   },
   {
    "duration": 6,
    "start_time": "2022-10-16T14:17:05.677Z"
   },
   {
    "duration": 9,
    "start_time": "2022-10-16T14:17:05.686Z"
   },
   {
    "duration": 10,
    "start_time": "2022-10-16T14:17:05.696Z"
   },
   {
    "duration": 33,
    "start_time": "2022-10-16T14:17:05.708Z"
   },
   {
    "duration": 24,
    "start_time": "2022-10-16T14:17:05.742Z"
   },
   {
    "duration": 16,
    "start_time": "2022-10-16T14:17:05.767Z"
   },
   {
    "duration": 93,
    "start_time": "2022-10-16T14:17:05.785Z"
   },
   {
    "duration": 76,
    "start_time": "2022-10-16T14:17:05.879Z"
   },
   {
    "duration": 233,
    "start_time": "2022-10-16T14:17:05.957Z"
   },
   {
    "duration": 105,
    "start_time": "2022-10-16T14:17:06.192Z"
   },
   {
    "duration": 30,
    "start_time": "2022-10-16T14:17:06.298Z"
   },
   {
    "duration": 14,
    "start_time": "2022-10-16T14:17:06.330Z"
   },
   {
    "duration": 5,
    "start_time": "2022-10-16T14:17:06.346Z"
   },
   {
    "duration": 10,
    "start_time": "2022-10-16T14:17:06.352Z"
   },
   {
    "duration": 4,
    "start_time": "2022-10-16T14:17:06.363Z"
   },
   {
    "duration": 7,
    "start_time": "2022-10-16T14:17:06.369Z"
   },
   {
    "duration": 208,
    "start_time": "2022-10-16T14:17:06.377Z"
   },
   {
    "duration": 36,
    "start_time": "2022-10-16T14:17:06.586Z"
   },
   {
    "duration": 8,
    "start_time": "2022-10-16T14:17:06.624Z"
   },
   {
    "duration": 131,
    "start_time": "2022-10-16T14:17:06.633Z"
   },
   {
    "duration": 12,
    "start_time": "2022-10-16T14:17:06.766Z"
   },
   {
    "duration": 8,
    "start_time": "2022-10-16T14:17:06.780Z"
   },
   {
    "duration": 189,
    "start_time": "2022-10-16T14:17:06.792Z"
   },
   {
    "duration": 9,
    "start_time": "2022-10-16T14:17:06.982Z"
   },
   {
    "duration": 129,
    "start_time": "2022-10-16T14:17:06.993Z"
   },
   {
    "duration": 4,
    "start_time": "2022-10-16T14:17:07.124Z"
   },
   {
    "duration": 7,
    "start_time": "2022-10-16T14:17:07.129Z"
   },
   {
    "duration": 7,
    "start_time": "2022-10-16T14:17:07.138Z"
   },
   {
    "duration": 13,
    "start_time": "2022-10-16T14:17:07.146Z"
   },
   {
    "duration": 26,
    "start_time": "2022-10-16T14:17:07.160Z"
   },
   {
    "duration": 22,
    "start_time": "2022-10-16T14:17:07.187Z"
   },
   {
    "duration": 327,
    "start_time": "2022-10-16T14:17:07.211Z"
   },
   {
    "duration": 7,
    "start_time": "2022-10-16T14:17:07.540Z"
   },
   {
    "duration": 98,
    "start_time": "2022-10-16T14:17:07.548Z"
   },
   {
    "duration": 258,
    "start_time": "2022-10-16T14:17:07.648Z"
   },
   {
    "duration": 255,
    "start_time": "2022-10-16T14:17:07.908Z"
   },
   {
    "duration": 244,
    "start_time": "2022-10-16T14:17:08.166Z"
   },
   {
    "duration": 297,
    "start_time": "2022-10-16T14:17:08.412Z"
   },
   {
    "duration": 180,
    "start_time": "2022-10-16T14:17:08.710Z"
   },
   {
    "duration": 245,
    "start_time": "2022-10-16T14:17:08.892Z"
   },
   {
    "duration": 243,
    "start_time": "2022-10-16T14:17:09.138Z"
   },
   {
    "duration": 184,
    "start_time": "2022-10-16T14:17:09.383Z"
   },
   {
    "duration": 225,
    "start_time": "2022-10-16T14:17:09.568Z"
   },
   {
    "duration": 324,
    "start_time": "2022-10-16T14:17:09.794Z"
   },
   {
    "duration": 256,
    "start_time": "2022-10-16T14:17:10.120Z"
   },
   {
    "duration": 248,
    "start_time": "2022-10-16T14:17:10.378Z"
   },
   {
    "duration": 235,
    "start_time": "2022-10-16T14:17:10.628Z"
   },
   {
    "duration": 294,
    "start_time": "2022-10-16T14:17:10.864Z"
   },
   {
    "duration": 149,
    "start_time": "2022-10-16T14:17:11.160Z"
   },
   {
    "duration": 10,
    "start_time": "2022-10-16T14:17:11.311Z"
   },
   {
    "duration": 67,
    "start_time": "2022-10-16T14:17:11.323Z"
   },
   {
    "duration": 26,
    "start_time": "2022-10-16T14:17:11.392Z"
   },
   {
    "duration": 11,
    "start_time": "2022-10-16T14:17:11.420Z"
   },
   {
    "duration": 8,
    "start_time": "2022-10-16T14:17:11.433Z"
   },
   {
    "duration": 15,
    "start_time": "2022-10-16T14:17:11.443Z"
   },
   {
    "duration": 53,
    "start_time": "2022-10-16T14:17:11.459Z"
   },
   {
    "duration": 5,
    "start_time": "2022-10-16T14:17:11.513Z"
   },
   {
    "duration": 13,
    "start_time": "2022-10-16T14:19:17.121Z"
   },
   {
    "duration": 9,
    "start_time": "2022-10-16T14:20:43.496Z"
   },
   {
    "duration": 319,
    "start_time": "2022-10-16T14:21:58.222Z"
   },
   {
    "duration": 244,
    "start_time": "2022-10-16T14:24:04.478Z"
   },
   {
    "duration": 146,
    "start_time": "2022-10-16T14:28:07.373Z"
   },
   {
    "duration": 21,
    "start_time": "2022-10-16T14:34:08.596Z"
   },
   {
    "duration": 98,
    "start_time": "2022-10-16T14:39:32.543Z"
   },
   {
    "duration": 19,
    "start_time": "2022-10-16T14:42:58.098Z"
   },
   {
    "duration": 232,
    "start_time": "2022-10-16T14:43:07.924Z"
   },
   {
    "duration": 278,
    "start_time": "2022-10-16T14:43:10.525Z"
   },
   {
    "duration": 208,
    "start_time": "2022-10-16T14:43:13.186Z"
   },
   {
    "duration": 186,
    "start_time": "2022-10-16T14:43:15.738Z"
   },
   {
    "duration": 13,
    "start_time": "2022-10-16T14:49:08.478Z"
   },
   {
    "duration": 14,
    "start_time": "2022-10-16T14:49:15.112Z"
   },
   {
    "duration": 8,
    "start_time": "2022-10-16T14:49:25.512Z"
   },
   {
    "duration": 205,
    "start_time": "2022-10-16T14:50:00.192Z"
   },
   {
    "duration": 201,
    "start_time": "2022-10-16T14:50:10.899Z"
   },
   {
    "duration": 15,
    "start_time": "2022-10-16T14:50:34.487Z"
   },
   {
    "duration": 24,
    "start_time": "2022-10-16T14:51:04.913Z"
   },
   {
    "duration": 277,
    "start_time": "2022-10-16T14:52:08.708Z"
   },
   {
    "duration": 276,
    "start_time": "2022-10-16T14:52:44.402Z"
   },
   {
    "duration": 424,
    "start_time": "2022-10-16T14:54:05.190Z"
   },
   {
    "duration": 2,
    "start_time": "2022-10-16T14:54:05.616Z"
   },
   {
    "duration": 235,
    "start_time": "2022-10-16T14:54:05.621Z"
   },
   {
    "duration": 3,
    "start_time": "2022-10-16T14:54:05.858Z"
   },
   {
    "duration": 5,
    "start_time": "2022-10-16T14:54:05.864Z"
   },
   {
    "duration": 83,
    "start_time": "2022-10-16T14:54:05.870Z"
   },
   {
    "duration": 3,
    "start_time": "2022-10-16T14:54:05.955Z"
   },
   {
    "duration": 5,
    "start_time": "2022-10-16T14:54:05.960Z"
   },
   {
    "duration": 31,
    "start_time": "2022-10-16T14:54:05.966Z"
   },
   {
    "duration": 1785,
    "start_time": "2022-10-16T14:54:06.009Z"
   },
   {
    "duration": 5,
    "start_time": "2022-10-16T14:54:07.825Z"
   },
   {
    "duration": 12,
    "start_time": "2022-10-16T14:54:07.831Z"
   },
   {
    "duration": 24,
    "start_time": "2022-10-16T14:54:07.845Z"
   },
   {
    "duration": 8,
    "start_time": "2022-10-16T14:54:07.872Z"
   },
   {
    "duration": 4,
    "start_time": "2022-10-16T14:54:07.882Z"
   },
   {
    "duration": 8,
    "start_time": "2022-10-16T14:54:07.888Z"
   },
   {
    "duration": 11,
    "start_time": "2022-10-16T14:54:07.898Z"
   },
   {
    "duration": 13,
    "start_time": "2022-10-16T14:54:07.910Z"
   },
   {
    "duration": 6,
    "start_time": "2022-10-16T14:54:07.925Z"
   },
   {
    "duration": 10,
    "start_time": "2022-10-16T14:54:07.932Z"
   },
   {
    "duration": 11,
    "start_time": "2022-10-16T14:54:07.943Z"
   },
   {
    "duration": 32,
    "start_time": "2022-10-16T14:54:07.956Z"
   },
   {
    "duration": 23,
    "start_time": "2022-10-16T14:54:08.009Z"
   },
   {
    "duration": 12,
    "start_time": "2022-10-16T14:54:08.034Z"
   },
   {
    "duration": 102,
    "start_time": "2022-10-16T14:54:08.047Z"
   },
   {
    "duration": 78,
    "start_time": "2022-10-16T14:54:08.151Z"
   },
   {
    "duration": 218,
    "start_time": "2022-10-16T14:54:08.231Z"
   },
   {
    "duration": 110,
    "start_time": "2022-10-16T14:54:08.450Z"
   },
   {
    "duration": 26,
    "start_time": "2022-10-16T14:54:08.561Z"
   },
   {
    "duration": 26,
    "start_time": "2022-10-16T14:54:08.588Z"
   },
   {
    "duration": 6,
    "start_time": "2022-10-16T14:54:08.616Z"
   },
   {
    "duration": 30,
    "start_time": "2022-10-16T14:54:08.623Z"
   },
   {
    "duration": 7,
    "start_time": "2022-10-16T14:54:08.654Z"
   },
   {
    "duration": 19,
    "start_time": "2022-10-16T14:54:08.663Z"
   },
   {
    "duration": 186,
    "start_time": "2022-10-16T14:54:08.683Z"
   },
   {
    "duration": 27,
    "start_time": "2022-10-16T14:54:08.870Z"
   },
   {
    "duration": 17,
    "start_time": "2022-10-16T14:54:08.899Z"
   },
   {
    "duration": 126,
    "start_time": "2022-10-16T14:54:08.918Z"
   },
   {
    "duration": 13,
    "start_time": "2022-10-16T14:54:09.046Z"
   },
   {
    "duration": 9,
    "start_time": "2022-10-16T14:54:09.061Z"
   },
   {
    "duration": 192,
    "start_time": "2022-10-16T14:54:09.075Z"
   },
   {
    "duration": 9,
    "start_time": "2022-10-16T14:54:09.269Z"
   },
   {
    "duration": 123,
    "start_time": "2022-10-16T14:54:09.280Z"
   },
   {
    "duration": 4,
    "start_time": "2022-10-16T14:54:09.409Z"
   },
   {
    "duration": 17,
    "start_time": "2022-10-16T14:54:09.414Z"
   },
   {
    "duration": 19,
    "start_time": "2022-10-16T14:54:09.433Z"
   },
   {
    "duration": 26,
    "start_time": "2022-10-16T14:54:09.453Z"
   },
   {
    "duration": 51,
    "start_time": "2022-10-16T14:54:09.480Z"
   },
   {
    "duration": 3,
    "start_time": "2022-10-16T14:54:09.532Z"
   },
   {
    "duration": 312,
    "start_time": "2022-10-16T14:54:09.536Z"
   },
   {
    "duration": 5,
    "start_time": "2022-10-16T14:54:09.850Z"
   },
   {
    "duration": 110,
    "start_time": "2022-10-16T14:54:09.857Z"
   },
   {
    "duration": 244,
    "start_time": "2022-10-16T14:54:09.969Z"
   },
   {
    "duration": 236,
    "start_time": "2022-10-16T14:54:10.214Z"
   },
   {
    "duration": 258,
    "start_time": "2022-10-16T14:54:10.452Z"
   },
   {
    "duration": 307,
    "start_time": "2022-10-16T14:54:10.712Z"
   },
   {
    "duration": 156,
    "start_time": "2022-10-16T14:54:11.021Z"
   },
   {
    "duration": 246,
    "start_time": "2022-10-16T14:54:11.178Z"
   },
   {
    "duration": 257,
    "start_time": "2022-10-16T14:54:11.425Z"
   },
   {
    "duration": 211,
    "start_time": "2022-10-16T14:54:11.684Z"
   },
   {
    "duration": 221,
    "start_time": "2022-10-16T14:54:11.897Z"
   },
   {
    "duration": 324,
    "start_time": "2022-10-16T14:54:12.120Z"
   },
   {
    "duration": 306,
    "start_time": "2022-10-16T14:54:12.445Z"
   },
   {
    "duration": 268,
    "start_time": "2022-10-16T14:54:12.753Z"
   },
   {
    "duration": 235,
    "start_time": "2022-10-16T14:54:13.022Z"
   },
   {
    "duration": 291,
    "start_time": "2022-10-16T14:54:13.258Z"
   },
   {
    "duration": 150,
    "start_time": "2022-10-16T14:54:13.550Z"
   },
   {
    "duration": 14,
    "start_time": "2022-10-16T14:54:13.701Z"
   },
   {
    "duration": 74,
    "start_time": "2022-10-16T14:54:13.716Z"
   },
   {
    "duration": 8,
    "start_time": "2022-10-16T14:54:13.792Z"
   },
   {
    "duration": 370,
    "start_time": "2022-10-16T14:54:13.801Z"
   },
   {
    "duration": 281,
    "start_time": "2022-10-16T14:54:14.173Z"
   },
   {
    "duration": 213,
    "start_time": "2022-10-16T14:54:14.456Z"
   },
   {
    "duration": 190,
    "start_time": "2022-10-16T14:54:14.671Z"
   },
   {
    "duration": 12,
    "start_time": "2022-10-16T14:54:14.863Z"
   },
   {
    "duration": 35,
    "start_time": "2022-10-16T14:54:14.877Z"
   },
   {
    "duration": 16,
    "start_time": "2022-10-16T14:54:14.913Z"
   },
   {
    "duration": 32,
    "start_time": "2022-10-16T14:54:14.931Z"
   },
   {
    "duration": 36,
    "start_time": "2022-10-16T14:54:14.965Z"
   },
   {
    "duration": 19,
    "start_time": "2022-10-16T14:54:15.003Z"
   },
   {
    "duration": 215,
    "start_time": "2022-10-16T14:55:35.400Z"
   },
   {
    "duration": 346,
    "start_time": "2022-10-16T15:02:41.736Z"
   },
   {
    "duration": 302,
    "start_time": "2022-10-16T15:02:49.507Z"
   },
   {
    "duration": 368,
    "start_time": "2022-10-16T15:02:53.189Z"
   },
   {
    "duration": 235,
    "start_time": "2022-10-16T15:02:58.192Z"
   },
   {
    "duration": 283,
    "start_time": "2022-10-16T15:03:02.534Z"
   },
   {
    "duration": 198,
    "start_time": "2022-10-16T15:03:06.423Z"
   },
   {
    "duration": 61,
    "start_time": "2022-10-16T15:09:52.833Z"
   },
   {
    "duration": 1252,
    "start_time": "2022-10-16T15:27:13.192Z"
   },
   {
    "duration": 236,
    "start_time": "2022-10-16T15:27:59.405Z"
   },
   {
    "duration": 295,
    "start_time": "2022-10-16T15:28:12.564Z"
   },
   {
    "duration": 238,
    "start_time": "2022-10-16T15:28:25.273Z"
   },
   {
    "duration": 245,
    "start_time": "2022-10-16T15:28:57.226Z"
   },
   {
    "duration": 242,
    "start_time": "2022-10-16T15:29:03.499Z"
   },
   {
    "duration": 325,
    "start_time": "2022-10-16T15:29:08.338Z"
   },
   {
    "duration": 252,
    "start_time": "2022-10-16T15:29:16.428Z"
   },
   {
    "duration": 1233,
    "start_time": "2022-10-16T15:29:19.689Z"
   },
   {
    "duration": 271,
    "start_time": "2022-10-16T15:29:25.085Z"
   },
   {
    "duration": 259,
    "start_time": "2022-10-16T15:29:31.605Z"
   },
   {
    "duration": 243,
    "start_time": "2022-10-16T15:30:17.590Z"
   },
   {
    "duration": 350,
    "start_time": "2022-10-16T15:39:30.016Z"
   },
   {
    "duration": 286,
    "start_time": "2022-10-16T15:39:46.197Z"
   },
   {
    "duration": 389,
    "start_time": "2022-10-16T15:40:06.457Z"
   },
   {
    "duration": 3,
    "start_time": "2022-10-16T15:40:06.848Z"
   },
   {
    "duration": 258,
    "start_time": "2022-10-16T15:40:06.853Z"
   },
   {
    "duration": 3,
    "start_time": "2022-10-16T15:40:07.113Z"
   },
   {
    "duration": 13,
    "start_time": "2022-10-16T15:40:07.119Z"
   },
   {
    "duration": 87,
    "start_time": "2022-10-16T15:40:07.133Z"
   },
   {
    "duration": 4,
    "start_time": "2022-10-16T15:40:07.221Z"
   },
   {
    "duration": 16,
    "start_time": "2022-10-16T15:40:07.226Z"
   },
   {
    "duration": 50,
    "start_time": "2022-10-16T15:40:07.243Z"
   },
   {
    "duration": 1835,
    "start_time": "2022-10-16T15:40:07.294Z"
   },
   {
    "duration": 4,
    "start_time": "2022-10-16T15:40:09.131Z"
   },
   {
    "duration": 39,
    "start_time": "2022-10-16T15:40:09.137Z"
   },
   {
    "duration": 45,
    "start_time": "2022-10-16T15:40:09.177Z"
   },
   {
    "duration": 21,
    "start_time": "2022-10-16T15:40:09.225Z"
   },
   {
    "duration": 13,
    "start_time": "2022-10-16T15:40:09.247Z"
   },
   {
    "duration": 33,
    "start_time": "2022-10-16T15:40:09.262Z"
   },
   {
    "duration": 33,
    "start_time": "2022-10-16T15:40:09.297Z"
   },
   {
    "duration": 26,
    "start_time": "2022-10-16T15:40:09.332Z"
   },
   {
    "duration": 35,
    "start_time": "2022-10-16T15:40:09.359Z"
   },
   {
    "duration": 27,
    "start_time": "2022-10-16T15:40:09.396Z"
   },
   {
    "duration": 21,
    "start_time": "2022-10-16T15:40:09.424Z"
   },
   {
    "duration": 57,
    "start_time": "2022-10-16T15:40:09.446Z"
   },
   {
    "duration": 40,
    "start_time": "2022-10-16T15:40:09.505Z"
   },
   {
    "duration": 11,
    "start_time": "2022-10-16T15:40:09.547Z"
   },
   {
    "duration": 106,
    "start_time": "2022-10-16T15:40:09.559Z"
   },
   {
    "duration": 67,
    "start_time": "2022-10-16T15:40:09.667Z"
   },
   {
    "duration": 246,
    "start_time": "2022-10-16T15:40:09.736Z"
   },
   {
    "duration": 106,
    "start_time": "2022-10-16T15:40:09.984Z"
   },
   {
    "duration": 34,
    "start_time": "2022-10-16T15:40:10.092Z"
   },
   {
    "duration": 42,
    "start_time": "2022-10-16T15:40:10.127Z"
   },
   {
    "duration": 8,
    "start_time": "2022-10-16T15:40:10.171Z"
   },
   {
    "duration": 33,
    "start_time": "2022-10-16T15:40:10.180Z"
   },
   {
    "duration": 18,
    "start_time": "2022-10-16T15:40:10.214Z"
   },
   {
    "duration": 38,
    "start_time": "2022-10-16T15:40:10.234Z"
   },
   {
    "duration": 198,
    "start_time": "2022-10-16T15:40:10.275Z"
   },
   {
    "duration": 35,
    "start_time": "2022-10-16T15:40:10.475Z"
   },
   {
    "duration": 13,
    "start_time": "2022-10-16T15:40:10.512Z"
   },
   {
    "duration": 152,
    "start_time": "2022-10-16T15:40:10.527Z"
   },
   {
    "duration": 13,
    "start_time": "2022-10-16T15:40:10.680Z"
   },
   {
    "duration": 26,
    "start_time": "2022-10-16T15:40:10.696Z"
   },
   {
    "duration": 199,
    "start_time": "2022-10-16T15:40:10.726Z"
   },
   {
    "duration": 9,
    "start_time": "2022-10-16T15:40:10.927Z"
   },
   {
    "duration": 166,
    "start_time": "2022-10-16T15:40:10.937Z"
   },
   {
    "duration": 3,
    "start_time": "2022-10-16T15:40:11.105Z"
   },
   {
    "duration": 39,
    "start_time": "2022-10-16T15:40:11.110Z"
   },
   {
    "duration": 36,
    "start_time": "2022-10-16T15:40:11.151Z"
   },
   {
    "duration": 53,
    "start_time": "2022-10-16T15:40:11.188Z"
   },
   {
    "duration": 73,
    "start_time": "2022-10-16T15:40:11.242Z"
   },
   {
    "duration": 4,
    "start_time": "2022-10-16T15:40:11.317Z"
   },
   {
    "duration": 355,
    "start_time": "2022-10-16T15:40:11.323Z"
   },
   {
    "duration": 7,
    "start_time": "2022-10-16T15:40:11.682Z"
   },
   {
    "duration": 173,
    "start_time": "2022-10-16T15:40:11.691Z"
   },
   {
    "duration": 282,
    "start_time": "2022-10-16T15:40:11.867Z"
   },
   {
    "duration": 248,
    "start_time": "2022-10-16T15:40:12.150Z"
   },
   {
    "duration": 279,
    "start_time": "2022-10-16T15:40:12.400Z"
   },
   {
    "duration": 322,
    "start_time": "2022-10-16T15:40:12.681Z"
   },
   {
    "duration": 163,
    "start_time": "2022-10-16T15:40:13.004Z"
   },
   {
    "duration": 286,
    "start_time": "2022-10-16T15:40:13.168Z"
   },
   {
    "duration": 267,
    "start_time": "2022-10-16T15:40:13.456Z"
   },
   {
    "duration": 226,
    "start_time": "2022-10-16T15:40:13.725Z"
   },
   {
    "duration": 254,
    "start_time": "2022-10-16T15:40:13.952Z"
   },
   {
    "duration": 337,
    "start_time": "2022-10-16T15:40:14.209Z"
   },
   {
    "duration": 274,
    "start_time": "2022-10-16T15:40:14.548Z"
   },
   {
    "duration": 264,
    "start_time": "2022-10-16T15:40:14.824Z"
   },
   {
    "duration": 232,
    "start_time": "2022-10-16T15:40:15.090Z"
   },
   {
    "duration": 288,
    "start_time": "2022-10-16T15:40:15.324Z"
   },
   {
    "duration": 138,
    "start_time": "2022-10-16T15:40:15.615Z"
   },
   {
    "duration": 9,
    "start_time": "2022-10-16T15:40:15.755Z"
   },
   {
    "duration": 72,
    "start_time": "2022-10-16T15:40:15.766Z"
   },
   {
    "duration": 9,
    "start_time": "2022-10-16T15:40:15.840Z"
   },
   {
    "duration": 262,
    "start_time": "2022-10-16T15:40:15.850Z"
   },
   {
    "duration": 402,
    "start_time": "2022-10-16T15:40:16.113Z"
   },
   {
    "duration": 238,
    "start_time": "2022-10-16T15:40:16.516Z"
   },
   {
    "duration": 213,
    "start_time": "2022-10-16T15:40:16.755Z"
   },
   {
    "duration": 18,
    "start_time": "2022-10-16T15:40:16.970Z"
   },
   {
    "duration": 29,
    "start_time": "2022-10-16T15:40:16.990Z"
   },
   {
    "duration": 9,
    "start_time": "2022-10-16T15:40:17.021Z"
   },
   {
    "duration": 14,
    "start_time": "2022-10-16T15:40:17.031Z"
   },
   {
    "duration": 19,
    "start_time": "2022-10-16T15:40:17.046Z"
   },
   {
    "duration": 4,
    "start_time": "2022-10-16T15:40:17.066Z"
   },
   {
    "duration": 315,
    "start_time": "2022-10-16T15:40:17.072Z"
   },
   {
    "duration": 273,
    "start_time": "2022-10-16T15:40:51.945Z"
   },
   {
    "duration": 245,
    "start_time": "2022-10-16T15:41:07.316Z"
   },
   {
    "duration": 180,
    "start_time": "2022-10-16T15:41:17.943Z"
   },
   {
    "duration": 238,
    "start_time": "2022-10-16T15:41:23.385Z"
   },
   {
    "duration": 286,
    "start_time": "2022-10-16T15:41:39.158Z"
   },
   {
    "duration": 8,
    "start_time": "2022-10-16T15:43:34.732Z"
   },
   {
    "duration": 362,
    "start_time": "2022-10-16T15:44:12.957Z"
   },
   {
    "duration": 2,
    "start_time": "2022-10-16T15:44:13.321Z"
   },
   {
    "duration": 220,
    "start_time": "2022-10-16T15:44:13.325Z"
   },
   {
    "duration": 2,
    "start_time": "2022-10-16T15:44:13.547Z"
   },
   {
    "duration": 6,
    "start_time": "2022-10-16T15:44:13.552Z"
   },
   {
    "duration": 86,
    "start_time": "2022-10-16T15:44:13.560Z"
   },
   {
    "duration": 3,
    "start_time": "2022-10-16T15:44:13.647Z"
   },
   {
    "duration": 6,
    "start_time": "2022-10-16T15:44:13.652Z"
   },
   {
    "duration": 32,
    "start_time": "2022-10-16T15:44:13.660Z"
   },
   {
    "duration": 1912,
    "start_time": "2022-10-16T15:44:13.693Z"
   },
   {
    "duration": 5,
    "start_time": "2022-10-16T15:44:15.606Z"
   },
   {
    "duration": 7,
    "start_time": "2022-10-16T15:44:15.612Z"
   },
   {
    "duration": 17,
    "start_time": "2022-10-16T15:44:15.620Z"
   },
   {
    "duration": 8,
    "start_time": "2022-10-16T15:44:15.640Z"
   },
   {
    "duration": 9,
    "start_time": "2022-10-16T15:44:15.650Z"
   },
   {
    "duration": 10,
    "start_time": "2022-10-16T15:44:15.661Z"
   },
   {
    "duration": 7,
    "start_time": "2022-10-16T15:44:15.673Z"
   },
   {
    "duration": 34,
    "start_time": "2022-10-16T15:44:15.682Z"
   },
   {
    "duration": 6,
    "start_time": "2022-10-16T15:44:15.717Z"
   },
   {
    "duration": 8,
    "start_time": "2022-10-16T15:44:15.724Z"
   },
   {
    "duration": 9,
    "start_time": "2022-10-16T15:44:15.734Z"
   },
   {
    "duration": 32,
    "start_time": "2022-10-16T15:44:15.745Z"
   },
   {
    "duration": 52,
    "start_time": "2022-10-16T15:44:15.779Z"
   },
   {
    "duration": 11,
    "start_time": "2022-10-16T15:44:15.832Z"
   },
   {
    "duration": 84,
    "start_time": "2022-10-16T15:44:15.844Z"
   },
   {
    "duration": 67,
    "start_time": "2022-10-16T15:44:15.930Z"
   },
   {
    "duration": 243,
    "start_time": "2022-10-16T15:44:16.009Z"
   },
   {
    "duration": 116,
    "start_time": "2022-10-16T15:44:16.253Z"
   },
   {
    "duration": 27,
    "start_time": "2022-10-16T15:44:16.370Z"
   },
   {
    "duration": 14,
    "start_time": "2022-10-16T15:44:16.408Z"
   },
   {
    "duration": 7,
    "start_time": "2022-10-16T15:44:16.424Z"
   },
   {
    "duration": 12,
    "start_time": "2022-10-16T15:44:16.433Z"
   },
   {
    "duration": 5,
    "start_time": "2022-10-16T15:44:16.446Z"
   },
   {
    "duration": 28,
    "start_time": "2022-10-16T15:44:16.452Z"
   },
   {
    "duration": 191,
    "start_time": "2022-10-16T15:44:16.482Z"
   },
   {
    "duration": 37,
    "start_time": "2022-10-16T15:44:16.674Z"
   },
   {
    "duration": 9,
    "start_time": "2022-10-16T15:44:16.712Z"
   },
   {
    "duration": 133,
    "start_time": "2022-10-16T15:44:16.722Z"
   },
   {
    "duration": 14,
    "start_time": "2022-10-16T15:44:16.857Z"
   },
   {
    "duration": 9,
    "start_time": "2022-10-16T15:44:16.872Z"
   },
   {
    "duration": 196,
    "start_time": "2022-10-16T15:44:16.886Z"
   },
   {
    "duration": 9,
    "start_time": "2022-10-16T15:44:17.084Z"
   },
   {
    "duration": 119,
    "start_time": "2022-10-16T15:44:17.094Z"
   },
   {
    "duration": 5,
    "start_time": "2022-10-16T15:44:17.215Z"
   },
   {
    "duration": 13,
    "start_time": "2022-10-16T15:44:17.221Z"
   },
   {
    "duration": 7,
    "start_time": "2022-10-16T15:44:17.236Z"
   },
   {
    "duration": 10,
    "start_time": "2022-10-16T15:44:17.244Z"
   },
   {
    "duration": 33,
    "start_time": "2022-10-16T15:44:17.255Z"
   },
   {
    "duration": 20,
    "start_time": "2022-10-16T15:44:17.289Z"
   },
   {
    "duration": 332,
    "start_time": "2022-10-16T15:44:17.311Z"
   },
   {
    "duration": 6,
    "start_time": "2022-10-16T15:44:17.645Z"
   },
   {
    "duration": 94,
    "start_time": "2022-10-16T15:44:17.652Z"
   },
   {
    "duration": 253,
    "start_time": "2022-10-16T15:44:17.747Z"
   },
   {
    "duration": 241,
    "start_time": "2022-10-16T15:44:18.001Z"
   },
   {
    "duration": 257,
    "start_time": "2022-10-16T15:44:18.244Z"
   },
   {
    "duration": 305,
    "start_time": "2022-10-16T15:44:18.504Z"
   },
   {
    "duration": 169,
    "start_time": "2022-10-16T15:44:18.810Z"
   },
   {
    "duration": 285,
    "start_time": "2022-10-16T15:44:18.980Z"
   },
   {
    "duration": 279,
    "start_time": "2022-10-16T15:44:19.268Z"
   },
   {
    "duration": 212,
    "start_time": "2022-10-16T15:44:19.548Z"
   },
   {
    "duration": 226,
    "start_time": "2022-10-16T15:44:19.762Z"
   },
   {
    "duration": 319,
    "start_time": "2022-10-16T15:44:19.990Z"
   },
   {
    "duration": 253,
    "start_time": "2022-10-16T15:44:20.311Z"
   },
   {
    "duration": 239,
    "start_time": "2022-10-16T15:44:20.565Z"
   },
   {
    "duration": 236,
    "start_time": "2022-10-16T15:44:20.809Z"
   },
   {
    "duration": 292,
    "start_time": "2022-10-16T15:44:21.047Z"
   },
   {
    "duration": 137,
    "start_time": "2022-10-16T15:44:21.341Z"
   },
   {
    "duration": 10,
    "start_time": "2022-10-16T15:44:21.480Z"
   },
   {
    "duration": 73,
    "start_time": "2022-10-16T15:44:21.491Z"
   },
   {
    "duration": 8,
    "start_time": "2022-10-16T15:44:21.566Z"
   },
   {
    "duration": 264,
    "start_time": "2022-10-16T15:44:21.576Z"
   },
   {
    "duration": 378,
    "start_time": "2022-10-16T15:44:21.842Z"
   },
   {
    "duration": 242,
    "start_time": "2022-10-16T15:44:22.222Z"
   },
   {
    "duration": 281,
    "start_time": "2022-10-16T15:44:22.466Z"
   },
   {
    "duration": 19,
    "start_time": "2022-10-16T15:44:22.750Z"
   },
   {
    "duration": 31,
    "start_time": "2022-10-16T15:44:22.772Z"
   },
   {
    "duration": 18,
    "start_time": "2022-10-16T15:44:22.809Z"
   },
   {
    "duration": 30,
    "start_time": "2022-10-16T15:44:22.830Z"
   },
   {
    "duration": 26,
    "start_time": "2022-10-16T15:44:22.862Z"
   },
   {
    "duration": 15,
    "start_time": "2022-10-16T15:44:22.890Z"
   },
   {
    "duration": 306,
    "start_time": "2022-10-16T15:44:22.911Z"
   },
   {
    "duration": 90,
    "start_time": "2022-10-16T15:44:23.220Z"
   },
   {
    "duration": 247,
    "start_time": "2022-10-16T15:47:08.678Z"
   },
   {
    "duration": 243,
    "start_time": "2022-10-16T15:47:15.914Z"
   },
   {
    "duration": 246,
    "start_time": "2022-10-16T15:47:21.391Z"
   },
   {
    "duration": 10,
    "start_time": "2022-10-16T15:48:00.320Z"
   },
   {
    "duration": 265,
    "start_time": "2022-10-16T15:48:17.890Z"
   },
   {
    "duration": 127,
    "start_time": "2022-10-16T15:48:22.884Z"
   },
   {
    "duration": 318,
    "start_time": "2022-10-16T15:48:39.930Z"
   },
   {
    "duration": 316,
    "start_time": "2022-10-16T15:48:45.373Z"
   },
   {
    "duration": 318,
    "start_time": "2022-10-16T15:49:21.618Z"
   },
   {
    "duration": 412,
    "start_time": "2022-10-16T15:49:47.203Z"
   },
   {
    "duration": 321,
    "start_time": "2022-10-16T15:50:18.709Z"
   },
   {
    "duration": 293,
    "start_time": "2022-10-16T15:50:36.030Z"
   },
   {
    "duration": 305,
    "start_time": "2022-10-16T15:50:40.397Z"
   },
   {
    "duration": 182,
    "start_time": "2022-10-16T16:12:31.974Z"
   },
   {
    "duration": 406,
    "start_time": "2022-10-16T16:14:39.920Z"
   },
   {
    "duration": 3,
    "start_time": "2022-10-16T16:14:40.328Z"
   },
   {
    "duration": 225,
    "start_time": "2022-10-16T16:14:40.333Z"
   },
   {
    "duration": 2,
    "start_time": "2022-10-16T16:14:40.560Z"
   },
   {
    "duration": 16,
    "start_time": "2022-10-16T16:14:40.565Z"
   },
   {
    "duration": 99,
    "start_time": "2022-10-16T16:14:40.583Z"
   },
   {
    "duration": 5,
    "start_time": "2022-10-16T16:14:40.683Z"
   },
   {
    "duration": 17,
    "start_time": "2022-10-16T16:14:40.689Z"
   },
   {
    "duration": 39,
    "start_time": "2022-10-16T16:14:40.708Z"
   },
   {
    "duration": 2112,
    "start_time": "2022-10-16T16:14:40.749Z"
   },
   {
    "duration": 5,
    "start_time": "2022-10-16T16:14:42.863Z"
   },
   {
    "duration": 24,
    "start_time": "2022-10-16T16:14:42.869Z"
   },
   {
    "duration": 34,
    "start_time": "2022-10-16T16:14:42.895Z"
   },
   {
    "duration": 16,
    "start_time": "2022-10-16T16:14:42.933Z"
   },
   {
    "duration": 10,
    "start_time": "2022-10-16T16:14:42.951Z"
   },
   {
    "duration": 23,
    "start_time": "2022-10-16T16:14:42.962Z"
   },
   {
    "duration": 31,
    "start_time": "2022-10-16T16:14:42.987Z"
   },
   {
    "duration": 33,
    "start_time": "2022-10-16T16:14:43.020Z"
   },
   {
    "duration": 14,
    "start_time": "2022-10-16T16:14:43.055Z"
   },
   {
    "duration": 27,
    "start_time": "2022-10-16T16:14:43.070Z"
   },
   {
    "duration": 10,
    "start_time": "2022-10-16T16:14:43.098Z"
   },
   {
    "duration": 38,
    "start_time": "2022-10-16T16:14:43.110Z"
   },
   {
    "duration": 24,
    "start_time": "2022-10-16T16:14:43.150Z"
   },
   {
    "duration": 14,
    "start_time": "2022-10-16T16:14:43.176Z"
   },
   {
    "duration": 95,
    "start_time": "2022-10-16T16:14:43.192Z"
   },
   {
    "duration": 78,
    "start_time": "2022-10-16T16:14:43.289Z"
   },
   {
    "duration": 248,
    "start_time": "2022-10-16T16:14:43.368Z"
   },
   {
    "duration": 114,
    "start_time": "2022-10-16T16:14:43.617Z"
   },
   {
    "duration": 26,
    "start_time": "2022-10-16T16:14:43.733Z"
   },
   {
    "duration": 16,
    "start_time": "2022-10-16T16:14:43.761Z"
   },
   {
    "duration": 6,
    "start_time": "2022-10-16T16:14:43.778Z"
   },
   {
    "duration": 32,
    "start_time": "2022-10-16T16:14:43.786Z"
   },
   {
    "duration": 5,
    "start_time": "2022-10-16T16:14:43.820Z"
   },
   {
    "duration": 25,
    "start_time": "2022-10-16T16:14:43.826Z"
   },
   {
    "duration": 197,
    "start_time": "2022-10-16T16:14:43.853Z"
   },
   {
    "duration": 28,
    "start_time": "2022-10-16T16:14:44.052Z"
   },
   {
    "duration": 28,
    "start_time": "2022-10-16T16:14:44.082Z"
   },
   {
    "duration": 129,
    "start_time": "2022-10-16T16:14:44.112Z"
   },
   {
    "duration": 13,
    "start_time": "2022-10-16T16:14:44.242Z"
   },
   {
    "duration": 9,
    "start_time": "2022-10-16T16:14:44.256Z"
   },
   {
    "duration": 208,
    "start_time": "2022-10-16T16:14:44.270Z"
   },
   {
    "duration": 9,
    "start_time": "2022-10-16T16:14:44.479Z"
   },
   {
    "duration": 134,
    "start_time": "2022-10-16T16:14:44.490Z"
   },
   {
    "duration": 4,
    "start_time": "2022-10-16T16:14:44.625Z"
   },
   {
    "duration": 7,
    "start_time": "2022-10-16T16:14:44.631Z"
   },
   {
    "duration": 5,
    "start_time": "2022-10-16T16:14:44.639Z"
   },
   {
    "duration": 9,
    "start_time": "2022-10-16T16:14:44.646Z"
   },
   {
    "duration": 54,
    "start_time": "2022-10-16T16:14:44.656Z"
   },
   {
    "duration": 2,
    "start_time": "2022-10-16T16:14:44.712Z"
   },
   {
    "duration": 323,
    "start_time": "2022-10-16T16:14:44.716Z"
   },
   {
    "duration": 7,
    "start_time": "2022-10-16T16:14:45.040Z"
   },
   {
    "duration": 109,
    "start_time": "2022-10-16T16:14:45.048Z"
   },
   {
    "duration": 255,
    "start_time": "2022-10-16T16:14:45.159Z"
   },
   {
    "duration": 245,
    "start_time": "2022-10-16T16:14:45.416Z"
   },
   {
    "duration": 249,
    "start_time": "2022-10-16T16:14:45.663Z"
   },
   {
    "duration": 321,
    "start_time": "2022-10-16T16:14:45.915Z"
   },
   {
    "duration": 204,
    "start_time": "2022-10-16T16:14:46.238Z"
   },
   {
    "duration": 285,
    "start_time": "2022-10-16T16:14:46.444Z"
   },
   {
    "duration": 290,
    "start_time": "2022-10-16T16:14:46.731Z"
   },
   {
    "duration": 241,
    "start_time": "2022-10-16T16:14:47.022Z"
   },
   {
    "duration": 238,
    "start_time": "2022-10-16T16:14:47.265Z"
   },
   {
    "duration": 337,
    "start_time": "2022-10-16T16:14:47.509Z"
   },
   {
    "duration": 284,
    "start_time": "2022-10-16T16:14:47.849Z"
   },
   {
    "duration": 261,
    "start_time": "2022-10-16T16:14:48.135Z"
   },
   {
    "duration": 235,
    "start_time": "2022-10-16T16:14:48.398Z"
   },
   {
    "duration": 303,
    "start_time": "2022-10-16T16:14:48.635Z"
   },
   {
    "duration": 151,
    "start_time": "2022-10-16T16:14:48.941Z"
   },
   {
    "duration": 18,
    "start_time": "2022-10-16T16:14:49.094Z"
   },
   {
    "duration": 63,
    "start_time": "2022-10-16T16:14:49.113Z"
   },
   {
    "duration": 9,
    "start_time": "2022-10-16T16:14:49.178Z"
   },
   {
    "duration": 273,
    "start_time": "2022-10-16T16:14:49.189Z"
   },
   {
    "duration": 384,
    "start_time": "2022-10-16T16:14:49.464Z"
   },
   {
    "duration": 243,
    "start_time": "2022-10-16T16:14:49.849Z"
   },
   {
    "duration": 200,
    "start_time": "2022-10-16T16:14:50.094Z"
   },
   {
    "duration": 17,
    "start_time": "2022-10-16T16:14:50.296Z"
   },
   {
    "duration": 19,
    "start_time": "2022-10-16T16:14:50.315Z"
   },
   {
    "duration": 15,
    "start_time": "2022-10-16T16:14:50.337Z"
   },
   {
    "duration": 22,
    "start_time": "2022-10-16T16:14:50.354Z"
   },
   {
    "duration": 19,
    "start_time": "2022-10-16T16:14:50.377Z"
   },
   {
    "duration": 10,
    "start_time": "2022-10-16T16:14:50.409Z"
   },
   {
    "duration": 332,
    "start_time": "2022-10-16T16:14:50.421Z"
   },
   {
    "duration": 7,
    "start_time": "2022-10-16T16:19:16.140Z"
   },
   {
    "duration": 457,
    "start_time": "2022-10-16T16:23:46.779Z"
   },
   {
    "duration": 2,
    "start_time": "2022-10-16T16:23:47.239Z"
   },
   {
    "duration": 240,
    "start_time": "2022-10-16T16:23:47.243Z"
   },
   {
    "duration": 2,
    "start_time": "2022-10-16T16:23:47.484Z"
   },
   {
    "duration": 19,
    "start_time": "2022-10-16T16:23:47.488Z"
   },
   {
    "duration": 96,
    "start_time": "2022-10-16T16:23:47.508Z"
   },
   {
    "duration": 3,
    "start_time": "2022-10-16T16:23:47.605Z"
   },
   {
    "duration": 19,
    "start_time": "2022-10-16T16:23:47.610Z"
   },
   {
    "duration": 42,
    "start_time": "2022-10-16T16:23:47.631Z"
   },
   {
    "duration": 1830,
    "start_time": "2022-10-16T16:23:47.675Z"
   },
   {
    "duration": 4,
    "start_time": "2022-10-16T16:23:49.506Z"
   },
   {
    "duration": 5,
    "start_time": "2022-10-16T16:23:49.512Z"
   },
   {
    "duration": 19,
    "start_time": "2022-10-16T16:23:49.519Z"
   },
   {
    "duration": 9,
    "start_time": "2022-10-16T16:23:49.541Z"
   },
   {
    "duration": 4,
    "start_time": "2022-10-16T16:23:49.551Z"
   },
   {
    "duration": 8,
    "start_time": "2022-10-16T16:23:49.557Z"
   },
   {
    "duration": 8,
    "start_time": "2022-10-16T16:23:49.566Z"
   },
   {
    "duration": 36,
    "start_time": "2022-10-16T16:23:49.575Z"
   },
   {
    "duration": 5,
    "start_time": "2022-10-16T16:23:49.613Z"
   },
   {
    "duration": 13,
    "start_time": "2022-10-16T16:23:49.620Z"
   },
   {
    "duration": 8,
    "start_time": "2022-10-16T16:23:49.634Z"
   },
   {
    "duration": 45,
    "start_time": "2022-10-16T16:23:49.644Z"
   },
   {
    "duration": 30,
    "start_time": "2022-10-16T16:23:49.710Z"
   },
   {
    "duration": 12,
    "start_time": "2022-10-16T16:23:49.742Z"
   },
   {
    "duration": 95,
    "start_time": "2022-10-16T16:23:49.756Z"
   },
   {
    "duration": 77,
    "start_time": "2022-10-16T16:23:49.853Z"
   },
   {
    "duration": 236,
    "start_time": "2022-10-16T16:23:49.932Z"
   },
   {
    "duration": 106,
    "start_time": "2022-10-16T16:23:50.170Z"
   },
   {
    "duration": 36,
    "start_time": "2022-10-16T16:23:50.278Z"
   },
   {
    "duration": 16,
    "start_time": "2022-10-16T16:23:50.316Z"
   },
   {
    "duration": 5,
    "start_time": "2022-10-16T16:23:50.333Z"
   },
   {
    "duration": 13,
    "start_time": "2022-10-16T16:23:50.340Z"
   },
   {
    "duration": 4,
    "start_time": "2022-10-16T16:23:50.354Z"
   },
   {
    "duration": 7,
    "start_time": "2022-10-16T16:23:50.360Z"
   },
   {
    "duration": 201,
    "start_time": "2022-10-16T16:23:50.368Z"
   },
   {
    "duration": 38,
    "start_time": "2022-10-16T16:23:50.571Z"
   },
   {
    "duration": 8,
    "start_time": "2022-10-16T16:23:50.610Z"
   },
   {
    "duration": 131,
    "start_time": "2022-10-16T16:23:50.620Z"
   },
   {
    "duration": 16,
    "start_time": "2022-10-16T16:23:50.753Z"
   },
   {
    "duration": 8,
    "start_time": "2022-10-16T16:23:50.771Z"
   },
   {
    "duration": 207,
    "start_time": "2022-10-16T16:23:50.784Z"
   },
   {
    "duration": 8,
    "start_time": "2022-10-16T16:23:50.993Z"
   },
   {
    "duration": 111,
    "start_time": "2022-10-16T16:23:51.009Z"
   },
   {
    "duration": 4,
    "start_time": "2022-10-16T16:23:51.122Z"
   },
   {
    "duration": 9,
    "start_time": "2022-10-16T16:23:51.127Z"
   },
   {
    "duration": 5,
    "start_time": "2022-10-16T16:23:51.138Z"
   },
   {
    "duration": 19,
    "start_time": "2022-10-16T16:23:51.144Z"
   },
   {
    "duration": 25,
    "start_time": "2022-10-16T16:23:51.164Z"
   },
   {
    "duration": 20,
    "start_time": "2022-10-16T16:23:51.190Z"
   },
   {
    "duration": 316,
    "start_time": "2022-10-16T16:23:51.211Z"
   },
   {
    "duration": 7,
    "start_time": "2022-10-16T16:23:51.528Z"
   },
   {
    "duration": 103,
    "start_time": "2022-10-16T16:23:51.536Z"
   },
   {
    "duration": 250,
    "start_time": "2022-10-16T16:23:51.641Z"
   },
   {
    "duration": 245,
    "start_time": "2022-10-16T16:23:51.893Z"
   },
   {
    "duration": 245,
    "start_time": "2022-10-16T16:23:52.140Z"
   },
   {
    "duration": 348,
    "start_time": "2022-10-16T16:23:52.386Z"
   },
   {
    "duration": 177,
    "start_time": "2022-10-16T16:23:52.736Z"
   },
   {
    "duration": 278,
    "start_time": "2022-10-16T16:23:52.915Z"
   },
   {
    "duration": 252,
    "start_time": "2022-10-16T16:23:53.195Z"
   },
   {
    "duration": 198,
    "start_time": "2022-10-16T16:23:53.449Z"
   },
   {
    "duration": 228,
    "start_time": "2022-10-16T16:23:53.649Z"
   },
   {
    "duration": 332,
    "start_time": "2022-10-16T16:23:53.879Z"
   },
   {
    "duration": 256,
    "start_time": "2022-10-16T16:23:54.213Z"
   },
   {
    "duration": 245,
    "start_time": "2022-10-16T16:23:54.471Z"
   },
   {
    "duration": 246,
    "start_time": "2022-10-16T16:23:54.717Z"
   },
   {
    "duration": 282,
    "start_time": "2022-10-16T16:23:54.965Z"
   },
   {
    "duration": 152,
    "start_time": "2022-10-16T16:23:55.249Z"
   },
   {
    "duration": 15,
    "start_time": "2022-10-16T16:23:55.402Z"
   },
   {
    "duration": 61,
    "start_time": "2022-10-16T16:23:55.418Z"
   },
   {
    "duration": 29,
    "start_time": "2022-10-16T16:23:55.481Z"
   },
   {
    "duration": 251,
    "start_time": "2022-10-16T16:23:55.512Z"
   },
   {
    "duration": 381,
    "start_time": "2022-10-16T16:23:55.765Z"
   },
   {
    "duration": 236,
    "start_time": "2022-10-16T16:23:56.147Z"
   },
   {
    "duration": 202,
    "start_time": "2022-10-16T16:23:56.384Z"
   },
   {
    "duration": 23,
    "start_time": "2022-10-16T16:23:56.588Z"
   },
   {
    "duration": 13,
    "start_time": "2022-10-16T16:23:56.613Z"
   },
   {
    "duration": 8,
    "start_time": "2022-10-16T16:23:56.627Z"
   },
   {
    "duration": 13,
    "start_time": "2022-10-16T16:23:56.637Z"
   },
   {
    "duration": 18,
    "start_time": "2022-10-16T16:23:56.651Z"
   },
   {
    "duration": 4,
    "start_time": "2022-10-16T16:23:56.670Z"
   },
   {
    "duration": 322,
    "start_time": "2022-10-16T16:23:56.709Z"
   },
   {
    "duration": 423,
    "start_time": "2022-10-17T15:43:32.021Z"
   },
   {
    "duration": 3,
    "start_time": "2022-10-17T15:43:32.446Z"
   },
   {
    "duration": 288,
    "start_time": "2022-10-17T15:43:32.450Z"
   },
   {
    "duration": 3,
    "start_time": "2022-10-17T15:43:32.740Z"
   },
   {
    "duration": 17,
    "start_time": "2022-10-17T15:43:32.745Z"
   },
   {
    "duration": 120,
    "start_time": "2022-10-17T15:43:32.764Z"
   },
   {
    "duration": 4,
    "start_time": "2022-10-17T15:43:32.885Z"
   },
   {
    "duration": 44,
    "start_time": "2022-10-17T15:43:32.891Z"
   },
   {
    "duration": 52,
    "start_time": "2022-10-17T15:43:32.937Z"
   },
   {
    "duration": 1953,
    "start_time": "2022-10-17T15:43:32.991Z"
   },
   {
    "duration": 4,
    "start_time": "2022-10-17T15:43:34.946Z"
   },
   {
    "duration": 24,
    "start_time": "2022-10-17T15:43:34.952Z"
   },
   {
    "duration": 60,
    "start_time": "2022-10-17T15:43:34.977Z"
   },
   {
    "duration": 16,
    "start_time": "2022-10-17T15:43:35.040Z"
   },
   {
    "duration": 30,
    "start_time": "2022-10-17T15:43:35.058Z"
   },
   {
    "duration": 48,
    "start_time": "2022-10-17T15:43:35.090Z"
   },
   {
    "duration": 48,
    "start_time": "2022-10-17T15:43:35.140Z"
   },
   {
    "duration": 52,
    "start_time": "2022-10-17T15:43:35.190Z"
   },
   {
    "duration": 38,
    "start_time": "2022-10-17T15:43:35.244Z"
   },
   {
    "duration": 28,
    "start_time": "2022-10-17T15:43:35.284Z"
   },
   {
    "duration": 18,
    "start_time": "2022-10-17T15:43:35.314Z"
   },
   {
    "duration": 45,
    "start_time": "2022-10-17T15:43:35.334Z"
   },
   {
    "duration": 26,
    "start_time": "2022-10-17T15:43:35.380Z"
   },
   {
    "duration": 11,
    "start_time": "2022-10-17T15:43:35.408Z"
   },
   {
    "duration": 83,
    "start_time": "2022-10-17T15:43:35.420Z"
   },
   {
    "duration": 73,
    "start_time": "2022-10-17T15:43:35.505Z"
   },
   {
    "duration": 262,
    "start_time": "2022-10-17T15:43:35.579Z"
   },
   {
    "duration": 118,
    "start_time": "2022-10-17T15:43:35.842Z"
   },
   {
    "duration": 26,
    "start_time": "2022-10-17T15:43:35.961Z"
   },
   {
    "duration": 28,
    "start_time": "2022-10-17T15:43:35.997Z"
   },
   {
    "duration": 33,
    "start_time": "2022-10-17T15:43:36.026Z"
   },
   {
    "duration": 27,
    "start_time": "2022-10-17T15:43:36.061Z"
   },
   {
    "duration": 25,
    "start_time": "2022-10-17T15:43:36.089Z"
   },
   {
    "duration": 20,
    "start_time": "2022-10-17T15:43:36.116Z"
   },
   {
    "duration": 215,
    "start_time": "2022-10-17T15:43:36.137Z"
   },
   {
    "duration": 28,
    "start_time": "2022-10-17T15:43:36.354Z"
   },
   {
    "duration": 20,
    "start_time": "2022-10-17T15:43:36.384Z"
   },
   {
    "duration": 139,
    "start_time": "2022-10-17T15:43:36.406Z"
   },
   {
    "duration": 13,
    "start_time": "2022-10-17T15:43:36.547Z"
   },
   {
    "duration": 58,
    "start_time": "2022-10-17T15:43:36.561Z"
   },
   {
    "duration": 220,
    "start_time": "2022-10-17T15:43:36.623Z"
   },
   {
    "duration": 8,
    "start_time": "2022-10-17T15:43:36.845Z"
   },
   {
    "duration": 144,
    "start_time": "2022-10-17T15:43:36.855Z"
   },
   {
    "duration": 4,
    "start_time": "2022-10-17T15:43:37.000Z"
   },
   {
    "duration": 46,
    "start_time": "2022-10-17T15:43:37.005Z"
   },
   {
    "duration": 33,
    "start_time": "2022-10-17T15:43:37.053Z"
   },
   {
    "duration": 42,
    "start_time": "2022-10-17T15:43:37.087Z"
   },
   {
    "duration": 74,
    "start_time": "2022-10-17T15:43:37.131Z"
   },
   {
    "duration": 14,
    "start_time": "2022-10-17T15:43:37.207Z"
   },
   {
    "duration": 304,
    "start_time": "2022-10-17T15:43:37.223Z"
   },
   {
    "duration": 6,
    "start_time": "2022-10-17T15:43:37.528Z"
   },
   {
    "duration": 126,
    "start_time": "2022-10-17T15:43:37.536Z"
   },
   {
    "duration": 250,
    "start_time": "2022-10-17T15:43:37.664Z"
   },
   {
    "duration": 335,
    "start_time": "2022-10-17T15:43:37.916Z"
   },
   {
    "duration": 292,
    "start_time": "2022-10-17T15:43:38.253Z"
   },
   {
    "duration": 330,
    "start_time": "2022-10-17T15:43:38.547Z"
   },
   {
    "duration": 157,
    "start_time": "2022-10-17T15:43:38.879Z"
   },
   {
    "duration": 266,
    "start_time": "2022-10-17T15:43:39.038Z"
   },
   {
    "duration": 263,
    "start_time": "2022-10-17T15:43:39.306Z"
   },
   {
    "duration": 203,
    "start_time": "2022-10-17T15:43:39.571Z"
   },
   {
    "duration": 242,
    "start_time": "2022-10-17T15:43:39.776Z"
   },
   {
    "duration": 352,
    "start_time": "2022-10-17T15:43:40.020Z"
   },
   {
    "duration": 267,
    "start_time": "2022-10-17T15:43:40.373Z"
   },
   {
    "duration": 285,
    "start_time": "2022-10-17T15:43:40.643Z"
   },
   {
    "duration": 231,
    "start_time": "2022-10-17T15:43:40.930Z"
   },
   {
    "duration": 338,
    "start_time": "2022-10-17T15:43:41.163Z"
   },
   {
    "duration": 150,
    "start_time": "2022-10-17T15:43:41.502Z"
   },
   {
    "duration": 10,
    "start_time": "2022-10-17T15:43:41.654Z"
   },
   {
    "duration": 109,
    "start_time": "2022-10-17T15:43:41.666Z"
   },
   {
    "duration": 9,
    "start_time": "2022-10-17T15:43:41.777Z"
   },
   {
    "duration": 290,
    "start_time": "2022-10-17T15:43:41.789Z"
   },
   {
    "duration": 390,
    "start_time": "2022-10-17T15:43:42.081Z"
   },
   {
    "duration": 247,
    "start_time": "2022-10-17T15:43:42.472Z"
   },
   {
    "duration": 214,
    "start_time": "2022-10-17T15:43:42.721Z"
   },
   {
    "duration": 16,
    "start_time": "2022-10-17T15:43:42.937Z"
   },
   {
    "duration": 34,
    "start_time": "2022-10-17T15:43:42.954Z"
   },
   {
    "duration": 26,
    "start_time": "2022-10-17T15:43:42.989Z"
   },
   {
    "duration": 24,
    "start_time": "2022-10-17T15:43:43.017Z"
   },
   {
    "duration": 53,
    "start_time": "2022-10-17T15:43:43.043Z"
   },
   {
    "duration": 10,
    "start_time": "2022-10-17T15:43:43.099Z"
   },
   {
    "duration": 323,
    "start_time": "2022-10-17T15:43:43.110Z"
   },
   {
    "duration": 26,
    "start_time": "2022-10-17T15:47:12.756Z"
   },
   {
    "duration": 94,
    "start_time": "2022-10-17T15:47:16.741Z"
   },
   {
    "duration": 6,
    "start_time": "2022-10-17T15:47:42.603Z"
   }
  ],
  "kernelspec": {
   "display_name": "Python 3 (ipykernel)",
   "language": "python",
   "name": "python3"
  },
  "language_info": {
   "codemirror_mode": {
    "name": "ipython",
    "version": 3
   },
   "file_extension": ".py",
   "mimetype": "text/x-python",
   "name": "python",
   "nbconvert_exporter": "python",
   "pygments_lexer": "ipython3",
   "version": "3.9.5"
  },
  "toc": {
   "base_numbering": 1,
   "nav_menu": {},
   "number_sections": true,
   "sideBar": true,
   "skip_h1_title": true,
   "title_cell": "Table of Contents",
   "title_sidebar": "Contents",
   "toc_cell": false,
   "toc_position": {},
   "toc_section_display": true,
   "toc_window_display": false
  }
 },
 "nbformat": 4,
 "nbformat_minor": 2
}
