{
 "cells": [
  {
   "cell_type": "markdown",
   "metadata": {},
   "source": [
    "# Исследование рынка компьютерных игр"
   ]
  },
  {
   "cell_type": "markdown",
   "metadata": {},
   "source": [
    "<dl>Вы работаете в интернет-магазине «Стримчик», который продаёт по всему миру компьютерные игры. Из открытых источников доступны исторические данные о продажах игр, оценки пользователей и экспертов, жанры и платформы (например, Xbox или PlayStation). Вам нужно выявить определяющие успешность игры закономерности. Это позволит сделать ставку на потенциально популярный продукт и спланировать рекламные кампании.</dl>\n",
    "<dl>\n",
    "<dl>Перед вами данные до 2016 года. Представим, что сейчас декабрь 2016 г., и вы планируете кампанию на 2017-й. Нужно отработать принцип работы с данными. Неважно, прогнозируете ли вы продажи на 2017 год по данным 2016-го или же 2027-й — по данным 2026 года.</dl>\n",
    "<dl>\n",
    "<dl>В наборе данных попадается аббревиатура ESRB (Entertainment Software Rating Board) — это ассоциация, определяющая возрастной рейтинг компьютерных игр. ESRB оценивает игровой контент и присваивает ему подходящую возрастную категорию, например, «Для взрослых», «Для детей младшего возраста» или «Для подростков».</dl>"
   ]
  },
  {
   "cell_type": "markdown",
   "metadata": {},
   "source": [
    "## Изучение общей информации"
   ]
  },
  {
   "cell_type": "code",
   "execution_count": 1,
   "metadata": {},
   "outputs": [],
   "source": [
    "import pandas as pd # Импортирую нужные для анализа библиотеки\n",
    "import numpy as np\n",
    "import matplotlib.pyplot as plt\n",
    "import seaborn as sns"
   ]
  },
  {
   "cell_type": "code",
   "execution_count": 2,
   "metadata": {},
   "outputs": [],
   "source": [
    "data = pd.read_csv('/datasets/games.csv') # Читаю csv файл"
   ]
  },
  {
   "cell_type": "code",
   "execution_count": 3,
   "metadata": {},
   "outputs": [
    {
     "data": {
      "text/html": [
       "<div>\n",
       "<style scoped>\n",
       "    .dataframe tbody tr th:only-of-type {\n",
       "        vertical-align: middle;\n",
       "    }\n",
       "\n",
       "    .dataframe tbody tr th {\n",
       "        vertical-align: top;\n",
       "    }\n",
       "\n",
       "    .dataframe thead th {\n",
       "        text-align: right;\n",
       "    }\n",
       "</style>\n",
       "<table border=\"1\" class=\"dataframe\">\n",
       "  <thead>\n",
       "    <tr style=\"text-align: right;\">\n",
       "      <th></th>\n",
       "      <th>Name</th>\n",
       "      <th>Platform</th>\n",
       "      <th>Year_of_Release</th>\n",
       "      <th>Genre</th>\n",
       "      <th>NA_sales</th>\n",
       "      <th>EU_sales</th>\n",
       "      <th>JP_sales</th>\n",
       "      <th>Other_sales</th>\n",
       "      <th>Critic_Score</th>\n",
       "      <th>User_Score</th>\n",
       "      <th>Rating</th>\n",
       "    </tr>\n",
       "  </thead>\n",
       "  <tbody>\n",
       "    <tr>\n",
       "      <th>0</th>\n",
       "      <td>Wii Sports</td>\n",
       "      <td>Wii</td>\n",
       "      <td>2006.0</td>\n",
       "      <td>Sports</td>\n",
       "      <td>41.36</td>\n",
       "      <td>28.96</td>\n",
       "      <td>3.77</td>\n",
       "      <td>8.45</td>\n",
       "      <td>76.0</td>\n",
       "      <td>8</td>\n",
       "      <td>E</td>\n",
       "    </tr>\n",
       "    <tr>\n",
       "      <th>1</th>\n",
       "      <td>Super Mario Bros.</td>\n",
       "      <td>NES</td>\n",
       "      <td>1985.0</td>\n",
       "      <td>Platform</td>\n",
       "      <td>29.08</td>\n",
       "      <td>3.58</td>\n",
       "      <td>6.81</td>\n",
       "      <td>0.77</td>\n",
       "      <td>NaN</td>\n",
       "      <td>NaN</td>\n",
       "      <td>NaN</td>\n",
       "    </tr>\n",
       "    <tr>\n",
       "      <th>2</th>\n",
       "      <td>Mario Kart Wii</td>\n",
       "      <td>Wii</td>\n",
       "      <td>2008.0</td>\n",
       "      <td>Racing</td>\n",
       "      <td>15.68</td>\n",
       "      <td>12.76</td>\n",
       "      <td>3.79</td>\n",
       "      <td>3.29</td>\n",
       "      <td>82.0</td>\n",
       "      <td>8.3</td>\n",
       "      <td>E</td>\n",
       "    </tr>\n",
       "    <tr>\n",
       "      <th>3</th>\n",
       "      <td>Wii Sports Resort</td>\n",
       "      <td>Wii</td>\n",
       "      <td>2009.0</td>\n",
       "      <td>Sports</td>\n",
       "      <td>15.61</td>\n",
       "      <td>10.93</td>\n",
       "      <td>3.28</td>\n",
       "      <td>2.95</td>\n",
       "      <td>80.0</td>\n",
       "      <td>8</td>\n",
       "      <td>E</td>\n",
       "    </tr>\n",
       "    <tr>\n",
       "      <th>4</th>\n",
       "      <td>Pokemon Red/Pokemon Blue</td>\n",
       "      <td>GB</td>\n",
       "      <td>1996.0</td>\n",
       "      <td>Role-Playing</td>\n",
       "      <td>11.27</td>\n",
       "      <td>8.89</td>\n",
       "      <td>10.22</td>\n",
       "      <td>1.00</td>\n",
       "      <td>NaN</td>\n",
       "      <td>NaN</td>\n",
       "      <td>NaN</td>\n",
       "    </tr>\n",
       "    <tr>\n",
       "      <th>5</th>\n",
       "      <td>Tetris</td>\n",
       "      <td>GB</td>\n",
       "      <td>1989.0</td>\n",
       "      <td>Puzzle</td>\n",
       "      <td>23.20</td>\n",
       "      <td>2.26</td>\n",
       "      <td>4.22</td>\n",
       "      <td>0.58</td>\n",
       "      <td>NaN</td>\n",
       "      <td>NaN</td>\n",
       "      <td>NaN</td>\n",
       "    </tr>\n",
       "    <tr>\n",
       "      <th>6</th>\n",
       "      <td>New Super Mario Bros.</td>\n",
       "      <td>DS</td>\n",
       "      <td>2006.0</td>\n",
       "      <td>Platform</td>\n",
       "      <td>11.28</td>\n",
       "      <td>9.14</td>\n",
       "      <td>6.50</td>\n",
       "      <td>2.88</td>\n",
       "      <td>89.0</td>\n",
       "      <td>8.5</td>\n",
       "      <td>E</td>\n",
       "    </tr>\n",
       "    <tr>\n",
       "      <th>7</th>\n",
       "      <td>Wii Play</td>\n",
       "      <td>Wii</td>\n",
       "      <td>2006.0</td>\n",
       "      <td>Misc</td>\n",
       "      <td>13.96</td>\n",
       "      <td>9.18</td>\n",
       "      <td>2.93</td>\n",
       "      <td>2.84</td>\n",
       "      <td>58.0</td>\n",
       "      <td>6.6</td>\n",
       "      <td>E</td>\n",
       "    </tr>\n",
       "    <tr>\n",
       "      <th>8</th>\n",
       "      <td>New Super Mario Bros. Wii</td>\n",
       "      <td>Wii</td>\n",
       "      <td>2009.0</td>\n",
       "      <td>Platform</td>\n",
       "      <td>14.44</td>\n",
       "      <td>6.94</td>\n",
       "      <td>4.70</td>\n",
       "      <td>2.24</td>\n",
       "      <td>87.0</td>\n",
       "      <td>8.4</td>\n",
       "      <td>E</td>\n",
       "    </tr>\n",
       "    <tr>\n",
       "      <th>9</th>\n",
       "      <td>Duck Hunt</td>\n",
       "      <td>NES</td>\n",
       "      <td>1984.0</td>\n",
       "      <td>Shooter</td>\n",
       "      <td>26.93</td>\n",
       "      <td>0.63</td>\n",
       "      <td>0.28</td>\n",
       "      <td>0.47</td>\n",
       "      <td>NaN</td>\n",
       "      <td>NaN</td>\n",
       "      <td>NaN</td>\n",
       "    </tr>\n",
       "  </tbody>\n",
       "</table>\n",
       "</div>"
      ],
      "text/plain": [
       "                        Name Platform  Year_of_Release         Genre  \\\n",
       "0                 Wii Sports      Wii           2006.0        Sports   \n",
       "1          Super Mario Bros.      NES           1985.0      Platform   \n",
       "2             Mario Kart Wii      Wii           2008.0        Racing   \n",
       "3          Wii Sports Resort      Wii           2009.0        Sports   \n",
       "4   Pokemon Red/Pokemon Blue       GB           1996.0  Role-Playing   \n",
       "5                     Tetris       GB           1989.0        Puzzle   \n",
       "6      New Super Mario Bros.       DS           2006.0      Platform   \n",
       "7                   Wii Play      Wii           2006.0          Misc   \n",
       "8  New Super Mario Bros. Wii      Wii           2009.0      Platform   \n",
       "9                  Duck Hunt      NES           1984.0       Shooter   \n",
       "\n",
       "   NA_sales  EU_sales  JP_sales  Other_sales  Critic_Score User_Score Rating  \n",
       "0     41.36     28.96      3.77         8.45          76.0          8      E  \n",
       "1     29.08      3.58      6.81         0.77           NaN        NaN    NaN  \n",
       "2     15.68     12.76      3.79         3.29          82.0        8.3      E  \n",
       "3     15.61     10.93      3.28         2.95          80.0          8      E  \n",
       "4     11.27      8.89     10.22         1.00           NaN        NaN    NaN  \n",
       "5     23.20      2.26      4.22         0.58           NaN        NaN    NaN  \n",
       "6     11.28      9.14      6.50         2.88          89.0        8.5      E  \n",
       "7     13.96      9.18      2.93         2.84          58.0        6.6      E  \n",
       "8     14.44      6.94      4.70         2.24          87.0        8.4      E  \n",
       "9     26.93      0.63      0.28         0.47           NaN        NaN    NaN  "
      ]
     },
     "metadata": {},
     "output_type": "display_data"
    }
   ],
   "source": [
    "display(data.head(10)) # Вывожу первые 10 строк датасета"
   ]
  },
  {
   "cell_type": "code",
   "execution_count": 4,
   "metadata": {},
   "outputs": [
    {
     "name": "stdout",
     "output_type": "stream",
     "text": [
      "<class 'pandas.core.frame.DataFrame'>\n",
      "RangeIndex: 16715 entries, 0 to 16714\n",
      "Data columns (total 11 columns):\n",
      " #   Column           Non-Null Count  Dtype  \n",
      "---  ------           --------------  -----  \n",
      " 0   Name             16713 non-null  object \n",
      " 1   Platform         16715 non-null  object \n",
      " 2   Year_of_Release  16446 non-null  float64\n",
      " 3   Genre            16713 non-null  object \n",
      " 4   NA_sales         16715 non-null  float64\n",
      " 5   EU_sales         16715 non-null  float64\n",
      " 6   JP_sales         16715 non-null  float64\n",
      " 7   Other_sales      16715 non-null  float64\n",
      " 8   Critic_Score     8137 non-null   float64\n",
      " 9   User_Score       10014 non-null  object \n",
      " 10  Rating           9949 non-null   object \n",
      "dtypes: float64(6), object(5)\n",
      "memory usage: 1.4+ MB\n"
     ]
    }
   ],
   "source": [
    "data.info() # Вывожу основную информацию о датасете"
   ]
  },
  {
   "cell_type": "code",
   "execution_count": 5,
   "metadata": {},
   "outputs": [
    {
     "data": {
      "image/png": "[encoded data removed]",
      "text/plain": [
       "<Figure size 864x1440 with 6 Axes>"
      ]
     },
     "metadata": {
      "needs_background": "light"
     },
     "output_type": "display_data"
    }
   ],
   "source": [
    "data.hist(figsize=(12, 20)); # Строю гистограммы по имеющимся данным"
   ]
  },
  {
   "cell_type": "markdown",
   "metadata": {},
   "source": [
    " Прблемы выявленные при первичном осмотре данных:\n",
    "- Названия колонок не переведены к нижнему регистру;\n",
    "- В столбце User_Score будем менять тип данных с object на float, что бы сравнивать числа;\n",
    "- Присутствуют небольшие пропуски в данных у столбцов Year_of_Release и Genre;\n",
    "- Гораздо больше данных пропущенно в столбцах с оценками/рейтингами (Critic_Score, User_Score, Rating);\n",
    "- Столбец с годом выпуска игр нужно будет привести к целочисленным значениям."
   ]
  },
  {
   "cell_type": "markdown",
   "metadata": {},
   "source": [
    "## Предобработка данных"
   ]
  },
  {
   "cell_type": "code",
   "execution_count": 6,
   "metadata": {},
   "outputs": [
    {
     "data": {
      "text/plain": [
       "['Name',\n",
       " 'Platform',\n",
       " 'Year_of_Release',\n",
       " 'Genre',\n",
       " 'NA_sales',\n",
       " 'EU_sales',\n",
       " 'JP_sales',\n",
       " 'Other_sales',\n",
       " 'Critic_Score',\n",
       " 'User_Score',\n",
       " 'Rating']"
      ]
     },
     "execution_count": 6,
     "metadata": {},
     "output_type": "execute_result"
    }
   ],
   "source": [
    "data.columns.tolist() # вывожу названия столбцов "
   ]
  },
  {
   "cell_type": "code",
   "execution_count": 7,
   "metadata": {},
   "outputs": [],
   "source": [
    "data.columns = data.columns.str.lower() # Привожу названия столбцов к нижнему регистру"
   ]
  },
  {
   "cell_type": "markdown",
   "metadata": {},
   "source": [
    "- Прежде чем приступать к смене типов данных, нужно обработать пропуски"
   ]
  },
  {
   "cell_type": "code",
   "execution_count": 8,
   "metadata": {},
   "outputs": [
    {
     "name": "stdout",
     "output_type": "stream",
     "text": [
      "platform              0\n",
      "na_sales              0\n",
      "eu_sales              0\n",
      "jp_sales              0\n",
      "other_sales           0\n",
      "name                  2\n",
      "genre                 2\n",
      "year_of_release     269\n",
      "user_score         6701\n",
      "rating             6766\n",
      "critic_score       8578\n",
      "dtype: int64\n"
     ]
    }
   ],
   "source": [
    "print(data.isna().sum().sort_values()) # Вывожу кол-во пропусков в столбцах"
   ]
  },
  {
   "cell_type": "code",
   "execution_count": 9,
   "metadata": {},
   "outputs": [
    {
     "data": {
      "text/plain": [
       "platform            0.000000\n",
       "na_sales            0.000000\n",
       "eu_sales            0.000000\n",
       "jp_sales            0.000000\n",
       "other_sales         0.000000\n",
       "name                0.011965\n",
       "genre               0.011965\n",
       "year_of_release     1.609333\n",
       "user_score         40.089740\n",
       "rating             40.478612\n",
       "critic_score       51.319174\n",
       "dtype: float64"
      ]
     },
     "execution_count": 9,
     "metadata": {},
     "output_type": "execute_result"
    }
   ],
   "source": [
    "data.isnull().sum().sort_values() / data.shape[0]*100 # Кол-вл пропусках в процентах"
   ]
  },
  {
   "cell_type": "markdown",
   "metadata": {},
   "source": [
    "- Игры без жанра можно будет удалить, так как это важная для анализа информация, а пропущенных значений всего 2 и, в процентном соотношении, мы потеряем не так много информации.\n",
    "- Идентичная ситуация с играми без названий. Так же удалим.\n",
    "- Игры без года релиза так же удалим, так как в процентном соотношении, потеряем не так много данных."
   ]
  },
  {
   "cell_type": "code",
   "execution_count": 10,
   "metadata": {},
   "outputs": [
    {
     "data": {
      "text/html": [
       "<div>\n",
       "<style scoped>\n",
       "    .dataframe tbody tr th:only-of-type {\n",
       "        vertical-align: middle;\n",
       "    }\n",
       "\n",
       "    .dataframe tbody tr th {\n",
       "        vertical-align: top;\n",
       "    }\n",
       "\n",
       "    .dataframe thead th {\n",
       "        text-align: right;\n",
       "    }\n",
       "</style>\n",
       "<table border=\"1\" class=\"dataframe\">\n",
       "  <thead>\n",
       "    <tr style=\"text-align: right;\">\n",
       "      <th></th>\n",
       "      <th>name</th>\n",
       "      <th>platform</th>\n",
       "      <th>year_of_release</th>\n",
       "      <th>genre</th>\n",
       "      <th>na_sales</th>\n",
       "      <th>eu_sales</th>\n",
       "      <th>jp_sales</th>\n",
       "      <th>other_sales</th>\n",
       "      <th>critic_score</th>\n",
       "      <th>user_score</th>\n",
       "      <th>rating</th>\n",
       "    </tr>\n",
       "  </thead>\n",
       "  <tbody>\n",
       "    <tr>\n",
       "      <th>16705</th>\n",
       "      <td>15 Days</td>\n",
       "      <td>PC</td>\n",
       "      <td>2009.0</td>\n",
       "      <td>Adventure</td>\n",
       "      <td>0.00</td>\n",
       "      <td>0.01</td>\n",
       "      <td>0.00</td>\n",
       "      <td>0.0</td>\n",
       "      <td>63.0</td>\n",
       "      <td>5.8</td>\n",
       "      <td>NaN</td>\n",
       "    </tr>\n",
       "    <tr>\n",
       "      <th>16706</th>\n",
       "      <td>Men in Black II: Alien Escape</td>\n",
       "      <td>GC</td>\n",
       "      <td>2003.0</td>\n",
       "      <td>Shooter</td>\n",
       "      <td>0.01</td>\n",
       "      <td>0.00</td>\n",
       "      <td>0.00</td>\n",
       "      <td>0.0</td>\n",
       "      <td>NaN</td>\n",
       "      <td>tbd</td>\n",
       "      <td>T</td>\n",
       "    </tr>\n",
       "    <tr>\n",
       "      <th>16707</th>\n",
       "      <td>Aiyoku no Eustia</td>\n",
       "      <td>PSV</td>\n",
       "      <td>2014.0</td>\n",
       "      <td>Misc</td>\n",
       "      <td>0.00</td>\n",
       "      <td>0.00</td>\n",
       "      <td>0.01</td>\n",
       "      <td>0.0</td>\n",
       "      <td>NaN</td>\n",
       "      <td>NaN</td>\n",
       "      <td>NaN</td>\n",
       "    </tr>\n",
       "    <tr>\n",
       "      <th>16708</th>\n",
       "      <td>Woody Woodpecker in Crazy Castle 5</td>\n",
       "      <td>GBA</td>\n",
       "      <td>2002.0</td>\n",
       "      <td>Platform</td>\n",
       "      <td>0.01</td>\n",
       "      <td>0.00</td>\n",
       "      <td>0.00</td>\n",
       "      <td>0.0</td>\n",
       "      <td>NaN</td>\n",
       "      <td>NaN</td>\n",
       "      <td>NaN</td>\n",
       "    </tr>\n",
       "    <tr>\n",
       "      <th>16709</th>\n",
       "      <td>SCORE International Baja 1000: The Official Game</td>\n",
       "      <td>PS2</td>\n",
       "      <td>2008.0</td>\n",
       "      <td>Racing</td>\n",
       "      <td>0.00</td>\n",
       "      <td>0.00</td>\n",
       "      <td>0.00</td>\n",
       "      <td>0.0</td>\n",
       "      <td>NaN</td>\n",
       "      <td>NaN</td>\n",
       "      <td>NaN</td>\n",
       "    </tr>\n",
       "    <tr>\n",
       "      <th>16710</th>\n",
       "      <td>Samurai Warriors: Sanada Maru</td>\n",
       "      <td>PS3</td>\n",
       "      <td>2016.0</td>\n",
       "      <td>Action</td>\n",
       "      <td>0.00</td>\n",
       "      <td>0.00</td>\n",
       "      <td>0.01</td>\n",
       "      <td>0.0</td>\n",
       "      <td>NaN</td>\n",
       "      <td>NaN</td>\n",
       "      <td>NaN</td>\n",
       "    </tr>\n",
       "    <tr>\n",
       "      <th>16711</th>\n",
       "      <td>LMA Manager 2007</td>\n",
       "      <td>X360</td>\n",
       "      <td>2006.0</td>\n",
       "      <td>Sports</td>\n",
       "      <td>0.00</td>\n",
       "      <td>0.01</td>\n",
       "      <td>0.00</td>\n",
       "      <td>0.0</td>\n",
       "      <td>NaN</td>\n",
       "      <td>NaN</td>\n",
       "      <td>NaN</td>\n",
       "    </tr>\n",
       "    <tr>\n",
       "      <th>16712</th>\n",
       "      <td>Haitaka no Psychedelica</td>\n",
       "      <td>PSV</td>\n",
       "      <td>2016.0</td>\n",
       "      <td>Adventure</td>\n",
       "      <td>0.00</td>\n",
       "      <td>0.00</td>\n",
       "      <td>0.01</td>\n",
       "      <td>0.0</td>\n",
       "      <td>NaN</td>\n",
       "      <td>NaN</td>\n",
       "      <td>NaN</td>\n",
       "    </tr>\n",
       "    <tr>\n",
       "      <th>16713</th>\n",
       "      <td>Spirits &amp; Spells</td>\n",
       "      <td>GBA</td>\n",
       "      <td>2003.0</td>\n",
       "      <td>Platform</td>\n",
       "      <td>0.01</td>\n",
       "      <td>0.00</td>\n",
       "      <td>0.00</td>\n",
       "      <td>0.0</td>\n",
       "      <td>NaN</td>\n",
       "      <td>NaN</td>\n",
       "      <td>NaN</td>\n",
       "    </tr>\n",
       "    <tr>\n",
       "      <th>16714</th>\n",
       "      <td>Winning Post 8 2016</td>\n",
       "      <td>PSV</td>\n",
       "      <td>2016.0</td>\n",
       "      <td>Simulation</td>\n",
       "      <td>0.00</td>\n",
       "      <td>0.00</td>\n",
       "      <td>0.01</td>\n",
       "      <td>0.0</td>\n",
       "      <td>NaN</td>\n",
       "      <td>NaN</td>\n",
       "      <td>NaN</td>\n",
       "    </tr>\n",
       "  </tbody>\n",
       "</table>\n",
       "</div>"
      ],
      "text/plain": [
       "                                                   name platform  \\\n",
       "16705                                           15 Days       PC   \n",
       "16706                     Men in Black II: Alien Escape       GC   \n",
       "16707                                  Aiyoku no Eustia      PSV   \n",
       "16708                Woody Woodpecker in Crazy Castle 5      GBA   \n",
       "16709  SCORE International Baja 1000: The Official Game      PS2   \n",
       "16710                     Samurai Warriors: Sanada Maru      PS3   \n",
       "16711                                  LMA Manager 2007     X360   \n",
       "16712                           Haitaka no Psychedelica      PSV   \n",
       "16713                                  Spirits & Spells      GBA   \n",
       "16714                               Winning Post 8 2016      PSV   \n",
       "\n",
       "       year_of_release       genre  na_sales  eu_sales  jp_sales  other_sales  \\\n",
       "16705           2009.0   Adventure      0.00      0.01      0.00          0.0   \n",
       "16706           2003.0     Shooter      0.01      0.00      0.00          0.0   \n",
       "16707           2014.0        Misc      0.00      0.00      0.01          0.0   \n",
       "16708           2002.0    Platform      0.01      0.00      0.00          0.0   \n",
       "16709           2008.0      Racing      0.00      0.00      0.00          0.0   \n",
       "16710           2016.0      Action      0.00      0.00      0.01          0.0   \n",
       "16711           2006.0      Sports      0.00      0.01      0.00          0.0   \n",
       "16712           2016.0   Adventure      0.00      0.00      0.01          0.0   \n",
       "16713           2003.0    Platform      0.01      0.00      0.00          0.0   \n",
       "16714           2016.0  Simulation      0.00      0.00      0.01          0.0   \n",
       "\n",
       "       critic_score user_score rating  \n",
       "16705          63.0        5.8    NaN  \n",
       "16706           NaN        tbd      T  \n",
       "16707           NaN        NaN    NaN  \n",
       "16708           NaN        NaN    NaN  \n",
       "16709           NaN        NaN    NaN  \n",
       "16710           NaN        NaN    NaN  \n",
       "16711           NaN        NaN    NaN  \n",
       "16712           NaN        NaN    NaN  \n",
       "16713           NaN        NaN    NaN  \n",
       "16714           NaN        NaN    NaN  "
      ]
     },
     "metadata": {},
     "output_type": "display_data"
    }
   ],
   "source": [
    "display(data.tail(10)) # Вывожу последние 10 строк датасета"
   ]
  },
  {
   "cell_type": "markdown",
   "metadata": {},
   "source": [
    "- в столбце user_score есть непонятное значение \"tbd\", я бы уточнила, что это такое у разработчиков, единственное, что я нашла в интернете - Trunk Based Development. Но это подход к ветвлению кода, что не совсем подходит нам по контексту.\n",
    "- предлагаю заменить непонятные значения tbd заменить на более привычные NaN, так как нужно привести все к числовому формату, для дальнейшего анализа данных."
   ]
  },
  {
   "cell_type": "code",
   "execution_count": 11,
   "metadata": {},
   "outputs": [],
   "source": [
    "data['user_score'] = data['user_score'].replace('tbd', np.nan) # Заменяю tbd на NaN"
   ]
  },
  {
   "cell_type": "code",
   "execution_count": 12,
   "metadata": {},
   "outputs": [
    {
     "data": {
      "text/plain": [
       "array(['0', '0.2', '0.3', '0.5', '0.6', '0.7', '0.9', '1', '1.1', '1.2',\n",
       "       '1.3', '1.4', '1.5', '1.6', '1.7', '1.8', '1.9', '2', '2.1', '2.2',\n",
       "       '2.3', '2.4', '2.5', '2.6', '2.7', '2.8', '2.9', '3', '3.1', '3.2',\n",
       "       '3.3', '3.4', '3.5', '3.6', '3.7', '3.8', '3.9', '4', '4.1', '4.2',\n",
       "       '4.3', '4.4', '4.5', '4.6', '4.7', '4.8', '4.9', '5', '5.1', '5.2',\n",
       "       '5.3', '5.4', '5.5', '5.6', '5.7', '5.8', '5.9', '6', '6.1', '6.2',\n",
       "       '6.3', '6.4', '6.5', '6.6', '6.7', '6.8', '6.9', '7', '7.1', '7.2',\n",
       "       '7.3', '7.4', '7.5', '7.6', '7.7', '7.8', '7.9', '8', '8.1', '8.2',\n",
       "       '8.3', '8.4', '8.5', '8.6', '8.7', '8.8', '8.9', '9', '9.1', '9.2',\n",
       "       '9.3', '9.4', '9.5', '9.6', '9.7', nan], dtype=object)"
      ]
     },
     "execution_count": 12,
     "metadata": {},
     "output_type": "execute_result"
    }
   ],
   "source": [
    "data['user_score'].sort_values().unique() # Вывожу уникальные значения солбца user_score"
   ]
  },
  {
   "cell_type": "code",
   "execution_count": 13,
   "metadata": {},
   "outputs": [],
   "source": [
    "data['user_score'] = data['user_score'].astype('float') # Меняю тип данных на числовой"
   ]
  },
  {
   "cell_type": "code",
   "execution_count": 14,
   "metadata": {},
   "outputs": [],
   "source": [
    "data.dropna(subset = ['name', 'year_of_release', 'genre'], inplace = True) # Удаляю строки с пропусками даннх по столбцам"
   ]
  },
  {
   "cell_type": "code",
   "execution_count": 15,
   "metadata": {},
   "outputs": [],
   "source": [
    "data['year_of_release'] = data['year_of_release'].astype('int') # Меняю тип даннх на целые числа"
   ]
  },
  {
   "cell_type": "code",
   "execution_count": 16,
   "metadata": {},
   "outputs": [
    {
     "name": "stdout",
     "output_type": "stream",
     "text": [
      "<class 'pandas.core.frame.DataFrame'>\n",
      "Int64Index: 16444 entries, 0 to 16714\n",
      "Data columns (total 11 columns):\n",
      " #   Column           Non-Null Count  Dtype  \n",
      "---  ------           --------------  -----  \n",
      " 0   name             16444 non-null  object \n",
      " 1   platform         16444 non-null  object \n",
      " 2   year_of_release  16444 non-null  int64  \n",
      " 3   genre            16444 non-null  object \n",
      " 4   na_sales         16444 non-null  float64\n",
      " 5   eu_sales         16444 non-null  float64\n",
      " 6   jp_sales         16444 non-null  float64\n",
      " 7   other_sales      16444 non-null  float64\n",
      " 8   critic_score     7983 non-null   float64\n",
      " 9   user_score       7463 non-null   float64\n",
      " 10  rating           9768 non-null   object \n",
      "dtypes: float64(6), int64(1), object(4)\n",
      "memory usage: 1.5+ MB\n"
     ]
    }
   ],
   "source": [
    "data.info() # Повторно вывожу основную информацию после предварительной обработки данных"
   ]
  },
  {
   "cell_type": "markdown",
   "metadata": {},
   "source": [
    "- По ходу обработки данных мы избавились от незначительных пропусков, привели все числовые данные к нужному для анализа формату.\n",
    "- Остальсь посмотреть поближе текстовые значения в соответствующих стобцах."
   ]
  },
  {
   "cell_type": "code",
   "execution_count": 17,
   "metadata": {},
   "outputs": [
    {
     "data": {
      "text/plain": [
       "array(['AO', 'E', 'E10+', 'EC', 'K-A', 'M', 'RP', 'T', nan], dtype=object)"
      ]
     },
     "execution_count": 17,
     "metadata": {},
     "output_type": "execute_result"
    }
   ],
   "source": [
    "data['rating'].sort_values().unique() # Вывожу уникальные значения солбца"
   ]
  },
  {
   "cell_type": "markdown",
   "metadata": {},
   "source": [
    "- Явных дубликатов нет;\n",
    "- Согласно классификации рейтинга присваемого играм, рейтина K-A уже нет. По значению K-A (Kids to Adults) совпадает с рейтингом Е (Everyone) - для возрастной категории старше 6 лет;(http://www.gamer.ru/everything/reytingi-esrb-ot-a-do-ya);\n",
    "- Заменим K-A на E;\n",
    "- Так же избавимся от значения NaN, так как это текстовый солбец, присвоим значение 'no rating', всем пропускам."
   ]
  },
  {
   "cell_type": "code",
   "execution_count": 18,
   "metadata": {},
   "outputs": [],
   "source": [
    "data['rating'] = data['rating'].replace('K-A', 'E') # Заменяю устаревший рейтинг'K-A' на актуальный 'E'\n",
    "data['rating'] = data['rating'].fillna('no rating') # Заменяю пропуски в даннх"
   ]
  },
  {
   "cell_type": "code",
   "execution_count": 19,
   "metadata": {},
   "outputs": [
    {
     "data": {
      "text/plain": [
       "array(['Action', 'Adventure', 'Fighting', 'Misc', 'Platform', 'Puzzle',\n",
       "       'Racing', 'Role-Playing', 'Shooter', 'Simulation', 'Sports',\n",
       "       'Strategy'], dtype=object)"
      ]
     },
     "execution_count": 19,
     "metadata": {},
     "output_type": "execute_result"
    }
   ],
   "source": [
    "data['genre'].sort_values().unique() # Вывожу уникальные значения солбца genre"
   ]
  },
  {
   "cell_type": "markdown",
   "metadata": {},
   "source": [
    "- В жанрах нет явных дубликатов, оставляем все так, как есть."
   ]
  },
  {
   "cell_type": "code",
   "execution_count": 20,
   "metadata": {},
   "outputs": [
    {
     "data": {
      "text/plain": [
       "array(['2600', '3DO', '3DS', 'DC', 'DS', 'GB', 'GBA', 'GC', 'GEN', 'GG',\n",
       "       'N64', 'NES', 'NG', 'PC', 'PCFX', 'PS', 'PS2', 'PS3', 'PS4', 'PSP',\n",
       "       'PSV', 'SAT', 'SCD', 'SNES', 'TG16', 'WS', 'Wii', 'WiiU', 'X360',\n",
       "       'XB', 'XOne'], dtype=object)"
      ]
     },
     "execution_count": 20,
     "metadata": {},
     "output_type": "execute_result"
    }
   ],
   "source": [
    "data['platform'].sort_values().unique() # Вывожу уникальные значения солбца platform"
   ]
  },
  {
   "cell_type": "markdown",
   "metadata": {},
   "source": [
    "-В названиях платформ, так же, не вижу явных дубликатов, поэтому никаких изменений не вношу."
   ]
  },
  {
   "cell_type": "code",
   "execution_count": 21,
   "metadata": {},
   "outputs": [],
   "source": [
    "data['na_sales'] = data['na_sales'].fillna(0) # Заменяю все NaN на 0\n",
    "data['eu_sales'] = data['eu_sales'].fillna(0)\n",
    "data['jp_sales'] = data['jp_sales'].fillna(0)\n",
    "data['other_sales'] = data['other_sales'].fillna(0)\n",
    "data['critic_score'] = data['critic_score'].fillna(-1) # Заменяю все NaN на -1\n",
    "data['user_score'] = data['user_score'].fillna(-1)"
   ]
  },
  {
   "cell_type": "markdown",
   "metadata": {},
   "source": [
    "Приняла решение заменить пропуски в колонках с оценками критиков и пользователей на -1, так как заменить их на 0 будет некорректно. Ранее я выводила оценки из этих колонок, которые варьируются от 0 до 10. Поэтоу присвоить какой-либо игре значение 0 = оценить ее. А вот оценку -1 мы легко сможем исключить из дальнейших расчетов, при этом избавимся от пропусков в данных."
   ]
  },
  {
   "cell_type": "code",
   "execution_count": 22,
   "metadata": {},
   "outputs": [],
   "source": [
    "data['sales_all'] =  data[['na_sales','eu_sales','jp_sales', 'other_sales']].sum(axis = 1) # Добавляю новый столбец с суммой продаж по всем регионам."
   ]
  },
  {
   "cell_type": "code",
   "execution_count": 23,
   "metadata": {},
   "outputs": [
    {
     "data": {
      "text/html": [
       "<div>\n",
       "<style scoped>\n",
       "    .dataframe tbody tr th:only-of-type {\n",
       "        vertical-align: middle;\n",
       "    }\n",
       "\n",
       "    .dataframe tbody tr th {\n",
       "        vertical-align: top;\n",
       "    }\n",
       "\n",
       "    .dataframe thead th {\n",
       "        text-align: right;\n",
       "    }\n",
       "</style>\n",
       "<table border=\"1\" class=\"dataframe\">\n",
       "  <thead>\n",
       "    <tr style=\"text-align: right;\">\n",
       "      <th></th>\n",
       "      <th>name</th>\n",
       "      <th>platform</th>\n",
       "      <th>year_of_release</th>\n",
       "      <th>genre</th>\n",
       "      <th>na_sales</th>\n",
       "      <th>eu_sales</th>\n",
       "      <th>jp_sales</th>\n",
       "      <th>other_sales</th>\n",
       "      <th>critic_score</th>\n",
       "      <th>user_score</th>\n",
       "      <th>rating</th>\n",
       "      <th>sales_all</th>\n",
       "    </tr>\n",
       "  </thead>\n",
       "  <tbody>\n",
       "    <tr>\n",
       "      <th>6335</th>\n",
       "      <td>One Piece Unlimited Cruise 1: The Treasure Ben...</td>\n",
       "      <td>Wii</td>\n",
       "      <td>2008</td>\n",
       "      <td>Adventure</td>\n",
       "      <td>0.00</td>\n",
       "      <td>0.07</td>\n",
       "      <td>0.19</td>\n",
       "      <td>0.01</td>\n",
       "      <td>-1.0</td>\n",
       "      <td>-1.0</td>\n",
       "      <td>no rating</td>\n",
       "      <td>0.27</td>\n",
       "    </tr>\n",
       "    <tr>\n",
       "      <th>13431</th>\n",
       "      <td>Arcana Famiglia: La storia della Aracana Famiglia</td>\n",
       "      <td>PSP</td>\n",
       "      <td>2011</td>\n",
       "      <td>Adventure</td>\n",
       "      <td>0.00</td>\n",
       "      <td>0.00</td>\n",
       "      <td>0.05</td>\n",
       "      <td>0.00</td>\n",
       "      <td>-1.0</td>\n",
       "      <td>-1.0</td>\n",
       "      <td>no rating</td>\n",
       "      <td>0.05</td>\n",
       "    </tr>\n",
       "    <tr>\n",
       "      <th>10443</th>\n",
       "      <td>Metal Slug 3</td>\n",
       "      <td>XB</td>\n",
       "      <td>2004</td>\n",
       "      <td>Shooter</td>\n",
       "      <td>0.08</td>\n",
       "      <td>0.02</td>\n",
       "      <td>0.00</td>\n",
       "      <td>0.00</td>\n",
       "      <td>76.0</td>\n",
       "      <td>5.1</td>\n",
       "      <td>T</td>\n",
       "      <td>0.10</td>\n",
       "    </tr>\n",
       "    <tr>\n",
       "      <th>1862</th>\n",
       "      <td>NBA Live 2001</td>\n",
       "      <td>PS2</td>\n",
       "      <td>2001</td>\n",
       "      <td>Sports</td>\n",
       "      <td>0.52</td>\n",
       "      <td>0.40</td>\n",
       "      <td>0.04</td>\n",
       "      <td>0.13</td>\n",
       "      <td>74.0</td>\n",
       "      <td>-1.0</td>\n",
       "      <td>E</td>\n",
       "      <td>1.09</td>\n",
       "    </tr>\n",
       "    <tr>\n",
       "      <th>6848</th>\n",
       "      <td>South Park: Chef's Luv Shack</td>\n",
       "      <td>N64</td>\n",
       "      <td>1999</td>\n",
       "      <td>Misc</td>\n",
       "      <td>0.19</td>\n",
       "      <td>0.05</td>\n",
       "      <td>0.00</td>\n",
       "      <td>0.00</td>\n",
       "      <td>-1.0</td>\n",
       "      <td>-1.0</td>\n",
       "      <td>no rating</td>\n",
       "      <td>0.24</td>\n",
       "    </tr>\n",
       "    <tr>\n",
       "      <th>3830</th>\n",
       "      <td>Metal Gear Solid 2: Substance</td>\n",
       "      <td>PS2</td>\n",
       "      <td>2002</td>\n",
       "      <td>Action</td>\n",
       "      <td>0.18</td>\n",
       "      <td>0.14</td>\n",
       "      <td>0.16</td>\n",
       "      <td>0.05</td>\n",
       "      <td>87.0</td>\n",
       "      <td>9.0</td>\n",
       "      <td>M</td>\n",
       "      <td>0.53</td>\n",
       "    </tr>\n",
       "    <tr>\n",
       "      <th>7091</th>\n",
       "      <td>Rune Factory: Tides of Destiny</td>\n",
       "      <td>PS3</td>\n",
       "      <td>2011</td>\n",
       "      <td>Role-Playing</td>\n",
       "      <td>0.14</td>\n",
       "      <td>0.00</td>\n",
       "      <td>0.07</td>\n",
       "      <td>0.02</td>\n",
       "      <td>55.0</td>\n",
       "      <td>7.9</td>\n",
       "      <td>E10+</td>\n",
       "      <td>0.23</td>\n",
       "    </tr>\n",
       "    <tr>\n",
       "      <th>5635</th>\n",
       "      <td>Wipeout 2</td>\n",
       "      <td>Wii</td>\n",
       "      <td>2011</td>\n",
       "      <td>Misc</td>\n",
       "      <td>0.30</td>\n",
       "      <td>0.00</td>\n",
       "      <td>0.00</td>\n",
       "      <td>0.02</td>\n",
       "      <td>-1.0</td>\n",
       "      <td>-1.0</td>\n",
       "      <td>E10+</td>\n",
       "      <td>0.32</td>\n",
       "    </tr>\n",
       "    <tr>\n",
       "      <th>10549</th>\n",
       "      <td>PDC World Championship Darts: Pro Tour</td>\n",
       "      <td>PS3</td>\n",
       "      <td>2010</td>\n",
       "      <td>Sports</td>\n",
       "      <td>0.00</td>\n",
       "      <td>0.08</td>\n",
       "      <td>0.00</td>\n",
       "      <td>0.02</td>\n",
       "      <td>-1.0</td>\n",
       "      <td>-1.0</td>\n",
       "      <td>no rating</td>\n",
       "      <td>0.10</td>\n",
       "    </tr>\n",
       "    <tr>\n",
       "      <th>8010</th>\n",
       "      <td>NASCAR Unleashed</td>\n",
       "      <td>Wii</td>\n",
       "      <td>2011</td>\n",
       "      <td>Racing</td>\n",
       "      <td>0.17</td>\n",
       "      <td>0.00</td>\n",
       "      <td>0.00</td>\n",
       "      <td>0.01</td>\n",
       "      <td>-1.0</td>\n",
       "      <td>-1.0</td>\n",
       "      <td>E</td>\n",
       "      <td>0.18</td>\n",
       "    </tr>\n",
       "  </tbody>\n",
       "</table>\n",
       "</div>"
      ],
      "text/plain": [
       "                                                    name platform  \\\n",
       "6335   One Piece Unlimited Cruise 1: The Treasure Ben...      Wii   \n",
       "13431  Arcana Famiglia: La storia della Aracana Famiglia      PSP   \n",
       "10443                                       Metal Slug 3       XB   \n",
       "1862                                       NBA Live 2001      PS2   \n",
       "6848                        South Park: Chef's Luv Shack      N64   \n",
       "3830                       Metal Gear Solid 2: Substance      PS2   \n",
       "7091                      Rune Factory: Tides of Destiny      PS3   \n",
       "5635                                           Wipeout 2      Wii   \n",
       "10549             PDC World Championship Darts: Pro Tour      PS3   \n",
       "8010                                    NASCAR Unleashed      Wii   \n",
       "\n",
       "       year_of_release         genre  na_sales  eu_sales  jp_sales  \\\n",
       "6335              2008     Adventure      0.00      0.07      0.19   \n",
       "13431             2011     Adventure      0.00      0.00      0.05   \n",
       "10443             2004       Shooter      0.08      0.02      0.00   \n",
       "1862              2001        Sports      0.52      0.40      0.04   \n",
       "6848              1999          Misc      0.19      0.05      0.00   \n",
       "3830              2002        Action      0.18      0.14      0.16   \n",
       "7091              2011  Role-Playing      0.14      0.00      0.07   \n",
       "5635              2011          Misc      0.30      0.00      0.00   \n",
       "10549             2010        Sports      0.00      0.08      0.00   \n",
       "8010              2011        Racing      0.17      0.00      0.00   \n",
       "\n",
       "       other_sales  critic_score  user_score     rating  sales_all  \n",
       "6335          0.01          -1.0        -1.0  no rating       0.27  \n",
       "13431         0.00          -1.0        -1.0  no rating       0.05  \n",
       "10443         0.00          76.0         5.1          T       0.10  \n",
       "1862          0.13          74.0        -1.0          E       1.09  \n",
       "6848          0.00          -1.0        -1.0  no rating       0.24  \n",
       "3830          0.05          87.0         9.0          M       0.53  \n",
       "7091          0.02          55.0         7.9       E10+       0.23  \n",
       "5635          0.02          -1.0        -1.0       E10+       0.32  \n",
       "10549         0.02          -1.0        -1.0  no rating       0.10  \n",
       "8010          0.01          -1.0        -1.0          E       0.18  "
      ]
     },
     "metadata": {},
     "output_type": "display_data"
    }
   ],
   "source": [
    "display(data.sample(10)) # Вывожу 10 строк из датасета"
   ]
  },
  {
   "cell_type": "markdown",
   "metadata": {},
   "source": [
    "В ходе предобработки данных я:\n",
    "- привела названия столбцов к нижнему регистру;\n",
    "- удалила строки с пропусками в данных (name, genre, year_of_release). Так как, в процентном соотношении, удаление пропусков в этих столбцах не будет критичным, но при этом, данная операция, улучшит качество данных;\n",
    "- не стала удалять данные в столбцах с оценками от критиков и пользователей. Вместо этого заменила пропуски значением -1.\n",
    "- колонку с рейтингом привела к актуальному формату оценки (присутствовал устаревший формат К-А) и заменила пропуски в данных на значение no rating;\n",
    "- округлила дату выхода игр до целых чисел, для более удобного анализа в последующем;\n",
    "- проверила на дубликаты все оставшиеся колонки."
   ]
  },
  {
   "cell_type": "markdown",
   "metadata": {},
   "source": [
    "Причины пропусков данных по столбцам:\n",
    "- name -предположу, что пропуски в этом столбце вызваны человеческим фактором, так как их ( пропусков) всего 2.\n",
    "- genre - так же 2 пропуска в данных, возможно этим играм не смогли присвоить конкретный жанр, так как это были эксперементальные игры, сочетающие в себе несколько жанров.\n",
    "- year_of_release - 269 пропусков, которые могли быть вызваны тем, что некоторые игры так и не дожили до релиза, а находились в открытой бете. Или это данные по очень старым играм, у которых год выхода неизвестен.\n",
    "- user_score и critic_score - в этих столбцах очень много пропусков, которые могут быть вызваны тем, что во времена выхода игры, официально еще не оценивали ни критики, ни игроки. То есть, это очень старые игры, выходившие на заре игровой эпохи.\n",
    "- rating - ситуация аналогична с оценками от играков и критиков. Скорее всего, большая часть пропусков пренадлежит тому промежутку времени, когда играм не присваивали возростной рейтинг."
   ]
  },
  {
   "cell_type": "markdown",
   "metadata": {},
   "source": [
    "Посчитала суммарные продажи во всех регионах и записала их в отдельный солбец."
   ]
  },
  {
   "cell_type": "markdown",
   "metadata": {},
   "source": [
    "## Анализ данных"
   ]
  },
  {
   "cell_type": "markdown",
   "metadata": {},
   "source": [
    "### Посмотрим сколько игр выпускалось в разные годы."
   ]
  },
  {
   "cell_type": "code",
   "execution_count": 24,
   "metadata": {},
   "outputs": [
    {
     "name": "stdout",
     "output_type": "stream",
     "text": [
      "year_of_release\n",
      "1980       9\n",
      "1981      46\n",
      "1982      36\n",
      "1983      17\n",
      "1984      14\n",
      "1985      14\n",
      "1986      21\n",
      "1987      16\n",
      "1988      15\n",
      "1989      17\n",
      "1990      16\n",
      "1991      41\n",
      "1992      43\n",
      "1993      60\n",
      "1994     121\n",
      "1995     219\n",
      "1996     263\n",
      "1997     289\n",
      "1998     379\n",
      "1999     338\n",
      "2000     350\n",
      "2001     482\n",
      "2002     829\n",
      "2003     775\n",
      "2004     762\n",
      "2005     939\n",
      "2006    1006\n",
      "2007    1197\n",
      "2008    1427\n",
      "2009    1426\n",
      "2010    1255\n",
      "2011    1136\n",
      "2012     653\n",
      "2013     544\n",
      "2014     581\n",
      "2015     606\n",
      "2016     502\n",
      "Name: name, dtype: int64\n"
     ]
    }
   ],
   "source": [
    "game_count = data.groupby('year_of_release')['name'].count() # группирую данные по году выхода\n",
    "print(game_count)"
   ]
  },
  {
   "cell_type": "code",
   "execution_count": 25,
   "metadata": {},
   "outputs": [
    {
     "data": {
      "image/png": "[encoded data removed]",
      "text/plain": [
       "<Figure size 1080x288 with 1 Axes>"
      ]
     },
     "metadata": {
      "needs_background": "light"
     },
     "output_type": "display_data"
    }
   ],
   "source": [
    "game_count.plot(kind='line', grid=True, figsize=(15,4));\n",
    "plt.title('Количество выпускаемых игр в разные годы');"
   ]
  },
  {
   "cell_type": "markdown",
   "metadata": {},
   "source": [
    "- Из графика четко видим, что с 1993 года начинается стабильный рост в количестве выпускаемых игр в год.\n",
    "- В 2009 году рынок становится перенасыщен предложением игр плюс мировой кризис и общая динамика выпуска игр идет на спад.\n",
    "- Для последующего анализа я брала бы данные за последние несколько лет, так как они буду наиболее репрезентативны (2013-2016).\n"
   ]
  },
  {
   "cell_type": "markdown",
   "metadata": {},
   "source": [
    "### Посмотрим как менялись продажи по платформам"
   ]
  },
  {
   "cell_type": "code",
   "execution_count": 26,
   "metadata": {},
   "outputs": [
    {
     "name": "stdout",
     "output_type": "stream",
     "text": [
      "platform\n",
      "PS2     1233.56\n",
      "X360     961.24\n",
      "PS3      931.34\n",
      "Wii      891.18\n",
      "DS       802.78\n",
      "PS       727.58\n",
      "PS4      314.14\n",
      "GBA      312.88\n",
      "PSP      289.53\n",
      "3DS      257.81\n",
      "PC       255.76\n",
      "GB       254.43\n",
      "XB       251.57\n",
      "NES      251.05\n",
      "N64      218.01\n",
      "SNES     200.04\n",
      "GC       196.73\n",
      "XOne     159.32\n",
      "2600      86.48\n",
      "WiiU      82.19\n",
      "PSV       53.81\n",
      "SAT       33.59\n",
      "GEN       28.35\n",
      "DC        15.95\n",
      "SCD        1.86\n",
      "NG         1.44\n",
      "WS         1.42\n",
      "TG16       0.16\n",
      "3DO        0.10\n",
      "GG         0.04\n",
      "PCFX       0.03\n",
      "Name: sales_all, dtype: float64\n"
     ]
    }
   ],
   "source": [
    "top_platform = data.groupby('platform')['sales_all'].sum().sort_values(ascending=False)\n",
    "print(top_platform) # вывожу топ платформ по общему кол-ву продаж"
   ]
  },
  {
   "cell_type": "markdown",
   "metadata": {},
   "source": [
    "- Наибольшие суммарные продажи за весь анализируемый период  у следующих платформ:\n",
    "- 1) PS2   -  1233.56\n",
    "- 2) X360  -   961.24\n",
    "- 3)PS3   -   931.34\n",
    "- 4) Wii   -   891.18\n",
    "- 5) DS   -    802.78\n",
    "- 6) PS   -    727.58\n",
    "- 7) PS4   -   314.14\n",
    "- 8) GBA   -   312.88\n",
    "- 9) PSP    -  289.53\n",
    "- 10) 3DS  -    257.81"
   ]
  },
  {
   "cell_type": "code",
   "execution_count": 27,
   "metadata": {},
   "outputs": [
    {
     "data": {
      "image/png": "[encoded data removed]",
      "text/plain": [
       "<Figure size 1080x576 with 1 Axes>"
      ]
     },
     "metadata": {
      "needs_background": "light"
     },
     "output_type": "display_data"
    }
   ],
   "source": [
    "platform_sales = data.pivot_table(index='year_of_release', values='sales_all', columns='platform', aggfunc='sum')\n",
    "platform_sales.plot(kind='area', grid=True, figsize=(15,8)); # строю сводную таблицу и график по ней\n",
    "plt.title('Количество продаж по разным платформам');"
   ]
  },
  {
   "cell_type": "markdown",
   "metadata": {},
   "source": [
    "- Слишком много данных на графике, выделю только интересующие для нас года."
   ]
  },
  {
   "cell_type": "code",
   "execution_count": 28,
   "metadata": {},
   "outputs": [
    {
     "data": {
      "text/html": [
       "<div>\n",
       "<style scoped>\n",
       "    .dataframe tbody tr th:only-of-type {\n",
       "        vertical-align: middle;\n",
       "    }\n",
       "\n",
       "    .dataframe tbody tr th {\n",
       "        vertical-align: top;\n",
       "    }\n",
       "\n",
       "    .dataframe thead th {\n",
       "        text-align: right;\n",
       "    }\n",
       "</style>\n",
       "<table border=\"1\" class=\"dataframe\">\n",
       "  <thead>\n",
       "    <tr style=\"text-align: right;\">\n",
       "      <th>platform</th>\n",
       "      <th>2600</th>\n",
       "      <th>3DO</th>\n",
       "      <th>3DS</th>\n",
       "      <th>DC</th>\n",
       "      <th>DS</th>\n",
       "      <th>GB</th>\n",
       "      <th>GBA</th>\n",
       "      <th>GC</th>\n",
       "      <th>GEN</th>\n",
       "      <th>GG</th>\n",
       "      <th>...</th>\n",
       "      <th>SAT</th>\n",
       "      <th>SCD</th>\n",
       "      <th>SNES</th>\n",
       "      <th>TG16</th>\n",
       "      <th>WS</th>\n",
       "      <th>Wii</th>\n",
       "      <th>WiiU</th>\n",
       "      <th>X360</th>\n",
       "      <th>XB</th>\n",
       "      <th>XOne</th>\n",
       "    </tr>\n",
       "    <tr>\n",
       "      <th>year_of_release</th>\n",
       "      <th></th>\n",
       "      <th></th>\n",
       "      <th></th>\n",
       "      <th></th>\n",
       "      <th></th>\n",
       "      <th></th>\n",
       "      <th></th>\n",
       "      <th></th>\n",
       "      <th></th>\n",
       "      <th></th>\n",
       "      <th></th>\n",
       "      <th></th>\n",
       "      <th></th>\n",
       "      <th></th>\n",
       "      <th></th>\n",
       "      <th></th>\n",
       "      <th></th>\n",
       "      <th></th>\n",
       "      <th></th>\n",
       "      <th></th>\n",
       "      <th></th>\n",
       "    </tr>\n",
       "  </thead>\n",
       "  <tbody>\n",
       "    <tr>\n",
       "      <th>1980</th>\n",
       "      <td>11.38</td>\n",
       "      <td>0.0</td>\n",
       "      <td>0.0</td>\n",
       "      <td>0.0</td>\n",
       "      <td>0.0</td>\n",
       "      <td>0.0</td>\n",
       "      <td>0.0</td>\n",
       "      <td>0.0</td>\n",
       "      <td>0.0</td>\n",
       "      <td>0.0</td>\n",
       "      <td>...</td>\n",
       "      <td>0.0</td>\n",
       "      <td>0.0</td>\n",
       "      <td>0.0</td>\n",
       "      <td>0.0</td>\n",
       "      <td>0.0</td>\n",
       "      <td>0.0</td>\n",
       "      <td>0.0</td>\n",
       "      <td>0.0</td>\n",
       "      <td>0.0</td>\n",
       "      <td>0.0</td>\n",
       "    </tr>\n",
       "    <tr>\n",
       "      <th>1981</th>\n",
       "      <td>35.68</td>\n",
       "      <td>0.0</td>\n",
       "      <td>0.0</td>\n",
       "      <td>0.0</td>\n",
       "      <td>0.0</td>\n",
       "      <td>0.0</td>\n",
       "      <td>0.0</td>\n",
       "      <td>0.0</td>\n",
       "      <td>0.0</td>\n",
       "      <td>0.0</td>\n",
       "      <td>...</td>\n",
       "      <td>0.0</td>\n",
       "      <td>0.0</td>\n",
       "      <td>0.0</td>\n",
       "      <td>0.0</td>\n",
       "      <td>0.0</td>\n",
       "      <td>0.0</td>\n",
       "      <td>0.0</td>\n",
       "      <td>0.0</td>\n",
       "      <td>0.0</td>\n",
       "      <td>0.0</td>\n",
       "    </tr>\n",
       "    <tr>\n",
       "      <th>1982</th>\n",
       "      <td>28.88</td>\n",
       "      <td>0.0</td>\n",
       "      <td>0.0</td>\n",
       "      <td>0.0</td>\n",
       "      <td>0.0</td>\n",
       "      <td>0.0</td>\n",
       "      <td>0.0</td>\n",
       "      <td>0.0</td>\n",
       "      <td>0.0</td>\n",
       "      <td>0.0</td>\n",
       "      <td>...</td>\n",
       "      <td>0.0</td>\n",
       "      <td>0.0</td>\n",
       "      <td>0.0</td>\n",
       "      <td>0.0</td>\n",
       "      <td>0.0</td>\n",
       "      <td>0.0</td>\n",
       "      <td>0.0</td>\n",
       "      <td>0.0</td>\n",
       "      <td>0.0</td>\n",
       "      <td>0.0</td>\n",
       "    </tr>\n",
       "    <tr>\n",
       "      <th>1983</th>\n",
       "      <td>5.84</td>\n",
       "      <td>0.0</td>\n",
       "      <td>0.0</td>\n",
       "      <td>0.0</td>\n",
       "      <td>0.0</td>\n",
       "      <td>0.0</td>\n",
       "      <td>0.0</td>\n",
       "      <td>0.0</td>\n",
       "      <td>0.0</td>\n",
       "      <td>0.0</td>\n",
       "      <td>...</td>\n",
       "      <td>0.0</td>\n",
       "      <td>0.0</td>\n",
       "      <td>0.0</td>\n",
       "      <td>0.0</td>\n",
       "      <td>0.0</td>\n",
       "      <td>0.0</td>\n",
       "      <td>0.0</td>\n",
       "      <td>0.0</td>\n",
       "      <td>0.0</td>\n",
       "      <td>0.0</td>\n",
       "    </tr>\n",
       "    <tr>\n",
       "      <th>1984</th>\n",
       "      <td>0.27</td>\n",
       "      <td>0.0</td>\n",
       "      <td>0.0</td>\n",
       "      <td>0.0</td>\n",
       "      <td>0.0</td>\n",
       "      <td>0.0</td>\n",
       "      <td>0.0</td>\n",
       "      <td>0.0</td>\n",
       "      <td>0.0</td>\n",
       "      <td>0.0</td>\n",
       "      <td>...</td>\n",
       "      <td>0.0</td>\n",
       "      <td>0.0</td>\n",
       "      <td>0.0</td>\n",
       "      <td>0.0</td>\n",
       "      <td>0.0</td>\n",
       "      <td>0.0</td>\n",
       "      <td>0.0</td>\n",
       "      <td>0.0</td>\n",
       "      <td>0.0</td>\n",
       "      <td>0.0</td>\n",
       "    </tr>\n",
       "  </tbody>\n",
       "</table>\n",
       "<p>5 rows × 31 columns</p>\n",
       "</div>"
      ],
      "text/plain": [
       "platform          2600  3DO  3DS   DC   DS   GB  GBA   GC  GEN   GG  ...  SAT  \\\n",
       "year_of_release                                                      ...        \n",
       "1980             11.38  0.0  0.0  0.0  0.0  0.0  0.0  0.0  0.0  0.0  ...  0.0   \n",
       "1981             35.68  0.0  0.0  0.0  0.0  0.0  0.0  0.0  0.0  0.0  ...  0.0   \n",
       "1982             28.88  0.0  0.0  0.0  0.0  0.0  0.0  0.0  0.0  0.0  ...  0.0   \n",
       "1983              5.84  0.0  0.0  0.0  0.0  0.0  0.0  0.0  0.0  0.0  ...  0.0   \n",
       "1984              0.27  0.0  0.0  0.0  0.0  0.0  0.0  0.0  0.0  0.0  ...  0.0   \n",
       "\n",
       "platform         SCD  SNES  TG16   WS  Wii  WiiU  X360   XB  XOne  \n",
       "year_of_release                                                    \n",
       "1980             0.0   0.0   0.0  0.0  0.0   0.0   0.0  0.0   0.0  \n",
       "1981             0.0   0.0   0.0  0.0  0.0   0.0   0.0  0.0   0.0  \n",
       "1982             0.0   0.0   0.0  0.0  0.0   0.0   0.0  0.0   0.0  \n",
       "1983             0.0   0.0   0.0  0.0  0.0   0.0   0.0  0.0   0.0  \n",
       "1984             0.0   0.0   0.0  0.0  0.0   0.0   0.0  0.0   0.0  \n",
       "\n",
       "[5 rows x 31 columns]"
      ]
     },
     "metadata": {},
     "output_type": "display_data"
    }
   ],
   "source": [
    "display(platform_sales.fillna(0).head()) # заменяю все пропущенные значения на 0"
   ]
  },
  {
   "cell_type": "code",
   "execution_count": 29,
   "metadata": {},
   "outputs": [
    {
     "data": {
      "image/png": "[encoded data removed]",
      "text/plain": [
       "<Figure size 1152x576 with 1 Axes>"
      ]
     },
     "metadata": {
      "needs_background": "light"
     },
     "output_type": "display_data"
    }
   ],
   "source": [
    "platform_sales = platform_sales.query('2013 <= year_of_release <= 2016')\n",
    "platform_sales.plot(grid=True, figsize=(16,8));\n",
    "plt.title('Кол-во продаж по разным платформам с 2013 по 2016 годы');"
   ]
  },
  {
   "cell_type": "code",
   "execution_count": 30,
   "metadata": {},
   "outputs": [
    {
     "name": "stdout",
     "output_type": "stream",
     "text": [
      "platform\n",
      "PS4     314.14\n",
      "PS3     181.43\n",
      "XOne    159.32\n",
      "3DS     143.25\n",
      "X360    136.80\n",
      "WiiU     64.63\n",
      "PC       39.43\n",
      "PSV      32.99\n",
      "Wii      13.66\n",
      "PSP       3.50\n",
      "DS        1.54\n",
      "Name: sales_all, dtype: float64\n"
     ]
    }
   ],
   "source": [
    "top_platform_new = data.query('2013 <= year_of_release <= 2016').groupby('platform')['sales_all'].sum().sort_values(ascending=False)\n",
    "print(top_platform_new)"
   ]
  },
  {
   "cell_type": "markdown",
   "metadata": {},
   "source": [
    "- Если же мы берем не весь временной период, а только интересующие нас года (2013-2016), то ситуация с топовыми платформами выглядит совсем иначе."
   ]
  },
  {
   "cell_type": "markdown",
   "metadata": {},
   "source": [
    "Из графика видим, что:\n",
    "- продажи по всем платформам, после 2015 года идут вниз;\n",
    "- топ три лидирующие по продажам платформы : PS4, PS3 и XOne.\n",
    "- как потенциально прибыльные платформы, я бы выделила PS4 и XOne. Исключила PS3, так как это более старая версия плейстейшн, а мы уже пришли к выводам, что у каждой платформы есть свой \"жизненный цикл\". Поэтому сделаем ставку на более молодую PS4."
   ]
  },
  {
   "cell_type": "code",
   "execution_count": 31,
   "metadata": {},
   "outputs": [
    {
     "data": {
      "image/png": "[encoded data removed]",
      "text/plain": [
       "<Figure size 432x288 with 1 Axes>"
      ]
     },
     "metadata": {
      "needs_background": "light"
     },
     "output_type": "display_data"
    }
   ],
   "source": [
    "top_2_platform = data.query('platform == [\"PS4\", \"XOne\"] and 2013 <= year_of_release <= 2016')\n",
    "top_2_platform.boxplot(column='sales_all', by='platform')\n",
    "plt.ylim(0,2.5); # Строю диаграмму размаха для двух платформ"
   ]
  },
  {
   "cell_type": "code",
   "execution_count": 32,
   "metadata": {},
   "outputs": [
    {
     "data": {
      "text/html": [
       "<div>\n",
       "<style scoped>\n",
       "    .dataframe tbody tr th:only-of-type {\n",
       "        vertical-align: middle;\n",
       "    }\n",
       "\n",
       "    .dataframe tbody tr th {\n",
       "        vertical-align: top;\n",
       "    }\n",
       "\n",
       "    .dataframe thead th {\n",
       "        text-align: right;\n",
       "    }\n",
       "</style>\n",
       "<table border=\"1\" class=\"dataframe\">\n",
       "  <thead>\n",
       "    <tr style=\"text-align: right;\">\n",
       "      <th></th>\n",
       "      <th>count</th>\n",
       "      <th>mean</th>\n",
       "      <th>std</th>\n",
       "      <th>min</th>\n",
       "      <th>25%</th>\n",
       "      <th>50%</th>\n",
       "      <th>75%</th>\n",
       "      <th>max</th>\n",
       "    </tr>\n",
       "    <tr>\n",
       "      <th>platform</th>\n",
       "      <th></th>\n",
       "      <th></th>\n",
       "      <th></th>\n",
       "      <th></th>\n",
       "      <th></th>\n",
       "      <th></th>\n",
       "      <th></th>\n",
       "      <th></th>\n",
       "    </tr>\n",
       "  </thead>\n",
       "  <tbody>\n",
       "    <tr>\n",
       "      <th>PS4</th>\n",
       "      <td>392.0</td>\n",
       "      <td>0.801378</td>\n",
       "      <td>1.609456</td>\n",
       "      <td>0.01</td>\n",
       "      <td>0.06</td>\n",
       "      <td>0.20</td>\n",
       "      <td>0.730</td>\n",
       "      <td>14.63</td>\n",
       "    </tr>\n",
       "    <tr>\n",
       "      <th>XOne</th>\n",
       "      <td>247.0</td>\n",
       "      <td>0.645020</td>\n",
       "      <td>1.036139</td>\n",
       "      <td>0.01</td>\n",
       "      <td>0.06</td>\n",
       "      <td>0.22</td>\n",
       "      <td>0.685</td>\n",
       "      <td>7.39</td>\n",
       "    </tr>\n",
       "  </tbody>\n",
       "</table>\n",
       "</div>"
      ],
      "text/plain": [
       "          count      mean       std   min   25%   50%    75%    max\n",
       "platform                                                           \n",
       "PS4       392.0  0.801378  1.609456  0.01  0.06  0.20  0.730  14.63\n",
       "XOne      247.0  0.645020  1.036139  0.01  0.06  0.22  0.685   7.39"
      ]
     },
     "execution_count": 32,
     "metadata": {},
     "output_type": "execute_result"
    }
   ],
   "source": [
    "top_2_platform.groupby('platform')['sales_all'].describe() # основная информация о потенциально прибыльных платформах"
   ]
  },
  {
   "cell_type": "markdown",
   "metadata": {},
   "source": [
    "- Построив график размаха по топ двум платформам, прихожу к выводу, что в глобальных продажах PS4 больше выбросов. Что вполне можно объяснить экслюзивными играми, которые доступны только на этой платформе;\n",
    "- из-за выбросов, стандартное отклонение у PS4 больше;\n",
    "- среднее у PS4 немного больше, чем у XOne;\n",
    "- а вот медиана больше у XOne."
   ]
  },
  {
   "cell_type": "markdown",
   "metadata": {},
   "source": [
    "### Проанализируем корреляцию между отзывами критиков/пользователей и продажами игр"
   ]
  },
  {
   "cell_type": "markdown",
   "metadata": {},
   "source": [
    "- Для анализа возьму платформу PS4, так как в интересующих нас годах она занимает лидирующие позиции."
   ]
  },
  {
   "cell_type": "code",
   "execution_count": 33,
   "metadata": {},
   "outputs": [],
   "source": [
    "ps4 = top_2_platform.query('platform == \"PS4\" and (user_score != -1 and critic_score != -1)') # делаю срез по платформе и # исключаю из расчетов оценки -1\n",
    "ps4_good = ps4.pivot_table(index='critic_score', values='sales_all') # строю сводную таблицу"
   ]
  },
  {
   "cell_type": "code",
   "execution_count": 34,
   "metadata": {},
   "outputs": [
    {
     "data": {
      "image/png": "[encoded data removed]",
      "text/plain": [
       "<Figure size 1008x720 with 2 Axes>"
      ]
     },
     "metadata": {
      "needs_background": "light"
     },
     "output_type": "display_data"
    }
   ],
   "source": [
    "fig, ax = plt.subplots(2, figsize=(14,10)) # строю графики рассеяния\n",
    "ax[0].scatter(x=ps4['critic_score'], y=ps4['sales_all'])\n",
    "ax[0].set_xlabel('critic_score')\n",
    "ax[0].set_ylabel('sales_ ps4')\n",
    "plt.suptitle('Корреляция продаж игр PS4 и оценок критиков');\n",
    "\n",
    "ax[1].scatter(x=ps4['user_score'], y=ps4['sales_all'])\n",
    "ax[1].set_xlabel('user_score')\n",
    "ax[1].set_ylabel('sales_ ps4')\n",
    "plt.title('Корреляция продаж игр PS4 и оценок игроков');"
   ]
  },
  {
   "cell_type": "code",
   "execution_count": 35,
   "metadata": {},
   "outputs": [
    {
     "name": "stdout",
     "output_type": "stream",
     "text": [
      "Корреляция продаж игр с оценкой от критиков: 0.40589480145836687\n",
      "Корреляция продаж игр с оценкой от пользователей: -0.03362497596528878\n"
     ]
    }
   ],
   "source": [
    "print('Корреляция продаж игр с оценкой от критиков:', ps4['critic_score'].corr(ps4['sales_all']))\n",
    "print('Корреляция продаж игр с оценкой от пользователей:', ps4['user_score'].corr(ps4['sales_all']))"
   ]
  },
  {
   "cell_type": "markdown",
   "metadata": {},
   "source": [
    "Исходя из полученных данных, прихожу к следующим выводам:\n",
    "- Продажи игр имеют слабую положительную корреляцию с отзывами от критиков. Тоесть, игроки скорее склонны доверять мнению экспертов и охотнее покупают игры, если их рекомендуют критики.\n",
    "- А вот корреляция продаж игр с отзывами от пользователей слабо отрицательная. То есть, игроки не прислушиваются к мениям других игроков на счет игр."
   ]
  },
  {
   "cell_type": "markdown",
   "metadata": {},
   "source": [
    "### Соотнесем полученные выводы с продажими на других платформах"
   ]
  },
  {
   "cell_type": "code",
   "execution_count": 36,
   "metadata": {},
   "outputs": [
    {
     "data": {
      "text/html": [
       "<div>\n",
       "<style scoped>\n",
       "    .dataframe tbody tr th:only-of-type {\n",
       "        vertical-align: middle;\n",
       "    }\n",
       "\n",
       "    .dataframe tbody tr th {\n",
       "        vertical-align: top;\n",
       "    }\n",
       "\n",
       "    .dataframe thead th {\n",
       "        text-align: right;\n",
       "    }\n",
       "</style>\n",
       "<table border=\"1\" class=\"dataframe\">\n",
       "  <thead>\n",
       "    <tr style=\"text-align: right;\">\n",
       "      <th></th>\n",
       "      <th>count</th>\n",
       "      <th>mean</th>\n",
       "      <th>std</th>\n",
       "      <th>min</th>\n",
       "      <th>25%</th>\n",
       "      <th>50%</th>\n",
       "      <th>75%</th>\n",
       "      <th>max</th>\n",
       "    </tr>\n",
       "    <tr>\n",
       "      <th>platform</th>\n",
       "      <th></th>\n",
       "      <th></th>\n",
       "      <th></th>\n",
       "      <th></th>\n",
       "      <th></th>\n",
       "      <th></th>\n",
       "      <th></th>\n",
       "      <th></th>\n",
       "    </tr>\n",
       "  </thead>\n",
       "  <tbody>\n",
       "    <tr>\n",
       "      <th>3DS</th>\n",
       "      <td>303.0</td>\n",
       "      <td>0.472772</td>\n",
       "      <td>1.381347</td>\n",
       "      <td>0.01</td>\n",
       "      <td>0.0400</td>\n",
       "      <td>0.090</td>\n",
       "      <td>0.2800</td>\n",
       "      <td>14.60</td>\n",
       "    </tr>\n",
       "    <tr>\n",
       "      <th>DS</th>\n",
       "      <td>8.0</td>\n",
       "      <td>0.192500</td>\n",
       "      <td>0.172026</td>\n",
       "      <td>0.03</td>\n",
       "      <td>0.0675</td>\n",
       "      <td>0.150</td>\n",
       "      <td>0.2525</td>\n",
       "      <td>0.51</td>\n",
       "    </tr>\n",
       "    <tr>\n",
       "      <th>PC</th>\n",
       "      <td>189.0</td>\n",
       "      <td>0.208624</td>\n",
       "      <td>0.352304</td>\n",
       "      <td>0.01</td>\n",
       "      <td>0.0300</td>\n",
       "      <td>0.080</td>\n",
       "      <td>0.2300</td>\n",
       "      <td>3.05</td>\n",
       "    </tr>\n",
       "    <tr>\n",
       "      <th>PS3</th>\n",
       "      <td>345.0</td>\n",
       "      <td>0.525884</td>\n",
       "      <td>1.451939</td>\n",
       "      <td>0.01</td>\n",
       "      <td>0.0400</td>\n",
       "      <td>0.150</td>\n",
       "      <td>0.5100</td>\n",
       "      <td>21.05</td>\n",
       "    </tr>\n",
       "    <tr>\n",
       "      <th>PS4</th>\n",
       "      <td>392.0</td>\n",
       "      <td>0.801378</td>\n",
       "      <td>1.609456</td>\n",
       "      <td>0.01</td>\n",
       "      <td>0.0600</td>\n",
       "      <td>0.200</td>\n",
       "      <td>0.7300</td>\n",
       "      <td>14.63</td>\n",
       "    </tr>\n",
       "    <tr>\n",
       "      <th>PSP</th>\n",
       "      <td>67.0</td>\n",
       "      <td>0.052239</td>\n",
       "      <td>0.059768</td>\n",
       "      <td>0.01</td>\n",
       "      <td>0.0150</td>\n",
       "      <td>0.020</td>\n",
       "      <td>0.0700</td>\n",
       "      <td>0.24</td>\n",
       "    </tr>\n",
       "    <tr>\n",
       "      <th>PSV</th>\n",
       "      <td>358.0</td>\n",
       "      <td>0.092151</td>\n",
       "      <td>0.153816</td>\n",
       "      <td>0.01</td>\n",
       "      <td>0.0200</td>\n",
       "      <td>0.040</td>\n",
       "      <td>0.1100</td>\n",
       "      <td>1.96</td>\n",
       "    </tr>\n",
       "    <tr>\n",
       "      <th>Wii</th>\n",
       "      <td>23.0</td>\n",
       "      <td>0.593913</td>\n",
       "      <td>0.915432</td>\n",
       "      <td>0.01</td>\n",
       "      <td>0.0450</td>\n",
       "      <td>0.180</td>\n",
       "      <td>0.7550</td>\n",
       "      <td>3.58</td>\n",
       "    </tr>\n",
       "    <tr>\n",
       "      <th>WiiU</th>\n",
       "      <td>115.0</td>\n",
       "      <td>0.562000</td>\n",
       "      <td>1.038778</td>\n",
       "      <td>0.01</td>\n",
       "      <td>0.0600</td>\n",
       "      <td>0.200</td>\n",
       "      <td>0.5950</td>\n",
       "      <td>7.09</td>\n",
       "    </tr>\n",
       "    <tr>\n",
       "      <th>X360</th>\n",
       "      <td>186.0</td>\n",
       "      <td>0.735484</td>\n",
       "      <td>1.663275</td>\n",
       "      <td>0.01</td>\n",
       "      <td>0.0800</td>\n",
       "      <td>0.265</td>\n",
       "      <td>0.7950</td>\n",
       "      <td>16.27</td>\n",
       "    </tr>\n",
       "    <tr>\n",
       "      <th>XOne</th>\n",
       "      <td>247.0</td>\n",
       "      <td>0.645020</td>\n",
       "      <td>1.036139</td>\n",
       "      <td>0.01</td>\n",
       "      <td>0.0600</td>\n",
       "      <td>0.220</td>\n",
       "      <td>0.6850</td>\n",
       "      <td>7.39</td>\n",
       "    </tr>\n",
       "  </tbody>\n",
       "</table>\n",
       "</div>"
      ],
      "text/plain": [
       "          count      mean       std   min     25%    50%     75%    max\n",
       "platform                                                               \n",
       "3DS       303.0  0.472772  1.381347  0.01  0.0400  0.090  0.2800  14.60\n",
       "DS          8.0  0.192500  0.172026  0.03  0.0675  0.150  0.2525   0.51\n",
       "PC        189.0  0.208624  0.352304  0.01  0.0300  0.080  0.2300   3.05\n",
       "PS3       345.0  0.525884  1.451939  0.01  0.0400  0.150  0.5100  21.05\n",
       "PS4       392.0  0.801378  1.609456  0.01  0.0600  0.200  0.7300  14.63\n",
       "PSP        67.0  0.052239  0.059768  0.01  0.0150  0.020  0.0700   0.24\n",
       "PSV       358.0  0.092151  0.153816  0.01  0.0200  0.040  0.1100   1.96\n",
       "Wii        23.0  0.593913  0.915432  0.01  0.0450  0.180  0.7550   3.58\n",
       "WiiU      115.0  0.562000  1.038778  0.01  0.0600  0.200  0.5950   7.09\n",
       "X360      186.0  0.735484  1.663275  0.01  0.0800  0.265  0.7950  16.27\n",
       "XOne      247.0  0.645020  1.036139  0.01  0.0600  0.220  0.6850   7.39"
      ]
     },
     "execution_count": 36,
     "metadata": {},
     "output_type": "execute_result"
    }
   ],
   "source": [
    "data.query('2013 <= year_of_release <= 2016').groupby('platform')['sales_all'].describe() # группирую данные по платформам за интересующий нас период"
   ]
  },
  {
   "cell_type": "code",
   "execution_count": 37,
   "metadata": {},
   "outputs": [
    {
     "data": {
      "image/png": "[encoded data removed]",
      "text/plain": [
       "<Figure size 1800x504 with 1 Axes>"
      ]
     },
     "metadata": {
      "needs_background": "light"
     },
     "output_type": "display_data"
    }
   ],
   "source": [
    "data.query('2013 <= year_of_release <= 2016').boxplot(column='sales_all', by='platform', figsize=(25,7)) # стррою диаграммы размаха\n",
    "plt.ylim(0, 4);"
   ]
  },
  {
   "cell_type": "markdown",
   "metadata": {},
   "source": [
    "Из диаграммы четко видно, что:\n",
    "- выделяются несколько платформ (PS3, X360, PS4, 3DS); \n",
    "- у всех выделеных платформ достаточно большое, на фоне всех платформ, стандартное отклонение. Что говорит о больших выбросах; \n",
    "- наличие выбросов объясняется тем, что выходят игры в разных жанрах, так же появляются абсолютно новые жанры, которые могут очень тепло приниматься аудиторией. Усовершенсвуются движки, на которых выходят игры, как следствие улучшается и качество игр, что, так же, может приводить к \"буму\" продаж."
   ]
  },
  {
   "cell_type": "markdown",
   "metadata": {},
   "source": [
    "### Посмотрим на распределение игр по жанрам"
   ]
  },
  {
   "cell_type": "code",
   "execution_count": 38,
   "metadata": {},
   "outputs": [
    {
     "name": "stdout",
     "output_type": "stream",
     "text": [
      "              sales_all\n",
      "genre                  \n",
      "Action            0.110\n",
      "Adventure         0.030\n",
      "Fighting          0.125\n",
      "Misc              0.100\n",
      "Platform          0.225\n",
      "Puzzle            0.060\n",
      "Racing            0.120\n",
      "Role-Playing      0.125\n",
      "Shooter           0.450\n",
      "Simulation        0.100\n",
      "Sports            0.240\n",
      "Strategy          0.080\n"
     ]
    }
   ],
   "source": [
    "genre_median = data.query('2013 <= year_of_release <= 2016').pivot_table(index='genre', values='sales_all', aggfunc='median') # группирую данные по жанрам\n",
    "print(genre_median)"
   ]
  },
  {
   "cell_type": "code",
   "execution_count": 39,
   "metadata": {},
   "outputs": [
    {
     "data": {
      "image/png": "[encoded data removed]",
      "text/plain": [
       "<Figure size 1080x360 with 1 Axes>"
      ]
     },
     "metadata": {
      "needs_background": "light"
     },
     "output_type": "display_data"
    }
   ],
   "source": [
    "genre_median.plot(grid=True, figsize=(15, 5));\n",
    "plt.title('Медианные значения продаж игр по жанрам');"
   ]
  },
  {
   "cell_type": "markdown",
   "metadata": {},
   "source": [
    "Из графиков суммы продаж игр по жанрам можно сказать, что:\n",
    "- лучге всего продаются Шутеры (Shooter), Платформеры (Platform ) и Спортивные игры (Sports);\n",
    "- меньше всего фанатов у Приключений (Adventure), Пазлы (Puzzle) и Стратегии (Strategy)."
   ]
  },
  {
   "cell_type": "markdown",
   "metadata": {},
   "source": [
    "Вывод\n",
    "- Количество выпускаемых игр увеличивалось с каждым годом. Особенно интенсивный рост наблюдается с 1993 по 2009 года. Финансово-экономический кризис дает о себе знать и в индустрии игр. После 2009 года рынок перенасыщен играми + кризис = отрицательная динамика выпуска игр от года к году.\n",
    "- Практически каждый год появляются какие-то новые игровые платформы, поэтому и продажи по платформам меняются с каждым годом. Средний срок жизни платформы = около пяти лет. Есть платформы, которые выбиваются в абсолютные лидеы и только крепнут со временем (PS4, XOne) , а есть аутсайдеры, которые перестают поддерживаться(PCFX, GG, 3DO).\n",
    "- За актуальный период я взяла 2013-2016 годы. На основе этого временногоо периода и будем строить дальнейшую аналитику.\n",
    "- По ходу анализа данных я выбрала две потенциально прибыльные платформы - PS4, XOne. Несмотря на то, что доходы от продаж на этих платформах уменьшаются ( как и по всем остальным платформам), PS4, XOne находятся на стабильно высоком уровне.\n",
    "- Так же пришла к выводам, что небольшая доля игроков, при выборе игры, склонна опираться на мнение критиков, а вот мнение других игроков уже не так важно.\n",
    "- В распределении по жанрам, с большим отрывом лидируют шуттеры. Самое время для запуска PUBG: Battlegrounds, Destiny 2 и многого другого в этом жанре. Так же можно сделать ставку на платформеры ( Hollow Knight, Cuphead, Getting Over It with Bennett Foddy и прочее)."
   ]
  },
  {
   "cell_type": "markdown",
   "metadata": {},
   "source": [
    "## Составим портрет пользователя каждого региона"
   ]
  },
  {
   "cell_type": "markdown",
   "metadata": {},
   "source": [
    "### Определим популярные платформы для каждого региона"
   ]
  },
  {
   "cell_type": "code",
   "execution_count": 40,
   "metadata": {},
   "outputs": [
    {
     "data": {
      "image/png": "[encoded data removed]",
      "text/plain": [
       "<Figure size 1440x576 with 1 Axes>"
      ]
     },
     "metadata": {
      "needs_background": "light"
     },
     "output_type": "display_data"
    }
   ],
   "source": [
    "na_platform = data.query('2013 <= year_of_release <= 2016').groupby('platform')['na_sales'].sum().sort_values(ascending=False).head(5)\n",
    "na_platform.plot(x = 'platform', y = 'na_sales', kind = 'bar', figsize=(20,8), grid=True);\n",
    "plt.title('Топ 5 платформ в Северной Америке');\n",
    "# делаю срез по актуальному периоду и группирую данные по топ 5 платформам.\n",
    "# строю график по полученным данным"
   ]
  },
  {
   "cell_type": "markdown",
   "metadata": {},
   "source": [
    "- Лидирующие платформы в Северной Америке выглядят следующим образом"
   ]
  },
  {
   "cell_type": "code",
   "execution_count": 41,
   "metadata": {},
   "outputs": [
    {
     "data": {
      "image/png": "[encoded data removed]",
      "text/plain": [
       "<Figure size 1440x576 with 1 Axes>"
      ]
     },
     "metadata": {
      "needs_background": "light"
     },
     "output_type": "display_data"
    }
   ],
   "source": [
    "eu_platform = data.query('2013 <= year_of_release <= 2016').groupby('platform')['eu_sales'].sum().sort_values(ascending=False).head(5)\n",
    "eu_platform.plot(x = 'platform', y = 'na_sales', kind = 'bar', figsize=(20,8), grid=True);\n",
    "plt.title('Топ 5 платформ в Европе');"
   ]
  },
  {
   "cell_type": "markdown",
   "metadata": {},
   "source": [
    "- Лидирующие платформы в Европе выглядят следующим образом"
   ]
  },
  {
   "cell_type": "code",
   "execution_count": 42,
   "metadata": {},
   "outputs": [
    {
     "data": {
      "image/png": "[encoded data removed]",
      "text/plain": [
       "<Figure size 1440x576 with 1 Axes>"
      ]
     },
     "metadata": {
      "needs_background": "light"
     },
     "output_type": "display_data"
    }
   ],
   "source": [
    "jp_platform = data.query('2013 <= year_of_release <= 2016').groupby('platform')['jp_sales'].sum().sort_values(ascending=False).head(5)\n",
    "jp_platform.plot(x = 'platform', y = 'na_sales', kind = 'bar', figsize=(20,8), grid=True);\n",
    "plt.title('Топ 5 платформ в Японии');"
   ]
  },
  {
   "cell_type": "markdown",
   "metadata": {},
   "source": [
    "- Лидирующие платформы в Японии выглядят следующим образом"
   ]
  },
  {
   "cell_type": "code",
   "execution_count": 43,
   "metadata": {},
   "outputs": [
    {
     "name": "stdout",
     "output_type": "stream",
     "text": [
      "platform\n",
      "X360    59.692982\n",
      "XOne    58.448406\n",
      "PS3     34.999724\n",
      "PS4     34.615140\n",
      "3DS     26.666667\n",
      "dtype: float64\n"
     ]
    }
   ],
   "source": [
    "platform_all = data.query('2013 <= year_of_release <= 2016').groupby('platform')['sales_all'].sum()\n",
    "na_proc = na_platform / platform_all * 100\n",
    "print(na_proc.sort_values(ascending=False).head())"
   ]
  },
  {
   "cell_type": "code",
   "execution_count": 44,
   "metadata": {},
   "outputs": [
    {
     "name": "stdout",
     "output_type": "stream",
     "text": [
      "platform\n",
      "PS4     44.913096\n",
      "PS3     37.375296\n",
      "XOne    32.381371\n",
      "X360    31.081871\n",
      "3DS     21.612565\n",
      "dtype: float64\n"
     ]
    }
   ],
   "source": [
    "eu_proc = eu_platform / platform_all * 100\n",
    "print(eu_proc.sort_values(ascending=False).head())"
   ]
  },
  {
   "cell_type": "code",
   "execution_count": 45,
   "metadata": {},
   "outputs": [
    {
     "name": "stdout",
     "output_type": "stream",
     "text": [
      "platform\n",
      "PSV     56.350409\n",
      "3DS     47.336824\n",
      "WiiU    16.834287\n",
      "PS3     12.869977\n",
      "PS4      5.080537\n",
      "dtype: float64\n"
     ]
    }
   ],
   "source": [
    "jp_proc = jp_platform / platform_all * 100\n",
    "print(jp_proc.sort_values(ascending=False).head())"
   ]
  },
  {
   "cell_type": "markdown",
   "metadata": {},
   "source": [
    "- В Северной Америке любимой большинством игроков платформой является - X360, с небольшим отрывом от нее идет XOne с долями продаж 59% и 58% от общего кол-ва продаж по этой платформе, соответственно. Немного отстают PS3 и PS4.\n",
    "\n",
    "- В Европе преобладают продажи у платформ PS4 и PS3. Доля от общих продаж 44 и 37 % соответственно. Далее идут XOne и X360. Европейские игроки ведут себя зеркально Северно Американским.\n",
    "\n",
    "- В Японии лидирует PSV - портативная приставка, которую удобно носить с собой. Здесь для продаж игр для этой платформы составляет - 56% от общей суммы продаж. Далее идет платворма 3DS с долей в 47 процентов от общих продаж. WiiU -16% . А вот PS3 b PS4 не так популярны как в Европе и Америке, но ходят в топ 5 платформ."
   ]
  },
  {
   "cell_type": "markdown",
   "metadata": {},
   "source": [
    "### Определим популярные жанры по регионам"
   ]
  },
  {
   "cell_type": "code",
   "execution_count": 46,
   "metadata": {},
   "outputs": [
    {
     "data": {
      "image/png": "[encoded data removed]",
      "text/plain": [
       "<Figure size 1440x576 with 1 Axes>"
      ]
     },
     "metadata": {
      "needs_background": "light"
     },
     "output_type": "display_data"
    }
   ],
   "source": [
    "na_genre = data.groupby('genre')['na_sales'].sum().sort_values(ascending=False).head(5)\n",
    "na_genre.plot(x='genre', y='na_sales', kind ='bar', figsize=(20,8), grid=True);\n",
    "plt.title('Топ 5 жанров в Северной Америке');"
   ]
  },
  {
   "cell_type": "code",
   "execution_count": 47,
   "metadata": {},
   "outputs": [
    {
     "data": {
      "image/png": "[encoded data removed]",
      "text/plain": [
       "<Figure size 1440x576 with 1 Axes>"
      ]
     },
     "metadata": {
      "needs_background": "light"
     },
     "output_type": "display_data"
    }
   ],
   "source": [
    "eu_genre = data.query('2013 <= year_of_release <= 2016').groupby('genre')['eu_sales'].sum().sort_values(ascending=False).head(5)\n",
    "eu_genre.plot(x='genre', y='eu_sales', kind ='bar', figsize=(20,8), grid=True);\n",
    "plt.title('Топ 5 жанров в Европе');"
   ]
  },
  {
   "cell_type": "code",
   "execution_count": 48,
   "metadata": {},
   "outputs": [
    {
     "data": {
      "image/png": "[encoded data removed]",
      "text/plain": [
       "<Figure size 1440x576 with 1 Axes>"
      ]
     },
     "metadata": {
      "needs_background": "light"
     },
     "output_type": "display_data"
    }
   ],
   "source": [
    "jp_genre = data.query('2013 <= year_of_release <= 2016').groupby('genre')['jp_sales'].sum().sort_values(ascending=False).head(5)\n",
    "jp_genre.plot(x='genre', y='jp_sales', kind ='bar', figsize=(20,8), grid=True);\n",
    "plt.title('Топ 5 жанров в Японии');"
   ]
  },
  {
   "cell_type": "code",
   "execution_count": 49,
   "metadata": {},
   "outputs": [
    {
     "name": "stdout",
     "output_type": "stream",
     "text": [
      "genre\n",
      "Platform    1042.552193\n",
      "Misc         636.055396\n",
      "Sports       445.536011\n",
      "Action       268.173486\n",
      "Shooter      251.021547\n",
      "dtype: float64\n"
     ]
    }
   ],
   "source": [
    "genre_all = data.query('2013 <= year_of_release <= 2016').groupby('genre')['sales_all'].sum()\n",
    "na_gp = na_genre / genre_all * 100\n",
    "print(na_gp.sort_values(ascending=False).head())"
   ]
  },
  {
   "cell_type": "code",
   "execution_count": 50,
   "metadata": {},
   "outputs": [
    {
     "name": "stdout",
     "output_type": "stream",
     "text": [
      "genre\n",
      "Racing          50.614189\n",
      "Sports          40.172585\n",
      "Shooter         37.711392\n",
      "Action          36.701153\n",
      "Role-Playing    25.341010\n",
      "dtype: float64\n"
     ]
    }
   ],
   "source": [
    "eu_gp = eu_genre / genre_all * 100\n",
    "print(eu_gp.sort_values(ascending=False).head())"
   ]
  },
  {
   "cell_type": "code",
   "execution_count": 51,
   "metadata": {},
   "outputs": [
    {
     "name": "stdout",
     "output_type": "stream",
     "text": [
      "genre\n",
      "Role-Playing    34.985263\n",
      "Fighting        21.665251\n",
      "Misc            14.645018\n",
      "Action          12.579613\n",
      "Shooter          2.837153\n",
      "dtype: float64\n"
     ]
    }
   ],
   "source": [
    "jp_gp = jp_genre / genre_all * 100\n",
    "print(jp_gp.sort_values(ascending=False).head())"
   ]
  },
  {
   "cell_type": "markdown",
   "metadata": {},
   "source": [
    "- Игроки из Северной Америки предпочитают Платформеры, Музыкальные игры и Спортивные.\n",
    "- Игроки из Европы предпочитают Гонки, Спортивные игры и Шутеры.\n",
    "- Игроки из Японии предпочитают Ролевые игры, Файтинги и игры связанные с музыкой.\n",
    "- В каждом регионе ситуация с любимыми жанрами у игроков разнится."
   ]
  },
  {
   "cell_type": "markdown",
   "metadata": {},
   "source": [
    "### Оценим влияет ли рейтинг ESRB на продажи в отдельных регионах"
   ]
  },
  {
   "cell_type": "markdown",
   "metadata": {},
   "source": [
    "Entertainment Software Rating Board (ESRB) — негосударственная организация, основное направление деятельности — принятие и определение рейтингов для компьютерных видеоигр и другого развлекательного программного обеспечения в США и Канаде. ESRB была основана в 1994 году ассоциацией Interactive Digital Software Association (современное название — «Entertainment Software Association»)."
   ]
  },
  {
   "cell_type": "code",
   "execution_count": 52,
   "metadata": {},
   "outputs": [
    {
     "data": {
      "image/png": "[encoded data removed]",
      "text/plain": [
       "<Figure size 1440x576 with 1 Axes>"
      ]
     },
     "metadata": {
      "needs_background": "light"
     },
     "output_type": "display_data"
    }
   ],
   "source": [
    "na_rating = data.query('2013 <= year_of_release <= 2016').groupby('rating')['na_sales'].sum().sort_values(ascending=False)\n",
    "na_rating.plot(x = 'rating', y = 'na_sales', kind = 'bar', figsize=(20,8), grid=True);\n",
    "plt.title('Игры с данными рейтингами продаются чаще в Северной Америке');"
   ]
  },
  {
   "cell_type": "code",
   "execution_count": 53,
   "metadata": {},
   "outputs": [
    {
     "data": {
      "image/png": "[encoded data removed]",
      "text/plain": [
       "<Figure size 1440x576 with 1 Axes>"
      ]
     },
     "metadata": {
      "needs_background": "light"
     },
     "output_type": "display_data"
    }
   ],
   "source": [
    "eu_rating = data.query('2013 <= year_of_release <= 2016').groupby('rating')['eu_sales'].sum().sort_values(ascending=False)\n",
    "eu_rating.plot(x = 'rating', y = 'eu_sales', kind = 'bar', figsize=(20,8), grid=True);\n",
    "plt.title('Игры с данными рейтингами продаются чаще в Европе');"
   ]
  },
  {
   "cell_type": "code",
   "execution_count": 54,
   "metadata": {},
   "outputs": [
    {
     "data": {
      "image/png": "[encoded data removed]",
      "text/plain": [
       "<Figure size 1440x576 with 1 Axes>"
      ]
     },
     "metadata": {
      "needs_background": "light"
     },
     "output_type": "display_data"
    }
   ],
   "source": [
    "jp_rating = data.query('2013 <= year_of_release <= 2016').groupby('rating')['jp_sales'].sum().sort_values(ascending=False)\n",
    "jp_rating.plot(x = 'rating', y = 'jp_sales', kind = 'bar', figsize=(20,8), grid=True);\n",
    "plt.title('Игры с данными рейтингами продаются чаще в Японии');"
   ]
  },
  {
   "cell_type": "markdown",
   "metadata": {},
   "source": [
    "- В Северной Америке больше всего продаж у игр с рейтингом M («Для взрослых»: Материалы игры не подходят для подростков младше 17 лет.), следом идут игры, в которых жанры неопределенны и игры с рейтингом Е («Для всех»: Содержание вполне подходит для возрастной категории от 6 лет)\n",
    "- В Европе лидируют в  продажах игры с рейтингом M («Для взрослых»: Материалы игры не подходят для подростков младше 17 лет.), далее игры с рейтингом Е и игры в которых рейтинг не определен.\n",
    "- В Японии чаще других продаются игры с неопределенным рейтингом, далее по популярности жанр T («Подросткам»: Игра подходит для лиц от 13 лет) и E («Для всех»: Содержание вполне подходит для возрастной категории от 6 лет)\n",
    "- В общем и целом, топ 3 рейтинга во всех регионах похож, только в Японии немного выбивается из общей массы рейтинг Т."
   ]
  },
  {
   "cell_type": "markdown",
   "metadata": {},
   "source": [
    "## Проверим гипотезы"
   ]
  },
  {
   "cell_type": "markdown",
   "metadata": {},
   "source": [
    "### Средние пользовательские рейтинги платформ Xbox One и PC одинаковые"
   ]
  },
  {
   "cell_type": "markdown",
   "metadata": {},
   "source": [
    "- Для проверки гипотез буду использовать критерий Стьюдента так как для сравнения двух независимых выборок по заданной переменной - это наиболее удачный вариант так как:\n",
    "- Исходные данные имеют нормальное распределение,\n",
    "- Чаще всего применение t-критерия связано с проверкой равенства средних значений в двух выборках (как раз наш вариант).\n",
    "- Функция принимает две выборки данных в качестве аргументов и возвращает вычисленную статистику и значение p."
   ]
  },
  {
   "cell_type": "markdown",
   "metadata": {},
   "source": [
    "- Проверка гипотез начинается с формулировки нулевой гипотезы H₀ - средние пользовательские рейтинги у платформ одинаковые\n",
    "- Исходя из H₀ формулируется альтернативная гипотеза H₁ - средние пользовательские рейтинги у платформ разные"
   ]
  },
  {
   "cell_type": "code",
   "execution_count": 55,
   "metadata": {},
   "outputs": [
    {
     "name": "stdout",
     "output_type": "stream",
     "text": [
      "0.14759594013430463\n",
      "Не получилось отвергнуть нулевую гипотезу\n"
     ]
    }
   ],
   "source": [
    "from scipy import stats as st\n",
    "data_good = data.query('2013 <= year_of_release <= 2016')\n",
    "xbox_one_score = data_good.loc[(data_good['platform'] == 'XOne') & (data_good['user_score'] != -1), 'user_score'] \n",
    "pc_score = data_good.loc[(data_good['platform'] == 'PC') & (data_good['user_score'] != -1), 'user_score']\n",
    "\n",
    "results = st.ttest_ind(xbox_one_score,pc_score,equal_var=False)\n",
    "alpha = 0.05 \n",
    "print(results.pvalue)  \n",
    "if results.pvalue < alpha: \n",
    "    print(\"Отвергаем нулевую гипотезу\")\n",
    "else:\n",
    "    print(\"Не получилось отвергнуть нулевую гипотезу\") "
   ]
  },
  {
   "cell_type": "markdown",
   "metadata": {},
   "source": [
    "### Средние пользовательские рейтинги жанров Action и Sports разные"
   ]
  },
  {
   "cell_type": "markdown",
   "metadata": {},
   "source": [
    "- H₀ - средние пользовательские рейтинги у жанров Экшен и Спорт одинаковые\n",
    "- H₁ - средние пользовательские рейтинги у жанров Экшен и Спорт разные"
   ]
  },
  {
   "cell_type": "code",
   "execution_count": 56,
   "metadata": {},
   "outputs": [
    {
     "name": "stdout",
     "output_type": "stream",
     "text": [
      "p-значение: 1.4460039700704315e-20\n",
      "Отвергаем нулевую гипотезу\n"
     ]
    }
   ],
   "source": [
    "games_action = data_good.loc[(data_good['user_score'] != -1) & (data_good['genre'] == \"Action\")]\n",
    "games_sports = data_good.loc[(data_good['user_score'] != -1) & (data_good['genre'] == \"Sports\")]\n",
    "action = games_action['user_score']\n",
    "sports = games_sports['user_score']\n",
    "results = st.ttest_ind(action, sports, equal_var=False)\n",
    "alpha = 0.05\n",
    "\n",
    "print('p-значение:', results.pvalue)\n",
    "if (results.pvalue < alpha):\n",
    "    print(\"Отвергаем нулевую гипотезу\")\n",
    "else:\n",
    "    print(\"Не получилось отвергнуть нулевую гипотезу\")"
   ]
  },
  {
   "cell_type": "markdown",
   "metadata": {},
   "source": [
    "- Первая гипотеза о том, что средние пользовательские рейтинги платформ Xbox One и PC одинаковые - подтвердилась.\n",
    "- Вторая гипотеза о том, что Средние пользовательские рейтинги жанров Action и Sports разные - не подтвердщилась."
   ]
  },
  {
   "cell_type": "markdown",
   "metadata": {},
   "source": [
    "## Общий вывод"
   ]
  },
  {
   "cell_type": "markdown",
   "metadata": {},
   "source": [
    "- По ходу выполнения данного проекта, мы узнали много нового о том, как выглядит среднестатистический игрок в разных регионах, какие жарнры и рейтинги игр наиболее популярны. Узнали популярные платформы, общую динамику продаж игр. На основе всех полученных данных можем построить прогноз на следующий год. \n",
    "- За актуальные период для анализа я взяла период с 2013 по 2016 года. В этом временном промежутке выделила две самые популярные платформы - PS4 и XOne, как потенциально прибыльные на 2017 год. \n",
    "- Прогноз для Северной Америки на 2017 год выглядит следующим образом: платформа - X360/XOne, жанры - платформеры, музыкальные и спортивные игры, рейтинг - M, игры где рейтинг не определен.\n",
    "- Прогноз для Европы на 2017 год выглядит следующим образом: платформа - PS4, жанры - гонки, спортивные игры и шутеры, рейтинг -M, Е.\n",
    "- Прогноз для Японии на 2017 год выглядит следующим образом: платформа - PSV, жанры - ролевые игры, файтинги и музыкальные игры, рейтинг - рейинг не определен, Т.\n",
    "- Так же, мы проверили две гипотезы: \"средние пользовательские рейтинги платформ XOne и PC одинаковые\", которая подтвердилась, что говорит о том, что рейтинги и правда одинаковые. И \"средние пользовательские рейтинги жанров Action и Sports разные\". Эта гипотеза не подтвердилась что говорит о том, что средние пользовательские рейтинги по  данным жанрам разные."
   ]
  },
  {
   "cell_type": "code",
   "execution_count": null,
   "metadata": {},
   "outputs": [],
   "source": []
  }
 ],
 "metadata": {
  "ExecuteTimeLog": [
   {
    "duration": 74,
    "start_time": "2022-11-01T16:02:53.873Z"
   },
   {
    "duration": 723,
    "start_time": "2022-11-01T16:03:02.250Z"
   },
   {
    "duration": 3,
    "start_time": "2022-11-01T16:03:06.232Z"
   },
   {
    "duration": 77,
    "start_time": "2022-11-01T16:04:39.940Z"
   },
   {
    "duration": 472,
    "start_time": "2022-11-01T16:05:47.330Z"
   },
   {
    "duration": 17,
    "start_time": "2022-11-01T16:06:08.742Z"
   },
   {
    "duration": 14,
    "start_time": "2022-11-01T16:06:39.724Z"
   },
   {
    "duration": 15,
    "start_time": "2022-11-01T16:09:13.955Z"
   },
   {
    "duration": 12,
    "start_time": "2022-11-01T16:09:16.582Z"
   },
   {
    "duration": 683,
    "start_time": "2022-11-01T16:11:49.081Z"
   },
   {
    "duration": 687,
    "start_time": "2022-11-01T16:11:58.232Z"
   },
   {
    "duration": 4,
    "start_time": "2022-11-01T16:30:59.705Z"
   },
   {
    "duration": 4,
    "start_time": "2022-11-01T16:36:12.674Z"
   },
   {
    "duration": 283,
    "start_time": "2022-11-01T16:38:38.088Z"
   },
   {
    "duration": 9,
    "start_time": "2022-11-01T16:39:00.554Z"
   },
   {
    "duration": 284,
    "start_time": "2022-11-01T16:39:47.439Z"
   },
   {
    "duration": 9,
    "start_time": "2022-11-01T16:50:20.302Z"
   },
   {
    "duration": 11,
    "start_time": "2022-11-01T16:53:52.016Z"
   },
   {
    "duration": 28,
    "start_time": "2022-11-01T17:00:45.166Z"
   },
   {
    "duration": 36,
    "start_time": "2022-11-01T18:18:35.592Z"
   },
   {
    "duration": 786,
    "start_time": "2022-11-02T06:07:01.229Z"
   },
   {
    "duration": 518,
    "start_time": "2022-11-02T06:07:02.018Z"
   },
   {
    "duration": 20,
    "start_time": "2022-11-02T06:07:02.538Z"
   },
   {
    "duration": 50,
    "start_time": "2022-11-02T06:07:02.559Z"
   },
   {
    "duration": 712,
    "start_time": "2022-11-02T06:07:02.611Z"
   },
   {
    "duration": 4,
    "start_time": "2022-11-02T06:07:03.324Z"
   },
   {
    "duration": 46,
    "start_time": "2022-11-02T06:07:03.330Z"
   },
   {
    "duration": 18,
    "start_time": "2022-11-02T06:07:03.378Z"
   },
   {
    "duration": 21,
    "start_time": "2022-11-02T06:07:03.398Z"
   },
   {
    "duration": 23,
    "start_time": "2022-11-02T06:07:03.421Z"
   },
   {
    "duration": 88,
    "start_time": "2022-11-02T07:48:07.192Z"
   },
   {
    "duration": 10,
    "start_time": "2022-11-02T07:48:29.931Z"
   },
   {
    "duration": 17,
    "start_time": "2022-11-02T07:48:37.272Z"
   },
   {
    "duration": 182,
    "start_time": "2022-11-02T07:49:18.448Z"
   },
   {
    "duration": 11,
    "start_time": "2022-11-02T07:52:09.696Z"
   },
   {
    "duration": 9,
    "start_time": "2022-11-02T08:25:46.275Z"
   },
   {
    "duration": 18,
    "start_time": "2022-11-02T08:26:07.759Z"
   },
   {
    "duration": 226,
    "start_time": "2022-11-02T08:26:14.067Z"
   },
   {
    "duration": 4,
    "start_time": "2022-11-02T08:26:25.474Z"
   },
   {
    "duration": 189,
    "start_time": "2022-11-02T08:26:28.695Z"
   },
   {
    "duration": 620,
    "start_time": "2022-11-02T08:26:34.913Z"
   },
   {
    "duration": 54,
    "start_time": "2022-11-02T08:26:35.535Z"
   },
   {
    "duration": 19,
    "start_time": "2022-11-02T08:26:35.590Z"
   },
   {
    "duration": 14,
    "start_time": "2022-11-02T08:26:35.611Z"
   },
   {
    "duration": 709,
    "start_time": "2022-11-02T08:26:35.627Z"
   },
   {
    "duration": 4,
    "start_time": "2022-11-02T08:26:36.338Z"
   },
   {
    "duration": 5,
    "start_time": "2022-11-02T08:26:36.344Z"
   },
   {
    "duration": 9,
    "start_time": "2022-11-02T08:26:36.351Z"
   },
   {
    "duration": 14,
    "start_time": "2022-11-02T08:26:36.361Z"
   },
   {
    "duration": 34,
    "start_time": "2022-11-02T08:26:36.377Z"
   },
   {
    "duration": 5,
    "start_time": "2022-11-02T08:26:36.413Z"
   },
   {
    "duration": 277,
    "start_time": "2022-11-02T08:26:36.420Z"
   },
   {
    "duration": 18,
    "start_time": "2022-11-02T08:26:56.304Z"
   },
   {
    "duration": 292,
    "start_time": "2022-11-02T08:27:04.558Z"
   },
   {
    "duration": 5,
    "start_time": "2022-11-02T08:28:34.206Z"
   },
   {
    "duration": 16,
    "start_time": "2022-11-02T08:28:47.170Z"
   },
   {
    "duration": 269,
    "start_time": "2022-11-02T08:28:55.174Z"
   },
   {
    "duration": 5,
    "start_time": "2022-11-02T09:12:45.948Z"
   },
   {
    "duration": 8,
    "start_time": "2022-11-02T09:13:16.475Z"
   },
   {
    "duration": 7,
    "start_time": "2022-11-02T09:13:25.035Z"
   },
   {
    "duration": 11,
    "start_time": "2022-11-02T09:14:11.814Z"
   },
   {
    "duration": 10,
    "start_time": "2022-11-02T09:14:33.118Z"
   },
   {
    "duration": 12,
    "start_time": "2022-11-02T10:35:31.679Z"
   },
   {
    "duration": 593,
    "start_time": "2022-11-02T10:35:38.930Z"
   },
   {
    "duration": 51,
    "start_time": "2022-11-02T10:35:39.525Z"
   },
   {
    "duration": 20,
    "start_time": "2022-11-02T10:35:39.578Z"
   },
   {
    "duration": 19,
    "start_time": "2022-11-02T10:35:39.601Z"
   },
   {
    "duration": 731,
    "start_time": "2022-11-02T10:35:39.622Z"
   },
   {
    "duration": 4,
    "start_time": "2022-11-02T10:35:40.355Z"
   },
   {
    "duration": 6,
    "start_time": "2022-11-02T10:35:40.360Z"
   },
   {
    "duration": 11,
    "start_time": "2022-11-02T10:35:40.368Z"
   },
   {
    "duration": 13,
    "start_time": "2022-11-02T10:35:40.380Z"
   },
   {
    "duration": 15,
    "start_time": "2022-11-02T10:35:40.410Z"
   },
   {
    "duration": 7,
    "start_time": "2022-11-02T10:35:40.427Z"
   },
   {
    "duration": 11,
    "start_time": "2022-11-02T10:35:40.435Z"
   },
   {
    "duration": 106,
    "start_time": "2022-11-02T10:35:40.448Z"
   },
   {
    "duration": 12,
    "start_time": "2022-11-02T10:36:29.937Z"
   },
   {
    "duration": 12,
    "start_time": "2022-11-02T10:37:07.410Z"
   },
   {
    "duration": 5,
    "start_time": "2022-11-02T10:37:13.007Z"
   },
   {
    "duration": 4,
    "start_time": "2022-11-02T10:54:02.363Z"
   },
   {
    "duration": 12,
    "start_time": "2022-11-02T10:57:04.578Z"
   },
   {
    "duration": 4,
    "start_time": "2022-11-02T10:57:19.678Z"
   },
   {
    "duration": 12,
    "start_time": "2022-11-02T10:57:35.429Z"
   },
   {
    "duration": 49,
    "start_time": "2022-11-02T16:10:52.801Z"
   },
   {
    "duration": 789,
    "start_time": "2022-11-02T16:11:01.690Z"
   },
   {
    "duration": 105,
    "start_time": "2022-11-02T16:11:02.482Z"
   },
   {
    "duration": 21,
    "start_time": "2022-11-02T16:11:02.589Z"
   },
   {
    "duration": 14,
    "start_time": "2022-11-02T16:11:02.612Z"
   },
   {
    "duration": 761,
    "start_time": "2022-11-02T16:11:02.628Z"
   },
   {
    "duration": 5,
    "start_time": "2022-11-02T16:11:03.391Z"
   },
   {
    "duration": 7,
    "start_time": "2022-11-02T16:11:03.398Z"
   },
   {
    "duration": 10,
    "start_time": "2022-11-02T16:11:03.406Z"
   },
   {
    "duration": 10,
    "start_time": "2022-11-02T16:11:03.417Z"
   },
   {
    "duration": 16,
    "start_time": "2022-11-02T16:11:03.428Z"
   },
   {
    "duration": 32,
    "start_time": "2022-11-02T16:11:03.445Z"
   },
   {
    "duration": 9,
    "start_time": "2022-11-02T16:11:03.479Z"
   },
   {
    "duration": 5,
    "start_time": "2022-11-02T16:11:03.489Z"
   },
   {
    "duration": 11,
    "start_time": "2022-11-02T16:11:03.496Z"
   },
   {
    "duration": 3,
    "start_time": "2022-11-02T16:11:03.509Z"
   },
   {
    "duration": 14,
    "start_time": "2022-11-02T16:11:03.513Z"
   },
   {
    "duration": 12,
    "start_time": "2022-11-02T16:11:03.528Z"
   },
   {
    "duration": 12,
    "start_time": "2022-11-02T16:12:10.077Z"
   },
   {
    "duration": 11,
    "start_time": "2022-11-02T16:42:01.495Z"
   },
   {
    "duration": 4,
    "start_time": "2022-11-02T17:03:37.478Z"
   },
   {
    "duration": 11,
    "start_time": "2022-11-02T17:03:45.456Z"
   },
   {
    "duration": 596,
    "start_time": "2022-11-02T17:04:07.121Z"
   },
   {
    "duration": 51,
    "start_time": "2022-11-02T17:04:07.718Z"
   },
   {
    "duration": 21,
    "start_time": "2022-11-02T17:04:07.771Z"
   },
   {
    "duration": 14,
    "start_time": "2022-11-02T17:04:07.794Z"
   },
   {
    "duration": 749,
    "start_time": "2022-11-02T17:04:07.810Z"
   },
   {
    "duration": 4,
    "start_time": "2022-11-02T17:04:08.562Z"
   },
   {
    "duration": 3,
    "start_time": "2022-11-02T17:04:08.576Z"
   },
   {
    "duration": 10,
    "start_time": "2022-11-02T17:04:08.581Z"
   },
   {
    "duration": 11,
    "start_time": "2022-11-02T17:04:08.593Z"
   },
   {
    "duration": 15,
    "start_time": "2022-11-02T17:04:08.607Z"
   },
   {
    "duration": 8,
    "start_time": "2022-11-02T17:04:08.623Z"
   },
   {
    "duration": 12,
    "start_time": "2022-11-02T17:04:08.632Z"
   },
   {
    "duration": 4,
    "start_time": "2022-11-02T17:04:08.645Z"
   },
   {
    "duration": 10,
    "start_time": "2022-11-02T17:04:08.677Z"
   },
   {
    "duration": 4,
    "start_time": "2022-11-02T17:04:08.689Z"
   },
   {
    "duration": 15,
    "start_time": "2022-11-02T17:04:08.695Z"
   },
   {
    "duration": 10,
    "start_time": "2022-11-02T17:04:08.712Z"
   },
   {
    "duration": 4,
    "start_time": "2022-11-02T17:04:08.723Z"
   },
   {
    "duration": 15,
    "start_time": "2022-11-02T17:04:08.729Z"
   },
   {
    "duration": 12,
    "start_time": "2022-11-02T17:04:08.777Z"
   },
   {
    "duration": 45,
    "start_time": "2022-11-03T07:55:49.284Z"
   },
   {
    "duration": 986,
    "start_time": "2022-11-03T07:55:52.905Z"
   },
   {
    "duration": 95,
    "start_time": "2022-11-03T07:55:53.893Z"
   },
   {
    "duration": 18,
    "start_time": "2022-11-03T07:55:53.989Z"
   },
   {
    "duration": 23,
    "start_time": "2022-11-03T07:55:54.009Z"
   },
   {
    "duration": 656,
    "start_time": "2022-11-03T07:55:54.034Z"
   },
   {
    "duration": 3,
    "start_time": "2022-11-03T07:55:54.692Z"
   },
   {
    "duration": 12,
    "start_time": "2022-11-03T07:55:54.697Z"
   },
   {
    "duration": 27,
    "start_time": "2022-11-03T07:55:54.710Z"
   },
   {
    "duration": 22,
    "start_time": "2022-11-03T07:55:54.739Z"
   },
   {
    "duration": 51,
    "start_time": "2022-11-03T07:55:54.764Z"
   },
   {
    "duration": 9,
    "start_time": "2022-11-03T07:55:54.816Z"
   },
   {
    "duration": 21,
    "start_time": "2022-11-03T07:55:54.826Z"
   },
   {
    "duration": 4,
    "start_time": "2022-11-03T07:55:54.848Z"
   },
   {
    "duration": 78,
    "start_time": "2022-11-03T07:55:54.854Z"
   },
   {
    "duration": 3,
    "start_time": "2022-11-03T07:55:54.934Z"
   },
   {
    "duration": 16,
    "start_time": "2022-11-03T07:55:54.939Z"
   },
   {
    "duration": 9,
    "start_time": "2022-11-03T07:55:54.956Z"
   },
   {
    "duration": 4,
    "start_time": "2022-11-03T07:55:54.966Z"
   },
   {
    "duration": 14,
    "start_time": "2022-11-03T07:55:54.971Z"
   },
   {
    "duration": 11,
    "start_time": "2022-11-03T07:55:54.986Z"
   },
   {
    "duration": 5,
    "start_time": "2022-11-03T07:55:55.022Z"
   },
   {
    "duration": 17,
    "start_time": "2022-11-03T07:56:31.831Z"
   },
   {
    "duration": 5,
    "start_time": "2022-11-03T07:59:32.935Z"
   },
   {
    "duration": 619,
    "start_time": "2022-11-03T07:59:40.595Z"
   },
   {
    "duration": 53,
    "start_time": "2022-11-03T07:59:41.216Z"
   },
   {
    "duration": 19,
    "start_time": "2022-11-03T07:59:41.270Z"
   },
   {
    "duration": 14,
    "start_time": "2022-11-03T07:59:41.291Z"
   },
   {
    "duration": 746,
    "start_time": "2022-11-03T07:59:41.306Z"
   },
   {
    "duration": 4,
    "start_time": "2022-11-03T07:59:42.054Z"
   },
   {
    "duration": 12,
    "start_time": "2022-11-03T07:59:42.060Z"
   },
   {
    "duration": 30,
    "start_time": "2022-11-03T07:59:42.073Z"
   },
   {
    "duration": 22,
    "start_time": "2022-11-03T07:59:42.105Z"
   },
   {
    "duration": 34,
    "start_time": "2022-11-03T07:59:42.130Z"
   },
   {
    "duration": 13,
    "start_time": "2022-11-03T07:59:42.166Z"
   },
   {
    "duration": 27,
    "start_time": "2022-11-03T07:59:42.180Z"
   },
   {
    "duration": 13,
    "start_time": "2022-11-03T07:59:42.209Z"
   },
   {
    "duration": 41,
    "start_time": "2022-11-03T07:59:42.224Z"
   },
   {
    "duration": 10,
    "start_time": "2022-11-03T07:59:42.267Z"
   },
   {
    "duration": 27,
    "start_time": "2022-11-03T07:59:42.278Z"
   },
   {
    "duration": 21,
    "start_time": "2022-11-03T07:59:42.307Z"
   },
   {
    "duration": 15,
    "start_time": "2022-11-03T07:59:42.330Z"
   },
   {
    "duration": 29,
    "start_time": "2022-11-03T07:59:42.347Z"
   },
   {
    "duration": 29,
    "start_time": "2022-11-03T07:59:42.377Z"
   },
   {
    "duration": 13,
    "start_time": "2022-11-03T07:59:42.408Z"
   },
   {
    "duration": 37,
    "start_time": "2022-11-03T07:59:42.424Z"
   },
   {
    "duration": 9,
    "start_time": "2022-11-03T11:26:04.149Z"
   },
   {
    "duration": 181,
    "start_time": "2022-11-03T11:26:13.233Z"
   },
   {
    "duration": 10,
    "start_time": "2022-11-03T11:26:38.593Z"
   },
   {
    "duration": 558,
    "start_time": "2022-11-03T11:26:51.617Z"
   },
   {
    "duration": 479,
    "start_time": "2022-11-03T11:27:12.788Z"
   },
   {
    "duration": 583,
    "start_time": "2022-11-03T11:27:17.128Z"
   },
   {
    "duration": 46,
    "start_time": "2022-11-03T11:28:14.541Z"
   },
   {
    "duration": 64,
    "start_time": "2022-11-03T11:28:48.368Z"
   },
   {
    "duration": 9,
    "start_time": "2022-11-03T12:46:56.981Z"
   },
   {
    "duration": 9,
    "start_time": "2022-11-03T12:47:02.281Z"
   },
   {
    "duration": 604,
    "start_time": "2022-11-03T12:47:07.405Z"
   },
   {
    "duration": 51,
    "start_time": "2022-11-03T12:47:08.011Z"
   },
   {
    "duration": 18,
    "start_time": "2022-11-03T12:47:08.064Z"
   },
   {
    "duration": 12,
    "start_time": "2022-11-03T12:47:08.084Z"
   },
   {
    "duration": 666,
    "start_time": "2022-11-03T12:47:08.098Z"
   },
   {
    "duration": 4,
    "start_time": "2022-11-03T12:47:08.766Z"
   },
   {
    "duration": 9,
    "start_time": "2022-11-03T12:47:08.771Z"
   },
   {
    "duration": 14,
    "start_time": "2022-11-03T12:47:08.782Z"
   },
   {
    "duration": 15,
    "start_time": "2022-11-03T12:47:08.798Z"
   },
   {
    "duration": 14,
    "start_time": "2022-11-03T12:47:08.824Z"
   },
   {
    "duration": 12,
    "start_time": "2022-11-03T12:47:08.839Z"
   },
   {
    "duration": 29,
    "start_time": "2022-11-03T12:47:08.853Z"
   },
   {
    "duration": 6,
    "start_time": "2022-11-03T12:47:08.884Z"
   },
   {
    "duration": 25,
    "start_time": "2022-11-03T12:47:08.892Z"
   },
   {
    "duration": 5,
    "start_time": "2022-11-03T12:47:08.919Z"
   },
   {
    "duration": 45,
    "start_time": "2022-11-03T12:47:08.926Z"
   },
   {
    "duration": 27,
    "start_time": "2022-11-03T12:47:08.973Z"
   },
   {
    "duration": 35,
    "start_time": "2022-11-03T12:47:09.002Z"
   },
   {
    "duration": 32,
    "start_time": "2022-11-03T12:47:09.039Z"
   },
   {
    "duration": 30,
    "start_time": "2022-11-03T12:47:09.073Z"
   },
   {
    "duration": 10,
    "start_time": "2022-11-03T12:47:09.105Z"
   },
   {
    "duration": 26,
    "start_time": "2022-11-03T12:47:09.117Z"
   },
   {
    "duration": 6,
    "start_time": "2022-11-03T12:47:09.145Z"
   },
   {
    "duration": 156,
    "start_time": "2022-11-03T12:47:09.153Z"
   },
   {
    "duration": 15,
    "start_time": "2022-11-03T12:47:09.311Z"
   },
   {
    "duration": 624,
    "start_time": "2022-11-03T12:47:09.328Z"
   },
   {
    "duration": 458,
    "start_time": "2022-11-03T12:47:09.954Z"
   },
   {
    "duration": 7,
    "start_time": "2022-11-03T12:50:43.363Z"
   },
   {
    "duration": 74,
    "start_time": "2022-11-03T12:51:27.855Z"
   },
   {
    "duration": 12,
    "start_time": "2022-11-03T12:51:39.900Z"
   },
   {
    "duration": 7,
    "start_time": "2022-11-03T12:52:05.312Z"
   },
   {
    "duration": 8,
    "start_time": "2022-11-03T12:52:42.220Z"
   },
   {
    "duration": 7,
    "start_time": "2022-11-03T12:55:50.571Z"
   },
   {
    "duration": 7,
    "start_time": "2022-11-03T12:56:22.531Z"
   },
   {
    "duration": 11,
    "start_time": "2022-11-03T13:00:27.698Z"
   },
   {
    "duration": 8,
    "start_time": "2022-11-03T13:01:36.854Z"
   },
   {
    "duration": 14,
    "start_time": "2022-11-03T13:01:57.446Z"
   },
   {
    "duration": 19,
    "start_time": "2022-11-03T13:06:45.273Z"
   },
   {
    "duration": 19,
    "start_time": "2022-11-03T13:31:02.355Z"
   },
   {
    "duration": 8,
    "start_time": "2022-11-03T13:38:09.833Z"
   },
   {
    "duration": 10,
    "start_time": "2022-11-03T13:40:03.716Z"
   },
   {
    "duration": 8,
    "start_time": "2022-11-03T13:40:34.320Z"
   },
   {
    "duration": 12,
    "start_time": "2022-11-03T13:40:51.032Z"
   },
   {
    "duration": 8,
    "start_time": "2022-11-03T13:40:58.119Z"
   },
   {
    "duration": 9,
    "start_time": "2022-11-03T13:41:33.387Z"
   },
   {
    "duration": 13,
    "start_time": "2022-11-03T13:41:41.464Z"
   },
   {
    "duration": 9,
    "start_time": "2022-11-03T13:42:10.728Z"
   },
   {
    "duration": 9,
    "start_time": "2022-11-03T13:42:26.308Z"
   },
   {
    "duration": 9,
    "start_time": "2022-11-03T13:48:46.865Z"
   },
   {
    "duration": 10,
    "start_time": "2022-11-03T13:49:28.893Z"
   },
   {
    "duration": 8,
    "start_time": "2022-11-03T13:49:43.409Z"
   },
   {
    "duration": 581,
    "start_time": "2022-11-03T13:49:49.629Z"
   },
   {
    "duration": 52,
    "start_time": "2022-11-03T13:49:50.211Z"
   },
   {
    "duration": 18,
    "start_time": "2022-11-03T13:49:50.264Z"
   },
   {
    "duration": 13,
    "start_time": "2022-11-03T13:49:50.284Z"
   },
   {
    "duration": 726,
    "start_time": "2022-11-03T13:49:50.299Z"
   },
   {
    "duration": 4,
    "start_time": "2022-11-03T13:49:51.026Z"
   },
   {
    "duration": 30,
    "start_time": "2022-11-03T13:49:51.031Z"
   },
   {
    "duration": 19,
    "start_time": "2022-11-03T13:49:51.063Z"
   },
   {
    "duration": 18,
    "start_time": "2022-11-03T13:49:51.084Z"
   },
   {
    "duration": 19,
    "start_time": "2022-11-03T13:49:51.104Z"
   },
   {
    "duration": 10,
    "start_time": "2022-11-03T13:49:51.124Z"
   },
   {
    "duration": 28,
    "start_time": "2022-11-03T13:49:51.135Z"
   },
   {
    "duration": 6,
    "start_time": "2022-11-03T13:49:51.164Z"
   },
   {
    "duration": 11,
    "start_time": "2022-11-03T13:49:51.171Z"
   },
   {
    "duration": 3,
    "start_time": "2022-11-03T13:49:51.184Z"
   },
   {
    "duration": 23,
    "start_time": "2022-11-03T13:49:51.188Z"
   },
   {
    "duration": 9,
    "start_time": "2022-11-03T13:49:51.213Z"
   },
   {
    "duration": 6,
    "start_time": "2022-11-03T13:49:51.223Z"
   },
   {
    "duration": 22,
    "start_time": "2022-11-03T13:49:51.231Z"
   },
   {
    "duration": 14,
    "start_time": "2022-11-03T13:49:51.254Z"
   },
   {
    "duration": 7,
    "start_time": "2022-11-03T13:49:51.270Z"
   },
   {
    "duration": 20,
    "start_time": "2022-11-03T13:49:51.279Z"
   },
   {
    "duration": 5,
    "start_time": "2022-11-03T13:49:51.300Z"
   },
   {
    "duration": 167,
    "start_time": "2022-11-03T13:49:51.306Z"
   },
   {
    "duration": 9,
    "start_time": "2022-11-03T13:49:51.475Z"
   },
   {
    "duration": 9,
    "start_time": "2022-11-03T13:49:51.485Z"
   },
   {
    "duration": 641,
    "start_time": "2022-11-03T13:49:51.496Z"
   },
   {
    "duration": 464,
    "start_time": "2022-11-03T13:49:52.141Z"
   },
   {
    "duration": 84,
    "start_time": "2022-11-05T18:31:33.319Z"
   },
   {
    "duration": 79,
    "start_time": "2022-11-05T18:31:58.066Z"
   },
   {
    "duration": 87,
    "start_time": "2022-11-05T18:32:23.373Z"
   },
   {
    "duration": 44,
    "start_time": "2022-11-05T18:38:19.068Z"
   },
   {
    "duration": 777,
    "start_time": "2022-11-05T18:38:29.355Z"
   },
   {
    "duration": 473,
    "start_time": "2022-11-05T18:38:30.134Z"
   },
   {
    "duration": 19,
    "start_time": "2022-11-05T18:38:30.609Z"
   },
   {
    "duration": 32,
    "start_time": "2022-11-05T18:38:30.630Z"
   },
   {
    "duration": 685,
    "start_time": "2022-11-05T18:38:30.664Z"
   },
   {
    "duration": 4,
    "start_time": "2022-11-05T18:38:31.351Z"
   },
   {
    "duration": 14,
    "start_time": "2022-11-05T18:38:31.357Z"
   },
   {
    "duration": 25,
    "start_time": "2022-11-05T18:38:31.373Z"
   },
   {
    "duration": 9,
    "start_time": "2022-11-05T18:38:31.400Z"
   },
   {
    "duration": 14,
    "start_time": "2022-11-05T18:38:31.412Z"
   },
   {
    "duration": 11,
    "start_time": "2022-11-05T18:38:31.427Z"
   },
   {
    "duration": 10,
    "start_time": "2022-11-05T18:38:31.439Z"
   },
   {
    "duration": 6,
    "start_time": "2022-11-05T18:38:31.451Z"
   },
   {
    "duration": 24,
    "start_time": "2022-11-05T18:38:31.458Z"
   },
   {
    "duration": 4,
    "start_time": "2022-11-05T18:38:31.487Z"
   },
   {
    "duration": 16,
    "start_time": "2022-11-05T18:38:31.492Z"
   },
   {
    "duration": 8,
    "start_time": "2022-11-05T18:38:31.509Z"
   },
   {
    "duration": 4,
    "start_time": "2022-11-05T18:38:31.518Z"
   },
   {
    "duration": 13,
    "start_time": "2022-11-05T18:38:31.524Z"
   },
   {
    "duration": 12,
    "start_time": "2022-11-05T18:38:31.538Z"
   },
   {
    "duration": 12,
    "start_time": "2022-11-05T18:38:31.552Z"
   },
   {
    "duration": 25,
    "start_time": "2022-11-05T18:38:31.565Z"
   },
   {
    "duration": 5,
    "start_time": "2022-11-05T18:38:31.595Z"
   },
   {
    "duration": 140,
    "start_time": "2022-11-05T18:38:31.601Z"
   },
   {
    "duration": 9,
    "start_time": "2022-11-05T18:38:31.742Z"
   },
   {
    "duration": 7,
    "start_time": "2022-11-05T18:38:31.752Z"
   },
   {
    "duration": 630,
    "start_time": "2022-11-05T18:38:31.760Z"
   },
   {
    "duration": 469,
    "start_time": "2022-11-05T18:38:32.393Z"
   },
   {
    "duration": 461,
    "start_time": "2022-11-05T18:39:57.002Z"
   },
   {
    "duration": 454,
    "start_time": "2022-11-05T18:40:18.561Z"
   },
   {
    "duration": 135,
    "start_time": "2022-11-05T18:41:26.668Z"
   },
   {
    "duration": 535,
    "start_time": "2022-11-05T18:41:33.053Z"
   },
   {
    "duration": 475,
    "start_time": "2022-11-05T18:43:59.353Z"
   },
   {
    "duration": 554,
    "start_time": "2022-11-05T18:46:37.653Z"
   },
   {
    "duration": 727,
    "start_time": "2022-11-06T08:41:00.061Z"
   },
   {
    "duration": 219,
    "start_time": "2022-11-06T08:41:00.790Z"
   },
   {
    "duration": 19,
    "start_time": "2022-11-06T08:41:01.011Z"
   },
   {
    "duration": 39,
    "start_time": "2022-11-06T08:41:01.031Z"
   },
   {
    "duration": 725,
    "start_time": "2022-11-06T08:41:01.073Z"
   },
   {
    "duration": 4,
    "start_time": "2022-11-06T08:41:01.800Z"
   },
   {
    "duration": 15,
    "start_time": "2022-11-06T08:41:01.806Z"
   },
   {
    "duration": 22,
    "start_time": "2022-11-06T08:41:01.823Z"
   },
   {
    "duration": 38,
    "start_time": "2022-11-06T08:41:01.846Z"
   },
   {
    "duration": 33,
    "start_time": "2022-11-06T08:41:01.886Z"
   },
   {
    "duration": 31,
    "start_time": "2022-11-06T08:41:01.921Z"
   },
   {
    "duration": 21,
    "start_time": "2022-11-06T08:41:01.954Z"
   },
   {
    "duration": 23,
    "start_time": "2022-11-06T08:41:01.976Z"
   },
   {
    "duration": 33,
    "start_time": "2022-11-06T08:41:02.001Z"
   },
   {
    "duration": 16,
    "start_time": "2022-11-06T08:41:02.036Z"
   },
   {
    "duration": 30,
    "start_time": "2022-11-06T08:41:02.054Z"
   },
   {
    "duration": 18,
    "start_time": "2022-11-06T08:41:02.086Z"
   },
   {
    "duration": 28,
    "start_time": "2022-11-06T08:41:02.105Z"
   },
   {
    "duration": 26,
    "start_time": "2022-11-06T08:41:02.135Z"
   },
   {
    "duration": 26,
    "start_time": "2022-11-06T08:41:02.163Z"
   },
   {
    "duration": 7,
    "start_time": "2022-11-06T08:41:02.191Z"
   },
   {
    "duration": 38,
    "start_time": "2022-11-06T08:41:02.199Z"
   },
   {
    "duration": 23,
    "start_time": "2022-11-06T08:41:02.238Z"
   },
   {
    "duration": 176,
    "start_time": "2022-11-06T08:41:02.263Z"
   },
   {
    "duration": 10,
    "start_time": "2022-11-06T08:41:02.440Z"
   },
   {
    "duration": 44,
    "start_time": "2022-11-06T08:41:02.451Z"
   },
   {
    "duration": 667,
    "start_time": "2022-11-06T08:41:02.497Z"
   },
   {
    "duration": 525,
    "start_time": "2022-11-06T08:41:03.166Z"
   },
   {
    "duration": 68,
    "start_time": "2022-11-06T08:45:30.172Z"
   },
   {
    "duration": 571,
    "start_time": "2022-11-06T08:47:22.496Z"
   },
   {
    "duration": 1143,
    "start_time": "2022-11-06T08:47:26.074Z"
   },
   {
    "duration": 61,
    "start_time": "2022-11-06T08:47:27.219Z"
   },
   {
    "duration": 18,
    "start_time": "2022-11-06T08:47:27.281Z"
   },
   {
    "duration": 12,
    "start_time": "2022-11-06T08:47:27.300Z"
   },
   {
    "duration": 767,
    "start_time": "2022-11-06T08:47:27.314Z"
   },
   {
    "duration": 4,
    "start_time": "2022-11-06T08:47:28.083Z"
   },
   {
    "duration": 9,
    "start_time": "2022-11-06T08:47:28.088Z"
   },
   {
    "duration": 24,
    "start_time": "2022-11-06T08:47:28.099Z"
   },
   {
    "duration": 20,
    "start_time": "2022-11-06T08:47:28.125Z"
   },
   {
    "duration": 21,
    "start_time": "2022-11-06T08:47:28.149Z"
   },
   {
    "duration": 10,
    "start_time": "2022-11-06T08:47:28.172Z"
   },
   {
    "duration": 12,
    "start_time": "2022-11-06T08:47:28.183Z"
   },
   {
    "duration": 5,
    "start_time": "2022-11-06T08:47:28.196Z"
   },
   {
    "duration": 23,
    "start_time": "2022-11-06T08:47:28.202Z"
   },
   {
    "duration": 5,
    "start_time": "2022-11-06T08:47:28.230Z"
   },
   {
    "duration": 23,
    "start_time": "2022-11-06T08:47:28.237Z"
   },
   {
    "duration": 8,
    "start_time": "2022-11-06T08:47:28.262Z"
   },
   {
    "duration": 6,
    "start_time": "2022-11-06T08:47:28.271Z"
   },
   {
    "duration": 20,
    "start_time": "2022-11-06T08:47:28.278Z"
   },
   {
    "duration": 39,
    "start_time": "2022-11-06T08:47:28.300Z"
   },
   {
    "duration": 12,
    "start_time": "2022-11-06T08:47:28.341Z"
   },
   {
    "duration": 19,
    "start_time": "2022-11-06T08:47:28.355Z"
   },
   {
    "duration": 5,
    "start_time": "2022-11-06T08:47:28.375Z"
   },
   {
    "duration": 179,
    "start_time": "2022-11-06T08:47:28.381Z"
   },
   {
    "duration": 9,
    "start_time": "2022-11-06T08:47:28.562Z"
   },
   {
    "duration": 6,
    "start_time": "2022-11-06T08:47:28.573Z"
   },
   {
    "duration": 591,
    "start_time": "2022-11-06T08:47:28.581Z"
   },
   {
    "duration": 528,
    "start_time": "2022-11-06T08:47:29.174Z"
   },
   {
    "duration": 100,
    "start_time": "2022-11-06T08:47:29.703Z"
   },
   {
    "duration": 2990,
    "start_time": "2022-11-06T08:49:17.744Z"
   },
   {
    "duration": 3331,
    "start_time": "2022-11-06T08:49:39.404Z"
   },
   {
    "duration": 19,
    "start_time": "2022-11-06T08:51:38.171Z"
   },
   {
    "duration": 17,
    "start_time": "2022-11-06T08:51:48.076Z"
   },
   {
    "duration": 3535,
    "start_time": "2022-11-06T08:52:23.553Z"
   },
   {
    "duration": 3115,
    "start_time": "2022-11-06T08:52:35.444Z"
   },
   {
    "duration": 18,
    "start_time": "2022-11-06T08:53:05.265Z"
   },
   {
    "duration": 16,
    "start_time": "2022-11-06T08:53:13.466Z"
   },
   {
    "duration": 16,
    "start_time": "2022-11-06T08:55:43.212Z"
   },
   {
    "duration": 3119,
    "start_time": "2022-11-06T08:55:57.824Z"
   },
   {
    "duration": 13,
    "start_time": "2022-11-06T09:37:49.962Z"
   },
   {
    "duration": 13,
    "start_time": "2022-11-06T09:38:57.879Z"
   },
   {
    "duration": 11,
    "start_time": "2022-11-06T09:41:15.600Z"
   },
   {
    "duration": 1070,
    "start_time": "2022-11-06T09:46:48.644Z"
   },
   {
    "duration": 49,
    "start_time": "2022-11-06T09:46:49.716Z"
   },
   {
    "duration": 19,
    "start_time": "2022-11-06T09:46:49.767Z"
   },
   {
    "duration": 13,
    "start_time": "2022-11-06T09:46:49.788Z"
   },
   {
    "duration": 744,
    "start_time": "2022-11-06T09:46:49.803Z"
   },
   {
    "duration": 4,
    "start_time": "2022-11-06T09:46:50.548Z"
   },
   {
    "duration": 5,
    "start_time": "2022-11-06T09:46:50.554Z"
   },
   {
    "duration": 19,
    "start_time": "2022-11-06T09:46:50.561Z"
   },
   {
    "duration": 12,
    "start_time": "2022-11-06T09:46:50.581Z"
   },
   {
    "duration": 14,
    "start_time": "2022-11-06T09:46:50.595Z"
   },
   {
    "duration": 4,
    "start_time": "2022-11-06T09:46:50.621Z"
   },
   {
    "duration": 10,
    "start_time": "2022-11-06T09:46:50.627Z"
   },
   {
    "duration": 5,
    "start_time": "2022-11-06T09:46:50.639Z"
   },
   {
    "duration": 10,
    "start_time": "2022-11-06T09:46:50.647Z"
   },
   {
    "duration": 4,
    "start_time": "2022-11-06T09:46:50.658Z"
   },
   {
    "duration": 13,
    "start_time": "2022-11-06T09:46:50.664Z"
   },
   {
    "duration": 42,
    "start_time": "2022-11-06T09:46:50.679Z"
   },
   {
    "duration": 6,
    "start_time": "2022-11-06T09:46:50.723Z"
   },
   {
    "duration": 13,
    "start_time": "2022-11-06T09:46:50.731Z"
   },
   {
    "duration": 13,
    "start_time": "2022-11-06T09:46:50.746Z"
   },
   {
    "duration": 5,
    "start_time": "2022-11-06T09:46:50.761Z"
   },
   {
    "duration": 29,
    "start_time": "2022-11-06T09:46:50.768Z"
   },
   {
    "duration": 7,
    "start_time": "2022-11-06T09:46:50.799Z"
   },
   {
    "duration": 158,
    "start_time": "2022-11-06T09:46:50.807Z"
   },
   {
    "duration": 10,
    "start_time": "2022-11-06T09:46:50.967Z"
   },
   {
    "duration": 7,
    "start_time": "2022-11-06T09:46:50.978Z"
   },
   {
    "duration": 590,
    "start_time": "2022-11-06T09:46:50.986Z"
   },
   {
    "duration": 528,
    "start_time": "2022-11-06T09:46:51.578Z"
   },
   {
    "duration": 19,
    "start_time": "2022-11-06T09:46:52.108Z"
   },
   {
    "duration": 8,
    "start_time": "2022-11-06T09:55:55.438Z"
   },
   {
    "duration": 8,
    "start_time": "2022-11-06T09:56:07.328Z"
   },
   {
    "duration": 719,
    "start_time": "2022-11-06T09:59:54.846Z"
   },
   {
    "duration": 816,
    "start_time": "2022-11-06T10:00:43.822Z"
   },
   {
    "duration": 939,
    "start_time": "2022-11-06T10:01:40.471Z"
   },
   {
    "duration": 951,
    "start_time": "2022-11-06T10:02:45.343Z"
   },
   {
    "duration": 459,
    "start_time": "2022-11-06T10:18:33.938Z"
   },
   {
    "duration": 1142,
    "start_time": "2022-11-06T10:19:15.706Z"
   },
   {
    "duration": 53,
    "start_time": "2022-11-06T10:19:16.850Z"
   },
   {
    "duration": 19,
    "start_time": "2022-11-06T10:19:16.905Z"
   },
   {
    "duration": 14,
    "start_time": "2022-11-06T10:19:16.926Z"
   },
   {
    "duration": 661,
    "start_time": "2022-11-06T10:19:16.942Z"
   },
   {
    "duration": 4,
    "start_time": "2022-11-06T10:19:17.605Z"
   },
   {
    "duration": 3,
    "start_time": "2022-11-06T10:19:17.622Z"
   },
   {
    "duration": 9,
    "start_time": "2022-11-06T10:19:17.627Z"
   },
   {
    "duration": 10,
    "start_time": "2022-11-06T10:19:17.638Z"
   },
   {
    "duration": 13,
    "start_time": "2022-11-06T10:19:17.651Z"
   },
   {
    "duration": 7,
    "start_time": "2022-11-06T10:19:17.666Z"
   },
   {
    "duration": 11,
    "start_time": "2022-11-06T10:19:17.674Z"
   },
   {
    "duration": 4,
    "start_time": "2022-11-06T10:19:17.686Z"
   },
   {
    "duration": 34,
    "start_time": "2022-11-06T10:19:17.692Z"
   },
   {
    "duration": 5,
    "start_time": "2022-11-06T10:19:17.728Z"
   },
   {
    "duration": 12,
    "start_time": "2022-11-06T10:19:17.734Z"
   },
   {
    "duration": 9,
    "start_time": "2022-11-06T10:19:17.747Z"
   },
   {
    "duration": 5,
    "start_time": "2022-11-06T10:19:17.757Z"
   },
   {
    "duration": 15,
    "start_time": "2022-11-06T10:19:17.764Z"
   },
   {
    "duration": 42,
    "start_time": "2022-11-06T10:19:17.780Z"
   },
   {
    "duration": 6,
    "start_time": "2022-11-06T10:19:17.823Z"
   },
   {
    "duration": 18,
    "start_time": "2022-11-06T10:19:17.830Z"
   },
   {
    "duration": 5,
    "start_time": "2022-11-06T10:19:17.849Z"
   },
   {
    "duration": 154,
    "start_time": "2022-11-06T10:19:17.856Z"
   },
   {
    "duration": 15,
    "start_time": "2022-11-06T10:19:18.012Z"
   },
   {
    "duration": 183,
    "start_time": "2022-11-06T10:19:18.029Z"
   },
   {
    "duration": 7,
    "start_time": "2022-11-06T10:19:18.213Z"
   },
   {
    "duration": 516,
    "start_time": "2022-11-06T10:19:18.223Z"
   },
   {
    "duration": 522,
    "start_time": "2022-11-06T10:19:18.741Z"
   },
   {
    "duration": 10,
    "start_time": "2022-11-06T10:19:19.266Z"
   },
   {
    "duration": 87,
    "start_time": "2022-11-06T10:28:09.663Z"
   },
   {
    "duration": 13,
    "start_time": "2022-11-06T10:30:09.985Z"
   },
   {
    "duration": 44,
    "start_time": "2022-11-06T10:30:30.451Z"
   },
   {
    "duration": 7,
    "start_time": "2022-11-06T10:36:41.551Z"
   },
   {
    "duration": 1087,
    "start_time": "2022-11-06T10:37:03.301Z"
   },
   {
    "duration": 57,
    "start_time": "2022-11-06T10:37:04.390Z"
   },
   {
    "duration": 18,
    "start_time": "2022-11-06T10:37:04.449Z"
   },
   {
    "duration": 15,
    "start_time": "2022-11-06T10:37:04.468Z"
   },
   {
    "duration": 654,
    "start_time": "2022-11-06T10:37:04.485Z"
   },
   {
    "duration": 4,
    "start_time": "2022-11-06T10:37:05.141Z"
   },
   {
    "duration": 11,
    "start_time": "2022-11-06T10:37:05.147Z"
   },
   {
    "duration": 14,
    "start_time": "2022-11-06T10:37:05.160Z"
   },
   {
    "duration": 15,
    "start_time": "2022-11-06T10:37:05.176Z"
   },
   {
    "duration": 14,
    "start_time": "2022-11-06T10:37:05.195Z"
   },
   {
    "duration": 5,
    "start_time": "2022-11-06T10:37:05.221Z"
   },
   {
    "duration": 12,
    "start_time": "2022-11-06T10:37:05.227Z"
   },
   {
    "duration": 4,
    "start_time": "2022-11-06T10:37:05.240Z"
   },
   {
    "duration": 10,
    "start_time": "2022-11-06T10:37:05.245Z"
   },
   {
    "duration": 9,
    "start_time": "2022-11-06T10:37:05.257Z"
   },
   {
    "duration": 27,
    "start_time": "2022-11-06T10:37:05.267Z"
   },
   {
    "duration": 9,
    "start_time": "2022-11-06T10:37:05.296Z"
   },
   {
    "duration": 5,
    "start_time": "2022-11-06T10:37:05.306Z"
   },
   {
    "duration": 20,
    "start_time": "2022-11-06T10:37:05.312Z"
   },
   {
    "duration": 17,
    "start_time": "2022-11-06T10:37:05.333Z"
   },
   {
    "duration": 11,
    "start_time": "2022-11-06T10:37:05.351Z"
   },
   {
    "duration": 15,
    "start_time": "2022-11-06T10:37:05.364Z"
   },
   {
    "duration": 32,
    "start_time": "2022-11-06T10:37:05.381Z"
   },
   {
    "duration": 6,
    "start_time": "2022-11-06T10:37:05.415Z"
   },
   {
    "duration": 143,
    "start_time": "2022-11-06T10:37:05.422Z"
   },
   {
    "duration": 8,
    "start_time": "2022-11-06T10:37:05.567Z"
   },
   {
    "duration": 6,
    "start_time": "2022-11-06T10:37:05.577Z"
   },
   {
    "duration": 622,
    "start_time": "2022-11-06T10:37:05.586Z"
   },
   {
    "duration": 66,
    "start_time": "2022-11-06T10:37:06.210Z"
   },
   {
    "duration": 504,
    "start_time": "2022-11-06T10:37:06.278Z"
   },
   {
    "duration": 9,
    "start_time": "2022-11-06T10:37:06.784Z"
   },
   {
    "duration": 1097,
    "start_time": "2022-11-06T10:40:10.106Z"
   },
   {
    "duration": 49,
    "start_time": "2022-11-06T10:40:11.205Z"
   },
   {
    "duration": 18,
    "start_time": "2022-11-06T10:40:11.256Z"
   },
   {
    "duration": 12,
    "start_time": "2022-11-06T10:40:11.275Z"
   },
   {
    "duration": 713,
    "start_time": "2022-11-06T10:40:11.289Z"
   },
   {
    "duration": 3,
    "start_time": "2022-11-06T10:40:12.004Z"
   },
   {
    "duration": 12,
    "start_time": "2022-11-06T10:40:12.009Z"
   },
   {
    "duration": 7,
    "start_time": "2022-11-06T10:40:12.023Z"
   },
   {
    "duration": 10,
    "start_time": "2022-11-06T10:40:12.031Z"
   },
   {
    "duration": 15,
    "start_time": "2022-11-06T10:40:12.043Z"
   },
   {
    "duration": 6,
    "start_time": "2022-11-06T10:40:12.059Z"
   },
   {
    "duration": 11,
    "start_time": "2022-11-06T10:40:12.066Z"
   },
   {
    "duration": 4,
    "start_time": "2022-11-06T10:40:12.078Z"
   },
   {
    "duration": 38,
    "start_time": "2022-11-06T10:40:12.084Z"
   },
   {
    "duration": 4,
    "start_time": "2022-11-06T10:40:12.124Z"
   },
   {
    "duration": 16,
    "start_time": "2022-11-06T10:40:12.129Z"
   },
   {
    "duration": 14,
    "start_time": "2022-11-06T10:40:12.147Z"
   },
   {
    "duration": 5,
    "start_time": "2022-11-06T10:40:12.162Z"
   },
   {
    "duration": 12,
    "start_time": "2022-11-06T10:40:12.169Z"
   },
   {
    "duration": 11,
    "start_time": "2022-11-06T10:40:12.182Z"
   },
   {
    "duration": 5,
    "start_time": "2022-11-06T10:40:12.194Z"
   },
   {
    "duration": 23,
    "start_time": "2022-11-06T10:40:12.200Z"
   },
   {
    "duration": 16,
    "start_time": "2022-11-06T10:40:12.224Z"
   },
   {
    "duration": 5,
    "start_time": "2022-11-06T10:40:12.241Z"
   },
   {
    "duration": 156,
    "start_time": "2022-11-06T10:40:12.248Z"
   },
   {
    "duration": 9,
    "start_time": "2022-11-06T10:40:12.405Z"
   },
   {
    "duration": 6,
    "start_time": "2022-11-06T10:40:12.422Z"
   },
   {
    "duration": 587,
    "start_time": "2022-11-06T10:40:12.429Z"
   },
   {
    "duration": 45,
    "start_time": "2022-11-06T10:40:13.018Z"
   },
   {
    "duration": 532,
    "start_time": "2022-11-06T10:40:13.065Z"
   },
   {
    "duration": 10,
    "start_time": "2022-11-06T10:40:13.598Z"
   },
   {
    "duration": 5,
    "start_time": "2022-11-06T10:45:42.747Z"
   },
   {
    "duration": 1102,
    "start_time": "2022-11-06T10:45:48.096Z"
   },
   {
    "duration": 54,
    "start_time": "2022-11-06T10:45:49.201Z"
   },
   {
    "duration": 18,
    "start_time": "2022-11-06T10:45:49.257Z"
   },
   {
    "duration": 12,
    "start_time": "2022-11-06T10:45:49.276Z"
   },
   {
    "duration": 647,
    "start_time": "2022-11-06T10:45:49.289Z"
   },
   {
    "duration": 4,
    "start_time": "2022-11-06T10:45:49.937Z"
   },
   {
    "duration": 8,
    "start_time": "2022-11-06T10:45:49.942Z"
   },
   {
    "duration": 12,
    "start_time": "2022-11-06T10:45:49.951Z"
   },
   {
    "duration": 9,
    "start_time": "2022-11-06T10:45:49.965Z"
   },
   {
    "duration": 14,
    "start_time": "2022-11-06T10:45:49.976Z"
   },
   {
    "duration": 26,
    "start_time": "2022-11-06T10:45:49.991Z"
   },
   {
    "duration": 15,
    "start_time": "2022-11-06T10:45:50.018Z"
   },
   {
    "duration": 4,
    "start_time": "2022-11-06T10:45:50.035Z"
   },
   {
    "duration": 11,
    "start_time": "2022-11-06T10:45:50.040Z"
   },
   {
    "duration": 5,
    "start_time": "2022-11-06T10:45:50.053Z"
   },
   {
    "duration": 15,
    "start_time": "2022-11-06T10:45:50.059Z"
   },
   {
    "duration": 10,
    "start_time": "2022-11-06T10:45:50.075Z"
   },
   {
    "duration": 7,
    "start_time": "2022-11-06T10:45:50.087Z"
   },
   {
    "duration": 17,
    "start_time": "2022-11-06T10:45:50.095Z"
   },
   {
    "duration": 16,
    "start_time": "2022-11-06T10:45:50.113Z"
   },
   {
    "duration": 4,
    "start_time": "2022-11-06T10:45:50.130Z"
   },
   {
    "duration": 19,
    "start_time": "2022-11-06T10:45:50.135Z"
   },
   {
    "duration": 22,
    "start_time": "2022-11-06T10:45:50.156Z"
   },
   {
    "duration": 3,
    "start_time": "2022-11-06T10:45:50.179Z"
   },
   {
    "duration": 15,
    "start_time": "2022-11-06T10:45:50.184Z"
   },
   {
    "duration": 135,
    "start_time": "2022-11-06T10:45:50.200Z"
   },
   {
    "duration": 10,
    "start_time": "2022-11-06T10:45:50.336Z"
   },
   {
    "duration": 9,
    "start_time": "2022-11-06T10:45:50.348Z"
   },
   {
    "duration": 526,
    "start_time": "2022-11-06T10:45:50.358Z"
   },
   {
    "duration": 42,
    "start_time": "2022-11-06T10:45:50.886Z"
   },
   {
    "duration": 530,
    "start_time": "2022-11-06T10:45:50.929Z"
   },
   {
    "duration": 9,
    "start_time": "2022-11-06T10:45:51.460Z"
   },
   {
    "duration": 20,
    "start_time": "2022-11-06T10:46:47.499Z"
   },
   {
    "duration": 1012,
    "start_time": "2022-11-06T10:47:23.365Z"
   },
   {
    "duration": 49,
    "start_time": "2022-11-06T10:47:24.379Z"
   },
   {
    "duration": 19,
    "start_time": "2022-11-06T10:47:24.429Z"
   },
   {
    "duration": 13,
    "start_time": "2022-11-06T10:47:24.449Z"
   },
   {
    "duration": 660,
    "start_time": "2022-11-06T10:47:24.465Z"
   },
   {
    "duration": 4,
    "start_time": "2022-11-06T10:47:25.127Z"
   },
   {
    "duration": 6,
    "start_time": "2022-11-06T10:47:25.133Z"
   },
   {
    "duration": 11,
    "start_time": "2022-11-06T10:47:25.140Z"
   },
   {
    "duration": 10,
    "start_time": "2022-11-06T10:47:25.153Z"
   },
   {
    "duration": 23,
    "start_time": "2022-11-06T10:47:25.164Z"
   },
   {
    "duration": 6,
    "start_time": "2022-11-06T10:47:25.188Z"
   },
   {
    "duration": 27,
    "start_time": "2022-11-06T10:47:25.196Z"
   },
   {
    "duration": 5,
    "start_time": "2022-11-06T10:47:25.224Z"
   },
   {
    "duration": 12,
    "start_time": "2022-11-06T10:47:25.231Z"
   },
   {
    "duration": 3,
    "start_time": "2022-11-06T10:47:25.245Z"
   },
   {
    "duration": 15,
    "start_time": "2022-11-06T10:47:25.249Z"
   },
   {
    "duration": 9,
    "start_time": "2022-11-06T10:47:25.265Z"
   },
   {
    "duration": 5,
    "start_time": "2022-11-06T10:47:25.275Z"
   },
   {
    "duration": 14,
    "start_time": "2022-11-06T10:47:25.282Z"
   },
   {
    "duration": 11,
    "start_time": "2022-11-06T10:47:25.321Z"
   },
   {
    "duration": 5,
    "start_time": "2022-11-06T10:47:25.333Z"
   },
   {
    "duration": 5,
    "start_time": "2022-11-06T10:47:25.340Z"
   },
   {
    "duration": 18,
    "start_time": "2022-11-06T10:47:25.347Z"
   },
   {
    "duration": 5,
    "start_time": "2022-11-06T10:47:25.367Z"
   },
   {
    "duration": 153,
    "start_time": "2022-11-06T10:47:25.373Z"
   },
   {
    "duration": 8,
    "start_time": "2022-11-06T10:47:25.528Z"
   },
   {
    "duration": 6,
    "start_time": "2022-11-06T10:47:25.538Z"
   },
   {
    "duration": 571,
    "start_time": "2022-11-06T10:47:25.545Z"
   },
   {
    "duration": 64,
    "start_time": "2022-11-06T10:47:26.118Z"
   },
   {
    "duration": 514,
    "start_time": "2022-11-06T10:47:26.184Z"
   },
   {
    "duration": 10,
    "start_time": "2022-11-06T10:47:26.700Z"
   },
   {
    "duration": 72,
    "start_time": "2022-11-06T11:05:22.772Z"
   },
   {
    "duration": 6,
    "start_time": "2022-11-06T11:05:53.840Z"
   },
   {
    "duration": 7,
    "start_time": "2022-11-06T11:05:59.449Z"
   },
   {
    "duration": 14,
    "start_time": "2022-11-06T11:06:09.456Z"
   },
   {
    "duration": 187,
    "start_time": "2022-11-06T11:07:11.776Z"
   },
   {
    "duration": 115,
    "start_time": "2022-11-06T11:07:26.783Z"
   },
   {
    "duration": 114,
    "start_time": "2022-11-06T11:08:50.327Z"
   },
   {
    "duration": 115,
    "start_time": "2022-11-06T11:08:59.197Z"
   },
   {
    "duration": 104,
    "start_time": "2022-11-06T11:09:54.735Z"
   },
   {
    "duration": 116,
    "start_time": "2022-11-06T11:10:00.465Z"
   },
   {
    "duration": 1030,
    "start_time": "2022-11-06T11:10:34.458Z"
   },
   {
    "duration": 51,
    "start_time": "2022-11-06T11:10:35.489Z"
   },
   {
    "duration": 18,
    "start_time": "2022-11-06T11:10:35.542Z"
   },
   {
    "duration": 13,
    "start_time": "2022-11-06T11:10:35.561Z"
   },
   {
    "duration": 747,
    "start_time": "2022-11-06T11:10:35.576Z"
   },
   {
    "duration": 4,
    "start_time": "2022-11-06T11:10:36.325Z"
   },
   {
    "duration": 6,
    "start_time": "2022-11-06T11:10:36.330Z"
   },
   {
    "duration": 13,
    "start_time": "2022-11-06T11:10:36.337Z"
   },
   {
    "duration": 14,
    "start_time": "2022-11-06T11:10:36.351Z"
   },
   {
    "duration": 14,
    "start_time": "2022-11-06T11:10:36.366Z"
   },
   {
    "duration": 7,
    "start_time": "2022-11-06T11:10:36.381Z"
   },
   {
    "duration": 10,
    "start_time": "2022-11-06T11:10:36.389Z"
   },
   {
    "duration": 23,
    "start_time": "2022-11-06T11:10:36.401Z"
   },
   {
    "duration": 10,
    "start_time": "2022-11-06T11:10:36.426Z"
   },
   {
    "duration": 3,
    "start_time": "2022-11-06T11:10:36.437Z"
   },
   {
    "duration": 13,
    "start_time": "2022-11-06T11:10:36.442Z"
   },
   {
    "duration": 9,
    "start_time": "2022-11-06T11:10:36.456Z"
   },
   {
    "duration": 6,
    "start_time": "2022-11-06T11:10:36.467Z"
   },
   {
    "duration": 12,
    "start_time": "2022-11-06T11:10:36.474Z"
   },
   {
    "duration": 35,
    "start_time": "2022-11-06T11:10:36.487Z"
   },
   {
    "duration": 5,
    "start_time": "2022-11-06T11:10:36.524Z"
   },
   {
    "duration": 5,
    "start_time": "2022-11-06T11:10:36.530Z"
   },
   {
    "duration": 17,
    "start_time": "2022-11-06T11:10:36.536Z"
   },
   {
    "duration": 5,
    "start_time": "2022-11-06T11:10:36.554Z"
   },
   {
    "duration": 153,
    "start_time": "2022-11-06T11:10:36.560Z"
   },
   {
    "duration": 12,
    "start_time": "2022-11-06T11:10:36.715Z"
   },
   {
    "duration": 6,
    "start_time": "2022-11-06T11:10:36.729Z"
   },
   {
    "duration": 552,
    "start_time": "2022-11-06T11:10:36.736Z"
   },
   {
    "duration": 49,
    "start_time": "2022-11-06T11:10:37.289Z"
   },
   {
    "duration": 514,
    "start_time": "2022-11-06T11:10:37.339Z"
   },
   {
    "duration": 12,
    "start_time": "2022-11-06T11:10:37.854Z"
   },
   {
    "duration": 125,
    "start_time": "2022-11-06T11:10:37.868Z"
   },
   {
    "duration": 106,
    "start_time": "2022-11-06T11:10:37.995Z"
   },
   {
    "duration": 125,
    "start_time": "2022-11-06T11:11:50.049Z"
   },
   {
    "duration": 112,
    "start_time": "2022-11-06T11:11:57.249Z"
   },
   {
    "duration": 119,
    "start_time": "2022-11-06T11:12:09.138Z"
   },
   {
    "duration": 105,
    "start_time": "2022-11-06T11:12:17.158Z"
   },
   {
    "duration": 130,
    "start_time": "2022-11-06T11:12:31.373Z"
   },
   {
    "duration": 39,
    "start_time": "2022-11-06T11:15:01.374Z"
   },
   {
    "duration": 26,
    "start_time": "2022-11-06T11:15:59.703Z"
   },
   {
    "duration": 5,
    "start_time": "2022-11-06T11:34:08.792Z"
   },
   {
    "duration": 21,
    "start_time": "2022-11-06T11:34:32.629Z"
   },
   {
    "duration": 21,
    "start_time": "2022-11-06T11:37:00.347Z"
   },
   {
    "duration": 101,
    "start_time": "2022-11-06T11:38:27.502Z"
   },
   {
    "duration": 13,
    "start_time": "2022-11-06T11:38:34.449Z"
   },
   {
    "duration": 4,
    "start_time": "2022-11-06T11:41:04.847Z"
   },
   {
    "duration": 5,
    "start_time": "2022-11-06T11:41:49.663Z"
   },
   {
    "duration": 1212,
    "start_time": "2022-11-06T11:43:04.772Z"
   },
   {
    "duration": 1257,
    "start_time": "2022-11-06T11:43:26.957Z"
   },
   {
    "duration": 11,
    "start_time": "2022-11-06T11:45:07.649Z"
   },
   {
    "duration": 231,
    "start_time": "2022-11-06T11:49:50.151Z"
   },
   {
    "duration": 366,
    "start_time": "2022-11-06T11:50:03.037Z"
   },
   {
    "duration": 272,
    "start_time": "2022-11-06T11:50:09.617Z"
   },
   {
    "duration": 15,
    "start_time": "2022-11-06T11:51:09.792Z"
   },
   {
    "duration": 14,
    "start_time": "2022-11-06T11:51:23.056Z"
   },
   {
    "duration": 195,
    "start_time": "2022-11-06T11:51:38.555Z"
   },
   {
    "duration": 262,
    "start_time": "2022-11-06T11:51:44.851Z"
   },
   {
    "duration": 256,
    "start_time": "2022-11-06T11:52:35.093Z"
   },
   {
    "duration": 6,
    "start_time": "2022-11-06T11:53:38.296Z"
   },
   {
    "duration": 135,
    "start_time": "2022-11-06T13:26:18.392Z"
   },
   {
    "duration": 1011,
    "start_time": "2022-11-06T13:26:28.484Z"
   },
   {
    "duration": 61,
    "start_time": "2022-11-06T13:26:29.497Z"
   },
   {
    "duration": 20,
    "start_time": "2022-11-06T13:26:29.560Z"
   },
   {
    "duration": 12,
    "start_time": "2022-11-06T13:26:29.581Z"
   },
   {
    "duration": 670,
    "start_time": "2022-11-06T13:26:29.595Z"
   },
   {
    "duration": 4,
    "start_time": "2022-11-06T13:26:30.267Z"
   },
   {
    "duration": 27,
    "start_time": "2022-11-06T13:26:30.272Z"
   },
   {
    "duration": 32,
    "start_time": "2022-11-06T13:26:30.301Z"
   },
   {
    "duration": 16,
    "start_time": "2022-11-06T13:26:30.335Z"
   },
   {
    "duration": 22,
    "start_time": "2022-11-06T13:26:30.353Z"
   },
   {
    "duration": 20,
    "start_time": "2022-11-06T13:26:30.376Z"
   },
   {
    "duration": 24,
    "start_time": "2022-11-06T13:26:30.398Z"
   },
   {
    "duration": 14,
    "start_time": "2022-11-06T13:26:30.423Z"
   },
   {
    "duration": 25,
    "start_time": "2022-11-06T13:26:30.440Z"
   },
   {
    "duration": 19,
    "start_time": "2022-11-06T13:26:30.467Z"
   },
   {
    "duration": 30,
    "start_time": "2022-11-06T13:26:30.487Z"
   },
   {
    "duration": 26,
    "start_time": "2022-11-06T13:26:30.519Z"
   },
   {
    "duration": 35,
    "start_time": "2022-11-06T13:26:30.546Z"
   },
   {
    "duration": 34,
    "start_time": "2022-11-06T13:26:30.582Z"
   },
   {
    "duration": 25,
    "start_time": "2022-11-06T13:26:30.617Z"
   },
   {
    "duration": 23,
    "start_time": "2022-11-06T13:26:30.644Z"
   },
   {
    "duration": 28,
    "start_time": "2022-11-06T13:26:30.669Z"
   },
   {
    "duration": 52,
    "start_time": "2022-11-06T13:26:30.698Z"
   },
   {
    "duration": 5,
    "start_time": "2022-11-06T13:26:30.753Z"
   },
   {
    "duration": 172,
    "start_time": "2022-11-06T13:26:30.760Z"
   },
   {
    "duration": 9,
    "start_time": "2022-11-06T13:26:30.933Z"
   },
   {
    "duration": 13,
    "start_time": "2022-11-06T13:26:30.944Z"
   },
   {
    "duration": 594,
    "start_time": "2022-11-06T13:26:30.958Z"
   },
   {
    "duration": 49,
    "start_time": "2022-11-06T13:26:31.554Z"
   },
   {
    "duration": 602,
    "start_time": "2022-11-06T13:26:31.605Z"
   },
   {
    "duration": 25,
    "start_time": "2022-11-06T13:26:32.208Z"
   },
   {
    "duration": 113,
    "start_time": "2022-11-06T13:26:32.235Z"
   },
   {
    "duration": 24,
    "start_time": "2022-11-06T13:26:32.350Z"
   },
   {
    "duration": 9,
    "start_time": "2022-11-06T13:26:32.375Z"
   },
   {
    "duration": 285,
    "start_time": "2022-11-06T13:26:32.385Z"
   },
   {
    "duration": 5,
    "start_time": "2022-11-06T13:26:32.671Z"
   },
   {
    "duration": 218,
    "start_time": "2022-11-06T13:26:32.678Z"
   },
   {
    "duration": 160,
    "start_time": "2022-11-06T13:26:47.356Z"
   },
   {
    "duration": 176,
    "start_time": "2022-11-06T13:27:05.657Z"
   },
   {
    "duration": 21,
    "start_time": "2022-11-06T13:28:04.543Z"
   },
   {
    "duration": 16,
    "start_time": "2022-11-06T13:28:10.648Z"
   },
   {
    "duration": 145,
    "start_time": "2022-11-06T13:39:02.995Z"
   },
   {
    "duration": 19,
    "start_time": "2022-11-06T13:39:39.342Z"
   },
   {
    "duration": 13,
    "start_time": "2022-11-06T13:40:55.693Z"
   },
   {
    "duration": 14,
    "start_time": "2022-11-06T13:41:53.974Z"
   },
   {
    "duration": 20,
    "start_time": "2022-11-06T13:42:31.102Z"
   },
   {
    "duration": 13,
    "start_time": "2022-11-06T13:42:52.863Z"
   },
   {
    "duration": 6,
    "start_time": "2022-11-06T13:42:58.780Z"
   },
   {
    "duration": 1290,
    "start_time": "2022-11-06T13:45:01.548Z"
   },
   {
    "duration": 59,
    "start_time": "2022-11-06T13:45:02.840Z"
   },
   {
    "duration": 21,
    "start_time": "2022-11-06T13:45:02.900Z"
   },
   {
    "duration": 39,
    "start_time": "2022-11-06T13:45:02.923Z"
   },
   {
    "duration": 835,
    "start_time": "2022-11-06T13:45:02.964Z"
   },
   {
    "duration": 5,
    "start_time": "2022-11-06T13:45:03.801Z"
   },
   {
    "duration": 21,
    "start_time": "2022-11-06T13:45:03.808Z"
   },
   {
    "duration": 21,
    "start_time": "2022-11-06T13:45:03.832Z"
   },
   {
    "duration": 16,
    "start_time": "2022-11-06T13:45:03.856Z"
   },
   {
    "duration": 19,
    "start_time": "2022-11-06T13:45:03.874Z"
   },
   {
    "duration": 11,
    "start_time": "2022-11-06T13:45:03.895Z"
   },
   {
    "duration": 31,
    "start_time": "2022-11-06T13:45:03.908Z"
   },
   {
    "duration": 14,
    "start_time": "2022-11-06T13:45:03.941Z"
   },
   {
    "duration": 14,
    "start_time": "2022-11-06T13:45:03.959Z"
   },
   {
    "duration": 17,
    "start_time": "2022-11-06T13:45:03.975Z"
   },
   {
    "duration": 18,
    "start_time": "2022-11-06T13:45:03.994Z"
   },
   {
    "duration": 19,
    "start_time": "2022-11-06T13:45:04.013Z"
   },
   {
    "duration": 7,
    "start_time": "2022-11-06T13:45:04.035Z"
   },
   {
    "duration": 19,
    "start_time": "2022-11-06T13:45:04.045Z"
   },
   {
    "duration": 20,
    "start_time": "2022-11-06T13:45:04.067Z"
   },
   {
    "duration": 8,
    "start_time": "2022-11-06T13:45:04.089Z"
   },
   {
    "duration": 7,
    "start_time": "2022-11-06T13:45:04.099Z"
   },
   {
    "duration": 29,
    "start_time": "2022-11-06T13:45:04.123Z"
   },
   {
    "duration": 10,
    "start_time": "2022-11-06T13:45:04.154Z"
   },
   {
    "duration": 188,
    "start_time": "2022-11-06T13:45:04.166Z"
   },
   {
    "duration": 15,
    "start_time": "2022-11-06T13:45:04.355Z"
   },
   {
    "duration": 29,
    "start_time": "2022-11-06T13:45:04.372Z"
   },
   {
    "duration": 646,
    "start_time": "2022-11-06T13:45:04.403Z"
   },
   {
    "duration": 50,
    "start_time": "2022-11-06T13:45:05.051Z"
   },
   {
    "duration": 736,
    "start_time": "2022-11-06T13:45:05.103Z"
   },
   {
    "duration": 10,
    "start_time": "2022-11-06T13:45:05.842Z"
   },
   {
    "duration": 158,
    "start_time": "2022-11-06T13:45:05.854Z"
   },
   {
    "duration": 34,
    "start_time": "2022-11-06T13:45:06.013Z"
   },
   {
    "duration": 35,
    "start_time": "2022-11-06T13:45:06.052Z"
   },
   {
    "duration": 444,
    "start_time": "2022-11-06T13:45:06.090Z"
   },
   {
    "duration": 8,
    "start_time": "2022-11-06T13:45:06.536Z"
   },
   {
    "duration": 22,
    "start_time": "2022-11-06T13:45:06.547Z"
   },
   {
    "duration": 161,
    "start_time": "2022-11-06T13:47:27.347Z"
   },
   {
    "duration": 94,
    "start_time": "2022-11-06T13:53:20.518Z"
   },
   {
    "duration": 149,
    "start_time": "2022-11-06T13:53:44.964Z"
   },
   {
    "duration": 9,
    "start_time": "2022-11-06T13:54:10.089Z"
   },
   {
    "duration": 144,
    "start_time": "2022-11-06T13:54:20.833Z"
   },
   {
    "duration": 13,
    "start_time": "2022-11-06T13:55:26.574Z"
   },
   {
    "duration": 138,
    "start_time": "2022-11-06T13:56:33.077Z"
   },
   {
    "duration": 141,
    "start_time": "2022-11-06T14:10:45.171Z"
   },
   {
    "duration": 173,
    "start_time": "2022-11-06T14:11:34.106Z"
   },
   {
    "duration": 152,
    "start_time": "2022-11-06T14:11:51.687Z"
   },
   {
    "duration": 190,
    "start_time": "2022-11-06T14:11:58.905Z"
   },
   {
    "duration": 172,
    "start_time": "2022-11-06T14:12:01.099Z"
   },
   {
    "duration": 159,
    "start_time": "2022-11-06T14:15:24.901Z"
   },
   {
    "duration": 154,
    "start_time": "2022-11-06T14:15:30.257Z"
   },
   {
    "duration": 136,
    "start_time": "2022-11-06T14:15:36.331Z"
   },
   {
    "duration": 11,
    "start_time": "2022-11-06T14:15:50.209Z"
   },
   {
    "duration": 140,
    "start_time": "2022-11-06T14:16:13.698Z"
   },
   {
    "duration": 6,
    "start_time": "2022-11-06T14:16:46.971Z"
   },
   {
    "duration": 14,
    "start_time": "2022-11-06T14:24:44.819Z"
   },
   {
    "duration": 198,
    "start_time": "2022-11-06T14:25:59.651Z"
   },
   {
    "duration": 223,
    "start_time": "2022-11-06T14:26:02.473Z"
   },
   {
    "duration": 198,
    "start_time": "2022-11-06T14:26:05.043Z"
   },
   {
    "duration": 159,
    "start_time": "2022-11-06T14:26:19.340Z"
   },
   {
    "duration": 174,
    "start_time": "2022-11-06T14:26:21.919Z"
   },
   {
    "duration": 147,
    "start_time": "2022-11-06T14:26:24.268Z"
   },
   {
    "duration": 20,
    "start_time": "2022-11-06T14:33:27.344Z"
   },
   {
    "duration": 15,
    "start_time": "2022-11-06T14:34:09.759Z"
   },
   {
    "duration": 21,
    "start_time": "2022-11-06T14:34:37.855Z"
   },
   {
    "duration": 16,
    "start_time": "2022-11-06T14:35:57.372Z"
   },
   {
    "duration": 10,
    "start_time": "2022-11-06T14:37:01.270Z"
   },
   {
    "duration": 9,
    "start_time": "2022-11-06T14:37:02.744Z"
   },
   {
    "duration": 9,
    "start_time": "2022-11-06T14:37:04.460Z"
   },
   {
    "duration": 183,
    "start_time": "2022-11-06T14:39:26.374Z"
   },
   {
    "duration": 147,
    "start_time": "2022-11-06T14:39:33.553Z"
   },
   {
    "duration": 160,
    "start_time": "2022-11-06T14:41:12.155Z"
   },
   {
    "duration": 181,
    "start_time": "2022-11-06T14:42:28.550Z"
   },
   {
    "duration": 183,
    "start_time": "2022-11-06T14:42:31.445Z"
   },
   {
    "duration": 6,
    "start_time": "2022-11-06T14:43:28.114Z"
   },
   {
    "duration": 10,
    "start_time": "2022-11-06T14:45:28.139Z"
   },
   {
    "duration": 9,
    "start_time": "2022-11-06T14:45:51.194Z"
   },
   {
    "duration": 5,
    "start_time": "2022-11-06T14:46:11.287Z"
   },
   {
    "duration": 5,
    "start_time": "2022-11-06T14:46:13.167Z"
   },
   {
    "duration": 210,
    "start_time": "2022-11-06T15:27:30.139Z"
   },
   {
    "duration": 202,
    "start_time": "2022-11-06T15:27:37.846Z"
   },
   {
    "duration": 168,
    "start_time": "2022-11-06T15:28:25.685Z"
   },
   {
    "duration": 178,
    "start_time": "2022-11-06T15:28:28.064Z"
   },
   {
    "duration": 5,
    "start_time": "2022-11-06T15:35:42.803Z"
   },
   {
    "duration": 20,
    "start_time": "2022-11-06T15:38:58.030Z"
   },
   {
    "duration": 12,
    "start_time": "2022-11-06T16:26:05.529Z"
   },
   {
    "duration": 7,
    "start_time": "2022-11-06T16:28:40.702Z"
   },
   {
    "duration": 11,
    "start_time": "2022-11-06T16:29:27.619Z"
   },
   {
    "duration": 3,
    "start_time": "2022-11-06T16:29:36.722Z"
   },
   {
    "duration": 9,
    "start_time": "2022-11-06T16:29:45.896Z"
   },
   {
    "duration": 4,
    "start_time": "2022-11-06T16:29:51.247Z"
   },
   {
    "duration": 5,
    "start_time": "2022-11-06T16:30:17.573Z"
   },
   {
    "duration": 6,
    "start_time": "2022-11-06T16:30:36.227Z"
   },
   {
    "duration": 1103,
    "start_time": "2022-11-06T18:01:49.639Z"
   },
   {
    "duration": 68,
    "start_time": "2022-11-06T18:01:50.745Z"
   },
   {
    "duration": 19,
    "start_time": "2022-11-06T18:01:50.815Z"
   },
   {
    "duration": 13,
    "start_time": "2022-11-06T18:01:50.835Z"
   },
   {
    "duration": 729,
    "start_time": "2022-11-06T18:01:50.851Z"
   },
   {
    "duration": 5,
    "start_time": "2022-11-06T18:01:51.582Z"
   },
   {
    "duration": 12,
    "start_time": "2022-11-06T18:01:51.588Z"
   },
   {
    "duration": 22,
    "start_time": "2022-11-06T18:01:51.602Z"
   },
   {
    "duration": 23,
    "start_time": "2022-11-06T18:01:51.625Z"
   },
   {
    "duration": 15,
    "start_time": "2022-11-06T18:01:51.649Z"
   },
   {
    "duration": 9,
    "start_time": "2022-11-06T18:01:51.666Z"
   },
   {
    "duration": 16,
    "start_time": "2022-11-06T18:01:51.676Z"
   },
   {
    "duration": 8,
    "start_time": "2022-11-06T18:01:51.693Z"
   },
   {
    "duration": 11,
    "start_time": "2022-11-06T18:01:51.703Z"
   },
   {
    "duration": 5,
    "start_time": "2022-11-06T18:01:51.716Z"
   },
   {
    "duration": 26,
    "start_time": "2022-11-06T18:01:51.723Z"
   },
   {
    "duration": 9,
    "start_time": "2022-11-06T18:01:51.751Z"
   },
   {
    "duration": 5,
    "start_time": "2022-11-06T18:01:51.762Z"
   },
   {
    "duration": 20,
    "start_time": "2022-11-06T18:01:51.769Z"
   },
   {
    "duration": 18,
    "start_time": "2022-11-06T18:01:51.791Z"
   },
   {
    "duration": 15,
    "start_time": "2022-11-06T18:01:51.811Z"
   },
   {
    "duration": 13,
    "start_time": "2022-11-06T18:01:51.828Z"
   },
   {
    "duration": 24,
    "start_time": "2022-11-06T18:01:51.843Z"
   },
   {
    "duration": 6,
    "start_time": "2022-11-06T18:01:51.869Z"
   },
   {
    "duration": 164,
    "start_time": "2022-11-06T18:01:51.876Z"
   },
   {
    "duration": 9,
    "start_time": "2022-11-06T18:01:52.042Z"
   },
   {
    "duration": 26,
    "start_time": "2022-11-06T18:01:52.053Z"
   },
   {
    "duration": 555,
    "start_time": "2022-11-06T18:01:52.081Z"
   },
   {
    "duration": 60,
    "start_time": "2022-11-06T18:01:52.638Z"
   },
   {
    "duration": 640,
    "start_time": "2022-11-06T18:01:52.700Z"
   },
   {
    "duration": 12,
    "start_time": "2022-11-06T18:01:53.341Z"
   },
   {
    "duration": 132,
    "start_time": "2022-11-06T18:01:53.355Z"
   },
   {
    "duration": 17,
    "start_time": "2022-11-06T18:01:53.489Z"
   },
   {
    "duration": 27,
    "start_time": "2022-11-06T18:01:53.508Z"
   },
   {
    "duration": 257,
    "start_time": "2022-11-06T18:01:53.537Z"
   },
   {
    "duration": 5,
    "start_time": "2022-11-06T18:01:53.796Z"
   },
   {
    "duration": 12,
    "start_time": "2022-11-06T18:01:53.802Z"
   },
   {
    "duration": 133,
    "start_time": "2022-11-06T18:01:53.822Z"
   },
   {
    "duration": 136,
    "start_time": "2022-11-06T18:01:53.958Z"
   },
   {
    "duration": 141,
    "start_time": "2022-11-06T18:01:54.096Z"
   },
   {
    "duration": 155,
    "start_time": "2022-11-06T18:01:54.240Z"
   },
   {
    "duration": 155,
    "start_time": "2022-11-06T18:01:54.397Z"
   },
   {
    "duration": 12,
    "start_time": "2022-11-06T18:01:54.554Z"
   },
   {
    "duration": 5,
    "start_time": "2022-11-06T18:01:54.568Z"
   },
   {
    "duration": 6,
    "start_time": "2022-11-06T18:01:54.574Z"
   },
   {
    "duration": 169,
    "start_time": "2022-11-06T18:01:54.582Z"
   },
   {
    "duration": 155,
    "start_time": "2022-11-06T18:01:54.752Z"
   },
   {
    "duration": 151,
    "start_time": "2022-11-06T18:01:54.908Z"
   },
   {
    "duration": 9,
    "start_time": "2022-11-06T18:01:55.060Z"
   },
   {
    "duration": 12,
    "start_time": "2022-11-06T18:01:55.071Z"
   },
   {
    "duration": 8,
    "start_time": "2022-11-06T18:01:55.085Z"
   },
   {
    "duration": 237,
    "start_time": "2022-11-06T18:01:55.094Z"
   },
   {
    "duration": 165,
    "start_time": "2022-11-06T18:01:55.332Z"
   },
   {
    "duration": 160,
    "start_time": "2022-11-06T18:01:55.499Z"
   },
   {
    "duration": 11,
    "start_time": "2022-11-06T18:01:55.661Z"
   },
   {
    "duration": 13,
    "start_time": "2022-11-06T18:01:55.673Z"
   },
   {
    "duration": 68,
    "start_time": "2022-11-06T18:05:11.406Z"
   },
   {
    "duration": 9,
    "start_time": "2022-11-06T18:05:23.302Z"
   },
   {
    "duration": 8,
    "start_time": "2022-11-06T18:14:25.370Z"
   },
   {
    "duration": 10,
    "start_time": "2022-11-06T18:15:14.143Z"
   },
   {
    "duration": 1112,
    "start_time": "2022-11-06T18:18:16.979Z"
   },
   {
    "duration": 53,
    "start_time": "2022-11-06T18:18:18.093Z"
   },
   {
    "duration": 19,
    "start_time": "2022-11-06T18:18:18.147Z"
   },
   {
    "duration": 14,
    "start_time": "2022-11-06T18:18:18.167Z"
   },
   {
    "duration": 645,
    "start_time": "2022-11-06T18:18:18.183Z"
   },
   {
    "duration": 4,
    "start_time": "2022-11-06T18:18:18.829Z"
   },
   {
    "duration": 8,
    "start_time": "2022-11-06T18:18:18.834Z"
   },
   {
    "duration": 10,
    "start_time": "2022-11-06T18:18:18.844Z"
   },
   {
    "duration": 14,
    "start_time": "2022-11-06T18:18:18.856Z"
   },
   {
    "duration": 13,
    "start_time": "2022-11-06T18:18:18.872Z"
   },
   {
    "duration": 35,
    "start_time": "2022-11-06T18:18:18.887Z"
   },
   {
    "duration": 14,
    "start_time": "2022-11-06T18:18:18.924Z"
   },
   {
    "duration": 7,
    "start_time": "2022-11-06T18:18:18.940Z"
   },
   {
    "duration": 17,
    "start_time": "2022-11-06T18:18:18.948Z"
   },
   {
    "duration": 5,
    "start_time": "2022-11-06T18:18:18.967Z"
   },
   {
    "duration": 6,
    "start_time": "2022-11-06T18:18:18.973Z"
   },
   {
    "duration": 15,
    "start_time": "2022-11-06T18:18:18.981Z"
   },
   {
    "duration": 28,
    "start_time": "2022-11-06T18:18:18.998Z"
   },
   {
    "duration": 8,
    "start_time": "2022-11-06T18:18:19.028Z"
   },
   {
    "duration": 15,
    "start_time": "2022-11-06T18:18:19.038Z"
   },
   {
    "duration": 11,
    "start_time": "2022-11-06T18:18:19.055Z"
   },
   {
    "duration": 8,
    "start_time": "2022-11-06T18:18:19.067Z"
   },
   {
    "duration": 5,
    "start_time": "2022-11-06T18:18:19.076Z"
   },
   {
    "duration": 50,
    "start_time": "2022-11-06T18:18:19.083Z"
   },
   {
    "duration": 8,
    "start_time": "2022-11-06T18:18:19.135Z"
   },
   {
    "duration": 160,
    "start_time": "2022-11-06T18:18:19.145Z"
   },
   {
    "duration": 8,
    "start_time": "2022-11-06T18:18:19.307Z"
   },
   {
    "duration": 8,
    "start_time": "2022-11-06T18:18:19.327Z"
   },
   {
    "duration": 568,
    "start_time": "2022-11-06T18:18:19.336Z"
   },
   {
    "duration": 71,
    "start_time": "2022-11-06T18:18:19.905Z"
   },
   {
    "duration": 550,
    "start_time": "2022-11-06T18:18:19.978Z"
   },
   {
    "duration": 12,
    "start_time": "2022-11-06T18:18:20.530Z"
   },
   {
    "duration": 147,
    "start_time": "2022-11-06T18:18:20.544Z"
   },
   {
    "duration": 16,
    "start_time": "2022-11-06T18:18:20.692Z"
   },
   {
    "duration": 19,
    "start_time": "2022-11-06T18:18:20.710Z"
   },
   {
    "duration": 261,
    "start_time": "2022-11-06T18:18:20.730Z"
   },
   {
    "duration": 5,
    "start_time": "2022-11-06T18:18:20.992Z"
   },
   {
    "duration": 9,
    "start_time": "2022-11-06T18:18:20.998Z"
   },
   {
    "duration": 152,
    "start_time": "2022-11-06T18:18:21.009Z"
   },
   {
    "duration": 129,
    "start_time": "2022-11-06T18:18:21.162Z"
   },
   {
    "duration": 172,
    "start_time": "2022-11-06T18:18:21.293Z"
   },
   {
    "duration": 156,
    "start_time": "2022-11-06T18:18:21.467Z"
   },
   {
    "duration": 157,
    "start_time": "2022-11-06T18:18:21.625Z"
   },
   {
    "duration": 9,
    "start_time": "2022-11-06T18:18:21.784Z"
   },
   {
    "duration": 5,
    "start_time": "2022-11-06T18:18:21.794Z"
   },
   {
    "duration": 21,
    "start_time": "2022-11-06T18:18:21.801Z"
   },
   {
    "duration": 151,
    "start_time": "2022-11-06T18:18:21.824Z"
   },
   {
    "duration": 167,
    "start_time": "2022-11-06T18:18:21.977Z"
   },
   {
    "duration": 150,
    "start_time": "2022-11-06T18:18:22.147Z"
   },
   {
    "duration": 9,
    "start_time": "2022-11-06T18:18:22.299Z"
   },
   {
    "duration": 15,
    "start_time": "2022-11-06T18:18:22.309Z"
   },
   {
    "duration": 9,
    "start_time": "2022-11-06T18:18:22.326Z"
   },
   {
    "duration": 254,
    "start_time": "2022-11-06T18:18:22.337Z"
   },
   {
    "duration": 156,
    "start_time": "2022-11-06T18:18:22.592Z"
   },
   {
    "duration": 169,
    "start_time": "2022-11-06T18:18:22.749Z"
   },
   {
    "duration": 12,
    "start_time": "2022-11-06T18:18:22.921Z"
   },
   {
    "duration": 11,
    "start_time": "2022-11-06T18:18:22.935Z"
   },
   {
    "duration": 10,
    "start_time": "2022-11-06T18:18:22.947Z"
   },
   {
    "duration": 16,
    "start_time": "2022-11-06T18:18:22.959Z"
   },
   {
    "duration": 4,
    "start_time": "2022-11-06T18:24:18.039Z"
   },
   {
    "duration": 97,
    "start_time": "2022-11-06T18:24:42.163Z"
   },
   {
    "duration": 4,
    "start_time": "2022-11-06T18:24:48.006Z"
   },
   {
    "duration": 1265,
    "start_time": "2022-11-06T18:24:53.489Z"
   },
   {
    "duration": 50,
    "start_time": "2022-11-06T18:24:54.757Z"
   },
   {
    "duration": 20,
    "start_time": "2022-11-06T18:24:54.811Z"
   },
   {
    "duration": 13,
    "start_time": "2022-11-06T18:24:54.833Z"
   },
   {
    "duration": 698,
    "start_time": "2022-11-06T18:24:54.847Z"
   },
   {
    "duration": 5,
    "start_time": "2022-11-06T18:24:55.548Z"
   },
   {
    "duration": 9,
    "start_time": "2022-11-06T18:24:55.555Z"
   },
   {
    "duration": 12,
    "start_time": "2022-11-06T18:24:55.566Z"
   },
   {
    "duration": 11,
    "start_time": "2022-11-06T18:24:55.579Z"
   },
   {
    "duration": 15,
    "start_time": "2022-11-06T18:24:55.591Z"
   },
   {
    "duration": 6,
    "start_time": "2022-11-06T18:24:55.622Z"
   },
   {
    "duration": 12,
    "start_time": "2022-11-06T18:24:55.630Z"
   },
   {
    "duration": 7,
    "start_time": "2022-11-06T18:24:55.647Z"
   },
   {
    "duration": 28,
    "start_time": "2022-11-06T18:24:55.656Z"
   },
   {
    "duration": 4,
    "start_time": "2022-11-06T18:24:55.686Z"
   },
   {
    "duration": 30,
    "start_time": "2022-11-06T18:24:55.692Z"
   },
   {
    "duration": 19,
    "start_time": "2022-11-06T18:24:55.724Z"
   },
   {
    "duration": 13,
    "start_time": "2022-11-06T18:24:55.745Z"
   },
   {
    "duration": 7,
    "start_time": "2022-11-06T18:24:55.760Z"
   },
   {
    "duration": 18,
    "start_time": "2022-11-06T18:24:55.769Z"
   },
   {
    "duration": 12,
    "start_time": "2022-11-06T18:24:55.788Z"
   },
   {
    "duration": 21,
    "start_time": "2022-11-06T18:24:55.801Z"
   },
   {
    "duration": 7,
    "start_time": "2022-11-06T18:24:55.823Z"
   },
   {
    "duration": 24,
    "start_time": "2022-11-06T18:24:55.832Z"
   },
   {
    "duration": 9,
    "start_time": "2022-11-06T18:24:55.859Z"
   },
   {
    "duration": 171,
    "start_time": "2022-11-06T18:24:55.870Z"
   },
   {
    "duration": 10,
    "start_time": "2022-11-06T18:24:56.043Z"
   },
   {
    "duration": 26,
    "start_time": "2022-11-06T18:24:56.055Z"
   },
   {
    "duration": 613,
    "start_time": "2022-11-06T18:24:56.083Z"
   },
   {
    "duration": 47,
    "start_time": "2022-11-06T18:24:56.698Z"
   },
   {
    "duration": 539,
    "start_time": "2022-11-06T18:24:56.748Z"
   },
   {
    "duration": 9,
    "start_time": "2022-11-06T18:24:57.289Z"
   },
   {
    "duration": 129,
    "start_time": "2022-11-06T18:24:57.299Z"
   },
   {
    "duration": 19,
    "start_time": "2022-11-06T18:24:57.429Z"
   },
   {
    "duration": 11,
    "start_time": "2022-11-06T18:24:57.449Z"
   },
   {
    "duration": 273,
    "start_time": "2022-11-06T18:24:57.464Z"
   },
   {
    "duration": 6,
    "start_time": "2022-11-06T18:24:57.739Z"
   },
   {
    "duration": 11,
    "start_time": "2022-11-06T18:24:57.747Z"
   },
   {
    "duration": 149,
    "start_time": "2022-11-06T18:24:57.760Z"
   },
   {
    "duration": 131,
    "start_time": "2022-11-06T18:24:57.913Z"
   },
   {
    "duration": 147,
    "start_time": "2022-11-06T18:24:58.045Z"
   },
   {
    "duration": 155,
    "start_time": "2022-11-06T18:24:58.194Z"
   },
   {
    "duration": 175,
    "start_time": "2022-11-06T18:24:58.351Z"
   },
   {
    "duration": 10,
    "start_time": "2022-11-06T18:24:58.527Z"
   },
   {
    "duration": 17,
    "start_time": "2022-11-06T18:24:58.539Z"
   },
   {
    "duration": 11,
    "start_time": "2022-11-06T18:24:58.558Z"
   },
   {
    "duration": 149,
    "start_time": "2022-11-06T18:24:58.570Z"
   },
   {
    "duration": 154,
    "start_time": "2022-11-06T18:24:58.721Z"
   },
   {
    "duration": 172,
    "start_time": "2022-11-06T18:24:58.877Z"
   },
   {
    "duration": 10,
    "start_time": "2022-11-06T18:24:59.050Z"
   },
   {
    "duration": 9,
    "start_time": "2022-11-06T18:24:59.062Z"
   },
   {
    "duration": 6,
    "start_time": "2022-11-06T18:24:59.073Z"
   },
   {
    "duration": 259,
    "start_time": "2022-11-06T18:24:59.080Z"
   },
   {
    "duration": 170,
    "start_time": "2022-11-06T18:24:59.341Z"
   },
   {
    "duration": 189,
    "start_time": "2022-11-06T18:24:59.513Z"
   },
   {
    "duration": 12,
    "start_time": "2022-11-06T18:24:59.704Z"
   },
   {
    "duration": 8,
    "start_time": "2022-11-06T18:24:59.717Z"
   },
   {
    "duration": 12,
    "start_time": "2022-11-06T18:24:59.727Z"
   },
   {
    "duration": 13,
    "start_time": "2022-11-06T18:24:59.740Z"
   },
   {
    "duration": 374,
    "start_time": "2022-11-06T18:30:05.110Z"
   },
   {
    "duration": 1174,
    "start_time": "2022-11-06T18:30:10.157Z"
   },
   {
    "duration": 58,
    "start_time": "2022-11-06T18:30:11.334Z"
   },
   {
    "duration": 18,
    "start_time": "2022-11-06T18:30:11.393Z"
   },
   {
    "duration": 13,
    "start_time": "2022-11-06T18:30:11.413Z"
   },
   {
    "duration": 738,
    "start_time": "2022-11-06T18:30:11.429Z"
   },
   {
    "duration": 5,
    "start_time": "2022-11-06T18:30:12.169Z"
   },
   {
    "duration": 18,
    "start_time": "2022-11-06T18:30:12.175Z"
   },
   {
    "duration": 11,
    "start_time": "2022-11-06T18:30:12.194Z"
   },
   {
    "duration": 17,
    "start_time": "2022-11-06T18:30:12.207Z"
   },
   {
    "duration": 15,
    "start_time": "2022-11-06T18:30:12.226Z"
   },
   {
    "duration": 6,
    "start_time": "2022-11-06T18:30:12.243Z"
   },
   {
    "duration": 13,
    "start_time": "2022-11-06T18:30:12.251Z"
   },
   {
    "duration": 6,
    "start_time": "2022-11-06T18:30:12.266Z"
   },
   {
    "duration": 17,
    "start_time": "2022-11-06T18:30:12.275Z"
   },
   {
    "duration": 421,
    "start_time": "2022-11-06T18:30:12.294Z"
   },
   {
    "duration": 0,
    "start_time": "2022-11-06T18:30:12.717Z"
   },
   {
    "duration": 0,
    "start_time": "2022-11-06T18:30:12.717Z"
   },
   {
    "duration": 0,
    "start_time": "2022-11-06T18:30:12.718Z"
   },
   {
    "duration": 0,
    "start_time": "2022-11-06T18:30:12.720Z"
   },
   {
    "duration": 0,
    "start_time": "2022-11-06T18:30:12.722Z"
   },
   {
    "duration": 0,
    "start_time": "2022-11-06T18:30:12.723Z"
   },
   {
    "duration": 0,
    "start_time": "2022-11-06T18:30:12.727Z"
   },
   {
    "duration": 0,
    "start_time": "2022-11-06T18:30:12.728Z"
   },
   {
    "duration": 0,
    "start_time": "2022-11-06T18:30:12.729Z"
   },
   {
    "duration": 0,
    "start_time": "2022-11-06T18:30:12.730Z"
   },
   {
    "duration": 0,
    "start_time": "2022-11-06T18:30:12.731Z"
   },
   {
    "duration": 0,
    "start_time": "2022-11-06T18:30:12.732Z"
   },
   {
    "duration": 0,
    "start_time": "2022-11-06T18:30:12.733Z"
   },
   {
    "duration": 0,
    "start_time": "2022-11-06T18:30:12.734Z"
   },
   {
    "duration": 0,
    "start_time": "2022-11-06T18:30:12.735Z"
   },
   {
    "duration": 0,
    "start_time": "2022-11-06T18:30:12.736Z"
   },
   {
    "duration": 0,
    "start_time": "2022-11-06T18:30:12.737Z"
   },
   {
    "duration": 0,
    "start_time": "2022-11-06T18:30:12.738Z"
   },
   {
    "duration": 0,
    "start_time": "2022-11-06T18:30:12.739Z"
   },
   {
    "duration": 0,
    "start_time": "2022-11-06T18:30:12.740Z"
   },
   {
    "duration": 0,
    "start_time": "2022-11-06T18:30:12.741Z"
   },
   {
    "duration": 0,
    "start_time": "2022-11-06T18:30:12.742Z"
   },
   {
    "duration": 0,
    "start_time": "2022-11-06T18:30:12.743Z"
   },
   {
    "duration": 0,
    "start_time": "2022-11-06T18:30:12.744Z"
   },
   {
    "duration": 0,
    "start_time": "2022-11-06T18:30:12.745Z"
   },
   {
    "duration": 0,
    "start_time": "2022-11-06T18:30:12.746Z"
   },
   {
    "duration": 0,
    "start_time": "2022-11-06T18:30:12.747Z"
   },
   {
    "duration": 0,
    "start_time": "2022-11-06T18:30:12.748Z"
   },
   {
    "duration": 0,
    "start_time": "2022-11-06T18:30:12.749Z"
   },
   {
    "duration": 0,
    "start_time": "2022-11-06T18:30:12.750Z"
   },
   {
    "duration": 0,
    "start_time": "2022-11-06T18:30:12.751Z"
   },
   {
    "duration": 0,
    "start_time": "2022-11-06T18:30:12.752Z"
   },
   {
    "duration": 0,
    "start_time": "2022-11-06T18:30:12.753Z"
   },
   {
    "duration": 0,
    "start_time": "2022-11-06T18:30:12.754Z"
   },
   {
    "duration": 0,
    "start_time": "2022-11-06T18:30:12.754Z"
   },
   {
    "duration": 0,
    "start_time": "2022-11-06T18:30:12.755Z"
   },
   {
    "duration": 0,
    "start_time": "2022-11-06T18:30:12.756Z"
   },
   {
    "duration": 0,
    "start_time": "2022-11-06T18:30:12.757Z"
   },
   {
    "duration": 0,
    "start_time": "2022-11-06T18:30:12.758Z"
   },
   {
    "duration": 0,
    "start_time": "2022-11-06T18:30:12.759Z"
   },
   {
    "duration": 0,
    "start_time": "2022-11-06T18:30:12.760Z"
   },
   {
    "duration": 0,
    "start_time": "2022-11-06T18:30:12.761Z"
   },
   {
    "duration": 0,
    "start_time": "2022-11-06T18:30:12.762Z"
   },
   {
    "duration": 0,
    "start_time": "2022-11-06T18:30:12.763Z"
   },
   {
    "duration": 1170,
    "start_time": "2022-11-06T18:30:30.399Z"
   },
   {
    "duration": 80,
    "start_time": "2022-11-06T18:30:31.571Z"
   },
   {
    "duration": 17,
    "start_time": "2022-11-06T18:30:31.653Z"
   },
   {
    "duration": 12,
    "start_time": "2022-11-06T18:30:31.673Z"
   },
   {
    "duration": 721,
    "start_time": "2022-11-06T18:30:31.687Z"
   },
   {
    "duration": 4,
    "start_time": "2022-11-06T18:30:32.409Z"
   },
   {
    "duration": 11,
    "start_time": "2022-11-06T18:30:32.414Z"
   },
   {
    "duration": 24,
    "start_time": "2022-11-06T18:30:32.427Z"
   },
   {
    "duration": 36,
    "start_time": "2022-11-06T18:30:32.452Z"
   },
   {
    "duration": 21,
    "start_time": "2022-11-06T18:30:32.491Z"
   },
   {
    "duration": 22,
    "start_time": "2022-11-06T18:30:32.514Z"
   },
   {
    "duration": 40,
    "start_time": "2022-11-06T18:30:32.538Z"
   },
   {
    "duration": 9,
    "start_time": "2022-11-06T18:30:32.580Z"
   },
   {
    "duration": 34,
    "start_time": "2022-11-06T18:30:32.591Z"
   },
   {
    "duration": 459,
    "start_time": "2022-11-06T18:30:32.627Z"
   },
   {
    "duration": 0,
    "start_time": "2022-11-06T18:30:33.089Z"
   },
   {
    "duration": 0,
    "start_time": "2022-11-06T18:30:33.091Z"
   },
   {
    "duration": 0,
    "start_time": "2022-11-06T18:30:33.091Z"
   },
   {
    "duration": 0,
    "start_time": "2022-11-06T18:30:33.093Z"
   },
   {
    "duration": 0,
    "start_time": "2022-11-06T18:30:33.093Z"
   },
   {
    "duration": 0,
    "start_time": "2022-11-06T18:30:33.094Z"
   },
   {
    "duration": 0,
    "start_time": "2022-11-06T18:30:33.095Z"
   },
   {
    "duration": 0,
    "start_time": "2022-11-06T18:30:33.096Z"
   },
   {
    "duration": 0,
    "start_time": "2022-11-06T18:30:33.097Z"
   },
   {
    "duration": 0,
    "start_time": "2022-11-06T18:30:33.098Z"
   },
   {
    "duration": 0,
    "start_time": "2022-11-06T18:30:33.099Z"
   },
   {
    "duration": 0,
    "start_time": "2022-11-06T18:30:33.100Z"
   },
   {
    "duration": 0,
    "start_time": "2022-11-06T18:30:33.101Z"
   },
   {
    "duration": 0,
    "start_time": "2022-11-06T18:30:33.102Z"
   },
   {
    "duration": 0,
    "start_time": "2022-11-06T18:30:33.103Z"
   },
   {
    "duration": 0,
    "start_time": "2022-11-06T18:30:33.103Z"
   },
   {
    "duration": 0,
    "start_time": "2022-11-06T18:30:33.104Z"
   },
   {
    "duration": 0,
    "start_time": "2022-11-06T18:30:33.105Z"
   },
   {
    "duration": 0,
    "start_time": "2022-11-06T18:30:33.106Z"
   },
   {
    "duration": 0,
    "start_time": "2022-11-06T18:30:33.107Z"
   },
   {
    "duration": 0,
    "start_time": "2022-11-06T18:30:33.107Z"
   },
   {
    "duration": 0,
    "start_time": "2022-11-06T18:30:33.108Z"
   },
   {
    "duration": 0,
    "start_time": "2022-11-06T18:30:33.109Z"
   },
   {
    "duration": 0,
    "start_time": "2022-11-06T18:30:33.110Z"
   },
   {
    "duration": 0,
    "start_time": "2022-11-06T18:30:33.111Z"
   },
   {
    "duration": 0,
    "start_time": "2022-11-06T18:30:33.112Z"
   },
   {
    "duration": 0,
    "start_time": "2022-11-06T18:30:33.113Z"
   },
   {
    "duration": 0,
    "start_time": "2022-11-06T18:30:33.114Z"
   },
   {
    "duration": 0,
    "start_time": "2022-11-06T18:30:33.115Z"
   },
   {
    "duration": 0,
    "start_time": "2022-11-06T18:30:33.116Z"
   },
   {
    "duration": 0,
    "start_time": "2022-11-06T18:30:33.117Z"
   },
   {
    "duration": 0,
    "start_time": "2022-11-06T18:30:33.118Z"
   },
   {
    "duration": 0,
    "start_time": "2022-11-06T18:30:33.118Z"
   },
   {
    "duration": 0,
    "start_time": "2022-11-06T18:30:33.119Z"
   },
   {
    "duration": 0,
    "start_time": "2022-11-06T18:30:33.120Z"
   },
   {
    "duration": 0,
    "start_time": "2022-11-06T18:30:33.122Z"
   },
   {
    "duration": 0,
    "start_time": "2022-11-06T18:30:33.124Z"
   },
   {
    "duration": 0,
    "start_time": "2022-11-06T18:30:33.125Z"
   },
   {
    "duration": 0,
    "start_time": "2022-11-06T18:30:33.126Z"
   },
   {
    "duration": 0,
    "start_time": "2022-11-06T18:30:33.128Z"
   },
   {
    "duration": 0,
    "start_time": "2022-11-06T18:30:33.130Z"
   },
   {
    "duration": 0,
    "start_time": "2022-11-06T18:30:33.131Z"
   },
   {
    "duration": 0,
    "start_time": "2022-11-06T18:30:33.133Z"
   },
   {
    "duration": 0,
    "start_time": "2022-11-06T18:30:33.134Z"
   },
   {
    "duration": 15,
    "start_time": "2022-11-06T18:31:34.746Z"
   },
   {
    "duration": 1061,
    "start_time": "2022-11-06T18:32:18.671Z"
   },
   {
    "duration": 53,
    "start_time": "2022-11-06T18:32:19.734Z"
   },
   {
    "duration": 23,
    "start_time": "2022-11-06T18:32:19.788Z"
   },
   {
    "duration": 17,
    "start_time": "2022-11-06T18:32:19.813Z"
   },
   {
    "duration": 698,
    "start_time": "2022-11-06T18:32:19.832Z"
   },
   {
    "duration": 4,
    "start_time": "2022-11-06T18:32:20.531Z"
   },
   {
    "duration": 7,
    "start_time": "2022-11-06T18:32:20.537Z"
   },
   {
    "duration": 14,
    "start_time": "2022-11-06T18:32:20.547Z"
   },
   {
    "duration": 15,
    "start_time": "2022-11-06T18:32:20.563Z"
   },
   {
    "duration": 30,
    "start_time": "2022-11-06T18:32:20.580Z"
   },
   {
    "duration": 14,
    "start_time": "2022-11-06T18:32:20.611Z"
   },
   {
    "duration": 19,
    "start_time": "2022-11-06T18:32:20.627Z"
   },
   {
    "duration": 9,
    "start_time": "2022-11-06T18:32:20.648Z"
   },
   {
    "duration": 17,
    "start_time": "2022-11-06T18:32:20.659Z"
   },
   {
    "duration": 6,
    "start_time": "2022-11-06T18:32:20.677Z"
   },
   {
    "duration": 4,
    "start_time": "2022-11-06T18:32:20.684Z"
   },
   {
    "duration": 28,
    "start_time": "2022-11-06T18:32:20.690Z"
   },
   {
    "duration": 17,
    "start_time": "2022-11-06T18:32:20.719Z"
   },
   {
    "duration": 16,
    "start_time": "2022-11-06T18:32:20.739Z"
   },
   {
    "duration": 31,
    "start_time": "2022-11-06T18:32:20.757Z"
   },
   {
    "duration": 27,
    "start_time": "2022-11-06T18:32:20.789Z"
   },
   {
    "duration": 16,
    "start_time": "2022-11-06T18:32:20.818Z"
   },
   {
    "duration": 18,
    "start_time": "2022-11-06T18:32:20.836Z"
   },
   {
    "duration": 28,
    "start_time": "2022-11-06T18:32:20.856Z"
   },
   {
    "duration": 10,
    "start_time": "2022-11-06T18:32:20.885Z"
   },
   {
    "duration": 149,
    "start_time": "2022-11-06T18:32:20.897Z"
   },
   {
    "duration": 10,
    "start_time": "2022-11-06T18:32:21.048Z"
   },
   {
    "duration": 26,
    "start_time": "2022-11-06T18:32:21.062Z"
   },
   {
    "duration": 589,
    "start_time": "2022-11-06T18:32:21.091Z"
   },
   {
    "duration": 52,
    "start_time": "2022-11-06T18:32:21.682Z"
   },
   {
    "duration": 570,
    "start_time": "2022-11-06T18:32:21.736Z"
   },
   {
    "duration": 18,
    "start_time": "2022-11-06T18:32:22.308Z"
   },
   {
    "duration": 134,
    "start_time": "2022-11-06T18:32:22.328Z"
   },
   {
    "duration": 19,
    "start_time": "2022-11-06T18:32:22.464Z"
   },
   {
    "duration": 10,
    "start_time": "2022-11-06T18:32:22.484Z"
   },
   {
    "duration": 283,
    "start_time": "2022-11-06T18:32:22.496Z"
   },
   {
    "duration": 6,
    "start_time": "2022-11-06T18:32:22.780Z"
   },
   {
    "duration": 17,
    "start_time": "2022-11-06T18:32:22.788Z"
   },
   {
    "duration": 152,
    "start_time": "2022-11-06T18:32:22.807Z"
   },
   {
    "duration": 166,
    "start_time": "2022-11-06T18:32:22.961Z"
   },
   {
    "duration": 165,
    "start_time": "2022-11-06T18:32:23.129Z"
   },
   {
    "duration": 206,
    "start_time": "2022-11-06T18:32:23.296Z"
   },
   {
    "duration": 167,
    "start_time": "2022-11-06T18:32:23.504Z"
   },
   {
    "duration": 10,
    "start_time": "2022-11-06T18:32:23.672Z"
   },
   {
    "duration": 5,
    "start_time": "2022-11-06T18:32:23.684Z"
   },
   {
    "duration": 27,
    "start_time": "2022-11-06T18:32:23.691Z"
   },
   {
    "duration": 173,
    "start_time": "2022-11-06T18:32:23.719Z"
   },
   {
    "duration": 156,
    "start_time": "2022-11-06T18:32:23.894Z"
   },
   {
    "duration": 157,
    "start_time": "2022-11-06T18:32:24.052Z"
   },
   {
    "duration": 11,
    "start_time": "2022-11-06T18:32:24.210Z"
   },
   {
    "duration": 10,
    "start_time": "2022-11-06T18:32:24.223Z"
   },
   {
    "duration": 13,
    "start_time": "2022-11-06T18:32:24.235Z"
   },
   {
    "duration": 262,
    "start_time": "2022-11-06T18:32:24.251Z"
   },
   {
    "duration": 172,
    "start_time": "2022-11-06T18:32:24.514Z"
   },
   {
    "duration": 178,
    "start_time": "2022-11-06T18:32:24.688Z"
   },
   {
    "duration": 10,
    "start_time": "2022-11-06T18:32:24.868Z"
   },
   {
    "duration": 11,
    "start_time": "2022-11-06T18:32:24.880Z"
   },
   {
    "duration": 24,
    "start_time": "2022-11-06T18:32:24.892Z"
   },
   {
    "duration": 10,
    "start_time": "2022-11-06T18:32:24.918Z"
   },
   {
    "duration": 25,
    "start_time": "2022-11-06T18:40:10.481Z"
   },
   {
    "duration": 88,
    "start_time": "2022-11-06T18:45:23.353Z"
   },
   {
    "duration": 94,
    "start_time": "2022-11-06T18:45:45.200Z"
   },
   {
    "duration": 1075,
    "start_time": "2022-11-06T18:49:55.817Z"
   },
   {
    "duration": 59,
    "start_time": "2022-11-06T18:49:56.894Z"
   },
   {
    "duration": 18,
    "start_time": "2022-11-06T18:49:56.955Z"
   },
   {
    "duration": 13,
    "start_time": "2022-11-06T18:49:56.975Z"
   },
   {
    "duration": 661,
    "start_time": "2022-11-06T18:49:56.990Z"
   },
   {
    "duration": 4,
    "start_time": "2022-11-06T18:49:57.652Z"
   },
   {
    "duration": 8,
    "start_time": "2022-11-06T18:49:57.657Z"
   },
   {
    "duration": 11,
    "start_time": "2022-11-06T18:49:57.666Z"
   },
   {
    "duration": 12,
    "start_time": "2022-11-06T18:49:57.678Z"
   },
   {
    "duration": 14,
    "start_time": "2022-11-06T18:49:57.692Z"
   },
   {
    "duration": 4,
    "start_time": "2022-11-06T18:49:57.721Z"
   },
   {
    "duration": 13,
    "start_time": "2022-11-06T18:49:57.726Z"
   },
   {
    "duration": 4,
    "start_time": "2022-11-06T18:49:57.740Z"
   },
   {
    "duration": 14,
    "start_time": "2022-11-06T18:49:57.745Z"
   },
   {
    "duration": 3,
    "start_time": "2022-11-06T18:49:57.760Z"
   },
   {
    "duration": 12,
    "start_time": "2022-11-06T18:49:57.765Z"
   },
   {
    "duration": 11,
    "start_time": "2022-11-06T18:49:57.778Z"
   },
   {
    "duration": 31,
    "start_time": "2022-11-06T18:49:57.791Z"
   },
   {
    "duration": 11,
    "start_time": "2022-11-06T18:49:57.823Z"
   },
   {
    "duration": 13,
    "start_time": "2022-11-06T18:49:57.836Z"
   },
   {
    "duration": 5,
    "start_time": "2022-11-06T18:49:57.851Z"
   },
   {
    "duration": 11,
    "start_time": "2022-11-06T18:49:57.858Z"
   },
   {
    "duration": 20,
    "start_time": "2022-11-06T18:49:57.871Z"
   },
   {
    "duration": 5,
    "start_time": "2022-11-06T18:49:57.892Z"
   },
   {
    "duration": 165,
    "start_time": "2022-11-06T18:49:57.898Z"
   },
   {
    "duration": 8,
    "start_time": "2022-11-06T18:49:58.065Z"
   },
   {
    "duration": 5,
    "start_time": "2022-11-06T18:49:58.075Z"
   },
   {
    "duration": 577,
    "start_time": "2022-11-06T18:49:58.083Z"
   },
   {
    "duration": 51,
    "start_time": "2022-11-06T18:49:58.661Z"
   },
   {
    "duration": 499,
    "start_time": "2022-11-06T18:49:58.714Z"
   },
   {
    "duration": 15,
    "start_time": "2022-11-06T18:49:59.214Z"
   },
   {
    "duration": 127,
    "start_time": "2022-11-06T18:49:59.230Z"
   },
   {
    "duration": 18,
    "start_time": "2022-11-06T18:49:59.358Z"
   },
   {
    "duration": 9,
    "start_time": "2022-11-06T18:49:59.377Z"
   },
   {
    "duration": 281,
    "start_time": "2022-11-06T18:49:59.388Z"
   },
   {
    "duration": 5,
    "start_time": "2022-11-06T18:49:59.671Z"
   },
   {
    "duration": 11,
    "start_time": "2022-11-06T18:49:59.678Z"
   },
   {
    "duration": 161,
    "start_time": "2022-11-06T18:49:59.691Z"
   },
   {
    "duration": 127,
    "start_time": "2022-11-06T18:49:59.853Z"
   },
   {
    "duration": 151,
    "start_time": "2022-11-06T18:49:59.982Z"
   },
   {
    "duration": 159,
    "start_time": "2022-11-06T18:50:00.134Z"
   },
   {
    "duration": 149,
    "start_time": "2022-11-06T18:50:00.295Z"
   },
   {
    "duration": 9,
    "start_time": "2022-11-06T18:50:00.446Z"
   },
   {
    "duration": 6,
    "start_time": "2022-11-06T18:50:00.457Z"
   },
   {
    "duration": 10,
    "start_time": "2022-11-06T18:50:00.464Z"
   },
   {
    "duration": 149,
    "start_time": "2022-11-06T18:50:00.475Z"
   },
   {
    "duration": 159,
    "start_time": "2022-11-06T18:50:00.626Z"
   },
   {
    "duration": 173,
    "start_time": "2022-11-06T18:50:00.787Z"
   },
   {
    "duration": 14,
    "start_time": "2022-11-06T18:50:00.962Z"
   },
   {
    "duration": 11,
    "start_time": "2022-11-06T18:50:00.978Z"
   },
   {
    "duration": 22,
    "start_time": "2022-11-06T18:50:00.991Z"
   },
   {
    "duration": 285,
    "start_time": "2022-11-06T18:50:01.015Z"
   },
   {
    "duration": 171,
    "start_time": "2022-11-06T18:50:01.302Z"
   },
   {
    "duration": 164,
    "start_time": "2022-11-06T18:50:01.475Z"
   },
   {
    "duration": 10,
    "start_time": "2022-11-06T18:50:01.641Z"
   },
   {
    "duration": 74,
    "start_time": "2022-11-06T18:50:01.652Z"
   },
   {
    "duration": 0,
    "start_time": "2022-11-06T18:50:01.728Z"
   },
   {
    "duration": 0,
    "start_time": "2022-11-06T18:50:01.729Z"
   },
   {
    "duration": 89,
    "start_time": "2022-11-06T18:50:12.843Z"
   },
   {
    "duration": 12,
    "start_time": "2022-11-06T18:50:33.840Z"
   },
   {
    "duration": 12,
    "start_time": "2022-11-06T18:50:45.337Z"
   },
   {
    "duration": 13,
    "start_time": "2022-11-06T18:51:04.937Z"
   },
   {
    "duration": 13,
    "start_time": "2022-11-06T18:51:14.286Z"
   },
   {
    "duration": 15,
    "start_time": "2022-11-06T19:02:56.957Z"
   },
   {
    "duration": 18,
    "start_time": "2022-11-06T19:03:30.245Z"
   },
   {
    "duration": 7,
    "start_time": "2022-11-06T19:05:19.614Z"
   },
   {
    "duration": 1292,
    "start_time": "2022-11-07T05:36:16.573Z"
   },
   {
    "duration": 106,
    "start_time": "2022-11-07T05:36:17.867Z"
   },
   {
    "duration": 21,
    "start_time": "2022-11-07T05:36:17.975Z"
   },
   {
    "duration": 16,
    "start_time": "2022-11-07T05:36:17.998Z"
   },
   {
    "duration": 764,
    "start_time": "2022-11-07T05:36:18.016Z"
   },
   {
    "duration": 4,
    "start_time": "2022-11-07T05:36:18.782Z"
   },
   {
    "duration": 12,
    "start_time": "2022-11-07T05:36:18.788Z"
   },
   {
    "duration": 12,
    "start_time": "2022-11-07T05:36:18.801Z"
   },
   {
    "duration": 26,
    "start_time": "2022-11-07T05:36:18.814Z"
   },
   {
    "duration": 16,
    "start_time": "2022-11-07T05:36:18.843Z"
   },
   {
    "duration": 15,
    "start_time": "2022-11-07T05:36:18.861Z"
   },
   {
    "duration": 12,
    "start_time": "2022-11-07T05:36:18.878Z"
   },
   {
    "duration": 6,
    "start_time": "2022-11-07T05:36:18.892Z"
   },
   {
    "duration": 11,
    "start_time": "2022-11-07T05:36:18.900Z"
   },
   {
    "duration": 4,
    "start_time": "2022-11-07T05:36:18.933Z"
   },
   {
    "duration": 15,
    "start_time": "2022-11-07T05:36:18.939Z"
   },
   {
    "duration": 10,
    "start_time": "2022-11-07T05:36:18.956Z"
   },
   {
    "duration": 6,
    "start_time": "2022-11-07T05:36:18.967Z"
   },
   {
    "duration": 22,
    "start_time": "2022-11-07T05:36:18.975Z"
   },
   {
    "duration": 49,
    "start_time": "2022-11-07T05:36:18.999Z"
   },
   {
    "duration": 7,
    "start_time": "2022-11-07T05:36:19.050Z"
   },
   {
    "duration": 9,
    "start_time": "2022-11-07T05:36:19.059Z"
   },
   {
    "duration": 26,
    "start_time": "2022-11-07T05:36:19.069Z"
   },
   {
    "duration": 7,
    "start_time": "2022-11-07T05:36:19.096Z"
   },
   {
    "duration": 195,
    "start_time": "2022-11-07T05:36:19.105Z"
   },
   {
    "duration": 10,
    "start_time": "2022-11-07T05:36:19.301Z"
   },
   {
    "duration": 20,
    "start_time": "2022-11-07T05:36:19.313Z"
   },
   {
    "duration": 636,
    "start_time": "2022-11-07T05:36:19.337Z"
   },
   {
    "duration": 57,
    "start_time": "2022-11-07T05:36:19.975Z"
   },
   {
    "duration": 633,
    "start_time": "2022-11-07T05:36:20.033Z"
   },
   {
    "duration": 10,
    "start_time": "2022-11-07T05:36:20.668Z"
   },
   {
    "duration": 146,
    "start_time": "2022-11-07T05:36:20.679Z"
   },
   {
    "duration": 22,
    "start_time": "2022-11-07T05:36:20.827Z"
   },
   {
    "duration": 11,
    "start_time": "2022-11-07T05:36:20.850Z"
   },
   {
    "duration": 287,
    "start_time": "2022-11-07T05:36:20.862Z"
   },
   {
    "duration": 6,
    "start_time": "2022-11-07T05:36:21.150Z"
   },
   {
    "duration": 9,
    "start_time": "2022-11-07T05:36:21.158Z"
   },
   {
    "duration": 170,
    "start_time": "2022-11-07T05:36:21.169Z"
   },
   {
    "duration": 136,
    "start_time": "2022-11-07T05:36:21.341Z"
   },
   {
    "duration": 166,
    "start_time": "2022-11-07T05:36:21.479Z"
   },
   {
    "duration": 168,
    "start_time": "2022-11-07T05:36:21.646Z"
   },
   {
    "duration": 168,
    "start_time": "2022-11-07T05:36:21.816Z"
   },
   {
    "duration": 10,
    "start_time": "2022-11-07T05:36:21.985Z"
   },
   {
    "duration": 7,
    "start_time": "2022-11-07T05:36:21.996Z"
   },
   {
    "duration": 18,
    "start_time": "2022-11-07T05:36:22.004Z"
   },
   {
    "duration": 160,
    "start_time": "2022-11-07T05:36:22.033Z"
   },
   {
    "duration": 185,
    "start_time": "2022-11-07T05:36:22.194Z"
   },
   {
    "duration": 166,
    "start_time": "2022-11-07T05:36:22.381Z"
   },
   {
    "duration": 10,
    "start_time": "2022-11-07T05:36:22.548Z"
   },
   {
    "duration": 5,
    "start_time": "2022-11-07T05:36:22.560Z"
   },
   {
    "duration": 9,
    "start_time": "2022-11-07T05:36:22.567Z"
   },
   {
    "duration": 295,
    "start_time": "2022-11-07T05:36:22.578Z"
   },
   {
    "duration": 189,
    "start_time": "2022-11-07T05:36:22.874Z"
   },
   {
    "duration": 200,
    "start_time": "2022-11-07T05:36:23.066Z"
   },
   {
    "duration": 12,
    "start_time": "2022-11-07T05:36:23.268Z"
   },
   {
    "duration": 10,
    "start_time": "2022-11-07T05:36:23.282Z"
   },
   {
    "duration": 11,
    "start_time": "2022-11-07T05:36:23.294Z"
   },
   {
    "duration": 27,
    "start_time": "2022-11-07T05:36:23.307Z"
   },
   {
    "duration": 1203,
    "start_time": "2022-11-07T07:41:20.268Z"
   },
   {
    "duration": 57,
    "start_time": "2022-11-07T07:41:21.473Z"
   },
   {
    "duration": 19,
    "start_time": "2022-11-07T07:41:21.532Z"
   },
   {
    "duration": 14,
    "start_time": "2022-11-07T07:41:21.553Z"
   },
   {
    "duration": 793,
    "start_time": "2022-11-07T07:41:21.569Z"
   },
   {
    "duration": 4,
    "start_time": "2022-11-07T07:41:22.364Z"
   },
   {
    "duration": 10,
    "start_time": "2022-11-07T07:41:22.370Z"
   },
   {
    "duration": 14,
    "start_time": "2022-11-07T07:41:22.382Z"
   },
   {
    "duration": 13,
    "start_time": "2022-11-07T07:41:22.398Z"
   },
   {
    "duration": 40,
    "start_time": "2022-11-07T07:41:22.414Z"
   },
   {
    "duration": 6,
    "start_time": "2022-11-07T07:41:22.456Z"
   },
   {
    "duration": 15,
    "start_time": "2022-11-07T07:41:22.464Z"
   },
   {
    "duration": 9,
    "start_time": "2022-11-07T07:41:22.481Z"
   },
   {
    "duration": 11,
    "start_time": "2022-11-07T07:41:22.491Z"
   },
   {
    "duration": 33,
    "start_time": "2022-11-07T07:41:22.504Z"
   },
   {
    "duration": 27,
    "start_time": "2022-11-07T07:41:22.539Z"
   },
   {
    "duration": 10,
    "start_time": "2022-11-07T07:41:22.568Z"
   },
   {
    "duration": 9,
    "start_time": "2022-11-07T07:41:22.580Z"
   },
   {
    "duration": 27,
    "start_time": "2022-11-07T07:41:22.590Z"
   },
   {
    "duration": 14,
    "start_time": "2022-11-07T07:41:22.634Z"
   },
   {
    "duration": 6,
    "start_time": "2022-11-07T07:41:22.649Z"
   },
   {
    "duration": 8,
    "start_time": "2022-11-07T07:41:22.657Z"
   },
   {
    "duration": 26,
    "start_time": "2022-11-07T07:41:22.666Z"
   },
   {
    "duration": 9,
    "start_time": "2022-11-07T07:41:22.694Z"
   },
   {
    "duration": 34,
    "start_time": "2022-11-07T07:41:22.705Z"
   },
   {
    "duration": 181,
    "start_time": "2022-11-07T07:41:22.741Z"
   },
   {
    "duration": 15,
    "start_time": "2022-11-07T07:41:22.924Z"
   },
   {
    "duration": 9,
    "start_time": "2022-11-07T07:41:22.944Z"
   },
   {
    "duration": 678,
    "start_time": "2022-11-07T07:41:22.955Z"
   },
   {
    "duration": 57,
    "start_time": "2022-11-07T07:41:23.635Z"
   },
   {
    "duration": 618,
    "start_time": "2022-11-07T07:41:23.694Z"
   },
   {
    "duration": 21,
    "start_time": "2022-11-07T07:41:24.314Z"
   },
   {
    "duration": 151,
    "start_time": "2022-11-07T07:41:24.336Z"
   },
   {
    "duration": 20,
    "start_time": "2022-11-07T07:41:24.489Z"
   },
   {
    "duration": 30,
    "start_time": "2022-11-07T07:41:24.511Z"
   },
   {
    "duration": 308,
    "start_time": "2022-11-07T07:41:24.543Z"
   },
   {
    "duration": 6,
    "start_time": "2022-11-07T07:41:24.853Z"
   },
   {
    "duration": 30,
    "start_time": "2022-11-07T07:41:24.861Z"
   },
   {
    "duration": 156,
    "start_time": "2022-11-07T07:41:24.893Z"
   },
   {
    "duration": 149,
    "start_time": "2022-11-07T07:41:25.051Z"
   },
   {
    "duration": 172,
    "start_time": "2022-11-07T07:41:25.202Z"
   },
   {
    "duration": 179,
    "start_time": "2022-11-07T07:41:25.376Z"
   },
   {
    "duration": 181,
    "start_time": "2022-11-07T07:41:25.557Z"
   },
   {
    "duration": 11,
    "start_time": "2022-11-07T07:41:25.739Z"
   },
   {
    "duration": 22,
    "start_time": "2022-11-07T07:41:25.753Z"
   },
   {
    "duration": 21,
    "start_time": "2022-11-07T07:41:25.777Z"
   },
   {
    "duration": 199,
    "start_time": "2022-11-07T07:41:25.800Z"
   },
   {
    "duration": 175,
    "start_time": "2022-11-07T07:41:26.002Z"
   },
   {
    "duration": 222,
    "start_time": "2022-11-07T07:41:26.180Z"
   },
   {
    "duration": 13,
    "start_time": "2022-11-07T07:41:26.404Z"
   },
   {
    "duration": 8,
    "start_time": "2022-11-07T07:41:26.433Z"
   },
   {
    "duration": 8,
    "start_time": "2022-11-07T07:41:26.443Z"
   },
   {
    "duration": 323,
    "start_time": "2022-11-07T07:41:26.454Z"
   },
   {
    "duration": 185,
    "start_time": "2022-11-07T07:41:26.778Z"
   },
   {
    "duration": 192,
    "start_time": "2022-11-07T07:41:26.965Z"
   },
   {
    "duration": 14,
    "start_time": "2022-11-07T07:41:27.158Z"
   },
   {
    "duration": 9,
    "start_time": "2022-11-07T07:41:27.174Z"
   },
   {
    "duration": 13,
    "start_time": "2022-11-07T07:41:27.185Z"
   },
   {
    "duration": 11,
    "start_time": "2022-11-07T07:41:27.201Z"
   },
   {
    "duration": 7,
    "start_time": "2022-11-07T07:42:00.417Z"
   },
   {
    "duration": 1218,
    "start_time": "2022-11-07T08:17:50.647Z"
   },
   {
    "duration": 55,
    "start_time": "2022-11-07T08:17:51.867Z"
   },
   {
    "duration": 20,
    "start_time": "2022-11-07T08:17:51.924Z"
   },
   {
    "duration": 15,
    "start_time": "2022-11-07T08:17:51.947Z"
   },
   {
    "duration": 838,
    "start_time": "2022-11-07T08:17:51.963Z"
   },
   {
    "duration": 4,
    "start_time": "2022-11-07T08:17:52.803Z"
   },
   {
    "duration": 8,
    "start_time": "2022-11-07T08:17:52.809Z"
   },
   {
    "duration": 26,
    "start_time": "2022-11-07T08:17:52.818Z"
   },
   {
    "duration": 14,
    "start_time": "2022-11-07T08:17:52.846Z"
   },
   {
    "duration": 17,
    "start_time": "2022-11-07T08:17:52.863Z"
   },
   {
    "duration": 6,
    "start_time": "2022-11-07T08:17:52.882Z"
   },
   {
    "duration": 14,
    "start_time": "2022-11-07T08:17:52.889Z"
   },
   {
    "duration": 30,
    "start_time": "2022-11-07T08:17:52.904Z"
   },
   {
    "duration": 13,
    "start_time": "2022-11-07T08:17:52.936Z"
   },
   {
    "duration": 4,
    "start_time": "2022-11-07T08:17:52.950Z"
   },
   {
    "duration": 16,
    "start_time": "2022-11-07T08:17:52.956Z"
   },
   {
    "duration": 10,
    "start_time": "2022-11-07T08:17:52.974Z"
   },
   {
    "duration": 7,
    "start_time": "2022-11-07T08:17:52.985Z"
   },
   {
    "duration": 51,
    "start_time": "2022-11-07T08:17:52.993Z"
   },
   {
    "duration": 13,
    "start_time": "2022-11-07T08:17:53.046Z"
   },
   {
    "duration": 6,
    "start_time": "2022-11-07T08:17:53.061Z"
   },
   {
    "duration": 8,
    "start_time": "2022-11-07T08:17:53.069Z"
   },
   {
    "duration": 22,
    "start_time": "2022-11-07T08:17:53.079Z"
   },
   {
    "duration": 7,
    "start_time": "2022-11-07T08:17:53.133Z"
   },
   {
    "duration": 171,
    "start_time": "2022-11-07T08:17:53.142Z"
   },
   {
    "duration": 22,
    "start_time": "2022-11-07T08:17:53.315Z"
   },
   {
    "duration": 9,
    "start_time": "2022-11-07T08:17:53.339Z"
   },
   {
    "duration": 668,
    "start_time": "2022-11-07T08:17:53.353Z"
   },
   {
    "duration": 53,
    "start_time": "2022-11-07T08:17:54.023Z"
   },
   {
    "duration": 603,
    "start_time": "2022-11-07T08:17:54.078Z"
   },
   {
    "duration": 11,
    "start_time": "2022-11-07T08:17:54.682Z"
   },
   {
    "duration": 140,
    "start_time": "2022-11-07T08:17:54.694Z"
   },
   {
    "duration": 24,
    "start_time": "2022-11-07T08:17:54.836Z"
   },
   {
    "duration": 14,
    "start_time": "2022-11-07T08:17:54.861Z"
   },
   {
    "duration": 305,
    "start_time": "2022-11-07T08:17:54.877Z"
   },
   {
    "duration": 6,
    "start_time": "2022-11-07T08:17:55.184Z"
   },
   {
    "duration": 18,
    "start_time": "2022-11-07T08:17:55.191Z"
   },
   {
    "duration": 151,
    "start_time": "2022-11-07T08:17:55.211Z"
   },
   {
    "duration": 158,
    "start_time": "2022-11-07T08:17:55.364Z"
   },
   {
    "duration": 178,
    "start_time": "2022-11-07T08:17:55.525Z"
   },
   {
    "duration": 173,
    "start_time": "2022-11-07T08:17:55.704Z"
   },
   {
    "duration": 185,
    "start_time": "2022-11-07T08:17:55.878Z"
   },
   {
    "duration": 11,
    "start_time": "2022-11-07T08:17:56.065Z"
   },
   {
    "duration": 6,
    "start_time": "2022-11-07T08:17:56.077Z"
   },
   {
    "duration": 9,
    "start_time": "2022-11-07T08:17:56.085Z"
   },
   {
    "duration": 219,
    "start_time": "2022-11-07T08:17:56.096Z"
   },
   {
    "duration": 262,
    "start_time": "2022-11-07T08:17:56.318Z"
   },
   {
    "duration": 175,
    "start_time": "2022-11-07T08:17:56.582Z"
   },
   {
    "duration": 12,
    "start_time": "2022-11-07T08:17:56.759Z"
   },
   {
    "duration": 8,
    "start_time": "2022-11-07T08:17:56.773Z"
   },
   {
    "duration": 11,
    "start_time": "2022-11-07T08:17:56.782Z"
   },
   {
    "duration": 272,
    "start_time": "2022-11-07T08:17:56.795Z"
   },
   {
    "duration": 204,
    "start_time": "2022-11-07T08:17:57.068Z"
   },
   {
    "duration": 184,
    "start_time": "2022-11-07T08:17:57.274Z"
   },
   {
    "duration": 11,
    "start_time": "2022-11-07T08:17:57.460Z"
   },
   {
    "duration": 10,
    "start_time": "2022-11-07T08:17:57.473Z"
   },
   {
    "duration": 9,
    "start_time": "2022-11-07T08:17:57.485Z"
   },
   {
    "duration": 8,
    "start_time": "2022-11-07T08:17:57.496Z"
   },
   {
    "duration": 5,
    "start_time": "2022-11-07T08:45:12.209Z"
   },
   {
    "duration": 4,
    "start_time": "2022-11-07T08:45:14.379Z"
   },
   {
    "duration": 1151,
    "start_time": "2022-11-07T08:45:36.974Z"
   },
   {
    "duration": 62,
    "start_time": "2022-11-07T08:45:38.127Z"
   },
   {
    "duration": 24,
    "start_time": "2022-11-07T08:45:38.190Z"
   },
   {
    "duration": 23,
    "start_time": "2022-11-07T08:45:38.217Z"
   },
   {
    "duration": 780,
    "start_time": "2022-11-07T08:45:38.244Z"
   },
   {
    "duration": 9,
    "start_time": "2022-11-07T08:45:39.026Z"
   },
   {
    "duration": 4,
    "start_time": "2022-11-07T08:45:39.037Z"
   },
   {
    "duration": 15,
    "start_time": "2022-11-07T08:45:39.043Z"
   },
   {
    "duration": 18,
    "start_time": "2022-11-07T08:45:39.060Z"
   },
   {
    "duration": 18,
    "start_time": "2022-11-07T08:45:39.082Z"
   },
   {
    "duration": 6,
    "start_time": "2022-11-07T08:45:39.134Z"
   },
   {
    "duration": 38,
    "start_time": "2022-11-07T08:45:39.142Z"
   },
   {
    "duration": 26,
    "start_time": "2022-11-07T08:45:39.182Z"
   },
   {
    "duration": 36,
    "start_time": "2022-11-07T08:45:39.210Z"
   },
   {
    "duration": 37,
    "start_time": "2022-11-07T08:45:39.249Z"
   },
   {
    "duration": 48,
    "start_time": "2022-11-07T08:45:39.290Z"
   },
   {
    "duration": 33,
    "start_time": "2022-11-07T08:45:39.339Z"
   },
   {
    "duration": 27,
    "start_time": "2022-11-07T08:45:39.374Z"
   },
   {
    "duration": 41,
    "start_time": "2022-11-07T08:45:39.404Z"
   },
   {
    "duration": 29,
    "start_time": "2022-11-07T08:45:39.447Z"
   },
   {
    "duration": 40,
    "start_time": "2022-11-07T08:45:39.479Z"
   },
   {
    "duration": 33,
    "start_time": "2022-11-07T08:45:39.521Z"
   },
   {
    "duration": 47,
    "start_time": "2022-11-07T08:45:39.557Z"
   },
   {
    "duration": 14,
    "start_time": "2022-11-07T08:45:39.606Z"
   },
   {
    "duration": 265,
    "start_time": "2022-11-07T08:45:39.622Z"
   },
   {
    "duration": 12,
    "start_time": "2022-11-07T08:45:39.890Z"
   },
   {
    "duration": 38,
    "start_time": "2022-11-07T08:45:39.904Z"
   },
   {
    "duration": 670,
    "start_time": "2022-11-07T08:45:39.947Z"
   },
   {
    "duration": 59,
    "start_time": "2022-11-07T08:45:40.619Z"
   },
   {
    "duration": 644,
    "start_time": "2022-11-07T08:45:40.680Z"
   },
   {
    "duration": 13,
    "start_time": "2022-11-07T08:45:41.326Z"
   },
   {
    "duration": 151,
    "start_time": "2022-11-07T08:45:41.341Z"
   },
   {
    "duration": 20,
    "start_time": "2022-11-07T08:45:41.493Z"
   },
   {
    "duration": 28,
    "start_time": "2022-11-07T08:45:41.515Z"
   },
   {
    "duration": 365,
    "start_time": "2022-11-07T08:45:41.545Z"
   },
   {
    "duration": 6,
    "start_time": "2022-11-07T08:45:41.912Z"
   },
   {
    "duration": 30,
    "start_time": "2022-11-07T08:45:41.920Z"
   },
   {
    "duration": 160,
    "start_time": "2022-11-07T08:45:41.951Z"
   },
   {
    "duration": 187,
    "start_time": "2022-11-07T08:45:42.113Z"
   },
   {
    "duration": 179,
    "start_time": "2022-11-07T08:45:42.301Z"
   },
   {
    "duration": 190,
    "start_time": "2022-11-07T08:45:42.482Z"
   },
   {
    "duration": 174,
    "start_time": "2022-11-07T08:45:42.673Z"
   },
   {
    "duration": 10,
    "start_time": "2022-11-07T08:45:42.849Z"
   },
   {
    "duration": 7,
    "start_time": "2022-11-07T08:45:42.861Z"
   },
   {
    "duration": 9,
    "start_time": "2022-11-07T08:45:42.870Z"
   },
   {
    "duration": 183,
    "start_time": "2022-11-07T08:45:42.880Z"
   },
   {
    "duration": 187,
    "start_time": "2022-11-07T08:45:43.064Z"
   },
   {
    "duration": 170,
    "start_time": "2022-11-07T08:45:43.253Z"
   },
   {
    "duration": 16,
    "start_time": "2022-11-07T08:45:43.425Z"
   },
   {
    "duration": 7,
    "start_time": "2022-11-07T08:45:43.443Z"
   },
   {
    "duration": 15,
    "start_time": "2022-11-07T08:45:43.452Z"
   },
   {
    "duration": 283,
    "start_time": "2022-11-07T08:45:43.469Z"
   },
   {
    "duration": 206,
    "start_time": "2022-11-07T08:45:43.754Z"
   },
   {
    "duration": 180,
    "start_time": "2022-11-07T08:45:43.961Z"
   },
   {
    "duration": 11,
    "start_time": "2022-11-07T08:45:44.143Z"
   },
   {
    "duration": 19,
    "start_time": "2022-11-07T08:45:44.156Z"
   },
   {
    "duration": 25,
    "start_time": "2022-11-07T08:45:44.177Z"
   },
   {
    "duration": 11,
    "start_time": "2022-11-07T08:45:44.204Z"
   },
   {
    "duration": 7,
    "start_time": "2022-11-07T08:47:12.057Z"
   },
   {
    "duration": 1435,
    "start_time": "2022-11-07T08:47:21.210Z"
   },
   {
    "duration": 76,
    "start_time": "2022-11-07T08:47:22.647Z"
   },
   {
    "duration": 33,
    "start_time": "2022-11-07T08:47:22.726Z"
   },
   {
    "duration": 26,
    "start_time": "2022-11-07T08:47:22.763Z"
   },
   {
    "duration": 869,
    "start_time": "2022-11-07T08:47:22.791Z"
   },
   {
    "duration": 4,
    "start_time": "2022-11-07T08:47:23.663Z"
   },
   {
    "duration": 6,
    "start_time": "2022-11-07T08:47:23.669Z"
   },
   {
    "duration": 23,
    "start_time": "2022-11-07T08:47:23.677Z"
   },
   {
    "duration": 21,
    "start_time": "2022-11-07T08:47:23.702Z"
   },
   {
    "duration": 28,
    "start_time": "2022-11-07T08:47:23.726Z"
   },
   {
    "duration": 11,
    "start_time": "2022-11-07T08:47:23.756Z"
   },
   {
    "duration": 18,
    "start_time": "2022-11-07T08:47:23.771Z"
   },
   {
    "duration": 6,
    "start_time": "2022-11-07T08:47:23.791Z"
   },
   {
    "duration": 17,
    "start_time": "2022-11-07T08:47:23.799Z"
   },
   {
    "duration": 21,
    "start_time": "2022-11-07T08:47:23.818Z"
   },
   {
    "duration": 25,
    "start_time": "2022-11-07T08:47:23.841Z"
   },
   {
    "duration": 13,
    "start_time": "2022-11-07T08:47:23.868Z"
   },
   {
    "duration": 8,
    "start_time": "2022-11-07T08:47:23.882Z"
   },
   {
    "duration": 23,
    "start_time": "2022-11-07T08:47:23.891Z"
   },
   {
    "duration": 38,
    "start_time": "2022-11-07T08:47:23.916Z"
   },
   {
    "duration": 14,
    "start_time": "2022-11-07T08:47:23.956Z"
   },
   {
    "duration": 15,
    "start_time": "2022-11-07T08:47:23.972Z"
   },
   {
    "duration": 23,
    "start_time": "2022-11-07T08:47:23.989Z"
   },
   {
    "duration": 7,
    "start_time": "2022-11-07T08:47:24.013Z"
   },
   {
    "duration": 183,
    "start_time": "2022-11-07T08:47:24.022Z"
   },
   {
    "duration": 10,
    "start_time": "2022-11-07T08:47:24.208Z"
   },
   {
    "duration": 12,
    "start_time": "2022-11-07T08:47:24.235Z"
   },
   {
    "duration": 698,
    "start_time": "2022-11-07T08:47:24.253Z"
   },
   {
    "duration": 65,
    "start_time": "2022-11-07T08:47:24.954Z"
   },
   {
    "duration": 639,
    "start_time": "2022-11-07T08:47:25.020Z"
   },
   {
    "duration": 12,
    "start_time": "2022-11-07T08:47:25.661Z"
   },
   {
    "duration": 153,
    "start_time": "2022-11-07T08:47:25.674Z"
   },
   {
    "duration": 23,
    "start_time": "2022-11-07T08:47:25.835Z"
   },
   {
    "duration": 23,
    "start_time": "2022-11-07T08:47:25.859Z"
   },
   {
    "duration": 316,
    "start_time": "2022-11-07T08:47:25.883Z"
   },
   {
    "duration": 6,
    "start_time": "2022-11-07T08:47:26.201Z"
   },
   {
    "duration": 13,
    "start_time": "2022-11-07T08:47:26.210Z"
   },
   {
    "duration": 193,
    "start_time": "2022-11-07T08:47:26.234Z"
   },
   {
    "duration": 231,
    "start_time": "2022-11-07T08:47:26.433Z"
   },
   {
    "duration": 231,
    "start_time": "2022-11-07T08:47:26.666Z"
   },
   {
    "duration": 211,
    "start_time": "2022-11-07T08:47:26.899Z"
   },
   {
    "duration": 213,
    "start_time": "2022-11-07T08:47:27.112Z"
   },
   {
    "duration": 20,
    "start_time": "2022-11-07T08:47:27.327Z"
   },
   {
    "duration": 21,
    "start_time": "2022-11-07T08:47:27.349Z"
   },
   {
    "duration": 13,
    "start_time": "2022-11-07T08:47:27.372Z"
   },
   {
    "duration": 204,
    "start_time": "2022-11-07T08:47:27.387Z"
   },
   {
    "duration": 188,
    "start_time": "2022-11-07T08:47:27.593Z"
   },
   {
    "duration": 192,
    "start_time": "2022-11-07T08:47:27.783Z"
   },
   {
    "duration": 13,
    "start_time": "2022-11-07T08:47:27.977Z"
   },
   {
    "duration": 7,
    "start_time": "2022-11-07T08:47:27.992Z"
   },
   {
    "duration": 12,
    "start_time": "2022-11-07T08:47:28.001Z"
   },
   {
    "duration": 353,
    "start_time": "2022-11-07T08:47:28.015Z"
   },
   {
    "duration": 225,
    "start_time": "2022-11-07T08:47:28.370Z"
   },
   {
    "duration": 219,
    "start_time": "2022-11-07T08:47:28.597Z"
   },
   {
    "duration": 24,
    "start_time": "2022-11-07T08:47:28.818Z"
   },
   {
    "duration": 22,
    "start_time": "2022-11-07T08:47:28.844Z"
   },
   {
    "duration": 18,
    "start_time": "2022-11-07T08:47:28.868Z"
   },
   {
    "duration": 9,
    "start_time": "2022-11-07T08:47:28.888Z"
   },
   {
    "duration": 6,
    "start_time": "2022-11-07T08:51:37.366Z"
   },
   {
    "duration": 1154,
    "start_time": "2022-11-07T08:51:43.081Z"
   },
   {
    "duration": 54,
    "start_time": "2022-11-07T08:51:44.238Z"
   },
   {
    "duration": 19,
    "start_time": "2022-11-07T08:51:44.294Z"
   },
   {
    "duration": 15,
    "start_time": "2022-11-07T08:51:44.316Z"
   },
   {
    "duration": 784,
    "start_time": "2022-11-07T08:51:44.333Z"
   },
   {
    "duration": 4,
    "start_time": "2022-11-07T08:51:45.119Z"
   },
   {
    "duration": 4,
    "start_time": "2022-11-07T08:51:45.135Z"
   },
   {
    "duration": 23,
    "start_time": "2022-11-07T08:51:45.141Z"
   },
   {
    "duration": 13,
    "start_time": "2022-11-07T08:51:45.166Z"
   },
   {
    "duration": 17,
    "start_time": "2022-11-07T08:51:45.181Z"
   },
   {
    "duration": 9,
    "start_time": "2022-11-07T08:51:45.199Z"
   },
   {
    "duration": 31,
    "start_time": "2022-11-07T08:51:45.210Z"
   },
   {
    "duration": 6,
    "start_time": "2022-11-07T08:51:45.243Z"
   },
   {
    "duration": 14,
    "start_time": "2022-11-07T08:51:45.252Z"
   },
   {
    "duration": 5,
    "start_time": "2022-11-07T08:51:45.268Z"
   },
   {
    "duration": 15,
    "start_time": "2022-11-07T08:51:45.275Z"
   },
   {
    "duration": 11,
    "start_time": "2022-11-07T08:51:45.292Z"
   },
   {
    "duration": 40,
    "start_time": "2022-11-07T08:51:45.305Z"
   },
   {
    "duration": 21,
    "start_time": "2022-11-07T08:51:45.349Z"
   },
   {
    "duration": 15,
    "start_time": "2022-11-07T08:51:45.372Z"
   },
   {
    "duration": 7,
    "start_time": "2022-11-07T08:51:45.389Z"
   },
   {
    "duration": 13,
    "start_time": "2022-11-07T08:51:45.397Z"
   },
   {
    "duration": 6,
    "start_time": "2022-11-07T08:51:45.413Z"
   },
   {
    "duration": 32,
    "start_time": "2022-11-07T08:51:45.421Z"
   },
   {
    "duration": 6,
    "start_time": "2022-11-07T08:51:45.455Z"
   },
   {
    "duration": 188,
    "start_time": "2022-11-07T08:51:45.463Z"
   },
   {
    "duration": 10,
    "start_time": "2022-11-07T08:51:45.653Z"
   },
   {
    "duration": 9,
    "start_time": "2022-11-07T08:51:45.668Z"
   },
   {
    "duration": 710,
    "start_time": "2022-11-07T08:51:45.679Z"
   },
   {
    "duration": 79,
    "start_time": "2022-11-07T08:51:46.391Z"
   },
   {
    "duration": 644,
    "start_time": "2022-11-07T08:51:46.473Z"
   },
   {
    "duration": 21,
    "start_time": "2022-11-07T08:51:47.119Z"
   },
   {
    "duration": 138,
    "start_time": "2022-11-07T08:51:47.144Z"
   },
   {
    "duration": 21,
    "start_time": "2022-11-07T08:51:47.284Z"
   },
   {
    "duration": 31,
    "start_time": "2022-11-07T08:51:47.306Z"
   },
   {
    "duration": 276,
    "start_time": "2022-11-07T08:51:47.342Z"
   },
   {
    "duration": 14,
    "start_time": "2022-11-07T08:51:47.620Z"
   },
   {
    "duration": 9,
    "start_time": "2022-11-07T08:51:47.640Z"
   },
   {
    "duration": 162,
    "start_time": "2022-11-07T08:51:47.651Z"
   },
   {
    "duration": 160,
    "start_time": "2022-11-07T08:51:47.815Z"
   },
   {
    "duration": 188,
    "start_time": "2022-11-07T08:51:47.977Z"
   },
   {
    "duration": 181,
    "start_time": "2022-11-07T08:51:48.169Z"
   },
   {
    "duration": 191,
    "start_time": "2022-11-07T08:51:48.351Z"
   },
   {
    "duration": 15,
    "start_time": "2022-11-07T08:51:48.544Z"
   },
   {
    "duration": 8,
    "start_time": "2022-11-07T08:51:48.561Z"
   },
   {
    "duration": 18,
    "start_time": "2022-11-07T08:51:48.571Z"
   },
   {
    "duration": 182,
    "start_time": "2022-11-07T08:51:48.590Z"
   },
   {
    "duration": 193,
    "start_time": "2022-11-07T08:51:48.773Z"
   },
   {
    "duration": 189,
    "start_time": "2022-11-07T08:51:48.968Z"
   },
   {
    "duration": 10,
    "start_time": "2022-11-07T08:51:49.158Z"
   },
   {
    "duration": 6,
    "start_time": "2022-11-07T08:51:49.170Z"
   },
   {
    "duration": 8,
    "start_time": "2022-11-07T08:51:49.177Z"
   },
   {
    "duration": 304,
    "start_time": "2022-11-07T08:51:49.186Z"
   },
   {
    "duration": 199,
    "start_time": "2022-11-07T08:51:49.492Z"
   },
   {
    "duration": 201,
    "start_time": "2022-11-07T08:51:49.694Z"
   },
   {
    "duration": 12,
    "start_time": "2022-11-07T08:51:49.897Z"
   },
   {
    "duration": 26,
    "start_time": "2022-11-07T08:51:49.911Z"
   },
   {
    "duration": 23,
    "start_time": "2022-11-07T08:51:49.944Z"
   },
   {
    "duration": 14,
    "start_time": "2022-11-07T08:51:49.969Z"
   },
   {
    "duration": 1206,
    "start_time": "2022-11-07T08:52:42.750Z"
   },
   {
    "duration": 54,
    "start_time": "2022-11-07T08:52:43.958Z"
   },
   {
    "duration": 26,
    "start_time": "2022-11-07T08:52:44.014Z"
   },
   {
    "duration": 19,
    "start_time": "2022-11-07T08:52:44.042Z"
   },
   {
    "duration": 805,
    "start_time": "2022-11-07T08:52:44.063Z"
   },
   {
    "duration": 4,
    "start_time": "2022-11-07T08:52:44.870Z"
   },
   {
    "duration": 8,
    "start_time": "2022-11-07T08:52:44.876Z"
   },
   {
    "duration": 14,
    "start_time": "2022-11-07T08:52:44.885Z"
   },
   {
    "duration": 12,
    "start_time": "2022-11-07T08:52:44.901Z"
   },
   {
    "duration": 23,
    "start_time": "2022-11-07T08:52:44.935Z"
   },
   {
    "duration": 7,
    "start_time": "2022-11-07T08:52:44.960Z"
   },
   {
    "duration": 12,
    "start_time": "2022-11-07T08:52:44.969Z"
   },
   {
    "duration": 5,
    "start_time": "2022-11-07T08:52:44.983Z"
   },
   {
    "duration": 45,
    "start_time": "2022-11-07T08:52:44.989Z"
   },
   {
    "duration": 16,
    "start_time": "2022-11-07T08:52:45.036Z"
   },
   {
    "duration": 22,
    "start_time": "2022-11-07T08:52:45.053Z"
   },
   {
    "duration": 10,
    "start_time": "2022-11-07T08:52:45.076Z"
   },
   {
    "duration": 7,
    "start_time": "2022-11-07T08:52:45.088Z"
   },
   {
    "duration": 18,
    "start_time": "2022-11-07T08:52:45.097Z"
   },
   {
    "duration": 33,
    "start_time": "2022-11-07T08:52:45.117Z"
   },
   {
    "duration": 8,
    "start_time": "2022-11-07T08:52:45.152Z"
   },
   {
    "duration": 11,
    "start_time": "2022-11-07T08:52:45.161Z"
   },
   {
    "duration": 5,
    "start_time": "2022-11-07T08:52:45.174Z"
   },
   {
    "duration": 20,
    "start_time": "2022-11-07T08:52:45.181Z"
   },
   {
    "duration": 7,
    "start_time": "2022-11-07T08:52:45.203Z"
   },
   {
    "duration": 187,
    "start_time": "2022-11-07T08:52:45.212Z"
   },
   {
    "duration": 10,
    "start_time": "2022-11-07T08:52:45.400Z"
   },
   {
    "duration": 23,
    "start_time": "2022-11-07T08:52:45.415Z"
   },
   {
    "duration": 677,
    "start_time": "2022-11-07T08:52:45.440Z"
   },
   {
    "duration": 66,
    "start_time": "2022-11-07T08:52:46.119Z"
   },
   {
    "duration": 730,
    "start_time": "2022-11-07T08:52:46.187Z"
   },
   {
    "duration": 20,
    "start_time": "2022-11-07T08:52:46.919Z"
   },
   {
    "duration": 138,
    "start_time": "2022-11-07T08:52:46.945Z"
   },
   {
    "duration": 23,
    "start_time": "2022-11-07T08:52:47.088Z"
   },
   {
    "duration": 33,
    "start_time": "2022-11-07T08:52:47.113Z"
   },
   {
    "duration": 301,
    "start_time": "2022-11-07T08:52:47.148Z"
   },
   {
    "duration": 7,
    "start_time": "2022-11-07T08:52:47.450Z"
   },
   {
    "duration": 14,
    "start_time": "2022-11-07T08:52:47.459Z"
   },
   {
    "duration": 187,
    "start_time": "2022-11-07T08:52:47.474Z"
   },
   {
    "duration": 150,
    "start_time": "2022-11-07T08:52:47.662Z"
   },
   {
    "duration": 194,
    "start_time": "2022-11-07T08:52:47.814Z"
   },
   {
    "duration": 204,
    "start_time": "2022-11-07T08:52:48.011Z"
   },
   {
    "duration": 206,
    "start_time": "2022-11-07T08:52:48.217Z"
   },
   {
    "duration": 24,
    "start_time": "2022-11-07T08:52:48.425Z"
   },
   {
    "duration": 8,
    "start_time": "2022-11-07T08:52:48.451Z"
   },
   {
    "duration": 9,
    "start_time": "2022-11-07T08:52:48.461Z"
   },
   {
    "duration": 177,
    "start_time": "2022-11-07T08:52:48.472Z"
   },
   {
    "duration": 197,
    "start_time": "2022-11-07T08:52:48.651Z"
   },
   {
    "duration": 176,
    "start_time": "2022-11-07T08:52:48.850Z"
   },
   {
    "duration": 18,
    "start_time": "2022-11-07T08:52:49.028Z"
   },
   {
    "duration": 8,
    "start_time": "2022-11-07T08:52:49.050Z"
   },
   {
    "duration": 7,
    "start_time": "2022-11-07T08:52:49.060Z"
   },
   {
    "duration": 284,
    "start_time": "2022-11-07T08:52:49.069Z"
   },
   {
    "duration": 177,
    "start_time": "2022-11-07T08:52:49.354Z"
   },
   {
    "duration": 211,
    "start_time": "2022-11-07T08:52:49.533Z"
   },
   {
    "duration": 14,
    "start_time": "2022-11-07T08:52:49.748Z"
   },
   {
    "duration": 19,
    "start_time": "2022-11-07T08:52:49.764Z"
   },
   {
    "duration": 11,
    "start_time": "2022-11-07T08:52:49.785Z"
   },
   {
    "duration": 10,
    "start_time": "2022-11-07T08:52:49.798Z"
   },
   {
    "duration": 8,
    "start_time": "2022-11-07T09:08:03.568Z"
   },
   {
    "duration": 1244,
    "start_time": "2022-11-07T09:08:09.723Z"
   },
   {
    "duration": 55,
    "start_time": "2022-11-07T09:08:10.969Z"
   },
   {
    "duration": 27,
    "start_time": "2022-11-07T09:08:11.026Z"
   },
   {
    "duration": 18,
    "start_time": "2022-11-07T09:08:11.055Z"
   },
   {
    "duration": 784,
    "start_time": "2022-11-07T09:08:11.075Z"
   },
   {
    "duration": 6,
    "start_time": "2022-11-07T09:08:11.861Z"
   },
   {
    "duration": 19,
    "start_time": "2022-11-07T09:08:11.869Z"
   },
   {
    "duration": 21,
    "start_time": "2022-11-07T09:08:11.890Z"
   },
   {
    "duration": 30,
    "start_time": "2022-11-07T09:08:11.913Z"
   },
   {
    "duration": 18,
    "start_time": "2022-11-07T09:08:11.946Z"
   },
   {
    "duration": 5,
    "start_time": "2022-11-07T09:08:11.965Z"
   },
   {
    "duration": 26,
    "start_time": "2022-11-07T09:08:11.972Z"
   },
   {
    "duration": 7,
    "start_time": "2022-11-07T09:08:11.999Z"
   },
   {
    "duration": 13,
    "start_time": "2022-11-07T09:08:12.008Z"
   },
   {
    "duration": 4,
    "start_time": "2022-11-07T09:08:12.023Z"
   },
   {
    "duration": 29,
    "start_time": "2022-11-07T09:08:12.029Z"
   },
   {
    "duration": 14,
    "start_time": "2022-11-07T09:08:12.060Z"
   },
   {
    "duration": 6,
    "start_time": "2022-11-07T09:08:12.077Z"
   },
   {
    "duration": 23,
    "start_time": "2022-11-07T09:08:12.085Z"
   },
   {
    "duration": 33,
    "start_time": "2022-11-07T09:08:12.110Z"
   },
   {
    "duration": 12,
    "start_time": "2022-11-07T09:08:12.145Z"
   },
   {
    "duration": 8,
    "start_time": "2022-11-07T09:08:12.158Z"
   },
   {
    "duration": 22,
    "start_time": "2022-11-07T09:08:12.167Z"
   },
   {
    "duration": 6,
    "start_time": "2022-11-07T09:08:12.190Z"
   },
   {
    "duration": 182,
    "start_time": "2022-11-07T09:08:12.198Z"
   },
   {
    "duration": 9,
    "start_time": "2022-11-07T09:08:12.382Z"
   },
   {
    "duration": 6,
    "start_time": "2022-11-07T09:08:12.393Z"
   },
   {
    "duration": 670,
    "start_time": "2022-11-07T09:08:12.403Z"
   },
   {
    "duration": 51,
    "start_time": "2022-11-07T09:08:13.075Z"
   },
   {
    "duration": 630,
    "start_time": "2022-11-07T09:08:13.128Z"
   },
   {
    "duration": 10,
    "start_time": "2022-11-07T09:08:13.760Z"
   },
   {
    "duration": 144,
    "start_time": "2022-11-07T09:08:13.772Z"
   },
   {
    "duration": 35,
    "start_time": "2022-11-07T09:08:13.919Z"
   },
   {
    "duration": 15,
    "start_time": "2022-11-07T09:08:13.955Z"
   },
   {
    "duration": 294,
    "start_time": "2022-11-07T09:08:13.972Z"
   },
   {
    "duration": 5,
    "start_time": "2022-11-07T09:08:14.268Z"
   },
   {
    "duration": 13,
    "start_time": "2022-11-07T09:08:14.275Z"
   },
   {
    "duration": 172,
    "start_time": "2022-11-07T09:08:14.290Z"
   },
   {
    "duration": 162,
    "start_time": "2022-11-07T09:08:14.464Z"
   },
   {
    "duration": 169,
    "start_time": "2022-11-07T09:08:14.628Z"
   },
   {
    "duration": 187,
    "start_time": "2022-11-07T09:08:14.798Z"
   },
   {
    "duration": 188,
    "start_time": "2022-11-07T09:08:14.987Z"
   },
   {
    "duration": 10,
    "start_time": "2022-11-07T09:08:15.177Z"
   },
   {
    "duration": 7,
    "start_time": "2022-11-07T09:08:15.189Z"
   },
   {
    "duration": 14,
    "start_time": "2022-11-07T09:08:15.198Z"
   },
   {
    "duration": 186,
    "start_time": "2022-11-07T09:08:15.214Z"
   },
   {
    "duration": 190,
    "start_time": "2022-11-07T09:08:15.401Z"
   },
   {
    "duration": 192,
    "start_time": "2022-11-07T09:08:15.593Z"
   },
   {
    "duration": 12,
    "start_time": "2022-11-07T09:08:15.787Z"
   },
   {
    "duration": 6,
    "start_time": "2022-11-07T09:08:15.800Z"
   },
   {
    "duration": 27,
    "start_time": "2022-11-07T09:08:15.807Z"
   },
   {
    "duration": 286,
    "start_time": "2022-11-07T09:08:15.837Z"
   },
   {
    "duration": 222,
    "start_time": "2022-11-07T09:08:16.125Z"
   },
   {
    "duration": 253,
    "start_time": "2022-11-07T09:08:16.349Z"
   },
   {
    "duration": 13,
    "start_time": "2022-11-07T09:08:16.604Z"
   },
   {
    "duration": 27,
    "start_time": "2022-11-07T09:08:16.619Z"
   },
   {
    "duration": 10,
    "start_time": "2022-11-07T09:08:16.650Z"
   },
   {
    "duration": 11,
    "start_time": "2022-11-07T09:08:16.662Z"
   },
   {
    "duration": 9,
    "start_time": "2022-11-07T09:09:03.020Z"
   },
   {
    "duration": 146,
    "start_time": "2022-11-07T09:15:23.330Z"
   },
   {
    "duration": 10,
    "start_time": "2022-11-07T09:15:44.068Z"
   },
   {
    "duration": 9,
    "start_time": "2022-11-07T09:16:01.378Z"
   },
   {
    "duration": 48,
    "start_time": "2022-11-07T09:18:18.166Z"
   },
   {
    "duration": 1191,
    "start_time": "2022-11-07T09:18:27.357Z"
   },
   {
    "duration": 55,
    "start_time": "2022-11-07T09:18:28.551Z"
   },
   {
    "duration": 20,
    "start_time": "2022-11-07T09:18:28.608Z"
   },
   {
    "duration": 21,
    "start_time": "2022-11-07T09:18:28.630Z"
   },
   {
    "duration": 795,
    "start_time": "2022-11-07T09:18:28.653Z"
   },
   {
    "duration": 5,
    "start_time": "2022-11-07T09:18:29.450Z"
   },
   {
    "duration": 6,
    "start_time": "2022-11-07T09:18:29.457Z"
   },
   {
    "duration": 10,
    "start_time": "2022-11-07T09:18:29.465Z"
   },
   {
    "duration": 11,
    "start_time": "2022-11-07T09:18:29.477Z"
   },
   {
    "duration": 16,
    "start_time": "2022-11-07T09:18:29.490Z"
   },
   {
    "duration": 31,
    "start_time": "2022-11-07T09:18:29.508Z"
   },
   {
    "duration": 13,
    "start_time": "2022-11-07T09:18:29.542Z"
   },
   {
    "duration": 6,
    "start_time": "2022-11-07T09:18:29.557Z"
   },
   {
    "duration": 13,
    "start_time": "2022-11-07T09:18:29.564Z"
   },
   {
    "duration": 5,
    "start_time": "2022-11-07T09:18:29.579Z"
   },
   {
    "duration": 16,
    "start_time": "2022-11-07T09:18:29.585Z"
   },
   {
    "duration": 40,
    "start_time": "2022-11-07T09:18:29.603Z"
   },
   {
    "duration": 9,
    "start_time": "2022-11-07T09:18:29.645Z"
   },
   {
    "duration": 25,
    "start_time": "2022-11-07T09:18:29.656Z"
   },
   {
    "duration": 16,
    "start_time": "2022-11-07T09:18:29.683Z"
   },
   {
    "duration": 12,
    "start_time": "2022-11-07T09:18:29.701Z"
   },
   {
    "duration": 24,
    "start_time": "2022-11-07T09:18:29.714Z"
   },
   {
    "duration": 29,
    "start_time": "2022-11-07T09:18:29.740Z"
   },
   {
    "duration": 7,
    "start_time": "2022-11-07T09:18:29.770Z"
   },
   {
    "duration": 175,
    "start_time": "2022-11-07T09:18:29.778Z"
   },
   {
    "duration": 9,
    "start_time": "2022-11-07T09:18:29.955Z"
   },
   {
    "duration": 7,
    "start_time": "2022-11-07T09:18:29.966Z"
   },
   {
    "duration": 681,
    "start_time": "2022-11-07T09:18:29.976Z"
   },
   {
    "duration": 54,
    "start_time": "2022-11-07T09:18:30.659Z"
   },
   {
    "duration": 658,
    "start_time": "2022-11-07T09:18:30.715Z"
   },
   {
    "duration": 11,
    "start_time": "2022-11-07T09:18:31.376Z"
   },
   {
    "duration": 152,
    "start_time": "2022-11-07T09:18:31.389Z"
   },
   {
    "duration": 19,
    "start_time": "2022-11-07T09:18:31.549Z"
   },
   {
    "duration": 10,
    "start_time": "2022-11-07T09:18:31.570Z"
   },
   {
    "duration": 300,
    "start_time": "2022-11-07T09:18:31.582Z"
   },
   {
    "duration": 9,
    "start_time": "2022-11-07T09:18:31.884Z"
   },
   {
    "duration": 57,
    "start_time": "2022-11-07T09:18:31.895Z"
   },
   {
    "duration": 7,
    "start_time": "2022-11-07T09:18:31.954Z"
   },
   {
    "duration": 160,
    "start_time": "2022-11-07T09:18:31.962Z"
   },
   {
    "duration": 160,
    "start_time": "2022-11-07T09:18:32.124Z"
   },
   {
    "duration": 174,
    "start_time": "2022-11-07T09:18:32.286Z"
   },
   {
    "duration": 188,
    "start_time": "2022-11-07T09:18:32.462Z"
   },
   {
    "duration": 174,
    "start_time": "2022-11-07T09:18:32.652Z"
   },
   {
    "duration": 12,
    "start_time": "2022-11-07T09:18:32.835Z"
   },
   {
    "duration": 9,
    "start_time": "2022-11-07T09:18:32.849Z"
   },
   {
    "duration": 8,
    "start_time": "2022-11-07T09:18:32.860Z"
   },
   {
    "duration": 183,
    "start_time": "2022-11-07T09:18:32.870Z"
   },
   {
    "duration": 179,
    "start_time": "2022-11-07T09:18:33.054Z"
   },
   {
    "duration": 177,
    "start_time": "2022-11-07T09:18:33.235Z"
   },
   {
    "duration": 20,
    "start_time": "2022-11-07T09:18:33.414Z"
   },
   {
    "duration": 13,
    "start_time": "2022-11-07T09:18:33.440Z"
   },
   {
    "duration": 8,
    "start_time": "2022-11-07T09:18:33.454Z"
   },
   {
    "duration": 276,
    "start_time": "2022-11-07T09:18:33.464Z"
   },
   {
    "duration": 171,
    "start_time": "2022-11-07T09:18:33.748Z"
   },
   {
    "duration": 182,
    "start_time": "2022-11-07T09:18:33.921Z"
   },
   {
    "duration": 11,
    "start_time": "2022-11-07T09:18:34.105Z"
   },
   {
    "duration": 21,
    "start_time": "2022-11-07T09:18:34.119Z"
   },
   {
    "duration": 18,
    "start_time": "2022-11-07T09:18:34.142Z"
   },
   {
    "duration": 10,
    "start_time": "2022-11-07T09:18:34.162Z"
   },
   {
    "duration": 99,
    "start_time": "2022-11-07T09:21:45.412Z"
   },
   {
    "duration": 30,
    "start_time": "2022-11-07T09:21:50.084Z"
   },
   {
    "duration": 226,
    "start_time": "2022-11-07T09:21:54.773Z"
   },
   {
    "duration": 41,
    "start_time": "2022-11-07T09:22:06.932Z"
   },
   {
    "duration": 299,
    "start_time": "2022-11-07T09:22:37.135Z"
   },
   {
    "duration": 297,
    "start_time": "2022-11-07T09:22:43.300Z"
   },
   {
    "duration": 45,
    "start_time": "2022-11-07T09:29:02.062Z"
   },
   {
    "duration": 11,
    "start_time": "2022-11-07T09:29:09.627Z"
   },
   {
    "duration": 8,
    "start_time": "2022-11-07T09:30:37.375Z"
   },
   {
    "duration": 10,
    "start_time": "2022-11-07T09:30:52.051Z"
   },
   {
    "duration": 4,
    "start_time": "2022-11-07T10:17:57.680Z"
   },
   {
    "duration": 12,
    "start_time": "2022-11-07T10:18:30.795Z"
   },
   {
    "duration": 17,
    "start_time": "2022-11-07T10:18:36.925Z"
   },
   {
    "duration": 10,
    "start_time": "2022-11-07T10:18:48.020Z"
   },
   {
    "duration": 25,
    "start_time": "2022-11-07T10:32:49.732Z"
   },
   {
    "duration": 1180,
    "start_time": "2022-11-07T10:33:19.703Z"
   },
   {
    "duration": 120,
    "start_time": "2022-11-07T10:33:20.885Z"
   },
   {
    "duration": 0,
    "start_time": "2022-11-07T10:33:21.008Z"
   },
   {
    "duration": 0,
    "start_time": "2022-11-07T10:33:21.009Z"
   },
   {
    "duration": 0,
    "start_time": "2022-11-07T10:33:21.010Z"
   },
   {
    "duration": 0,
    "start_time": "2022-11-07T10:33:21.012Z"
   },
   {
    "duration": 0,
    "start_time": "2022-11-07T10:33:21.013Z"
   },
   {
    "duration": 0,
    "start_time": "2022-11-07T10:33:21.013Z"
   },
   {
    "duration": 0,
    "start_time": "2022-11-07T10:33:21.014Z"
   },
   {
    "duration": 0,
    "start_time": "2022-11-07T10:33:21.016Z"
   },
   {
    "duration": 0,
    "start_time": "2022-11-07T10:33:21.017Z"
   },
   {
    "duration": 0,
    "start_time": "2022-11-07T10:33:21.033Z"
   },
   {
    "duration": 0,
    "start_time": "2022-11-07T10:33:21.034Z"
   },
   {
    "duration": 0,
    "start_time": "2022-11-07T10:33:21.035Z"
   },
   {
    "duration": 0,
    "start_time": "2022-11-07T10:33:21.036Z"
   },
   {
    "duration": 0,
    "start_time": "2022-11-07T10:33:21.037Z"
   },
   {
    "duration": 0,
    "start_time": "2022-11-07T10:33:21.038Z"
   },
   {
    "duration": 0,
    "start_time": "2022-11-07T10:33:21.040Z"
   },
   {
    "duration": 0,
    "start_time": "2022-11-07T10:33:21.042Z"
   },
   {
    "duration": 0,
    "start_time": "2022-11-07T10:33:21.043Z"
   },
   {
    "duration": 0,
    "start_time": "2022-11-07T10:33:21.044Z"
   },
   {
    "duration": 0,
    "start_time": "2022-11-07T10:33:21.045Z"
   },
   {
    "duration": 0,
    "start_time": "2022-11-07T10:33:21.046Z"
   },
   {
    "duration": 0,
    "start_time": "2022-11-07T10:33:21.046Z"
   },
   {
    "duration": 0,
    "start_time": "2022-11-07T10:33:21.047Z"
   },
   {
    "duration": 0,
    "start_time": "2022-11-07T10:33:21.048Z"
   },
   {
    "duration": 0,
    "start_time": "2022-11-07T10:33:21.050Z"
   },
   {
    "duration": 0,
    "start_time": "2022-11-07T10:33:21.051Z"
   },
   {
    "duration": 0,
    "start_time": "2022-11-07T10:33:21.052Z"
   },
   {
    "duration": 0,
    "start_time": "2022-11-07T10:33:21.053Z"
   },
   {
    "duration": 0,
    "start_time": "2022-11-07T10:33:21.054Z"
   },
   {
    "duration": 0,
    "start_time": "2022-11-07T10:33:21.055Z"
   },
   {
    "duration": 0,
    "start_time": "2022-11-07T10:33:21.056Z"
   },
   {
    "duration": 0,
    "start_time": "2022-11-07T10:33:21.057Z"
   },
   {
    "duration": 0,
    "start_time": "2022-11-07T10:33:21.058Z"
   },
   {
    "duration": 0,
    "start_time": "2022-11-07T10:33:21.059Z"
   },
   {
    "duration": 0,
    "start_time": "2022-11-07T10:33:21.060Z"
   },
   {
    "duration": 0,
    "start_time": "2022-11-07T10:33:21.062Z"
   },
   {
    "duration": 0,
    "start_time": "2022-11-07T10:33:21.063Z"
   },
   {
    "duration": 0,
    "start_time": "2022-11-07T10:33:21.064Z"
   },
   {
    "duration": 0,
    "start_time": "2022-11-07T10:33:21.065Z"
   },
   {
    "duration": 1,
    "start_time": "2022-11-07T10:33:21.065Z"
   },
   {
    "duration": 0,
    "start_time": "2022-11-07T10:33:21.067Z"
   },
   {
    "duration": 0,
    "start_time": "2022-11-07T10:33:21.068Z"
   },
   {
    "duration": 0,
    "start_time": "2022-11-07T10:33:21.069Z"
   },
   {
    "duration": 0,
    "start_time": "2022-11-07T10:33:21.070Z"
   },
   {
    "duration": 0,
    "start_time": "2022-11-07T10:33:21.071Z"
   },
   {
    "duration": 0,
    "start_time": "2022-11-07T10:33:21.134Z"
   },
   {
    "duration": 0,
    "start_time": "2022-11-07T10:33:21.135Z"
   },
   {
    "duration": 0,
    "start_time": "2022-11-07T10:33:21.136Z"
   },
   {
    "duration": 0,
    "start_time": "2022-11-07T10:33:21.137Z"
   },
   {
    "duration": 0,
    "start_time": "2022-11-07T10:33:21.138Z"
   },
   {
    "duration": 0,
    "start_time": "2022-11-07T10:33:21.139Z"
   },
   {
    "duration": 0,
    "start_time": "2022-11-07T10:33:21.140Z"
   },
   {
    "duration": 0,
    "start_time": "2022-11-07T10:33:21.141Z"
   },
   {
    "duration": 0,
    "start_time": "2022-11-07T10:33:21.142Z"
   },
   {
    "duration": 1,
    "start_time": "2022-11-07T10:33:21.143Z"
   },
   {
    "duration": 0,
    "start_time": "2022-11-07T10:33:21.144Z"
   },
   {
    "duration": 0,
    "start_time": "2022-11-07T10:33:21.146Z"
   },
   {
    "duration": 0,
    "start_time": "2022-11-07T10:33:21.146Z"
   },
   {
    "duration": 0,
    "start_time": "2022-11-07T10:33:21.148Z"
   },
   {
    "duration": 0,
    "start_time": "2022-11-07T10:33:21.149Z"
   },
   {
    "duration": 29,
    "start_time": "2022-11-07T10:33:42.190Z"
   },
   {
    "duration": 1418,
    "start_time": "2022-11-07T11:46:10.924Z"
   },
   {
    "duration": 211,
    "start_time": "2022-11-07T11:46:12.344Z"
   },
   {
    "duration": 19,
    "start_time": "2022-11-07T11:46:12.556Z"
   },
   {
    "duration": 13,
    "start_time": "2022-11-07T11:46:12.577Z"
   },
   {
    "duration": 759,
    "start_time": "2022-11-07T11:46:12.592Z"
   },
   {
    "duration": 4,
    "start_time": "2022-11-07T11:46:13.353Z"
   },
   {
    "duration": 6,
    "start_time": "2022-11-07T11:46:13.358Z"
   },
   {
    "duration": 12,
    "start_time": "2022-11-07T11:46:13.365Z"
   },
   {
    "duration": 12,
    "start_time": "2022-11-07T11:46:13.378Z"
   },
   {
    "duration": 40,
    "start_time": "2022-11-07T11:46:13.393Z"
   },
   {
    "duration": 5,
    "start_time": "2022-11-07T11:46:13.435Z"
   },
   {
    "duration": 13,
    "start_time": "2022-11-07T11:46:13.442Z"
   },
   {
    "duration": 5,
    "start_time": "2022-11-07T11:46:13.456Z"
   },
   {
    "duration": 10,
    "start_time": "2022-11-07T11:46:13.462Z"
   },
   {
    "duration": 9,
    "start_time": "2022-11-07T11:46:13.474Z"
   },
   {
    "duration": 16,
    "start_time": "2022-11-07T11:46:13.484Z"
   },
   {
    "duration": 39,
    "start_time": "2022-11-07T11:46:13.501Z"
   },
   {
    "duration": 7,
    "start_time": "2022-11-07T11:46:13.542Z"
   },
   {
    "duration": 16,
    "start_time": "2022-11-07T11:46:13.550Z"
   },
   {
    "duration": 14,
    "start_time": "2022-11-07T11:46:13.567Z"
   },
   {
    "duration": 6,
    "start_time": "2022-11-07T11:46:13.582Z"
   },
   {
    "duration": 5,
    "start_time": "2022-11-07T11:46:13.589Z"
   },
   {
    "duration": 53,
    "start_time": "2022-11-07T11:46:13.596Z"
   },
   {
    "duration": 5,
    "start_time": "2022-11-07T11:46:13.650Z"
   },
   {
    "duration": 167,
    "start_time": "2022-11-07T11:46:13.657Z"
   },
   {
    "duration": 11,
    "start_time": "2022-11-07T11:46:13.826Z"
   },
   {
    "duration": 6,
    "start_time": "2022-11-07T11:46:13.838Z"
   },
   {
    "duration": 645,
    "start_time": "2022-11-07T11:46:13.848Z"
   },
   {
    "duration": 24,
    "start_time": "2022-11-07T11:46:14.494Z"
   },
   {
    "duration": 590,
    "start_time": "2022-11-07T11:46:14.520Z"
   },
   {
    "duration": 21,
    "start_time": "2022-11-07T11:46:15.112Z"
   },
   {
    "duration": 132,
    "start_time": "2022-11-07T11:46:15.135Z"
   },
   {
    "duration": 20,
    "start_time": "2022-11-07T11:46:15.269Z"
   },
   {
    "duration": 13,
    "start_time": "2022-11-07T11:46:15.291Z"
   },
   {
    "duration": 293,
    "start_time": "2022-11-07T11:46:15.306Z"
   },
   {
    "duration": 10,
    "start_time": "2022-11-07T11:46:15.600Z"
   },
   {
    "duration": 53,
    "start_time": "2022-11-07T11:46:15.612Z"
   },
   {
    "duration": 310,
    "start_time": "2022-11-07T11:46:15.667Z"
   },
   {
    "duration": 6,
    "start_time": "2022-11-07T11:46:15.979Z"
   },
   {
    "duration": 161,
    "start_time": "2022-11-07T11:46:15.987Z"
   },
   {
    "duration": 189,
    "start_time": "2022-11-07T11:46:16.150Z"
   },
   {
    "duration": 210,
    "start_time": "2022-11-07T11:46:16.342Z"
   },
   {
    "duration": 175,
    "start_time": "2022-11-07T11:46:16.554Z"
   },
   {
    "duration": 165,
    "start_time": "2022-11-07T11:46:16.733Z"
   },
   {
    "duration": 11,
    "start_time": "2022-11-07T11:46:16.900Z"
   },
   {
    "duration": 21,
    "start_time": "2022-11-07T11:46:16.913Z"
   },
   {
    "duration": 6,
    "start_time": "2022-11-07T11:46:16.936Z"
   },
   {
    "duration": 176,
    "start_time": "2022-11-07T11:46:16.944Z"
   },
   {
    "duration": 251,
    "start_time": "2022-11-07T11:46:17.122Z"
   },
   {
    "duration": 177,
    "start_time": "2022-11-07T11:46:17.374Z"
   },
   {
    "duration": 9,
    "start_time": "2022-11-07T11:46:17.553Z"
   },
   {
    "duration": 6,
    "start_time": "2022-11-07T11:46:17.564Z"
   },
   {
    "duration": 9,
    "start_time": "2022-11-07T11:46:17.572Z"
   },
   {
    "duration": 195,
    "start_time": "2022-11-07T11:46:17.583Z"
   },
   {
    "duration": 175,
    "start_time": "2022-11-07T11:46:17.780Z"
   },
   {
    "duration": 176,
    "start_time": "2022-11-07T11:46:17.957Z"
   },
   {
    "duration": 11,
    "start_time": "2022-11-07T11:46:18.135Z"
   },
   {
    "duration": 14,
    "start_time": "2022-11-07T11:46:18.148Z"
   },
   {
    "duration": 19,
    "start_time": "2022-11-07T11:46:18.164Z"
   },
   {
    "duration": 12,
    "start_time": "2022-11-07T11:46:18.185Z"
   },
   {
    "duration": 25,
    "start_time": "2022-11-07T11:46:18.199Z"
   },
   {
    "duration": 8,
    "start_time": "2022-11-07T11:46:18.226Z"
   },
   {
    "duration": 7,
    "start_time": "2022-11-08T06:17:53.242Z"
   },
   {
    "duration": 1516,
    "start_time": "2022-11-08T06:17:58.453Z"
   },
   {
    "duration": 103,
    "start_time": "2022-11-08T06:17:59.972Z"
   },
   {
    "duration": 24,
    "start_time": "2022-11-08T06:18:00.077Z"
   },
   {
    "duration": 19,
    "start_time": "2022-11-08T06:18:00.104Z"
   },
   {
    "duration": 860,
    "start_time": "2022-11-08T06:18:00.125Z"
   },
   {
    "duration": 4,
    "start_time": "2022-11-08T06:18:00.987Z"
   },
   {
    "duration": 9,
    "start_time": "2022-11-08T06:18:00.993Z"
   },
   {
    "duration": 17,
    "start_time": "2022-11-08T06:18:01.004Z"
   },
   {
    "duration": 25,
    "start_time": "2022-11-08T06:18:01.022Z"
   },
   {
    "duration": 36,
    "start_time": "2022-11-08T06:18:01.050Z"
   },
   {
    "duration": 30,
    "start_time": "2022-11-08T06:18:01.087Z"
   },
   {
    "duration": 33,
    "start_time": "2022-11-08T06:18:01.119Z"
   },
   {
    "duration": 32,
    "start_time": "2022-11-08T06:18:01.154Z"
   },
   {
    "duration": 44,
    "start_time": "2022-11-08T06:18:01.188Z"
   },
   {
    "duration": 37,
    "start_time": "2022-11-08T06:18:01.234Z"
   },
   {
    "duration": 75,
    "start_time": "2022-11-08T06:18:01.272Z"
   },
   {
    "duration": 42,
    "start_time": "2022-11-08T06:18:01.349Z"
   },
   {
    "duration": 31,
    "start_time": "2022-11-08T06:18:01.393Z"
   },
   {
    "duration": 68,
    "start_time": "2022-11-08T06:18:01.425Z"
   },
   {
    "duration": 42,
    "start_time": "2022-11-08T06:18:01.495Z"
   },
   {
    "duration": 31,
    "start_time": "2022-11-08T06:18:01.539Z"
   },
   {
    "duration": 20,
    "start_time": "2022-11-08T06:18:01.572Z"
   },
   {
    "duration": 47,
    "start_time": "2022-11-08T06:18:01.594Z"
   },
   {
    "duration": 14,
    "start_time": "2022-11-08T06:18:01.642Z"
   },
   {
    "duration": 199,
    "start_time": "2022-11-08T06:18:01.657Z"
   },
   {
    "duration": 15,
    "start_time": "2022-11-08T06:18:01.857Z"
   },
   {
    "duration": 684,
    "start_time": "2022-11-08T06:18:01.873Z"
   },
   {
    "duration": 31,
    "start_time": "2022-11-08T06:18:02.561Z"
   },
   {
    "duration": 677,
    "start_time": "2022-11-08T06:18:02.594Z"
   },
   {
    "duration": 10,
    "start_time": "2022-11-08T06:18:03.274Z"
   },
   {
    "duration": 174,
    "start_time": "2022-11-08T06:18:03.286Z"
   },
   {
    "duration": 25,
    "start_time": "2022-11-08T06:18:03.462Z"
   },
   {
    "duration": 12,
    "start_time": "2022-11-08T06:18:03.489Z"
   },
   {
    "duration": 320,
    "start_time": "2022-11-08T06:18:03.503Z"
   },
   {
    "duration": 10,
    "start_time": "2022-11-08T06:18:03.825Z"
   },
   {
    "duration": 52,
    "start_time": "2022-11-08T06:18:03.836Z"
   },
   {
    "duration": 350,
    "start_time": "2022-11-08T06:18:03.890Z"
   },
   {
    "duration": 12,
    "start_time": "2022-11-08T06:18:04.242Z"
   },
   {
    "duration": 184,
    "start_time": "2022-11-08T06:18:04.256Z"
   },
   {
    "duration": 190,
    "start_time": "2022-11-08T06:18:04.441Z"
   },
   {
    "duration": 181,
    "start_time": "2022-11-08T06:18:04.633Z"
   },
   {
    "duration": 72,
    "start_time": "2022-11-08T06:18:04.816Z"
   },
   {
    "duration": 0,
    "start_time": "2022-11-08T06:18:04.889Z"
   },
   {
    "duration": 0,
    "start_time": "2022-11-08T06:18:04.891Z"
   },
   {
    "duration": 0,
    "start_time": "2022-11-08T06:18:04.892Z"
   },
   {
    "duration": 0,
    "start_time": "2022-11-08T06:18:04.893Z"
   },
   {
    "duration": 0,
    "start_time": "2022-11-08T06:18:04.894Z"
   },
   {
    "duration": 0,
    "start_time": "2022-11-08T06:18:04.896Z"
   },
   {
    "duration": 0,
    "start_time": "2022-11-08T06:18:04.896Z"
   },
   {
    "duration": 0,
    "start_time": "2022-11-08T06:18:04.897Z"
   },
   {
    "duration": 0,
    "start_time": "2022-11-08T06:18:04.898Z"
   },
   {
    "duration": 0,
    "start_time": "2022-11-08T06:18:04.899Z"
   },
   {
    "duration": 0,
    "start_time": "2022-11-08T06:18:04.900Z"
   },
   {
    "duration": 0,
    "start_time": "2022-11-08T06:18:04.901Z"
   },
   {
    "duration": 0,
    "start_time": "2022-11-08T06:18:04.902Z"
   },
   {
    "duration": 0,
    "start_time": "2022-11-08T06:18:04.903Z"
   },
   {
    "duration": 0,
    "start_time": "2022-11-08T06:18:04.904Z"
   },
   {
    "duration": 0,
    "start_time": "2022-11-08T06:18:04.905Z"
   },
   {
    "duration": 0,
    "start_time": "2022-11-08T06:18:04.906Z"
   },
   {
    "duration": 0,
    "start_time": "2022-11-08T06:18:04.907Z"
   },
   {
    "duration": 173,
    "start_time": "2022-11-08T06:19:42.334Z"
   },
   {
    "duration": 1379,
    "start_time": "2022-11-08T06:20:10.193Z"
   },
   {
    "duration": 49,
    "start_time": "2022-11-08T06:20:11.574Z"
   },
   {
    "duration": 25,
    "start_time": "2022-11-08T06:20:11.625Z"
   },
   {
    "duration": 16,
    "start_time": "2022-11-08T06:20:11.652Z"
   },
   {
    "duration": 857,
    "start_time": "2022-11-08T06:20:11.671Z"
   },
   {
    "duration": 5,
    "start_time": "2022-11-08T06:20:12.529Z"
   },
   {
    "duration": 11,
    "start_time": "2022-11-08T06:20:12.536Z"
   },
   {
    "duration": 25,
    "start_time": "2022-11-08T06:20:12.549Z"
   },
   {
    "duration": 20,
    "start_time": "2022-11-08T06:20:12.576Z"
   },
   {
    "duration": 23,
    "start_time": "2022-11-08T06:20:12.599Z"
   },
   {
    "duration": 8,
    "start_time": "2022-11-08T06:20:12.624Z"
   },
   {
    "duration": 39,
    "start_time": "2022-11-08T06:20:12.634Z"
   },
   {
    "duration": 9,
    "start_time": "2022-11-08T06:20:12.675Z"
   },
   {
    "duration": 14,
    "start_time": "2022-11-08T06:20:12.686Z"
   },
   {
    "duration": 5,
    "start_time": "2022-11-08T06:20:12.702Z"
   },
   {
    "duration": 21,
    "start_time": "2022-11-08T06:20:12.709Z"
   },
   {
    "duration": 42,
    "start_time": "2022-11-08T06:20:12.731Z"
   },
   {
    "duration": 7,
    "start_time": "2022-11-08T06:20:12.775Z"
   },
   {
    "duration": 20,
    "start_time": "2022-11-08T06:20:12.784Z"
   },
   {
    "duration": 16,
    "start_time": "2022-11-08T06:20:12.806Z"
   },
   {
    "duration": 9,
    "start_time": "2022-11-08T06:20:12.823Z"
   },
   {
    "duration": 9,
    "start_time": "2022-11-08T06:20:12.834Z"
   },
   {
    "duration": 51,
    "start_time": "2022-11-08T06:20:12.844Z"
   },
   {
    "duration": 6,
    "start_time": "2022-11-08T06:20:12.896Z"
   },
   {
    "duration": 189,
    "start_time": "2022-11-08T06:20:12.904Z"
   },
   {
    "duration": 9,
    "start_time": "2022-11-08T06:20:13.095Z"
   },
   {
    "duration": 745,
    "start_time": "2022-11-08T06:20:13.105Z"
   },
   {
    "duration": 28,
    "start_time": "2022-11-08T06:20:13.853Z"
   },
   {
    "duration": 655,
    "start_time": "2022-11-08T06:20:13.882Z"
   },
   {
    "duration": 11,
    "start_time": "2022-11-08T06:20:14.539Z"
   },
   {
    "duration": 157,
    "start_time": "2022-11-08T06:20:14.552Z"
   },
   {
    "duration": 20,
    "start_time": "2022-11-08T06:20:14.710Z"
   },
   {
    "duration": 10,
    "start_time": "2022-11-08T06:20:14.732Z"
   },
   {
    "duration": 314,
    "start_time": "2022-11-08T06:20:14.744Z"
   },
   {
    "duration": 16,
    "start_time": "2022-11-08T06:20:15.059Z"
   },
   {
    "duration": 57,
    "start_time": "2022-11-08T06:20:15.077Z"
   },
   {
    "duration": 365,
    "start_time": "2022-11-08T06:20:15.135Z"
   },
   {
    "duration": 10,
    "start_time": "2022-11-08T06:20:15.502Z"
   },
   {
    "duration": 179,
    "start_time": "2022-11-08T06:20:15.514Z"
   },
   {
    "duration": 230,
    "start_time": "2022-11-08T06:20:15.695Z"
   },
   {
    "duration": 209,
    "start_time": "2022-11-08T06:20:15.927Z"
   },
   {
    "duration": 199,
    "start_time": "2022-11-08T06:20:16.138Z"
   },
   {
    "duration": 11,
    "start_time": "2022-11-08T06:20:16.339Z"
   },
   {
    "duration": 23,
    "start_time": "2022-11-08T06:20:16.353Z"
   },
   {
    "duration": 23,
    "start_time": "2022-11-08T06:20:16.378Z"
   },
   {
    "duration": 196,
    "start_time": "2022-11-08T06:20:16.402Z"
   },
   {
    "duration": 226,
    "start_time": "2022-11-08T06:20:16.600Z"
   },
   {
    "duration": 279,
    "start_time": "2022-11-08T06:20:16.828Z"
   },
   {
    "duration": 11,
    "start_time": "2022-11-08T06:20:17.110Z"
   },
   {
    "duration": 7,
    "start_time": "2022-11-08T06:20:17.122Z"
   },
   {
    "duration": 10,
    "start_time": "2022-11-08T06:20:17.130Z"
   },
   {
    "duration": 232,
    "start_time": "2022-11-08T06:20:17.142Z"
   },
   {
    "duration": 196,
    "start_time": "2022-11-08T06:20:17.376Z"
   },
   {
    "duration": 261,
    "start_time": "2022-11-08T06:20:17.574Z"
   },
   {
    "duration": 14,
    "start_time": "2022-11-08T06:20:17.838Z"
   },
   {
    "duration": 28,
    "start_time": "2022-11-08T06:20:17.853Z"
   },
   {
    "duration": 23,
    "start_time": "2022-11-08T06:20:17.884Z"
   },
   {
    "duration": 11,
    "start_time": "2022-11-08T06:20:17.909Z"
   },
   {
    "duration": 131,
    "start_time": "2022-11-08T07:02:39.579Z"
   },
   {
    "duration": 45,
    "start_time": "2022-11-08T07:52:21.049Z"
   },
   {
    "duration": 1007,
    "start_time": "2022-11-08T07:52:26.510Z"
   },
   {
    "duration": 49,
    "start_time": "2022-11-08T07:52:27.519Z"
   },
   {
    "duration": 18,
    "start_time": "2022-11-08T07:52:27.570Z"
   },
   {
    "duration": 12,
    "start_time": "2022-11-08T07:52:27.590Z"
   },
   {
    "duration": 689,
    "start_time": "2022-11-08T07:52:27.604Z"
   },
   {
    "duration": 4,
    "start_time": "2022-11-08T07:52:28.295Z"
   },
   {
    "duration": 7,
    "start_time": "2022-11-08T07:52:28.300Z"
   },
   {
    "duration": 8,
    "start_time": "2022-11-08T07:52:28.420Z"
   },
   {
    "duration": 10,
    "start_time": "2022-11-08T07:52:28.581Z"
   },
   {
    "duration": 14,
    "start_time": "2022-11-08T07:52:28.841Z"
   },
   {
    "duration": 5,
    "start_time": "2022-11-08T07:52:29.714Z"
   },
   {
    "duration": 9,
    "start_time": "2022-11-08T07:52:30.165Z"
   },
   {
    "duration": 5,
    "start_time": "2022-11-08T07:52:30.324Z"
   },
   {
    "duration": 9,
    "start_time": "2022-11-08T07:52:30.503Z"
   },
   {
    "duration": 5,
    "start_time": "2022-11-08T07:52:31.233Z"
   },
   {
    "duration": 13,
    "start_time": "2022-11-08T07:52:31.933Z"
   },
   {
    "duration": 11,
    "start_time": "2022-11-08T07:52:33.773Z"
   },
   {
    "duration": 5,
    "start_time": "2022-11-08T07:52:34.850Z"
   },
   {
    "duration": 14,
    "start_time": "2022-11-08T07:52:35.049Z"
   },
   {
    "duration": 17,
    "start_time": "2022-11-08T07:52:35.385Z"
   },
   {
    "duration": 7,
    "start_time": "2022-11-08T07:52:35.691Z"
   },
   {
    "duration": 6,
    "start_time": "2022-11-08T07:52:36.340Z"
   },
   {
    "duration": 80,
    "start_time": "2022-11-08T07:53:19.801Z"
   },
   {
    "duration": 43,
    "start_time": "2022-11-08T07:59:35.686Z"
   },
   {
    "duration": 59,
    "start_time": "2022-11-08T16:45:04.804Z"
   },
   {
    "duration": 1338,
    "start_time": "2022-11-08T16:45:09.991Z"
   },
   {
    "duration": 54,
    "start_time": "2022-11-08T16:45:11.331Z"
   },
   {
    "duration": 29,
    "start_time": "2022-11-08T16:45:11.387Z"
   },
   {
    "duration": 21,
    "start_time": "2022-11-08T16:45:11.418Z"
   },
   {
    "duration": 826,
    "start_time": "2022-11-08T16:45:11.441Z"
   },
   {
    "duration": 4,
    "start_time": "2022-11-08T16:45:12.272Z"
   },
   {
    "duration": 6,
    "start_time": "2022-11-08T16:45:12.277Z"
   },
   {
    "duration": 10,
    "start_time": "2022-11-08T16:45:12.285Z"
   },
   {
    "duration": 12,
    "start_time": "2022-11-08T16:45:12.297Z"
   },
   {
    "duration": 22,
    "start_time": "2022-11-08T16:45:12.312Z"
   },
   {
    "duration": 38,
    "start_time": "2022-11-08T16:45:12.335Z"
   },
   {
    "duration": 11,
    "start_time": "2022-11-08T16:45:12.375Z"
   },
   {
    "duration": 6,
    "start_time": "2022-11-08T16:45:12.388Z"
   },
   {
    "duration": 13,
    "start_time": "2022-11-08T16:45:12.395Z"
   },
   {
    "duration": 4,
    "start_time": "2022-11-08T16:45:12.410Z"
   },
   {
    "duration": 36,
    "start_time": "2022-11-08T16:45:12.416Z"
   },
   {
    "duration": 16,
    "start_time": "2022-11-08T16:45:12.472Z"
   },
   {
    "duration": 8,
    "start_time": "2022-11-08T16:45:12.490Z"
   },
   {
    "duration": 24,
    "start_time": "2022-11-08T16:45:12.501Z"
   },
   {
    "duration": 19,
    "start_time": "2022-11-08T16:45:12.527Z"
   },
   {
    "duration": 29,
    "start_time": "2022-11-08T16:45:12.547Z"
   },
   {
    "duration": 19,
    "start_time": "2022-11-08T16:45:12.579Z"
   },
   {
    "duration": 32,
    "start_time": "2022-11-08T16:45:12.600Z"
   },
   {
    "duration": 6,
    "start_time": "2022-11-08T16:45:12.634Z"
   },
   {
    "duration": 173,
    "start_time": "2022-11-08T16:45:12.642Z"
   },
   {
    "duration": 9,
    "start_time": "2022-11-08T16:45:12.818Z"
   },
   {
    "duration": 708,
    "start_time": "2022-11-08T16:45:12.829Z"
   },
   {
    "duration": 28,
    "start_time": "2022-11-08T16:45:13.541Z"
   },
   {
    "duration": 647,
    "start_time": "2022-11-08T16:45:13.570Z"
   },
   {
    "duration": 10,
    "start_time": "2022-11-08T16:45:14.219Z"
   },
   {
    "duration": 165,
    "start_time": "2022-11-08T16:45:14.231Z"
   },
   {
    "duration": 21,
    "start_time": "2022-11-08T16:45:14.398Z"
   },
   {
    "duration": 12,
    "start_time": "2022-11-08T16:45:14.421Z"
   },
   {
    "duration": 323,
    "start_time": "2022-11-08T16:45:14.435Z"
   },
   {
    "duration": 12,
    "start_time": "2022-11-08T16:45:14.760Z"
   },
   {
    "duration": 40,
    "start_time": "2022-11-08T16:45:14.774Z"
   },
   {
    "duration": 355,
    "start_time": "2022-11-08T16:45:14.817Z"
   },
   {
    "duration": 11,
    "start_time": "2022-11-08T16:45:15.174Z"
   },
   {
    "duration": 184,
    "start_time": "2022-11-08T16:45:15.187Z"
   },
   {
    "duration": 182,
    "start_time": "2022-11-08T16:45:15.374Z"
   },
   {
    "duration": 214,
    "start_time": "2022-11-08T16:45:15.558Z"
   },
   {
    "duration": 199,
    "start_time": "2022-11-08T16:45:15.777Z"
   },
   {
    "duration": 15,
    "start_time": "2022-11-08T16:45:15.980Z"
   },
   {
    "duration": 30,
    "start_time": "2022-11-08T16:45:15.997Z"
   },
   {
    "duration": 19,
    "start_time": "2022-11-08T16:45:16.029Z"
   },
   {
    "duration": 184,
    "start_time": "2022-11-08T16:45:16.050Z"
   },
   {
    "duration": 216,
    "start_time": "2022-11-08T16:45:16.236Z"
   },
   {
    "duration": 301,
    "start_time": "2022-11-08T16:45:16.454Z"
   },
   {
    "duration": 20,
    "start_time": "2022-11-08T16:45:16.758Z"
   },
   {
    "duration": 21,
    "start_time": "2022-11-08T16:45:16.780Z"
   },
   {
    "duration": 10,
    "start_time": "2022-11-08T16:45:16.803Z"
   },
   {
    "duration": 215,
    "start_time": "2022-11-08T16:45:16.815Z"
   },
   {
    "duration": 197,
    "start_time": "2022-11-08T16:45:17.032Z"
   },
   {
    "duration": 200,
    "start_time": "2022-11-08T16:45:17.231Z"
   },
   {
    "duration": 13,
    "start_time": "2022-11-08T16:45:17.432Z"
   },
   {
    "duration": 25,
    "start_time": "2022-11-08T16:45:17.447Z"
   },
   {
    "duration": 139,
    "start_time": "2022-11-08T16:45:34.755Z"
   },
   {
    "duration": 1300,
    "start_time": "2022-11-08T16:54:45.637Z"
   },
   {
    "duration": 57,
    "start_time": "2022-11-08T16:54:46.939Z"
   },
   {
    "duration": 26,
    "start_time": "2022-11-08T16:54:46.998Z"
   },
   {
    "duration": 16,
    "start_time": "2022-11-08T16:54:47.026Z"
   },
   {
    "duration": 951,
    "start_time": "2022-11-08T16:54:47.045Z"
   },
   {
    "duration": 5,
    "start_time": "2022-11-08T16:54:47.998Z"
   },
   {
    "duration": 13,
    "start_time": "2022-11-08T16:54:48.005Z"
   },
   {
    "duration": 12,
    "start_time": "2022-11-08T16:54:48.020Z"
   },
   {
    "duration": 20,
    "start_time": "2022-11-08T16:54:48.034Z"
   },
   {
    "duration": 31,
    "start_time": "2022-11-08T16:54:48.056Z"
   },
   {
    "duration": 11,
    "start_time": "2022-11-08T16:54:48.089Z"
   },
   {
    "duration": 13,
    "start_time": "2022-11-08T16:54:48.103Z"
   },
   {
    "duration": 6,
    "start_time": "2022-11-08T16:54:48.118Z"
   },
   {
    "duration": 14,
    "start_time": "2022-11-08T16:54:48.127Z"
   },
   {
    "duration": 31,
    "start_time": "2022-11-08T16:54:48.143Z"
   },
   {
    "duration": 17,
    "start_time": "2022-11-08T16:54:48.176Z"
   },
   {
    "duration": 13,
    "start_time": "2022-11-08T16:54:48.195Z"
   },
   {
    "duration": 8,
    "start_time": "2022-11-08T16:54:48.210Z"
   },
   {
    "duration": 17,
    "start_time": "2022-11-08T16:54:48.221Z"
   },
   {
    "duration": 45,
    "start_time": "2022-11-08T16:54:48.240Z"
   },
   {
    "duration": 7,
    "start_time": "2022-11-08T16:54:48.287Z"
   },
   {
    "duration": 6,
    "start_time": "2022-11-08T16:54:48.296Z"
   },
   {
    "duration": 26,
    "start_time": "2022-11-08T16:54:48.304Z"
   },
   {
    "duration": 8,
    "start_time": "2022-11-08T16:54:48.332Z"
   },
   {
    "duration": 184,
    "start_time": "2022-11-08T16:54:48.372Z"
   },
   {
    "duration": 19,
    "start_time": "2022-11-08T16:54:48.558Z"
   },
   {
    "duration": 746,
    "start_time": "2022-11-08T16:54:48.579Z"
   },
   {
    "duration": 27,
    "start_time": "2022-11-08T16:54:49.328Z"
   },
   {
    "duration": 730,
    "start_time": "2022-11-08T16:54:49.357Z"
   },
   {
    "duration": 10,
    "start_time": "2022-11-08T16:54:50.089Z"
   },
   {
    "duration": 148,
    "start_time": "2022-11-08T16:54:50.101Z"
   },
   {
    "duration": 28,
    "start_time": "2022-11-08T16:54:50.251Z"
   },
   {
    "duration": 13,
    "start_time": "2022-11-08T16:54:50.281Z"
   },
   {
    "duration": 377,
    "start_time": "2022-11-08T16:54:50.295Z"
   },
   {
    "duration": 5,
    "start_time": "2022-11-08T16:54:50.674Z"
   },
   {
    "duration": 49,
    "start_time": "2022-11-08T16:54:50.681Z"
   },
   {
    "duration": 349,
    "start_time": "2022-11-08T16:54:50.732Z"
   },
   {
    "duration": 10,
    "start_time": "2022-11-08T16:54:51.083Z"
   },
   {
    "duration": 167,
    "start_time": "2022-11-08T16:54:51.094Z"
   },
   {
    "duration": 212,
    "start_time": "2022-11-08T16:54:51.263Z"
   },
   {
    "duration": 210,
    "start_time": "2022-11-08T16:54:51.481Z"
   },
   {
    "duration": 211,
    "start_time": "2022-11-08T16:54:51.693Z"
   },
   {
    "duration": 12,
    "start_time": "2022-11-08T16:54:51.907Z"
   },
   {
    "duration": 9,
    "start_time": "2022-11-08T16:54:51.921Z"
   },
   {
    "duration": 9,
    "start_time": "2022-11-08T16:54:51.932Z"
   },
   {
    "duration": 199,
    "start_time": "2022-11-08T16:54:51.943Z"
   },
   {
    "duration": 239,
    "start_time": "2022-11-08T16:54:52.144Z"
   },
   {
    "duration": 307,
    "start_time": "2022-11-08T16:54:52.385Z"
   },
   {
    "duration": 11,
    "start_time": "2022-11-08T16:54:52.694Z"
   },
   {
    "duration": 6,
    "start_time": "2022-11-08T16:54:52.707Z"
   },
   {
    "duration": 10,
    "start_time": "2022-11-08T16:54:52.715Z"
   },
   {
    "duration": 220,
    "start_time": "2022-11-08T16:54:52.727Z"
   },
   {
    "duration": 197,
    "start_time": "2022-11-08T16:54:52.948Z"
   },
   {
    "duration": 207,
    "start_time": "2022-11-08T16:54:53.147Z"
   },
   {
    "duration": 20,
    "start_time": "2022-11-08T16:54:53.356Z"
   },
   {
    "duration": 10,
    "start_time": "2022-11-08T16:54:53.377Z"
   },
   {
    "duration": 4,
    "start_time": "2022-11-08T17:45:06.036Z"
   },
   {
    "duration": 1328,
    "start_time": "2022-11-08T17:45:10.803Z"
   },
   {
    "duration": 70,
    "start_time": "2022-11-08T17:45:12.134Z"
   },
   {
    "duration": 34,
    "start_time": "2022-11-08T17:45:12.206Z"
   },
   {
    "duration": 35,
    "start_time": "2022-11-08T17:45:12.243Z"
   },
   {
    "duration": 944,
    "start_time": "2022-11-08T17:45:12.280Z"
   },
   {
    "duration": 5,
    "start_time": "2022-11-08T17:45:13.226Z"
   },
   {
    "duration": 5,
    "start_time": "2022-11-08T17:45:13.233Z"
   },
   {
    "duration": 33,
    "start_time": "2022-11-08T17:45:13.240Z"
   },
   {
    "duration": 16,
    "start_time": "2022-11-08T17:45:13.276Z"
   },
   {
    "duration": 20,
    "start_time": "2022-11-08T17:45:13.296Z"
   },
   {
    "duration": 7,
    "start_time": "2022-11-08T17:45:13.318Z"
   },
   {
    "duration": 46,
    "start_time": "2022-11-08T17:45:13.327Z"
   },
   {
    "duration": 6,
    "start_time": "2022-11-08T17:45:13.375Z"
   },
   {
    "duration": 17,
    "start_time": "2022-11-08T17:45:13.384Z"
   },
   {
    "duration": 6,
    "start_time": "2022-11-08T17:45:13.403Z"
   },
   {
    "duration": 19,
    "start_time": "2022-11-08T17:45:13.411Z"
   },
   {
    "duration": 46,
    "start_time": "2022-11-08T17:45:13.433Z"
   },
   {
    "duration": 7,
    "start_time": "2022-11-08T17:45:13.482Z"
   },
   {
    "duration": 25,
    "start_time": "2022-11-08T17:45:13.491Z"
   },
   {
    "duration": 15,
    "start_time": "2022-11-08T17:45:13.518Z"
   },
   {
    "duration": 37,
    "start_time": "2022-11-08T17:45:13.536Z"
   },
   {
    "duration": 14,
    "start_time": "2022-11-08T17:45:13.575Z"
   },
   {
    "duration": 32,
    "start_time": "2022-11-08T17:45:13.591Z"
   },
   {
    "duration": 11,
    "start_time": "2022-11-08T17:45:13.625Z"
   },
   {
    "duration": 198,
    "start_time": "2022-11-08T17:45:13.638Z"
   },
   {
    "duration": 10,
    "start_time": "2022-11-08T17:45:13.838Z"
   },
   {
    "duration": 927,
    "start_time": "2022-11-08T17:45:13.851Z"
   },
   {
    "duration": 33,
    "start_time": "2022-11-08T17:45:14.783Z"
   },
   {
    "duration": 712,
    "start_time": "2022-11-08T17:45:14.818Z"
   },
   {
    "duration": 12,
    "start_time": "2022-11-08T17:45:15.533Z"
   },
   {
    "duration": 164,
    "start_time": "2022-11-08T17:45:15.547Z"
   },
   {
    "duration": 25,
    "start_time": "2022-11-08T17:45:15.714Z"
   },
   {
    "duration": 37,
    "start_time": "2022-11-08T17:45:15.741Z"
   },
   {
    "duration": 334,
    "start_time": "2022-11-08T17:45:15.780Z"
   },
   {
    "duration": 6,
    "start_time": "2022-11-08T17:45:16.116Z"
   },
   {
    "duration": 61,
    "start_time": "2022-11-08T17:45:16.124Z"
   },
   {
    "duration": 361,
    "start_time": "2022-11-08T17:45:16.187Z"
   },
   {
    "duration": 23,
    "start_time": "2022-11-08T17:45:16.550Z"
   },
   {
    "duration": 188,
    "start_time": "2022-11-08T17:45:16.576Z"
   },
   {
    "duration": 188,
    "start_time": "2022-11-08T17:45:16.766Z"
   },
   {
    "duration": 200,
    "start_time": "2022-11-08T17:45:16.956Z"
   },
   {
    "duration": 194,
    "start_time": "2022-11-08T17:45:17.158Z"
   },
   {
    "duration": 20,
    "start_time": "2022-11-08T17:45:17.355Z"
   },
   {
    "duration": 7,
    "start_time": "2022-11-08T17:45:17.378Z"
   },
   {
    "duration": 26,
    "start_time": "2022-11-08T17:45:17.387Z"
   },
   {
    "duration": 202,
    "start_time": "2022-11-08T17:45:17.415Z"
   },
   {
    "duration": 239,
    "start_time": "2022-11-08T17:45:17.620Z"
   },
   {
    "duration": 335,
    "start_time": "2022-11-08T17:45:17.862Z"
   },
   {
    "duration": 13,
    "start_time": "2022-11-08T17:45:18.199Z"
   },
   {
    "duration": 6,
    "start_time": "2022-11-08T17:45:18.214Z"
   },
   {
    "duration": 16,
    "start_time": "2022-11-08T17:45:18.222Z"
   },
   {
    "duration": 228,
    "start_time": "2022-11-08T17:45:18.240Z"
   },
   {
    "duration": 238,
    "start_time": "2022-11-08T17:45:18.472Z"
   },
   {
    "duration": 217,
    "start_time": "2022-11-08T17:45:18.712Z"
   },
   {
    "duration": 14,
    "start_time": "2022-11-08T17:45:18.931Z"
   },
   {
    "duration": 29,
    "start_time": "2022-11-08T17:45:18.948Z"
   },
   {
    "duration": 4,
    "start_time": "2022-11-08T17:46:02.956Z"
   },
   {
    "duration": 187,
    "start_time": "2022-11-08T17:51:44.308Z"
   },
   {
    "duration": 203,
    "start_time": "2022-11-08T17:51:55.672Z"
   },
   {
    "duration": 827,
    "start_time": "2022-11-08T17:54:29.615Z"
   },
   {
    "duration": 618,
    "start_time": "2022-11-08T17:54:40.473Z"
   },
   {
    "duration": 719,
    "start_time": "2022-11-08T17:55:18.940Z"
   },
   {
    "duration": 323,
    "start_time": "2022-11-08T17:58:58.429Z"
   },
   {
    "duration": 329,
    "start_time": "2022-11-08T17:59:10.170Z"
   },
   {
    "duration": 310,
    "start_time": "2022-11-08T17:59:21.280Z"
   },
   {
    "duration": 340,
    "start_time": "2022-11-08T17:59:28.885Z"
   },
   {
    "duration": 343,
    "start_time": "2022-11-08T17:59:40.139Z"
   },
   {
    "duration": 420,
    "start_time": "2022-11-08T17:59:55.366Z"
   },
   {
    "duration": 332,
    "start_time": "2022-11-08T18:00:17.194Z"
   },
   {
    "duration": 13,
    "start_time": "2022-11-08T18:03:38.938Z"
   },
   {
    "duration": 204,
    "start_time": "2022-11-08T18:03:42.694Z"
   },
   {
    "duration": 21,
    "start_time": "2022-11-08T18:04:47.744Z"
   },
   {
    "duration": 17,
    "start_time": "2022-11-08T18:05:06.440Z"
   },
   {
    "duration": 17,
    "start_time": "2022-11-08T18:05:15.774Z"
   },
   {
    "duration": 180,
    "start_time": "2022-11-08T18:05:41.446Z"
   },
   {
    "duration": 1442,
    "start_time": "2022-11-08T18:05:47.385Z"
   },
   {
    "duration": 50,
    "start_time": "2022-11-08T18:05:48.829Z"
   },
   {
    "duration": 143,
    "start_time": "2022-11-08T18:05:48.881Z"
   },
   {
    "duration": 26,
    "start_time": "2022-11-08T18:05:49.027Z"
   },
   {
    "duration": 967,
    "start_time": "2022-11-08T18:05:49.056Z"
   },
   {
    "duration": 6,
    "start_time": "2022-11-08T18:05:50.025Z"
   },
   {
    "duration": 23,
    "start_time": "2022-11-08T18:05:50.033Z"
   },
   {
    "duration": 20,
    "start_time": "2022-11-08T18:05:50.058Z"
   },
   {
    "duration": 36,
    "start_time": "2022-11-08T18:05:50.080Z"
   },
   {
    "duration": 19,
    "start_time": "2022-11-08T18:05:50.119Z"
   },
   {
    "duration": 9,
    "start_time": "2022-11-08T18:05:50.140Z"
   },
   {
    "duration": 32,
    "start_time": "2022-11-08T18:05:50.151Z"
   },
   {
    "duration": 5,
    "start_time": "2022-11-08T18:05:50.186Z"
   },
   {
    "duration": 16,
    "start_time": "2022-11-08T18:05:50.196Z"
   },
   {
    "duration": 5,
    "start_time": "2022-11-08T18:05:50.214Z"
   },
   {
    "duration": 22,
    "start_time": "2022-11-08T18:05:50.221Z"
   },
   {
    "duration": 38,
    "start_time": "2022-11-08T18:05:50.245Z"
   },
   {
    "duration": 9,
    "start_time": "2022-11-08T18:05:50.286Z"
   },
   {
    "duration": 34,
    "start_time": "2022-11-08T18:05:50.297Z"
   },
   {
    "duration": 26,
    "start_time": "2022-11-08T18:05:50.333Z"
   },
   {
    "duration": 10,
    "start_time": "2022-11-08T18:05:50.373Z"
   },
   {
    "duration": 9,
    "start_time": "2022-11-08T18:05:50.384Z"
   },
   {
    "duration": 33,
    "start_time": "2022-11-08T18:05:50.395Z"
   },
   {
    "duration": 8,
    "start_time": "2022-11-08T18:05:50.430Z"
   },
   {
    "duration": 251,
    "start_time": "2022-11-08T18:05:50.440Z"
   },
   {
    "duration": 9,
    "start_time": "2022-11-08T18:05:50.693Z"
   },
   {
    "duration": 762,
    "start_time": "2022-11-08T18:05:50.704Z"
   },
   {
    "duration": 28,
    "start_time": "2022-11-08T18:05:51.468Z"
   },
   {
    "duration": 705,
    "start_time": "2022-11-08T18:05:51.499Z"
   },
   {
    "duration": 13,
    "start_time": "2022-11-08T18:05:52.206Z"
   },
   {
    "duration": 159,
    "start_time": "2022-11-08T18:05:52.221Z"
   },
   {
    "duration": 29,
    "start_time": "2022-11-08T18:05:52.382Z"
   },
   {
    "duration": 20,
    "start_time": "2022-11-08T18:05:52.413Z"
   },
   {
    "duration": 383,
    "start_time": "2022-11-08T18:05:52.434Z"
   },
   {
    "duration": 6,
    "start_time": "2022-11-08T18:05:52.819Z"
   },
   {
    "duration": 63,
    "start_time": "2022-11-08T18:05:52.827Z"
   },
   {
    "duration": 338,
    "start_time": "2022-11-08T18:05:52.893Z"
   },
   {
    "duration": 22,
    "start_time": "2022-11-08T18:05:53.233Z"
   },
   {
    "duration": 196,
    "start_time": "2022-11-08T18:05:53.257Z"
   },
   {
    "duration": 223,
    "start_time": "2022-11-08T18:05:53.455Z"
   },
   {
    "duration": 193,
    "start_time": "2022-11-08T18:05:53.683Z"
   },
   {
    "duration": 185,
    "start_time": "2022-11-08T18:05:53.878Z"
   },
   {
    "duration": 14,
    "start_time": "2022-11-08T18:05:54.067Z"
   },
   {
    "duration": 10,
    "start_time": "2022-11-08T18:05:54.083Z"
   },
   {
    "duration": 10,
    "start_time": "2022-11-08T18:05:54.094Z"
   },
   {
    "duration": 231,
    "start_time": "2022-11-08T18:05:54.106Z"
   },
   {
    "duration": 229,
    "start_time": "2022-11-08T18:05:54.339Z"
   },
   {
    "duration": 352,
    "start_time": "2022-11-08T18:05:54.571Z"
   },
   {
    "duration": 13,
    "start_time": "2022-11-08T18:05:54.925Z"
   },
   {
    "duration": 7,
    "start_time": "2022-11-08T18:05:54.943Z"
   },
   {
    "duration": 28,
    "start_time": "2022-11-08T18:05:54.953Z"
   },
   {
    "duration": 223,
    "start_time": "2022-11-08T18:05:54.983Z"
   },
   {
    "duration": 199,
    "start_time": "2022-11-08T18:05:55.208Z"
   },
   {
    "duration": 209,
    "start_time": "2022-11-08T18:05:55.409Z"
   },
   {
    "duration": 13,
    "start_time": "2022-11-08T18:05:55.621Z"
   },
   {
    "duration": 14,
    "start_time": "2022-11-08T18:05:55.636Z"
   },
   {
    "duration": 125,
    "start_time": "2022-11-08T18:07:05.090Z"
   },
   {
    "duration": 22,
    "start_time": "2022-11-08T18:07:27.847Z"
   },
   {
    "duration": 26,
    "start_time": "2022-11-08T18:08:18.318Z"
   },
   {
    "duration": 19,
    "start_time": "2022-11-08T18:08:23.842Z"
   },
   {
    "duration": 24,
    "start_time": "2022-11-08T18:08:42.321Z"
   },
   {
    "duration": 168,
    "start_time": "2022-11-08T18:08:43.760Z"
   },
   {
    "duration": 210,
    "start_time": "2022-11-08T18:20:08.988Z"
   },
   {
    "duration": 198,
    "start_time": "2022-11-08T18:20:39.982Z"
   },
   {
    "duration": 211,
    "start_time": "2022-11-08T18:20:50.116Z"
   },
   {
    "duration": 215,
    "start_time": "2022-11-08T18:20:57.181Z"
   },
   {
    "duration": 181,
    "start_time": "2022-11-08T18:21:11.222Z"
   },
   {
    "duration": 201,
    "start_time": "2022-11-08T18:21:23.794Z"
   },
   {
    "duration": 206,
    "start_time": "2022-11-08T18:21:32.575Z"
   },
   {
    "duration": 302,
    "start_time": "2022-11-08T18:22:34.966Z"
   },
   {
    "duration": 208,
    "start_time": "2022-11-08T18:22:46.864Z"
   },
   {
    "duration": 202,
    "start_time": "2022-11-08T18:22:53.242Z"
   },
   {
    "duration": 1300,
    "start_time": "2022-11-08T18:23:06.142Z"
   },
   {
    "duration": 54,
    "start_time": "2022-11-08T18:23:07.445Z"
   },
   {
    "duration": 22,
    "start_time": "2022-11-08T18:23:07.501Z"
   },
   {
    "duration": 23,
    "start_time": "2022-11-08T18:23:07.527Z"
   },
   {
    "duration": 883,
    "start_time": "2022-11-08T18:23:07.552Z"
   },
   {
    "duration": 5,
    "start_time": "2022-11-08T18:23:08.437Z"
   },
   {
    "duration": 32,
    "start_time": "2022-11-08T18:23:08.444Z"
   },
   {
    "duration": 37,
    "start_time": "2022-11-08T18:23:08.478Z"
   },
   {
    "duration": 40,
    "start_time": "2022-11-08T18:23:08.517Z"
   },
   {
    "duration": 40,
    "start_time": "2022-11-08T18:23:08.560Z"
   },
   {
    "duration": 26,
    "start_time": "2022-11-08T18:23:08.602Z"
   },
   {
    "duration": 43,
    "start_time": "2022-11-08T18:23:08.630Z"
   },
   {
    "duration": 6,
    "start_time": "2022-11-08T18:23:08.675Z"
   },
   {
    "duration": 42,
    "start_time": "2022-11-08T18:23:08.683Z"
   },
   {
    "duration": 19,
    "start_time": "2022-11-08T18:23:08.727Z"
   },
   {
    "duration": 29,
    "start_time": "2022-11-08T18:23:08.748Z"
   },
   {
    "duration": 29,
    "start_time": "2022-11-08T18:23:08.779Z"
   },
   {
    "duration": 10,
    "start_time": "2022-11-08T18:23:08.810Z"
   },
   {
    "duration": 31,
    "start_time": "2022-11-08T18:23:08.823Z"
   },
   {
    "duration": 51,
    "start_time": "2022-11-08T18:23:08.855Z"
   },
   {
    "duration": 19,
    "start_time": "2022-11-08T18:23:08.908Z"
   },
   {
    "duration": 13,
    "start_time": "2022-11-08T18:23:08.930Z"
   },
   {
    "duration": 41,
    "start_time": "2022-11-08T18:23:08.945Z"
   },
   {
    "duration": 8,
    "start_time": "2022-11-08T18:23:08.988Z"
   },
   {
    "duration": 232,
    "start_time": "2022-11-08T18:23:08.998Z"
   },
   {
    "duration": 11,
    "start_time": "2022-11-08T18:23:09.232Z"
   },
   {
    "duration": 857,
    "start_time": "2022-11-08T18:23:09.245Z"
   },
   {
    "duration": 29,
    "start_time": "2022-11-08T18:23:10.106Z"
   },
   {
    "duration": 676,
    "start_time": "2022-11-08T18:23:10.137Z"
   },
   {
    "duration": 12,
    "start_time": "2022-11-08T18:23:10.815Z"
   },
   {
    "duration": 163,
    "start_time": "2022-11-08T18:23:10.829Z"
   },
   {
    "duration": 21,
    "start_time": "2022-11-08T18:23:10.994Z"
   },
   {
    "duration": 33,
    "start_time": "2022-11-08T18:23:11.017Z"
   },
   {
    "duration": 349,
    "start_time": "2022-11-08T18:23:11.052Z"
   },
   {
    "duration": 6,
    "start_time": "2022-11-08T18:23:11.403Z"
   },
   {
    "duration": 62,
    "start_time": "2022-11-08T18:23:11.411Z"
   },
   {
    "duration": 405,
    "start_time": "2022-11-08T18:23:11.475Z"
   },
   {
    "duration": 123,
    "start_time": "2022-11-08T18:23:11.882Z"
   },
   {
    "duration": 0,
    "start_time": "2022-11-08T18:23:12.007Z"
   },
   {
    "duration": 0,
    "start_time": "2022-11-08T18:23:12.008Z"
   },
   {
    "duration": 0,
    "start_time": "2022-11-08T18:23:12.009Z"
   },
   {
    "duration": 0,
    "start_time": "2022-11-08T18:23:12.010Z"
   },
   {
    "duration": 0,
    "start_time": "2022-11-08T18:23:12.013Z"
   },
   {
    "duration": 0,
    "start_time": "2022-11-08T18:23:12.014Z"
   },
   {
    "duration": 0,
    "start_time": "2022-11-08T18:23:12.016Z"
   },
   {
    "duration": 0,
    "start_time": "2022-11-08T18:23:12.017Z"
   },
   {
    "duration": 0,
    "start_time": "2022-11-08T18:23:12.019Z"
   },
   {
    "duration": 0,
    "start_time": "2022-11-08T18:23:12.021Z"
   },
   {
    "duration": 0,
    "start_time": "2022-11-08T18:23:12.023Z"
   },
   {
    "duration": 0,
    "start_time": "2022-11-08T18:23:12.024Z"
   },
   {
    "duration": 0,
    "start_time": "2022-11-08T18:23:12.025Z"
   },
   {
    "duration": 0,
    "start_time": "2022-11-08T18:23:12.028Z"
   },
   {
    "duration": 0,
    "start_time": "2022-11-08T18:23:12.029Z"
   },
   {
    "duration": 0,
    "start_time": "2022-11-08T18:23:12.071Z"
   },
   {
    "duration": 0,
    "start_time": "2022-11-08T18:23:12.073Z"
   },
   {
    "duration": 1,
    "start_time": "2022-11-08T18:23:12.074Z"
   },
   {
    "duration": 641,
    "start_time": "2022-11-08T18:23:38.344Z"
   },
   {
    "duration": 1382,
    "start_time": "2022-11-08T18:23:43.756Z"
   },
   {
    "duration": 61,
    "start_time": "2022-11-08T18:23:45.141Z"
   },
   {
    "duration": 22,
    "start_time": "2022-11-08T18:23:45.205Z"
   },
   {
    "duration": 21,
    "start_time": "2022-11-08T18:23:45.229Z"
   },
   {
    "duration": 963,
    "start_time": "2022-11-08T18:23:45.272Z"
   },
   {
    "duration": 7,
    "start_time": "2022-11-08T18:23:46.238Z"
   },
   {
    "duration": 25,
    "start_time": "2022-11-08T18:23:46.247Z"
   },
   {
    "duration": 17,
    "start_time": "2022-11-08T18:23:46.274Z"
   },
   {
    "duration": 30,
    "start_time": "2022-11-08T18:23:46.294Z"
   },
   {
    "duration": 34,
    "start_time": "2022-11-08T18:23:46.326Z"
   },
   {
    "duration": 11,
    "start_time": "2022-11-08T18:23:46.363Z"
   },
   {
    "duration": 14,
    "start_time": "2022-11-08T18:23:46.376Z"
   },
   {
    "duration": 17,
    "start_time": "2022-11-08T18:23:46.392Z"
   },
   {
    "duration": 18,
    "start_time": "2022-11-08T18:23:46.413Z"
   },
   {
    "duration": 10,
    "start_time": "2022-11-08T18:23:46.434Z"
   },
   {
    "duration": 38,
    "start_time": "2022-11-08T18:23:46.446Z"
   },
   {
    "duration": 22,
    "start_time": "2022-11-08T18:23:46.486Z"
   },
   {
    "duration": 6,
    "start_time": "2022-11-08T18:23:46.511Z"
   },
   {
    "duration": 23,
    "start_time": "2022-11-08T18:23:46.520Z"
   },
   {
    "duration": 41,
    "start_time": "2022-11-08T18:23:46.545Z"
   },
   {
    "duration": 9,
    "start_time": "2022-11-08T18:23:46.589Z"
   },
   {
    "duration": 8,
    "start_time": "2022-11-08T18:23:46.601Z"
   },
   {
    "duration": 30,
    "start_time": "2022-11-08T18:23:46.611Z"
   },
   {
    "duration": 14,
    "start_time": "2022-11-08T18:23:46.643Z"
   },
   {
    "duration": 198,
    "start_time": "2022-11-08T18:23:46.673Z"
   },
   {
    "duration": 12,
    "start_time": "2022-11-08T18:23:46.874Z"
   },
   {
    "duration": 861,
    "start_time": "2022-11-08T18:23:46.889Z"
   },
   {
    "duration": 42,
    "start_time": "2022-11-08T18:23:47.752Z"
   },
   {
    "duration": 761,
    "start_time": "2022-11-08T18:23:47.796Z"
   },
   {
    "duration": 21,
    "start_time": "2022-11-08T18:23:48.559Z"
   },
   {
    "duration": 199,
    "start_time": "2022-11-08T18:23:48.582Z"
   },
   {
    "duration": 25,
    "start_time": "2022-11-08T18:23:48.783Z"
   },
   {
    "duration": 20,
    "start_time": "2022-11-08T18:23:48.810Z"
   },
   {
    "duration": 389,
    "start_time": "2022-11-08T18:23:48.832Z"
   },
   {
    "duration": 6,
    "start_time": "2022-11-08T18:23:49.224Z"
   },
   {
    "duration": 69,
    "start_time": "2022-11-08T18:23:49.232Z"
   },
   {
    "duration": 383,
    "start_time": "2022-11-08T18:23:49.303Z"
   },
   {
    "duration": 138,
    "start_time": "2022-11-08T18:23:49.687Z"
   },
   {
    "duration": 0,
    "start_time": "2022-11-08T18:23:49.828Z"
   },
   {
    "duration": 0,
    "start_time": "2022-11-08T18:23:49.830Z"
   },
   {
    "duration": 0,
    "start_time": "2022-11-08T18:23:49.831Z"
   },
   {
    "duration": 0,
    "start_time": "2022-11-08T18:23:49.834Z"
   },
   {
    "duration": 0,
    "start_time": "2022-11-08T18:23:49.836Z"
   },
   {
    "duration": 0,
    "start_time": "2022-11-08T18:23:49.837Z"
   },
   {
    "duration": 0,
    "start_time": "2022-11-08T18:23:49.839Z"
   },
   {
    "duration": 0,
    "start_time": "2022-11-08T18:23:49.841Z"
   },
   {
    "duration": 0,
    "start_time": "2022-11-08T18:23:49.842Z"
   },
   {
    "duration": 0,
    "start_time": "2022-11-08T18:23:49.845Z"
   },
   {
    "duration": 0,
    "start_time": "2022-11-08T18:23:49.873Z"
   },
   {
    "duration": 0,
    "start_time": "2022-11-08T18:23:49.878Z"
   },
   {
    "duration": 0,
    "start_time": "2022-11-08T18:23:49.880Z"
   },
   {
    "duration": 0,
    "start_time": "2022-11-08T18:23:49.889Z"
   },
   {
    "duration": 0,
    "start_time": "2022-11-08T18:23:49.891Z"
   },
   {
    "duration": 0,
    "start_time": "2022-11-08T18:23:49.892Z"
   },
   {
    "duration": 0,
    "start_time": "2022-11-08T18:23:49.895Z"
   },
   {
    "duration": 0,
    "start_time": "2022-11-08T18:23:49.897Z"
   },
   {
    "duration": 78,
    "start_time": "2022-11-08T18:25:53.571Z"
   },
   {
    "duration": 138,
    "start_time": "2022-11-08T18:27:21.301Z"
   },
   {
    "duration": 74,
    "start_time": "2022-11-08T18:27:46.633Z"
   },
   {
    "duration": 71,
    "start_time": "2022-11-08T18:27:50.054Z"
   },
   {
    "duration": 69,
    "start_time": "2022-11-08T18:27:53.189Z"
   },
   {
    "duration": 73,
    "start_time": "2022-11-08T18:28:41.061Z"
   },
   {
    "duration": 21,
    "start_time": "2022-11-08T18:29:22.086Z"
   },
   {
    "duration": 21,
    "start_time": "2022-11-08T18:29:42.366Z"
   },
   {
    "duration": 209,
    "start_time": "2022-11-08T18:29:45.426Z"
   },
   {
    "duration": 1364,
    "start_time": "2022-11-08T18:30:15.839Z"
   },
   {
    "duration": 65,
    "start_time": "2022-11-08T18:30:17.206Z"
   },
   {
    "duration": 34,
    "start_time": "2022-11-08T18:30:17.274Z"
   },
   {
    "duration": 23,
    "start_time": "2022-11-08T18:30:17.311Z"
   },
   {
    "duration": 1080,
    "start_time": "2022-11-08T18:30:17.337Z"
   },
   {
    "duration": 5,
    "start_time": "2022-11-08T18:30:18.420Z"
   },
   {
    "duration": 13,
    "start_time": "2022-11-08T18:30:18.427Z"
   },
   {
    "duration": 32,
    "start_time": "2022-11-08T18:30:18.442Z"
   },
   {
    "duration": 49,
    "start_time": "2022-11-08T18:30:18.476Z"
   },
   {
    "duration": 39,
    "start_time": "2022-11-08T18:30:18.527Z"
   },
   {
    "duration": 24,
    "start_time": "2022-11-08T18:30:18.569Z"
   },
   {
    "duration": 35,
    "start_time": "2022-11-08T18:30:18.596Z"
   },
   {
    "duration": 27,
    "start_time": "2022-11-08T18:30:18.633Z"
   },
   {
    "duration": 31,
    "start_time": "2022-11-08T18:30:18.664Z"
   },
   {
    "duration": 13,
    "start_time": "2022-11-08T18:30:18.698Z"
   },
   {
    "duration": 53,
    "start_time": "2022-11-08T18:30:18.714Z"
   },
   {
    "duration": 16,
    "start_time": "2022-11-08T18:30:18.770Z"
   },
   {
    "duration": 30,
    "start_time": "2022-11-08T18:30:18.789Z"
   },
   {
    "duration": 50,
    "start_time": "2022-11-08T18:30:18.821Z"
   },
   {
    "duration": 33,
    "start_time": "2022-11-08T18:30:18.873Z"
   },
   {
    "duration": 27,
    "start_time": "2022-11-08T18:30:18.908Z"
   },
   {
    "duration": 29,
    "start_time": "2022-11-08T18:30:18.937Z"
   },
   {
    "duration": 35,
    "start_time": "2022-11-08T18:30:18.968Z"
   },
   {
    "duration": 9,
    "start_time": "2022-11-08T18:30:19.006Z"
   },
   {
    "duration": 299,
    "start_time": "2022-11-08T18:30:19.018Z"
   },
   {
    "duration": 12,
    "start_time": "2022-11-08T18:30:19.320Z"
   },
   {
    "duration": 1060,
    "start_time": "2022-11-08T18:30:19.334Z"
   },
   {
    "duration": 37,
    "start_time": "2022-11-08T18:30:20.397Z"
   },
   {
    "duration": 878,
    "start_time": "2022-11-08T18:30:20.436Z"
   },
   {
    "duration": 21,
    "start_time": "2022-11-08T18:30:21.317Z"
   },
   {
    "duration": 172,
    "start_time": "2022-11-08T18:30:21.343Z"
   },
   {
    "duration": 26,
    "start_time": "2022-11-08T18:30:21.519Z"
   },
   {
    "duration": 33,
    "start_time": "2022-11-08T18:30:21.547Z"
   },
   {
    "duration": 336,
    "start_time": "2022-11-08T18:30:21.583Z"
   },
   {
    "duration": 7,
    "start_time": "2022-11-08T18:30:21.922Z"
   },
   {
    "duration": 75,
    "start_time": "2022-11-08T18:30:21.931Z"
   },
   {
    "duration": 536,
    "start_time": "2022-11-08T18:30:22.008Z"
   },
   {
    "duration": 35,
    "start_time": "2022-11-08T18:30:22.547Z"
   },
   {
    "duration": 250,
    "start_time": "2022-11-08T18:30:22.588Z"
   },
   {
    "duration": 205,
    "start_time": "2022-11-08T18:30:22.840Z"
   },
   {
    "duration": 215,
    "start_time": "2022-11-08T18:30:23.050Z"
   },
   {
    "duration": 261,
    "start_time": "2022-11-08T18:30:23.267Z"
   },
   {
    "duration": 16,
    "start_time": "2022-11-08T18:30:23.531Z"
   },
   {
    "duration": 39,
    "start_time": "2022-11-08T18:30:23.549Z"
   },
   {
    "duration": 14,
    "start_time": "2022-11-08T18:30:23.592Z"
   },
   {
    "duration": 289,
    "start_time": "2022-11-08T18:30:23.608Z"
   },
   {
    "duration": 295,
    "start_time": "2022-11-08T18:30:23.900Z"
   },
   {
    "duration": 449,
    "start_time": "2022-11-08T18:30:24.202Z"
   },
   {
    "duration": 27,
    "start_time": "2022-11-08T18:30:24.654Z"
   },
   {
    "duration": 6,
    "start_time": "2022-11-08T18:30:24.683Z"
   },
   {
    "duration": 17,
    "start_time": "2022-11-08T18:30:24.691Z"
   },
   {
    "duration": 227,
    "start_time": "2022-11-08T18:30:24.710Z"
   },
   {
    "duration": 245,
    "start_time": "2022-11-08T18:30:24.939Z"
   },
   {
    "duration": 238,
    "start_time": "2022-11-08T18:30:25.186Z"
   },
   {
    "duration": 14,
    "start_time": "2022-11-08T18:30:25.426Z"
   },
   {
    "duration": 30,
    "start_time": "2022-11-08T18:30:25.442Z"
   },
   {
    "duration": 125,
    "start_time": "2022-11-08T20:36:02.419Z"
   },
   {
    "duration": 1331,
    "start_time": "2023-02-11T07:55:39.179Z"
   },
   {
    "duration": 96,
    "start_time": "2023-02-11T07:55:40.512Z"
   },
   {
    "duration": 23,
    "start_time": "2023-02-11T07:55:40.609Z"
   },
   {
    "duration": 16,
    "start_time": "2023-02-11T07:55:40.633Z"
   },
   {
    "duration": 784,
    "start_time": "2023-02-11T07:55:40.651Z"
   },
   {
    "duration": 5,
    "start_time": "2023-02-11T07:55:41.437Z"
   },
   {
    "duration": 7,
    "start_time": "2023-02-11T07:55:41.443Z"
   },
   {
    "duration": 18,
    "start_time": "2023-02-11T07:55:41.452Z"
   },
   {
    "duration": 13,
    "start_time": "2023-02-11T07:55:41.472Z"
   },
   {
    "duration": 33,
    "start_time": "2023-02-11T07:55:41.487Z"
   },
   {
    "duration": 7,
    "start_time": "2023-02-11T07:55:41.522Z"
   },
   {
    "duration": 12,
    "start_time": "2023-02-11T07:55:41.531Z"
   },
   {
    "duration": 6,
    "start_time": "2023-02-11T07:55:41.544Z"
   },
   {
    "duration": 11,
    "start_time": "2023-02-11T07:55:41.553Z"
   },
   {
    "duration": 40,
    "start_time": "2023-02-11T07:55:41.566Z"
   },
   {
    "duration": 17,
    "start_time": "2023-02-11T07:55:41.609Z"
   },
   {
    "duration": 14,
    "start_time": "2023-02-11T07:55:41.628Z"
   },
   {
    "duration": 7,
    "start_time": "2023-02-11T07:55:41.644Z"
   },
   {
    "duration": 21,
    "start_time": "2023-02-11T07:55:41.653Z"
   },
   {
    "duration": 37,
    "start_time": "2023-02-11T07:55:41.676Z"
   },
   {
    "duration": 8,
    "start_time": "2023-02-11T07:55:41.715Z"
   },
   {
    "duration": 5,
    "start_time": "2023-02-11T07:55:41.725Z"
   },
   {
    "duration": 20,
    "start_time": "2023-02-11T07:55:41.732Z"
   },
   {
    "duration": 6,
    "start_time": "2023-02-11T07:55:41.754Z"
   },
   {
    "duration": 196,
    "start_time": "2023-02-11T07:55:41.762Z"
   },
   {
    "duration": 9,
    "start_time": "2023-02-11T07:55:41.960Z"
   },
   {
    "duration": 650,
    "start_time": "2023-02-11T07:55:41.971Z"
   },
   {
    "duration": 29,
    "start_time": "2023-02-11T07:55:42.622Z"
   },
   {
    "duration": 605,
    "start_time": "2023-02-11T07:55:42.653Z"
   },
   {
    "duration": 11,
    "start_time": "2023-02-11T07:55:43.260Z"
   },
   {
    "duration": 142,
    "start_time": "2023-02-11T07:55:43.273Z"
   },
   {
    "duration": 20,
    "start_time": "2023-02-11T07:55:43.418Z"
   },
   {
    "duration": 14,
    "start_time": "2023-02-11T07:55:43.440Z"
   },
   {
    "duration": 347,
    "start_time": "2023-02-11T07:55:43.456Z"
   },
   {
    "duration": 5,
    "start_time": "2023-02-11T07:55:43.805Z"
   },
   {
    "duration": 46,
    "start_time": "2023-02-11T07:55:43.811Z"
   },
   {
    "duration": 372,
    "start_time": "2023-02-11T07:55:43.859Z"
   },
   {
    "duration": 15,
    "start_time": "2023-02-11T07:55:44.233Z"
   },
   {
    "duration": 168,
    "start_time": "2023-02-11T07:55:44.250Z"
   },
   {
    "duration": 176,
    "start_time": "2023-02-11T07:55:44.420Z"
   },
   {
    "duration": 176,
    "start_time": "2023-02-11T07:55:44.603Z"
   },
   {
    "duration": 175,
    "start_time": "2023-02-11T07:55:44.780Z"
   },
   {
    "duration": 10,
    "start_time": "2023-02-11T07:55:44.957Z"
   },
   {
    "duration": 7,
    "start_time": "2023-02-11T07:55:44.969Z"
   },
   {
    "duration": 27,
    "start_time": "2023-02-11T07:55:44.978Z"
   },
   {
    "duration": 189,
    "start_time": "2023-02-11T07:55:45.007Z"
   },
   {
    "duration": 289,
    "start_time": "2023-02-11T07:55:45.198Z"
   },
   {
    "duration": 190,
    "start_time": "2023-02-11T07:55:45.488Z"
   },
   {
    "duration": 24,
    "start_time": "2023-02-11T07:55:45.680Z"
   },
   {
    "duration": 7,
    "start_time": "2023-02-11T07:55:45.706Z"
   },
   {
    "duration": 10,
    "start_time": "2023-02-11T07:55:45.715Z"
   },
   {
    "duration": 207,
    "start_time": "2023-02-11T07:55:45.726Z"
   },
   {
    "duration": 200,
    "start_time": "2023-02-11T07:55:45.935Z"
   },
   {
    "duration": 200,
    "start_time": "2023-02-11T07:55:46.138Z"
   },
   {
    "duration": 12,
    "start_time": "2023-02-11T07:55:46.340Z"
   },
   {
    "duration": 12,
    "start_time": "2023-02-11T07:55:46.354Z"
   }
  ],
  "kernelspec": {
   "display_name": "Python 3 (ipykernel)",
   "language": "python",
   "name": "python3"
  },
  "language_info": {
   "codemirror_mode": {
    "name": "ipython",
    "version": 3
   },
   "file_extension": ".py",
   "mimetype": "text/x-python",
   "name": "python",
   "nbconvert_exporter": "python",
   "pygments_lexer": "ipython3",
   "version": "3.9.5"
  },
  "toc": {
   "base_numbering": 1,
   "nav_menu": {},
   "number_sections": true,
   "sideBar": true,
   "skip_h1_title": true,
   "title_cell": "Table of Contents",
   "title_sidebar": "Contents",
   "toc_cell": false,
   "toc_position": {},
   "toc_section_display": true,
   "toc_window_display": false
  }
 },
 "nbformat": 4,
 "nbformat_minor": 2
}
