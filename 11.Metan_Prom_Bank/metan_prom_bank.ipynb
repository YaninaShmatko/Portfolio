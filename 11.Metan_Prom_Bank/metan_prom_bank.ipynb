{
 "cells": [
  {
   "cell_type": "markdown",
   "metadata": {},
   "source": [
    "# Банки - Анализ оттока клиентов\n",
    "\n",
    "**Задача:** \n",
    "\n",
    " Проанализируйте клиентов регионального банка и выделите сегменты клиентов, которые склонны уходить из банка.\n",
    "\n",
    "- Проведите исследовательский анализ данных,\n",
    "- Выделите портреты клиентов, которые склонны уходить из банка,\n",
    "- Сформулируйте и проверьте статистические гипотезы.\n",
    "\n",
    "**Описание данных**\n",
    "Файл bank_scrooge.csv:\n",
    "\n",
    "- userid — идентификатор пользователя,\n",
    "- score — баллы кредитного скоринга,\n",
    "- city — город,\n",
    "- gender — пол,\n",
    "- age — возраст,\n",
    "- equity — приблизительная оценка собственности клиента,\n",
    "- balance — баланс на счёте,\n",
    "- products — количество продуктов, которыми пользуется клиент,\n",
    "- credit_card — есть ли кредитная карта,\n",
    "- last_activity — был ли клиент активен последнее время,\n",
    "- salary — заработная плата клиента\n",
    "- churn — уходит или нет.\n"
   ]
  },
  {
   "cell_type": "markdown",
   "metadata": {},
   "source": [
    "**Инструкция по выполнению проекта**\n",
    "\n",
    "**1. Загрузите данные и изучите общую информацию**\n",
    "\n",
    "- Загрузите данные и изучите общую информацию о датасете. \n",
    "- Что можно сказать о каждом столбце? Значения какого типа они хранят?\n",
    "- Есть ли аномалии в данных?\n",
    "\n",
    "**2. Выполните предобработку данных**\n",
    " \n",
    "- Изучите, есть ли дубликаты в данных. \n",
    "- Поищите пропуски: встречаются ли они, в каких столбцах? Можно ли их обработать или оставить как есть?\n",
    "- Добавте необходимые столбцы. \n",
    "- Обработка аномальных значений, если будут выявлены.\n",
    "- Обработка названий столбцов и текста в данных, при необходимости.\n",
    "\n",
    "**3. Анализ данных**\n",
    "\n",
    "- Исследуйте клиентов банка по категориям: возраст, пол, город и т.д..\n",
    "- Составьте и визуализируйте таблицу кореляции по разным признакам из датасета.\n",
    "- Составьте портреты пользователей? \n",
    "- Визуалирируйте данные, где это необходимо.\n",
    "- Рассмотрите и изобразите данные в разрезе ушедших и не ушедших клиентов\n",
    "- Какие категории заведений чаще являются сетевыми? Исследуйте данные и ответьте на вопрос графиком.\n",
    "- Соберите наблюдения по вопросам выше в один общий вывод.\n",
    "\n",
    "**4. Проверка гипотез**\n",
    "- Проверьте гипотезу различия дохода между теми клиентами, которые ушли и теми, которые остались\n",
    "- Проверьте гипотезу о влиянии искользования кредитной карты на отточность клиентов\n",
    "- Проверьте гипотезу различия активности между теми клиентами, которые ушли и теми, которые остались за последний месяц их жизни в системе банка.\n",
    "\n",
    "\n",
    "\n",
    "**5. Подготовка дашборда**\n",
    "\n",
    "Чтобы отправить дашборд, приложите к проекту ссылку на файл.\n",
    "\n",
    "1. Постройте диаграмму, отображающую распределение заработной платы клиентов.\n",
    "2. Добавьте индикатор, отображающий процент клиентов, имеющих кредитную карту.\n",
    "3. Добавьте фильтр дашборда, позволяющий выбрать ушёл клиент или нет.\n",
    "**6. Подготовка презентации**\n",
    "\n",
    "\n",
    "По итогам исследования подготовьте презентацию. Для создания презентации используйте любой удобный инструмент, но отправить презентацию нужно **обязательно** в формате **pdf,** прикрепив ссылку на файл в основном проекте.\n"
   ]
  },
  {
   "cell_type": "markdown",
   "metadata": {},
   "source": [
    "## Загрузим данные и изучим общую информацию."
   ]
  },
  {
   "cell_type": "code",
   "execution_count": 1,
   "metadata": {},
   "outputs": [],
   "source": [
    "import pandas as pd\n",
    "import numpy as np\n",
    "import seaborn as sns\n",
    "from matplotlib import pyplot as plt\n",
    "from scipy import stats as st"
   ]
  },
  {
   "cell_type": "code",
   "execution_count": 2,
   "metadata": {},
   "outputs": [],
   "source": [
    "path = \"https://drive.google.com/uc?export=download&id=1-U61mhTz_N1ARjy2XSAZ7IlQqGjeqP0F\" \n",
    "df = pd.read_csv(path)"
   ]
  },
  {
   "cell_type": "code",
   "execution_count": 3,
   "metadata": {},
   "outputs": [
    {
     "data": {
      "text/html": [
       "<div>\n",
       "<style scoped>\n",
       "    .dataframe tbody tr th:only-of-type {\n",
       "        vertical-align: middle;\n",
       "    }\n",
       "\n",
       "    .dataframe tbody tr th {\n",
       "        vertical-align: top;\n",
       "    }\n",
       "\n",
       "    .dataframe thead th {\n",
       "        text-align: right;\n",
       "    }\n",
       "</style>\n",
       "<table border=\"1\" class=\"dataframe\">\n",
       "  <thead>\n",
       "    <tr style=\"text-align: right;\">\n",
       "      <th></th>\n",
       "      <th>USERID</th>\n",
       "      <th>score</th>\n",
       "      <th>city</th>\n",
       "      <th>gender</th>\n",
       "      <th>age</th>\n",
       "      <th>equity</th>\n",
       "      <th>balance</th>\n",
       "      <th>products</th>\n",
       "      <th>credit_card</th>\n",
       "      <th>last_activity</th>\n",
       "      <th>EST_SALARY</th>\n",
       "      <th>churn</th>\n",
       "    </tr>\n",
       "  </thead>\n",
       "  <tbody>\n",
       "    <tr>\n",
       "      <th>0</th>\n",
       "      <td>183012</td>\n",
       "      <td>850.0</td>\n",
       "      <td>Рыбинск</td>\n",
       "      <td>Ж</td>\n",
       "      <td>25</td>\n",
       "      <td>1</td>\n",
       "      <td>59214.82</td>\n",
       "      <td>2</td>\n",
       "      <td>0</td>\n",
       "      <td>1</td>\n",
       "      <td>75719.14</td>\n",
       "      <td>1</td>\n",
       "    </tr>\n",
       "    <tr>\n",
       "      <th>1</th>\n",
       "      <td>146556</td>\n",
       "      <td>861.0</td>\n",
       "      <td>Рыбинск</td>\n",
       "      <td>Ж</td>\n",
       "      <td>37</td>\n",
       "      <td>5</td>\n",
       "      <td>850594.33</td>\n",
       "      <td>3</td>\n",
       "      <td>1</td>\n",
       "      <td>0</td>\n",
       "      <td>86621.77</td>\n",
       "      <td>0</td>\n",
       "    </tr>\n",
       "    <tr>\n",
       "      <th>2</th>\n",
       "      <td>120722</td>\n",
       "      <td>892.0</td>\n",
       "      <td>Рыбинск</td>\n",
       "      <td>Ж</td>\n",
       "      <td>30</td>\n",
       "      <td>0</td>\n",
       "      <td>NaN</td>\n",
       "      <td>1</td>\n",
       "      <td>1</td>\n",
       "      <td>1</td>\n",
       "      <td>107683.34</td>\n",
       "      <td>0</td>\n",
       "    </tr>\n",
       "    <tr>\n",
       "      <th>3</th>\n",
       "      <td>225363</td>\n",
       "      <td>866.0</td>\n",
       "      <td>Ярославль</td>\n",
       "      <td>Ж</td>\n",
       "      <td>51</td>\n",
       "      <td>5</td>\n",
       "      <td>1524746.26</td>\n",
       "      <td>2</td>\n",
       "      <td>0</td>\n",
       "      <td>1</td>\n",
       "      <td>174423.53</td>\n",
       "      <td>1</td>\n",
       "    </tr>\n",
       "    <tr>\n",
       "      <th>4</th>\n",
       "      <td>157978</td>\n",
       "      <td>730.0</td>\n",
       "      <td>Ярославль</td>\n",
       "      <td>М</td>\n",
       "      <td>34</td>\n",
       "      <td>5</td>\n",
       "      <td>174.00</td>\n",
       "      <td>1</td>\n",
       "      <td>1</td>\n",
       "      <td>0</td>\n",
       "      <td>67353.16</td>\n",
       "      <td>1</td>\n",
       "    </tr>\n",
       "  </tbody>\n",
       "</table>\n",
       "</div>"
      ],
      "text/plain": [
       "   USERID  score       city gender  age  equity     balance  products  \\\n",
       "0  183012  850.0    Рыбинск      Ж   25       1    59214.82         2   \n",
       "1  146556  861.0    Рыбинск      Ж   37       5   850594.33         3   \n",
       "2  120722  892.0    Рыбинск      Ж   30       0         NaN         1   \n",
       "3  225363  866.0  Ярославль      Ж   51       5  1524746.26         2   \n",
       "4  157978  730.0  Ярославль      М   34       5      174.00         1   \n",
       "\n",
       "   credit_card  last_activity  EST_SALARY  churn  \n",
       "0            0              1    75719.14      1  \n",
       "1            1              0    86621.77      0  \n",
       "2            1              1   107683.34      0  \n",
       "3            0              1   174423.53      1  \n",
       "4            1              0    67353.16      1  "
      ]
     },
     "metadata": {},
     "output_type": "display_data"
    }
   ],
   "source": [
    "display(df.head())"
   ]
  },
  {
   "cell_type": "code",
   "execution_count": 4,
   "metadata": {},
   "outputs": [
    {
     "name": "stdout",
     "output_type": "stream",
     "text": [
      "<class 'pandas.core.frame.DataFrame'>\n",
      "RangeIndex: 10000 entries, 0 to 9999\n",
      "Data columns (total 12 columns):\n",
      " #   Column         Non-Null Count  Dtype  \n",
      "---  ------         --------------  -----  \n",
      " 0   USERID         10000 non-null  int64  \n",
      " 1   score          10000 non-null  float64\n",
      " 2   city           10000 non-null  object \n",
      " 3   gender         10000 non-null  object \n",
      " 4   age            10000 non-null  int64  \n",
      " 5   equity         10000 non-null  int64  \n",
      " 6   balance        7705 non-null   float64\n",
      " 7   products       10000 non-null  int64  \n",
      " 8   credit_card    10000 non-null  int64  \n",
      " 9   last_activity  10000 non-null  int64  \n",
      " 10  EST_SALARY     10000 non-null  float64\n",
      " 11  churn          10000 non-null  int64  \n",
      "dtypes: float64(3), int64(7), object(2)\n",
      "memory usage: 937.6+ KB\n"
     ]
    }
   ],
   "source": [
    "df.info()"
   ]
  },
  {
   "cell_type": "markdown",
   "metadata": {},
   "source": [
    "При первичном осмотре данных:\n",
    "\n",
    "- данные хранятся в правильных типах данных.\n",
    "- в названиях колонок видны нарушения стиля (прописные буквы, слитное написание слов)\n",
    "- есть пропуски в столбце balance"
   ]
  },
  {
   "cell_type": "markdown",
   "metadata": {},
   "source": [
    "## Предобработка данных."
   ]
  },
  {
   "cell_type": "markdown",
   "metadata": {},
   "source": [
    "### Заменим названия столбцов"
   ]
  },
  {
   "cell_type": "code",
   "execution_count": 5,
   "metadata": {},
   "outputs": [
    {
     "data": {
      "text/plain": [
       "['USERID',\n",
       " 'score',\n",
       " 'city',\n",
       " 'gender',\n",
       " 'age',\n",
       " 'equity',\n",
       " 'balance',\n",
       " 'products',\n",
       " 'credit_card',\n",
       " 'last_activity',\n",
       " 'EST_SALARY',\n",
       " 'churn']"
      ]
     },
     "execution_count": 5,
     "metadata": {},
     "output_type": "execute_result"
    }
   ],
   "source": [
    "df.columns.to_list()"
   ]
  },
  {
   "cell_type": "code",
   "execution_count": 6,
   "metadata": {},
   "outputs": [],
   "source": [
    "df.columns = [x.lower().replace(' ', '_') for x in df.columns]\n",
    "df = df.rename(columns={'userid': 'user_id'})"
   ]
  },
  {
   "cell_type": "code",
   "execution_count": 7,
   "metadata": {},
   "outputs": [
    {
     "data": {
      "text/plain": [
       "['user_id',\n",
       " 'score',\n",
       " 'city',\n",
       " 'gender',\n",
       " 'age',\n",
       " 'equity',\n",
       " 'balance',\n",
       " 'products',\n",
       " 'credit_card',\n",
       " 'last_activity',\n",
       " 'est_salary',\n",
       " 'churn']"
      ]
     },
     "execution_count": 7,
     "metadata": {},
     "output_type": "execute_result"
    }
   ],
   "source": [
    "df.columns.to_list()"
   ]
  },
  {
   "cell_type": "markdown",
   "metadata": {},
   "source": [
    "### Обработаем пропуски в данных"
   ]
  },
  {
   "cell_type": "code",
   "execution_count": 8,
   "metadata": {},
   "outputs": [
    {
     "data": {
      "text/plain": [
       "user_id           0.00\n",
       "score             0.00\n",
       "city              0.00\n",
       "gender            0.00\n",
       "age               0.00\n",
       "equity            0.00\n",
       "products          0.00\n",
       "credit_card       0.00\n",
       "last_activity     0.00\n",
       "est_salary        0.00\n",
       "churn             0.00\n",
       "balance          22.95\n",
       "dtype: float64"
      ]
     },
     "execution_count": 8,
     "metadata": {},
     "output_type": "execute_result"
    }
   ],
   "source": [
    "df.isnull().sum().sort_values() / df.shape[0]*100 # Кол-вл пропусках в процентах"
   ]
  },
  {
   "cell_type": "markdown",
   "metadata": {},
   "source": [
    "- Явные пропуски данных наблюдаются только в столбце balance и составляют почти 23 процента от общего количества данных в этом столбце. Посмотрим на природу возникновения данных пропустов в последующем анализе."
   ]
  },
  {
   "cell_type": "code",
   "execution_count": 9,
   "metadata": {},
   "outputs": [
    {
     "data": {
      "text/plain": [
       "0.0"
      ]
     },
     "execution_count": 9,
     "metadata": {},
     "output_type": "execute_result"
    }
   ],
   "source": [
    "df['balance'].min()"
   ]
  },
  {
   "cell_type": "markdown",
   "metadata": {},
   "source": [
    "- В даных уже есть 0, то есть заменять пропуски 0 будет не корректно. Так как это может значительно исказить общую картину.\n",
    "- Нужно уточнить у специалистов, которые собирали данные, чем можно объяснить пропуски данных в этом столбце."
   ]
  },
  {
   "cell_type": "markdown",
   "metadata": {},
   "source": [
    "### Обработаем дубликаты"
   ]
  },
  {
   "cell_type": "code",
   "execution_count": 10,
   "metadata": {},
   "outputs": [
    {
     "name": "stdout",
     "output_type": "stream",
     "text": [
      "Всего строк - 10000\n",
      "Повторяющихся строк - 1\n"
     ]
    }
   ],
   "source": [
    "print('Всего строк -', len(df))\n",
    "print('Повторяющихся строк -', len(df)- len(df.drop_duplicates()))"
   ]
  },
  {
   "cell_type": "code",
   "execution_count": 11,
   "metadata": {},
   "outputs": [],
   "source": [
    "df = df.drop_duplicates()"
   ]
  },
  {
   "cell_type": "code",
   "execution_count": 12,
   "metadata": {},
   "outputs": [
    {
     "data": {
      "text/html": [
       "<div>\n",
       "<style scoped>\n",
       "    .dataframe tbody tr th:only-of-type {\n",
       "        vertical-align: middle;\n",
       "    }\n",
       "\n",
       "    .dataframe tbody tr th {\n",
       "        vertical-align: top;\n",
       "    }\n",
       "\n",
       "    .dataframe thead th {\n",
       "        text-align: right;\n",
       "    }\n",
       "</style>\n",
       "<table border=\"1\" class=\"dataframe\">\n",
       "  <thead>\n",
       "    <tr style=\"text-align: right;\">\n",
       "      <th></th>\n",
       "      <th>user_id</th>\n",
       "      <th>score</th>\n",
       "      <th>city</th>\n",
       "      <th>gender</th>\n",
       "      <th>age</th>\n",
       "      <th>equity</th>\n",
       "      <th>balance</th>\n",
       "      <th>products</th>\n",
       "      <th>credit_card</th>\n",
       "      <th>last_activity</th>\n",
       "      <th>est_salary</th>\n",
       "      <th>churn</th>\n",
       "    </tr>\n",
       "  </thead>\n",
       "  <tbody>\n",
       "    <tr>\n",
       "      <th>1583</th>\n",
       "      <td>190253</td>\n",
       "      <td>726.0</td>\n",
       "      <td>Ярославль</td>\n",
       "      <td>М</td>\n",
       "      <td>49</td>\n",
       "      <td>0</td>\n",
       "      <td>NaN</td>\n",
       "      <td>1</td>\n",
       "      <td>1</td>\n",
       "      <td>1</td>\n",
       "      <td>177700.78</td>\n",
       "      <td>0</td>\n",
       "    </tr>\n",
       "    <tr>\n",
       "      <th>1837</th>\n",
       "      <td>210662</td>\n",
       "      <td>896.0</td>\n",
       "      <td>Ростов</td>\n",
       "      <td>Ж</td>\n",
       "      <td>37</td>\n",
       "      <td>0</td>\n",
       "      <td>NaN</td>\n",
       "      <td>2</td>\n",
       "      <td>0</td>\n",
       "      <td>0</td>\n",
       "      <td>90916.04</td>\n",
       "      <td>0</td>\n",
       "    </tr>\n",
       "    <tr>\n",
       "      <th>2138</th>\n",
       "      <td>131419</td>\n",
       "      <td>739.0</td>\n",
       "      <td>Ярославль</td>\n",
       "      <td>Ж</td>\n",
       "      <td>37</td>\n",
       "      <td>3</td>\n",
       "      <td>1307941.65</td>\n",
       "      <td>3</td>\n",
       "      <td>0</td>\n",
       "      <td>0</td>\n",
       "      <td>103867.47</td>\n",
       "      <td>0</td>\n",
       "    </tr>\n",
       "    <tr>\n",
       "      <th>2165</th>\n",
       "      <td>187635</td>\n",
       "      <td>692.0</td>\n",
       "      <td>Ярославль</td>\n",
       "      <td>Ж</td>\n",
       "      <td>44</td>\n",
       "      <td>0</td>\n",
       "      <td>NaN</td>\n",
       "      <td>1</td>\n",
       "      <td>1</td>\n",
       "      <td>1</td>\n",
       "      <td>160368.82</td>\n",
       "      <td>0</td>\n",
       "    </tr>\n",
       "    <tr>\n",
       "      <th>2302</th>\n",
       "      <td>220816</td>\n",
       "      <td>934.0</td>\n",
       "      <td>Ярославль</td>\n",
       "      <td>Ж</td>\n",
       "      <td>74</td>\n",
       "      <td>5</td>\n",
       "      <td>1294285.39</td>\n",
       "      <td>3</td>\n",
       "      <td>1</td>\n",
       "      <td>0</td>\n",
       "      <td>95606.80</td>\n",
       "      <td>0</td>\n",
       "    </tr>\n",
       "    <tr>\n",
       "      <th>...</th>\n",
       "      <td>...</td>\n",
       "      <td>...</td>\n",
       "      <td>...</td>\n",
       "      <td>...</td>\n",
       "      <td>...</td>\n",
       "      <td>...</td>\n",
       "      <td>...</td>\n",
       "      <td>...</td>\n",
       "      <td>...</td>\n",
       "      <td>...</td>\n",
       "      <td>...</td>\n",
       "      <td>...</td>\n",
       "    </tr>\n",
       "    <tr>\n",
       "      <th>9775</th>\n",
       "      <td>124450</td>\n",
       "      <td>758.0</td>\n",
       "      <td>Рыбинск</td>\n",
       "      <td>Ж</td>\n",
       "      <td>36</td>\n",
       "      <td>0</td>\n",
       "      <td>73574.07</td>\n",
       "      <td>2</td>\n",
       "      <td>0</td>\n",
       "      <td>1</td>\n",
       "      <td>79963.59</td>\n",
       "      <td>0</td>\n",
       "    </tr>\n",
       "    <tr>\n",
       "      <th>9785</th>\n",
       "      <td>168998</td>\n",
       "      <td>895.0</td>\n",
       "      <td>Ярославль</td>\n",
       "      <td>М</td>\n",
       "      <td>44</td>\n",
       "      <td>0</td>\n",
       "      <td>282653.53</td>\n",
       "      <td>3</td>\n",
       "      <td>0</td>\n",
       "      <td>0</td>\n",
       "      <td>255296.47</td>\n",
       "      <td>0</td>\n",
       "    </tr>\n",
       "    <tr>\n",
       "      <th>9819</th>\n",
       "      <td>140934</td>\n",
       "      <td>832.0</td>\n",
       "      <td>Рыбинск</td>\n",
       "      <td>М</td>\n",
       "      <td>45</td>\n",
       "      <td>3</td>\n",
       "      <td>385763.16</td>\n",
       "      <td>2</td>\n",
       "      <td>0</td>\n",
       "      <td>1</td>\n",
       "      <td>59651.35</td>\n",
       "      <td>1</td>\n",
       "    </tr>\n",
       "    <tr>\n",
       "      <th>9880</th>\n",
       "      <td>217412</td>\n",
       "      <td>886.0</td>\n",
       "      <td>Ярославль</td>\n",
       "      <td>Ж</td>\n",
       "      <td>35</td>\n",
       "      <td>3</td>\n",
       "      <td>1026172.14</td>\n",
       "      <td>2</td>\n",
       "      <td>1</td>\n",
       "      <td>0</td>\n",
       "      <td>53099.16</td>\n",
       "      <td>0</td>\n",
       "    </tr>\n",
       "    <tr>\n",
       "      <th>9970</th>\n",
       "      <td>175730</td>\n",
       "      <td>816.0</td>\n",
       "      <td>Ростов</td>\n",
       "      <td>М</td>\n",
       "      <td>36</td>\n",
       "      <td>4</td>\n",
       "      <td>477892.07</td>\n",
       "      <td>3</td>\n",
       "      <td>1</td>\n",
       "      <td>0</td>\n",
       "      <td>81100.60</td>\n",
       "      <td>0</td>\n",
       "    </tr>\n",
       "  </tbody>\n",
       "</table>\n",
       "<p>72 rows × 12 columns</p>\n",
       "</div>"
      ],
      "text/plain": [
       "      user_id  score       city gender  age  equity     balance  products  \\\n",
       "1583   190253  726.0  Ярославль      М   49       0         NaN         1   \n",
       "1837   210662  896.0     Ростов      Ж   37       0         NaN         2   \n",
       "2138   131419  739.0  Ярославль      Ж   37       3  1307941.65         3   \n",
       "2165   187635  692.0  Ярославль      Ж   44       0         NaN         1   \n",
       "2302   220816  934.0  Ярославль      Ж   74       5  1294285.39         3   \n",
       "...       ...    ...        ...    ...  ...     ...         ...       ...   \n",
       "9775   124450  758.0    Рыбинск      Ж   36       0    73574.07         2   \n",
       "9785   168998  895.0  Ярославль      М   44       0   282653.53         3   \n",
       "9819   140934  832.0    Рыбинск      М   45       3   385763.16         2   \n",
       "9880   217412  886.0  Ярославль      Ж   35       3  1026172.14         2   \n",
       "9970   175730  816.0     Ростов      М   36       4   477892.07         3   \n",
       "\n",
       "      credit_card  last_activity  est_salary  churn  \n",
       "1583            1              1   177700.78      0  \n",
       "1837            0              0    90916.04      0  \n",
       "2138            0              0   103867.47      0  \n",
       "2165            1              1   160368.82      0  \n",
       "2302            1              0    95606.80      0  \n",
       "...           ...            ...         ...    ...  \n",
       "9775            0              1    79963.59      0  \n",
       "9785            0              0   255296.47      0  \n",
       "9819            0              1    59651.35      1  \n",
       "9880            1              0    53099.16      0  \n",
       "9970            1              0    81100.60      0  \n",
       "\n",
       "[72 rows x 12 columns]"
      ]
     },
     "metadata": {},
     "output_type": "display_data"
    }
   ],
   "source": [
    "duplicateRows = df[df.duplicated(['user_id'])]\n",
    "display(duplicateRows) "
   ]
  },
  {
   "cell_type": "markdown",
   "metadata": {},
   "source": [
    "- В данных присутствуют 72 повторяющихся ID клиентов. Такого не должно случаться, так как ID - это уникальный ключ пользователя."
   ]
  },
  {
   "cell_type": "code",
   "execution_count": 13,
   "metadata": {},
   "outputs": [],
   "source": [
    "df = df.drop_duplicates(subset=['user_id']) # Удаляю все повторяющиеся ID"
   ]
  },
  {
   "cell_type": "code",
   "execution_count": 14,
   "metadata": {},
   "outputs": [
    {
     "name": "stdout",
     "output_type": "stream",
     "text": [
      "Всего строк - 9927\n",
      "Повторяющихся строк - 0\n"
     ]
    }
   ],
   "source": [
    "df_salary = df.drop('est_salary', axis=1)\n",
    "print('Всего строк -', len(df_salary))\n",
    "print('Повторяющихся строк -', len(df_salary)- len(df_salary.drop_duplicates()))"
   ]
  },
  {
   "cell_type": "markdown",
   "metadata": {},
   "source": [
    "### Обработаем выбросы в данных"
   ]
  },
  {
   "cell_type": "code",
   "execution_count": 15,
   "metadata": {},
   "outputs": [
    {
     "data": {
      "image/png": "[encoded data removed]",
      "text/plain": [
       "<Figure size 432x288 with 1 Axes>"
      ]
     },
     "metadata": {
      "needs_background": "light"
     },
     "output_type": "display_data"
    }
   ],
   "source": [
    "df.boxplot('est_salary') # строю диаграмму размаха\n",
    "plt.ylim(0, 800000);"
   ]
  },
  {
   "cell_type": "markdown",
   "metadata": {},
   "source": [
    "Выбросы = наблюдения > Q3 + 1,5*IQR или Q1 – 1,5*IQR"
   ]
  },
  {
   "cell_type": "code",
   "execution_count": 16,
   "metadata": {},
   "outputs": [],
   "source": [
    "q1 = df['est_salary'].quantile(0.25)                 \n",
    "q3 = df['est_salary'].quantile(0.75)\n",
    "iqr = q3 - q1\n",
    "qq1 = q1 - 1.5*iqr\n",
    "qq3 = q3 + 1.5*iqr\n",
    "\n",
    "df_1 = df.query('est_salary >= 10000 and est_salary <= @qq3').reset_index(drop=True)"
   ]
  },
  {
   "cell_type": "code",
   "execution_count": 17,
   "metadata": {},
   "outputs": [
    {
     "data": {
      "text/plain": [
       "0.949934522010678"
      ]
     },
     "execution_count": 17,
     "metadata": {},
     "output_type": "execute_result"
    }
   ],
   "source": [
    "df_1.shape[0] / df.shape[0]"
   ]
  },
  {
   "cell_type": "markdown",
   "metadata": {},
   "source": [
    "- Привела данные к корректному, для дальнейшего анализа, виду. \n",
    "- Убрала дубликаты и выбросы из датасета.\n",
    "- При обработке мы потеряли меньше 5% данных и можем продолжить анализ."
   ]
  },
  {
   "cell_type": "markdown",
   "metadata": {},
   "source": [
    "## Исследовательсий анализ данных"
   ]
  },
  {
   "cell_type": "markdown",
   "metadata": {},
   "source": [
    "### Рассмотрим уникальность данных в некоторых столбцах"
   ]
  },
  {
   "cell_type": "code",
   "execution_count": 18,
   "metadata": {},
   "outputs": [
    {
     "data": {
      "text/plain": [
       "array([18, 19, 20, 21, 22, 23, 24, 25, 26, 27, 28, 29, 30, 31, 32, 33, 34,\n",
       "       35, 36, 37, 38, 39, 40, 41, 42, 43, 44, 45, 46, 47, 48, 49, 50, 51,\n",
       "       52, 53, 54, 55, 56, 57, 58, 59, 60, 61, 62, 63, 64, 65, 66, 67, 68,\n",
       "       69, 70, 71, 72, 73, 74, 75, 76, 77, 78, 79, 80, 81, 82, 83, 84, 86])"
      ]
     },
     "execution_count": 18,
     "metadata": {},
     "output_type": "execute_result"
    }
   ],
   "source": [
    "df_1['age'].sort_values().unique() # Вывожу уникальные значения солбца age"
   ]
  },
  {
   "cell_type": "markdown",
   "metadata": {},
   "source": [
    "- Никакие возростные аномалии замечены не были) \n",
    "- Самому молодому клиенту нашего банка - 18 лет, а самому пожилому - 86."
   ]
  },
  {
   "cell_type": "code",
   "execution_count": 19,
   "metadata": {},
   "outputs": [
    {
     "data": {
      "text/plain": [
       "array(['Ростов', 'Рыбинск', 'Ярославль'], dtype=object)"
      ]
     },
     "execution_count": 19,
     "metadata": {},
     "output_type": "execute_result"
    }
   ],
   "source": [
    "df_1['city'].sort_values().unique() # Вывожу уникальные значения солбца city"
   ]
  },
  {
   "cell_type": "markdown",
   "metadata": {},
   "source": [
    "- С городами тоже все в порядке. Три города, как и заявленно в описании."
   ]
  },
  {
   "cell_type": "code",
   "execution_count": 20,
   "metadata": {},
   "outputs": [
    {
     "data": {
      "text/plain": [
       "array(['Ж', 'М'], dtype=object)"
      ]
     },
     "execution_count": 20,
     "metadata": {},
     "output_type": "execute_result"
    }
   ],
   "source": [
    "df_1['gender'].sort_values().unique() # Вывожу уникальные значения солбца gender"
   ]
  },
  {
   "cell_type": "markdown",
   "metadata": {},
   "source": [
    "- В датасете представлены два гендера - М и Ж."
   ]
  },
  {
   "cell_type": "markdown",
   "metadata": {},
   "source": [
    "### Создания описательной статистики"
   ]
  },
  {
   "cell_type": "code",
   "execution_count": 21,
   "metadata": {},
   "outputs": [
    {
     "data": {
      "text/html": [
       "<div>\n",
       "<style scoped>\n",
       "    .dataframe tbody tr th:only-of-type {\n",
       "        vertical-align: middle;\n",
       "    }\n",
       "\n",
       "    .dataframe tbody tr th {\n",
       "        vertical-align: top;\n",
       "    }\n",
       "\n",
       "    .dataframe thead th {\n",
       "        text-align: right;\n",
       "    }\n",
       "</style>\n",
       "<table border=\"1\" class=\"dataframe\">\n",
       "  <thead>\n",
       "    <tr style=\"text-align: right;\">\n",
       "      <th></th>\n",
       "      <th>user_id</th>\n",
       "      <th>score</th>\n",
       "      <th>age</th>\n",
       "      <th>equity</th>\n",
       "      <th>balance</th>\n",
       "      <th>products</th>\n",
       "      <th>credit_card</th>\n",
       "      <th>last_activity</th>\n",
       "      <th>est_salary</th>\n",
       "      <th>churn</th>\n",
       "    </tr>\n",
       "  </thead>\n",
       "  <tbody>\n",
       "    <tr>\n",
       "      <th>count</th>\n",
       "      <td>9430.000000</td>\n",
       "      <td>9430.000000</td>\n",
       "      <td>9430.000000</td>\n",
       "      <td>9430.000000</td>\n",
       "      <td>7.466000e+03</td>\n",
       "      <td>9430.000000</td>\n",
       "      <td>9430.000000</td>\n",
       "      <td>9430.000000</td>\n",
       "      <td>9430.000000</td>\n",
       "      <td>9430.000000</td>\n",
       "    </tr>\n",
       "    <tr>\n",
       "      <th>mean</th>\n",
       "      <td>171761.946129</td>\n",
       "      <td>847.129586</td>\n",
       "      <td>42.851644</td>\n",
       "      <td>2.686320</td>\n",
       "      <td>7.416156e+05</td>\n",
       "      <td>1.888229</td>\n",
       "      <td>0.676988</td>\n",
       "      <td>0.521103</td>\n",
       "      <td>123660.663191</td>\n",
       "      <td>0.184730</td>\n",
       "    </tr>\n",
       "    <tr>\n",
       "      <th>std</th>\n",
       "      <td>33716.629536</td>\n",
       "      <td>63.562512</td>\n",
       "      <td>12.151968</td>\n",
       "      <td>1.956905</td>\n",
       "      <td>1.790202e+06</td>\n",
       "      <td>0.795055</td>\n",
       "      <td>0.467652</td>\n",
       "      <td>0.499581</td>\n",
       "      <td>64972.788166</td>\n",
       "      <td>0.388099</td>\n",
       "    </tr>\n",
       "    <tr>\n",
       "      <th>min</th>\n",
       "      <td>94561.000000</td>\n",
       "      <td>642.000000</td>\n",
       "      <td>18.000000</td>\n",
       "      <td>0.000000</td>\n",
       "      <td>0.000000e+00</td>\n",
       "      <td>0.000000</td>\n",
       "      <td>0.000000</td>\n",
       "      <td>0.000000</td>\n",
       "      <td>10010.350000</td>\n",
       "      <td>0.000000</td>\n",
       "    </tr>\n",
       "    <tr>\n",
       "      <th>25%</th>\n",
       "      <td>142579.750000</td>\n",
       "      <td>802.000000</td>\n",
       "      <td>34.000000</td>\n",
       "      <td>1.000000</td>\n",
       "      <td>2.926960e+05</td>\n",
       "      <td>1.000000</td>\n",
       "      <td>0.000000</td>\n",
       "      <td>0.000000</td>\n",
       "      <td>73481.890000</td>\n",
       "      <td>0.000000</td>\n",
       "    </tr>\n",
       "    <tr>\n",
       "      <th>50%</th>\n",
       "      <td>172773.000000</td>\n",
       "      <td>851.000000</td>\n",
       "      <td>40.000000</td>\n",
       "      <td>3.000000</td>\n",
       "      <td>5.136392e+05</td>\n",
       "      <td>2.000000</td>\n",
       "      <td>1.000000</td>\n",
       "      <td>1.000000</td>\n",
       "      <td>115611.370000</td>\n",
       "      <td>0.000000</td>\n",
       "    </tr>\n",
       "    <tr>\n",
       "      <th>75%</th>\n",
       "      <td>201184.250000</td>\n",
       "      <td>897.000000</td>\n",
       "      <td>51.000000</td>\n",
       "      <td>4.000000</td>\n",
       "      <td>9.434506e+05</td>\n",
       "      <td>2.000000</td>\n",
       "      <td>1.000000</td>\n",
       "      <td>1.000000</td>\n",
       "      <td>165151.142500</td>\n",
       "      <td>0.000000</td>\n",
       "    </tr>\n",
       "    <tr>\n",
       "      <th>max</th>\n",
       "      <td>229145.000000</td>\n",
       "      <td>999.000000</td>\n",
       "      <td>86.000000</td>\n",
       "      <td>9.000000</td>\n",
       "      <td>1.191136e+08</td>\n",
       "      <td>5.000000</td>\n",
       "      <td>1.000000</td>\n",
       "      <td>1.000000</td>\n",
       "      <td>323502.280000</td>\n",
       "      <td>1.000000</td>\n",
       "    </tr>\n",
       "  </tbody>\n",
       "</table>\n",
       "</div>"
      ],
      "text/plain": [
       "             user_id        score          age       equity       balance  \\\n",
       "count    9430.000000  9430.000000  9430.000000  9430.000000  7.466000e+03   \n",
       "mean   171761.946129   847.129586    42.851644     2.686320  7.416156e+05   \n",
       "std     33716.629536    63.562512    12.151968     1.956905  1.790202e+06   \n",
       "min     94561.000000   642.000000    18.000000     0.000000  0.000000e+00   \n",
       "25%    142579.750000   802.000000    34.000000     1.000000  2.926960e+05   \n",
       "50%    172773.000000   851.000000    40.000000     3.000000  5.136392e+05   \n",
       "75%    201184.250000   897.000000    51.000000     4.000000  9.434506e+05   \n",
       "max    229145.000000   999.000000    86.000000     9.000000  1.191136e+08   \n",
       "\n",
       "          products  credit_card  last_activity     est_salary        churn  \n",
       "count  9430.000000  9430.000000    9430.000000    9430.000000  9430.000000  \n",
       "mean      1.888229     0.676988       0.521103  123660.663191     0.184730  \n",
       "std       0.795055     0.467652       0.499581   64972.788166     0.388099  \n",
       "min       0.000000     0.000000       0.000000   10010.350000     0.000000  \n",
       "25%       1.000000     0.000000       0.000000   73481.890000     0.000000  \n",
       "50%       2.000000     1.000000       1.000000  115611.370000     0.000000  \n",
       "75%       2.000000     1.000000       1.000000  165151.142500     0.000000  \n",
       "max       5.000000     1.000000       1.000000  323502.280000     1.000000  "
      ]
     },
     "execution_count": 21,
     "metadata": {},
     "output_type": "execute_result"
    }
   ],
   "source": [
    "df_1.describe()"
   ]
  },
  {
   "cell_type": "markdown",
   "metadata": {},
   "source": [
    "- Минимальное значение столбца score - 642, а максимальное - 1000, медиана - 853.\n",
    "- Медианный возраст наших клиентов 40 лет.\n",
    "- В столбце с данными о балансе клиентов видим большую разницу между медианой и средним значением, что может говорить о выбросах в данных.\n",
    "- Медиана зарплаты - почти 120 т.р. , а среднее значение этого столбца - 147 т.р. Рассмотрим выбросы в этих данных в последующем анализе."
   ]
  },
  {
   "cell_type": "code",
   "execution_count": 22,
   "metadata": {},
   "outputs": [],
   "source": [
    "def plt(i,l): #Создаем функцию для автоматизирования постоения боксплотов.\n",
    "    plot = df_1.boxplot(i, by='churn',figsize=(10,10)).set_ylim(0,l);\n",
    "    return plot "
   ]
  },
  {
   "cell_type": "code",
   "execution_count": 23,
   "metadata": {},
   "outputs": [
    {
     "data": {
      "image/png": "[encoded data removed]",
      "text/plain": [
       "<Figure size 720x720 with 1 Axes>"
      ]
     },
     "metadata": {
      "needs_background": "light"
     },
     "output_type": "display_data"
    }
   ],
   "source": [
    "plt('balance', 2800000);"
   ]
  },
  {
   "cell_type": "markdown",
   "metadata": {},
   "source": [
    "- Баланс у отточных клиентов значительно выше. \n",
    "- Медианное значение у не оточных клиентов почти 500 т.р., в то время как у отточных данный показатель составляет 750 т.р."
   ]
  },
  {
   "cell_type": "code",
   "execution_count": 24,
   "metadata": {},
   "outputs": [
    {
     "data": {
      "image/png": "[encoded data removed]",
      "text/plain": [
       "<Figure size 720x720 with 1 Axes>"
      ]
     },
     "metadata": {
      "needs_background": "light"
     },
     "output_type": "display_data"
    }
   ],
   "source": [
    "plt('est_salary', 400000);"
   ]
  },
  {
   "cell_type": "markdown",
   "metadata": {},
   "source": [
    "- Заработная плата у отточных клиентов незначительно выше, чем у оставшихся в нашем банке."
   ]
  },
  {
   "cell_type": "markdown",
   "metadata": {},
   "source": [
    "### Изучим корреляцию между признаками"
   ]
  },
  {
   "cell_type": "code",
   "execution_count": 25,
   "metadata": {},
   "outputs": [],
   "source": [
    "df_1['gender_1'] = df_1['gender'] #Cоздаю копии столбцов, которые буду кодировать в дальнейшем\n",
    "df_1['city_1'] = df_1['city']"
   ]
  },
  {
   "cell_type": "code",
   "execution_count": 26,
   "metadata": {},
   "outputs": [
    {
     "data": {
      "text/html": [
       "<style  type=\"text/css\" >\n",
       "#T_91abd_row0_col0,#T_91abd_row1_col1,#T_91abd_row2_col2,#T_91abd_row3_col3,#T_91abd_row4_col4,#T_91abd_row5_col5,#T_91abd_row6_col6,#T_91abd_row7_col7,#T_91abd_row8_col8,#T_91abd_row9_col9,#T_91abd_row10_col10,#T_91abd_row11_col11,#T_91abd_row12_col12,#T_91abd_row13_col13,#T_91abd_row14_col14{\n",
       "            background-color:  #b40426;\n",
       "            color:  #f1f1f1;\n",
       "        }#T_91abd_row0_col1,#T_91abd_row5_col7,#T_91abd_row13_col1{\n",
       "            background-color:  #5572df;\n",
       "            color:  #000000;\n",
       "        }#T_91abd_row0_col2{\n",
       "            background-color:  #7b9ff9;\n",
       "            color:  #000000;\n",
       "        }#T_91abd_row0_col3,#T_91abd_row0_col8{\n",
       "            background-color:  #6a8bef;\n",
       "            color:  #000000;\n",
       "        }#T_91abd_row0_col4,#T_91abd_row2_col7,#T_91abd_row5_col8,#T_91abd_row6_col0{\n",
       "            background-color:  #465ecf;\n",
       "            color:  #f1f1f1;\n",
       "        }#T_91abd_row0_col5,#T_91abd_row1_col5,#T_91abd_row12_col5{\n",
       "            background-color:  #799cf8;\n",
       "            color:  #000000;\n",
       "        }#T_91abd_row0_col6,#T_91abd_row1_col4,#T_91abd_row3_col2,#T_91abd_row5_col2,#T_91abd_row9_col7,#T_91abd_row13_col2{\n",
       "            background-color:  #7ea1fa;\n",
       "            color:  #000000;\n",
       "        }#T_91abd_row0_col7,#T_91abd_row1_col7,#T_91abd_row9_col0{\n",
       "            background-color:  #3f53c6;\n",
       "            color:  #f1f1f1;\n",
       "        }#T_91abd_row0_col9{\n",
       "            background-color:  #5d7ce6;\n",
       "            color:  #000000;\n",
       "        }#T_91abd_row0_col10,#T_91abd_row6_col14{\n",
       "            background-color:  #d9dce1;\n",
       "            color:  #000000;\n",
       "        }#T_91abd_row0_col11{\n",
       "            background-color:  #e0dbd8;\n",
       "            color:  #000000;\n",
       "        }#T_91abd_row0_col12,#T_91abd_row1_col12,#T_91abd_row11_col6{\n",
       "            background-color:  #a1c0ff;\n",
       "            color:  #000000;\n",
       "        }#T_91abd_row0_col13,#T_91abd_row0_col14,#T_91abd_row10_col13{\n",
       "            background-color:  #c7d7f0;\n",
       "            color:  #000000;\n",
       "        }#T_91abd_row1_col0,#T_91abd_row3_col0,#T_91abd_row8_col0{\n",
       "            background-color:  #455cce;\n",
       "            color:  #f1f1f1;\n",
       "        }#T_91abd_row1_col2,#T_91abd_row2_col3,#T_91abd_row7_col2,#T_91abd_row7_col6,#T_91abd_row9_col1{\n",
       "            background-color:  #7295f4;\n",
       "            color:  #000000;\n",
       "        }#T_91abd_row1_col3,#T_91abd_row3_col4{\n",
       "            background-color:  #7a9df8;\n",
       "            color:  #000000;\n",
       "        }#T_91abd_row1_col6,#T_91abd_row2_col4,#T_91abd_row3_col1{\n",
       "            background-color:  #6485ec;\n",
       "            color:  #000000;\n",
       "        }#T_91abd_row1_col8{\n",
       "            background-color:  #9fbfff;\n",
       "            color:  #000000;\n",
       "        }#T_91abd_row1_col9{\n",
       "            background-color:  #80a3fa;\n",
       "            color:  #000000;\n",
       "        }#T_91abd_row1_col10,#T_91abd_row5_col3{\n",
       "            background-color:  #dcdddd;\n",
       "            color:  #000000;\n",
       "        }#T_91abd_row1_col11{\n",
       "            background-color:  #dddcdc;\n",
       "            color:  #000000;\n",
       "        }#T_91abd_row1_col13{\n",
       "            background-color:  #c6d6f1;\n",
       "            color:  #000000;\n",
       "        }#T_91abd_row1_col14,#T_91abd_row9_col10,#T_91abd_row11_col14{\n",
       "            background-color:  #c9d7f0;\n",
       "            color:  #000000;\n",
       "        }#T_91abd_row2_col0,#T_91abd_row12_col7{\n",
       "            background-color:  #4b64d5;\n",
       "            color:  #f1f1f1;\n",
       "        }#T_91abd_row2_col1,#T_91abd_row6_col2{\n",
       "            background-color:  #506bda;\n",
       "            color:  #000000;\n",
       "        }#T_91abd_row2_col5{\n",
       "            background-color:  #86a9fc;\n",
       "            color:  #000000;\n",
       "        }#T_91abd_row2_col6,#T_91abd_row13_col7,#T_91abd_row13_col9,#T_91abd_row14_col1{\n",
       "            background-color:  #5875e1;\n",
       "            color:  #000000;\n",
       "        }#T_91abd_row2_col8,#T_91abd_row11_col1,#T_91abd_row11_col4,#T_91abd_row14_col4{\n",
       "            background-color:  #5470de;\n",
       "            color:  #000000;\n",
       "        }#T_91abd_row2_col9{\n",
       "            background-color:  #516ddb;\n",
       "            color:  #000000;\n",
       "        }#T_91abd_row2_col10{\n",
       "            background-color:  #f3c8b2;\n",
       "            color:  #000000;\n",
       "        }#T_91abd_row2_col11,#T_91abd_row6_col13,#T_91abd_row7_col14{\n",
       "            background-color:  #bcd2f7;\n",
       "            color:  #000000;\n",
       "        }#T_91abd_row2_col12{\n",
       "            background-color:  #b3cdfb;\n",
       "            color:  #000000;\n",
       "        }#T_91abd_row2_col13,#T_91abd_row6_col10,#T_91abd_row9_col5{\n",
       "            background-color:  #cbd8ee;\n",
       "            color:  #000000;\n",
       "        }#T_91abd_row2_col14{\n",
       "            background-color:  #bad0f8;\n",
       "            color:  #000000;\n",
       "        }#T_91abd_row3_col5{\n",
       "            background-color:  #e5d8d1;\n",
       "            color:  #000000;\n",
       "        }#T_91abd_row3_col6,#T_91abd_row10_col1{\n",
       "            background-color:  #536edd;\n",
       "            color:  #000000;\n",
       "        }#T_91abd_row3_col7,#T_91abd_row13_col0,#T_91abd_row14_col0{\n",
       "            background-color:  #485fd1;\n",
       "            color:  #f1f1f1;\n",
       "        }#T_91abd_row3_col8,#T_91abd_row5_col6,#T_91abd_row6_col1,#T_91abd_row6_col4,#T_91abd_row6_col5,#T_91abd_row7_col0,#T_91abd_row8_col3,#T_91abd_row10_col0,#T_91abd_row10_col9,#T_91abd_row10_col11,#T_91abd_row11_col2,#T_91abd_row11_col10,#T_91abd_row12_col0,#T_91abd_row13_col14,#T_91abd_row14_col7,#T_91abd_row14_col12,#T_91abd_row14_col13{\n",
       "            background-color:  #3b4cc0;\n",
       "            color:  #f1f1f1;\n",
       "        }#T_91abd_row3_col9,#T_91abd_row3_col12{\n",
       "            background-color:  #afcafc;\n",
       "            color:  #000000;\n",
       "        }#T_91abd_row3_col10,#T_91abd_row5_col10{\n",
       "            background-color:  #dfdbd9;\n",
       "            color:  #000000;\n",
       "        }#T_91abd_row3_col11,#T_91abd_row5_col11{\n",
       "            background-color:  #dadce0;\n",
       "            color:  #000000;\n",
       "        }#T_91abd_row3_col13{\n",
       "            background-color:  #c5d6f2;\n",
       "            color:  #000000;\n",
       "        }#T_91abd_row3_col14,#T_91abd_row10_col14{\n",
       "            background-color:  #c3d5f4;\n",
       "            color:  #000000;\n",
       "        }#T_91abd_row4_col0,#T_91abd_row8_col7,#T_91abd_row12_col4{\n",
       "            background-color:  #4257c9;\n",
       "            color:  #f1f1f1;\n",
       "        }#T_91abd_row4_col1,#T_91abd_row7_col5{\n",
       "            background-color:  #88abfd;\n",
       "            color:  #000000;\n",
       "        }#T_91abd_row4_col2{\n",
       "            background-color:  #8fb1fe;\n",
       "            color:  #000000;\n",
       "        }#T_91abd_row4_col3{\n",
       "            background-color:  #97b8ff;\n",
       "            color:  #000000;\n",
       "        }#T_91abd_row4_col5,#T_91abd_row4_col8,#T_91abd_row6_col12,#T_91abd_row8_col12{\n",
       "            background-color:  #92b4fe;\n",
       "            color:  #000000;\n",
       "        }#T_91abd_row4_col6,#T_91abd_row10_col3,#T_91abd_row13_col6,#T_91abd_row13_col12{\n",
       "            background-color:  #6e90f2;\n",
       "            color:  #000000;\n",
       "        }#T_91abd_row4_col7,#T_91abd_row7_col4,#T_91abd_row10_col7{\n",
       "            background-color:  #4e68d8;\n",
       "            color:  #000000;\n",
       "        }#T_91abd_row4_col9{\n",
       "            background-color:  #779af7;\n",
       "            color:  #000000;\n",
       "        }#T_91abd_row4_col10,#T_91abd_row8_col14{\n",
       "            background-color:  #d8dce2;\n",
       "            color:  #000000;\n",
       "        }#T_91abd_row4_col11{\n",
       "            background-color:  #e1dad6;\n",
       "            color:  #000000;\n",
       "        }#T_91abd_row4_col12{\n",
       "            background-color:  #a3c2fe;\n",
       "            color:  #000000;\n",
       "        }#T_91abd_row4_col13{\n",
       "            background-color:  #c1d4f4;\n",
       "            color:  #000000;\n",
       "        }#T_91abd_row4_col14{\n",
       "            background-color:  #ccd9ed;\n",
       "            color:  #000000;\n",
       "        }#T_91abd_row5_col0{\n",
       "            background-color:  #4055c8;\n",
       "            color:  #f1f1f1;\n",
       "        }#T_91abd_row5_col1{\n",
       "            background-color:  #4f69d9;\n",
       "            color:  #000000;\n",
       "        }#T_91abd_row5_col4{\n",
       "            background-color:  #5f7fe8;\n",
       "            color:  #000000;\n",
       "        }#T_91abd_row5_col9{\n",
       "            background-color:  #b9d0f9;\n",
       "            color:  #000000;\n",
       "        }#T_91abd_row5_col12,#T_91abd_row11_col12{\n",
       "            background-color:  #a6c4fe;\n",
       "            color:  #000000;\n",
       "        }#T_91abd_row5_col13,#T_91abd_row8_col13{\n",
       "            background-color:  #bed2f6;\n",
       "            color:  #000000;\n",
       "        }#T_91abd_row5_col14,#T_91abd_row7_col13{\n",
       "            background-color:  #cedaeb;\n",
       "            color:  #000000;\n",
       "        }#T_91abd_row6_col3,#T_91abd_row6_col7,#T_91abd_row10_col4{\n",
       "            background-color:  #3e51c5;\n",
       "            color:  #f1f1f1;\n",
       "        }#T_91abd_row6_col8{\n",
       "            background-color:  #6c8ff1;\n",
       "            color:  #000000;\n",
       "        }#T_91abd_row6_col9{\n",
       "            background-color:  #3d50c3;\n",
       "            color:  #f1f1f1;\n",
       "        }#T_91abd_row6_col11{\n",
       "            background-color:  #ecd3c5;\n",
       "            color:  #000000;\n",
       "        }#T_91abd_row7_col1{\n",
       "            background-color:  #4a63d3;\n",
       "            color:  #f1f1f1;\n",
       "        }#T_91abd_row7_col3,#T_91abd_row13_col3{\n",
       "            background-color:  #6788ee;\n",
       "            color:  #000000;\n",
       "        }#T_91abd_row7_col8,#T_91abd_row12_col6,#T_91abd_row12_col9{\n",
       "            background-color:  #6282ea;\n",
       "            color:  #000000;\n",
       "        }#T_91abd_row7_col9,#T_91abd_row12_col13{\n",
       "            background-color:  #94b6ff;\n",
       "            color:  #000000;\n",
       "        }#T_91abd_row7_col10,#T_91abd_row12_col10,#T_91abd_row13_col10,#T_91abd_row14_col11{\n",
       "            background-color:  #dedcdb;\n",
       "            color:  #000000;\n",
       "        }#T_91abd_row7_col11,#T_91abd_row12_col11,#T_91abd_row13_col11,#T_91abd_row14_col10{\n",
       "            background-color:  #dbdcde;\n",
       "            color:  #000000;\n",
       "        }#T_91abd_row7_col12,#T_91abd_row10_col12{\n",
       "            background-color:  #abc8fd;\n",
       "            color:  #000000;\n",
       "        }#T_91abd_row8_col1{\n",
       "            background-color:  #8db0fe;\n",
       "            color:  #000000;\n",
       "        }#T_91abd_row8_col2,#T_91abd_row9_col4{\n",
       "            background-color:  #6180e9;\n",
       "            color:  #000000;\n",
       "        }#T_91abd_row8_col4,#T_91abd_row9_col8{\n",
       "            background-color:  #7396f5;\n",
       "            color:  #000000;\n",
       "        }#T_91abd_row8_col5{\n",
       "            background-color:  #5a78e4;\n",
       "            color:  #000000;\n",
       "        }#T_91abd_row8_col6{\n",
       "            background-color:  #81a4fb;\n",
       "            color:  #000000;\n",
       "        }#T_91abd_row8_col9{\n",
       "            background-color:  #6b8df0;\n",
       "            color:  #000000;\n",
       "        }#T_91abd_row8_col10{\n",
       "            background-color:  #cdd9ec;\n",
       "            color:  #000000;\n",
       "        }#T_91abd_row8_col11{\n",
       "            background-color:  #ead4c8;\n",
       "            color:  #000000;\n",
       "        }#T_91abd_row9_col2{\n",
       "            background-color:  #6687ed;\n",
       "            color:  #000000;\n",
       "        }#T_91abd_row9_col3,#T_91abd_row10_col2{\n",
       "            background-color:  #b5cdfa;\n",
       "            color:  #000000;\n",
       "        }#T_91abd_row9_col6,#T_91abd_row10_col6{\n",
       "            background-color:  #5977e3;\n",
       "            color:  #000000;\n",
       "        }#T_91abd_row9_col11{\n",
       "            background-color:  #edd1c2;\n",
       "            color:  #000000;\n",
       "        }#T_91abd_row9_col12{\n",
       "            background-color:  #aac7fd;\n",
       "            color:  #000000;\n",
       "        }#T_91abd_row9_col13{\n",
       "            background-color:  #c0d4f5;\n",
       "            color:  #000000;\n",
       "        }#T_91abd_row9_col14{\n",
       "            background-color:  #cad8ef;\n",
       "            color:  #000000;\n",
       "        }#T_91abd_row10_col5,#T_91abd_row12_col2{\n",
       "            background-color:  #82a6fb;\n",
       "            color:  #000000;\n",
       "        }#T_91abd_row10_col8,#T_91abd_row12_col1{\n",
       "            background-color:  #4961d2;\n",
       "            color:  #f1f1f1;\n",
       "        }#T_91abd_row11_col0,#T_91abd_row12_col8{\n",
       "            background-color:  #4c66d6;\n",
       "            color:  #000000;\n",
       "        }#T_91abd_row11_col3,#T_91abd_row12_col14,#T_91abd_row14_col2,#T_91abd_row14_col3{\n",
       "            background-color:  #6384eb;\n",
       "            color:  #000000;\n",
       "        }#T_91abd_row11_col5{\n",
       "            background-color:  #7699f6;\n",
       "            color:  #000000;\n",
       "        }#T_91abd_row11_col7{\n",
       "            background-color:  #445acc;\n",
       "            color:  #f1f1f1;\n",
       "        }#T_91abd_row11_col8,#T_91abd_row14_col5,#T_91abd_row14_col8{\n",
       "            background-color:  #8badfd;\n",
       "            color:  #000000;\n",
       "        }#T_91abd_row11_col9{\n",
       "            background-color:  #8caffe;\n",
       "            color:  #000000;\n",
       "        }#T_91abd_row11_col13{\n",
       "            background-color:  #c4d5f3;\n",
       "            color:  #000000;\n",
       "        }#T_91abd_row12_col3,#T_91abd_row13_col5{\n",
       "            background-color:  #7093f3;\n",
       "            color:  #000000;\n",
       "        }#T_91abd_row13_col4{\n",
       "            background-color:  #4358cb;\n",
       "            color:  #f1f1f1;\n",
       "        }#T_91abd_row13_col8{\n",
       "            background-color:  #5b7ae5;\n",
       "            color:  #000000;\n",
       "        }#T_91abd_row14_col6{\n",
       "            background-color:  #9dbdff;\n",
       "            color:  #000000;\n",
       "        }#T_91abd_row14_col9{\n",
       "            background-color:  #688aef;\n",
       "            color:  #000000;\n",
       "        }</style><table id=\"T_91abd_\" ><thead>    <tr>        <th class=\"blank level0\" ></th>        <th class=\"col_heading level0 col0\" >user_id</th>        <th class=\"col_heading level0 col1\" >score</th>        <th class=\"col_heading level0 col2\" >age</th>        <th class=\"col_heading level0 col3\" >equity</th>        <th class=\"col_heading level0 col4\" >balance</th>        <th class=\"col_heading level0 col5\" >products</th>        <th class=\"col_heading level0 col6\" >credit_card</th>        <th class=\"col_heading level0 col7\" >last_activity</th>        <th class=\"col_heading level0 col8\" >est_salary</th>        <th class=\"col_heading level0 col9\" >churn</th>        <th class=\"col_heading level0 col10\" >gender_1_Ж</th>        <th class=\"col_heading level0 col11\" >gender_1_М</th>        <th class=\"col_heading level0 col12\" >city_1_Ростов</th>        <th class=\"col_heading level0 col13\" >city_1_Рыбинск</th>        <th class=\"col_heading level0 col14\" >city_1_Ярославль</th>    </tr></thead><tbody>\n",
       "                <tr>\n",
       "                        <th id=\"T_91abd_level0_row0\" class=\"row_heading level0 row0\" >user_id</th>\n",
       "                        <td id=\"T_91abd_row0_col0\" class=\"data row0 col0\" >1.000000</td>\n",
       "                        <td id=\"T_91abd_row0_col1\" class=\"data row0 col1\" >0.005881</td>\n",
       "                        <td id=\"T_91abd_row0_col2\" class=\"data row0 col2\" >0.023299</td>\n",
       "                        <td id=\"T_91abd_row0_col3\" class=\"data row0 col3\" >0.003321</td>\n",
       "                        <td id=\"T_91abd_row0_col4\" class=\"data row0 col4\" >-0.007977</td>\n",
       "                        <td id=\"T_91abd_row0_col5\" class=\"data row0 col5\" >-0.010717</td>\n",
       "                        <td id=\"T_91abd_row0_col6\" class=\"data row0 col6\" >0.006925</td>\n",
       "                        <td id=\"T_91abd_row0_col7\" class=\"data row0 col7\" >-0.032671</td>\n",
       "                        <td id=\"T_91abd_row0_col8\" class=\"data row0 col8\" >0.005939</td>\n",
       "                        <td id=\"T_91abd_row0_col9\" class=\"data row0 col9\" >-0.015067</td>\n",
       "                        <td id=\"T_91abd_row0_col10\" class=\"data row0 col10\" >-0.029863</td>\n",
       "                        <td id=\"T_91abd_row0_col11\" class=\"data row0 col11\" >0.029863</td>\n",
       "                        <td id=\"T_91abd_row0_col12\" class=\"data row0 col12\" >-0.033454</td>\n",
       "                        <td id=\"T_91abd_row0_col13\" class=\"data row0 col13\" >0.011740</td>\n",
       "                        <td id=\"T_91abd_row0_col14\" class=\"data row0 col14\" >0.013532</td>\n",
       "            </tr>\n",
       "            <tr>\n",
       "                        <th id=\"T_91abd_level0_row1\" class=\"row_heading level0 row1\" >score</th>\n",
       "                        <td id=\"T_91abd_row1_col0\" class=\"data row1 col0\" >0.005881</td>\n",
       "                        <td id=\"T_91abd_row1_col1\" class=\"data row1 col1\" >1.000000</td>\n",
       "                        <td id=\"T_91abd_row1_col2\" class=\"data row1 col2\" >-0.010029</td>\n",
       "                        <td id=\"T_91abd_row1_col3\" class=\"data row1 col3\" >0.058443</td>\n",
       "                        <td id=\"T_91abd_row1_col4\" class=\"data row1 col4\" >0.168402</td>\n",
       "                        <td id=\"T_91abd_row1_col5\" class=\"data row1 col5\" >-0.011487</td>\n",
       "                        <td id=\"T_91abd_row1_col6\" class=\"data row1 col6\" >-0.087899</td>\n",
       "                        <td id=\"T_91abd_row1_col7\" class=\"data row1 col7\" >-0.032236</td>\n",
       "                        <td id=\"T_91abd_row1_col8\" class=\"data row1 col8\" >0.184946</td>\n",
       "                        <td id=\"T_91abd_row1_col9\" class=\"data row1 col9\" >0.102581</td>\n",
       "                        <td id=\"T_91abd_row1_col10\" class=\"data row1 col10\" >-0.002586</td>\n",
       "                        <td id=\"T_91abd_row1_col11\" class=\"data row1 col11\" >0.002586</td>\n",
       "                        <td id=\"T_91abd_row1_col12\" class=\"data row1 col12\" >-0.032791</td>\n",
       "                        <td id=\"T_91abd_row1_col13\" class=\"data row1 col13\" >0.006526</td>\n",
       "                        <td id=\"T_91abd_row1_col14\" class=\"data row1 col14\" >0.017744</td>\n",
       "            </tr>\n",
       "            <tr>\n",
       "                        <th id=\"T_91abd_level0_row2\" class=\"row_heading level0 row2\" >age</th>\n",
       "                        <td id=\"T_91abd_row2_col0\" class=\"data row2 col0\" >0.023299</td>\n",
       "                        <td id=\"T_91abd_row2_col1\" class=\"data row2 col1\" >-0.010029</td>\n",
       "                        <td id=\"T_91abd_row2_col2\" class=\"data row2 col2\" >1.000000</td>\n",
       "                        <td id=\"T_91abd_row2_col3\" class=\"data row2 col3\" >0.034118</td>\n",
       "                        <td id=\"T_91abd_row2_col4\" class=\"data row2 col4\" >0.090696</td>\n",
       "                        <td id=\"T_91abd_row2_col5\" class=\"data row2 col5\" >0.034234</td>\n",
       "                        <td id=\"T_91abd_row2_col6\" class=\"data row2 col6\" >-0.134255</td>\n",
       "                        <td id=\"T_91abd_row2_col7\" class=\"data row2 col7\" >-0.008595</td>\n",
       "                        <td id=\"T_91abd_row2_col8\" class=\"data row2 col8\" >-0.074357</td>\n",
       "                        <td id=\"T_91abd_row2_col9\" class=\"data row2 col9\" >-0.055018</td>\n",
       "                        <td id=\"T_91abd_row2_col10\" class=\"data row2 col10\" >0.223665</td>\n",
       "                        <td id=\"T_91abd_row2_col11\" class=\"data row2 col11\" >-0.223665</td>\n",
       "                        <td id=\"T_91abd_row2_col12\" class=\"data row2 col12\" >0.046383</td>\n",
       "                        <td id=\"T_91abd_row2_col13\" class=\"data row2 col13\" >0.031181</td>\n",
       "                        <td id=\"T_91abd_row2_col14\" class=\"data row2 col14\" >-0.061441</td>\n",
       "            </tr>\n",
       "            <tr>\n",
       "                        <th id=\"T_91abd_level0_row3\" class=\"row_heading level0 row3\" >equity</th>\n",
       "                        <td id=\"T_91abd_row3_col0\" class=\"data row3 col0\" >0.003321</td>\n",
       "                        <td id=\"T_91abd_row3_col1\" class=\"data row3 col1\" >0.058443</td>\n",
       "                        <td id=\"T_91abd_row3_col2\" class=\"data row3 col2\" >0.034118</td>\n",
       "                        <td id=\"T_91abd_row3_col3\" class=\"data row3 col3\" >1.000000</td>\n",
       "                        <td id=\"T_91abd_row3_col4\" class=\"data row3 col4\" >0.155428</td>\n",
       "                        <td id=\"T_91abd_row3_col5\" class=\"data row3 col5\" >0.413043</td>\n",
       "                        <td id=\"T_91abd_row3_col6\" class=\"data row3 col6\" >-0.157316</td>\n",
       "                        <td id=\"T_91abd_row3_col7\" class=\"data row3 col7\" >-0.003860</td>\n",
       "                        <td id=\"T_91abd_row3_col8\" class=\"data row3 col8\" >-0.171386</td>\n",
       "                        <td id=\"T_91abd_row3_col9\" class=\"data row3 col9\" >0.256866</td>\n",
       "                        <td id=\"T_91abd_row3_col10\" class=\"data row3 col10\" >0.020260</td>\n",
       "                        <td id=\"T_91abd_row3_col11\" class=\"data row3 col11\" >-0.020260</td>\n",
       "                        <td id=\"T_91abd_row3_col12\" class=\"data row3 col12\" >0.027412</td>\n",
       "                        <td id=\"T_91abd_row3_col13\" class=\"data row3 col13\" >-0.003484</td>\n",
       "                        <td id=\"T_91abd_row3_col14\" class=\"data row3 col14\" >-0.016606</td>\n",
       "            </tr>\n",
       "            <tr>\n",
       "                        <th id=\"T_91abd_level0_row4\" class=\"row_heading level0 row4\" >balance</th>\n",
       "                        <td id=\"T_91abd_row4_col0\" class=\"data row4 col0\" >-0.007977</td>\n",
       "                        <td id=\"T_91abd_row4_col1\" class=\"data row4 col1\" >0.168402</td>\n",
       "                        <td id=\"T_91abd_row4_col2\" class=\"data row4 col2\" >0.090696</td>\n",
       "                        <td id=\"T_91abd_row4_col3\" class=\"data row4 col3\" >0.155428</td>\n",
       "                        <td id=\"T_91abd_row4_col4\" class=\"data row4 col4\" >1.000000</td>\n",
       "                        <td id=\"T_91abd_row4_col5\" class=\"data row4 col5\" >0.073214</td>\n",
       "                        <td id=\"T_91abd_row4_col6\" class=\"data row4 col6\" >-0.052741</td>\n",
       "                        <td id=\"T_91abd_row4_col7\" class=\"data row4 col7\" >0.016990</td>\n",
       "                        <td id=\"T_91abd_row4_col8\" class=\"data row4 col8\" >0.135504</td>\n",
       "                        <td id=\"T_91abd_row4_col9\" class=\"data row4 col9\" >0.076480</td>\n",
       "                        <td id=\"T_91abd_row4_col10\" class=\"data row4 col10\" >-0.036603</td>\n",
       "                        <td id=\"T_91abd_row4_col11\" class=\"data row4 col11\" >0.036603</td>\n",
       "                        <td id=\"T_91abd_row4_col12\" class=\"data row4 col12\" >-0.025407</td>\n",
       "                        <td id=\"T_91abd_row4_col13\" class=\"data row4 col13\" >-0.020723</td>\n",
       "                        <td id=\"T_91abd_row4_col14\" class=\"data row4 col14\" >0.037296</td>\n",
       "            </tr>\n",
       "            <tr>\n",
       "                        <th id=\"T_91abd_level0_row5\" class=\"row_heading level0 row5\" >products</th>\n",
       "                        <td id=\"T_91abd_row5_col0\" class=\"data row5 col0\" >-0.010717</td>\n",
       "                        <td id=\"T_91abd_row5_col1\" class=\"data row5 col1\" >-0.011487</td>\n",
       "                        <td id=\"T_91abd_row5_col2\" class=\"data row5 col2\" >0.034234</td>\n",
       "                        <td id=\"T_91abd_row5_col3\" class=\"data row5 col3\" >0.413043</td>\n",
       "                        <td id=\"T_91abd_row5_col4\" class=\"data row5 col4\" >0.073214</td>\n",
       "                        <td id=\"T_91abd_row5_col5\" class=\"data row5 col5\" >1.000000</td>\n",
       "                        <td id=\"T_91abd_row5_col6\" class=\"data row5 col6\" >-0.255707</td>\n",
       "                        <td id=\"T_91abd_row5_col7\" class=\"data row5 col7\" >0.040651</td>\n",
       "                        <td id=\"T_91abd_row5_col8\" class=\"data row5 col8\" >-0.124035</td>\n",
       "                        <td id=\"T_91abd_row5_col9\" class=\"data row5 col9\" >0.289648</td>\n",
       "                        <td id=\"T_91abd_row5_col10\" class=\"data row5 col10\" >0.023009</td>\n",
       "                        <td id=\"T_91abd_row5_col11\" class=\"data row5 col11\" >-0.023009</td>\n",
       "                        <td id=\"T_91abd_row5_col12\" class=\"data row5 col12\" >-0.014307</td>\n",
       "                        <td id=\"T_91abd_row5_col13\" class=\"data row5 col13\" >-0.043183</td>\n",
       "                        <td id=\"T_91abd_row5_col14\" class=\"data row5 col14\" >0.049138</td>\n",
       "            </tr>\n",
       "            <tr>\n",
       "                        <th id=\"T_91abd_level0_row6\" class=\"row_heading level0 row6\" >credit_card</th>\n",
       "                        <td id=\"T_91abd_row6_col0\" class=\"data row6 col0\" >0.006925</td>\n",
       "                        <td id=\"T_91abd_row6_col1\" class=\"data row6 col1\" >-0.087899</td>\n",
       "                        <td id=\"T_91abd_row6_col2\" class=\"data row6 col2\" >-0.134255</td>\n",
       "                        <td id=\"T_91abd_row6_col3\" class=\"data row6 col3\" >-0.157316</td>\n",
       "                        <td id=\"T_91abd_row6_col4\" class=\"data row6 col4\" >-0.052741</td>\n",
       "                        <td id=\"T_91abd_row6_col5\" class=\"data row6 col5\" >-0.255707</td>\n",
       "                        <td id=\"T_91abd_row6_col6\" class=\"data row6 col6\" >1.000000</td>\n",
       "                        <td id=\"T_91abd_row6_col7\" class=\"data row6 col7\" >-0.035735</td>\n",
       "                        <td id=\"T_91abd_row6_col8\" class=\"data row6 col8\" >0.015845</td>\n",
       "                        <td id=\"T_91abd_row6_col9\" class=\"data row6 col9\" >-0.128739</td>\n",
       "                        <td id=\"T_91abd_row6_col10\" class=\"data row6 col10\" >-0.128232</td>\n",
       "                        <td id=\"T_91abd_row6_col11\" class=\"data row6 col11\" >0.128232</td>\n",
       "                        <td id=\"T_91abd_row6_col12\" class=\"data row6 col12\" >-0.097981</td>\n",
       "                        <td id=\"T_91abd_row6_col13\" class=\"data row6 col13\" >-0.051063</td>\n",
       "                        <td id=\"T_91abd_row6_col14\" class=\"data row6 col14\" >0.116477</td>\n",
       "            </tr>\n",
       "            <tr>\n",
       "                        <th id=\"T_91abd_level0_row7\" class=\"row_heading level0 row7\" >last_activity</th>\n",
       "                        <td id=\"T_91abd_row7_col0\" class=\"data row7 col0\" >-0.032671</td>\n",
       "                        <td id=\"T_91abd_row7_col1\" class=\"data row7 col1\" >-0.032236</td>\n",
       "                        <td id=\"T_91abd_row7_col2\" class=\"data row7 col2\" >-0.008595</td>\n",
       "                        <td id=\"T_91abd_row7_col3\" class=\"data row7 col3\" >-0.003860</td>\n",
       "                        <td id=\"T_91abd_row7_col4\" class=\"data row7 col4\" >0.016990</td>\n",
       "                        <td id=\"T_91abd_row7_col5\" class=\"data row7 col5\" >0.040651</td>\n",
       "                        <td id=\"T_91abd_row7_col6\" class=\"data row7 col6\" >-0.035735</td>\n",
       "                        <td id=\"T_91abd_row7_col7\" class=\"data row7 col7\" >1.000000</td>\n",
       "                        <td id=\"T_91abd_row7_col8\" class=\"data row7 col8\" >-0.024497</td>\n",
       "                        <td id=\"T_91abd_row7_col9\" class=\"data row7 col9\" >0.167512</td>\n",
       "                        <td id=\"T_91abd_row7_col10\" class=\"data row7 col10\" >0.015369</td>\n",
       "                        <td id=\"T_91abd_row7_col11\" class=\"data row7 col11\" >-0.015369</td>\n",
       "                        <td id=\"T_91abd_row7_col12\" class=\"data row7 col12\" >0.009005</td>\n",
       "                        <td id=\"T_91abd_row7_col13\" class=\"data row7 col13\" >0.050021</td>\n",
       "                        <td id=\"T_91abd_row7_col14\" class=\"data row7 col14\" >-0.051470</td>\n",
       "            </tr>\n",
       "            <tr>\n",
       "                        <th id=\"T_91abd_level0_row8\" class=\"row_heading level0 row8\" >est_salary</th>\n",
       "                        <td id=\"T_91abd_row8_col0\" class=\"data row8 col0\" >0.005939</td>\n",
       "                        <td id=\"T_91abd_row8_col1\" class=\"data row8 col1\" >0.184946</td>\n",
       "                        <td id=\"T_91abd_row8_col2\" class=\"data row8 col2\" >-0.074357</td>\n",
       "                        <td id=\"T_91abd_row8_col3\" class=\"data row8 col3\" >-0.171386</td>\n",
       "                        <td id=\"T_91abd_row8_col4\" class=\"data row8 col4\" >0.135504</td>\n",
       "                        <td id=\"T_91abd_row8_col5\" class=\"data row8 col5\" >-0.124035</td>\n",
       "                        <td id=\"T_91abd_row8_col6\" class=\"data row8 col6\" >0.015845</td>\n",
       "                        <td id=\"T_91abd_row8_col7\" class=\"data row8 col7\" >-0.024497</td>\n",
       "                        <td id=\"T_91abd_row8_col8\" class=\"data row8 col8\" >1.000000</td>\n",
       "                        <td id=\"T_91abd_row8_col9\" class=\"data row8 col9\" >0.036660</td>\n",
       "                        <td id=\"T_91abd_row8_col10\" class=\"data row8 col10\" >-0.112620</td>\n",
       "                        <td id=\"T_91abd_row8_col11\" class=\"data row8 col11\" >0.112620</td>\n",
       "                        <td id=\"T_91abd_row8_col12\" class=\"data row8 col12\" >-0.101801</td>\n",
       "                        <td id=\"T_91abd_row8_col13\" class=\"data row8 col13\" >-0.043985</td>\n",
       "                        <td id=\"T_91abd_row8_col14\" class=\"data row8 col14\" >0.112863</td>\n",
       "            </tr>\n",
       "            <tr>\n",
       "                        <th id=\"T_91abd_level0_row9\" class=\"row_heading level0 row9\" >churn</th>\n",
       "                        <td id=\"T_91abd_row9_col0\" class=\"data row9 col0\" >-0.015067</td>\n",
       "                        <td id=\"T_91abd_row9_col1\" class=\"data row9 col1\" >0.102581</td>\n",
       "                        <td id=\"T_91abd_row9_col2\" class=\"data row9 col2\" >-0.055018</td>\n",
       "                        <td id=\"T_91abd_row9_col3\" class=\"data row9 col3\" >0.256866</td>\n",
       "                        <td id=\"T_91abd_row9_col4\" class=\"data row9 col4\" >0.076480</td>\n",
       "                        <td id=\"T_91abd_row9_col5\" class=\"data row9 col5\" >0.289648</td>\n",
       "                        <td id=\"T_91abd_row9_col6\" class=\"data row9 col6\" >-0.128739</td>\n",
       "                        <td id=\"T_91abd_row9_col7\" class=\"data row9 col7\" >0.167512</td>\n",
       "                        <td id=\"T_91abd_row9_col8\" class=\"data row9 col8\" >0.036660</td>\n",
       "                        <td id=\"T_91abd_row9_col9\" class=\"data row9 col9\" >1.000000</td>\n",
       "                        <td id=\"T_91abd_row9_col10\" class=\"data row9 col10\" >-0.141562</td>\n",
       "                        <td id=\"T_91abd_row9_col11\" class=\"data row9 col11\" >0.141562</td>\n",
       "                        <td id=\"T_91abd_row9_col12\" class=\"data row9 col12\" >0.003311</td>\n",
       "                        <td id=\"T_91abd_row9_col13\" class=\"data row9 col13\" >-0.030489</td>\n",
       "                        <td id=\"T_91abd_row9_col14\" class=\"data row9 col14\" >0.025036</td>\n",
       "            </tr>\n",
       "            <tr>\n",
       "                        <th id=\"T_91abd_level0_row10\" class=\"row_heading level0 row10\" >gender_1_Ж</th>\n",
       "                        <td id=\"T_91abd_row10_col0\" class=\"data row10 col0\" >-0.029863</td>\n",
       "                        <td id=\"T_91abd_row10_col1\" class=\"data row10 col1\" >-0.002586</td>\n",
       "                        <td id=\"T_91abd_row10_col2\" class=\"data row10 col2\" >0.223665</td>\n",
       "                        <td id=\"T_91abd_row10_col3\" class=\"data row10 col3\" >0.020260</td>\n",
       "                        <td id=\"T_91abd_row10_col4\" class=\"data row10 col4\" >-0.036603</td>\n",
       "                        <td id=\"T_91abd_row10_col5\" class=\"data row10 col5\" >0.023009</td>\n",
       "                        <td id=\"T_91abd_row10_col6\" class=\"data row10 col6\" >-0.128232</td>\n",
       "                        <td id=\"T_91abd_row10_col7\" class=\"data row10 col7\" >0.015369</td>\n",
       "                        <td id=\"T_91abd_row10_col8\" class=\"data row10 col8\" >-0.112620</td>\n",
       "                        <td id=\"T_91abd_row10_col9\" class=\"data row10 col9\" >-0.141562</td>\n",
       "                        <td id=\"T_91abd_row10_col10\" class=\"data row10 col10\" >1.000000</td>\n",
       "                        <td id=\"T_91abd_row10_col11\" class=\"data row10 col11\" >-1.000000</td>\n",
       "                        <td id=\"T_91abd_row10_col12\" class=\"data row10 col12\" >0.011278</td>\n",
       "                        <td id=\"T_91abd_row10_col13\" class=\"data row10 col13\" >0.008027</td>\n",
       "                        <td id=\"T_91abd_row10_col14\" class=\"data row10 col14\" >-0.015340</td>\n",
       "            </tr>\n",
       "            <tr>\n",
       "                        <th id=\"T_91abd_level0_row11\" class=\"row_heading level0 row11\" >gender_1_М</th>\n",
       "                        <td id=\"T_91abd_row11_col0\" class=\"data row11 col0\" >0.029863</td>\n",
       "                        <td id=\"T_91abd_row11_col1\" class=\"data row11 col1\" >0.002586</td>\n",
       "                        <td id=\"T_91abd_row11_col2\" class=\"data row11 col2\" >-0.223665</td>\n",
       "                        <td id=\"T_91abd_row11_col3\" class=\"data row11 col3\" >-0.020260</td>\n",
       "                        <td id=\"T_91abd_row11_col4\" class=\"data row11 col4\" >0.036603</td>\n",
       "                        <td id=\"T_91abd_row11_col5\" class=\"data row11 col5\" >-0.023009</td>\n",
       "                        <td id=\"T_91abd_row11_col6\" class=\"data row11 col6\" >0.128232</td>\n",
       "                        <td id=\"T_91abd_row11_col7\" class=\"data row11 col7\" >-0.015369</td>\n",
       "                        <td id=\"T_91abd_row11_col8\" class=\"data row11 col8\" >0.112620</td>\n",
       "                        <td id=\"T_91abd_row11_col9\" class=\"data row11 col9\" >0.141562</td>\n",
       "                        <td id=\"T_91abd_row11_col10\" class=\"data row11 col10\" >-1.000000</td>\n",
       "                        <td id=\"T_91abd_row11_col11\" class=\"data row11 col11\" >1.000000</td>\n",
       "                        <td id=\"T_91abd_row11_col12\" class=\"data row11 col12\" >-0.011278</td>\n",
       "                        <td id=\"T_91abd_row11_col13\" class=\"data row11 col13\" >-0.008027</td>\n",
       "                        <td id=\"T_91abd_row11_col14\" class=\"data row11 col14\" >0.015340</td>\n",
       "            </tr>\n",
       "            <tr>\n",
       "                        <th id=\"T_91abd_level0_row12\" class=\"row_heading level0 row12\" >city_1_Ростов</th>\n",
       "                        <td id=\"T_91abd_row12_col0\" class=\"data row12 col0\" >-0.033454</td>\n",
       "                        <td id=\"T_91abd_row12_col1\" class=\"data row12 col1\" >-0.032791</td>\n",
       "                        <td id=\"T_91abd_row12_col2\" class=\"data row12 col2\" >0.046383</td>\n",
       "                        <td id=\"T_91abd_row12_col3\" class=\"data row12 col3\" >0.027412</td>\n",
       "                        <td id=\"T_91abd_row12_col4\" class=\"data row12 col4\" >-0.025407</td>\n",
       "                        <td id=\"T_91abd_row12_col5\" class=\"data row12 col5\" >-0.014307</td>\n",
       "                        <td id=\"T_91abd_row12_col6\" class=\"data row12 col6\" >-0.097981</td>\n",
       "                        <td id=\"T_91abd_row12_col7\" class=\"data row12 col7\" >0.009005</td>\n",
       "                        <td id=\"T_91abd_row12_col8\" class=\"data row12 col8\" >-0.101801</td>\n",
       "                        <td id=\"T_91abd_row12_col9\" class=\"data row12 col9\" >0.003311</td>\n",
       "                        <td id=\"T_91abd_row12_col10\" class=\"data row12 col10\" >0.011278</td>\n",
       "                        <td id=\"T_91abd_row12_col11\" class=\"data row12 col11\" >-0.011278</td>\n",
       "                        <td id=\"T_91abd_row12_col12\" class=\"data row12 col12\" >1.000000</td>\n",
       "                        <td id=\"T_91abd_row12_col13\" class=\"data row12 col13\" >-0.252716</td>\n",
       "                        <td id=\"T_91abd_row12_col14\" class=\"data row12 col14\" >-0.492816</td>\n",
       "            </tr>\n",
       "            <tr>\n",
       "                        <th id=\"T_91abd_level0_row13\" class=\"row_heading level0 row13\" >city_1_Рыбинск</th>\n",
       "                        <td id=\"T_91abd_row13_col0\" class=\"data row13 col0\" >0.011740</td>\n",
       "                        <td id=\"T_91abd_row13_col1\" class=\"data row13 col1\" >0.006526</td>\n",
       "                        <td id=\"T_91abd_row13_col2\" class=\"data row13 col2\" >0.031181</td>\n",
       "                        <td id=\"T_91abd_row13_col3\" class=\"data row13 col3\" >-0.003484</td>\n",
       "                        <td id=\"T_91abd_row13_col4\" class=\"data row13 col4\" >-0.020723</td>\n",
       "                        <td id=\"T_91abd_row13_col5\" class=\"data row13 col5\" >-0.043183</td>\n",
       "                        <td id=\"T_91abd_row13_col6\" class=\"data row13 col6\" >-0.051063</td>\n",
       "                        <td id=\"T_91abd_row13_col7\" class=\"data row13 col7\" >0.050021</td>\n",
       "                        <td id=\"T_91abd_row13_col8\" class=\"data row13 col8\" >-0.043985</td>\n",
       "                        <td id=\"T_91abd_row13_col9\" class=\"data row13 col9\" >-0.030489</td>\n",
       "                        <td id=\"T_91abd_row13_col10\" class=\"data row13 col10\" >0.008027</td>\n",
       "                        <td id=\"T_91abd_row13_col11\" class=\"data row13 col11\" >-0.008027</td>\n",
       "                        <td id=\"T_91abd_row13_col12\" class=\"data row13 col12\" >-0.252716</td>\n",
       "                        <td id=\"T_91abd_row13_col13\" class=\"data row13 col13\" >1.000000</td>\n",
       "                        <td id=\"T_91abd_row13_col14\" class=\"data row13 col14\" >-0.717347</td>\n",
       "            </tr>\n",
       "            <tr>\n",
       "                        <th id=\"T_91abd_level0_row14\" class=\"row_heading level0 row14\" >city_1_Ярославль</th>\n",
       "                        <td id=\"T_91abd_row14_col0\" class=\"data row14 col0\" >0.013532</td>\n",
       "                        <td id=\"T_91abd_row14_col1\" class=\"data row14 col1\" >0.017744</td>\n",
       "                        <td id=\"T_91abd_row14_col2\" class=\"data row14 col2\" >-0.061441</td>\n",
       "                        <td id=\"T_91abd_row14_col3\" class=\"data row14 col3\" >-0.016606</td>\n",
       "                        <td id=\"T_91abd_row14_col4\" class=\"data row14 col4\" >0.037296</td>\n",
       "                        <td id=\"T_91abd_row14_col5\" class=\"data row14 col5\" >0.049138</td>\n",
       "                        <td id=\"T_91abd_row14_col6\" class=\"data row14 col6\" >0.116477</td>\n",
       "                        <td id=\"T_91abd_row14_col7\" class=\"data row14 col7\" >-0.051470</td>\n",
       "                        <td id=\"T_91abd_row14_col8\" class=\"data row14 col8\" >0.112863</td>\n",
       "                        <td id=\"T_91abd_row14_col9\" class=\"data row14 col9\" >0.025036</td>\n",
       "                        <td id=\"T_91abd_row14_col10\" class=\"data row14 col10\" >-0.015340</td>\n",
       "                        <td id=\"T_91abd_row14_col11\" class=\"data row14 col11\" >0.015340</td>\n",
       "                        <td id=\"T_91abd_row14_col12\" class=\"data row14 col12\" >-0.492816</td>\n",
       "                        <td id=\"T_91abd_row14_col13\" class=\"data row14 col13\" >-0.717347</td>\n",
       "                        <td id=\"T_91abd_row14_col14\" class=\"data row14 col14\" >1.000000</td>\n",
       "            </tr>\n",
       "    </tbody></table>"
      ],
      "text/plain": [
       "<pandas.io.formats.style.Styler at 0x7f3d8da5b430>"
      ]
     },
     "execution_count": 26,
     "metadata": {},
     "output_type": "execute_result"
    }
   ],
   "source": [
    "df_corr = pd.get_dummies(df_1, columns=['gender_1','city_1'])\n",
    "corr = df_corr.corr()\n",
    "corr.style.background_gradient(cmap='coolwarm')"
   ]
  },
  {
   "cell_type": "markdown",
   "metadata": {},
   "source": [
    "- Исходя из полученной корреляционной матрицы можем сделать вывод о том, что связь между всеми признаками не очень велика. \n",
    "- Наибольшая корреляцию с отточностью из банка имеют - products(0.29), equity (0.26), last_activity(0.16) и gender_1_М (0.14). \n",
    "- Чем больше, тем больше вероятность, что он перестанет быть клиентом банка. Но и эта связь находится между уровнями \"очень слабая\" и \"слабая\"."
   ]
  },
  {
   "cell_type": "markdown",
   "metadata": {},
   "source": [
    "### Составим портрет отточного клиента"
   ]
  },
  {
   "cell_type": "code",
   "execution_count": 27,
   "metadata": {},
   "outputs": [],
   "source": [
    "df_churn_1 = df_1.query('churn == 1') #создаю срез данных по отточным клиентам\n",
    "df_churn_0 = df_1.query('churn == 0') #срез по не отточным клиентам"
   ]
  },
  {
   "cell_type": "code",
   "execution_count": 28,
   "metadata": {},
   "outputs": [
    {
     "data": {
      "image/png": "[encoded data removed]",
      "text/plain": [
       "<Figure size 1296x1440 with 12 Axes>"
      ]
     },
     "metadata": {
      "needs_background": "light"
     },
     "output_type": "display_data"
    }
   ],
   "source": [
    "df_churn_1.hist(figsize=(18, 20));"
   ]
  },
  {
   "cell_type": "markdown",
   "metadata": {},
   "source": [
    "- Из полученных данных можем составить портрет отточного клиента.\n",
    "- Это клиент от 30 до 35 лет с оценкой скоринга в 860 пунктов, приблизительной оценкой собственности - 5, пользуется двумя продуктами банка. Зарплата у этого клиента примерно 130 тыс. руб. и это активный пользователь (как минимум был активен за последний месяц пред цходом)."
   ]
  },
  {
   "cell_type": "markdown",
   "metadata": {},
   "source": [
    "### Добавим категориальные значения столбцу age"
   ]
  },
  {
   "cell_type": "code",
   "execution_count": 29,
   "metadata": {},
   "outputs": [
    {
     "data": {
      "image/png": "[encoded data removed]",
      "text/plain": [
       "<Figure size 864x360 with 1 Axes>"
      ]
     },
     "metadata": {
      "needs_background": "light"
     },
     "output_type": "display_data"
    }
   ],
   "source": [
    "df_churn_1['age'].hist(figsize=(12, 5));"
   ]
  },
  {
   "cell_type": "code",
   "execution_count": 30,
   "metadata": {},
   "outputs": [
    {
     "data": {
      "image/png": "[encoded data removed]",
      "text/plain": [
       "<Figure size 864x360 with 1 Axes>"
      ]
     },
     "metadata": {
      "needs_background": "light"
     },
     "output_type": "display_data"
    }
   ],
   "source": [
    "df_churn_1['age'].hist(figsize=(12, 5), bins = 60); # Добавляю больше корзин для более детального рассмотрения данных"
   ]
  },
  {
   "cell_type": "markdown",
   "metadata": {},
   "source": [
    "- Из гистограммы отчетливо видно, что до 25 лет, отток клиентов невелик.\n",
    "- Второй сегмент от 25 и до 30. Здесь отток составляет почти 300 человек. \n",
    "- Рекордный отток наблюдается в возрастной группе от 30 до 50 лет. \n",
    "- Следующей группой я выделяю возрастную категорию от 50 до 64 лет.\n",
    "- И наконец, самая низкая по показателю отточности позросная группа - 65+"
   ]
  },
  {
   "cell_type": "code",
   "execution_count": 31,
   "metadata": {},
   "outputs": [],
   "source": [
    "def categorize_age(age): #создаем функцию, которая присваевает клиенту категорию в зависимости от его возраста\n",
    "    try:\n",
    "        if 18 <= age <= 24:\n",
    "            return 'Молодежь'\n",
    "        elif 25 <= age <= 30:\n",
    "            return 'Взрослый человек'\n",
    "        elif 31 <= age <= 49:\n",
    "            return 'Лицо «зрелого возраста»'\n",
    "        elif 50 <= age <= 64:\n",
    "            return 'Предпенсионный возраст'\n",
    "        elif age >= 65:\n",
    "            return 'Пенсионер'\n",
    "    except:\n",
    "        pass"
   ]
  },
  {
   "cell_type": "code",
   "execution_count": 32,
   "metadata": {},
   "outputs": [],
   "source": [
    "df_1['age_category'] = df_1['age'].apply(categorize_age) #применяем функцию к стролбцу age и записываем данные в новый столбец"
   ]
  },
  {
   "cell_type": "markdown",
   "metadata": {},
   "source": [
    "### Сравним отточную и оставшуюся группы клиентов в разрезе разных параметров"
   ]
  },
  {
   "cell_type": "code",
   "execution_count": 33,
   "metadata": {},
   "outputs": [],
   "source": [
    "def pivot_df(df1, ind, col, val): #создаем функцию, которая строит сводную таблицу по выбраному признаку в разбивке отточных и не отточных коиентов\n",
    "    try:\n",
    "        data1 = df1.pivot_table(index=ind, columns=col, values=val, aggfunc='count').reset_index()\n",
    "        data1['ratio'] = round((data1[1]/(data1[0]+data1[1])*100),2)\n",
    "        print(data1)\n",
    "        ax = sns.countplot(x =ind , hue = 'churn', data = df1)\n",
    "        plt.title('Распределение отточных и оставшихся клиентов по признаку ' + ind)\n",
    "        plt.xlabel('Значение')\n",
    "        plt.show()\n",
    "    except:\n",
    "        pass"
   ]
  },
  {
   "cell_type": "code",
   "execution_count": 34,
   "metadata": {},
   "outputs": [
    {
     "name": "stdout",
     "output_type": "stream",
     "text": [
      "churn       city     0     1  ratio\n",
      "0         Ростов  1133   262  18.78\n",
      "1        Рыбинск  2117   419  16.52\n",
      "2      Ярославль  4438  1061  19.29\n"
     ]
    },
    {
     "data": {
      "image/png": "[encoded data removed]",
      "text/plain": [
       "<Figure size 432x288 with 1 Axes>"
      ]
     },
     "metadata": {
      "needs_background": "light"
     },
     "output_type": "display_data"
    }
   ],
   "source": [
    "pivot_df(df_1, 'city', 'churn', 'age')"
   ]
  },
  {
   "cell_type": "markdown",
   "metadata": {},
   "source": [
    "- Самый ощутимый отток клиентов у нас в Ярославле."
   ]
  },
  {
   "cell_type": "code",
   "execution_count": 35,
   "metadata": {},
   "outputs": [
    {
     "name": "stdout",
     "output_type": "stream",
     "text": [
      "churn gender     0     1  ratio\n",
      "0          Ж  4134   619  13.02\n",
      "1          М  3554  1123  24.01\n"
     ]
    },
    {
     "data": {
      "image/png": "[encoded data removed]",
      "text/plain": [
       "<Figure size 432x288 with 1 Axes>"
      ]
     },
     "metadata": {
      "needs_background": "light"
     },
     "output_type": "display_data"
    }
   ],
   "source": [
    "pivot_df(df_1, 'gender', 'churn', 'age')"
   ]
  },
  {
   "cell_type": "markdown",
   "metadata": {},
   "source": [
    "- В разбивке по гендеру больший отток наблюдается у мужчин."
   ]
  },
  {
   "cell_type": "code",
   "execution_count": 36,
   "metadata": {},
   "outputs": [
    {
     "name": "stdout",
     "output_type": "stream",
     "text": [
      "churn             age_category     0    1  ratio\n",
      "0             Взрослый человек   858  278  24.47\n",
      "1      Лицо «зрелого возраста»  4524  933  17.10\n",
      "2                     Молодежь   141   20  12.42\n",
      "3                    Пенсионер   531   14   2.57\n",
      "4       Предпенсионный возраст  1634  497  23.32\n"
     ]
    },
    {
     "data": {
      "image/png": "[encoded data removed]",
      "text/plain": [
       "<Figure size 432x288 with 1 Axes>"
      ]
     },
     "metadata": {
      "needs_background": "light"
     },
     "output_type": "display_data"
    }
   ],
   "source": [
    "pivot_df(df_1, 'age_category', 'churn', 'age')"
   ]
  },
  {
   "cell_type": "markdown",
   "metadata": {},
   "source": [
    "- Самый большой ооток в сегменте \"Лицо зрелого возраста\" - в колличественном измерении\n",
    "- А вот в процентном соотношении лидирует по оотоку сегмент \"Взрослый человек\""
   ]
  },
  {
   "cell_type": "code",
   "execution_count": 37,
   "metadata": {},
   "outputs": [
    {
     "name": "stdout",
     "output_type": "stream",
     "text": [
      "churn  credit_card     0    1  ratio\n",
      "0                0  2263  783  25.71\n",
      "1                1  5425  959  15.02\n"
     ]
    },
    {
     "data": {
      "image/png": "[encoded data removed]",
      "text/plain": [
       "<Figure size 432x288 with 1 Axes>"
      ]
     },
     "metadata": {
      "needs_background": "light"
     },
     "output_type": "display_data"
    }
   ],
   "source": [
    "pivot_df(df_1, 'credit_card', 'churn', 'age')"
   ]
  },
  {
   "cell_type": "markdown",
   "metadata": {},
   "source": [
    "- Количество ооточных клиентов с кредитной картой и без нее разнится незначительно в количественном соотношении.\n",
    "- А в процентном соотношении разница есть."
   ]
  },
  {
   "cell_type": "code",
   "execution_count": 38,
   "metadata": {},
   "outputs": [
    {
     "name": "stdout",
     "output_type": "stream",
     "text": [
      "churn  products       0      1  ratio\n",
      "0             0     NaN    1.0    NaN\n",
      "1             1  2804.0  224.0   7.40\n",
      "2             2  3989.0  941.0  19.09\n",
      "3             3   709.0  287.0  28.82\n",
      "4             4   165.0  280.0  62.92\n",
      "5             5    21.0    9.0  30.00\n"
     ]
    },
    {
     "data": {
      "image/png": "[encoded data removed]",
      "text/plain": [
       "<Figure size 432x288 with 1 Axes>"
      ]
     },
     "metadata": {
      "needs_background": "light"
     },
     "output_type": "display_data"
    }
   ],
   "source": [
    "pivot_df(df_1, 'products', 'churn', 'age')"
   ]
  },
  {
   "cell_type": "markdown",
   "metadata": {},
   "source": [
    "- Самый ввсокий ооток клиентов наблюдается среди пользователей двумя банковскими продуктами, но это так же самый большой по кол-ву клиентов сегмент.\n",
    "- В процентном соотношении самый большой отток у клиентой с 4 банковскими продуктами - 60%."
   ]
  },
  {
   "cell_type": "code",
   "execution_count": 39,
   "metadata": {},
   "outputs": [
    {
     "name": "stdout",
     "output_type": "stream",
     "text": [
      "churn  last_activity     0     1  ratio\n",
      "0                  0  3988   528  11.69\n",
      "1                  1  3700  1214  24.70\n"
     ]
    },
    {
     "data": {
      "image/png": "[encoded data removed]",
      "text/plain": [
       "<Figure size 432x288 with 1 Axes>"
      ]
     },
     "metadata": {
      "needs_background": "light"
     },
     "output_type": "display_data"
    }
   ],
   "source": [
    "pivot_df(df_1, 'last_activity', 'churn', 'age')"
   ]
  },
  {
   "cell_type": "markdown",
   "metadata": {},
   "source": [
    "- И в процентном и в количественном соотношении по оттоку лидируют активные пользователи."
   ]
  },
  {
   "cell_type": "code",
   "execution_count": 40,
   "metadata": {},
   "outputs": [
    {
     "name": "stdout",
     "output_type": "stream",
     "text": [
      "churn  equity     0    1  ratio\n",
      "0           0  2180   85   3.75\n",
      "1           1   662   93  12.32\n",
      "2           2   865  165  16.02\n",
      "3           3  1190  311  20.72\n",
      "4           4  1344  446  24.92\n",
      "5           5  1288  541  29.58\n",
      "6           6   101   53  34.42\n",
      "7           7    41   35  46.05\n",
      "8           8    11    6  35.29\n",
      "9           9     6    7  53.85\n"
     ]
    },
    {
     "data": {
      "image/png": "[encoded data removed]",
      "text/plain": [
       "<Figure size 432x288 with 1 Axes>"
      ]
     },
     "metadata": {
      "needs_background": "light"
     },
     "output_type": "display_data"
    }
   ],
   "source": [
    "pivot_df(df_1, 'equity', 'churn', 'age')"
   ]
  },
  {
   "cell_type": "markdown",
   "metadata": {},
   "source": [
    "- Чаше других, на данный момент, уходят клиенту с приблизительной оценкой собственности - 5."
   ]
  },
  {
   "cell_type": "markdown",
   "metadata": {},
   "source": [
    "- Основываясь на полученных данных, могу сформулировать примерные сегменты пользователей для более детально проверки отточности.\n",
    "- Так же вижу нецелесообразным проверять гипотезу овлиянии кредитной карты на отточность клиентов. Вместо нее предлагаю проанализировать разницу в возрасте ооточных и оставшихся в банке клиентов."
   ]
  },
  {
   "cell_type": "markdown",
   "metadata": {},
   "source": [
    "### Выделим сегменты пользователей и найдем самые отточные"
   ]
  },
  {
   "cell_type": "code",
   "execution_count": 41,
   "metadata": {},
   "outputs": [
    {
     "name": "stdout",
     "output_type": "stream",
     "text": [
      "churn            0    1  ratio\n",
      "user_id        278  249  47.25\n",
      "score          278  249  47.25\n",
      "city           278  249  47.25\n",
      "gender         278  249  47.25\n",
      "age            278  249  47.25\n",
      "equity         278  249  47.25\n",
      "balance        278  249  47.25\n",
      "products       278  249  47.25\n",
      "credit_card    278  249  47.25\n",
      "last_activity  278  249  47.25\n",
      "est_salary     278  249  47.25\n",
      "gender_1       278  249  47.25\n",
      "city_1         278  249  47.25\n",
      "age_category   278  249  47.25\n"
     ]
    }
   ],
   "source": [
    "data = df_1.query('city==\"Ярославль\" and equity==5 and last_activity==1').groupby('churn').count()\n",
    "data = data.T\n",
    "data['ratio'] = round((data[1]/(data[0]+data[1])*100),2)\n",
    "print(data)"
   ]
  },
  {
   "cell_type": "code",
   "execution_count": 42,
   "metadata": {},
   "outputs": [
    {
     "name": "stdout",
     "output_type": "stream",
     "text": [
      "churn            0    1  ratio\n",
      "user_id        315  228  41.99\n",
      "score          315  228  41.99\n",
      "city           315  228  41.99\n",
      "gender         315  228  41.99\n",
      "age            315  228  41.99\n",
      "equity         315  228  41.99\n",
      "balance        315  228  41.99\n",
      "products       315  228  41.99\n",
      "credit_card    315  228  41.99\n",
      "last_activity  315  228  41.99\n",
      "est_salary     315  228  41.99\n",
      "gender_1       315  228  41.99\n",
      "city_1         315  228  41.99\n",
      "age_category   315  228  41.99\n"
     ]
    }
   ],
   "source": [
    "data = df_1.query('city==\"Ярославль\" and equity==5 and gender==\"М\"').groupby('churn').count()\n",
    "data = data.T\n",
    "data['ratio'] = round((data[1]/(data[0]+data[1])*100),2)\n",
    "print(data)"
   ]
  },
  {
   "cell_type": "code",
   "execution_count": 43,
   "metadata": {},
   "outputs": [
    {
     "name": "stdout",
     "output_type": "stream",
     "text": [
      "churn            0    1  ratio\n",
      "user_id        224  248  52.54\n",
      "score          224  248  52.54\n",
      "city           224  248  52.54\n",
      "gender         224  248  52.54\n",
      "age            224  248  52.54\n",
      "equity         224  248  52.54\n",
      "balance        224  248  52.54\n",
      "products       224  248  52.54\n",
      "credit_card    224  248  52.54\n",
      "last_activity  224  248  52.54\n",
      "est_salary     224  248  52.54\n",
      "gender_1       224  248  52.54\n",
      "city_1         224  248  52.54\n",
      "age_category   224  248  52.54\n"
     ]
    }
   ],
   "source": [
    "data = df_1.query('last_activity==1 and equity==5 and gender==\"М\"').groupby('churn').count()\n",
    "data = data.T\n",
    "data['ratio'] = round((data[1]/(data[0]+data[1])*100),2)\n",
    "print(data)"
   ]
  },
  {
   "cell_type": "code",
   "execution_count": 44,
   "metadata": {},
   "outputs": [
    {
     "name": "stdout",
     "output_type": "stream",
     "text": [
      "churn            0    1  ratio\n",
      "user_id        969  329  25.35\n",
      "score          969  329  25.35\n",
      "city           969  329  25.35\n",
      "gender         969  329  25.35\n",
      "age            969  329  25.35\n",
      "equity         969  329  25.35\n",
      "balance        881  329  27.19\n",
      "products       969  329  25.35\n",
      "credit_card    969  329  25.35\n",
      "last_activity  969  329  25.35\n",
      "est_salary     969  329  25.35\n",
      "gender_1       969  329  25.35\n",
      "city_1         969  329  25.35\n",
      "age_category   969  329  25.35\n"
     ]
    }
   ],
   "source": [
    "data = df_1.query('city==\"Ярославль\" and gender==\"М\" and products==2').groupby('churn').count()\n",
    "data = data.T\n",
    "data['ratio'] = round((data[1]/(data[0]+data[1])*100),2)\n",
    "print(data)"
   ]
  },
  {
   "cell_type": "code",
   "execution_count": 45,
   "metadata": {},
   "outputs": [
    {
     "name": "stdout",
     "output_type": "stream",
     "text": [
      "churn            0    1  ratio\n",
      "user_id        335  151  31.07\n",
      "score          335  151  31.07\n",
      "city           335  151  31.07\n",
      "gender         335  151  31.07\n",
      "age            335  151  31.07\n",
      "equity         335  151  31.07\n",
      "balance        335  151  31.07\n",
      "products       335  151  31.07\n",
      "credit_card    335  151  31.07\n",
      "last_activity  335  151  31.07\n",
      "est_salary     335  151  31.07\n",
      "gender_1       335  151  31.07\n",
      "city_1         335  151  31.07\n",
      "age_category   335  151  31.07\n"
     ]
    }
   ],
   "source": [
    "data = df_1.query('last_activity==1 and equity==5 and gender==\"Ж\"').groupby('churn').count()\n",
    "data = data.T\n",
    "data['ratio'] = round((data[1]/(data[0]+data[1])*100),2)\n",
    "print(data)"
   ]
  },
  {
   "cell_type": "code",
   "execution_count": 46,
   "metadata": {},
   "outputs": [
    {
     "name": "stdout",
     "output_type": "stream",
     "text": [
      "churn            0    1  ratio\n",
      "user_id        246  146  37.24\n",
      "score          246  146  37.24\n",
      "city           246  146  37.24\n",
      "gender         246  146  37.24\n",
      "age            246  146  37.24\n",
      "equity         246  146  37.24\n",
      "balance        159  146  47.87\n",
      "products       246  146  37.24\n",
      "credit_card    246  146  37.24\n",
      "last_activity  246  146  37.24\n",
      "est_salary     246  146  37.24\n",
      "gender_1       246  146  37.24\n",
      "city_1         246  146  37.24\n",
      "age_category   246  146  37.24\n"
     ]
    }
   ],
   "source": [
    "data = df_1.query('last_activity==1 and age_category==\"Взрослый человек\" and gender==\"М\"').groupby('churn').count()\n",
    "data = data.T\n",
    "data['ratio'] = round((data[1]/(data[0]+data[1])*100),2)\n",
    "print(data)"
   ]
  },
  {
   "cell_type": "code",
   "execution_count": 47,
   "metadata": {},
   "outputs": [
    {
     "name": "stdout",
     "output_type": "stream",
     "text": [
      "churn            0    1  ratio\n",
      "user_id        246  146  37.24\n",
      "score          246  146  37.24\n",
      "city           246  146  37.24\n",
      "gender         246  146  37.24\n",
      "age            246  146  37.24\n",
      "equity         246  146  37.24\n",
      "balance        159  146  47.87\n",
      "products       246  146  37.24\n",
      "credit_card    246  146  37.24\n",
      "last_activity  246  146  37.24\n",
      "est_salary     246  146  37.24\n",
      "gender_1       246  146  37.24\n",
      "city_1         246  146  37.24\n",
      "age_category   246  146  37.24\n"
     ]
    }
   ],
   "source": [
    "data = df_1.query('last_activity==1 and age_category==\"Взрослый человек\" and gender==\"М\"').groupby('churn').count()\n",
    "data = data.T\n",
    "data['ratio'] = round((data[1]/(data[0]+data[1])*100),2)\n",
    "print(data)"
   ]
  },
  {
   "cell_type": "code",
   "execution_count": 48,
   "metadata": {},
   "outputs": [
    {
     "name": "stdout",
     "output_type": "stream",
     "text": [
      "churn            0    1  ratio\n",
      "user_id        516  176  25.43\n",
      "score          516  176  25.43\n",
      "city           516  176  25.43\n",
      "gender         516  176  25.43\n",
      "age            516  176  25.43\n",
      "equity         516  176  25.43\n",
      "balance        466  175  27.30\n",
      "products       516  176  25.43\n",
      "credit_card    516  176  25.43\n",
      "last_activity  516  176  25.43\n",
      "est_salary     516  176  25.43\n",
      "gender_1       516  176  25.43\n",
      "city_1         516  176  25.43\n",
      "age_category   516  176  25.43\n"
     ]
    }
   ],
   "source": [
    "data = df_1.query('city==\"Рыбинск\" and gender==\"М\" and products==2').groupby('churn').count()\n",
    "data = data.T\n",
    "data['ratio'] = round((data[1]/(data[0]+data[1])*100),2)\n",
    "print(data)"
   ]
  },
  {
   "cell_type": "code",
   "execution_count": 49,
   "metadata": {},
   "outputs": [
    {
     "name": "stdout",
     "output_type": "stream",
     "text": [
      "churn            0   1  ratio\n",
      "user_id        719  96  11.78\n",
      "score          719  96  11.78\n",
      "city           719  96  11.78\n",
      "gender         719  96  11.78\n",
      "age            719  96  11.78\n",
      "equity         719  96  11.78\n",
      "balance        685  96  12.29\n",
      "products       719  96  11.78\n",
      "credit_card    719  96  11.78\n",
      "last_activity  719  96  11.78\n",
      "est_salary     719  96  11.78\n",
      "gender_1       719  96  11.78\n",
      "city_1         719  96  11.78\n",
      "age_category   719  96  11.78\n"
     ]
    }
   ],
   "source": [
    "data = df_1.query('city==\"Рыбинск\" and gender==\"Ж\" and products==2').groupby('churn').count()\n",
    "data = data.T\n",
    "data['ratio'] = round((data[1]/(data[0]+data[1])*100),2)\n",
    "print(data)"
   ]
  },
  {
   "cell_type": "code",
   "execution_count": 50,
   "metadata": {},
   "outputs": [
    {
     "name": "stdout",
     "output_type": "stream",
     "text": [
      "churn           0    1  ratio\n",
      "user_id        53  114  68.26\n",
      "score          53  114  68.26\n",
      "city           53  114  68.26\n",
      "gender         53  114  68.26\n",
      "age            53  114  68.26\n",
      "equity         53  114  68.26\n",
      "balance        53  114  68.26\n",
      "products       53  114  68.26\n",
      "credit_card    53  114  68.26\n",
      "last_activity  53  114  68.26\n",
      "est_salary     53  114  68.26\n",
      "gender_1       53  114  68.26\n",
      "city_1         53  114  68.26\n",
      "age_category   53  114  68.26\n"
     ]
    }
   ],
   "source": [
    "data = df_1.query('city==\"Ярославль\" and products==4 and gender==\"М\"').groupby('churn').count()\n",
    "data = data.T\n",
    "data['ratio'] = round((data[1]/(data[0]+data[1])*100),2)\n",
    "print(data)"
   ]
  },
  {
   "cell_type": "code",
   "execution_count": 51,
   "metadata": {},
   "outputs": [
    {
     "name": "stdout",
     "output_type": "stream",
     "text": [
      "churn           0    1  ratio\n",
      "user_id        84  124  59.62\n",
      "score          84  124  59.62\n",
      "city           84  124  59.62\n",
      "gender         84  124  59.62\n",
      "age            84  124  59.62\n",
      "equity         84  124  59.62\n",
      "balance        84  124  59.62\n",
      "products       84  124  59.62\n",
      "credit_card    84  124  59.62\n",
      "last_activity  84  124  59.62\n",
      "est_salary     84  124  59.62\n",
      "gender_1       84  124  59.62\n",
      "city_1         84  124  59.62\n",
      "age_category   84  124  59.62\n"
     ]
    }
   ],
   "source": [
    "data = df_1.query('last_activity==1 and products==4 and gender==\"М\"').groupby('churn').count()\n",
    "data = data.T\n",
    "data['ratio'] = round((data[1]/(data[0]+data[1])*100),2)\n",
    "print(data)"
   ]
  },
  {
   "cell_type": "markdown",
   "metadata": {},
   "source": [
    "Изходя из предыдущего анализа могу выделить два наиболее отточных в процентном соотношении сегмента.\n",
    "- 1) Мужчины из Ярославля, которые пользуются 4мя продуктами банка - 68% оттока в данном сегменте (167 человек в сегменте)\n",
    "- 2) Мужчины с приблизительной оценкой имущества - 5, которые были активны в последний месяц. Процент оттока -53% и общая численность сегентв - 472.\n",
    "- Приоритезировать стоит 2-ю группу, так как включает в себя большее кол-во клиентов.\n",
    "- Рекомендую обратить внимание на приложение банка и понять, что могло оттолкнуть мужскую аудиторию. Возможно недавно были добавлены какие-то апдейты, которые визуально или функционально не подошли мужчинам.\n",
    "- Возможно стоит обратить внимание на функционал приложения для людей с высокой оценкой имущества и которые пользуются 4мя продуктами банка. Может не совсем удобная навигация между продуктами банка вызывает негативный эмоциональный окрас у пользователей."
   ]
  },
  {
   "cell_type": "markdown",
   "metadata": {},
   "source": [
    "## Проверка статистических гипотез"
   ]
  },
  {
   "cell_type": "markdown",
   "metadata": {},
   "source": [
    "1) Проверьте гипотезу различия дохода между теми клиентами, которые ушли и теми, которые остались\n",
    "\n",
    "2) Проверьте гипотезу различия активности между теми клиентами, которые ушли и теми, которые остались за последний месяц их жизни в системе банка\n",
    "\n",
    "3) Проверьте гипотезу различии в возрасте между теми клиентами, которые ушли и теми, которые остались "
   ]
  },
  {
   "cell_type": "markdown",
   "metadata": {},
   "source": [
    "###  Проверьте гипотезу различия дохода между теми клиентами, которые ушли и теми, которые остались"
   ]
  },
  {
   "cell_type": "markdown",
   "metadata": {},
   "source": [
    "- t-критерий Стьюдента — общее название для статистических тестов, в которых статистика критерия имеет распределение Стьюдента. Наиболее часто t-критерии применяются для проверки равенства средних значений в двух выборках."
   ]
  },
  {
   "cell_type": "code",
   "execution_count": 52,
   "metadata": {},
   "outputs": [
    {
     "data": {
      "image/png": "[encoded data removed]",
      "text/plain": [
       "<Figure size 432x288 with 1 Axes>"
      ]
     },
     "metadata": {
      "needs_background": "light"
     },
     "output_type": "display_data"
    }
   ],
   "source": [
    "ax = df_churn_1['est_salary'].plot.hist(density=True, xlim=[0,350000])\n",
    "df_1['est_salary'].plot.density(ax=ax)\n",
    "ax.set_xlabel('Распределение дохода отточных клиентов');"
   ]
  },
  {
   "cell_type": "code",
   "execution_count": 53,
   "metadata": {},
   "outputs": [
    {
     "data": {
      "image/png": "[encoded data removed]",
      "text/plain": [
       "<Figure size 432x288 with 1 Axes>"
      ]
     },
     "metadata": {
      "needs_background": "light"
     },
     "output_type": "display_data"
    }
   ],
   "source": [
    "ax = df_churn_0['est_salary'].plot.hist(density=True, xlim=[0,350000])\n",
    "df_1['est_salary'].plot.density(ax=ax)\n",
    "ax.set_xlabel('аспределение дохода оставшихся клиентов');"
   ]
  },
  {
   "cell_type": "code",
   "execution_count": 54,
   "metadata": {},
   "outputs": [
    {
     "name": "stdout",
     "output_type": "stream",
     "text": [
      "Размер первой выборки =  1742\n",
      "Размер второй выборки =  7688\n"
     ]
    }
   ],
   "source": [
    "print('Размер первой выборки = ', len(df_churn_1['est_salary']))\n",
    "print('Размер второй выборки = ', len(df_churn_0['est_salary']))"
   ]
  },
  {
   "cell_type": "markdown",
   "metadata": {},
   "source": [
    "- Выборочные средние должны быть нормально распределены.\n",
    "- Дисперсии рассматриваемых генеральных совокупностей должны быть равны.\n",
    "- Иногда советуют предварительно проверить равенство дисперсий специальными тестами (например, тестом Левена). Мы не будем так делать: исследования показывают, что это только увеличивает вероятность сделать неверный вывод. Так что «правило большого пальца» тут простое: если выборки разного размера и/или можно предположить, что дисперсии у генеральных совокупностей разные, укажем **equal_var= False** при вызове метода scipy.stats.ttest_ind().\n",
    "- Так как распределение доходов в сравниваемых выборках похоже на нормальное, применим t-критерий Стьюдента.\n",
    "\n",
    "**Сформулируем гипотезы:**\n",
    "<br> **H₀** - статистически значимых различий между доходами клиентов, которые ушли и теми, которые остались, нет.  \n",
    "<br> **H₁** - статистически значимых различий между доходами клиентов, которые ушли и теми, которые остались, есть.\n",
    "\n",
    "- Назначим уровень статистической значимости alpha - 0.05."
   ]
  },
  {
   "cell_type": "code",
   "execution_count": 55,
   "metadata": {},
   "outputs": [
    {
     "name": "stdout",
     "output_type": "stream",
     "text": [
      "p-значение: 0.00026469297903353785\n",
      "Отвергаем нулевую гипотезу\n"
     ]
    }
   ],
   "source": [
    "alpha = 0.05 # уровень статистической значимости\n",
    "# если p-value окажется меньше него, отвергнем гипотезу\n",
    "\n",
    "results = st.ttest_ind(df_churn_1['est_salary'], df_churn_0['est_salary'], equal_var = False)\n",
    "\n",
    "print('p-значение:', results.pvalue)\n",
    "\n",
    "if results.pvalue < alpha:\n",
    "    print('Отвергаем нулевую гипотезу')\n",
    "else:\n",
    "    print('Не получилось отвергнуть нулевую гипотезу') "
   ]
  },
  {
   "cell_type": "code",
   "execution_count": 56,
   "metadata": {},
   "outputs": [
    {
     "name": "stdout",
     "output_type": "stream",
     "text": [
      "Средний доход у отточных клиентов =  128664.32\n",
      "Средний доход у оставшихся клиентов =  122526.9\n",
      "\n",
      "Медианный доход у отточных клиентов =  121405.0\n",
      "Медианный доход у оставшихся клиентов =  113898.58\n"
     ]
    }
   ],
   "source": [
    "print('Средний доход у отточных клиентов = ', round((df_churn_1['est_salary'].mean()),2))\n",
    "print('Средний доход у оставшихся клиентов = ', round((df_churn_0['est_salary'].mean()),2))\n",
    "print('')\n",
    "print('Медианный доход у отточных клиентов = ', round((df_churn_1['est_salary'].median()),2))\n",
    "print('Медианный доход у оставшихся клиентов = ', round((df_churn_0['est_salary'].median()),2))"
   ]
  },
  {
   "cell_type": "markdown",
   "metadata": {},
   "source": [
    "### Проверьте гипотезу различия активности между теми клиентами, которые ушли и теми, которые остались за последний месяц их жизни в системе банка"
   ]
  },
  {
   "cell_type": "markdown",
   "metadata": {},
   "source": [
    "**Сформулируем гипотезы:**\n",
    "<br> **H₀** - статистически значимых различий между активностью клиентов, которые ушли и теми, которые остались, нет.  \n",
    "<br> **H₁** - статистически значимых различий между активностью клиентов, которые ушли и теми, которые остались, есть.\n",
    "\n",
    "- Назначим уровень статистической значимости alpha - 0.05."
   ]
  },
  {
   "cell_type": "code",
   "execution_count": 57,
   "metadata": {},
   "outputs": [
    {
     "name": "stdout",
     "output_type": "stream",
     "text": [
      "p-значение: 2.4958785721191827e-64\n",
      "Отвергаем нулевую гипотезу\n"
     ]
    }
   ],
   "source": [
    "alpha = 0.05 # уровень статистической значимости\n",
    "# если p-value окажется меньше него, отвергнем гипотезу\n",
    "\n",
    "results = st.ttest_ind(df_churn_1['last_activity'], df_churn_0['last_activity'], equal_var = False)\n",
    "\n",
    "print('p-значение:', results.pvalue)\n",
    "\n",
    "if results.pvalue < alpha:\n",
    "    print('Отвергаем нулевую гипотезу')\n",
    "else:\n",
    "    print('Не получилось отвергнуть нулевую гипотезу') "
   ]
  },
  {
   "cell_type": "markdown",
   "metadata": {},
   "source": [
    "### Проверьте гипотезу различии в возрасте между теми клиентами, которые ушли и теми, которые остались"
   ]
  },
  {
   "cell_type": "code",
   "execution_count": 58,
   "metadata": {},
   "outputs": [
    {
     "data": {
      "image/png": "[encoded data removed]",
      "text/plain": [
       "<Figure size 432x288 with 1 Axes>"
      ]
     },
     "metadata": {
      "needs_background": "light"
     },
     "output_type": "display_data"
    }
   ],
   "source": [
    "ax = df_churn_1['age'].plot.hist(density=True, xlim=[16,90])\n",
    "df_1['age'].plot.density(ax=ax)\n",
    "ax.set_xlabel('Распределение возраста отточных клиентов банка');"
   ]
  },
  {
   "cell_type": "code",
   "execution_count": 59,
   "metadata": {},
   "outputs": [
    {
     "data": {
      "image/png": "[encoded data removed]",
      "text/plain": [
       "<Figure size 432x288 with 1 Axes>"
      ]
     },
     "metadata": {
      "needs_background": "light"
     },
     "output_type": "display_data"
    }
   ],
   "source": [
    "ax = df_churn_0['age'].plot.hist(density=True, xlim=[16,90])\n",
    "df_1['age'].plot.density(ax=ax)\n",
    "ax.set_xlabel('Распределение возраста оставшихся клиентов банка');"
   ]
  },
  {
   "cell_type": "markdown",
   "metadata": {},
   "source": [
    "- Так как распределения нельзя назвать нормальными, принимаю решение использовать критерий Манна-Уитни.\n",
    "- U-критерий Манна-Уитни — непараметрический статистический критерий, используемый для оценки различий между двумя выборками по признаку, измеренному в количественной или порядковой шкале. U-критерий является ранговым, поэтому он инвариантен по отношению к любому монотонному преобразованию шкалы измерения."
   ]
  },
  {
   "cell_type": "markdown",
   "metadata": {},
   "source": [
    "**Сформулируем гипотезы:**\n",
    "<br> **H₀** - статистически значимых различий между возрастом клиентов, которые ушли и теми, которые остались, нет.  \n",
    "<br> **H₁** - статистически значимых различий между возрастом клиентов, которые ушли и теми, которые остались, есть.\n",
    "\n",
    "- Назначим уровень статистической значимости alpha - 0.05."
   ]
  },
  {
   "cell_type": "code",
   "execution_count": 60,
   "metadata": {},
   "outputs": [
    {
     "name": "stdout",
     "output_type": "stream",
     "text": [
      "p-значение: 1.5030867758737548e-06\n",
      "Отвергаем нулевую гипотезу\n"
     ]
    }
   ],
   "source": [
    "alpha = 0.05\n",
    "\n",
    "results = st.mannwhitneyu(df_churn_1['age'], df_churn_0['age'])\n",
    "\n",
    "print('p-значение:', results.pvalue)\n",
    "\n",
    "if (results.pvalue < alpha):\n",
    "    print(\"Отвергаем нулевую гипотезу\")\n",
    "else:\n",
    "    print(\"Не получилось отвергнуть нулевую гипотезу\")"
   ]
  },
  {
   "cell_type": "code",
   "execution_count": 61,
   "metadata": {},
   "outputs": [
    {
     "name": "stdout",
     "output_type": "stream",
     "text": [
      "Средний возраст отточных клиентов =  41.45\n",
      "Средний возраст оставшихся клиентов =  43.17\n",
      "\n",
      "Медианный доход у отточных клиентов =  39.0\n",
      "Медианный доход у оставшихся клиентов =  40.0\n"
     ]
    }
   ],
   "source": [
    "print('Средний возраст отточных клиентов = ', round((df_churn_1['age'].mean()),2))\n",
    "print('Средний возраст оставшихся клиентов = ', round((df_churn_0['age'].mean()),2))\n",
    "print('')\n",
    "print('Медианный доход у отточных клиентов = ', df_churn_1['age'].median())\n",
    "print('Медианный доход у оставшихся клиентов = ', df_churn_0['age'].median())"
   ]
  },
  {
   "cell_type": "markdown",
   "metadata": {},
   "source": [
    "### Вывод"
   ]
  },
  {
   "cell_type": "markdown",
   "metadata": {},
   "source": [
    "Были проверены гипотезы:\n",
    "\n",
    "    \n",
    "1) о различии дохода между теми клиентами, которые ушли и теми, которые осталис.\n",
    "\n",
    "2) о различии активности между теми клиентами, которые ушли и теми, которые остались за последний месяц их жизни в системе банка\n",
    "\n",
    "3) о различии в возрасте между теми клиентами, которые ушли и теми, которые остались\n",
    "\n",
    "Все три нулевые гипотезы были отвергнуты в ходе проверки и мы приняли альтернативные."
   ]
  },
  {
   "cell_type": "markdown",
   "metadata": {},
   "source": [
    "## Общий вывод"
   ]
  },
  {
   "cell_type": "markdown",
   "metadata": {},
   "source": [
    "[Презентация](https://disk.yandex.ru/i/lEEY6-QoWc26Vg)\n",
    "\n",
    "[Дашборд](https://public.tableau.com/app/profile/yanina.shmatko/viz/MetanPromBank_16784746596480/Dashboard1?publish=yes)\n",
    "\n",
    "В ходе выполнения данной проектной работы, я:\n",
    "1. открыла, изучила и обработала данные.\n",
    "- Мединые значения пользователей по неочищенным данным по парамметрам: возраст наших клиентов составляет 40 лет, зарплата - почти 120 т.р., баллы кредитного скоринга наших клиентов - 853.\n",
    "- Баланс у отточных клиентов значительно выше. Медианное значение у не оточных клиентов почти 500 т.р., в то время как у отточных данный показатель составляет 750 т.р.\n",
    "- Явные пропуски данных наблюдаются только в столбце balance и составляют почти 23 процента от общего количества данных в этом столбце.\n",
    "- В данных присутствуют 72 повторяющихся ID клиентов, которые мы удалили.\n",
    "- При обработке мы потеряли меньше 5% данных\n",
    "\n",
    "2. Провела исследовательский анализ данных.\n",
    "\n",
    "- В ходе анализа я выяснила, что заработная плата у отточных клиентов незначительно выше, чем у оставшихся в нашем банке.\n",
    "- Построила корреляционную матрицу из которой узнала, что связь между всеми признаками не очень велика.\n",
    "- Наибольшая корреляцию с отточностью из банка имеют - products(0.29), equity (0.26), last_activity(0.16) и gender_1_М (0.14).\n",
    "- Чем больше корреляция, тем больше вероятность, что клиент уйдет из банка. Но и эта связь находится между уровнями \"очень слабая\" и \"слабая\".\n",
    "- Портрет отточного клиента выглядит следующим образом: клиент от 30 до 35 лет с оценкой скоринга в 860 пунктов, приблизительной оценкой собственности - 5, пользуется двумя продуктами банка. Зарплата у этого клиента примерно 130 тыс. руб. и это активный пользователь (как минимум был активен за последний месяц пред цходом).\n",
    "- Самый ощутимый отток клиентов у нас в Ярославле. В разбивке по гендеру больший отток наблюдается у мужчин. Самый большой ооток по возрасту в сегменте \"Лицо зрелого возраста\" - в колличественном измерении. А вот в процентном соотношении лидирует по оотоку сегмент \"Взрослый человек\" Колисество ооточных клиентов с кредитной картой и без нее разнится незначительно.  И в процентном и в количественном соотношении по оттоку лидируют активные пользователи. Чаше других, на данный момент, уходят клиенты с приблизительной оценкой собственности - 5.\n",
    "\n",
    "\n",
    "**Два наиболее отточных в процентном соотношении сегмента.**\n",
    "1) Мужчины из Ярославля, которые пользуются 4мя продуктами банка - 68% оттока в данном сегменте (167 человек в сегменте)\n",
    "\n",
    "2) Мужчины с приблизительной оценкой имущества - 5, которые были активны в последний месяц. Процент оттока -53% и общая численность сегентв - 472.\n",
    "\n",
    "Приоритезировать стоит 2-ю группу, так как включает в себя большее кол-во клиентов.\n",
    "Рекомендую обратить внимание на приложение банка и понять, что могло оттолкнуть мужскую аудиторию. Возможно недавно были добавлены какие-то апдейты, которые визуально или функционально не подошли мужчинам.\n",
    "Возможно стоит обратить внимание на функционал приложения для людей с высокой оценкой имущества и которые пользуются 4мя продуктами банка. Может не совсем удобная навигация между продуктами банка вызывает негативный эмоциональный окрас у пользователей.\n",
    "\n",
    "3. Были сформулированы и проверены гипотезы:\n",
    "- о различии дохода между теми клиентами, которые ушли и теми, которые осталис.\n",
    "- о различии активности между теми клиентами, которые ушли и теми, которые остались за последний месяц их жизни в системе банка\n",
    "- о различии в возрасте между теми клиентами, которые ушли и теми, которые остались\n",
    "- Все три нулевые гипотезы были отвергнуты в ходе проверки и мы приняли альтернативные.\n",
    "\n",
    "4. Подготовила **дашборд** <https://public.tableau.com/app/profile/yanina.shmatko/viz/MetanPromBank_16784746596480/Dashboard1?publish=yes> и **презентацию** <https://disk.yandex.ru/i/lEEY6-QoWc26Vg>.\n"
   ]
  },
  {
   "cell_type": "code",
   "execution_count": null,
   "metadata": {},
   "outputs": [],
   "source": []
  }
 ],
 "metadata": {
  "ExecuteTimeLog": [
   {
    "duration": 402,
    "start_time": "2023-03-06T17:07:12.938Z"
   },
   {
    "duration": 977,
    "start_time": "2023-03-06T17:07:22.207Z"
   },
   {
    "duration": 18,
    "start_time": "2023-03-06T17:07:31.436Z"
   },
   {
    "duration": 12,
    "start_time": "2023-03-06T17:07:38.210Z"
   },
   {
    "duration": 14,
    "start_time": "2023-03-06T17:07:46.685Z"
   },
   {
    "duration": 11,
    "start_time": "2023-03-06T17:07:53.609Z"
   },
   {
    "duration": 3,
    "start_time": "2023-03-06T17:08:00.752Z"
   },
   {
    "duration": 4,
    "start_time": "2023-03-06T17:08:11.122Z"
   },
   {
    "duration": 414,
    "start_time": "2023-03-06T17:08:31.518Z"
   },
   {
    "duration": 858,
    "start_time": "2023-03-06T17:08:31.934Z"
   },
   {
    "duration": 19,
    "start_time": "2023-03-06T17:08:32.794Z"
   },
   {
    "duration": 12,
    "start_time": "2023-03-06T17:08:32.814Z"
   },
   {
    "duration": 12,
    "start_time": "2023-03-06T17:08:32.828Z"
   },
   {
    "duration": 8,
    "start_time": "2023-03-06T17:08:32.841Z"
   },
   {
    "duration": 17,
    "start_time": "2023-03-06T17:08:32.851Z"
   },
   {
    "duration": 8,
    "start_time": "2023-03-06T17:08:32.870Z"
   },
   {
    "duration": 9,
    "start_time": "2023-03-06T17:08:32.879Z"
   },
   {
    "duration": 6,
    "start_time": "2023-03-06T17:08:32.890Z"
   },
   {
    "duration": 10,
    "start_time": "2023-03-06T17:13:07.413Z"
   },
   {
    "duration": 7,
    "start_time": "2023-03-06T17:16:13.173Z"
   },
   {
    "duration": 8,
    "start_time": "2023-03-06T17:16:22.048Z"
   },
   {
    "duration": 5,
    "start_time": "2023-03-06T17:16:36.178Z"
   },
   {
    "duration": 13,
    "start_time": "2023-03-06T17:17:08.706Z"
   },
   {
    "duration": 1225,
    "start_time": "2023-03-06T17:18:18.347Z"
   },
   {
    "duration": 4,
    "start_time": "2023-03-06T17:18:31.299Z"
   },
   {
    "duration": 7,
    "start_time": "2023-03-06T17:21:02.008Z"
   },
   {
    "duration": 5,
    "start_time": "2023-03-06T17:21:27.439Z"
   },
   {
    "duration": 3,
    "start_time": "2023-03-06T17:22:24.495Z"
   },
   {
    "duration": 9,
    "start_time": "2023-03-06T17:23:34.700Z"
   },
   {
    "duration": 47,
    "start_time": "2023-03-06T17:28:18.375Z"
   },
   {
    "duration": 432,
    "start_time": "2023-03-06T17:28:22.903Z"
   },
   {
    "duration": 1166,
    "start_time": "2023-03-06T17:28:23.337Z"
   },
   {
    "duration": 19,
    "start_time": "2023-03-06T17:28:24.505Z"
   },
   {
    "duration": 16,
    "start_time": "2023-03-06T17:28:24.526Z"
   },
   {
    "duration": 11,
    "start_time": "2023-03-06T17:28:24.546Z"
   },
   {
    "duration": 14,
    "start_time": "2023-03-06T17:28:24.559Z"
   },
   {
    "duration": 72,
    "start_time": "2023-03-06T17:28:24.575Z"
   },
   {
    "duration": 12,
    "start_time": "2023-03-06T17:28:24.648Z"
   },
   {
    "duration": 5,
    "start_time": "2023-03-06T17:28:24.662Z"
   },
   {
    "duration": 5,
    "start_time": "2023-03-06T17:28:24.669Z"
   },
   {
    "duration": 9,
    "start_time": "2023-03-06T17:28:24.676Z"
   },
   {
    "duration": 5,
    "start_time": "2023-03-06T17:28:24.687Z"
   },
   {
    "duration": 38,
    "start_time": "2023-03-06T17:28:24.694Z"
   },
   {
    "duration": 5,
    "start_time": "2023-03-06T17:28:24.735Z"
   },
   {
    "duration": 14,
    "start_time": "2023-03-06T17:28:24.742Z"
   },
   {
    "duration": 5,
    "start_time": "2023-03-06T17:28:24.758Z"
   },
   {
    "duration": 9,
    "start_time": "2023-03-06T17:28:24.765Z"
   },
   {
    "duration": 4,
    "start_time": "2023-03-06T17:28:24.776Z"
   },
   {
    "duration": 12,
    "start_time": "2023-03-06T17:28:24.783Z"
   },
   {
    "duration": 819,
    "start_time": "2023-03-06T17:54:56.884Z"
   },
   {
    "duration": 860,
    "start_time": "2023-03-06T17:55:14.115Z"
   },
   {
    "duration": 9,
    "start_time": "2023-03-06T17:57:39.330Z"
   },
   {
    "duration": 3252,
    "start_time": "2023-03-06T17:58:05.833Z"
   },
   {
    "duration": 2258,
    "start_time": "2023-03-06T17:58:24.379Z"
   },
   {
    "duration": 2903,
    "start_time": "2023-03-06T18:00:12.422Z"
   },
   {
    "duration": 3,
    "start_time": "2023-03-06T18:17:46.426Z"
   },
   {
    "duration": 14,
    "start_time": "2023-03-06T18:20:20.431Z"
   },
   {
    "duration": 9,
    "start_time": "2023-03-06T18:20:21.213Z"
   },
   {
    "duration": 18,
    "start_time": "2023-03-06T18:20:32.769Z"
   },
   {
    "duration": 16,
    "start_time": "2023-03-06T18:21:09.433Z"
   },
   {
    "duration": 3,
    "start_time": "2023-03-06T18:21:18.365Z"
   },
   {
    "duration": 3,
    "start_time": "2023-03-06T18:21:19.440Z"
   },
   {
    "duration": 6,
    "start_time": "2023-03-06T18:21:19.936Z"
   },
   {
    "duration": 12,
    "start_time": "2023-03-06T18:21:21.615Z"
   },
   {
    "duration": 26,
    "start_time": "2023-03-06T19:09:28.272Z"
   },
   {
    "duration": 426,
    "start_time": "2023-03-06T19:10:36.122Z"
   },
   {
    "duration": 1096,
    "start_time": "2023-03-06T19:10:36.550Z"
   },
   {
    "duration": 18,
    "start_time": "2023-03-06T19:10:37.648Z"
   },
   {
    "duration": 12,
    "start_time": "2023-03-06T19:10:37.668Z"
   },
   {
    "duration": 10,
    "start_time": "2023-03-06T19:10:37.682Z"
   },
   {
    "duration": 11,
    "start_time": "2023-03-06T19:10:37.694Z"
   },
   {
    "duration": 52,
    "start_time": "2023-03-06T19:10:37.731Z"
   },
   {
    "duration": 11,
    "start_time": "2023-03-06T19:10:37.785Z"
   },
   {
    "duration": 3,
    "start_time": "2023-03-06T19:10:37.798Z"
   },
   {
    "duration": 6,
    "start_time": "2023-03-06T19:10:37.803Z"
   },
   {
    "duration": 29,
    "start_time": "2023-03-06T19:10:37.811Z"
   },
   {
    "duration": 8,
    "start_time": "2023-03-06T19:10:37.842Z"
   },
   {
    "duration": 8,
    "start_time": "2023-03-06T19:10:37.852Z"
   },
   {
    "duration": 6,
    "start_time": "2023-03-06T19:10:37.865Z"
   },
   {
    "duration": 15,
    "start_time": "2023-03-06T19:10:37.873Z"
   },
   {
    "duration": 5,
    "start_time": "2023-03-06T19:10:37.891Z"
   },
   {
    "duration": 9,
    "start_time": "2023-03-06T19:10:37.898Z"
   },
   {
    "duration": 29,
    "start_time": "2023-03-06T19:10:37.909Z"
   },
   {
    "duration": 23,
    "start_time": "2023-03-06T19:10:37.939Z"
   },
   {
    "duration": 3,
    "start_time": "2023-03-06T19:10:37.964Z"
   },
   {
    "duration": 96,
    "start_time": "2023-03-06T19:10:37.968Z"
   },
   {
    "duration": 0,
    "start_time": "2023-03-06T19:10:38.066Z"
   },
   {
    "duration": 0,
    "start_time": "2023-03-06T19:10:38.068Z"
   },
   {
    "duration": 0,
    "start_time": "2023-03-06T19:10:38.070Z"
   },
   {
    "duration": 4,
    "start_time": "2023-03-06T19:10:46.811Z"
   },
   {
    "duration": 2,
    "start_time": "2023-03-06T19:10:48.623Z"
   },
   {
    "duration": 17,
    "start_time": "2023-03-06T19:10:49.030Z"
   },
   {
    "duration": 25,
    "start_time": "2023-03-06T19:10:49.573Z"
   },
   {
    "duration": 17,
    "start_time": "2023-03-06T19:11:47.447Z"
   },
   {
    "duration": 68,
    "start_time": "2023-03-06T19:14:51.260Z"
   },
   {
    "duration": 450,
    "start_time": "2023-03-06T19:15:17.242Z"
   },
   {
    "duration": 105,
    "start_time": "2023-03-06T19:15:57.378Z"
   },
   {
    "duration": 31,
    "start_time": "2023-03-06T19:16:02.131Z"
   },
   {
    "duration": 14,
    "start_time": "2023-03-06T19:16:21.911Z"
   },
   {
    "duration": 7,
    "start_time": "2023-03-06T19:17:04.663Z"
   },
   {
    "duration": 42,
    "start_time": "2023-03-06T19:17:10.335Z"
   },
   {
    "duration": 36,
    "start_time": "2023-03-06T19:17:43.015Z"
   },
   {
    "duration": 11,
    "start_time": "2023-03-06T19:19:55.603Z"
   },
   {
    "duration": 22,
    "start_time": "2023-03-06T19:20:22.157Z"
   },
   {
    "duration": 59,
    "start_time": "2023-03-06T19:20:27.227Z"
   },
   {
    "duration": 6,
    "start_time": "2023-03-06T19:22:42.471Z"
   },
   {
    "duration": 409,
    "start_time": "2023-03-06T19:22:47.761Z"
   },
   {
    "duration": 1042,
    "start_time": "2023-03-06T19:22:48.171Z"
   },
   {
    "duration": 30,
    "start_time": "2023-03-06T19:22:49.214Z"
   },
   {
    "duration": 15,
    "start_time": "2023-03-06T19:22:49.246Z"
   },
   {
    "duration": 9,
    "start_time": "2023-03-06T19:22:49.263Z"
   },
   {
    "duration": 28,
    "start_time": "2023-03-06T19:22:49.274Z"
   },
   {
    "duration": 43,
    "start_time": "2023-03-06T19:22:49.304Z"
   },
   {
    "duration": 8,
    "start_time": "2023-03-06T19:22:49.350Z"
   },
   {
    "duration": 4,
    "start_time": "2023-03-06T19:22:49.360Z"
   },
   {
    "duration": 6,
    "start_time": "2023-03-06T19:22:49.366Z"
   },
   {
    "duration": 6,
    "start_time": "2023-03-06T19:22:49.373Z"
   },
   {
    "duration": 8,
    "start_time": "2023-03-06T19:22:49.380Z"
   },
   {
    "duration": 11,
    "start_time": "2023-03-06T19:22:49.389Z"
   },
   {
    "duration": 4,
    "start_time": "2023-03-06T19:22:49.402Z"
   },
   {
    "duration": 37,
    "start_time": "2023-03-06T19:22:49.408Z"
   },
   {
    "duration": 15,
    "start_time": "2023-03-06T19:22:49.447Z"
   },
   {
    "duration": 28,
    "start_time": "2023-03-06T19:22:49.464Z"
   },
   {
    "duration": 10,
    "start_time": "2023-03-06T19:22:49.493Z"
   },
   {
    "duration": 14,
    "start_time": "2023-03-06T19:22:49.504Z"
   },
   {
    "duration": 4,
    "start_time": "2023-03-06T19:22:49.520Z"
   },
   {
    "duration": 26,
    "start_time": "2023-03-06T19:22:49.525Z"
   },
   {
    "duration": 8,
    "start_time": "2023-03-06T19:22:49.552Z"
   },
   {
    "duration": 14,
    "start_time": "2023-03-06T19:22:49.561Z"
   },
   {
    "duration": 22,
    "start_time": "2023-03-06T19:22:49.577Z"
   },
   {
    "duration": 6,
    "start_time": "2023-03-06T19:22:49.601Z"
   },
   {
    "duration": 318,
    "start_time": "2023-03-06T19:22:49.609Z"
   },
   {
    "duration": 392,
    "start_time": "2023-03-06T19:24:35.147Z"
   },
   {
    "duration": 820,
    "start_time": "2023-03-06T19:24:35.547Z"
   },
   {
    "duration": 27,
    "start_time": "2023-03-06T19:24:36.368Z"
   },
   {
    "duration": 12,
    "start_time": "2023-03-06T19:24:36.397Z"
   },
   {
    "duration": 10,
    "start_time": "2023-03-06T19:24:36.411Z"
   },
   {
    "duration": 15,
    "start_time": "2023-03-06T19:24:36.432Z"
   },
   {
    "duration": 39,
    "start_time": "2023-03-06T19:24:36.449Z"
   },
   {
    "duration": 8,
    "start_time": "2023-03-06T19:24:36.490Z"
   },
   {
    "duration": 5,
    "start_time": "2023-03-06T19:24:36.499Z"
   },
   {
    "duration": 27,
    "start_time": "2023-03-06T19:24:36.506Z"
   },
   {
    "duration": 26,
    "start_time": "2023-03-06T19:24:36.537Z"
   },
   {
    "duration": 33,
    "start_time": "2023-03-06T19:24:36.565Z"
   },
   {
    "duration": 17,
    "start_time": "2023-03-06T19:24:36.600Z"
   },
   {
    "duration": 8,
    "start_time": "2023-03-06T19:24:36.621Z"
   },
   {
    "duration": 36,
    "start_time": "2023-03-06T19:24:36.631Z"
   },
   {
    "duration": 6,
    "start_time": "2023-03-06T19:24:36.669Z"
   },
   {
    "duration": 11,
    "start_time": "2023-03-06T19:24:36.677Z"
   },
   {
    "duration": 9,
    "start_time": "2023-03-06T19:24:36.690Z"
   },
   {
    "duration": 17,
    "start_time": "2023-03-06T19:24:36.701Z"
   },
   {
    "duration": 41,
    "start_time": "2023-03-06T19:24:36.720Z"
   },
   {
    "duration": 20,
    "start_time": "2023-03-06T19:24:36.763Z"
   },
   {
    "duration": 16,
    "start_time": "2023-03-06T19:24:36.785Z"
   },
   {
    "duration": 20,
    "start_time": "2023-03-06T19:24:36.803Z"
   },
   {
    "duration": 38,
    "start_time": "2023-03-06T19:24:36.825Z"
   },
   {
    "duration": 314,
    "start_time": "2023-03-06T19:24:36.864Z"
   },
   {
    "duration": 14,
    "start_time": "2023-03-06T19:29:15.262Z"
   },
   {
    "duration": 15,
    "start_time": "2023-03-06T19:31:18.507Z"
   },
   {
    "duration": 22,
    "start_time": "2023-03-06T19:31:23.827Z"
   },
   {
    "duration": 62,
    "start_time": "2023-03-06T19:32:31.171Z"
   },
   {
    "duration": 6,
    "start_time": "2023-03-06T19:35:19.642Z"
   },
   {
    "duration": 14,
    "start_time": "2023-03-06T19:35:40.114Z"
   },
   {
    "duration": 355,
    "start_time": "2023-03-06T19:35:52.591Z"
   },
   {
    "duration": 1258,
    "start_time": "2023-03-06T19:35:52.948Z"
   },
   {
    "duration": 18,
    "start_time": "2023-03-06T19:35:54.207Z"
   },
   {
    "duration": 14,
    "start_time": "2023-03-06T19:35:54.226Z"
   },
   {
    "duration": 7,
    "start_time": "2023-03-06T19:35:54.242Z"
   },
   {
    "duration": 16,
    "start_time": "2023-03-06T19:35:54.251Z"
   },
   {
    "duration": 37,
    "start_time": "2023-03-06T19:35:54.268Z"
   },
   {
    "duration": 8,
    "start_time": "2023-03-06T19:35:54.306Z"
   },
   {
    "duration": 4,
    "start_time": "2023-03-06T19:35:54.331Z"
   },
   {
    "duration": 8,
    "start_time": "2023-03-06T19:35:54.336Z"
   },
   {
    "duration": 15,
    "start_time": "2023-03-06T19:35:54.346Z"
   },
   {
    "duration": 5,
    "start_time": "2023-03-06T19:35:54.362Z"
   },
   {
    "duration": 25,
    "start_time": "2023-03-06T19:35:54.368Z"
   },
   {
    "duration": 5,
    "start_time": "2023-03-06T19:35:54.395Z"
   },
   {
    "duration": 12,
    "start_time": "2023-03-06T19:35:54.401Z"
   },
   {
    "duration": 18,
    "start_time": "2023-03-06T19:35:54.414Z"
   },
   {
    "duration": 3,
    "start_time": "2023-03-06T19:35:54.434Z"
   },
   {
    "duration": 12,
    "start_time": "2023-03-06T19:35:54.439Z"
   },
   {
    "duration": 5,
    "start_time": "2023-03-06T19:35:54.452Z"
   },
   {
    "duration": 5,
    "start_time": "2023-03-06T19:35:54.459Z"
   },
   {
    "duration": 5,
    "start_time": "2023-03-06T19:35:54.466Z"
   },
   {
    "duration": 11,
    "start_time": "2023-03-06T19:35:54.472Z"
   },
   {
    "duration": 3,
    "start_time": "2023-03-06T19:35:54.485Z"
   },
   {
    "duration": 8,
    "start_time": "2023-03-06T19:35:54.489Z"
   },
   {
    "duration": 32,
    "start_time": "2023-03-06T19:35:54.499Z"
   },
   {
    "duration": 15,
    "start_time": "2023-03-06T19:35:54.533Z"
   },
   {
    "duration": 21,
    "start_time": "2023-03-06T19:35:54.549Z"
   },
   {
    "duration": 308,
    "start_time": "2023-03-06T19:35:54.572Z"
   },
   {
    "duration": 4,
    "start_time": "2023-03-06T19:43:34.717Z"
   },
   {
    "duration": 11,
    "start_time": "2023-03-06T19:44:38.515Z"
   },
   {
    "duration": 384,
    "start_time": "2023-03-06T19:45:00.355Z"
   },
   {
    "duration": 856,
    "start_time": "2023-03-06T19:45:00.741Z"
   },
   {
    "duration": 17,
    "start_time": "2023-03-06T19:45:01.598Z"
   },
   {
    "duration": 31,
    "start_time": "2023-03-06T19:45:01.617Z"
   },
   {
    "duration": 37,
    "start_time": "2023-03-06T19:45:01.649Z"
   },
   {
    "duration": 27,
    "start_time": "2023-03-06T19:45:01.688Z"
   },
   {
    "duration": 57,
    "start_time": "2023-03-06T19:45:01.717Z"
   },
   {
    "duration": 9,
    "start_time": "2023-03-06T19:45:01.776Z"
   },
   {
    "duration": 5,
    "start_time": "2023-03-06T19:45:01.787Z"
   },
   {
    "duration": 37,
    "start_time": "2023-03-06T19:45:01.795Z"
   },
   {
    "duration": 25,
    "start_time": "2023-03-06T19:45:01.834Z"
   },
   {
    "duration": 10,
    "start_time": "2023-03-06T19:45:01.861Z"
   },
   {
    "duration": 41,
    "start_time": "2023-03-06T19:45:01.873Z"
   },
   {
    "duration": 4,
    "start_time": "2023-03-06T19:45:01.916Z"
   },
   {
    "duration": 15,
    "start_time": "2023-03-06T19:45:01.922Z"
   },
   {
    "duration": 25,
    "start_time": "2023-03-06T19:45:01.938Z"
   },
   {
    "duration": 10,
    "start_time": "2023-03-06T19:45:01.965Z"
   },
   {
    "duration": 19,
    "start_time": "2023-03-06T19:45:01.977Z"
   },
   {
    "duration": 26,
    "start_time": "2023-03-06T19:45:01.998Z"
   },
   {
    "duration": 7,
    "start_time": "2023-03-06T19:45:02.035Z"
   },
   {
    "duration": 10,
    "start_time": "2023-03-06T19:45:02.043Z"
   },
   {
    "duration": 17,
    "start_time": "2023-03-06T19:45:02.055Z"
   },
   {
    "duration": 51,
    "start_time": "2023-03-06T19:45:02.073Z"
   },
   {
    "duration": 11,
    "start_time": "2023-03-06T19:45:02.126Z"
   },
   {
    "duration": 23,
    "start_time": "2023-03-06T19:45:02.139Z"
   },
   {
    "duration": 20,
    "start_time": "2023-03-06T19:45:02.164Z"
   },
   {
    "duration": 32,
    "start_time": "2023-03-06T19:45:02.186Z"
   },
   {
    "duration": 21,
    "start_time": "2023-03-06T19:45:02.221Z"
   },
   {
    "duration": 333,
    "start_time": "2023-03-06T19:45:02.244Z"
   },
   {
    "duration": 23,
    "start_time": "2023-03-06T20:05:36.239Z"
   },
   {
    "duration": 1226,
    "start_time": "2023-03-06T20:09:23.733Z"
   },
   {
    "duration": 1178,
    "start_time": "2023-03-06T20:09:43.430Z"
   },
   {
    "duration": 13,
    "start_time": "2023-03-06T20:11:35.611Z"
   },
   {
    "duration": 9,
    "start_time": "2023-03-06T20:12:32.005Z"
   },
   {
    "duration": 42,
    "start_time": "2023-03-06T20:12:39.272Z"
   },
   {
    "duration": 421,
    "start_time": "2023-03-06T20:13:09.621Z"
   },
   {
    "duration": 1092,
    "start_time": "2023-03-06T20:13:10.045Z"
   },
   {
    "duration": 21,
    "start_time": "2023-03-06T20:13:11.140Z"
   },
   {
    "duration": 14,
    "start_time": "2023-03-06T20:13:11.162Z"
   },
   {
    "duration": 16,
    "start_time": "2023-03-06T20:13:11.178Z"
   },
   {
    "duration": 12,
    "start_time": "2023-03-06T20:13:11.197Z"
   },
   {
    "duration": 48,
    "start_time": "2023-03-06T20:13:11.231Z"
   },
   {
    "duration": 8,
    "start_time": "2023-03-06T20:13:11.280Z"
   },
   {
    "duration": 5,
    "start_time": "2023-03-06T20:13:11.290Z"
   },
   {
    "duration": 9,
    "start_time": "2023-03-06T20:13:11.297Z"
   },
   {
    "duration": 24,
    "start_time": "2023-03-06T20:13:11.307Z"
   },
   {
    "duration": 10,
    "start_time": "2023-03-06T20:13:11.332Z"
   },
   {
    "duration": 33,
    "start_time": "2023-03-06T20:13:11.344Z"
   },
   {
    "duration": 4,
    "start_time": "2023-03-06T20:13:11.379Z"
   },
   {
    "duration": 15,
    "start_time": "2023-03-06T20:13:11.384Z"
   },
   {
    "duration": 10,
    "start_time": "2023-03-06T20:13:11.400Z"
   },
   {
    "duration": 22,
    "start_time": "2023-03-06T20:13:11.411Z"
   },
   {
    "duration": 4,
    "start_time": "2023-03-06T20:13:11.435Z"
   },
   {
    "duration": 30,
    "start_time": "2023-03-06T20:13:11.440Z"
   },
   {
    "duration": 4,
    "start_time": "2023-03-06T20:13:11.472Z"
   },
   {
    "duration": 5,
    "start_time": "2023-03-06T20:13:11.478Z"
   },
   {
    "duration": 3,
    "start_time": "2023-03-06T20:13:11.485Z"
   },
   {
    "duration": 14,
    "start_time": "2023-03-06T20:13:11.489Z"
   },
   {
    "duration": 7,
    "start_time": "2023-03-06T20:13:11.504Z"
   },
   {
    "duration": 20,
    "start_time": "2023-03-06T20:13:11.512Z"
   },
   {
    "duration": 10,
    "start_time": "2023-03-06T20:13:11.534Z"
   },
   {
    "duration": 16,
    "start_time": "2023-03-06T20:13:11.546Z"
   },
   {
    "duration": 20,
    "start_time": "2023-03-06T20:13:11.564Z"
   },
   {
    "duration": 321,
    "start_time": "2023-03-06T20:13:11.585Z"
   },
   {
    "duration": 49,
    "start_time": "2023-03-06T20:13:11.908Z"
   },
   {
    "duration": 16,
    "start_time": "2023-03-06T20:13:25.008Z"
   },
   {
    "duration": 4,
    "start_time": "2023-03-06T20:13:44.704Z"
   },
   {
    "duration": 7,
    "start_time": "2023-03-06T20:13:53.342Z"
   },
   {
    "duration": 5,
    "start_time": "2023-03-06T20:14:07.736Z"
   },
   {
    "duration": 18,
    "start_time": "2023-03-06T20:14:19.319Z"
   },
   {
    "duration": 6,
    "start_time": "2023-03-06T20:58:35.533Z"
   },
   {
    "duration": 5,
    "start_time": "2023-03-06T21:02:31.244Z"
   },
   {
    "duration": 85,
    "start_time": "2023-03-06T21:06:18.772Z"
   },
   {
    "duration": 5,
    "start_time": "2023-03-06T21:06:27.762Z"
   },
   {
    "duration": 26,
    "start_time": "2023-03-06T21:07:25.319Z"
   },
   {
    "duration": 4,
    "start_time": "2023-03-06T21:10:16.150Z"
   },
   {
    "duration": 22,
    "start_time": "2023-03-06T21:10:17.455Z"
   },
   {
    "duration": 4,
    "start_time": "2023-03-06T21:10:36.421Z"
   },
   {
    "duration": 23,
    "start_time": "2023-03-06T21:10:37.921Z"
   },
   {
    "duration": 4,
    "start_time": "2023-03-06T21:10:54.111Z"
   },
   {
    "duration": 24,
    "start_time": "2023-03-06T21:10:56.021Z"
   },
   {
    "duration": 6,
    "start_time": "2023-03-06T21:11:53.720Z"
   },
   {
    "duration": 15,
    "start_time": "2023-03-06T21:11:55.006Z"
   },
   {
    "duration": 5,
    "start_time": "2023-03-06T21:16:53.543Z"
   },
   {
    "duration": 17,
    "start_time": "2023-03-06T21:16:54.254Z"
   },
   {
    "duration": 4,
    "start_time": "2023-03-06T21:17:01.606Z"
   },
   {
    "duration": 22,
    "start_time": "2023-03-06T21:17:02.130Z"
   },
   {
    "duration": 88,
    "start_time": "2023-03-06T21:17:17.465Z"
   },
   {
    "duration": 4,
    "start_time": "2023-03-06T21:17:30.018Z"
   },
   {
    "duration": 5,
    "start_time": "2023-03-06T21:17:53.542Z"
   },
   {
    "duration": 22,
    "start_time": "2023-03-06T21:17:54.666Z"
   },
   {
    "duration": 6,
    "start_time": "2023-03-06T21:19:07.847Z"
   },
   {
    "duration": 16,
    "start_time": "2023-03-06T21:19:08.632Z"
   },
   {
    "duration": 5,
    "start_time": "2023-03-06T21:19:15.455Z"
   },
   {
    "duration": 27,
    "start_time": "2023-03-06T21:19:16.636Z"
   },
   {
    "duration": 6,
    "start_time": "2023-03-06T21:19:43.023Z"
   },
   {
    "duration": 17,
    "start_time": "2023-03-06T21:19:44.118Z"
   },
   {
    "duration": 4,
    "start_time": "2023-03-06T21:23:16.957Z"
   },
   {
    "duration": 21,
    "start_time": "2023-03-06T21:23:17.346Z"
   },
   {
    "duration": 4,
    "start_time": "2023-03-06T21:23:40.672Z"
   },
   {
    "duration": 20,
    "start_time": "2023-03-06T21:23:41.955Z"
   },
   {
    "duration": 10,
    "start_time": "2023-03-06T21:23:55.231Z"
   },
   {
    "duration": 16,
    "start_time": "2023-03-06T21:23:56.106Z"
   },
   {
    "duration": 17,
    "start_time": "2023-03-06T21:24:56.604Z"
   },
   {
    "duration": 16,
    "start_time": "2023-03-06T21:25:46.507Z"
   },
   {
    "duration": 15,
    "start_time": "2023-03-06T21:26:17.560Z"
   },
   {
    "duration": 16,
    "start_time": "2023-03-06T21:26:33.945Z"
   },
   {
    "duration": 455,
    "start_time": "2023-03-07T07:03:20.358Z"
   },
   {
    "duration": 1205,
    "start_time": "2023-03-07T07:03:20.816Z"
   },
   {
    "duration": 28,
    "start_time": "2023-03-07T07:03:22.023Z"
   },
   {
    "duration": 14,
    "start_time": "2023-03-07T07:03:22.054Z"
   },
   {
    "duration": 16,
    "start_time": "2023-03-07T07:03:22.076Z"
   },
   {
    "duration": 20,
    "start_time": "2023-03-07T07:03:22.095Z"
   },
   {
    "duration": 87,
    "start_time": "2023-03-07T07:03:22.118Z"
   },
   {
    "duration": 10,
    "start_time": "2023-03-07T07:03:22.207Z"
   },
   {
    "duration": 4,
    "start_time": "2023-03-07T07:03:22.219Z"
   },
   {
    "duration": 8,
    "start_time": "2023-03-07T07:03:22.227Z"
   },
   {
    "duration": 18,
    "start_time": "2023-03-07T07:03:22.237Z"
   },
   {
    "duration": 24,
    "start_time": "2023-03-07T07:03:22.257Z"
   },
   {
    "duration": 35,
    "start_time": "2023-03-07T07:03:22.284Z"
   },
   {
    "duration": 7,
    "start_time": "2023-03-07T07:03:22.321Z"
   },
   {
    "duration": 21,
    "start_time": "2023-03-07T07:03:22.330Z"
   },
   {
    "duration": 43,
    "start_time": "2023-03-07T07:03:22.353Z"
   },
   {
    "duration": 19,
    "start_time": "2023-03-07T07:03:22.398Z"
   },
   {
    "duration": 46,
    "start_time": "2023-03-07T07:03:22.419Z"
   },
   {
    "duration": 68,
    "start_time": "2023-03-07T07:03:22.467Z"
   },
   {
    "duration": 17,
    "start_time": "2023-03-07T07:03:22.540Z"
   },
   {
    "duration": 43,
    "start_time": "2023-03-07T07:03:22.560Z"
   },
   {
    "duration": 14,
    "start_time": "2023-03-07T07:03:22.605Z"
   },
   {
    "duration": 30,
    "start_time": "2023-03-07T07:03:22.621Z"
   },
   {
    "duration": 11,
    "start_time": "2023-03-07T07:03:22.653Z"
   },
   {
    "duration": 18,
    "start_time": "2023-03-07T07:03:22.667Z"
   },
   {
    "duration": 28,
    "start_time": "2023-03-07T07:03:22.687Z"
   },
   {
    "duration": 37,
    "start_time": "2023-03-07T07:03:22.717Z"
   },
   {
    "duration": 65,
    "start_time": "2023-03-07T07:03:22.758Z"
   },
   {
    "duration": 652,
    "start_time": "2023-03-07T07:03:22.825Z"
   },
   {
    "duration": 6,
    "start_time": "2023-03-07T07:03:23.479Z"
   },
   {
    "duration": 42,
    "start_time": "2023-03-07T07:03:23.488Z"
   },
   {
    "duration": 21,
    "start_time": "2023-03-07T07:03:23.533Z"
   },
   {
    "duration": 34,
    "start_time": "2023-03-07T07:03:23.556Z"
   },
   {
    "duration": 17,
    "start_time": "2023-03-07T07:03:23.592Z"
   },
   {
    "duration": 144,
    "start_time": "2023-03-07T07:03:23.611Z"
   },
   {
    "duration": 79,
    "start_time": "2023-03-07T07:11:42.312Z"
   },
   {
    "duration": 74,
    "start_time": "2023-03-07T07:32:36.072Z"
   },
   {
    "duration": 74,
    "start_time": "2023-03-07T07:33:13.148Z"
   },
   {
    "duration": 552,
    "start_time": "2023-03-07T07:34:22.488Z"
   },
   {
    "duration": 5,
    "start_time": "2023-03-07T08:10:15.887Z"
   },
   {
    "duration": 18,
    "start_time": "2023-03-07T08:10:16.400Z"
   },
   {
    "duration": 1143,
    "start_time": "2023-03-07T08:10:22.793Z"
   },
   {
    "duration": 841,
    "start_time": "2023-03-07T08:10:23.938Z"
   },
   {
    "duration": 18,
    "start_time": "2023-03-07T08:10:24.781Z"
   },
   {
    "duration": 22,
    "start_time": "2023-03-07T08:10:24.801Z"
   },
   {
    "duration": 28,
    "start_time": "2023-03-07T08:10:24.824Z"
   },
   {
    "duration": 32,
    "start_time": "2023-03-07T08:10:24.854Z"
   },
   {
    "duration": 45,
    "start_time": "2023-03-07T08:10:24.888Z"
   },
   {
    "duration": 9,
    "start_time": "2023-03-07T08:10:24.935Z"
   },
   {
    "duration": 14,
    "start_time": "2023-03-07T08:10:24.946Z"
   },
   {
    "duration": 13,
    "start_time": "2023-03-07T08:10:24.964Z"
   },
   {
    "duration": 11,
    "start_time": "2023-03-07T08:10:24.979Z"
   },
   {
    "duration": 11,
    "start_time": "2023-03-07T08:10:24.992Z"
   },
   {
    "duration": 29,
    "start_time": "2023-03-07T08:10:25.005Z"
   },
   {
    "duration": 6,
    "start_time": "2023-03-07T08:10:25.036Z"
   },
   {
    "duration": 22,
    "start_time": "2023-03-07T08:10:25.044Z"
   },
   {
    "duration": 13,
    "start_time": "2023-03-07T08:10:25.077Z"
   },
   {
    "duration": 18,
    "start_time": "2023-03-07T08:10:25.092Z"
   },
   {
    "duration": 15,
    "start_time": "2023-03-07T08:10:25.112Z"
   },
   {
    "duration": 27,
    "start_time": "2023-03-07T08:10:25.129Z"
   },
   {
    "duration": 21,
    "start_time": "2023-03-07T08:10:25.158Z"
   },
   {
    "duration": 20,
    "start_time": "2023-03-07T08:10:25.180Z"
   },
   {
    "duration": 33,
    "start_time": "2023-03-07T08:10:25.202Z"
   },
   {
    "duration": 28,
    "start_time": "2023-03-07T08:10:25.237Z"
   },
   {
    "duration": 21,
    "start_time": "2023-03-07T08:10:25.267Z"
   },
   {
    "duration": 22,
    "start_time": "2023-03-07T08:10:25.289Z"
   },
   {
    "duration": 28,
    "start_time": "2023-03-07T08:10:25.313Z"
   },
   {
    "duration": 35,
    "start_time": "2023-03-07T08:10:25.343Z"
   },
   {
    "duration": 34,
    "start_time": "2023-03-07T08:10:25.381Z"
   },
   {
    "duration": 90,
    "start_time": "2023-03-07T08:10:25.417Z"
   },
   {
    "duration": 4,
    "start_time": "2023-03-07T08:10:25.509Z"
   },
   {
    "duration": 50,
    "start_time": "2023-03-07T08:10:25.515Z"
   },
   {
    "duration": 16,
    "start_time": "2023-03-07T08:10:25.567Z"
   },
   {
    "duration": 38,
    "start_time": "2023-03-07T08:10:25.585Z"
   },
   {
    "duration": 17,
    "start_time": "2023-03-07T08:10:25.625Z"
   },
   {
    "duration": 27,
    "start_time": "2023-03-07T08:10:25.644Z"
   },
   {
    "duration": 4,
    "start_time": "2023-03-07T08:10:47.297Z"
   },
   {
    "duration": 16,
    "start_time": "2023-03-07T08:10:48.242Z"
   },
   {
    "duration": 6,
    "start_time": "2023-03-07T09:13:41.444Z"
   },
   {
    "duration": 27,
    "start_time": "2023-03-07T09:13:41.903Z"
   },
   {
    "duration": 21,
    "start_time": "2023-03-07T09:13:42.998Z"
   },
   {
    "duration": 24,
    "start_time": "2023-03-07T09:13:43.707Z"
   },
   {
    "duration": 24,
    "start_time": "2023-03-07T09:13:44.496Z"
   },
   {
    "duration": 27,
    "start_time": "2023-03-07T09:13:45.049Z"
   },
   {
    "duration": 5,
    "start_time": "2023-03-07T09:13:51.414Z"
   },
   {
    "duration": 23,
    "start_time": "2023-03-07T09:13:51.916Z"
   },
   {
    "duration": 25,
    "start_time": "2023-03-07T09:13:52.514Z"
   },
   {
    "duration": 18,
    "start_time": "2023-03-07T09:13:52.955Z"
   },
   {
    "duration": 24,
    "start_time": "2023-03-07T09:13:53.594Z"
   },
   {
    "duration": 23,
    "start_time": "2023-03-07T09:13:54.024Z"
   },
   {
    "duration": 1364,
    "start_time": "2023-03-07T09:15:27.238Z"
   },
   {
    "duration": 1367,
    "start_time": "2023-03-07T09:15:28.605Z"
   },
   {
    "duration": 20,
    "start_time": "2023-03-07T09:15:29.974Z"
   },
   {
    "duration": 14,
    "start_time": "2023-03-07T09:15:29.996Z"
   },
   {
    "duration": 23,
    "start_time": "2023-03-07T09:15:30.013Z"
   },
   {
    "duration": 40,
    "start_time": "2023-03-07T09:15:30.038Z"
   },
   {
    "duration": 50,
    "start_time": "2023-03-07T09:15:30.080Z"
   },
   {
    "duration": 10,
    "start_time": "2023-03-07T09:15:30.132Z"
   },
   {
    "duration": 5,
    "start_time": "2023-03-07T09:15:30.144Z"
   },
   {
    "duration": 5,
    "start_time": "2023-03-07T09:15:30.177Z"
   },
   {
    "duration": 18,
    "start_time": "2023-03-07T09:15:30.184Z"
   },
   {
    "duration": 8,
    "start_time": "2023-03-07T09:15:30.204Z"
   },
   {
    "duration": 45,
    "start_time": "2023-03-07T09:15:30.214Z"
   },
   {
    "duration": 8,
    "start_time": "2023-03-07T09:15:30.264Z"
   },
   {
    "duration": 44,
    "start_time": "2023-03-07T09:15:30.275Z"
   },
   {
    "duration": 42,
    "start_time": "2023-03-07T09:15:30.322Z"
   },
   {
    "duration": 19,
    "start_time": "2023-03-07T09:15:30.367Z"
   },
   {
    "duration": 40,
    "start_time": "2023-03-07T09:15:30.388Z"
   },
   {
    "duration": 29,
    "start_time": "2023-03-07T09:15:30.430Z"
   },
   {
    "duration": 29,
    "start_time": "2023-03-07T09:15:30.461Z"
   },
   {
    "duration": 38,
    "start_time": "2023-03-07T09:15:30.492Z"
   },
   {
    "duration": 31,
    "start_time": "2023-03-07T09:15:30.532Z"
   },
   {
    "duration": 25,
    "start_time": "2023-03-07T09:15:30.565Z"
   },
   {
    "duration": 29,
    "start_time": "2023-03-07T09:15:30.592Z"
   },
   {
    "duration": 34,
    "start_time": "2023-03-07T09:15:30.623Z"
   },
   {
    "duration": 48,
    "start_time": "2023-03-07T09:15:30.659Z"
   },
   {
    "duration": 50,
    "start_time": "2023-03-07T09:15:30.710Z"
   },
   {
    "duration": 55,
    "start_time": "2023-03-07T09:15:30.762Z"
   },
   {
    "duration": 118,
    "start_time": "2023-03-07T09:15:30.819Z"
   },
   {
    "duration": 5,
    "start_time": "2023-03-07T09:15:30.939Z"
   },
   {
    "duration": 44,
    "start_time": "2023-03-07T09:15:30.946Z"
   },
   {
    "duration": 21,
    "start_time": "2023-03-07T09:15:30.993Z"
   },
   {
    "duration": 31,
    "start_time": "2023-03-07T09:15:31.016Z"
   },
   {
    "duration": 33,
    "start_time": "2023-03-07T09:15:31.049Z"
   },
   {
    "duration": 29,
    "start_time": "2023-03-07T09:15:31.084Z"
   },
   {
    "duration": 144,
    "start_time": "2023-03-07T10:44:11.299Z"
   },
   {
    "duration": 1338,
    "start_time": "2023-03-07T10:45:06.883Z"
   },
   {
    "duration": 1383,
    "start_time": "2023-03-07T10:47:43.666Z"
   },
   {
    "duration": 1446,
    "start_time": "2023-03-07T10:48:00.658Z"
   },
   {
    "duration": 1699,
    "start_time": "2023-03-07T10:48:39.518Z"
   },
   {
    "duration": 246,
    "start_time": "2023-03-07T10:49:34.349Z"
   },
   {
    "duration": 157,
    "start_time": "2023-03-07T10:49:44.985Z"
   },
   {
    "duration": 183,
    "start_time": "2023-03-07T10:49:52.552Z"
   },
   {
    "duration": 137,
    "start_time": "2023-03-07T10:49:59.963Z"
   },
   {
    "duration": 191,
    "start_time": "2023-03-07T10:50:59.484Z"
   },
   {
    "duration": 480,
    "start_time": "2023-03-07T10:51:12.383Z"
   },
   {
    "duration": 219,
    "start_time": "2023-03-07T10:51:21.138Z"
   },
   {
    "duration": 157,
    "start_time": "2023-03-07T10:51:39.579Z"
   },
   {
    "duration": 132,
    "start_time": "2023-03-07T10:51:47.840Z"
   },
   {
    "duration": 150,
    "start_time": "2023-03-07T10:51:55.558Z"
   },
   {
    "duration": 147,
    "start_time": "2023-03-07T10:52:04.800Z"
   },
   {
    "duration": 194,
    "start_time": "2023-03-07T10:52:13.311Z"
   },
   {
    "duration": 1215,
    "start_time": "2023-03-07T10:55:59.749Z"
   },
   {
    "duration": 1012,
    "start_time": "2023-03-07T10:56:00.966Z"
   },
   {
    "duration": 17,
    "start_time": "2023-03-07T10:56:01.980Z"
   },
   {
    "duration": 38,
    "start_time": "2023-03-07T10:56:02.000Z"
   },
   {
    "duration": 21,
    "start_time": "2023-03-07T10:56:02.041Z"
   },
   {
    "duration": 48,
    "start_time": "2023-03-07T10:56:02.064Z"
   },
   {
    "duration": 47,
    "start_time": "2023-03-07T10:56:02.114Z"
   },
   {
    "duration": 11,
    "start_time": "2023-03-07T10:56:02.163Z"
   },
   {
    "duration": 24,
    "start_time": "2023-03-07T10:56:02.176Z"
   },
   {
    "duration": 38,
    "start_time": "2023-03-07T10:56:02.203Z"
   },
   {
    "duration": 22,
    "start_time": "2023-03-07T10:56:02.242Z"
   },
   {
    "duration": 31,
    "start_time": "2023-03-07T10:56:02.266Z"
   },
   {
    "duration": 33,
    "start_time": "2023-03-07T10:56:02.299Z"
   },
   {
    "duration": 11,
    "start_time": "2023-03-07T10:56:02.334Z"
   },
   {
    "duration": 26,
    "start_time": "2023-03-07T10:56:02.347Z"
   },
   {
    "duration": 38,
    "start_time": "2023-03-07T10:56:02.375Z"
   },
   {
    "duration": 28,
    "start_time": "2023-03-07T10:56:02.414Z"
   },
   {
    "duration": 15,
    "start_time": "2023-03-07T10:56:02.444Z"
   },
   {
    "duration": 30,
    "start_time": "2023-03-07T10:56:02.461Z"
   },
   {
    "duration": 18,
    "start_time": "2023-03-07T10:56:02.493Z"
   },
   {
    "duration": 23,
    "start_time": "2023-03-07T10:56:02.513Z"
   },
   {
    "duration": 23,
    "start_time": "2023-03-07T10:56:02.539Z"
   },
   {
    "duration": 24,
    "start_time": "2023-03-07T10:56:02.564Z"
   },
   {
    "duration": 22,
    "start_time": "2023-03-07T10:56:02.591Z"
   },
   {
    "duration": 51,
    "start_time": "2023-03-07T10:56:02.616Z"
   },
   {
    "duration": 47,
    "start_time": "2023-03-07T10:56:02.669Z"
   },
   {
    "duration": 109,
    "start_time": "2023-03-07T10:56:02.717Z"
   },
   {
    "duration": 1428,
    "start_time": "2023-03-07T10:56:02.830Z"
   },
   {
    "duration": 181,
    "start_time": "2023-03-07T10:56:04.260Z"
   },
   {
    "duration": 4,
    "start_time": "2023-03-07T10:56:04.443Z"
   },
   {
    "duration": 23,
    "start_time": "2023-03-07T10:56:04.449Z"
   },
   {
    "duration": 38,
    "start_time": "2023-03-07T10:56:04.474Z"
   },
   {
    "duration": 52,
    "start_time": "2023-03-07T10:56:04.513Z"
   },
   {
    "duration": 28,
    "start_time": "2023-03-07T10:56:04.567Z"
   },
   {
    "duration": 32,
    "start_time": "2023-03-07T10:56:04.597Z"
   },
   {
    "duration": 24,
    "start_time": "2023-03-07T10:56:04.631Z"
   },
   {
    "duration": 20,
    "start_time": "2023-03-07T10:56:04.657Z"
   },
   {
    "duration": 109,
    "start_time": "2023-03-07T10:56:53.019Z"
   },
   {
    "duration": 73,
    "start_time": "2023-03-07T10:56:56.019Z"
   },
   {
    "duration": 81,
    "start_time": "2023-03-07T10:57:18.219Z"
   },
   {
    "duration": 4,
    "start_time": "2023-03-07T10:57:59.123Z"
   },
   {
    "duration": 5,
    "start_time": "2023-03-07T10:58:00.242Z"
   },
   {
    "duration": 4,
    "start_time": "2023-03-07T11:12:11.872Z"
   },
   {
    "duration": 7,
    "start_time": "2023-03-07T11:12:12.443Z"
   },
   {
    "duration": 4,
    "start_time": "2023-03-07T11:12:19.260Z"
   },
   {
    "duration": 4,
    "start_time": "2023-03-07T11:12:19.723Z"
   },
   {
    "duration": 10,
    "start_time": "2023-03-07T11:12:20.223Z"
   },
   {
    "duration": 5,
    "start_time": "2023-03-07T11:12:55.563Z"
   },
   {
    "duration": 4,
    "start_time": "2023-03-07T11:13:00.235Z"
   },
   {
    "duration": 12,
    "start_time": "2023-03-07T11:13:00.939Z"
   },
   {
    "duration": 25,
    "start_time": "2023-03-07T11:13:12.425Z"
   },
   {
    "duration": 16,
    "start_time": "2023-03-07T11:13:13.127Z"
   },
   {
    "duration": 17,
    "start_time": "2023-03-07T11:13:14.125Z"
   },
   {
    "duration": 18,
    "start_time": "2023-03-07T11:13:14.763Z"
   },
   {
    "duration": 15,
    "start_time": "2023-03-07T11:13:15.884Z"
   },
   {
    "duration": 248,
    "start_time": "2023-03-07T11:30:53.311Z"
   },
   {
    "duration": 249,
    "start_time": "2023-03-07T11:31:06.428Z"
   },
   {
    "duration": 192,
    "start_time": "2023-03-07T11:31:21.941Z"
   },
   {
    "duration": 194,
    "start_time": "2023-03-07T11:31:33.611Z"
   },
   {
    "duration": 199,
    "start_time": "2023-03-07T13:22:40.504Z"
   },
   {
    "duration": 4,
    "start_time": "2023-03-07T13:24:48.823Z"
   },
   {
    "duration": 4,
    "start_time": "2023-03-07T13:39:31.307Z"
   },
   {
    "duration": 7,
    "start_time": "2023-03-07T13:39:32.280Z"
   },
   {
    "duration": 5,
    "start_time": "2023-03-07T13:39:33.082Z"
   },
   {
    "duration": 1262,
    "start_time": "2023-03-07T13:39:38.179Z"
   },
   {
    "duration": 944,
    "start_time": "2023-03-07T13:39:39.444Z"
   },
   {
    "duration": 20,
    "start_time": "2023-03-07T13:39:40.390Z"
   },
   {
    "duration": 21,
    "start_time": "2023-03-07T13:39:40.412Z"
   },
   {
    "duration": 15,
    "start_time": "2023-03-07T13:39:40.437Z"
   },
   {
    "duration": 34,
    "start_time": "2023-03-07T13:39:40.454Z"
   },
   {
    "duration": 45,
    "start_time": "2023-03-07T13:39:40.490Z"
   },
   {
    "duration": 8,
    "start_time": "2023-03-07T13:39:40.537Z"
   },
   {
    "duration": 7,
    "start_time": "2023-03-07T13:39:40.547Z"
   },
   {
    "duration": 23,
    "start_time": "2023-03-07T13:39:40.555Z"
   },
   {
    "duration": 6,
    "start_time": "2023-03-07T13:39:40.580Z"
   },
   {
    "duration": 8,
    "start_time": "2023-03-07T13:39:40.588Z"
   },
   {
    "duration": 23,
    "start_time": "2023-03-07T13:39:40.598Z"
   },
   {
    "duration": 6,
    "start_time": "2023-03-07T13:39:40.623Z"
   },
   {
    "duration": 53,
    "start_time": "2023-03-07T13:39:40.631Z"
   },
   {
    "duration": 16,
    "start_time": "2023-03-07T13:39:40.685Z"
   },
   {
    "duration": 7,
    "start_time": "2023-03-07T13:39:40.703Z"
   },
   {
    "duration": 9,
    "start_time": "2023-03-07T13:39:40.712Z"
   },
   {
    "duration": 24,
    "start_time": "2023-03-07T13:39:40.723Z"
   },
   {
    "duration": 31,
    "start_time": "2023-03-07T13:39:40.750Z"
   },
   {
    "duration": 14,
    "start_time": "2023-03-07T13:39:40.784Z"
   },
   {
    "duration": 5,
    "start_time": "2023-03-07T13:39:40.800Z"
   },
   {
    "duration": 15,
    "start_time": "2023-03-07T13:39:40.806Z"
   },
   {
    "duration": 5,
    "start_time": "2023-03-07T13:39:40.823Z"
   },
   {
    "duration": 22,
    "start_time": "2023-03-07T13:39:40.830Z"
   },
   {
    "duration": 61,
    "start_time": "2023-03-07T13:39:40.854Z"
   },
   {
    "duration": 118,
    "start_time": "2023-03-07T13:39:40.916Z"
   },
   {
    "duration": 1603,
    "start_time": "2023-03-07T13:39:41.035Z"
   },
   {
    "duration": 242,
    "start_time": "2023-03-07T13:39:42.640Z"
   },
   {
    "duration": 224,
    "start_time": "2023-03-07T13:39:42.884Z"
   },
   {
    "duration": 4,
    "start_time": "2023-03-07T13:39:43.110Z"
   },
   {
    "duration": 17,
    "start_time": "2023-03-07T13:39:43.115Z"
   },
   {
    "duration": 14,
    "start_time": "2023-03-07T13:39:43.134Z"
   },
   {
    "duration": 28,
    "start_time": "2023-03-07T13:39:43.150Z"
   },
   {
    "duration": 115,
    "start_time": "2023-03-07T13:39:43.180Z"
   },
   {
    "duration": 26,
    "start_time": "2023-03-07T13:39:43.297Z"
   },
   {
    "duration": 18,
    "start_time": "2023-03-07T13:39:43.324Z"
   },
   {
    "duration": 44,
    "start_time": "2023-03-07T13:39:43.343Z"
   },
   {
    "duration": 17,
    "start_time": "2023-03-07T13:43:00.733Z"
   },
   {
    "duration": 34,
    "start_time": "2023-03-07T13:43:15.695Z"
   },
   {
    "duration": 110,
    "start_time": "2023-03-07T13:44:26.392Z"
   },
   {
    "duration": 24,
    "start_time": "2023-03-07T13:44:35.544Z"
   },
   {
    "duration": 52,
    "start_time": "2023-03-07T13:44:48.945Z"
   },
   {
    "duration": 5,
    "start_time": "2023-03-07T13:49:55.346Z"
   },
   {
    "duration": 6,
    "start_time": "2023-03-07T13:50:41.406Z"
   },
   {
    "duration": 6,
    "start_time": "2023-03-07T13:50:41.979Z"
   },
   {
    "duration": 1272,
    "start_time": "2023-03-07T13:51:23.276Z"
   },
   {
    "duration": 1089,
    "start_time": "2023-03-07T13:51:24.550Z"
   },
   {
    "duration": 16,
    "start_time": "2023-03-07T13:51:25.641Z"
   },
   {
    "duration": 24,
    "start_time": "2023-03-07T13:51:25.659Z"
   },
   {
    "duration": 6,
    "start_time": "2023-03-07T13:51:25.686Z"
   },
   {
    "duration": 8,
    "start_time": "2023-03-07T13:51:25.694Z"
   },
   {
    "duration": 9,
    "start_time": "2023-03-07T13:51:25.704Z"
   },
   {
    "duration": 14,
    "start_time": "2023-03-07T13:51:25.715Z"
   },
   {
    "duration": 20,
    "start_time": "2023-03-07T13:51:25.731Z"
   },
   {
    "duration": 52,
    "start_time": "2023-03-07T13:51:25.754Z"
   },
   {
    "duration": 10,
    "start_time": "2023-03-07T13:51:25.808Z"
   },
   {
    "duration": 20,
    "start_time": "2023-03-07T13:51:25.820Z"
   },
   {
    "duration": 14,
    "start_time": "2023-03-07T13:51:25.842Z"
   },
   {
    "duration": 22,
    "start_time": "2023-03-07T13:51:25.876Z"
   },
   {
    "duration": 12,
    "start_time": "2023-03-07T13:51:25.899Z"
   },
   {
    "duration": 13,
    "start_time": "2023-03-07T13:51:25.913Z"
   },
   {
    "duration": 5,
    "start_time": "2023-03-07T13:51:25.927Z"
   },
   {
    "duration": 16,
    "start_time": "2023-03-07T13:51:25.933Z"
   },
   {
    "duration": 19,
    "start_time": "2023-03-07T13:51:25.950Z"
   },
   {
    "duration": 6,
    "start_time": "2023-03-07T13:51:25.977Z"
   },
   {
    "duration": 49,
    "start_time": "2023-03-07T13:51:25.985Z"
   },
   {
    "duration": 21,
    "start_time": "2023-03-07T13:51:26.036Z"
   },
   {
    "duration": 17,
    "start_time": "2023-03-07T13:51:26.058Z"
   },
   {
    "duration": 33,
    "start_time": "2023-03-07T13:51:26.080Z"
   },
   {
    "duration": 35,
    "start_time": "2023-03-07T13:51:26.115Z"
   },
   {
    "duration": 87,
    "start_time": "2023-03-07T13:51:26.151Z"
   },
   {
    "duration": 1470,
    "start_time": "2023-03-07T13:51:26.239Z"
   },
   {
    "duration": 143,
    "start_time": "2023-03-07T13:51:27.711Z"
   },
   {
    "duration": 208,
    "start_time": "2023-03-07T13:51:27.856Z"
   },
   {
    "duration": 3,
    "start_time": "2023-03-07T13:51:28.066Z"
   },
   {
    "duration": 27,
    "start_time": "2023-03-07T13:51:28.071Z"
   },
   {
    "duration": 11,
    "start_time": "2023-03-07T13:51:28.100Z"
   },
   {
    "duration": 25,
    "start_time": "2023-03-07T13:51:28.113Z"
   },
   {
    "duration": 108,
    "start_time": "2023-03-07T13:51:28.139Z"
   },
   {
    "duration": 14,
    "start_time": "2023-03-07T13:51:28.249Z"
   },
   {
    "duration": 32,
    "start_time": "2023-03-07T13:51:28.264Z"
   },
   {
    "duration": 13,
    "start_time": "2023-03-07T13:51:28.298Z"
   },
   {
    "duration": 3,
    "start_time": "2023-03-07T14:20:58.603Z"
   },
   {
    "duration": 3,
    "start_time": "2023-03-07T14:21:07.906Z"
   },
   {
    "duration": 7,
    "start_time": "2023-03-07T14:21:29.907Z"
   },
   {
    "duration": 3,
    "start_time": "2023-03-07T14:22:03.948Z"
   },
   {
    "duration": 4,
    "start_time": "2023-03-07T14:22:04.786Z"
   },
   {
    "duration": 40,
    "start_time": "2023-03-07T14:22:31.099Z"
   },
   {
    "duration": 1637,
    "start_time": "2023-03-09T06:34:41.435Z"
   },
   {
    "duration": 1318,
    "start_time": "2023-03-09T06:34:43.076Z"
   },
   {
    "duration": 26,
    "start_time": "2023-03-09T06:34:44.396Z"
   },
   {
    "duration": 21,
    "start_time": "2023-03-09T06:34:44.425Z"
   },
   {
    "duration": 9,
    "start_time": "2023-03-09T06:34:44.449Z"
   },
   {
    "duration": 10,
    "start_time": "2023-03-09T06:34:44.460Z"
   },
   {
    "duration": 17,
    "start_time": "2023-03-09T06:34:44.472Z"
   },
   {
    "duration": 58,
    "start_time": "2023-03-09T06:34:44.491Z"
   },
   {
    "duration": 29,
    "start_time": "2023-03-09T06:34:44.551Z"
   },
   {
    "duration": 42,
    "start_time": "2023-03-09T06:34:44.584Z"
   },
   {
    "duration": 9,
    "start_time": "2023-03-09T06:34:44.628Z"
   },
   {
    "duration": 88,
    "start_time": "2023-03-09T06:34:44.639Z"
   },
   {
    "duration": 55,
    "start_time": "2023-03-09T06:34:44.729Z"
   },
   {
    "duration": 83,
    "start_time": "2023-03-09T06:34:44.785Z"
   },
   {
    "duration": 32,
    "start_time": "2023-03-09T06:34:44.870Z"
   },
   {
    "duration": 75,
    "start_time": "2023-03-09T06:34:44.904Z"
   },
   {
    "duration": 25,
    "start_time": "2023-03-09T06:34:44.981Z"
   },
   {
    "duration": 129,
    "start_time": "2023-03-09T06:34:45.008Z"
   },
   {
    "duration": 47,
    "start_time": "2023-03-09T06:34:45.139Z"
   },
   {
    "duration": 43,
    "start_time": "2023-03-09T06:34:45.187Z"
   },
   {
    "duration": 49,
    "start_time": "2023-03-09T06:34:45.232Z"
   },
   {
    "duration": 99,
    "start_time": "2023-03-09T06:34:45.283Z"
   },
   {
    "duration": 1644,
    "start_time": "2023-03-09T06:34:45.384Z"
   },
   {
    "duration": 181,
    "start_time": "2023-03-09T06:34:47.031Z"
   },
   {
    "duration": 317,
    "start_time": "2023-03-09T06:34:47.214Z"
   },
   {
    "duration": 6,
    "start_time": "2023-03-09T06:34:47.536Z"
   },
   {
    "duration": 21,
    "start_time": "2023-03-09T06:34:47.545Z"
   },
   {
    "duration": 8,
    "start_time": "2023-03-09T06:34:47.572Z"
   },
   {
    "duration": 25,
    "start_time": "2023-03-09T06:34:47.585Z"
   },
   {
    "duration": 38,
    "start_time": "2023-03-09T06:34:47.613Z"
   },
   {
    "duration": 25,
    "start_time": "2023-03-09T06:34:47.655Z"
   },
   {
    "duration": 22,
    "start_time": "2023-03-09T06:34:47.682Z"
   },
   {
    "duration": 19,
    "start_time": "2023-03-09T06:34:47.707Z"
   },
   {
    "duration": 258,
    "start_time": "2023-03-09T07:17:05.438Z"
   },
   {
    "duration": 166,
    "start_time": "2023-03-09T07:17:24.772Z"
   },
   {
    "duration": 186,
    "start_time": "2023-03-09T07:17:38.486Z"
   },
   {
    "duration": 152,
    "start_time": "2023-03-09T07:17:55.569Z"
   },
   {
    "duration": 182,
    "start_time": "2023-03-09T07:18:24.073Z"
   },
   {
    "duration": 172,
    "start_time": "2023-03-09T07:18:43.527Z"
   },
   {
    "duration": 191,
    "start_time": "2023-03-09T07:18:46.170Z"
   },
   {
    "duration": 204,
    "start_time": "2023-03-09T07:18:55.180Z"
   },
   {
    "duration": 200,
    "start_time": "2023-03-09T07:19:02.074Z"
   },
   {
    "duration": 189,
    "start_time": "2023-03-09T07:19:14.119Z"
   },
   {
    "duration": 160,
    "start_time": "2023-03-09T07:19:29.266Z"
   },
   {
    "duration": 248,
    "start_time": "2023-03-09T07:19:54.975Z"
   },
   {
    "duration": 6,
    "start_time": "2023-03-09T07:22:51.464Z"
   },
   {
    "duration": 211,
    "start_time": "2023-03-09T07:23:13.642Z"
   },
   {
    "duration": 182,
    "start_time": "2023-03-09T07:24:22.822Z"
   },
   {
    "duration": 199,
    "start_time": "2023-03-09T07:24:31.034Z"
   },
   {
    "duration": 166,
    "start_time": "2023-03-09T07:24:40.459Z"
   },
   {
    "duration": 183,
    "start_time": "2023-03-09T07:24:44.389Z"
   },
   {
    "duration": 159,
    "start_time": "2023-03-09T07:24:53.914Z"
   },
   {
    "duration": 161,
    "start_time": "2023-03-09T07:24:58.833Z"
   },
   {
    "duration": 187,
    "start_time": "2023-03-09T07:25:08.481Z"
   },
   {
    "duration": 156,
    "start_time": "2023-03-09T07:25:16.353Z"
   },
   {
    "duration": 162,
    "start_time": "2023-03-09T07:25:24.645Z"
   },
   {
    "duration": 5,
    "start_time": "2023-03-09T09:00:57.470Z"
   },
   {
    "duration": 324,
    "start_time": "2023-03-09T09:06:12.377Z"
   },
   {
    "duration": 129,
    "start_time": "2023-03-09T09:06:32.921Z"
   },
   {
    "duration": 124,
    "start_time": "2023-03-09T09:06:46.892Z"
   },
   {
    "duration": 1194,
    "start_time": "2023-03-09T09:07:11.272Z"
   },
   {
    "duration": 986,
    "start_time": "2023-03-09T09:07:12.468Z"
   },
   {
    "duration": 18,
    "start_time": "2023-03-09T09:07:13.456Z"
   },
   {
    "duration": 14,
    "start_time": "2023-03-09T09:07:13.475Z"
   },
   {
    "duration": 5,
    "start_time": "2023-03-09T09:07:13.491Z"
   },
   {
    "duration": 11,
    "start_time": "2023-03-09T09:07:13.498Z"
   },
   {
    "duration": 32,
    "start_time": "2023-03-09T09:07:13.511Z"
   },
   {
    "duration": 32,
    "start_time": "2023-03-09T09:07:13.545Z"
   },
   {
    "duration": 12,
    "start_time": "2023-03-09T09:07:13.579Z"
   },
   {
    "duration": 14,
    "start_time": "2023-03-09T09:07:13.593Z"
   },
   {
    "duration": 23,
    "start_time": "2023-03-09T09:07:13.609Z"
   },
   {
    "duration": 11,
    "start_time": "2023-03-09T09:07:13.633Z"
   },
   {
    "duration": 21,
    "start_time": "2023-03-09T09:07:13.646Z"
   },
   {
    "duration": 139,
    "start_time": "2023-03-09T09:07:13.670Z"
   },
   {
    "duration": 7,
    "start_time": "2023-03-09T09:07:13.812Z"
   },
   {
    "duration": 23,
    "start_time": "2023-03-09T09:07:13.821Z"
   },
   {
    "duration": 4,
    "start_time": "2023-03-09T09:07:13.846Z"
   },
   {
    "duration": 14,
    "start_time": "2023-03-09T09:07:13.852Z"
   },
   {
    "duration": 41,
    "start_time": "2023-03-09T09:07:13.867Z"
   },
   {
    "duration": 3,
    "start_time": "2023-03-09T09:07:13.910Z"
   },
   {
    "duration": 172,
    "start_time": "2023-03-09T09:07:13.941Z"
   },
   {
    "duration": 180,
    "start_time": "2023-03-09T09:07:14.115Z"
   },
   {
    "duration": 17,
    "start_time": "2023-03-09T09:07:14.296Z"
   },
   {
    "duration": 43,
    "start_time": "2023-03-09T09:07:14.315Z"
   },
   {
    "duration": 100,
    "start_time": "2023-03-09T09:07:14.360Z"
   },
   {
    "duration": 1541,
    "start_time": "2023-03-09T09:07:14.462Z"
   },
   {
    "duration": 177,
    "start_time": "2023-03-09T09:07:16.006Z"
   },
   {
    "duration": 214,
    "start_time": "2023-03-09T09:07:16.185Z"
   },
   {
    "duration": 6,
    "start_time": "2023-03-09T09:07:16.400Z"
   },
   {
    "duration": 10,
    "start_time": "2023-03-09T09:07:16.408Z"
   },
   {
    "duration": 20,
    "start_time": "2023-03-09T09:07:16.421Z"
   },
   {
    "duration": 20,
    "start_time": "2023-03-09T09:07:16.443Z"
   },
   {
    "duration": 16,
    "start_time": "2023-03-09T09:07:16.465Z"
   },
   {
    "duration": 14,
    "start_time": "2023-03-09T09:07:16.483Z"
   },
   {
    "duration": 54,
    "start_time": "2023-03-09T09:07:16.499Z"
   },
   {
    "duration": 16,
    "start_time": "2023-03-09T09:07:16.555Z"
   },
   {
    "duration": 205,
    "start_time": "2023-03-09T09:07:36.574Z"
   },
   {
    "duration": 128,
    "start_time": "2023-03-09T09:07:43.032Z"
   },
   {
    "duration": 122,
    "start_time": "2023-03-09T09:07:46.883Z"
   },
   {
    "duration": 124,
    "start_time": "2023-03-09T09:07:50.455Z"
   },
   {
    "duration": 112,
    "start_time": "2023-03-09T09:07:54.675Z"
   },
   {
    "duration": 121,
    "start_time": "2023-03-09T09:08:05.539Z"
   },
   {
    "duration": 110,
    "start_time": "2023-03-09T09:08:09.106Z"
   },
   {
    "duration": 1167,
    "start_time": "2023-03-09T09:08:19.410Z"
   },
   {
    "duration": 880,
    "start_time": "2023-03-09T09:08:20.579Z"
   },
   {
    "duration": 17,
    "start_time": "2023-03-09T09:08:21.460Z"
   },
   {
    "duration": 24,
    "start_time": "2023-03-09T09:08:21.478Z"
   },
   {
    "duration": 28,
    "start_time": "2023-03-09T09:08:21.504Z"
   },
   {
    "duration": 15,
    "start_time": "2023-03-09T09:08:21.533Z"
   },
   {
    "duration": 18,
    "start_time": "2023-03-09T09:08:21.550Z"
   },
   {
    "duration": 31,
    "start_time": "2023-03-09T09:08:21.569Z"
   },
   {
    "duration": 32,
    "start_time": "2023-03-09T09:08:21.601Z"
   },
   {
    "duration": 20,
    "start_time": "2023-03-09T09:08:21.635Z"
   },
   {
    "duration": 48,
    "start_time": "2023-03-09T09:08:21.657Z"
   },
   {
    "duration": 16,
    "start_time": "2023-03-09T09:08:21.706Z"
   },
   {
    "duration": 24,
    "start_time": "2023-03-09T09:08:21.724Z"
   },
   {
    "duration": 137,
    "start_time": "2023-03-09T09:08:21.752Z"
   },
   {
    "duration": 6,
    "start_time": "2023-03-09T09:08:21.891Z"
   },
   {
    "duration": 13,
    "start_time": "2023-03-09T09:08:21.899Z"
   },
   {
    "duration": 8,
    "start_time": "2023-03-09T09:08:21.914Z"
   },
   {
    "duration": 25,
    "start_time": "2023-03-09T09:08:21.923Z"
   },
   {
    "duration": 39,
    "start_time": "2023-03-09T09:08:21.950Z"
   },
   {
    "duration": 3,
    "start_time": "2023-03-09T09:08:21.991Z"
   },
   {
    "duration": 199,
    "start_time": "2023-03-09T09:08:21.996Z"
   },
   {
    "duration": 179,
    "start_time": "2023-03-09T09:08:22.197Z"
   },
   {
    "duration": 14,
    "start_time": "2023-03-09T09:08:22.378Z"
   },
   {
    "duration": 27,
    "start_time": "2023-03-09T09:08:22.393Z"
   },
   {
    "duration": 92,
    "start_time": "2023-03-09T09:08:22.421Z"
   },
   {
    "duration": 1377,
    "start_time": "2023-03-09T09:08:22.515Z"
   },
   {
    "duration": 143,
    "start_time": "2023-03-09T09:08:23.893Z"
   },
   {
    "duration": 196,
    "start_time": "2023-03-09T09:08:24.041Z"
   },
   {
    "duration": 5,
    "start_time": "2023-03-09T09:08:24.241Z"
   },
   {
    "duration": 10,
    "start_time": "2023-03-09T09:08:24.248Z"
   },
   {
    "duration": 6,
    "start_time": "2023-03-09T09:08:24.260Z"
   },
   {
    "duration": 36,
    "start_time": "2023-03-09T09:08:24.267Z"
   },
   {
    "duration": 15,
    "start_time": "2023-03-09T09:08:24.305Z"
   },
   {
    "duration": 30,
    "start_time": "2023-03-09T09:08:24.322Z"
   },
   {
    "duration": 16,
    "start_time": "2023-03-09T09:08:24.354Z"
   },
   {
    "duration": 15,
    "start_time": "2023-03-09T09:08:24.372Z"
   },
   {
    "duration": 209,
    "start_time": "2023-03-09T09:08:31.043Z"
   },
   {
    "duration": 1117,
    "start_time": "2023-03-09T09:08:38.363Z"
   },
   {
    "duration": 975,
    "start_time": "2023-03-09T09:08:39.482Z"
   },
   {
    "duration": 15,
    "start_time": "2023-03-09T09:08:40.459Z"
   },
   {
    "duration": 13,
    "start_time": "2023-03-09T09:08:40.476Z"
   },
   {
    "duration": 4,
    "start_time": "2023-03-09T09:08:40.491Z"
   },
   {
    "duration": 8,
    "start_time": "2023-03-09T09:08:40.497Z"
   },
   {
    "duration": 5,
    "start_time": "2023-03-09T09:08:40.506Z"
   },
   {
    "duration": 36,
    "start_time": "2023-03-09T09:08:40.513Z"
   },
   {
    "duration": 11,
    "start_time": "2023-03-09T09:08:40.551Z"
   },
   {
    "duration": 9,
    "start_time": "2023-03-09T09:08:40.564Z"
   },
   {
    "duration": 20,
    "start_time": "2023-03-09T09:08:40.574Z"
   },
   {
    "duration": 5,
    "start_time": "2023-03-09T09:08:40.595Z"
   },
   {
    "duration": 43,
    "start_time": "2023-03-09T09:08:40.602Z"
   },
   {
    "duration": 116,
    "start_time": "2023-03-09T09:08:40.647Z"
   },
   {
    "duration": 6,
    "start_time": "2023-03-09T09:08:40.764Z"
   },
   {
    "duration": 11,
    "start_time": "2023-03-09T09:08:40.771Z"
   },
   {
    "duration": 2,
    "start_time": "2023-03-09T09:08:40.784Z"
   },
   {
    "duration": 17,
    "start_time": "2023-03-09T09:08:40.788Z"
   },
   {
    "duration": 57,
    "start_time": "2023-03-09T09:08:40.807Z"
   },
   {
    "duration": 3,
    "start_time": "2023-03-09T09:08:40.865Z"
   },
   {
    "duration": 159,
    "start_time": "2023-03-09T09:08:40.870Z"
   },
   {
    "duration": 171,
    "start_time": "2023-03-09T09:08:41.030Z"
   },
   {
    "duration": 14,
    "start_time": "2023-03-09T09:08:41.203Z"
   },
   {
    "duration": 36,
    "start_time": "2023-03-09T09:08:41.219Z"
   },
   {
    "duration": 90,
    "start_time": "2023-03-09T09:08:41.256Z"
   },
   {
    "duration": 1423,
    "start_time": "2023-03-09T09:08:41.348Z"
   },
   {
    "duration": 142,
    "start_time": "2023-03-09T09:08:42.773Z"
   },
   {
    "duration": 192,
    "start_time": "2023-03-09T09:08:42.918Z"
   },
   {
    "duration": 3,
    "start_time": "2023-03-09T09:08:43.112Z"
   },
   {
    "duration": 9,
    "start_time": "2023-03-09T09:08:43.116Z"
   },
   {
    "duration": 16,
    "start_time": "2023-03-09T09:08:43.126Z"
   },
   {
    "duration": 18,
    "start_time": "2023-03-09T09:08:43.144Z"
   },
   {
    "duration": 17,
    "start_time": "2023-03-09T09:08:43.164Z"
   },
   {
    "duration": 15,
    "start_time": "2023-03-09T09:08:43.183Z"
   },
   {
    "duration": 53,
    "start_time": "2023-03-09T09:08:43.200Z"
   },
   {
    "duration": 15,
    "start_time": "2023-03-09T09:08:43.254Z"
   },
   {
    "duration": 1125,
    "start_time": "2023-03-09T09:08:54.902Z"
   },
   {
    "duration": 1239,
    "start_time": "2023-03-09T09:08:56.029Z"
   },
   {
    "duration": 20,
    "start_time": "2023-03-09T09:08:57.270Z"
   },
   {
    "duration": 65,
    "start_time": "2023-03-09T09:08:57.293Z"
   },
   {
    "duration": 28,
    "start_time": "2023-03-09T09:08:57.360Z"
   },
   {
    "duration": 12,
    "start_time": "2023-03-09T09:08:57.390Z"
   },
   {
    "duration": 44,
    "start_time": "2023-03-09T09:08:57.404Z"
   },
   {
    "duration": 64,
    "start_time": "2023-03-09T09:08:57.450Z"
   },
   {
    "duration": 36,
    "start_time": "2023-03-09T09:08:57.516Z"
   },
   {
    "duration": 37,
    "start_time": "2023-03-09T09:08:57.556Z"
   },
   {
    "duration": 55,
    "start_time": "2023-03-09T09:08:57.595Z"
   },
   {
    "duration": 111,
    "start_time": "2023-03-09T09:08:57.652Z"
   },
   {
    "duration": 92,
    "start_time": "2023-03-09T09:08:57.766Z"
   },
   {
    "duration": 260,
    "start_time": "2023-03-09T09:08:57.860Z"
   },
   {
    "duration": 6,
    "start_time": "2023-03-09T09:08:58.122Z"
   },
   {
    "duration": 97,
    "start_time": "2023-03-09T09:08:58.130Z"
   },
   {
    "duration": 89,
    "start_time": "2023-03-09T09:08:58.229Z"
   },
   {
    "duration": 91,
    "start_time": "2023-03-09T09:08:58.320Z"
   },
   {
    "duration": 97,
    "start_time": "2023-03-09T09:08:58.412Z"
   },
   {
    "duration": 54,
    "start_time": "2023-03-09T09:08:58.511Z"
   },
   {
    "duration": 256,
    "start_time": "2023-03-09T09:08:58.566Z"
   },
   {
    "duration": 175,
    "start_time": "2023-03-09T09:08:58.824Z"
   },
   {
    "duration": 22,
    "start_time": "2023-03-09T09:08:59.002Z"
   },
   {
    "duration": 89,
    "start_time": "2023-03-09T09:08:59.027Z"
   },
   {
    "duration": 181,
    "start_time": "2023-03-09T09:08:59.118Z"
   },
   {
    "duration": 1546,
    "start_time": "2023-03-09T09:08:59.301Z"
   },
   {
    "duration": 172,
    "start_time": "2023-03-09T09:09:00.849Z"
   },
   {
    "duration": 217,
    "start_time": "2023-03-09T09:09:01.025Z"
   },
   {
    "duration": 4,
    "start_time": "2023-03-09T09:09:01.244Z"
   },
   {
    "duration": 118,
    "start_time": "2023-03-09T09:09:01.249Z"
   },
   {
    "duration": 71,
    "start_time": "2023-03-09T09:09:01.369Z"
   },
   {
    "duration": 84,
    "start_time": "2023-03-09T09:09:01.442Z"
   },
   {
    "duration": 64,
    "start_time": "2023-03-09T09:09:01.528Z"
   },
   {
    "duration": 69,
    "start_time": "2023-03-09T09:09:01.594Z"
   },
   {
    "duration": 77,
    "start_time": "2023-03-09T09:09:01.665Z"
   },
   {
    "duration": 48,
    "start_time": "2023-03-09T09:09:01.743Z"
   },
   {
    "duration": 12,
    "start_time": "2023-03-09T09:11:33.392Z"
   },
   {
    "duration": 10,
    "start_time": "2023-03-09T09:12:57.977Z"
   },
   {
    "duration": 4,
    "start_time": "2023-03-09T09:12:59.235Z"
   },
   {
    "duration": 1124,
    "start_time": "2023-03-09T09:13:04.745Z"
   },
   {
    "duration": 919,
    "start_time": "2023-03-09T09:13:05.871Z"
   },
   {
    "duration": 16,
    "start_time": "2023-03-09T09:13:06.792Z"
   },
   {
    "duration": 13,
    "start_time": "2023-03-09T09:13:06.810Z"
   },
   {
    "duration": 5,
    "start_time": "2023-03-09T09:13:06.825Z"
   },
   {
    "duration": 29,
    "start_time": "2023-03-09T09:13:06.831Z"
   },
   {
    "duration": 8,
    "start_time": "2023-03-09T09:13:06.862Z"
   },
   {
    "duration": 14,
    "start_time": "2023-03-09T09:13:06.872Z"
   },
   {
    "duration": 12,
    "start_time": "2023-03-09T09:13:06.888Z"
   },
   {
    "duration": 10,
    "start_time": "2023-03-09T09:13:06.901Z"
   },
   {
    "duration": 20,
    "start_time": "2023-03-09T09:13:06.912Z"
   },
   {
    "duration": 5,
    "start_time": "2023-03-09T09:13:06.941Z"
   },
   {
    "duration": 14,
    "start_time": "2023-03-09T09:13:06.947Z"
   },
   {
    "duration": 148,
    "start_time": "2023-03-09T09:13:06.964Z"
   },
   {
    "duration": 11,
    "start_time": "2023-03-09T09:13:07.114Z"
   },
   {
    "duration": 19,
    "start_time": "2023-03-09T09:13:07.126Z"
   },
   {
    "duration": 6,
    "start_time": "2023-03-09T09:13:07.147Z"
   },
   {
    "duration": 10,
    "start_time": "2023-03-09T09:13:07.154Z"
   },
   {
    "duration": 2,
    "start_time": "2023-03-09T09:13:07.166Z"
   },
   {
    "duration": 16,
    "start_time": "2023-03-09T09:13:07.169Z"
   },
   {
    "duration": 62,
    "start_time": "2023-03-09T09:13:07.187Z"
   },
   {
    "duration": 4,
    "start_time": "2023-03-09T09:13:07.251Z"
   },
   {
    "duration": 177,
    "start_time": "2023-03-09T09:13:07.257Z"
   },
   {
    "duration": 179,
    "start_time": "2023-03-09T09:13:07.441Z"
   },
   {
    "duration": 20,
    "start_time": "2023-03-09T09:13:07.622Z"
   },
   {
    "duration": 34,
    "start_time": "2023-03-09T09:13:07.644Z"
   },
   {
    "duration": 94,
    "start_time": "2023-03-09T09:13:07.680Z"
   },
   {
    "duration": 1436,
    "start_time": "2023-03-09T09:13:07.776Z"
   },
   {
    "duration": 159,
    "start_time": "2023-03-09T09:13:09.215Z"
   },
   {
    "duration": 189,
    "start_time": "2023-03-09T09:13:09.376Z"
   },
   {
    "duration": 4,
    "start_time": "2023-03-09T09:13:09.567Z"
   },
   {
    "duration": 19,
    "start_time": "2023-03-09T09:13:09.572Z"
   },
   {
    "duration": 5,
    "start_time": "2023-03-09T09:13:09.593Z"
   },
   {
    "duration": 19,
    "start_time": "2023-03-09T09:13:09.600Z"
   },
   {
    "duration": 27,
    "start_time": "2023-03-09T09:13:09.620Z"
   },
   {
    "duration": 15,
    "start_time": "2023-03-09T09:13:09.648Z"
   },
   {
    "duration": 15,
    "start_time": "2023-03-09T09:13:09.664Z"
   },
   {
    "duration": 14,
    "start_time": "2023-03-09T09:13:09.681Z"
   },
   {
    "duration": 101,
    "start_time": "2023-03-09T09:15:14.078Z"
   },
   {
    "duration": 4,
    "start_time": "2023-03-09T09:15:24.190Z"
   },
   {
    "duration": 1116,
    "start_time": "2023-03-09T09:18:13.279Z"
   },
   {
    "duration": 883,
    "start_time": "2023-03-09T09:18:14.397Z"
   },
   {
    "duration": 16,
    "start_time": "2023-03-09T09:18:15.282Z"
   },
   {
    "duration": 12,
    "start_time": "2023-03-09T09:18:15.300Z"
   },
   {
    "duration": 4,
    "start_time": "2023-03-09T09:18:15.314Z"
   },
   {
    "duration": 14,
    "start_time": "2023-03-09T09:18:15.320Z"
   },
   {
    "duration": 5,
    "start_time": "2023-03-09T09:18:15.336Z"
   },
   {
    "duration": 11,
    "start_time": "2023-03-09T09:18:15.343Z"
   },
   {
    "duration": 13,
    "start_time": "2023-03-09T09:18:15.355Z"
   },
   {
    "duration": 9,
    "start_time": "2023-03-09T09:18:15.371Z"
   },
   {
    "duration": 21,
    "start_time": "2023-03-09T09:18:15.382Z"
   },
   {
    "duration": 37,
    "start_time": "2023-03-09T09:18:15.405Z"
   },
   {
    "duration": 12,
    "start_time": "2023-03-09T09:18:15.444Z"
   },
   {
    "duration": 140,
    "start_time": "2023-03-09T09:18:15.458Z"
   },
   {
    "duration": 10,
    "start_time": "2023-03-09T09:18:15.599Z"
   },
   {
    "duration": 4,
    "start_time": "2023-03-09T09:18:15.610Z"
   },
   {
    "duration": 39,
    "start_time": "2023-03-09T09:18:15.616Z"
   },
   {
    "duration": 0,
    "start_time": "2023-03-09T09:18:15.656Z"
   },
   {
    "duration": 0,
    "start_time": "2023-03-09T09:18:15.658Z"
   },
   {
    "duration": 0,
    "start_time": "2023-03-09T09:18:15.658Z"
   },
   {
    "duration": 0,
    "start_time": "2023-03-09T09:18:15.660Z"
   },
   {
    "duration": 0,
    "start_time": "2023-03-09T09:18:15.661Z"
   },
   {
    "duration": 0,
    "start_time": "2023-03-09T09:18:15.662Z"
   },
   {
    "duration": 0,
    "start_time": "2023-03-09T09:18:15.662Z"
   },
   {
    "duration": 0,
    "start_time": "2023-03-09T09:18:15.663Z"
   },
   {
    "duration": 0,
    "start_time": "2023-03-09T09:18:15.664Z"
   },
   {
    "duration": 0,
    "start_time": "2023-03-09T09:18:15.665Z"
   },
   {
    "duration": 0,
    "start_time": "2023-03-09T09:18:15.666Z"
   },
   {
    "duration": 0,
    "start_time": "2023-03-09T09:18:15.667Z"
   },
   {
    "duration": 0,
    "start_time": "2023-03-09T09:18:15.668Z"
   },
   {
    "duration": 0,
    "start_time": "2023-03-09T09:18:15.669Z"
   },
   {
    "duration": 0,
    "start_time": "2023-03-09T09:18:15.671Z"
   },
   {
    "duration": 0,
    "start_time": "2023-03-09T09:18:15.671Z"
   },
   {
    "duration": 0,
    "start_time": "2023-03-09T09:18:15.673Z"
   },
   {
    "duration": 0,
    "start_time": "2023-03-09T09:18:15.673Z"
   },
   {
    "duration": 0,
    "start_time": "2023-03-09T09:18:15.674Z"
   },
   {
    "duration": 0,
    "start_time": "2023-03-09T09:18:15.675Z"
   },
   {
    "duration": 0,
    "start_time": "2023-03-09T09:18:15.676Z"
   },
   {
    "duration": 0,
    "start_time": "2023-03-09T09:18:15.677Z"
   },
   {
    "duration": 1092,
    "start_time": "2023-03-09T09:18:39.187Z"
   },
   {
    "duration": 850,
    "start_time": "2023-03-09T09:18:40.281Z"
   },
   {
    "duration": 17,
    "start_time": "2023-03-09T09:18:41.133Z"
   },
   {
    "duration": 13,
    "start_time": "2023-03-09T09:18:41.152Z"
   },
   {
    "duration": 3,
    "start_time": "2023-03-09T09:18:41.167Z"
   },
   {
    "duration": 5,
    "start_time": "2023-03-09T09:18:41.171Z"
   },
   {
    "duration": 4,
    "start_time": "2023-03-09T09:18:41.177Z"
   },
   {
    "duration": 9,
    "start_time": "2023-03-09T09:18:41.182Z"
   },
   {
    "duration": 10,
    "start_time": "2023-03-09T09:18:41.193Z"
   },
   {
    "duration": 9,
    "start_time": "2023-03-09T09:18:41.246Z"
   },
   {
    "duration": 22,
    "start_time": "2023-03-09T09:18:41.257Z"
   },
   {
    "duration": 6,
    "start_time": "2023-03-09T09:18:41.281Z"
   },
   {
    "duration": 19,
    "start_time": "2023-03-09T09:18:41.289Z"
   },
   {
    "duration": 146,
    "start_time": "2023-03-09T09:18:41.310Z"
   },
   {
    "duration": 11,
    "start_time": "2023-03-09T09:18:41.458Z"
   },
   {
    "duration": 4,
    "start_time": "2023-03-09T09:18:41.471Z"
   },
   {
    "duration": 17,
    "start_time": "2023-03-09T09:18:41.476Z"
   },
   {
    "duration": 10,
    "start_time": "2023-03-09T09:18:41.495Z"
   },
   {
    "duration": 3,
    "start_time": "2023-03-09T09:18:41.507Z"
   },
   {
    "duration": 37,
    "start_time": "2023-03-09T09:18:41.511Z"
   },
   {
    "duration": 37,
    "start_time": "2023-03-09T09:18:41.549Z"
   },
   {
    "duration": 3,
    "start_time": "2023-03-09T09:18:41.587Z"
   },
   {
    "duration": 164,
    "start_time": "2023-03-09T09:18:41.591Z"
   },
   {
    "duration": 191,
    "start_time": "2023-03-09T09:18:41.756Z"
   },
   {
    "duration": 17,
    "start_time": "2023-03-09T09:18:41.949Z"
   },
   {
    "duration": 30,
    "start_time": "2023-03-09T09:18:41.969Z"
   },
   {
    "duration": 125,
    "start_time": "2023-03-09T09:18:42.001Z"
   },
   {
    "duration": 1400,
    "start_time": "2023-03-09T09:18:42.141Z"
   },
   {
    "duration": 157,
    "start_time": "2023-03-09T09:18:43.542Z"
   },
   {
    "duration": 204,
    "start_time": "2023-03-09T09:18:43.701Z"
   },
   {
    "duration": 5,
    "start_time": "2023-03-09T09:18:43.906Z"
   },
   {
    "duration": 8,
    "start_time": "2023-03-09T09:18:43.912Z"
   },
   {
    "duration": 19,
    "start_time": "2023-03-09T09:18:43.922Z"
   },
   {
    "duration": 18,
    "start_time": "2023-03-09T09:18:43.943Z"
   },
   {
    "duration": 14,
    "start_time": "2023-03-09T09:18:43.963Z"
   },
   {
    "duration": 13,
    "start_time": "2023-03-09T09:18:43.979Z"
   },
   {
    "duration": 14,
    "start_time": "2023-03-09T09:18:43.994Z"
   },
   {
    "duration": 41,
    "start_time": "2023-03-09T09:18:44.009Z"
   },
   {
    "duration": 7,
    "start_time": "2023-03-09T09:19:29.012Z"
   },
   {
    "duration": 4,
    "start_time": "2023-03-09T09:47:50.831Z"
   },
   {
    "duration": 4,
    "start_time": "2023-03-09T09:48:02.682Z"
   },
   {
    "duration": 11,
    "start_time": "2023-03-09T09:51:00.936Z"
   },
   {
    "duration": 1299,
    "start_time": "2023-03-09T09:51:05.841Z"
   },
   {
    "duration": 1231,
    "start_time": "2023-03-09T09:51:07.143Z"
   },
   {
    "duration": 18,
    "start_time": "2023-03-09T09:51:08.376Z"
   },
   {
    "duration": 15,
    "start_time": "2023-03-09T09:51:08.396Z"
   },
   {
    "duration": 5,
    "start_time": "2023-03-09T09:51:08.413Z"
   },
   {
    "duration": 6,
    "start_time": "2023-03-09T09:51:08.419Z"
   },
   {
    "duration": 17,
    "start_time": "2023-03-09T09:51:08.426Z"
   },
   {
    "duration": 16,
    "start_time": "2023-03-09T09:51:08.445Z"
   },
   {
    "duration": 12,
    "start_time": "2023-03-09T09:51:08.463Z"
   },
   {
    "duration": 9,
    "start_time": "2023-03-09T09:51:08.478Z"
   },
   {
    "duration": 54,
    "start_time": "2023-03-09T09:51:08.489Z"
   },
   {
    "duration": 8,
    "start_time": "2023-03-09T09:51:08.544Z"
   },
   {
    "duration": 18,
    "start_time": "2023-03-09T09:51:08.554Z"
   },
   {
    "duration": 160,
    "start_time": "2023-03-09T09:51:08.574Z"
   },
   {
    "duration": 21,
    "start_time": "2023-03-09T09:51:08.735Z"
   },
   {
    "duration": 5,
    "start_time": "2023-03-09T09:51:08.758Z"
   },
   {
    "duration": 9,
    "start_time": "2023-03-09T09:51:08.765Z"
   },
   {
    "duration": 10,
    "start_time": "2023-03-09T09:51:08.775Z"
   },
   {
    "duration": 7,
    "start_time": "2023-03-09T09:51:08.786Z"
   },
   {
    "duration": 18,
    "start_time": "2023-03-09T09:51:08.794Z"
   },
   {
    "duration": 71,
    "start_time": "2023-03-09T09:51:08.813Z"
   },
   {
    "duration": 4,
    "start_time": "2023-03-09T09:51:08.885Z"
   },
   {
    "duration": 189,
    "start_time": "2023-03-09T09:51:08.890Z"
   },
   {
    "duration": 193,
    "start_time": "2023-03-09T09:51:09.081Z"
   },
   {
    "duration": 17,
    "start_time": "2023-03-09T09:51:09.276Z"
   },
   {
    "duration": 48,
    "start_time": "2023-03-09T09:51:09.295Z"
   },
   {
    "duration": 103,
    "start_time": "2023-03-09T09:51:09.346Z"
   },
   {
    "duration": 1575,
    "start_time": "2023-03-09T09:51:09.454Z"
   },
   {
    "duration": 180,
    "start_time": "2023-03-09T09:51:11.030Z"
   },
   {
    "duration": 228,
    "start_time": "2023-03-09T09:51:11.211Z"
   },
   {
    "duration": 6,
    "start_time": "2023-03-09T09:51:11.441Z"
   },
   {
    "duration": 12,
    "start_time": "2023-03-09T09:51:11.449Z"
   },
   {
    "duration": 5,
    "start_time": "2023-03-09T09:51:11.463Z"
   },
   {
    "duration": 21,
    "start_time": "2023-03-09T09:51:11.470Z"
   },
   {
    "duration": 15,
    "start_time": "2023-03-09T09:51:11.493Z"
   },
   {
    "duration": 51,
    "start_time": "2023-03-09T09:51:11.510Z"
   },
   {
    "duration": 16,
    "start_time": "2023-03-09T09:51:11.562Z"
   },
   {
    "duration": 14,
    "start_time": "2023-03-09T09:51:11.580Z"
   },
   {
    "duration": 23,
    "start_time": "2023-03-09T11:01:53.536Z"
   },
   {
    "duration": 22,
    "start_time": "2023-03-09T11:37:21.743Z"
   },
   {
    "duration": 200,
    "start_time": "2023-03-09T11:38:35.378Z"
   },
   {
    "duration": 1105,
    "start_time": "2023-03-09T11:38:42.697Z"
   },
   {
    "duration": 1139,
    "start_time": "2023-03-09T11:38:43.804Z"
   },
   {
    "duration": 16,
    "start_time": "2023-03-09T11:38:44.944Z"
   },
   {
    "duration": 13,
    "start_time": "2023-03-09T11:38:44.962Z"
   },
   {
    "duration": 20,
    "start_time": "2023-03-09T11:38:44.977Z"
   },
   {
    "duration": 17,
    "start_time": "2023-03-09T11:38:44.998Z"
   },
   {
    "duration": 23,
    "start_time": "2023-03-09T11:38:45.017Z"
   },
   {
    "duration": 12,
    "start_time": "2023-03-09T11:38:45.042Z"
   },
   {
    "duration": 12,
    "start_time": "2023-03-09T11:38:45.056Z"
   },
   {
    "duration": 8,
    "start_time": "2023-03-09T11:38:45.069Z"
   },
   {
    "duration": 30,
    "start_time": "2023-03-09T11:38:45.079Z"
   },
   {
    "duration": 4,
    "start_time": "2023-03-09T11:38:45.110Z"
   },
   {
    "duration": 30,
    "start_time": "2023-03-09T11:38:45.116Z"
   },
   {
    "duration": 128,
    "start_time": "2023-03-09T11:38:45.150Z"
   },
   {
    "duration": 123,
    "start_time": "2023-03-09T11:38:45.281Z"
   },
   {
    "duration": 9,
    "start_time": "2023-03-09T11:38:45.406Z"
   },
   {
    "duration": 4,
    "start_time": "2023-03-09T11:38:45.417Z"
   },
   {
    "duration": 19,
    "start_time": "2023-03-09T11:38:45.423Z"
   },
   {
    "duration": 9,
    "start_time": "2023-03-09T11:38:45.444Z"
   },
   {
    "duration": 3,
    "start_time": "2023-03-09T11:38:45.455Z"
   },
   {
    "duration": 12,
    "start_time": "2023-03-09T11:38:45.459Z"
   },
   {
    "duration": 41,
    "start_time": "2023-03-09T11:38:45.472Z"
   },
   {
    "duration": 27,
    "start_time": "2023-03-09T11:38:45.514Z"
   },
   {
    "duration": 152,
    "start_time": "2023-03-09T11:38:45.543Z"
   },
   {
    "duration": 193,
    "start_time": "2023-03-09T11:38:45.696Z"
   },
   {
    "duration": 18,
    "start_time": "2023-03-09T11:38:45.892Z"
   },
   {
    "duration": 42,
    "start_time": "2023-03-09T11:38:45.912Z"
   },
   {
    "duration": 93,
    "start_time": "2023-03-09T11:38:45.956Z"
   },
   {
    "duration": 1497,
    "start_time": "2023-03-09T11:38:46.051Z"
   },
   {
    "duration": 225,
    "start_time": "2023-03-09T11:38:47.551Z"
   },
   {
    "duration": 226,
    "start_time": "2023-03-09T11:38:47.780Z"
   },
   {
    "duration": 4,
    "start_time": "2023-03-09T11:38:48.008Z"
   },
   {
    "duration": 10,
    "start_time": "2023-03-09T11:38:48.013Z"
   },
   {
    "duration": 20,
    "start_time": "2023-03-09T11:38:48.025Z"
   },
   {
    "duration": 19,
    "start_time": "2023-03-09T11:38:48.046Z"
   },
   {
    "duration": 17,
    "start_time": "2023-03-09T11:38:48.066Z"
   },
   {
    "duration": 16,
    "start_time": "2023-03-09T11:38:48.085Z"
   },
   {
    "duration": 45,
    "start_time": "2023-03-09T11:38:48.103Z"
   },
   {
    "duration": 16,
    "start_time": "2023-03-09T11:38:48.150Z"
   },
   {
    "duration": 15,
    "start_time": "2023-03-09T11:38:48.167Z"
   },
   {
    "duration": 211,
    "start_time": "2023-03-09T11:38:56.832Z"
   },
   {
    "duration": 98,
    "start_time": "2023-03-09T11:39:06.302Z"
   },
   {
    "duration": 1221,
    "start_time": "2023-03-09T11:39:10.906Z"
   },
   {
    "duration": 944,
    "start_time": "2023-03-09T11:39:12.129Z"
   },
   {
    "duration": 17,
    "start_time": "2023-03-09T11:39:13.075Z"
   },
   {
    "duration": 13,
    "start_time": "2023-03-09T11:39:13.094Z"
   },
   {
    "duration": 7,
    "start_time": "2023-03-09T11:39:13.108Z"
   },
   {
    "duration": 6,
    "start_time": "2023-03-09T11:39:13.117Z"
   },
   {
    "duration": 5,
    "start_time": "2023-03-09T11:39:13.124Z"
   },
   {
    "duration": 11,
    "start_time": "2023-03-09T11:39:13.141Z"
   },
   {
    "duration": 10,
    "start_time": "2023-03-09T11:39:13.153Z"
   },
   {
    "duration": 9,
    "start_time": "2023-03-09T11:39:13.165Z"
   },
   {
    "duration": 21,
    "start_time": "2023-03-09T11:39:13.175Z"
   },
   {
    "duration": 5,
    "start_time": "2023-03-09T11:39:13.197Z"
   },
   {
    "duration": 44,
    "start_time": "2023-03-09T11:39:13.204Z"
   },
   {
    "duration": 138,
    "start_time": "2023-03-09T11:39:13.249Z"
   },
   {
    "duration": 119,
    "start_time": "2023-03-09T11:39:13.389Z"
   },
   {
    "duration": 10,
    "start_time": "2023-03-09T11:39:13.510Z"
   },
   {
    "duration": 4,
    "start_time": "2023-03-09T11:39:13.522Z"
   },
   {
    "duration": 15,
    "start_time": "2023-03-09T11:39:13.527Z"
   },
   {
    "duration": 10,
    "start_time": "2023-03-09T11:39:13.543Z"
   },
   {
    "duration": 3,
    "start_time": "2023-03-09T11:39:13.554Z"
   },
   {
    "duration": 11,
    "start_time": "2023-03-09T11:39:13.558Z"
   },
   {
    "duration": 38,
    "start_time": "2023-03-09T11:39:13.571Z"
   },
   {
    "duration": 4,
    "start_time": "2023-03-09T11:39:13.640Z"
   },
   {
    "duration": 178,
    "start_time": "2023-03-09T11:39:13.646Z"
   },
   {
    "duration": 180,
    "start_time": "2023-03-09T11:39:13.826Z"
   },
   {
    "duration": 16,
    "start_time": "2023-03-09T11:39:14.008Z"
   },
   {
    "duration": 46,
    "start_time": "2023-03-09T11:39:14.026Z"
   },
   {
    "duration": 92,
    "start_time": "2023-03-09T11:39:14.076Z"
   },
   {
    "duration": 1489,
    "start_time": "2023-03-09T11:39:14.170Z"
   },
   {
    "duration": 161,
    "start_time": "2023-03-09T11:39:15.661Z"
   },
   {
    "duration": 211,
    "start_time": "2023-03-09T11:39:15.824Z"
   },
   {
    "duration": 4,
    "start_time": "2023-03-09T11:39:16.037Z"
   },
   {
    "duration": 39,
    "start_time": "2023-03-09T11:39:16.043Z"
   },
   {
    "duration": 17,
    "start_time": "2023-03-09T11:39:16.083Z"
   },
   {
    "duration": 28,
    "start_time": "2023-03-09T11:39:16.102Z"
   },
   {
    "duration": 19,
    "start_time": "2023-03-09T11:39:16.132Z"
   },
   {
    "duration": 14,
    "start_time": "2023-03-09T11:39:16.153Z"
   },
   {
    "duration": 17,
    "start_time": "2023-03-09T11:39:16.169Z"
   },
   {
    "duration": 16,
    "start_time": "2023-03-09T11:39:16.188Z"
   },
   {
    "duration": 46,
    "start_time": "2023-03-09T11:39:16.206Z"
   },
   {
    "duration": 1220,
    "start_time": "2023-03-09T12:16:19.511Z"
   },
   {
    "duration": 1179,
    "start_time": "2023-03-09T12:16:20.734Z"
   },
   {
    "duration": 18,
    "start_time": "2023-03-09T12:16:21.915Z"
   },
   {
    "duration": 54,
    "start_time": "2023-03-09T12:16:21.936Z"
   },
   {
    "duration": 49,
    "start_time": "2023-03-09T12:16:21.992Z"
   },
   {
    "duration": 99,
    "start_time": "2023-03-09T12:16:22.044Z"
   },
   {
    "duration": 72,
    "start_time": "2023-03-09T12:16:22.145Z"
   },
   {
    "duration": 32,
    "start_time": "2023-03-09T12:16:22.219Z"
   },
   {
    "duration": 94,
    "start_time": "2023-03-09T12:16:22.253Z"
   },
   {
    "duration": 42,
    "start_time": "2023-03-09T12:16:22.349Z"
   },
   {
    "duration": 54,
    "start_time": "2023-03-09T12:16:22.393Z"
   },
   {
    "duration": 47,
    "start_time": "2023-03-09T12:16:22.449Z"
   },
   {
    "duration": 58,
    "start_time": "2023-03-09T12:16:22.498Z"
   },
   {
    "duration": 170,
    "start_time": "2023-03-09T12:16:22.558Z"
   },
   {
    "duration": 119,
    "start_time": "2023-03-09T12:16:22.729Z"
   },
   {
    "duration": 12,
    "start_time": "2023-03-09T12:16:22.850Z"
   },
   {
    "duration": 29,
    "start_time": "2023-03-09T12:16:22.863Z"
   },
   {
    "duration": 54,
    "start_time": "2023-03-09T12:16:22.893Z"
   },
   {
    "duration": 43,
    "start_time": "2023-03-09T12:16:22.949Z"
   },
   {
    "duration": 49,
    "start_time": "2023-03-09T12:16:22.994Z"
   },
   {
    "duration": 113,
    "start_time": "2023-03-09T12:16:23.045Z"
   },
   {
    "duration": 96,
    "start_time": "2023-03-09T12:16:23.160Z"
   },
   {
    "duration": 93,
    "start_time": "2023-03-09T12:16:23.258Z"
   },
   {
    "duration": 282,
    "start_time": "2023-03-09T12:16:23.353Z"
   },
   {
    "duration": 188,
    "start_time": "2023-03-09T12:16:23.637Z"
   },
   {
    "duration": 20,
    "start_time": "2023-03-09T12:16:23.827Z"
   },
   {
    "duration": 31,
    "start_time": "2023-03-09T12:16:23.849Z"
   },
   {
    "duration": 108,
    "start_time": "2023-03-09T12:16:23.883Z"
   },
   {
    "duration": 1590,
    "start_time": "2023-03-09T12:16:23.993Z"
   },
   {
    "duration": 173,
    "start_time": "2023-03-09T12:16:25.585Z"
   },
   {
    "duration": 222,
    "start_time": "2023-03-09T12:16:25.759Z"
   },
   {
    "duration": 5,
    "start_time": "2023-03-09T12:16:25.983Z"
   },
   {
    "duration": 31,
    "start_time": "2023-03-09T12:16:25.989Z"
   },
   {
    "duration": 15,
    "start_time": "2023-03-09T12:16:26.022Z"
   },
   {
    "duration": 27,
    "start_time": "2023-03-09T12:16:26.039Z"
   },
   {
    "duration": 16,
    "start_time": "2023-03-09T12:16:26.068Z"
   },
   {
    "duration": 16,
    "start_time": "2023-03-09T12:16:26.086Z"
   },
   {
    "duration": 16,
    "start_time": "2023-03-09T12:16:26.103Z"
   },
   {
    "duration": 34,
    "start_time": "2023-03-09T12:16:26.121Z"
   },
   {
    "duration": 16,
    "start_time": "2023-03-09T12:16:26.157Z"
   },
   {
    "duration": 49,
    "start_time": "2023-03-09T12:19:27.983Z"
   },
   {
    "duration": 1501,
    "start_time": "2023-03-09T12:19:33.212Z"
   },
   {
    "duration": 1279,
    "start_time": "2023-03-09T12:19:47.851Z"
   },
   {
    "duration": 848,
    "start_time": "2023-03-09T12:19:49.132Z"
   },
   {
    "duration": 17,
    "start_time": "2023-03-09T12:19:49.982Z"
   },
   {
    "duration": 14,
    "start_time": "2023-03-09T12:19:50.001Z"
   },
   {
    "duration": 20,
    "start_time": "2023-03-09T12:19:50.017Z"
   },
   {
    "duration": 33,
    "start_time": "2023-03-09T12:19:50.039Z"
   },
   {
    "duration": 22,
    "start_time": "2023-03-09T12:19:50.074Z"
   },
   {
    "duration": 22,
    "start_time": "2023-03-09T12:19:50.098Z"
   },
   {
    "duration": 11,
    "start_time": "2023-03-09T12:19:50.122Z"
   },
   {
    "duration": 11,
    "start_time": "2023-03-09T12:19:50.135Z"
   },
   {
    "duration": 24,
    "start_time": "2023-03-09T12:19:50.148Z"
   },
   {
    "duration": 5,
    "start_time": "2023-03-09T12:19:50.174Z"
   },
   {
    "duration": 39,
    "start_time": "2023-03-09T12:19:50.180Z"
   },
   {
    "duration": 140,
    "start_time": "2023-03-09T12:19:50.221Z"
   },
   {
    "duration": 11,
    "start_time": "2023-03-09T12:19:50.362Z"
   },
   {
    "duration": 11,
    "start_time": "2023-03-09T12:19:50.375Z"
   },
   {
    "duration": 19,
    "start_time": "2023-03-09T12:19:50.388Z"
   },
   {
    "duration": 18,
    "start_time": "2023-03-09T12:19:50.409Z"
   },
   {
    "duration": 17,
    "start_time": "2023-03-09T12:19:50.428Z"
   },
   {
    "duration": 39,
    "start_time": "2023-03-09T12:19:50.447Z"
   },
   {
    "duration": 56,
    "start_time": "2023-03-09T12:19:50.487Z"
   },
   {
    "duration": 3,
    "start_time": "2023-03-09T12:19:50.545Z"
   },
   {
    "duration": 162,
    "start_time": "2023-03-09T12:19:50.550Z"
   },
   {
    "duration": 174,
    "start_time": "2023-03-09T12:19:50.714Z"
   },
   {
    "duration": 16,
    "start_time": "2023-03-09T12:19:50.890Z"
   },
   {
    "duration": 43,
    "start_time": "2023-03-09T12:19:50.907Z"
   },
   {
    "duration": 97,
    "start_time": "2023-03-09T12:19:50.952Z"
   },
   {
    "duration": 1514,
    "start_time": "2023-03-09T12:19:51.053Z"
   },
   {
    "duration": 165,
    "start_time": "2023-03-09T12:19:52.569Z"
   },
   {
    "duration": 202,
    "start_time": "2023-03-09T12:19:52.740Z"
   },
   {
    "duration": 4,
    "start_time": "2023-03-09T12:19:52.943Z"
   },
   {
    "duration": 26,
    "start_time": "2023-03-09T12:19:52.948Z"
   },
   {
    "duration": 17,
    "start_time": "2023-03-09T12:19:52.976Z"
   },
   {
    "duration": 25,
    "start_time": "2023-03-09T12:19:52.995Z"
   },
   {
    "duration": 17,
    "start_time": "2023-03-09T12:19:53.022Z"
   },
   {
    "duration": 23,
    "start_time": "2023-03-09T12:19:53.041Z"
   },
   {
    "duration": 25,
    "start_time": "2023-03-09T12:19:53.067Z"
   },
   {
    "duration": 16,
    "start_time": "2023-03-09T12:19:53.094Z"
   },
   {
    "duration": 33,
    "start_time": "2023-03-09T12:19:53.111Z"
   },
   {
    "duration": 4,
    "start_time": "2023-03-09T12:32:24.387Z"
   },
   {
    "duration": 25,
    "start_time": "2023-03-09T12:32:24.934Z"
   },
   {
    "duration": 46,
    "start_time": "2023-03-09T12:36:37.609Z"
   },
   {
    "duration": 235,
    "start_time": "2023-03-09T12:36:47.546Z"
   },
   {
    "duration": 1194,
    "start_time": "2023-03-09T12:38:57.085Z"
   },
   {
    "duration": 1301,
    "start_time": "2023-03-09T12:38:58.281Z"
   },
   {
    "duration": 16,
    "start_time": "2023-03-09T12:38:59.584Z"
   },
   {
    "duration": 13,
    "start_time": "2023-03-09T12:38:59.602Z"
   },
   {
    "duration": 5,
    "start_time": "2023-03-09T12:38:59.616Z"
   },
   {
    "duration": 5,
    "start_time": "2023-03-09T12:38:59.622Z"
   },
   {
    "duration": 4,
    "start_time": "2023-03-09T12:38:59.628Z"
   },
   {
    "duration": 10,
    "start_time": "2023-03-09T12:38:59.641Z"
   },
   {
    "duration": 11,
    "start_time": "2023-03-09T12:38:59.653Z"
   },
   {
    "duration": 8,
    "start_time": "2023-03-09T12:38:59.667Z"
   },
   {
    "duration": 21,
    "start_time": "2023-03-09T12:38:59.677Z"
   },
   {
    "duration": 5,
    "start_time": "2023-03-09T12:38:59.700Z"
   },
   {
    "duration": 45,
    "start_time": "2023-03-09T12:38:59.706Z"
   },
   {
    "duration": 138,
    "start_time": "2023-03-09T12:38:59.753Z"
   },
   {
    "duration": 10,
    "start_time": "2023-03-09T12:38:59.893Z"
   },
   {
    "duration": 5,
    "start_time": "2023-03-09T12:38:59.905Z"
   },
   {
    "duration": 16,
    "start_time": "2023-03-09T12:38:59.911Z"
   },
   {
    "duration": 16,
    "start_time": "2023-03-09T12:38:59.929Z"
   },
   {
    "duration": 3,
    "start_time": "2023-03-09T12:38:59.946Z"
   },
   {
    "duration": 10,
    "start_time": "2023-03-09T12:38:59.951Z"
   },
   {
    "duration": 36,
    "start_time": "2023-03-09T12:38:59.962Z"
   },
   {
    "duration": 4,
    "start_time": "2023-03-09T12:38:59.999Z"
   },
   {
    "duration": 202,
    "start_time": "2023-03-09T12:39:00.005Z"
   },
   {
    "duration": 183,
    "start_time": "2023-03-09T12:39:00.208Z"
   },
   {
    "duration": 17,
    "start_time": "2023-03-09T12:39:00.392Z"
   },
   {
    "duration": 47,
    "start_time": "2023-03-09T12:39:00.411Z"
   },
   {
    "duration": 104,
    "start_time": "2023-03-09T12:39:00.460Z"
   },
   {
    "duration": 1585,
    "start_time": "2023-03-09T12:39:00.568Z"
   },
   {
    "duration": 166,
    "start_time": "2023-03-09T12:39:02.155Z"
   },
   {
    "duration": 207,
    "start_time": "2023-03-09T12:39:02.322Z"
   },
   {
    "duration": 10,
    "start_time": "2023-03-09T12:39:02.531Z"
   },
   {
    "duration": 20,
    "start_time": "2023-03-09T12:39:02.543Z"
   },
   {
    "duration": 223,
    "start_time": "2023-03-09T12:39:02.564Z"
   },
   {
    "duration": 0,
    "start_time": "2023-03-09T12:39:02.788Z"
   },
   {
    "duration": 0,
    "start_time": "2023-03-09T12:39:02.790Z"
   },
   {
    "duration": 0,
    "start_time": "2023-03-09T12:39:02.791Z"
   },
   {
    "duration": 0,
    "start_time": "2023-03-09T12:39:02.793Z"
   },
   {
    "duration": 0,
    "start_time": "2023-03-09T12:39:02.794Z"
   },
   {
    "duration": 0,
    "start_time": "2023-03-09T12:39:02.795Z"
   },
   {
    "duration": 0,
    "start_time": "2023-03-09T12:39:02.796Z"
   },
   {
    "duration": 114,
    "start_time": "2023-03-09T12:39:30.615Z"
   },
   {
    "duration": 102,
    "start_time": "2023-03-09T13:06:29.591Z"
   },
   {
    "duration": 122,
    "start_time": "2023-03-09T13:06:51.941Z"
   },
   {
    "duration": 6,
    "start_time": "2023-03-09T13:15:58.979Z"
   },
   {
    "duration": 23,
    "start_time": "2023-03-09T13:16:07.147Z"
   },
   {
    "duration": 46,
    "start_time": "2023-03-09T13:16:12.698Z"
   },
   {
    "duration": 1223,
    "start_time": "2023-03-09T13:16:30.738Z"
   },
   {
    "duration": 1220,
    "start_time": "2023-03-09T13:16:31.963Z"
   },
   {
    "duration": 17,
    "start_time": "2023-03-09T13:16:33.184Z"
   },
   {
    "duration": 13,
    "start_time": "2023-03-09T13:16:33.203Z"
   },
   {
    "duration": 4,
    "start_time": "2023-03-09T13:16:33.218Z"
   },
   {
    "duration": 4,
    "start_time": "2023-03-09T13:16:33.225Z"
   },
   {
    "duration": 11,
    "start_time": "2023-03-09T13:16:33.231Z"
   },
   {
    "duration": 11,
    "start_time": "2023-03-09T13:16:33.243Z"
   },
   {
    "duration": 12,
    "start_time": "2023-03-09T13:16:33.255Z"
   },
   {
    "duration": 10,
    "start_time": "2023-03-09T13:16:33.270Z"
   },
   {
    "duration": 22,
    "start_time": "2023-03-09T13:16:33.281Z"
   },
   {
    "duration": 40,
    "start_time": "2023-03-09T13:16:33.305Z"
   },
   {
    "duration": 12,
    "start_time": "2023-03-09T13:16:33.347Z"
   },
   {
    "duration": 146,
    "start_time": "2023-03-09T13:16:33.361Z"
   },
   {
    "duration": 11,
    "start_time": "2023-03-09T13:16:33.508Z"
   },
   {
    "duration": 4,
    "start_time": "2023-03-09T13:16:33.521Z"
   },
   {
    "duration": 17,
    "start_time": "2023-03-09T13:16:33.527Z"
   },
   {
    "duration": 8,
    "start_time": "2023-03-09T13:16:33.546Z"
   },
   {
    "duration": 2,
    "start_time": "2023-03-09T13:16:33.556Z"
   },
   {
    "duration": 13,
    "start_time": "2023-03-09T13:16:33.559Z"
   },
   {
    "duration": 37,
    "start_time": "2023-03-09T13:16:33.573Z"
   },
   {
    "duration": 31,
    "start_time": "2023-03-09T13:16:33.611Z"
   },
   {
    "duration": 161,
    "start_time": "2023-03-09T13:16:33.643Z"
   },
   {
    "duration": 170,
    "start_time": "2023-03-09T13:16:33.805Z"
   },
   {
    "duration": 14,
    "start_time": "2023-03-09T13:16:33.977Z"
   },
   {
    "duration": 31,
    "start_time": "2023-03-09T13:16:33.992Z"
   },
   {
    "duration": 117,
    "start_time": "2023-03-09T13:16:34.042Z"
   },
   {
    "duration": 1465,
    "start_time": "2023-03-09T13:16:34.162Z"
   },
   {
    "duration": 166,
    "start_time": "2023-03-09T13:16:35.629Z"
   },
   {
    "duration": 201,
    "start_time": "2023-03-09T13:16:35.797Z"
   },
   {
    "duration": 4,
    "start_time": "2023-03-09T13:16:35.999Z"
   },
   {
    "duration": 16,
    "start_time": "2023-03-09T13:16:36.005Z"
   },
   {
    "duration": 130,
    "start_time": "2023-03-09T13:16:36.022Z"
   },
   {
    "duration": 134,
    "start_time": "2023-03-09T13:16:36.153Z"
   },
   {
    "duration": 4,
    "start_time": "2023-03-09T13:16:36.289Z"
   },
   {
    "duration": 20,
    "start_time": "2023-03-09T13:16:36.295Z"
   },
   {
    "duration": 38,
    "start_time": "2023-03-09T13:16:36.317Z"
   },
   {
    "duration": 17,
    "start_time": "2023-03-09T13:16:36.356Z"
   },
   {
    "duration": 17,
    "start_time": "2023-03-09T13:16:36.374Z"
   },
   {
    "duration": 16,
    "start_time": "2023-03-09T13:16:36.393Z"
   },
   {
    "duration": 45,
    "start_time": "2023-03-09T13:16:36.410Z"
   },
   {
    "duration": 11,
    "start_time": "2023-03-09T13:19:03.038Z"
   },
   {
    "duration": 65,
    "start_time": "2023-03-09T13:19:22.100Z"
   },
   {
    "duration": 53,
    "start_time": "2023-03-09T17:37:30.751Z"
   },
   {
    "duration": 7,
    "start_time": "2023-03-09T17:37:34.613Z"
   },
   {
    "duration": 1392,
    "start_time": "2023-03-09T17:37:50.205Z"
   },
   {
    "duration": 1132,
    "start_time": "2023-03-09T17:37:51.599Z"
   },
   {
    "duration": 18,
    "start_time": "2023-03-09T17:37:52.733Z"
   },
   {
    "duration": 22,
    "start_time": "2023-03-09T17:37:52.753Z"
   },
   {
    "duration": 4,
    "start_time": "2023-03-09T17:37:52.778Z"
   },
   {
    "duration": 13,
    "start_time": "2023-03-09T17:37:52.783Z"
   },
   {
    "duration": 10,
    "start_time": "2023-03-09T17:37:52.798Z"
   },
   {
    "duration": 18,
    "start_time": "2023-03-09T17:37:52.810Z"
   },
   {
    "duration": 14,
    "start_time": "2023-03-09T17:37:52.829Z"
   },
   {
    "duration": 10,
    "start_time": "2023-03-09T17:37:52.845Z"
   },
   {
    "duration": 22,
    "start_time": "2023-03-09T17:37:52.856Z"
   },
   {
    "duration": 5,
    "start_time": "2023-03-09T17:37:52.889Z"
   },
   {
    "duration": 21,
    "start_time": "2023-03-09T17:37:52.895Z"
   },
   {
    "duration": 171,
    "start_time": "2023-03-09T17:37:52.920Z"
   },
   {
    "duration": 12,
    "start_time": "2023-03-09T17:37:53.092Z"
   },
   {
    "duration": 6,
    "start_time": "2023-03-09T17:37:53.106Z"
   },
   {
    "duration": 10,
    "start_time": "2023-03-09T17:37:53.114Z"
   },
   {
    "duration": 13,
    "start_time": "2023-03-09T17:37:53.126Z"
   },
   {
    "duration": 6,
    "start_time": "2023-03-09T17:37:53.141Z"
   },
   {
    "duration": 12,
    "start_time": "2023-03-09T17:37:53.149Z"
   },
   {
    "duration": 75,
    "start_time": "2023-03-09T17:37:53.163Z"
   },
   {
    "duration": 3,
    "start_time": "2023-03-09T17:37:53.241Z"
   },
   {
    "duration": 167,
    "start_time": "2023-03-09T17:37:53.246Z"
   },
   {
    "duration": 176,
    "start_time": "2023-03-09T17:37:53.415Z"
   },
   {
    "duration": 14,
    "start_time": "2023-03-09T17:37:53.593Z"
   },
   {
    "duration": 104,
    "start_time": "2023-03-09T17:37:53.609Z"
   },
   {
    "duration": 8,
    "start_time": "2023-03-09T17:37:53.714Z"
   },
   {
    "duration": 1488,
    "start_time": "2023-03-09T17:37:53.723Z"
   },
   {
    "duration": 158,
    "start_time": "2023-03-09T17:37:55.212Z"
   },
   {
    "duration": 197,
    "start_time": "2023-03-09T17:37:55.372Z"
   },
   {
    "duration": 4,
    "start_time": "2023-03-09T17:37:55.571Z"
   },
   {
    "duration": 17,
    "start_time": "2023-03-09T17:37:55.577Z"
   },
   {
    "duration": 116,
    "start_time": "2023-03-09T17:37:55.597Z"
   },
   {
    "duration": 131,
    "start_time": "2023-03-09T17:37:55.714Z"
   },
   {
    "duration": 4,
    "start_time": "2023-03-09T17:37:55.847Z"
   },
   {
    "duration": 22,
    "start_time": "2023-03-09T17:37:55.853Z"
   },
   {
    "duration": 17,
    "start_time": "2023-03-09T17:37:55.890Z"
   },
   {
    "duration": 15,
    "start_time": "2023-03-09T17:37:55.910Z"
   },
   {
    "duration": 17,
    "start_time": "2023-03-09T17:37:55.927Z"
   },
   {
    "duration": 48,
    "start_time": "2023-03-09T17:37:55.946Z"
   },
   {
    "duration": 17,
    "start_time": "2023-03-09T17:37:55.998Z"
   },
   {
    "duration": 360,
    "start_time": "2023-03-09T17:37:56.016Z"
   },
   {
    "duration": 6,
    "start_time": "2023-03-09T17:39:49.526Z"
   },
   {
    "duration": 4,
    "start_time": "2023-03-09T17:40:18.371Z"
   },
   {
    "duration": 217,
    "start_time": "2023-03-09T17:50:54.173Z"
   },
   {
    "duration": 214,
    "start_time": "2023-03-09T17:51:02.966Z"
   },
   {
    "duration": 23,
    "start_time": "2023-03-09T17:53:21.028Z"
   },
   {
    "duration": 7,
    "start_time": "2023-03-09T17:53:55.162Z"
   },
   {
    "duration": 5,
    "start_time": "2023-03-09T17:56:56.149Z"
   },
   {
    "duration": 5,
    "start_time": "2023-03-09T17:57:10.062Z"
   },
   {
    "duration": 6,
    "start_time": "2023-03-09T17:57:14.879Z"
   },
   {
    "duration": 184,
    "start_time": "2023-03-09T17:59:10.972Z"
   },
   {
    "duration": 284,
    "start_time": "2023-03-09T18:20:16.529Z"
   },
   {
    "duration": 371,
    "start_time": "2023-03-09T18:21:07.007Z"
   },
   {
    "duration": 342,
    "start_time": "2023-03-09T18:22:05.167Z"
   },
   {
    "duration": 287,
    "start_time": "2023-03-09T18:27:09.136Z"
   },
   {
    "duration": 280,
    "start_time": "2023-03-09T18:27:11.773Z"
   },
   {
    "duration": 253,
    "start_time": "2023-03-09T18:29:50.198Z"
   },
   {
    "duration": 1180,
    "start_time": "2023-03-09T18:35:33.776Z"
   },
   {
    "duration": 1086,
    "start_time": "2023-03-09T18:35:34.958Z"
   },
   {
    "duration": 17,
    "start_time": "2023-03-09T18:35:36.046Z"
   },
   {
    "duration": 13,
    "start_time": "2023-03-09T18:35:36.065Z"
   },
   {
    "duration": 4,
    "start_time": "2023-03-09T18:35:36.081Z"
   },
   {
    "duration": 7,
    "start_time": "2023-03-09T18:35:36.087Z"
   },
   {
    "duration": 7,
    "start_time": "2023-03-09T18:35:36.095Z"
   },
   {
    "duration": 16,
    "start_time": "2023-03-09T18:35:36.104Z"
   },
   {
    "duration": 10,
    "start_time": "2023-03-09T18:35:36.122Z"
   },
   {
    "duration": 8,
    "start_time": "2023-03-09T18:35:36.134Z"
   },
   {
    "duration": 20,
    "start_time": "2023-03-09T18:35:36.144Z"
   },
   {
    "duration": 29,
    "start_time": "2023-03-09T18:35:36.166Z"
   },
   {
    "duration": 12,
    "start_time": "2023-03-09T18:35:36.196Z"
   },
   {
    "duration": 170,
    "start_time": "2023-03-09T18:35:36.210Z"
   },
   {
    "duration": 21,
    "start_time": "2023-03-09T18:35:36.382Z"
   },
   {
    "duration": 42,
    "start_time": "2023-03-09T18:35:36.405Z"
   },
   {
    "duration": 32,
    "start_time": "2023-03-09T18:35:36.449Z"
   },
   {
    "duration": 32,
    "start_time": "2023-03-09T18:35:36.483Z"
   },
   {
    "duration": 32,
    "start_time": "2023-03-09T18:35:36.517Z"
   },
   {
    "duration": 44,
    "start_time": "2023-03-09T18:35:36.550Z"
   },
   {
    "duration": 69,
    "start_time": "2023-03-09T18:35:36.596Z"
   },
   {
    "duration": 4,
    "start_time": "2023-03-09T18:35:36.667Z"
   },
   {
    "duration": 153,
    "start_time": "2023-03-09T18:35:36.672Z"
   },
   {
    "duration": 168,
    "start_time": "2023-03-09T18:35:36.827Z"
   },
   {
    "duration": 14,
    "start_time": "2023-03-09T18:35:36.997Z"
   },
   {
    "duration": 105,
    "start_time": "2023-03-09T18:35:37.012Z"
   },
   {
    "duration": 9,
    "start_time": "2023-03-09T18:35:37.119Z"
   },
   {
    "duration": 1416,
    "start_time": "2023-03-09T18:35:37.129Z"
   },
   {
    "duration": 155,
    "start_time": "2023-03-09T18:35:38.546Z"
   },
   {
    "duration": 197,
    "start_time": "2023-03-09T18:35:38.703Z"
   },
   {
    "duration": 4,
    "start_time": "2023-03-09T18:35:38.901Z"
   },
   {
    "duration": 24,
    "start_time": "2023-03-09T18:35:38.906Z"
   },
   {
    "duration": 110,
    "start_time": "2023-03-09T18:35:38.931Z"
   },
   {
    "duration": 117,
    "start_time": "2023-03-09T18:35:39.043Z"
   },
   {
    "duration": 4,
    "start_time": "2023-03-09T18:35:39.161Z"
   },
   {
    "duration": 47,
    "start_time": "2023-03-09T18:35:39.167Z"
   },
   {
    "duration": 19,
    "start_time": "2023-03-09T18:35:39.216Z"
   },
   {
    "duration": 29,
    "start_time": "2023-03-09T18:35:39.236Z"
   },
   {
    "duration": 46,
    "start_time": "2023-03-09T18:35:39.266Z"
   },
   {
    "duration": 23,
    "start_time": "2023-03-09T18:35:39.314Z"
   },
   {
    "duration": 18,
    "start_time": "2023-03-09T18:35:39.341Z"
   },
   {
    "duration": 305,
    "start_time": "2023-03-09T18:35:39.361Z"
   },
   {
    "duration": 281,
    "start_time": "2023-03-09T18:35:39.668Z"
   },
   {
    "duration": 278,
    "start_time": "2023-03-09T18:35:39.951Z"
   },
   {
    "duration": 4,
    "start_time": "2023-03-09T18:35:40.230Z"
   },
   {
    "duration": 6,
    "start_time": "2023-03-09T18:35:40.236Z"
   },
   {
    "duration": 268,
    "start_time": "2023-03-09T18:35:40.243Z"
   },
   {
    "duration": 5,
    "start_time": "2023-03-09T18:36:05.497Z"
   },
   {
    "duration": 287,
    "start_time": "2023-03-09T18:37:34.816Z"
   },
   {
    "duration": 368,
    "start_time": "2023-03-09T18:40:30.478Z"
   },
   {
    "duration": 3,
    "start_time": "2023-03-09T18:40:42.045Z"
   },
   {
    "duration": 282,
    "start_time": "2023-03-09T18:40:52.164Z"
   },
   {
    "duration": 11,
    "start_time": "2023-03-09T18:42:44.265Z"
   },
   {
    "duration": 23,
    "start_time": "2023-03-09T18:42:57.003Z"
   },
   {
    "duration": 25,
    "start_time": "2023-03-09T18:43:06.922Z"
   },
   {
    "duration": 10,
    "start_time": "2023-03-09T18:43:28.910Z"
   },
   {
    "duration": 4,
    "start_time": "2023-03-09T18:45:19.179Z"
   },
   {
    "duration": 15,
    "start_time": "2023-03-09T18:46:14.582Z"
   },
   {
    "duration": 9,
    "start_time": "2023-03-09T18:47:43.260Z"
   },
   {
    "duration": 4,
    "start_time": "2023-03-09T18:49:52.211Z"
   },
   {
    "duration": 3,
    "start_time": "2023-03-09T18:50:02.001Z"
   },
   {
    "duration": 15,
    "start_time": "2023-03-09T18:50:04.079Z"
   },
   {
    "duration": 3,
    "start_time": "2023-03-09T18:50:21.113Z"
   },
   {
    "duration": 16,
    "start_time": "2023-03-09T18:50:21.770Z"
   },
   {
    "duration": 15,
    "start_time": "2023-03-09T18:50:22.687Z"
   },
   {
    "duration": 14,
    "start_time": "2023-03-09T18:50:23.282Z"
   },
   {
    "duration": 15,
    "start_time": "2023-03-09T18:50:24.003Z"
   },
   {
    "duration": 1176,
    "start_time": "2023-03-09T18:50:28.568Z"
   },
   {
    "duration": 1155,
    "start_time": "2023-03-09T18:50:29.746Z"
   },
   {
    "duration": 17,
    "start_time": "2023-03-09T18:50:30.902Z"
   },
   {
    "duration": 18,
    "start_time": "2023-03-09T18:50:30.921Z"
   },
   {
    "duration": 3,
    "start_time": "2023-03-09T18:50:30.941Z"
   },
   {
    "duration": 19,
    "start_time": "2023-03-09T18:50:30.946Z"
   },
   {
    "duration": 21,
    "start_time": "2023-03-09T18:50:30.966Z"
   },
   {
    "duration": 51,
    "start_time": "2023-03-09T18:50:30.989Z"
   },
   {
    "duration": 16,
    "start_time": "2023-03-09T18:50:31.041Z"
   },
   {
    "duration": 35,
    "start_time": "2023-03-09T18:50:31.059Z"
   },
   {
    "duration": 53,
    "start_time": "2023-03-09T18:50:31.095Z"
   },
   {
    "duration": 35,
    "start_time": "2023-03-09T18:50:31.149Z"
   },
   {
    "duration": 44,
    "start_time": "2023-03-09T18:50:31.186Z"
   },
   {
    "duration": 130,
    "start_time": "2023-03-09T18:50:31.233Z"
   },
   {
    "duration": 12,
    "start_time": "2023-03-09T18:50:31.366Z"
   },
   {
    "duration": 4,
    "start_time": "2023-03-09T18:50:31.389Z"
   },
   {
    "duration": 36,
    "start_time": "2023-03-09T18:50:31.395Z"
   },
   {
    "duration": 32,
    "start_time": "2023-03-09T18:50:31.432Z"
   },
   {
    "duration": 38,
    "start_time": "2023-03-09T18:50:31.465Z"
   },
   {
    "duration": 47,
    "start_time": "2023-03-09T18:50:31.504Z"
   },
   {
    "duration": 63,
    "start_time": "2023-03-09T18:50:31.553Z"
   },
   {
    "duration": 3,
    "start_time": "2023-03-09T18:50:31.618Z"
   },
   {
    "duration": 198,
    "start_time": "2023-03-09T18:50:31.622Z"
   },
   {
    "duration": 169,
    "start_time": "2023-03-09T18:50:31.822Z"
   },
   {
    "duration": 15,
    "start_time": "2023-03-09T18:50:31.993Z"
   },
   {
    "duration": 113,
    "start_time": "2023-03-09T18:50:32.009Z"
   },
   {
    "duration": 9,
    "start_time": "2023-03-09T18:50:32.123Z"
   },
   {
    "duration": 1474,
    "start_time": "2023-03-09T18:50:32.134Z"
   },
   {
    "duration": 153,
    "start_time": "2023-03-09T18:50:33.610Z"
   },
   {
    "duration": 193,
    "start_time": "2023-03-09T18:50:33.765Z"
   },
   {
    "duration": 3,
    "start_time": "2023-03-09T18:50:33.961Z"
   },
   {
    "duration": 12,
    "start_time": "2023-03-09T18:50:33.966Z"
   },
   {
    "duration": 123,
    "start_time": "2023-03-09T18:50:33.980Z"
   },
   {
    "duration": 134,
    "start_time": "2023-03-09T18:50:34.105Z"
   },
   {
    "duration": 4,
    "start_time": "2023-03-09T18:50:34.241Z"
   },
   {
    "duration": 21,
    "start_time": "2023-03-09T18:50:34.247Z"
   },
   {
    "duration": 28,
    "start_time": "2023-03-09T18:50:34.269Z"
   },
   {
    "duration": 14,
    "start_time": "2023-03-09T18:50:34.298Z"
   },
   {
    "duration": 17,
    "start_time": "2023-03-09T18:50:34.314Z"
   },
   {
    "duration": 16,
    "start_time": "2023-03-09T18:50:34.333Z"
   },
   {
    "duration": 50,
    "start_time": "2023-03-09T18:50:34.353Z"
   },
   {
    "duration": 315,
    "start_time": "2023-03-09T18:50:34.404Z"
   },
   {
    "duration": 291,
    "start_time": "2023-03-09T18:50:34.721Z"
   },
   {
    "duration": 278,
    "start_time": "2023-03-09T18:50:35.014Z"
   },
   {
    "duration": 4,
    "start_time": "2023-03-09T18:50:35.293Z"
   },
   {
    "duration": 7,
    "start_time": "2023-03-09T18:50:35.299Z"
   },
   {
    "duration": 14,
    "start_time": "2023-03-09T18:50:35.308Z"
   },
   {
    "duration": 12,
    "start_time": "2023-03-09T18:50:35.324Z"
   },
   {
    "duration": 71,
    "start_time": "2023-03-09T18:55:34.027Z"
   },
   {
    "duration": 4,
    "start_time": "2023-03-09T18:55:40.285Z"
   },
   {
    "duration": 18,
    "start_time": "2023-03-09T18:55:41.286Z"
   },
   {
    "duration": 5,
    "start_time": "2023-03-09T18:56:14.008Z"
   },
   {
    "duration": 124,
    "start_time": "2023-03-09T18:56:14.544Z"
   },
   {
    "duration": 4,
    "start_time": "2023-03-09T18:56:27.212Z"
   },
   {
    "duration": 122,
    "start_time": "2023-03-09T18:56:28.353Z"
   },
   {
    "duration": 98,
    "start_time": "2023-03-09T18:56:29.876Z"
   },
   {
    "duration": 107,
    "start_time": "2023-03-09T18:56:33.587Z"
   },
   {
    "duration": 242,
    "start_time": "2023-03-09T18:56:34.235Z"
   },
   {
    "duration": 102,
    "start_time": "2023-03-09T18:56:36.159Z"
   },
   {
    "duration": 131,
    "start_time": "2023-03-09T18:56:36.972Z"
   },
   {
    "duration": 1176,
    "start_time": "2023-03-09T18:56:45.296Z"
   },
   {
    "duration": 992,
    "start_time": "2023-03-09T18:56:46.474Z"
   },
   {
    "duration": 18,
    "start_time": "2023-03-09T18:56:47.467Z"
   },
   {
    "duration": 15,
    "start_time": "2023-03-09T18:56:47.487Z"
   },
   {
    "duration": 5,
    "start_time": "2023-03-09T18:56:47.503Z"
   },
   {
    "duration": 12,
    "start_time": "2023-03-09T18:56:47.509Z"
   },
   {
    "duration": 11,
    "start_time": "2023-03-09T18:56:47.522Z"
   },
   {
    "duration": 38,
    "start_time": "2023-03-09T18:56:47.535Z"
   },
   {
    "duration": 11,
    "start_time": "2023-03-09T18:56:47.574Z"
   },
   {
    "duration": 13,
    "start_time": "2023-03-09T18:56:47.588Z"
   },
   {
    "duration": 20,
    "start_time": "2023-03-09T18:56:47.603Z"
   },
   {
    "duration": 4,
    "start_time": "2023-03-09T18:56:47.625Z"
   },
   {
    "duration": 20,
    "start_time": "2023-03-09T18:56:47.631Z"
   },
   {
    "duration": 132,
    "start_time": "2023-03-09T18:56:47.652Z"
   },
   {
    "duration": 11,
    "start_time": "2023-03-09T18:56:47.789Z"
   },
   {
    "duration": 4,
    "start_time": "2023-03-09T18:56:47.802Z"
   },
   {
    "duration": 12,
    "start_time": "2023-03-09T18:56:47.808Z"
   },
   {
    "duration": 13,
    "start_time": "2023-03-09T18:56:47.822Z"
   },
   {
    "duration": 3,
    "start_time": "2023-03-09T18:56:47.837Z"
   },
   {
    "duration": 15,
    "start_time": "2023-03-09T18:56:47.841Z"
   },
   {
    "duration": 62,
    "start_time": "2023-03-09T18:56:47.858Z"
   },
   {
    "duration": 3,
    "start_time": "2023-03-09T18:56:47.922Z"
   },
   {
    "duration": 174,
    "start_time": "2023-03-09T18:56:47.926Z"
   },
   {
    "duration": 184,
    "start_time": "2023-03-09T18:56:48.102Z"
   },
   {
    "duration": 15,
    "start_time": "2023-03-09T18:56:48.291Z"
   },
   {
    "duration": 107,
    "start_time": "2023-03-09T18:56:48.308Z"
   },
   {
    "duration": 11,
    "start_time": "2023-03-09T18:56:48.417Z"
   },
   {
    "duration": 1457,
    "start_time": "2023-03-09T18:56:48.434Z"
   },
   {
    "duration": 157,
    "start_time": "2023-03-09T18:56:49.892Z"
   },
   {
    "duration": 211,
    "start_time": "2023-03-09T18:56:50.052Z"
   },
   {
    "duration": 3,
    "start_time": "2023-03-09T18:56:50.265Z"
   },
   {
    "duration": 12,
    "start_time": "2023-03-09T18:56:50.270Z"
   },
   {
    "duration": 108,
    "start_time": "2023-03-09T18:56:50.290Z"
   },
   {
    "duration": 129,
    "start_time": "2023-03-09T18:56:50.399Z"
   },
   {
    "duration": 4,
    "start_time": "2023-03-09T18:56:50.530Z"
   },
   {
    "duration": 126,
    "start_time": "2023-03-09T18:56:50.535Z"
   },
   {
    "duration": 102,
    "start_time": "2023-03-09T18:56:50.663Z"
   },
   {
    "duration": 111,
    "start_time": "2023-03-09T18:56:50.766Z"
   },
   {
    "duration": 128,
    "start_time": "2023-03-09T18:56:50.879Z"
   },
   {
    "duration": 113,
    "start_time": "2023-03-09T18:56:51.009Z"
   },
   {
    "duration": 149,
    "start_time": "2023-03-09T18:56:51.124Z"
   },
   {
    "duration": 281,
    "start_time": "2023-03-09T18:56:51.275Z"
   },
   {
    "duration": 394,
    "start_time": "2023-03-09T18:56:51.558Z"
   },
   {
    "duration": 276,
    "start_time": "2023-03-09T18:56:51.954Z"
   },
   {
    "duration": 4,
    "start_time": "2023-03-09T18:56:52.231Z"
   },
   {
    "duration": 8,
    "start_time": "2023-03-09T18:56:52.237Z"
   },
   {
    "duration": 7,
    "start_time": "2023-03-09T18:56:52.246Z"
   },
   {
    "duration": 13,
    "start_time": "2023-03-09T18:56:52.255Z"
   },
   {
    "duration": 71,
    "start_time": "2023-03-09T19:02:07.310Z"
   },
   {
    "duration": 5,
    "start_time": "2023-03-09T19:02:12.082Z"
   },
   {
    "duration": 151,
    "start_time": "2023-03-09T19:02:13.312Z"
   },
   {
    "duration": 5,
    "start_time": "2023-03-09T19:02:42.537Z"
   },
   {
    "duration": 171,
    "start_time": "2023-03-09T19:02:42.985Z"
   },
   {
    "duration": 6,
    "start_time": "2023-03-09T19:03:28.173Z"
   },
   {
    "duration": 153,
    "start_time": "2023-03-09T19:03:28.795Z"
   },
   {
    "duration": 4,
    "start_time": "2023-03-09T19:03:39.942Z"
   },
   {
    "duration": 147,
    "start_time": "2023-03-09T19:03:40.404Z"
   },
   {
    "duration": 173,
    "start_time": "2023-03-09T19:03:45.131Z"
   },
   {
    "duration": 189,
    "start_time": "2023-03-09T19:03:46.391Z"
   },
   {
    "duration": 170,
    "start_time": "2023-03-09T19:03:47.139Z"
   },
   {
    "duration": 142,
    "start_time": "2023-03-09T19:03:47.869Z"
   },
   {
    "duration": 196,
    "start_time": "2023-03-09T19:03:53.389Z"
   },
   {
    "duration": 1243,
    "start_time": "2023-03-09T19:03:59.689Z"
   },
   {
    "duration": 1158,
    "start_time": "2023-03-09T19:04:00.934Z"
   },
   {
    "duration": 17,
    "start_time": "2023-03-09T19:04:02.094Z"
   },
   {
    "duration": 32,
    "start_time": "2023-03-09T19:04:02.113Z"
   },
   {
    "duration": 4,
    "start_time": "2023-03-09T19:04:02.147Z"
   },
   {
    "duration": 19,
    "start_time": "2023-03-09T19:04:02.153Z"
   },
   {
    "duration": 9,
    "start_time": "2023-03-09T19:04:02.173Z"
   },
   {
    "duration": 16,
    "start_time": "2023-03-09T19:04:02.183Z"
   },
   {
    "duration": 16,
    "start_time": "2023-03-09T19:04:02.201Z"
   },
   {
    "duration": 8,
    "start_time": "2023-03-09T19:04:02.219Z"
   },
   {
    "duration": 37,
    "start_time": "2023-03-09T19:04:02.228Z"
   },
   {
    "duration": 5,
    "start_time": "2023-03-09T19:04:02.266Z"
   },
   {
    "duration": 30,
    "start_time": "2023-03-09T19:04:02.273Z"
   },
   {
    "duration": 153,
    "start_time": "2023-03-09T19:04:02.307Z"
   },
   {
    "duration": 11,
    "start_time": "2023-03-09T19:04:02.462Z"
   },
   {
    "duration": 17,
    "start_time": "2023-03-09T19:04:02.475Z"
   },
   {
    "duration": 14,
    "start_time": "2023-03-09T19:04:02.494Z"
   },
   {
    "duration": 28,
    "start_time": "2023-03-09T19:04:02.510Z"
   },
   {
    "duration": 6,
    "start_time": "2023-03-09T19:04:02.540Z"
   },
   {
    "duration": 24,
    "start_time": "2023-03-09T19:04:02.547Z"
   },
   {
    "duration": 51,
    "start_time": "2023-03-09T19:04:02.573Z"
   },
   {
    "duration": 4,
    "start_time": "2023-03-09T19:04:02.626Z"
   },
   {
    "duration": 174,
    "start_time": "2023-03-09T19:04:02.632Z"
   },
   {
    "duration": 184,
    "start_time": "2023-03-09T19:04:02.808Z"
   },
   {
    "duration": 17,
    "start_time": "2023-03-09T19:04:02.995Z"
   },
   {
    "duration": 134,
    "start_time": "2023-03-09T19:04:03.013Z"
   },
   {
    "duration": 12,
    "start_time": "2023-03-09T19:04:03.149Z"
   },
   {
    "duration": 1530,
    "start_time": "2023-03-09T19:04:03.162Z"
   },
   {
    "duration": 175,
    "start_time": "2023-03-09T19:04:04.695Z"
   },
   {
    "duration": 208,
    "start_time": "2023-03-09T19:04:04.872Z"
   },
   {
    "duration": 9,
    "start_time": "2023-03-09T19:04:05.082Z"
   },
   {
    "duration": 18,
    "start_time": "2023-03-09T19:04:05.093Z"
   },
   {
    "duration": 13,
    "start_time": "2023-03-09T19:04:05.113Z"
   },
   {
    "duration": 168,
    "start_time": "2023-03-09T19:04:05.128Z"
   },
   {
    "duration": 158,
    "start_time": "2023-03-09T19:04:05.298Z"
   },
   {
    "duration": 146,
    "start_time": "2023-03-09T19:04:05.458Z"
   },
   {
    "duration": 194,
    "start_time": "2023-03-09T19:04:05.606Z"
   },
   {
    "duration": 160,
    "start_time": "2023-03-09T19:04:05.801Z"
   },
   {
    "duration": 215,
    "start_time": "2023-03-09T19:04:05.963Z"
   },
   {
    "duration": 353,
    "start_time": "2023-03-09T19:04:06.179Z"
   },
   {
    "duration": 276,
    "start_time": "2023-03-09T19:04:06.535Z"
   },
   {
    "duration": 383,
    "start_time": "2023-03-09T19:04:06.813Z"
   },
   {
    "duration": 4,
    "start_time": "2023-03-09T19:04:07.198Z"
   },
   {
    "duration": 7,
    "start_time": "2023-03-09T19:04:07.204Z"
   },
   {
    "duration": 5,
    "start_time": "2023-03-09T19:04:07.213Z"
   },
   {
    "duration": 10,
    "start_time": "2023-03-09T19:04:07.219Z"
   },
   {
    "duration": 85,
    "start_time": "2023-03-09T19:04:52.227Z"
   },
   {
    "duration": 170,
    "start_time": "2023-03-09T19:06:49.534Z"
   },
   {
    "duration": 1246,
    "start_time": "2023-03-09T19:07:24.481Z"
   },
   {
    "duration": 898,
    "start_time": "2023-03-09T19:07:25.729Z"
   },
   {
    "duration": 16,
    "start_time": "2023-03-09T19:07:26.629Z"
   },
   {
    "duration": 14,
    "start_time": "2023-03-09T19:07:26.646Z"
   },
   {
    "duration": 3,
    "start_time": "2023-03-09T19:07:26.662Z"
   },
   {
    "duration": 6,
    "start_time": "2023-03-09T19:07:26.667Z"
   },
   {
    "duration": 16,
    "start_time": "2023-03-09T19:07:26.674Z"
   },
   {
    "duration": 11,
    "start_time": "2023-03-09T19:07:26.691Z"
   },
   {
    "duration": 11,
    "start_time": "2023-03-09T19:07:26.703Z"
   },
   {
    "duration": 9,
    "start_time": "2023-03-09T19:07:26.716Z"
   },
   {
    "duration": 26,
    "start_time": "2023-03-09T19:07:26.727Z"
   },
   {
    "duration": 5,
    "start_time": "2023-03-09T19:07:26.754Z"
   },
   {
    "duration": 38,
    "start_time": "2023-03-09T19:07:26.761Z"
   },
   {
    "duration": 136,
    "start_time": "2023-03-09T19:07:26.801Z"
   },
   {
    "duration": 11,
    "start_time": "2023-03-09T19:07:26.939Z"
   },
   {
    "duration": 5,
    "start_time": "2023-03-09T19:07:26.951Z"
   },
   {
    "duration": 23,
    "start_time": "2023-03-09T19:07:26.958Z"
   },
   {
    "duration": 21,
    "start_time": "2023-03-09T19:07:26.983Z"
   },
   {
    "duration": 29,
    "start_time": "2023-03-09T19:07:27.005Z"
   },
   {
    "duration": 26,
    "start_time": "2023-03-09T19:07:27.035Z"
   },
   {
    "duration": 42,
    "start_time": "2023-03-09T19:07:27.062Z"
   },
   {
    "duration": 3,
    "start_time": "2023-03-09T19:07:27.106Z"
   },
   {
    "duration": 162,
    "start_time": "2023-03-09T19:07:27.110Z"
   },
   {
    "duration": 177,
    "start_time": "2023-03-09T19:07:27.274Z"
   },
   {
    "duration": 20,
    "start_time": "2023-03-09T19:07:27.453Z"
   },
   {
    "duration": 103,
    "start_time": "2023-03-09T19:07:27.493Z"
   },
   {
    "duration": 10,
    "start_time": "2023-03-09T19:07:27.599Z"
   },
   {
    "duration": 1503,
    "start_time": "2023-03-09T19:07:27.610Z"
   },
   {
    "duration": 165,
    "start_time": "2023-03-09T19:07:29.115Z"
   },
   {
    "duration": 211,
    "start_time": "2023-03-09T19:07:29.281Z"
   },
   {
    "duration": 3,
    "start_time": "2023-03-09T19:07:29.494Z"
   },
   {
    "duration": 12,
    "start_time": "2023-03-09T19:07:29.499Z"
   },
   {
    "duration": 10,
    "start_time": "2023-03-09T19:07:29.513Z"
   },
   {
    "duration": 155,
    "start_time": "2023-03-09T19:07:29.525Z"
   },
   {
    "duration": 161,
    "start_time": "2023-03-09T19:07:29.681Z"
   },
   {
    "duration": 183,
    "start_time": "2023-03-09T19:07:29.844Z"
   },
   {
    "duration": 149,
    "start_time": "2023-03-09T19:07:30.029Z"
   },
   {
    "duration": 222,
    "start_time": "2023-03-09T19:07:30.180Z"
   },
   {
    "duration": 162,
    "start_time": "2023-03-09T19:07:30.405Z"
   },
   {
    "duration": 209,
    "start_time": "2023-03-09T19:07:30.569Z"
   },
   {
    "duration": 286,
    "start_time": "2023-03-09T19:07:30.782Z"
   },
   {
    "duration": 389,
    "start_time": "2023-03-09T19:07:31.069Z"
   },
   {
    "duration": 287,
    "start_time": "2023-03-09T19:07:31.460Z"
   },
   {
    "duration": 4,
    "start_time": "2023-03-09T19:07:31.749Z"
   },
   {
    "duration": 21,
    "start_time": "2023-03-09T19:07:31.754Z"
   },
   {
    "duration": 44,
    "start_time": "2023-03-09T19:07:31.777Z"
   },
   {
    "duration": 30,
    "start_time": "2023-03-09T19:07:31.822Z"
   },
   {
    "duration": 4,
    "start_time": "2023-03-09T19:13:55.615Z"
   },
   {
    "duration": 287,
    "start_time": "2023-03-09T19:13:56.111Z"
   },
   {
    "duration": 4,
    "start_time": "2023-03-09T19:14:57.763Z"
   },
   {
    "duration": 155,
    "start_time": "2023-03-09T19:14:58.560Z"
   },
   {
    "duration": 152,
    "start_time": "2023-03-09T19:15:03.071Z"
   },
   {
    "duration": 183,
    "start_time": "2023-03-09T19:15:30.063Z"
   },
   {
    "duration": 132,
    "start_time": "2023-03-09T19:16:40.491Z"
   },
   {
    "duration": 1229,
    "start_time": "2023-03-09T19:19:14.636Z"
   },
   {
    "duration": 1177,
    "start_time": "2023-03-09T19:19:15.868Z"
   },
   {
    "duration": 21,
    "start_time": "2023-03-09T19:19:17.047Z"
   },
   {
    "duration": 17,
    "start_time": "2023-03-09T19:19:17.070Z"
   },
   {
    "duration": 5,
    "start_time": "2023-03-09T19:19:17.090Z"
   },
   {
    "duration": 8,
    "start_time": "2023-03-09T19:19:17.097Z"
   },
   {
    "duration": 7,
    "start_time": "2023-03-09T19:19:17.107Z"
   },
   {
    "duration": 15,
    "start_time": "2023-03-09T19:19:17.116Z"
   },
   {
    "duration": 15,
    "start_time": "2023-03-09T19:19:17.133Z"
   },
   {
    "duration": 8,
    "start_time": "2023-03-09T19:19:17.150Z"
   },
   {
    "duration": 46,
    "start_time": "2023-03-09T19:19:17.159Z"
   },
   {
    "duration": 4,
    "start_time": "2023-03-09T19:19:17.207Z"
   },
   {
    "duration": 14,
    "start_time": "2023-03-09T19:19:17.213Z"
   },
   {
    "duration": 142,
    "start_time": "2023-03-09T19:19:17.230Z"
   },
   {
    "duration": 17,
    "start_time": "2023-03-09T19:19:17.373Z"
   },
   {
    "duration": 4,
    "start_time": "2023-03-09T19:19:17.391Z"
   },
   {
    "duration": 9,
    "start_time": "2023-03-09T19:19:17.396Z"
   },
   {
    "duration": 12,
    "start_time": "2023-03-09T19:19:17.407Z"
   },
   {
    "duration": 3,
    "start_time": "2023-03-09T19:19:17.421Z"
   },
   {
    "duration": 15,
    "start_time": "2023-03-09T19:19:17.426Z"
   },
   {
    "duration": 68,
    "start_time": "2023-03-09T19:19:17.443Z"
   },
   {
    "duration": 3,
    "start_time": "2023-03-09T19:19:17.513Z"
   },
   {
    "duration": 174,
    "start_time": "2023-03-09T19:19:17.518Z"
   },
   {
    "duration": 169,
    "start_time": "2023-03-09T19:19:17.694Z"
   },
   {
    "duration": 25,
    "start_time": "2023-03-09T19:19:17.865Z"
   },
   {
    "duration": 99,
    "start_time": "2023-03-09T19:19:17.892Z"
   },
   {
    "duration": 9,
    "start_time": "2023-03-09T19:19:17.993Z"
   },
   {
    "duration": 1464,
    "start_time": "2023-03-09T19:19:18.004Z"
   },
   {
    "duration": 173,
    "start_time": "2023-03-09T19:19:19.470Z"
   },
   {
    "duration": 211,
    "start_time": "2023-03-09T19:19:19.645Z"
   },
   {
    "duration": 4,
    "start_time": "2023-03-09T19:19:19.858Z"
   },
   {
    "duration": 17,
    "start_time": "2023-03-09T19:19:19.863Z"
   },
   {
    "duration": 10,
    "start_time": "2023-03-09T19:19:19.882Z"
   },
   {
    "duration": 161,
    "start_time": "2023-03-09T19:19:19.894Z"
   },
   {
    "duration": 173,
    "start_time": "2023-03-09T19:19:20.058Z"
   },
   {
    "duration": 186,
    "start_time": "2023-03-09T19:19:20.233Z"
   },
   {
    "duration": 165,
    "start_time": "2023-03-09T19:19:20.421Z"
   },
   {
    "duration": 191,
    "start_time": "2023-03-09T19:19:20.590Z"
   },
   {
    "duration": 164,
    "start_time": "2023-03-09T19:19:20.782Z"
   },
   {
    "duration": 204,
    "start_time": "2023-03-09T19:19:20.948Z"
   },
   {
    "duration": 311,
    "start_time": "2023-03-09T19:19:21.157Z"
   },
   {
    "duration": 393,
    "start_time": "2023-03-09T19:19:21.470Z"
   },
   {
    "duration": 301,
    "start_time": "2023-03-09T19:19:21.864Z"
   },
   {
    "duration": 4,
    "start_time": "2023-03-09T19:19:22.166Z"
   },
   {
    "duration": 22,
    "start_time": "2023-03-09T19:19:22.171Z"
   },
   {
    "duration": 9,
    "start_time": "2023-03-09T19:19:22.194Z"
   },
   {
    "duration": 11,
    "start_time": "2023-03-09T19:19:22.204Z"
   },
   {
    "duration": 6,
    "start_time": "2023-03-09T19:20:28.604Z"
   },
   {
    "duration": 10,
    "start_time": "2023-03-09T19:20:40.218Z"
   },
   {
    "duration": 5,
    "start_time": "2023-03-09T19:33:40.259Z"
   },
   {
    "duration": 136,
    "start_time": "2023-03-09T19:35:15.606Z"
   },
   {
    "duration": 5,
    "start_time": "2023-03-09T19:35:29.442Z"
   },
   {
    "duration": 5,
    "start_time": "2023-03-09T19:35:32.999Z"
   },
   {
    "duration": 70,
    "start_time": "2023-03-09T19:35:45.688Z"
   },
   {
    "duration": 14,
    "start_time": "2023-03-09T19:35:54.387Z"
   },
   {
    "duration": 4,
    "start_time": "2023-03-09T19:36:05.282Z"
   },
   {
    "duration": 5,
    "start_time": "2023-03-09T19:36:05.758Z"
   },
   {
    "duration": 78,
    "start_time": "2023-03-09T19:36:11.387Z"
   },
   {
    "duration": 5,
    "start_time": "2023-03-09T19:36:16.509Z"
   },
   {
    "duration": 5,
    "start_time": "2023-03-09T19:36:17.360Z"
   },
   {
    "duration": 12,
    "start_time": "2023-03-09T19:36:27.038Z"
   },
   {
    "duration": 4,
    "start_time": "2023-03-09T19:49:57.578Z"
   },
   {
    "duration": 5,
    "start_time": "2023-03-09T20:00:04.553Z"
   },
   {
    "duration": 8,
    "start_time": "2023-03-09T20:00:05.084Z"
   },
   {
    "duration": 5,
    "start_time": "2023-03-09T20:00:09.790Z"
   },
   {
    "duration": 4,
    "start_time": "2023-03-09T20:00:37.273Z"
   },
   {
    "duration": 4,
    "start_time": "2023-03-09T20:00:37.748Z"
   },
   {
    "duration": 2,
    "start_time": "2023-03-09T20:07:04.378Z"
   },
   {
    "duration": 5,
    "start_time": "2023-03-09T20:07:04.893Z"
   },
   {
    "duration": 4,
    "start_time": "2023-03-09T20:07:38.586Z"
   },
   {
    "duration": 4,
    "start_time": "2023-03-09T20:07:39.579Z"
   },
   {
    "duration": 4,
    "start_time": "2023-03-09T20:08:09.846Z"
   },
   {
    "duration": 8,
    "start_time": "2023-03-09T20:08:25.326Z"
   },
   {
    "duration": 16,
    "start_time": "2023-03-09T20:08:33.095Z"
   },
   {
    "duration": 16,
    "start_time": "2023-03-09T20:10:54.112Z"
   },
   {
    "duration": 1135,
    "start_time": "2023-03-09T20:11:40.333Z"
   },
   {
    "duration": 13,
    "start_time": "2023-03-09T20:11:46.114Z"
   },
   {
    "duration": 14,
    "start_time": "2023-03-09T20:18:07.607Z"
   },
   {
    "duration": 15,
    "start_time": "2023-03-09T20:19:16.106Z"
   },
   {
    "duration": 12,
    "start_time": "2023-03-09T20:20:58.966Z"
   },
   {
    "duration": 17,
    "start_time": "2023-03-09T20:21:07.204Z"
   },
   {
    "duration": 14,
    "start_time": "2023-03-09T20:21:13.868Z"
   },
   {
    "duration": 13,
    "start_time": "2023-03-09T20:22:16.765Z"
   },
   {
    "duration": 16,
    "start_time": "2023-03-09T20:22:24.494Z"
   },
   {
    "duration": 1134,
    "start_time": "2023-03-09T20:22:47.596Z"
   },
   {
    "duration": 1108,
    "start_time": "2023-03-09T20:22:53.626Z"
   },
   {
    "duration": 15,
    "start_time": "2023-03-09T20:23:03.260Z"
   },
   {
    "duration": 5,
    "start_time": "2023-03-09T20:29:11.332Z"
   },
   {
    "duration": 5,
    "start_time": "2023-03-09T20:29:12.007Z"
   },
   {
    "duration": 16,
    "start_time": "2023-03-09T20:34:36.262Z"
   },
   {
    "duration": 1155,
    "start_time": "2023-03-09T20:35:03.330Z"
   },
   {
    "duration": 2093,
    "start_time": "2023-03-09T20:35:04.490Z"
   },
   {
    "duration": 15,
    "start_time": "2023-03-09T20:35:06.585Z"
   },
   {
    "duration": 12,
    "start_time": "2023-03-09T20:35:06.602Z"
   },
   {
    "duration": 4,
    "start_time": "2023-03-09T20:35:06.616Z"
   },
   {
    "duration": 5,
    "start_time": "2023-03-09T20:35:06.621Z"
   },
   {
    "duration": 6,
    "start_time": "2023-03-09T20:35:06.628Z"
   },
   {
    "duration": 11,
    "start_time": "2023-03-09T20:35:06.635Z"
   },
   {
    "duration": 42,
    "start_time": "2023-03-09T20:35:06.648Z"
   },
   {
    "duration": 10,
    "start_time": "2023-03-09T20:35:06.692Z"
   },
   {
    "duration": 20,
    "start_time": "2023-03-09T20:35:06.704Z"
   },
   {
    "duration": 4,
    "start_time": "2023-03-09T20:35:06.726Z"
   },
   {
    "duration": 11,
    "start_time": "2023-03-09T20:35:06.732Z"
   },
   {
    "duration": 158,
    "start_time": "2023-03-09T20:35:06.746Z"
   },
   {
    "duration": 12,
    "start_time": "2023-03-09T20:35:06.906Z"
   },
   {
    "duration": 6,
    "start_time": "2023-03-09T20:35:06.919Z"
   },
   {
    "duration": 7,
    "start_time": "2023-03-09T20:35:06.926Z"
   },
   {
    "duration": 15,
    "start_time": "2023-03-09T20:35:06.934Z"
   },
   {
    "duration": 2,
    "start_time": "2023-03-09T20:35:06.951Z"
   },
   {
    "duration": 35,
    "start_time": "2023-03-09T20:35:06.955Z"
   },
   {
    "duration": 39,
    "start_time": "2023-03-09T20:35:06.991Z"
   },
   {
    "duration": 3,
    "start_time": "2023-03-09T20:35:07.032Z"
   },
   {
    "duration": 165,
    "start_time": "2023-03-09T20:35:07.036Z"
   },
   {
    "duration": 165,
    "start_time": "2023-03-09T20:35:07.202Z"
   },
   {
    "duration": 5,
    "start_time": "2023-03-09T20:35:07.370Z"
   },
   {
    "duration": 98,
    "start_time": "2023-03-09T20:35:07.376Z"
   },
   {
    "duration": 18,
    "start_time": "2023-03-09T20:35:07.476Z"
   },
   {
    "duration": 1444,
    "start_time": "2023-03-09T20:35:07.495Z"
   },
   {
    "duration": 158,
    "start_time": "2023-03-09T20:35:08.941Z"
   },
   {
    "duration": 202,
    "start_time": "2023-03-09T20:35:09.101Z"
   },
   {
    "duration": 4,
    "start_time": "2023-03-09T20:35:09.305Z"
   },
   {
    "duration": 11,
    "start_time": "2023-03-09T20:35:09.310Z"
   },
   {
    "duration": 4,
    "start_time": "2023-03-09T20:35:09.323Z"
   },
   {
    "duration": 170,
    "start_time": "2023-03-09T20:35:09.329Z"
   },
   {
    "duration": 173,
    "start_time": "2023-03-09T20:35:09.501Z"
   },
   {
    "duration": 191,
    "start_time": "2023-03-09T20:35:09.676Z"
   },
   {
    "duration": 156,
    "start_time": "2023-03-09T20:35:09.868Z"
   },
   {
    "duration": 191,
    "start_time": "2023-03-09T20:35:10.026Z"
   },
   {
    "duration": 155,
    "start_time": "2023-03-09T20:35:10.219Z"
   },
   {
    "duration": 217,
    "start_time": "2023-03-09T20:35:10.376Z"
   },
   {
    "duration": 4,
    "start_time": "2023-03-09T20:35:10.596Z"
   },
   {
    "duration": 8,
    "start_time": "2023-03-09T20:35:10.601Z"
   },
   {
    "duration": 12,
    "start_time": "2023-03-09T20:35:10.611Z"
   },
   {
    "duration": 19,
    "start_time": "2023-03-09T20:35:10.625Z"
   },
   {
    "duration": 280,
    "start_time": "2023-03-09T20:35:10.646Z"
   },
   {
    "duration": 426,
    "start_time": "2023-03-09T20:35:10.928Z"
   },
   {
    "duration": 273,
    "start_time": "2023-03-09T20:35:11.355Z"
   },
   {
    "duration": 4,
    "start_time": "2023-03-09T20:35:11.630Z"
   },
   {
    "duration": 7,
    "start_time": "2023-03-09T20:35:11.635Z"
   },
   {
    "duration": 9,
    "start_time": "2023-03-09T20:35:11.644Z"
   },
   {
    "duration": 10,
    "start_time": "2023-03-09T20:35:11.654Z"
   },
   {
    "duration": 133,
    "start_time": "2023-03-09T20:35:11.666Z"
   },
   {
    "duration": 152,
    "start_time": "2023-03-09T20:35:58.703Z"
   },
   {
    "duration": 311,
    "start_time": "2023-03-09T20:36:03.194Z"
   },
   {
    "duration": 314,
    "start_time": "2023-03-09T20:37:25.568Z"
   },
   {
    "duration": 304,
    "start_time": "2023-03-09T20:37:27.839Z"
   },
   {
    "duration": 15,
    "start_time": "2023-03-09T20:38:11.967Z"
   },
   {
    "duration": 1110,
    "start_time": "2023-03-09T20:45:14.866Z"
   },
   {
    "duration": 4,
    "start_time": "2023-03-09T20:45:22.007Z"
   },
   {
    "duration": 10,
    "start_time": "2023-03-09T20:58:50.165Z"
   },
   {
    "duration": 4,
    "start_time": "2023-03-09T20:59:46.531Z"
   },
   {
    "duration": 12,
    "start_time": "2023-03-09T21:00:10.547Z"
   },
   {
    "duration": 11,
    "start_time": "2023-03-09T21:12:07.416Z"
   },
   {
    "duration": 325,
    "start_time": "2023-03-09T21:12:46.446Z"
   },
   {
    "duration": 23,
    "start_time": "2023-03-09T21:14:47.283Z"
   },
   {
    "duration": 21,
    "start_time": "2023-03-09T21:16:18.813Z"
   },
   {
    "duration": 16,
    "start_time": "2023-03-09T21:16:38.769Z"
   },
   {
    "duration": 459,
    "start_time": "2023-03-09T21:17:28.723Z"
   },
   {
    "duration": 559,
    "start_time": "2023-03-09T21:17:46.683Z"
   },
   {
    "duration": 16,
    "start_time": "2023-03-09T21:25:14.538Z"
   },
   {
    "duration": 14,
    "start_time": "2023-03-09T21:25:25.195Z"
   },
   {
    "duration": 14,
    "start_time": "2023-03-09T21:25:59.385Z"
   },
   {
    "duration": 1157,
    "start_time": "2023-03-09T21:26:04.595Z"
   },
   {
    "duration": 1137,
    "start_time": "2023-03-09T21:26:05.754Z"
   },
   {
    "duration": 16,
    "start_time": "2023-03-09T21:26:06.892Z"
   },
   {
    "duration": 48,
    "start_time": "2023-03-09T21:26:06.909Z"
   },
   {
    "duration": 22,
    "start_time": "2023-03-09T21:26:06.959Z"
   },
   {
    "duration": 17,
    "start_time": "2023-03-09T21:26:06.982Z"
   },
   {
    "duration": 21,
    "start_time": "2023-03-09T21:26:07.000Z"
   },
   {
    "duration": 21,
    "start_time": "2023-03-09T21:26:07.022Z"
   },
   {
    "duration": 9,
    "start_time": "2023-03-09T21:26:07.045Z"
   },
   {
    "duration": 39,
    "start_time": "2023-03-09T21:26:07.056Z"
   },
   {
    "duration": 15,
    "start_time": "2023-03-09T21:26:07.097Z"
   },
   {
    "duration": 33,
    "start_time": "2023-03-09T21:26:07.113Z"
   },
   {
    "duration": 6,
    "start_time": "2023-03-09T21:26:07.148Z"
   },
   {
    "duration": 34,
    "start_time": "2023-03-09T21:26:07.157Z"
   },
   {
    "duration": 152,
    "start_time": "2023-03-09T21:26:07.193Z"
   },
   {
    "duration": 10,
    "start_time": "2023-03-09T21:26:07.347Z"
   },
   {
    "duration": 6,
    "start_time": "2023-03-09T21:26:07.358Z"
   },
   {
    "duration": 12,
    "start_time": "2023-03-09T21:26:07.365Z"
   },
   {
    "duration": 19,
    "start_time": "2023-03-09T21:26:07.379Z"
   },
   {
    "duration": 13,
    "start_time": "2023-03-09T21:26:07.399Z"
   },
   {
    "duration": 38,
    "start_time": "2023-03-09T21:26:07.414Z"
   },
   {
    "duration": 2,
    "start_time": "2023-03-09T21:26:07.454Z"
   },
   {
    "duration": 163,
    "start_time": "2023-03-09T21:26:07.458Z"
   },
   {
    "duration": 180,
    "start_time": "2023-03-09T21:26:07.622Z"
   },
   {
    "duration": 5,
    "start_time": "2023-03-09T21:26:07.804Z"
   },
   {
    "duration": 123,
    "start_time": "2023-03-09T21:26:07.812Z"
   },
   {
    "duration": 9,
    "start_time": "2023-03-09T21:26:07.937Z"
   },
   {
    "duration": 1532,
    "start_time": "2023-03-09T21:26:07.948Z"
   },
   {
    "duration": 162,
    "start_time": "2023-03-09T21:26:09.482Z"
   },
   {
    "duration": 193,
    "start_time": "2023-03-09T21:26:09.646Z"
   },
   {
    "duration": 3,
    "start_time": "2023-03-09T21:26:09.841Z"
   },
   {
    "duration": 10,
    "start_time": "2023-03-09T21:26:09.846Z"
   },
   {
    "duration": 6,
    "start_time": "2023-03-09T21:26:09.858Z"
   },
   {
    "duration": 155,
    "start_time": "2023-03-09T21:26:09.865Z"
   },
   {
    "duration": 155,
    "start_time": "2023-03-09T21:26:10.022Z"
   },
   {
    "duration": 171,
    "start_time": "2023-03-09T21:26:10.179Z"
   },
   {
    "duration": 141,
    "start_time": "2023-03-09T21:26:10.351Z"
   },
   {
    "duration": 179,
    "start_time": "2023-03-09T21:26:10.493Z"
   },
   {
    "duration": 143,
    "start_time": "2023-03-09T21:26:10.673Z"
   },
   {
    "duration": 205,
    "start_time": "2023-03-09T21:26:10.818Z"
   },
   {
    "duration": 15,
    "start_time": "2023-03-09T21:26:11.027Z"
   },
   {
    "duration": 13,
    "start_time": "2023-03-09T21:26:11.044Z"
   },
   {
    "duration": 37,
    "start_time": "2023-03-09T21:26:11.059Z"
   },
   {
    "duration": 276,
    "start_time": "2023-03-09T21:26:11.097Z"
   },
   {
    "duration": 385,
    "start_time": "2023-03-09T21:26:11.375Z"
   },
   {
    "duration": 270,
    "start_time": "2023-03-09T21:26:11.762Z"
   },
   {
    "duration": 4,
    "start_time": "2023-03-09T21:26:12.034Z"
   },
   {
    "duration": 28,
    "start_time": "2023-03-09T21:26:12.039Z"
   },
   {
    "duration": 30,
    "start_time": "2023-03-09T21:26:12.069Z"
   },
   {
    "duration": 31,
    "start_time": "2023-03-09T21:26:12.100Z"
   },
   {
    "duration": 286,
    "start_time": "2023-03-09T21:26:12.133Z"
   },
   {
    "duration": 308,
    "start_time": "2023-03-09T21:26:12.421Z"
   },
   {
    "duration": 295,
    "start_time": "2023-03-09T21:26:12.731Z"
   },
   {
    "duration": 11,
    "start_time": "2023-03-09T21:26:13.028Z"
   },
   {
    "duration": 13,
    "start_time": "2023-03-09T21:26:59.891Z"
   },
   {
    "duration": 15,
    "start_time": "2023-03-09T21:27:15.679Z"
   },
   {
    "duration": 13,
    "start_time": "2023-03-09T21:27:56.570Z"
   },
   {
    "duration": 14,
    "start_time": "2023-03-09T21:28:28.703Z"
   },
   {
    "duration": 14,
    "start_time": "2023-03-09T21:29:37.617Z"
   },
   {
    "duration": 14,
    "start_time": "2023-03-09T21:29:49.433Z"
   },
   {
    "duration": 14,
    "start_time": "2023-03-09T21:31:13.781Z"
   },
   {
    "duration": 14,
    "start_time": "2023-03-09T21:31:48.111Z"
   },
   {
    "duration": 14,
    "start_time": "2023-03-09T21:32:21.114Z"
   },
   {
    "duration": 15,
    "start_time": "2023-03-09T21:33:45.517Z"
   },
   {
    "duration": 14,
    "start_time": "2023-03-09T21:33:57.420Z"
   },
   {
    "duration": 15,
    "start_time": "2023-03-09T21:34:13.846Z"
   },
   {
    "duration": 15,
    "start_time": "2023-03-09T21:34:25.864Z"
   },
   {
    "duration": 14,
    "start_time": "2023-03-09T21:35:02.322Z"
   },
   {
    "duration": 13,
    "start_time": "2023-03-09T21:35:08.508Z"
   },
   {
    "duration": 15,
    "start_time": "2023-03-09T21:35:23.471Z"
   },
   {
    "duration": 1236,
    "start_time": "2023-03-09T21:36:14.580Z"
   },
   {
    "duration": 1135,
    "start_time": "2023-03-09T21:37:21.116Z"
   },
   {
    "duration": 1205,
    "start_time": "2023-03-09T21:37:22.253Z"
   },
   {
    "duration": 15,
    "start_time": "2023-03-09T21:37:23.460Z"
   },
   {
    "duration": 13,
    "start_time": "2023-03-09T21:37:23.477Z"
   },
   {
    "duration": 4,
    "start_time": "2023-03-09T21:37:23.491Z"
   },
   {
    "duration": 10,
    "start_time": "2023-03-09T21:37:23.497Z"
   },
   {
    "duration": 6,
    "start_time": "2023-03-09T21:37:23.508Z"
   },
   {
    "duration": 11,
    "start_time": "2023-03-09T21:37:23.515Z"
   },
   {
    "duration": 6,
    "start_time": "2023-03-09T21:37:23.527Z"
   },
   {
    "duration": 10,
    "start_time": "2023-03-09T21:37:23.535Z"
   },
   {
    "duration": 7,
    "start_time": "2023-03-09T21:37:23.547Z"
   },
   {
    "duration": 44,
    "start_time": "2023-03-09T21:37:23.555Z"
   },
   {
    "duration": 5,
    "start_time": "2023-03-09T21:37:23.600Z"
   },
   {
    "duration": 12,
    "start_time": "2023-03-09T21:37:23.606Z"
   },
   {
    "duration": 138,
    "start_time": "2023-03-09T21:37:23.620Z"
   },
   {
    "duration": 10,
    "start_time": "2023-03-09T21:37:23.759Z"
   },
   {
    "duration": 19,
    "start_time": "2023-03-09T21:37:23.771Z"
   },
   {
    "duration": 8,
    "start_time": "2023-03-09T21:37:23.792Z"
   },
   {
    "duration": 9,
    "start_time": "2023-03-09T21:37:23.801Z"
   },
   {
    "duration": 26,
    "start_time": "2023-03-09T21:37:23.812Z"
   },
   {
    "duration": 36,
    "start_time": "2023-03-09T21:37:23.839Z"
   },
   {
    "duration": 13,
    "start_time": "2023-03-09T21:37:23.877Z"
   },
   {
    "duration": 150,
    "start_time": "2023-03-09T21:37:23.891Z"
   },
   {
    "duration": 164,
    "start_time": "2023-03-09T21:37:24.043Z"
   },
   {
    "duration": 4,
    "start_time": "2023-03-09T21:37:24.208Z"
   },
   {
    "duration": 102,
    "start_time": "2023-03-09T21:37:24.214Z"
   },
   {
    "duration": 7,
    "start_time": "2023-03-09T21:37:24.318Z"
   },
   {
    "duration": 1449,
    "start_time": "2023-03-09T21:37:24.329Z"
   },
   {
    "duration": 148,
    "start_time": "2023-03-09T21:37:25.780Z"
   },
   {
    "duration": 196,
    "start_time": "2023-03-09T21:37:25.929Z"
   },
   {
    "duration": 4,
    "start_time": "2023-03-09T21:37:26.126Z"
   },
   {
    "duration": 10,
    "start_time": "2023-03-09T21:37:26.132Z"
   },
   {
    "duration": 15,
    "start_time": "2023-03-09T21:37:26.143Z"
   },
   {
    "duration": 177,
    "start_time": "2023-03-09T21:37:26.160Z"
   },
   {
    "duration": 176,
    "start_time": "2023-03-09T21:37:26.338Z"
   },
   {
    "duration": 169,
    "start_time": "2023-03-09T21:37:26.515Z"
   },
   {
    "duration": 136,
    "start_time": "2023-03-09T21:37:26.686Z"
   },
   {
    "duration": 184,
    "start_time": "2023-03-09T21:37:26.823Z"
   },
   {
    "duration": 156,
    "start_time": "2023-03-09T21:37:27.008Z"
   },
   {
    "duration": 188,
    "start_time": "2023-03-09T21:37:27.166Z"
   },
   {
    "duration": 13,
    "start_time": "2023-03-09T21:37:27.355Z"
   },
   {
    "duration": 27,
    "start_time": "2023-03-09T21:37:27.369Z"
   },
   {
    "duration": 13,
    "start_time": "2023-03-09T21:37:27.398Z"
   },
   {
    "duration": 14,
    "start_time": "2023-03-09T21:37:27.413Z"
   },
   {
    "duration": 16,
    "start_time": "2023-03-09T21:37:27.429Z"
   },
   {
    "duration": 16,
    "start_time": "2023-03-09T21:37:27.447Z"
   },
   {
    "duration": 14,
    "start_time": "2023-03-09T21:37:27.490Z"
   },
   {
    "duration": 13,
    "start_time": "2023-03-09T21:37:27.505Z"
   },
   {
    "duration": 12,
    "start_time": "2023-03-09T21:37:27.520Z"
   },
   {
    "duration": 1235,
    "start_time": "2023-03-09T21:37:27.534Z"
   },
   {
    "duration": 0,
    "start_time": "2023-03-09T21:37:28.770Z"
   },
   {
    "duration": 0,
    "start_time": "2023-03-09T21:37:28.772Z"
   },
   {
    "duration": 0,
    "start_time": "2023-03-09T21:37:28.773Z"
   },
   {
    "duration": 0,
    "start_time": "2023-03-09T21:37:28.774Z"
   },
   {
    "duration": 0,
    "start_time": "2023-03-09T21:37:28.775Z"
   },
   {
    "duration": 0,
    "start_time": "2023-03-09T21:37:28.776Z"
   },
   {
    "duration": 0,
    "start_time": "2023-03-09T21:37:28.778Z"
   },
   {
    "duration": 0,
    "start_time": "2023-03-09T21:37:28.779Z"
   },
   {
    "duration": 0,
    "start_time": "2023-03-09T21:37:28.780Z"
   },
   {
    "duration": 0,
    "start_time": "2023-03-09T21:37:28.781Z"
   },
   {
    "duration": 0,
    "start_time": "2023-03-09T21:37:28.783Z"
   },
   {
    "duration": 0,
    "start_time": "2023-03-09T21:37:28.783Z"
   },
   {
    "duration": 63,
    "start_time": "2023-03-09T21:37:55.463Z"
   },
   {
    "duration": 1171,
    "start_time": "2023-03-09T21:38:30.962Z"
   },
   {
    "duration": 1090,
    "start_time": "2023-03-09T21:38:36.713Z"
   },
   {
    "duration": 1124,
    "start_time": "2023-03-09T21:38:51.613Z"
   },
   {
    "duration": 1106,
    "start_time": "2023-03-09T21:38:52.739Z"
   },
   {
    "duration": 16,
    "start_time": "2023-03-09T21:38:53.847Z"
   },
   {
    "duration": 14,
    "start_time": "2023-03-09T21:38:53.864Z"
   },
   {
    "duration": 4,
    "start_time": "2023-03-09T21:38:53.880Z"
   },
   {
    "duration": 5,
    "start_time": "2023-03-09T21:38:53.886Z"
   },
   {
    "duration": 13,
    "start_time": "2023-03-09T21:38:53.893Z"
   },
   {
    "duration": 12,
    "start_time": "2023-03-09T21:38:53.907Z"
   },
   {
    "duration": 4,
    "start_time": "2023-03-09T21:38:53.920Z"
   },
   {
    "duration": 18,
    "start_time": "2023-03-09T21:38:53.925Z"
   },
   {
    "duration": 8,
    "start_time": "2023-03-09T21:38:53.944Z"
   },
   {
    "duration": 19,
    "start_time": "2023-03-09T21:38:53.953Z"
   },
   {
    "duration": 6,
    "start_time": "2023-03-09T21:38:53.990Z"
   },
   {
    "duration": 12,
    "start_time": "2023-03-09T21:38:53.999Z"
   },
   {
    "duration": 140,
    "start_time": "2023-03-09T21:38:54.013Z"
   },
   {
    "duration": 10,
    "start_time": "2023-03-09T21:38:54.156Z"
   },
   {
    "duration": 4,
    "start_time": "2023-03-09T21:38:54.168Z"
   },
   {
    "duration": 7,
    "start_time": "2023-03-09T21:38:54.190Z"
   },
   {
    "duration": 10,
    "start_time": "2023-03-09T21:38:54.199Z"
   },
   {
    "duration": 10,
    "start_time": "2023-03-09T21:38:54.210Z"
   },
   {
    "duration": 36,
    "start_time": "2023-03-09T21:38:54.222Z"
   },
   {
    "duration": 32,
    "start_time": "2023-03-09T21:38:54.260Z"
   },
   {
    "duration": 155,
    "start_time": "2023-03-09T21:38:54.294Z"
   },
   {
    "duration": 178,
    "start_time": "2023-03-09T21:38:54.452Z"
   },
   {
    "duration": 5,
    "start_time": "2023-03-09T21:38:54.632Z"
   },
   {
    "duration": 99,
    "start_time": "2023-03-09T21:38:54.639Z"
   },
   {
    "duration": 9,
    "start_time": "2023-03-09T21:38:54.740Z"
   },
   {
    "duration": 1448,
    "start_time": "2023-03-09T21:38:54.751Z"
   },
   {
    "duration": 202,
    "start_time": "2023-03-09T21:38:56.201Z"
   },
   {
    "duration": 191,
    "start_time": "2023-03-09T21:38:56.405Z"
   },
   {
    "duration": 4,
    "start_time": "2023-03-09T21:38:56.598Z"
   },
   {
    "duration": 8,
    "start_time": "2023-03-09T21:38:56.603Z"
   },
   {
    "duration": 7,
    "start_time": "2023-03-09T21:38:56.613Z"
   },
   {
    "duration": 144,
    "start_time": "2023-03-09T21:38:56.622Z"
   },
   {
    "duration": 146,
    "start_time": "2023-03-09T21:38:56.768Z"
   },
   {
    "duration": 177,
    "start_time": "2023-03-09T21:38:56.915Z"
   },
   {
    "duration": 152,
    "start_time": "2023-03-09T21:38:57.094Z"
   },
   {
    "duration": 177,
    "start_time": "2023-03-09T21:38:57.247Z"
   },
   {
    "duration": 153,
    "start_time": "2023-03-09T21:38:57.425Z"
   },
   {
    "duration": 190,
    "start_time": "2023-03-09T21:38:57.580Z"
   },
   {
    "duration": 22,
    "start_time": "2023-03-09T21:38:57.774Z"
   },
   {
    "duration": 13,
    "start_time": "2023-03-09T21:38:57.798Z"
   },
   {
    "duration": 22,
    "start_time": "2023-03-09T21:38:57.812Z"
   },
   {
    "duration": 35,
    "start_time": "2023-03-09T21:38:57.836Z"
   },
   {
    "duration": 32,
    "start_time": "2023-03-09T21:38:57.872Z"
   },
   {
    "duration": 34,
    "start_time": "2023-03-09T21:38:57.905Z"
   },
   {
    "duration": 50,
    "start_time": "2023-03-09T21:38:57.941Z"
   },
   {
    "duration": 16,
    "start_time": "2023-03-09T21:38:57.993Z"
   },
   {
    "duration": 15,
    "start_time": "2023-03-09T21:38:58.011Z"
   },
   {
    "duration": 20,
    "start_time": "2023-03-09T21:38:58.027Z"
   },
   {
    "duration": 275,
    "start_time": "2023-03-09T21:38:58.048Z"
   },
   {
    "duration": 381,
    "start_time": "2023-03-09T21:38:58.324Z"
   },
   {
    "duration": 257,
    "start_time": "2023-03-09T21:38:58.707Z"
   },
   {
    "duration": 4,
    "start_time": "2023-03-09T21:38:58.966Z"
   },
   {
    "duration": 19,
    "start_time": "2023-03-09T21:38:58.971Z"
   },
   {
    "duration": 5,
    "start_time": "2023-03-09T21:38:58.991Z"
   },
   {
    "duration": 9,
    "start_time": "2023-03-09T21:38:58.998Z"
   },
   {
    "duration": 295,
    "start_time": "2023-03-09T21:38:59.008Z"
   },
   {
    "duration": 302,
    "start_time": "2023-03-09T21:38:59.305Z"
   },
   {
    "duration": 282,
    "start_time": "2023-03-09T21:38:59.608Z"
   },
   {
    "duration": 9,
    "start_time": "2023-03-09T21:38:59.891Z"
   },
   {
    "duration": 14,
    "start_time": "2023-03-09T21:45:20.911Z"
   },
   {
    "duration": 14,
    "start_time": "2023-03-09T21:45:49.823Z"
   },
   {
    "duration": 14,
    "start_time": "2023-03-09T21:45:55.962Z"
   },
   {
    "duration": 15,
    "start_time": "2023-03-09T21:47:29.608Z"
   },
   {
    "duration": 14,
    "start_time": "2023-03-09T21:47:43.631Z"
   },
   {
    "duration": 14,
    "start_time": "2023-03-09T21:48:37.302Z"
   },
   {
    "duration": 14,
    "start_time": "2023-03-09T21:48:44.071Z"
   },
   {
    "duration": 1203,
    "start_time": "2023-03-09T21:48:51.102Z"
   },
   {
    "duration": 15,
    "start_time": "2023-03-09T21:49:02.900Z"
   },
   {
    "duration": 13,
    "start_time": "2023-03-09T21:49:06.967Z"
   },
   {
    "duration": 15,
    "start_time": "2023-03-09T21:49:16.444Z"
   },
   {
    "duration": 295,
    "start_time": "2023-03-09T22:06:45.381Z"
   },
   {
    "duration": 1137,
    "start_time": "2023-03-09T22:07:44.779Z"
   },
   {
    "duration": 1225,
    "start_time": "2023-03-09T22:07:45.919Z"
   },
   {
    "duration": 16,
    "start_time": "2023-03-09T22:07:47.146Z"
   },
   {
    "duration": 15,
    "start_time": "2023-03-09T22:07:47.164Z"
   },
   {
    "duration": 5,
    "start_time": "2023-03-09T22:07:47.181Z"
   },
   {
    "duration": 15,
    "start_time": "2023-03-09T22:07:47.188Z"
   },
   {
    "duration": 16,
    "start_time": "2023-03-09T22:07:47.204Z"
   },
   {
    "duration": 44,
    "start_time": "2023-03-09T22:07:47.221Z"
   },
   {
    "duration": 19,
    "start_time": "2023-03-09T22:07:47.267Z"
   },
   {
    "duration": 35,
    "start_time": "2023-03-09T22:07:47.288Z"
   },
   {
    "duration": 12,
    "start_time": "2023-03-09T22:07:47.324Z"
   },
   {
    "duration": 37,
    "start_time": "2023-03-09T22:07:47.338Z"
   },
   {
    "duration": 4,
    "start_time": "2023-03-09T22:07:47.376Z"
   },
   {
    "duration": 28,
    "start_time": "2023-03-09T22:07:47.382Z"
   },
   {
    "duration": 127,
    "start_time": "2023-03-09T22:07:47.412Z"
   },
   {
    "duration": 10,
    "start_time": "2023-03-09T22:07:47.541Z"
   },
   {
    "duration": 25,
    "start_time": "2023-03-09T22:07:47.552Z"
   },
   {
    "duration": 24,
    "start_time": "2023-03-09T22:07:47.579Z"
   },
   {
    "duration": 26,
    "start_time": "2023-03-09T22:07:47.605Z"
   },
   {
    "duration": 18,
    "start_time": "2023-03-09T22:07:47.632Z"
   },
   {
    "duration": 49,
    "start_time": "2023-03-09T22:07:47.652Z"
   },
   {
    "duration": 3,
    "start_time": "2023-03-09T22:07:47.702Z"
   },
   {
    "duration": 153,
    "start_time": "2023-03-09T22:07:47.706Z"
   },
   {
    "duration": 156,
    "start_time": "2023-03-09T22:07:47.860Z"
   },
   {
    "duration": 4,
    "start_time": "2023-03-09T22:07:48.017Z"
   },
   {
    "duration": 116,
    "start_time": "2023-03-09T22:07:48.022Z"
   },
   {
    "duration": 9,
    "start_time": "2023-03-09T22:07:48.140Z"
   },
   {
    "duration": 1408,
    "start_time": "2023-03-09T22:07:48.154Z"
   },
   {
    "duration": 156,
    "start_time": "2023-03-09T22:07:49.564Z"
   },
   {
    "duration": 186,
    "start_time": "2023-03-09T22:07:49.722Z"
   },
   {
    "duration": 4,
    "start_time": "2023-03-09T22:07:49.910Z"
   },
   {
    "duration": 14,
    "start_time": "2023-03-09T22:07:49.915Z"
   },
   {
    "duration": 8,
    "start_time": "2023-03-09T22:07:49.931Z"
   },
   {
    "duration": 143,
    "start_time": "2023-03-09T22:07:49.940Z"
   },
   {
    "duration": 146,
    "start_time": "2023-03-09T22:07:50.089Z"
   },
   {
    "duration": 175,
    "start_time": "2023-03-09T22:07:50.237Z"
   },
   {
    "duration": 145,
    "start_time": "2023-03-09T22:07:50.414Z"
   },
   {
    "duration": 180,
    "start_time": "2023-03-09T22:07:50.560Z"
   },
   {
    "duration": 159,
    "start_time": "2023-03-09T22:07:50.742Z"
   },
   {
    "duration": 197,
    "start_time": "2023-03-09T22:07:50.903Z"
   },
   {
    "duration": 15,
    "start_time": "2023-03-09T22:07:51.102Z"
   },
   {
    "duration": 17,
    "start_time": "2023-03-09T22:07:51.118Z"
   },
   {
    "duration": 12,
    "start_time": "2023-03-09T22:07:51.137Z"
   },
   {
    "duration": 42,
    "start_time": "2023-03-09T22:07:51.150Z"
   },
   {
    "duration": 13,
    "start_time": "2023-03-09T22:07:51.194Z"
   },
   {
    "duration": 13,
    "start_time": "2023-03-09T22:07:51.209Z"
   },
   {
    "duration": 13,
    "start_time": "2023-03-09T22:07:51.224Z"
   },
   {
    "duration": 13,
    "start_time": "2023-03-09T22:07:51.239Z"
   },
   {
    "duration": 44,
    "start_time": "2023-03-09T22:07:51.253Z"
   },
   {
    "duration": 13,
    "start_time": "2023-03-09T22:07:51.299Z"
   },
   {
    "duration": 13,
    "start_time": "2023-03-09T22:07:51.313Z"
   },
   {
    "duration": 295,
    "start_time": "2023-03-09T22:07:51.327Z"
   },
   {
    "duration": 383,
    "start_time": "2023-03-09T22:07:51.624Z"
   },
   {
    "duration": 4,
    "start_time": "2023-03-09T22:07:52.009Z"
   },
   {
    "duration": 14,
    "start_time": "2023-03-09T22:07:52.015Z"
   },
   {
    "duration": 8,
    "start_time": "2023-03-09T22:07:52.030Z"
   },
   {
    "duration": 294,
    "start_time": "2023-03-09T22:07:52.040Z"
   },
   {
    "duration": 300,
    "start_time": "2023-03-09T22:07:52.336Z"
   },
   {
    "duration": 12,
    "start_time": "2023-03-09T22:07:52.638Z"
   },
   {
    "duration": 1120,
    "start_time": "2023-03-09T22:08:26.198Z"
   },
   {
    "duration": 1209,
    "start_time": "2023-03-09T22:08:27.319Z"
   },
   {
    "duration": 14,
    "start_time": "2023-03-09T22:08:28.530Z"
   },
   {
    "duration": 12,
    "start_time": "2023-03-09T22:08:28.546Z"
   },
   {
    "duration": 3,
    "start_time": "2023-03-09T22:08:28.560Z"
   },
   {
    "duration": 5,
    "start_time": "2023-03-09T22:08:28.564Z"
   },
   {
    "duration": 6,
    "start_time": "2023-03-09T22:08:28.571Z"
   },
   {
    "duration": 15,
    "start_time": "2023-03-09T22:08:28.578Z"
   },
   {
    "duration": 4,
    "start_time": "2023-03-09T22:08:28.594Z"
   },
   {
    "duration": 11,
    "start_time": "2023-03-09T22:08:28.601Z"
   },
   {
    "duration": 9,
    "start_time": "2023-03-09T22:08:28.613Z"
   },
   {
    "duration": 21,
    "start_time": "2023-03-09T22:08:28.623Z"
   },
   {
    "duration": 5,
    "start_time": "2023-03-09T22:08:28.646Z"
   },
   {
    "duration": 45,
    "start_time": "2023-03-09T22:08:28.652Z"
   },
   {
    "duration": 126,
    "start_time": "2023-03-09T22:08:28.698Z"
   },
   {
    "duration": 11,
    "start_time": "2023-03-09T22:08:28.826Z"
   },
   {
    "duration": 4,
    "start_time": "2023-03-09T22:08:28.838Z"
   },
   {
    "duration": 8,
    "start_time": "2023-03-09T22:08:28.843Z"
   },
   {
    "duration": 16,
    "start_time": "2023-03-09T22:08:28.853Z"
   },
   {
    "duration": 8,
    "start_time": "2023-03-09T22:08:28.889Z"
   },
   {
    "duration": 36,
    "start_time": "2023-03-09T22:08:28.899Z"
   },
   {
    "duration": 3,
    "start_time": "2023-03-09T22:08:28.937Z"
   },
   {
    "duration": 183,
    "start_time": "2023-03-09T22:08:28.941Z"
   },
   {
    "duration": 163,
    "start_time": "2023-03-09T22:08:29.126Z"
   },
   {
    "duration": 4,
    "start_time": "2023-03-09T22:08:29.290Z"
   },
   {
    "duration": 96,
    "start_time": "2023-03-09T22:08:29.296Z"
   },
   {
    "duration": 8,
    "start_time": "2023-03-09T22:08:29.393Z"
   },
   {
    "duration": 1422,
    "start_time": "2023-03-09T22:08:29.404Z"
   },
   {
    "duration": 166,
    "start_time": "2023-03-09T22:08:30.827Z"
   },
   {
    "duration": 189,
    "start_time": "2023-03-09T22:08:30.995Z"
   },
   {
    "duration": 3,
    "start_time": "2023-03-09T22:08:31.189Z"
   },
   {
    "duration": 16,
    "start_time": "2023-03-09T22:08:31.194Z"
   },
   {
    "duration": 25,
    "start_time": "2023-03-09T22:08:31.213Z"
   },
   {
    "duration": 141,
    "start_time": "2023-03-09T22:08:31.240Z"
   },
   {
    "duration": 162,
    "start_time": "2023-03-09T22:08:31.383Z"
   },
   {
    "duration": 175,
    "start_time": "2023-03-09T22:08:31.547Z"
   },
   {
    "duration": 145,
    "start_time": "2023-03-09T22:08:31.723Z"
   },
   {
    "duration": 181,
    "start_time": "2023-03-09T22:08:31.870Z"
   },
   {
    "duration": 153,
    "start_time": "2023-03-09T22:08:32.053Z"
   },
   {
    "duration": 203,
    "start_time": "2023-03-09T22:08:32.208Z"
   },
   {
    "duration": 16,
    "start_time": "2023-03-09T22:08:32.413Z"
   },
   {
    "duration": 37,
    "start_time": "2023-03-09T22:08:32.431Z"
   },
   {
    "duration": 37,
    "start_time": "2023-03-09T22:08:32.470Z"
   },
   {
    "duration": 17,
    "start_time": "2023-03-09T22:08:32.509Z"
   },
   {
    "duration": 21,
    "start_time": "2023-03-09T22:08:32.527Z"
   },
   {
    "duration": 13,
    "start_time": "2023-03-09T22:08:32.549Z"
   },
   {
    "duration": 30,
    "start_time": "2023-03-09T22:08:32.564Z"
   },
   {
    "duration": 16,
    "start_time": "2023-03-09T22:08:32.595Z"
   },
   {
    "duration": 26,
    "start_time": "2023-03-09T22:08:32.613Z"
   },
   {
    "duration": 23,
    "start_time": "2023-03-09T22:08:32.641Z"
   },
   {
    "duration": 28,
    "start_time": "2023-03-09T22:08:32.666Z"
   },
   {
    "duration": 300,
    "start_time": "2023-03-09T22:08:32.696Z"
   },
   {
    "duration": 383,
    "start_time": "2023-03-09T22:08:32.999Z"
   },
   {
    "duration": 8,
    "start_time": "2023-03-09T22:08:33.384Z"
   },
   {
    "duration": 17,
    "start_time": "2023-03-09T22:08:33.394Z"
   },
   {
    "duration": 16,
    "start_time": "2023-03-09T22:08:33.413Z"
   },
   {
    "duration": 291,
    "start_time": "2023-03-09T22:08:33.431Z"
   },
   {
    "duration": 291,
    "start_time": "2023-03-09T22:08:33.724Z"
   },
   {
    "duration": 10,
    "start_time": "2023-03-09T22:08:34.016Z"
   },
   {
    "duration": 1148,
    "start_time": "2023-03-09T22:10:26.187Z"
   },
   {
    "duration": 906,
    "start_time": "2023-03-09T22:10:27.337Z"
   },
   {
    "duration": 16,
    "start_time": "2023-03-09T22:10:28.245Z"
   },
   {
    "duration": 12,
    "start_time": "2023-03-09T22:10:28.263Z"
   },
   {
    "duration": 3,
    "start_time": "2023-03-09T22:10:28.277Z"
   },
   {
    "duration": 5,
    "start_time": "2023-03-09T22:10:28.282Z"
   },
   {
    "duration": 6,
    "start_time": "2023-03-09T22:10:28.288Z"
   },
   {
    "duration": 10,
    "start_time": "2023-03-09T22:10:28.296Z"
   },
   {
    "duration": 4,
    "start_time": "2023-03-09T22:10:28.308Z"
   },
   {
    "duration": 10,
    "start_time": "2023-03-09T22:10:28.315Z"
   },
   {
    "duration": 9,
    "start_time": "2023-03-09T22:10:28.327Z"
   },
   {
    "duration": 20,
    "start_time": "2023-03-09T22:10:28.337Z"
   },
   {
    "duration": 35,
    "start_time": "2023-03-09T22:10:28.358Z"
   },
   {
    "duration": 12,
    "start_time": "2023-03-09T22:10:28.394Z"
   },
   {
    "duration": 147,
    "start_time": "2023-03-09T22:10:28.407Z"
   },
   {
    "duration": 11,
    "start_time": "2023-03-09T22:10:28.555Z"
   },
   {
    "duration": 4,
    "start_time": "2023-03-09T22:10:28.568Z"
   },
   {
    "duration": 6,
    "start_time": "2023-03-09T22:10:28.590Z"
   },
   {
    "duration": 11,
    "start_time": "2023-03-09T22:10:28.597Z"
   },
   {
    "duration": 10,
    "start_time": "2023-03-09T22:10:28.610Z"
   },
   {
    "duration": 40,
    "start_time": "2023-03-09T22:10:28.621Z"
   },
   {
    "duration": 3,
    "start_time": "2023-03-09T22:10:28.663Z"
   },
   {
    "duration": 157,
    "start_time": "2023-03-09T22:10:28.689Z"
   },
   {
    "duration": 159,
    "start_time": "2023-03-09T22:10:28.848Z"
   },
   {
    "duration": 4,
    "start_time": "2023-03-09T22:10:29.009Z"
   },
   {
    "duration": 99,
    "start_time": "2023-03-09T22:10:29.014Z"
   },
   {
    "duration": 9,
    "start_time": "2023-03-09T22:10:29.115Z"
   },
   {
    "duration": 1413,
    "start_time": "2023-03-09T22:10:29.128Z"
   },
   {
    "duration": 158,
    "start_time": "2023-03-09T22:10:30.543Z"
   },
   {
    "duration": 205,
    "start_time": "2023-03-09T22:10:30.702Z"
   },
   {
    "duration": 4,
    "start_time": "2023-03-09T22:10:30.909Z"
   },
   {
    "duration": 32,
    "start_time": "2023-03-09T22:10:30.915Z"
   },
   {
    "duration": 27,
    "start_time": "2023-03-09T22:10:30.949Z"
   },
   {
    "duration": 176,
    "start_time": "2023-03-09T22:10:30.978Z"
   },
   {
    "duration": 152,
    "start_time": "2023-03-09T22:10:31.156Z"
   },
   {
    "duration": 181,
    "start_time": "2023-03-09T22:10:31.310Z"
   },
   {
    "duration": 136,
    "start_time": "2023-03-09T22:10:31.493Z"
   },
   {
    "duration": 185,
    "start_time": "2023-03-09T22:10:31.631Z"
   },
   {
    "duration": 161,
    "start_time": "2023-03-09T22:10:31.817Z"
   },
   {
    "duration": 190,
    "start_time": "2023-03-09T22:10:31.980Z"
   },
   {
    "duration": 23,
    "start_time": "2023-03-09T22:10:32.172Z"
   },
   {
    "duration": 39,
    "start_time": "2023-03-09T22:10:32.197Z"
   },
   {
    "duration": 12,
    "start_time": "2023-03-09T22:10:32.238Z"
   },
   {
    "duration": 14,
    "start_time": "2023-03-09T22:10:32.252Z"
   },
   {
    "duration": 12,
    "start_time": "2023-03-09T22:10:32.267Z"
   },
   {
    "duration": 15,
    "start_time": "2023-03-09T22:10:32.280Z"
   },
   {
    "duration": 18,
    "start_time": "2023-03-09T22:10:32.296Z"
   },
   {
    "duration": 17,
    "start_time": "2023-03-09T22:10:32.316Z"
   },
   {
    "duration": 13,
    "start_time": "2023-03-09T22:10:32.334Z"
   },
   {
    "duration": 18,
    "start_time": "2023-03-09T22:10:32.349Z"
   },
   {
    "duration": 26,
    "start_time": "2023-03-09T22:10:32.369Z"
   },
   {
    "duration": 285,
    "start_time": "2023-03-09T22:10:32.396Z"
   },
   {
    "duration": 379,
    "start_time": "2023-03-09T22:10:32.684Z"
   },
   {
    "duration": 4,
    "start_time": "2023-03-09T22:10:33.065Z"
   },
   {
    "duration": 23,
    "start_time": "2023-03-09T22:10:33.071Z"
   },
   {
    "duration": 6,
    "start_time": "2023-03-09T22:10:33.096Z"
   },
   {
    "duration": 305,
    "start_time": "2023-03-09T22:10:33.104Z"
   },
   {
    "duration": 292,
    "start_time": "2023-03-09T22:10:33.411Z"
   },
   {
    "duration": 10,
    "start_time": "2023-03-09T22:10:33.706Z"
   },
   {
    "duration": 1307,
    "start_time": "2023-03-10T06:49:24.497Z"
   },
   {
    "duration": 961,
    "start_time": "2023-03-10T06:49:25.806Z"
   },
   {
    "duration": 16,
    "start_time": "2023-03-10T06:49:26.769Z"
   },
   {
    "duration": 14,
    "start_time": "2023-03-10T06:49:26.787Z"
   },
   {
    "duration": 5,
    "start_time": "2023-03-10T06:49:26.802Z"
   },
   {
    "duration": 4,
    "start_time": "2023-03-10T06:49:26.809Z"
   },
   {
    "duration": 7,
    "start_time": "2023-03-10T06:49:26.815Z"
   },
   {
    "duration": 11,
    "start_time": "2023-03-10T06:49:26.824Z"
   },
   {
    "duration": 5,
    "start_time": "2023-03-10T06:49:26.837Z"
   },
   {
    "duration": 14,
    "start_time": "2023-03-10T06:49:26.845Z"
   },
   {
    "duration": 10,
    "start_time": "2023-03-10T06:49:26.861Z"
   },
   {
    "duration": 56,
    "start_time": "2023-03-10T06:49:26.873Z"
   },
   {
    "duration": 6,
    "start_time": "2023-03-10T06:49:26.930Z"
   },
   {
    "duration": 14,
    "start_time": "2023-03-10T06:49:26.937Z"
   },
   {
    "duration": 145,
    "start_time": "2023-03-10T06:49:26.953Z"
   },
   {
    "duration": 11,
    "start_time": "2023-03-10T06:49:27.100Z"
   },
   {
    "duration": 4,
    "start_time": "2023-03-10T06:49:27.120Z"
   },
   {
    "duration": 6,
    "start_time": "2023-03-10T06:49:27.126Z"
   },
   {
    "duration": 9,
    "start_time": "2023-03-10T06:49:27.134Z"
   },
   {
    "duration": 25,
    "start_time": "2023-03-10T06:49:27.145Z"
   },
   {
    "duration": 61,
    "start_time": "2023-03-10T06:49:27.172Z"
   },
   {
    "duration": 3,
    "start_time": "2023-03-10T06:49:27.235Z"
   },
   {
    "duration": 163,
    "start_time": "2023-03-10T06:49:27.240Z"
   },
   {
    "duration": 177,
    "start_time": "2023-03-10T06:49:27.405Z"
   },
   {
    "duration": 5,
    "start_time": "2023-03-10T06:49:27.584Z"
   },
   {
    "duration": 98,
    "start_time": "2023-03-10T06:49:27.591Z"
   },
   {
    "duration": 10,
    "start_time": "2023-03-10T06:49:27.691Z"
   },
   {
    "duration": 1396,
    "start_time": "2023-03-10T06:49:27.722Z"
   },
   {
    "duration": 153,
    "start_time": "2023-03-10T06:49:29.120Z"
   },
   {
    "duration": 197,
    "start_time": "2023-03-10T06:49:29.275Z"
   },
   {
    "duration": 3,
    "start_time": "2023-03-10T06:49:29.474Z"
   },
   {
    "duration": 8,
    "start_time": "2023-03-10T06:49:29.479Z"
   },
   {
    "duration": 4,
    "start_time": "2023-03-10T06:49:29.489Z"
   },
   {
    "duration": 178,
    "start_time": "2023-03-10T06:49:29.495Z"
   },
   {
    "duration": 159,
    "start_time": "2023-03-10T06:49:29.675Z"
   },
   {
    "duration": 175,
    "start_time": "2023-03-10T06:49:29.836Z"
   },
   {
    "duration": 139,
    "start_time": "2023-03-10T06:49:30.020Z"
   },
   {
    "duration": 217,
    "start_time": "2023-03-10T06:49:30.161Z"
   },
   {
    "duration": 176,
    "start_time": "2023-03-10T06:49:30.381Z"
   },
   {
    "duration": 196,
    "start_time": "2023-03-10T06:49:30.558Z"
   },
   {
    "duration": 14,
    "start_time": "2023-03-10T06:49:30.757Z"
   },
   {
    "duration": 35,
    "start_time": "2023-03-10T06:49:30.773Z"
   },
   {
    "duration": 33,
    "start_time": "2023-03-10T06:49:30.810Z"
   },
   {
    "duration": 33,
    "start_time": "2023-03-10T06:49:30.846Z"
   },
   {
    "duration": 30,
    "start_time": "2023-03-10T06:49:30.881Z"
   },
   {
    "duration": 22,
    "start_time": "2023-03-10T06:49:30.913Z"
   },
   {
    "duration": 34,
    "start_time": "2023-03-10T06:49:30.938Z"
   },
   {
    "duration": 34,
    "start_time": "2023-03-10T06:49:30.974Z"
   },
   {
    "duration": 43,
    "start_time": "2023-03-10T06:49:31.009Z"
   },
   {
    "duration": 28,
    "start_time": "2023-03-10T06:49:31.054Z"
   },
   {
    "duration": 17,
    "start_time": "2023-03-10T06:49:31.084Z"
   },
   {
    "duration": 284,
    "start_time": "2023-03-10T06:49:31.103Z"
   },
   {
    "duration": 376,
    "start_time": "2023-03-10T06:49:31.389Z"
   },
   {
    "duration": 4,
    "start_time": "2023-03-10T06:49:31.767Z"
   },
   {
    "duration": 6,
    "start_time": "2023-03-10T06:49:31.772Z"
   },
   {
    "duration": 14,
    "start_time": "2023-03-10T06:49:31.779Z"
   },
   {
    "duration": 297,
    "start_time": "2023-03-10T06:49:31.795Z"
   },
   {
    "duration": 299,
    "start_time": "2023-03-10T06:49:32.094Z"
   },
   {
    "duration": 9,
    "start_time": "2023-03-10T06:49:32.396Z"
   },
   {
    "duration": 51,
    "start_time": "2023-03-10T09:50:24.780Z"
   },
   {
    "duration": 1523,
    "start_time": "2023-03-10T09:50:42.136Z"
   },
   {
    "duration": 1233,
    "start_time": "2023-03-10T09:50:43.670Z"
   },
   {
    "duration": 76,
    "start_time": "2023-03-10T09:50:44.904Z"
   },
   {
    "duration": 69,
    "start_time": "2023-03-10T09:51:31.437Z"
   },
   {
    "duration": 95,
    "start_time": "2023-03-10T09:58:01.678Z"
   },
   {
    "duration": 1041,
    "start_time": "2023-03-10T09:58:36.714Z"
   },
   {
    "duration": 919,
    "start_time": "2023-03-10T09:58:37.759Z"
   },
   {
    "duration": 3,
    "start_time": "2023-03-10T09:58:38.680Z"
   },
   {
    "duration": 24,
    "start_time": "2023-03-10T09:58:38.686Z"
   },
   {
    "duration": 16,
    "start_time": "2023-03-10T09:58:38.711Z"
   },
   {
    "duration": 14,
    "start_time": "2023-03-10T09:58:38.729Z"
   },
   {
    "duration": 18,
    "start_time": "2023-03-10T09:58:38.748Z"
   },
   {
    "duration": 11,
    "start_time": "2023-03-10T09:58:38.768Z"
   },
   {
    "duration": 15,
    "start_time": "2023-03-10T09:58:38.781Z"
   },
   {
    "duration": 5,
    "start_time": "2023-03-10T09:58:38.800Z"
   },
   {
    "duration": 15,
    "start_time": "2023-03-10T09:58:38.806Z"
   },
   {
    "duration": 16,
    "start_time": "2023-03-10T09:58:38.823Z"
   },
   {
    "duration": 37,
    "start_time": "2023-03-10T09:58:38.841Z"
   },
   {
    "duration": 5,
    "start_time": "2023-03-10T09:58:38.880Z"
   },
   {
    "duration": 12,
    "start_time": "2023-03-10T09:58:38.886Z"
   },
   {
    "duration": 151,
    "start_time": "2023-03-10T09:58:38.900Z"
   },
   {
    "duration": 10,
    "start_time": "2023-03-10T09:58:39.058Z"
   },
   {
    "duration": 4,
    "start_time": "2023-03-10T09:58:39.069Z"
   },
   {
    "duration": 16,
    "start_time": "2023-03-10T09:58:39.074Z"
   },
   {
    "duration": 16,
    "start_time": "2023-03-10T09:58:39.091Z"
   },
   {
    "duration": 9,
    "start_time": "2023-03-10T09:58:39.109Z"
   },
   {
    "duration": 43,
    "start_time": "2023-03-10T09:58:39.120Z"
   },
   {
    "duration": 3,
    "start_time": "2023-03-10T09:58:39.164Z"
   },
   {
    "duration": 163,
    "start_time": "2023-03-10T09:58:39.169Z"
   },
   {
    "duration": 162,
    "start_time": "2023-03-10T09:58:39.340Z"
   },
   {
    "duration": 4,
    "start_time": "2023-03-10T09:58:39.503Z"
   },
   {
    "duration": 105,
    "start_time": "2023-03-10T09:58:39.509Z"
   },
   {
    "duration": 8,
    "start_time": "2023-03-10T09:58:39.618Z"
   },
   {
    "duration": 1449,
    "start_time": "2023-03-10T09:58:39.628Z"
   },
   {
    "duration": 186,
    "start_time": "2023-03-10T09:58:41.079Z"
   },
   {
    "duration": 196,
    "start_time": "2023-03-10T09:58:41.267Z"
   },
   {
    "duration": 4,
    "start_time": "2023-03-10T09:58:41.464Z"
   },
   {
    "duration": 11,
    "start_time": "2023-03-10T09:58:41.470Z"
   },
   {
    "duration": 5,
    "start_time": "2023-03-10T09:58:41.483Z"
   },
   {
    "duration": 168,
    "start_time": "2023-03-10T09:58:41.490Z"
   },
   {
    "duration": 147,
    "start_time": "2023-03-10T09:58:41.660Z"
   },
   {
    "duration": 168,
    "start_time": "2023-03-10T09:58:41.808Z"
   },
   {
    "duration": 139,
    "start_time": "2023-03-10T09:58:41.977Z"
   },
   {
    "duration": 191,
    "start_time": "2023-03-10T09:58:42.118Z"
   },
   {
    "duration": 177,
    "start_time": "2023-03-10T09:58:42.311Z"
   },
   {
    "duration": 268,
    "start_time": "2023-03-10T09:58:42.490Z"
   },
   {
    "duration": 13,
    "start_time": "2023-03-10T09:58:42.760Z"
   },
   {
    "duration": 41,
    "start_time": "2023-03-10T09:58:42.774Z"
   },
   {
    "duration": 16,
    "start_time": "2023-03-10T09:58:42.817Z"
   },
   {
    "duration": 22,
    "start_time": "2023-03-10T09:58:42.835Z"
   },
   {
    "duration": 21,
    "start_time": "2023-03-10T09:58:42.859Z"
   },
   {
    "duration": 13,
    "start_time": "2023-03-10T09:58:42.882Z"
   },
   {
    "duration": 16,
    "start_time": "2023-03-10T09:58:42.897Z"
   },
   {
    "duration": 12,
    "start_time": "2023-03-10T09:58:42.914Z"
   },
   {
    "duration": 31,
    "start_time": "2023-03-10T09:58:42.927Z"
   },
   {
    "duration": 15,
    "start_time": "2023-03-10T09:58:42.960Z"
   },
   {
    "duration": 13,
    "start_time": "2023-03-10T09:58:42.977Z"
   },
   {
    "duration": 282,
    "start_time": "2023-03-10T09:58:42.992Z"
   },
   {
    "duration": 402,
    "start_time": "2023-03-10T09:58:43.276Z"
   },
   {
    "duration": 3,
    "start_time": "2023-03-10T09:58:43.680Z"
   },
   {
    "duration": 13,
    "start_time": "2023-03-10T09:58:43.684Z"
   },
   {
    "duration": 9,
    "start_time": "2023-03-10T09:58:43.700Z"
   },
   {
    "duration": 17,
    "start_time": "2023-03-10T09:58:43.710Z"
   },
   {
    "duration": 300,
    "start_time": "2023-03-10T09:58:43.729Z"
   },
   {
    "duration": 298,
    "start_time": "2023-03-10T09:58:44.031Z"
   },
   {
    "duration": 18,
    "start_time": "2023-03-10T09:58:44.331Z"
   },
   {
    "duration": 117,
    "start_time": "2023-03-10T09:59:38.160Z"
   },
   {
    "duration": 8,
    "start_time": "2023-03-10T09:59:57.125Z"
   },
   {
    "duration": 5,
    "start_time": "2023-03-10T10:00:03.027Z"
   },
   {
    "duration": 5,
    "start_time": "2023-03-10T10:00:13.490Z"
   },
   {
    "duration": 12,
    "start_time": "2023-03-10T10:01:18.344Z"
   },
   {
    "duration": 14,
    "start_time": "2023-03-10T10:02:28.601Z"
   },
   {
    "duration": 6,
    "start_time": "2023-03-10T10:02:44.696Z"
   },
   {
    "duration": 8,
    "start_time": "2023-03-10T10:03:21.254Z"
   },
   {
    "duration": 7,
    "start_time": "2023-03-10T10:04:29.195Z"
   },
   {
    "duration": 9,
    "start_time": "2023-03-10T10:04:52.464Z"
   },
   {
    "duration": 9,
    "start_time": "2023-03-10T10:05:32.422Z"
   },
   {
    "duration": 5,
    "start_time": "2023-03-10T10:08:02.527Z"
   },
   {
    "duration": 170,
    "start_time": "2023-03-10T10:08:03.838Z"
   },
   {
    "duration": 9,
    "start_time": "2023-03-10T10:08:51.562Z"
   },
   {
    "duration": 161,
    "start_time": "2023-03-10T10:08:52.162Z"
   },
   {
    "duration": 183,
    "start_time": "2023-03-10T10:08:55.616Z"
   },
   {
    "duration": 4,
    "start_time": "2023-03-10T10:09:14.414Z"
   },
   {
    "duration": 172,
    "start_time": "2023-03-10T10:09:16.114Z"
   },
   {
    "duration": 6,
    "start_time": "2023-03-10T10:09:53.985Z"
   },
   {
    "duration": 168,
    "start_time": "2023-03-10T10:09:54.498Z"
   },
   {
    "duration": 182,
    "start_time": "2023-03-10T10:09:57.979Z"
   },
   {
    "duration": 4,
    "start_time": "2023-03-10T10:10:48.730Z"
   },
   {
    "duration": 163,
    "start_time": "2023-03-10T10:10:49.305Z"
   },
   {
    "duration": 64,
    "start_time": "2023-03-10T10:33:16.722Z"
   },
   {
    "duration": 6,
    "start_time": "2023-03-10T12:04:28.983Z"
   },
   {
    "duration": 194,
    "start_time": "2023-03-10T12:04:29.996Z"
   },
   {
    "duration": 12,
    "start_time": "2023-03-10T12:04:46.972Z"
   },
   {
    "duration": 169,
    "start_time": "2023-03-10T12:04:47.765Z"
   },
   {
    "duration": 1162,
    "start_time": "2023-03-10T14:25:58.536Z"
   },
   {
    "duration": 1107,
    "start_time": "2023-03-10T14:25:59.700Z"
   },
   {
    "duration": 16,
    "start_time": "2023-03-10T14:26:00.809Z"
   },
   {
    "duration": 70,
    "start_time": "2023-03-10T14:26:00.827Z"
   },
   {
    "duration": 34,
    "start_time": "2023-03-10T14:26:00.899Z"
   },
   {
    "duration": 48,
    "start_time": "2023-03-10T14:26:00.935Z"
   },
   {
    "duration": 23,
    "start_time": "2023-03-10T14:26:00.985Z"
   },
   {
    "duration": 39,
    "start_time": "2023-03-10T14:26:01.010Z"
   },
   {
    "duration": 33,
    "start_time": "2023-03-10T14:26:01.051Z"
   },
   {
    "duration": 20,
    "start_time": "2023-03-10T14:26:01.087Z"
   },
   {
    "duration": 11,
    "start_time": "2023-03-10T14:26:01.109Z"
   },
   {
    "duration": 27,
    "start_time": "2023-03-10T14:26:01.121Z"
   },
   {
    "duration": 30,
    "start_time": "2023-03-10T14:26:01.152Z"
   },
   {
    "duration": 17,
    "start_time": "2023-03-10T14:26:01.184Z"
   },
   {
    "duration": 171,
    "start_time": "2023-03-10T14:26:01.203Z"
   },
   {
    "duration": 10,
    "start_time": "2023-03-10T14:26:01.376Z"
   },
   {
    "duration": 40,
    "start_time": "2023-03-10T14:26:01.387Z"
   },
   {
    "duration": 67,
    "start_time": "2023-03-10T14:26:01.429Z"
   },
   {
    "duration": 26,
    "start_time": "2023-03-10T14:26:01.497Z"
   },
   {
    "duration": 52,
    "start_time": "2023-03-10T14:26:01.524Z"
   },
   {
    "duration": 54,
    "start_time": "2023-03-10T14:26:01.578Z"
   },
   {
    "duration": 2,
    "start_time": "2023-03-10T14:26:01.634Z"
   },
   {
    "duration": 197,
    "start_time": "2023-03-10T14:26:01.638Z"
   },
   {
    "duration": 173,
    "start_time": "2023-03-10T14:26:01.842Z"
   },
   {
    "duration": 4,
    "start_time": "2023-03-10T14:26:02.016Z"
   },
   {
    "duration": 146,
    "start_time": "2023-03-10T14:26:02.022Z"
   },
   {
    "duration": 8,
    "start_time": "2023-03-10T14:26:02.170Z"
   },
   {
    "duration": 1588,
    "start_time": "2023-03-10T14:26:02.181Z"
   },
   {
    "duration": 159,
    "start_time": "2023-03-10T14:26:03.771Z"
   },
   {
    "duration": 199,
    "start_time": "2023-03-10T14:26:03.932Z"
   },
   {
    "duration": 7,
    "start_time": "2023-03-10T14:26:04.133Z"
   },
   {
    "duration": 40,
    "start_time": "2023-03-10T14:26:04.141Z"
   },
   {
    "duration": 5,
    "start_time": "2023-03-10T14:26:04.183Z"
   },
   {
    "duration": 145,
    "start_time": "2023-03-10T14:26:04.190Z"
   },
   {
    "duration": 157,
    "start_time": "2023-03-10T14:26:04.337Z"
   },
   {
    "duration": 176,
    "start_time": "2023-03-10T14:26:04.496Z"
   },
   {
    "duration": 134,
    "start_time": "2023-03-10T14:26:04.674Z"
   },
   {
    "duration": 184,
    "start_time": "2023-03-10T14:26:04.809Z"
   },
   {
    "duration": 166,
    "start_time": "2023-03-10T14:26:04.994Z"
   },
   {
    "duration": 210,
    "start_time": "2023-03-10T14:26:05.161Z"
   },
   {
    "duration": 14,
    "start_time": "2023-03-10T14:26:05.372Z"
   },
   {
    "duration": 13,
    "start_time": "2023-03-10T14:26:05.387Z"
   },
   {
    "duration": 13,
    "start_time": "2023-03-10T14:26:05.401Z"
   },
   {
    "duration": 42,
    "start_time": "2023-03-10T14:26:05.415Z"
   },
   {
    "duration": 15,
    "start_time": "2023-03-10T14:26:05.464Z"
   },
   {
    "duration": 12,
    "start_time": "2023-03-10T14:26:05.481Z"
   },
   {
    "duration": 16,
    "start_time": "2023-03-10T14:26:05.495Z"
   },
   {
    "duration": 13,
    "start_time": "2023-03-10T14:26:05.512Z"
   },
   {
    "duration": 30,
    "start_time": "2023-03-10T14:26:05.526Z"
   },
   {
    "duration": 14,
    "start_time": "2023-03-10T14:26:05.557Z"
   },
   {
    "duration": 17,
    "start_time": "2023-03-10T14:26:05.573Z"
   },
   {
    "duration": 344,
    "start_time": "2023-03-10T14:26:05.591Z"
   },
   {
    "duration": 388,
    "start_time": "2023-03-10T14:26:05.937Z"
   },
   {
    "duration": 3,
    "start_time": "2023-03-10T14:26:06.327Z"
   },
   {
    "duration": 19,
    "start_time": "2023-03-10T14:26:06.332Z"
   },
   {
    "duration": 23,
    "start_time": "2023-03-10T14:26:06.352Z"
   },
   {
    "duration": 5,
    "start_time": "2023-03-10T14:26:06.377Z"
   },
   {
    "duration": 314,
    "start_time": "2023-03-10T14:26:06.383Z"
   },
   {
    "duration": 332,
    "start_time": "2023-03-10T14:26:06.699Z"
   },
   {
    "duration": 17,
    "start_time": "2023-03-10T14:26:07.034Z"
   },
   {
    "duration": 14,
    "start_time": "2023-03-10T14:26:07.061Z"
   },
   {
    "duration": 1428,
    "start_time": "2023-03-10T19:00:45.073Z"
   },
   {
    "duration": 1518,
    "start_time": "2023-03-10T19:00:46.503Z"
   },
   {
    "duration": 17,
    "start_time": "2023-03-10T19:00:48.023Z"
   },
   {
    "duration": 14,
    "start_time": "2023-03-10T19:00:48.043Z"
   },
   {
    "duration": 11,
    "start_time": "2023-03-10T19:00:48.059Z"
   },
   {
    "duration": 6,
    "start_time": "2023-03-10T19:00:48.075Z"
   },
   {
    "duration": 5,
    "start_time": "2023-03-10T19:00:48.083Z"
   },
   {
    "duration": 11,
    "start_time": "2023-03-10T19:00:48.090Z"
   },
   {
    "duration": 5,
    "start_time": "2023-03-10T19:00:48.103Z"
   },
   {
    "duration": 14,
    "start_time": "2023-03-10T19:00:48.110Z"
   },
   {
    "duration": 39,
    "start_time": "2023-03-10T19:00:48.125Z"
   },
   {
    "duration": 25,
    "start_time": "2023-03-10T19:00:48.166Z"
   },
   {
    "duration": 5,
    "start_time": "2023-03-10T19:00:48.192Z"
   },
   {
    "duration": 12,
    "start_time": "2023-03-10T19:00:48.199Z"
   },
   {
    "duration": 151,
    "start_time": "2023-03-10T19:00:48.213Z"
   },
   {
    "duration": 11,
    "start_time": "2023-03-10T19:00:48.368Z"
   },
   {
    "duration": 5,
    "start_time": "2023-03-10T19:00:48.381Z"
   },
   {
    "duration": 11,
    "start_time": "2023-03-10T19:00:48.388Z"
   },
   {
    "duration": 13,
    "start_time": "2023-03-10T19:00:48.400Z"
   },
   {
    "duration": 8,
    "start_time": "2023-03-10T19:00:48.415Z"
   },
   {
    "duration": 57,
    "start_time": "2023-03-10T19:00:48.425Z"
   },
   {
    "duration": 3,
    "start_time": "2023-03-10T19:00:48.483Z"
   },
   {
    "duration": 165,
    "start_time": "2023-03-10T19:00:48.488Z"
   },
   {
    "duration": 171,
    "start_time": "2023-03-10T19:00:48.657Z"
   },
   {
    "duration": 4,
    "start_time": "2023-03-10T19:00:48.830Z"
   },
   {
    "duration": 102,
    "start_time": "2023-03-10T19:00:48.835Z"
   },
   {
    "duration": 8,
    "start_time": "2023-03-10T19:00:48.938Z"
   },
   {
    "duration": 1523,
    "start_time": "2023-03-10T19:00:48.958Z"
   },
   {
    "duration": 159,
    "start_time": "2023-03-10T19:00:50.482Z"
   },
   {
    "duration": 204,
    "start_time": "2023-03-10T19:00:50.642Z"
   },
   {
    "duration": 14,
    "start_time": "2023-03-10T19:00:50.848Z"
   },
   {
    "duration": 16,
    "start_time": "2023-03-10T19:00:50.867Z"
   },
   {
    "duration": 9,
    "start_time": "2023-03-10T19:00:50.884Z"
   },
   {
    "duration": 145,
    "start_time": "2023-03-10T19:00:50.895Z"
   },
   {
    "duration": 170,
    "start_time": "2023-03-10T19:00:51.042Z"
   },
   {
    "duration": 188,
    "start_time": "2023-03-10T19:00:51.214Z"
   },
   {
    "duration": 143,
    "start_time": "2023-03-10T19:00:51.404Z"
   },
   {
    "duration": 198,
    "start_time": "2023-03-10T19:00:51.549Z"
   },
   {
    "duration": 167,
    "start_time": "2023-03-10T19:00:51.749Z"
   },
   {
    "duration": 210,
    "start_time": "2023-03-10T19:00:51.918Z"
   },
   {
    "duration": 15,
    "start_time": "2023-03-10T19:00:52.130Z"
   },
   {
    "duration": 16,
    "start_time": "2023-03-10T19:00:52.160Z"
   },
   {
    "duration": 19,
    "start_time": "2023-03-10T19:00:52.178Z"
   },
   {
    "duration": 14,
    "start_time": "2023-03-10T19:00:52.198Z"
   },
   {
    "duration": 13,
    "start_time": "2023-03-10T19:00:52.214Z"
   },
   {
    "duration": 41,
    "start_time": "2023-03-10T19:00:52.229Z"
   },
   {
    "duration": 14,
    "start_time": "2023-03-10T19:00:52.273Z"
   },
   {
    "duration": 12,
    "start_time": "2023-03-10T19:00:52.289Z"
   },
   {
    "duration": 12,
    "start_time": "2023-03-10T19:00:52.303Z"
   },
   {
    "duration": 13,
    "start_time": "2023-03-10T19:00:52.316Z"
   },
   {
    "duration": 40,
    "start_time": "2023-03-10T19:00:52.331Z"
   },
   {
    "duration": 287,
    "start_time": "2023-03-10T19:00:52.373Z"
   },
   {
    "duration": 383,
    "start_time": "2023-03-10T19:00:52.667Z"
   },
   {
    "duration": 13,
    "start_time": "2023-03-10T19:00:53.052Z"
   },
   {
    "duration": 39,
    "start_time": "2023-03-10T19:00:53.067Z"
   },
   {
    "duration": 40,
    "start_time": "2023-03-10T19:00:53.109Z"
   },
   {
    "duration": 39,
    "start_time": "2023-03-10T19:00:53.151Z"
   },
   {
    "duration": 319,
    "start_time": "2023-03-10T19:00:53.191Z"
   },
   {
    "duration": 315,
    "start_time": "2023-03-10T19:00:53.512Z"
   },
   {
    "duration": 10,
    "start_time": "2023-03-10T19:00:53.828Z"
   },
   {
    "duration": 31,
    "start_time": "2023-03-10T19:00:53.839Z"
   }
  ],
  "kernelspec": {
   "display_name": "Python 3 (ipykernel)",
   "language": "python",
   "name": "python3"
  },
  "language_info": {
   "codemirror_mode": {
    "name": "ipython",
    "version": 3
   },
   "file_extension": ".py",
   "mimetype": "text/x-python",
   "name": "python",
   "nbconvert_exporter": "python",
   "pygments_lexer": "ipython3",
   "version": "3.9.5"
  },
  "toc": {
   "base_numbering": 1,
   "nav_menu": {},
   "number_sections": true,
   "sideBar": true,
   "skip_h1_title": true,
   "title_cell": "Table of Contents",
   "title_sidebar": "Contents",
   "toc_cell": false,
   "toc_position": {},
   "toc_section_display": true,
   "toc_window_display": false
  }
 },
 "nbformat": 4,
 "nbformat_minor": 2
}
