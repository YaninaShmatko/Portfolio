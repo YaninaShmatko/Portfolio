{
 "cells": [
  {
   "cell_type": "markdown",
   "metadata": {},
   "source": [
    "# Приоретизация гипотез и анализ A/B теста для принятия бизнес решений  по увеличению выручки крупного интернет-магазина."
   ]
  },
  {
   "cell_type": "markdown",
   "metadata": {},
   "source": [
    "**Контекст**\n",
    "<br> Вы — аналитик крупного интернет-магазина. Вместе с отделом маркетинга вы подготовили список гипотез для увеличения выручки."
   ]
  },
  {
   "cell_type": "markdown",
   "metadata": {},
   "source": [
    "**Цель проекта**\n",
    "- Выбрать наиболее эфективные гипотезы для проверки и проанализировать результаты A/B теста для принятия решений в бизнесе."
   ]
  },
  {
   "cell_type": "markdown",
   "metadata": {},
   "source": [
    "**Задачи проекта** \n",
    "<br>*Часть 1. Приоритизация гипотез*\n",
    "- Примените фреймворк ICE для приоритизации гипотез. Отсортируйте их по убыванию приоритета.\n",
    "- Примените фреймворк RICE для приоритизации гипотез. Отсортируйте их по убыванию приоритета.\n",
    "- Укажите, как изменилась приоритизация гипотез при применении RICE вместо ICE. Объясните, почему так произошло.\n",
    "<br>*Часть 2. Анализ A/B-теста*\n",
    "<br>Проанализируйте A/B-тест:\n",
    "- Постройте график кумулятивной выручки по группам. Сделайте выводы и предположения.\n",
    "- Постройте график кумулятивного среднего чека по группам. Сделайте выводы и предположения.\n",
    "- Постройте график относительного изменения кумулятивного среднего чека группы B к группе A. Сделайте выводы и предположения.\n",
    "- Постройте график кумулятивного среднего количества заказов на посетителя по группам. Сделайте выводы и предположения.\n",
    "- Постройте график относительного изменения кумулятивного среднего количества заказов на посетителя группы B к группе A. Сделайте выводы и предположения.\n",
    "- Постройте точечный график количества заказов по пользователям. Сделайте выводы и предположения.\n",
    "- Посчитайте 95-й и 99-й перцентили количества заказов на пользователя. Выберите границу для определения аномальных пользователей.\n",
    "- Постройте точечный график стоимостей заказов. Сделайте выводы и предположения.\n",
    "- Посчитайте 95-й и 99-й перцентили стоимости заказов. Выберите границу для определения аномальных заказов.\n",
    "- Посчитайте статистическую значимость различий в среднем количестве заказов на посетителя между группами по «сырым» данным. Сделайте выводы и предположения.\n",
    "- Посчитайте статистическую значимость различий в среднем чеке заказа между группами по «сырым» данным. Сделайте выводы и предположения.\n",
    "- Посчитайте статистическую значимость различий в среднем количестве заказов на посетителя между группами по «очищенным» данным. Сделайте выводы и предположения.\n",
    "- Посчитайте статистическую значимость различий в среднем чеке заказа между группами по «очищенным» данным. Сделайте выводы и предположения.\n",
    "- Примите решение по результатам теста и объясните его. Варианты решений:\n",
    "1. Остановить тест, зафиксировать победу одной из групп.\n",
    "2. Остановить тест, зафиксировать отсутствие различий между группами.\n",
    "3. Продолжить тест."
   ]
  },
  {
   "cell_type": "markdown",
   "metadata": {},
   "source": [
    "**Описание данных** \n",
    "- *Файл /datasets/hypothesis.csv.*\n",
    "<br>Hypothesis — краткое описание гипотезы;\n",
    "<br>Reach — охват пользователей по 10-балльной шкале;\n",
    "<br>Impact — влияние на пользователей по 10-балльной шкале;\n",
    "<br>Confidence — уверенность в гипотезе по 10-балльной шкале;\n",
    "<br>Efforts — затраты ресурсов на проверку гипотезы по 10-балльной шкале. Чем больше значение Efforts, тем дороже проверка гипотезы.\n",
    "- *Файл /datasets/orders.csv.*\n",
    "<br>transactionId — идентификатор заказа;\n",
    "<br>visitorId — идентификатор пользователя, совершившего заказ;\n",
    "<br>date — дата, когда был совершён заказ;\n",
    "<br>revenue — выручка заказа;\n",
    "<br>group — группа A/B-теста, в которую попал заказ.\n",
    "- *Файл /datasets/visitors.csv.*\n",
    "<br>date — дата;\n",
    "<br>group — группа A/B-теста;\n",
    "<br>visitors — количество пользователей в указанную дату в указанной группе A/B-теста"
   ]
  },
  {
   "cell_type": "markdown",
   "metadata": {},
   "source": [
    "## Приоритизация гипотез."
   ]
  },
  {
   "cell_type": "markdown",
   "metadata": {},
   "source": [
    "В файле /datasets/hypothesis.csv 9 гипотез по увеличению выручки интернет-магазина с указанными параметрами Reach, Impact, Confidence, Effort."
   ]
  },
  {
   "cell_type": "markdown",
   "metadata": {},
   "source": [
    "Задача\n",
    "- Примените фреймворк ICE для приоритизации гипотез. Отсортируйте их по убыванию приоритета.\n",
    "- Примените фреймворк RICE для приоритизации гипотез. Отсортируйте их по убыванию приоритета.\n",
    "- Укажите, как изменилась приоритизация гипотез при применении RICE вместо ICE. Объясните, почему так произошло."
   ]
  },
  {
   "cell_type": "markdown",
   "metadata": {},
   "source": [
    "### Обработка данных"
   ]
  },
  {
   "cell_type": "code",
   "execution_count": 1,
   "metadata": {},
   "outputs": [],
   "source": [
    "# Импортируем библиотеки\n",
    "import pandas as pd\n",
    "import numpy as np\n",
    "import seaborn as sns\n",
    "from matplotlib import pyplot as plt\n",
    "import datetime as dt\n",
    "import scipy.stats as stats\n",
    "from scipy import stats as st\n",
    "import math\n",
    "import os\n",
    "pd.options.display.max_colwidth = 100"
   ]
  },
  {
   "cell_type": "code",
   "execution_count": 2,
   "metadata": {},
   "outputs": [],
   "source": [
    "data1 = '/datasets/hypothesis.csv'\n",
    "data2 = 'D:\\import\\hypothesis.csv'\n",
    "\n",
    "if os.path.exists(data1):\n",
    "    data = pd.read_csv(data1)\n",
    "elif os.path.exists(data2):\n",
    "    data = pd.read_csv(data2)\n",
    "else:\n",
    "    print('Something is wrong')"
   ]
  },
  {
   "cell_type": "code",
   "execution_count": 3,
   "metadata": {},
   "outputs": [
    {
     "data": {
      "text/html": [
       "<div>\n",
       "<style scoped>\n",
       "    .dataframe tbody tr th:only-of-type {\n",
       "        vertical-align: middle;\n",
       "    }\n",
       "\n",
       "    .dataframe tbody tr th {\n",
       "        vertical-align: top;\n",
       "    }\n",
       "\n",
       "    .dataframe thead th {\n",
       "        text-align: right;\n",
       "    }\n",
       "</style>\n",
       "<table border=\"1\" class=\"dataframe\">\n",
       "  <thead>\n",
       "    <tr style=\"text-align: right;\">\n",
       "      <th></th>\n",
       "      <th>Hypothesis</th>\n",
       "      <th>Reach</th>\n",
       "      <th>Impact</th>\n",
       "      <th>Confidence</th>\n",
       "      <th>Efforts</th>\n",
       "    </tr>\n",
       "  </thead>\n",
       "  <tbody>\n",
       "    <tr>\n",
       "      <th>0</th>\n",
       "      <td>Добавить два новых канала привлечения трафика, что позволит привлекать на 30% больше пользователей</td>\n",
       "      <td>3</td>\n",
       "      <td>10</td>\n",
       "      <td>8</td>\n",
       "      <td>6</td>\n",
       "    </tr>\n",
       "    <tr>\n",
       "      <th>1</th>\n",
       "      <td>Запустить собственную службу доставки, что сократит срок доставки заказов</td>\n",
       "      <td>2</td>\n",
       "      <td>5</td>\n",
       "      <td>4</td>\n",
       "      <td>10</td>\n",
       "    </tr>\n",
       "    <tr>\n",
       "      <th>2</th>\n",
       "      <td>Добавить блоки рекомендаций товаров на сайт интернет магазина, чтобы повысить конверсию и средни...</td>\n",
       "      <td>8</td>\n",
       "      <td>3</td>\n",
       "      <td>7</td>\n",
       "      <td>3</td>\n",
       "    </tr>\n",
       "    <tr>\n",
       "      <th>3</th>\n",
       "      <td>Изменить структура категорий, что увеличит конверсию, т.к. пользователи быстрее найдут нужный товар</td>\n",
       "      <td>8</td>\n",
       "      <td>3</td>\n",
       "      <td>3</td>\n",
       "      <td>8</td>\n",
       "    </tr>\n",
       "    <tr>\n",
       "      <th>4</th>\n",
       "      <td>Изменить цвет фона главной страницы, чтобы увеличить вовлеченность пользователей</td>\n",
       "      <td>3</td>\n",
       "      <td>1</td>\n",
       "      <td>1</td>\n",
       "      <td>1</td>\n",
       "    </tr>\n",
       "    <tr>\n",
       "      <th>5</th>\n",
       "      <td>Добавить страницу отзывов клиентов о магазине, что позволит увеличить количество заказов</td>\n",
       "      <td>3</td>\n",
       "      <td>2</td>\n",
       "      <td>2</td>\n",
       "      <td>3</td>\n",
       "    </tr>\n",
       "    <tr>\n",
       "      <th>6</th>\n",
       "      <td>Показать на главной странице баннеры с актуальными акциями и распродажами, чтобы увеличить конве...</td>\n",
       "      <td>5</td>\n",
       "      <td>3</td>\n",
       "      <td>8</td>\n",
       "      <td>3</td>\n",
       "    </tr>\n",
       "    <tr>\n",
       "      <th>7</th>\n",
       "      <td>Добавить форму подписки на все основные страницы, чтобы собрать базу клиентов для email-рассылок</td>\n",
       "      <td>10</td>\n",
       "      <td>7</td>\n",
       "      <td>8</td>\n",
       "      <td>5</td>\n",
       "    </tr>\n",
       "    <tr>\n",
       "      <th>8</th>\n",
       "      <td>Запустить акцию, дающую скидку на товар в день рождения</td>\n",
       "      <td>1</td>\n",
       "      <td>9</td>\n",
       "      <td>9</td>\n",
       "      <td>5</td>\n",
       "    </tr>\n",
       "  </tbody>\n",
       "</table>\n",
       "</div>"
      ],
      "text/plain": [
       "                                                                                            Hypothesis  \\\n",
       "0   Добавить два новых канала привлечения трафика, что позволит привлекать на 30% больше пользователей   \n",
       "1                            Запустить собственную службу доставки, что сократит срок доставки заказов   \n",
       "2  Добавить блоки рекомендаций товаров на сайт интернет магазина, чтобы повысить конверсию и средни...   \n",
       "3  Изменить структура категорий, что увеличит конверсию, т.к. пользователи быстрее найдут нужный товар   \n",
       "4                     Изменить цвет фона главной страницы, чтобы увеличить вовлеченность пользователей   \n",
       "5             Добавить страницу отзывов клиентов о магазине, что позволит увеличить количество заказов   \n",
       "6  Показать на главной странице баннеры с актуальными акциями и распродажами, чтобы увеличить конве...   \n",
       "7     Добавить форму подписки на все основные страницы, чтобы собрать базу клиентов для email-рассылок   \n",
       "8                                              Запустить акцию, дающую скидку на товар в день рождения   \n",
       "\n",
       "   Reach  Impact  Confidence  Efforts  \n",
       "0      3      10           8        6  \n",
       "1      2       5           4       10  \n",
       "2      8       3           7        3  \n",
       "3      8       3           3        8  \n",
       "4      3       1           1        1  \n",
       "5      3       2           2        3  \n",
       "6      5       3           8        3  \n",
       "7     10       7           8        5  \n",
       "8      1       9           9        5  "
      ]
     },
     "metadata": {},
     "output_type": "display_data"
    }
   ],
   "source": [
    "display(data)"
   ]
  },
  {
   "cell_type": "code",
   "execution_count": 4,
   "metadata": {},
   "outputs": [
    {
     "name": "stdout",
     "output_type": "stream",
     "text": [
      "<class 'pandas.core.frame.DataFrame'>\n",
      "RangeIndex: 9 entries, 0 to 8\n",
      "Data columns (total 5 columns):\n",
      " #   Column      Non-Null Count  Dtype \n",
      "---  ------      --------------  ----- \n",
      " 0   Hypothesis  9 non-null      object\n",
      " 1   Reach       9 non-null      int64 \n",
      " 2   Impact      9 non-null      int64 \n",
      " 3   Confidence  9 non-null      int64 \n",
      " 4   Efforts     9 non-null      int64 \n",
      "dtypes: int64(4), object(1)\n",
      "memory usage: 488.0+ bytes\n"
     ]
    }
   ],
   "source": [
    "data.info()"
   ]
  },
  {
   "cell_type": "code",
   "execution_count": 5,
   "metadata": {},
   "outputs": [
    {
     "data": {
      "text/plain": [
       "0"
      ]
     },
     "execution_count": 5,
     "metadata": {},
     "output_type": "execute_result"
    }
   ],
   "source": [
    "data.duplicated().sum()"
   ]
  },
  {
   "cell_type": "markdown",
   "metadata": {},
   "source": [
    "- Явных дубликатов и пропущенных значений в данных нет. \n",
    "- Названия столбцов приведем к нижнему регистру."
   ]
  },
  {
   "cell_type": "code",
   "execution_count": 6,
   "metadata": {},
   "outputs": [
    {
     "data": {
      "text/plain": [
       "['Hypothesis', 'Reach', 'Impact', 'Confidence', 'Efforts']"
      ]
     },
     "execution_count": 6,
     "metadata": {},
     "output_type": "execute_result"
    }
   ],
   "source": [
    "data.columns.to_list()"
   ]
  },
  {
   "cell_type": "code",
   "execution_count": 7,
   "metadata": {},
   "outputs": [],
   "source": [
    "data.columns = data.columns.str.lower()"
   ]
  },
  {
   "cell_type": "markdown",
   "metadata": {},
   "source": [
    "- Данные готовы для анализа"
   ]
  },
  {
   "cell_type": "markdown",
   "metadata": {},
   "source": [
    "### Фреймворк ICE для приоритизации гипотез."
   ]
  },
  {
   "cell_type": "code",
   "execution_count": 8,
   "metadata": {},
   "outputs": [
    {
     "name": "stdout",
     "output_type": "stream",
     "text": [
      "                                                                                            hypothesis  \\\n",
      "8                                              Запустить акцию, дающую скидку на товар в день рождения   \n",
      "0   Добавить два новых канала привлечения трафика, что позволит привлекать на 30% больше пользователей   \n",
      "7     Добавить форму подписки на все основные страницы, чтобы собрать базу клиентов для email-рассылок   \n",
      "6  Показать на главной странице баннеры с актуальными акциями и распродажами, чтобы увеличить конве...   \n",
      "2  Добавить блоки рекомендаций товаров на сайт интернет магазина, чтобы повысить конверсию и средни...   \n",
      "1                            Запустить собственную службу доставки, что сократит срок доставки заказов   \n",
      "5             Добавить страницу отзывов клиентов о магазине, что позволит увеличить количество заказов   \n",
      "3  Изменить структура категорий, что увеличит конверсию, т.к. пользователи быстрее найдут нужный товар   \n",
      "4                     Изменить цвет фона главной страницы, чтобы увеличить вовлеченность пользователей   \n",
      "\n",
      "     ICE  \n",
      "8  16.20  \n",
      "0  13.33  \n",
      "7  11.20  \n",
      "6   8.00  \n",
      "2   7.00  \n",
      "1   2.00  \n",
      "5   1.33  \n",
      "3   1.12  \n",
      "4   1.00  \n"
     ]
    }
   ],
   "source": [
    "data['ICE'] = round(((data['impact'] * data['confidence']) / data['efforts']),2)\n",
    "print(data[['hypothesis', 'ICE']].sort_values(by='ICE', ascending=False))"
   ]
  },
  {
   "cell_type": "markdown",
   "metadata": {},
   "source": [
    "- Наиболее перспективными по ICE оказались гипотезы: 9, 1 ,8, 7, 3."
   ]
  },
  {
   "cell_type": "markdown",
   "metadata": {},
   "source": [
    "### Фреймворк RICE для приоритизации гипотез."
   ]
  },
  {
   "cell_type": "code",
   "execution_count": 9,
   "metadata": {},
   "outputs": [
    {
     "name": "stdout",
     "output_type": "stream",
     "text": [
      "                                                                                            hypothesis  \\\n",
      "7     Добавить форму подписки на все основные страницы, чтобы собрать базу клиентов для email-рассылок   \n",
      "2  Добавить блоки рекомендаций товаров на сайт интернет магазина, чтобы повысить конверсию и средни...   \n",
      "0   Добавить два новых канала привлечения трафика, что позволит привлекать на 30% больше пользователей   \n",
      "6  Показать на главной странице баннеры с актуальными акциями и распродажами, чтобы увеличить конве...   \n",
      "8                                              Запустить акцию, дающую скидку на товар в день рождения   \n",
      "3  Изменить структура категорий, что увеличит конверсию, т.к. пользователи быстрее найдут нужный товар   \n",
      "1                            Запустить собственную службу доставки, что сократит срок доставки заказов   \n",
      "5             Добавить страницу отзывов клиентов о магазине, что позволит увеличить количество заказов   \n",
      "4                     Изменить цвет фона главной страницы, чтобы увеличить вовлеченность пользователей   \n",
      "\n",
      "    RICE  \n",
      "7  112.0  \n",
      "2   56.0  \n",
      "0   40.0  \n",
      "6   40.0  \n",
      "8   16.2  \n",
      "3    9.0  \n",
      "1    4.0  \n",
      "5    4.0  \n",
      "4    3.0  \n"
     ]
    }
   ],
   "source": [
    "data['RICE'] = (data['impact'] * data['confidence'] * data['reach']) / data['efforts']\n",
    "print(data[['hypothesis', 'RICE']].sort_values(by='RICE', ascending=False))"
   ]
  },
  {
   "cell_type": "markdown",
   "metadata": {},
   "source": [
    "- Похожим образом выглядит набор наиболее перспективных гипотез по RICE: 8, 3, 1, 7, 9."
   ]
  },
  {
   "cell_type": "markdown",
   "metadata": {},
   "source": [
    "### Почему приоритизация гипотез изменилась при применении RICE вместо ICE. "
   ]
  },
  {
   "cell_type": "code",
   "execution_count": 10,
   "metadata": {},
   "outputs": [
    {
     "data": {
      "image/png": "[encoded data removed]",
      "text/plain": [
       "<Figure size 432x288 with 1 Axes>"
      ]
     },
     "metadata": {
      "needs_background": "light"
     },
     "output_type": "display_data"
    }
   ],
   "source": [
    "data.set_index('hypothesis')[['ICE','RICE']].plot(kind='barh');"
   ]
  },
  {
   "cell_type": "code",
   "execution_count": 11,
   "metadata": {},
   "outputs": [
    {
     "data": {
      "text/html": [
       "<div>\n",
       "<style scoped>\n",
       "    .dataframe tbody tr th:only-of-type {\n",
       "        vertical-align: middle;\n",
       "    }\n",
       "\n",
       "    .dataframe tbody tr th {\n",
       "        vertical-align: top;\n",
       "    }\n",
       "\n",
       "    .dataframe thead th {\n",
       "        text-align: right;\n",
       "    }\n",
       "</style>\n",
       "<table border=\"1\" class=\"dataframe\">\n",
       "  <thead>\n",
       "    <tr style=\"text-align: right;\">\n",
       "      <th></th>\n",
       "      <th>приоритезация ICE</th>\n",
       "      <th>приоритезация RICE</th>\n",
       "    </tr>\n",
       "  </thead>\n",
       "  <tbody>\n",
       "    <tr>\n",
       "      <th>0</th>\n",
       "      <td>9</td>\n",
       "      <td>8</td>\n",
       "    </tr>\n",
       "    <tr>\n",
       "      <th>1</th>\n",
       "      <td>1</td>\n",
       "      <td>3</td>\n",
       "    </tr>\n",
       "    <tr>\n",
       "      <th>2</th>\n",
       "      <td>8</td>\n",
       "      <td>1</td>\n",
       "    </tr>\n",
       "    <tr>\n",
       "      <th>3</th>\n",
       "      <td>7</td>\n",
       "      <td>7</td>\n",
       "    </tr>\n",
       "    <tr>\n",
       "      <th>4</th>\n",
       "      <td>3</td>\n",
       "      <td>9</td>\n",
       "    </tr>\n",
       "  </tbody>\n",
       "</table>\n",
       "</div>"
      ],
      "text/plain": [
       "   приоритезация ICE   приоритезация RICE\n",
       "0                  9                    8\n",
       "1                  1                    3\n",
       "2                  8                    1\n",
       "3                  7                    7\n",
       "4                  3                    9"
      ]
     },
     "metadata": {},
     "output_type": "display_data"
    }
   ],
   "source": [
    "ice_rice = pd.DataFrame([[9, 8],\n",
    "                         [1, 3],\n",
    "                         [8, 1],\n",
    "                         [7, 7],\n",
    "                         [3, 9]], \n",
    "columns=['приоритезация ICE',' приоритезация RICE'])\n",
    "display(ice_rice)"
   ]
  },
  {
   "cell_type": "markdown",
   "metadata": {},
   "source": [
    "В топ 5 приоритетных гипотез по RICE и ICE вошли одинаковые гипотезы, но в разной последовательности. С чем это связано? С тем, что в приоритете RICE учитывается показатель reach. У 9ой гипотезы этот показатель равен 1, а вот у 8ой гипотезы он равен 10, поэтому очередность наших ТОП 5 гиротез изменилась."
   ]
  },
  {
   "cell_type": "markdown",
   "metadata": {},
   "source": [
    "## Анализ A/B-теста"
   ]
  },
  {
   "cell_type": "markdown",
   "metadata": {},
   "source": [
    "Вы провели A/B-тест и получили результаты, которые описаны в файлах /datasets/orders.csv и /datasets/visitors.csv."
   ]
  },
  {
   "cell_type": "markdown",
   "metadata": {},
   "source": [
    "### Обработка данных"
   ]
  },
  {
   "cell_type": "code",
   "execution_count": 12,
   "metadata": {},
   "outputs": [],
   "source": [
    "orders = pd.read_csv('/datasets/orders.csv')\n",
    "visitors = pd.read_csv('/datasets/visitors.csv')"
   ]
  },
  {
   "cell_type": "code",
   "execution_count": 13,
   "metadata": {},
   "outputs": [
    {
     "data": {
      "text/html": [
       "<div>\n",
       "<style scoped>\n",
       "    .dataframe tbody tr th:only-of-type {\n",
       "        vertical-align: middle;\n",
       "    }\n",
       "\n",
       "    .dataframe tbody tr th {\n",
       "        vertical-align: top;\n",
       "    }\n",
       "\n",
       "    .dataframe thead th {\n",
       "        text-align: right;\n",
       "    }\n",
       "</style>\n",
       "<table border=\"1\" class=\"dataframe\">\n",
       "  <thead>\n",
       "    <tr style=\"text-align: right;\">\n",
       "      <th></th>\n",
       "      <th>transactionId</th>\n",
       "      <th>visitorId</th>\n",
       "      <th>date</th>\n",
       "      <th>revenue</th>\n",
       "      <th>group</th>\n",
       "    </tr>\n",
       "  </thead>\n",
       "  <tbody>\n",
       "    <tr>\n",
       "      <th>0</th>\n",
       "      <td>3667963787</td>\n",
       "      <td>3312258926</td>\n",
       "      <td>2019-08-15</td>\n",
       "      <td>1650</td>\n",
       "      <td>B</td>\n",
       "    </tr>\n",
       "    <tr>\n",
       "      <th>1</th>\n",
       "      <td>2804400009</td>\n",
       "      <td>3642806036</td>\n",
       "      <td>2019-08-15</td>\n",
       "      <td>730</td>\n",
       "      <td>B</td>\n",
       "    </tr>\n",
       "    <tr>\n",
       "      <th>2</th>\n",
       "      <td>2961555356</td>\n",
       "      <td>4069496402</td>\n",
       "      <td>2019-08-15</td>\n",
       "      <td>400</td>\n",
       "      <td>A</td>\n",
       "    </tr>\n",
       "    <tr>\n",
       "      <th>3</th>\n",
       "      <td>3797467345</td>\n",
       "      <td>1196621759</td>\n",
       "      <td>2019-08-15</td>\n",
       "      <td>9759</td>\n",
       "      <td>B</td>\n",
       "    </tr>\n",
       "    <tr>\n",
       "      <th>4</th>\n",
       "      <td>2282983706</td>\n",
       "      <td>2322279887</td>\n",
       "      <td>2019-08-15</td>\n",
       "      <td>2308</td>\n",
       "      <td>B</td>\n",
       "    </tr>\n",
       "  </tbody>\n",
       "</table>\n",
       "</div>"
      ],
      "text/plain": [
       "   transactionId   visitorId        date  revenue group\n",
       "0     3667963787  3312258926  2019-08-15     1650     B\n",
       "1     2804400009  3642806036  2019-08-15      730     B\n",
       "2     2961555356  4069496402  2019-08-15      400     A\n",
       "3     3797467345  1196621759  2019-08-15     9759     B\n",
       "4     2282983706  2322279887  2019-08-15     2308     B"
      ]
     },
     "execution_count": 13,
     "metadata": {},
     "output_type": "execute_result"
    }
   ],
   "source": [
    "orders.head()"
   ]
  },
  {
   "cell_type": "code",
   "execution_count": 14,
   "metadata": {},
   "outputs": [
    {
     "name": "stdout",
     "output_type": "stream",
     "text": [
      "<class 'pandas.core.frame.DataFrame'>\n",
      "RangeIndex: 1197 entries, 0 to 1196\n",
      "Data columns (total 5 columns):\n",
      " #   Column         Non-Null Count  Dtype \n",
      "---  ------         --------------  ----- \n",
      " 0   transactionId  1197 non-null   int64 \n",
      " 1   visitorId      1197 non-null   int64 \n",
      " 2   date           1197 non-null   object\n",
      " 3   revenue        1197 non-null   int64 \n",
      " 4   group          1197 non-null   object\n",
      "dtypes: int64(3), object(2)\n",
      "memory usage: 46.9+ KB\n"
     ]
    }
   ],
   "source": [
    "orders.info()"
   ]
  },
  {
   "cell_type": "code",
   "execution_count": 15,
   "metadata": {},
   "outputs": [],
   "source": [
    "orders.columns = ['transaction_id', 'visitor_id', 'date', 'revenue', 'group']"
   ]
  },
  {
   "cell_type": "code",
   "execution_count": 16,
   "metadata": {},
   "outputs": [
    {
     "data": {
      "text/html": [
       "<div>\n",
       "<style scoped>\n",
       "    .dataframe tbody tr th:only-of-type {\n",
       "        vertical-align: middle;\n",
       "    }\n",
       "\n",
       "    .dataframe tbody tr th {\n",
       "        vertical-align: top;\n",
       "    }\n",
       "\n",
       "    .dataframe thead th {\n",
       "        text-align: right;\n",
       "    }\n",
       "</style>\n",
       "<table border=\"1\" class=\"dataframe\">\n",
       "  <thead>\n",
       "    <tr style=\"text-align: right;\">\n",
       "      <th></th>\n",
       "      <th>date</th>\n",
       "      <th>group</th>\n",
       "      <th>visitors</th>\n",
       "    </tr>\n",
       "  </thead>\n",
       "  <tbody>\n",
       "    <tr>\n",
       "      <th>0</th>\n",
       "      <td>2019-08-01</td>\n",
       "      <td>A</td>\n",
       "      <td>719</td>\n",
       "    </tr>\n",
       "    <tr>\n",
       "      <th>1</th>\n",
       "      <td>2019-08-02</td>\n",
       "      <td>A</td>\n",
       "      <td>619</td>\n",
       "    </tr>\n",
       "    <tr>\n",
       "      <th>2</th>\n",
       "      <td>2019-08-03</td>\n",
       "      <td>A</td>\n",
       "      <td>507</td>\n",
       "    </tr>\n",
       "    <tr>\n",
       "      <th>3</th>\n",
       "      <td>2019-08-04</td>\n",
       "      <td>A</td>\n",
       "      <td>717</td>\n",
       "    </tr>\n",
       "    <tr>\n",
       "      <th>4</th>\n",
       "      <td>2019-08-05</td>\n",
       "      <td>A</td>\n",
       "      <td>756</td>\n",
       "    </tr>\n",
       "  </tbody>\n",
       "</table>\n",
       "</div>"
      ],
      "text/plain": [
       "         date group  visitors\n",
       "0  2019-08-01     A       719\n",
       "1  2019-08-02     A       619\n",
       "2  2019-08-03     A       507\n",
       "3  2019-08-04     A       717\n",
       "4  2019-08-05     A       756"
      ]
     },
     "execution_count": 16,
     "metadata": {},
     "output_type": "execute_result"
    }
   ],
   "source": [
    "visitors.head()"
   ]
  },
  {
   "cell_type": "code",
   "execution_count": 17,
   "metadata": {},
   "outputs": [
    {
     "name": "stdout",
     "output_type": "stream",
     "text": [
      "<class 'pandas.core.frame.DataFrame'>\n",
      "RangeIndex: 62 entries, 0 to 61\n",
      "Data columns (total 3 columns):\n",
      " #   Column    Non-Null Count  Dtype \n",
      "---  ------    --------------  ----- \n",
      " 0   date      62 non-null     object\n",
      " 1   group     62 non-null     object\n",
      " 2   visitors  62 non-null     int64 \n",
      "dtypes: int64(1), object(2)\n",
      "memory usage: 1.6+ KB\n"
     ]
    }
   ],
   "source": [
    "visitors.info()"
   ]
  },
  {
   "cell_type": "code",
   "execution_count": 18,
   "metadata": {},
   "outputs": [],
   "source": [
    "orders['date'] = orders['date'].map(lambda x :dt.datetime.strptime(x, '%Y-%m-%d'))\n",
    "visitors['date'] = visitors['date'].map(lambda x :dt.datetime.strptime(x, '%Y-%m-%d'))"
   ]
  },
  {
   "cell_type": "code",
   "execution_count": 19,
   "metadata": {},
   "outputs": [
    {
     "data": {
      "text/plain": [
       "0"
      ]
     },
     "metadata": {},
     "output_type": "display_data"
    },
    {
     "data": {
      "text/plain": [
       "0"
      ]
     },
     "metadata": {},
     "output_type": "display_data"
    }
   ],
   "source": [
    "display(visitors.duplicated().sum())\n",
    "display(orders.duplicated().sum())"
   ]
  },
  {
   "cell_type": "markdown",
   "metadata": {},
   "source": [
    "- Явных дубликатов и пропусков в данных нет.\n",
    "- Изменили тип данных в колонкак с датой.\n",
    "- Переименовали столбцы."
   ]
  },
  {
   "cell_type": "code",
   "execution_count": 20,
   "metadata": {},
   "outputs": [
    {
     "data": {
      "text/plain": [
       "array(['A', 'B'], dtype=object)"
      ]
     },
     "metadata": {},
     "output_type": "display_data"
    },
    {
     "data": {
      "text/plain": [
       "array(['B', 'A'], dtype=object)"
      ]
     },
     "metadata": {},
     "output_type": "display_data"
    }
   ],
   "source": [
    "display(visitors['group'].unique()) \n",
    "display(orders['group'].unique())"
   ]
  },
  {
   "cell_type": "code",
   "execution_count": 21,
   "metadata": {},
   "outputs": [
    {
     "name": "stdout",
     "output_type": "stream",
     "text": [
      "Дата начала теста:  2019-08-01 00:00:00\n",
      "Дата окончания теста:  2019-08-31 00:00:00\n"
     ]
    }
   ],
   "source": [
    "print('Дата начала теста: ',orders['date'].min()) \n",
    "print('Дата окончания теста: ',orders['date'].max())"
   ]
  },
  {
   "cell_type": "markdown",
   "metadata": {},
   "source": [
    "- У нас 2 группы пользователей - A и В"
   ]
  },
  {
   "cell_type": "code",
   "execution_count": 22,
   "metadata": {},
   "outputs": [
    {
     "name": "stdout",
     "output_type": "stream",
     "text": [
      "Пользователи попавшие в обе группы:  58\n"
     ]
    }
   ],
   "source": [
    "duplicates_users = orders.groupby('visitor_id').agg({'group':['nunique']})\n",
    "duplicates_users.columns = ['group']\n",
    "duplicates_users = duplicates_users.query('group > 1')\n",
    "print('Пользователи попавшие в обе группы: ', len(duplicates_users))"
   ]
  },
  {
   "cell_type": "markdown",
   "metadata": {},
   "source": [
    "- Мы нашли 58 уникальных пользователе, которые попали в обе группы.\n",
    "- Предлагаю удалить этих пользователей, так как их действия сложно тнтерпретировать в рамках групп А и В."
   ]
  },
  {
   "cell_type": "code",
   "execution_count": 23,
   "metadata": {},
   "outputs": [],
   "source": [
    "orders = orders.query('visitor_id not in @ duplicates_users')"
   ]
  },
  {
   "cell_type": "code",
   "execution_count": 24,
   "metadata": {},
   "outputs": [],
   "source": [
    "visitors = visitors.query('visitors not in @ duplicates_users')"
   ]
  },
  {
   "cell_type": "markdown",
   "metadata": {},
   "source": [
    "### График кумулятивной выручки по группам."
   ]
  },
  {
   "cell_type": "code",
   "execution_count": 25,
   "metadata": {},
   "outputs": [],
   "source": [
    "dates_groups = orders[['date', 'group']].drop_duplicates() # создаем массив уникальных пар значений дат и групп теста"
   ]
  },
  {
   "cell_type": "code",
   "execution_count": 26,
   "metadata": {},
   "outputs": [
    {
     "data": {
      "text/html": [
       "<div>\n",
       "<style scoped>\n",
       "    .dataframe tbody tr th:only-of-type {\n",
       "        vertical-align: middle;\n",
       "    }\n",
       "\n",
       "    .dataframe tbody tr th {\n",
       "        vertical-align: top;\n",
       "    }\n",
       "\n",
       "    .dataframe thead th {\n",
       "        text-align: right;\n",
       "    }\n",
       "</style>\n",
       "<table border=\"1\" class=\"dataframe\">\n",
       "  <thead>\n",
       "    <tr style=\"text-align: right;\">\n",
       "      <th></th>\n",
       "      <th>date</th>\n",
       "      <th>group</th>\n",
       "      <th>transaction_id</th>\n",
       "      <th>visitor_id</th>\n",
       "      <th>revenue</th>\n",
       "    </tr>\n",
       "  </thead>\n",
       "  <tbody>\n",
       "    <tr>\n",
       "      <th>55</th>\n",
       "      <td>2019-08-01</td>\n",
       "      <td>A</td>\n",
       "      <td>24</td>\n",
       "      <td>20</td>\n",
       "      <td>148579</td>\n",
       "    </tr>\n",
       "    <tr>\n",
       "      <th>66</th>\n",
       "      <td>2019-08-01</td>\n",
       "      <td>B</td>\n",
       "      <td>21</td>\n",
       "      <td>20</td>\n",
       "      <td>101217</td>\n",
       "    </tr>\n",
       "    <tr>\n",
       "      <th>175</th>\n",
       "      <td>2019-08-02</td>\n",
       "      <td>A</td>\n",
       "      <td>44</td>\n",
       "      <td>38</td>\n",
       "      <td>242401</td>\n",
       "    </tr>\n",
       "    <tr>\n",
       "      <th>173</th>\n",
       "      <td>2019-08-02</td>\n",
       "      <td>B</td>\n",
       "      <td>45</td>\n",
       "      <td>43</td>\n",
       "      <td>266748</td>\n",
       "    </tr>\n",
       "    <tr>\n",
       "      <th>291</th>\n",
       "      <td>2019-08-03</td>\n",
       "      <td>A</td>\n",
       "      <td>68</td>\n",
       "      <td>62</td>\n",
       "      <td>354874</td>\n",
       "    </tr>\n",
       "  </tbody>\n",
       "</table>\n",
       "</div>"
      ],
      "text/plain": [
       "          date group  transaction_id  visitor_id  revenue\n",
       "55  2019-08-01     A              24          20   148579\n",
       "66  2019-08-01     B              21          20   101217\n",
       "175 2019-08-02     A              44          38   242401\n",
       "173 2019-08-02     B              45          43   266748\n",
       "291 2019-08-03     A              68          62   354874"
      ]
     },
     "execution_count": 26,
     "metadata": {},
     "output_type": "execute_result"
    }
   ],
   "source": [
    "orders_agregated = dates_groups.apply(\n",
    "    lambda x: orders[np.logical_and(orders['date'] <= x['date'], orders['group'] == x['group'])]\n",
    "    .agg({'date':'max', 'group': 'max', 'transaction_id':'nunique', 'visitor_id':'nunique', 'revenue':'sum'}), axis=1).sort_values(by=['date', 'group'])\n",
    "orders_agregated.head()"
   ]
  },
  {
   "cell_type": "markdown",
   "metadata": {},
   "source": [
    "- Этот код работает так, будто мы ежедневно считали результаты тестирования до выбранного дня включительно и сохраняли их в строках таблицы orders_aggregated\n",
    "- Аналогично получим агрегированные кумулятивные по дням данные о посетителях интернет-магазина:"
   ]
  },
  {
   "cell_type": "code",
   "execution_count": 27,
   "metadata": {},
   "outputs": [
    {
     "data": {
      "text/html": [
       "<div>\n",
       "<style scoped>\n",
       "    .dataframe tbody tr th:only-of-type {\n",
       "        vertical-align: middle;\n",
       "    }\n",
       "\n",
       "    .dataframe tbody tr th {\n",
       "        vertical-align: top;\n",
       "    }\n",
       "\n",
       "    .dataframe thead th {\n",
       "        text-align: right;\n",
       "    }\n",
       "</style>\n",
       "<table border=\"1\" class=\"dataframe\">\n",
       "  <thead>\n",
       "    <tr style=\"text-align: right;\">\n",
       "      <th></th>\n",
       "      <th>date</th>\n",
       "      <th>group</th>\n",
       "      <th>visitors</th>\n",
       "    </tr>\n",
       "  </thead>\n",
       "  <tbody>\n",
       "    <tr>\n",
       "      <th>55</th>\n",
       "      <td>2019-08-01</td>\n",
       "      <td>A</td>\n",
       "      <td>719</td>\n",
       "    </tr>\n",
       "    <tr>\n",
       "      <th>66</th>\n",
       "      <td>2019-08-01</td>\n",
       "      <td>B</td>\n",
       "      <td>713</td>\n",
       "    </tr>\n",
       "    <tr>\n",
       "      <th>175</th>\n",
       "      <td>2019-08-02</td>\n",
       "      <td>A</td>\n",
       "      <td>1338</td>\n",
       "    </tr>\n",
       "    <tr>\n",
       "      <th>173</th>\n",
       "      <td>2019-08-02</td>\n",
       "      <td>B</td>\n",
       "      <td>1294</td>\n",
       "    </tr>\n",
       "    <tr>\n",
       "      <th>291</th>\n",
       "      <td>2019-08-03</td>\n",
       "      <td>A</td>\n",
       "      <td>1845</td>\n",
       "    </tr>\n",
       "  </tbody>\n",
       "</table>\n",
       "</div>"
      ],
      "text/plain": [
       "          date group  visitors\n",
       "55  2019-08-01     A       719\n",
       "66  2019-08-01     B       713\n",
       "175 2019-08-02     A      1338\n",
       "173 2019-08-02     B      1294\n",
       "291 2019-08-03     A      1845"
      ]
     },
     "execution_count": 27,
     "metadata": {},
     "output_type": "execute_result"
    }
   ],
   "source": [
    "visitors_agregated = dates_groups.apply(\n",
    "    lambda x:visitors[np.logical_and(visitors['date'] <= x['date'], visitors['group'] == x['group'])]\n",
    "    .agg({'date':'max', 'group':'max', 'visitors':'sum'}), axis=1).sort_values(by=['date', 'group'])\n",
    "visitors_agregated.head() "
   ]
  },
  {
   "cell_type": "code",
   "execution_count": 28,
   "metadata": {},
   "outputs": [
    {
     "data": {
      "text/html": [
       "<div>\n",
       "<style scoped>\n",
       "    .dataframe tbody tr th:only-of-type {\n",
       "        vertical-align: middle;\n",
       "    }\n",
       "\n",
       "    .dataframe tbody tr th {\n",
       "        vertical-align: top;\n",
       "    }\n",
       "\n",
       "    .dataframe thead th {\n",
       "        text-align: right;\n",
       "    }\n",
       "</style>\n",
       "<table border=\"1\" class=\"dataframe\">\n",
       "  <thead>\n",
       "    <tr style=\"text-align: right;\">\n",
       "      <th></th>\n",
       "      <th>date</th>\n",
       "      <th>group</th>\n",
       "      <th>orders</th>\n",
       "      <th>buyers</th>\n",
       "      <th>revenue</th>\n",
       "      <th>visitors</th>\n",
       "    </tr>\n",
       "  </thead>\n",
       "  <tbody>\n",
       "    <tr>\n",
       "      <th>0</th>\n",
       "      <td>2019-08-01</td>\n",
       "      <td>A</td>\n",
       "      <td>24</td>\n",
       "      <td>20</td>\n",
       "      <td>148579</td>\n",
       "      <td>719</td>\n",
       "    </tr>\n",
       "    <tr>\n",
       "      <th>1</th>\n",
       "      <td>2019-08-01</td>\n",
       "      <td>B</td>\n",
       "      <td>21</td>\n",
       "      <td>20</td>\n",
       "      <td>101217</td>\n",
       "      <td>713</td>\n",
       "    </tr>\n",
       "    <tr>\n",
       "      <th>2</th>\n",
       "      <td>2019-08-02</td>\n",
       "      <td>A</td>\n",
       "      <td>44</td>\n",
       "      <td>38</td>\n",
       "      <td>242401</td>\n",
       "      <td>1338</td>\n",
       "    </tr>\n",
       "    <tr>\n",
       "      <th>3</th>\n",
       "      <td>2019-08-02</td>\n",
       "      <td>B</td>\n",
       "      <td>45</td>\n",
       "      <td>43</td>\n",
       "      <td>266748</td>\n",
       "      <td>1294</td>\n",
       "    </tr>\n",
       "    <tr>\n",
       "      <th>4</th>\n",
       "      <td>2019-08-03</td>\n",
       "      <td>A</td>\n",
       "      <td>68</td>\n",
       "      <td>62</td>\n",
       "      <td>354874</td>\n",
       "      <td>1845</td>\n",
       "    </tr>\n",
       "  </tbody>\n",
       "</table>\n",
       "</div>"
      ],
      "text/plain": [
       "        date group  orders  buyers  revenue  visitors\n",
       "0 2019-08-01     A      24      20   148579       719\n",
       "1 2019-08-01     B      21      20   101217       713\n",
       "2 2019-08-02     A      44      38   242401      1338\n",
       "3 2019-08-02     B      45      43   266748      1294\n",
       "4 2019-08-03     A      68      62   354874      1845"
      ]
     },
     "execution_count": 28,
     "metadata": {},
     "output_type": "execute_result"
    }
   ],
   "source": [
    "cumulative_data = pd.merge(orders_agregated, visitors_agregated, on=['date', 'group'])\n",
    "cumulative_data.columns = ['date', 'group', 'orders', 'buyers', 'revenue', 'visitors']\n",
    "cumulative_data.head() # Объединим обе таблицы в одну с понятными названиями столбцов"
   ]
  },
  {
   "cell_type": "code",
   "execution_count": 29,
   "metadata": {},
   "outputs": [
    {
     "data": {
      "image/png": "[encoded data removed]",
      "text/plain": [
       "<Figure size 720x360 with 1 Axes>"
      ]
     },
     "metadata": {
      "needs_background": "light"
     },
     "output_type": "display_data"
    }
   ],
   "source": [
    "cumulative_data_A = cumulative_data[cumulative_data['group'] == 'A']\n",
    "cumulative_data_B = cumulative_data[cumulative_data['group'] == 'B']\n",
    "plt.figure(figsize=(10,5))\n",
    "plt.title('Кумулятивная выручка по группам\\n')\n",
    "plt.xlabel('Дата')\n",
    "plt.ylabel('Выручка, млн')\n",
    "plt.xticks(rotation=45)\n",
    "plt.plot(cumulative_data_A['date'], cumulative_data_A['revenue']/1000000, label='A')\n",
    "plt.plot(cumulative_data_B['date'], cumulative_data_B['revenue']/1000000, label='B')\n",
    "plt.legend();"
   ]
  },
  {
   "cell_type": "markdown",
   "metadata": {},
   "source": [
    "Из графика видно, что выручка почти равномерно увеличивается в течение всего теста. Хороший знак.\n",
    "<br> Однако график выручки группы В резко растрет в августе. Это может сигнализировать о всплесках числа заказов, либо о появлении очень дорогих заказов в выборке, то есть о выбросах."
   ]
  },
  {
   "cell_type": "markdown",
   "metadata": {},
   "source": [
    "### График кумулятивного среднего чека по группам."
   ]
  },
  {
   "cell_type": "code",
   "execution_count": 30,
   "metadata": {},
   "outputs": [
    {
     "data": {
      "image/png": "[encoded data removed]",
      "text/plain": [
       "<Figure size 720x360 with 1 Axes>"
      ]
     },
     "metadata": {
      "needs_background": "light"
     },
     "output_type": "display_data"
    }
   ],
   "source": [
    "plt.figure(figsize=(10,5))\n",
    "plt.title('Кумулятивный средний чек по группам\\n')\n",
    "plt.xlabel('Дата')\n",
    "plt.ylabel('Средний чек')\n",
    "plt.xticks(rotation=45)\n",
    "plt.plot(cumulative_data_A['date'], cumulative_data_A['revenue']/cumulative_data_A['orders'], label='A')\n",
    "plt.plot(cumulative_data_B['date'], cumulative_data_B['revenue']/cumulative_data_B['orders'], label='B')\n",
    "plt.legend();"
   ]
  },
  {
   "cell_type": "markdown",
   "metadata": {},
   "source": [
    "Здесь так же видим резкий скачок графика группы В в августе. Возможно, в группу B в первой середине теста попали крупные заказы.\n",
    "<br> Средний чек становится равномерным во второй половине теста: установился для группы A и продолжает падать для группы B."
   ]
  },
  {
   "cell_type": "markdown",
   "metadata": {},
   "source": [
    "### График относительного изменения кумулятивного среднего чека группы B к группе A."
   ]
  },
  {
   "cell_type": "code",
   "execution_count": 31,
   "metadata": {},
   "outputs": [
    {
     "data": {
      "image/png": "[encoded data removed]",
      "text/plain": [
       "<Figure size 720x360 with 1 Axes>"
      ]
     },
     "metadata": {
      "needs_background": "light"
     },
     "output_type": "display_data"
    }
   ],
   "source": [
    "merge_cumulative_data = pd.merge(cumulative_data_A, cumulative_data_B, on='date', how='left', suffixes = ['A', 'B'])\n",
    "plt.figure(figsize=(10,5))\n",
    "plt.title('Относительные изменения кумулятивного среднего чека группы B к группе A\\n')\n",
    "plt.xlabel('Дата')\n",
    "plt.ylabel('Отношение среднего чека группы B к группе A')\n",
    "plt.xticks(rotation=45)\n",
    "plt.plot(merge_cumulative_data['date'], (merge_cumulative_data['revenueB']/merge_cumulative_data['ordersB'])/(merge_cumulative_data['revenueA']/merge_cumulative_data['ordersA']) - 1);\n",
    "plt.axhline(y=0, color='black', linestyle='--');"
   ]
  },
  {
   "cell_type": "markdown",
   "metadata": {},
   "source": [
    "В нескольких точках график различия между сегментами резко «скачет». Где-то уж точно спрятались крупные заказы и выбросы! Найдём их позже."
   ]
  },
  {
   "cell_type": "markdown",
   "metadata": {},
   "source": [
    "### График кумулятивного среднего количества заказов на посетителя по группам."
   ]
  },
  {
   "cell_type": "code",
   "execution_count": 32,
   "metadata": {},
   "outputs": [],
   "source": [
    "cumulative_data['conversion'] = cumulative_data['orders'] / cumulative_data['visitors']"
   ]
  },
  {
   "cell_type": "code",
   "execution_count": 33,
   "metadata": {},
   "outputs": [],
   "source": [
    "conversion_data_A = cumulative_data[cumulative_data['group'] == 'A']\n",
    "conversion_data_B = cumulative_data[cumulative_data['group'] == 'B']"
   ]
  },
  {
   "cell_type": "code",
   "execution_count": 34,
   "metadata": {},
   "outputs": [],
   "source": [
    "x_min = cumulative_data['date'].min()"
   ]
  },
  {
   "cell_type": "code",
   "execution_count": 35,
   "metadata": {},
   "outputs": [],
   "source": [
    "x_max = cumulative_data['date'].max()"
   ]
  },
  {
   "cell_type": "code",
   "execution_count": 36,
   "metadata": {},
   "outputs": [
    {
     "data": {
      "image/png": "[encoded data removed]",
      "text/plain": [
       "<Figure size 720x360 with 1 Axes>"
      ]
     },
     "metadata": {
      "needs_background": "light"
     },
     "output_type": "display_data"
    }
   ],
   "source": [
    "plt.figure(figsize=(10,5))\n",
    "plt.title('Кумулятивное кол-во заказов на посетителя по группам\\n')\n",
    "plt.xlabel('Дата')\n",
    "plt.ylabel('Кол-во заказов на посетителя')\n",
    "plt.xticks(rotation=45)\n",
    "plt.plot(conversion_data_A['date'], conversion_data_A['conversion'], label='A')\n",
    "plt.plot(conversion_data_B['date'], conversion_data_B['conversion'], label='B')\n",
    "plt.legend();\n",
    "plt.axis([x_min, x_max, 0.029217, 0.036856]); #[xmin, xmax, ymin, ymax]"
   ]
  },
  {
   "cell_type": "markdown",
   "metadata": {},
   "source": [
    "Благодаря данному графику видим, что количество заказов на посетителя в группах А и В колебались около одного значения в начале теста, а затем данная метрика группы В значительно вырвалась вперёд, а группы A сильно просела."
   ]
  },
  {
   "cell_type": "markdown",
   "metadata": {},
   "source": [
    "### График относительного изменения кумулятивного среднего количества заказов на посетителя группы B к группе A. "
   ]
  },
  {
   "cell_type": "code",
   "execution_count": 37,
   "metadata": {},
   "outputs": [],
   "source": [
    "merge_conversion_data = pd.merge(conversion_data_A, conversion_data_B, on=['date'], suffixes=['A', 'B'])"
   ]
  },
  {
   "cell_type": "code",
   "execution_count": 38,
   "metadata": {},
   "outputs": [
    {
     "data": {
      "image/png": "[encoded data removed]",
      "text/plain": [
       "<Figure size 936x504 with 1 Axes>"
      ]
     },
     "metadata": {
      "needs_background": "light"
     },
     "output_type": "display_data"
    }
   ],
   "source": [
    "plt.figure(figsize=(13,7))\n",
    "plt.title('Относительные изменения кумулятивного среднего количества заказов на посетителя группы B к группе A\\n')\n",
    "plt.xlabel('Дата')\n",
    "plt.ylabel('Отношение кумулятивного среднего количества заказов на посетителя группы B к группе A')\n",
    "plt.xticks(rotation=45)\n",
    "plt.plot(merge_conversion_data['date'], (merge_conversion_data['conversionB']/(merge_conversion_data['conversionA']) - 1));\n",
    "plt.axhline(y=0, color='black', linestyle='--');"
   ]
  },
  {
   "cell_type": "markdown",
   "metadata": {},
   "source": [
    "- Из данного графика можем сделать вывод, что в начале нашего теста группа B значительно проигрывала группе A, затем вырвалась вперёд. Потом относительное изменение кумулятивного среднего количества заказов на посетителя группы В снова переживала небольшую стагнацию, но теперь постепенно растёт.\n",
    "- На данном этапе тестирования рано делать какие-либо выводы, так как отношение кумулятивных метрик групп А и В еще не установилось. Сперва стоит разобраться с аномалиями в августе, которые мы выявили по ходу нашего анализа."
   ]
  },
  {
   "cell_type": "markdown",
   "metadata": {},
   "source": [
    "### Точечный график количества заказов по пользователям."
   ]
  },
  {
   "cell_type": "code",
   "execution_count": 39,
   "metadata": {},
   "outputs": [],
   "source": [
    "orders_by_users = (\n",
    "    orders.drop(['date', 'revenue', 'group'], axis=1)\n",
    "    .groupby('visitor_id', as_index=False)\n",
    "    .agg({'transaction_id':pd.Series.nunique})\n",
    ")"
   ]
  },
  {
   "cell_type": "code",
   "execution_count": 40,
   "metadata": {},
   "outputs": [],
   "source": [
    "orders_by_users.columns = ['user_id', 'orders']"
   ]
  },
  {
   "cell_type": "code",
   "execution_count": 41,
   "metadata": {},
   "outputs": [
    {
     "data": {
      "text/html": [
       "<div>\n",
       "<style scoped>\n",
       "    .dataframe tbody tr th:only-of-type {\n",
       "        vertical-align: middle;\n",
       "    }\n",
       "\n",
       "    .dataframe tbody tr th {\n",
       "        vertical-align: top;\n",
       "    }\n",
       "\n",
       "    .dataframe thead th {\n",
       "        text-align: right;\n",
       "    }\n",
       "</style>\n",
       "<table border=\"1\" class=\"dataframe\">\n",
       "  <thead>\n",
       "    <tr style=\"text-align: right;\">\n",
       "      <th></th>\n",
       "      <th>user_id</th>\n",
       "      <th>orders</th>\n",
       "    </tr>\n",
       "  </thead>\n",
       "  <tbody>\n",
       "    <tr>\n",
       "      <th>1023</th>\n",
       "      <td>4256040402</td>\n",
       "      <td>11</td>\n",
       "    </tr>\n",
       "    <tr>\n",
       "      <th>591</th>\n",
       "      <td>2458001652</td>\n",
       "      <td>11</td>\n",
       "    </tr>\n",
       "    <tr>\n",
       "      <th>569</th>\n",
       "      <td>2378935119</td>\n",
       "      <td>9</td>\n",
       "    </tr>\n",
       "    <tr>\n",
       "      <th>487</th>\n",
       "      <td>2038680547</td>\n",
       "      <td>8</td>\n",
       "    </tr>\n",
       "    <tr>\n",
       "      <th>44</th>\n",
       "      <td>199603092</td>\n",
       "      <td>5</td>\n",
       "    </tr>\n",
       "    <tr>\n",
       "      <th>744</th>\n",
       "      <td>3062433592</td>\n",
       "      <td>5</td>\n",
       "    </tr>\n",
       "    <tr>\n",
       "      <th>55</th>\n",
       "      <td>237748145</td>\n",
       "      <td>5</td>\n",
       "    </tr>\n",
       "    <tr>\n",
       "      <th>917</th>\n",
       "      <td>3803269165</td>\n",
       "      <td>5</td>\n",
       "    </tr>\n",
       "    <tr>\n",
       "      <th>299</th>\n",
       "      <td>1230306981</td>\n",
       "      <td>5</td>\n",
       "    </tr>\n",
       "    <tr>\n",
       "      <th>897</th>\n",
       "      <td>3717692402</td>\n",
       "      <td>5</td>\n",
       "    </tr>\n",
       "  </tbody>\n",
       "</table>\n",
       "</div>"
      ],
      "text/plain": [
       "         user_id  orders\n",
       "1023  4256040402      11\n",
       "591   2458001652      11\n",
       "569   2378935119       9\n",
       "487   2038680547       8\n",
       "44     199603092       5\n",
       "744   3062433592       5\n",
       "55     237748145       5\n",
       "917   3803269165       5\n",
       "299   1230306981       5\n",
       "897   3717692402       5"
      ]
     },
     "execution_count": 41,
     "metadata": {},
     "output_type": "execute_result"
    }
   ],
   "source": [
    "orders_by_users.sort_values(by='orders', ascending=False).head(10)"
   ]
  },
  {
   "cell_type": "code",
   "execution_count": 42,
   "metadata": {},
   "outputs": [
    {
     "data": {
      "image/png": "[encoded data removed]",
      "text/plain": [
       "<Figure size 720x360 with 1 Axes>"
      ]
     },
     "metadata": {
      "needs_background": "light"
     },
     "output_type": "display_data"
    }
   ],
   "source": [
    "plt.figure(figsize=(10,5))\n",
    "plt.ylabel('Количество пользователей')\n",
    "plt.xlabel('Количество заказов')\n",
    "plt.title('Распределение количества заказов на одного пользователя\\n')\n",
    "plt.hist(orders_by_users['orders']);\n",
    "plt.show()"
   ]
  },
  {
   "cell_type": "markdown",
   "metadata": {},
   "source": [
    "Большинство пользователей совершают всего 1 заказ. Небольшое кол-во пользователей соверили заказ 2 раза.\n",
    "<br> Однако не ясно, сколько пользователей сделало больше 2х заказов. Построим точечную диаграмму."
   ]
  },
  {
   "cell_type": "code",
   "execution_count": 43,
   "metadata": {},
   "outputs": [
    {
     "data": {
      "image/png": "[encoded data removed]",
      "text/plain": [
       "<Figure size 720x360 with 1 Axes>"
      ]
     },
     "metadata": {
      "needs_background": "light"
     },
     "output_type": "display_data"
    }
   ],
   "source": [
    "x_values = pd.Series(range(0,len(orders_by_users)))\n",
    "plt.figure(figsize=(10,5))\n",
    "plt.ylabel('Количество заказов')\n",
    "plt.xlabel('Пользователи')\n",
    "plt.title('Точечная диаграмма числа заказов на одного пользователя\\n')\n",
    "plt.scatter(x_values, orders_by_users['orders']);"
   ]
  },
  {
   "cell_type": "markdown",
   "metadata": {},
   "source": [
    "- Здесь гораздо лучше видно, что пользователей заказавших, более 2х раз совсем мало. Они вполне могут быть аномальными. \n",
    "- Для того, что бы понять 2 заказа - это нормально или много, посчитаем перцентили."
   ]
  },
  {
   "cell_type": "markdown",
   "metadata": {},
   "source": [
    "### 95-й и 99-й перцентили количества заказов на пользователя."
   ]
  },
  {
   "cell_type": "code",
   "execution_count": 44,
   "metadata": {},
   "outputs": [
    {
     "data": {
      "text/plain": [
       "array([2., 4.])"
      ]
     },
     "execution_count": 44,
     "metadata": {},
     "output_type": "execute_result"
    }
   ],
   "source": [
    "np.percentile(orders_by_users['orders'], [95,99])"
   ]
  },
  {
   "cell_type": "markdown",
   "metadata": {},
   "source": [
    "- Не более 5% пользователей совершили больше 2 заказов. И не более 1% пользователей - больше 4 заказов.\n",
    "- Исходя из полученных данных можем сделать вывод, что нижней границей числа заков будет - 2 заказа."
   ]
  },
  {
   "cell_type": "markdown",
   "metadata": {},
   "source": [
    "### Точечный график стоимостей заказов."
   ]
  },
  {
   "cell_type": "code",
   "execution_count": 45,
   "metadata": {},
   "outputs": [
    {
     "data": {
      "image/png": "[encoded data removed]",
      "text/plain": [
       "<Figure size 720x360 with 1 Axes>"
      ]
     },
     "metadata": {
      "needs_background": "light"
     },
     "output_type": "display_data"
    }
   ],
   "source": [
    "plt.figure(figsize=(10,5))\n",
    "plt.ylabel('Количество заказов')\n",
    "plt.xlabel('Стоимость заказа')\n",
    "plt.title('Распределение стоимости заказов\\n')\n",
    "plt.hist(orders['revenue']);"
   ]
  },
  {
   "cell_type": "markdown",
   "metadata": {},
   "source": [
    "- Исходя из гистограммы видим, что сумма большинства заказов меньше 200 000 рублей. \n",
    "- Однако по гистограмме сложно судить о более дорогих заказах, как и о распределении более дешёвых.\n",
    "- Более того, распределение стоимости заказов - не нормальное.\n",
    "- Построим точесную диаграмму."
   ]
  },
  {
   "cell_type": "code",
   "execution_count": 46,
   "metadata": {},
   "outputs": [
    {
     "data": {
      "image/png": "[encoded data removed]",
      "text/plain": [
       "<Figure size 720x360 with 1 Axes>"
      ]
     },
     "metadata": {
      "needs_background": "light"
     },
     "output_type": "display_data"
    }
   ],
   "source": [
    "x_values = pd.Series(range(0,len(orders)))\n",
    "plt.figure(figsize=(10,5))\n",
    "plt.ylabel('Стоимость заказа')\n",
    "plt.xlabel('Количество')\n",
    "plt.title('Точечная диаграмма стоимости заказов\\n')\n",
    "plt.scatter(x_values, orders['revenue']);"
   ]
  },
  {
   "cell_type": "markdown",
   "metadata": {},
   "source": [
    "Как видно, на фоне двух достаточно крупных заказов остальные, менее аномальные заказы, сбились в одну кучу на оси Х. \n",
    "Построим такой же график, но без двух крупных покупок, чтобы исследовать распределение менее аномальных покупок."
   ]
  },
  {
   "cell_type": "code",
   "execution_count": 47,
   "metadata": {},
   "outputs": [
    {
     "data": {
      "image/png": "[encoded data removed]",
      "text/plain": [
       "<Figure size 720x360 with 1 Axes>"
      ]
     },
     "metadata": {
      "needs_background": "light"
     },
     "output_type": "display_data"
    }
   ],
   "source": [
    "orders1 = orders.query('revenue < 250000')\n",
    "x_values = pd.Series(range(0,len(orders1)))\n",
    "plt.figure(figsize=(10,5))\n",
    "plt.ylabel('Стоимость заказа')\n",
    "plt.xlabel('Количество')\n",
    "plt.title('Точечная диаграмма стоимости заказов\\n')\n",
    "plt.scatter(x_values, orders1['revenue']);"
   ]
  },
  {
   "cell_type": "markdown",
   "metadata": {},
   "source": [
    "- Заказов тоимостью 200 000 всего 1, так же видим 1 заказ свыше 1 200 000 рублей. Оба выглядят очень аномально.\n",
    "- Найдем выборочные перцентили."
   ]
  },
  {
   "cell_type": "markdown",
   "metadata": {},
   "source": [
    "###  95-й и 99-й перцентили стоимости заказов. "
   ]
  },
  {
   "cell_type": "code",
   "execution_count": 48,
   "metadata": {},
   "outputs": [
    {
     "data": {
      "text/plain": [
       "array([28000. , 58233.2])"
      ]
     },
     "execution_count": 48,
     "metadata": {},
     "output_type": "execute_result"
    }
   ],
   "source": [
    "np.percentile(orders['revenue'], [95,99])"
   ]
  },
  {
   "cell_type": "markdown",
   "metadata": {},
   "source": [
    "- Не более, чем у 5% заказов чек дороже 28 000 рублей.\n",
    "- И не более, чем у 1% заказов - дороже 58 233 рублей. \n",
    "- Теперь мы точно понимаем, что предполагаемые ранее аномалии, действительно ими являются. \n",
    "- За нижнюю границу стоимости заказов примем - 28 000 рублей."
   ]
  },
  {
   "cell_type": "markdown",
   "metadata": {},
   "source": [
    "### Статистическая значимость различий в среднем количестве заказов на посетителя между группами по «сырым» данным. "
   ]
  },
  {
   "cell_type": "markdown",
   "metadata": {},
   "source": [
    "- Посчитаем статистическую значимость различий в среднем числе заказов на пользователя между группами по «сырым» данным — без удаления аномальных пользователей.\n",
    "- Сформулируем гипотезы.\n",
    "- Начнём с подготовки данных."
   ]
  },
  {
   "cell_type": "markdown",
   "metadata": {},
   "source": [
    "- Используем тест Манна-Уитни, так как в данных есть большие (по сравнению с нормальным распределением) выбросы, поэтому алгебраические метрики будут работать плохо. Да, они учитывают все значения. Но в этом также их слабое место: одно выбивающееся значение существенно влияет на результат."
   ]
  },
  {
   "cell_type": "markdown",
   "metadata": {},
   "source": [
    "- Создадим переменные ordersByUsersA и ordersByUsersB со столбцами ['user_id', 'orders']. В них для пользователей, которые заказывали хотя бы 1 раз, укажем число совершённых заказов. "
   ]
  },
  {
   "cell_type": "code",
   "execution_count": 49,
   "metadata": {},
   "outputs": [],
   "source": [
    "orders_by_users_A = (\n",
    "    orders[orders['group'] == 'A']\n",
    "    .groupby('visitor_id', as_index=False)\n",
    "    .agg({'transaction_id': pd.Series.nunique})\n",
    ")\n",
    "orders_by_users_A.columns = ['user_id', 'orders']\n",
    "\n",
    "orders_by_users_B = (\n",
    "    orders[orders['group'] == 'B']\n",
    "    .groupby('visitor_id', as_index=False)\n",
    "    .agg({'transaction_id': pd.Series.nunique})\n",
    ")\n",
    "orders_by_users_B.columns = ['user_id', 'orders'] "
   ]
  },
  {
   "cell_type": "markdown",
   "metadata": {},
   "source": [
    "- Объявим переменные sampleA и sampleB, в которых пользователям из разных групп будет соответствовать количество заказов. Тем, кто ничего не заказал, будут соответствовать нули. Это нужно, чтобы подготовить выборки к проверке критерием Манна-Уитни."
   ]
  },
  {
   "cell_type": "code",
   "execution_count": 50,
   "metadata": {},
   "outputs": [],
   "source": [
    "sampleA = pd.concat([orders_by_users_A['orders'],pd.Series(0, index=np.arange(cumulative_data_A['visitors'].sum() - len(orders_by_users_A['orders'])), name='orders')],axis=0)\n",
    "\n",
    "sampleB = pd.concat([orders_by_users_B['orders'],pd.Series(0, index=np.arange(cumulative_data_B['visitors'].sum() - len(orders_by_users_B['orders'])), name='orders')],axis=0) "
   ]
  },
  {
   "cell_type": "markdown",
   "metadata": {},
   "source": [
    "**Сформулируем гипотезы:**\n",
    "<br> **H₀** - статистически значимых различий в среденм кол-ве заказов по «сырым» данным между группами нет.  \n",
    "<br> **H₁** - статистически значимые различия в среденм кол-ве заказов по «сырым» данным между группами есть.\n",
    "- Применим критерий и отформатируем p-value, округлив его до трёх знаков после запятой."
   ]
  },
  {
   "cell_type": "code",
   "execution_count": 51,
   "metadata": {},
   "outputs": [
    {
     "name": "stdout",
     "output_type": "stream",
     "text": [
      "alpha = 0.05\n",
      "p-value = 0.015\n",
      "Относительный прирост среднего числа заказов группы B =  0.144\n"
     ]
    }
   ],
   "source": [
    "print('alpha =', 0.05)\n",
    "print('p-value =', '{0:.3f}'.format(stats.mannwhitneyu(sampleA, sampleB)[1]))\n",
    "print('Относительный прирост среднего числа заказов группы B = ', '{0:.3f}'.format(sampleB.mean() / sampleA.mean() - 1))"
   ]
  },
  {
   "cell_type": "markdown",
   "metadata": {},
   "source": [
    "- P-value значительно меньше 0.05, поэтому нулевую гипотезу отвергаем. Анализ \"сырых\" данных сообщает, что в среднем количестве заказов между группами есть статистически значимые различия. \n",
    "- Относительный прирост среднего группы B к среднему группы A состовляет почти 14%."
   ]
  },
  {
   "cell_type": "markdown",
   "metadata": {},
   "source": [
    "### Статистическая значимость различий в среднем чеке заказа между группами по «сырым» данным. "
   ]
  },
  {
   "cell_type": "markdown",
   "metadata": {},
   "source": [
    "**Сформулируем гипотезы:**\n",
    "<br> **H₀** - статистически значимых различий в среднем чеке по «сырым» данным между группами нет.  \n",
    "<br> **H₁** - статистически значимые различия в среднем чеке по «сырым» данным между группами есть."
   ]
  },
  {
   "cell_type": "code",
   "execution_count": 52,
   "metadata": {},
   "outputs": [
    {
     "name": "stdout",
     "output_type": "stream",
     "text": [
      "alpha = 0.05\n",
      "p-value = 0.729\n",
      "Относительный прирост среднего чека группы B =  0.259\n"
     ]
    }
   ],
   "source": [
    "print('alpha =', 0.05)\n",
    "print('p-value =', '{0:.3f}'.format(stats.mannwhitneyu(orders[orders['group']=='A']['revenue'], orders[orders['group']=='B']['revenue'], alternative = 'two-sided')[1]))\n",
    "print('Относительный прирост среднего чека группы B = ', '{0:.3f}'.format(orders[orders['group']=='B']['revenue'].mean()/orders[orders['group']=='A']['revenue'].mean()-1)) "
   ]
  },
  {
   "cell_type": "markdown",
   "metadata": {},
   "source": [
    "- P-value больше 0.05 - статистически значимых отличий в среднем чеке между группами по \"сырым данным\" нет. Нулевую гипотезу не отвергаем.\n",
    "- Кроме того, относительное различие среднего чека между сегментами всего 2.59%."
   ]
  },
  {
   "cell_type": "markdown",
   "metadata": {},
   "source": [
    "### Статистическая значимость различий в среднем количестве заказов на посетителя между группами по «очищенным» данным."
   ]
  },
  {
   "cell_type": "code",
   "execution_count": 53,
   "metadata": {},
   "outputs": [
    {
     "data": {
      "text/plain": [
       "18      199603092\n",
       "23      237748145\n",
       "68      611059232\n",
       "146    1230306981\n",
       "189    1614305549\n",
       "Name: user_id, dtype: int64"
      ]
     },
     "execution_count": 53,
     "metadata": {},
     "output_type": "execute_result"
    }
   ],
   "source": [
    "users_with_many_orders = pd.concat(\n",
    "    [\n",
    "        orders_by_users_A[orders_by_users_A['orders'] > np.percentile(orders_by_users['orders'], 95)]['user_id'], \n",
    "        orders_by_users_B[orders_by_users_B['orders'] > np.percentile(orders_by_users['orders'], 95)]['user_id'],\n",
    "    ],\n",
    "    axis=0,)\n",
    "users_with_many_orders.head()"
   ]
  },
  {
   "cell_type": "code",
   "execution_count": 54,
   "metadata": {},
   "outputs": [
    {
     "data": {
      "text/plain": [
       "60     4256040402\n",
       "73     2947100995\n",
       "77      787824685\n",
       "78     3288820196\n",
       "131    2254586615\n",
       "Name: visitor_id, dtype: int64"
      ]
     },
     "execution_count": 54,
     "metadata": {},
     "output_type": "execute_result"
    }
   ],
   "source": [
    "users_with_expensive_orders = orders[orders['revenue'] > np.percentile(orders['revenue'], 95)]['visitor_id']\n",
    "users_with_expensive_orders.head()"
   ]
  },
  {
   "cell_type": "code",
   "execution_count": 55,
   "metadata": {},
   "outputs": [
    {
     "name": "stdout",
     "output_type": "stream",
     "text": [
      "74\n"
     ]
    }
   ],
   "source": [
    "abnormal_users = (\n",
    "    pd.concat([users_with_many_orders, users_with_expensive_orders], axis=0)\n",
    "    .drop_duplicates()\n",
    "    .sort_values())\n",
    "abnormal_users\n",
    "print(abnormal_users.shape[0]) "
   ]
  },
  {
   "cell_type": "code",
   "execution_count": 56,
   "metadata": {},
   "outputs": [
    {
     "data": {
      "text/plain": [
       "7.18"
      ]
     },
     "execution_count": 56,
     "metadata": {},
     "output_type": "execute_result"
    }
   ],
   "source": [
    "users1 = orders.groupby('visitor_id').agg({'group':['nunique']})\n",
    "round((abnormal_users.shape[0]/ users1.shape[0] * 100), 2)"
   ]
  },
  {
   "cell_type": "markdown",
   "metadata": {},
   "source": [
    "- Видим 74 аномальных пользователя в наших даннх.\n",
    "- Узнаем, как их действия повлияли на результаты теста. Посчитаем статистическую значимость различий в среднем количестве заказов между группами теста по очищенным данным.\n",
    "- Относительные потери пользователей после фильтрации составили 7%."
   ]
  },
  {
   "cell_type": "code",
   "execution_count": 57,
   "metadata": {},
   "outputs": [],
   "source": [
    "sampleAFiltered = pd.concat(\n",
    "    [orders_by_users_A[np.logical_not(orders_by_users_A['user_id'].isin(abnormal_users))]['orders'],\n",
    "        pd.Series(0,index=np.arange(cumulative_data_A['visitors'].sum() - len(orders_by_users_A['orders'])\n",
    "            ),name='orders',),],axis=0,)\n",
    "\n",
    "sampleBFiltered = pd.concat(\n",
    "    [orders_by_users_B[np.logical_not(orders_by_users_B['user_id'].isin(abnormal_users))]['orders'],\n",
    "        pd.Series(0,index=np.arange(cumulative_data_B['visitors'].sum() - len(orders_by_users_B['orders'])\n",
    "            ),name='orders',),],axis=0,) "
   ]
  },
  {
   "cell_type": "markdown",
   "metadata": {},
   "source": [
    "- Применим статистический критерий Манна-Уитни к полученным выборкам"
   ]
  },
  {
   "cell_type": "markdown",
   "metadata": {},
   "source": [
    "**Сформулируем гипотезы:**\n",
    "<br> **H₀** - статистически значимых различий в среднем количестве заказов на посетителя между группами по «очищенным» данным нет.\n",
    "<br> **H₁** - статистически значимые различия в среднем количестве заказов на посетителя между группами по «очищенным» данным есть."
   ]
  },
  {
   "cell_type": "code",
   "execution_count": 58,
   "metadata": {},
   "outputs": [
    {
     "name": "stdout",
     "output_type": "stream",
     "text": [
      "alpha = 0.05\n",
      "p-value = 0.011\n",
      "Относительный прирост среднего числа заказов группы B =  0.178\n"
     ]
    }
   ],
   "source": [
    "print('alpha =', 0.05)\n",
    "print('p-value =', '{0:.3f}'.format(stats.mannwhitneyu(sampleAFiltered, sampleBFiltered, alternative = 'two-sided')[1]))\n",
    "print('Относительный прирост среднего числа заказов группы B = ', '{0:.3f}'.format(sampleBFiltered.mean()/sampleAFiltered.mean()-1)) "
   ]
  },
  {
   "cell_type": "markdown",
   "metadata": {},
   "source": [
    "- P-value меньше 0.05, поэтому нулевую гипотезу отвергаем. Анализ \"очищенных\" данных сообщает, что в среднем количестве заказов между группами есть статистически значимые различия.\n",
    "- Относительный прирост среднего группы B к среднему группы A состовляет 17,8%.\n",
    "- Как и в случае с \"сырыми данными\", статистическая значимость достигнута Сегмент В значительно лучше сегмента А."
   ]
  },
  {
   "cell_type": "markdown",
   "metadata": {},
   "source": [
    "### Статистическая значимость различий в среднем чеке заказа между группами по «очищенным» данным. "
   ]
  },
  {
   "cell_type": "markdown",
   "metadata": {},
   "source": [
    "\n",
    "**Сформулируем гипотезы:**\n",
    "<br> **H₀** - статистически значимых различий в среднем чеке между группами по «очищенным» данным нет.\n",
    "<br> **H₁** - статистически значимые различия в среднем чеке между группами по «очищенным» данным есть.\n"
   ]
  },
  {
   "cell_type": "code",
   "execution_count": 59,
   "metadata": {},
   "outputs": [
    {
     "name": "stdout",
     "output_type": "stream",
     "text": [
      "alpha = 0.05\n",
      "p-value = 0.738\n",
      "Относительный прирост среднего чека группы B = -0.020\n"
     ]
    }
   ],
   "source": [
    "print('alpha =', 0.05)\n",
    "print('p-value =', \n",
    "    '{0:.3f}'.format(\n",
    "        stats.mannwhitneyu(\n",
    "            orders[np.logical_and(\n",
    "                    orders['group'] == 'A',\n",
    "                    np.logical_not(orders['visitor_id'].isin(abnormal_users)),)]['revenue'],\n",
    "            orders[np.logical_and(\n",
    "                    orders['group'] == 'B',\n",
    "                    np.logical_not(orders['visitor_id'].isin(abnormal_users)),)]['revenue'],)[1]))\n",
    "\n",
    "print('Относительный прирост среднего чека группы B =', \n",
    "    \"{0:.3f}\".format(\n",
    "        orders[np.logical_and(\n",
    "                orders['group'] == 'B',\n",
    "                np.logical_not(orders['visitor_id'].isin(abnormal_users)),)]['revenue'].mean()\n",
    "        / orders[np.logical_and(\n",
    "                orders['group'] == 'A',\n",
    "                np.logical_not(orders['visitor_id'].isin(abnormal_users)),)]['revenue'].mean() - 1)) "
   ]
  },
  {
   "cell_type": "markdown",
   "metadata": {},
   "source": [
    "- P-value больше принятого уровня статистической значимости, значит нулевую гипотезу отом, что статистически значимых различий в среднем чеке между группами по «очищенным» данным нет, мы не отвергаем.\n",
    "- Стоит обратить внимание на то, что средний чек группы B стал ниже среднего чека группы A на 2%."
   ]
  },
  {
   "cell_type": "markdown",
   "metadata": {},
   "source": [
    "### Решение по результатам теста."
   ]
  },
  {
   "cell_type": "markdown",
   "metadata": {},
   "source": [
    "- Исходя из обнаруженных фактов, тест следует остановить и признать его успешным, так как целью проекта было - увеличение выручки.\n",
    "- После \"очистки данных\" средний чек группы В незначительно просел (всего на 2%) в сравнении с группой А. Хотя по \"сырым данным\" он был больше, чем в группе А. Всему виной анамальные заказы, от которых мы избавились при очистке данных. \n",
    "- По \"сырым данным\", как и по \"очищенным\" кол-во заказов группы В, в результате теста, увеличилось.\n",
    "- Группы В лучше группы A."
   ]
  },
  {
   "cell_type": "markdown",
   "metadata": {},
   "source": [
    "## Общий вывод"
   ]
  },
  {
   "cell_type": "markdown",
   "metadata": {},
   "source": [
    "По ходу проектной работы мы:\n",
    "- Выгрузили данные и подготовили их для дальнейшего анализа.\n",
    "- Приоретизировали гипотезы разными фреймворками (ICE и RICE) благодаря чему смогли определится какую гипотезу проверять первой.\n",
    "- Проанализировали результаты А/В теста.\n",
    "- Нашли и удалили 58 пользователей, которые попали в обе группы.\n",
    "- Построили графики (точечные и кумулятивные) благодаря которым наглядно продемонстрировали поведение групп А и В, заметили аномалии и зафиксировали тенденции к росту или спаду метрик.\n",
    "- Посчитали перцентили кол-ва и стоимости заказов.\n",
    "- Опредилили границу для определения аномальных значений.\n",
    "- Посчитали статистическую значимость различий в среднем количестве заказов по «сырым» и по «очищенным» данным.\n",
    "- Посчитали статистическую значимость различий в среднем чеке заказов по «сырым» и по «очищенным» данным.\n",
    "- Приняли решение на основе полученных данных о прекращении теста. "
   ]
  },
  {
   "cell_type": "markdown",
   "metadata": {},
   "source": [
    "- Исходя из анализа стабильности кумулятивных метрик можем говорить о том, что в течении всего теста выручка стабильно увеличивается. За исключением выброса в группе В в августе. Такой же выброс мы наблюдаем и в графике о среднем чеке, так же в группе В. Скорее всего появились люди, которые заказывали несколько раз и люди заказывающие дорогие вещи.\n",
    "- Из графика относительного изменения кумулятивного среднего количества заказов на посетителя группы B к группе A мы узнали, что в начале нашего теста группа B значительно проигрывала группе A, затем вырвалась вперёд. Потом группа В переживала небольшую стагнацию и затем снова постепенно росла.\n",
    "- Проанализировав перцентили (95 и 99) опредилили грацицы допустимых значений. И подтвердили свои догадки об аномалиях.\n",
    "- Статистически значимые различия по среднему кол-ву заказов между группами в «сырых» и в «очищенных» данных присутствуют.\n",
    "- А вот статистически значимого различия по среднему чеку между группами в «сырых» и в «очищенных» данных нет. \n",
    "- Было принято решение остановить тест и признать его успешным, так как целью проекта было - увеличение выручки, что мы и получили в группе В."
   ]
  }
 ],
 "metadata": {
  "ExecuteTimeLog": [
   {
    "duration": 1286,
    "start_time": "2023-01-08T16:36:06.086Z"
   },
   {
    "duration": 67,
    "start_time": "2023-01-08T16:36:35.041Z"
   },
   {
    "duration": 3,
    "start_time": "2023-01-08T16:37:23.689Z"
   },
   {
    "duration": 22,
    "start_time": "2023-01-08T16:38:15.657Z"
   },
   {
    "duration": 99,
    "start_time": "2023-01-08T16:39:01.099Z"
   },
   {
    "duration": 5,
    "start_time": "2023-01-08T16:39:07.617Z"
   },
   {
    "duration": 10,
    "start_time": "2023-01-08T16:39:19.064Z"
   },
   {
    "duration": 4,
    "start_time": "2023-01-08T16:39:23.499Z"
   },
   {
    "duration": 8,
    "start_time": "2023-01-08T16:40:17.394Z"
   },
   {
    "duration": 8,
    "start_time": "2023-01-08T16:41:02.270Z"
   },
   {
    "duration": 8,
    "start_time": "2023-01-08T16:41:14.455Z"
   },
   {
    "duration": 3,
    "start_time": "2023-01-08T16:41:20.699Z"
   },
   {
    "duration": 4,
    "start_time": "2023-01-08T16:41:27.916Z"
   },
   {
    "duration": 8,
    "start_time": "2023-01-08T16:41:56.755Z"
   },
   {
    "duration": 3,
    "start_time": "2023-01-08T16:42:09.998Z"
   },
   {
    "duration": 4,
    "start_time": "2023-01-08T16:42:11.935Z"
   },
   {
    "duration": 5,
    "start_time": "2023-01-08T16:43:11.595Z"
   },
   {
    "duration": 1052,
    "start_time": "2023-01-08T16:43:23.561Z"
   },
   {
    "duration": 28,
    "start_time": "2023-01-08T16:43:24.615Z"
   },
   {
    "duration": 3,
    "start_time": "2023-01-08T16:43:24.645Z"
   },
   {
    "duration": 25,
    "start_time": "2023-01-08T16:43:24.651Z"
   },
   {
    "duration": 7,
    "start_time": "2023-01-08T16:43:24.678Z"
   },
   {
    "duration": 17,
    "start_time": "2023-01-08T16:43:24.686Z"
   },
   {
    "duration": 11,
    "start_time": "2023-01-08T16:43:24.705Z"
   },
   {
    "duration": 5,
    "start_time": "2023-01-08T16:44:05.152Z"
   },
   {
    "duration": 1046,
    "start_time": "2023-01-08T16:44:28.244Z"
   },
   {
    "duration": 28,
    "start_time": "2023-01-08T16:44:29.292Z"
   },
   {
    "duration": 2,
    "start_time": "2023-01-08T16:44:29.322Z"
   },
   {
    "duration": 19,
    "start_time": "2023-01-08T16:44:29.326Z"
   },
   {
    "duration": 4,
    "start_time": "2023-01-08T16:44:29.346Z"
   },
   {
    "duration": 5,
    "start_time": "2023-01-08T16:44:29.352Z"
   },
   {
    "duration": 7,
    "start_time": "2023-01-08T16:44:29.359Z"
   },
   {
    "duration": 6,
    "start_time": "2023-01-08T16:44:29.368Z"
   },
   {
    "duration": 4,
    "start_time": "2023-01-08T16:44:34.447Z"
   },
   {
    "duration": 3,
    "start_time": "2023-01-08T16:45:09.055Z"
   },
   {
    "duration": 5,
    "start_time": "2023-01-08T16:45:14.339Z"
   },
   {
    "duration": 1128,
    "start_time": "2023-01-08T16:45:19.885Z"
   },
   {
    "duration": 27,
    "start_time": "2023-01-08T16:45:21.015Z"
   },
   {
    "duration": 3,
    "start_time": "2023-01-08T16:45:21.043Z"
   },
   {
    "duration": 23,
    "start_time": "2023-01-08T16:45:21.047Z"
   },
   {
    "duration": 5,
    "start_time": "2023-01-08T16:45:21.071Z"
   },
   {
    "duration": 6,
    "start_time": "2023-01-08T16:45:21.077Z"
   },
   {
    "duration": 5,
    "start_time": "2023-01-08T16:45:21.084Z"
   },
   {
    "duration": 7,
    "start_time": "2023-01-08T16:45:21.090Z"
   },
   {
    "duration": 7,
    "start_time": "2023-01-08T16:46:15.707Z"
   },
   {
    "duration": 10,
    "start_time": "2023-01-08T16:46:17.897Z"
   },
   {
    "duration": 1046,
    "start_time": "2023-01-08T16:46:22.327Z"
   },
   {
    "duration": 28,
    "start_time": "2023-01-08T16:46:23.375Z"
   },
   {
    "duration": 11,
    "start_time": "2023-01-08T16:46:23.405Z"
   },
   {
    "duration": 13,
    "start_time": "2023-01-08T16:46:23.417Z"
   },
   {
    "duration": 6,
    "start_time": "2023-01-08T16:46:23.432Z"
   },
   {
    "duration": 5,
    "start_time": "2023-01-08T16:46:23.439Z"
   },
   {
    "duration": 5,
    "start_time": "2023-01-08T16:46:23.446Z"
   },
   {
    "duration": 7,
    "start_time": "2023-01-08T16:46:23.452Z"
   },
   {
    "duration": 7,
    "start_time": "2023-01-08T16:46:47.039Z"
   },
   {
    "duration": 1078,
    "start_time": "2023-01-08T16:46:52.296Z"
   },
   {
    "duration": 27,
    "start_time": "2023-01-08T16:46:53.376Z"
   },
   {
    "duration": 10,
    "start_time": "2023-01-08T16:46:53.404Z"
   },
   {
    "duration": 11,
    "start_time": "2023-01-08T16:46:53.415Z"
   },
   {
    "duration": 8,
    "start_time": "2023-01-08T16:46:53.428Z"
   },
   {
    "duration": 6,
    "start_time": "2023-01-08T16:46:53.437Z"
   },
   {
    "duration": 4,
    "start_time": "2023-01-08T16:46:53.444Z"
   },
   {
    "duration": 9,
    "start_time": "2023-01-08T16:50:35.947Z"
   },
   {
    "duration": 7,
    "start_time": "2023-01-08T16:51:17.991Z"
   },
   {
    "duration": 8,
    "start_time": "2023-01-08T16:52:13.867Z"
   },
   {
    "duration": 8,
    "start_time": "2023-01-08T16:56:16.368Z"
   },
   {
    "duration": 898,
    "start_time": "2023-01-08T16:57:45.435Z"
   },
   {
    "duration": 1567,
    "start_time": "2023-01-09T18:56:46.220Z"
   },
   {
    "duration": 339,
    "start_time": "2023-01-09T18:58:55.781Z"
   },
   {
    "duration": 27,
    "start_time": "2023-01-09T18:59:59.970Z"
   },
   {
    "duration": 8,
    "start_time": "2023-01-09T19:00:19.905Z"
   },
   {
    "duration": 20,
    "start_time": "2023-01-09T19:01:10.686Z"
   },
   {
    "duration": 21,
    "start_time": "2023-01-09T19:01:13.645Z"
   },
   {
    "duration": 15,
    "start_time": "2023-01-09T19:01:19.777Z"
   },
   {
    "duration": 14,
    "start_time": "2023-01-09T19:01:24.599Z"
   },
   {
    "duration": 11,
    "start_time": "2023-01-09T19:02:08.082Z"
   },
   {
    "duration": 5,
    "start_time": "2023-01-09T19:02:21.411Z"
   },
   {
    "duration": 6,
    "start_time": "2023-01-09T19:02:23.220Z"
   },
   {
    "duration": 7,
    "start_time": "2023-01-09T19:02:41.656Z"
   },
   {
    "duration": 15,
    "start_time": "2023-01-09T19:02:52.488Z"
   },
   {
    "duration": 1346,
    "start_time": "2023-01-09T19:03:02.254Z"
   },
   {
    "duration": 107,
    "start_time": "2023-01-09T19:03:03.601Z"
   },
   {
    "duration": 15,
    "start_time": "2023-01-09T19:03:03.710Z"
   },
   {
    "duration": 14,
    "start_time": "2023-01-09T19:03:03.727Z"
   },
   {
    "duration": 6,
    "start_time": "2023-01-09T19:03:03.744Z"
   },
   {
    "duration": 47,
    "start_time": "2023-01-09T19:03:03.752Z"
   },
   {
    "duration": 6,
    "start_time": "2023-01-09T19:03:03.801Z"
   },
   {
    "duration": 24,
    "start_time": "2023-01-09T19:03:03.808Z"
   },
   {
    "duration": 14,
    "start_time": "2023-01-09T19:03:03.833Z"
   },
   {
    "duration": 54,
    "start_time": "2023-01-09T19:03:03.849Z"
   },
   {
    "duration": 84,
    "start_time": "2023-01-09T19:03:03.905Z"
   },
   {
    "duration": 10,
    "start_time": "2023-01-09T19:03:03.991Z"
   },
   {
    "duration": 15,
    "start_time": "2023-01-09T19:03:04.003Z"
   },
   {
    "duration": 11,
    "start_time": "2023-01-09T19:03:04.021Z"
   },
   {
    "duration": 15,
    "start_time": "2023-01-09T19:03:04.035Z"
   },
   {
    "duration": 42,
    "start_time": "2023-01-09T19:03:04.052Z"
   },
   {
    "duration": 13,
    "start_time": "2023-01-09T19:03:04.096Z"
   },
   {
    "duration": 4,
    "start_time": "2023-01-09T19:04:20.283Z"
   },
   {
    "duration": 11,
    "start_time": "2023-01-09T19:04:31.403Z"
   },
   {
    "duration": 1284,
    "start_time": "2023-01-09T19:06:37.277Z"
   },
   {
    "duration": 33,
    "start_time": "2023-01-09T19:06:38.563Z"
   },
   {
    "duration": 14,
    "start_time": "2023-01-09T19:06:38.598Z"
   },
   {
    "duration": 13,
    "start_time": "2023-01-09T19:06:38.614Z"
   },
   {
    "duration": 11,
    "start_time": "2023-01-09T19:06:38.629Z"
   },
   {
    "duration": 7,
    "start_time": "2023-01-09T19:06:38.641Z"
   },
   {
    "duration": 31,
    "start_time": "2023-01-09T19:06:38.650Z"
   },
   {
    "duration": 13,
    "start_time": "2023-01-09T19:06:38.683Z"
   },
   {
    "duration": 14,
    "start_time": "2023-01-09T19:06:38.699Z"
   },
   {
    "duration": 74,
    "start_time": "2023-01-09T19:06:38.714Z"
   },
   {
    "duration": 8,
    "start_time": "2023-01-09T19:06:38.790Z"
   },
   {
    "duration": 15,
    "start_time": "2023-01-09T19:06:38.801Z"
   },
   {
    "duration": 13,
    "start_time": "2023-01-09T19:06:38.817Z"
   },
   {
    "duration": 27,
    "start_time": "2023-01-09T19:06:38.833Z"
   },
   {
    "duration": 40,
    "start_time": "2023-01-09T19:06:38.862Z"
   },
   {
    "duration": 13,
    "start_time": "2023-01-09T19:06:38.904Z"
   },
   {
    "duration": 4,
    "start_time": "2023-01-09T19:06:38.919Z"
   },
   {
    "duration": 581,
    "start_time": "2023-01-09T19:07:57.569Z"
   },
   {
    "duration": 1288,
    "start_time": "2023-01-09T19:09:05.022Z"
   },
   {
    "duration": 28,
    "start_time": "2023-01-09T19:09:06.314Z"
   },
   {
    "duration": 23,
    "start_time": "2023-01-09T19:09:06.344Z"
   },
   {
    "duration": 31,
    "start_time": "2023-01-09T19:09:06.369Z"
   },
   {
    "duration": 10,
    "start_time": "2023-01-09T19:09:06.402Z"
   },
   {
    "duration": 11,
    "start_time": "2023-01-09T19:09:06.413Z"
   },
   {
    "duration": 14,
    "start_time": "2023-01-09T19:09:06.426Z"
   },
   {
    "duration": 33,
    "start_time": "2023-01-09T19:09:06.442Z"
   },
   {
    "duration": 15,
    "start_time": "2023-01-09T19:09:06.478Z"
   },
   {
    "duration": 105,
    "start_time": "2023-01-09T19:09:06.495Z"
   },
   {
    "duration": 11,
    "start_time": "2023-01-09T19:09:06.602Z"
   },
   {
    "duration": 23,
    "start_time": "2023-01-09T19:09:06.615Z"
   },
   {
    "duration": 40,
    "start_time": "2023-01-09T19:09:06.641Z"
   },
   {
    "duration": 16,
    "start_time": "2023-01-09T19:09:06.684Z"
   },
   {
    "duration": 11,
    "start_time": "2023-01-09T19:09:06.702Z"
   },
   {
    "duration": 13,
    "start_time": "2023-01-09T19:09:06.715Z"
   },
   {
    "duration": 9,
    "start_time": "2023-01-09T19:09:06.730Z"
   },
   {
    "duration": 608,
    "start_time": "2023-01-09T19:09:06.741Z"
   },
   {
    "duration": 505,
    "start_time": "2023-01-09T19:18:40.806Z"
   },
   {
    "duration": 46,
    "start_time": "2023-01-10T18:21:11.495Z"
   },
   {
    "duration": 1334,
    "start_time": "2023-01-10T18:21:21.306Z"
   },
   {
    "duration": 78,
    "start_time": "2023-01-10T18:21:22.642Z"
   },
   {
    "duration": 11,
    "start_time": "2023-01-10T18:21:22.721Z"
   },
   {
    "duration": 14,
    "start_time": "2023-01-10T18:21:22.734Z"
   },
   {
    "duration": 12,
    "start_time": "2023-01-10T18:21:22.750Z"
   },
   {
    "duration": 9,
    "start_time": "2023-01-10T18:21:22.764Z"
   },
   {
    "duration": 7,
    "start_time": "2023-01-10T18:21:22.775Z"
   },
   {
    "duration": 13,
    "start_time": "2023-01-10T18:21:22.783Z"
   },
   {
    "duration": 25,
    "start_time": "2023-01-10T18:21:22.798Z"
   },
   {
    "duration": 150,
    "start_time": "2023-01-10T18:21:22.825Z"
   },
   {
    "duration": 8,
    "start_time": "2023-01-10T18:21:22.976Z"
   },
   {
    "duration": 14,
    "start_time": "2023-01-10T18:21:22.986Z"
   },
   {
    "duration": 9,
    "start_time": "2023-01-10T18:21:23.001Z"
   },
   {
    "duration": 14,
    "start_time": "2023-01-10T18:21:23.012Z"
   },
   {
    "duration": 9,
    "start_time": "2023-01-10T18:21:23.028Z"
   },
   {
    "duration": 11,
    "start_time": "2023-01-10T18:21:23.039Z"
   },
   {
    "duration": 5,
    "start_time": "2023-01-10T18:21:23.052Z"
   },
   {
    "duration": 23,
    "start_time": "2023-01-10T18:21:23.058Z"
   },
   {
    "duration": 490,
    "start_time": "2023-01-10T18:21:23.083Z"
   },
   {
    "duration": 498,
    "start_time": "2023-01-10T18:21:23.575Z"
   },
   {
    "duration": 19,
    "start_time": "2023-01-10T18:21:51.607Z"
   },
   {
    "duration": 5,
    "start_time": "2023-01-10T18:22:16.772Z"
   },
   {
    "duration": 4,
    "start_time": "2023-01-10T18:22:18.096Z"
   },
   {
    "duration": 11,
    "start_time": "2023-01-10T18:22:18.493Z"
   },
   {
    "duration": 5,
    "start_time": "2023-01-10T18:23:05.242Z"
   },
   {
    "duration": 12,
    "start_time": "2023-01-10T18:23:06.549Z"
   },
   {
    "duration": 5,
    "start_time": "2023-01-10T18:23:26.848Z"
   },
   {
    "duration": 11,
    "start_time": "2023-01-10T18:23:27.332Z"
   },
   {
    "duration": 5,
    "start_time": "2023-01-10T18:23:42.450Z"
   },
   {
    "duration": 11,
    "start_time": "2023-01-10T18:23:43.775Z"
   },
   {
    "duration": 255,
    "start_time": "2023-01-10T18:30:40.463Z"
   },
   {
    "duration": 1319,
    "start_time": "2023-01-11T17:13:16.173Z"
   },
   {
    "duration": 84,
    "start_time": "2023-01-11T17:13:17.495Z"
   },
   {
    "duration": 11,
    "start_time": "2023-01-11T17:13:17.581Z"
   },
   {
    "duration": 12,
    "start_time": "2023-01-11T17:13:17.594Z"
   },
   {
    "duration": 10,
    "start_time": "2023-01-11T17:13:17.608Z"
   },
   {
    "duration": 7,
    "start_time": "2023-01-11T17:13:17.619Z"
   },
   {
    "duration": 9,
    "start_time": "2023-01-11T17:13:17.627Z"
   },
   {
    "duration": 19,
    "start_time": "2023-01-11T17:13:17.638Z"
   },
   {
    "duration": 9,
    "start_time": "2023-01-11T17:13:17.659Z"
   },
   {
    "duration": 163,
    "start_time": "2023-01-11T17:13:17.670Z"
   },
   {
    "duration": 9,
    "start_time": "2023-01-11T17:13:17.835Z"
   },
   {
    "duration": 25,
    "start_time": "2023-01-11T17:13:17.846Z"
   },
   {
    "duration": 14,
    "start_time": "2023-01-11T17:13:17.874Z"
   },
   {
    "duration": 11,
    "start_time": "2023-01-11T17:13:17.892Z"
   },
   {
    "duration": 32,
    "start_time": "2023-01-11T17:13:17.906Z"
   },
   {
    "duration": 18,
    "start_time": "2023-01-11T17:13:17.940Z"
   },
   {
    "duration": 12,
    "start_time": "2023-01-11T17:13:17.960Z"
   },
   {
    "duration": 27,
    "start_time": "2023-01-11T17:13:17.974Z"
   },
   {
    "duration": 17,
    "start_time": "2023-01-11T17:13:18.003Z"
   },
   {
    "duration": 6,
    "start_time": "2023-01-11T17:13:18.022Z"
   },
   {
    "duration": 10,
    "start_time": "2023-01-11T17:13:18.038Z"
   },
   {
    "duration": 14,
    "start_time": "2023-01-11T17:13:18.050Z"
   },
   {
    "duration": 297,
    "start_time": "2023-01-11T17:13:18.066Z"
   },
   {
    "duration": 208,
    "start_time": "2023-01-11T17:13:18.365Z"
   },
   {
    "duration": 635,
    "start_time": "2023-01-11T17:13:18.574Z"
   },
   {
    "duration": 534,
    "start_time": "2023-01-11T17:13:19.211Z"
   },
   {
    "duration": 334,
    "start_time": "2023-01-11T17:14:17.659Z"
   },
   {
    "duration": 108,
    "start_time": "2023-01-11T17:21:25.998Z"
   },
   {
    "duration": 11,
    "start_time": "2023-01-11T17:25:20.293Z"
   },
   {
    "duration": 7,
    "start_time": "2023-01-11T17:26:22.857Z"
   },
   {
    "duration": 10,
    "start_time": "2023-01-11T17:26:34.683Z"
   },
   {
    "duration": 1159,
    "start_time": "2023-01-11T17:26:50.530Z"
   },
   {
    "duration": 1275,
    "start_time": "2023-01-11T17:27:31.867Z"
   },
   {
    "duration": 141,
    "start_time": "2023-01-11T17:28:19.941Z"
   },
   {
    "duration": 8,
    "start_time": "2023-01-11T18:14:41.951Z"
   },
   {
    "duration": 14,
    "start_time": "2023-01-11T18:14:48.865Z"
   },
   {
    "duration": 1230,
    "start_time": "2023-01-11T18:15:30.272Z"
   },
   {
    "duration": 30,
    "start_time": "2023-01-11T18:15:31.504Z"
   },
   {
    "duration": 25,
    "start_time": "2023-01-11T18:15:31.535Z"
   },
   {
    "duration": 39,
    "start_time": "2023-01-11T18:15:31.562Z"
   },
   {
    "duration": 25,
    "start_time": "2023-01-11T18:15:31.603Z"
   },
   {
    "duration": 35,
    "start_time": "2023-01-11T18:15:31.630Z"
   },
   {
    "duration": 39,
    "start_time": "2023-01-11T18:15:31.667Z"
   },
   {
    "duration": 49,
    "start_time": "2023-01-11T18:15:31.708Z"
   },
   {
    "duration": 40,
    "start_time": "2023-01-11T18:15:31.759Z"
   },
   {
    "duration": 76,
    "start_time": "2023-01-11T18:15:31.801Z"
   },
   {
    "duration": 8,
    "start_time": "2023-01-11T18:15:31.879Z"
   },
   {
    "duration": 37,
    "start_time": "2023-01-11T18:15:31.889Z"
   },
   {
    "duration": 24,
    "start_time": "2023-01-11T18:15:31.928Z"
   },
   {
    "duration": 44,
    "start_time": "2023-01-11T18:15:31.955Z"
   },
   {
    "duration": 67,
    "start_time": "2023-01-11T18:15:32.001Z"
   },
   {
    "duration": 24,
    "start_time": "2023-01-11T18:15:32.070Z"
   },
   {
    "duration": 24,
    "start_time": "2023-01-11T18:15:32.096Z"
   },
   {
    "duration": 47,
    "start_time": "2023-01-11T18:15:32.122Z"
   },
   {
    "duration": 15,
    "start_time": "2023-01-11T18:15:32.171Z"
   },
   {
    "duration": 4,
    "start_time": "2023-01-11T18:15:32.188Z"
   },
   {
    "duration": 45,
    "start_time": "2023-01-11T18:15:32.194Z"
   },
   {
    "duration": 29,
    "start_time": "2023-01-11T18:15:32.241Z"
   },
   {
    "duration": 300,
    "start_time": "2023-01-11T18:15:32.271Z"
   },
   {
    "duration": 245,
    "start_time": "2023-01-11T18:15:32.573Z"
   },
   {
    "duration": 336,
    "start_time": "2023-01-11T18:15:32.819Z"
   },
   {
    "duration": 9,
    "start_time": "2023-01-11T18:15:33.157Z"
   },
   {
    "duration": 194,
    "start_time": "2023-01-11T18:15:33.168Z"
   },
   {
    "duration": 0,
    "start_time": "2023-01-11T18:15:33.364Z"
   },
   {
    "duration": 0,
    "start_time": "2023-01-11T18:15:33.366Z"
   },
   {
    "duration": 0,
    "start_time": "2023-01-11T18:15:33.367Z"
   },
   {
    "duration": 0,
    "start_time": "2023-01-11T18:15:33.368Z"
   },
   {
    "duration": 321,
    "start_time": "2023-01-11T18:17:03.050Z"
   },
   {
    "duration": 3,
    "start_time": "2023-01-11T18:18:17.412Z"
   },
   {
    "duration": 1164,
    "start_time": "2023-01-11T18:18:58.093Z"
   },
   {
    "duration": 28,
    "start_time": "2023-01-11T18:18:59.260Z"
   },
   {
    "duration": 11,
    "start_time": "2023-01-11T18:18:59.290Z"
   },
   {
    "duration": 11,
    "start_time": "2023-01-11T18:18:59.302Z"
   },
   {
    "duration": 12,
    "start_time": "2023-01-11T18:18:59.315Z"
   },
   {
    "duration": 8,
    "start_time": "2023-01-11T18:18:59.329Z"
   },
   {
    "duration": 4,
    "start_time": "2023-01-11T18:18:59.339Z"
   },
   {
    "duration": 14,
    "start_time": "2023-01-11T18:18:59.345Z"
   },
   {
    "duration": 9,
    "start_time": "2023-01-11T18:18:59.361Z"
   },
   {
    "duration": 55,
    "start_time": "2023-01-11T18:18:59.372Z"
   },
   {
    "duration": 8,
    "start_time": "2023-01-11T18:18:59.429Z"
   },
   {
    "duration": 11,
    "start_time": "2023-01-11T18:18:59.439Z"
   },
   {
    "duration": 10,
    "start_time": "2023-01-11T18:18:59.452Z"
   },
   {
    "duration": 10,
    "start_time": "2023-01-11T18:18:59.464Z"
   },
   {
    "duration": 12,
    "start_time": "2023-01-11T18:18:59.476Z"
   },
   {
    "duration": 17,
    "start_time": "2023-01-11T18:18:59.490Z"
   },
   {
    "duration": 29,
    "start_time": "2023-01-11T18:18:59.509Z"
   },
   {
    "duration": 4,
    "start_time": "2023-01-11T18:18:59.540Z"
   },
   {
    "duration": 117,
    "start_time": "2023-01-11T18:18:59.545Z"
   },
   {
    "duration": 0,
    "start_time": "2023-01-11T18:18:59.664Z"
   },
   {
    "duration": 0,
    "start_time": "2023-01-11T18:18:59.666Z"
   },
   {
    "duration": 0,
    "start_time": "2023-01-11T18:18:59.667Z"
   },
   {
    "duration": 0,
    "start_time": "2023-01-11T18:18:59.668Z"
   },
   {
    "duration": 0,
    "start_time": "2023-01-11T18:18:59.669Z"
   },
   {
    "duration": 0,
    "start_time": "2023-01-11T18:18:59.670Z"
   },
   {
    "duration": 0,
    "start_time": "2023-01-11T18:18:59.671Z"
   },
   {
    "duration": 0,
    "start_time": "2023-01-11T18:18:59.672Z"
   },
   {
    "duration": 0,
    "start_time": "2023-01-11T18:18:59.674Z"
   },
   {
    "duration": 0,
    "start_time": "2023-01-11T18:18:59.675Z"
   },
   {
    "duration": 0,
    "start_time": "2023-01-11T18:18:59.676Z"
   },
   {
    "duration": 1148,
    "start_time": "2023-01-11T18:19:14.870Z"
   },
   {
    "duration": 28,
    "start_time": "2023-01-11T18:19:16.020Z"
   },
   {
    "duration": 12,
    "start_time": "2023-01-11T18:19:16.050Z"
   },
   {
    "duration": 10,
    "start_time": "2023-01-11T18:19:16.064Z"
   },
   {
    "duration": 6,
    "start_time": "2023-01-11T18:19:16.076Z"
   },
   {
    "duration": 6,
    "start_time": "2023-01-11T18:19:16.083Z"
   },
   {
    "duration": 4,
    "start_time": "2023-01-11T18:19:16.091Z"
   },
   {
    "duration": 11,
    "start_time": "2023-01-11T18:19:16.096Z"
   },
   {
    "duration": 9,
    "start_time": "2023-01-11T18:19:16.108Z"
   },
   {
    "duration": 54,
    "start_time": "2023-01-11T18:19:16.136Z"
   },
   {
    "duration": 11,
    "start_time": "2023-01-11T18:19:16.192Z"
   },
   {
    "duration": 17,
    "start_time": "2023-01-11T18:19:16.205Z"
   },
   {
    "duration": 3,
    "start_time": "2023-01-11T18:19:16.224Z"
   },
   {
    "duration": 9,
    "start_time": "2023-01-11T18:19:16.229Z"
   },
   {
    "duration": 11,
    "start_time": "2023-01-11T18:19:16.240Z"
   },
   {
    "duration": 25,
    "start_time": "2023-01-11T18:19:16.252Z"
   },
   {
    "duration": 11,
    "start_time": "2023-01-11T18:19:16.279Z"
   },
   {
    "duration": 125,
    "start_time": "2023-01-11T18:19:16.292Z"
   },
   {
    "duration": 0,
    "start_time": "2023-01-11T18:19:16.418Z"
   },
   {
    "duration": 0,
    "start_time": "2023-01-11T18:19:16.421Z"
   },
   {
    "duration": 0,
    "start_time": "2023-01-11T18:19:16.422Z"
   },
   {
    "duration": 0,
    "start_time": "2023-01-11T18:19:16.437Z"
   },
   {
    "duration": 0,
    "start_time": "2023-01-11T18:19:16.438Z"
   },
   {
    "duration": 0,
    "start_time": "2023-01-11T18:19:16.440Z"
   },
   {
    "duration": 0,
    "start_time": "2023-01-11T18:19:16.441Z"
   },
   {
    "duration": 0,
    "start_time": "2023-01-11T18:19:16.442Z"
   },
   {
    "duration": 0,
    "start_time": "2023-01-11T18:19:16.443Z"
   },
   {
    "duration": 0,
    "start_time": "2023-01-11T18:19:16.444Z"
   },
   {
    "duration": 0,
    "start_time": "2023-01-11T18:19:16.445Z"
   },
   {
    "duration": 8,
    "start_time": "2023-01-11T18:22:19.062Z"
   },
   {
    "duration": 205,
    "start_time": "2023-01-11T18:22:49.040Z"
   },
   {
    "duration": 215,
    "start_time": "2023-01-11T18:23:27.808Z"
   },
   {
    "duration": 9,
    "start_time": "2023-01-11T18:23:31.321Z"
   },
   {
    "duration": 176,
    "start_time": "2023-01-11T18:24:13.668Z"
   },
   {
    "duration": 132,
    "start_time": "2023-01-11T18:24:56.807Z"
   },
   {
    "duration": 15,
    "start_time": "2023-01-11T18:25:37.216Z"
   },
   {
    "duration": 13,
    "start_time": "2023-01-11T18:25:49.072Z"
   },
   {
    "duration": 300,
    "start_time": "2023-01-11T18:26:19.659Z"
   },
   {
    "duration": 208,
    "start_time": "2023-01-11T18:26:44.650Z"
   },
   {
    "duration": 17,
    "start_time": "2023-01-11T18:27:14.661Z"
   },
   {
    "duration": 311,
    "start_time": "2023-01-11T18:27:34.893Z"
   },
   {
    "duration": 20,
    "start_time": "2023-01-11T18:28:36.883Z"
   },
   {
    "duration": 1277,
    "start_time": "2023-01-11T18:28:42.043Z"
   },
   {
    "duration": 28,
    "start_time": "2023-01-11T18:28:43.322Z"
   },
   {
    "duration": 12,
    "start_time": "2023-01-11T18:28:43.351Z"
   },
   {
    "duration": 12,
    "start_time": "2023-01-11T18:28:43.365Z"
   },
   {
    "duration": 7,
    "start_time": "2023-01-11T18:28:43.379Z"
   },
   {
    "duration": 8,
    "start_time": "2023-01-11T18:28:43.388Z"
   },
   {
    "duration": 7,
    "start_time": "2023-01-11T18:28:43.398Z"
   },
   {
    "duration": 10,
    "start_time": "2023-01-11T18:28:43.407Z"
   },
   {
    "duration": 27,
    "start_time": "2023-01-11T18:28:43.419Z"
   },
   {
    "duration": 54,
    "start_time": "2023-01-11T18:28:43.447Z"
   },
   {
    "duration": 10,
    "start_time": "2023-01-11T18:28:43.503Z"
   },
   {
    "duration": 18,
    "start_time": "2023-01-11T18:28:43.514Z"
   },
   {
    "duration": 9,
    "start_time": "2023-01-11T18:28:43.533Z"
   },
   {
    "duration": 11,
    "start_time": "2023-01-11T18:28:43.544Z"
   },
   {
    "duration": 14,
    "start_time": "2023-01-11T18:28:43.556Z"
   },
   {
    "duration": 15,
    "start_time": "2023-01-11T18:28:43.572Z"
   },
   {
    "duration": 13,
    "start_time": "2023-01-11T18:28:43.589Z"
   },
   {
    "duration": 6,
    "start_time": "2023-01-11T18:28:43.604Z"
   },
   {
    "duration": 198,
    "start_time": "2023-01-11T18:28:43.612Z"
   },
   {
    "duration": 148,
    "start_time": "2023-01-11T18:28:43.812Z"
   },
   {
    "duration": 12,
    "start_time": "2023-01-11T18:28:43.962Z"
   },
   {
    "duration": 316,
    "start_time": "2023-01-11T18:28:43.975Z"
   },
   {
    "duration": 220,
    "start_time": "2023-01-11T18:28:44.292Z"
   },
   {
    "duration": 343,
    "start_time": "2023-01-11T18:28:44.514Z"
   },
   {
    "duration": 5,
    "start_time": "2023-01-11T18:28:44.858Z"
   },
   {
    "duration": 10,
    "start_time": "2023-01-11T18:28:44.864Z"
   },
   {
    "duration": 27,
    "start_time": "2023-01-11T18:28:44.876Z"
   },
   {
    "duration": 125,
    "start_time": "2023-01-11T18:28:44.905Z"
   },
   {
    "duration": 6,
    "start_time": "2023-01-11T18:29:19.636Z"
   },
   {
    "duration": 12,
    "start_time": "2023-01-11T18:29:28.845Z"
   },
   {
    "duration": 262,
    "start_time": "2023-01-11T18:29:40.208Z"
   },
   {
    "duration": 1125,
    "start_time": "2023-01-11T18:33:09.581Z"
   },
   {
    "duration": 29,
    "start_time": "2023-01-11T18:33:10.708Z"
   },
   {
    "duration": 14,
    "start_time": "2023-01-11T18:33:10.742Z"
   },
   {
    "duration": 12,
    "start_time": "2023-01-11T18:33:10.758Z"
   },
   {
    "duration": 11,
    "start_time": "2023-01-11T18:33:10.771Z"
   },
   {
    "duration": 6,
    "start_time": "2023-01-11T18:33:10.785Z"
   },
   {
    "duration": 5,
    "start_time": "2023-01-11T18:33:10.793Z"
   },
   {
    "duration": 41,
    "start_time": "2023-01-11T18:33:10.800Z"
   },
   {
    "duration": 13,
    "start_time": "2023-01-11T18:33:10.844Z"
   },
   {
    "duration": 55,
    "start_time": "2023-01-11T18:33:10.859Z"
   },
   {
    "duration": 8,
    "start_time": "2023-01-11T18:33:10.916Z"
   },
   {
    "duration": 17,
    "start_time": "2023-01-11T18:33:10.926Z"
   },
   {
    "duration": 7,
    "start_time": "2023-01-11T18:33:10.945Z"
   },
   {
    "duration": 13,
    "start_time": "2023-01-11T18:33:10.954Z"
   },
   {
    "duration": 16,
    "start_time": "2023-01-11T18:33:10.969Z"
   },
   {
    "duration": 14,
    "start_time": "2023-01-11T18:33:10.987Z"
   },
   {
    "duration": 13,
    "start_time": "2023-01-11T18:33:11.003Z"
   },
   {
    "duration": 20,
    "start_time": "2023-01-11T18:33:11.018Z"
   },
   {
    "duration": 179,
    "start_time": "2023-01-11T18:33:11.040Z"
   },
   {
    "duration": 142,
    "start_time": "2023-01-11T18:33:11.221Z"
   },
   {
    "duration": 14,
    "start_time": "2023-01-11T18:33:11.364Z"
   },
   {
    "duration": 316,
    "start_time": "2023-01-11T18:33:11.380Z"
   },
   {
    "duration": 230,
    "start_time": "2023-01-11T18:33:11.698Z"
   },
   {
    "duration": 334,
    "start_time": "2023-01-11T18:33:11.930Z"
   },
   {
    "duration": 4,
    "start_time": "2023-01-11T18:33:12.266Z"
   },
   {
    "duration": 9,
    "start_time": "2023-01-11T18:33:12.271Z"
   },
   {
    "duration": 7,
    "start_time": "2023-01-11T18:33:12.283Z"
   },
   {
    "duration": 7,
    "start_time": "2023-01-11T18:33:12.291Z"
   },
   {
    "duration": 361,
    "start_time": "2023-01-11T18:33:12.299Z"
   },
   {
    "duration": 271,
    "start_time": "2023-01-11T18:33:33.639Z"
   },
   {
    "duration": 246,
    "start_time": "2023-01-11T18:36:11.988Z"
   },
   {
    "duration": 245,
    "start_time": "2023-01-11T18:36:22.018Z"
   },
   {
    "duration": 236,
    "start_time": "2023-01-11T18:36:31.393Z"
   },
   {
    "duration": 316,
    "start_time": "2023-01-11T18:36:48.128Z"
   },
   {
    "duration": 234,
    "start_time": "2023-01-11T18:37:23.247Z"
   },
   {
    "duration": 241,
    "start_time": "2023-01-11T18:38:06.812Z"
   },
   {
    "duration": 243,
    "start_time": "2023-01-11T18:38:19.869Z"
   },
   {
    "duration": 1253,
    "start_time": "2023-01-11T18:40:58.562Z"
   },
   {
    "duration": 29,
    "start_time": "2023-01-11T18:40:59.817Z"
   },
   {
    "duration": 11,
    "start_time": "2023-01-11T18:40:59.848Z"
   },
   {
    "duration": 12,
    "start_time": "2023-01-11T18:40:59.861Z"
   },
   {
    "duration": 9,
    "start_time": "2023-01-11T18:40:59.875Z"
   },
   {
    "duration": 8,
    "start_time": "2023-01-11T18:40:59.885Z"
   },
   {
    "duration": 4,
    "start_time": "2023-01-11T18:40:59.895Z"
   },
   {
    "duration": 12,
    "start_time": "2023-01-11T18:40:59.901Z"
   },
   {
    "duration": 11,
    "start_time": "2023-01-11T18:40:59.936Z"
   },
   {
    "duration": 56,
    "start_time": "2023-01-11T18:40:59.949Z"
   },
   {
    "duration": 9,
    "start_time": "2023-01-11T18:41:00.007Z"
   },
   {
    "duration": 26,
    "start_time": "2023-01-11T18:41:00.018Z"
   },
   {
    "duration": 19,
    "start_time": "2023-01-11T18:41:00.046Z"
   },
   {
    "duration": 19,
    "start_time": "2023-01-11T18:41:00.069Z"
   },
   {
    "duration": 36,
    "start_time": "2023-01-11T18:41:00.090Z"
   },
   {
    "duration": 31,
    "start_time": "2023-01-11T18:41:00.127Z"
   },
   {
    "duration": 23,
    "start_time": "2023-01-11T18:41:00.160Z"
   },
   {
    "duration": 23,
    "start_time": "2023-01-11T18:41:00.185Z"
   },
   {
    "duration": 188,
    "start_time": "2023-01-11T18:41:00.210Z"
   },
   {
    "duration": 142,
    "start_time": "2023-01-11T18:41:00.399Z"
   },
   {
    "duration": 13,
    "start_time": "2023-01-11T18:41:00.543Z"
   },
   {
    "duration": 320,
    "start_time": "2023-01-11T18:41:00.557Z"
   },
   {
    "duration": 223,
    "start_time": "2023-01-11T18:41:00.879Z"
   },
   {
    "duration": 364,
    "start_time": "2023-01-11T18:41:01.104Z"
   },
   {
    "duration": 5,
    "start_time": "2023-01-11T18:41:01.470Z"
   },
   {
    "duration": 17,
    "start_time": "2023-01-11T18:41:01.476Z"
   },
   {
    "duration": 12,
    "start_time": "2023-01-11T18:41:01.495Z"
   },
   {
    "duration": 6,
    "start_time": "2023-01-11T18:41:01.508Z"
   },
   {
    "duration": 225,
    "start_time": "2023-01-11T18:41:01.516Z"
   },
   {
    "duration": 3,
    "start_time": "2023-01-11T18:41:34.991Z"
   },
   {
    "duration": 7,
    "start_time": "2023-01-11T18:42:04.252Z"
   },
   {
    "duration": 316,
    "start_time": "2023-01-11T18:42:19.344Z"
   },
   {
    "duration": 142,
    "start_time": "2023-01-11T18:46:23.046Z"
   },
   {
    "duration": 3,
    "start_time": "2023-01-11T18:46:32.474Z"
   },
   {
    "duration": 9,
    "start_time": "2023-01-11T18:46:46.705Z"
   },
   {
    "duration": 138,
    "start_time": "2023-01-11T18:47:08.254Z"
   },
   {
    "duration": 154,
    "start_time": "2023-01-11T18:47:45.201Z"
   },
   {
    "duration": 5,
    "start_time": "2023-01-11T18:49:01.752Z"
   },
   {
    "duration": 161,
    "start_time": "2023-01-11T18:49:20.415Z"
   },
   {
    "duration": 245,
    "start_time": "2023-01-11T18:49:44.660Z"
   },
   {
    "duration": 5,
    "start_time": "2023-01-11T18:50:07.948Z"
   },
   {
    "duration": 6,
    "start_time": "2023-01-11T18:53:28.690Z"
   },
   {
    "duration": 9,
    "start_time": "2023-01-11T18:53:43.716Z"
   },
   {
    "duration": 5,
    "start_time": "2023-01-11T18:54:27.029Z"
   },
   {
    "duration": 7,
    "start_time": "2023-01-11T18:54:27.523Z"
   },
   {
    "duration": 49,
    "start_time": "2023-01-11T18:54:56.154Z"
   },
   {
    "duration": 48,
    "start_time": "2023-01-11T18:55:15.386Z"
   },
   {
    "duration": 1184,
    "start_time": "2023-01-11T18:57:46.895Z"
   },
   {
    "duration": 28,
    "start_time": "2023-01-11T18:57:48.082Z"
   },
   {
    "duration": 13,
    "start_time": "2023-01-11T18:57:48.112Z"
   },
   {
    "duration": 11,
    "start_time": "2023-01-11T18:57:48.127Z"
   },
   {
    "duration": 6,
    "start_time": "2023-01-11T18:57:48.141Z"
   },
   {
    "duration": 7,
    "start_time": "2023-01-11T18:57:48.148Z"
   },
   {
    "duration": 5,
    "start_time": "2023-01-11T18:57:48.156Z"
   },
   {
    "duration": 10,
    "start_time": "2023-01-11T18:57:48.163Z"
   },
   {
    "duration": 8,
    "start_time": "2023-01-11T18:57:48.175Z"
   },
   {
    "duration": 55,
    "start_time": "2023-01-11T18:57:48.184Z"
   },
   {
    "duration": 9,
    "start_time": "2023-01-11T18:57:48.241Z"
   },
   {
    "duration": 14,
    "start_time": "2023-01-11T18:57:48.252Z"
   },
   {
    "duration": 12,
    "start_time": "2023-01-11T18:57:48.269Z"
   },
   {
    "duration": 8,
    "start_time": "2023-01-11T18:57:48.285Z"
   },
   {
    "duration": 17,
    "start_time": "2023-01-11T18:57:48.295Z"
   },
   {
    "duration": 31,
    "start_time": "2023-01-11T18:57:48.314Z"
   },
   {
    "duration": 12,
    "start_time": "2023-01-11T18:57:48.347Z"
   },
   {
    "duration": 5,
    "start_time": "2023-01-11T18:57:48.361Z"
   },
   {
    "duration": 209,
    "start_time": "2023-01-11T18:57:48.368Z"
   },
   {
    "duration": 135,
    "start_time": "2023-01-11T18:57:48.579Z"
   },
   {
    "duration": 24,
    "start_time": "2023-01-11T18:57:48.715Z"
   },
   {
    "duration": 303,
    "start_time": "2023-01-11T18:57:48.741Z"
   },
   {
    "duration": 229,
    "start_time": "2023-01-11T18:57:49.046Z"
   },
   {
    "duration": 382,
    "start_time": "2023-01-11T18:57:49.278Z"
   },
   {
    "duration": 3,
    "start_time": "2023-01-11T18:57:49.662Z"
   },
   {
    "duration": 6,
    "start_time": "2023-01-11T18:57:49.667Z"
   },
   {
    "duration": 6,
    "start_time": "2023-01-11T18:57:49.674Z"
   },
   {
    "duration": 12,
    "start_time": "2023-01-11T18:57:49.682Z"
   },
   {
    "duration": 231,
    "start_time": "2023-01-11T18:57:49.696Z"
   },
   {
    "duration": 9,
    "start_time": "2023-01-11T18:57:49.928Z"
   },
   {
    "duration": 10,
    "start_time": "2023-01-11T18:57:49.939Z"
   },
   {
    "duration": 305,
    "start_time": "2023-01-11T18:57:49.951Z"
   },
   {
    "duration": 127,
    "start_time": "2023-01-11T18:57:50.257Z"
   },
   {
    "duration": 3,
    "start_time": "2023-01-11T18:57:50.386Z"
   },
   {
    "duration": 14,
    "start_time": "2023-01-11T18:57:50.390Z"
   },
   {
    "duration": 147,
    "start_time": "2023-01-11T18:57:50.406Z"
   },
   {
    "duration": 148,
    "start_time": "2023-01-11T18:57:50.555Z"
   },
   {
    "duration": 5,
    "start_time": "2023-01-11T18:57:50.705Z"
   },
   {
    "duration": 176,
    "start_time": "2023-01-11T18:57:50.712Z"
   },
   {
    "duration": 248,
    "start_time": "2023-01-11T18:57:50.890Z"
   },
   {
    "duration": 6,
    "start_time": "2023-01-11T18:57:51.141Z"
   },
   {
    "duration": 13,
    "start_time": "2023-01-11T18:57:51.148Z"
   },
   {
    "duration": 25,
    "start_time": "2023-01-11T18:57:51.163Z"
   },
   {
    "duration": 8,
    "start_time": "2023-01-11T18:57:51.189Z"
   },
   {
    "duration": 16,
    "start_time": "2023-01-11T18:57:51.199Z"
   },
   {
    "duration": 51,
    "start_time": "2023-01-11T18:57:51.217Z"
   },
   {
    "duration": 49,
    "start_time": "2023-01-11T18:57:51.270Z"
   },
   {
    "duration": 23,
    "start_time": "2023-01-11T18:57:51.321Z"
   },
   {
    "duration": 14,
    "start_time": "2023-01-11T18:57:51.346Z"
   },
   {
    "duration": 54,
    "start_time": "2023-01-11T18:57:51.362Z"
   },
   {
    "duration": 64,
    "start_time": "2023-01-11T18:57:51.418Z"
   },
   {
    "duration": 23,
    "start_time": "2023-01-11T18:57:51.483Z"
   },
   {
    "duration": 6,
    "start_time": "2023-01-11T19:00:48.257Z"
   },
   {
    "duration": 1218,
    "start_time": "2023-01-11T19:03:33.319Z"
   },
   {
    "duration": 29,
    "start_time": "2023-01-11T19:03:34.539Z"
   },
   {
    "duration": 13,
    "start_time": "2023-01-11T19:03:34.570Z"
   },
   {
    "duration": 13,
    "start_time": "2023-01-11T19:03:34.585Z"
   },
   {
    "duration": 8,
    "start_time": "2023-01-11T19:03:34.601Z"
   },
   {
    "duration": 8,
    "start_time": "2023-01-11T19:03:34.611Z"
   },
   {
    "duration": 11,
    "start_time": "2023-01-11T19:03:34.621Z"
   },
   {
    "duration": 14,
    "start_time": "2023-01-11T19:03:34.633Z"
   },
   {
    "duration": 10,
    "start_time": "2023-01-11T19:03:34.649Z"
   },
   {
    "duration": 54,
    "start_time": "2023-01-11T19:03:34.662Z"
   },
   {
    "duration": 8,
    "start_time": "2023-01-11T19:03:34.718Z"
   },
   {
    "duration": 15,
    "start_time": "2023-01-11T19:03:34.728Z"
   },
   {
    "duration": 6,
    "start_time": "2023-01-11T19:03:34.745Z"
   },
   {
    "duration": 9,
    "start_time": "2023-01-11T19:03:34.754Z"
   },
   {
    "duration": 14,
    "start_time": "2023-01-11T19:03:34.765Z"
   },
   {
    "duration": 16,
    "start_time": "2023-01-11T19:03:34.781Z"
   },
   {
    "duration": 17,
    "start_time": "2023-01-11T19:03:34.799Z"
   },
   {
    "duration": 6,
    "start_time": "2023-01-11T19:03:34.837Z"
   },
   {
    "duration": 186,
    "start_time": "2023-01-11T19:03:34.845Z"
   },
   {
    "duration": 136,
    "start_time": "2023-01-11T19:03:35.037Z"
   },
   {
    "duration": 13,
    "start_time": "2023-01-11T19:03:35.176Z"
   },
   {
    "duration": 309,
    "start_time": "2023-01-11T19:03:35.191Z"
   },
   {
    "duration": 224,
    "start_time": "2023-01-11T19:03:35.502Z"
   },
   {
    "duration": 356,
    "start_time": "2023-01-11T19:03:35.728Z"
   },
   {
    "duration": 5,
    "start_time": "2023-01-11T19:03:36.087Z"
   },
   {
    "duration": 13,
    "start_time": "2023-01-11T19:03:36.094Z"
   },
   {
    "duration": 16,
    "start_time": "2023-01-11T19:03:36.108Z"
   },
   {
    "duration": 8,
    "start_time": "2023-01-11T19:03:36.126Z"
   },
   {
    "duration": 205,
    "start_time": "2023-01-11T19:03:36.135Z"
   },
   {
    "duration": 3,
    "start_time": "2023-01-11T19:03:36.341Z"
   },
   {
    "duration": 12,
    "start_time": "2023-01-11T19:03:36.346Z"
   },
   {
    "duration": 331,
    "start_time": "2023-01-11T19:03:36.359Z"
   },
   {
    "duration": 128,
    "start_time": "2023-01-11T19:03:36.692Z"
   },
   {
    "duration": 3,
    "start_time": "2023-01-11T19:03:36.822Z"
   },
   {
    "duration": 11,
    "start_time": "2023-01-11T19:03:36.827Z"
   },
   {
    "duration": 164,
    "start_time": "2023-01-11T19:03:36.841Z"
   },
   {
    "duration": 152,
    "start_time": "2023-01-11T19:03:37.006Z"
   },
   {
    "duration": 5,
    "start_time": "2023-01-11T19:03:37.161Z"
   },
   {
    "duration": 179,
    "start_time": "2023-01-11T19:03:37.167Z"
   },
   {
    "duration": 249,
    "start_time": "2023-01-11T19:03:37.349Z"
   },
   {
    "duration": 6,
    "start_time": "2023-01-11T19:03:37.601Z"
   },
   {
    "duration": 14,
    "start_time": "2023-01-11T19:03:37.609Z"
   },
   {
    "duration": 5,
    "start_time": "2023-01-11T19:03:37.637Z"
   },
   {
    "duration": 12,
    "start_time": "2023-01-11T19:03:37.643Z"
   },
   {
    "duration": 9,
    "start_time": "2023-01-11T19:03:37.657Z"
   },
   {
    "duration": 11,
    "start_time": "2023-01-11T19:03:37.668Z"
   },
   {
    "duration": 86,
    "start_time": "2023-01-11T19:03:37.681Z"
   },
   {
    "duration": 50,
    "start_time": "2023-01-11T19:03:37.769Z"
   },
   {
    "duration": 33,
    "start_time": "2023-01-11T19:03:37.821Z"
   },
   {
    "duration": 26,
    "start_time": "2023-01-11T19:03:37.856Z"
   },
   {
    "duration": 90,
    "start_time": "2023-01-11T19:03:37.884Z"
   },
   {
    "duration": 66,
    "start_time": "2023-01-11T19:03:37.976Z"
   },
   {
    "duration": 32,
    "start_time": "2023-01-11T19:03:38.044Z"
   },
   {
    "duration": 147,
    "start_time": "2023-01-11T19:04:32.045Z"
   },
   {
    "duration": 11,
    "start_time": "2023-01-11T19:04:53.459Z"
   },
   {
    "duration": 8,
    "start_time": "2023-01-11T19:05:09.074Z"
   },
   {
    "duration": 8,
    "start_time": "2023-01-11T19:05:12.965Z"
   },
   {
    "duration": 24,
    "start_time": "2023-01-11T19:05:25.934Z"
   },
   {
    "duration": 5,
    "start_time": "2023-01-11T19:06:17.599Z"
   },
   {
    "duration": 12,
    "start_time": "2023-01-11T19:07:22.006Z"
   },
   {
    "duration": 9,
    "start_time": "2023-01-11T19:08:19.082Z"
   },
   {
    "duration": 4,
    "start_time": "2023-01-11T19:08:33.104Z"
   },
   {
    "duration": 4,
    "start_time": "2023-01-11T19:08:42.418Z"
   },
   {
    "duration": 8,
    "start_time": "2023-01-11T19:09:08.526Z"
   },
   {
    "duration": 6,
    "start_time": "2023-01-11T19:09:16.279Z"
   },
   {
    "duration": 6,
    "start_time": "2023-01-11T19:09:30.134Z"
   },
   {
    "duration": 8,
    "start_time": "2023-01-11T19:09:57.012Z"
   },
   {
    "duration": 24,
    "start_time": "2023-01-11T19:10:23.068Z"
   },
   {
    "duration": 1264,
    "start_time": "2023-01-11T19:11:25.547Z"
   },
   {
    "duration": 28,
    "start_time": "2023-01-11T19:11:26.813Z"
   },
   {
    "duration": 12,
    "start_time": "2023-01-11T19:11:26.843Z"
   },
   {
    "duration": 26,
    "start_time": "2023-01-11T19:11:26.857Z"
   },
   {
    "duration": 8,
    "start_time": "2023-01-11T19:11:26.885Z"
   },
   {
    "duration": 5,
    "start_time": "2023-01-11T19:11:26.895Z"
   },
   {
    "duration": 7,
    "start_time": "2023-01-11T19:11:26.902Z"
   },
   {
    "duration": 15,
    "start_time": "2023-01-11T19:11:26.911Z"
   },
   {
    "duration": 17,
    "start_time": "2023-01-11T19:11:26.927Z"
   },
   {
    "duration": 63,
    "start_time": "2023-01-11T19:11:26.947Z"
   },
   {
    "duration": 9,
    "start_time": "2023-01-11T19:11:27.011Z"
   },
   {
    "duration": 20,
    "start_time": "2023-01-11T19:11:27.022Z"
   },
   {
    "duration": 7,
    "start_time": "2023-01-11T19:11:27.043Z"
   },
   {
    "duration": 12,
    "start_time": "2023-01-11T19:11:27.051Z"
   },
   {
    "duration": 11,
    "start_time": "2023-01-11T19:11:27.065Z"
   },
   {
    "duration": 15,
    "start_time": "2023-01-11T19:11:27.078Z"
   },
   {
    "duration": 11,
    "start_time": "2023-01-11T19:11:27.095Z"
   },
   {
    "duration": 31,
    "start_time": "2023-01-11T19:11:27.107Z"
   },
   {
    "duration": 186,
    "start_time": "2023-01-11T19:11:27.140Z"
   },
   {
    "duration": 142,
    "start_time": "2023-01-11T19:11:27.328Z"
   },
   {
    "duration": 14,
    "start_time": "2023-01-11T19:11:27.472Z"
   },
   {
    "duration": 323,
    "start_time": "2023-01-11T19:11:27.488Z"
   },
   {
    "duration": 246,
    "start_time": "2023-01-11T19:11:27.813Z"
   },
   {
    "duration": 318,
    "start_time": "2023-01-11T19:11:28.061Z"
   },
   {
    "duration": 4,
    "start_time": "2023-01-11T19:11:28.381Z"
   },
   {
    "duration": 26,
    "start_time": "2023-01-11T19:11:28.387Z"
   },
   {
    "duration": 26,
    "start_time": "2023-01-11T19:11:28.415Z"
   },
   {
    "duration": 14,
    "start_time": "2023-01-11T19:11:28.446Z"
   },
   {
    "duration": 229,
    "start_time": "2023-01-11T19:11:28.462Z"
   },
   {
    "duration": 2,
    "start_time": "2023-01-11T19:11:28.693Z"
   },
   {
    "duration": 22,
    "start_time": "2023-01-11T19:11:28.697Z"
   },
   {
    "duration": 385,
    "start_time": "2023-01-11T19:11:28.721Z"
   },
   {
    "duration": 157,
    "start_time": "2023-01-11T19:11:29.108Z"
   },
   {
    "duration": 3,
    "start_time": "2023-01-11T19:11:29.266Z"
   },
   {
    "duration": 18,
    "start_time": "2023-01-11T19:11:29.271Z"
   },
   {
    "duration": 160,
    "start_time": "2023-01-11T19:11:29.290Z"
   },
   {
    "duration": 161,
    "start_time": "2023-01-11T19:11:29.453Z"
   },
   {
    "duration": 6,
    "start_time": "2023-01-11T19:11:29.616Z"
   },
   {
    "duration": 196,
    "start_time": "2023-01-11T19:11:29.624Z"
   },
   {
    "duration": 269,
    "start_time": "2023-01-11T19:11:29.823Z"
   },
   {
    "duration": 5,
    "start_time": "2023-01-11T19:11:30.094Z"
   },
   {
    "duration": 46,
    "start_time": "2023-01-11T19:11:30.101Z"
   },
   {
    "duration": 31,
    "start_time": "2023-01-11T19:11:30.149Z"
   },
   {
    "duration": 41,
    "start_time": "2023-01-11T19:11:30.182Z"
   },
   {
    "duration": 28,
    "start_time": "2023-01-11T19:11:30.225Z"
   },
   {
    "duration": 36,
    "start_time": "2023-01-11T19:11:30.255Z"
   },
   {
    "duration": 94,
    "start_time": "2023-01-11T19:11:30.292Z"
   },
   {
    "duration": 66,
    "start_time": "2023-01-11T19:11:30.388Z"
   },
   {
    "duration": 33,
    "start_time": "2023-01-11T19:11:30.455Z"
   },
   {
    "duration": 25,
    "start_time": "2023-01-11T19:11:30.490Z"
   },
   {
    "duration": 77,
    "start_time": "2023-01-11T19:11:30.517Z"
   },
   {
    "duration": 92,
    "start_time": "2023-01-11T19:11:30.596Z"
   },
   {
    "duration": 28,
    "start_time": "2023-01-11T19:11:30.690Z"
   },
   {
    "duration": 156,
    "start_time": "2023-01-11T19:11:30.719Z"
   },
   {
    "duration": 6,
    "start_time": "2023-01-11T19:11:30.878Z"
   },
   {
    "duration": 63,
    "start_time": "2023-01-11T19:11:30.885Z"
   },
   {
    "duration": 17,
    "start_time": "2023-01-11T19:11:30.949Z"
   },
   {
    "duration": 26,
    "start_time": "2023-01-11T19:11:30.968Z"
   },
   {
    "duration": 25,
    "start_time": "2023-01-11T19:11:30.996Z"
   },
   {
    "duration": 23,
    "start_time": "2023-01-11T19:11:31.022Z"
   },
   {
    "duration": 17,
    "start_time": "2023-01-11T19:11:31.047Z"
   },
   {
    "duration": 23,
    "start_time": "2023-01-11T19:11:31.066Z"
   },
   {
    "duration": 27,
    "start_time": "2023-01-11T19:11:31.091Z"
   },
   {
    "duration": 36,
    "start_time": "2023-01-11T19:11:31.121Z"
   },
   {
    "duration": 12,
    "start_time": "2023-01-11T19:11:31.158Z"
   },
   {
    "duration": 16,
    "start_time": "2023-01-11T19:11:31.171Z"
   },
   {
    "duration": 1236,
    "start_time": "2023-01-12T16:05:33.383Z"
   },
   {
    "duration": 74,
    "start_time": "2023-01-12T16:05:34.621Z"
   },
   {
    "duration": 11,
    "start_time": "2023-01-12T16:05:34.697Z"
   },
   {
    "duration": 11,
    "start_time": "2023-01-12T16:05:34.710Z"
   },
   {
    "duration": 8,
    "start_time": "2023-01-12T16:05:34.723Z"
   },
   {
    "duration": 7,
    "start_time": "2023-01-12T16:05:34.732Z"
   },
   {
    "duration": 11,
    "start_time": "2023-01-12T16:05:34.740Z"
   },
   {
    "duration": 23,
    "start_time": "2023-01-12T16:05:34.752Z"
   },
   {
    "duration": 10,
    "start_time": "2023-01-12T16:05:34.776Z"
   },
   {
    "duration": 141,
    "start_time": "2023-01-12T16:05:34.787Z"
   },
   {
    "duration": 8,
    "start_time": "2023-01-12T16:05:34.930Z"
   },
   {
    "duration": 12,
    "start_time": "2023-01-12T16:05:34.939Z"
   },
   {
    "duration": 4,
    "start_time": "2023-01-12T16:05:34.953Z"
   },
   {
    "duration": 7,
    "start_time": "2023-01-12T16:05:34.960Z"
   },
   {
    "duration": 19,
    "start_time": "2023-01-12T16:05:34.968Z"
   },
   {
    "duration": 20,
    "start_time": "2023-01-12T16:05:34.988Z"
   },
   {
    "duration": 14,
    "start_time": "2023-01-12T16:05:35.010Z"
   },
   {
    "duration": 6,
    "start_time": "2023-01-12T16:05:35.025Z"
   },
   {
    "duration": 161,
    "start_time": "2023-01-12T16:05:35.032Z"
   },
   {
    "duration": 150,
    "start_time": "2023-01-12T16:05:35.195Z"
   },
   {
    "duration": 14,
    "start_time": "2023-01-12T16:05:35.349Z"
   },
   {
    "duration": 296,
    "start_time": "2023-01-12T16:05:35.365Z"
   },
   {
    "duration": 184,
    "start_time": "2023-01-12T16:05:35.662Z"
   },
   {
    "duration": 319,
    "start_time": "2023-01-12T16:05:35.848Z"
   },
   {
    "duration": 5,
    "start_time": "2023-01-12T16:05:36.169Z"
   },
   {
    "duration": 15,
    "start_time": "2023-01-12T16:05:36.176Z"
   },
   {
    "duration": 21,
    "start_time": "2023-01-12T16:05:36.193Z"
   },
   {
    "duration": 18,
    "start_time": "2023-01-12T16:05:36.216Z"
   },
   {
    "duration": 223,
    "start_time": "2023-01-12T16:05:36.237Z"
   },
   {
    "duration": 3,
    "start_time": "2023-01-12T16:05:36.462Z"
   },
   {
    "duration": 14,
    "start_time": "2023-01-12T16:05:36.466Z"
   },
   {
    "duration": 329,
    "start_time": "2023-01-12T16:05:36.482Z"
   },
   {
    "duration": 140,
    "start_time": "2023-01-12T16:05:36.813Z"
   },
   {
    "duration": 3,
    "start_time": "2023-01-12T16:05:36.955Z"
   },
   {
    "duration": 11,
    "start_time": "2023-01-12T16:05:36.960Z"
   },
   {
    "duration": 159,
    "start_time": "2023-01-12T16:05:36.972Z"
   },
   {
    "duration": 208,
    "start_time": "2023-01-12T16:05:37.132Z"
   },
   {
    "duration": 5,
    "start_time": "2023-01-12T16:05:37.341Z"
   },
   {
    "duration": 160,
    "start_time": "2023-01-12T16:05:37.348Z"
   },
   {
    "duration": 153,
    "start_time": "2023-01-12T16:05:37.509Z"
   },
   {
    "duration": 5,
    "start_time": "2023-01-12T16:05:37.667Z"
   },
   {
    "duration": 17,
    "start_time": "2023-01-12T16:05:37.673Z"
   },
   {
    "duration": 9,
    "start_time": "2023-01-12T16:05:37.691Z"
   },
   {
    "duration": 10,
    "start_time": "2023-01-12T16:05:37.702Z"
   },
   {
    "duration": 4,
    "start_time": "2023-01-12T16:05:37.721Z"
   },
   {
    "duration": 13,
    "start_time": "2023-01-12T16:05:37.727Z"
   },
   {
    "duration": 44,
    "start_time": "2023-01-12T16:05:37.741Z"
   },
   {
    "duration": 51,
    "start_time": "2023-01-12T16:05:37.787Z"
   },
   {
    "duration": 14,
    "start_time": "2023-01-12T16:05:37.840Z"
   },
   {
    "duration": 13,
    "start_time": "2023-01-12T16:05:37.855Z"
   },
   {
    "duration": 56,
    "start_time": "2023-01-12T16:05:37.869Z"
   },
   {
    "duration": 50,
    "start_time": "2023-01-12T16:05:37.927Z"
   },
   {
    "duration": 22,
    "start_time": "2023-01-12T16:05:37.979Z"
   },
   {
    "duration": 136,
    "start_time": "2023-01-12T16:05:38.002Z"
   },
   {
    "duration": 6,
    "start_time": "2023-01-12T16:05:38.140Z"
   },
   {
    "duration": 26,
    "start_time": "2023-01-12T16:05:38.148Z"
   },
   {
    "duration": 3,
    "start_time": "2023-01-12T16:05:38.175Z"
   },
   {
    "duration": 12,
    "start_time": "2023-01-12T16:05:38.180Z"
   },
   {
    "duration": 27,
    "start_time": "2023-01-12T16:05:38.194Z"
   },
   {
    "duration": 5,
    "start_time": "2023-01-12T16:05:38.223Z"
   },
   {
    "duration": 12,
    "start_time": "2023-01-12T16:05:38.230Z"
   },
   {
    "duration": 23,
    "start_time": "2023-01-12T16:05:38.243Z"
   },
   {
    "duration": 10,
    "start_time": "2023-01-12T16:05:38.268Z"
   },
   {
    "duration": 31,
    "start_time": "2023-01-12T16:05:38.279Z"
   },
   {
    "duration": 9,
    "start_time": "2023-01-12T16:05:38.312Z"
   },
   {
    "duration": 15,
    "start_time": "2023-01-12T16:05:38.322Z"
   },
   {
    "duration": 1125,
    "start_time": "2023-01-12T16:21:08.413Z"
   },
   {
    "duration": 29,
    "start_time": "2023-01-12T16:21:09.540Z"
   },
   {
    "duration": 11,
    "start_time": "2023-01-12T16:21:09.571Z"
   },
   {
    "duration": 15,
    "start_time": "2023-01-12T16:21:09.583Z"
   },
   {
    "duration": 9,
    "start_time": "2023-01-12T16:21:09.599Z"
   },
   {
    "duration": 8,
    "start_time": "2023-01-12T16:21:09.609Z"
   },
   {
    "duration": 8,
    "start_time": "2023-01-12T16:21:09.618Z"
   },
   {
    "duration": 12,
    "start_time": "2023-01-12T16:21:09.627Z"
   },
   {
    "duration": 16,
    "start_time": "2023-01-12T16:21:09.640Z"
   },
   {
    "duration": 58,
    "start_time": "2023-01-12T16:21:09.658Z"
   },
   {
    "duration": 7,
    "start_time": "2023-01-12T16:21:09.717Z"
   },
   {
    "duration": 13,
    "start_time": "2023-01-12T16:21:09.726Z"
   },
   {
    "duration": 7,
    "start_time": "2023-01-12T16:21:09.740Z"
   },
   {
    "duration": 10,
    "start_time": "2023-01-12T16:21:09.748Z"
   },
   {
    "duration": 11,
    "start_time": "2023-01-12T16:21:09.759Z"
   },
   {
    "duration": 18,
    "start_time": "2023-01-12T16:21:09.772Z"
   },
   {
    "duration": 22,
    "start_time": "2023-01-12T16:21:09.792Z"
   },
   {
    "duration": 8,
    "start_time": "2023-01-12T16:21:09.815Z"
   },
   {
    "duration": 160,
    "start_time": "2023-01-12T16:21:09.824Z"
   },
   {
    "duration": 117,
    "start_time": "2023-01-12T16:21:09.985Z"
   },
   {
    "duration": 17,
    "start_time": "2023-01-12T16:21:10.104Z"
   },
   {
    "duration": 269,
    "start_time": "2023-01-12T16:21:10.123Z"
   },
   {
    "duration": 204,
    "start_time": "2023-01-12T16:21:10.394Z"
   },
   {
    "duration": 322,
    "start_time": "2023-01-12T16:21:10.599Z"
   },
   {
    "duration": 3,
    "start_time": "2023-01-12T16:21:10.923Z"
   },
   {
    "duration": 9,
    "start_time": "2023-01-12T16:21:10.928Z"
   },
   {
    "duration": 22,
    "start_time": "2023-01-12T16:21:10.939Z"
   },
   {
    "duration": 13,
    "start_time": "2023-01-12T16:21:10.964Z"
   },
   {
    "duration": 198,
    "start_time": "2023-01-12T16:21:10.979Z"
   },
   {
    "duration": 3,
    "start_time": "2023-01-12T16:21:11.178Z"
   },
   {
    "duration": 26,
    "start_time": "2023-01-12T16:21:11.183Z"
   },
   {
    "duration": 316,
    "start_time": "2023-01-12T16:21:11.210Z"
   },
   {
    "duration": 132,
    "start_time": "2023-01-12T16:21:11.528Z"
   },
   {
    "duration": 3,
    "start_time": "2023-01-12T16:21:11.661Z"
   },
   {
    "duration": 27,
    "start_time": "2023-01-12T16:21:11.665Z"
   },
   {
    "duration": 127,
    "start_time": "2023-01-12T16:21:11.694Z"
   },
   {
    "duration": 133,
    "start_time": "2023-01-12T16:21:11.823Z"
   },
   {
    "duration": 5,
    "start_time": "2023-01-12T16:21:11.958Z"
   },
   {
    "duration": 144,
    "start_time": "2023-01-12T16:21:11.964Z"
   },
   {
    "duration": 207,
    "start_time": "2023-01-12T16:21:12.109Z"
   },
   {
    "duration": 6,
    "start_time": "2023-01-12T16:21:12.317Z"
   },
   {
    "duration": 8,
    "start_time": "2023-01-12T16:21:12.325Z"
   },
   {
    "duration": 5,
    "start_time": "2023-01-12T16:21:12.334Z"
   },
   {
    "duration": 10,
    "start_time": "2023-01-12T16:21:12.340Z"
   },
   {
    "duration": 7,
    "start_time": "2023-01-12T16:21:12.351Z"
   },
   {
    "duration": 12,
    "start_time": "2023-01-12T16:21:12.359Z"
   },
   {
    "duration": 62,
    "start_time": "2023-01-12T16:21:12.372Z"
   },
   {
    "duration": 53,
    "start_time": "2023-01-12T16:21:12.435Z"
   },
   {
    "duration": 15,
    "start_time": "2023-01-12T16:21:12.490Z"
   },
   {
    "duration": 14,
    "start_time": "2023-01-12T16:21:12.507Z"
   },
   {
    "duration": 46,
    "start_time": "2023-01-12T16:21:12.522Z"
   },
   {
    "duration": 57,
    "start_time": "2023-01-12T16:21:12.570Z"
   },
   {
    "duration": 23,
    "start_time": "2023-01-12T16:21:12.628Z"
   },
   {
    "duration": 140,
    "start_time": "2023-01-12T16:21:12.652Z"
   },
   {
    "duration": 7,
    "start_time": "2023-01-12T16:21:12.794Z"
   },
   {
    "duration": 38,
    "start_time": "2023-01-12T16:21:12.802Z"
   },
   {
    "duration": 3,
    "start_time": "2023-01-12T16:21:12.842Z"
   },
   {
    "duration": 16,
    "start_time": "2023-01-12T16:21:12.847Z"
   },
   {
    "duration": 10,
    "start_time": "2023-01-12T16:21:12.865Z"
   },
   {
    "duration": 10,
    "start_time": "2023-01-12T16:21:12.877Z"
   },
   {
    "duration": 17,
    "start_time": "2023-01-12T16:21:12.889Z"
   },
   {
    "duration": 8,
    "start_time": "2023-01-12T16:21:12.908Z"
   },
   {
    "duration": 9,
    "start_time": "2023-01-12T16:21:12.917Z"
   },
   {
    "duration": 23,
    "start_time": "2023-01-12T16:21:12.927Z"
   },
   {
    "duration": 9,
    "start_time": "2023-01-12T16:21:12.951Z"
   },
   {
    "duration": 8,
    "start_time": "2023-01-12T16:21:12.961Z"
   },
   {
    "duration": 116,
    "start_time": "2023-01-12T16:23:17.753Z"
   },
   {
    "duration": 248,
    "start_time": "2023-01-12T17:05:32.326Z"
   },
   {
    "duration": 138,
    "start_time": "2023-01-12T17:06:07.966Z"
   },
   {
    "duration": 11,
    "start_time": "2023-01-12T17:24:17.323Z"
   },
   {
    "duration": 1162,
    "start_time": "2023-01-12T17:26:30.988Z"
   },
   {
    "duration": 30,
    "start_time": "2023-01-12T17:26:32.152Z"
   },
   {
    "duration": 11,
    "start_time": "2023-01-12T17:26:32.184Z"
   },
   {
    "duration": 11,
    "start_time": "2023-01-12T17:26:32.197Z"
   },
   {
    "duration": 14,
    "start_time": "2023-01-12T17:26:32.210Z"
   },
   {
    "duration": 13,
    "start_time": "2023-01-12T17:26:32.226Z"
   },
   {
    "duration": 15,
    "start_time": "2023-01-12T17:26:32.240Z"
   },
   {
    "duration": 13,
    "start_time": "2023-01-12T17:26:32.256Z"
   },
   {
    "duration": 9,
    "start_time": "2023-01-12T17:26:32.271Z"
   },
   {
    "duration": 59,
    "start_time": "2023-01-12T17:26:32.283Z"
   },
   {
    "duration": 8,
    "start_time": "2023-01-12T17:26:32.344Z"
   },
   {
    "duration": 13,
    "start_time": "2023-01-12T17:26:32.353Z"
   },
   {
    "duration": 16,
    "start_time": "2023-01-12T17:26:32.367Z"
   },
   {
    "duration": 21,
    "start_time": "2023-01-12T17:26:32.384Z"
   },
   {
    "duration": 12,
    "start_time": "2023-01-12T17:26:32.406Z"
   },
   {
    "duration": 17,
    "start_time": "2023-01-12T17:26:32.420Z"
   },
   {
    "duration": 13,
    "start_time": "2023-01-12T17:26:32.438Z"
   },
   {
    "duration": 6,
    "start_time": "2023-01-12T17:26:32.452Z"
   },
   {
    "duration": 188,
    "start_time": "2023-01-12T17:26:32.459Z"
   },
   {
    "duration": 123,
    "start_time": "2023-01-12T17:26:32.649Z"
   },
   {
    "duration": 16,
    "start_time": "2023-01-12T17:26:32.774Z"
   },
   {
    "duration": 292,
    "start_time": "2023-01-12T17:26:32.791Z"
   },
   {
    "duration": 215,
    "start_time": "2023-01-12T17:26:33.085Z"
   },
   {
    "duration": 356,
    "start_time": "2023-01-12T17:26:33.301Z"
   },
   {
    "duration": 4,
    "start_time": "2023-01-12T17:26:33.659Z"
   },
   {
    "duration": 11,
    "start_time": "2023-01-12T17:26:33.665Z"
   },
   {
    "duration": 12,
    "start_time": "2023-01-12T17:26:33.678Z"
   },
   {
    "duration": 9,
    "start_time": "2023-01-12T17:26:33.695Z"
   },
   {
    "duration": 219,
    "start_time": "2023-01-12T17:26:33.706Z"
   },
   {
    "duration": 7,
    "start_time": "2023-01-12T17:26:33.926Z"
   },
   {
    "duration": 308,
    "start_time": "2023-01-12T17:26:33.934Z"
   },
   {
    "duration": 161,
    "start_time": "2023-01-12T17:26:34.244Z"
   },
   {
    "duration": 19,
    "start_time": "2023-01-12T17:26:34.407Z"
   },
   {
    "duration": 8,
    "start_time": "2023-01-12T17:26:34.428Z"
   },
   {
    "duration": 148,
    "start_time": "2023-01-12T17:26:34.438Z"
   },
   {
    "duration": 171,
    "start_time": "2023-01-12T17:26:34.587Z"
   },
   {
    "duration": 5,
    "start_time": "2023-01-12T17:26:34.760Z"
   },
   {
    "duration": 189,
    "start_time": "2023-01-12T17:26:34.766Z"
   },
   {
    "duration": 228,
    "start_time": "2023-01-12T17:26:34.957Z"
   },
   {
    "duration": 6,
    "start_time": "2023-01-12T17:26:35.187Z"
   },
   {
    "duration": 9,
    "start_time": "2023-01-12T17:26:35.195Z"
   },
   {
    "duration": 21,
    "start_time": "2023-01-12T17:26:35.205Z"
   },
   {
    "duration": 30,
    "start_time": "2023-01-12T17:26:35.228Z"
   },
   {
    "duration": 12,
    "start_time": "2023-01-12T17:26:35.260Z"
   },
   {
    "duration": 44,
    "start_time": "2023-01-12T17:26:35.274Z"
   },
   {
    "duration": 49,
    "start_time": "2023-01-12T17:26:35.320Z"
   },
   {
    "duration": 14,
    "start_time": "2023-01-12T17:26:35.371Z"
   },
   {
    "duration": 54,
    "start_time": "2023-01-12T17:26:35.387Z"
   },
   {
    "duration": 54,
    "start_time": "2023-01-12T17:26:35.450Z"
   },
   {
    "duration": 48,
    "start_time": "2023-01-12T17:26:35.506Z"
   },
   {
    "duration": 21,
    "start_time": "2023-01-12T17:26:35.556Z"
   },
   {
    "duration": 129,
    "start_time": "2023-01-12T17:26:35.578Z"
   },
   {
    "duration": 13,
    "start_time": "2023-01-12T17:26:35.708Z"
   },
   {
    "duration": 22,
    "start_time": "2023-01-12T17:26:35.723Z"
   },
   {
    "duration": 4,
    "start_time": "2023-01-12T17:26:35.746Z"
   },
   {
    "duration": 13,
    "start_time": "2023-01-12T17:26:35.751Z"
   },
   {
    "duration": 8,
    "start_time": "2023-01-12T17:26:35.765Z"
   },
   {
    "duration": 5,
    "start_time": "2023-01-12T17:26:35.774Z"
   },
   {
    "duration": 7,
    "start_time": "2023-01-12T17:26:35.780Z"
   },
   {
    "duration": 33,
    "start_time": "2023-01-12T17:26:35.788Z"
   },
   {
    "duration": 8,
    "start_time": "2023-01-12T17:26:35.823Z"
   },
   {
    "duration": 22,
    "start_time": "2023-01-12T17:26:35.832Z"
   },
   {
    "duration": 9,
    "start_time": "2023-01-12T17:26:35.856Z"
   },
   {
    "duration": 7,
    "start_time": "2023-01-12T17:26:35.867Z"
   },
   {
    "duration": 8,
    "start_time": "2023-01-12T17:32:16.916Z"
   },
   {
    "duration": 7,
    "start_time": "2023-01-12T17:32:18.455Z"
   },
   {
    "duration": 4,
    "start_time": "2023-01-12T17:38:15.507Z"
   },
   {
    "duration": 1132,
    "start_time": "2023-01-12T17:38:25.412Z"
   },
   {
    "duration": 27,
    "start_time": "2023-01-12T17:38:26.546Z"
   },
   {
    "duration": 11,
    "start_time": "2023-01-12T17:38:26.575Z"
   },
   {
    "duration": 15,
    "start_time": "2023-01-12T17:38:26.588Z"
   },
   {
    "duration": 10,
    "start_time": "2023-01-12T17:38:26.604Z"
   },
   {
    "duration": 12,
    "start_time": "2023-01-12T17:38:26.615Z"
   },
   {
    "duration": 14,
    "start_time": "2023-01-12T17:38:26.628Z"
   },
   {
    "duration": 19,
    "start_time": "2023-01-12T17:38:26.643Z"
   },
   {
    "duration": 10,
    "start_time": "2023-01-12T17:38:26.663Z"
   },
   {
    "duration": 70,
    "start_time": "2023-01-12T17:38:26.675Z"
   },
   {
    "duration": 7,
    "start_time": "2023-01-12T17:38:26.746Z"
   },
   {
    "duration": 30,
    "start_time": "2023-01-12T17:38:26.755Z"
   },
   {
    "duration": 6,
    "start_time": "2023-01-12T17:38:26.787Z"
   },
   {
    "duration": 12,
    "start_time": "2023-01-12T17:38:26.794Z"
   },
   {
    "duration": 15,
    "start_time": "2023-01-12T17:38:26.807Z"
   },
   {
    "duration": 15,
    "start_time": "2023-01-12T17:38:26.824Z"
   },
   {
    "duration": 11,
    "start_time": "2023-01-12T17:38:26.840Z"
   },
   {
    "duration": 5,
    "start_time": "2023-01-12T17:38:26.853Z"
   },
   {
    "duration": 169,
    "start_time": "2023-01-12T17:38:26.859Z"
   },
   {
    "duration": 119,
    "start_time": "2023-01-12T17:38:27.030Z"
   },
   {
    "duration": 12,
    "start_time": "2023-01-12T17:38:27.150Z"
   },
   {
    "duration": 288,
    "start_time": "2023-01-12T17:38:27.163Z"
   },
   {
    "duration": 192,
    "start_time": "2023-01-12T17:38:27.452Z"
   },
   {
    "duration": 284,
    "start_time": "2023-01-12T17:38:27.646Z"
   },
   {
    "duration": 4,
    "start_time": "2023-01-12T17:38:27.931Z"
   },
   {
    "duration": 24,
    "start_time": "2023-01-12T17:38:27.937Z"
   },
   {
    "duration": 20,
    "start_time": "2023-01-12T17:38:27.963Z"
   },
   {
    "duration": 8,
    "start_time": "2023-01-12T17:38:27.986Z"
   },
   {
    "duration": 218,
    "start_time": "2023-01-12T17:38:27.995Z"
   },
   {
    "duration": 6,
    "start_time": "2023-01-12T17:38:28.221Z"
   },
   {
    "duration": 294,
    "start_time": "2023-01-12T17:38:28.229Z"
   },
   {
    "duration": 131,
    "start_time": "2023-01-12T17:38:28.525Z"
   },
   {
    "duration": 2,
    "start_time": "2023-01-12T17:38:28.658Z"
   },
   {
    "duration": 34,
    "start_time": "2023-01-12T17:38:28.661Z"
   },
   {
    "duration": 145,
    "start_time": "2023-01-12T17:38:28.697Z"
   },
   {
    "duration": 130,
    "start_time": "2023-01-12T17:38:28.844Z"
   },
   {
    "duration": 5,
    "start_time": "2023-01-12T17:38:28.975Z"
   },
   {
    "duration": 183,
    "start_time": "2023-01-12T17:38:28.982Z"
   },
   {
    "duration": 217,
    "start_time": "2023-01-12T17:38:29.167Z"
   },
   {
    "duration": 6,
    "start_time": "2023-01-12T17:38:29.386Z"
   },
   {
    "duration": 34,
    "start_time": "2023-01-12T17:38:29.393Z"
   },
   {
    "duration": 33,
    "start_time": "2023-01-12T17:38:29.428Z"
   },
   {
    "duration": 12,
    "start_time": "2023-01-12T17:38:29.463Z"
   },
   {
    "duration": 28,
    "start_time": "2023-01-12T17:38:29.476Z"
   },
   {
    "duration": 52,
    "start_time": "2023-01-12T17:38:29.505Z"
   },
   {
    "duration": 54,
    "start_time": "2023-01-12T17:38:29.558Z"
   },
   {
    "duration": 31,
    "start_time": "2023-01-12T17:38:29.614Z"
   },
   {
    "duration": 27,
    "start_time": "2023-01-12T17:38:29.647Z"
   },
   {
    "duration": 60,
    "start_time": "2023-01-12T17:38:29.676Z"
   },
   {
    "duration": 79,
    "start_time": "2023-01-12T17:38:29.737Z"
   },
   {
    "duration": 37,
    "start_time": "2023-01-12T17:38:29.818Z"
   },
   {
    "duration": 142,
    "start_time": "2023-01-12T17:38:29.857Z"
   },
   {
    "duration": 6,
    "start_time": "2023-01-12T17:38:30.001Z"
   },
   {
    "duration": 49,
    "start_time": "2023-01-12T17:38:30.008Z"
   },
   {
    "duration": 4,
    "start_time": "2023-01-12T17:38:30.059Z"
   },
   {
    "duration": 18,
    "start_time": "2023-01-12T17:38:30.064Z"
   },
   {
    "duration": 11,
    "start_time": "2023-01-12T17:38:30.084Z"
   },
   {
    "duration": 18,
    "start_time": "2023-01-12T17:38:30.096Z"
   },
   {
    "duration": 9,
    "start_time": "2023-01-12T17:38:30.116Z"
   },
   {
    "duration": 15,
    "start_time": "2023-01-12T17:38:30.127Z"
   },
   {
    "duration": 12,
    "start_time": "2023-01-12T17:38:30.143Z"
   },
   {
    "duration": 14,
    "start_time": "2023-01-12T17:38:30.157Z"
   },
   {
    "duration": 27,
    "start_time": "2023-01-12T17:38:30.173Z"
   },
   {
    "duration": 10,
    "start_time": "2023-01-12T17:38:30.202Z"
   },
   {
    "duration": 18,
    "start_time": "2023-01-12T17:38:30.213Z"
   },
   {
    "duration": 1083,
    "start_time": "2023-01-12T18:11:35.961Z"
   },
   {
    "duration": 28,
    "start_time": "2023-01-12T18:11:37.046Z"
   },
   {
    "duration": 11,
    "start_time": "2023-01-12T18:11:37.076Z"
   },
   {
    "duration": 10,
    "start_time": "2023-01-12T18:11:37.089Z"
   },
   {
    "duration": 12,
    "start_time": "2023-01-12T18:11:37.101Z"
   },
   {
    "duration": 7,
    "start_time": "2023-01-12T18:11:37.115Z"
   },
   {
    "duration": 14,
    "start_time": "2023-01-12T18:11:37.124Z"
   },
   {
    "duration": 18,
    "start_time": "2023-01-12T18:11:37.140Z"
   },
   {
    "duration": 8,
    "start_time": "2023-01-12T18:11:37.160Z"
   },
   {
    "duration": 57,
    "start_time": "2023-01-12T18:11:37.171Z"
   },
   {
    "duration": 8,
    "start_time": "2023-01-12T18:11:37.230Z"
   },
   {
    "duration": 12,
    "start_time": "2023-01-12T18:11:37.240Z"
   },
   {
    "duration": 7,
    "start_time": "2023-01-12T18:11:37.253Z"
   },
   {
    "duration": 15,
    "start_time": "2023-01-12T18:11:37.261Z"
   },
   {
    "duration": 17,
    "start_time": "2023-01-12T18:11:37.277Z"
   },
   {
    "duration": 16,
    "start_time": "2023-01-12T18:11:37.296Z"
   },
   {
    "duration": 15,
    "start_time": "2023-01-12T18:11:37.314Z"
   },
   {
    "duration": 10,
    "start_time": "2023-01-12T18:11:37.330Z"
   },
   {
    "duration": 162,
    "start_time": "2023-01-12T18:11:37.341Z"
   },
   {
    "duration": 135,
    "start_time": "2023-01-12T18:11:37.505Z"
   },
   {
    "duration": 11,
    "start_time": "2023-01-12T18:11:37.641Z"
   },
   {
    "duration": 301,
    "start_time": "2023-01-12T18:11:37.654Z"
   },
   {
    "duration": 215,
    "start_time": "2023-01-12T18:11:37.957Z"
   },
   {
    "duration": 371,
    "start_time": "2023-01-12T18:11:38.174Z"
   },
   {
    "duration": 5,
    "start_time": "2023-01-12T18:11:38.546Z"
   },
   {
    "duration": 38,
    "start_time": "2023-01-12T18:11:38.552Z"
   },
   {
    "duration": 14,
    "start_time": "2023-01-12T18:11:38.592Z"
   },
   {
    "duration": 19,
    "start_time": "2023-01-12T18:11:38.610Z"
   },
   {
    "duration": 205,
    "start_time": "2023-01-12T18:11:38.631Z"
   },
   {
    "duration": 8,
    "start_time": "2023-01-12T18:11:38.838Z"
   },
   {
    "duration": 317,
    "start_time": "2023-01-12T18:11:38.848Z"
   },
   {
    "duration": 137,
    "start_time": "2023-01-12T18:11:39.167Z"
   },
   {
    "duration": 5,
    "start_time": "2023-01-12T18:11:39.306Z"
   },
   {
    "duration": 20,
    "start_time": "2023-01-12T18:11:39.313Z"
   },
   {
    "duration": 141,
    "start_time": "2023-01-12T18:11:39.334Z"
   },
   {
    "duration": 142,
    "start_time": "2023-01-12T18:11:39.476Z"
   },
   {
    "duration": 5,
    "start_time": "2023-01-12T18:11:39.621Z"
   },
   {
    "duration": 161,
    "start_time": "2023-01-12T18:11:39.628Z"
   },
   {
    "duration": 213,
    "start_time": "2023-01-12T18:11:39.791Z"
   },
   {
    "duration": 5,
    "start_time": "2023-01-12T18:11:40.005Z"
   },
   {
    "duration": 4,
    "start_time": "2023-01-12T18:11:40.021Z"
   },
   {
    "duration": 10,
    "start_time": "2023-01-12T18:11:40.027Z"
   },
   {
    "duration": 7,
    "start_time": "2023-01-12T18:11:40.038Z"
   },
   {
    "duration": 12,
    "start_time": "2023-01-12T18:11:40.046Z"
   },
   {
    "duration": 48,
    "start_time": "2023-01-12T18:11:40.060Z"
   },
   {
    "duration": 49,
    "start_time": "2023-01-12T18:11:40.110Z"
   },
   {
    "duration": 16,
    "start_time": "2023-01-12T18:11:40.160Z"
   },
   {
    "duration": 12,
    "start_time": "2023-01-12T18:11:40.177Z"
   },
   {
    "duration": 59,
    "start_time": "2023-01-12T18:11:40.190Z"
   },
   {
    "duration": 49,
    "start_time": "2023-01-12T18:11:40.250Z"
   },
   {
    "duration": 28,
    "start_time": "2023-01-12T18:11:40.300Z"
   },
   {
    "duration": 137,
    "start_time": "2023-01-12T18:11:40.330Z"
   },
   {
    "duration": 5,
    "start_time": "2023-01-12T18:11:40.469Z"
   },
   {
    "duration": 23,
    "start_time": "2023-01-12T18:11:40.475Z"
   },
   {
    "duration": 4,
    "start_time": "2023-01-12T18:11:40.499Z"
   },
   {
    "duration": 8,
    "start_time": "2023-01-12T18:11:40.521Z"
   },
   {
    "duration": 5,
    "start_time": "2023-01-12T18:11:40.531Z"
   },
   {
    "duration": 9,
    "start_time": "2023-01-12T18:11:40.537Z"
   },
   {
    "duration": 10,
    "start_time": "2023-01-12T18:11:40.547Z"
   },
   {
    "duration": 10,
    "start_time": "2023-01-12T18:11:40.559Z"
   },
   {
    "duration": 15,
    "start_time": "2023-01-12T18:11:40.570Z"
   },
   {
    "duration": 10,
    "start_time": "2023-01-12T18:11:40.587Z"
   },
   {
    "duration": 37,
    "start_time": "2023-01-12T18:11:40.599Z"
   },
   {
    "duration": 9,
    "start_time": "2023-01-12T18:11:40.638Z"
   },
   {
    "duration": 8,
    "start_time": "2023-01-12T18:11:40.648Z"
   },
   {
    "duration": 322,
    "start_time": "2023-01-12T18:37:43.487Z"
   },
   {
    "duration": 334,
    "start_time": "2023-01-12T18:37:45.507Z"
   },
   {
    "duration": 1140,
    "start_time": "2023-01-12T18:38:35.278Z"
   },
   {
    "duration": 28,
    "start_time": "2023-01-12T18:38:36.420Z"
   },
   {
    "duration": 11,
    "start_time": "2023-01-12T18:38:36.450Z"
   },
   {
    "duration": 13,
    "start_time": "2023-01-12T18:38:36.464Z"
   },
   {
    "duration": 10,
    "start_time": "2023-01-12T18:38:36.479Z"
   },
   {
    "duration": 11,
    "start_time": "2023-01-12T18:38:36.490Z"
   },
   {
    "duration": 4,
    "start_time": "2023-01-12T18:38:36.503Z"
   },
   {
    "duration": 11,
    "start_time": "2023-01-12T18:38:36.509Z"
   },
   {
    "duration": 8,
    "start_time": "2023-01-12T18:38:36.521Z"
   },
   {
    "duration": 57,
    "start_time": "2023-01-12T18:38:36.531Z"
   },
   {
    "duration": 10,
    "start_time": "2023-01-12T18:38:36.590Z"
   },
   {
    "duration": 17,
    "start_time": "2023-01-12T18:38:36.602Z"
   },
   {
    "duration": 7,
    "start_time": "2023-01-12T18:38:36.621Z"
   },
   {
    "duration": 10,
    "start_time": "2023-01-12T18:38:36.630Z"
   },
   {
    "duration": 16,
    "start_time": "2023-01-12T18:38:36.642Z"
   },
   {
    "duration": 15,
    "start_time": "2023-01-12T18:38:36.660Z"
   },
   {
    "duration": 12,
    "start_time": "2023-01-12T18:38:36.676Z"
   },
   {
    "duration": 5,
    "start_time": "2023-01-12T18:38:36.689Z"
   },
   {
    "duration": 172,
    "start_time": "2023-01-12T18:38:36.696Z"
   },
   {
    "duration": 123,
    "start_time": "2023-01-12T18:38:36.870Z"
   },
   {
    "duration": 28,
    "start_time": "2023-01-12T18:38:36.994Z"
   },
   {
    "duration": 277,
    "start_time": "2023-01-12T18:38:37.023Z"
   },
   {
    "duration": 197,
    "start_time": "2023-01-12T18:38:37.302Z"
   },
   {
    "duration": 345,
    "start_time": "2023-01-12T18:38:37.501Z"
   },
   {
    "duration": 4,
    "start_time": "2023-01-12T18:38:37.847Z"
   },
   {
    "duration": 9,
    "start_time": "2023-01-12T18:38:37.853Z"
   },
   {
    "duration": 10,
    "start_time": "2023-01-12T18:38:37.864Z"
   },
   {
    "duration": 8,
    "start_time": "2023-01-12T18:38:37.878Z"
   },
   {
    "duration": 194,
    "start_time": "2023-01-12T18:38:37.887Z"
   },
   {
    "duration": 7,
    "start_time": "2023-01-12T18:38:38.083Z"
   },
   {
    "duration": 330,
    "start_time": "2023-01-12T18:38:38.091Z"
   },
   {
    "duration": 141,
    "start_time": "2023-01-12T18:38:38.423Z"
   },
   {
    "duration": 3,
    "start_time": "2023-01-12T18:38:38.566Z"
   },
   {
    "duration": 13,
    "start_time": "2023-01-12T18:38:38.571Z"
   },
   {
    "duration": 145,
    "start_time": "2023-01-12T18:38:38.586Z"
   },
   {
    "duration": 155,
    "start_time": "2023-01-12T18:38:38.732Z"
   },
   {
    "duration": 4,
    "start_time": "2023-01-12T18:38:38.889Z"
   },
   {
    "duration": 156,
    "start_time": "2023-01-12T18:38:38.895Z"
   },
   {
    "duration": 219,
    "start_time": "2023-01-12T18:38:39.052Z"
   },
   {
    "duration": 4,
    "start_time": "2023-01-12T18:38:39.273Z"
   },
   {
    "duration": 12,
    "start_time": "2023-01-12T18:38:39.279Z"
   },
   {
    "duration": 9,
    "start_time": "2023-01-12T18:38:39.292Z"
   },
   {
    "duration": 7,
    "start_time": "2023-01-12T18:38:39.303Z"
   },
   {
    "duration": 15,
    "start_time": "2023-01-12T18:38:39.311Z"
   },
   {
    "duration": 46,
    "start_time": "2023-01-12T18:38:39.327Z"
   },
   {
    "duration": 56,
    "start_time": "2023-01-12T18:38:39.375Z"
   },
   {
    "duration": 14,
    "start_time": "2023-01-12T18:38:39.433Z"
   },
   {
    "duration": 12,
    "start_time": "2023-01-12T18:38:39.449Z"
   },
   {
    "duration": 59,
    "start_time": "2023-01-12T18:38:39.462Z"
   },
   {
    "duration": 49,
    "start_time": "2023-01-12T18:38:39.523Z"
   },
   {
    "duration": 22,
    "start_time": "2023-01-12T18:38:39.574Z"
   },
   {
    "duration": 150,
    "start_time": "2023-01-12T18:38:39.597Z"
   },
   {
    "duration": 7,
    "start_time": "2023-01-12T18:38:39.749Z"
   },
   {
    "duration": 24,
    "start_time": "2023-01-12T18:38:39.757Z"
   },
   {
    "duration": 4,
    "start_time": "2023-01-12T18:38:39.783Z"
   },
   {
    "duration": 10,
    "start_time": "2023-01-12T18:38:39.788Z"
   },
   {
    "duration": 26,
    "start_time": "2023-01-12T18:38:39.799Z"
   },
   {
    "duration": 8,
    "start_time": "2023-01-12T18:38:39.827Z"
   },
   {
    "duration": 6,
    "start_time": "2023-01-12T18:38:39.837Z"
   },
   {
    "duration": 5,
    "start_time": "2023-01-12T18:38:39.845Z"
   },
   {
    "duration": 6,
    "start_time": "2023-01-12T18:38:39.851Z"
   },
   {
    "duration": 7,
    "start_time": "2023-01-12T18:38:39.859Z"
   },
   {
    "duration": 25,
    "start_time": "2023-01-12T18:38:39.867Z"
   },
   {
    "duration": 10,
    "start_time": "2023-01-12T18:38:39.920Z"
   },
   {
    "duration": 9,
    "start_time": "2023-01-12T18:38:39.932Z"
   },
   {
    "duration": 293,
    "start_time": "2023-01-12T18:38:39.943Z"
   },
   {
    "duration": 286,
    "start_time": "2023-01-12T18:38:40.238Z"
   },
   {
    "duration": 1112,
    "start_time": "2023-01-12T18:40:19.013Z"
   },
   {
    "duration": 28,
    "start_time": "2023-01-12T18:40:20.127Z"
   },
   {
    "duration": 11,
    "start_time": "2023-01-12T18:40:20.156Z"
   },
   {
    "duration": 18,
    "start_time": "2023-01-12T18:40:20.170Z"
   },
   {
    "duration": 33,
    "start_time": "2023-01-12T18:40:20.189Z"
   },
   {
    "duration": 22,
    "start_time": "2023-01-12T18:40:20.223Z"
   },
   {
    "duration": 7,
    "start_time": "2023-01-12T18:40:20.246Z"
   },
   {
    "duration": 29,
    "start_time": "2023-01-12T18:40:20.254Z"
   },
   {
    "duration": 20,
    "start_time": "2023-01-12T18:40:20.284Z"
   },
   {
    "duration": 81,
    "start_time": "2023-01-12T18:40:20.306Z"
   },
   {
    "duration": 8,
    "start_time": "2023-01-12T18:40:20.389Z"
   },
   {
    "duration": 31,
    "start_time": "2023-01-12T18:40:20.398Z"
   },
   {
    "duration": 13,
    "start_time": "2023-01-12T18:40:20.430Z"
   },
   {
    "duration": 12,
    "start_time": "2023-01-12T18:40:20.445Z"
   },
   {
    "duration": 18,
    "start_time": "2023-01-12T18:40:20.459Z"
   },
   {
    "duration": 25,
    "start_time": "2023-01-12T18:40:20.479Z"
   },
   {
    "duration": 14,
    "start_time": "2023-01-12T18:40:20.505Z"
   },
   {
    "duration": 6,
    "start_time": "2023-01-12T18:40:20.520Z"
   },
   {
    "duration": 177,
    "start_time": "2023-01-12T18:40:20.527Z"
   },
   {
    "duration": 120,
    "start_time": "2023-01-12T18:40:20.706Z"
   },
   {
    "duration": 13,
    "start_time": "2023-01-12T18:40:20.828Z"
   },
   {
    "duration": 278,
    "start_time": "2023-01-12T18:40:20.843Z"
   },
   {
    "duration": 182,
    "start_time": "2023-01-12T18:40:21.123Z"
   },
   {
    "duration": 345,
    "start_time": "2023-01-12T18:40:21.306Z"
   },
   {
    "duration": 4,
    "start_time": "2023-01-12T18:40:21.653Z"
   },
   {
    "duration": 14,
    "start_time": "2023-01-12T18:40:21.659Z"
   },
   {
    "duration": 15,
    "start_time": "2023-01-12T18:40:21.674Z"
   },
   {
    "duration": 13,
    "start_time": "2023-01-12T18:40:21.694Z"
   },
   {
    "duration": 203,
    "start_time": "2023-01-12T18:40:21.708Z"
   },
   {
    "duration": 6,
    "start_time": "2023-01-12T18:40:21.913Z"
   },
   {
    "duration": 312,
    "start_time": "2023-01-12T18:40:21.920Z"
   },
   {
    "duration": 139,
    "start_time": "2023-01-12T18:40:22.234Z"
   },
   {
    "duration": 2,
    "start_time": "2023-01-12T18:40:22.375Z"
   },
   {
    "duration": 10,
    "start_time": "2023-01-12T18:40:22.379Z"
   },
   {
    "duration": 156,
    "start_time": "2023-01-12T18:40:22.391Z"
   },
   {
    "duration": 141,
    "start_time": "2023-01-12T18:40:22.549Z"
   },
   {
    "duration": 4,
    "start_time": "2023-01-12T18:40:22.692Z"
   },
   {
    "duration": 160,
    "start_time": "2023-01-12T18:40:22.698Z"
   },
   {
    "duration": 216,
    "start_time": "2023-01-12T18:40:22.860Z"
   },
   {
    "duration": 5,
    "start_time": "2023-01-12T18:40:23.077Z"
   },
   {
    "duration": 18,
    "start_time": "2023-01-12T18:40:23.083Z"
   },
   {
    "duration": 12,
    "start_time": "2023-01-12T18:40:23.102Z"
   },
   {
    "duration": 5,
    "start_time": "2023-01-12T18:40:23.120Z"
   },
   {
    "duration": 16,
    "start_time": "2023-01-12T18:40:23.126Z"
   },
   {
    "duration": 57,
    "start_time": "2023-01-12T18:40:23.143Z"
   },
   {
    "duration": 50,
    "start_time": "2023-01-12T18:40:23.201Z"
   },
   {
    "duration": 12,
    "start_time": "2023-01-12T18:40:23.253Z"
   },
   {
    "duration": 11,
    "start_time": "2023-01-12T18:40:23.266Z"
   },
   {
    "duration": 65,
    "start_time": "2023-01-12T18:40:23.279Z"
   },
   {
    "duration": 47,
    "start_time": "2023-01-12T18:40:23.345Z"
   },
   {
    "duration": 27,
    "start_time": "2023-01-12T18:40:23.394Z"
   },
   {
    "duration": 145,
    "start_time": "2023-01-12T18:40:23.423Z"
   },
   {
    "duration": 5,
    "start_time": "2023-01-12T18:40:23.570Z"
   },
   {
    "duration": 28,
    "start_time": "2023-01-12T18:40:23.577Z"
   },
   {
    "duration": 4,
    "start_time": "2023-01-12T18:40:23.606Z"
   },
   {
    "duration": 8,
    "start_time": "2023-01-12T18:40:23.621Z"
   },
   {
    "duration": 5,
    "start_time": "2023-01-12T18:40:23.630Z"
   },
   {
    "duration": 8,
    "start_time": "2023-01-12T18:40:23.637Z"
   },
   {
    "duration": 9,
    "start_time": "2023-01-12T18:40:23.646Z"
   },
   {
    "duration": 6,
    "start_time": "2023-01-12T18:40:23.656Z"
   },
   {
    "duration": 6,
    "start_time": "2023-01-12T18:40:23.664Z"
   },
   {
    "duration": 7,
    "start_time": "2023-01-12T18:40:23.672Z"
   },
   {
    "duration": 56,
    "start_time": "2023-01-12T18:40:23.681Z"
   },
   {
    "duration": 10,
    "start_time": "2023-01-12T18:40:23.739Z"
   },
   {
    "duration": 8,
    "start_time": "2023-01-12T18:40:23.751Z"
   },
   {
    "duration": 276,
    "start_time": "2023-01-12T18:40:23.761Z"
   },
   {
    "duration": 286,
    "start_time": "2023-01-12T18:40:24.039Z"
   },
   {
    "duration": 1368,
    "start_time": "2023-01-12T21:03:49.050Z"
   },
   {
    "duration": 61,
    "start_time": "2023-01-12T21:03:50.421Z"
   },
   {
    "duration": 15,
    "start_time": "2023-01-12T21:03:50.484Z"
   },
   {
    "duration": 20,
    "start_time": "2023-01-12T21:03:50.501Z"
   },
   {
    "duration": 8,
    "start_time": "2023-01-12T21:03:50.524Z"
   },
   {
    "duration": 28,
    "start_time": "2023-01-12T21:03:50.534Z"
   },
   {
    "duration": 21,
    "start_time": "2023-01-12T21:03:50.564Z"
   },
   {
    "duration": 19,
    "start_time": "2023-01-12T21:03:50.587Z"
   },
   {
    "duration": 13,
    "start_time": "2023-01-12T21:03:50.608Z"
   },
   {
    "duration": 147,
    "start_time": "2023-01-12T21:03:50.624Z"
   },
   {
    "duration": 13,
    "start_time": "2023-01-12T21:03:50.774Z"
   },
   {
    "duration": 26,
    "start_time": "2023-01-12T21:03:50.789Z"
   },
   {
    "duration": 40,
    "start_time": "2023-01-12T21:03:50.818Z"
   },
   {
    "duration": 27,
    "start_time": "2023-01-12T21:03:50.863Z"
   },
   {
    "duration": 23,
    "start_time": "2023-01-12T21:03:50.893Z"
   },
   {
    "duration": 57,
    "start_time": "2023-01-12T21:03:50.919Z"
   },
   {
    "duration": 54,
    "start_time": "2023-01-12T21:03:50.978Z"
   },
   {
    "duration": 19,
    "start_time": "2023-01-12T21:03:51.034Z"
   },
   {
    "duration": 201,
    "start_time": "2023-01-12T21:03:51.055Z"
   },
   {
    "duration": 178,
    "start_time": "2023-01-12T21:03:51.259Z"
   },
   {
    "duration": 16,
    "start_time": "2023-01-12T21:03:51.439Z"
   },
   {
    "duration": 387,
    "start_time": "2023-01-12T21:03:51.457Z"
   },
   {
    "duration": 230,
    "start_time": "2023-01-12T21:03:51.846Z"
   },
   {
    "duration": 331,
    "start_time": "2023-01-12T21:03:52.078Z"
   },
   {
    "duration": 6,
    "start_time": "2023-01-12T21:03:52.412Z"
   },
   {
    "duration": 19,
    "start_time": "2023-01-12T21:03:52.420Z"
   },
   {
    "duration": 29,
    "start_time": "2023-01-12T21:03:52.442Z"
   },
   {
    "duration": 18,
    "start_time": "2023-01-12T21:03:52.473Z"
   },
   {
    "duration": 298,
    "start_time": "2023-01-12T21:03:52.494Z"
   },
   {
    "duration": 8,
    "start_time": "2023-01-12T21:03:52.795Z"
   },
   {
    "duration": 391,
    "start_time": "2023-01-12T21:03:52.804Z"
   },
   {
    "duration": 206,
    "start_time": "2023-01-12T21:03:53.198Z"
   },
   {
    "duration": 9,
    "start_time": "2023-01-12T21:03:53.406Z"
   },
   {
    "duration": 23,
    "start_time": "2023-01-12T21:03:53.418Z"
   },
   {
    "duration": 157,
    "start_time": "2023-01-12T21:03:53.442Z"
   },
   {
    "duration": 158,
    "start_time": "2023-01-12T21:03:53.600Z"
   },
   {
    "duration": 8,
    "start_time": "2023-01-12T21:03:53.760Z"
   },
   {
    "duration": 181,
    "start_time": "2023-01-12T21:03:53.770Z"
   },
   {
    "duration": 235,
    "start_time": "2023-01-12T21:03:53.953Z"
   },
   {
    "duration": 6,
    "start_time": "2023-01-12T21:03:54.189Z"
   },
   {
    "duration": 6,
    "start_time": "2023-01-12T21:03:54.199Z"
   },
   {
    "duration": 29,
    "start_time": "2023-01-12T21:03:54.207Z"
   },
   {
    "duration": 5,
    "start_time": "2023-01-12T21:03:54.238Z"
   },
   {
    "duration": 11,
    "start_time": "2023-01-12T21:03:54.245Z"
   },
   {
    "duration": 80,
    "start_time": "2023-01-12T21:03:54.258Z"
   },
   {
    "duration": 49,
    "start_time": "2023-01-12T21:03:54.340Z"
   },
   {
    "duration": 17,
    "start_time": "2023-01-12T21:03:54.390Z"
   },
   {
    "duration": 33,
    "start_time": "2023-01-12T21:03:54.408Z"
   },
   {
    "duration": 47,
    "start_time": "2023-01-12T21:03:54.442Z"
   },
   {
    "duration": 70,
    "start_time": "2023-01-12T21:03:54.491Z"
   },
   {
    "duration": 22,
    "start_time": "2023-01-12T21:03:54.562Z"
   },
   {
    "duration": 150,
    "start_time": "2023-01-12T21:03:54.585Z"
   },
   {
    "duration": 6,
    "start_time": "2023-01-12T21:03:54.737Z"
   },
   {
    "duration": 113,
    "start_time": "2023-01-12T21:03:54.745Z"
   },
   {
    "duration": 0,
    "start_time": "2023-01-12T21:03:54.859Z"
   },
   {
    "duration": 0,
    "start_time": "2023-01-12T21:03:54.861Z"
   },
   {
    "duration": 0,
    "start_time": "2023-01-12T21:03:54.861Z"
   },
   {
    "duration": 0,
    "start_time": "2023-01-12T21:03:54.862Z"
   },
   {
    "duration": 0,
    "start_time": "2023-01-12T21:03:54.864Z"
   },
   {
    "duration": 0,
    "start_time": "2023-01-12T21:03:54.865Z"
   },
   {
    "duration": 0,
    "start_time": "2023-01-12T21:03:54.866Z"
   },
   {
    "duration": 0,
    "start_time": "2023-01-12T21:03:54.867Z"
   },
   {
    "duration": 0,
    "start_time": "2023-01-12T21:03:54.868Z"
   },
   {
    "duration": 0,
    "start_time": "2023-01-12T21:03:54.869Z"
   },
   {
    "duration": 0,
    "start_time": "2023-01-12T21:03:54.870Z"
   },
   {
    "duration": 0,
    "start_time": "2023-01-12T21:03:54.870Z"
   },
   {
    "duration": 0,
    "start_time": "2023-01-12T21:03:54.872Z"
   },
   {
    "duration": 1292,
    "start_time": "2023-01-12T21:14:12.803Z"
   },
   {
    "duration": 27,
    "start_time": "2023-01-12T21:14:14.097Z"
   },
   {
    "duration": 15,
    "start_time": "2023-01-12T21:14:14.126Z"
   },
   {
    "duration": 17,
    "start_time": "2023-01-12T21:14:14.144Z"
   },
   {
    "duration": 10,
    "start_time": "2023-01-12T21:14:14.162Z"
   },
   {
    "duration": 10,
    "start_time": "2023-01-12T21:14:14.174Z"
   },
   {
    "duration": 10,
    "start_time": "2023-01-12T21:14:14.186Z"
   },
   {
    "duration": 45,
    "start_time": "2023-01-12T21:14:14.197Z"
   },
   {
    "duration": 17,
    "start_time": "2023-01-12T21:14:14.244Z"
   },
   {
    "duration": 60,
    "start_time": "2023-01-12T21:14:14.264Z"
   },
   {
    "duration": 11,
    "start_time": "2023-01-12T21:14:14.326Z"
   },
   {
    "duration": 34,
    "start_time": "2023-01-12T21:14:14.340Z"
   },
   {
    "duration": 11,
    "start_time": "2023-01-12T21:14:14.376Z"
   },
   {
    "duration": 21,
    "start_time": "2023-01-12T21:14:14.389Z"
   },
   {
    "duration": 21,
    "start_time": "2023-01-12T21:14:14.412Z"
   },
   {
    "duration": 20,
    "start_time": "2023-01-12T21:14:14.434Z"
   },
   {
    "duration": 13,
    "start_time": "2023-01-12T21:14:14.456Z"
   },
   {
    "duration": 17,
    "start_time": "2023-01-12T21:14:14.471Z"
   },
   {
    "duration": 188,
    "start_time": "2023-01-12T21:14:14.490Z"
   },
   {
    "duration": 265,
    "start_time": "2023-01-12T21:14:14.680Z"
   },
   {
    "duration": 16,
    "start_time": "2023-01-12T21:14:14.950Z"
   },
   {
    "duration": 434,
    "start_time": "2023-01-12T21:14:14.968Z"
   },
   {
    "duration": 232,
    "start_time": "2023-01-12T21:14:15.405Z"
   },
   {
    "duration": 393,
    "start_time": "2023-01-12T21:14:15.639Z"
   },
   {
    "duration": 5,
    "start_time": "2023-01-12T21:14:16.036Z"
   },
   {
    "duration": 20,
    "start_time": "2023-01-12T21:14:16.043Z"
   },
   {
    "duration": 17,
    "start_time": "2023-01-12T21:14:16.065Z"
   },
   {
    "duration": 8,
    "start_time": "2023-01-12T21:14:16.087Z"
   },
   {
    "duration": 225,
    "start_time": "2023-01-12T21:14:16.098Z"
   },
   {
    "duration": 14,
    "start_time": "2023-01-12T21:14:16.325Z"
   },
   {
    "duration": 350,
    "start_time": "2023-01-12T21:14:16.342Z"
   },
   {
    "duration": 186,
    "start_time": "2023-01-12T21:14:16.695Z"
   },
   {
    "duration": 5,
    "start_time": "2023-01-12T21:14:16.883Z"
   },
   {
    "duration": 15,
    "start_time": "2023-01-12T21:14:16.891Z"
   },
   {
    "duration": 171,
    "start_time": "2023-01-12T21:14:16.908Z"
   },
   {
    "duration": 234,
    "start_time": "2023-01-12T21:14:17.081Z"
   },
   {
    "duration": 7,
    "start_time": "2023-01-12T21:14:17.317Z"
   },
   {
    "duration": 226,
    "start_time": "2023-01-12T21:14:17.336Z"
   },
   {
    "duration": 250,
    "start_time": "2023-01-12T21:14:17.564Z"
   },
   {
    "duration": 6,
    "start_time": "2023-01-12T21:14:17.816Z"
   },
   {
    "duration": 33,
    "start_time": "2023-01-12T21:14:17.823Z"
   },
   {
    "duration": 15,
    "start_time": "2023-01-12T21:14:17.859Z"
   },
   {
    "duration": 7,
    "start_time": "2023-01-12T21:14:17.876Z"
   },
   {
    "duration": 13,
    "start_time": "2023-01-12T21:14:17.885Z"
   },
   {
    "duration": 61,
    "start_time": "2023-01-12T21:14:17.899Z"
   },
   {
    "duration": 57,
    "start_time": "2023-01-12T21:14:17.962Z"
   },
   {
    "duration": 35,
    "start_time": "2023-01-12T21:14:18.022Z"
   },
   {
    "duration": 30,
    "start_time": "2023-01-12T21:14:18.060Z"
   },
   {
    "duration": 66,
    "start_time": "2023-01-12T21:14:18.092Z"
   },
   {
    "duration": 53,
    "start_time": "2023-01-12T21:14:18.160Z"
   },
   {
    "duration": 50,
    "start_time": "2023-01-12T21:14:18.216Z"
   },
   {
    "duration": 157,
    "start_time": "2023-01-12T21:14:18.269Z"
   },
   {
    "duration": 12,
    "start_time": "2023-01-12T21:14:18.428Z"
   },
   {
    "duration": 62,
    "start_time": "2023-01-12T21:14:18.441Z"
   },
   {
    "duration": 5,
    "start_time": "2023-01-12T21:14:18.505Z"
   },
   {
    "duration": 18,
    "start_time": "2023-01-12T21:14:18.512Z"
   },
   {
    "duration": 9,
    "start_time": "2023-01-12T21:14:18.536Z"
   },
   {
    "duration": 19,
    "start_time": "2023-01-12T21:14:18.548Z"
   },
   {
    "duration": 8,
    "start_time": "2023-01-12T21:14:18.570Z"
   },
   {
    "duration": 9,
    "start_time": "2023-01-12T21:14:18.581Z"
   },
   {
    "duration": 15,
    "start_time": "2023-01-12T21:14:18.593Z"
   },
   {
    "duration": 35,
    "start_time": "2023-01-12T21:14:18.609Z"
   },
   {
    "duration": 52,
    "start_time": "2023-01-12T21:14:18.647Z"
   },
   {
    "duration": 12,
    "start_time": "2023-01-12T21:14:18.700Z"
   },
   {
    "duration": 14,
    "start_time": "2023-01-12T21:14:18.714Z"
   },
   {
    "duration": 390,
    "start_time": "2023-01-12T21:14:18.730Z"
   },
   {
    "duration": 365,
    "start_time": "2023-01-12T21:14:19.122Z"
   },
   {
    "duration": 43,
    "start_time": "2023-01-14T06:45:11.436Z"
   },
   {
    "duration": 1412,
    "start_time": "2023-01-14T06:45:16.061Z"
   },
   {
    "duration": 60,
    "start_time": "2023-01-14T06:45:17.475Z"
   },
   {
    "duration": 14,
    "start_time": "2023-01-14T06:45:17.537Z"
   },
   {
    "duration": 13,
    "start_time": "2023-01-14T06:45:17.554Z"
   },
   {
    "duration": 12,
    "start_time": "2023-01-14T06:45:17.568Z"
   },
   {
    "duration": 5,
    "start_time": "2023-01-14T06:45:17.582Z"
   },
   {
    "duration": 5,
    "start_time": "2023-01-14T06:45:17.589Z"
   },
   {
    "duration": 21,
    "start_time": "2023-01-14T06:45:17.596Z"
   },
   {
    "duration": 11,
    "start_time": "2023-01-14T06:45:17.619Z"
   },
   {
    "duration": 133,
    "start_time": "2023-01-14T06:45:17.633Z"
   },
   {
    "duration": 8,
    "start_time": "2023-01-14T06:45:17.767Z"
   },
   {
    "duration": 14,
    "start_time": "2023-01-14T06:45:17.778Z"
   },
   {
    "duration": 6,
    "start_time": "2023-01-14T06:45:17.794Z"
   },
   {
    "duration": 9,
    "start_time": "2023-01-14T06:45:17.801Z"
   },
   {
    "duration": 11,
    "start_time": "2023-01-14T06:45:17.812Z"
   },
   {
    "duration": 15,
    "start_time": "2023-01-14T06:45:17.825Z"
   },
   {
    "duration": 11,
    "start_time": "2023-01-14T06:45:17.842Z"
   },
   {
    "duration": 5,
    "start_time": "2023-01-14T06:45:17.854Z"
   },
   {
    "duration": 175,
    "start_time": "2023-01-14T06:45:17.861Z"
   },
   {
    "duration": 133,
    "start_time": "2023-01-14T06:45:18.037Z"
   },
   {
    "duration": 15,
    "start_time": "2023-01-14T06:45:18.173Z"
   },
   {
    "duration": 273,
    "start_time": "2023-01-14T06:45:18.189Z"
   },
   {
    "duration": 199,
    "start_time": "2023-01-14T06:45:18.464Z"
   },
   {
    "duration": 385,
    "start_time": "2023-01-14T06:45:18.664Z"
   },
   {
    "duration": 5,
    "start_time": "2023-01-14T06:45:19.050Z"
   },
   {
    "duration": 16,
    "start_time": "2023-01-14T06:45:19.056Z"
   },
   {
    "duration": 12,
    "start_time": "2023-01-14T06:45:19.074Z"
   },
   {
    "duration": 4,
    "start_time": "2023-01-14T06:45:19.092Z"
   },
   {
    "duration": 256,
    "start_time": "2023-01-14T06:45:19.097Z"
   },
   {
    "duration": 7,
    "start_time": "2023-01-14T06:45:19.354Z"
   },
   {
    "duration": 270,
    "start_time": "2023-01-14T06:45:19.363Z"
   },
   {
    "duration": 125,
    "start_time": "2023-01-14T06:45:19.635Z"
   },
   {
    "duration": 3,
    "start_time": "2023-01-14T06:45:19.761Z"
   },
   {
    "duration": 11,
    "start_time": "2023-01-14T06:45:19.766Z"
   },
   {
    "duration": 145,
    "start_time": "2023-01-14T06:45:19.779Z"
   },
   {
    "duration": 139,
    "start_time": "2023-01-14T06:45:19.926Z"
   },
   {
    "duration": 5,
    "start_time": "2023-01-14T06:45:20.067Z"
   },
   {
    "duration": 165,
    "start_time": "2023-01-14T06:45:20.074Z"
   },
   {
    "duration": 219,
    "start_time": "2023-01-14T06:45:20.240Z"
   },
   {
    "duration": 4,
    "start_time": "2023-01-14T06:45:20.461Z"
   },
   {
    "duration": 7,
    "start_time": "2023-01-14T06:45:20.466Z"
   },
   {
    "duration": 9,
    "start_time": "2023-01-14T06:45:20.474Z"
   },
   {
    "duration": 7,
    "start_time": "2023-01-14T06:45:20.485Z"
   },
   {
    "duration": 27,
    "start_time": "2023-01-14T06:45:20.493Z"
   },
   {
    "duration": 46,
    "start_time": "2023-01-14T06:45:20.521Z"
   },
   {
    "duration": 55,
    "start_time": "2023-01-14T06:45:20.568Z"
   },
   {
    "duration": 14,
    "start_time": "2023-01-14T06:45:20.625Z"
   },
   {
    "duration": 12,
    "start_time": "2023-01-14T06:45:20.641Z"
   },
   {
    "duration": 62,
    "start_time": "2023-01-14T06:45:20.655Z"
   },
   {
    "duration": 48,
    "start_time": "2023-01-14T06:45:20.719Z"
   },
   {
    "duration": 20,
    "start_time": "2023-01-14T06:45:20.769Z"
   },
   {
    "duration": 124,
    "start_time": "2023-01-14T06:45:20.791Z"
   },
   {
    "duration": 5,
    "start_time": "2023-01-14T06:45:20.917Z"
   },
   {
    "duration": 31,
    "start_time": "2023-01-14T06:45:20.923Z"
   },
   {
    "duration": 3,
    "start_time": "2023-01-14T06:45:20.956Z"
   },
   {
    "duration": 18,
    "start_time": "2023-01-14T06:45:20.961Z"
   },
   {
    "duration": 6,
    "start_time": "2023-01-14T06:45:20.981Z"
   },
   {
    "duration": 11,
    "start_time": "2023-01-14T06:45:20.988Z"
   },
   {
    "duration": 7,
    "start_time": "2023-01-14T06:45:21.016Z"
   },
   {
    "duration": 8,
    "start_time": "2023-01-14T06:45:21.025Z"
   },
   {
    "duration": 8,
    "start_time": "2023-01-14T06:45:21.035Z"
   },
   {
    "duration": 9,
    "start_time": "2023-01-14T06:45:21.044Z"
   },
   {
    "duration": 42,
    "start_time": "2023-01-14T06:45:21.055Z"
   },
   {
    "duration": 10,
    "start_time": "2023-01-14T06:45:21.115Z"
   },
   {
    "duration": 9,
    "start_time": "2023-01-14T06:45:21.127Z"
   },
   {
    "duration": 303,
    "start_time": "2023-01-14T06:45:21.138Z"
   },
   {
    "duration": 289,
    "start_time": "2023-01-14T06:45:21.443Z"
   },
   {
    "duration": 21,
    "start_time": "2023-01-14T06:45:47.675Z"
   },
   {
    "duration": 15,
    "start_time": "2023-01-14T06:46:08.083Z"
   },
   {
    "duration": 14,
    "start_time": "2023-01-14T06:46:17.654Z"
   },
   {
    "duration": 1137,
    "start_time": "2023-01-14T06:46:24.091Z"
   },
   {
    "duration": 27,
    "start_time": "2023-01-14T06:46:25.230Z"
   },
   {
    "duration": 12,
    "start_time": "2023-01-14T06:46:25.259Z"
   },
   {
    "duration": 10,
    "start_time": "2023-01-14T06:46:25.273Z"
   },
   {
    "duration": 10,
    "start_time": "2023-01-14T06:46:25.285Z"
   },
   {
    "duration": 9,
    "start_time": "2023-01-14T06:46:25.296Z"
   },
   {
    "duration": 12,
    "start_time": "2023-01-14T06:46:25.307Z"
   },
   {
    "duration": 15,
    "start_time": "2023-01-14T06:46:25.320Z"
   },
   {
    "duration": 8,
    "start_time": "2023-01-14T06:46:25.336Z"
   },
   {
    "duration": 49,
    "start_time": "2023-01-14T06:46:25.346Z"
   },
   {
    "duration": 7,
    "start_time": "2023-01-14T06:46:25.397Z"
   },
   {
    "duration": 17,
    "start_time": "2023-01-14T06:46:25.405Z"
   },
   {
    "duration": 6,
    "start_time": "2023-01-14T06:46:25.424Z"
   },
   {
    "duration": 10,
    "start_time": "2023-01-14T06:46:25.432Z"
   },
   {
    "duration": 16,
    "start_time": "2023-01-14T06:46:25.443Z"
   },
   {
    "duration": 13,
    "start_time": "2023-01-14T06:46:25.461Z"
   },
   {
    "duration": 12,
    "start_time": "2023-01-14T06:46:25.475Z"
   },
   {
    "duration": 5,
    "start_time": "2023-01-14T06:46:25.488Z"
   },
   {
    "duration": 180,
    "start_time": "2023-01-14T06:46:25.495Z"
   },
   {
    "duration": 127,
    "start_time": "2023-01-14T06:46:25.677Z"
   },
   {
    "duration": 11,
    "start_time": "2023-01-14T06:46:25.816Z"
   },
   {
    "duration": 290,
    "start_time": "2023-01-14T06:46:25.829Z"
   },
   {
    "duration": 251,
    "start_time": "2023-01-14T06:46:26.120Z"
   },
   {
    "duration": 346,
    "start_time": "2023-01-14T06:46:26.373Z"
   },
   {
    "duration": 4,
    "start_time": "2023-01-14T06:46:26.720Z"
   },
   {
    "duration": 8,
    "start_time": "2023-01-14T06:46:26.725Z"
   },
   {
    "duration": 4,
    "start_time": "2023-01-14T06:46:26.735Z"
   },
   {
    "duration": 2,
    "start_time": "2023-01-14T06:46:26.743Z"
   },
   {
    "duration": 213,
    "start_time": "2023-01-14T06:46:26.747Z"
   },
   {
    "duration": 6,
    "start_time": "2023-01-14T06:46:26.962Z"
   },
   {
    "duration": 300,
    "start_time": "2023-01-14T06:46:26.970Z"
   },
   {
    "duration": 145,
    "start_time": "2023-01-14T06:46:27.273Z"
   },
   {
    "duration": 3,
    "start_time": "2023-01-14T06:46:27.419Z"
   },
   {
    "duration": 9,
    "start_time": "2023-01-14T06:46:27.423Z"
   },
   {
    "duration": 146,
    "start_time": "2023-01-14T06:46:27.433Z"
   },
   {
    "duration": 140,
    "start_time": "2023-01-14T06:46:27.581Z"
   },
   {
    "duration": 4,
    "start_time": "2023-01-14T06:46:27.723Z"
   },
   {
    "duration": 166,
    "start_time": "2023-01-14T06:46:27.729Z"
   },
   {
    "duration": 230,
    "start_time": "2023-01-14T06:46:27.896Z"
   },
   {
    "duration": 5,
    "start_time": "2023-01-14T06:46:28.128Z"
   },
   {
    "duration": 9,
    "start_time": "2023-01-14T06:46:28.135Z"
   },
   {
    "duration": 9,
    "start_time": "2023-01-14T06:46:28.145Z"
   },
   {
    "duration": 7,
    "start_time": "2023-01-14T06:46:28.156Z"
   },
   {
    "duration": 16,
    "start_time": "2023-01-14T06:46:28.165Z"
   },
   {
    "duration": 61,
    "start_time": "2023-01-14T06:46:28.182Z"
   },
   {
    "duration": 45,
    "start_time": "2023-01-14T06:46:28.245Z"
   },
   {
    "duration": 15,
    "start_time": "2023-01-14T06:46:28.292Z"
   },
   {
    "duration": 14,
    "start_time": "2023-01-14T06:46:28.315Z"
   },
   {
    "duration": 48,
    "start_time": "2023-01-14T06:46:28.331Z"
   },
   {
    "duration": 67,
    "start_time": "2023-01-14T06:46:28.381Z"
   },
   {
    "duration": 21,
    "start_time": "2023-01-14T06:46:28.449Z"
   },
   {
    "duration": 158,
    "start_time": "2023-01-14T06:46:28.471Z"
   },
   {
    "duration": 6,
    "start_time": "2023-01-14T06:46:28.631Z"
   },
   {
    "duration": 27,
    "start_time": "2023-01-14T06:46:28.638Z"
   },
   {
    "duration": 5,
    "start_time": "2023-01-14T06:46:28.666Z"
   },
   {
    "duration": 8,
    "start_time": "2023-01-14T06:46:28.672Z"
   },
   {
    "duration": 5,
    "start_time": "2023-01-14T06:46:28.683Z"
   },
   {
    "duration": 7,
    "start_time": "2023-01-14T06:46:28.715Z"
   },
   {
    "duration": 6,
    "start_time": "2023-01-14T06:46:28.724Z"
   },
   {
    "duration": 5,
    "start_time": "2023-01-14T06:46:28.731Z"
   },
   {
    "duration": 6,
    "start_time": "2023-01-14T06:46:28.738Z"
   },
   {
    "duration": 9,
    "start_time": "2023-01-14T06:46:28.745Z"
   },
   {
    "duration": 23,
    "start_time": "2023-01-14T06:46:28.755Z"
   },
   {
    "duration": 40,
    "start_time": "2023-01-14T06:46:28.779Z"
   },
   {
    "duration": 7,
    "start_time": "2023-01-14T06:46:28.821Z"
   },
   {
    "duration": 319,
    "start_time": "2023-01-14T06:46:28.829Z"
   },
   {
    "duration": 279,
    "start_time": "2023-01-14T06:46:29.150Z"
   },
   {
    "duration": 108,
    "start_time": "2023-01-14T06:50:06.700Z"
   },
   {
    "duration": 11,
    "start_time": "2023-01-14T06:50:12.126Z"
   },
   {
    "duration": 9,
    "start_time": "2023-01-14T06:54:09.406Z"
   },
   {
    "duration": 2,
    "start_time": "2023-01-14T06:54:20.818Z"
   },
   {
    "duration": 13,
    "start_time": "2023-01-14T06:54:28.844Z"
   },
   {
    "duration": 15,
    "start_time": "2023-01-14T06:55:42.457Z"
   },
   {
    "duration": 1055,
    "start_time": "2023-01-14T06:55:52.664Z"
   },
   {
    "duration": 27,
    "start_time": "2023-01-14T06:55:53.720Z"
   },
   {
    "duration": 10,
    "start_time": "2023-01-14T06:55:53.748Z"
   },
   {
    "duration": 12,
    "start_time": "2023-01-14T06:55:53.760Z"
   },
   {
    "duration": 14,
    "start_time": "2023-01-14T06:55:53.773Z"
   },
   {
    "duration": 8,
    "start_time": "2023-01-14T06:55:53.789Z"
   },
   {
    "duration": 10,
    "start_time": "2023-01-14T06:55:53.799Z"
   },
   {
    "duration": 11,
    "start_time": "2023-01-14T06:55:53.811Z"
   },
   {
    "duration": 10,
    "start_time": "2023-01-14T06:55:53.824Z"
   },
   {
    "duration": 65,
    "start_time": "2023-01-14T06:55:53.836Z"
   },
   {
    "duration": 8,
    "start_time": "2023-01-14T06:55:53.903Z"
   },
   {
    "duration": 13,
    "start_time": "2023-01-14T06:55:53.912Z"
   },
   {
    "duration": 3,
    "start_time": "2023-01-14T06:55:53.927Z"
   },
   {
    "duration": 22,
    "start_time": "2023-01-14T06:55:53.932Z"
   },
   {
    "duration": 23,
    "start_time": "2023-01-14T06:55:53.956Z"
   },
   {
    "duration": 13,
    "start_time": "2023-01-14T06:55:53.981Z"
   },
   {
    "duration": 10,
    "start_time": "2023-01-14T06:55:53.996Z"
   },
   {
    "duration": 5,
    "start_time": "2023-01-14T06:55:54.008Z"
   },
   {
    "duration": 172,
    "start_time": "2023-01-14T06:55:54.015Z"
   },
   {
    "duration": 150,
    "start_time": "2023-01-14T06:55:54.189Z"
   },
   {
    "duration": 12,
    "start_time": "2023-01-14T06:55:54.341Z"
   },
   {
    "duration": 269,
    "start_time": "2023-01-14T06:55:54.355Z"
   },
   {
    "duration": 201,
    "start_time": "2023-01-14T06:55:54.626Z"
   },
   {
    "duration": 298,
    "start_time": "2023-01-14T06:55:54.829Z"
   },
   {
    "duration": 5,
    "start_time": "2023-01-14T06:55:55.129Z"
   },
   {
    "duration": 8,
    "start_time": "2023-01-14T06:55:55.135Z"
   },
   {
    "duration": 6,
    "start_time": "2023-01-14T06:55:55.144Z"
   },
   {
    "duration": 3,
    "start_time": "2023-01-14T06:55:55.153Z"
   },
   {
    "duration": 206,
    "start_time": "2023-01-14T06:55:55.158Z"
   },
   {
    "duration": 6,
    "start_time": "2023-01-14T06:55:55.366Z"
   },
   {
    "duration": 318,
    "start_time": "2023-01-14T06:55:55.374Z"
   },
   {
    "duration": 121,
    "start_time": "2023-01-14T06:55:55.694Z"
   },
   {
    "duration": 3,
    "start_time": "2023-01-14T06:55:55.816Z"
   },
   {
    "duration": 9,
    "start_time": "2023-01-14T06:55:55.820Z"
   },
   {
    "duration": 151,
    "start_time": "2023-01-14T06:55:55.831Z"
   },
   {
    "duration": 140,
    "start_time": "2023-01-14T06:55:55.984Z"
   },
   {
    "duration": 5,
    "start_time": "2023-01-14T06:55:56.125Z"
   },
   {
    "duration": 177,
    "start_time": "2023-01-14T06:55:56.132Z"
   },
   {
    "duration": 243,
    "start_time": "2023-01-14T06:55:56.316Z"
   },
   {
    "duration": 5,
    "start_time": "2023-01-14T06:55:56.561Z"
   },
   {
    "duration": 10,
    "start_time": "2023-01-14T06:55:56.567Z"
   },
   {
    "duration": 8,
    "start_time": "2023-01-14T06:55:56.579Z"
   },
   {
    "duration": 6,
    "start_time": "2023-01-14T06:55:56.589Z"
   },
   {
    "duration": 22,
    "start_time": "2023-01-14T06:55:56.596Z"
   },
   {
    "duration": 44,
    "start_time": "2023-01-14T06:55:56.620Z"
   },
   {
    "duration": 57,
    "start_time": "2023-01-14T06:55:56.666Z"
   },
   {
    "duration": 21,
    "start_time": "2023-01-14T06:55:56.725Z"
   },
   {
    "duration": 14,
    "start_time": "2023-01-14T06:55:56.748Z"
   },
   {
    "duration": 58,
    "start_time": "2023-01-14T06:55:56.763Z"
   },
   {
    "duration": 47,
    "start_time": "2023-01-14T06:55:56.823Z"
   },
   {
    "duration": 21,
    "start_time": "2023-01-14T06:55:56.872Z"
   },
   {
    "duration": 149,
    "start_time": "2023-01-14T06:55:56.895Z"
   },
   {
    "duration": 7,
    "start_time": "2023-01-14T06:55:57.045Z"
   },
   {
    "duration": 25,
    "start_time": "2023-01-14T06:55:57.053Z"
   },
   {
    "duration": 4,
    "start_time": "2023-01-14T06:55:57.079Z"
   },
   {
    "duration": 32,
    "start_time": "2023-01-14T06:55:57.085Z"
   },
   {
    "duration": 6,
    "start_time": "2023-01-14T06:55:57.119Z"
   },
   {
    "duration": 7,
    "start_time": "2023-01-14T06:55:57.127Z"
   },
   {
    "duration": 6,
    "start_time": "2023-01-14T06:55:57.136Z"
   },
   {
    "duration": 8,
    "start_time": "2023-01-14T06:55:57.144Z"
   },
   {
    "duration": 20,
    "start_time": "2023-01-14T06:55:57.153Z"
   },
   {
    "duration": 10,
    "start_time": "2023-01-14T06:55:57.174Z"
   },
   {
    "duration": 39,
    "start_time": "2023-01-14T06:55:57.186Z"
   },
   {
    "duration": 11,
    "start_time": "2023-01-14T06:55:57.226Z"
   },
   {
    "duration": 9,
    "start_time": "2023-01-14T06:55:57.239Z"
   },
   {
    "duration": 293,
    "start_time": "2023-01-14T06:55:57.250Z"
   },
   {
    "duration": 296,
    "start_time": "2023-01-14T06:55:57.545Z"
   },
   {
    "duration": 770,
    "start_time": "2023-01-14T06:57:42.397Z"
   },
   {
    "duration": 761,
    "start_time": "2023-01-14T06:57:51.360Z"
   },
   {
    "duration": 700,
    "start_time": "2023-01-14T06:58:20.853Z"
   },
   {
    "duration": 1131,
    "start_time": "2023-01-14T06:58:38.296Z"
   },
   {
    "duration": 27,
    "start_time": "2023-01-14T06:58:39.429Z"
   },
   {
    "duration": 10,
    "start_time": "2023-01-14T06:58:39.457Z"
   },
   {
    "duration": 11,
    "start_time": "2023-01-14T06:58:39.469Z"
   },
   {
    "duration": 8,
    "start_time": "2023-01-14T06:58:39.481Z"
   },
   {
    "duration": 8,
    "start_time": "2023-01-14T06:58:39.490Z"
   },
   {
    "duration": 5,
    "start_time": "2023-01-14T06:58:39.499Z"
   },
   {
    "duration": 16,
    "start_time": "2023-01-14T06:58:39.505Z"
   },
   {
    "duration": 7,
    "start_time": "2023-01-14T06:58:39.523Z"
   },
   {
    "duration": 54,
    "start_time": "2023-01-14T06:58:39.532Z"
   },
   {
    "duration": 7,
    "start_time": "2023-01-14T06:58:39.587Z"
   },
   {
    "duration": 13,
    "start_time": "2023-01-14T06:58:39.596Z"
   },
   {
    "duration": 9,
    "start_time": "2023-01-14T06:58:39.610Z"
   },
   {
    "duration": 11,
    "start_time": "2023-01-14T06:58:39.621Z"
   },
   {
    "duration": 16,
    "start_time": "2023-01-14T06:58:39.633Z"
   },
   {
    "duration": 15,
    "start_time": "2023-01-14T06:58:39.650Z"
   },
   {
    "duration": 16,
    "start_time": "2023-01-14T06:58:39.666Z"
   },
   {
    "duration": 4,
    "start_time": "2023-01-14T06:58:39.684Z"
   },
   {
    "duration": 171,
    "start_time": "2023-01-14T06:58:39.690Z"
   },
   {
    "duration": 127,
    "start_time": "2023-01-14T06:58:39.863Z"
   },
   {
    "duration": 11,
    "start_time": "2023-01-14T06:58:39.991Z"
   },
   {
    "duration": 272,
    "start_time": "2023-01-14T06:58:40.016Z"
   },
   {
    "duration": 203,
    "start_time": "2023-01-14T06:58:40.289Z"
   },
   {
    "duration": 325,
    "start_time": "2023-01-14T06:58:40.493Z"
   },
   {
    "duration": 5,
    "start_time": "2023-01-14T06:58:40.819Z"
   },
   {
    "duration": 11,
    "start_time": "2023-01-14T06:58:40.825Z"
   },
   {
    "duration": 11,
    "start_time": "2023-01-14T06:58:40.838Z"
   },
   {
    "duration": 7,
    "start_time": "2023-01-14T06:58:40.853Z"
   },
   {
    "duration": 214,
    "start_time": "2023-01-14T06:58:40.861Z"
   },
   {
    "duration": 6,
    "start_time": "2023-01-14T06:58:41.077Z"
   },
   {
    "duration": 337,
    "start_time": "2023-01-14T06:58:41.085Z"
   },
   {
    "duration": 143,
    "start_time": "2023-01-14T06:58:41.423Z"
   },
   {
    "duration": 3,
    "start_time": "2023-01-14T06:58:41.568Z"
   },
   {
    "duration": 11,
    "start_time": "2023-01-14T06:58:41.572Z"
   },
   {
    "duration": 173,
    "start_time": "2023-01-14T06:58:41.585Z"
   },
   {
    "duration": 153,
    "start_time": "2023-01-14T06:58:41.759Z"
   },
   {
    "duration": 6,
    "start_time": "2023-01-14T06:58:41.916Z"
   },
   {
    "duration": 197,
    "start_time": "2023-01-14T06:58:41.924Z"
   },
   {
    "duration": 228,
    "start_time": "2023-01-14T06:58:42.122Z"
   },
   {
    "duration": 6,
    "start_time": "2023-01-14T06:58:42.352Z"
   },
   {
    "duration": 13,
    "start_time": "2023-01-14T06:58:42.359Z"
   },
   {
    "duration": 11,
    "start_time": "2023-01-14T06:58:42.374Z"
   },
   {
    "duration": 8,
    "start_time": "2023-01-14T06:58:42.387Z"
   },
   {
    "duration": 19,
    "start_time": "2023-01-14T06:58:42.397Z"
   },
   {
    "duration": 135,
    "start_time": "2023-01-14T06:58:42.418Z"
   },
   {
    "duration": 61,
    "start_time": "2023-01-14T06:58:42.555Z"
   },
   {
    "duration": 16,
    "start_time": "2023-01-14T06:58:42.618Z"
   },
   {
    "duration": 19,
    "start_time": "2023-01-14T06:58:42.635Z"
   },
   {
    "duration": 48,
    "start_time": "2023-01-14T06:58:42.656Z"
   },
   {
    "duration": 56,
    "start_time": "2023-01-14T06:58:42.705Z"
   },
   {
    "duration": 28,
    "start_time": "2023-01-14T06:58:42.763Z"
   },
   {
    "duration": 131,
    "start_time": "2023-01-14T06:58:42.792Z"
   },
   {
    "duration": 5,
    "start_time": "2023-01-14T06:58:42.925Z"
   },
   {
    "duration": 26,
    "start_time": "2023-01-14T06:58:42.931Z"
   },
   {
    "duration": 3,
    "start_time": "2023-01-14T06:58:42.959Z"
   },
   {
    "duration": 15,
    "start_time": "2023-01-14T06:58:42.963Z"
   },
   {
    "duration": 7,
    "start_time": "2023-01-14T06:58:42.979Z"
   },
   {
    "duration": 28,
    "start_time": "2023-01-14T06:58:42.987Z"
   },
   {
    "duration": 6,
    "start_time": "2023-01-14T06:58:43.017Z"
   },
   {
    "duration": 12,
    "start_time": "2023-01-14T06:58:43.024Z"
   },
   {
    "duration": 8,
    "start_time": "2023-01-14T06:58:43.038Z"
   },
   {
    "duration": 10,
    "start_time": "2023-01-14T06:58:43.047Z"
   },
   {
    "duration": 29,
    "start_time": "2023-01-14T06:58:43.059Z"
   },
   {
    "duration": 9,
    "start_time": "2023-01-14T06:58:43.090Z"
   },
   {
    "duration": 21,
    "start_time": "2023-01-14T06:58:43.100Z"
   },
   {
    "duration": 313,
    "start_time": "2023-01-14T06:58:43.123Z"
   },
   {
    "duration": 300,
    "start_time": "2023-01-14T06:58:43.437Z"
   },
   {
    "duration": 860,
    "start_time": "2023-01-14T06:59:31.814Z"
   },
   {
    "duration": 928,
    "start_time": "2023-01-14T07:00:18.780Z"
   },
   {
    "duration": 1109,
    "start_time": "2023-01-14T07:00:24.123Z"
   },
   {
    "duration": 27,
    "start_time": "2023-01-14T07:00:25.234Z"
   },
   {
    "duration": 11,
    "start_time": "2023-01-14T07:00:25.264Z"
   },
   {
    "duration": 12,
    "start_time": "2023-01-14T07:00:25.277Z"
   },
   {
    "duration": 8,
    "start_time": "2023-01-14T07:00:25.292Z"
   },
   {
    "duration": 7,
    "start_time": "2023-01-14T07:00:25.302Z"
   },
   {
    "duration": 6,
    "start_time": "2023-01-14T07:00:25.310Z"
   },
   {
    "duration": 11,
    "start_time": "2023-01-14T07:00:25.318Z"
   },
   {
    "duration": 8,
    "start_time": "2023-01-14T07:00:25.331Z"
   },
   {
    "duration": 53,
    "start_time": "2023-01-14T07:00:25.342Z"
   },
   {
    "duration": 7,
    "start_time": "2023-01-14T07:00:25.396Z"
   },
   {
    "duration": 12,
    "start_time": "2023-01-14T07:00:25.405Z"
   },
   {
    "duration": 6,
    "start_time": "2023-01-14T07:00:25.418Z"
   },
   {
    "duration": 9,
    "start_time": "2023-01-14T07:00:25.426Z"
   },
   {
    "duration": 10,
    "start_time": "2023-01-14T07:00:25.437Z"
   },
   {
    "duration": 15,
    "start_time": "2023-01-14T07:00:25.449Z"
   },
   {
    "duration": 11,
    "start_time": "2023-01-14T07:00:25.466Z"
   },
   {
    "duration": 6,
    "start_time": "2023-01-14T07:00:25.479Z"
   },
   {
    "duration": 175,
    "start_time": "2023-01-14T07:00:25.487Z"
   },
   {
    "duration": 120,
    "start_time": "2023-01-14T07:00:25.664Z"
   },
   {
    "duration": 13,
    "start_time": "2023-01-14T07:00:25.785Z"
   },
   {
    "duration": 275,
    "start_time": "2023-01-14T07:00:25.800Z"
   },
   {
    "duration": 256,
    "start_time": "2023-01-14T07:00:26.077Z"
   },
   {
    "duration": 318,
    "start_time": "2023-01-14T07:00:26.335Z"
   },
   {
    "duration": 4,
    "start_time": "2023-01-14T07:00:26.655Z"
   },
   {
    "duration": 8,
    "start_time": "2023-01-14T07:00:26.661Z"
   },
   {
    "duration": 6,
    "start_time": "2023-01-14T07:00:26.671Z"
   },
   {
    "duration": 4,
    "start_time": "2023-01-14T07:00:26.681Z"
   },
   {
    "duration": 199,
    "start_time": "2023-01-14T07:00:26.687Z"
   },
   {
    "duration": 6,
    "start_time": "2023-01-14T07:00:26.888Z"
   },
   {
    "duration": 312,
    "start_time": "2023-01-14T07:00:26.896Z"
   },
   {
    "duration": 143,
    "start_time": "2023-01-14T07:00:27.209Z"
   },
   {
    "duration": 2,
    "start_time": "2023-01-14T07:00:27.354Z"
   },
   {
    "duration": 10,
    "start_time": "2023-01-14T07:00:27.357Z"
   },
   {
    "duration": 136,
    "start_time": "2023-01-14T07:00:27.368Z"
   },
   {
    "duration": 135,
    "start_time": "2023-01-14T07:00:27.505Z"
   },
   {
    "duration": 5,
    "start_time": "2023-01-14T07:00:27.642Z"
   },
   {
    "duration": 152,
    "start_time": "2023-01-14T07:00:27.648Z"
   },
   {
    "duration": 226,
    "start_time": "2023-01-14T07:00:27.802Z"
   },
   {
    "duration": 4,
    "start_time": "2023-01-14T07:00:28.030Z"
   },
   {
    "duration": 8,
    "start_time": "2023-01-14T07:00:28.036Z"
   },
   {
    "duration": 20,
    "start_time": "2023-01-14T07:00:28.045Z"
   },
   {
    "duration": 10,
    "start_time": "2023-01-14T07:00:28.067Z"
   },
   {
    "duration": 11,
    "start_time": "2023-01-14T07:00:28.079Z"
   },
   {
    "duration": 53,
    "start_time": "2023-01-14T07:00:28.092Z"
   },
   {
    "duration": 45,
    "start_time": "2023-01-14T07:00:28.146Z"
   },
   {
    "duration": 24,
    "start_time": "2023-01-14T07:00:28.192Z"
   },
   {
    "duration": 13,
    "start_time": "2023-01-14T07:00:28.218Z"
   },
   {
    "duration": 62,
    "start_time": "2023-01-14T07:00:28.233Z"
   },
   {
    "duration": 49,
    "start_time": "2023-01-14T07:00:28.297Z"
   },
   {
    "duration": 19,
    "start_time": "2023-01-14T07:00:28.348Z"
   },
   {
    "duration": 136,
    "start_time": "2023-01-14T07:00:28.369Z"
   },
   {
    "duration": 11,
    "start_time": "2023-01-14T07:00:28.507Z"
   },
   {
    "duration": 22,
    "start_time": "2023-01-14T07:00:28.520Z"
   },
   {
    "duration": 4,
    "start_time": "2023-01-14T07:00:28.543Z"
   },
   {
    "duration": 14,
    "start_time": "2023-01-14T07:00:28.548Z"
   },
   {
    "duration": 5,
    "start_time": "2023-01-14T07:00:28.564Z"
   },
   {
    "duration": 11,
    "start_time": "2023-01-14T07:00:28.570Z"
   },
   {
    "duration": 34,
    "start_time": "2023-01-14T07:00:28.583Z"
   },
   {
    "duration": 9,
    "start_time": "2023-01-14T07:00:28.618Z"
   },
   {
    "duration": 6,
    "start_time": "2023-01-14T07:00:28.629Z"
   },
   {
    "duration": 16,
    "start_time": "2023-01-14T07:00:28.636Z"
   },
   {
    "duration": 24,
    "start_time": "2023-01-14T07:00:28.653Z"
   },
   {
    "duration": 8,
    "start_time": "2023-01-14T07:00:28.679Z"
   },
   {
    "duration": 7,
    "start_time": "2023-01-14T07:00:28.688Z"
   },
   {
    "duration": 306,
    "start_time": "2023-01-14T07:00:28.715Z"
   },
   {
    "duration": 305,
    "start_time": "2023-01-14T07:00:29.022Z"
   },
   {
    "duration": 853,
    "start_time": "2023-01-14T07:08:24.368Z"
   },
   {
    "duration": 13,
    "start_time": "2023-01-14T07:08:38.535Z"
   },
   {
    "duration": 1117,
    "start_time": "2023-01-14T07:08:44.333Z"
   },
   {
    "duration": 29,
    "start_time": "2023-01-14T07:08:45.452Z"
   },
   {
    "duration": 10,
    "start_time": "2023-01-14T07:08:45.483Z"
   },
   {
    "duration": 10,
    "start_time": "2023-01-14T07:08:45.495Z"
   },
   {
    "duration": 7,
    "start_time": "2023-01-14T07:08:45.507Z"
   },
   {
    "duration": 5,
    "start_time": "2023-01-14T07:08:45.515Z"
   },
   {
    "duration": 6,
    "start_time": "2023-01-14T07:08:45.521Z"
   },
   {
    "duration": 11,
    "start_time": "2023-01-14T07:08:45.528Z"
   },
   {
    "duration": 9,
    "start_time": "2023-01-14T07:08:45.540Z"
   },
   {
    "duration": 13,
    "start_time": "2023-01-14T07:08:45.551Z"
   },
   {
    "duration": 55,
    "start_time": "2023-01-14T07:08:45.566Z"
   },
   {
    "duration": 9,
    "start_time": "2023-01-14T07:08:45.622Z"
   },
   {
    "duration": 11,
    "start_time": "2023-01-14T07:08:45.633Z"
   },
   {
    "duration": 6,
    "start_time": "2023-01-14T07:08:45.646Z"
   },
   {
    "duration": 10,
    "start_time": "2023-01-14T07:08:45.653Z"
   },
   {
    "duration": 11,
    "start_time": "2023-01-14T07:08:45.664Z"
   },
   {
    "duration": 14,
    "start_time": "2023-01-14T07:08:45.677Z"
   },
   {
    "duration": 27,
    "start_time": "2023-01-14T07:08:45.692Z"
   },
   {
    "duration": 5,
    "start_time": "2023-01-14T07:08:45.721Z"
   },
   {
    "duration": 173,
    "start_time": "2023-01-14T07:08:45.728Z"
   },
   {
    "duration": 117,
    "start_time": "2023-01-14T07:08:45.903Z"
   },
   {
    "duration": 12,
    "start_time": "2023-01-14T07:08:46.022Z"
   },
   {
    "duration": 327,
    "start_time": "2023-01-14T07:08:46.036Z"
   },
   {
    "duration": 219,
    "start_time": "2023-01-14T07:08:46.365Z"
   },
   {
    "duration": 332,
    "start_time": "2023-01-14T07:08:46.586Z"
   },
   {
    "duration": 5,
    "start_time": "2023-01-14T07:08:46.919Z"
   },
   {
    "duration": 7,
    "start_time": "2023-01-14T07:08:46.925Z"
   },
   {
    "duration": 3,
    "start_time": "2023-01-14T07:08:46.936Z"
   },
   {
    "duration": 11,
    "start_time": "2023-01-14T07:08:46.940Z"
   },
   {
    "duration": 191,
    "start_time": "2023-01-14T07:08:46.952Z"
   },
   {
    "duration": 8,
    "start_time": "2023-01-14T07:08:47.145Z"
   },
   {
    "duration": 273,
    "start_time": "2023-01-14T07:08:47.154Z"
   },
   {
    "duration": 127,
    "start_time": "2023-01-14T07:08:47.428Z"
   },
   {
    "duration": 8,
    "start_time": "2023-01-14T07:08:47.557Z"
   },
   {
    "duration": 10,
    "start_time": "2023-01-14T07:08:47.567Z"
   },
   {
    "duration": 142,
    "start_time": "2023-01-14T07:08:47.578Z"
   },
   {
    "duration": 138,
    "start_time": "2023-01-14T07:08:47.721Z"
   },
   {
    "duration": 4,
    "start_time": "2023-01-14T07:08:47.861Z"
   },
   {
    "duration": 152,
    "start_time": "2023-01-14T07:08:47.867Z"
   },
   {
    "duration": 227,
    "start_time": "2023-01-14T07:08:48.020Z"
   },
   {
    "duration": 4,
    "start_time": "2023-01-14T07:08:48.249Z"
   },
   {
    "duration": 9,
    "start_time": "2023-01-14T07:08:48.255Z"
   },
   {
    "duration": 9,
    "start_time": "2023-01-14T07:08:48.266Z"
   },
   {
    "duration": 6,
    "start_time": "2023-01-14T07:08:48.277Z"
   },
   {
    "duration": 8,
    "start_time": "2023-01-14T07:08:48.285Z"
   },
   {
    "duration": 57,
    "start_time": "2023-01-14T07:08:48.295Z"
   },
   {
    "duration": 47,
    "start_time": "2023-01-14T07:08:48.353Z"
   },
   {
    "duration": 21,
    "start_time": "2023-01-14T07:08:48.402Z"
   },
   {
    "duration": 14,
    "start_time": "2023-01-14T07:08:48.424Z"
   },
   {
    "duration": 50,
    "start_time": "2023-01-14T07:08:48.439Z"
   },
   {
    "duration": 57,
    "start_time": "2023-01-14T07:08:48.491Z"
   },
   {
    "duration": 22,
    "start_time": "2023-01-14T07:08:48.549Z"
   },
   {
    "duration": 142,
    "start_time": "2023-01-14T07:08:48.573Z"
   },
   {
    "duration": 6,
    "start_time": "2023-01-14T07:08:48.717Z"
   },
   {
    "duration": 23,
    "start_time": "2023-01-14T07:08:48.725Z"
   },
   {
    "duration": 4,
    "start_time": "2023-01-14T07:08:48.749Z"
   },
   {
    "duration": 8,
    "start_time": "2023-01-14T07:08:48.754Z"
   },
   {
    "duration": 6,
    "start_time": "2023-01-14T07:08:48.764Z"
   },
   {
    "duration": 8,
    "start_time": "2023-01-14T07:08:48.771Z"
   },
   {
    "duration": 37,
    "start_time": "2023-01-14T07:08:48.780Z"
   },
   {
    "duration": 4,
    "start_time": "2023-01-14T07:08:48.819Z"
   },
   {
    "duration": 6,
    "start_time": "2023-01-14T07:08:48.825Z"
   },
   {
    "duration": 8,
    "start_time": "2023-01-14T07:08:48.832Z"
   },
   {
    "duration": 23,
    "start_time": "2023-01-14T07:08:48.841Z"
   },
   {
    "duration": 10,
    "start_time": "2023-01-14T07:08:48.866Z"
   },
   {
    "duration": 43,
    "start_time": "2023-01-14T07:08:48.877Z"
   },
   {
    "duration": 313,
    "start_time": "2023-01-14T07:08:48.922Z"
   },
   {
    "duration": 299,
    "start_time": "2023-01-14T07:08:49.237Z"
   },
   {
    "duration": 875,
    "start_time": "2023-01-14T07:15:41.230Z"
   },
   {
    "duration": 1082,
    "start_time": "2023-01-14T07:19:02.438Z"
   },
   {
    "duration": 27,
    "start_time": "2023-01-14T07:19:03.522Z"
   },
   {
    "duration": 11,
    "start_time": "2023-01-14T07:19:03.550Z"
   },
   {
    "duration": 11,
    "start_time": "2023-01-14T07:19:03.563Z"
   },
   {
    "duration": 13,
    "start_time": "2023-01-14T07:19:03.575Z"
   },
   {
    "duration": 5,
    "start_time": "2023-01-14T07:19:03.590Z"
   },
   {
    "duration": 5,
    "start_time": "2023-01-14T07:19:03.596Z"
   },
   {
    "duration": 10,
    "start_time": "2023-01-14T07:19:03.603Z"
   },
   {
    "duration": 7,
    "start_time": "2023-01-14T07:19:03.615Z"
   },
   {
    "duration": 5,
    "start_time": "2023-01-14T07:19:03.625Z"
   },
   {
    "duration": 53,
    "start_time": "2023-01-14T07:19:03.631Z"
   },
   {
    "duration": 8,
    "start_time": "2023-01-14T07:19:03.685Z"
   },
   {
    "duration": 11,
    "start_time": "2023-01-14T07:19:03.694Z"
   },
   {
    "duration": 4,
    "start_time": "2023-01-14T07:19:03.707Z"
   },
   {
    "duration": 14,
    "start_time": "2023-01-14T07:19:03.712Z"
   },
   {
    "duration": 11,
    "start_time": "2023-01-14T07:19:03.728Z"
   },
   {
    "duration": 13,
    "start_time": "2023-01-14T07:19:03.741Z"
   },
   {
    "duration": 12,
    "start_time": "2023-01-14T07:19:03.755Z"
   },
   {
    "duration": 9,
    "start_time": "2023-01-14T07:19:03.768Z"
   },
   {
    "duration": 173,
    "start_time": "2023-01-14T07:19:03.779Z"
   },
   {
    "duration": 137,
    "start_time": "2023-01-14T07:19:03.953Z"
   },
   {
    "duration": 28,
    "start_time": "2023-01-14T07:19:04.091Z"
   },
   {
    "duration": 287,
    "start_time": "2023-01-14T07:19:04.120Z"
   },
   {
    "duration": 185,
    "start_time": "2023-01-14T07:19:04.409Z"
   },
   {
    "duration": 319,
    "start_time": "2023-01-14T07:19:04.596Z"
   },
   {
    "duration": 4,
    "start_time": "2023-01-14T07:19:04.917Z"
   },
   {
    "duration": 11,
    "start_time": "2023-01-14T07:19:04.923Z"
   },
   {
    "duration": 4,
    "start_time": "2023-01-14T07:19:04.937Z"
   },
   {
    "duration": 4,
    "start_time": "2023-01-14T07:19:04.943Z"
   },
   {
    "duration": 199,
    "start_time": "2023-01-14T07:19:04.948Z"
   },
   {
    "duration": 6,
    "start_time": "2023-01-14T07:19:05.149Z"
   },
   {
    "duration": 286,
    "start_time": "2023-01-14T07:19:05.157Z"
   },
   {
    "duration": 124,
    "start_time": "2023-01-14T07:19:05.445Z"
   },
   {
    "duration": 3,
    "start_time": "2023-01-14T07:19:05.571Z"
   },
   {
    "duration": 10,
    "start_time": "2023-01-14T07:19:05.575Z"
   },
   {
    "duration": 165,
    "start_time": "2023-01-14T07:19:05.587Z"
   },
   {
    "duration": 145,
    "start_time": "2023-01-14T07:19:05.754Z"
   },
   {
    "duration": 6,
    "start_time": "2023-01-14T07:19:05.901Z"
   },
   {
    "duration": 173,
    "start_time": "2023-01-14T07:19:05.916Z"
   },
   {
    "duration": 265,
    "start_time": "2023-01-14T07:19:06.090Z"
   },
   {
    "duration": 8,
    "start_time": "2023-01-14T07:19:06.357Z"
   },
   {
    "duration": 26,
    "start_time": "2023-01-14T07:19:06.367Z"
   },
   {
    "duration": 14,
    "start_time": "2023-01-14T07:19:06.396Z"
   },
   {
    "duration": 6,
    "start_time": "2023-01-14T07:19:06.412Z"
   },
   {
    "duration": 14,
    "start_time": "2023-01-14T07:19:06.419Z"
   },
   {
    "duration": 49,
    "start_time": "2023-01-14T07:19:06.434Z"
   },
   {
    "duration": 46,
    "start_time": "2023-01-14T07:19:06.485Z"
   },
   {
    "duration": 16,
    "start_time": "2023-01-14T07:19:06.533Z"
   },
   {
    "duration": 14,
    "start_time": "2023-01-14T07:19:06.550Z"
   },
   {
    "duration": 65,
    "start_time": "2023-01-14T07:19:06.566Z"
   },
   {
    "duration": 48,
    "start_time": "2023-01-14T07:19:06.632Z"
   },
   {
    "duration": 20,
    "start_time": "2023-01-14T07:19:06.682Z"
   },
   {
    "duration": 134,
    "start_time": "2023-01-14T07:19:06.704Z"
   },
   {
    "duration": 6,
    "start_time": "2023-01-14T07:19:06.840Z"
   },
   {
    "duration": 23,
    "start_time": "2023-01-14T07:19:06.847Z"
   },
   {
    "duration": 3,
    "start_time": "2023-01-14T07:19:06.871Z"
   },
   {
    "duration": 9,
    "start_time": "2023-01-14T07:19:06.876Z"
   },
   {
    "duration": 31,
    "start_time": "2023-01-14T07:19:06.887Z"
   },
   {
    "duration": 17,
    "start_time": "2023-01-14T07:19:06.919Z"
   },
   {
    "duration": 10,
    "start_time": "2023-01-14T07:19:06.937Z"
   },
   {
    "duration": 7,
    "start_time": "2023-01-14T07:19:06.948Z"
   },
   {
    "duration": 7,
    "start_time": "2023-01-14T07:19:06.957Z"
   },
   {
    "duration": 9,
    "start_time": "2023-01-14T07:19:06.965Z"
   },
   {
    "duration": 56,
    "start_time": "2023-01-14T07:19:06.976Z"
   },
   {
    "duration": 10,
    "start_time": "2023-01-14T07:19:07.034Z"
   },
   {
    "duration": 11,
    "start_time": "2023-01-14T07:19:07.046Z"
   },
   {
    "duration": 295,
    "start_time": "2023-01-14T07:19:07.059Z"
   },
   {
    "duration": 286,
    "start_time": "2023-01-14T07:19:07.356Z"
   },
   {
    "duration": 1115,
    "start_time": "2023-01-14T07:22:56.821Z"
   },
   {
    "duration": 27,
    "start_time": "2023-01-14T07:22:57.938Z"
   },
   {
    "duration": 11,
    "start_time": "2023-01-14T07:22:57.966Z"
   },
   {
    "duration": 13,
    "start_time": "2023-01-14T07:22:57.979Z"
   },
   {
    "duration": 6,
    "start_time": "2023-01-14T07:22:57.993Z"
   },
   {
    "duration": 5,
    "start_time": "2023-01-14T07:22:58.000Z"
   },
   {
    "duration": 4,
    "start_time": "2023-01-14T07:22:58.007Z"
   },
   {
    "duration": 10,
    "start_time": "2023-01-14T07:22:58.013Z"
   },
   {
    "duration": 8,
    "start_time": "2023-01-14T07:22:58.025Z"
   },
   {
    "duration": 115,
    "start_time": "2023-01-14T07:22:58.036Z"
   },
   {
    "duration": 0,
    "start_time": "2023-01-14T07:22:58.154Z"
   },
   {
    "duration": 0,
    "start_time": "2023-01-14T07:22:58.155Z"
   },
   {
    "duration": 0,
    "start_time": "2023-01-14T07:22:58.156Z"
   },
   {
    "duration": 0,
    "start_time": "2023-01-14T07:22:58.157Z"
   },
   {
    "duration": 0,
    "start_time": "2023-01-14T07:22:58.159Z"
   },
   {
    "duration": 0,
    "start_time": "2023-01-14T07:22:58.160Z"
   },
   {
    "duration": 0,
    "start_time": "2023-01-14T07:22:58.161Z"
   },
   {
    "duration": 0,
    "start_time": "2023-01-14T07:22:58.163Z"
   },
   {
    "duration": 0,
    "start_time": "2023-01-14T07:22:58.164Z"
   },
   {
    "duration": 0,
    "start_time": "2023-01-14T07:22:58.165Z"
   },
   {
    "duration": 0,
    "start_time": "2023-01-14T07:22:58.166Z"
   },
   {
    "duration": 0,
    "start_time": "2023-01-14T07:22:58.167Z"
   },
   {
    "duration": 0,
    "start_time": "2023-01-14T07:22:58.168Z"
   },
   {
    "duration": 0,
    "start_time": "2023-01-14T07:22:58.169Z"
   },
   {
    "duration": 0,
    "start_time": "2023-01-14T07:22:58.171Z"
   },
   {
    "duration": 0,
    "start_time": "2023-01-14T07:22:58.172Z"
   },
   {
    "duration": 0,
    "start_time": "2023-01-14T07:22:58.174Z"
   },
   {
    "duration": 0,
    "start_time": "2023-01-14T07:22:58.175Z"
   },
   {
    "duration": 0,
    "start_time": "2023-01-14T07:22:58.176Z"
   },
   {
    "duration": 0,
    "start_time": "2023-01-14T07:22:58.177Z"
   },
   {
    "duration": 0,
    "start_time": "2023-01-14T07:22:58.178Z"
   },
   {
    "duration": 0,
    "start_time": "2023-01-14T07:22:58.178Z"
   },
   {
    "duration": 0,
    "start_time": "2023-01-14T07:22:58.179Z"
   },
   {
    "duration": 0,
    "start_time": "2023-01-14T07:22:58.179Z"
   },
   {
    "duration": 0,
    "start_time": "2023-01-14T07:22:58.180Z"
   },
   {
    "duration": 0,
    "start_time": "2023-01-14T07:22:58.180Z"
   },
   {
    "duration": 0,
    "start_time": "2023-01-14T07:22:58.181Z"
   },
   {
    "duration": 0,
    "start_time": "2023-01-14T07:22:58.181Z"
   },
   {
    "duration": 0,
    "start_time": "2023-01-14T07:22:58.182Z"
   },
   {
    "duration": 0,
    "start_time": "2023-01-14T07:22:58.215Z"
   },
   {
    "duration": 0,
    "start_time": "2023-01-14T07:22:58.217Z"
   },
   {
    "duration": 0,
    "start_time": "2023-01-14T07:22:58.219Z"
   },
   {
    "duration": 0,
    "start_time": "2023-01-14T07:22:58.220Z"
   },
   {
    "duration": 0,
    "start_time": "2023-01-14T07:22:58.221Z"
   },
   {
    "duration": 0,
    "start_time": "2023-01-14T07:22:58.222Z"
   },
   {
    "duration": 0,
    "start_time": "2023-01-14T07:22:58.223Z"
   },
   {
    "duration": 0,
    "start_time": "2023-01-14T07:22:58.224Z"
   },
   {
    "duration": 0,
    "start_time": "2023-01-14T07:22:58.225Z"
   },
   {
    "duration": 0,
    "start_time": "2023-01-14T07:22:58.226Z"
   },
   {
    "duration": 0,
    "start_time": "2023-01-14T07:22:58.228Z"
   },
   {
    "duration": 0,
    "start_time": "2023-01-14T07:22:58.229Z"
   },
   {
    "duration": 0,
    "start_time": "2023-01-14T07:22:58.230Z"
   },
   {
    "duration": 0,
    "start_time": "2023-01-14T07:22:58.231Z"
   },
   {
    "duration": 1,
    "start_time": "2023-01-14T07:22:58.232Z"
   },
   {
    "duration": 0,
    "start_time": "2023-01-14T07:22:58.234Z"
   },
   {
    "duration": 0,
    "start_time": "2023-01-14T07:22:58.235Z"
   },
   {
    "duration": 0,
    "start_time": "2023-01-14T07:22:58.237Z"
   },
   {
    "duration": 0,
    "start_time": "2023-01-14T07:22:58.241Z"
   },
   {
    "duration": 0,
    "start_time": "2023-01-14T07:22:58.242Z"
   },
   {
    "duration": 0,
    "start_time": "2023-01-14T07:22:58.244Z"
   },
   {
    "duration": 0,
    "start_time": "2023-01-14T07:22:58.245Z"
   },
   {
    "duration": 0,
    "start_time": "2023-01-14T07:22:58.246Z"
   },
   {
    "duration": 0,
    "start_time": "2023-01-14T07:22:58.248Z"
   },
   {
    "duration": 0,
    "start_time": "2023-01-14T07:22:58.249Z"
   },
   {
    "duration": 0,
    "start_time": "2023-01-14T07:22:58.250Z"
   },
   {
    "duration": 0,
    "start_time": "2023-01-14T07:22:58.252Z"
   },
   {
    "duration": 0,
    "start_time": "2023-01-14T07:22:58.253Z"
   },
   {
    "duration": 0,
    "start_time": "2023-01-14T07:22:58.316Z"
   },
   {
    "duration": 290,
    "start_time": "2023-01-14T07:31:21.964Z"
   },
   {
    "duration": 280,
    "start_time": "2023-01-14T07:32:46.896Z"
   },
   {
    "duration": 56,
    "start_time": "2023-01-14T07:33:02.542Z"
   },
   {
    "duration": 12,
    "start_time": "2023-01-14T07:33:08.452Z"
   },
   {
    "duration": 113,
    "start_time": "2023-01-14T07:34:04.654Z"
   },
   {
    "duration": 125,
    "start_time": "2023-01-14T07:34:17.082Z"
   },
   {
    "duration": 149,
    "start_time": "2023-01-14T07:34:37.998Z"
   },
   {
    "duration": 1149,
    "start_time": "2023-01-14T07:34:47.319Z"
   },
   {
    "duration": 26,
    "start_time": "2023-01-14T07:34:48.470Z"
   },
   {
    "duration": 11,
    "start_time": "2023-01-14T07:34:48.498Z"
   },
   {
    "duration": 18,
    "start_time": "2023-01-14T07:34:48.511Z"
   },
   {
    "duration": 14,
    "start_time": "2023-01-14T07:34:48.531Z"
   },
   {
    "duration": 8,
    "start_time": "2023-01-14T07:34:48.546Z"
   },
   {
    "duration": 9,
    "start_time": "2023-01-14T07:34:48.555Z"
   },
   {
    "duration": 14,
    "start_time": "2023-01-14T07:34:48.565Z"
   },
   {
    "duration": 11,
    "start_time": "2023-01-14T07:34:48.581Z"
   },
   {
    "duration": 310,
    "start_time": "2023-01-14T07:34:48.594Z"
   },
   {
    "duration": 0,
    "start_time": "2023-01-14T07:34:48.908Z"
   },
   {
    "duration": 0,
    "start_time": "2023-01-14T07:34:48.909Z"
   },
   {
    "duration": 0,
    "start_time": "2023-01-14T07:34:48.916Z"
   },
   {
    "duration": 1,
    "start_time": "2023-01-14T07:34:48.917Z"
   },
   {
    "duration": 0,
    "start_time": "2023-01-14T07:34:48.919Z"
   },
   {
    "duration": 0,
    "start_time": "2023-01-14T07:34:48.920Z"
   },
   {
    "duration": 0,
    "start_time": "2023-01-14T07:34:48.922Z"
   },
   {
    "duration": 0,
    "start_time": "2023-01-14T07:34:48.923Z"
   },
   {
    "duration": 0,
    "start_time": "2023-01-14T07:34:48.924Z"
   },
   {
    "duration": 0,
    "start_time": "2023-01-14T07:34:48.925Z"
   },
   {
    "duration": 0,
    "start_time": "2023-01-14T07:34:48.926Z"
   },
   {
    "duration": 0,
    "start_time": "2023-01-14T07:34:48.927Z"
   },
   {
    "duration": 0,
    "start_time": "2023-01-14T07:34:48.928Z"
   },
   {
    "duration": 0,
    "start_time": "2023-01-14T07:34:48.930Z"
   },
   {
    "duration": 0,
    "start_time": "2023-01-14T07:34:48.931Z"
   },
   {
    "duration": 0,
    "start_time": "2023-01-14T07:34:48.932Z"
   },
   {
    "duration": 0,
    "start_time": "2023-01-14T07:34:48.933Z"
   },
   {
    "duration": 0,
    "start_time": "2023-01-14T07:34:48.934Z"
   },
   {
    "duration": 0,
    "start_time": "2023-01-14T07:34:48.935Z"
   },
   {
    "duration": 0,
    "start_time": "2023-01-14T07:34:48.937Z"
   },
   {
    "duration": 0,
    "start_time": "2023-01-14T07:34:48.938Z"
   },
   {
    "duration": 0,
    "start_time": "2023-01-14T07:34:48.939Z"
   },
   {
    "duration": 0,
    "start_time": "2023-01-14T07:34:48.940Z"
   },
   {
    "duration": 0,
    "start_time": "2023-01-14T07:34:48.942Z"
   },
   {
    "duration": 0,
    "start_time": "2023-01-14T07:34:48.943Z"
   },
   {
    "duration": 0,
    "start_time": "2023-01-14T07:34:48.944Z"
   },
   {
    "duration": 0,
    "start_time": "2023-01-14T07:34:48.945Z"
   },
   {
    "duration": 0,
    "start_time": "2023-01-14T07:34:48.947Z"
   },
   {
    "duration": 0,
    "start_time": "2023-01-14T07:34:48.948Z"
   },
   {
    "duration": 0,
    "start_time": "2023-01-14T07:34:48.949Z"
   },
   {
    "duration": 0,
    "start_time": "2023-01-14T07:34:48.950Z"
   },
   {
    "duration": 0,
    "start_time": "2023-01-14T07:34:48.952Z"
   },
   {
    "duration": 0,
    "start_time": "2023-01-14T07:34:48.952Z"
   },
   {
    "duration": 0,
    "start_time": "2023-01-14T07:34:48.953Z"
   },
   {
    "duration": 0,
    "start_time": "2023-01-14T07:34:48.954Z"
   },
   {
    "duration": 0,
    "start_time": "2023-01-14T07:34:49.016Z"
   },
   {
    "duration": 0,
    "start_time": "2023-01-14T07:34:49.017Z"
   },
   {
    "duration": 0,
    "start_time": "2023-01-14T07:34:49.018Z"
   },
   {
    "duration": 0,
    "start_time": "2023-01-14T07:34:49.019Z"
   },
   {
    "duration": 0,
    "start_time": "2023-01-14T07:34:49.021Z"
   },
   {
    "duration": 0,
    "start_time": "2023-01-14T07:34:49.022Z"
   },
   {
    "duration": 0,
    "start_time": "2023-01-14T07:34:49.023Z"
   },
   {
    "duration": 0,
    "start_time": "2023-01-14T07:34:49.024Z"
   },
   {
    "duration": 0,
    "start_time": "2023-01-14T07:34:49.025Z"
   },
   {
    "duration": 0,
    "start_time": "2023-01-14T07:34:49.026Z"
   },
   {
    "duration": 0,
    "start_time": "2023-01-14T07:34:49.027Z"
   },
   {
    "duration": 0,
    "start_time": "2023-01-14T07:34:49.028Z"
   },
   {
    "duration": 0,
    "start_time": "2023-01-14T07:34:49.029Z"
   },
   {
    "duration": 0,
    "start_time": "2023-01-14T07:34:49.030Z"
   },
   {
    "duration": 1,
    "start_time": "2023-01-14T07:34:49.030Z"
   },
   {
    "duration": 0,
    "start_time": "2023-01-14T07:34:49.031Z"
   },
   {
    "duration": 0,
    "start_time": "2023-01-14T07:34:49.033Z"
   },
   {
    "duration": 0,
    "start_time": "2023-01-14T07:34:49.034Z"
   },
   {
    "duration": 0,
    "start_time": "2023-01-14T07:34:49.034Z"
   },
   {
    "duration": 0,
    "start_time": "2023-01-14T07:34:49.035Z"
   },
   {
    "duration": 0,
    "start_time": "2023-01-14T07:34:49.036Z"
   },
   {
    "duration": 0,
    "start_time": "2023-01-14T07:34:49.037Z"
   },
   {
    "duration": 0,
    "start_time": "2023-01-14T07:34:49.038Z"
   },
   {
    "duration": 339,
    "start_time": "2023-01-14T07:35:26.177Z"
   },
   {
    "duration": 13,
    "start_time": "2023-01-14T07:35:33.638Z"
   },
   {
    "duration": 44,
    "start_time": "2023-01-14T07:35:41.212Z"
   },
   {
    "duration": 259,
    "start_time": "2023-01-14T07:35:44.376Z"
   },
   {
    "duration": 4,
    "start_time": "2023-01-14T07:41:09.888Z"
   },
   {
    "duration": 10,
    "start_time": "2023-01-14T07:41:26.677Z"
   },
   {
    "duration": 9,
    "start_time": "2023-01-14T07:41:32.269Z"
   },
   {
    "duration": 8,
    "start_time": "2023-01-14T07:42:11.938Z"
   },
   {
    "duration": 148,
    "start_time": "2023-01-14T07:46:32.392Z"
   },
   {
    "duration": 1125,
    "start_time": "2023-01-14T07:46:53.891Z"
   },
   {
    "duration": 26,
    "start_time": "2023-01-14T07:46:55.018Z"
   },
   {
    "duration": 10,
    "start_time": "2023-01-14T07:46:55.048Z"
   },
   {
    "duration": 9,
    "start_time": "2023-01-14T07:46:55.060Z"
   },
   {
    "duration": 7,
    "start_time": "2023-01-14T07:46:55.071Z"
   },
   {
    "duration": 5,
    "start_time": "2023-01-14T07:46:55.079Z"
   },
   {
    "duration": 5,
    "start_time": "2023-01-14T07:46:55.085Z"
   },
   {
    "duration": 13,
    "start_time": "2023-01-14T07:46:55.092Z"
   },
   {
    "duration": 12,
    "start_time": "2023-01-14T07:46:55.108Z"
   },
   {
    "duration": 256,
    "start_time": "2023-01-14T07:46:55.121Z"
   },
   {
    "duration": 7,
    "start_time": "2023-01-14T07:46:55.379Z"
   },
   {
    "duration": 52,
    "start_time": "2023-01-14T07:46:55.387Z"
   },
   {
    "duration": 7,
    "start_time": "2023-01-14T07:46:55.440Z"
   },
   {
    "duration": 14,
    "start_time": "2023-01-14T07:46:55.449Z"
   },
   {
    "duration": 6,
    "start_time": "2023-01-14T07:46:55.464Z"
   },
   {
    "duration": 13,
    "start_time": "2023-01-14T07:46:55.471Z"
   },
   {
    "duration": 10,
    "start_time": "2023-01-14T07:46:55.486Z"
   },
   {
    "duration": 13,
    "start_time": "2023-01-14T07:46:55.498Z"
   },
   {
    "duration": 10,
    "start_time": "2023-01-14T07:46:55.512Z"
   },
   {
    "duration": 6,
    "start_time": "2023-01-14T07:46:55.523Z"
   },
   {
    "duration": 170,
    "start_time": "2023-01-14T07:46:55.530Z"
   },
   {
    "duration": 127,
    "start_time": "2023-01-14T07:46:55.701Z"
   },
   {
    "duration": 11,
    "start_time": "2023-01-14T07:46:55.830Z"
   },
   {
    "duration": 268,
    "start_time": "2023-01-14T07:46:55.842Z"
   },
   {
    "duration": 238,
    "start_time": "2023-01-14T07:46:56.112Z"
   },
   {
    "duration": 286,
    "start_time": "2023-01-14T07:46:56.352Z"
   },
   {
    "duration": 4,
    "start_time": "2023-01-14T07:46:56.643Z"
   },
   {
    "duration": 7,
    "start_time": "2023-01-14T07:46:56.648Z"
   },
   {
    "duration": 5,
    "start_time": "2023-01-14T07:46:56.657Z"
   },
   {
    "duration": 5,
    "start_time": "2023-01-14T07:46:56.663Z"
   },
   {
    "duration": 199,
    "start_time": "2023-01-14T07:46:56.669Z"
   },
   {
    "duration": 7,
    "start_time": "2023-01-14T07:46:56.870Z"
   },
   {
    "duration": 341,
    "start_time": "2023-01-14T07:46:56.879Z"
   },
   {
    "duration": 133,
    "start_time": "2023-01-14T07:46:57.222Z"
   },
   {
    "duration": 3,
    "start_time": "2023-01-14T07:46:57.356Z"
   },
   {
    "duration": 11,
    "start_time": "2023-01-14T07:46:57.361Z"
   },
   {
    "duration": 154,
    "start_time": "2023-01-14T07:46:57.373Z"
   },
   {
    "duration": 146,
    "start_time": "2023-01-14T07:46:57.528Z"
   },
   {
    "duration": 6,
    "start_time": "2023-01-14T07:46:57.676Z"
   },
   {
    "duration": 240,
    "start_time": "2023-01-14T07:46:57.683Z"
   },
   {
    "duration": 160,
    "start_time": "2023-01-14T07:46:57.924Z"
   },
   {
    "duration": 5,
    "start_time": "2023-01-14T07:46:58.086Z"
   },
   {
    "duration": 9,
    "start_time": "2023-01-14T07:46:58.092Z"
   },
   {
    "duration": 20,
    "start_time": "2023-01-14T07:46:58.103Z"
   },
   {
    "duration": 7,
    "start_time": "2023-01-14T07:46:58.124Z"
   },
   {
    "duration": 10,
    "start_time": "2023-01-14T07:46:58.132Z"
   },
   {
    "duration": 47,
    "start_time": "2023-01-14T07:46:58.143Z"
   },
   {
    "duration": 63,
    "start_time": "2023-01-14T07:46:58.191Z"
   },
   {
    "duration": 23,
    "start_time": "2023-01-14T07:46:58.255Z"
   },
   {
    "duration": 19,
    "start_time": "2023-01-14T07:46:58.280Z"
   },
   {
    "duration": 46,
    "start_time": "2023-01-14T07:46:58.301Z"
   },
   {
    "duration": 48,
    "start_time": "2023-01-14T07:46:58.349Z"
   },
   {
    "duration": 36,
    "start_time": "2023-01-14T07:46:58.399Z"
   },
   {
    "duration": 144,
    "start_time": "2023-01-14T07:46:58.437Z"
   },
   {
    "duration": 6,
    "start_time": "2023-01-14T07:46:58.583Z"
   },
   {
    "duration": 36,
    "start_time": "2023-01-14T07:46:58.590Z"
   },
   {
    "duration": 3,
    "start_time": "2023-01-14T07:46:58.628Z"
   },
   {
    "duration": 12,
    "start_time": "2023-01-14T07:46:58.633Z"
   },
   {
    "duration": 6,
    "start_time": "2023-01-14T07:46:58.646Z"
   },
   {
    "duration": 9,
    "start_time": "2023-01-14T07:46:58.653Z"
   },
   {
    "duration": 10,
    "start_time": "2023-01-14T07:46:58.664Z"
   },
   {
    "duration": 8,
    "start_time": "2023-01-14T07:46:58.676Z"
   },
   {
    "duration": 30,
    "start_time": "2023-01-14T07:46:58.686Z"
   },
   {
    "duration": 8,
    "start_time": "2023-01-14T07:46:58.719Z"
   },
   {
    "duration": 32,
    "start_time": "2023-01-14T07:46:58.729Z"
   },
   {
    "duration": 10,
    "start_time": "2023-01-14T07:46:58.763Z"
   },
   {
    "duration": 11,
    "start_time": "2023-01-14T07:46:58.775Z"
   },
   {
    "duration": 341,
    "start_time": "2023-01-14T07:46:58.788Z"
   },
   {
    "duration": 287,
    "start_time": "2023-01-14T07:46:59.131Z"
   },
   {
    "duration": 20,
    "start_time": "2023-01-14T08:08:29.355Z"
   },
   {
    "duration": 104,
    "start_time": "2023-01-14T08:12:37.709Z"
   },
   {
    "duration": 849,
    "start_time": "2023-01-14T08:12:56.065Z"
   },
   {
    "duration": 11,
    "start_time": "2023-01-14T08:13:03.776Z"
   },
   {
    "duration": 7,
    "start_time": "2023-01-14T08:13:15.859Z"
   },
   {
    "duration": 11,
    "start_time": "2023-01-14T08:13:57.822Z"
   },
   {
    "duration": 1158,
    "start_time": "2023-01-14T08:14:33.798Z"
   },
   {
    "duration": 27,
    "start_time": "2023-01-14T08:14:34.958Z"
   },
   {
    "duration": 10,
    "start_time": "2023-01-14T08:14:34.990Z"
   },
   {
    "duration": 10,
    "start_time": "2023-01-14T08:14:35.002Z"
   },
   {
    "duration": 8,
    "start_time": "2023-01-14T08:14:35.013Z"
   },
   {
    "duration": 10,
    "start_time": "2023-01-14T08:14:35.022Z"
   },
   {
    "duration": 7,
    "start_time": "2023-01-14T08:14:35.033Z"
   },
   {
    "duration": 14,
    "start_time": "2023-01-14T08:14:35.041Z"
   },
   {
    "duration": 9,
    "start_time": "2023-01-14T08:14:35.058Z"
   },
   {
    "duration": 304,
    "start_time": "2023-01-14T08:14:35.069Z"
   },
   {
    "duration": 9,
    "start_time": "2023-01-14T08:14:35.375Z"
   },
   {
    "duration": 57,
    "start_time": "2023-01-14T08:14:35.386Z"
   },
   {
    "duration": 7,
    "start_time": "2023-01-14T08:14:35.444Z"
   },
   {
    "duration": 13,
    "start_time": "2023-01-14T08:14:35.453Z"
   },
   {
    "duration": 5,
    "start_time": "2023-01-14T08:14:35.467Z"
   },
   {
    "duration": 9,
    "start_time": "2023-01-14T08:14:35.474Z"
   },
   {
    "duration": 10,
    "start_time": "2023-01-14T08:14:35.484Z"
   },
   {
    "duration": 13,
    "start_time": "2023-01-14T08:14:35.496Z"
   },
   {
    "duration": 18,
    "start_time": "2023-01-14T08:14:35.511Z"
   },
   {
    "duration": 5,
    "start_time": "2023-01-14T08:14:35.531Z"
   },
   {
    "duration": 168,
    "start_time": "2023-01-14T08:14:35.538Z"
   },
   {
    "duration": 134,
    "start_time": "2023-01-14T08:14:35.707Z"
   },
   {
    "duration": 11,
    "start_time": "2023-01-14T08:14:35.843Z"
   },
   {
    "duration": 278,
    "start_time": "2023-01-14T08:14:35.856Z"
   },
   {
    "duration": 197,
    "start_time": "2023-01-14T08:14:36.136Z"
   },
   {
    "duration": 319,
    "start_time": "2023-01-14T08:14:36.335Z"
   },
   {
    "duration": 4,
    "start_time": "2023-01-14T08:14:36.659Z"
   },
   {
    "duration": 9,
    "start_time": "2023-01-14T08:14:36.664Z"
   },
   {
    "duration": 6,
    "start_time": "2023-01-14T08:14:36.674Z"
   },
   {
    "duration": 7,
    "start_time": "2023-01-14T08:14:36.681Z"
   },
   {
    "duration": 221,
    "start_time": "2023-01-14T08:14:36.689Z"
   },
   {
    "duration": 8,
    "start_time": "2023-01-14T08:14:36.911Z"
   },
   {
    "duration": 324,
    "start_time": "2023-01-14T08:14:36.920Z"
   },
   {
    "duration": 130,
    "start_time": "2023-01-14T08:14:37.246Z"
   },
   {
    "duration": 4,
    "start_time": "2023-01-14T08:14:37.378Z"
   },
   {
    "duration": 17,
    "start_time": "2023-01-14T08:14:37.383Z"
   },
   {
    "duration": 134,
    "start_time": "2023-01-14T08:14:37.402Z"
   },
   {
    "duration": 140,
    "start_time": "2023-01-14T08:14:37.537Z"
   },
   {
    "duration": 5,
    "start_time": "2023-01-14T08:14:37.678Z"
   },
   {
    "duration": 243,
    "start_time": "2023-01-14T08:14:37.684Z"
   },
   {
    "duration": 159,
    "start_time": "2023-01-14T08:14:37.929Z"
   },
   {
    "duration": 5,
    "start_time": "2023-01-14T08:14:38.089Z"
   },
   {
    "duration": 25,
    "start_time": "2023-01-14T08:14:38.096Z"
   },
   {
    "duration": 6,
    "start_time": "2023-01-14T08:14:38.122Z"
   },
   {
    "duration": 7,
    "start_time": "2023-01-14T08:14:38.130Z"
   },
   {
    "duration": 169,
    "start_time": "2023-01-14T08:14:38.139Z"
   },
   {
    "duration": 879,
    "start_time": "2023-01-14T08:14:38.309Z"
   },
   {
    "duration": 0,
    "start_time": "2023-01-14T08:14:39.190Z"
   },
   {
    "duration": 0,
    "start_time": "2023-01-14T08:14:39.191Z"
   },
   {
    "duration": 0,
    "start_time": "2023-01-14T08:14:39.192Z"
   },
   {
    "duration": 0,
    "start_time": "2023-01-14T08:14:39.193Z"
   },
   {
    "duration": 0,
    "start_time": "2023-01-14T08:14:39.194Z"
   },
   {
    "duration": 0,
    "start_time": "2023-01-14T08:14:39.195Z"
   },
   {
    "duration": 0,
    "start_time": "2023-01-14T08:14:39.196Z"
   },
   {
    "duration": 0,
    "start_time": "2023-01-14T08:14:39.197Z"
   },
   {
    "duration": 0,
    "start_time": "2023-01-14T08:14:39.198Z"
   },
   {
    "duration": 0,
    "start_time": "2023-01-14T08:14:39.199Z"
   },
   {
    "duration": 0,
    "start_time": "2023-01-14T08:14:39.200Z"
   },
   {
    "duration": 0,
    "start_time": "2023-01-14T08:14:39.201Z"
   },
   {
    "duration": 0,
    "start_time": "2023-01-14T08:14:39.202Z"
   },
   {
    "duration": 0,
    "start_time": "2023-01-14T08:14:39.203Z"
   },
   {
    "duration": 9,
    "start_time": "2023-01-14T08:16:38.585Z"
   },
   {
    "duration": 10,
    "start_time": "2023-01-14T08:19:14.471Z"
   },
   {
    "duration": 8,
    "start_time": "2023-01-14T08:19:16.452Z"
   },
   {
    "duration": 7,
    "start_time": "2023-01-14T08:19:18.815Z"
   },
   {
    "duration": 9,
    "start_time": "2023-01-14T08:27:49.331Z"
   },
   {
    "duration": 6,
    "start_time": "2023-01-14T08:29:29.701Z"
   },
   {
    "duration": 8,
    "start_time": "2023-01-14T08:30:12.430Z"
   },
   {
    "duration": 50,
    "start_time": "2023-01-14T08:33:38.032Z"
   },
   {
    "duration": 797,
    "start_time": "2023-01-14T08:36:19.872Z"
   },
   {
    "duration": 12,
    "start_time": "2023-01-14T08:36:32.346Z"
   },
   {
    "duration": 10,
    "start_time": "2023-01-14T08:40:26.476Z"
   },
   {
    "duration": 965,
    "start_time": "2023-01-14T08:41:15.774Z"
   },
   {
    "duration": 755,
    "start_time": "2023-01-14T08:42:27.492Z"
   },
   {
    "duration": 911,
    "start_time": "2023-01-14T08:44:43.072Z"
   },
   {
    "duration": 1131,
    "start_time": "2023-01-14T08:44:52.207Z"
   },
   {
    "duration": 30,
    "start_time": "2023-01-14T08:44:53.339Z"
   },
   {
    "duration": 10,
    "start_time": "2023-01-14T08:44:53.371Z"
   },
   {
    "duration": 14,
    "start_time": "2023-01-14T08:44:53.383Z"
   },
   {
    "duration": 11,
    "start_time": "2023-01-14T08:44:53.398Z"
   },
   {
    "duration": 16,
    "start_time": "2023-01-14T08:44:53.410Z"
   },
   {
    "duration": 13,
    "start_time": "2023-01-14T08:44:53.427Z"
   },
   {
    "duration": 10,
    "start_time": "2023-01-14T08:44:53.441Z"
   },
   {
    "duration": 13,
    "start_time": "2023-01-14T08:44:53.453Z"
   },
   {
    "duration": 261,
    "start_time": "2023-01-14T08:44:53.468Z"
   },
   {
    "duration": 7,
    "start_time": "2023-01-14T08:44:53.732Z"
   },
   {
    "duration": 52,
    "start_time": "2023-01-14T08:44:53.741Z"
   },
   {
    "duration": 8,
    "start_time": "2023-01-14T08:44:53.795Z"
   },
   {
    "duration": 23,
    "start_time": "2023-01-14T08:44:53.805Z"
   },
   {
    "duration": 17,
    "start_time": "2023-01-14T08:44:53.830Z"
   },
   {
    "duration": 17,
    "start_time": "2023-01-14T08:44:53.848Z"
   },
   {
    "duration": 15,
    "start_time": "2023-01-14T08:44:53.866Z"
   },
   {
    "duration": 16,
    "start_time": "2023-01-14T08:44:53.882Z"
   },
   {
    "duration": 17,
    "start_time": "2023-01-14T08:44:53.899Z"
   },
   {
    "duration": 8,
    "start_time": "2023-01-14T08:44:53.917Z"
   },
   {
    "duration": 171,
    "start_time": "2023-01-14T08:44:53.926Z"
   },
   {
    "duration": 122,
    "start_time": "2023-01-14T08:44:54.098Z"
   },
   {
    "duration": 11,
    "start_time": "2023-01-14T08:44:54.222Z"
   },
   {
    "duration": 273,
    "start_time": "2023-01-14T08:44:54.235Z"
   },
   {
    "duration": 188,
    "start_time": "2023-01-14T08:44:54.509Z"
   },
   {
    "duration": 309,
    "start_time": "2023-01-14T08:44:54.698Z"
   },
   {
    "duration": 8,
    "start_time": "2023-01-14T08:44:55.009Z"
   },
   {
    "duration": 6,
    "start_time": "2023-01-14T08:44:55.020Z"
   },
   {
    "duration": 11,
    "start_time": "2023-01-14T08:44:55.027Z"
   },
   {
    "duration": 6,
    "start_time": "2023-01-14T08:44:55.039Z"
   },
   {
    "duration": 209,
    "start_time": "2023-01-14T08:44:55.047Z"
   },
   {
    "duration": 6,
    "start_time": "2023-01-14T08:44:55.258Z"
   },
   {
    "duration": 292,
    "start_time": "2023-01-14T08:44:55.265Z"
   },
   {
    "duration": 114,
    "start_time": "2023-01-14T08:44:55.559Z"
   },
   {
    "duration": 2,
    "start_time": "2023-01-14T08:44:55.675Z"
   },
   {
    "duration": 9,
    "start_time": "2023-01-14T08:44:55.679Z"
   },
   {
    "duration": 156,
    "start_time": "2023-01-14T08:44:55.689Z"
   },
   {
    "duration": 144,
    "start_time": "2023-01-14T08:44:55.847Z"
   },
   {
    "duration": 6,
    "start_time": "2023-01-14T08:44:55.992Z"
   },
   {
    "duration": 255,
    "start_time": "2023-01-14T08:44:56.000Z"
   },
   {
    "duration": 195,
    "start_time": "2023-01-14T08:44:56.257Z"
   },
   {
    "duration": 5,
    "start_time": "2023-01-14T08:44:56.454Z"
   },
   {
    "duration": 11,
    "start_time": "2023-01-14T08:44:56.460Z"
   },
   {
    "duration": 6,
    "start_time": "2023-01-14T08:44:56.473Z"
   },
   {
    "duration": 9,
    "start_time": "2023-01-14T08:44:56.481Z"
   },
   {
    "duration": 31,
    "start_time": "2023-01-14T08:44:56.492Z"
   },
   {
    "duration": 753,
    "start_time": "2023-01-14T08:44:56.524Z"
   },
   {
    "duration": 0,
    "start_time": "2023-01-14T08:44:57.279Z"
   },
   {
    "duration": 0,
    "start_time": "2023-01-14T08:44:57.280Z"
   },
   {
    "duration": 0,
    "start_time": "2023-01-14T08:44:57.281Z"
   },
   {
    "duration": 0,
    "start_time": "2023-01-14T08:44:57.282Z"
   },
   {
    "duration": 0,
    "start_time": "2023-01-14T08:44:57.284Z"
   },
   {
    "duration": 0,
    "start_time": "2023-01-14T08:44:57.285Z"
   },
   {
    "duration": 0,
    "start_time": "2023-01-14T08:44:57.286Z"
   },
   {
    "duration": 0,
    "start_time": "2023-01-14T08:44:57.288Z"
   },
   {
    "duration": 0,
    "start_time": "2023-01-14T08:44:57.289Z"
   },
   {
    "duration": 0,
    "start_time": "2023-01-14T08:44:57.290Z"
   },
   {
    "duration": 9,
    "start_time": "2023-01-14T09:05:27.023Z"
   },
   {
    "duration": 10,
    "start_time": "2023-01-14T09:07:25.895Z"
   },
   {
    "duration": 12,
    "start_time": "2023-01-14T09:12:09.557Z"
   },
   {
    "duration": 857,
    "start_time": "2023-01-14T09:14:17.379Z"
   },
   {
    "duration": 822,
    "start_time": "2023-01-14T09:18:04.506Z"
   },
   {
    "duration": 805,
    "start_time": "2023-01-14T09:21:46.466Z"
   },
   {
    "duration": 46,
    "start_time": "2023-01-14T09:22:05.701Z"
   },
   {
    "duration": 6,
    "start_time": "2023-01-14T09:23:21.376Z"
   },
   {
    "duration": 19,
    "start_time": "2023-01-14T09:24:32.706Z"
   },
   {
    "duration": 82,
    "start_time": "2023-01-14T09:28:31.200Z"
   },
   {
    "duration": 10,
    "start_time": "2023-01-14T09:28:36.984Z"
   },
   {
    "duration": 6,
    "start_time": "2023-01-14T09:29:21.882Z"
   },
   {
    "duration": 11,
    "start_time": "2023-01-14T09:29:27.663Z"
   },
   {
    "duration": 1104,
    "start_time": "2023-01-14T09:31:36.138Z"
   },
   {
    "duration": 27,
    "start_time": "2023-01-14T09:31:37.244Z"
   },
   {
    "duration": 10,
    "start_time": "2023-01-14T09:31:37.272Z"
   },
   {
    "duration": 10,
    "start_time": "2023-01-14T09:31:37.284Z"
   },
   {
    "duration": 7,
    "start_time": "2023-01-14T09:31:37.296Z"
   },
   {
    "duration": 6,
    "start_time": "2023-01-14T09:31:37.305Z"
   },
   {
    "duration": 4,
    "start_time": "2023-01-14T09:31:37.315Z"
   },
   {
    "duration": 11,
    "start_time": "2023-01-14T09:31:37.320Z"
   },
   {
    "duration": 7,
    "start_time": "2023-01-14T09:31:37.333Z"
   },
   {
    "duration": 274,
    "start_time": "2023-01-14T09:31:37.343Z"
   },
   {
    "duration": 7,
    "start_time": "2023-01-14T09:31:37.619Z"
   },
   {
    "duration": 53,
    "start_time": "2023-01-14T09:31:37.628Z"
   },
   {
    "duration": 9,
    "start_time": "2023-01-14T09:31:37.683Z"
   },
   {
    "duration": 14,
    "start_time": "2023-01-14T09:31:37.694Z"
   },
   {
    "duration": 7,
    "start_time": "2023-01-14T09:31:37.710Z"
   },
   {
    "duration": 12,
    "start_time": "2023-01-14T09:31:37.718Z"
   },
   {
    "duration": 10,
    "start_time": "2023-01-14T09:31:37.732Z"
   },
   {
    "duration": 17,
    "start_time": "2023-01-14T09:31:37.744Z"
   },
   {
    "duration": 11,
    "start_time": "2023-01-14T09:31:37.762Z"
   },
   {
    "duration": 6,
    "start_time": "2023-01-14T09:31:37.774Z"
   },
   {
    "duration": 196,
    "start_time": "2023-01-14T09:31:37.781Z"
   },
   {
    "duration": 140,
    "start_time": "2023-01-14T09:31:37.978Z"
   },
   {
    "duration": 27,
    "start_time": "2023-01-14T09:31:38.119Z"
   },
   {
    "duration": 301,
    "start_time": "2023-01-14T09:31:38.148Z"
   },
   {
    "duration": 218,
    "start_time": "2023-01-14T09:31:38.450Z"
   },
   {
    "duration": 323,
    "start_time": "2023-01-14T09:31:38.670Z"
   },
   {
    "duration": 5,
    "start_time": "2023-01-14T09:31:38.995Z"
   },
   {
    "duration": 4,
    "start_time": "2023-01-14T09:31:39.015Z"
   },
   {
    "duration": 5,
    "start_time": "2023-01-14T09:31:39.021Z"
   },
   {
    "duration": 6,
    "start_time": "2023-01-14T09:31:39.027Z"
   },
   {
    "duration": 222,
    "start_time": "2023-01-14T09:31:39.034Z"
   },
   {
    "duration": 7,
    "start_time": "2023-01-14T09:31:39.257Z"
   },
   {
    "duration": 330,
    "start_time": "2023-01-14T09:31:39.265Z"
   },
   {
    "duration": 152,
    "start_time": "2023-01-14T09:31:39.597Z"
   },
   {
    "duration": 2,
    "start_time": "2023-01-14T09:31:39.751Z"
   },
   {
    "duration": 10,
    "start_time": "2023-01-14T09:31:39.755Z"
   },
   {
    "duration": 155,
    "start_time": "2023-01-14T09:31:39.766Z"
   },
   {
    "duration": 155,
    "start_time": "2023-01-14T09:31:39.923Z"
   },
   {
    "duration": 6,
    "start_time": "2023-01-14T09:31:40.080Z"
   },
   {
    "duration": 236,
    "start_time": "2023-01-14T09:31:40.088Z"
   },
   {
    "duration": 150,
    "start_time": "2023-01-14T09:31:40.325Z"
   },
   {
    "duration": 5,
    "start_time": "2023-01-14T09:31:40.476Z"
   },
   {
    "duration": 16,
    "start_time": "2023-01-14T09:31:40.483Z"
   },
   {
    "duration": 18,
    "start_time": "2023-01-14T09:31:40.500Z"
   },
   {
    "duration": 8,
    "start_time": "2023-01-14T09:31:40.519Z"
   },
   {
    "duration": 10,
    "start_time": "2023-01-14T09:31:40.528Z"
   },
   {
    "duration": 123,
    "start_time": "2023-01-14T09:31:40.539Z"
   },
   {
    "duration": 0,
    "start_time": "2023-01-14T09:31:40.663Z"
   },
   {
    "duration": 0,
    "start_time": "2023-01-14T09:31:40.664Z"
   },
   {
    "duration": 0,
    "start_time": "2023-01-14T09:31:40.666Z"
   },
   {
    "duration": 0,
    "start_time": "2023-01-14T09:31:40.668Z"
   },
   {
    "duration": 0,
    "start_time": "2023-01-14T09:31:40.670Z"
   },
   {
    "duration": 0,
    "start_time": "2023-01-14T09:31:40.671Z"
   },
   {
    "duration": 0,
    "start_time": "2023-01-14T09:31:40.672Z"
   },
   {
    "duration": 0,
    "start_time": "2023-01-14T09:31:40.674Z"
   },
   {
    "duration": 0,
    "start_time": "2023-01-14T09:31:40.675Z"
   },
   {
    "duration": 0,
    "start_time": "2023-01-14T09:31:40.676Z"
   },
   {
    "duration": 0,
    "start_time": "2023-01-14T09:31:40.677Z"
   },
   {
    "duration": 131,
    "start_time": "2023-01-14T09:31:54.353Z"
   },
   {
    "duration": 8,
    "start_time": "2023-01-14T09:31:56.635Z"
   },
   {
    "duration": 6,
    "start_time": "2023-01-14T09:31:57.348Z"
   },
   {
    "duration": 4,
    "start_time": "2023-01-14T09:31:58.318Z"
   },
   {
    "duration": 6,
    "start_time": "2023-01-14T09:32:00.341Z"
   },
   {
    "duration": 722,
    "start_time": "2023-01-14T09:32:32.141Z"
   },
   {
    "duration": 9,
    "start_time": "2023-01-14T09:34:51.375Z"
   },
   {
    "duration": 9,
    "start_time": "2023-01-14T09:34:59.693Z"
   },
   {
    "duration": 14,
    "start_time": "2023-01-14T09:35:15.695Z"
   },
   {
    "duration": 7,
    "start_time": "2023-01-14T09:36:23.936Z"
   },
   {
    "duration": 7,
    "start_time": "2023-01-14T09:38:23.774Z"
   },
   {
    "duration": 9,
    "start_time": "2023-01-14T09:41:33.334Z"
   },
   {
    "duration": 9,
    "start_time": "2023-01-14T09:41:34.874Z"
   },
   {
    "duration": 342,
    "start_time": "2023-01-14T09:42:10.782Z"
   },
   {
    "duration": 284,
    "start_time": "2023-01-14T09:42:13.435Z"
   },
   {
    "duration": 10,
    "start_time": "2023-01-14T09:53:06.579Z"
   },
   {
    "duration": 8,
    "start_time": "2023-01-14T09:54:14.092Z"
   },
   {
    "duration": 8,
    "start_time": "2023-01-14T09:56:21.536Z"
   },
   {
    "duration": 7,
    "start_time": "2023-01-14T09:57:54.788Z"
   },
   {
    "duration": 7,
    "start_time": "2023-01-14T09:58:01.706Z"
   },
   {
    "duration": 7,
    "start_time": "2023-01-14T09:59:58.240Z"
   },
   {
    "duration": 4,
    "start_time": "2023-01-14T10:00:55.952Z"
   },
   {
    "duration": 6,
    "start_time": "2023-01-14T10:01:09.500Z"
   },
   {
    "duration": 6,
    "start_time": "2023-01-14T10:04:03.715Z"
   },
   {
    "duration": 7,
    "start_time": "2023-01-14T10:04:18.718Z"
   },
   {
    "duration": 9,
    "start_time": "2023-01-14T10:05:01.811Z"
   },
   {
    "duration": 8,
    "start_time": "2023-01-14T10:06:33.240Z"
   },
   {
    "duration": 1166,
    "start_time": "2023-01-14T10:06:44.189Z"
   },
   {
    "duration": 28,
    "start_time": "2023-01-14T10:06:45.357Z"
   },
   {
    "duration": 16,
    "start_time": "2023-01-14T10:06:45.386Z"
   },
   {
    "duration": 12,
    "start_time": "2023-01-14T10:06:45.403Z"
   },
   {
    "duration": 10,
    "start_time": "2023-01-14T10:06:45.417Z"
   },
   {
    "duration": 7,
    "start_time": "2023-01-14T10:06:45.428Z"
   },
   {
    "duration": 8,
    "start_time": "2023-01-14T10:06:45.436Z"
   },
   {
    "duration": 13,
    "start_time": "2023-01-14T10:06:45.446Z"
   },
   {
    "duration": 14,
    "start_time": "2023-01-14T10:06:45.460Z"
   },
   {
    "duration": 289,
    "start_time": "2023-01-14T10:06:45.476Z"
   },
   {
    "duration": 8,
    "start_time": "2023-01-14T10:06:45.767Z"
   },
   {
    "duration": 60,
    "start_time": "2023-01-14T10:06:45.776Z"
   },
   {
    "duration": 7,
    "start_time": "2023-01-14T10:06:45.838Z"
   },
   {
    "duration": 24,
    "start_time": "2023-01-14T10:06:45.849Z"
   },
   {
    "duration": 5,
    "start_time": "2023-01-14T10:06:45.874Z"
   },
   {
    "duration": 10,
    "start_time": "2023-01-14T10:06:45.881Z"
   },
   {
    "duration": 12,
    "start_time": "2023-01-14T10:06:45.892Z"
   },
   {
    "duration": 15,
    "start_time": "2023-01-14T10:06:45.906Z"
   },
   {
    "duration": 17,
    "start_time": "2023-01-14T10:06:45.922Z"
   },
   {
    "duration": 9,
    "start_time": "2023-01-14T10:06:45.940Z"
   },
   {
    "duration": 169,
    "start_time": "2023-01-14T10:06:45.950Z"
   },
   {
    "duration": 140,
    "start_time": "2023-01-14T10:06:46.121Z"
   },
   {
    "duration": 16,
    "start_time": "2023-01-14T10:06:46.262Z"
   },
   {
    "duration": 322,
    "start_time": "2023-01-14T10:06:46.280Z"
   },
   {
    "duration": 189,
    "start_time": "2023-01-14T10:06:46.604Z"
   },
   {
    "duration": 343,
    "start_time": "2023-01-14T10:06:46.795Z"
   },
   {
    "duration": 5,
    "start_time": "2023-01-14T10:06:47.140Z"
   },
   {
    "duration": 12,
    "start_time": "2023-01-14T10:06:47.147Z"
   },
   {
    "duration": 14,
    "start_time": "2023-01-14T10:06:47.161Z"
   },
   {
    "duration": 8,
    "start_time": "2023-01-14T10:06:47.177Z"
   },
   {
    "duration": 215,
    "start_time": "2023-01-14T10:06:47.186Z"
   },
   {
    "duration": 13,
    "start_time": "2023-01-14T10:06:47.403Z"
   },
   {
    "duration": 318,
    "start_time": "2023-01-14T10:06:47.418Z"
   },
   {
    "duration": 136,
    "start_time": "2023-01-14T10:06:47.738Z"
   },
   {
    "duration": 2,
    "start_time": "2023-01-14T10:06:47.876Z"
   },
   {
    "duration": 11,
    "start_time": "2023-01-14T10:06:47.880Z"
   },
   {
    "duration": 148,
    "start_time": "2023-01-14T10:06:47.893Z"
   },
   {
    "duration": 151,
    "start_time": "2023-01-14T10:06:48.043Z"
   },
   {
    "duration": 6,
    "start_time": "2023-01-14T10:06:48.196Z"
   },
   {
    "duration": 219,
    "start_time": "2023-01-14T10:06:48.215Z"
   },
   {
    "duration": 150,
    "start_time": "2023-01-14T10:06:48.438Z"
   },
   {
    "duration": 6,
    "start_time": "2023-01-14T10:06:48.589Z"
   },
   {
    "duration": 25,
    "start_time": "2023-01-14T10:06:48.597Z"
   },
   {
    "duration": 14,
    "start_time": "2023-01-14T10:06:48.624Z"
   },
   {
    "duration": 12,
    "start_time": "2023-01-14T10:06:48.639Z"
   },
   {
    "duration": 12,
    "start_time": "2023-01-14T10:06:48.653Z"
   },
   {
    "duration": 6,
    "start_time": "2023-01-14T10:06:48.667Z"
   },
   {
    "duration": 134,
    "start_time": "2023-01-14T10:06:48.674Z"
   },
   {
    "duration": 8,
    "start_time": "2023-01-14T10:06:48.810Z"
   },
   {
    "duration": 22,
    "start_time": "2023-01-14T10:06:48.819Z"
   },
   {
    "duration": 7,
    "start_time": "2023-01-14T10:06:48.843Z"
   },
   {
    "duration": 8,
    "start_time": "2023-01-14T10:06:48.852Z"
   },
   {
    "duration": 23,
    "start_time": "2023-01-14T10:06:48.861Z"
   },
   {
    "duration": 7,
    "start_time": "2023-01-14T10:06:48.885Z"
   },
   {
    "duration": 9,
    "start_time": "2023-01-14T10:06:48.894Z"
   },
   {
    "duration": 7,
    "start_time": "2023-01-14T10:06:48.915Z"
   },
   {
    "duration": 116,
    "start_time": "2023-01-14T10:07:25.903Z"
   },
   {
    "duration": 5,
    "start_time": "2023-01-14T10:07:36.561Z"
   },
   {
    "duration": 5,
    "start_time": "2023-01-14T10:07:44.910Z"
   },
   {
    "duration": 15,
    "start_time": "2023-01-14T10:09:27.763Z"
   },
   {
    "duration": 5,
    "start_time": "2023-01-14T10:09:32.649Z"
   },
   {
    "duration": 4,
    "start_time": "2023-01-14T10:09:33.232Z"
   },
   {
    "duration": 5,
    "start_time": "2023-01-14T10:09:36.131Z"
   },
   {
    "duration": 1084,
    "start_time": "2023-01-14T10:09:48.856Z"
   },
   {
    "duration": 27,
    "start_time": "2023-01-14T10:09:49.942Z"
   },
   {
    "duration": 11,
    "start_time": "2023-01-14T10:09:49.973Z"
   },
   {
    "duration": 11,
    "start_time": "2023-01-14T10:09:49.985Z"
   },
   {
    "duration": 8,
    "start_time": "2023-01-14T10:09:49.997Z"
   },
   {
    "duration": 10,
    "start_time": "2023-01-14T10:09:50.007Z"
   },
   {
    "duration": 10,
    "start_time": "2023-01-14T10:09:50.018Z"
   },
   {
    "duration": 13,
    "start_time": "2023-01-14T10:09:50.029Z"
   },
   {
    "duration": 8,
    "start_time": "2023-01-14T10:09:50.045Z"
   },
   {
    "duration": 275,
    "start_time": "2023-01-14T10:09:50.054Z"
   },
   {
    "duration": 7,
    "start_time": "2023-01-14T10:09:50.331Z"
   },
   {
    "duration": 54,
    "start_time": "2023-01-14T10:09:50.340Z"
   },
   {
    "duration": 7,
    "start_time": "2023-01-14T10:09:50.395Z"
   },
   {
    "duration": 13,
    "start_time": "2023-01-14T10:09:50.404Z"
   },
   {
    "duration": 6,
    "start_time": "2023-01-14T10:09:50.418Z"
   },
   {
    "duration": 15,
    "start_time": "2023-01-14T10:09:50.425Z"
   },
   {
    "duration": 14,
    "start_time": "2023-01-14T10:09:50.441Z"
   },
   {
    "duration": 21,
    "start_time": "2023-01-14T10:09:50.456Z"
   },
   {
    "duration": 14,
    "start_time": "2023-01-14T10:09:50.479Z"
   },
   {
    "duration": 8,
    "start_time": "2023-01-14T10:09:50.495Z"
   },
   {
    "duration": 174,
    "start_time": "2023-01-14T10:09:50.504Z"
   },
   {
    "duration": 124,
    "start_time": "2023-01-14T10:09:50.679Z"
   },
   {
    "duration": 19,
    "start_time": "2023-01-14T10:09:50.805Z"
   },
   {
    "duration": 292,
    "start_time": "2023-01-14T10:09:50.826Z"
   },
   {
    "duration": 197,
    "start_time": "2023-01-14T10:09:51.121Z"
   },
   {
    "duration": 304,
    "start_time": "2023-01-14T10:09:51.319Z"
   },
   {
    "duration": 5,
    "start_time": "2023-01-14T10:09:51.628Z"
   },
   {
    "duration": 10,
    "start_time": "2023-01-14T10:09:51.634Z"
   },
   {
    "duration": 7,
    "start_time": "2023-01-14T10:09:51.646Z"
   },
   {
    "duration": 6,
    "start_time": "2023-01-14T10:09:51.654Z"
   },
   {
    "duration": 210,
    "start_time": "2023-01-14T10:09:51.662Z"
   },
   {
    "duration": 7,
    "start_time": "2023-01-14T10:09:51.875Z"
   },
   {
    "duration": 351,
    "start_time": "2023-01-14T10:09:51.884Z"
   },
   {
    "duration": 157,
    "start_time": "2023-01-14T10:09:52.237Z"
   },
   {
    "duration": 20,
    "start_time": "2023-01-14T10:09:52.396Z"
   },
   {
    "duration": 23,
    "start_time": "2023-01-14T10:09:52.417Z"
   },
   {
    "duration": 136,
    "start_time": "2023-01-14T10:09:52.441Z"
   },
   {
    "duration": 144,
    "start_time": "2023-01-14T10:09:52.579Z"
   },
   {
    "duration": 5,
    "start_time": "2023-01-14T10:09:52.724Z"
   },
   {
    "duration": 220,
    "start_time": "2023-01-14T10:09:52.730Z"
   },
   {
    "duration": 143,
    "start_time": "2023-01-14T10:09:52.952Z"
   },
   {
    "duration": 4,
    "start_time": "2023-01-14T10:09:53.097Z"
   },
   {
    "duration": 18,
    "start_time": "2023-01-14T10:09:53.103Z"
   },
   {
    "duration": 6,
    "start_time": "2023-01-14T10:09:53.123Z"
   },
   {
    "duration": 13,
    "start_time": "2023-01-14T10:09:53.131Z"
   },
   {
    "duration": 23,
    "start_time": "2023-01-14T10:09:53.145Z"
   },
   {
    "duration": 10,
    "start_time": "2023-01-14T10:09:53.169Z"
   },
   {
    "duration": 122,
    "start_time": "2023-01-14T10:09:53.180Z"
   },
   {
    "duration": 11,
    "start_time": "2023-01-14T10:09:53.304Z"
   },
   {
    "duration": 8,
    "start_time": "2023-01-14T10:09:53.317Z"
   },
   {
    "duration": 13,
    "start_time": "2023-01-14T10:09:53.326Z"
   },
   {
    "duration": 9,
    "start_time": "2023-01-14T10:09:53.340Z"
   },
   {
    "duration": 18,
    "start_time": "2023-01-14T10:09:53.350Z"
   },
   {
    "duration": 6,
    "start_time": "2023-01-14T10:09:53.370Z"
   },
   {
    "duration": 23,
    "start_time": "2023-01-14T10:09:53.377Z"
   },
   {
    "duration": 18,
    "start_time": "2023-01-14T10:09:53.401Z"
   },
   {
    "duration": 6,
    "start_time": "2023-01-14T10:11:14.760Z"
   },
   {
    "duration": 4,
    "start_time": "2023-01-14T10:11:15.833Z"
   },
   {
    "duration": 5,
    "start_time": "2023-01-14T10:11:16.493Z"
   },
   {
    "duration": 99,
    "start_time": "2023-01-14T10:48:30.159Z"
   },
   {
    "duration": 1106,
    "start_time": "2023-01-14T10:48:48.937Z"
   },
   {
    "duration": 28,
    "start_time": "2023-01-14T10:48:50.045Z"
   },
   {
    "duration": 5,
    "start_time": "2023-01-14T10:48:50.078Z"
   },
   {
    "duration": 101,
    "start_time": "2023-01-14T10:48:50.085Z"
   },
   {
    "duration": 0,
    "start_time": "2023-01-14T10:48:50.188Z"
   },
   {
    "duration": 0,
    "start_time": "2023-01-14T10:48:50.189Z"
   },
   {
    "duration": 0,
    "start_time": "2023-01-14T10:48:50.190Z"
   },
   {
    "duration": 0,
    "start_time": "2023-01-14T10:48:50.191Z"
   },
   {
    "duration": 0,
    "start_time": "2023-01-14T10:48:50.193Z"
   },
   {
    "duration": 0,
    "start_time": "2023-01-14T10:48:50.194Z"
   },
   {
    "duration": 0,
    "start_time": "2023-01-14T10:48:50.195Z"
   },
   {
    "duration": 0,
    "start_time": "2023-01-14T10:48:50.196Z"
   },
   {
    "duration": 0,
    "start_time": "2023-01-14T10:48:50.197Z"
   },
   {
    "duration": 0,
    "start_time": "2023-01-14T10:48:50.198Z"
   },
   {
    "duration": 0,
    "start_time": "2023-01-14T10:48:50.199Z"
   },
   {
    "duration": 0,
    "start_time": "2023-01-14T10:48:50.216Z"
   },
   {
    "duration": 0,
    "start_time": "2023-01-14T10:48:50.217Z"
   },
   {
    "duration": 0,
    "start_time": "2023-01-14T10:48:50.218Z"
   },
   {
    "duration": 0,
    "start_time": "2023-01-14T10:48:50.219Z"
   },
   {
    "duration": 0,
    "start_time": "2023-01-14T10:48:50.220Z"
   },
   {
    "duration": 0,
    "start_time": "2023-01-14T10:48:50.221Z"
   },
   {
    "duration": 0,
    "start_time": "2023-01-14T10:48:50.222Z"
   },
   {
    "duration": 0,
    "start_time": "2023-01-14T10:48:50.223Z"
   },
   {
    "duration": 0,
    "start_time": "2023-01-14T10:48:50.224Z"
   },
   {
    "duration": 0,
    "start_time": "2023-01-14T10:48:50.225Z"
   },
   {
    "duration": 0,
    "start_time": "2023-01-14T10:48:50.226Z"
   },
   {
    "duration": 0,
    "start_time": "2023-01-14T10:48:50.227Z"
   },
   {
    "duration": 0,
    "start_time": "2023-01-14T10:48:50.228Z"
   },
   {
    "duration": 1,
    "start_time": "2023-01-14T10:48:50.229Z"
   },
   {
    "duration": 0,
    "start_time": "2023-01-14T10:48:50.231Z"
   },
   {
    "duration": 0,
    "start_time": "2023-01-14T10:48:50.232Z"
   },
   {
    "duration": 0,
    "start_time": "2023-01-14T10:48:50.233Z"
   },
   {
    "duration": 0,
    "start_time": "2023-01-14T10:48:50.234Z"
   },
   {
    "duration": 0,
    "start_time": "2023-01-14T10:48:50.235Z"
   },
   {
    "duration": 0,
    "start_time": "2023-01-14T10:48:50.236Z"
   },
   {
    "duration": 0,
    "start_time": "2023-01-14T10:48:50.237Z"
   },
   {
    "duration": 0,
    "start_time": "2023-01-14T10:48:50.238Z"
   },
   {
    "duration": 0,
    "start_time": "2023-01-14T10:48:50.239Z"
   },
   {
    "duration": 0,
    "start_time": "2023-01-14T10:48:50.240Z"
   },
   {
    "duration": 0,
    "start_time": "2023-01-14T10:48:50.241Z"
   },
   {
    "duration": 0,
    "start_time": "2023-01-14T10:48:50.242Z"
   },
   {
    "duration": 0,
    "start_time": "2023-01-14T10:48:50.243Z"
   },
   {
    "duration": 0,
    "start_time": "2023-01-14T10:48:50.244Z"
   },
   {
    "duration": 0,
    "start_time": "2023-01-14T10:48:50.245Z"
   },
   {
    "duration": 0,
    "start_time": "2023-01-14T10:48:50.246Z"
   },
   {
    "duration": 0,
    "start_time": "2023-01-14T10:48:50.247Z"
   },
   {
    "duration": 0,
    "start_time": "2023-01-14T10:48:50.248Z"
   },
   {
    "duration": 0,
    "start_time": "2023-01-14T10:48:50.249Z"
   },
   {
    "duration": 0,
    "start_time": "2023-01-14T10:48:50.250Z"
   },
   {
    "duration": 0,
    "start_time": "2023-01-14T10:48:50.251Z"
   },
   {
    "duration": 0,
    "start_time": "2023-01-14T10:48:50.316Z"
   },
   {
    "duration": 0,
    "start_time": "2023-01-14T10:48:50.317Z"
   },
   {
    "duration": 0,
    "start_time": "2023-01-14T10:48:50.318Z"
   },
   {
    "duration": 0,
    "start_time": "2023-01-14T10:48:50.319Z"
   },
   {
    "duration": 0,
    "start_time": "2023-01-14T10:48:50.320Z"
   },
   {
    "duration": 0,
    "start_time": "2023-01-14T10:48:50.322Z"
   },
   {
    "duration": 8,
    "start_time": "2023-01-14T10:49:07.832Z"
   },
   {
    "duration": 26,
    "start_time": "2023-01-14T10:49:23.432Z"
   },
   {
    "duration": 27,
    "start_time": "2023-01-14T10:49:54.766Z"
   },
   {
    "duration": 1060,
    "start_time": "2023-01-14T10:49:59.175Z"
   },
   {
    "duration": 28,
    "start_time": "2023-01-14T10:50:00.237Z"
   },
   {
    "duration": 14,
    "start_time": "2023-01-14T10:50:00.267Z"
   },
   {
    "duration": 14,
    "start_time": "2023-01-14T10:50:00.284Z"
   },
   {
    "duration": 26,
    "start_time": "2023-01-14T10:50:00.300Z"
   },
   {
    "duration": 32,
    "start_time": "2023-01-14T10:50:00.328Z"
   },
   {
    "duration": 28,
    "start_time": "2023-01-14T10:50:00.362Z"
   },
   {
    "duration": 39,
    "start_time": "2023-01-14T10:50:00.392Z"
   },
   {
    "duration": 29,
    "start_time": "2023-01-14T10:50:00.433Z"
   },
   {
    "duration": 324,
    "start_time": "2023-01-14T10:50:00.465Z"
   },
   {
    "duration": 7,
    "start_time": "2023-01-14T10:50:00.791Z"
   },
   {
    "duration": 57,
    "start_time": "2023-01-14T10:50:00.816Z"
   },
   {
    "duration": 11,
    "start_time": "2023-01-14T10:50:00.876Z"
   },
   {
    "duration": 50,
    "start_time": "2023-01-14T10:50:00.889Z"
   },
   {
    "duration": 32,
    "start_time": "2023-01-14T10:50:00.941Z"
   },
   {
    "duration": 42,
    "start_time": "2023-01-14T10:50:00.975Z"
   },
   {
    "duration": 46,
    "start_time": "2023-01-14T10:50:01.020Z"
   },
   {
    "duration": 37,
    "start_time": "2023-01-14T10:50:01.068Z"
   },
   {
    "duration": 39,
    "start_time": "2023-01-14T10:50:01.107Z"
   },
   {
    "duration": 32,
    "start_time": "2023-01-14T10:50:01.148Z"
   },
   {
    "duration": 197,
    "start_time": "2023-01-14T10:50:01.182Z"
   },
   {
    "duration": 137,
    "start_time": "2023-01-14T10:50:01.381Z"
   },
   {
    "duration": 12,
    "start_time": "2023-01-14T10:50:01.520Z"
   },
   {
    "duration": 285,
    "start_time": "2023-01-14T10:50:01.534Z"
   },
   {
    "duration": 205,
    "start_time": "2023-01-14T10:50:01.821Z"
   },
   {
    "duration": 336,
    "start_time": "2023-01-14T10:50:02.028Z"
   },
   {
    "duration": 5,
    "start_time": "2023-01-14T10:50:02.366Z"
   },
   {
    "duration": 10,
    "start_time": "2023-01-14T10:50:02.376Z"
   },
   {
    "duration": 10,
    "start_time": "2023-01-14T10:50:02.388Z"
   },
   {
    "duration": 13,
    "start_time": "2023-01-14T10:50:02.399Z"
   },
   {
    "duration": 219,
    "start_time": "2023-01-14T10:50:02.413Z"
   },
   {
    "duration": 7,
    "start_time": "2023-01-14T10:50:02.633Z"
   },
   {
    "duration": 310,
    "start_time": "2023-01-14T10:50:02.642Z"
   },
   {
    "duration": 128,
    "start_time": "2023-01-14T10:50:02.954Z"
   },
   {
    "duration": 3,
    "start_time": "2023-01-14T10:50:03.083Z"
   },
   {
    "duration": 21,
    "start_time": "2023-01-14T10:50:03.088Z"
   },
   {
    "duration": 138,
    "start_time": "2023-01-14T10:50:03.116Z"
   },
   {
    "duration": 201,
    "start_time": "2023-01-14T10:50:03.256Z"
   },
   {
    "duration": 5,
    "start_time": "2023-01-14T10:50:03.459Z"
   },
   {
    "duration": 231,
    "start_time": "2023-01-14T10:50:03.466Z"
   },
   {
    "duration": 178,
    "start_time": "2023-01-14T10:50:03.699Z"
   },
   {
    "duration": 6,
    "start_time": "2023-01-14T10:50:03.879Z"
   },
   {
    "duration": 20,
    "start_time": "2023-01-14T10:50:03.886Z"
   },
   {
    "duration": 9,
    "start_time": "2023-01-14T10:50:03.916Z"
   },
   {
    "duration": 13,
    "start_time": "2023-01-14T10:50:03.927Z"
   },
   {
    "duration": 16,
    "start_time": "2023-01-14T10:50:03.942Z"
   },
   {
    "duration": 8,
    "start_time": "2023-01-14T10:50:03.961Z"
   },
   {
    "duration": 183,
    "start_time": "2023-01-14T10:50:03.971Z"
   },
   {
    "duration": 9,
    "start_time": "2023-01-14T10:50:04.156Z"
   },
   {
    "duration": 7,
    "start_time": "2023-01-14T10:50:04.168Z"
   },
   {
    "duration": 8,
    "start_time": "2023-01-14T10:50:04.176Z"
   },
   {
    "duration": 8,
    "start_time": "2023-01-14T10:50:04.185Z"
   },
   {
    "duration": 34,
    "start_time": "2023-01-14T10:50:04.194Z"
   },
   {
    "duration": 7,
    "start_time": "2023-01-14T10:50:04.230Z"
   },
   {
    "duration": 24,
    "start_time": "2023-01-14T10:50:04.239Z"
   },
   {
    "duration": 10,
    "start_time": "2023-01-14T10:50:04.265Z"
   },
   {
    "duration": 120,
    "start_time": "2023-01-14T10:52:54.712Z"
   },
   {
    "duration": 33,
    "start_time": "2023-01-14T10:53:19.618Z"
   },
   {
    "duration": 15,
    "start_time": "2023-01-14T10:53:28.789Z"
   },
   {
    "duration": 60,
    "start_time": "2023-01-14T10:53:41.245Z"
   },
   {
    "duration": 9,
    "start_time": "2023-01-14T11:02:32.904Z"
   },
   {
    "duration": 6,
    "start_time": "2023-01-14T11:02:40.408Z"
   },
   {
    "duration": 13,
    "start_time": "2023-01-14T11:05:50.169Z"
   },
   {
    "duration": 14,
    "start_time": "2023-01-14T11:05:56.709Z"
   },
   {
    "duration": 1066,
    "start_time": "2023-01-14T11:06:20.661Z"
   },
   {
    "duration": 27,
    "start_time": "2023-01-14T11:06:21.729Z"
   },
   {
    "duration": 11,
    "start_time": "2023-01-14T11:06:21.760Z"
   },
   {
    "duration": 10,
    "start_time": "2023-01-14T11:06:21.773Z"
   },
   {
    "duration": 6,
    "start_time": "2023-01-14T11:06:21.787Z"
   },
   {
    "duration": 5,
    "start_time": "2023-01-14T11:06:21.795Z"
   },
   {
    "duration": 5,
    "start_time": "2023-01-14T11:06:21.801Z"
   },
   {
    "duration": 11,
    "start_time": "2023-01-14T11:06:21.815Z"
   },
   {
    "duration": 10,
    "start_time": "2023-01-14T11:06:21.829Z"
   },
   {
    "duration": 330,
    "start_time": "2023-01-14T11:06:21.841Z"
   },
   {
    "duration": 8,
    "start_time": "2023-01-14T11:06:22.172Z"
   },
   {
    "duration": 60,
    "start_time": "2023-01-14T11:06:22.182Z"
   },
   {
    "duration": 8,
    "start_time": "2023-01-14T11:06:22.243Z"
   },
   {
    "duration": 12,
    "start_time": "2023-01-14T11:06:22.253Z"
   },
   {
    "duration": 3,
    "start_time": "2023-01-14T11:06:22.268Z"
   },
   {
    "duration": 9,
    "start_time": "2023-01-14T11:06:22.273Z"
   },
   {
    "duration": 13,
    "start_time": "2023-01-14T11:06:22.284Z"
   },
   {
    "duration": 18,
    "start_time": "2023-01-14T11:06:22.299Z"
   },
   {
    "duration": 22,
    "start_time": "2023-01-14T11:06:22.319Z"
   },
   {
    "duration": 6,
    "start_time": "2023-01-14T11:06:22.343Z"
   },
   {
    "duration": 10,
    "start_time": "2023-01-14T11:06:22.350Z"
   },
   {
    "duration": 6,
    "start_time": "2023-01-14T11:06:22.363Z"
   },
   {
    "duration": 218,
    "start_time": "2023-01-14T11:06:22.371Z"
   },
   {
    "duration": 141,
    "start_time": "2023-01-14T11:06:22.590Z"
   },
   {
    "duration": 23,
    "start_time": "2023-01-14T11:06:22.733Z"
   },
   {
    "duration": 264,
    "start_time": "2023-01-14T11:06:22.757Z"
   },
   {
    "duration": 214,
    "start_time": "2023-01-14T11:06:23.024Z"
   },
   {
    "duration": 311,
    "start_time": "2023-01-14T11:06:23.240Z"
   },
   {
    "duration": 4,
    "start_time": "2023-01-14T11:06:23.553Z"
   },
   {
    "duration": 7,
    "start_time": "2023-01-14T11:06:23.559Z"
   },
   {
    "duration": 6,
    "start_time": "2023-01-14T11:06:23.568Z"
   },
   {
    "duration": 7,
    "start_time": "2023-01-14T11:06:23.576Z"
   },
   {
    "duration": 221,
    "start_time": "2023-01-14T11:06:23.587Z"
   },
   {
    "duration": 9,
    "start_time": "2023-01-14T11:06:23.810Z"
   },
   {
    "duration": 322,
    "start_time": "2023-01-14T11:06:23.821Z"
   },
   {
    "duration": 137,
    "start_time": "2023-01-14T11:06:24.144Z"
   },
   {
    "duration": 2,
    "start_time": "2023-01-14T11:06:24.283Z"
   },
   {
    "duration": 10,
    "start_time": "2023-01-14T11:06:24.287Z"
   },
   {
    "duration": 127,
    "start_time": "2023-01-14T11:06:24.315Z"
   },
   {
    "duration": 137,
    "start_time": "2023-01-14T11:06:24.443Z"
   },
   {
    "duration": 5,
    "start_time": "2023-01-14T11:06:24.581Z"
   },
   {
    "duration": 234,
    "start_time": "2023-01-14T11:06:24.588Z"
   },
   {
    "duration": 153,
    "start_time": "2023-01-14T11:06:24.823Z"
   },
   {
    "duration": 5,
    "start_time": "2023-01-14T11:06:24.978Z"
   },
   {
    "duration": 11,
    "start_time": "2023-01-14T11:06:24.985Z"
   },
   {
    "duration": 23,
    "start_time": "2023-01-14T11:06:24.998Z"
   },
   {
    "duration": 21,
    "start_time": "2023-01-14T11:06:25.023Z"
   },
   {
    "duration": 13,
    "start_time": "2023-01-14T11:06:25.045Z"
   },
   {
    "duration": 28,
    "start_time": "2023-01-14T11:06:25.060Z"
   },
   {
    "duration": 200,
    "start_time": "2023-01-14T11:06:25.090Z"
   },
   {
    "duration": 8,
    "start_time": "2023-01-14T11:06:25.292Z"
   },
   {
    "duration": 32,
    "start_time": "2023-01-14T11:06:25.302Z"
   },
   {
    "duration": 12,
    "start_time": "2023-01-14T11:06:25.336Z"
   },
   {
    "duration": 18,
    "start_time": "2023-01-14T11:06:25.349Z"
   },
   {
    "duration": 21,
    "start_time": "2023-01-14T11:06:25.368Z"
   },
   {
    "duration": 9,
    "start_time": "2023-01-14T11:06:25.390Z"
   },
   {
    "duration": 16,
    "start_time": "2023-01-14T11:06:25.401Z"
   },
   {
    "duration": 13,
    "start_time": "2023-01-14T11:06:25.419Z"
   },
   {
    "duration": 13,
    "start_time": "2023-01-14T11:07:05.257Z"
   },
   {
    "duration": 144,
    "start_time": "2023-01-14T11:09:33.078Z"
   },
   {
    "duration": 42,
    "start_time": "2023-01-14T11:09:45.081Z"
   },
   {
    "duration": 10,
    "start_time": "2023-01-14T11:10:36.037Z"
   },
   {
    "duration": 1122,
    "start_time": "2023-01-14T11:10:46.317Z"
   },
   {
    "duration": 27,
    "start_time": "2023-01-14T11:10:47.441Z"
   },
   {
    "duration": 10,
    "start_time": "2023-01-14T11:10:47.470Z"
   },
   {
    "duration": 12,
    "start_time": "2023-01-14T11:10:47.482Z"
   },
   {
    "duration": 7,
    "start_time": "2023-01-14T11:10:47.495Z"
   },
   {
    "duration": 10,
    "start_time": "2023-01-14T11:10:47.503Z"
   },
   {
    "duration": 17,
    "start_time": "2023-01-14T11:10:47.514Z"
   },
   {
    "duration": 15,
    "start_time": "2023-01-14T11:10:47.532Z"
   },
   {
    "duration": 15,
    "start_time": "2023-01-14T11:10:47.549Z"
   },
   {
    "duration": 279,
    "start_time": "2023-01-14T11:10:47.567Z"
   },
   {
    "duration": 10,
    "start_time": "2023-01-14T11:10:47.848Z"
   },
   {
    "duration": 64,
    "start_time": "2023-01-14T11:10:47.859Z"
   },
   {
    "duration": 10,
    "start_time": "2023-01-14T11:10:47.925Z"
   },
   {
    "duration": 13,
    "start_time": "2023-01-14T11:10:47.937Z"
   },
   {
    "duration": 8,
    "start_time": "2023-01-14T11:10:47.952Z"
   },
   {
    "duration": 12,
    "start_time": "2023-01-14T11:10:47.962Z"
   },
   {
    "duration": 26,
    "start_time": "2023-01-14T11:10:47.976Z"
   },
   {
    "duration": 20,
    "start_time": "2023-01-14T11:10:48.004Z"
   },
   {
    "duration": 12,
    "start_time": "2023-01-14T11:10:48.026Z"
   },
   {
    "duration": 6,
    "start_time": "2023-01-14T11:10:48.040Z"
   },
   {
    "duration": 17,
    "start_time": "2023-01-14T11:10:48.048Z"
   },
   {
    "duration": 14,
    "start_time": "2023-01-14T11:10:48.067Z"
   },
   {
    "duration": 185,
    "start_time": "2023-01-14T11:10:48.082Z"
   },
   {
    "duration": 152,
    "start_time": "2023-01-14T11:10:48.269Z"
   },
   {
    "duration": 12,
    "start_time": "2023-01-14T11:10:48.423Z"
   },
   {
    "duration": 322,
    "start_time": "2023-01-14T11:10:48.436Z"
   },
   {
    "duration": 212,
    "start_time": "2023-01-14T11:10:48.760Z"
   },
   {
    "duration": 401,
    "start_time": "2023-01-14T11:10:48.977Z"
   },
   {
    "duration": 5,
    "start_time": "2023-01-14T11:10:49.380Z"
   },
   {
    "duration": 10,
    "start_time": "2023-01-14T11:10:49.387Z"
   },
   {
    "duration": 7,
    "start_time": "2023-01-14T11:10:49.399Z"
   },
   {
    "duration": 4,
    "start_time": "2023-01-14T11:10:49.415Z"
   },
   {
    "duration": 210,
    "start_time": "2023-01-14T11:10:49.421Z"
   },
   {
    "duration": 8,
    "start_time": "2023-01-14T11:10:49.633Z"
   },
   {
    "duration": 325,
    "start_time": "2023-01-14T11:10:49.643Z"
   },
   {
    "duration": 208,
    "start_time": "2023-01-14T11:10:49.970Z"
   },
   {
    "duration": 8,
    "start_time": "2023-01-14T11:10:50.180Z"
   },
   {
    "duration": 10,
    "start_time": "2023-01-14T11:10:50.189Z"
   },
   {
    "duration": 152,
    "start_time": "2023-01-14T11:10:50.201Z"
   },
   {
    "duration": 141,
    "start_time": "2023-01-14T11:10:50.355Z"
   },
   {
    "duration": 6,
    "start_time": "2023-01-14T11:10:50.498Z"
   },
   {
    "duration": 226,
    "start_time": "2023-01-14T11:10:50.516Z"
   },
   {
    "duration": 154,
    "start_time": "2023-01-14T11:10:50.743Z"
   },
   {
    "duration": 5,
    "start_time": "2023-01-14T11:10:50.899Z"
   },
   {
    "duration": 22,
    "start_time": "2023-01-14T11:10:50.905Z"
   },
   {
    "duration": 19,
    "start_time": "2023-01-14T11:10:50.929Z"
   },
   {
    "duration": 21,
    "start_time": "2023-01-14T11:10:50.950Z"
   },
   {
    "duration": 14,
    "start_time": "2023-01-14T11:10:50.973Z"
   },
   {
    "duration": 36,
    "start_time": "2023-01-14T11:10:50.989Z"
   },
   {
    "duration": 150,
    "start_time": "2023-01-14T11:10:51.027Z"
   },
   {
    "duration": 9,
    "start_time": "2023-01-14T11:10:51.179Z"
   },
   {
    "duration": 7,
    "start_time": "2023-01-14T11:10:51.190Z"
   },
   {
    "duration": 17,
    "start_time": "2023-01-14T11:10:51.199Z"
   },
   {
    "duration": 8,
    "start_time": "2023-01-14T11:10:51.218Z"
   },
   {
    "duration": 18,
    "start_time": "2023-01-14T11:10:51.227Z"
   },
   {
    "duration": 14,
    "start_time": "2023-01-14T11:10:51.247Z"
   },
   {
    "duration": 11,
    "start_time": "2023-01-14T11:10:51.263Z"
   },
   {
    "duration": 9,
    "start_time": "2023-01-14T11:10:51.276Z"
   },
   {
    "duration": 8,
    "start_time": "2023-01-14T11:16:01.042Z"
   },
   {
    "duration": 5,
    "start_time": "2023-01-14T11:17:41.989Z"
   },
   {
    "duration": 9,
    "start_time": "2023-01-14T11:21:45.876Z"
   },
   {
    "duration": 7,
    "start_time": "2023-01-14T11:23:22.101Z"
   },
   {
    "duration": 6,
    "start_time": "2023-01-14T11:23:23.554Z"
   },
   {
    "duration": 1165,
    "start_time": "2023-01-14T11:23:28.989Z"
   },
   {
    "duration": 27,
    "start_time": "2023-01-14T11:23:30.156Z"
   },
   {
    "duration": 11,
    "start_time": "2023-01-14T11:23:30.185Z"
   },
   {
    "duration": 13,
    "start_time": "2023-01-14T11:23:30.197Z"
   },
   {
    "duration": 17,
    "start_time": "2023-01-14T11:23:30.212Z"
   },
   {
    "duration": 27,
    "start_time": "2023-01-14T11:23:30.231Z"
   },
   {
    "duration": 13,
    "start_time": "2023-01-14T11:23:30.259Z"
   },
   {
    "duration": 19,
    "start_time": "2023-01-14T11:23:30.273Z"
   },
   {
    "duration": 11,
    "start_time": "2023-01-14T11:23:30.294Z"
   },
   {
    "duration": 326,
    "start_time": "2023-01-14T11:23:30.308Z"
   },
   {
    "duration": 10,
    "start_time": "2023-01-14T11:23:30.636Z"
   },
   {
    "duration": 85,
    "start_time": "2023-01-14T11:23:30.648Z"
   },
   {
    "duration": 11,
    "start_time": "2023-01-14T11:23:30.736Z"
   },
   {
    "duration": 45,
    "start_time": "2023-01-14T11:23:30.749Z"
   },
   {
    "duration": 46,
    "start_time": "2023-01-14T11:23:30.796Z"
   },
   {
    "duration": 41,
    "start_time": "2023-01-14T11:23:30.844Z"
   },
   {
    "duration": 52,
    "start_time": "2023-01-14T11:23:30.887Z"
   },
   {
    "duration": 44,
    "start_time": "2023-01-14T11:23:30.941Z"
   },
   {
    "duration": 48,
    "start_time": "2023-01-14T11:23:30.987Z"
   },
   {
    "duration": 23,
    "start_time": "2023-01-14T11:23:31.037Z"
   },
   {
    "duration": 37,
    "start_time": "2023-01-14T11:23:31.062Z"
   },
   {
    "duration": 40,
    "start_time": "2023-01-14T11:23:31.102Z"
   },
   {
    "duration": 21,
    "start_time": "2023-01-14T11:23:31.144Z"
   },
   {
    "duration": 36,
    "start_time": "2023-01-14T11:23:31.167Z"
   },
   {
    "duration": 39,
    "start_time": "2023-01-14T11:23:31.205Z"
   },
   {
    "duration": 181,
    "start_time": "2023-01-14T11:23:31.246Z"
   },
   {
    "duration": 130,
    "start_time": "2023-01-14T11:23:31.429Z"
   },
   {
    "duration": 20,
    "start_time": "2023-01-14T11:23:31.564Z"
   },
   {
    "duration": 284,
    "start_time": "2023-01-14T11:23:31.586Z"
   },
   {
    "duration": 197,
    "start_time": "2023-01-14T11:23:31.872Z"
   },
   {
    "duration": 413,
    "start_time": "2023-01-14T11:23:32.071Z"
   },
   {
    "duration": 5,
    "start_time": "2023-01-14T11:23:32.487Z"
   },
   {
    "duration": 23,
    "start_time": "2023-01-14T11:23:32.493Z"
   },
   {
    "duration": 12,
    "start_time": "2023-01-14T11:23:32.517Z"
   },
   {
    "duration": 8,
    "start_time": "2023-01-14T11:23:32.531Z"
   },
   {
    "duration": 202,
    "start_time": "2023-01-14T11:23:32.540Z"
   },
   {
    "duration": 8,
    "start_time": "2023-01-14T11:23:32.743Z"
   },
   {
    "duration": 313,
    "start_time": "2023-01-14T11:23:32.753Z"
   },
   {
    "duration": 195,
    "start_time": "2023-01-14T11:23:33.068Z"
   },
   {
    "duration": 3,
    "start_time": "2023-01-14T11:23:33.264Z"
   },
   {
    "duration": 12,
    "start_time": "2023-01-14T11:23:33.269Z"
   },
   {
    "duration": 145,
    "start_time": "2023-01-14T11:23:33.283Z"
   },
   {
    "duration": 144,
    "start_time": "2023-01-14T11:23:33.430Z"
   },
   {
    "duration": 5,
    "start_time": "2023-01-14T11:23:33.576Z"
   },
   {
    "duration": 242,
    "start_time": "2023-01-14T11:23:33.583Z"
   },
   {
    "duration": 162,
    "start_time": "2023-01-14T11:23:33.827Z"
   },
   {
    "duration": 6,
    "start_time": "2023-01-14T11:23:33.991Z"
   },
   {
    "duration": 29,
    "start_time": "2023-01-14T11:23:33.999Z"
   },
   {
    "duration": 10,
    "start_time": "2023-01-14T11:23:34.030Z"
   },
   {
    "duration": 8,
    "start_time": "2023-01-14T11:23:34.042Z"
   },
   {
    "duration": 22,
    "start_time": "2023-01-14T11:23:34.052Z"
   },
   {
    "duration": 12,
    "start_time": "2023-01-14T11:23:34.076Z"
   },
   {
    "duration": 149,
    "start_time": "2023-01-14T11:23:34.090Z"
   },
   {
    "duration": 9,
    "start_time": "2023-01-14T11:23:34.241Z"
   },
   {
    "duration": 8,
    "start_time": "2023-01-14T11:23:34.252Z"
   },
   {
    "duration": 5,
    "start_time": "2023-01-14T11:23:34.262Z"
   },
   {
    "duration": 8,
    "start_time": "2023-01-14T11:23:34.269Z"
   },
   {
    "duration": 46,
    "start_time": "2023-01-14T11:23:34.281Z"
   },
   {
    "duration": 8,
    "start_time": "2023-01-14T11:23:34.328Z"
   },
   {
    "duration": 11,
    "start_time": "2023-01-14T11:23:34.338Z"
   },
   {
    "duration": 9,
    "start_time": "2023-01-14T11:23:34.351Z"
   },
   {
    "duration": 215,
    "start_time": "2023-01-14T11:45:25.470Z"
   },
   {
    "duration": 180,
    "start_time": "2023-01-14T11:45:39.357Z"
   },
   {
    "duration": 381,
    "start_time": "2023-01-14T11:55:30.336Z"
   },
   {
    "duration": 408,
    "start_time": "2023-01-14T11:55:42.321Z"
   },
   {
    "duration": 350,
    "start_time": "2023-01-14T12:45:16.583Z"
   },
   {
    "duration": 259,
    "start_time": "2023-01-14T12:47:54.163Z"
   },
   {
    "duration": 299,
    "start_time": "2023-01-14T12:48:38.195Z"
   },
   {
    "duration": 277,
    "start_time": "2023-01-14T12:49:20.410Z"
   },
   {
    "duration": 306,
    "start_time": "2023-01-14T12:49:27.592Z"
   },
   {
    "duration": 315,
    "start_time": "2023-01-14T12:50:15.916Z"
   },
   {
    "duration": 238,
    "start_time": "2023-01-14T12:50:47.646Z"
   },
   {
    "duration": 261,
    "start_time": "2023-01-14T12:51:00.735Z"
   },
   {
    "duration": 289,
    "start_time": "2023-01-14T12:53:51.807Z"
   },
   {
    "duration": 733,
    "start_time": "2023-01-14T13:09:37.911Z"
   },
   {
    "duration": 5,
    "start_time": "2023-01-14T13:10:51.798Z"
   },
   {
    "duration": 5,
    "start_time": "2023-01-14T13:11:22.975Z"
   },
   {
    "duration": 1192,
    "start_time": "2023-01-14T13:13:07.291Z"
   },
   {
    "duration": 28,
    "start_time": "2023-01-14T13:13:08.485Z"
   },
   {
    "duration": 12,
    "start_time": "2023-01-14T13:13:08.514Z"
   },
   {
    "duration": 11,
    "start_time": "2023-01-14T13:13:08.528Z"
   },
   {
    "duration": 7,
    "start_time": "2023-01-14T13:13:08.540Z"
   },
   {
    "duration": 5,
    "start_time": "2023-01-14T13:13:08.549Z"
   },
   {
    "duration": 4,
    "start_time": "2023-01-14T13:13:08.556Z"
   },
   {
    "duration": 10,
    "start_time": "2023-01-14T13:13:08.562Z"
   },
   {
    "duration": 45,
    "start_time": "2023-01-14T13:13:08.574Z"
   },
   {
    "duration": 274,
    "start_time": "2023-01-14T13:13:08.623Z"
   },
   {
    "duration": 17,
    "start_time": "2023-01-14T13:13:08.899Z"
   },
   {
    "duration": 49,
    "start_time": "2023-01-14T13:13:08.918Z"
   },
   {
    "duration": 8,
    "start_time": "2023-01-14T13:13:08.968Z"
   },
   {
    "duration": 18,
    "start_time": "2023-01-14T13:13:08.978Z"
   },
   {
    "duration": 6,
    "start_time": "2023-01-14T13:13:08.998Z"
   },
   {
    "duration": 9,
    "start_time": "2023-01-14T13:13:09.006Z"
   },
   {
    "duration": 11,
    "start_time": "2023-01-14T13:13:09.017Z"
   },
   {
    "duration": 17,
    "start_time": "2023-01-14T13:13:09.029Z"
   },
   {
    "duration": 12,
    "start_time": "2023-01-14T13:13:09.048Z"
   },
   {
    "duration": 6,
    "start_time": "2023-01-14T13:13:09.062Z"
   },
   {
    "duration": 6,
    "start_time": "2023-01-14T13:13:09.069Z"
   },
   {
    "duration": 42,
    "start_time": "2023-01-14T13:13:09.076Z"
   },
   {
    "duration": 7,
    "start_time": "2023-01-14T13:13:09.121Z"
   },
   {
    "duration": 37,
    "start_time": "2023-01-14T13:13:09.130Z"
   },
   {
    "duration": 11,
    "start_time": "2023-01-14T13:13:09.169Z"
   },
   {
    "duration": 183,
    "start_time": "2023-01-14T13:13:09.182Z"
   },
   {
    "duration": 123,
    "start_time": "2023-01-14T13:13:09.367Z"
   },
   {
    "duration": 11,
    "start_time": "2023-01-14T13:13:09.494Z"
   },
   {
    "duration": 285,
    "start_time": "2023-01-14T13:13:09.515Z"
   },
   {
    "duration": 208,
    "start_time": "2023-01-14T13:13:09.801Z"
   },
   {
    "duration": 320,
    "start_time": "2023-01-14T13:13:10.010Z"
   },
   {
    "duration": 5,
    "start_time": "2023-01-14T13:13:10.332Z"
   },
   {
    "duration": 9,
    "start_time": "2023-01-14T13:13:10.339Z"
   },
   {
    "duration": 13,
    "start_time": "2023-01-14T13:13:10.350Z"
   },
   {
    "duration": 6,
    "start_time": "2023-01-14T13:13:10.364Z"
   },
   {
    "duration": 204,
    "start_time": "2023-01-14T13:13:10.371Z"
   },
   {
    "duration": 6,
    "start_time": "2023-01-14T13:13:10.577Z"
   },
   {
    "duration": 349,
    "start_time": "2023-01-14T13:13:10.585Z"
   },
   {
    "duration": 123,
    "start_time": "2023-01-14T13:13:10.935Z"
   },
   {
    "duration": 4,
    "start_time": "2023-01-14T13:13:11.060Z"
   },
   {
    "duration": 11,
    "start_time": "2023-01-14T13:13:11.065Z"
   },
   {
    "duration": 154,
    "start_time": "2023-01-14T13:13:11.078Z"
   },
   {
    "duration": 144,
    "start_time": "2023-01-14T13:13:11.234Z"
   },
   {
    "duration": 5,
    "start_time": "2023-01-14T13:13:11.380Z"
   },
   {
    "duration": 219,
    "start_time": "2023-01-14T13:13:11.387Z"
   },
   {
    "duration": 145,
    "start_time": "2023-01-14T13:13:11.608Z"
   },
   {
    "duration": 163,
    "start_time": "2023-01-14T13:13:11.755Z"
   },
   {
    "duration": 5,
    "start_time": "2023-01-14T13:13:11.920Z"
   },
   {
    "duration": 12,
    "start_time": "2023-01-14T13:13:11.926Z"
   },
   {
    "duration": 8,
    "start_time": "2023-01-14T13:13:11.941Z"
   },
   {
    "duration": 7,
    "start_time": "2023-01-14T13:13:11.950Z"
   },
   {
    "duration": 9,
    "start_time": "2023-01-14T13:13:11.959Z"
   },
   {
    "duration": 11,
    "start_time": "2023-01-14T13:13:11.970Z"
   },
   {
    "duration": 202,
    "start_time": "2023-01-14T13:13:12.015Z"
   },
   {
    "duration": 9,
    "start_time": "2023-01-14T13:13:12.219Z"
   },
   {
    "duration": 8,
    "start_time": "2023-01-14T13:13:12.229Z"
   },
   {
    "duration": 8,
    "start_time": "2023-01-14T13:13:12.239Z"
   },
   {
    "duration": 14,
    "start_time": "2023-01-14T13:13:12.248Z"
   },
   {
    "duration": 4,
    "start_time": "2023-01-14T13:13:12.264Z"
   },
   {
    "duration": 10,
    "start_time": "2023-01-14T13:13:12.269Z"
   },
   {
    "duration": 9,
    "start_time": "2023-01-14T13:13:12.316Z"
   },
   {
    "duration": 7,
    "start_time": "2023-01-14T13:13:12.326Z"
   },
   {
    "duration": 304,
    "start_time": "2023-01-14T13:13:12.335Z"
   },
   {
    "duration": 1176,
    "start_time": "2023-01-14T13:14:53.955Z"
   },
   {
    "duration": 31,
    "start_time": "2023-01-14T13:14:55.134Z"
   },
   {
    "duration": 11,
    "start_time": "2023-01-14T13:14:55.167Z"
   },
   {
    "duration": 14,
    "start_time": "2023-01-14T13:14:55.180Z"
   },
   {
    "duration": 9,
    "start_time": "2023-01-14T13:14:55.195Z"
   },
   {
    "duration": 9,
    "start_time": "2023-01-14T13:14:55.205Z"
   },
   {
    "duration": 5,
    "start_time": "2023-01-14T13:14:55.216Z"
   },
   {
    "duration": 11,
    "start_time": "2023-01-14T13:14:55.222Z"
   },
   {
    "duration": 8,
    "start_time": "2023-01-14T13:14:55.234Z"
   },
   {
    "duration": 279,
    "start_time": "2023-01-14T13:14:55.245Z"
   },
   {
    "duration": 7,
    "start_time": "2023-01-14T13:14:55.526Z"
   },
   {
    "duration": 56,
    "start_time": "2023-01-14T13:14:55.535Z"
   },
   {
    "duration": 10,
    "start_time": "2023-01-14T13:14:55.592Z"
   },
   {
    "duration": 14,
    "start_time": "2023-01-14T13:14:55.604Z"
   },
   {
    "duration": 5,
    "start_time": "2023-01-14T13:14:55.620Z"
   },
   {
    "duration": 13,
    "start_time": "2023-01-14T13:14:55.627Z"
   },
   {
    "duration": 11,
    "start_time": "2023-01-14T13:14:55.641Z"
   },
   {
    "duration": 18,
    "start_time": "2023-01-14T13:14:55.654Z"
   },
   {
    "duration": 15,
    "start_time": "2023-01-14T13:14:55.674Z"
   },
   {
    "duration": 12,
    "start_time": "2023-01-14T13:14:55.691Z"
   },
   {
    "duration": 17,
    "start_time": "2023-01-14T13:14:55.705Z"
   },
   {
    "duration": 11,
    "start_time": "2023-01-14T13:14:55.724Z"
   },
   {
    "duration": 5,
    "start_time": "2023-01-14T13:14:55.738Z"
   },
   {
    "duration": 8,
    "start_time": "2023-01-14T13:14:55.745Z"
   },
   {
    "duration": 11,
    "start_time": "2023-01-14T13:14:55.755Z"
   },
   {
    "duration": 199,
    "start_time": "2023-01-14T13:14:55.767Z"
   },
   {
    "duration": 172,
    "start_time": "2023-01-14T13:14:55.968Z"
   },
   {
    "duration": 17,
    "start_time": "2023-01-14T13:14:56.144Z"
   },
   {
    "duration": 354,
    "start_time": "2023-01-14T13:14:56.162Z"
   },
   {
    "duration": 219,
    "start_time": "2023-01-14T13:14:56.518Z"
   },
   {
    "duration": 333,
    "start_time": "2023-01-14T13:14:56.739Z"
   },
   {
    "duration": 4,
    "start_time": "2023-01-14T13:14:57.074Z"
   },
   {
    "duration": 11,
    "start_time": "2023-01-14T13:14:57.080Z"
   },
   {
    "duration": 8,
    "start_time": "2023-01-14T13:14:57.092Z"
   },
   {
    "duration": 17,
    "start_time": "2023-01-14T13:14:57.102Z"
   },
   {
    "duration": 233,
    "start_time": "2023-01-14T13:14:57.122Z"
   },
   {
    "duration": 8,
    "start_time": "2023-01-14T13:14:57.357Z"
   },
   {
    "duration": 338,
    "start_time": "2023-01-14T13:14:57.367Z"
   },
   {
    "duration": 155,
    "start_time": "2023-01-14T13:14:57.715Z"
   },
   {
    "duration": 3,
    "start_time": "2023-01-14T13:14:57.872Z"
   },
   {
    "duration": 15,
    "start_time": "2023-01-14T13:14:57.877Z"
   },
   {
    "duration": 171,
    "start_time": "2023-01-14T13:14:57.894Z"
   },
   {
    "duration": 162,
    "start_time": "2023-01-14T13:14:58.068Z"
   },
   {
    "duration": 7,
    "start_time": "2023-01-14T13:14:58.232Z"
   },
   {
    "duration": 240,
    "start_time": "2023-01-14T13:14:58.240Z"
   },
   {
    "duration": 160,
    "start_time": "2023-01-14T13:14:58.482Z"
   },
   {
    "duration": 172,
    "start_time": "2023-01-14T13:14:58.644Z"
   },
   {
    "duration": 5,
    "start_time": "2023-01-14T13:14:58.817Z"
   },
   {
    "duration": 13,
    "start_time": "2023-01-14T13:14:58.823Z"
   },
   {
    "duration": 11,
    "start_time": "2023-01-14T13:14:58.838Z"
   },
   {
    "duration": 10,
    "start_time": "2023-01-14T13:14:58.850Z"
   },
   {
    "duration": 11,
    "start_time": "2023-01-14T13:14:58.862Z"
   },
   {
    "duration": 7,
    "start_time": "2023-01-14T13:14:58.875Z"
   },
   {
    "duration": 181,
    "start_time": "2023-01-14T13:14:58.884Z"
   },
   {
    "duration": 9,
    "start_time": "2023-01-14T13:14:59.066Z"
   },
   {
    "duration": 13,
    "start_time": "2023-01-14T13:14:59.077Z"
   },
   {
    "duration": 12,
    "start_time": "2023-01-14T13:14:59.092Z"
   },
   {
    "duration": 25,
    "start_time": "2023-01-14T13:14:59.105Z"
   },
   {
    "duration": 4,
    "start_time": "2023-01-14T13:14:59.132Z"
   },
   {
    "duration": 9,
    "start_time": "2023-01-14T13:14:59.137Z"
   },
   {
    "duration": 9,
    "start_time": "2023-01-14T13:14:59.148Z"
   },
   {
    "duration": 7,
    "start_time": "2023-01-14T13:14:59.159Z"
   },
   {
    "duration": 336,
    "start_time": "2023-01-14T13:14:59.167Z"
   },
   {
    "duration": 1152,
    "start_time": "2023-01-14T13:16:48.814Z"
   },
   {
    "duration": 28,
    "start_time": "2023-01-14T13:16:49.968Z"
   },
   {
    "duration": 12,
    "start_time": "2023-01-14T13:16:49.998Z"
   },
   {
    "duration": 24,
    "start_time": "2023-01-14T13:16:50.012Z"
   },
   {
    "duration": 31,
    "start_time": "2023-01-14T13:16:50.040Z"
   },
   {
    "duration": 10,
    "start_time": "2023-01-14T13:16:50.073Z"
   },
   {
    "duration": 12,
    "start_time": "2023-01-14T13:16:50.085Z"
   },
   {
    "duration": 18,
    "start_time": "2023-01-14T13:16:50.099Z"
   },
   {
    "duration": 10,
    "start_time": "2023-01-14T13:16:50.119Z"
   },
   {
    "duration": 279,
    "start_time": "2023-01-14T13:16:50.133Z"
   },
   {
    "duration": 9,
    "start_time": "2023-01-14T13:16:50.415Z"
   },
   {
    "duration": 61,
    "start_time": "2023-01-14T13:16:50.425Z"
   },
   {
    "duration": 10,
    "start_time": "2023-01-14T13:16:50.488Z"
   },
   {
    "duration": 16,
    "start_time": "2023-01-14T13:16:50.500Z"
   },
   {
    "duration": 12,
    "start_time": "2023-01-14T13:16:50.518Z"
   },
   {
    "duration": 12,
    "start_time": "2023-01-14T13:16:50.532Z"
   },
   {
    "duration": 10,
    "start_time": "2023-01-14T13:16:50.546Z"
   },
   {
    "duration": 26,
    "start_time": "2023-01-14T13:16:50.558Z"
   },
   {
    "duration": 31,
    "start_time": "2023-01-14T13:16:50.586Z"
   },
   {
    "duration": 30,
    "start_time": "2023-01-14T13:16:50.618Z"
   },
   {
    "duration": 6,
    "start_time": "2023-01-14T13:16:50.650Z"
   },
   {
    "duration": 18,
    "start_time": "2023-01-14T13:16:50.657Z"
   },
   {
    "duration": 6,
    "start_time": "2023-01-14T13:16:50.677Z"
   },
   {
    "duration": 10,
    "start_time": "2023-01-14T13:16:50.685Z"
   },
   {
    "duration": 17,
    "start_time": "2023-01-14T13:16:50.697Z"
   },
   {
    "duration": 175,
    "start_time": "2023-01-14T13:16:50.716Z"
   },
   {
    "duration": 143,
    "start_time": "2023-01-14T13:16:50.893Z"
   },
   {
    "duration": 12,
    "start_time": "2023-01-14T13:16:51.039Z"
   },
   {
    "duration": 288,
    "start_time": "2023-01-14T13:16:51.053Z"
   },
   {
    "duration": 204,
    "start_time": "2023-01-14T13:16:51.344Z"
   },
   {
    "duration": 285,
    "start_time": "2023-01-14T13:16:51.550Z"
   },
   {
    "duration": 4,
    "start_time": "2023-01-14T13:16:51.837Z"
   },
   {
    "duration": 8,
    "start_time": "2023-01-14T13:16:51.843Z"
   },
   {
    "duration": 5,
    "start_time": "2023-01-14T13:16:51.853Z"
   },
   {
    "duration": 6,
    "start_time": "2023-01-14T13:16:51.859Z"
   },
   {
    "duration": 244,
    "start_time": "2023-01-14T13:16:51.866Z"
   },
   {
    "duration": 9,
    "start_time": "2023-01-14T13:16:52.111Z"
   },
   {
    "duration": 361,
    "start_time": "2023-01-14T13:16:52.122Z"
   },
   {
    "duration": 158,
    "start_time": "2023-01-14T13:16:52.485Z"
   },
   {
    "duration": 3,
    "start_time": "2023-01-14T13:16:52.645Z"
   },
   {
    "duration": 15,
    "start_time": "2023-01-14T13:16:52.650Z"
   },
   {
    "duration": 151,
    "start_time": "2023-01-14T13:16:52.666Z"
   },
   {
    "duration": 145,
    "start_time": "2023-01-14T13:16:52.818Z"
   },
   {
    "duration": 5,
    "start_time": "2023-01-14T13:16:52.965Z"
   },
   {
    "duration": 268,
    "start_time": "2023-01-14T13:16:52.971Z"
   },
   {
    "duration": 166,
    "start_time": "2023-01-14T13:16:53.241Z"
   },
   {
    "duration": 172,
    "start_time": "2023-01-14T13:16:53.409Z"
   },
   {
    "duration": 6,
    "start_time": "2023-01-14T13:16:53.583Z"
   },
   {
    "duration": 26,
    "start_time": "2023-01-14T13:16:53.590Z"
   },
   {
    "duration": 9,
    "start_time": "2023-01-14T13:16:53.618Z"
   },
   {
    "duration": 10,
    "start_time": "2023-01-14T13:16:53.629Z"
   },
   {
    "duration": 13,
    "start_time": "2023-01-14T13:16:53.641Z"
   },
   {
    "duration": 12,
    "start_time": "2023-01-14T13:16:53.656Z"
   },
   {
    "duration": 177,
    "start_time": "2023-01-14T13:16:53.670Z"
   },
   {
    "duration": 8,
    "start_time": "2023-01-14T13:16:53.849Z"
   },
   {
    "duration": 7,
    "start_time": "2023-01-14T13:16:53.858Z"
   },
   {
    "duration": 7,
    "start_time": "2023-01-14T13:16:53.866Z"
   },
   {
    "duration": 14,
    "start_time": "2023-01-14T13:16:53.874Z"
   },
   {
    "duration": 27,
    "start_time": "2023-01-14T13:16:53.890Z"
   },
   {
    "duration": 8,
    "start_time": "2023-01-14T13:16:53.919Z"
   },
   {
    "duration": 11,
    "start_time": "2023-01-14T13:16:53.929Z"
   },
   {
    "duration": 8,
    "start_time": "2023-01-14T13:16:53.941Z"
   },
   {
    "duration": 270,
    "start_time": "2023-01-14T13:16:53.950Z"
   },
   {
    "duration": 1340,
    "start_time": "2023-01-15T14:30:11.676Z"
   },
   {
    "duration": 71,
    "start_time": "2023-01-15T14:30:13.018Z"
   },
   {
    "duration": 12,
    "start_time": "2023-01-15T14:30:13.091Z"
   },
   {
    "duration": 11,
    "start_time": "2023-01-15T14:30:13.105Z"
   },
   {
    "duration": 9,
    "start_time": "2023-01-15T14:30:13.117Z"
   },
   {
    "duration": 6,
    "start_time": "2023-01-15T14:30:13.128Z"
   },
   {
    "duration": 6,
    "start_time": "2023-01-15T14:30:13.136Z"
   },
   {
    "duration": 12,
    "start_time": "2023-01-15T14:30:13.143Z"
   },
   {
    "duration": 23,
    "start_time": "2023-01-15T14:30:13.156Z"
   },
   {
    "duration": 296,
    "start_time": "2023-01-15T14:30:13.182Z"
   },
   {
    "duration": 9,
    "start_time": "2023-01-15T14:30:13.480Z"
   },
   {
    "duration": 150,
    "start_time": "2023-01-15T14:30:13.491Z"
   },
   {
    "duration": 9,
    "start_time": "2023-01-15T14:30:13.643Z"
   },
   {
    "duration": 13,
    "start_time": "2023-01-15T14:30:13.653Z"
   },
   {
    "duration": 4,
    "start_time": "2023-01-15T14:30:13.668Z"
   },
   {
    "duration": 21,
    "start_time": "2023-01-15T14:30:13.673Z"
   },
   {
    "duration": 13,
    "start_time": "2023-01-15T14:30:13.695Z"
   },
   {
    "duration": 14,
    "start_time": "2023-01-15T14:30:13.710Z"
   },
   {
    "duration": 11,
    "start_time": "2023-01-15T14:30:13.726Z"
   },
   {
    "duration": 5,
    "start_time": "2023-01-15T14:30:13.739Z"
   },
   {
    "duration": 5,
    "start_time": "2023-01-15T14:30:13.746Z"
   },
   {
    "duration": 33,
    "start_time": "2023-01-15T14:30:13.753Z"
   },
   {
    "duration": 11,
    "start_time": "2023-01-15T14:30:13.788Z"
   },
   {
    "duration": 6,
    "start_time": "2023-01-15T14:30:13.801Z"
   },
   {
    "duration": 9,
    "start_time": "2023-01-15T14:30:13.809Z"
   },
   {
    "duration": 200,
    "start_time": "2023-01-15T14:30:13.819Z"
   },
   {
    "duration": 144,
    "start_time": "2023-01-15T14:30:14.020Z"
   },
   {
    "duration": 16,
    "start_time": "2023-01-15T14:30:14.168Z"
   },
   {
    "duration": 300,
    "start_time": "2023-01-15T14:30:14.186Z"
   },
   {
    "duration": 219,
    "start_time": "2023-01-15T14:30:14.488Z"
   },
   {
    "duration": 344,
    "start_time": "2023-01-15T14:30:14.709Z"
   },
   {
    "duration": 5,
    "start_time": "2023-01-15T14:30:15.056Z"
   },
   {
    "duration": 18,
    "start_time": "2023-01-15T14:30:15.063Z"
   },
   {
    "duration": 19,
    "start_time": "2023-01-15T14:30:15.083Z"
   },
   {
    "duration": 7,
    "start_time": "2023-01-15T14:30:15.104Z"
   },
   {
    "duration": 238,
    "start_time": "2023-01-15T14:30:15.113Z"
   },
   {
    "duration": 7,
    "start_time": "2023-01-15T14:30:15.353Z"
   },
   {
    "duration": 364,
    "start_time": "2023-01-15T14:30:15.362Z"
   },
   {
    "duration": 141,
    "start_time": "2023-01-15T14:30:15.727Z"
   },
   {
    "duration": 7,
    "start_time": "2023-01-15T14:30:15.870Z"
   },
   {
    "duration": 28,
    "start_time": "2023-01-15T14:30:15.879Z"
   },
   {
    "duration": 144,
    "start_time": "2023-01-15T14:30:15.909Z"
   },
   {
    "duration": 161,
    "start_time": "2023-01-15T14:30:16.054Z"
   },
   {
    "duration": 5,
    "start_time": "2023-01-15T14:30:16.217Z"
   },
   {
    "duration": 268,
    "start_time": "2023-01-15T14:30:16.224Z"
   },
   {
    "duration": 159,
    "start_time": "2023-01-15T14:30:16.494Z"
   },
   {
    "duration": 184,
    "start_time": "2023-01-15T14:30:16.654Z"
   },
   {
    "duration": 6,
    "start_time": "2023-01-15T14:30:16.840Z"
   },
   {
    "duration": 17,
    "start_time": "2023-01-15T14:30:16.847Z"
   },
   {
    "duration": 10,
    "start_time": "2023-01-15T14:30:16.877Z"
   },
   {
    "duration": 12,
    "start_time": "2023-01-15T14:30:16.891Z"
   },
   {
    "duration": 16,
    "start_time": "2023-01-15T14:30:16.904Z"
   },
   {
    "duration": 10,
    "start_time": "2023-01-15T14:30:16.921Z"
   },
   {
    "duration": 164,
    "start_time": "2023-01-15T14:30:16.933Z"
   },
   {
    "duration": 10,
    "start_time": "2023-01-15T14:30:17.098Z"
   },
   {
    "duration": 13,
    "start_time": "2023-01-15T14:30:17.110Z"
   },
   {
    "duration": 7,
    "start_time": "2023-01-15T14:30:17.125Z"
   },
   {
    "duration": 20,
    "start_time": "2023-01-15T14:30:17.134Z"
   },
   {
    "duration": 35,
    "start_time": "2023-01-15T14:30:17.157Z"
   },
   {
    "duration": 12,
    "start_time": "2023-01-15T14:30:17.194Z"
   },
   {
    "duration": 9,
    "start_time": "2023-01-15T14:30:17.208Z"
   },
   {
    "duration": 13,
    "start_time": "2023-01-15T14:30:17.219Z"
   },
   {
    "duration": 292,
    "start_time": "2023-01-15T14:30:17.234Z"
   },
   {
    "duration": 230,
    "start_time": "2023-01-15T14:38:17.016Z"
   },
   {
    "duration": 113,
    "start_time": "2023-01-15T14:52:05.749Z"
   },
   {
    "duration": 108,
    "start_time": "2023-01-15T14:52:47.639Z"
   },
   {
    "duration": 123,
    "start_time": "2023-01-15T14:53:42.590Z"
   },
   {
    "duration": 119,
    "start_time": "2023-01-15T14:54:51.069Z"
   },
   {
    "duration": 167,
    "start_time": "2023-01-15T14:55:31.118Z"
   },
   {
    "duration": 225,
    "start_time": "2023-01-15T14:55:57.189Z"
   },
   {
    "duration": 222,
    "start_time": "2023-01-15T14:56:36.070Z"
   },
   {
    "duration": 147,
    "start_time": "2023-01-15T15:00:10.133Z"
   },
   {
    "duration": 7,
    "start_time": "2023-01-15T15:01:49.134Z"
   },
   {
    "duration": 142,
    "start_time": "2023-01-15T15:03:57.521Z"
   },
   {
    "duration": 11,
    "start_time": "2023-01-15T15:04:40.982Z"
   },
   {
    "duration": 6,
    "start_time": "2023-01-15T15:05:31.561Z"
   },
   {
    "duration": 24,
    "start_time": "2023-01-15T15:06:44.844Z"
   },
   {
    "duration": 46,
    "start_time": "2023-01-15T15:09:28.725Z"
   },
   {
    "duration": 22,
    "start_time": "2023-01-15T15:11:37.280Z"
   },
   {
    "duration": 25,
    "start_time": "2023-01-15T15:12:59.144Z"
   },
   {
    "duration": 34,
    "start_time": "2023-01-15T15:13:57.149Z"
   },
   {
    "duration": 15,
    "start_time": "2023-01-15T15:16:16.710Z"
   },
   {
    "duration": 15,
    "start_time": "2023-01-15T15:18:04.124Z"
   },
   {
    "duration": 5,
    "start_time": "2023-01-15T15:21:06.491Z"
   },
   {
    "duration": 1300,
    "start_time": "2023-01-15T15:23:30.076Z"
   },
   {
    "duration": 30,
    "start_time": "2023-01-15T15:23:31.378Z"
   },
   {
    "duration": 13,
    "start_time": "2023-01-15T15:23:31.410Z"
   },
   {
    "duration": 33,
    "start_time": "2023-01-15T15:23:31.425Z"
   },
   {
    "duration": 25,
    "start_time": "2023-01-15T15:23:31.460Z"
   },
   {
    "duration": 15,
    "start_time": "2023-01-15T15:23:31.487Z"
   },
   {
    "duration": 29,
    "start_time": "2023-01-15T15:23:31.504Z"
   },
   {
    "duration": 17,
    "start_time": "2023-01-15T15:23:31.535Z"
   },
   {
    "duration": 26,
    "start_time": "2023-01-15T15:23:31.554Z"
   },
   {
    "duration": 331,
    "start_time": "2023-01-15T15:23:31.583Z"
   },
   {
    "duration": 9,
    "start_time": "2023-01-15T15:23:31.915Z"
   },
   {
    "duration": 85,
    "start_time": "2023-01-15T15:23:31.925Z"
   },
   {
    "duration": 9,
    "start_time": "2023-01-15T15:23:32.012Z"
   },
   {
    "duration": 26,
    "start_time": "2023-01-15T15:23:32.023Z"
   },
   {
    "duration": 20,
    "start_time": "2023-01-15T15:23:32.051Z"
   },
   {
    "duration": 25,
    "start_time": "2023-01-15T15:23:32.073Z"
   },
   {
    "duration": 44,
    "start_time": "2023-01-15T15:23:32.099Z"
   },
   {
    "duration": 30,
    "start_time": "2023-01-15T15:23:32.145Z"
   },
   {
    "duration": 17,
    "start_time": "2023-01-15T15:23:32.177Z"
   },
   {
    "duration": 8,
    "start_time": "2023-01-15T15:23:32.196Z"
   },
   {
    "duration": 4,
    "start_time": "2023-01-15T15:23:32.207Z"
   },
   {
    "duration": 13,
    "start_time": "2023-01-15T15:23:32.213Z"
   },
   {
    "duration": 6,
    "start_time": "2023-01-15T15:23:32.227Z"
   },
   {
    "duration": 9,
    "start_time": "2023-01-15T15:23:32.235Z"
   },
   {
    "duration": 37,
    "start_time": "2023-01-15T15:23:32.245Z"
   },
   {
    "duration": 183,
    "start_time": "2023-01-15T15:23:32.284Z"
   },
   {
    "duration": 152,
    "start_time": "2023-01-15T15:23:32.469Z"
   },
   {
    "duration": 13,
    "start_time": "2023-01-15T15:23:32.625Z"
   },
   {
    "duration": 319,
    "start_time": "2023-01-15T15:23:32.640Z"
   },
   {
    "duration": 220,
    "start_time": "2023-01-15T15:23:32.961Z"
   },
   {
    "duration": 329,
    "start_time": "2023-01-15T15:23:33.182Z"
   },
   {
    "duration": 4,
    "start_time": "2023-01-15T15:23:33.513Z"
   },
   {
    "duration": 7,
    "start_time": "2023-01-15T15:23:33.519Z"
   },
   {
    "duration": 6,
    "start_time": "2023-01-15T15:23:33.528Z"
   },
   {
    "duration": 7,
    "start_time": "2023-01-15T15:23:33.535Z"
   },
   {
    "duration": 232,
    "start_time": "2023-01-15T15:23:33.543Z"
   },
   {
    "duration": 8,
    "start_time": "2023-01-15T15:23:33.776Z"
   },
   {
    "duration": 350,
    "start_time": "2023-01-15T15:23:33.786Z"
   },
   {
    "duration": 128,
    "start_time": "2023-01-15T15:23:34.138Z"
   },
   {
    "duration": 8,
    "start_time": "2023-01-15T15:23:34.269Z"
   },
   {
    "duration": 28,
    "start_time": "2023-01-15T15:23:34.279Z"
   },
   {
    "duration": 145,
    "start_time": "2023-01-15T15:23:34.309Z"
   },
   {
    "duration": 152,
    "start_time": "2023-01-15T15:23:34.455Z"
   },
   {
    "duration": 6,
    "start_time": "2023-01-15T15:23:34.609Z"
   },
   {
    "duration": 258,
    "start_time": "2023-01-15T15:23:34.617Z"
   },
   {
    "duration": 163,
    "start_time": "2023-01-15T15:23:34.878Z"
   },
   {
    "duration": 180,
    "start_time": "2023-01-15T15:23:35.043Z"
   },
   {
    "duration": 6,
    "start_time": "2023-01-15T15:23:35.224Z"
   },
   {
    "duration": 250,
    "start_time": "2023-01-15T15:23:35.232Z"
   },
   {
    "duration": 160,
    "start_time": "2023-01-15T15:23:35.484Z"
   },
   {
    "duration": 115,
    "start_time": "2023-01-15T15:23:35.645Z"
   },
   {
    "duration": 0,
    "start_time": "2023-01-15T15:23:35.762Z"
   },
   {
    "duration": 0,
    "start_time": "2023-01-15T15:23:35.763Z"
   },
   {
    "duration": 0,
    "start_time": "2023-01-15T15:23:35.764Z"
   },
   {
    "duration": 0,
    "start_time": "2023-01-15T15:23:35.765Z"
   },
   {
    "duration": 0,
    "start_time": "2023-01-15T15:23:35.766Z"
   },
   {
    "duration": 0,
    "start_time": "2023-01-15T15:23:35.767Z"
   },
   {
    "duration": 0,
    "start_time": "2023-01-15T15:23:35.768Z"
   },
   {
    "duration": 0,
    "start_time": "2023-01-15T15:23:35.769Z"
   },
   {
    "duration": 0,
    "start_time": "2023-01-15T15:23:35.777Z"
   },
   {
    "duration": 0,
    "start_time": "2023-01-15T15:23:35.778Z"
   },
   {
    "duration": 7,
    "start_time": "2023-01-15T15:24:44.042Z"
   },
   {
    "duration": 1198,
    "start_time": "2023-01-15T15:24:49.903Z"
   },
   {
    "duration": 30,
    "start_time": "2023-01-15T15:24:51.103Z"
   },
   {
    "duration": 12,
    "start_time": "2023-01-15T15:24:51.135Z"
   },
   {
    "duration": 12,
    "start_time": "2023-01-15T15:24:51.149Z"
   },
   {
    "duration": 8,
    "start_time": "2023-01-15T15:24:51.163Z"
   },
   {
    "duration": 7,
    "start_time": "2023-01-15T15:24:51.173Z"
   },
   {
    "duration": 9,
    "start_time": "2023-01-15T15:24:51.182Z"
   },
   {
    "duration": 12,
    "start_time": "2023-01-15T15:24:51.193Z"
   },
   {
    "duration": 9,
    "start_time": "2023-01-15T15:24:51.207Z"
   },
   {
    "duration": 310,
    "start_time": "2023-01-15T15:24:51.219Z"
   },
   {
    "duration": 8,
    "start_time": "2023-01-15T15:24:51.531Z"
   },
   {
    "duration": 56,
    "start_time": "2023-01-15T15:24:51.540Z"
   },
   {
    "duration": 8,
    "start_time": "2023-01-15T15:24:51.598Z"
   },
   {
    "duration": 13,
    "start_time": "2023-01-15T15:24:51.608Z"
   },
   {
    "duration": 16,
    "start_time": "2023-01-15T15:24:51.623Z"
   },
   {
    "duration": 50,
    "start_time": "2023-01-15T15:24:51.641Z"
   },
   {
    "duration": 12,
    "start_time": "2023-01-15T15:24:51.693Z"
   },
   {
    "duration": 21,
    "start_time": "2023-01-15T15:24:51.707Z"
   },
   {
    "duration": 15,
    "start_time": "2023-01-15T15:24:51.730Z"
   },
   {
    "duration": 5,
    "start_time": "2023-01-15T15:24:51.747Z"
   },
   {
    "duration": 9,
    "start_time": "2023-01-15T15:24:51.754Z"
   },
   {
    "duration": 22,
    "start_time": "2023-01-15T15:24:51.764Z"
   },
   {
    "duration": 6,
    "start_time": "2023-01-15T15:24:51.787Z"
   },
   {
    "duration": 7,
    "start_time": "2023-01-15T15:24:51.794Z"
   },
   {
    "duration": 10,
    "start_time": "2023-01-15T15:24:51.803Z"
   },
   {
    "duration": 212,
    "start_time": "2023-01-15T15:24:51.814Z"
   },
   {
    "duration": 133,
    "start_time": "2023-01-15T15:24:52.028Z"
   },
   {
    "duration": 21,
    "start_time": "2023-01-15T15:24:52.165Z"
   },
   {
    "duration": 328,
    "start_time": "2023-01-15T15:24:52.188Z"
   },
   {
    "duration": 218,
    "start_time": "2023-01-15T15:24:52.518Z"
   },
   {
    "duration": 542,
    "start_time": "2023-01-15T15:24:52.738Z"
   },
   {
    "duration": 4,
    "start_time": "2023-01-15T15:24:53.282Z"
   },
   {
    "duration": 10,
    "start_time": "2023-01-15T15:24:53.287Z"
   },
   {
    "duration": 11,
    "start_time": "2023-01-15T15:24:53.298Z"
   },
   {
    "duration": 6,
    "start_time": "2023-01-15T15:24:53.310Z"
   },
   {
    "duration": 470,
    "start_time": "2023-01-15T15:24:53.318Z"
   },
   {
    "duration": 8,
    "start_time": "2023-01-15T15:24:53.790Z"
   },
   {
    "duration": 680,
    "start_time": "2023-01-15T15:24:53.800Z"
   },
   {
    "duration": 234,
    "start_time": "2023-01-15T15:24:54.482Z"
   },
   {
    "duration": 4,
    "start_time": "2023-01-15T15:24:54.717Z"
   },
   {
    "duration": 60,
    "start_time": "2023-01-15T15:24:54.723Z"
   },
   {
    "duration": 230,
    "start_time": "2023-01-15T15:24:54.785Z"
   },
   {
    "duration": 149,
    "start_time": "2023-01-15T15:24:55.016Z"
   },
   {
    "duration": 11,
    "start_time": "2023-01-15T15:24:55.167Z"
   },
   {
    "duration": 257,
    "start_time": "2023-01-15T15:24:55.180Z"
   },
   {
    "duration": 169,
    "start_time": "2023-01-15T15:24:55.439Z"
   },
   {
    "duration": 180,
    "start_time": "2023-01-15T15:24:55.610Z"
   },
   {
    "duration": 5,
    "start_time": "2023-01-15T15:24:55.792Z"
   },
   {
    "duration": 253,
    "start_time": "2023-01-15T15:24:55.803Z"
   },
   {
    "duration": 134,
    "start_time": "2023-01-15T15:24:56.058Z"
   },
   {
    "duration": 7,
    "start_time": "2023-01-15T15:24:56.193Z"
   },
   {
    "duration": 24,
    "start_time": "2023-01-15T15:24:56.201Z"
   },
   {
    "duration": 11,
    "start_time": "2023-01-15T15:24:56.226Z"
   },
   {
    "duration": 901,
    "start_time": "2023-01-15T15:24:56.239Z"
   },
   {
    "duration": 0,
    "start_time": "2023-01-15T15:24:57.142Z"
   },
   {
    "duration": 0,
    "start_time": "2023-01-15T15:24:57.144Z"
   },
   {
    "duration": 0,
    "start_time": "2023-01-15T15:24:57.144Z"
   },
   {
    "duration": 0,
    "start_time": "2023-01-15T15:24:57.146Z"
   },
   {
    "duration": 0,
    "start_time": "2023-01-15T15:24:57.146Z"
   },
   {
    "duration": 0,
    "start_time": "2023-01-15T15:24:57.148Z"
   },
   {
    "duration": 0,
    "start_time": "2023-01-15T15:24:57.149Z"
   },
   {
    "duration": 11,
    "start_time": "2023-01-15T15:25:31.259Z"
   },
   {
    "duration": 7,
    "start_time": "2023-01-15T15:25:43.705Z"
   },
   {
    "duration": 7,
    "start_time": "2023-01-15T15:25:44.699Z"
   },
   {
    "duration": 9,
    "start_time": "2023-01-15T15:28:05.800Z"
   },
   {
    "duration": 6,
    "start_time": "2023-01-15T15:28:24.877Z"
   },
   {
    "duration": 6,
    "start_time": "2023-01-15T15:28:50.908Z"
   },
   {
    "duration": 6,
    "start_time": "2023-01-15T15:29:04.447Z"
   },
   {
    "duration": 12,
    "start_time": "2023-01-15T15:30:11.533Z"
   },
   {
    "duration": 10,
    "start_time": "2023-01-15T15:33:43.691Z"
   },
   {
    "duration": 26,
    "start_time": "2023-01-15T15:34:38.860Z"
   },
   {
    "duration": 24,
    "start_time": "2023-01-15T15:35:20.902Z"
   },
   {
    "duration": 223,
    "start_time": "2023-01-15T15:35:55.002Z"
   },
   {
    "duration": 11,
    "start_time": "2023-01-15T15:36:30.542Z"
   },
   {
    "duration": 691,
    "start_time": "2023-01-15T15:40:38.787Z"
   },
   {
    "duration": 738,
    "start_time": "2023-01-15T15:41:40.353Z"
   },
   {
    "duration": 15,
    "start_time": "2023-01-15T15:42:11.051Z"
   },
   {
    "duration": 14,
    "start_time": "2023-01-15T15:42:21.416Z"
   },
   {
    "duration": 303,
    "start_time": "2023-01-15T15:43:24.969Z"
   },
   {
    "duration": 1263,
    "start_time": "2023-01-15T16:26:51.311Z"
   },
   {
    "duration": 32,
    "start_time": "2023-01-15T16:26:52.576Z"
   },
   {
    "duration": 43,
    "start_time": "2023-01-15T16:26:52.610Z"
   },
   {
    "duration": 55,
    "start_time": "2023-01-15T16:26:52.656Z"
   },
   {
    "duration": 46,
    "start_time": "2023-01-15T16:26:52.715Z"
   },
   {
    "duration": 69,
    "start_time": "2023-01-15T16:26:52.764Z"
   },
   {
    "duration": 44,
    "start_time": "2023-01-15T16:26:52.835Z"
   },
   {
    "duration": 36,
    "start_time": "2023-01-15T16:26:52.881Z"
   },
   {
    "duration": 30,
    "start_time": "2023-01-15T16:26:52.920Z"
   },
   {
    "duration": 359,
    "start_time": "2023-01-15T16:26:52.952Z"
   },
   {
    "duration": 9,
    "start_time": "2023-01-15T16:26:53.314Z"
   },
   {
    "duration": 75,
    "start_time": "2023-01-15T16:26:53.325Z"
   },
   {
    "duration": 10,
    "start_time": "2023-01-15T16:26:53.402Z"
   },
   {
    "duration": 32,
    "start_time": "2023-01-15T16:26:53.417Z"
   },
   {
    "duration": 47,
    "start_time": "2023-01-15T16:26:53.451Z"
   },
   {
    "duration": 25,
    "start_time": "2023-01-15T16:26:53.501Z"
   },
   {
    "duration": 31,
    "start_time": "2023-01-15T16:26:53.529Z"
   },
   {
    "duration": 44,
    "start_time": "2023-01-15T16:26:53.562Z"
   },
   {
    "duration": 34,
    "start_time": "2023-01-15T16:26:53.608Z"
   },
   {
    "duration": 18,
    "start_time": "2023-01-15T16:26:53.644Z"
   },
   {
    "duration": 35,
    "start_time": "2023-01-15T16:26:53.665Z"
   },
   {
    "duration": 47,
    "start_time": "2023-01-15T16:26:53.702Z"
   },
   {
    "duration": 23,
    "start_time": "2023-01-15T16:26:53.752Z"
   },
   {
    "duration": 39,
    "start_time": "2023-01-15T16:26:53.777Z"
   },
   {
    "duration": 71,
    "start_time": "2023-01-15T16:26:53.818Z"
   },
   {
    "duration": 238,
    "start_time": "2023-01-15T16:26:53.891Z"
   },
   {
    "duration": 177,
    "start_time": "2023-01-15T16:26:54.131Z"
   },
   {
    "duration": 15,
    "start_time": "2023-01-15T16:26:54.310Z"
   },
   {
    "duration": 348,
    "start_time": "2023-01-15T16:26:54.327Z"
   },
   {
    "duration": 276,
    "start_time": "2023-01-15T16:26:54.678Z"
   },
   {
    "duration": 374,
    "start_time": "2023-01-15T16:26:54.957Z"
   },
   {
    "duration": 5,
    "start_time": "2023-01-15T16:26:55.333Z"
   },
   {
    "duration": 22,
    "start_time": "2023-01-15T16:26:55.342Z"
   },
   {
    "duration": 36,
    "start_time": "2023-01-15T16:26:55.366Z"
   },
   {
    "duration": 43,
    "start_time": "2023-01-15T16:26:55.404Z"
   },
   {
    "duration": 341,
    "start_time": "2023-01-15T16:26:55.449Z"
   },
   {
    "duration": 13,
    "start_time": "2023-01-15T16:26:55.792Z"
   },
   {
    "duration": 451,
    "start_time": "2023-01-15T16:26:55.807Z"
   },
   {
    "duration": 146,
    "start_time": "2023-01-15T16:26:56.260Z"
   },
   {
    "duration": 4,
    "start_time": "2023-01-15T16:26:56.408Z"
   },
   {
    "duration": 11,
    "start_time": "2023-01-15T16:26:56.417Z"
   },
   {
    "duration": 232,
    "start_time": "2023-01-15T16:26:56.429Z"
   },
   {
    "duration": 182,
    "start_time": "2023-01-15T16:26:56.664Z"
   },
   {
    "duration": 7,
    "start_time": "2023-01-15T16:26:56.848Z"
   },
   {
    "duration": 280,
    "start_time": "2023-01-15T16:26:56.857Z"
   },
   {
    "duration": 178,
    "start_time": "2023-01-15T16:26:57.139Z"
   },
   {
    "duration": 249,
    "start_time": "2023-01-15T16:26:57.319Z"
   },
   {
    "duration": 9,
    "start_time": "2023-01-15T16:26:57.569Z"
   },
   {
    "duration": 245,
    "start_time": "2023-01-15T16:26:57.580Z"
   },
   {
    "duration": 160,
    "start_time": "2023-01-15T16:26:57.826Z"
   },
   {
    "duration": 8,
    "start_time": "2023-01-15T16:26:57.989Z"
   },
   {
    "duration": 26,
    "start_time": "2023-01-15T16:26:58.002Z"
   },
   {
    "duration": 13,
    "start_time": "2023-01-15T16:26:58.030Z"
   },
   {
    "duration": 43,
    "start_time": "2023-01-15T16:26:58.045Z"
   },
   {
    "duration": 11,
    "start_time": "2023-01-15T16:26:58.089Z"
   },
   {
    "duration": 11,
    "start_time": "2023-01-15T16:26:58.102Z"
   },
   {
    "duration": 14,
    "start_time": "2023-01-15T16:26:58.115Z"
   },
   {
    "duration": 60,
    "start_time": "2023-01-15T16:26:58.131Z"
   },
   {
    "duration": 23,
    "start_time": "2023-01-15T16:26:58.193Z"
   },
   {
    "duration": 3155,
    "start_time": "2023-01-15T17:19:00.122Z"
   },
   {
    "duration": 65,
    "start_time": "2023-01-15T17:19:03.280Z"
   },
   {
    "duration": 13,
    "start_time": "2023-01-15T17:19:03.346Z"
   },
   {
    "duration": 12,
    "start_time": "2023-01-15T17:19:03.360Z"
   },
   {
    "duration": 13,
    "start_time": "2023-01-15T17:19:03.374Z"
   },
   {
    "duration": 6,
    "start_time": "2023-01-15T17:19:03.390Z"
   },
   {
    "duration": 8,
    "start_time": "2023-01-15T17:19:03.398Z"
   },
   {
    "duration": 20,
    "start_time": "2023-01-15T17:19:03.408Z"
   },
   {
    "duration": 10,
    "start_time": "2023-01-15T17:19:03.430Z"
   },
   {
    "duration": 299,
    "start_time": "2023-01-15T17:19:03.442Z"
   },
   {
    "duration": 7,
    "start_time": "2023-01-15T17:19:03.743Z"
   },
   {
    "duration": 142,
    "start_time": "2023-01-15T17:19:03.751Z"
   },
   {
    "duration": 8,
    "start_time": "2023-01-15T17:19:03.895Z"
   },
   {
    "duration": 13,
    "start_time": "2023-01-15T17:19:03.906Z"
   },
   {
    "duration": 8,
    "start_time": "2023-01-15T17:19:03.921Z"
   },
   {
    "duration": 11,
    "start_time": "2023-01-15T17:19:03.930Z"
   },
   {
    "duration": 14,
    "start_time": "2023-01-15T17:19:03.942Z"
   },
   {
    "duration": 22,
    "start_time": "2023-01-15T17:19:03.957Z"
   },
   {
    "duration": 11,
    "start_time": "2023-01-15T17:19:03.980Z"
   },
   {
    "duration": 8,
    "start_time": "2023-01-15T17:19:03.992Z"
   },
   {
    "duration": 15,
    "start_time": "2023-01-15T17:19:04.002Z"
   },
   {
    "duration": 12,
    "start_time": "2023-01-15T17:19:04.018Z"
   },
   {
    "duration": 6,
    "start_time": "2023-01-15T17:19:04.031Z"
   },
   {
    "duration": 9,
    "start_time": "2023-01-15T17:19:04.039Z"
   },
   {
    "duration": 9,
    "start_time": "2023-01-15T17:19:04.050Z"
   },
   {
    "duration": 205,
    "start_time": "2023-01-15T17:19:04.060Z"
   },
   {
    "duration": 134,
    "start_time": "2023-01-15T17:19:04.267Z"
   },
   {
    "duration": 12,
    "start_time": "2023-01-15T17:19:04.403Z"
   },
   {
    "duration": 297,
    "start_time": "2023-01-15T17:19:04.417Z"
   },
   {
    "duration": 206,
    "start_time": "2023-01-15T17:19:04.716Z"
   },
   {
    "duration": 305,
    "start_time": "2023-01-15T17:19:04.924Z"
   },
   {
    "duration": 5,
    "start_time": "2023-01-15T17:19:05.231Z"
   },
   {
    "duration": 10,
    "start_time": "2023-01-15T17:19:05.238Z"
   },
   {
    "duration": 11,
    "start_time": "2023-01-15T17:19:05.250Z"
   },
   {
    "duration": 14,
    "start_time": "2023-01-15T17:19:05.263Z"
   },
   {
    "duration": 231,
    "start_time": "2023-01-15T17:19:05.280Z"
   },
   {
    "duration": 8,
    "start_time": "2023-01-15T17:19:05.513Z"
   },
   {
    "duration": 356,
    "start_time": "2023-01-15T17:19:05.523Z"
   },
   {
    "duration": 155,
    "start_time": "2023-01-15T17:19:05.880Z"
   },
   {
    "duration": 3,
    "start_time": "2023-01-15T17:19:06.036Z"
   },
   {
    "duration": 9,
    "start_time": "2023-01-15T17:19:06.043Z"
   },
   {
    "duration": 156,
    "start_time": "2023-01-15T17:19:06.053Z"
   },
   {
    "duration": 154,
    "start_time": "2023-01-15T17:19:06.211Z"
   },
   {
    "duration": 15,
    "start_time": "2023-01-15T17:19:06.366Z"
   },
   {
    "duration": 258,
    "start_time": "2023-01-15T17:19:06.383Z"
   },
   {
    "duration": 159,
    "start_time": "2023-01-15T17:19:06.643Z"
   },
   {
    "duration": 169,
    "start_time": "2023-01-15T17:19:06.804Z"
   },
   {
    "duration": 5,
    "start_time": "2023-01-15T17:19:06.977Z"
   },
   {
    "duration": 230,
    "start_time": "2023-01-15T17:19:06.984Z"
   },
   {
    "duration": 168,
    "start_time": "2023-01-15T17:19:07.216Z"
   },
   {
    "duration": 6,
    "start_time": "2023-01-15T17:19:07.386Z"
   },
   {
    "duration": 30,
    "start_time": "2023-01-15T17:19:07.394Z"
   },
   {
    "duration": 13,
    "start_time": "2023-01-15T17:19:07.426Z"
   },
   {
    "duration": 8,
    "start_time": "2023-01-15T17:19:07.441Z"
   },
   {
    "duration": 29,
    "start_time": "2023-01-15T17:19:07.450Z"
   },
   {
    "duration": 5,
    "start_time": "2023-01-15T17:19:07.481Z"
   },
   {
    "duration": 9,
    "start_time": "2023-01-15T17:19:07.487Z"
   },
   {
    "duration": 21,
    "start_time": "2023-01-15T17:19:07.497Z"
   },
   {
    "duration": 15,
    "start_time": "2023-01-15T17:19:07.519Z"
   },
   {
    "duration": 44,
    "start_time": "2023-01-15T20:53:15.079Z"
   },
   {
    "duration": 1327,
    "start_time": "2023-01-15T20:53:33.765Z"
   },
   {
    "duration": 75,
    "start_time": "2023-01-15T20:53:35.094Z"
   },
   {
    "duration": 13,
    "start_time": "2023-01-15T20:53:35.170Z"
   },
   {
    "duration": 17,
    "start_time": "2023-01-15T20:53:35.186Z"
   },
   {
    "duration": 26,
    "start_time": "2023-01-15T20:53:35.205Z"
   },
   {
    "duration": 19,
    "start_time": "2023-01-15T20:53:35.233Z"
   },
   {
    "duration": 8,
    "start_time": "2023-01-15T20:53:35.254Z"
   },
   {
    "duration": 15,
    "start_time": "2023-01-15T20:53:35.265Z"
   },
   {
    "duration": 11,
    "start_time": "2023-01-15T20:53:35.282Z"
   },
   {
    "duration": 270,
    "start_time": "2023-01-15T20:53:35.296Z"
   },
   {
    "duration": 8,
    "start_time": "2023-01-15T20:53:35.568Z"
   },
   {
    "duration": 165,
    "start_time": "2023-01-15T20:53:35.577Z"
   },
   {
    "duration": 9,
    "start_time": "2023-01-15T20:53:35.743Z"
   },
   {
    "duration": 13,
    "start_time": "2023-01-15T20:53:35.754Z"
   },
   {
    "duration": 9,
    "start_time": "2023-01-15T20:53:35.769Z"
   },
   {
    "duration": 20,
    "start_time": "2023-01-15T20:53:35.780Z"
   },
   {
    "duration": 16,
    "start_time": "2023-01-15T20:53:35.802Z"
   },
   {
    "duration": 36,
    "start_time": "2023-01-15T20:53:35.821Z"
   },
   {
    "duration": 14,
    "start_time": "2023-01-15T20:53:35.859Z"
   },
   {
    "duration": 28,
    "start_time": "2023-01-15T20:53:35.875Z"
   },
   {
    "duration": 25,
    "start_time": "2023-01-15T20:53:35.905Z"
   },
   {
    "duration": 24,
    "start_time": "2023-01-15T20:53:35.931Z"
   },
   {
    "duration": 6,
    "start_time": "2023-01-15T20:53:35.956Z"
   },
   {
    "duration": 18,
    "start_time": "2023-01-15T20:53:35.963Z"
   },
   {
    "duration": 19,
    "start_time": "2023-01-15T20:53:35.983Z"
   },
   {
    "duration": 254,
    "start_time": "2023-01-15T20:53:36.004Z"
   },
   {
    "duration": 0,
    "start_time": "2023-01-15T20:53:36.260Z"
   },
   {
    "duration": 0,
    "start_time": "2023-01-15T20:53:36.261Z"
   },
   {
    "duration": 0,
    "start_time": "2023-01-15T20:53:36.262Z"
   },
   {
    "duration": 0,
    "start_time": "2023-01-15T20:53:36.264Z"
   },
   {
    "duration": 0,
    "start_time": "2023-01-15T20:53:36.265Z"
   },
   {
    "duration": 0,
    "start_time": "2023-01-15T20:53:36.266Z"
   },
   {
    "duration": 0,
    "start_time": "2023-01-15T20:53:36.267Z"
   },
   {
    "duration": 0,
    "start_time": "2023-01-15T20:53:36.268Z"
   },
   {
    "duration": 0,
    "start_time": "2023-01-15T20:53:36.269Z"
   },
   {
    "duration": 0,
    "start_time": "2023-01-15T20:53:36.271Z"
   },
   {
    "duration": 0,
    "start_time": "2023-01-15T20:53:36.272Z"
   },
   {
    "duration": 0,
    "start_time": "2023-01-15T20:53:36.273Z"
   },
   {
    "duration": 0,
    "start_time": "2023-01-15T20:53:36.274Z"
   },
   {
    "duration": 0,
    "start_time": "2023-01-15T20:53:36.275Z"
   },
   {
    "duration": 0,
    "start_time": "2023-01-15T20:53:36.276Z"
   },
   {
    "duration": 0,
    "start_time": "2023-01-15T20:53:36.277Z"
   },
   {
    "duration": 0,
    "start_time": "2023-01-15T20:53:36.278Z"
   },
   {
    "duration": 0,
    "start_time": "2023-01-15T20:53:36.279Z"
   },
   {
    "duration": 0,
    "start_time": "2023-01-15T20:53:36.281Z"
   },
   {
    "duration": 0,
    "start_time": "2023-01-15T20:53:36.281Z"
   },
   {
    "duration": 0,
    "start_time": "2023-01-15T20:53:36.322Z"
   },
   {
    "duration": 0,
    "start_time": "2023-01-15T20:53:36.325Z"
   },
   {
    "duration": 0,
    "start_time": "2023-01-15T20:53:36.326Z"
   },
   {
    "duration": 0,
    "start_time": "2023-01-15T20:53:36.327Z"
   },
   {
    "duration": 0,
    "start_time": "2023-01-15T20:53:36.328Z"
   },
   {
    "duration": 0,
    "start_time": "2023-01-15T20:53:36.329Z"
   },
   {
    "duration": 0,
    "start_time": "2023-01-15T20:53:36.330Z"
   },
   {
    "duration": 0,
    "start_time": "2023-01-15T20:53:36.331Z"
   },
   {
    "duration": 0,
    "start_time": "2023-01-15T20:53:36.332Z"
   },
   {
    "duration": 0,
    "start_time": "2023-01-15T20:53:36.333Z"
   },
   {
    "duration": 0,
    "start_time": "2023-01-15T20:53:36.334Z"
   },
   {
    "duration": 0,
    "start_time": "2023-01-15T20:53:36.335Z"
   },
   {
    "duration": 0,
    "start_time": "2023-01-15T20:53:36.336Z"
   },
   {
    "duration": 0,
    "start_time": "2023-01-15T20:53:36.337Z"
   },
   {
    "duration": 9,
    "start_time": "2023-01-15T20:54:27.891Z"
   },
   {
    "duration": 5,
    "start_time": "2023-01-15T20:55:02.783Z"
   },
   {
    "duration": 6,
    "start_time": "2023-01-15T20:55:04.112Z"
   },
   {
    "duration": 6,
    "start_time": "2023-01-15T20:55:07.969Z"
   },
   {
    "duration": 168,
    "start_time": "2023-01-15T20:56:34.975Z"
   },
   {
    "duration": 125,
    "start_time": "2023-01-15T20:56:39.739Z"
   },
   {
    "duration": 1132,
    "start_time": "2023-01-15T20:56:45.040Z"
   },
   {
    "duration": 29,
    "start_time": "2023-01-15T20:56:46.174Z"
   },
   {
    "duration": 10,
    "start_time": "2023-01-15T20:56:46.205Z"
   },
   {
    "duration": 23,
    "start_time": "2023-01-15T20:56:46.217Z"
   },
   {
    "duration": 18,
    "start_time": "2023-01-15T20:56:46.242Z"
   },
   {
    "duration": 29,
    "start_time": "2023-01-15T20:56:46.262Z"
   },
   {
    "duration": 32,
    "start_time": "2023-01-15T20:56:46.293Z"
   },
   {
    "duration": 15,
    "start_time": "2023-01-15T20:56:46.327Z"
   },
   {
    "duration": 15,
    "start_time": "2023-01-15T20:56:46.344Z"
   },
   {
    "duration": 270,
    "start_time": "2023-01-15T20:56:46.361Z"
   },
   {
    "duration": 7,
    "start_time": "2023-01-15T20:56:46.632Z"
   },
   {
    "duration": 55,
    "start_time": "2023-01-15T20:56:46.641Z"
   },
   {
    "duration": 8,
    "start_time": "2023-01-15T20:56:46.698Z"
   },
   {
    "duration": 16,
    "start_time": "2023-01-15T20:56:46.707Z"
   },
   {
    "duration": 5,
    "start_time": "2023-01-15T20:56:46.724Z"
   },
   {
    "duration": 34,
    "start_time": "2023-01-15T20:56:46.731Z"
   },
   {
    "duration": 14,
    "start_time": "2023-01-15T20:56:46.767Z"
   },
   {
    "duration": 17,
    "start_time": "2023-01-15T20:56:46.783Z"
   },
   {
    "duration": 13,
    "start_time": "2023-01-15T20:56:46.802Z"
   },
   {
    "duration": 14,
    "start_time": "2023-01-15T20:56:46.816Z"
   },
   {
    "duration": 8,
    "start_time": "2023-01-15T20:56:46.832Z"
   },
   {
    "duration": 15,
    "start_time": "2023-01-15T20:56:46.842Z"
   },
   {
    "duration": 6,
    "start_time": "2023-01-15T20:56:46.859Z"
   },
   {
    "duration": 9,
    "start_time": "2023-01-15T20:56:46.867Z"
   },
   {
    "duration": 18,
    "start_time": "2023-01-15T20:56:46.879Z"
   },
   {
    "duration": 185,
    "start_time": "2023-01-15T20:56:46.899Z"
   },
   {
    "duration": 137,
    "start_time": "2023-01-15T20:56:47.086Z"
   },
   {
    "duration": 13,
    "start_time": "2023-01-15T20:56:47.226Z"
   },
   {
    "duration": 257,
    "start_time": "2023-01-15T20:56:47.241Z"
   },
   {
    "duration": 198,
    "start_time": "2023-01-15T20:56:47.500Z"
   },
   {
    "duration": 333,
    "start_time": "2023-01-15T20:56:47.699Z"
   },
   {
    "duration": 4,
    "start_time": "2023-01-15T20:56:48.034Z"
   },
   {
    "duration": 8,
    "start_time": "2023-01-15T20:56:48.039Z"
   },
   {
    "duration": 8,
    "start_time": "2023-01-15T20:56:48.048Z"
   },
   {
    "duration": 6,
    "start_time": "2023-01-15T20:56:48.058Z"
   },
   {
    "duration": 212,
    "start_time": "2023-01-15T20:56:48.066Z"
   },
   {
    "duration": 7,
    "start_time": "2023-01-15T20:56:48.280Z"
   },
   {
    "duration": 357,
    "start_time": "2023-01-15T20:56:48.288Z"
   },
   {
    "duration": 138,
    "start_time": "2023-01-15T20:56:48.647Z"
   },
   {
    "duration": 3,
    "start_time": "2023-01-15T20:56:48.786Z"
   },
   {
    "duration": 13,
    "start_time": "2023-01-15T20:56:48.791Z"
   },
   {
    "duration": 146,
    "start_time": "2023-01-15T20:56:48.805Z"
   },
   {
    "duration": 148,
    "start_time": "2023-01-15T20:56:48.953Z"
   },
   {
    "duration": 5,
    "start_time": "2023-01-15T20:56:49.103Z"
   },
   {
    "duration": 255,
    "start_time": "2023-01-15T20:56:49.109Z"
   },
   {
    "duration": 145,
    "start_time": "2023-01-15T20:56:49.365Z"
   },
   {
    "duration": 165,
    "start_time": "2023-01-15T20:56:49.512Z"
   },
   {
    "duration": 4,
    "start_time": "2023-01-15T20:56:49.679Z"
   },
   {
    "duration": 492,
    "start_time": "2023-01-15T20:56:49.685Z"
   },
   {
    "duration": 10,
    "start_time": "2023-01-15T20:56:50.179Z"
   },
   {
    "duration": 131,
    "start_time": "2023-01-15T20:56:50.191Z"
   },
   {
    "duration": 6,
    "start_time": "2023-01-15T20:56:50.323Z"
   },
   {
    "duration": 29,
    "start_time": "2023-01-15T20:56:50.331Z"
   },
   {
    "duration": 11,
    "start_time": "2023-01-15T20:56:50.361Z"
   },
   {
    "duration": 9,
    "start_time": "2023-01-15T20:56:50.373Z"
   },
   {
    "duration": 7,
    "start_time": "2023-01-15T20:56:50.384Z"
   },
   {
    "duration": 31,
    "start_time": "2023-01-15T20:56:50.392Z"
   },
   {
    "duration": 10,
    "start_time": "2023-01-15T20:56:50.425Z"
   },
   {
    "duration": 21,
    "start_time": "2023-01-15T20:56:50.436Z"
   },
   {
    "duration": 12,
    "start_time": "2023-01-15T20:56:50.459Z"
   },
   {
    "duration": 8,
    "start_time": "2023-01-15T20:57:19.250Z"
   },
   {
    "duration": 8,
    "start_time": "2023-01-15T20:57:35.514Z"
   },
   {
    "duration": 16,
    "start_time": "2023-01-15T21:05:06.590Z"
   },
   {
    "duration": 323,
    "start_time": "2023-01-15T21:05:24.511Z"
   },
   {
    "duration": 8,
    "start_time": "2023-01-15T21:07:10.168Z"
   },
   {
    "duration": 13,
    "start_time": "2023-01-15T21:07:12.034Z"
   },
   {
    "duration": 1930,
    "start_time": "2023-01-15T21:07:37.926Z"
   },
   {
    "duration": 50,
    "start_time": "2023-01-15T21:07:47.856Z"
   },
   {
    "duration": 1148,
    "start_time": "2023-01-15T21:08:08.306Z"
   },
   {
    "duration": 73,
    "start_time": "2023-01-15T21:08:09.456Z"
   },
   {
    "duration": 12,
    "start_time": "2023-01-15T21:08:09.531Z"
   },
   {
    "duration": 15,
    "start_time": "2023-01-15T21:08:09.545Z"
   },
   {
    "duration": 34,
    "start_time": "2023-01-15T21:08:09.561Z"
   },
   {
    "duration": 8,
    "start_time": "2023-01-15T21:08:09.596Z"
   },
   {
    "duration": 16,
    "start_time": "2023-01-15T21:08:09.606Z"
   },
   {
    "duration": 27,
    "start_time": "2023-01-15T21:08:09.624Z"
   },
   {
    "duration": 18,
    "start_time": "2023-01-15T21:08:09.653Z"
   },
   {
    "duration": 263,
    "start_time": "2023-01-15T21:08:09.673Z"
   },
   {
    "duration": 9,
    "start_time": "2023-01-15T21:08:09.939Z"
   },
   {
    "duration": 162,
    "start_time": "2023-01-15T21:08:09.949Z"
   },
   {
    "duration": 9,
    "start_time": "2023-01-15T21:08:10.113Z"
   },
   {
    "duration": 13,
    "start_time": "2023-01-15T21:08:10.123Z"
   },
   {
    "duration": 5,
    "start_time": "2023-01-15T21:08:10.138Z"
   },
   {
    "duration": 12,
    "start_time": "2023-01-15T21:08:10.144Z"
   },
   {
    "duration": 22,
    "start_time": "2023-01-15T21:08:10.157Z"
   },
   {
    "duration": 27,
    "start_time": "2023-01-15T21:08:10.181Z"
   },
   {
    "duration": 15,
    "start_time": "2023-01-15T21:08:10.210Z"
   },
   {
    "duration": 18,
    "start_time": "2023-01-15T21:08:10.227Z"
   },
   {
    "duration": 7,
    "start_time": "2023-01-15T21:08:10.246Z"
   },
   {
    "duration": 18,
    "start_time": "2023-01-15T21:08:10.255Z"
   },
   {
    "duration": 5,
    "start_time": "2023-01-15T21:08:10.274Z"
   },
   {
    "duration": 9,
    "start_time": "2023-01-15T21:08:10.280Z"
   },
   {
    "duration": 8,
    "start_time": "2023-01-15T21:08:10.291Z"
   },
   {
    "duration": 202,
    "start_time": "2023-01-15T21:08:10.300Z"
   },
   {
    "duration": 136,
    "start_time": "2023-01-15T21:08:10.503Z"
   },
   {
    "duration": 12,
    "start_time": "2023-01-15T21:08:10.643Z"
   },
   {
    "duration": 282,
    "start_time": "2023-01-15T21:08:10.657Z"
   },
   {
    "duration": 193,
    "start_time": "2023-01-15T21:08:10.941Z"
   },
   {
    "duration": 292,
    "start_time": "2023-01-15T21:08:11.136Z"
   },
   {
    "duration": 4,
    "start_time": "2023-01-15T21:08:11.430Z"
   },
   {
    "duration": 10,
    "start_time": "2023-01-15T21:08:11.436Z"
   },
   {
    "duration": 9,
    "start_time": "2023-01-15T21:08:11.447Z"
   },
   {
    "duration": 20,
    "start_time": "2023-01-15T21:08:11.458Z"
   },
   {
    "duration": 217,
    "start_time": "2023-01-15T21:08:11.479Z"
   },
   {
    "duration": 7,
    "start_time": "2023-01-15T21:08:11.697Z"
   },
   {
    "duration": 351,
    "start_time": "2023-01-15T21:08:11.705Z"
   },
   {
    "duration": 121,
    "start_time": "2023-01-15T21:08:12.058Z"
   },
   {
    "duration": 3,
    "start_time": "2023-01-15T21:08:12.180Z"
   },
   {
    "duration": 11,
    "start_time": "2023-01-15T21:08:12.184Z"
   },
   {
    "duration": 140,
    "start_time": "2023-01-15T21:08:12.197Z"
   },
   {
    "duration": 140,
    "start_time": "2023-01-15T21:08:12.338Z"
   },
   {
    "duration": 4,
    "start_time": "2023-01-15T21:08:12.479Z"
   },
   {
    "duration": 225,
    "start_time": "2023-01-15T21:08:12.485Z"
   },
   {
    "duration": 156,
    "start_time": "2023-01-15T21:08:12.711Z"
   },
   {
    "duration": 166,
    "start_time": "2023-01-15T21:08:12.869Z"
   },
   {
    "duration": 5,
    "start_time": "2023-01-15T21:08:13.036Z"
   },
   {
    "duration": 26,
    "start_time": "2023-01-15T21:08:13.042Z"
   },
   {
    "duration": 15,
    "start_time": "2023-01-15T21:08:13.069Z"
   },
   {
    "duration": 119,
    "start_time": "2023-01-15T21:08:13.085Z"
   },
   {
    "duration": 1952,
    "start_time": "2023-01-15T21:08:13.206Z"
   },
   {
    "duration": 46,
    "start_time": "2023-01-15T21:10:58.029Z"
   },
   {
    "duration": 6,
    "start_time": "2023-01-15T21:11:18.474Z"
   },
   {
    "duration": 1139,
    "start_time": "2023-01-15T21:11:27.897Z"
   },
   {
    "duration": 73,
    "start_time": "2023-01-15T21:11:29.037Z"
   },
   {
    "duration": 10,
    "start_time": "2023-01-15T21:11:29.112Z"
   },
   {
    "duration": 13,
    "start_time": "2023-01-15T21:11:29.124Z"
   },
   {
    "duration": 6,
    "start_time": "2023-01-15T21:11:29.139Z"
   },
   {
    "duration": 6,
    "start_time": "2023-01-15T21:11:29.147Z"
   },
   {
    "duration": 4,
    "start_time": "2023-01-15T21:11:29.155Z"
   },
   {
    "duration": 9,
    "start_time": "2023-01-15T21:11:29.161Z"
   },
   {
    "duration": 7,
    "start_time": "2023-01-15T21:11:29.172Z"
   },
   {
    "duration": 264,
    "start_time": "2023-01-15T21:11:29.181Z"
   },
   {
    "duration": 7,
    "start_time": "2023-01-15T21:11:29.447Z"
   },
   {
    "duration": 155,
    "start_time": "2023-01-15T21:11:29.455Z"
   },
   {
    "duration": 8,
    "start_time": "2023-01-15T21:11:29.612Z"
   },
   {
    "duration": 12,
    "start_time": "2023-01-15T21:11:29.621Z"
   },
   {
    "duration": 10,
    "start_time": "2023-01-15T21:11:29.634Z"
   },
   {
    "duration": 9,
    "start_time": "2023-01-15T21:11:29.646Z"
   },
   {
    "duration": 10,
    "start_time": "2023-01-15T21:11:29.657Z"
   },
   {
    "duration": 14,
    "start_time": "2023-01-15T21:11:29.668Z"
   },
   {
    "duration": 22,
    "start_time": "2023-01-15T21:11:29.683Z"
   },
   {
    "duration": 16,
    "start_time": "2023-01-15T21:11:29.706Z"
   },
   {
    "duration": 4,
    "start_time": "2023-01-15T21:11:29.723Z"
   },
   {
    "duration": 11,
    "start_time": "2023-01-15T21:11:29.729Z"
   },
   {
    "duration": 5,
    "start_time": "2023-01-15T21:11:29.742Z"
   },
   {
    "duration": 15,
    "start_time": "2023-01-15T21:11:29.748Z"
   },
   {
    "duration": 9,
    "start_time": "2023-01-15T21:11:29.765Z"
   },
   {
    "duration": 184,
    "start_time": "2023-01-15T21:11:29.775Z"
   },
   {
    "duration": 138,
    "start_time": "2023-01-15T21:11:29.961Z"
   },
   {
    "duration": 20,
    "start_time": "2023-01-15T21:11:30.103Z"
   },
   {
    "duration": 260,
    "start_time": "2023-01-15T21:11:30.125Z"
   },
   {
    "duration": 205,
    "start_time": "2023-01-15T21:11:30.387Z"
   },
   {
    "duration": 339,
    "start_time": "2023-01-15T21:11:30.593Z"
   },
   {
    "duration": 4,
    "start_time": "2023-01-15T21:11:30.934Z"
   },
   {
    "duration": 36,
    "start_time": "2023-01-15T21:11:30.940Z"
   },
   {
    "duration": 22,
    "start_time": "2023-01-15T21:11:30.977Z"
   },
   {
    "duration": 33,
    "start_time": "2023-01-15T21:11:31.001Z"
   },
   {
    "duration": 206,
    "start_time": "2023-01-15T21:11:31.036Z"
   },
   {
    "duration": 6,
    "start_time": "2023-01-15T21:11:31.244Z"
   },
   {
    "duration": 313,
    "start_time": "2023-01-15T21:11:31.251Z"
   },
   {
    "duration": 157,
    "start_time": "2023-01-15T21:11:31.565Z"
   },
   {
    "duration": 3,
    "start_time": "2023-01-15T21:11:31.724Z"
   },
   {
    "duration": 23,
    "start_time": "2023-01-15T21:11:31.728Z"
   },
   {
    "duration": 140,
    "start_time": "2023-01-15T21:11:31.752Z"
   },
   {
    "duration": 138,
    "start_time": "2023-01-15T21:11:31.894Z"
   },
   {
    "duration": 6,
    "start_time": "2023-01-15T21:11:32.033Z"
   },
   {
    "duration": 230,
    "start_time": "2023-01-15T21:11:32.040Z"
   },
   {
    "duration": 143,
    "start_time": "2023-01-15T21:11:32.272Z"
   },
   {
    "duration": 153,
    "start_time": "2023-01-15T21:11:32.422Z"
   },
   {
    "duration": 5,
    "start_time": "2023-01-15T21:11:32.577Z"
   },
   {
    "duration": 14,
    "start_time": "2023-01-15T21:11:32.583Z"
   },
   {
    "duration": 132,
    "start_time": "2023-01-15T21:11:32.598Z"
   },
   {
    "duration": 6,
    "start_time": "2023-01-15T21:11:32.731Z"
   },
   {
    "duration": 11,
    "start_time": "2023-01-15T21:11:32.738Z"
   },
   {
    "duration": 15,
    "start_time": "2023-01-15T21:11:32.751Z"
   },
   {
    "duration": 12,
    "start_time": "2023-01-15T21:11:32.768Z"
   },
   {
    "duration": 9,
    "start_time": "2023-01-15T21:11:32.782Z"
   },
   {
    "duration": 36,
    "start_time": "2023-01-15T21:11:32.792Z"
   },
   {
    "duration": 6,
    "start_time": "2023-01-15T21:11:32.830Z"
   },
   {
    "duration": 1342,
    "start_time": "2023-01-15T21:11:32.837Z"
   },
   {
    "duration": 0,
    "start_time": "2023-01-15T21:11:34.181Z"
   },
   {
    "duration": 0,
    "start_time": "2023-01-15T21:11:34.182Z"
   },
   {
    "duration": 11,
    "start_time": "2023-01-15T21:13:55.647Z"
   },
   {
    "duration": 5,
    "start_time": "2023-01-15T21:15:07.603Z"
   },
   {
    "duration": 14,
    "start_time": "2023-01-15T21:15:10.198Z"
   },
   {
    "duration": 1151,
    "start_time": "2023-01-15T21:19:02.215Z"
   },
   {
    "duration": 29,
    "start_time": "2023-01-15T21:19:03.368Z"
   },
   {
    "duration": 12,
    "start_time": "2023-01-15T21:19:03.399Z"
   },
   {
    "duration": 12,
    "start_time": "2023-01-15T21:19:03.412Z"
   },
   {
    "duration": 14,
    "start_time": "2023-01-15T21:19:03.426Z"
   },
   {
    "duration": 16,
    "start_time": "2023-01-15T21:19:03.441Z"
   },
   {
    "duration": 9,
    "start_time": "2023-01-15T21:19:03.458Z"
   },
   {
    "duration": 17,
    "start_time": "2023-01-15T21:19:03.469Z"
   },
   {
    "duration": 9,
    "start_time": "2023-01-15T21:19:03.488Z"
   },
   {
    "duration": 259,
    "start_time": "2023-01-15T21:19:03.500Z"
   },
   {
    "duration": 7,
    "start_time": "2023-01-15T21:19:03.761Z"
   },
   {
    "duration": 66,
    "start_time": "2023-01-15T21:19:03.770Z"
   },
   {
    "duration": 9,
    "start_time": "2023-01-15T21:19:03.837Z"
   },
   {
    "duration": 30,
    "start_time": "2023-01-15T21:19:03.847Z"
   },
   {
    "duration": 10,
    "start_time": "2023-01-15T21:19:03.879Z"
   },
   {
    "duration": 20,
    "start_time": "2023-01-15T21:19:03.891Z"
   },
   {
    "duration": 27,
    "start_time": "2023-01-15T21:19:03.913Z"
   },
   {
    "duration": 20,
    "start_time": "2023-01-15T21:19:03.942Z"
   },
   {
    "duration": 13,
    "start_time": "2023-01-15T21:19:03.964Z"
   },
   {
    "duration": 6,
    "start_time": "2023-01-15T21:19:03.979Z"
   },
   {
    "duration": 8,
    "start_time": "2023-01-15T21:19:03.986Z"
   },
   {
    "duration": 21,
    "start_time": "2023-01-15T21:19:03.995Z"
   },
   {
    "duration": 8,
    "start_time": "2023-01-15T21:19:04.017Z"
   },
   {
    "duration": 23,
    "start_time": "2023-01-15T21:19:04.027Z"
   },
   {
    "duration": 18,
    "start_time": "2023-01-15T21:19:04.053Z"
   },
   {
    "duration": 228,
    "start_time": "2023-01-15T21:19:04.074Z"
   },
   {
    "duration": 135,
    "start_time": "2023-01-15T21:19:04.305Z"
   },
   {
    "duration": 13,
    "start_time": "2023-01-15T21:19:04.443Z"
   },
   {
    "duration": 268,
    "start_time": "2023-01-15T21:19:04.457Z"
   },
   {
    "duration": 191,
    "start_time": "2023-01-15T21:19:04.726Z"
   },
   {
    "duration": 319,
    "start_time": "2023-01-15T21:19:04.921Z"
   },
   {
    "duration": 4,
    "start_time": "2023-01-15T21:19:05.241Z"
   },
   {
    "duration": 8,
    "start_time": "2023-01-15T21:19:05.247Z"
   },
   {
    "duration": 8,
    "start_time": "2023-01-15T21:19:05.256Z"
   },
   {
    "duration": 8,
    "start_time": "2023-01-15T21:19:05.266Z"
   },
   {
    "duration": 195,
    "start_time": "2023-01-15T21:19:05.275Z"
   },
   {
    "duration": 7,
    "start_time": "2023-01-15T21:19:05.472Z"
   },
   {
    "duration": 338,
    "start_time": "2023-01-15T21:19:05.480Z"
   },
   {
    "duration": 129,
    "start_time": "2023-01-15T21:19:05.821Z"
   },
   {
    "duration": 3,
    "start_time": "2023-01-15T21:19:05.952Z"
   },
   {
    "duration": 12,
    "start_time": "2023-01-15T21:19:05.956Z"
   },
   {
    "duration": 143,
    "start_time": "2023-01-15T21:19:05.969Z"
   },
   {
    "duration": 135,
    "start_time": "2023-01-15T21:19:06.114Z"
   },
   {
    "duration": 5,
    "start_time": "2023-01-15T21:19:06.251Z"
   },
   {
    "duration": 230,
    "start_time": "2023-01-15T21:19:06.258Z"
   },
   {
    "duration": 146,
    "start_time": "2023-01-15T21:19:06.490Z"
   },
   {
    "duration": 153,
    "start_time": "2023-01-15T21:19:06.638Z"
   },
   {
    "duration": 4,
    "start_time": "2023-01-15T21:19:06.793Z"
   },
   {
    "duration": 203,
    "start_time": "2023-01-15T21:19:06.799Z"
   },
   {
    "duration": 149,
    "start_time": "2023-01-15T21:19:07.003Z"
   },
   {
    "duration": 6,
    "start_time": "2023-01-15T21:19:07.153Z"
   },
   {
    "duration": 9,
    "start_time": "2023-01-15T21:19:07.161Z"
   },
   {
    "duration": 21,
    "start_time": "2023-01-15T21:19:07.172Z"
   },
   {
    "duration": 32,
    "start_time": "2023-01-15T21:19:07.195Z"
   },
   {
    "duration": 8,
    "start_time": "2023-01-15T21:19:07.228Z"
   },
   {
    "duration": 6,
    "start_time": "2023-01-15T21:19:07.237Z"
   },
   {
    "duration": 7,
    "start_time": "2023-01-15T21:19:07.245Z"
   },
   {
    "duration": 12,
    "start_time": "2023-01-15T21:19:07.253Z"
   },
   {
    "duration": 25,
    "start_time": "2023-01-15T21:19:07.266Z"
   },
   {
    "duration": 36,
    "start_time": "2023-01-15T21:19:07.293Z"
   },
   {
    "duration": 11,
    "start_time": "2023-01-15T21:26:51.477Z"
   },
   {
    "duration": 8,
    "start_time": "2023-01-15T21:26:58.005Z"
   },
   {
    "duration": 9,
    "start_time": "2023-01-15T21:27:06.696Z"
   },
   {
    "duration": 4,
    "start_time": "2023-01-15T21:29:05.370Z"
   },
   {
    "duration": 8,
    "start_time": "2023-01-15T21:29:18.085Z"
   },
   {
    "duration": 8,
    "start_time": "2023-01-15T21:29:46.310Z"
   },
   {
    "duration": 1107,
    "start_time": "2023-01-15T21:31:19.922Z"
   },
   {
    "duration": 29,
    "start_time": "2023-01-15T21:31:21.031Z"
   },
   {
    "duration": 11,
    "start_time": "2023-01-15T21:31:21.061Z"
   },
   {
    "duration": 12,
    "start_time": "2023-01-15T21:31:21.075Z"
   },
   {
    "duration": 16,
    "start_time": "2023-01-15T21:31:21.088Z"
   },
   {
    "duration": 10,
    "start_time": "2023-01-15T21:31:21.105Z"
   },
   {
    "duration": 5,
    "start_time": "2023-01-15T21:31:21.117Z"
   },
   {
    "duration": 13,
    "start_time": "2023-01-15T21:31:21.123Z"
   },
   {
    "duration": 9,
    "start_time": "2023-01-15T21:31:21.137Z"
   },
   {
    "duration": 268,
    "start_time": "2023-01-15T21:31:21.148Z"
   },
   {
    "duration": 8,
    "start_time": "2023-01-15T21:31:21.418Z"
   },
   {
    "duration": 58,
    "start_time": "2023-01-15T21:31:21.427Z"
   },
   {
    "duration": 7,
    "start_time": "2023-01-15T21:31:21.487Z"
   },
   {
    "duration": 12,
    "start_time": "2023-01-15T21:31:21.496Z"
   },
   {
    "duration": 10,
    "start_time": "2023-01-15T21:31:21.510Z"
   },
   {
    "duration": 11,
    "start_time": "2023-01-15T21:31:21.521Z"
   },
   {
    "duration": 12,
    "start_time": "2023-01-15T21:31:21.533Z"
   },
   {
    "duration": 16,
    "start_time": "2023-01-15T21:31:21.547Z"
   },
   {
    "duration": 12,
    "start_time": "2023-01-15T21:31:21.564Z"
   },
   {
    "duration": 9,
    "start_time": "2023-01-15T21:31:21.577Z"
   },
   {
    "duration": 10,
    "start_time": "2023-01-15T21:31:21.587Z"
   },
   {
    "duration": 34,
    "start_time": "2023-01-15T21:31:21.599Z"
   },
   {
    "duration": 5,
    "start_time": "2023-01-15T21:31:21.634Z"
   },
   {
    "duration": 9,
    "start_time": "2023-01-15T21:31:21.641Z"
   },
   {
    "duration": 8,
    "start_time": "2023-01-15T21:31:21.651Z"
   },
   {
    "duration": 174,
    "start_time": "2023-01-15T21:31:21.662Z"
   },
   {
    "duration": 134,
    "start_time": "2023-01-15T21:31:21.837Z"
   },
   {
    "duration": 12,
    "start_time": "2023-01-15T21:31:21.974Z"
   },
   {
    "duration": 279,
    "start_time": "2023-01-15T21:31:21.988Z"
   },
   {
    "duration": 202,
    "start_time": "2023-01-15T21:31:22.269Z"
   },
   {
    "duration": 305,
    "start_time": "2023-01-15T21:31:22.473Z"
   },
   {
    "duration": 4,
    "start_time": "2023-01-15T21:31:22.780Z"
   },
   {
    "duration": 7,
    "start_time": "2023-01-15T21:31:22.785Z"
   },
   {
    "duration": 7,
    "start_time": "2023-01-15T21:31:22.793Z"
   },
   {
    "duration": 21,
    "start_time": "2023-01-15T21:31:22.801Z"
   },
   {
    "duration": 205,
    "start_time": "2023-01-15T21:31:22.824Z"
   },
   {
    "duration": 8,
    "start_time": "2023-01-15T21:31:23.031Z"
   },
   {
    "duration": 317,
    "start_time": "2023-01-15T21:31:23.040Z"
   },
   {
    "duration": 149,
    "start_time": "2023-01-15T21:31:23.359Z"
   },
   {
    "duration": 3,
    "start_time": "2023-01-15T21:31:23.521Z"
   },
   {
    "duration": 12,
    "start_time": "2023-01-15T21:31:23.526Z"
   },
   {
    "duration": 160,
    "start_time": "2023-01-15T21:31:23.541Z"
   },
   {
    "duration": 143,
    "start_time": "2023-01-15T21:31:23.703Z"
   },
   {
    "duration": 7,
    "start_time": "2023-01-15T21:31:23.848Z"
   },
   {
    "duration": 253,
    "start_time": "2023-01-15T21:31:23.857Z"
   },
   {
    "duration": 185,
    "start_time": "2023-01-15T21:31:24.112Z"
   },
   {
    "duration": 159,
    "start_time": "2023-01-15T21:31:24.299Z"
   },
   {
    "duration": 5,
    "start_time": "2023-01-15T21:31:24.460Z"
   },
   {
    "duration": 213,
    "start_time": "2023-01-15T21:31:24.466Z"
   },
   {
    "duration": 0,
    "start_time": "2023-01-15T21:31:24.681Z"
   },
   {
    "duration": 0,
    "start_time": "2023-01-15T21:31:24.682Z"
   },
   {
    "duration": 0,
    "start_time": "2023-01-15T21:31:24.683Z"
   },
   {
    "duration": 0,
    "start_time": "2023-01-15T21:31:24.685Z"
   },
   {
    "duration": 0,
    "start_time": "2023-01-15T21:31:24.687Z"
   },
   {
    "duration": 0,
    "start_time": "2023-01-15T21:31:24.688Z"
   },
   {
    "duration": 0,
    "start_time": "2023-01-15T21:31:24.689Z"
   },
   {
    "duration": 0,
    "start_time": "2023-01-15T21:31:24.690Z"
   },
   {
    "duration": 0,
    "start_time": "2023-01-15T21:31:24.692Z"
   },
   {
    "duration": 0,
    "start_time": "2023-01-15T21:31:24.693Z"
   },
   {
    "duration": 123,
    "start_time": "2023-01-15T21:34:47.570Z"
   },
   {
    "duration": 1160,
    "start_time": "2023-01-15T21:34:52.647Z"
   },
   {
    "duration": 32,
    "start_time": "2023-01-15T21:34:53.809Z"
   },
   {
    "duration": 16,
    "start_time": "2023-01-15T21:34:53.842Z"
   },
   {
    "duration": 48,
    "start_time": "2023-01-15T21:34:53.860Z"
   },
   {
    "duration": 44,
    "start_time": "2023-01-15T21:34:53.910Z"
   },
   {
    "duration": 8,
    "start_time": "2023-01-15T21:34:53.956Z"
   },
   {
    "duration": 7,
    "start_time": "2023-01-15T21:34:53.966Z"
   },
   {
    "duration": 17,
    "start_time": "2023-01-15T21:34:53.975Z"
   },
   {
    "duration": 14,
    "start_time": "2023-01-15T21:34:53.994Z"
   },
   {
    "duration": 413,
    "start_time": "2023-01-15T21:34:54.012Z"
   },
   {
    "duration": 8,
    "start_time": "2023-01-15T21:34:54.427Z"
   },
   {
    "duration": 61,
    "start_time": "2023-01-15T21:34:54.437Z"
   },
   {
    "duration": 13,
    "start_time": "2023-01-15T21:34:54.500Z"
   },
   {
    "duration": 30,
    "start_time": "2023-01-15T21:34:54.515Z"
   },
   {
    "duration": 16,
    "start_time": "2023-01-15T21:34:54.547Z"
   },
   {
    "duration": 29,
    "start_time": "2023-01-15T21:34:54.565Z"
   },
   {
    "duration": 30,
    "start_time": "2023-01-15T21:34:54.596Z"
   },
   {
    "duration": 26,
    "start_time": "2023-01-15T21:34:54.628Z"
   },
   {
    "duration": 18,
    "start_time": "2023-01-15T21:34:54.657Z"
   },
   {
    "duration": 18,
    "start_time": "2023-01-15T21:34:54.677Z"
   },
   {
    "duration": 48,
    "start_time": "2023-01-15T21:34:54.697Z"
   },
   {
    "duration": 32,
    "start_time": "2023-01-15T21:34:54.748Z"
   },
   {
    "duration": 7,
    "start_time": "2023-01-15T21:34:54.781Z"
   },
   {
    "duration": 18,
    "start_time": "2023-01-15T21:34:54.790Z"
   },
   {
    "duration": 37,
    "start_time": "2023-01-15T21:34:54.810Z"
   },
   {
    "duration": 217,
    "start_time": "2023-01-15T21:34:54.849Z"
   },
   {
    "duration": 132,
    "start_time": "2023-01-15T21:34:55.068Z"
   },
   {
    "duration": 27,
    "start_time": "2023-01-15T21:34:55.203Z"
   },
   {
    "duration": 284,
    "start_time": "2023-01-15T21:34:55.232Z"
   },
   {
    "duration": 213,
    "start_time": "2023-01-15T21:34:55.518Z"
   },
   {
    "duration": 313,
    "start_time": "2023-01-15T21:34:55.733Z"
   },
   {
    "duration": 4,
    "start_time": "2023-01-15T21:34:56.049Z"
   },
   {
    "duration": 23,
    "start_time": "2023-01-15T21:34:56.056Z"
   },
   {
    "duration": 10,
    "start_time": "2023-01-15T21:34:56.081Z"
   },
   {
    "duration": 19,
    "start_time": "2023-01-15T21:34:56.092Z"
   },
   {
    "duration": 200,
    "start_time": "2023-01-15T21:34:56.112Z"
   },
   {
    "duration": 12,
    "start_time": "2023-01-15T21:34:56.314Z"
   },
   {
    "duration": 499,
    "start_time": "2023-01-15T21:34:56.327Z"
   },
   {
    "duration": 239,
    "start_time": "2023-01-15T21:34:56.828Z"
   },
   {
    "duration": 55,
    "start_time": "2023-01-15T21:34:57.068Z"
   },
   {
    "duration": 16,
    "start_time": "2023-01-15T21:34:57.125Z"
   },
   {
    "duration": 297,
    "start_time": "2023-01-15T21:34:57.143Z"
   },
   {
    "duration": 296,
    "start_time": "2023-01-15T21:34:57.441Z"
   },
   {
    "duration": 6,
    "start_time": "2023-01-15T21:34:57.739Z"
   },
   {
    "duration": 522,
    "start_time": "2023-01-15T21:34:57.747Z"
   },
   {
    "duration": 270,
    "start_time": "2023-01-15T21:34:58.270Z"
   },
   {
    "duration": 173,
    "start_time": "2023-01-15T21:34:58.542Z"
   },
   {
    "duration": 5,
    "start_time": "2023-01-15T21:34:58.721Z"
   },
   {
    "duration": 125,
    "start_time": "2023-01-15T21:34:58.728Z"
   },
   {
    "duration": 141,
    "start_time": "2023-01-15T21:34:58.855Z"
   },
   {
    "duration": 1304,
    "start_time": "2023-01-15T21:34:58.998Z"
   },
   {
    "duration": 0,
    "start_time": "2023-01-15T21:35:00.303Z"
   },
   {
    "duration": 0,
    "start_time": "2023-01-15T21:35:00.304Z"
   },
   {
    "duration": 0,
    "start_time": "2023-01-15T21:35:00.305Z"
   },
   {
    "duration": 0,
    "start_time": "2023-01-15T21:35:00.308Z"
   },
   {
    "duration": 0,
    "start_time": "2023-01-15T21:35:00.309Z"
   },
   {
    "duration": 0,
    "start_time": "2023-01-15T21:35:00.310Z"
   },
   {
    "duration": 0,
    "start_time": "2023-01-15T21:35:00.310Z"
   },
   {
    "duration": 0,
    "start_time": "2023-01-15T21:35:00.311Z"
   },
   {
    "duration": 1180,
    "start_time": "2023-01-15T21:37:36.087Z"
   },
   {
    "duration": 30,
    "start_time": "2023-01-15T21:37:37.269Z"
   },
   {
    "duration": 15,
    "start_time": "2023-01-15T21:37:37.301Z"
   },
   {
    "duration": 40,
    "start_time": "2023-01-15T21:37:37.318Z"
   },
   {
    "duration": 26,
    "start_time": "2023-01-15T21:37:37.360Z"
   },
   {
    "duration": 4,
    "start_time": "2023-01-15T21:37:37.388Z"
   },
   {
    "duration": 6,
    "start_time": "2023-01-15T21:37:37.393Z"
   },
   {
    "duration": 12,
    "start_time": "2023-01-15T21:37:37.401Z"
   },
   {
    "duration": 17,
    "start_time": "2023-01-15T21:37:37.415Z"
   },
   {
    "duration": 344,
    "start_time": "2023-01-15T21:37:37.436Z"
   },
   {
    "duration": 9,
    "start_time": "2023-01-15T21:37:37.782Z"
   },
   {
    "duration": 95,
    "start_time": "2023-01-15T21:37:37.793Z"
   },
   {
    "duration": 9,
    "start_time": "2023-01-15T21:37:37.890Z"
   },
   {
    "duration": 23,
    "start_time": "2023-01-15T21:37:37.901Z"
   },
   {
    "duration": 10,
    "start_time": "2023-01-15T21:37:37.926Z"
   },
   {
    "duration": 23,
    "start_time": "2023-01-15T21:37:37.938Z"
   },
   {
    "duration": 23,
    "start_time": "2023-01-15T21:37:37.964Z"
   },
   {
    "duration": 28,
    "start_time": "2023-01-15T21:37:37.989Z"
   },
   {
    "duration": 14,
    "start_time": "2023-01-15T21:37:38.019Z"
   },
   {
    "duration": 13,
    "start_time": "2023-01-15T21:37:38.034Z"
   },
   {
    "duration": 5,
    "start_time": "2023-01-15T21:37:38.049Z"
   },
   {
    "duration": 19,
    "start_time": "2023-01-15T21:37:38.056Z"
   },
   {
    "duration": 16,
    "start_time": "2023-01-15T21:37:38.077Z"
   },
   {
    "duration": 12,
    "start_time": "2023-01-15T21:37:38.095Z"
   },
   {
    "duration": 16,
    "start_time": "2023-01-15T21:37:38.109Z"
   },
   {
    "duration": 229,
    "start_time": "2023-01-15T21:37:38.127Z"
   },
   {
    "duration": 146,
    "start_time": "2023-01-15T21:37:38.357Z"
   },
   {
    "duration": 21,
    "start_time": "2023-01-15T21:37:38.521Z"
   },
   {
    "duration": 388,
    "start_time": "2023-01-15T21:37:38.544Z"
   },
   {
    "duration": 261,
    "start_time": "2023-01-15T21:37:38.933Z"
   },
   {
    "duration": 333,
    "start_time": "2023-01-15T21:37:39.196Z"
   },
   {
    "duration": 5,
    "start_time": "2023-01-15T21:37:39.531Z"
   },
   {
    "duration": 16,
    "start_time": "2023-01-15T21:37:39.538Z"
   },
   {
    "duration": 6,
    "start_time": "2023-01-15T21:37:39.557Z"
   },
   {
    "duration": 28,
    "start_time": "2023-01-15T21:37:39.565Z"
   },
   {
    "duration": 203,
    "start_time": "2023-01-15T21:37:39.595Z"
   },
   {
    "duration": 9,
    "start_time": "2023-01-15T21:37:39.800Z"
   },
   {
    "duration": 345,
    "start_time": "2023-01-15T21:37:39.811Z"
   },
   {
    "duration": 128,
    "start_time": "2023-01-15T21:37:40.158Z"
   },
   {
    "duration": 4,
    "start_time": "2023-01-15T21:37:40.288Z"
   },
   {
    "duration": 20,
    "start_time": "2023-01-15T21:37:40.293Z"
   },
   {
    "duration": 135,
    "start_time": "2023-01-15T21:37:40.315Z"
   },
   {
    "duration": 147,
    "start_time": "2023-01-15T21:37:40.452Z"
   },
   {
    "duration": 5,
    "start_time": "2023-01-15T21:37:40.600Z"
   },
   {
    "duration": 262,
    "start_time": "2023-01-15T21:37:40.607Z"
   },
   {
    "duration": 160,
    "start_time": "2023-01-15T21:37:40.871Z"
   },
   {
    "duration": 173,
    "start_time": "2023-01-15T21:37:41.032Z"
   },
   {
    "duration": 17,
    "start_time": "2023-01-15T21:37:41.206Z"
   },
   {
    "duration": 143,
    "start_time": "2023-01-15T21:37:41.224Z"
   },
   {
    "duration": 137,
    "start_time": "2023-01-15T21:37:41.368Z"
   },
   {
    "duration": 16,
    "start_time": "2023-01-15T21:37:41.506Z"
   },
   {
    "duration": 22,
    "start_time": "2023-01-15T21:37:41.523Z"
   },
   {
    "duration": 13,
    "start_time": "2023-01-15T21:37:41.546Z"
   },
   {
    "duration": 13,
    "start_time": "2023-01-15T21:37:41.560Z"
   },
   {
    "duration": 8,
    "start_time": "2023-01-15T21:37:41.575Z"
   },
   {
    "duration": 55,
    "start_time": "2023-01-15T21:37:41.585Z"
   },
   {
    "duration": 17,
    "start_time": "2023-01-15T21:37:41.642Z"
   },
   {
    "duration": 24,
    "start_time": "2023-01-15T21:37:41.661Z"
   },
   {
    "duration": 14,
    "start_time": "2023-01-15T21:37:41.687Z"
   },
   {
    "duration": 95,
    "start_time": "2023-01-15T21:48:54.636Z"
   },
   {
    "duration": 16,
    "start_time": "2023-01-15T21:49:06.575Z"
   },
   {
    "duration": 8,
    "start_time": "2023-01-15T21:49:14.811Z"
   },
   {
    "duration": 8,
    "start_time": "2023-01-15T21:50:55.065Z"
   },
   {
    "duration": 8,
    "start_time": "2023-01-15T21:51:11.996Z"
   },
   {
    "duration": 12,
    "start_time": "2023-01-15T21:51:51.029Z"
   },
   {
    "duration": 1074,
    "start_time": "2023-01-15T21:59:10.352Z"
   },
   {
    "duration": 29,
    "start_time": "2023-01-15T21:59:11.428Z"
   },
   {
    "duration": 12,
    "start_time": "2023-01-15T21:59:11.458Z"
   },
   {
    "duration": 19,
    "start_time": "2023-01-15T21:59:11.472Z"
   },
   {
    "duration": 19,
    "start_time": "2023-01-15T21:59:11.493Z"
   },
   {
    "duration": 15,
    "start_time": "2023-01-15T21:59:11.513Z"
   },
   {
    "duration": 24,
    "start_time": "2023-01-15T21:59:11.530Z"
   },
   {
    "duration": 21,
    "start_time": "2023-01-15T21:59:11.556Z"
   },
   {
    "duration": 11,
    "start_time": "2023-01-15T21:59:11.579Z"
   },
   {
    "duration": 291,
    "start_time": "2023-01-15T21:59:11.593Z"
   },
   {
    "duration": 8,
    "start_time": "2023-01-15T21:59:11.885Z"
   },
   {
    "duration": 63,
    "start_time": "2023-01-15T21:59:11.894Z"
   },
   {
    "duration": 8,
    "start_time": "2023-01-15T21:59:11.959Z"
   },
   {
    "duration": 16,
    "start_time": "2023-01-15T21:59:11.969Z"
   },
   {
    "duration": 21,
    "start_time": "2023-01-15T21:59:11.986Z"
   },
   {
    "duration": 10,
    "start_time": "2023-01-15T21:59:12.008Z"
   },
   {
    "duration": 23,
    "start_time": "2023-01-15T21:59:12.019Z"
   },
   {
    "duration": 35,
    "start_time": "2023-01-15T21:59:12.044Z"
   },
   {
    "duration": 13,
    "start_time": "2023-01-15T21:59:12.080Z"
   },
   {
    "duration": 18,
    "start_time": "2023-01-15T21:59:12.095Z"
   },
   {
    "duration": 14,
    "start_time": "2023-01-15T21:59:12.114Z"
   },
   {
    "duration": 18,
    "start_time": "2023-01-15T21:59:12.130Z"
   },
   {
    "duration": 8,
    "start_time": "2023-01-15T21:59:12.150Z"
   },
   {
    "duration": 14,
    "start_time": "2023-01-15T21:59:12.159Z"
   },
   {
    "duration": 20,
    "start_time": "2023-01-15T21:59:12.175Z"
   },
   {
    "duration": 192,
    "start_time": "2023-01-15T21:59:12.197Z"
   },
   {
    "duration": 131,
    "start_time": "2023-01-15T21:59:12.391Z"
   },
   {
    "duration": 12,
    "start_time": "2023-01-15T21:59:12.525Z"
   },
   {
    "duration": 250,
    "start_time": "2023-01-15T21:59:12.538Z"
   },
   {
    "duration": 197,
    "start_time": "2023-01-15T21:59:12.789Z"
   },
   {
    "duration": 343,
    "start_time": "2023-01-15T21:59:12.987Z"
   },
   {
    "duration": 4,
    "start_time": "2023-01-15T21:59:13.331Z"
   },
   {
    "duration": 7,
    "start_time": "2023-01-15T21:59:13.337Z"
   },
   {
    "duration": 6,
    "start_time": "2023-01-15T21:59:13.346Z"
   },
   {
    "duration": 6,
    "start_time": "2023-01-15T21:59:13.353Z"
   },
   {
    "duration": 212,
    "start_time": "2023-01-15T21:59:13.360Z"
   },
   {
    "duration": 7,
    "start_time": "2023-01-15T21:59:13.573Z"
   },
   {
    "duration": 362,
    "start_time": "2023-01-15T21:59:13.582Z"
   },
   {
    "duration": 182,
    "start_time": "2023-01-15T21:59:13.945Z"
   },
   {
    "duration": 4,
    "start_time": "2023-01-15T21:59:14.129Z"
   },
   {
    "duration": 21,
    "start_time": "2023-01-15T21:59:14.135Z"
   },
   {
    "duration": 167,
    "start_time": "2023-01-15T21:59:14.158Z"
   },
   {
    "duration": 137,
    "start_time": "2023-01-15T21:59:14.327Z"
   },
   {
    "duration": 4,
    "start_time": "2023-01-15T21:59:14.466Z"
   },
   {
    "duration": 232,
    "start_time": "2023-01-15T21:59:14.471Z"
   },
   {
    "duration": 144,
    "start_time": "2023-01-15T21:59:14.705Z"
   },
   {
    "duration": 165,
    "start_time": "2023-01-15T21:59:14.851Z"
   },
   {
    "duration": 7,
    "start_time": "2023-01-15T21:59:15.018Z"
   },
   {
    "duration": 136,
    "start_time": "2023-01-15T21:59:15.027Z"
   },
   {
    "duration": 137,
    "start_time": "2023-01-15T21:59:15.164Z"
   },
   {
    "duration": 5,
    "start_time": "2023-01-15T21:59:15.303Z"
   },
   {
    "duration": 34,
    "start_time": "2023-01-15T21:59:15.309Z"
   },
   {
    "duration": 16,
    "start_time": "2023-01-15T21:59:15.345Z"
   },
   {
    "duration": 15,
    "start_time": "2023-01-15T21:59:15.362Z"
   },
   {
    "duration": 10,
    "start_time": "2023-01-15T21:59:15.378Z"
   },
   {
    "duration": 31,
    "start_time": "2023-01-15T21:59:15.390Z"
   },
   {
    "duration": 44,
    "start_time": "2023-01-15T21:59:15.422Z"
   },
   {
    "duration": 14,
    "start_time": "2023-01-15T21:59:15.468Z"
   },
   {
    "duration": 28,
    "start_time": "2023-01-15T21:59:15.484Z"
   },
   {
    "duration": 19,
    "start_time": "2023-01-15T21:59:15.513Z"
   },
   {
    "duration": 1620,
    "start_time": "2023-01-16T14:21:40.717Z"
   },
   {
    "duration": 62,
    "start_time": "2023-01-16T14:21:42.339Z"
   },
   {
    "duration": 16,
    "start_time": "2023-01-16T14:21:42.403Z"
   },
   {
    "duration": 23,
    "start_time": "2023-01-16T14:21:42.422Z"
   },
   {
    "duration": 27,
    "start_time": "2023-01-16T14:21:42.447Z"
   },
   {
    "duration": 14,
    "start_time": "2023-01-16T14:21:42.475Z"
   },
   {
    "duration": 19,
    "start_time": "2023-01-16T14:21:42.491Z"
   },
   {
    "duration": 16,
    "start_time": "2023-01-16T14:21:42.511Z"
   },
   {
    "duration": 28,
    "start_time": "2023-01-16T14:21:42.529Z"
   },
   {
    "duration": 287,
    "start_time": "2023-01-16T14:21:42.560Z"
   },
   {
    "duration": 9,
    "start_time": "2023-01-16T14:21:42.849Z"
   },
   {
    "duration": 136,
    "start_time": "2023-01-16T14:21:42.860Z"
   },
   {
    "duration": 8,
    "start_time": "2023-01-16T14:21:42.997Z"
   },
   {
    "duration": 24,
    "start_time": "2023-01-16T14:21:43.006Z"
   },
   {
    "duration": 10,
    "start_time": "2023-01-16T14:21:43.032Z"
   },
   {
    "duration": 12,
    "start_time": "2023-01-16T14:21:43.044Z"
   },
   {
    "duration": 14,
    "start_time": "2023-01-16T14:21:43.058Z"
   },
   {
    "duration": 22,
    "start_time": "2023-01-16T14:21:43.073Z"
   },
   {
    "duration": 16,
    "start_time": "2023-01-16T14:21:43.097Z"
   },
   {
    "duration": 16,
    "start_time": "2023-01-16T14:21:43.115Z"
   },
   {
    "duration": 8,
    "start_time": "2023-01-16T14:21:43.132Z"
   },
   {
    "duration": 15,
    "start_time": "2023-01-16T14:21:43.141Z"
   },
   {
    "duration": 4,
    "start_time": "2023-01-16T14:21:43.158Z"
   },
   {
    "duration": 21,
    "start_time": "2023-01-16T14:21:43.164Z"
   },
   {
    "duration": 8,
    "start_time": "2023-01-16T14:21:43.187Z"
   },
   {
    "duration": 184,
    "start_time": "2023-01-16T14:21:43.197Z"
   },
   {
    "duration": 132,
    "start_time": "2023-01-16T14:21:43.383Z"
   },
   {
    "duration": 21,
    "start_time": "2023-01-16T14:21:43.518Z"
   },
   {
    "duration": 297,
    "start_time": "2023-01-16T14:21:43.541Z"
   },
   {
    "duration": 223,
    "start_time": "2023-01-16T14:21:43.840Z"
   },
   {
    "duration": 344,
    "start_time": "2023-01-16T14:21:44.065Z"
   },
   {
    "duration": 4,
    "start_time": "2023-01-16T14:21:44.411Z"
   },
   {
    "duration": 11,
    "start_time": "2023-01-16T14:21:44.417Z"
   },
   {
    "duration": 21,
    "start_time": "2023-01-16T14:21:44.430Z"
   },
   {
    "duration": 11,
    "start_time": "2023-01-16T14:21:44.452Z"
   },
   {
    "duration": 243,
    "start_time": "2023-01-16T14:21:44.465Z"
   },
   {
    "duration": 7,
    "start_time": "2023-01-16T14:21:44.709Z"
   },
   {
    "duration": 378,
    "start_time": "2023-01-16T14:21:44.718Z"
   },
   {
    "duration": 150,
    "start_time": "2023-01-16T14:21:45.098Z"
   },
   {
    "duration": 3,
    "start_time": "2023-01-16T14:21:45.250Z"
   },
   {
    "duration": 30,
    "start_time": "2023-01-16T14:21:45.255Z"
   },
   {
    "duration": 147,
    "start_time": "2023-01-16T14:21:45.287Z"
   },
   {
    "duration": 147,
    "start_time": "2023-01-16T14:21:45.436Z"
   },
   {
    "duration": 5,
    "start_time": "2023-01-16T14:21:45.585Z"
   },
   {
    "duration": 283,
    "start_time": "2023-01-16T14:21:45.591Z"
   },
   {
    "duration": 174,
    "start_time": "2023-01-16T14:21:45.877Z"
   },
   {
    "duration": 183,
    "start_time": "2023-01-16T14:21:46.054Z"
   },
   {
    "duration": 5,
    "start_time": "2023-01-16T14:21:46.239Z"
   },
   {
    "duration": 158,
    "start_time": "2023-01-16T14:21:46.247Z"
   },
   {
    "duration": 153,
    "start_time": "2023-01-16T14:21:46.407Z"
   },
   {
    "duration": 7,
    "start_time": "2023-01-16T14:21:46.562Z"
   },
   {
    "duration": 33,
    "start_time": "2023-01-16T14:21:46.570Z"
   },
   {
    "duration": 13,
    "start_time": "2023-01-16T14:21:46.605Z"
   },
   {
    "duration": 18,
    "start_time": "2023-01-16T14:21:46.637Z"
   },
   {
    "duration": 8,
    "start_time": "2023-01-16T14:21:46.657Z"
   },
   {
    "duration": 27,
    "start_time": "2023-01-16T14:21:46.666Z"
   },
   {
    "duration": 14,
    "start_time": "2023-01-16T14:21:46.694Z"
   },
   {
    "duration": 21,
    "start_time": "2023-01-16T14:21:46.710Z"
   },
   {
    "duration": 39,
    "start_time": "2023-01-16T14:21:46.732Z"
   },
   {
    "duration": 15,
    "start_time": "2023-01-16T14:21:46.772Z"
   },
   {
    "duration": 11,
    "start_time": "2023-01-16T14:22:29.762Z"
   },
   {
    "duration": 9,
    "start_time": "2023-01-16T14:22:37.446Z"
   },
   {
    "duration": 11,
    "start_time": "2023-01-16T14:25:04.796Z"
   },
   {
    "duration": 10,
    "start_time": "2023-01-16T14:25:33.546Z"
   },
   {
    "duration": 11,
    "start_time": "2023-01-16T14:26:00.237Z"
   },
   {
    "duration": 1151,
    "start_time": "2023-01-16T14:43:14.966Z"
   },
   {
    "duration": 26,
    "start_time": "2023-01-16T14:43:16.120Z"
   },
   {
    "duration": 15,
    "start_time": "2023-01-16T14:43:16.147Z"
   },
   {
    "duration": 25,
    "start_time": "2023-01-16T14:43:16.165Z"
   },
   {
    "duration": 35,
    "start_time": "2023-01-16T14:43:16.192Z"
   },
   {
    "duration": 11,
    "start_time": "2023-01-16T14:43:16.229Z"
   },
   {
    "duration": 12,
    "start_time": "2023-01-16T14:43:16.242Z"
   },
   {
    "duration": 29,
    "start_time": "2023-01-16T14:43:16.256Z"
   },
   {
    "duration": 9,
    "start_time": "2023-01-16T14:43:16.287Z"
   },
   {
    "duration": 290,
    "start_time": "2023-01-16T14:43:16.299Z"
   },
   {
    "duration": 8,
    "start_time": "2023-01-16T14:43:16.591Z"
   },
   {
    "duration": 97,
    "start_time": "2023-01-16T14:43:16.601Z"
   },
   {
    "duration": 10,
    "start_time": "2023-01-16T14:43:16.700Z"
   },
   {
    "duration": 41,
    "start_time": "2023-01-16T14:43:16.713Z"
   },
   {
    "duration": 23,
    "start_time": "2023-01-16T14:43:16.756Z"
   },
   {
    "duration": 24,
    "start_time": "2023-01-16T14:43:16.781Z"
   },
   {
    "duration": 23,
    "start_time": "2023-01-16T14:43:16.807Z"
   },
   {
    "duration": 20,
    "start_time": "2023-01-16T14:43:16.831Z"
   },
   {
    "duration": 15,
    "start_time": "2023-01-16T14:43:16.853Z"
   },
   {
    "duration": 13,
    "start_time": "2023-01-16T14:43:16.869Z"
   },
   {
    "duration": 21,
    "start_time": "2023-01-16T14:43:16.883Z"
   },
   {
    "duration": 18,
    "start_time": "2023-01-16T14:43:16.906Z"
   },
   {
    "duration": 11,
    "start_time": "2023-01-16T14:43:16.926Z"
   },
   {
    "duration": 9,
    "start_time": "2023-01-16T14:43:16.939Z"
   },
   {
    "duration": 20,
    "start_time": "2023-01-16T14:43:16.950Z"
   },
   {
    "duration": 178,
    "start_time": "2023-01-16T14:43:16.971Z"
   },
   {
    "duration": 142,
    "start_time": "2023-01-16T14:43:17.151Z"
   },
   {
    "duration": 14,
    "start_time": "2023-01-16T14:43:17.296Z"
   },
   {
    "duration": 292,
    "start_time": "2023-01-16T14:43:17.312Z"
   },
   {
    "duration": 245,
    "start_time": "2023-01-16T14:43:17.606Z"
   },
   {
    "duration": 333,
    "start_time": "2023-01-16T14:43:17.853Z"
   },
   {
    "duration": 5,
    "start_time": "2023-01-16T14:43:18.188Z"
   },
   {
    "duration": 19,
    "start_time": "2023-01-16T14:43:18.194Z"
   },
   {
    "duration": 31,
    "start_time": "2023-01-16T14:43:18.215Z"
   },
   {
    "duration": 15,
    "start_time": "2023-01-16T14:43:18.248Z"
   },
   {
    "duration": 220,
    "start_time": "2023-01-16T14:43:18.265Z"
   },
   {
    "duration": 7,
    "start_time": "2023-01-16T14:43:18.486Z"
   },
   {
    "duration": 400,
    "start_time": "2023-01-16T14:43:18.495Z"
   },
   {
    "duration": 177,
    "start_time": "2023-01-16T14:43:18.897Z"
   },
   {
    "duration": 4,
    "start_time": "2023-01-16T14:43:19.076Z"
   },
   {
    "duration": 24,
    "start_time": "2023-01-16T14:43:19.082Z"
   },
   {
    "duration": 208,
    "start_time": "2023-01-16T14:43:19.108Z"
   },
   {
    "duration": 153,
    "start_time": "2023-01-16T14:43:19.318Z"
   },
   {
    "duration": 5,
    "start_time": "2023-01-16T14:43:19.473Z"
   },
   {
    "duration": 247,
    "start_time": "2023-01-16T14:43:19.480Z"
   },
   {
    "duration": 176,
    "start_time": "2023-01-16T14:43:19.729Z"
   },
   {
    "duration": 174,
    "start_time": "2023-01-16T14:43:19.907Z"
   },
   {
    "duration": 5,
    "start_time": "2023-01-16T14:43:20.083Z"
   },
   {
    "duration": 159,
    "start_time": "2023-01-16T14:43:20.090Z"
   },
   {
    "duration": 20,
    "start_time": "2023-01-16T14:43:20.250Z"
   },
   {
    "duration": 384,
    "start_time": "2023-01-16T14:43:20.272Z"
   },
   {
    "duration": 10,
    "start_time": "2023-01-16T14:43:20.658Z"
   },
   {
    "duration": 20,
    "start_time": "2023-01-16T14:43:20.670Z"
   },
   {
    "duration": 33,
    "start_time": "2023-01-16T14:43:20.692Z"
   },
   {
    "duration": 30,
    "start_time": "2023-01-16T14:43:20.727Z"
   },
   {
    "duration": 11,
    "start_time": "2023-01-16T14:43:20.759Z"
   },
   {
    "duration": 1267,
    "start_time": "2023-01-16T14:43:20.772Z"
   },
   {
    "duration": 0,
    "start_time": "2023-01-16T14:43:22.041Z"
   },
   {
    "duration": 0,
    "start_time": "2023-01-16T14:43:22.043Z"
   },
   {
    "duration": 19,
    "start_time": "2023-01-16T14:45:35.929Z"
   },
   {
    "duration": 380,
    "start_time": "2023-01-16T14:45:40.811Z"
   },
   {
    "duration": 1301,
    "start_time": "2023-01-16T14:46:44.510Z"
   },
   {
    "duration": 33,
    "start_time": "2023-01-16T14:46:45.814Z"
   },
   {
    "duration": 18,
    "start_time": "2023-01-16T14:46:45.850Z"
   },
   {
    "duration": 20,
    "start_time": "2023-01-16T14:46:45.871Z"
   },
   {
    "duration": 11,
    "start_time": "2023-01-16T14:46:45.892Z"
   },
   {
    "duration": 7,
    "start_time": "2023-01-16T14:46:45.904Z"
   },
   {
    "duration": 9,
    "start_time": "2023-01-16T14:46:45.913Z"
   },
   {
    "duration": 20,
    "start_time": "2023-01-16T14:46:45.924Z"
   },
   {
    "duration": 9,
    "start_time": "2023-01-16T14:46:45.947Z"
   },
   {
    "duration": 323,
    "start_time": "2023-01-16T14:46:45.960Z"
   },
   {
    "duration": 9,
    "start_time": "2023-01-16T14:46:46.285Z"
   },
   {
    "duration": 58,
    "start_time": "2023-01-16T14:46:46.296Z"
   },
   {
    "duration": 10,
    "start_time": "2023-01-16T14:46:46.356Z"
   },
   {
    "duration": 23,
    "start_time": "2023-01-16T14:46:46.367Z"
   },
   {
    "duration": 6,
    "start_time": "2023-01-16T14:46:46.392Z"
   },
   {
    "duration": 11,
    "start_time": "2023-01-16T14:46:46.400Z"
   },
   {
    "duration": 13,
    "start_time": "2023-01-16T14:46:46.413Z"
   },
   {
    "duration": 26,
    "start_time": "2023-01-16T14:46:46.427Z"
   },
   {
    "duration": 15,
    "start_time": "2023-01-16T14:46:46.455Z"
   },
   {
    "duration": 11,
    "start_time": "2023-01-16T14:46:46.472Z"
   },
   {
    "duration": 8,
    "start_time": "2023-01-16T14:46:46.486Z"
   },
   {
    "duration": 19,
    "start_time": "2023-01-16T14:46:46.496Z"
   },
   {
    "duration": 10,
    "start_time": "2023-01-16T14:46:46.517Z"
   },
   {
    "duration": 10,
    "start_time": "2023-01-16T14:46:46.537Z"
   },
   {
    "duration": 13,
    "start_time": "2023-01-16T14:46:46.549Z"
   },
   {
    "duration": 200,
    "start_time": "2023-01-16T14:46:46.564Z"
   },
   {
    "duration": 136,
    "start_time": "2023-01-16T14:46:46.766Z"
   },
   {
    "duration": 12,
    "start_time": "2023-01-16T14:46:46.905Z"
   },
   {
    "duration": 324,
    "start_time": "2023-01-16T14:46:46.919Z"
   },
   {
    "duration": 248,
    "start_time": "2023-01-16T14:46:47.244Z"
   },
   {
    "duration": 402,
    "start_time": "2023-01-16T14:46:47.494Z"
   },
   {
    "duration": 5,
    "start_time": "2023-01-16T14:46:47.898Z"
   },
   {
    "duration": 12,
    "start_time": "2023-01-16T14:46:47.905Z"
   },
   {
    "duration": 14,
    "start_time": "2023-01-16T14:46:47.918Z"
   },
   {
    "duration": 18,
    "start_time": "2023-01-16T14:46:47.937Z"
   },
   {
    "duration": 241,
    "start_time": "2023-01-16T14:46:47.957Z"
   },
   {
    "duration": 9,
    "start_time": "2023-01-16T14:46:48.201Z"
   },
   {
    "duration": 372,
    "start_time": "2023-01-16T14:46:48.213Z"
   },
   {
    "duration": 140,
    "start_time": "2023-01-16T14:46:48.587Z"
   },
   {
    "duration": 9,
    "start_time": "2023-01-16T14:46:48.728Z"
   },
   {
    "duration": 13,
    "start_time": "2023-01-16T14:46:48.739Z"
   },
   {
    "duration": 163,
    "start_time": "2023-01-16T14:46:48.754Z"
   },
   {
    "duration": 195,
    "start_time": "2023-01-16T14:46:48.919Z"
   },
   {
    "duration": 7,
    "start_time": "2023-01-16T14:46:49.117Z"
   },
   {
    "duration": 323,
    "start_time": "2023-01-16T14:46:49.137Z"
   },
   {
    "duration": 173,
    "start_time": "2023-01-16T14:46:49.463Z"
   },
   {
    "duration": 214,
    "start_time": "2023-01-16T14:46:49.639Z"
   },
   {
    "duration": 5,
    "start_time": "2023-01-16T14:46:49.856Z"
   },
   {
    "duration": 155,
    "start_time": "2023-01-16T14:46:49.863Z"
   },
   {
    "duration": 24,
    "start_time": "2023-01-16T14:46:50.019Z"
   },
   {
    "duration": 384,
    "start_time": "2023-01-16T14:46:50.045Z"
   },
   {
    "duration": 16,
    "start_time": "2023-01-16T14:46:50.430Z"
   },
   {
    "duration": 9,
    "start_time": "2023-01-16T14:46:50.448Z"
   },
   {
    "duration": 9,
    "start_time": "2023-01-16T14:46:50.458Z"
   },
   {
    "duration": 7,
    "start_time": "2023-01-16T14:46:50.469Z"
   },
   {
    "duration": 9,
    "start_time": "2023-01-16T14:46:50.478Z"
   },
   {
    "duration": 67,
    "start_time": "2023-01-16T14:46:50.488Z"
   },
   {
    "duration": 423,
    "start_time": "2023-01-16T14:46:50.556Z"
   },
   {
    "duration": 17,
    "start_time": "2023-01-16T14:46:50.980Z"
   },
   {
    "duration": 1287,
    "start_time": "2023-01-16T14:48:37.611Z"
   },
   {
    "duration": 26,
    "start_time": "2023-01-16T14:48:38.900Z"
   },
   {
    "duration": 16,
    "start_time": "2023-01-16T14:48:38.929Z"
   },
   {
    "duration": 26,
    "start_time": "2023-01-16T14:48:38.948Z"
   },
   {
    "duration": 13,
    "start_time": "2023-01-16T14:48:38.977Z"
   },
   {
    "duration": 16,
    "start_time": "2023-01-16T14:48:38.991Z"
   },
   {
    "duration": 10,
    "start_time": "2023-01-16T14:48:39.009Z"
   },
   {
    "duration": 20,
    "start_time": "2023-01-16T14:48:39.021Z"
   },
   {
    "duration": 13,
    "start_time": "2023-01-16T14:48:39.043Z"
   },
   {
    "duration": 357,
    "start_time": "2023-01-16T14:48:39.060Z"
   },
   {
    "duration": 10,
    "start_time": "2023-01-16T14:48:39.419Z"
   },
   {
    "duration": 45,
    "start_time": "2023-01-16T14:48:39.437Z"
   },
   {
    "duration": 8,
    "start_time": "2023-01-16T14:48:39.484Z"
   },
   {
    "duration": 13,
    "start_time": "2023-01-16T14:48:39.494Z"
   },
   {
    "duration": 6,
    "start_time": "2023-01-16T14:48:39.509Z"
   },
   {
    "duration": 18,
    "start_time": "2023-01-16T14:48:39.517Z"
   },
   {
    "duration": 20,
    "start_time": "2023-01-16T14:48:39.537Z"
   },
   {
    "duration": 17,
    "start_time": "2023-01-16T14:48:39.559Z"
   },
   {
    "duration": 23,
    "start_time": "2023-01-16T14:48:39.578Z"
   },
   {
    "duration": 11,
    "start_time": "2023-01-16T14:48:39.604Z"
   },
   {
    "duration": 23,
    "start_time": "2023-01-16T14:48:39.616Z"
   },
   {
    "duration": 34,
    "start_time": "2023-01-16T14:48:39.641Z"
   },
   {
    "duration": 5,
    "start_time": "2023-01-16T14:48:39.677Z"
   },
   {
    "duration": 20,
    "start_time": "2023-01-16T14:48:39.684Z"
   },
   {
    "duration": 22,
    "start_time": "2023-01-16T14:48:39.706Z"
   },
   {
    "duration": 204,
    "start_time": "2023-01-16T14:48:39.730Z"
   },
   {
    "duration": 144,
    "start_time": "2023-01-16T14:48:39.937Z"
   },
   {
    "duration": 12,
    "start_time": "2023-01-16T14:48:40.085Z"
   },
   {
    "duration": 303,
    "start_time": "2023-01-16T14:48:40.099Z"
   },
   {
    "duration": 222,
    "start_time": "2023-01-16T14:48:40.403Z"
   },
   {
    "duration": 343,
    "start_time": "2023-01-16T14:48:40.627Z"
   },
   {
    "duration": 5,
    "start_time": "2023-01-16T14:48:40.972Z"
   },
   {
    "duration": 10,
    "start_time": "2023-01-16T14:48:40.979Z"
   },
   {
    "duration": 8,
    "start_time": "2023-01-16T14:48:40.990Z"
   },
   {
    "duration": 7,
    "start_time": "2023-01-16T14:48:40.999Z"
   },
   {
    "duration": 233,
    "start_time": "2023-01-16T14:48:41.008Z"
   },
   {
    "duration": 8,
    "start_time": "2023-01-16T14:48:41.242Z"
   },
   {
    "duration": 339,
    "start_time": "2023-01-16T14:48:41.253Z"
   },
   {
    "duration": 162,
    "start_time": "2023-01-16T14:48:41.594Z"
   },
   {
    "duration": 3,
    "start_time": "2023-01-16T14:48:41.758Z"
   },
   {
    "duration": 24,
    "start_time": "2023-01-16T14:48:41.763Z"
   },
   {
    "duration": 167,
    "start_time": "2023-01-16T14:48:41.789Z"
   },
   {
    "duration": 156,
    "start_time": "2023-01-16T14:48:41.957Z"
   },
   {
    "duration": 5,
    "start_time": "2023-01-16T14:48:42.115Z"
   },
   {
    "duration": 253,
    "start_time": "2023-01-16T14:48:42.122Z"
   },
   {
    "duration": 170,
    "start_time": "2023-01-16T14:48:42.377Z"
   },
   {
    "duration": 183,
    "start_time": "2023-01-16T14:48:42.548Z"
   },
   {
    "duration": 5,
    "start_time": "2023-01-16T14:48:42.737Z"
   },
   {
    "duration": 166,
    "start_time": "2023-01-16T14:48:42.744Z"
   },
   {
    "duration": 25,
    "start_time": "2023-01-16T14:48:42.912Z"
   },
   {
    "duration": 381,
    "start_time": "2023-01-16T14:48:42.939Z"
   },
   {
    "duration": 24,
    "start_time": "2023-01-16T14:48:43.322Z"
   },
   {
    "duration": 29,
    "start_time": "2023-01-16T14:48:43.348Z"
   },
   {
    "duration": 15,
    "start_time": "2023-01-16T14:48:43.379Z"
   },
   {
    "duration": 13,
    "start_time": "2023-01-16T14:48:43.396Z"
   },
   {
    "duration": 15,
    "start_time": "2023-01-16T14:48:43.411Z"
   },
   {
    "duration": 28,
    "start_time": "2023-01-16T14:48:43.429Z"
   },
   {
    "duration": 387,
    "start_time": "2023-01-16T14:48:43.459Z"
   },
   {
    "duration": 19,
    "start_time": "2023-01-16T14:48:43.848Z"
   },
   {
    "duration": 1225,
    "start_time": "2023-01-16T14:54:50.284Z"
   },
   {
    "duration": 26,
    "start_time": "2023-01-16T14:54:51.512Z"
   },
   {
    "duration": 14,
    "start_time": "2023-01-16T14:54:51.542Z"
   },
   {
    "duration": 20,
    "start_time": "2023-01-16T14:54:51.558Z"
   },
   {
    "duration": 16,
    "start_time": "2023-01-16T14:54:51.580Z"
   },
   {
    "duration": 25,
    "start_time": "2023-01-16T14:54:51.598Z"
   },
   {
    "duration": 6,
    "start_time": "2023-01-16T14:54:51.625Z"
   },
   {
    "duration": 23,
    "start_time": "2023-01-16T14:54:51.632Z"
   },
   {
    "duration": 14,
    "start_time": "2023-01-16T14:54:51.658Z"
   },
   {
    "duration": 344,
    "start_time": "2023-01-16T14:54:51.673Z"
   },
   {
    "duration": 18,
    "start_time": "2023-01-16T14:54:52.020Z"
   },
   {
    "duration": 63,
    "start_time": "2023-01-16T14:54:52.040Z"
   },
   {
    "duration": 10,
    "start_time": "2023-01-16T14:54:52.105Z"
   },
   {
    "duration": 29,
    "start_time": "2023-01-16T14:54:52.116Z"
   },
   {
    "duration": 30,
    "start_time": "2023-01-16T14:54:52.147Z"
   },
   {
    "duration": 22,
    "start_time": "2023-01-16T14:54:52.179Z"
   },
   {
    "duration": 52,
    "start_time": "2023-01-16T14:54:52.203Z"
   },
   {
    "duration": 48,
    "start_time": "2023-01-16T14:54:52.257Z"
   },
   {
    "duration": 24,
    "start_time": "2023-01-16T14:54:52.307Z"
   },
   {
    "duration": 18,
    "start_time": "2023-01-16T14:54:52.333Z"
   },
   {
    "duration": 15,
    "start_time": "2023-01-16T14:54:52.353Z"
   },
   {
    "duration": 29,
    "start_time": "2023-01-16T14:54:52.370Z"
   },
   {
    "duration": 6,
    "start_time": "2023-01-16T14:54:52.401Z"
   },
   {
    "duration": 29,
    "start_time": "2023-01-16T14:54:52.409Z"
   },
   {
    "duration": 33,
    "start_time": "2023-01-16T14:54:52.440Z"
   },
   {
    "duration": 231,
    "start_time": "2023-01-16T14:54:52.475Z"
   },
   {
    "duration": 147,
    "start_time": "2023-01-16T14:54:52.711Z"
   },
   {
    "duration": 15,
    "start_time": "2023-01-16T14:54:52.860Z"
   },
   {
    "duration": 311,
    "start_time": "2023-01-16T14:54:52.877Z"
   },
   {
    "duration": 233,
    "start_time": "2023-01-16T14:54:53.190Z"
   },
   {
    "duration": 353,
    "start_time": "2023-01-16T14:54:53.425Z"
   },
   {
    "duration": 5,
    "start_time": "2023-01-16T14:54:53.780Z"
   },
   {
    "duration": 8,
    "start_time": "2023-01-16T14:54:53.786Z"
   },
   {
    "duration": 6,
    "start_time": "2023-01-16T14:54:53.796Z"
   },
   {
    "duration": 6,
    "start_time": "2023-01-16T14:54:53.804Z"
   },
   {
    "duration": 229,
    "start_time": "2023-01-16T14:54:53.812Z"
   },
   {
    "duration": 7,
    "start_time": "2023-01-16T14:54:54.042Z"
   },
   {
    "duration": 344,
    "start_time": "2023-01-16T14:54:54.051Z"
   },
   {
    "duration": 134,
    "start_time": "2023-01-16T14:54:54.397Z"
   },
   {
    "duration": 5,
    "start_time": "2023-01-16T14:54:54.533Z"
   },
   {
    "duration": 12,
    "start_time": "2023-01-16T14:54:54.539Z"
   },
   {
    "duration": 159,
    "start_time": "2023-01-16T14:54:54.553Z"
   },
   {
    "duration": 167,
    "start_time": "2023-01-16T14:54:54.714Z"
   },
   {
    "duration": 6,
    "start_time": "2023-01-16T14:54:54.883Z"
   },
   {
    "duration": 280,
    "start_time": "2023-01-16T14:54:54.891Z"
   },
   {
    "duration": 176,
    "start_time": "2023-01-16T14:54:55.173Z"
   },
   {
    "duration": 183,
    "start_time": "2023-01-16T14:54:55.351Z"
   },
   {
    "duration": 6,
    "start_time": "2023-01-16T14:54:55.537Z"
   },
   {
    "duration": 165,
    "start_time": "2023-01-16T14:54:55.545Z"
   },
   {
    "duration": 25,
    "start_time": "2023-01-16T14:54:55.712Z"
   },
   {
    "duration": 432,
    "start_time": "2023-01-16T14:54:55.739Z"
   },
   {
    "duration": 14,
    "start_time": "2023-01-16T14:54:56.173Z"
   },
   {
    "duration": 15,
    "start_time": "2023-01-16T14:54:56.189Z"
   },
   {
    "duration": 33,
    "start_time": "2023-01-16T14:54:56.206Z"
   },
   {
    "duration": 5,
    "start_time": "2023-01-16T14:54:56.241Z"
   },
   {
    "duration": 15,
    "start_time": "2023-01-16T14:54:56.249Z"
   },
   {
    "duration": 17,
    "start_time": "2023-01-16T14:54:56.266Z"
   },
   {
    "duration": 392,
    "start_time": "2023-01-16T14:54:56.285Z"
   },
   {
    "duration": 18,
    "start_time": "2023-01-16T14:54:56.679Z"
   }
  ],
  "kernelspec": {
   "display_name": "Python 3 (ipykernel)",
   "language": "python",
   "name": "python3"
  },
  "language_info": {
   "codemirror_mode": {
    "name": "ipython",
    "version": 3
   },
   "file_extension": ".py",
   "mimetype": "text/x-python",
   "name": "python",
   "nbconvert_exporter": "python",
   "pygments_lexer": "ipython3",
   "version": "3.9.5"
  },
  "toc": {
   "base_numbering": 1,
   "nav_menu": {},
   "number_sections": true,
   "sideBar": true,
   "skip_h1_title": true,
   "title_cell": "Table of Contents",
   "title_sidebar": "Contents",
   "toc_cell": false,
   "toc_position": {
    "height": "calc(100% - 180px)",
    "left": "10px",
    "top": "150px",
    "width": "318.375px"
   },
   "toc_section_display": true,
   "toc_window_display": true
  }
 },
 "nbformat": 4,
 "nbformat_minor": 2
}
