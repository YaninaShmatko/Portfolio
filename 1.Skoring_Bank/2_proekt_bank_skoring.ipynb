{
 "cells": [
  {
   "cell_type": "markdown",
   "id": "fffd7da4",
   "metadata": {
    "deletable": false,
    "editable": false,
    "id": "c81daeeb"
   },
   "source": [
    "# Исследование надежности заемщиков\n"
   ]
  },
  {
   "cell_type": "markdown",
   "id": "84b1b264",
   "metadata": {
    "deletable": false,
    "editable": false,
    "id": "827c20bf"
   },
   "source": [
    "Во второй части проекта вы выполните шаги 3 и 4. Их вручную проверит ревьюер.\n",
    "Чтобы вам не пришлось писать код заново для шагов 1 и 2, мы добавили авторские решения в ячейки с кодом. \n",
    "\n"
   ]
  },
  {
   "cell_type": "markdown",
   "id": "94d19e71",
   "metadata": {
    "deletable": false,
    "editable": false,
    "id": "744d7639"
   },
   "source": [
    "## Откройте таблицу и изучите общую информацию о данных"
   ]
  },
  {
   "cell_type": "markdown",
   "id": "64f792b1",
   "metadata": {
    "deletable": false,
    "editable": false,
    "id": "e7a14c31"
   },
   "source": [
    "**Задание 1. Импортируйте библиотеку pandas. Считайте данные из csv-файла в датафрейм и сохраните в переменную `data`. Путь к файлу:**\n",
    "\n",
    "`/datasets/data.csv`"
   ]
  },
  {
   "cell_type": "code",
   "execution_count": 34,
   "id": "a58a8f32",
   "metadata": {
    "deletable": false,
    "id": "7bcf75c9"
   },
   "outputs": [],
   "source": [
    "import pandas as pd #импорт библиотеки pandas\n",
    "import seaborn #импорт библиотеки seaborn\n",
    "\n",
    "try:\n",
    "    data = pd.read_csv('/datasets/data.csv') #чтение файла и сохранение в переменной data\n",
    "except:\n",
    "    data = pd.read_csv('https://code.s3.yandex.net/datasets/data.csv') # добавляем дополнительный путь прочтения файла, если первый вариант выдаст ошибку"
   ]
  },
  {
   "cell_type": "markdown",
   "id": "fdc15b89",
   "metadata": {
    "deletable": false,
    "editable": false,
    "id": "b8038fe3"
   },
   "source": [
    "**Задание 2. Выведите первые 20 строчек датафрейма `data` на экран.**"
   ]
  },
  {
   "cell_type": "code",
   "execution_count": 35,
   "id": "7070407c",
   "metadata": {
    "deletable": false,
    "id": "2a7cab99",
    "outputId": "1a8f3ef2-d323-4ec2-ddf7-89670b5944c4"
   },
   "outputs": [
    {
     "data": {
      "text/html": [
       "<div>\n",
       "<style scoped>\n",
       "    .dataframe tbody tr th:only-of-type {\n",
       "        vertical-align: middle;\n",
       "    }\n",
       "\n",
       "    .dataframe tbody tr th {\n",
       "        vertical-align: top;\n",
       "    }\n",
       "\n",
       "    .dataframe thead th {\n",
       "        text-align: right;\n",
       "    }\n",
       "</style>\n",
       "<table border=\"1\" class=\"dataframe\">\n",
       "  <thead>\n",
       "    <tr style=\"text-align: right;\">\n",
       "      <th></th>\n",
       "      <th>children</th>\n",
       "      <th>days_employed</th>\n",
       "      <th>dob_years</th>\n",
       "      <th>education</th>\n",
       "      <th>education_id</th>\n",
       "      <th>family_status</th>\n",
       "      <th>family_status_id</th>\n",
       "      <th>gender</th>\n",
       "      <th>income_type</th>\n",
       "      <th>debt</th>\n",
       "      <th>total_income</th>\n",
       "      <th>purpose</th>\n",
       "    </tr>\n",
       "  </thead>\n",
       "  <tbody>\n",
       "    <tr>\n",
       "      <th>0</th>\n",
       "      <td>1</td>\n",
       "      <td>-8437.673028</td>\n",
       "      <td>42</td>\n",
       "      <td>высшее</td>\n",
       "      <td>0</td>\n",
       "      <td>женат / замужем</td>\n",
       "      <td>0</td>\n",
       "      <td>F</td>\n",
       "      <td>сотрудник</td>\n",
       "      <td>0</td>\n",
       "      <td>253875.639453</td>\n",
       "      <td>покупка жилья</td>\n",
       "    </tr>\n",
       "    <tr>\n",
       "      <th>1</th>\n",
       "      <td>1</td>\n",
       "      <td>-4024.803754</td>\n",
       "      <td>36</td>\n",
       "      <td>среднее</td>\n",
       "      <td>1</td>\n",
       "      <td>женат / замужем</td>\n",
       "      <td>0</td>\n",
       "      <td>F</td>\n",
       "      <td>сотрудник</td>\n",
       "      <td>0</td>\n",
       "      <td>112080.014102</td>\n",
       "      <td>приобретение автомобиля</td>\n",
       "    </tr>\n",
       "    <tr>\n",
       "      <th>2</th>\n",
       "      <td>0</td>\n",
       "      <td>-5623.422610</td>\n",
       "      <td>33</td>\n",
       "      <td>Среднее</td>\n",
       "      <td>1</td>\n",
       "      <td>женат / замужем</td>\n",
       "      <td>0</td>\n",
       "      <td>M</td>\n",
       "      <td>сотрудник</td>\n",
       "      <td>0</td>\n",
       "      <td>145885.952297</td>\n",
       "      <td>покупка жилья</td>\n",
       "    </tr>\n",
       "    <tr>\n",
       "      <th>3</th>\n",
       "      <td>3</td>\n",
       "      <td>-4124.747207</td>\n",
       "      <td>32</td>\n",
       "      <td>среднее</td>\n",
       "      <td>1</td>\n",
       "      <td>женат / замужем</td>\n",
       "      <td>0</td>\n",
       "      <td>M</td>\n",
       "      <td>сотрудник</td>\n",
       "      <td>0</td>\n",
       "      <td>267628.550329</td>\n",
       "      <td>дополнительное образование</td>\n",
       "    </tr>\n",
       "    <tr>\n",
       "      <th>4</th>\n",
       "      <td>0</td>\n",
       "      <td>340266.072047</td>\n",
       "      <td>53</td>\n",
       "      <td>среднее</td>\n",
       "      <td>1</td>\n",
       "      <td>гражданский брак</td>\n",
       "      <td>1</td>\n",
       "      <td>F</td>\n",
       "      <td>пенсионер</td>\n",
       "      <td>0</td>\n",
       "      <td>158616.077870</td>\n",
       "      <td>сыграть свадьбу</td>\n",
       "    </tr>\n",
       "    <tr>\n",
       "      <th>5</th>\n",
       "      <td>0</td>\n",
       "      <td>-926.185831</td>\n",
       "      <td>27</td>\n",
       "      <td>высшее</td>\n",
       "      <td>0</td>\n",
       "      <td>гражданский брак</td>\n",
       "      <td>1</td>\n",
       "      <td>M</td>\n",
       "      <td>компаньон</td>\n",
       "      <td>0</td>\n",
       "      <td>255763.565419</td>\n",
       "      <td>покупка жилья</td>\n",
       "    </tr>\n",
       "    <tr>\n",
       "      <th>6</th>\n",
       "      <td>0</td>\n",
       "      <td>-2879.202052</td>\n",
       "      <td>43</td>\n",
       "      <td>высшее</td>\n",
       "      <td>0</td>\n",
       "      <td>женат / замужем</td>\n",
       "      <td>0</td>\n",
       "      <td>F</td>\n",
       "      <td>компаньон</td>\n",
       "      <td>0</td>\n",
       "      <td>240525.971920</td>\n",
       "      <td>операции с жильем</td>\n",
       "    </tr>\n",
       "    <tr>\n",
       "      <th>7</th>\n",
       "      <td>0</td>\n",
       "      <td>-152.779569</td>\n",
       "      <td>50</td>\n",
       "      <td>СРЕДНЕЕ</td>\n",
       "      <td>1</td>\n",
       "      <td>женат / замужем</td>\n",
       "      <td>0</td>\n",
       "      <td>M</td>\n",
       "      <td>сотрудник</td>\n",
       "      <td>0</td>\n",
       "      <td>135823.934197</td>\n",
       "      <td>образование</td>\n",
       "    </tr>\n",
       "    <tr>\n",
       "      <th>8</th>\n",
       "      <td>2</td>\n",
       "      <td>-6929.865299</td>\n",
       "      <td>35</td>\n",
       "      <td>ВЫСШЕЕ</td>\n",
       "      <td>0</td>\n",
       "      <td>гражданский брак</td>\n",
       "      <td>1</td>\n",
       "      <td>F</td>\n",
       "      <td>сотрудник</td>\n",
       "      <td>0</td>\n",
       "      <td>95856.832424</td>\n",
       "      <td>на проведение свадьбы</td>\n",
       "    </tr>\n",
       "    <tr>\n",
       "      <th>9</th>\n",
       "      <td>0</td>\n",
       "      <td>-2188.756445</td>\n",
       "      <td>41</td>\n",
       "      <td>среднее</td>\n",
       "      <td>1</td>\n",
       "      <td>женат / замужем</td>\n",
       "      <td>0</td>\n",
       "      <td>M</td>\n",
       "      <td>сотрудник</td>\n",
       "      <td>0</td>\n",
       "      <td>144425.938277</td>\n",
       "      <td>покупка жилья для семьи</td>\n",
       "    </tr>\n",
       "    <tr>\n",
       "      <th>10</th>\n",
       "      <td>2</td>\n",
       "      <td>-4171.483647</td>\n",
       "      <td>36</td>\n",
       "      <td>высшее</td>\n",
       "      <td>0</td>\n",
       "      <td>женат / замужем</td>\n",
       "      <td>0</td>\n",
       "      <td>M</td>\n",
       "      <td>компаньон</td>\n",
       "      <td>0</td>\n",
       "      <td>113943.491460</td>\n",
       "      <td>покупка недвижимости</td>\n",
       "    </tr>\n",
       "    <tr>\n",
       "      <th>11</th>\n",
       "      <td>0</td>\n",
       "      <td>-792.701887</td>\n",
       "      <td>40</td>\n",
       "      <td>среднее</td>\n",
       "      <td>1</td>\n",
       "      <td>женат / замужем</td>\n",
       "      <td>0</td>\n",
       "      <td>F</td>\n",
       "      <td>сотрудник</td>\n",
       "      <td>0</td>\n",
       "      <td>77069.234271</td>\n",
       "      <td>покупка коммерческой недвижимости</td>\n",
       "    </tr>\n",
       "    <tr>\n",
       "      <th>12</th>\n",
       "      <td>0</td>\n",
       "      <td>NaN</td>\n",
       "      <td>65</td>\n",
       "      <td>среднее</td>\n",
       "      <td>1</td>\n",
       "      <td>гражданский брак</td>\n",
       "      <td>1</td>\n",
       "      <td>M</td>\n",
       "      <td>пенсионер</td>\n",
       "      <td>0</td>\n",
       "      <td>NaN</td>\n",
       "      <td>сыграть свадьбу</td>\n",
       "    </tr>\n",
       "    <tr>\n",
       "      <th>13</th>\n",
       "      <td>0</td>\n",
       "      <td>-1846.641941</td>\n",
       "      <td>54</td>\n",
       "      <td>неоконченное высшее</td>\n",
       "      <td>2</td>\n",
       "      <td>женат / замужем</td>\n",
       "      <td>0</td>\n",
       "      <td>F</td>\n",
       "      <td>сотрудник</td>\n",
       "      <td>0</td>\n",
       "      <td>130458.228857</td>\n",
       "      <td>приобретение автомобиля</td>\n",
       "    </tr>\n",
       "    <tr>\n",
       "      <th>14</th>\n",
       "      <td>0</td>\n",
       "      <td>-1844.956182</td>\n",
       "      <td>56</td>\n",
       "      <td>высшее</td>\n",
       "      <td>0</td>\n",
       "      <td>гражданский брак</td>\n",
       "      <td>1</td>\n",
       "      <td>F</td>\n",
       "      <td>компаньон</td>\n",
       "      <td>1</td>\n",
       "      <td>165127.911772</td>\n",
       "      <td>покупка жилой недвижимости</td>\n",
       "    </tr>\n",
       "    <tr>\n",
       "      <th>15</th>\n",
       "      <td>1</td>\n",
       "      <td>-972.364419</td>\n",
       "      <td>26</td>\n",
       "      <td>среднее</td>\n",
       "      <td>1</td>\n",
       "      <td>женат / замужем</td>\n",
       "      <td>0</td>\n",
       "      <td>F</td>\n",
       "      <td>сотрудник</td>\n",
       "      <td>0</td>\n",
       "      <td>116820.904450</td>\n",
       "      <td>строительство собственной недвижимости</td>\n",
       "    </tr>\n",
       "    <tr>\n",
       "      <th>16</th>\n",
       "      <td>0</td>\n",
       "      <td>-1719.934226</td>\n",
       "      <td>35</td>\n",
       "      <td>среднее</td>\n",
       "      <td>1</td>\n",
       "      <td>женат / замужем</td>\n",
       "      <td>0</td>\n",
       "      <td>F</td>\n",
       "      <td>сотрудник</td>\n",
       "      <td>0</td>\n",
       "      <td>289202.704229</td>\n",
       "      <td>недвижимость</td>\n",
       "    </tr>\n",
       "    <tr>\n",
       "      <th>17</th>\n",
       "      <td>0</td>\n",
       "      <td>-2369.999720</td>\n",
       "      <td>33</td>\n",
       "      <td>высшее</td>\n",
       "      <td>0</td>\n",
       "      <td>гражданский брак</td>\n",
       "      <td>1</td>\n",
       "      <td>M</td>\n",
       "      <td>сотрудник</td>\n",
       "      <td>0</td>\n",
       "      <td>90410.586745</td>\n",
       "      <td>строительство недвижимости</td>\n",
       "    </tr>\n",
       "    <tr>\n",
       "      <th>18</th>\n",
       "      <td>0</td>\n",
       "      <td>400281.136913</td>\n",
       "      <td>53</td>\n",
       "      <td>среднее</td>\n",
       "      <td>1</td>\n",
       "      <td>вдовец / вдова</td>\n",
       "      <td>2</td>\n",
       "      <td>F</td>\n",
       "      <td>пенсионер</td>\n",
       "      <td>0</td>\n",
       "      <td>56823.777243</td>\n",
       "      <td>на покупку подержанного автомобиля</td>\n",
       "    </tr>\n",
       "    <tr>\n",
       "      <th>19</th>\n",
       "      <td>0</td>\n",
       "      <td>-10038.818549</td>\n",
       "      <td>48</td>\n",
       "      <td>СРЕДНЕЕ</td>\n",
       "      <td>1</td>\n",
       "      <td>в разводе</td>\n",
       "      <td>3</td>\n",
       "      <td>F</td>\n",
       "      <td>сотрудник</td>\n",
       "      <td>0</td>\n",
       "      <td>242831.107982</td>\n",
       "      <td>на покупку своего автомобиля</td>\n",
       "    </tr>\n",
       "  </tbody>\n",
       "</table>\n",
       "</div>"
      ],
      "text/plain": [
       "    children  days_employed  dob_years            education  education_id  \\\n",
       "0          1   -8437.673028         42               высшее             0   \n",
       "1          1   -4024.803754         36              среднее             1   \n",
       "2          0   -5623.422610         33              Среднее             1   \n",
       "3          3   -4124.747207         32              среднее             1   \n",
       "4          0  340266.072047         53              среднее             1   \n",
       "5          0    -926.185831         27               высшее             0   \n",
       "6          0   -2879.202052         43               высшее             0   \n",
       "7          0    -152.779569         50              СРЕДНЕЕ             1   \n",
       "8          2   -6929.865299         35               ВЫСШЕЕ             0   \n",
       "9          0   -2188.756445         41              среднее             1   \n",
       "10         2   -4171.483647         36               высшее             0   \n",
       "11         0    -792.701887         40              среднее             1   \n",
       "12         0            NaN         65              среднее             1   \n",
       "13         0   -1846.641941         54  неоконченное высшее             2   \n",
       "14         0   -1844.956182         56               высшее             0   \n",
       "15         1    -972.364419         26              среднее             1   \n",
       "16         0   -1719.934226         35              среднее             1   \n",
       "17         0   -2369.999720         33               высшее             0   \n",
       "18         0  400281.136913         53              среднее             1   \n",
       "19         0  -10038.818549         48              СРЕДНЕЕ             1   \n",
       "\n",
       "       family_status  family_status_id gender income_type  debt  \\\n",
       "0    женат / замужем                 0      F   сотрудник     0   \n",
       "1    женат / замужем                 0      F   сотрудник     0   \n",
       "2    женат / замужем                 0      M   сотрудник     0   \n",
       "3    женат / замужем                 0      M   сотрудник     0   \n",
       "4   гражданский брак                 1      F   пенсионер     0   \n",
       "5   гражданский брак                 1      M   компаньон     0   \n",
       "6    женат / замужем                 0      F   компаньон     0   \n",
       "7    женат / замужем                 0      M   сотрудник     0   \n",
       "8   гражданский брак                 1      F   сотрудник     0   \n",
       "9    женат / замужем                 0      M   сотрудник     0   \n",
       "10   женат / замужем                 0      M   компаньон     0   \n",
       "11   женат / замужем                 0      F   сотрудник     0   \n",
       "12  гражданский брак                 1      M   пенсионер     0   \n",
       "13   женат / замужем                 0      F   сотрудник     0   \n",
       "14  гражданский брак                 1      F   компаньон     1   \n",
       "15   женат / замужем                 0      F   сотрудник     0   \n",
       "16   женат / замужем                 0      F   сотрудник     0   \n",
       "17  гражданский брак                 1      M   сотрудник     0   \n",
       "18    вдовец / вдова                 2      F   пенсионер     0   \n",
       "19         в разводе                 3      F   сотрудник     0   \n",
       "\n",
       "     total_income                                 purpose  \n",
       "0   253875.639453                           покупка жилья  \n",
       "1   112080.014102                 приобретение автомобиля  \n",
       "2   145885.952297                           покупка жилья  \n",
       "3   267628.550329              дополнительное образование  \n",
       "4   158616.077870                         сыграть свадьбу  \n",
       "5   255763.565419                           покупка жилья  \n",
       "6   240525.971920                       операции с жильем  \n",
       "7   135823.934197                             образование  \n",
       "8    95856.832424                   на проведение свадьбы  \n",
       "9   144425.938277                 покупка жилья для семьи  \n",
       "10  113943.491460                    покупка недвижимости  \n",
       "11   77069.234271       покупка коммерческой недвижимости  \n",
       "12            NaN                         сыграть свадьбу  \n",
       "13  130458.228857                 приобретение автомобиля  \n",
       "14  165127.911772              покупка жилой недвижимости  \n",
       "15  116820.904450  строительство собственной недвижимости  \n",
       "16  289202.704229                            недвижимость  \n",
       "17   90410.586745              строительство недвижимости  \n",
       "18   56823.777243      на покупку подержанного автомобиля  \n",
       "19  242831.107982            на покупку своего автомобиля  "
      ]
     },
     "execution_count": 35,
     "metadata": {},
     "output_type": "execute_result"
    }
   ],
   "source": [
    "data.head(20) #получение первых 20 строк таблицы data"
   ]
  },
  {
   "cell_type": "markdown",
   "id": "a2df1d19",
   "metadata": {
    "deletable": false,
    "editable": false,
    "id": "1c12e233"
   },
   "source": [
    "**Задание 3. Выведите основную информацию о датафрейме с помощью метода `info()`.**"
   ]
  },
  {
   "cell_type": "code",
   "execution_count": 36,
   "id": "55078cad",
   "metadata": {
    "deletable": false,
    "id": "2b757bca",
    "outputId": "15376089-8dad-46c9-b520-c05248d43158"
   },
   "outputs": [
    {
     "name": "stdout",
     "output_type": "stream",
     "text": [
      "<class 'pandas.core.frame.DataFrame'>\n",
      "RangeIndex: 21525 entries, 0 to 21524\n",
      "Data columns (total 12 columns):\n",
      " #   Column            Non-Null Count  Dtype  \n",
      "---  ------            --------------  -----  \n",
      " 0   children          21525 non-null  int64  \n",
      " 1   days_employed     19351 non-null  float64\n",
      " 2   dob_years         21525 non-null  int64  \n",
      " 3   education         21525 non-null  object \n",
      " 4   education_id      21525 non-null  int64  \n",
      " 5   family_status     21525 non-null  object \n",
      " 6   family_status_id  21525 non-null  int64  \n",
      " 7   gender            21525 non-null  object \n",
      " 8   income_type       21525 non-null  object \n",
      " 9   debt              21525 non-null  int64  \n",
      " 10  total_income      19351 non-null  float64\n",
      " 11  purpose           21525 non-null  object \n",
      "dtypes: float64(2), int64(5), object(5)\n",
      "memory usage: 2.0+ MB\n"
     ]
    }
   ],
   "source": [
    "data.info() #получение общей информации о данных в табице data"
   ]
  },
  {
   "cell_type": "markdown",
   "id": "4c90a341",
   "metadata": {
    "deletable": false,
    "editable": false,
    "id": "333ec665"
   },
   "source": [
    "## Предобработка данных"
   ]
  },
  {
   "cell_type": "markdown",
   "id": "aad5ddc0",
   "metadata": {
    "deletable": false,
    "editable": false,
    "id": "02d92d53"
   },
   "source": [
    "### Удаление пропусков"
   ]
  },
  {
   "cell_type": "markdown",
   "id": "f7a7a632",
   "metadata": {
    "deletable": false,
    "editable": false,
    "id": "cd84967c"
   },
   "source": [
    "**Задание 4. Выведите количество пропущенных значений для каждого столбца. Используйте комбинацию двух методов.**"
   ]
  },
  {
   "cell_type": "code",
   "execution_count": 37,
   "id": "a421816b",
   "metadata": {
    "deletable": false,
    "id": "7f9b2309",
    "outputId": "81f4d817-781c-465c-ed15-91ce4446810d"
   },
   "outputs": [
    {
     "data": {
      "text/plain": [
       "children               0\n",
       "days_employed       2174\n",
       "dob_years              0\n",
       "education              0\n",
       "education_id           0\n",
       "family_status          0\n",
       "family_status_id       0\n",
       "gender                 0\n",
       "income_type            0\n",
       "debt                   0\n",
       "total_income        2174\n",
       "purpose                0\n",
       "dtype: int64"
      ]
     },
     "execution_count": 37,
     "metadata": {},
     "output_type": "execute_result"
    }
   ],
   "source": [
    "data.isna().sum() #подсчет пропусков"
   ]
  },
  {
   "cell_type": "markdown",
   "id": "939f4408",
   "metadata": {
    "deletable": false,
    "editable": false,
    "id": "db86e27b"
   },
   "source": [
    "**Задание 5. В двух столбцах есть пропущенные значения. Один из них — `days_employed`. Пропуски в этом столбце вы обработаете на следующем этапе. Другой столбец с пропущенными значениями — `total_income` — хранит данные о доходах. На сумму дохода сильнее всего влияет тип занятости, поэтому заполнить пропуски в этом столбце нужно медианным значением по каждому типу из столбца `income_type`. Например, у человека с типом занятости `сотрудник` пропуск в столбце `total_income` должен быть заполнен медианным доходом среди всех записей с тем же типом.**"
   ]
  },
  {
   "cell_type": "code",
   "execution_count": 38,
   "id": "55a63912",
   "metadata": {
    "deletable": false,
    "id": "42006a93"
   },
   "outputs": [],
   "source": [
    "for t in data['income_type'].unique(): #создаем функцию для заполнения пропусков в столбце total_income медианным значением по каждому уникальному значению столбца income_type \n",
    "    data.loc[(data['income_type'] == t) & (data['total_income'].isna()), 'total_income'] = \\\n",
    "    data.loc[(data['income_type'] == t), 'total_income'].median() "
   ]
  },
  {
   "cell_type": "markdown",
   "id": "2f12cad2",
   "metadata": {
    "deletable": false,
    "editable": false,
    "id": "89da5ece"
   },
   "source": [
    "### Обработка аномальных значений"
   ]
  },
  {
   "cell_type": "markdown",
   "id": "f837fae0",
   "metadata": {
    "deletable": false,
    "editable": false,
    "id": "57964554"
   },
   "source": [
    "**Задание 6. В данных могут встречаться артефакты (аномалии) — значения, которые не отражают действительность и появились по какой-то ошибке. таким артефактом будет отрицательное количество дней трудового стажа в столбце `days_employed`. Для реальных данных это нормально. Обработайте значения в этом столбце: замените все отрицательные значения положительными с помощью метода `abs()`.**"
   ]
  },
  {
   "cell_type": "code",
   "execution_count": 39,
   "id": "03a8b3b2",
   "metadata": {
    "deletable": false,
    "id": "f6f055bf"
   },
   "outputs": [],
   "source": [
    "data['days_employed'] = data['days_employed'].abs() #заменяем отрицательные значения столбца days_employed положительными"
   ]
  },
  {
   "cell_type": "markdown",
   "id": "413c227b",
   "metadata": {
    "deletable": false,
    "editable": false,
    "id": "6107dd2f"
   },
   "source": [
    "**Задание 7. Для каждого типа занятости выведите медианное значение трудового стажа `days_employed` в днях.**"
   ]
  },
  {
   "cell_type": "code",
   "execution_count": 40,
   "id": "e428c95d",
   "metadata": {
    "deletable": false,
    "id": "85a5faf6",
    "outputId": "801ef80e-522b-4668-f34e-565af7432bcf"
   },
   "outputs": [
    {
     "data": {
      "text/plain": [
       "income_type\n",
       "безработный        366413.652744\n",
       "в декрете            3296.759962\n",
       "госслужащий          2689.368353\n",
       "компаньон            1547.382223\n",
       "пенсионер          365213.306266\n",
       "предприниматель       520.848083\n",
       "сотрудник            1574.202821\n",
       "студент               578.751554\n",
       "Name: days_employed, dtype: float64"
      ]
     },
     "execution_count": 40,
     "metadata": {},
     "output_type": "execute_result"
    }
   ],
   "source": [
    "data.groupby('income_type')['days_employed'].agg('median') #выведим медианное значение трудового стажа days_employed в днях для каждого типа занятости "
   ]
  },
  {
   "cell_type": "markdown",
   "id": "8f64a928",
   "metadata": {
    "deletable": false,
    "editable": false,
    "id": "38d1a030"
   },
   "source": [
    "У двух типов (безработные и пенсионеры) получатся аномально большие значения. Исправить такие значения сложно, поэтому оставьте их как есть. Тем более этот столбец не понадобится вам для исследования."
   ]
  },
  {
   "cell_type": "markdown",
   "id": "82a81ddc",
   "metadata": {
    "deletable": false,
    "editable": false,
    "id": "d8a9f147"
   },
   "source": [
    "**Задание 8. Выведите перечень уникальных значений столбца `children`.**"
   ]
  },
  {
   "cell_type": "code",
   "execution_count": 41,
   "id": "ff442612",
   "metadata": {
    "deletable": false,
    "id": "ef5056eb",
    "outputId": "6975b15c-7f95-4697-d16d-a0c79b657b03"
   },
   "outputs": [
    {
     "data": {
      "text/plain": [
       "array([ 1,  0,  3,  2, -1,  4, 20,  5])"
      ]
     },
     "execution_count": 41,
     "metadata": {},
     "output_type": "execute_result"
    }
   ],
   "source": [
    "data['children'].unique() #выводим перечень уникальных значений столбца children"
   ]
  },
  {
   "cell_type": "markdown",
   "id": "699eb29d",
   "metadata": {
    "deletable": false,
    "editable": false,
    "id": "40b9ebf2"
   },
   "source": [
    "**Задание 9. В столбце `children` есть два аномальных значения. Удалите строки, в которых встречаются такие аномальные значения из датафрейма `data`.**"
   ]
  },
  {
   "cell_type": "code",
   "execution_count": 42,
   "id": "b73891b8",
   "metadata": {
    "deletable": false,
    "id": "3ff9801d"
   },
   "outputs": [],
   "source": [
    "data = data[(data['children'] != -1) & (data['children'] != 20)] #удаляем аномальные значения столюца children из всего датафрейма data"
   ]
  },
  {
   "cell_type": "markdown",
   "id": "4886a113",
   "metadata": {
    "deletable": false,
    "editable": false,
    "id": "bbc4d0ce"
   },
   "source": [
    "**Задание 10. Ещё раз выведите перечень уникальных значений столбца `children`, чтобы убедиться, что артефакты удалены.**"
   ]
  },
  {
   "cell_type": "code",
   "execution_count": 43,
   "id": "df5b2335",
   "metadata": {
    "deletable": false,
    "id": "ad4fa8b7",
    "outputId": "b2097101-d49d-44d9-901b-32a65c9463d1"
   },
   "outputs": [
    {
     "data": {
      "text/plain": [
       "array([1, 0, 3, 2, 4, 5])"
      ]
     },
     "execution_count": 43,
     "metadata": {},
     "output_type": "execute_result"
    }
   ],
   "source": [
    "data['children'].unique() #повторно выводим перечень уникальных значений столбца children"
   ]
  },
  {
   "cell_type": "markdown",
   "id": "a48a0836",
   "metadata": {
    "deletable": false,
    "editable": false,
    "id": "75440b63"
   },
   "source": [
    "### Удаление пропусков (продолжение)"
   ]
  },
  {
   "cell_type": "markdown",
   "id": "a5bb2993",
   "metadata": {
    "deletable": false,
    "editable": false,
    "id": "f4ea573f"
   },
   "source": [
    "**Задание 11. Заполните пропуски в столбце `days_employed` медианными значениями по каждого типа занятости `income_type`.**"
   ]
  },
  {
   "cell_type": "code",
   "execution_count": 44,
   "id": "dff06d1c",
   "metadata": {
    "deletable": false,
    "id": "af6b1a7e"
   },
   "outputs": [],
   "source": [
    "for t in data['income_type'].unique(): #создаем функцию для заполнения пропусков в столбце days_employed медианным значением по каждому уникальному значению столбца income_type \n",
    "    data.loc[(data['income_type'] == t) & (data['days_employed'].isna()), 'days_employed'] = \\\n",
    "    data.loc[(data['income_type'] == t), 'days_employed'].median()"
   ]
  },
  {
   "cell_type": "markdown",
   "id": "eb58ab25",
   "metadata": {
    "deletable": false,
    "editable": false,
    "id": "2753f40d"
   },
   "source": [
    "**Задание 12. Убедитесь, что все пропуски заполнены. Проверьте себя и ещё раз выведите количество пропущенных значений для каждого столбца с помощью двух методов.**"
   ]
  },
  {
   "cell_type": "code",
   "execution_count": 45,
   "id": "0b2229fb",
   "metadata": {
    "deletable": false,
    "id": "55f78bc2",
    "outputId": "8da1e4e1-358e-4e87-98c9-f261bce0a7b2"
   },
   "outputs": [
    {
     "data": {
      "text/plain": [
       "children            0\n",
       "days_employed       0\n",
       "dob_years           0\n",
       "education           0\n",
       "education_id        0\n",
       "family_status       0\n",
       "family_status_id    0\n",
       "gender              0\n",
       "income_type         0\n",
       "debt                0\n",
       "total_income        0\n",
       "purpose             0\n",
       "dtype: int64"
      ]
     },
     "execution_count": 45,
     "metadata": {},
     "output_type": "execute_result"
    }
   ],
   "source": [
    "data.isna().sum() #подсчет пропусков"
   ]
  },
  {
   "cell_type": "markdown",
   "id": "0aa541a8",
   "metadata": {
    "deletable": false,
    "editable": false,
    "id": "ddc81e43"
   },
   "source": [
    "### Изменение типов данных"
   ]
  },
  {
   "cell_type": "markdown",
   "id": "b9763751",
   "metadata": {
    "deletable": false,
    "editable": false,
    "id": "42d19d24"
   },
   "source": [
    "**Задание 13. Замените вещественный тип данных в столбце `total_income` на целочисленный с помощью метода `astype()`.**"
   ]
  },
  {
   "cell_type": "code",
   "execution_count": 46,
   "id": "86308c79",
   "metadata": {
    "deletable": false,
    "id": "920b65ad"
   },
   "outputs": [],
   "source": [
    "data['total_income'] = data['total_income'].astype(int) #меняем тип данных в столбце total_income"
   ]
  },
  {
   "cell_type": "markdown",
   "id": "11b44219",
   "metadata": {
    "deletable": false,
    "editable": false,
    "id": "80c420ba"
   },
   "source": [
    "### Обработка дубликатов"
   ]
  },
  {
   "cell_type": "markdown",
   "id": "112ad152",
   "metadata": {
    "deletable": false,
    "editable": false
   },
   "source": [
    "**Задание 14. Обработайте неявные дубликаты в столбце `education`. В этом столбце есть одни и те же значения, но записанные по-разному: с использованием заглавных и строчных букв. Приведите их к нижнему регистру. Проверьте остальные столбцы.**"
   ]
  },
  {
   "cell_type": "code",
   "execution_count": 47,
   "id": "3135b14c",
   "metadata": {
    "deletable": false
   },
   "outputs": [],
   "source": [
    "data['education'] = data['education'].str.lower() #привеодим к нижнему регистру весь столбец education для выявления неявных дубликатов"
   ]
  },
  {
   "cell_type": "markdown",
   "id": "bee5f266",
   "metadata": {
    "deletable": false,
    "editable": false,
    "id": "dc587695"
   },
   "source": [
    "**Задание 15. Выведите на экран количество строк-дубликатов в данных. Если такие строки присутствуют, удалите их.**"
   ]
  },
  {
   "cell_type": "code",
   "execution_count": 48,
   "id": "56aba4f0",
   "metadata": {
    "deletable": false,
    "id": "3ee445e4",
    "outputId": "9684deba-1934-42d1-99e1-cda61740f822"
   },
   "outputs": [
    {
     "data": {
      "text/plain": [
       "71"
      ]
     },
     "execution_count": 48,
     "metadata": {},
     "output_type": "execute_result"
    }
   ],
   "source": [
    "data.duplicated().sum() #подсчитываем кол-во неявнях дубликатов"
   ]
  },
  {
   "cell_type": "code",
   "execution_count": 49,
   "id": "d218395f",
   "metadata": {
    "deletable": false,
    "id": "8575fe05"
   },
   "outputs": [],
   "source": [
    "data = data.drop_duplicates() #удаляем дубликаты"
   ]
  },
  {
   "cell_type": "markdown",
   "id": "5e93e3d8",
   "metadata": {
    "deletable": false,
    "editable": false,
    "id": "9904cf55"
   },
   "source": [
    "### Категоризация данных"
   ]
  },
  {
   "cell_type": "markdown",
   "id": "fc4e97f7",
   "metadata": {
    "deletable": false,
    "editable": false,
    "id": "72fcc8a2"
   },
   "source": [
    "**Задание 16. На основании диапазонов, указанных ниже, создайте в датафрейме `data` столбец `total_income_category` с категориями:**\n",
    "\n",
    "- 0–30000 — `'E'`;\n",
    "- 30001–50000 — `'D'`;\n",
    "- 50001–200000 — `'C'`;\n",
    "- 200001–1000000 — `'B'`;\n",
    "- 1000001 и выше — `'A'`.\n",
    "\n",
    "\n",
    "**Например, кредитополучателю с доходом 25000 нужно назначить категорию `'E'`, а клиенту, получающему 235000, — `'B'`. Используйте собственную функцию с именем `categorize_income()` и метод `apply()`.**"
   ]
  },
  {
   "cell_type": "code",
   "execution_count": 50,
   "id": "bb2a3436",
   "metadata": {
    "deletable": false,
    "id": "e1771346"
   },
   "outputs": [],
   "source": [
    "def categorize_income(income): #создаем функцию, которая присваевает клиенту категорию в зависимости от его дохода\n",
    "    try:\n",
    "        if 0 <= income <= 30000:\n",
    "            return 'E'\n",
    "        elif 30001 <= income <= 50000:\n",
    "            return 'D'\n",
    "        elif 50001 <= income <= 200000:\n",
    "            return 'C'\n",
    "        elif 200001 <= income <= 1000000:\n",
    "            return 'B'\n",
    "        elif income >= 1000001:\n",
    "            return 'A'\n",
    "    except:\n",
    "        pass"
   ]
  },
  {
   "cell_type": "code",
   "execution_count": 51,
   "id": "fd640d9d",
   "metadata": {
    "deletable": false,
    "id": "d5f3586d"
   },
   "outputs": [],
   "source": [
    "data['total_income_category'] = data['total_income'].apply(categorize_income) #применяем функцию к стролбцу total_income и записываем данные в новый столбец"
   ]
  },
  {
   "cell_type": "markdown",
   "id": "1abeb5b0",
   "metadata": {
    "deletable": false,
    "editable": false,
    "id": "dde49b5c"
   },
   "source": [
    "**Задание 17. Выведите на экран перечень уникальных целей взятия кредита из столбца `purpose`.**"
   ]
  },
  {
   "cell_type": "code",
   "execution_count": 52,
   "id": "375402bb",
   "metadata": {
    "deletable": false,
    "id": "f67ce9b3",
    "outputId": "673c12d9-7d7e-4ae0-9812-c622c89dd244"
   },
   "outputs": [
    {
     "data": {
      "text/plain": [
       "array(['покупка жилья', 'приобретение автомобиля',\n",
       "       'дополнительное образование', 'сыграть свадьбу',\n",
       "       'операции с жильем', 'образование', 'на проведение свадьбы',\n",
       "       'покупка жилья для семьи', 'покупка недвижимости',\n",
       "       'покупка коммерческой недвижимости', 'покупка жилой недвижимости',\n",
       "       'строительство собственной недвижимости', 'недвижимость',\n",
       "       'строительство недвижимости', 'на покупку подержанного автомобиля',\n",
       "       'на покупку своего автомобиля',\n",
       "       'операции с коммерческой недвижимостью',\n",
       "       'строительство жилой недвижимости', 'жилье',\n",
       "       'операции со своей недвижимостью', 'автомобили',\n",
       "       'заняться образованием', 'сделка с подержанным автомобилем',\n",
       "       'получение образования', 'автомобиль', 'свадьба',\n",
       "       'получение дополнительного образования', 'покупка своего жилья',\n",
       "       'операции с недвижимостью', 'получение высшего образования',\n",
       "       'свой автомобиль', 'сделка с автомобилем',\n",
       "       'профильное образование', 'высшее образование',\n",
       "       'покупка жилья для сдачи', 'на покупку автомобиля', 'ремонт жилью',\n",
       "       'заняться высшим образованием'], dtype=object)"
      ]
     },
     "execution_count": 52,
     "metadata": {},
     "output_type": "execute_result"
    }
   ],
   "source": [
    "data['purpose'].unique() #выводим все уникальные столбца purpose"
   ]
  },
  {
   "cell_type": "markdown",
   "id": "16b55ff8",
   "metadata": {
    "deletable": false,
    "editable": false,
    "id": "85d0aef0"
   },
   "source": [
    "**Задание 18. Создайте функцию, которая на основании данных из столбца `purpose` сформирует новый столбец `purpose_category`, в который войдут следующие категории:**\n",
    "\n",
    "- `'операции с автомобилем'`,\n",
    "- `'операции с недвижимостью'`,\n",
    "- `'проведение свадьбы'`,\n",
    "- `'получение образования'`.\n",
    "\n",
    "**Например, если в столбце `purpose` находится подстрока `'на покупку автомобиля'`, то в столбце `purpose_category` должна появиться строка `'операции с автомобилем'`.**\n",
    "\n",
    "**Используйте собственную функцию с именем `categorize_purpose()` и метод `apply()`. Изучите данные в столбце `purpose` и определите, какие подстроки помогут вам правильно определить категорию.**"
   ]
  },
  {
   "cell_type": "code",
   "execution_count": 53,
   "id": "4cc8dc98",
   "metadata": {
    "deletable": false,
    "id": "e149fab4"
   },
   "outputs": [],
   "source": [
    "def categorize_purpose(row): #создаем функцию, которая обьединяет в соответствующие категории уникальные значения столбца purpose\n",
    "    try:\n",
    "        if 'автом' in row:\n",
    "            return 'операции с автомобилем'\n",
    "        elif 'жил' in row or 'недвиж' in row:\n",
    "            return 'операции с недвижимостью'\n",
    "        elif 'свад' in row:\n",
    "            return 'проведение свадьбы'\n",
    "        elif 'образов' in row:\n",
    "            return 'получение образования'\n",
    "    except:\n",
    "        return 'нет категории'"
   ]
  },
  {
   "cell_type": "code",
   "execution_count": 54,
   "id": "3b148816",
   "metadata": {
    "deletable": false,
    "id": "bf36e69b"
   },
   "outputs": [],
   "source": [
    "data['purpose_category'] = data['purpose'].apply(categorize_purpose) #применяем функцию к стролбцу purpose и записываем данные в новый столбец"
   ]
  },
  {
   "cell_type": "markdown",
   "id": "94a22a82",
   "metadata": {
    "deletable": false,
    "editable": false,
    "id": "09b242bf"
   },
   "source": [
    "### Шаг 3. Исследуйте данные и ответьте на вопросы"
   ]
  },
  {
   "cell_type": "markdown",
   "id": "ce4e405e",
   "metadata": {
    "deletable": false,
    "editable": false,
    "id": "c5d66278"
   },
   "source": [
    "#### 3.1 Есть ли зависимость между количеством детей и возвратом кредита в срок?"
   ]
  },
  {
   "cell_type": "code",
   "execution_count": 61,
   "id": "8f9aa4e0",
   "metadata": {
    "deletable": false,
    "id": "2cacfc4a"
   },
   "outputs": [
    {
     "name": "stdout",
     "output_type": "stream",
     "text": [
      "   Количество детей  Не имеют долга  Имеют долг  Доля должников\n",
      "0                 0         13028.0      1063.0        7.543822\n",
      "1                 1          4364.0       444.0        9.234609\n",
      "2                 2          1858.0       194.0        9.454191\n",
      "3                 3           303.0        27.0        8.181818\n",
      "4                 4            37.0         4.0        9.756098\n",
      "5                 5             9.0         NaN             NaN\n"
     ]
    },
    {
     "data": {
      "text/plain": [
       "<AxesSubplot:xlabel='Количество детей', ylabel='Доля должников'>"
      ]
     },
     "execution_count": 61,
     "metadata": {},
     "output_type": "execute_result"
    },
    {
     "data": {
      "image/png": "[encoded data removed]",
      "text/plain": [
       "<Figure size 432x288 with 1 Axes>"
      ]
     },
     "metadata": {
      "needs_background": "light"
     },
     "output_type": "display_data"
    }
   ],
   "source": [
    "children_debt = data.pivot_table(index='children', columns='debt', values='purpose', aggfunc='count').reset_index()\n",
    "children_debt['ratio'] = children_debt[1]/(children_debt[0]+children_debt[1])*100\n",
    "children_debt.columns = ['Количество детей', 'Не имеют долга', 'Имеют долг', 'Доля должников']\n",
    "print(children_debt) #строим сводную таблицу добавляя долю должников\n",
    "seaborn.barplot(x=children_debt['Количество детей'], y=children_debt['Доля должников']) #визуализируем данные"
   ]
  },
  {
   "cell_type": "markdown",
   "id": "07a01262",
   "metadata": {
    "deletable": false,
    "id": "3a6b99ec"
   },
   "source": [
    "**Вывод:** \n",
    "* Из диаграммы отчетливо видно, что все люди, имеющие 5 детей, не имеют долга по кредиту. Но это так же самая малочисленная группа кредитозаемщиков.\n",
    "* Активнее всего берут кредит люди не имеющие детей, так же это группа с наименьшей долей должников."
   ]
  },
  {
   "cell_type": "markdown",
   "id": "af0c9412",
   "metadata": {
    "deletable": false,
    "editable": false,
    "id": "97be82ca"
   },
   "source": [
    "#### 3.2 Есть ли зависимость между семейным положением и возвратом кредита в срок?"
   ]
  },
  {
   "cell_type": "code",
   "execution_count": 64,
   "id": "b65a4e5c",
   "metadata": {
    "deletable": false,
    "id": "dc3f7ee8"
   },
   "outputs": [
    {
     "name": "stdout",
     "output_type": "stream",
     "text": [
      "      Семейное положение  Не имеют долга  Имеют долг  Доля должников\n",
      "0  Не женат / не замужем            2523         273        9.763948\n",
      "1              в разводе            1105          84        7.064760\n",
      "2         вдовец / вдова             888          63        6.624606\n",
      "3       гражданский брак            3749         385        9.313014\n",
      "4        женат / замужем           11334         927        7.560558\n"
     ]
    },
    {
     "data": {
      "text/plain": [
       "<AxesSubplot:xlabel='Доля должников', ylabel='Семейное положение'>"
      ]
     },
     "execution_count": 64,
     "metadata": {},
     "output_type": "execute_result"
    },
    {
     "data": {
      "image/png": "[encoded data removed]",
      "text/plain": [
       "<Figure size 432x288 with 1 Axes>"
      ]
     },
     "metadata": {
      "needs_background": "light"
     },
     "output_type": "display_data"
    }
   ],
   "source": [
    "family_status_debt = data.pivot_table(index='family_status', columns='debt', values='purpose', aggfunc='count').reset_index()\n",
    "family_status_debt['ratio'] = family_status_debt[1]/(family_status_debt[0]+family_status_debt[1])*100\n",
    "family_status_debt.columns = ['Семейное положение', 'Не имеют долга', 'Имеют долг', 'Доля должников']\n",
    "print(family_status_debt) #строим сводную таблицу добавляя долю должников\n",
    "seaborn.barplot(y=family_status_debt['Семейное положение'], x=family_status_debt['Доля должников']) #визуализируем данные"
   ]
  },
  {
   "cell_type": "markdown",
   "id": "32bed123",
   "metadata": {
    "deletable": false,
    "id": "1cef7837"
   },
   "source": [
    "**Вывод:** \n",
    "* Оценивая полученные данные, можем обратить внимане, что самая маленькая доля должников, среди кредитозаемщиков, это вдовцы/вдовы.\n",
    "* Самая высокая доля должников наблюдается среди неженатых/незамужних кредитозаемщиков.\n",
    "* На втором месте по доле должников - кредитозаемщики дивущие в гражданском браке.\n",
    "* Практически равные доли должников у кредитозаемщиков с семейным положением женат/замужем и находящихся в разводе"
   ]
  },
  {
   "cell_type": "markdown",
   "id": "e23e6428",
   "metadata": {
    "deletable": false,
    "editable": false,
    "id": "1e8b2fca"
   },
   "source": [
    "#### 3.3 Есть ли зависимость между уровнем дохода и возвратом кредита в срок?"
   ]
  },
  {
   "cell_type": "code",
   "execution_count": 67,
   "id": "61fcd4ce",
   "metadata": {
    "deletable": false,
    "id": "cd7e3720"
   },
   "outputs": [
    {
     "name": "stdout",
     "output_type": "stream",
     "text": [
      "  Уровень дохода  Не имеют долга  Имеют долг  Доля должников\n",
      "0              A              23           2        8.000000\n",
      "1              B            4660         354        7.060231\n",
      "2              C           14568        1353        8.498210\n",
      "3              D             328          21        6.017192\n",
      "4              E              20           2        9.090909\n"
     ]
    },
    {
     "data": {
      "text/plain": [
       "<AxesSubplot:xlabel='Уровень дохода', ylabel='Доля должников'>"
      ]
     },
     "execution_count": 67,
     "metadata": {},
     "output_type": "execute_result"
    },
    {
     "data": {
      "image/png": "[encoded data removed]",
      "text/plain": [
       "<Figure size 432x288 with 1 Axes>"
      ]
     },
     "metadata": {
      "needs_background": "light"
     },
     "output_type": "display_data"
    }
   ],
   "source": [
    "total_income_debt = data.pivot_table(index='total_income_category', columns='debt', values='purpose', aggfunc='count').reset_index()\n",
    "total_income_debt['ratio'] = total_income_debt[1]/(total_income_debt[0]+total_income_debt[1])*100\n",
    "total_income_debt.columns = ['Уровень дохода', 'Не имеют долга', 'Имеют долг', 'Доля должников']\n",
    "print(total_income_debt) #строим сводную таблицу добавляя долю должников\n",
    "seaborn.barplot(x=total_income_debt['Уровень дохода'], y=total_income_debt['Доля должников']) #визуализируем данные"
   ]
  },
  {
   "cell_type": "markdown",
   "id": "d57a313d",
   "metadata": {
    "deletable": false,
    "id": "e8593def"
   },
   "source": [
    "**Вывод:** \n",
    "* Если сравнвать доли должников среди людей с разным уровнем дохода, то можно прдти к выводу, что самой рискованной группой являются люди зарабатывающие до 30000 рублей. \n",
    "* А самой платежеспособной группой являются люди с доходом от 30 до 50 тысяч рублей.\n",
    "* Также хочу отметить,что репрезентативность данных о людях с доходом до 30 тыс. и людей с доходом больше 1 млн. можно поставить под сомнение. "
   ]
  },
  {
   "cell_type": "markdown",
   "id": "2e45d6ff",
   "metadata": {
    "deletable": false,
    "editable": false,
    "id": "99ecbd1f"
   },
   "source": [
    "#### 3.4 Как разные цели кредита влияют на его возврат в срок?"
   ]
  },
  {
   "cell_type": "code",
   "execution_count": 68,
   "id": "dc17d10e",
   "metadata": {
    "deletable": false,
    "id": "2b687290"
   },
   "outputs": [
    {
     "name": "stdout",
     "output_type": "stream",
     "text": [
      "               Цель кредита  Не имеют долга  Имеют долг  Доля должников\n",
      "0    операции с автомобилем            3879         400        9.347978\n",
      "1  операции с недвижимостью            9971         780        7.255139\n",
      "2     получение образования            3619         369        9.252758\n",
      "3        проведение свадьбы            2130         183        7.911803\n"
     ]
    },
    {
     "data": {
      "text/plain": [
       "<AxesSubplot:xlabel='Доля должников', ylabel='Цель кредита'>"
      ]
     },
     "execution_count": 68,
     "metadata": {},
     "output_type": "execute_result"
    },
    {
     "data": {
      "image/png": "[encoded data removed]",
      "text/plain": [
       "<Figure size 432x288 with 1 Axes>"
      ]
     },
     "metadata": {
      "needs_background": "light"
     },
     "output_type": "display_data"
    }
   ],
   "source": [
    "purpose_category_debt = data.pivot_table(index='purpose_category', columns='debt', values='purpose', aggfunc='count').reset_index()\n",
    "purpose_category_debt['ratio'] = purpose_category_debt[1]/(purpose_category_debt[0]+purpose_category_debt[1])*100\n",
    "purpose_category_debt.columns = ['Цель кредита', 'Не имеют долга', 'Имеют долг', 'Доля должников']\n",
    "print(purpose_category_debt) #строим сводную таблицу добавляя долю должников\n",
    "seaborn.barplot(y=purpose_category_debt['Цель кредита'], x=purpose_category_debt['Доля должников']) #визуализируем данные"
   ]
  },
  {
   "cell_type": "markdown",
   "id": "aae2c7f0",
   "metadata": {
    "deletable": false,
    "id": "b4bb2ce6"
   },
   "source": [
    "**Вывод:** \n",
    "* Наибольшее количество должников среди людей берущих кредит на операции с автомобилем и получение образования\n",
    "* Наименьшая доля должников наблюдается среди людей берущих кредит на операции с недвижимостью и на проведение свадьбы"
   ]
  },
  {
   "cell_type": "markdown",
   "id": "a5bb1d2a",
   "metadata": {
    "deletable": false,
    "editable": false,
    "id": "09c3ac4c"
   },
   "source": [
    "#### 3.5 Приведите возможные причины появления пропусков в исходных данных."
   ]
  },
  {
   "cell_type": "markdown",
   "id": "3b8e9662",
   "metadata": {
    "deletable": false,
    "id": "9da2ceda"
   },
   "source": [
    "Пропуски в исходных данных были в колонках о доходе и общем трудовом стаже. Поэтому предположу, что причины могли быть следующие:\n",
    "* Безработные, у которых нет дохода и/или трудового стажа\n",
    "* Пенсионеры, у которых нет трудового стажа и, как следствие, дохода\n"
   ]
  },
  {
   "cell_type": "markdown",
   "id": "70e4e306",
   "metadata": {
    "deletable": false,
    "editable": false,
    "id": "7b0487d6"
   },
   "source": [
    "#### 3.6 Объясните, почему заполнить пропуски медианным значением — лучшее решение для количественных переменных."
   ]
  },
  {
   "cell_type": "markdown",
   "id": "891df0ec",
   "metadata": {
    "deletable": false,
    "id": "7ecf2b8e"
   },
   "source": [
    "Среднее значение может быть не совсем объективным отражением данных, так как на него могут влиять выбросы (очень большие или очень маленькие значения в наборе данных). Медиана же, лишена такого недостатка и показывает середину наших данных, исключая аномалии."
   ]
  },
  {
   "cell_type": "markdown",
   "id": "919e66c1",
   "metadata": {
    "deletable": false,
    "editable": false,
    "id": "6db5255a"
   },
   "source": [
    "### Шаг 4: общий вывод."
   ]
  },
  {
   "cell_type": "markdown",
   "id": "ec4761b5",
   "metadata": {
    "deletable": false,
    "id": "bad65432"
   },
   "source": [
    "Исходя из имеющихся данных, прихожу к следующим выводам: \n",
    "* на возврат кредита в срок влияет, в большей степени, цель кредита и семейное положение кредитозаемщика\n",
    "* самый большой процент должников среди людей зарабатывающих до 30 тысяч рублей, незамужних/не женатых, имеющиех 4 ребенка\n",
    "* самые ответственные, к своим кредитнвм обязательствам, это люди зарабатывающие от 30 до 50 тысяч рублей, в семейном положении - вдовец/вдова, берущие кредит на недвижимость\n"
   ]
  }
 ],
 "metadata": {
  "ExecuteTimeLog": [
   {
    "duration": 52,
    "start_time": "2022-09-28T08:01:21.762Z"
   },
   {
    "duration": 8,
    "start_time": "2022-09-28T08:01:48.814Z"
   },
   {
    "duration": 7,
    "start_time": "2022-09-28T08:03:46.209Z"
   },
   {
    "duration": 662,
    "start_time": "2022-09-28T08:04:08.255Z"
   },
   {
    "duration": 29,
    "start_time": "2022-09-28T08:04:08.919Z"
   },
   {
    "duration": 20,
    "start_time": "2022-09-28T08:04:08.950Z"
   },
   {
    "duration": 13,
    "start_time": "2022-09-28T08:04:08.972Z"
   },
   {
    "duration": 69,
    "start_time": "2022-09-28T08:04:08.987Z"
   },
   {
    "duration": 5,
    "start_time": "2022-09-28T08:04:09.058Z"
   },
   {
    "duration": 11,
    "start_time": "2022-09-28T08:04:09.064Z"
   },
   {
    "duration": 5,
    "start_time": "2022-09-28T08:04:09.076Z"
   },
   {
    "duration": 27,
    "start_time": "2022-09-28T08:04:09.082Z"
   },
   {
    "duration": 5,
    "start_time": "2022-09-28T08:04:09.113Z"
   },
   {
    "duration": 33,
    "start_time": "2022-09-28T08:04:09.119Z"
   },
   {
    "duration": 9,
    "start_time": "2022-09-28T08:04:09.154Z"
   },
   {
    "duration": 12,
    "start_time": "2022-09-28T08:04:09.165Z"
   },
   {
    "duration": 15,
    "start_time": "2022-09-28T08:04:09.179Z"
   },
   {
    "duration": 20,
    "start_time": "2022-09-28T08:04:09.208Z"
   },
   {
    "duration": 17,
    "start_time": "2022-09-28T08:04:09.229Z"
   },
   {
    "duration": 4,
    "start_time": "2022-09-28T08:04:09.247Z"
   },
   {
    "duration": 25,
    "start_time": "2022-09-28T08:04:09.253Z"
   },
   {
    "duration": 11,
    "start_time": "2022-09-28T08:04:09.280Z"
   },
   {
    "duration": 17,
    "start_time": "2022-09-28T08:04:09.292Z"
   },
   {
    "duration": 14,
    "start_time": "2022-09-28T08:04:09.311Z"
   },
   {
    "duration": 71,
    "start_time": "2022-09-28T08:04:09.327Z"
   },
   {
    "duration": 0,
    "start_time": "2022-09-28T08:04:09.409Z"
   },
   {
    "duration": 1,
    "start_time": "2022-09-28T08:04:09.410Z"
   },
   {
    "duration": 0,
    "start_time": "2022-09-28T08:04:09.412Z"
   },
   {
    "duration": 7,
    "start_time": "2022-09-28T08:04:12.919Z"
   },
   {
    "duration": 7,
    "start_time": "2022-09-28T13:15:39.838Z"
   },
   {
    "duration": 6,
    "start_time": "2022-09-28T13:16:06.364Z"
   },
   {
    "duration": 6,
    "start_time": "2022-09-28T13:24:32.975Z"
   },
   {
    "duration": 4,
    "start_time": "2022-09-28T13:24:51.204Z"
   },
   {
    "duration": 6,
    "start_time": "2022-09-28T13:26:29.624Z"
   },
   {
    "duration": 9,
    "start_time": "2022-09-28T13:27:40.398Z"
   },
   {
    "duration": 6,
    "start_time": "2022-09-28T13:28:29.298Z"
   },
   {
    "duration": 7,
    "start_time": "2022-09-28T13:36:27.469Z"
   },
   {
    "duration": 9,
    "start_time": "2022-09-28T13:36:29.938Z"
   },
   {
    "duration": 20,
    "start_time": "2022-09-28T14:39:14.792Z"
   },
   {
    "duration": 21,
    "start_time": "2022-09-28T14:45:48.975Z"
   },
   {
    "duration": 18,
    "start_time": "2022-09-28T14:48:22.088Z"
   },
   {
    "duration": 54,
    "start_time": "2022-09-28T17:19:55.740Z"
   },
   {
    "duration": 52,
    "start_time": "2022-09-28T17:21:11.637Z"
   },
   {
    "duration": 508,
    "start_time": "2022-09-28T17:21:25.631Z"
   },
   {
    "duration": 22,
    "start_time": "2022-09-28T17:21:29.826Z"
   },
   {
    "duration": 16,
    "start_time": "2022-09-28T17:21:33.677Z"
   },
   {
    "duration": 11,
    "start_time": "2022-09-28T17:21:36.801Z"
   },
   {
    "duration": 80,
    "start_time": "2022-09-28T17:21:40.041Z"
   },
   {
    "duration": 89,
    "start_time": "2022-09-28T17:22:41.213Z"
   },
   {
    "duration": 71,
    "start_time": "2022-09-28T17:22:54.122Z"
   },
   {
    "duration": 83,
    "start_time": "2022-09-28T17:25:13.233Z"
   },
   {
    "duration": 78,
    "start_time": "2022-09-28T17:25:48.848Z"
   },
   {
    "duration": 45,
    "start_time": "2022-09-28T17:26:00.445Z"
   },
   {
    "duration": 4,
    "start_time": "2022-09-28T17:26:08.354Z"
   },
   {
    "duration": 8,
    "start_time": "2022-09-28T17:26:11.216Z"
   },
   {
    "duration": 5,
    "start_time": "2022-09-28T17:26:13.925Z"
   },
   {
    "duration": 7,
    "start_time": "2022-09-28T17:26:16.193Z"
   },
   {
    "duration": 6,
    "start_time": "2022-09-28T17:26:18.403Z"
   },
   {
    "duration": 112,
    "start_time": "2022-09-28T17:26:21.107Z"
   },
   {
    "duration": 78,
    "start_time": "2022-09-28T17:26:28.379Z"
   },
   {
    "duration": 36,
    "start_time": "2022-09-28T17:29:55.047Z"
   },
   {
    "duration": 14,
    "start_time": "2022-09-28T17:30:01.022Z"
   },
   {
    "duration": 4,
    "start_time": "2022-09-28T17:30:03.815Z"
   },
   {
    "duration": 13,
    "start_time": "2022-09-28T17:30:06.371Z"
   },
   {
    "duration": 24,
    "start_time": "2022-09-28T17:30:09.178Z"
   },
   {
    "duration": 18,
    "start_time": "2022-09-28T17:30:11.163Z"
   },
   {
    "duration": 3,
    "start_time": "2022-09-28T17:30:14.919Z"
   },
   {
    "duration": 14,
    "start_time": "2022-09-28T17:30:16.949Z"
   },
   {
    "duration": 6,
    "start_time": "2022-09-28T17:30:19.915Z"
   },
   {
    "duration": 4,
    "start_time": "2022-09-28T17:30:23.826Z"
   },
   {
    "duration": 10,
    "start_time": "2022-09-28T17:30:26.006Z"
   },
   {
    "duration": 24,
    "start_time": "2022-09-28T17:30:29.234Z"
   },
   {
    "duration": 22,
    "start_time": "2022-09-28T17:30:32.299Z"
   },
   {
    "duration": 20,
    "start_time": "2022-09-28T17:32:01.622Z"
   },
   {
    "duration": 18,
    "start_time": "2022-09-28T17:33:44.586Z"
   },
   {
    "duration": 1135,
    "start_time": "2022-09-28T18:35:05.142Z"
   },
   {
    "duration": 17,
    "start_time": "2022-09-28T18:35:09.644Z"
   },
   {
    "duration": 16,
    "start_time": "2022-09-28T18:35:14.109Z"
   },
   {
    "duration": 12,
    "start_time": "2022-09-28T18:35:18.834Z"
   },
   {
    "duration": 33,
    "start_time": "2022-09-28T18:35:22.086Z"
   },
   {
    "duration": 4,
    "start_time": "2022-09-28T18:35:24.545Z"
   },
   {
    "duration": 9,
    "start_time": "2022-09-28T18:35:27.232Z"
   },
   {
    "duration": 5,
    "start_time": "2022-09-28T18:35:37.005Z"
   },
   {
    "duration": 6,
    "start_time": "2022-09-28T18:35:39.700Z"
   },
   {
    "duration": 5,
    "start_time": "2022-09-28T18:35:42.113Z"
   },
   {
    "duration": 35,
    "start_time": "2022-09-28T18:35:45.063Z"
   },
   {
    "duration": 22,
    "start_time": "2022-09-28T18:35:47.882Z"
   },
   {
    "duration": 4,
    "start_time": "2022-09-28T18:35:50.503Z"
   },
   {
    "duration": 11,
    "start_time": "2022-09-28T18:35:52.778Z"
   },
   {
    "duration": 20,
    "start_time": "2022-09-28T18:35:55.049Z"
   },
   {
    "duration": 19,
    "start_time": "2022-09-28T18:35:57.052Z"
   },
   {
    "duration": 4,
    "start_time": "2022-09-28T18:35:59.744Z"
   },
   {
    "duration": 11,
    "start_time": "2022-09-28T18:36:02.148Z"
   },
   {
    "duration": 6,
    "start_time": "2022-09-28T18:36:04.201Z"
   },
   {
    "duration": 4,
    "start_time": "2022-09-28T18:36:07.918Z"
   },
   {
    "duration": 9,
    "start_time": "2022-09-28T18:36:10.042Z"
   },
   {
    "duration": 23,
    "start_time": "2022-09-28T18:36:12.630Z"
   },
   {
    "duration": 22,
    "start_time": "2022-09-28T18:36:15.836Z"
   },
   {
    "duration": 19,
    "start_time": "2022-09-28T18:36:18.677Z"
   },
   {
    "duration": 22,
    "start_time": "2022-09-28T18:36:21.108Z"
   },
   {
    "duration": 88,
    "start_time": "2022-09-28T18:38:47.735Z"
   },
   {
    "duration": 214,
    "start_time": "2022-09-28T18:39:06.793Z"
   },
   {
    "duration": 141,
    "start_time": "2022-09-28T18:39:39.581Z"
   },
   {
    "duration": 164,
    "start_time": "2022-09-28T18:41:58.793Z"
   },
   {
    "duration": 28,
    "start_time": "2022-09-28T18:54:23.652Z"
   },
   {
    "duration": 147,
    "start_time": "2022-09-28T18:54:37.802Z"
   },
   {
    "duration": 1600,
    "start_time": "2022-09-28T18:55:38.909Z"
   },
   {
    "duration": 24,
    "start_time": "2022-09-28T18:55:55.132Z"
   },
   {
    "duration": 122,
    "start_time": "2022-09-28T18:56:10.632Z"
   },
   {
    "duration": 130,
    "start_time": "2022-09-28T18:57:27.381Z"
   }
  ],
  "colab": {
   "name": "dpp_template_part2.ipynb",
   "provenance": []
  },
  "kernelspec": {
   "display_name": "Python 3 (ipykernel)",
   "language": "python",
   "name": "python3"
  },
  "language_info": {
   "codemirror_mode": {
    "name": "ipython",
    "version": 3
   },
   "file_extension": ".py",
   "mimetype": "text/x-python",
   "name": "python",
   "nbconvert_exporter": "python",
   "pygments_lexer": "ipython3",
   "version": "3.9.5"
  },
  "toc": {
   "base_numbering": 1,
   "nav_menu": {},
   "number_sections": true,
   "sideBar": true,
   "skip_h1_title": true,
   "title_cell": "Table of Contents",
   "title_sidebar": "Contents",
   "toc_cell": false,
   "toc_position": {},
   "toc_section_display": true,
   "toc_window_display": false
  }
 },
 "nbformat": 4,
 "nbformat_minor": 5
}
