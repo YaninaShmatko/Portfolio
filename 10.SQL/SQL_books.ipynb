{
 "cells": [
  {
   "cell_type": "markdown",
   "id": "d869e741",
   "metadata": {},
   "source": [
    "# Проект по SQL\n",
    "\n",
    "Коронавирус застал мир врасплох, изменив привычный порядок вещей. В свободное время жители городов больше не выходят на улицу, не посещают кафе и торговые центры. Зато стало больше времени для книг. Это заметили стартаперы — и бросились создавать приложения для тех, кто любит читать.\n",
    "\n",
    "Ваша компания решила быть на волне и купила крупный сервис для чтения книг по подписке. Ваша первая задача как аналитика — проанализировать базу данных.\n",
    "\n",
    "В ней — информация о книгах, издательствах, авторах, а также пользовательские обзоры книг. Эти данные помогут сформулировать ценностное предложение для нового продукта.\n",
    "\n",
    "**Описание данных**\n",
    "\n",
    "Таблица books\n",
    "\n",
    "Содержит данные о книгах:\n",
    "- book_id — идентификатор книги;\n",
    "- author_id — идентификатор автора;\n",
    "- title — название книги;\n",
    "- num_pages — количество страниц;\n",
    "- publication_date — дата публикации книги;\n",
    "- publisher_id — идентификатор издателя.\n",
    "\n",
    "Таблица authors\n",
    "\n",
    "Содержит данные об авторах:\n",
    "- author_id — идентификатор автора;\n",
    "- author — имя автора.\n",
    "\n",
    "Таблица publishers\n",
    "\n",
    "Содержит данные об издательствах:\n",
    "- publisher_id — идентификатор издательства;\n",
    "- publisher — название издательства;\n",
    "\n",
    "Таблица ratings\n",
    "\n",
    "Содержит данные о пользовательских оценках книг:\n",
    "- rating_id — идентификатор оценки;\n",
    "- book_id — идентификатор книги;\n",
    "- username — имя пользователя, оставившего оценку;\n",
    "- rating — оценка книги.\n",
    "\n",
    "Таблица reviews\n",
    "\n",
    "Содержит данные о пользовательских обзорах:\n",
    "- review_id — идентификатор обзора;\n",
    "- book_id — идентификатор книги;\n",
    "- username — имя автора обзора;\n",
    "- text — текст обзора.\n",
    "\n",
    "**Задания**\n",
    "- Посчитайте, сколько книг вышло после 1 января 2000 года;\n",
    "- Для каждой книги посчитайте количество обзоров и среднюю оценку;\n",
    "- Определите издательство, которое выпустило наибольшее число книг толще 50 страниц — так вы исключите из анализа брошюры;\n",
    "- Определите автора с самой высокой средней оценкой книг — учитывайте только книги с 50 и более оценками;\n",
    "- Посчитайте среднее количество обзоров от пользователей, которые поставили больше 50 оценок.\n"
   ]
  },
  {
   "cell_type": "markdown",
   "id": "5fc61e73",
   "metadata": {},
   "source": [
    "## Подключимся к базе данных и выведем первые строки таблицы"
   ]
  },
  {
   "cell_type": "code",
   "execution_count": 1,
   "id": "a3f4d2af",
   "metadata": {},
   "outputs": [],
   "source": [
    "# импортируем библиотеки\n",
    "import pandas as pd\n",
    "from sqlalchemy import create_engine\n",
    "import plotly.express as px\n",
    "import seaborn as sns\n",
    "#!pip install psycopg2 "
   ]
  },
  {
   "cell_type": "code",
   "execution_count": 2,
   "id": "009ca179",
   "metadata": {},
   "outputs": [],
   "source": [
    "# устанавливаем параметры\n",
    "db_config = {'user': 'praktikum_student', # имя пользователя\n",
    "             'pwd': 'Sdf4$2;d-d30pp', # пароль\n",
    "             'host': 'rc1b-wcoijxj3yxfsf3fs.mdb.yandexcloud.net',\n",
    "             'port': 6432, # порт подключения\n",
    "             'db': 'data-analyst-final-project-db'} # название базы данных\n",
    "\n",
    "connection_string = 'postgresql://{}:{}@{}:{}/{}'.format(db_config['user'],\n",
    "                                                db_config['pwd'],\n",
    "                                                db_config['host'],\n",
    "                                                db_config['port'],\n",
    "                                                db_config['db'])\n",
    "# сохраняем коннектор\n",
    "engine = create_engine(connection_string, connect_args={'sslmode':'require'}) "
   ]
  },
  {
   "cell_type": "code",
   "execution_count": 3,
   "id": "34367d3c",
   "metadata": {},
   "outputs": [],
   "source": [
    "query = '''\n",
    "           SELECT * \n",
    "           FROM books\n",
    "        '''"
   ]
  },
  {
   "cell_type": "code",
   "execution_count": 4,
   "id": "6b969b0a",
   "metadata": {},
   "outputs": [
    {
     "name": "stdout",
     "output_type": "stream",
     "text": [
      "   book_id  author_id                                              title  \\\n",
      "0        1        546                                       'Salem's Lot   \n",
      "1        2        465                 1 000 Places to See Before You Die   \n",
      "2        3        407  13 Little Blue Envelopes (Little Blue Envelope...   \n",
      "3        4         82  1491: New Revelations of the Americas Before C...   \n",
      "4        5        125                                               1776   \n",
      "\n",
      "   num_pages publication_date  publisher_id  \n",
      "0        594       2005-11-01            93  \n",
      "1        992       2003-05-22           336  \n",
      "2        322       2010-12-21           135  \n",
      "3        541       2006-10-10           309  \n",
      "4        386       2006-07-04           268  \n"
     ]
    }
   ],
   "source": [
    "books = pd.io.sql.read_sql(query, con = engine) \n",
    "print(books.head())"
   ]
  },
  {
   "cell_type": "markdown",
   "id": "5e720c91",
   "metadata": {},
   "source": [
    "## Напишем SQL запросы "
   ]
  },
  {
   "cell_type": "markdown",
   "id": "feda3c61",
   "metadata": {},
   "source": [
    "### Посчитайте, сколько книг вышло после 1 января 2000 года"
   ]
  },
  {
   "cell_type": "code",
   "execution_count": 5,
   "id": "4fccc685",
   "metadata": {},
   "outputs": [
    {
     "name": "stdout",
     "output_type": "stream",
     "text": [
      "   count\n",
      "0    819\n"
     ]
    }
   ],
   "source": [
    "query = '''\n",
    "           SELECT COUNT(book_id) \n",
    "           FROM books\n",
    "           WHERE publication_date > '2000-01-01'\n",
    "        '''\n",
    "books = pd.io.sql.read_sql(query, con = engine) \n",
    "print(books)"
   ]
  },
  {
   "cell_type": "markdown",
   "id": "8ce46ffc",
   "metadata": {},
   "source": [
    "- После **1 января 2000 года** вышло **819** книг."
   ]
  },
  {
   "cell_type": "markdown",
   "id": "c566d03d",
   "metadata": {},
   "source": [
    "### Для каждой книги посчитайте количество обзоров и среднюю оценку"
   ]
  },
  {
   "cell_type": "code",
   "execution_count": 6,
   "id": "371b2ca2",
   "metadata": {},
   "outputs": [
    {
     "name": "stdout",
     "output_type": "stream",
     "text": [
      "     book_id  rating_avg  review_cnt\n",
      "0          1        3.67         2.0\n",
      "1          2        2.50         1.0\n",
      "2          3        4.67         3.0\n",
      "3          4        4.50         2.0\n",
      "4          5        4.00         4.0\n",
      "..       ...         ...         ...\n",
      "995      996        3.67         3.0\n",
      "996      997        3.40         3.0\n",
      "997      998        3.20         4.0\n",
      "998      999        4.50         2.0\n",
      "999     1000        3.83         4.0\n",
      "\n",
      "[1000 rows x 3 columns]\n"
     ]
    }
   ],
   "source": [
    "query = '''\n",
    "           WITH\n",
    "           r AS (SELECT book_id,\n",
    "                        ROUND(AVG(rating),2) AS rating_avg\n",
    "                 FROM ratings\n",
    "                 GROUP BY book_id),\n",
    "           i AS (SELECT book_id,\n",
    "                        COUNT(review_id) AS review_cnt\n",
    "                 FROM reviews\n",
    "                 GROUP BY book_id),\n",
    "           b AS (SELECT book_id\n",
    "                 FROM books)\n",
    "           \n",
    "           SELECT r.book_id,\n",
    "                  r.rating_avg,\n",
    "                  i.review_cnt\n",
    "           FROM b LEFT JOIN r ON b.book_id=r.book_id\n",
    "           LEFT JOIN i ON b.book_id=i.book_id\n",
    "        '''\n",
    "books = pd.io.sql.read_sql(query, con = engine) \n",
    "print(books)"
   ]
  },
  {
   "cell_type": "code",
   "execution_count": 7,
   "id": "b0564cda",
   "metadata": {},
   "outputs": [
    {
     "data": {
      "image/png": "[encoded data removed]",
      "text/plain": [
       "<Figure size 864x360 with 1 Axes>"
      ]
     },
     "metadata": {
      "needs_background": "light"
     },
     "output_type": "display_data"
    }
   ],
   "source": [
    "books['rating_avg'].hist(figsize=(12, 5), bins = 20);"
   ]
  },
  {
   "cell_type": "code",
   "execution_count": 9,
   "id": "b04c7b85",
   "metadata": {},
   "outputs": [
    {
     "data": {
      "image/png": "[encoded data removed]",
      "text/plain": [
       "<Figure size 432x288 with 1 Axes>"
      ]
     },
     "metadata": {
      "needs_background": "light"
     },
     "output_type": "display_data"
    }
   ],
   "source": [
    "(\n",
    "    books\n",
    "        .groupby('review_cnt')\n",
    "        .agg({'book_id':'count'})\n",
    "        .sort_values(by='book_id')\n",
    "        .plot(kind='bar')\n",
    ");"
   ]
  },
  {
   "cell_type": "markdown",
   "id": "d24b5517",
   "metadata": {},
   "source": [
    "- Посчитала и визуализировала количество обзоров и среднюю оценку для каждой книги.\n",
    "- Чаще всего книгам ставят оценку - 4\n",
    "- Зачастую книги получают 2-3 обзора"
   ]
  },
  {
   "cell_type": "markdown",
   "id": "8b45e5bc",
   "metadata": {},
   "source": [
    "### Определите издательство, которое выпустило наибольшее число книг толще 50 страниц"
   ]
  },
  {
   "cell_type": "code",
   "execution_count": 10,
   "id": "21ce36ab",
   "metadata": {},
   "outputs": [
    {
     "name": "stdout",
     "output_type": "stream",
     "text": [
      "       publisher  book_cnt\n",
      "0  Penguin Books        42\n"
     ]
    }
   ],
   "source": [
    "query = '''\n",
    "           WITH\n",
    "           p AS (SELECT publisher,\n",
    "                        publisher_id\n",
    "           FROM publishers),\n",
    "           \n",
    "           b AS (SELECT publisher_id,\n",
    "                        COUNT(book_id) AS book_cnt\n",
    "           FROM books\n",
    "           WHERE num_pages > 50\n",
    "           GROUP BY publisher_id)\n",
    "           \n",
    "           SELECT p.publisher,\n",
    "                  b.book_cnt\n",
    "           FROM p JOIN b ON p.publisher_id=b.publisher_id\n",
    "           ORDER BY b.book_cnt DESC\n",
    "           LIMIT 1\n",
    "        '''\n",
    "books = pd.io.sql.read_sql(query, con = engine) \n",
    "print(books)"
   ]
  },
  {
   "cell_type": "markdown",
   "id": "8e2a5d90",
   "metadata": {},
   "source": [
    "- Издательство выпустившее наибольшее кол-во книг толще 50 страниц (так мы исключаем из анализа брошюры) - Penguin Books"
   ]
  },
  {
   "cell_type": "markdown",
   "id": "51690836",
   "metadata": {},
   "source": [
    "### Определите автора с самой высокой средней оценкой книг — учитывайте только книги с 50 и более оценками"
   ]
  },
  {
   "cell_type": "code",
   "execution_count": 11,
   "id": "4cff1983",
   "metadata": {},
   "outputs": [
    {
     "name": "stdout",
     "output_type": "stream",
     "text": [
      "                                               author   avg\n",
      "0                          J.K. Rowling/Mary GrandPré  4.28\n",
      "1                   Markus Zusak/Cao Xuân Việt Khương  4.26\n",
      "2                                      J.R.R. Tolkien  4.26\n",
      "3                                   Louisa May Alcott  4.19\n",
      "4                                        Rick Riordan  4.08\n",
      "5                                     William Golding  3.90\n",
      "6                                       J.D. Salinger  3.83\n",
      "7   William Shakespeare/Paul Werstine/Barbara A. M...  3.79\n",
      "8            Paulo Coelho/Alan R. Clarke/Özdemir İnce  3.79\n",
      "9                                          Lois Lowry  3.75\n",
      "10                                          Dan Brown  3.75\n",
      "11            George Orwell/Boris Grabnar/Peter Škerl  3.73\n",
      "12                                    Stephenie Meyer  3.66\n",
      "13                                     John Steinbeck  3.62\n"
     ]
    }
   ],
   "source": [
    "query = '''\n",
    "           WITH\n",
    "           r AS (\n",
    "           SELECT book_id,\n",
    "                  COUNT(rating_id) AS rat_cnt,\n",
    "                  AVG(rating) AS rat_avg\n",
    "           FROM ratings\n",
    "           GROUP BY book_id),\n",
    "           \n",
    "           b AS (\n",
    "           SELECT book_id,\n",
    "                  author_id\n",
    "           FROM books),\n",
    "           \n",
    "           a AS (\n",
    "           SELECT *\n",
    "           FROM authors)\n",
    "           \n",
    "           SELECT a.author,\n",
    "                  ROUND((AVG(r.rat_avg)),2) AS avg\n",
    "           FROM b JOIN r ON b.book_id=r.book_id \n",
    "           JOIN a ON b.author_id=a.author_id\n",
    "           WHERE r.rat_cnt >= 50\n",
    "           GROUP BY a.author\n",
    "           ORDER BY avg DESC\n",
    "           --LIMIT 1\n",
    "        '''\n",
    "books = pd.io.sql.read_sql(query, con = engine) \n",
    "print(books)"
   ]
  },
  {
   "cell_type": "markdown",
   "id": "8ddcccdb",
   "metadata": {},
   "source": [
    "- Автор с самой высокой средней оценкой книг(Среди книги с 50 и более оценками) - Rowling/Mary GrandPré\n",
    "- Средняя оценка этого автора - 4.28\n"
   ]
  },
  {
   "cell_type": "markdown",
   "id": "7db6173a",
   "metadata": {},
   "source": [
    "### Посчитайте среднее количество обзоров от пользователей, которые поставили больше 50 оценок"
   ]
  },
  {
   "cell_type": "code",
   "execution_count": 12,
   "id": "5f497882",
   "metadata": {},
   "outputs": [
    {
     "name": "stdout",
     "output_type": "stream",
     "text": [
      "   round\n",
      "0  24.33\n"
     ]
    }
   ],
   "source": [
    "query = '''\n",
    "           WITH\n",
    "           r AS (\n",
    "           SELECT DISTINCT(username),\n",
    "                  COUNT(ratings) OVER (PARTITION BY username) AS rat_cnt\n",
    "           FROM ratings),\n",
    "           \n",
    "           i AS (\n",
    "           SELECT DISTINCT(username),\n",
    "                  COUNT(review_id) OVER (PARTITION BY username) AS rev_cnt\n",
    "           FROM reviews)\n",
    "           \n",
    "           SELECT ROUND(AVG(i.rev_cnt),2)\n",
    "           FROM r JOIN i ON r.username=i.username\n",
    "           WHERE r.rat_cnt > 50\n",
    "        '''\n",
    "books = pd.io.sql.read_sql(query, con = engine) \n",
    "print(books)"
   ]
  },
  {
   "cell_type": "markdown",
   "id": "279887d7",
   "metadata": {},
   "source": [
    "- Среднее кол-во обзоров от пользователей, которые поставили больше 50 оценок - 24,33\n",
    "- Оценки люди ставят более охотно, чем пишут обзоры."
   ]
  },
  {
   "cell_type": "markdown",
   "id": "b22ec74c",
   "metadata": {},
   "source": [
    "## Вывод"
   ]
  },
  {
   "cell_type": "markdown",
   "id": "8bb666e7",
   "metadata": {},
   "source": [
    "- После **1 января 2000 года** вышло **819** книг.\n",
    "- Чаще всего книгам ставят оценку - 4\n",
    "- Зачастую книги получают 2-3 обзора\n",
    "- Издательство выпустившее наибольшее кол-во книг толще 50 страниц (так мы исключаем из анализа брошюры) - Penguin Books\n",
    "- Автор с самой высокой средней оценкой книг(Среди книги с 50 и более оценками) - Rowling/Mary GrandPré\n",
    "- Средняя оценка этого автора - 4.28\n",
    "- Среднее кол-во обзоров от пользователей, которые поставили больше 50 оценок - 24,33\n",
    "- Оценки люди ставят более охотно, чем пишут обзоры."
   ]
  },
  {
   "cell_type": "code",
   "execution_count": null,
   "id": "76d7d095",
   "metadata": {},
   "outputs": [],
   "source": []
  }
 ],
 "metadata": {
  "ExecuteTimeLog": [
   {
    "duration": 24960,
    "start_time": "2023-03-16T10:10:17.283Z"
   },
   {
    "duration": 8945,
    "start_time": "2023-03-16T10:10:42.245Z"
   },
   {
    "duration": 3,
    "start_time": "2023-03-16T10:10:51.192Z"
   },
   {
    "duration": 290,
    "start_time": "2023-03-16T10:10:51.196Z"
   },
   {
    "duration": 70,
    "start_time": "2023-03-16T10:10:51.488Z"
   },
   {
    "duration": 79,
    "start_time": "2023-03-16T10:10:51.560Z"
   },
   {
    "duration": 651,
    "start_time": "2023-03-16T10:10:51.641Z"
   },
   {
    "duration": 115,
    "start_time": "2023-03-16T10:10:52.294Z"
   },
   {
    "duration": 144,
    "start_time": "2023-03-16T10:10:52.411Z"
   },
   {
    "duration": 80,
    "start_time": "2023-03-16T10:10:52.558Z"
   },
   {
    "duration": 85,
    "start_time": "2023-03-16T10:10:52.641Z"
   },
   {
    "duration": 15,
    "start_time": "2023-03-16T10:11:50.045Z"
   },
   {
    "duration": 158,
    "start_time": "2023-03-16T10:11:53.492Z"
   },
   {
    "duration": 12,
    "start_time": "2023-03-16T10:11:54.556Z"
   },
   {
    "duration": 74,
    "start_time": "2023-03-16T10:12:58.140Z"
   },
   {
    "duration": 46,
    "start_time": "2023-03-16T10:20:18.237Z"
   },
   {
    "duration": 24058,
    "start_time": "2023-03-16T10:20:25.448Z"
   },
   {
    "duration": 21626,
    "start_time": "2023-03-16T10:20:53.485Z"
   },
   {
    "duration": 10143,
    "start_time": "2023-03-16T10:21:15.114Z"
   },
   {
    "duration": 3,
    "start_time": "2023-03-16T10:21:25.259Z"
   },
   {
    "duration": 291,
    "start_time": "2023-03-16T10:21:25.263Z"
   },
   {
    "duration": 69,
    "start_time": "2023-03-16T10:21:25.557Z"
   },
   {
    "duration": 77,
    "start_time": "2023-03-16T10:21:25.628Z"
   },
   {
    "duration": 404,
    "start_time": "2023-03-16T10:21:25.707Z"
   },
   {
    "duration": 83,
    "start_time": "2023-03-16T10:21:26.113Z"
   },
   {
    "duration": 70,
    "start_time": "2023-03-16T10:21:26.197Z"
   },
   {
    "duration": 74,
    "start_time": "2023-03-16T10:21:26.269Z"
   },
   {
    "duration": 79,
    "start_time": "2023-03-16T10:21:26.345Z"
   },
   {
    "duration": 4,
    "start_time": "2023-03-16T10:21:40.775Z"
   },
   {
    "duration": 693,
    "start_time": "2023-03-16T10:21:45.861Z"
   },
   {
    "duration": 8263,
    "start_time": "2023-03-16T10:21:46.557Z"
   },
   {
    "duration": 3,
    "start_time": "2023-03-16T10:21:54.822Z"
   },
   {
    "duration": 298,
    "start_time": "2023-03-16T10:21:54.827Z"
   },
   {
    "duration": 74,
    "start_time": "2023-03-16T10:21:55.128Z"
   },
   {
    "duration": 84,
    "start_time": "2023-03-16T10:21:55.204Z"
   },
   {
    "duration": 429,
    "start_time": "2023-03-16T10:21:55.289Z"
   },
   {
    "duration": 87,
    "start_time": "2023-03-16T10:21:55.720Z"
   },
   {
    "duration": 74,
    "start_time": "2023-03-16T10:21:55.809Z"
   },
   {
    "duration": 75,
    "start_time": "2023-03-16T10:21:55.885Z"
   },
   {
    "duration": 83,
    "start_time": "2023-03-16T10:21:55.962Z"
   },
   {
    "duration": 161,
    "start_time": "2023-03-16T10:24:01.954Z"
   },
   {
    "duration": 91,
    "start_time": "2023-03-16T10:24:24.247Z"
   },
   {
    "duration": 97,
    "start_time": "2023-03-16T10:26:27.608Z"
   },
   {
    "duration": 92,
    "start_time": "2023-03-16T10:30:43.596Z"
   },
   {
    "duration": 92,
    "start_time": "2023-03-16T10:30:54.632Z"
   },
   {
    "duration": 99,
    "start_time": "2023-03-16T10:31:04.277Z"
   },
   {
    "duration": 303,
    "start_time": "2023-03-16T10:37:49.440Z"
   },
   {
    "duration": 166,
    "start_time": "2023-03-16T10:38:21.845Z"
   },
   {
    "duration": 183,
    "start_time": "2023-03-16T10:38:37.128Z"
   },
   {
    "duration": 225,
    "start_time": "2023-03-16T10:38:46.011Z"
   },
   {
    "duration": 78,
    "start_time": "2023-03-16T10:39:01.684Z"
   },
   {
    "duration": 179,
    "start_time": "2023-03-16T10:45:44.749Z"
   },
   {
    "duration": 78,
    "start_time": "2023-03-16T10:45:54.078Z"
   },
   {
    "duration": 84,
    "start_time": "2023-03-16T10:46:20.715Z"
   },
   {
    "duration": 79,
    "start_time": "2023-03-16T10:46:38.660Z"
   },
   {
    "duration": 689,
    "start_time": "2023-03-16T10:51:29.521Z"
   },
   {
    "duration": 10949,
    "start_time": "2023-03-16T10:51:30.213Z"
   },
   {
    "duration": 3,
    "start_time": "2023-03-16T10:51:41.164Z"
   },
   {
    "duration": 274,
    "start_time": "2023-03-16T10:51:41.169Z"
   },
   {
    "duration": 70,
    "start_time": "2023-03-16T10:51:41.445Z"
   },
   {
    "duration": 78,
    "start_time": "2023-03-16T10:51:41.517Z"
   },
   {
    "duration": 468,
    "start_time": "2023-03-16T10:51:41.597Z"
   },
   {
    "duration": 742,
    "start_time": "2023-03-16T10:51:42.068Z"
   },
   {
    "duration": 84,
    "start_time": "2023-03-16T10:51:42.812Z"
   },
   {
    "duration": 76,
    "start_time": "2023-03-16T10:51:42.899Z"
   },
   {
    "duration": 74,
    "start_time": "2023-03-16T10:51:42.976Z"
   },
   {
    "duration": 81,
    "start_time": "2023-03-16T10:51:43.052Z"
   },
   {
    "duration": 1356,
    "start_time": "2023-03-16T10:52:52.016Z"
   },
   {
    "duration": 622,
    "start_time": "2023-03-16T10:53:01.134Z"
   },
   {
    "duration": 8677,
    "start_time": "2023-03-16T10:53:01.758Z"
   },
   {
    "duration": 3,
    "start_time": "2023-03-16T10:53:10.437Z"
   },
   {
    "duration": 292,
    "start_time": "2023-03-16T10:53:10.442Z"
   },
   {
    "duration": 73,
    "start_time": "2023-03-16T10:53:10.736Z"
   },
   {
    "duration": 85,
    "start_time": "2023-03-16T10:53:10.811Z"
   },
   {
    "duration": 425,
    "start_time": "2023-03-16T10:53:10.899Z"
   },
   {
    "duration": 523,
    "start_time": "2023-03-16T10:53:11.326Z"
   },
   {
    "duration": 74,
    "start_time": "2023-03-16T10:53:11.851Z"
   },
   {
    "duration": 73,
    "start_time": "2023-03-16T10:53:11.927Z"
   },
   {
    "duration": 77,
    "start_time": "2023-03-16T10:53:12.002Z"
   },
   {
    "duration": 83,
    "start_time": "2023-03-16T10:53:12.080Z"
   },
   {
    "duration": 699,
    "start_time": "2023-03-16T10:54:14.450Z"
   },
   {
    "duration": 8460,
    "start_time": "2023-03-16T10:54:15.151Z"
   },
   {
    "duration": 3,
    "start_time": "2023-03-16T10:54:23.614Z"
   },
   {
    "duration": 276,
    "start_time": "2023-03-16T10:54:23.620Z"
   },
   {
    "duration": 71,
    "start_time": "2023-03-16T10:54:23.900Z"
   },
   {
    "duration": 82,
    "start_time": "2023-03-16T10:54:23.974Z"
   },
   {
    "duration": 481,
    "start_time": "2023-03-16T10:54:24.058Z"
   },
   {
    "duration": 481,
    "start_time": "2023-03-16T10:54:24.541Z"
   },
   {
    "duration": 73,
    "start_time": "2023-03-16T10:54:25.023Z"
   },
   {
    "duration": 75,
    "start_time": "2023-03-16T10:54:25.099Z"
   },
   {
    "duration": 79,
    "start_time": "2023-03-16T10:54:25.175Z"
   },
   {
    "duration": 681,
    "start_time": "2023-03-16T10:54:46.014Z"
   },
   {
    "duration": 8546,
    "start_time": "2023-03-16T10:54:46.697Z"
   },
   {
    "duration": 3,
    "start_time": "2023-03-16T10:54:55.246Z"
   },
   {
    "duration": 345,
    "start_time": "2023-03-16T10:54:55.251Z"
   },
   {
    "duration": 73,
    "start_time": "2023-03-16T10:54:55.598Z"
   },
   {
    "duration": 82,
    "start_time": "2023-03-16T10:54:55.673Z"
   },
   {
    "duration": 426,
    "start_time": "2023-03-16T10:54:55.757Z"
   },
   {
    "duration": 415,
    "start_time": "2023-03-16T10:54:56.185Z"
   },
   {
    "duration": 78,
    "start_time": "2023-03-16T10:54:56.603Z"
   },
   {
    "duration": 78,
    "start_time": "2023-03-16T10:54:56.683Z"
   },
   {
    "duration": 82,
    "start_time": "2023-03-16T10:54:56.763Z"
   },
   {
    "duration": 1575,
    "start_time": "2023-03-16T10:57:21.558Z"
   },
   {
    "duration": 9006,
    "start_time": "2023-03-16T10:57:23.137Z"
   },
   {
    "duration": 3,
    "start_time": "2023-03-16T10:57:32.145Z"
   },
   {
    "duration": 307,
    "start_time": "2023-03-16T10:57:32.149Z"
   },
   {
    "duration": 76,
    "start_time": "2023-03-16T10:57:32.460Z"
   },
   {
    "duration": 86,
    "start_time": "2023-03-16T10:57:32.539Z"
   },
   {
    "duration": 199,
    "start_time": "2023-03-16T10:57:32.627Z"
   },
   {
    "duration": 14681,
    "start_time": "2023-03-16T10:57:32.828Z"
   },
   {
    "duration": 437,
    "start_time": "2023-03-16T10:57:47.511Z"
   },
   {
    "duration": 71,
    "start_time": "2023-03-16T10:57:47.950Z"
   },
   {
    "duration": 73,
    "start_time": "2023-03-16T10:57:48.023Z"
   },
   {
    "duration": 78,
    "start_time": "2023-03-16T10:57:48.098Z"
   },
   {
    "duration": 1477,
    "start_time": "2023-03-16T11:02:11.334Z"
   },
   {
    "duration": 8488,
    "start_time": "2023-03-16T11:02:12.813Z"
   },
   {
    "duration": 3,
    "start_time": "2023-03-16T11:02:21.303Z"
   },
   {
    "duration": 671,
    "start_time": "2023-03-16T11:02:21.309Z"
   },
   {
    "duration": 70,
    "start_time": "2023-03-16T11:02:21.984Z"
   },
   {
    "duration": 80,
    "start_time": "2023-03-16T11:02:22.056Z"
   },
   {
    "duration": 178,
    "start_time": "2023-03-16T11:02:22.138Z"
   },
   {
    "duration": 14882,
    "start_time": "2023-03-16T11:02:22.319Z"
   },
   {
    "duration": 419,
    "start_time": "2023-03-16T11:02:37.204Z"
   },
   {
    "duration": 73,
    "start_time": "2023-03-16T11:02:37.625Z"
   },
   {
    "duration": 75,
    "start_time": "2023-03-16T11:02:37.700Z"
   },
   {
    "duration": 79,
    "start_time": "2023-03-16T11:02:37.777Z"
   },
   {
    "duration": 1418,
    "start_time": "2023-03-16T21:32:21.210Z"
   },
   {
    "duration": 8877,
    "start_time": "2023-03-16T21:32:22.630Z"
   },
   {
    "duration": 3,
    "start_time": "2023-03-16T21:32:31.509Z"
   },
   {
    "duration": 326,
    "start_time": "2023-03-16T21:32:31.514Z"
   },
   {
    "duration": 80,
    "start_time": "2023-03-16T21:32:31.842Z"
   },
   {
    "duration": 100,
    "start_time": "2023-03-16T21:32:31.924Z"
   },
   {
    "duration": 184,
    "start_time": "2023-03-16T21:32:32.026Z"
   },
   {
    "duration": 15189,
    "start_time": "2023-03-16T21:32:32.212Z"
   },
   {
    "duration": 632,
    "start_time": "2023-03-16T21:32:47.403Z"
   },
   {
    "duration": 91,
    "start_time": "2023-03-16T21:32:48.037Z"
   },
   {
    "duration": 87,
    "start_time": "2023-03-16T21:32:48.130Z"
   },
   {
    "duration": 86,
    "start_time": "2023-03-16T21:32:48.218Z"
   },
   {
    "duration": 8,
    "start_time": "2023-03-16T21:34:04.990Z"
   },
   {
    "duration": 276,
    "start_time": "2023-03-16T21:34:09.360Z"
   },
   {
    "duration": 12,
    "start_time": "2023-03-16T21:34:14.114Z"
   },
   {
    "duration": 10,
    "start_time": "2023-03-16T21:34:44.385Z"
   },
   {
    "duration": 10,
    "start_time": "2023-03-16T21:35:04.950Z"
   },
   {
    "duration": 156,
    "start_time": "2023-03-16T21:35:17.870Z"
   },
   {
    "duration": 150,
    "start_time": "2023-03-16T21:36:08.111Z"
   },
   {
    "duration": 175,
    "start_time": "2023-03-16T21:36:12.320Z"
   },
   {
    "duration": 163,
    "start_time": "2023-03-16T21:36:57.950Z"
   },
   {
    "duration": 1511,
    "start_time": "2023-04-05T20:03:36.373Z"
   },
   {
    "duration": 5641,
    "start_time": "2023-04-05T20:03:37.886Z"
   },
   {
    "duration": 3,
    "start_time": "2023-04-05T20:03:43.529Z"
   },
   {
    "duration": 64,
    "start_time": "2023-04-05T20:03:43.533Z"
   },
   {
    "duration": 22,
    "start_time": "2023-04-05T20:03:43.600Z"
   },
   {
    "duration": 20,
    "start_time": "2023-04-05T20:03:43.624Z"
   },
   {
    "duration": 172,
    "start_time": "2023-04-05T20:03:43.645Z"
   },
   {
    "duration": 457,
    "start_time": "2023-04-05T20:03:43.819Z"
   },
   {
    "duration": 217,
    "start_time": "2023-04-05T20:03:44.278Z"
   },
   {
    "duration": 14,
    "start_time": "2023-04-05T20:03:44.510Z"
   },
   {
    "duration": 19,
    "start_time": "2023-04-05T20:03:44.525Z"
   },
   {
    "duration": 18,
    "start_time": "2023-04-05T20:03:44.545Z"
   }
  ],
  "kernelspec": {
   "display_name": "Python 3 (ipykernel)",
   "language": "python",
   "name": "python3"
  },
  "language_info": {
   "codemirror_mode": {
    "name": "ipython",
    "version": 3
   },
   "file_extension": ".py",
   "mimetype": "text/x-python",
   "name": "python",
   "nbconvert_exporter": "python",
   "pygments_lexer": "ipython3",
   "version": "3.9.5"
  },
  "toc": {
   "base_numbering": 1,
   "nav_menu": {},
   "number_sections": false,
   "sideBar": true,
   "skip_h1_title": false,
   "title_cell": "Table of Contents",
   "title_sidebar": "Contents",
   "toc_cell": false,
   "toc_position": {
    "height": "calc(100% - 180px)",
    "left": "10px",
    "top": "150px",
    "width": "242.415px"
   },
   "toc_section_display": true,
   "toc_window_display": true
  }
 },
 "nbformat": 4,
 "nbformat_minor": 5
}
